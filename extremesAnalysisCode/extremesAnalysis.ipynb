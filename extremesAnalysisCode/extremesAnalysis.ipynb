{
 "cells": [
  {
   "cell_type": "code",
   "execution_count": null,
   "metadata": {},
   "outputs": [],
   "source": [
    "import pickle\n",
    "import pandas as pd\n",
    "import matplotlib\n",
    "import os\n",
    "import re\n",
    "\n",
    "import scipy\n",
    "\n",
    "import collections\n",
    "import datetime\n",
    "import time\n",
    "\n",
    "import geopandas as gpd\n",
    "\n",
    "import numpy as np\n",
    "\n",
    "from difflib import get_close_matches\n",
    "\n",
    "from fuzzywuzzy import process\n",
    "from fuzzywuzzy import fuzz\n",
    "from sklearn import linear_model\n",
    "import statsmodels.api as sm\n",
    "\n",
    "from linearmodels import PanelOLS, FamaMacBeth\n",
    "from scipy import stats\n",
    "\n",
    "import itertools\n"
   ]
  },
  {
   "cell_type": "markdown",
   "metadata": {},
   "source": [
    "# Grab the Company Weather-Location Data"
   ]
  },
  {
   "cell_type": "code",
   "execution_count": null,
   "metadata": {},
   "outputs": [],
   "source": [
    "goodsData = pd.read_csv(\"../goodsData_igData.csv\").drop(columns = {'Unnamed: 0'})\n",
    "\n",
    "goodsData = goodsData[~goodsData.revenueChange.isna() & \n",
    "                     # ~goodsData.incomeChange.isna() & \n",
    "                     ~goodsData.costChange.isna()]"
   ]
  },
  {
   "cell_type": "code",
   "execution_count": null,
   "metadata": {},
   "outputs": [],
   "source": [
    "relevantVars = [x for x in goodsData.columns if ('5Days_' in x)]\n",
    "for var in relevantVars:\n",
    "    goodsData[var] = 1*(goodsData[var]>0)"
   ]
  },
  {
   "cell_type": "code",
   "execution_count": null,
   "metadata": {},
   "outputs": [],
   "source": [
    "famafrench = pd.read_csv(\"../../data/famafrench.csv\",header=None).iloc[:,0]\n",
    "famafrench = pd.DataFrame(famafrench[famafrench.str.contains(\"-\")==False]).reset_index(drop = True)\n",
    "famafrench = famafrench[0].str.split(' ', expand=True).loc[:,0:1]\n",
    "\n",
    "famafrench.columns = ['famafrench','industryName']\n",
    "famafrench['famafrench'] = famafrench['famafrench'].astype('int64')\n",
    "\n",
    "famafrench.head()"
   ]
  },
  {
   "cell_type": "markdown",
   "metadata": {},
   "source": [
    "Figure out how many companies there are in the database, in different industries."
   ]
  },
  {
   "cell_type": "code",
   "execution_count": null,
   "metadata": {},
   "outputs": [],
   "source": [
    "counts = pd.DataFrame(goodsData[['famafrench']].value_counts()).reset_index()\n",
    "counts.columns = ['famafrench', 'indCounts']\n",
    "counts = counts.merge(famafrench)\n",
    "counts[0:10]"
   ]
  },
  {
   "cell_type": "markdown",
   "metadata": {},
   "source": [
    "The absolute number of companies experiencing the extreme is important, because these are the number of observations we'll have for each. So let's do it by total companies first."
   ]
  },
  {
   "cell_type": "code",
   "execution_count": null,
   "metadata": {},
   "outputs": [],
   "source": [
    "var = 'temp_annualquant_0.95'\n",
    "\n",
    "extremes = goodsData[['famafrench',var,'temp_annualquant_1xYr',\n",
    "                      'temp_annualquant_1x5Yrs',\n",
    "                      'temp_annualquant_1x10Yrs']].\\\n",
    "    groupby('famafrench').sum().reset_index().merge(counts).reset_index(drop = True).merge(famafrench)\n",
    "\n",
    "# extremes.sort_values(by = ['temp_annualquant_1x10Yrs'],ascending = False).head(),\n",
    "extremes.sort_values(by = ['temp_annualquant_1x10Yrs'],ascending = False)[0:10]"
   ]
  },
  {
   "cell_type": "code",
   "execution_count": null,
   "metadata": {},
   "outputs": [],
   "source": [
    "var = 'precip_annualquant_0.95'\n",
    "\n",
    "extremes = goodsData[['famafrench',var,'precip_annualquant_1xYr',\n",
    "                      'precip_annualquant_1x5Yrs',\n",
    "                      'precip_annualquant_1x10Yrs']].\\\n",
    "    groupby('famafrench').sum().reset_index().merge(counts).reset_index(drop = True).merge(famafrench)\n",
    "\n",
    "# extremes.sort_values(by = ['temp_annualquant_1x10Yrs'],ascending = False).head(),\n",
    "extremes.sort_values(by = ['precip_annualquant_0.95'],ascending = False)[0:10]"
   ]
  },
  {
   "cell_type": "markdown",
   "metadata": {},
   "source": [
    "We can also imagine normalizing by number of companies, as below."
   ]
  },
  {
   "cell_type": "code",
   "execution_count": null,
   "metadata": {
    "scrolled": true
   },
   "outputs": [],
   "source": [
    "var = 'temp_annualquant_1x10Yrs'\n",
    "\n",
    "extremes = goodsData[['famafrench',var]].\\\n",
    "    groupby('famafrench').sum().reset_index().merge(counts).reset_index(drop = True).merge(famafrench)\n",
    "\n",
    "extremes['perCompany'] = extremes[var]/extremes.indCounts\n",
    "\n",
    "extremes.sort_values(by = ['perCompany'],ascending = False)\n"
   ]
  },
  {
   "cell_type": "markdown",
   "metadata": {},
   "source": [
    "# Extreme Extremes\n",
    "By the time we get up to looking at 1/365 or 1/(365x) events, we're effectively filtering on the couple of states that actually see extremes this high. It's slightly less the case for precipitation than temperature."
   ]
  },
  {
   "cell_type": "code",
   "execution_count": null,
   "metadata": {},
   "outputs": [],
   "source": [
    "var = 'precip_annualquant_0.95'# 'temp_annualquant_0.95'\n",
    "\n",
    "extremesByState = goodsData[['state',var,'precip_annualquant_1xYr',\n",
    "                              'precip_annualquant_1x5Yrs','precip_annualquant_1x10Yrs']].\\\n",
    "    groupby('state').sum().reset_index().reset_index(drop = True)\n",
    "\n",
    "extremesByState.sort_values(by = ['precip_annualquant_1x10Yrs'],ascending = False)[0:10]"
   ]
  },
  {
   "cell_type": "code",
   "execution_count": null,
   "metadata": {},
   "outputs": [],
   "source": [
    "var = 'temp_annualquant_0.95'\n",
    "\n",
    "extremesByState = goodsData[['state',var,'temp_annualquant_1xYr',\n",
    "                              'temp_annualquant_1x5Yrs','temp_annualquant_1x10Yrs']].\\\n",
    "    groupby('state').sum().reset_index().reset_index(drop = True)\n",
    "\n",
    "extremesByState.sort_values(by = ['temp_annualquant_1x10Yrs'],ascending = False)[0:10]"
   ]
  },
  {
   "cell_type": "markdown",
   "metadata": {},
   "source": [
    "# Seasonality?\n",
    "Guessing most of the hottest temperatures occur during the summer, maybe with some in the spring and whatnot."
   ]
  },
  {
   "cell_type": "code",
   "execution_count": null,
   "metadata": {},
   "outputs": [],
   "source": [
    "var = 'temp_annualquant_0.95' # 'temp_annualquant_0.95'\n",
    "\n",
    "extremesBySeason = goodsData[['qtr',var,'temp_annualquant_1xYr','temp_annualquant_1x5Yrs','temp_annualquant_1x10Yrs']].\\\n",
    "    groupby(['qtr']).sum().reset_index().reset_index(drop = True)\n",
    "\n",
    "extremesBySeason.sort_values(by = [var],ascending = False)[0:20]"
   ]
  },
  {
   "cell_type": "code",
   "execution_count": null,
   "metadata": {},
   "outputs": [],
   "source": [
    "var = 'precip_annualquant_0.95'# 'temp_annualquant_0.95'\n",
    "\n",
    "extremesBySeason = goodsData[['qtr',var,'precip_annualquant_1xYr',\n",
    "                              'precip_annualquant_1x5Yrs','precip_annualquant_1x10Yrs']].\\\n",
    "    groupby(['qtr']).sum().reset_index().reset_index(drop = True)\n",
    "\n",
    "extremesBySeason.sort_values(by = [var],ascending = False)[0:20]"
   ]
  },
  {
   "cell_type": "markdown",
   "metadata": {},
   "source": [
    "Can also imagine that we might be interested in extremes by year as well, to see if we have trends in counts of extremes and whatnot."
   ]
  },
  {
   "cell_type": "markdown",
   "metadata": {},
   "source": [
    "# Correlations"
   ]
  },
  {
   "cell_type": "code",
   "execution_count": null,
   "metadata": {},
   "outputs": [],
   "source": [
    "famafrench.head()"
   ]
  },
  {
   "cell_type": "code",
   "execution_count": null,
   "metadata": {},
   "outputs": [],
   "source": [
    "goodsWithIndName = goodsData.merge(famafrench)\n",
    "print(goodsData.shape,goodsWithIndName.shape)"
   ]
  },
  {
   "cell_type": "code",
   "execution_count": null,
   "metadata": {},
   "outputs": [],
   "source": [
    "corrByIndustry = goodsWithIndName.merge(famafrench).groupby('industryName')[['precip_annualquant_0.95','precip_annualquant_1xYr']].corr().iloc[0::2,-1].reset_index()\n",
    "\n",
    "corrByIndustry.columns = ['famafrench','varName','corr']\n",
    "\n",
    "corrByIndustry.sort_values(by = 'corr',ascending = False)[0:20]"
   ]
  },
  {
   "cell_type": "code",
   "execution_count": null,
   "metadata": {},
   "outputs": [],
   "source": [
    "corrByIndustry = goodsWithIndName.merge(famafrench).groupby('industryName')[['temp_annualquant_0.95','temp_annualquant_1xYr']].corr().iloc[0::2,-1].reset_index()\n",
    "\n",
    "corrByIndustry.columns = ['famafrench','varName','corr']\n",
    "\n",
    "corrByIndustry.sort_values(by = 'corr',ascending = False)[0:20]"
   ]
  },
  {
   "cell_type": "code",
   "execution_count": null,
   "metadata": {},
   "outputs": [],
   "source": []
  }
 ],
 "metadata": {
  "kernelspec": {
   "display_name": "Python 3",
   "language": "python",
   "name": "python3"
  },
  "language_info": {
   "codemirror_mode": {
    "name": "ipython",
    "version": 3
   },
   "file_extension": ".py",
   "mimetype": "text/x-python",
   "name": "python",
   "nbconvert_exporter": "python",
   "pygments_lexer": "ipython3",
   "version": "3.7.4"
  }
 },
 "nbformat": 4,
 "nbformat_minor": 2
}
