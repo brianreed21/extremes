{
 "cells": [
  {
   "cell_type": "code",
   "execution_count": null,
   "metadata": {},
   "outputs": [],
   "source": [
    "import pickle\n",
    "import pandas as pd\n",
    "import matplotlib\n",
    "import os\n",
    "import re\n",
    "\n",
    "import scipy\n",
    "\n",
    "import collections\n",
    "import datetime\n",
    "import time\n",
    "\n",
    "import geopandas as gpd\n",
    "\n",
    "import numpy as np\n",
    " \n",
    "from difflib import get_close_matches\n",
    "\n",
    "from fuzzywuzzy import process\n",
    "from fuzzywuzzy import fuzz\n",
    "from sklearn import linear_model\n",
    "import statsmodels.api as sm\n",
    "\n",
    "from linearmodels import PanelOLS, FamaMacBeth\n",
    "from scipy import stats\n",
    "\n",
    "import itertools\n"
   ]
  },
  {
   "cell_type": "markdown",
   "metadata": {},
   "source": [
    "## Grab Data"
   ]
  },
  {
   "cell_type": "code",
   "execution_count": null,
   "metadata": {},
   "outputs": [],
   "source": [
    "stockData = pd.read_csv(\"../../data/companyData/stocksWithControlsWeather.csv\").\\\n",
    "    drop(columns = {'Unnamed: 0'})\n",
    "\n",
    "stockData.head()"
   ]
  },
  {
   "cell_type": "code",
   "execution_count": null,
   "metadata": {},
   "outputs": [],
   "source": [
    "stockData['indQtr']  = stockData.famafrench.astype('str') + stockData.qtr.astype('str')\n",
    "stockData['yearQtr'] = stockData.year.astype('str')       + stockData.qtr.astype('str')"
   ]
  },
  {
   "cell_type": "code",
   "execution_count": null,
   "metadata": {},
   "outputs": [],
   "source": [
    "firms = stockData['gvkey']\n",
    "\n",
    "stockData = pd.get_dummies(stockData, columns = ['year', 'yearQtr', 'indQtr', 'famafrench']) # , 'gvkey'"
   ]
  },
  {
   "cell_type": "code",
   "execution_count": null,
   "metadata": {},
   "outputs": [],
   "source": [
    "stockData.head()"
   ]
  },
  {
   "cell_type": "code",
   "execution_count": null,
   "metadata": {},
   "outputs": [],
   "source": [
    "stockData.columns[0:50]"
   ]
  },
  {
   "cell_type": "code",
   "execution_count": null,
   "metadata": {},
   "outputs": [],
   "source": [
    "stockData['heatwave_annual']          = (stockData.temp_annualLast5 == 5) * 1\n",
    "stockData['extremePrecip_annual']     = (stockData.precip_annualLast5 > 0) * 1\n",
    "\n",
    "stockData['heatwave_zipQuarter']      = (stockData.temp_zipQuarterLast5 == 5) * 1\n",
    "stockData['extremePrecip_zipQuarter'] = (stockData.precip_zipQuarterLast5 > 0) * 1\n",
    "\n",
    "indVars     = ['heatwave_annual', 'extremePrecip_annual', 'heatwave_zipQuarter', 'extremePrecip_zipQuarter'] \n",
    "outcomeVar = 'RET'\n",
    "\n",
    "\n",
    "#############################\n",
    "for indVar in indVars:\n",
    "    print(outcomeVar, \"~\", indVar)\n",
    "    \n",
    "    col = stockData.pop(indVar)\n",
    "    stockData.insert(0, col.name, col)\n",
    "\n",
    "    # find: concurrent ; or lagged supplier data\n",
    "    X = stockData.loc[:,((stockData.columns.str.contains(indVar)) | \\\n",
    "                        (stockData.columns.str.contains('yearQtr_')))] # | \n",
    "                        # (stockData.columns.str.contains('famafrench_')))] # | \n",
    "                        # (stockData.columns.str.contains('famafrench_'))] #  | \\\n",
    "    \n",
    "    print(X.columns)\n",
    "\n",
    "    y = stockData[outcomeVar]\n",
    "\n",
    "    ######################################\n",
    "    # fit the model on this subset\n",
    "    '''reg = linear_model.LinearRegression()\n",
    "    reg.fit(X,y)\n",
    "\n",
    "    reg.coef_[-1]'''\n",
    "\n",
    "\n",
    "    #######################################\n",
    "    # try the more descriptive one\n",
    "    start = time.time()\n",
    "\n",
    "    model = sm.OLS(y, X).fit(cov_type='cluster',cov_kwds={'groups': firms},use_t=True)\n",
    "    print(model.summary())\n",
    "\n",
    "    print(time.time() - start)"
   ]
  },
  {
   "cell_type": "code",
   "execution_count": null,
   "metadata": {},
   "outputs": [],
   "source": [
    "X.columns"
   ]
  },
  {
   "cell_type": "markdown",
   "metadata": {},
   "source": [
    "------------------------------------------------------"
   ]
  },
  {
   "cell_type": "markdown",
   "metadata": {},
   "source": [
    "# Direct Effects\n",
    "Look at the effects on the suppliers when they're affected directly.\n",
    "\n",
    "The below gives us the full, clustered standard errors.\n",
    "\n",
    "Get the weather data to start."
   ]
  },
  {
   "cell_type": "code",
   "execution_count": null,
   "metadata": {},
   "outputs": [],
   "source": [
    "stockData.columns[0:15]"
   ]
  },
  {
   "cell_type": "code",
   "execution_count": null,
   "metadata": {},
   "outputs": [],
   "source": [
    "sum(stockData.RET.isna())"
   ]
  },
  {
   "cell_type": "code",
   "execution_count": null,
   "metadata": {},
   "outputs": [],
   "source": [
    "stockData.RET.describe()"
   ]
  },
  {
   "cell_type": "code",
   "execution_count": null,
   "metadata": {},
   "outputs": [],
   "source": [
    "weatherVars  = ['precip_', 'temp_'] \n",
    "statVarsYr   = ['zipQuarterLast5', 'annualLast5'] \n",
    "outcomeVars  = ['RET']\n",
    "\n",
    "start = time.time()\n",
    "\n",
    "results = pd.DataFrame()\n",
    "\n",
    "i = 0\n",
    "\n",
    "for outcomeVar in outcomeVars:\n",
    "    for weatherVar in weatherVars:\n",
    "        for statVar in statVarsYr:  \n",
    "            \n",
    "            i = i + 1\n",
    "            \n",
    "            indVar = weatherVar + statVar\n",
    "\n",
    "            print(outcomeVar, \"~\", indVar)\n",
    "\n",
    "            # find: concurrent ; or lagged supplier data\n",
    "            X = stockData.loc[:,((stockData.columns.str.contains(indVar)) | \n",
    "                                            (stockData.columns.str.contains('indQtr_')))] # |\n",
    "                                            # (stockData.columns.str.contains('gvkey_')))]#  | \n",
    "                                            # (goodsData.columns.str.contains('firmQtr_')) |\n",
    "                                            #(goodsData.columns.str.contains('ageQtr_')) |\n",
    "                                            #(goodsData.columns.str.contains('sizeQtr_')) |\n",
    "                                            #(goodsData.columns.str.contains('profitQtr_')))]\n",
    "\n",
    "\n",
    "            # firms = stockData['gvkey']\n",
    "\n",
    "\n",
    "            y = stockData[outcomeVar]\n",
    "\n",
    "\n",
    "            model = sm.OLS(y, X).fit() # fit(cov_type='cluster',cov_kwds={'groups': firms},use_t=True)\n",
    "            pvals = model.pvalues[0:len(stockData.columns[stockData.columns.str.contains(indVar)])]\n",
    "            coeff =  model.params[0:len(stockData.columns[stockData.columns.str.contains(indVar)])]\n",
    "\n",
    "            # results.loc[i,'ind'] = ind\n",
    "\n",
    "\n",
    "            results.loc[i,'outcomeVar'] = outcomeVar\n",
    "            results.loc[i,'weatherVar'] = weatherVar\n",
    "            results.loc[i,'statVar']    = statVar\n",
    "            # results.loc[i,'cutoffVar']  = cutoffVar\n",
    "            # results.loc[i,'firmVar']    = firmVar\n",
    "\n",
    "\n",
    "            results.loc[i,'lag0']       = coeff[0]\n",
    "            results.loc[i,'lag1']       = coeff[1]\n",
    "            results.loc[i,'lag2']       = coeff[2]\n",
    "            results.loc[i,'lag3']       = coeff[3]\n",
    "            results.loc[i,'lag4']       = coeff[4]\n",
    "\n",
    "            results.loc[i,'pval0']      = pvals[0]\n",
    "            results.loc[i,'pval1']      = pvals[1]\n",
    "            results.loc[i,'pval2']      = pvals[2]\n",
    "            results.loc[i,'pval3']      = pvals[3]\n",
    "            results.loc[i,'pval4']      = pvals[4]\n",
    "\n",
    "\n",
    "            results.to_csv(\"../../data/stocks_rightInds_noCtrls.csv\")\n",
    "\n",
    "            print( time.time() - start)"
   ]
  },
  {
   "cell_type": "code",
   "execution_count": null,
   "metadata": {},
   "outputs": [],
   "source": [
    "results"
   ]
  },
  {
   "cell_type": "code",
   "execution_count": null,
   "metadata": {},
   "outputs": [],
   "source": [
    "results.to_csv(\"../../data/utilitiesResults_rightInds.csv\")"
   ]
  },
  {
   "cell_type": "markdown",
   "metadata": {},
   "source": [
    "# Faster and More Heuristic"
   ]
  },
  {
   "cell_type": "markdown",
   "metadata": {},
   "source": [
    "The below gives us unclustered standard errors, output to a csv file."
   ]
  },
  {
   "cell_type": "code",
   "execution_count": null,
   "metadata": {},
   "outputs": [],
   "source": [
    "def findSE(X,reg,y):\n",
    "    N = len(X)\n",
    "    p = len(X.columns) + 1  # plus one because LinearRegression adds an intercept term\n",
    "\n",
    "    X_with_intercept = np.empty(shape=(N, p), dtype=np.float)\n",
    "    X_with_intercept[:, 0] = 1\n",
    "    X_with_intercept[:, 1:p] = X.values\n",
    "\n",
    "    y_hat = reg.predict(X)\n",
    "    residuals = y.values - y_hat\n",
    "    residual_sum_of_squares = residuals.T @ residuals\n",
    "    sigma_squared_hat = residual_sum_of_squares / (N - p)\n",
    "    var_beta_hat = np.linalg.inv(X_with_intercept.T @ X_with_intercept) * sigma_squared_hat\n",
    "\n",
    "    se0 = var_beta_hat[1, 1] ** 0.5\n",
    "    se1 = var_beta_hat[2, 2] ** 0.5\n",
    "    se2 = var_beta_hat[3, 3] ** 0.5\n",
    "    se3 = var_beta_hat[4, 4] ** 0.5\n",
    "    se4 = var_beta_hat[5, 5] ** 0.5\n",
    "    se5 = var_beta_hat[6, 6] ** 0.5\n",
    "    '''se6 = var_beta_hat[7, 7] ** 0.5\n",
    "    se7 = var_beta_hat[8, 8] ** 0.5\n",
    "    se8 = var_beta_hat[9, 9] ** 0.5'''\n",
    "    return([abs(reg.coef_[0]/se0),abs(reg.coef_[1]/se1),abs(reg.coef_[2]/se2),\n",
    "            abs(reg.coef_[3]/se3),abs(reg.coef_[4]/se4),abs(reg.coef_[5]/se5)]\n",
    "          )\n"
   ]
  },
  {
   "cell_type": "code",
   "execution_count": null,
   "metadata": {},
   "outputs": [],
   "source": [
    "# try this by industry\n",
    "weatherVars  = ['precip_', 'temp_'] \n",
    "statVarsYr   = ['zipQuarterLast5', 'annualLast5'] \n",
    "outcomeVars  = ['RET']\n",
    "\n",
    "\n",
    "start = time.time()\n",
    "\n",
    "\n",
    "results = pd.DataFrame()\n",
    "i = 0\n",
    "for outcomeVar in outcomeVars:\n",
    "    for weatherVar in weatherVars:\n",
    "        for statVar in statVarsYr:                     \n",
    "\n",
    "                    i = i + 1\n",
    "                    indVar = weatherVar + statVar\n",
    "\n",
    "                    print(outcomeVar, \"~\", indVar)\n",
    "\n",
    "\n",
    "                    # find: concurrent ; or lagged supplier data\n",
    "                    X = stockData.loc[:,((stockData.columns.str.contains(indVar)) |\n",
    "                                      (stockData.columns.str.contains('indQtr_')))] #  |\n",
    "\n",
    "\n",
    "                    X = X[X.columns[(X.sum(axis = 0) >= 4)]]\n",
    "                    \n",
    "\n",
    "                    y = stockData[outcomeVar]\n",
    "\n",
    "\n",
    "                    ######################################\n",
    "                    # fit the model on this subset\n",
    "                    reg = linear_model.LinearRegression()\n",
    "                    reg.fit(X,y)\n",
    "                    \n",
    "\n",
    "\n",
    "                    results.loc[i,'outcomeVar'] = outcomeVar\n",
    "                    results.loc[i,'weatherVar'] = weatherVar\n",
    "                    results.loc[i,'statVar']    = statVar\n",
    "\n",
    "\n",
    "\n",
    "                    results.loc[i,'lag0']       = reg.coef_[0]\n",
    "                    results.loc[i,'lag1']       = reg.coef_[1]\n",
    "                    results.loc[i,'lag2']       = reg.coef_[2]\n",
    "                    results.loc[i,'lag3']       = reg.coef_[3]\n",
    "                    results.loc[i,'lag4']       = reg.coef_[4]\n",
    "\n",
    "\n",
    "\n",
    "                    '''seratios = findSE(X,reg,y)\n",
    "\n",
    "                    results.loc[i,'ratio0']       = seratios[0]\n",
    "                    results.loc[i,'ratio1']       = seratios[1]\n",
    "                    results.loc[i,'ratio2']       = seratios[2]\n",
    "                    results.loc[i,'ratio3']       = seratios[3]\n",
    "                    results.loc[i,'ratio4']       = seratios[4]'''\n",
    "\n",
    "                    # print(results)\n",
    "\n",
    "                    print(time.time() - start)\n",
    "\n",
    "                    print('*******************************************************************')\n",
    "\n",
    "results.to_csv(\"../../data/stockResults_notNormd.csv\")"
   ]
  },
  {
   "cell_type": "code",
   "execution_count": null,
   "metadata": {},
   "outputs": [],
   "source": [
    "results"
   ]
  },
  {
   "cell_type": "markdown",
   "metadata": {},
   "source": [
    "# Indirect Effects\n",
    "This is almost exactly the same but with supplier information in place of the direct company information."
   ]
  },
  {
   "cell_type": "code",
   "execution_count": null,
   "metadata": {
    "scrolled": true
   },
   "outputs": [],
   "source": [
    "cutoffVarsYr = ['1xYr'] #, ] # ,'1xQtr''1x5Qtrs',\n",
    "weatherVars  = ['precip_', 'temp_', 'precip5Days_', 'temp5Days_'] #[,]\n",
    "statVarsYr   = ['annualquant_']  #,'zipQuarterquant_']\n",
    "outcomeVars  = ['costChange', 'revenueChange', 'lnRevNormd', 'lnCostNormd'] # ['revenueChange'] #[, 'costChange']#,'lnCost','lnInc','lnRev']\n",
    "\n",
    "goodsData = goodsData[~goodsData.lnRev.isna() & ~goodsData.lnCost.isna() & ~goodsData.lnCostNormd.isna()]\n",
    "goodsData['scTercile']  = pd.qcut(goodsData['suppliers'], 3, labels=False, duplicates = 'drop')\n",
    "\n",
    "\n",
    "start = time.time()\n",
    "\n",
    "for outcomeVar in outcomeVars:\n",
    "    for weatherVar in weatherVars:\n",
    "        for statVar in statVarsYr:                     \n",
    "            for cutoffVar in cutoffVarsYr:\n",
    "                indVar = weatherVar + statVar + cutoffVar\n",
    "                \n",
    "                \n",
    "                print(outcomeVar, \"~\", indVar)\n",
    "\n",
    "\n",
    "                # find: concurrent ; or lagged supplier data\n",
    "                X = goodsData.loc[:,(((goodsData.columns.str.contains(indVar)) & goodsData.columns.str.contains('supplier')) | \n",
    "                                                (goodsData.columns.str.contains('indQtr_')) |\n",
    "                                                (goodsData.columns.str.contains('gvkey_'))  | \n",
    "                                                (goodsData.columns.str.contains('ageQtr_')) |\n",
    "                                                (goodsData.columns.str.contains('sizeQtr_')) |\n",
    "                                                (goodsData.columns.str.contains('profitQtr_')) | \n",
    "                                                (goodsData.columns == 'suppliers')) &   \n",
    "                                                # (goodsData.columns.str.contains('firmQtr_')))       & \n",
    "                                                ~(goodsData.columns.str.contains('gvkey_1013')) & # do 1 minus the FEs\n",
    "                                                ~(goodsData.columns.str.contains('indQtr_12010_1'))]# & \n",
    "                                                # ~(goodsData.columns.str.contains('lag4'))]     \n",
    "                \n",
    "                \n",
    "                firms = goodsData['gvkey']\n",
    "\n",
    "\n",
    "                y = goodsData[outcomeVar]\n",
    "                \n",
    "                \n",
    "                results = sm.OLS(y, X).fit(cov_type='cluster',cov_kwds={'groups': firms},use_t=True)\n",
    "                pvals = results.pvalues[0:len(goodsData.columns[goodsData.columns.str.contains(indVar) & goodsData.columns.str.contains('supplier_')])]\n",
    "                coeff = results.params[0:len(goodsData.columns[goodsData.columns.str.contains(indVar)  & goodsData.columns.str.contains('supplier_')])]\n",
    "                print(coeff)\n",
    "                print(pvals)\n",
    "                \n",
    "                \n",
    "                print( time.time() - start)\n",
    "                \n",
    "                \n",
    "                "
   ]
  },
  {
   "cell_type": "code",
   "execution_count": null,
   "metadata": {},
   "outputs": [],
   "source": [
    "cutoffVarsYr = ['1xYr'] #, ] # ,'1xQtr''1x5Qtrs',\n",
    "weatherVars  = ['precip_', 'temp_', 'precip5Days_', 'temp5Days_'] #[,]\n",
    "statVarsYr   = ['annualquant_']  #,'zipQuarterquant_']\n",
    "outcomeVars  = ['revenueChange',  'costChange'] # ['revenueChange'] #['incomeChange', 'revenueChange', 'costChange']#,'lnCost','lnInc','lnRev']\n",
    "\n",
    "\n",
    "# 'revenueChange',  'costChange', \n",
    "# 'lnRevNormd', 'lnCostNormd'\n",
    "\n",
    "\n",
    "goodsData = goodsData[~goodsData.lnRev.isna() & ~goodsData.lnCost.isna() & ~goodsData.lnCostNormd.isna()]\n",
    "\n",
    "\n",
    "start = time.time()\n",
    "\n",
    "for outcomeVar in outcomeVars:\n",
    "    for weatherVar in weatherVars:\n",
    "        for statVar in statVarsYr:                     \n",
    "            for cutoffVar in cutoffVarsYr:\n",
    "                indVar = weatherVar + statVar + cutoffVar\n",
    "                supplierIndVar = 'supplier_' + weatherVar + statVar + cutoffVar\n",
    "                \n",
    "                \n",
    "                print(outcomeVar, \"~\", indVar, supplierIndVar)\n",
    "\n",
    "\n",
    "                # find: concurrent ; or lagged supplier data\n",
    "                X = goodsData.loc[:,((goodsData.columns.str.contains(indVar) & goodsData.columns.str.contains('supplier')) |\n",
    "                                  (goodsData.columns.str.contains('indQtr_'))       |\n",
    "                                  (goodsData.columns.str.contains('gvkey_'))) &   \n",
    "                                # (goodsData.columns.str.contains('firmQtr_')))       & \n",
    "                                  ~(goodsData.columns.str.contains('gvkey_1045'))     & # do 1 minus the FEs\n",
    "                                ~(goodsData.columns.str.contains('indQtr_12013_1'))]#  &\n",
    "                                # ~(goodsData.columns.str.contains('lag4')) &\n",
    "                                # (goodsData.columns.str.contains('ageQtr_')) |\n",
    "                                # (goodsData.columns.str.contains('sizeQtr_')) |\n",
    "                                # (goodsData.columns.str.contains('profitQtr_'))) & \n",
    "                                # ~(goodsData.columns.str.contains('firmQtr_10451'))] # & # do 1 minus the FEs\n",
    "                                # ~(goodsData.columns.str.contains('indQtr_12013_1'))]# & \n",
    "                                # ~(goodsData.columns.str.contains('lag2')) & \n",
    "                                 \n",
    "                                \n",
    "                print(X.columns[0:5])\n",
    "\n",
    "                X = X[X.columns[(X.sum(axis = 0) >= 4)]]\n",
    "                firms = goodsData['gvkey']\n",
    "\n",
    "\n",
    "                y = goodsData[outcomeVar]\n",
    "\n",
    "\n",
    "                ######################################\n",
    "                # fit the model on this subset\n",
    "                reg = linear_model.LinearRegression()\n",
    "                reg.fit(X,y)\n",
    "\n",
    "\n",
    "                print('Coeff: ' , reg.coef_[0:5], 'SE type (looking >2): ', findSE(X,reg,y))\n",
    "                \n",
    "                print(time.time() - start)\n",
    "                \n",
    "                print('*******************************************************************')\n",
    "                \n"
   ]
  },
  {
   "cell_type": "code",
   "execution_count": null,
   "metadata": {},
   "outputs": [],
   "source": []
  },
  {
   "cell_type": "markdown",
   "metadata": {},
   "source": [
    "# Quarterly-Specific Effects\n",
    "Look at what is going on within a quarter, for a specific zipcode. \n",
    "\n",
    "Note: this is effectively deprecated at this point because the zip-level effects mask the differences in the underlying weather distributions, ie some regions would likely benefit from getting warmer. If we want to do a zip-level study, we should also include some sort of threshold here.\n",
    "\n",
    "Do this for all qtrs."
   ]
  }
 ],
 "metadata": {
  "kernelspec": {
   "display_name": "Python 3",
   "language": "python",
   "name": "python3"
  },
  "language_info": {
   "codemirror_mode": {
    "name": "ipython",
    "version": 3
   },
   "file_extension": ".py",
   "mimetype": "text/x-python",
   "name": "python",
   "nbconvert_exporter": "python",
   "pygments_lexer": "ipython3",
   "version": "3.7.4"
  }
 },
 "nbformat": 4,
 "nbformat_minor": 2
}
