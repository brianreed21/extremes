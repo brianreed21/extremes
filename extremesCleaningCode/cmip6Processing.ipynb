{
 "cells": [
  {
   "cell_type": "markdown",
   "metadata": {},
   "source": [
    "# Initial Set-Up"
   ]
  },
  {
   "cell_type": "code",
   "execution_count": 1,
   "metadata": {},
   "outputs": [
    {
     "name": "stderr",
     "output_type": "stream",
     "text": [
      "/Users/brianreed/opt/anaconda3/lib/python3.7/site-packages/dask/dataframe/utils.py:14: FutureWarning: pandas.util.testing is deprecated. Use the functions in the public API at pandas.testing instead.\n",
      "  import pandas.util.testing as tm\n"
     ]
    }
   ],
   "source": [
    "import pickle\n",
    "import pandas as pd\n",
    "import matplotlib\n",
    "import os\n",
    "import re\n",
    "\n",
    "import collections\n",
    "import datetime\n",
    "import time\n",
    "\n",
    "import geopandas as gpd\n",
    "\n",
    "import numpy as np\n",
    "\n",
    "import rasterio\n",
    "\n",
    "from difflib import get_close_matches\n",
    "\n",
    "from fuzzywuzzy import process\n",
    "from fuzzywuzzy import fuzz\n",
    "\n",
    "import pandas as pd\n",
    "import networkx as nx\n",
    "import matplotlib.pyplot as plt\n",
    "from mpl_toolkits.basemap import Basemap\n",
    "\n",
    "import geopandas as gpd\n",
    "\n",
    "import seaborn as sns\n",
    "\n",
    "import numpy as np\n",
    "\n",
    "import scipy\n",
    "\n",
    "from matplotlib.colors import LogNorm\n",
    "\n",
    "from sklearn import preprocessing\n",
    "\n",
    "import dask.dataframe as dd\n",
    "\n"
   ]
  },
  {
   "cell_type": "markdown",
   "metadata": {},
   "source": [
    "# Weather Data\n",
    "## *this is how we process the cmip6Data\n"
   ]
  },
  {
   "cell_type": "code",
   "execution_count": null,
   "metadata": {},
   "outputs": [],
   "source": [
    "import netCDF4 as nc\n",
    "import xarray as xr"
   ]
  },
  {
   "cell_type": "code",
   "execution_count": null,
   "metadata": {},
   "outputs": [],
   "source": [
    "file = '../../../../../../../Volumes/backup2/dissData/cmip6Data/hist/pr/pr_day_MIROC6_historical_r7i1p1f1_gn_20100101-20141231.nc'\n",
    "data = xr.open_dataset(file)   #  nc.Dataset(file)"
   ]
  },
  {
   "cell_type": "code",
   "execution_count": null,
   "metadata": {},
   "outputs": [],
   "source": [
    "data"
   ]
  },
  {
   "cell_type": "code",
   "execution_count": null,
   "metadata": {},
   "outputs": [],
   "source": [
    "geoHQ = gpd.GeoDataFrame(\n",
    "    allIG,\n",
    "    geometry=gpd.points_from_xy(\n",
    "        allIG[\"longitude\"],\n",
    "        allIG[\"latitude\"],\n",
    "    ),\n",
    "    crs={\"init\":\"EPSG:4326\"},\n",
    ")"
   ]
  },
  {
   "cell_type": "code",
   "execution_count": null,
   "metadata": {},
   "outputs": [],
   "source": [
    "geoHQ['longitude']"
   ]
  },
  {
   "cell_type": "code",
   "execution_count": null,
   "metadata": {},
   "outputs": [],
   "source": [
    "one_point = data[\"pr\"].sel(lat=50, lon=50)"
   ]
  },
  {
   "cell_type": "code",
   "execution_count": null,
   "metadata": {},
   "outputs": [],
   "source": [
    "pd.DataFrame(test.temperature[test.year == 2010]).plot()"
   ]
  },
  {
   "cell_type": "markdown",
   "metadata": {},
   "source": [
    "Now go through and make this iterable for the entire list."
   ]
  },
  {
   "cell_type": "code",
   "execution_count": null,
   "metadata": {},
   "outputs": [],
   "source": [
    "i = 0\n",
    "data.pr.sel(allIG.iloc[0,:], method='nearest')"
   ]
  },
  {
   "cell_type": "code",
   "execution_count": null,
   "metadata": {},
   "outputs": [],
   "source": [
    "hqPost2010 = geoHQ[geoHQ.archive_version_year > 2010].reset_index()"
   ]
  },
  {
   "cell_type": "code",
   "execution_count": null,
   "metadata": {},
   "outputs": [],
   "source": [
    "start = time.time()\n",
    "\n",
    "\n",
    "\n",
    "tempsList = list()\n",
    "for i in range(0,hqPost2010.shape[0]):\n",
    "    nearbyTemps = temps.sel(hqPost2010.loc[i,['latitude','longitude']], method='nearest')\n",
    "    \n",
    "    tempsList.append(list(np.array(nearbyTemps.temperature[nearbyTemps.year == hqPost2010.archive_version_year[i]])))\n",
    "\n",
    "    if (i%100 == 0):\n",
    "        print(i)\n",
    "    \n",
    "print(time.time() - start)\n",
    "\n",
    "\n",
    "\n",
    "\n"
   ]
  },
  {
   "cell_type": "code",
   "execution_count": null,
   "metadata": {},
   "outputs": [],
   "source": [
    "outfile =  'data/hqDailyTemperatures.pkl'\n",
    "with open(outfile, 'wb') as pickle_file:\n",
    "    pickle.dump(tempsList, pickle_file)"
   ]
  },
  {
   "cell_type": "markdown",
   "metadata": {},
   "source": [
    "# Now let's do the percentiles"
   ]
  },
  {
   "cell_type": "code",
   "execution_count": 2,
   "metadata": {},
   "outputs": [],
   "source": [
    "baselineName = '../../../../../../../Volumes/backup2/dissData/cmip6Data/hist/mirocHQs_198199.csv'\n",
    "baseline = pd.read_csv(baselineName)"
   ]
  },
  {
   "cell_type": "code",
   "execution_count": 3,
   "metadata": {},
   "outputs": [
    {
     "data": {
      "text/html": [
       "<div>\n",
       "<style scoped>\n",
       "    .dataframe tbody tr th:only-of-type {\n",
       "        vertical-align: middle;\n",
       "    }\n",
       "\n",
       "    .dataframe tbody tr th {\n",
       "        vertical-align: top;\n",
       "    }\n",
       "\n",
       "    .dataframe thead th {\n",
       "        text-align: right;\n",
       "    }\n",
       "</style>\n",
       "<table border=\"1\" class=\"dataframe\">\n",
       "  <thead>\n",
       "    <tr style=\"text-align: right;\">\n",
       "      <th></th>\n",
       "      <th>zipcode</th>\n",
       "      <th>variable</th>\n",
       "      <th>value</th>\n",
       "      <th>quarter</th>\n",
       "    </tr>\n",
       "  </thead>\n",
       "  <tbody>\n",
       "    <tr>\n",
       "      <th>0</th>\n",
       "      <td>44146</td>\n",
       "      <td>pr_hist</td>\n",
       "      <td>5.603128e-06</td>\n",
       "      <td>Q1</td>\n",
       "    </tr>\n",
       "    <tr>\n",
       "      <th>1</th>\n",
       "      <td>85260</td>\n",
       "      <td>pr_hist</td>\n",
       "      <td>4.505838e-18</td>\n",
       "      <td>Q1</td>\n",
       "    </tr>\n",
       "    <tr>\n",
       "      <th>2</th>\n",
       "      <td>8876</td>\n",
       "      <td>pr_hist</td>\n",
       "      <td>3.638395e-08</td>\n",
       "      <td>Q1</td>\n",
       "    </tr>\n",
       "    <tr>\n",
       "      <th>3</th>\n",
       "      <td>60411</td>\n",
       "      <td>pr_hist</td>\n",
       "      <td>1.171563e-05</td>\n",
       "      <td>Q1</td>\n",
       "    </tr>\n",
       "    <tr>\n",
       "      <th>4</th>\n",
       "      <td>74102</td>\n",
       "      <td>pr_hist</td>\n",
       "      <td>4.505838e-18</td>\n",
       "      <td>Q1</td>\n",
       "    </tr>\n",
       "  </tbody>\n",
       "</table>\n",
       "</div>"
      ],
      "text/plain": [
       "   zipcode variable         value quarter\n",
       "0    44146  pr_hist  5.603128e-06      Q1\n",
       "1    85260  pr_hist  4.505838e-18      Q1\n",
       "2     8876  pr_hist  3.638395e-08      Q1\n",
       "3    60411  pr_hist  1.171563e-05      Q1\n",
       "4    74102  pr_hist  4.505838e-18      Q1"
      ]
     },
     "execution_count": 3,
     "metadata": {},
     "output_type": "execute_result"
    }
   ],
   "source": [
    "baseline.head()"
   ]
  },
  {
   "cell_type": "code",
   "execution_count": 4,
   "metadata": {},
   "outputs": [],
   "source": [
    "quants   = baseline.groupby(['zipcode','variable','quarter']).quantile(.95).reset_index()\n",
    "quants.rename(columns = {'value': 'quantCutoff'}, inplace = True)\n"
   ]
  },
  {
   "cell_type": "code",
   "execution_count": 5,
   "metadata": {},
   "outputs": [
    {
     "data": {
      "text/html": [
       "<div>\n",
       "<style scoped>\n",
       "    .dataframe tbody tr th:only-of-type {\n",
       "        vertical-align: middle;\n",
       "    }\n",
       "\n",
       "    .dataframe tbody tr th {\n",
       "        vertical-align: top;\n",
       "    }\n",
       "\n",
       "    .dataframe thead th {\n",
       "        text-align: right;\n",
       "    }\n",
       "</style>\n",
       "<table border=\"1\" class=\"dataframe\">\n",
       "  <thead>\n",
       "    <tr style=\"text-align: right;\">\n",
       "      <th></th>\n",
       "      <th>zipcode</th>\n",
       "      <th>variable</th>\n",
       "      <th>quarter</th>\n",
       "      <th>quantCutoff</th>\n",
       "    </tr>\n",
       "  </thead>\n",
       "  <tbody>\n",
       "    <tr>\n",
       "      <th>0</th>\n",
       "      <td>1226</td>\n",
       "      <td>pr_hist</td>\n",
       "      <td>Q1</td>\n",
       "      <td>0.000215</td>\n",
       "    </tr>\n",
       "    <tr>\n",
       "      <th>1</th>\n",
       "      <td>1226</td>\n",
       "      <td>pr_hist</td>\n",
       "      <td>Q2</td>\n",
       "      <td>0.000275</td>\n",
       "    </tr>\n",
       "    <tr>\n",
       "      <th>2</th>\n",
       "      <td>1226</td>\n",
       "      <td>pr_hist</td>\n",
       "      <td>Q3</td>\n",
       "      <td>0.000249</td>\n",
       "    </tr>\n",
       "    <tr>\n",
       "      <th>3</th>\n",
       "      <td>1226</td>\n",
       "      <td>pr_hist</td>\n",
       "      <td>Q4</td>\n",
       "      <td>0.000224</td>\n",
       "    </tr>\n",
       "    <tr>\n",
       "      <th>4</th>\n",
       "      <td>1226</td>\n",
       "      <td>tasmax_hist</td>\n",
       "      <td>Q1</td>\n",
       "      <td>286.183535</td>\n",
       "    </tr>\n",
       "  </tbody>\n",
       "</table>\n",
       "</div>"
      ],
      "text/plain": [
       "   zipcode     variable quarter  quantCutoff\n",
       "0     1226      pr_hist      Q1     0.000215\n",
       "1     1226      pr_hist      Q2     0.000275\n",
       "2     1226      pr_hist      Q3     0.000249\n",
       "3     1226      pr_hist      Q4     0.000224\n",
       "4     1226  tasmax_hist      Q1   286.183535"
      ]
     },
     "execution_count": 5,
     "metadata": {},
     "output_type": "execute_result"
    }
   ],
   "source": [
    "quants.head()"
   ]
  },
  {
   "cell_type": "markdown",
   "metadata": {},
   "source": [
    "And apply them to the next period."
   ]
  },
  {
   "cell_type": "code",
   "execution_count": 6,
   "metadata": {},
   "outputs": [],
   "source": [
    "nextPeriodName = '../../../../../../../Volumes/backup2/dissData/cmip6Data/proj/mirocHQs_202040.csv'\n",
    "nextPeriod = pd.read_csv(nextPeriodName)"
   ]
  },
  {
   "cell_type": "code",
   "execution_count": 7,
   "metadata": {},
   "outputs": [
    {
     "data": {
      "text/html": [
       "<div>\n",
       "<style scoped>\n",
       "    .dataframe tbody tr th:only-of-type {\n",
       "        vertical-align: middle;\n",
       "    }\n",
       "\n",
       "    .dataframe tbody tr th {\n",
       "        vertical-align: top;\n",
       "    }\n",
       "\n",
       "    .dataframe thead th {\n",
       "        text-align: right;\n",
       "    }\n",
       "</style>\n",
       "<table border=\"1\" class=\"dataframe\">\n",
       "  <thead>\n",
       "    <tr style=\"text-align: right;\">\n",
       "      <th></th>\n",
       "      <th>zipcode</th>\n",
       "      <th>latitude</th>\n",
       "      <th>longitude</th>\n",
       "      <th>s</th>\n",
       "      <th>variable</th>\n",
       "      <th>value</th>\n",
       "      <th>year</th>\n",
       "      <th>quarter</th>\n",
       "    </tr>\n",
       "  </thead>\n",
       "  <tbody>\n",
       "    <tr>\n",
       "      <th>0</th>\n",
       "      <td>44146</td>\n",
       "      <td>41.41278</td>\n",
       "      <td>-81.50616</td>\n",
       "      <td>1</td>\n",
       "      <td>pr_hist</td>\n",
       "      <td>5.541186e-05</td>\n",
       "      <td>2020</td>\n",
       "      <td>Q1</td>\n",
       "    </tr>\n",
       "    <tr>\n",
       "      <th>1</th>\n",
       "      <td>85260</td>\n",
       "      <td>33.61963</td>\n",
       "      <td>-111.90171</td>\n",
       "      <td>1</td>\n",
       "      <td>pr_hist</td>\n",
       "      <td>4.853382e-17</td>\n",
       "      <td>2020</td>\n",
       "      <td>Q1</td>\n",
       "    </tr>\n",
       "    <tr>\n",
       "      <th>2</th>\n",
       "      <td>8876</td>\n",
       "      <td>40.59778</td>\n",
       "      <td>-74.69065</td>\n",
       "      <td>1</td>\n",
       "      <td>pr_hist</td>\n",
       "      <td>4.139848e-08</td>\n",
       "      <td>2020</td>\n",
       "      <td>Q1</td>\n",
       "    </tr>\n",
       "    <tr>\n",
       "      <th>3</th>\n",
       "      <td>60411</td>\n",
       "      <td>41.52176</td>\n",
       "      <td>-87.61784</td>\n",
       "      <td>1</td>\n",
       "      <td>pr_hist</td>\n",
       "      <td>1.024405e-04</td>\n",
       "      <td>2020</td>\n",
       "      <td>Q1</td>\n",
       "    </tr>\n",
       "    <tr>\n",
       "      <th>4</th>\n",
       "      <td>74102</td>\n",
       "      <td>36.15089</td>\n",
       "      <td>-95.99398</td>\n",
       "      <td>1</td>\n",
       "      <td>pr_hist</td>\n",
       "      <td>2.608104e-06</td>\n",
       "      <td>2020</td>\n",
       "      <td>Q1</td>\n",
       "    </tr>\n",
       "  </tbody>\n",
       "</table>\n",
       "</div>"
      ],
      "text/plain": [
       "   zipcode  latitude  longitude  s variable         value  year quarter\n",
       "0    44146  41.41278  -81.50616  1  pr_hist  5.541186e-05  2020      Q1\n",
       "1    85260  33.61963 -111.90171  1  pr_hist  4.853382e-17  2020      Q1\n",
       "2     8876  40.59778  -74.69065  1  pr_hist  4.139848e-08  2020      Q1\n",
       "3    60411  41.52176  -87.61784  1  pr_hist  1.024405e-04  2020      Q1\n",
       "4    74102  36.15089  -95.99398  1  pr_hist  2.608104e-06  2020      Q1"
      ]
     },
     "execution_count": 7,
     "metadata": {},
     "output_type": "execute_result"
    }
   ],
   "source": [
    "nextPeriod.head()"
   ]
  },
  {
   "cell_type": "code",
   "execution_count": 8,
   "metadata": {},
   "outputs": [
    {
     "data": {
      "text/html": [
       "<div>\n",
       "<style scoped>\n",
       "    .dataframe tbody tr th:only-of-type {\n",
       "        vertical-align: middle;\n",
       "    }\n",
       "\n",
       "    .dataframe tbody tr th {\n",
       "        vertical-align: top;\n",
       "    }\n",
       "\n",
       "    .dataframe thead th {\n",
       "        text-align: right;\n",
       "    }\n",
       "</style>\n",
       "<table border=\"1\" class=\"dataframe\">\n",
       "  <thead>\n",
       "    <tr style=\"text-align: right;\">\n",
       "      <th></th>\n",
       "      <th>zipcode</th>\n",
       "      <th>latitude</th>\n",
       "      <th>longitude</th>\n",
       "      <th>s</th>\n",
       "      <th>variable</th>\n",
       "      <th>value</th>\n",
       "      <th>year</th>\n",
       "      <th>quarter</th>\n",
       "      <th>quantCutoff</th>\n",
       "    </tr>\n",
       "  </thead>\n",
       "  <tbody>\n",
       "    <tr>\n",
       "      <th>0</th>\n",
       "      <td>44146</td>\n",
       "      <td>41.41278</td>\n",
       "      <td>-81.50616</td>\n",
       "      <td>1</td>\n",
       "      <td>pr_hist</td>\n",
       "      <td>0.000055</td>\n",
       "      <td>2020</td>\n",
       "      <td>Q1</td>\n",
       "      <td>0.000161</td>\n",
       "    </tr>\n",
       "    <tr>\n",
       "      <th>1</th>\n",
       "      <td>44146</td>\n",
       "      <td>41.41371</td>\n",
       "      <td>-81.50582</td>\n",
       "      <td>1</td>\n",
       "      <td>pr_hist</td>\n",
       "      <td>0.000055</td>\n",
       "      <td>2020</td>\n",
       "      <td>Q1</td>\n",
       "      <td>0.000161</td>\n",
       "    </tr>\n",
       "    <tr>\n",
       "      <th>2</th>\n",
       "      <td>44146</td>\n",
       "      <td>41.41278</td>\n",
       "      <td>-81.50616</td>\n",
       "      <td>1</td>\n",
       "      <td>pr_hist</td>\n",
       "      <td>0.000002</td>\n",
       "      <td>2020</td>\n",
       "      <td>Q1</td>\n",
       "      <td>0.000161</td>\n",
       "    </tr>\n",
       "    <tr>\n",
       "      <th>3</th>\n",
       "      <td>44146</td>\n",
       "      <td>41.41371</td>\n",
       "      <td>-81.50582</td>\n",
       "      <td>1</td>\n",
       "      <td>pr_hist</td>\n",
       "      <td>0.000002</td>\n",
       "      <td>2020</td>\n",
       "      <td>Q1</td>\n",
       "      <td>0.000161</td>\n",
       "    </tr>\n",
       "    <tr>\n",
       "      <th>4</th>\n",
       "      <td>44146</td>\n",
       "      <td>41.41278</td>\n",
       "      <td>-81.50616</td>\n",
       "      <td>1</td>\n",
       "      <td>pr_hist</td>\n",
       "      <td>0.000003</td>\n",
       "      <td>2020</td>\n",
       "      <td>Q1</td>\n",
       "      <td>0.000161</td>\n",
       "    </tr>\n",
       "  </tbody>\n",
       "</table>\n",
       "</div>"
      ],
      "text/plain": [
       "   zipcode  latitude  longitude  s variable     value  year quarter  \\\n",
       "0    44146  41.41278  -81.50616  1  pr_hist  0.000055  2020      Q1   \n",
       "1    44146  41.41371  -81.50582  1  pr_hist  0.000055  2020      Q1   \n",
       "2    44146  41.41278  -81.50616  1  pr_hist  0.000002  2020      Q1   \n",
       "3    44146  41.41371  -81.50582  1  pr_hist  0.000002  2020      Q1   \n",
       "4    44146  41.41278  -81.50616  1  pr_hist  0.000003  2020      Q1   \n",
       "\n",
       "   quantCutoff  \n",
       "0     0.000161  \n",
       "1     0.000161  \n",
       "2     0.000161  \n",
       "3     0.000161  \n",
       "4     0.000161  "
      ]
     },
     "execution_count": 8,
     "metadata": {},
     "output_type": "execute_result"
    }
   ],
   "source": [
    "nextPeriod = nextPeriod.merge(quants)\n",
    "nextPeriod.head()"
   ]
  },
  {
   "cell_type": "code",
   "execution_count": 9,
   "metadata": {},
   "outputs": [],
   "source": [
    "nextPeriod['extreme'] = 1*(nextPeriod.value > nextPeriod.quantCutoff)"
   ]
  },
  {
   "cell_type": "code",
   "execution_count": 10,
   "metadata": {},
   "outputs": [],
   "source": [
    "quarterlyExtremes = nextPeriod[['variable','year','quarter','zipcode','extreme','latitude','longitude']].\\\n",
    "    groupby(['variable','year','quarter','zipcode','latitude','longitude']).sum().reset_index()"
   ]
  },
  {
   "cell_type": "code",
   "execution_count": 11,
   "metadata": {},
   "outputs": [],
   "source": [
    "quarterlyExtremes['extremesNormd'] = quarterlyExtremes.extreme - 4.5"
   ]
  },
  {
   "cell_type": "code",
   "execution_count": 12,
   "metadata": {
    "scrolled": true
   },
   "outputs": [
    {
     "data": {
      "text/html": [
       "<div>\n",
       "<style scoped>\n",
       "    .dataframe tbody tr th:only-of-type {\n",
       "        vertical-align: middle;\n",
       "    }\n",
       "\n",
       "    .dataframe tbody tr th {\n",
       "        vertical-align: top;\n",
       "    }\n",
       "\n",
       "    .dataframe thead th {\n",
       "        text-align: right;\n",
       "    }\n",
       "</style>\n",
       "<table border=\"1\" class=\"dataframe\">\n",
       "  <thead>\n",
       "    <tr style=\"text-align: right;\">\n",
       "      <th></th>\n",
       "      <th>variable</th>\n",
       "      <th>year</th>\n",
       "      <th>quarter</th>\n",
       "      <th>zipcode</th>\n",
       "      <th>latitude</th>\n",
       "      <th>longitude</th>\n",
       "      <th>extreme</th>\n",
       "      <th>extremesNormd</th>\n",
       "    </tr>\n",
       "  </thead>\n",
       "  <tbody>\n",
       "    <tr>\n",
       "      <th>0</th>\n",
       "      <td>pr_hist</td>\n",
       "      <td>2020</td>\n",
       "      <td>Q1</td>\n",
       "      <td>1226</td>\n",
       "      <td>42.47064</td>\n",
       "      <td>-73.17891</td>\n",
       "      <td>8</td>\n",
       "      <td>3.5</td>\n",
       "    </tr>\n",
       "    <tr>\n",
       "      <th>1</th>\n",
       "      <td>pr_hist</td>\n",
       "      <td>2020</td>\n",
       "      <td>Q1</td>\n",
       "      <td>1434</td>\n",
       "      <td>42.53712</td>\n",
       "      <td>-71.62612</td>\n",
       "      <td>5</td>\n",
       "      <td>0.5</td>\n",
       "    </tr>\n",
       "    <tr>\n",
       "      <th>2</th>\n",
       "      <td>pr_hist</td>\n",
       "      <td>2020</td>\n",
       "      <td>Q1</td>\n",
       "      <td>1434</td>\n",
       "      <td>42.53716</td>\n",
       "      <td>-71.62616</td>\n",
       "      <td>5</td>\n",
       "      <td>0.5</td>\n",
       "    </tr>\n",
       "    <tr>\n",
       "      <th>3</th>\n",
       "      <td>pr_hist</td>\n",
       "      <td>2020</td>\n",
       "      <td>Q1</td>\n",
       "      <td>1460</td>\n",
       "      <td>42.51834</td>\n",
       "      <td>-71.51949</td>\n",
       "      <td>5</td>\n",
       "      <td>0.5</td>\n",
       "    </tr>\n",
       "    <tr>\n",
       "      <th>4</th>\n",
       "      <td>pr_hist</td>\n",
       "      <td>2020</td>\n",
       "      <td>Q1</td>\n",
       "      <td>1473</td>\n",
       "      <td>42.55072</td>\n",
       "      <td>-71.90098</td>\n",
       "      <td>5</td>\n",
       "      <td>0.5</td>\n",
       "    </tr>\n",
       "  </tbody>\n",
       "</table>\n",
       "</div>"
      ],
      "text/plain": [
       "  variable  year quarter  zipcode  latitude  longitude  extreme  extremesNormd\n",
       "0  pr_hist  2020      Q1     1226  42.47064  -73.17891        8            3.5\n",
       "1  pr_hist  2020      Q1     1434  42.53712  -71.62612        5            0.5\n",
       "2  pr_hist  2020      Q1     1434  42.53716  -71.62616        5            0.5\n",
       "3  pr_hist  2020      Q1     1460  42.51834  -71.51949        5            0.5\n",
       "4  pr_hist  2020      Q1     1473  42.55072  -71.90098        5            0.5"
      ]
     },
     "execution_count": 12,
     "metadata": {},
     "output_type": "execute_result"
    }
   ],
   "source": [
    "quarterlyExtremes.head()"
   ]
  },
  {
   "cell_type": "code",
   "execution_count": 13,
   "metadata": {},
   "outputs": [],
   "source": [
    "quarterlyExtremesMean = quarterlyExtremes[['variable','quarter','zipcode','latitude','longitude','extreme']].\\\n",
    "    groupby(['variable','quarter','zipcode','latitude','longitude']).mean().reset_index()"
   ]
  },
  {
   "cell_type": "code",
   "execution_count": 14,
   "metadata": {},
   "outputs": [],
   "source": [
    "quarterlyExtremesMean.to_csv(\"../../data/companyData/quarterlyExtremesMean.csv\")\n"
   ]
  },
  {
   "cell_type": "code",
   "execution_count": 3,
   "metadata": {},
   "outputs": [],
   "source": [
    "quarterlyExtremesMean = pd.read_csv(\"../../data/companyData/quarterlyExtremesMean.csv\").drop(columns = {'Unnamed: 0'})"
   ]
  },
  {
   "cell_type": "code",
   "execution_count": 5,
   "metadata": {},
   "outputs": [
    {
     "data": {
      "text/html": [
       "<div>\n",
       "<style scoped>\n",
       "    .dataframe tbody tr th:only-of-type {\n",
       "        vertical-align: middle;\n",
       "    }\n",
       "\n",
       "    .dataframe tbody tr th {\n",
       "        vertical-align: top;\n",
       "    }\n",
       "\n",
       "    .dataframe thead th {\n",
       "        text-align: right;\n",
       "    }\n",
       "</style>\n",
       "<table border=\"1\" class=\"dataframe\">\n",
       "  <thead>\n",
       "    <tr style=\"text-align: right;\">\n",
       "      <th></th>\n",
       "      <th>variable</th>\n",
       "      <th>quarter</th>\n",
       "      <th>zipcode</th>\n",
       "      <th>latitude</th>\n",
       "      <th>longitude</th>\n",
       "      <th>extreme</th>\n",
       "    </tr>\n",
       "  </thead>\n",
       "  <tbody>\n",
       "    <tr>\n",
       "      <th>0</th>\n",
       "      <td>pr_hist</td>\n",
       "      <td>Q1</td>\n",
       "      <td>1226</td>\n",
       "      <td>42.47064</td>\n",
       "      <td>-73.17891</td>\n",
       "      <td>5.428571</td>\n",
       "    </tr>\n",
       "    <tr>\n",
       "      <th>1</th>\n",
       "      <td>pr_hist</td>\n",
       "      <td>Q1</td>\n",
       "      <td>1434</td>\n",
       "      <td>42.53712</td>\n",
       "      <td>-71.62612</td>\n",
       "      <td>5.476190</td>\n",
       "    </tr>\n",
       "    <tr>\n",
       "      <th>2</th>\n",
       "      <td>pr_hist</td>\n",
       "      <td>Q1</td>\n",
       "      <td>1434</td>\n",
       "      <td>42.53716</td>\n",
       "      <td>-71.62616</td>\n",
       "      <td>5.476190</td>\n",
       "    </tr>\n",
       "    <tr>\n",
       "      <th>3</th>\n",
       "      <td>pr_hist</td>\n",
       "      <td>Q1</td>\n",
       "      <td>1460</td>\n",
       "      <td>42.51834</td>\n",
       "      <td>-71.51949</td>\n",
       "      <td>5.476190</td>\n",
       "    </tr>\n",
       "    <tr>\n",
       "      <th>4</th>\n",
       "      <td>pr_hist</td>\n",
       "      <td>Q1</td>\n",
       "      <td>1473</td>\n",
       "      <td>42.55072</td>\n",
       "      <td>-71.90098</td>\n",
       "      <td>5.476190</td>\n",
       "    </tr>\n",
       "  </tbody>\n",
       "</table>\n",
       "</div>"
      ],
      "text/plain": [
       "  variable quarter  zipcode  latitude  longitude   extreme\n",
       "0  pr_hist      Q1     1226  42.47064  -73.17891  5.428571\n",
       "1  pr_hist      Q1     1434  42.53712  -71.62612  5.476190\n",
       "2  pr_hist      Q1     1434  42.53716  -71.62616  5.476190\n",
       "3  pr_hist      Q1     1460  42.51834  -71.51949  5.476190\n",
       "4  pr_hist      Q1     1473  42.55072  -71.90098  5.476190"
      ]
     },
     "execution_count": 5,
     "metadata": {},
     "output_type": "execute_result"
    }
   ],
   "source": [
    "quarterlyExtremesMean.head()"
   ]
  },
  {
   "cell_type": "code",
   "execution_count": 46,
   "metadata": {},
   "outputs": [],
   "source": [
    "# we might have multiple records from within the same zipcode\n",
    "quarterlyExtremesMean = quarterlyExtremes[['variable','quarter','zipcode','extreme']].\\\n",
    "    groupby(['variable','quarter','zipcode']).mean().reset_index()\n",
    "\n",
    "# .groupby(['variable','quarter','zipcode']).mean().reset_index()\n"
   ]
  },
  {
   "cell_type": "code",
   "execution_count": 50,
   "metadata": {},
   "outputs": [
    {
     "data": {
      "text/plain": [
       "variable\n",
       "pr_hist        AxesSubplot(0.125,0.125;0.775x0.755)\n",
       "tasmax_hist    AxesSubplot(0.125,0.125;0.775x0.755)\n",
       "Name: extreme, dtype: object"
      ]
     },
     "execution_count": 50,
     "metadata": {},
     "output_type": "execute_result"
    },
    {
     "data": {
      "image/png": "[encoded data removed]",
      "text/plain": [
       "<Figure size 432x288 with 1 Axes>"
      ]
     },
     "metadata": {
      "needs_background": "light"
     },
     "output_type": "display_data"
    }
   ],
   "source": [
    "quarterlyExtremesMean.groupby('variable').extreme.hist(bins = 100)"
   ]
  },
  {
   "cell_type": "code",
   "execution_count": 54,
   "metadata": {},
   "outputs": [
    {
     "data": {
      "text/plain": [
       "<matplotlib.axes._subplots.AxesSubplot at 0x7f8fcdf67dd0>"
      ]
     },
     "execution_count": 54,
     "metadata": {},
     "output_type": "execute_result"
    },
    {
     "data": {
      "image/png": "[encoded data removed]",
      "text/plain": [
       "<Figure size 432x288 with 1 Axes>"
      ]
     },
     "metadata": {
      "needs_background": "light"
     },
     "output_type": "display_data"
    }
   ],
   "source": [
    "(quarterlyExtremesMean[quarterlyExtremesMean.variable == 'tasmax_hist'].extreme - 4.5).hist(bins = 100)"
   ]
  },
  {
   "cell_type": "code",
   "execution_count": 53,
   "metadata": {},
   "outputs": [
    {
     "data": {
      "text/plain": [
       "<matplotlib.axes._subplots.AxesSubplot at 0x7f8fcda1f850>"
      ]
     },
     "execution_count": 53,
     "metadata": {},
     "output_type": "execute_result"
    },
    {
     "data": {
      "image/png": "[encoded data removed]",
      "text/plain": [
       "<Figure size 432x288 with 1 Axes>"
      ]
     },
     "metadata": {
      "needs_background": "light"
     },
     "output_type": "display_data"
    }
   ],
   "source": [
    "(quarterlyExtremesMean[quarterlyExtremesMean.variable == 'pr_hist'].extreme - 4.5).hist(bins = 100)"
   ]
  },
  {
   "cell_type": "code",
   "execution_count": 57,
   "metadata": {},
   "outputs": [
    {
     "data": {
      "text/plain": [
       "0.5886075949367089"
      ]
     },
     "execution_count": 57,
     "metadata": {},
     "output_type": "execute_result"
    }
   ],
   "source": [
    "sum(quarterlyExtremesMean[quarterlyExtremesMean.variable == 'pr_hist'].extreme > 4.5)/quarterlyExtremesMean[quarterlyExtremesMean.variable == 'pr_hist'].shape[0]"
   ]
  },
  {
   "cell_type": "code",
   "execution_count": 58,
   "metadata": {},
   "outputs": [
    {
     "data": {
      "text/plain": [
       "0.9983591186122832"
      ]
     },
     "execution_count": 58,
     "metadata": {},
     "output_type": "execute_result"
    }
   ],
   "source": [
    "sum(quarterlyExtremesMean[quarterlyExtremesMean.variable == 'tasmax_hist'].\\\n",
    "    extreme > 4.5)/quarterlyExtremesMean[quarterlyExtremesMean.variable == 'tasmax_hist'].shape[0]"
   ]
  },
  {
   "cell_type": "code",
   "execution_count": null,
   "metadata": {},
   "outputs": [],
   "source": []
  }
 ],
 "metadata": {
  "kernelspec": {
   "display_name": "Python 3",
   "language": "python",
   "name": "python3"
  },
  "language_info": {
   "codemirror_mode": {
    "name": "ipython",
    "version": 3
   },
   "file_extension": ".py",
   "mimetype": "text/x-python",
   "name": "python",
   "nbconvert_exporter": "python",
   "pygments_lexer": "ipython3",
   "version": "3.7.4"
  }
 },
 "nbformat": 4,
 "nbformat_minor": 2
}
