{
 "cells": [
  {
   "cell_type": "markdown",
   "metadata": {},
   "source": [
    "# Initial Set-Up"
   ]
  },
  {
   "cell_type": "code",
   "execution_count": 1,
   "metadata": {},
   "outputs": [
    {
     "name": "stderr",
     "output_type": "stream",
     "text": [
      "/Users/brianreed/opt/anaconda3/lib/python3.7/site-packages/dask/dataframe/utils.py:14: FutureWarning: pandas.util.testing is deprecated. Use the functions in the public API at pandas.testing instead.\n",
      "  import pandas.util.testing as tm\n"
     ]
    }
   ],
   "source": [
    "import pickle as pkl\n",
    "import pandas as pd\n",
    "import matplotlib\n",
    "import os\n",
    "import re\n",
    "\n",
    "import collections\n",
    "import datetime\n",
    "import time\n",
    "\n",
    "# import geopandas as gpd\n",
    "\n",
    "import numpy as np\n",
    "\n",
    "import rasterio\n",
    "\n",
    "from difflib import get_close_matches\n",
    "\n",
    "from fuzzywuzzy import process\n",
    "from fuzzywuzzy import fuzz\n",
    "\n",
    "import pandas as pd\n",
    "import networkx as nx\n",
    "import matplotlib.pyplot as plt\n",
    "# from mpl_toolkits.basemap import Basemap\n",
    "\n",
    "\n",
    "import seaborn as sns\n",
    "\n",
    "import numpy as np\n",
    "\n",
    "import scipy\n",
    "\n",
    "from matplotlib.colors import LogNorm\n",
    "\n",
    "from sklearn import preprocessing\n",
    "\n",
    "import dask.dataframe as dd\n",
    "\n",
    "import xclim\n"
   ]
  },
  {
   "cell_type": "code",
   "execution_count": 2,
   "metadata": {},
   "outputs": [],
   "source": [
    "hq = pd.read_csv(\"../../data/companyData/justHQs.csv\") \n",
    "\n",
    "\n",
    "min_lat = hq.latitude.min()\n",
    "max_lat = hq.latitude.max()\n",
    "\n",
    "min_lon = hq.longitude.min()\n",
    "max_lon = hq.longitude.max()"
   ]
  },
  {
   "cell_type": "code",
   "execution_count": 3,
   "metadata": {},
   "outputs": [
    {
     "data": {
      "text/plain": [
       "\"baselineName = '../../../../../../../Volumes/backup2/dissData/cmip6Data/hist/mirocHQs_198199.csv'\\nbaseline = pd.read_csv(baselineName)\""
      ]
     },
     "execution_count": 3,
     "metadata": {},
     "output_type": "execute_result"
    }
   ],
   "source": [
    "'''baselineName = '../../../../../../../Volumes/backup2/dissData/cmip6Data/hist/mirocHQs_198199.csv'\n",
    "baseline = pd.read_csv(baselineName)'''"
   ]
  },
  {
   "cell_type": "markdown",
   "metadata": {},
   "source": [
    "# Weather Data\n",
    "## *this is how we process the cmip6Data\n"
   ]
  },
  {
   "cell_type": "code",
   "execution_count": 4,
   "metadata": {},
   "outputs": [],
   "source": [
    "import netCDF4 as nc\n",
    "import xarray as xr"
   ]
  },
  {
   "cell_type": "code",
   "execution_count": 5,
   "metadata": {},
   "outputs": [],
   "source": [
    "# https://kpegion.github.io/Pangeo-at-AOES/examples/advanced-analysis.html"
   ]
  },
  {
   "cell_type": "code",
   "execution_count": 6,
   "metadata": {},
   "outputs": [],
   "source": [
    "def getAllData(weather,scenario):\n",
    "\n",
    "    start = time.time()\n",
    "\n",
    "    # weather = 'pr'\n",
    "    file01 = '../../../../../../../Volumes/backup2/dissData/cmip6Data/hist/' + weather + '/' + weather + '_day_MIROC6_historical_r*9i1p1f1_gn_19800101-19891231.nc'\n",
    "    file02 = '../../../../../../../Volumes/backup2/dissData/cmip6Data/hist/' + weather + '/' + weather + '_day_MIROC6_historical_r*9i1p1f1_gn_19900101-19991231.nc'\n",
    "    file03 = '../../../../../../../Volumes/backup2/dissData/cmip6Data/hist/' + weather + '/' + weather + '_day_MIROC6_historical_r*9i1p1f1_gn_20000101-20091231.nc'\n",
    "    file04 = '../../../../../../../Volumes/backup2/dissData/cmip6Data/hist/' + weather + '/' + weather + '_day_MIROC6_historical_r*9i1p1f1_gn_20100101-20141231.nc'\n",
    "\n",
    "    data01 = xr.open_mfdataset(file01,concat_dim=['ensemble'],combine='nested',decode_times=True)\n",
    "    data02 = xr.open_mfdataset(file02,concat_dim=['ensemble'],combine='nested',decode_times=True)\n",
    "    data03 = xr.open_mfdataset(file03,concat_dim=['ensemble'],combine='nested',decode_times=True)\n",
    "    data04 = xr.open_mfdataset(file04,concat_dim=['ensemble'],combine='nested',decode_times=True)\n",
    "\n",
    "\n",
    "    file1 = '../../../../../../../Volumes/backup2/dissData/cmip6Data/proj/' + weather + '/' + weather + '_day_MIROC6_' + scenario + '_r*9i1p1f1_gn_20150101-20241231.nc'\n",
    "    file2 = '../../../../../../../Volumes/backup2/dissData/cmip6Data/proj/' + weather + '/' + weather + '_day_MIROC6_' + scenario + '_r*9i1p1f1_gn_20250101-20341231.nc'\n",
    "    file3 = '../../../../../../../Volumes/backup2/dissData/cmip6Data/proj/' + weather + '/' + weather + '_day_MIROC6_' + scenario + '_r*9i1p1f1_gn_20350101-20441231.nc'\n",
    "\n",
    "    data1 = xr.open_mfdataset(file1,concat_dim=['ensemble'],combine='nested',decode_times=True)\n",
    "    data2 = xr.open_mfdataset(file2,concat_dim=['ensemble'],combine='nested',decode_times=True)\n",
    "    data3 = xr.open_mfdataset(file3,concat_dim=['ensemble'],combine='nested',decode_times=True)\n",
    "\n",
    "    data = xr.combine_by_coords([data1,data2,data3,data01,data02,data03,data04])\n",
    "\n",
    "    data.coords['lon'] = (data.coords['lon'] + 180) % 360 - 180\n",
    "    data = data.sortby(data.lon)\n",
    "\n",
    "    data = data.sel(lat=slice(min_lat,max_lat), \n",
    "                    lon=slice(min_lon,max_lon),\n",
    "                   time=slice('1981-01-01','2039-12-31'))\n",
    "\n",
    "    data['time'] = pd.to_datetime(data.time.values.astype(str))\n",
    "    \n",
    "    print(\"starting to load\")\n",
    "    start = time.time()\n",
    "    # data = data.compute(workers = 100)\n",
    "\n",
    "    time.time() - start\n",
    "\n",
    "    # , ,combine = 'by_coords')   #  nc.Dataset(file)\n",
    "\n",
    "    print(\"ending the load: \", time.time() - start)\n",
    "\n",
    "    return(data)"
   ]
  },
  {
   "cell_type": "code",
   "execution_count": 7,
   "metadata": {},
   "outputs": [],
   "source": [
    "def getFutureData(weather,scenario):\n",
    "\n",
    "    start = time.time()\n",
    "\n",
    "    # weather = 'pr'\n",
    "\n",
    "\n",
    "    file1 = '../../../../../../../Volumes/backup2/dissData/cmip6Data/proj/' + weather + '/' + weather + '_day_MIROC6_' + scenario + '_r*9i1p1f1_gn_20150101-20241231.nc'\n",
    "    file2 = '../../../../../../../Volumes/backup2/dissData/cmip6Data/proj/' + weather + '/' + weather + '_day_MIROC6_' + scenario + '_r*9i1p1f1_gn_20250101-20341231.nc'\n",
    "    file3 = '../../../../../../../Volumes/backup2/dissData/cmip6Data/proj/' + weather + '/' + weather + '_day_MIROC6_' + scenario + '_r*9i1p1f1_gn_20350101-20441231.nc'\n",
    "\n",
    "    data1 = xr.open_mfdataset(file1,concat_dim=['ensemble'],combine='nested',decode_times=True)\n",
    "    data2 = xr.open_mfdataset(file2,concat_dim=['ensemble'],combine='nested',decode_times=True)\n",
    "    data3 = xr.open_mfdataset(file3,concat_dim=['ensemble'],combine='nested',decode_times=True)\n",
    "\n",
    "    data = xr.combine_by_coords([data1,data2,data3])\n",
    "\n",
    "    data.coords['lon'] = (data.coords['lon'] + 180) % 360 - 180\n",
    "    data = data.sortby(data.lon)\n",
    "\n",
    "    data = data.sel(lat=slice(min_lat,max_lat), \n",
    "                    lon=slice(min_lon,max_lon),\n",
    "                   time=slice('2019-01-01','2039-12-31'))\n",
    "\n",
    "    data['time'] = pd.to_datetime(data.time.values.astype(str))\n",
    "    \n",
    "    print(\"starting to load\")\n",
    "    start = time.time()\n",
    "    # data = data.compute(workers = 100)\n",
    "\n",
    "    time.time() - start\n",
    "\n",
    "    # , ,combine = 'by_coords')   #  nc.Dataset(file)\n",
    "\n",
    "    print(\"ending the load: \", time.time() - start)\n",
    "\n",
    "    return(data)"
   ]
  },
  {
   "cell_type": "code",
   "execution_count": 8,
   "metadata": {},
   "outputs": [],
   "source": [
    "def getHistData(weather):\n",
    "\n",
    "    start = time.time()\n",
    "\n",
    "    # weather = 'pr'\n",
    "\n",
    "\n",
    "    file1 = '../../../../../../../Volumes/backup2/dissData/cmip6Data/hist/' + weather + '/' + weather + '_day_MIROC6_historical_r*9i1p1f1_gn_19800101-19891231.nc'\n",
    "    file2 = '../../../../../../../Volumes/backup2/dissData/cmip6Data/hist/' + weather + '/' + weather + '_day_MIROC6_historical_r*9i1p1f1_gn_19900101-19991231.nc'\n",
    "\n",
    "\n",
    "    data1 = xr.open_mfdataset(file1,concat_dim=['ensemble'],combine='nested',decode_times=True)\n",
    "    data2 = xr.open_mfdataset(file2,concat_dim=['ensemble'],combine='nested',decode_times=True)\n",
    "\n",
    "    data = xr.combine_by_coords([data1,data2])\n",
    "\n",
    "    data.coords['lon'] = (data.coords['lon'] + 180) % 360 - 180\n",
    "    data = data.sortby(data.lon)\n",
    "\n",
    "    data = data.sel(lat=slice(min_lat,max_lat), \n",
    "                    lon=slice(min_lon,max_lon),\n",
    "                   time=slice('1981-01-01','1999-12-31'))\n",
    "\n",
    "    data['time'] = pd.to_datetime(data.time.values.astype(str))\n",
    "    \n",
    "    print(\"starting to load\")\n",
    "    start = time.time()\n",
    "    data = data.compute(workers = 100)\n",
    "\n",
    "    time.time() - start\n",
    "\n",
    "    # , ,combine = 'by_coords')   #  nc.Dataset(file)\n",
    "\n",
    "    print(\"ending the load: \", time.time() - start)\n",
    "\n",
    "    return(data)"
   ]
  },
  {
   "cell_type": "code",
   "execution_count": 9,
   "metadata": {},
   "outputs": [
    {
     "data": {
      "text/plain": [
       "'from xclim import ensembles\\nimport glob\\n\\nimport xarray as xr\\n\\nimport xclim as xc\\nens = ensembles.create_ensemble(glob.glob(file)).load()'"
      ]
     },
     "execution_count": 9,
     "metadata": {},
     "output_type": "execute_result"
    }
   ],
   "source": [
    "# this now for some reason seems to work\n",
    "'''from xclim import ensembles\n",
    "import glob\n",
    "\n",
    "import xarray as xr\n",
    "\n",
    "import xclim as xc\n",
    "ens = ensembles.create_ensemble(glob.glob(file)).load()'''"
   ]
  },
  {
   "cell_type": "markdown",
   "metadata": {},
   "source": [
    "# Summaries\n",
    "Summarize some of the data here.\n",
    "\n",
    "### average weather by coords across ensemble and across time"
   ]
  },
  {
   "cell_type": "code",
   "execution_count": 12,
   "metadata": {},
   "outputs": [
    {
     "name": "stdout",
     "output_type": "stream",
     "text": [
      "starting to load\n",
      "ending the load:  2.86102294921875e-06\n"
     ]
    }
   ],
   "source": [
    "tasmaxAll = getAllData('tasmax','ssp585')\n",
    "tasmaxAll['tasmax'] = 1.8*(tasmaxAll.tasmax - 273) + 32\n",
    "\n",
    "prAll     = getAllData('pr','ssp585')"
   ]
  },
  {
   "cell_type": "code",
   "execution_count": 34,
   "metadata": {},
   "outputs": [
    {
     "name": "stdout",
     "output_type": "stream",
     "text": [
      "39.62301182746887\n",
      "77.33015394210815\n"
     ]
    }
   ],
   "source": [
    "start       = time.time()\n",
    "\n",
    "overallTemp     = tasmaxAll.mean(dim = ['ensemble','lat','lon'])\n",
    "overallMeanTemp = pd.Series(overallTemp.tasmax.values)\n",
    "print(time.time() - start)\n",
    "\n",
    "\n",
    "# find the standard deviation across all ensembles\n",
    "overallStdTemp  = tasmaxAll.std(dim = ['ensemble','lat','lon'])\n",
    "overallStdTemp  = pd.Series(tasmaxAll.mean(dim = ['lat',\n",
    "                    'lon']).std(dim = ['ensemble']).tasmax.values)\n",
    "print(time.time() - start)"
   ]
  },
  {
   "cell_type": "code",
   "execution_count": 52,
   "metadata": {},
   "outputs": [],
   "source": [
    "rollingMean  = overallMeanTemp.rolling(365).mean()\n",
    "rollingUpper = overallMeanTemp.rolling(365).mean() + 1.96*overallStdTemp.rolling(365).mean()\n",
    "rollingLower = overallMeanTemp.rolling(365).mean() - 1.96*overallStdTemp.rolling(365).mean()"
   ]
  },
  {
   "cell_type": "code",
   "execution_count": 55,
   "metadata": {},
   "outputs": [
    {
     "data": {
      "text/plain": [
       "array(['1981-01-01T12:00:00.000000000', '1981-01-02T12:00:00.000000000',\n",
       "       '1981-01-03T12:00:00.000000000', ...,\n",
       "       '2039-12-29T12:00:00.000000000', '2039-12-30T12:00:00.000000000',\n",
       "       '2039-12-31T12:00:00.000000000'], dtype='datetime64[ns]')"
      ]
     },
     "execution_count": 55,
     "metadata": {},
     "output_type": "execute_result"
    }
   ],
   "source": []
  },
  {
   "cell_type": "code",
   "execution_count": 81,
   "metadata": {},
   "outputs": [
    {
     "data": {
      "text/plain": [
       "Text(0.5, 1.0, 'Temperature Mean Trend')"
      ]
     },
     "execution_count": 81,
     "metadata": {},
     "output_type": "execute_result"
    },
    {
     "data": {
      "image/png": "[encoded data removed]",
      "text/plain": [
       "<Figure size 1728x1152 with 1 Axes>"
      ]
     },
     "metadata": {
      "needs_background": "light"
     },
     "output_type": "display_data"
    }
   ],
   "source": [
    "plt.figure(figsize = (24, 16))\n",
    "\n",
    "\n",
    "time = tasmaxAll.time.values\n",
    "\n",
    "plt.plot(time,rollingMean,linewidth = 2.5)\n",
    "plt.plot(time,rollingUpper, color = 'lightgrey', linestyle = 'dotted')\n",
    "plt.plot(time,rollingLower, color = 'lightgrey', linestyle = 'dotted')\n",
    "plt.fill_between(time, rollingLower, rollingUpper, color='grey', alpha=.2)\n",
    "\n",
    "plt.xlabel('Year', fontsize = 24)\n",
    "plt.ylabel('US Avg. Temperature', fontsize = 24)\n",
    "plt.rcParams['font.size'] = 18\n",
    "\n",
    "\n",
    "plt.title(\"Temperature Mean Trend\", \n",
    "          fontsize = 36)"
   ]
  },
  {
   "cell_type": "code",
   "execution_count": 15,
   "metadata": {},
   "outputs": [],
   "source": [
    "outfile =  '../../data/companyData/miroc_historicalMean.pkl'\n",
    "with open(outfile, 'wb') as pickle_file:\n",
    "    pkl.dump(overallMean, pickle_file)\n",
    "    \n",
    "outfile =  '../../data/companyData/miroc_historicalStdDev.pkl'\n",
    "with open(outfile, 'wb') as pickle_file:\n",
    "    pkl.dump(overallStd, pickle_file)"
   ]
  },
  {
   "cell_type": "code",
   "execution_count": null,
   "metadata": {},
   "outputs": [],
   "source": [
    "'''start       = time.time()\n",
    "\n",
    "\n",
    "byCoord = data.mean(dim = ['ensemble','time'])\n",
    "ensembleMeanByCoord = byCoord.pr.values\n",
    "\n",
    "time.time() - start'''"
   ]
  },
  {
   "cell_type": "markdown",
   "metadata": {},
   "source": [
    "## 95th percentile by ensemble\n",
    "find percentile by quarter"
   ]
  },
  {
   "cell_type": "code",
   "execution_count": 10,
   "metadata": {},
   "outputs": [
    {
     "name": "stdout",
     "output_type": "stream",
     "text": [
      "starting to load\n",
      "ending the load:  51.675349950790405\n",
      "starting to load\n",
      "ending the load:  69.28695702552795\n"
     ]
    }
   ],
   "source": [
    "tasmaxHist = getHistData('tasmax')\n",
    "prHist = getHistData('pr')"
   ]
  },
  {
   "cell_type": "markdown",
   "metadata": {},
   "source": [
    "### precipitation first\n",
    "historical precipitation - 95th percentile"
   ]
  },
  {
   "cell_type": "code",
   "execution_count": 16,
   "metadata": {},
   "outputs": [
    {
     "data": {
      "text/plain": [
       "2.175743341445923"
      ]
     },
     "execution_count": 16,
     "metadata": {},
     "output_type": "execute_result"
    }
   ],
   "source": [
    "start                         = time.time()\n",
    "pr95s = prHist.pr.groupby(prHist.time.dt.quarter).quantile(0.95, dim = ('time'))\n",
    "time.time() - start"
   ]
  },
  {
   "cell_type": "markdown",
   "metadata": {},
   "source": [
    "and future. load it, subtract off 95th percentile each quarter, and count the number of instances > 95th percentile"
   ]
  },
  {
   "cell_type": "code",
   "execution_count": 17,
   "metadata": {},
   "outputs": [
    {
     "name": "stdout",
     "output_type": "stream",
     "text": [
      "starting to load\n",
      "ending the load:  1.1920928955078125e-06\n"
     ]
    }
   ],
   "source": [
    "prFuture = getFutureData('pr','ssp585')"
   ]
  },
  {
   "cell_type": "code",
   "execution_count": 98,
   "metadata": {},
   "outputs": [],
   "source": [
    "prExtremes_q1 = (1*(prFuture.where(prFuture.time.dt.quarter == 1, drop = True).pr - \n",
    "     pr95s.where(pr95s.quarter == 1, drop = True)) > 0)\n",
    "\n",
    "prQ1Avg = prExtremes_q1.groupby(prExtremes_q1.time.dt.year).\\\n",
    "    sum(dim = ['time','quarter']).mean(dim = ['year','ensemble']).compute(workers = 100)\n",
    "\n",
    "\n",
    "### q2 \n",
    "prExtremes_q2 = (1*(prFuture.where(prFuture.time.dt.quarter == 2, drop = True).pr - \n",
    "     pr95s.where(pr95s.quarter == 2, drop = True)) > 0)\n",
    "\n",
    "prQ2Avg = prExtremes_q2.groupby(prExtremes_q2.time.dt.year).\\\n",
    "    sum(dim = ['time','quarter']).mean(dim = ['year','ensemble']).compute(workers = 100)\n",
    "\n",
    "\n",
    "\n",
    "### q3 \n",
    "prExtremes_q3 = (1*(prFuture.where(prFuture.time.dt.quarter == 3, drop = True).pr - \n",
    "     pr95s.where(pr95s.quarter == 3, drop = True)) > 0)\n",
    "\n",
    "prQ3Avg = prExtremes_q3.groupby(prExtremes_q3.time.dt.year).\\\n",
    "    sum(dim = ['time','quarter']).mean(dim = ['year','ensemble']).compute(workers = 100)\n",
    "\n",
    "\n",
    "\n",
    "### q4\n",
    "prExtremes_q4 = (1*(prFuture.where(prFuture.time.dt.quarter == 4, drop = True).pr - \n",
    "     pr95s.where(pr95s.quarter == 4, drop = True)) > 0)\n",
    "\n",
    "prQ4Avg = prExtremes_q4.groupby(prExtremes_q4.time.dt.year).\\\n",
    "    sum(dim = ['time','quarter']).mean(dim = ['year','ensemble']).compute(workers = 100)\n"
   ]
  },
  {
   "cell_type": "markdown",
   "metadata": {},
   "source": [
    "### temperature next"
   ]
  },
  {
   "cell_type": "code",
   "execution_count": 171,
   "metadata": {},
   "outputs": [
    {
     "data": {
      "text/plain": [
       "<xarray.DataArray 'extreme' (ensemble: 5, time: 6939, lat: 25, lon: 64)>\n",
       "array([[[[0, 0, 0, ..., 0, 0, 0],\n",
       "         [0, 0, 0, ..., 0, 0, 0],\n",
       "         [0, 0, 0, ..., 0, 0, 0],\n",
       "         ...,\n",
       "         [0, 0, 0, ..., 0, 0, 0],\n",
       "         [0, 0, 0, ..., 0, 0, 0],\n",
       "         [0, 0, 0, ..., 0, 0, 0]],\n",
       "\n",
       "        [[0, 0, 0, ..., 0, 0, 0],\n",
       "         [0, 0, 0, ..., 0, 0, 0],\n",
       "         [0, 0, 0, ..., 0, 0, 0],\n",
       "         ...,\n",
       "         [0, 0, 0, ..., 0, 0, 0],\n",
       "         [0, 0, 0, ..., 0, 0, 0],\n",
       "         [0, 0, 0, ..., 0, 0, 0]],\n",
       "\n",
       "        [[0, 0, 0, ..., 0, 0, 0],\n",
       "         [0, 0, 0, ..., 0, 0, 0],\n",
       "         [0, 0, 0, ..., 0, 0, 0],\n",
       "         ...,\n",
       "         [0, 0, 0, ..., 0, 0, 0],\n",
       "         [0, 0, 0, ..., 0, 0, 0],\n",
       "         [0, 0, 0, ..., 0, 0, 0]],\n",
       "\n",
       "        ...,\n",
       "\n",
       "        [[0, 0, 0, ..., 0, 0, 0],\n",
       "         [0, 0, 0, ..., 0, 0, 0],\n",
       "         [0, 0, 0, ..., 0, 0, 0],\n",
       "         ...,\n",
       "         [0, 0, 0, ..., 0, 0, 0],\n",
       "         [0, 0, 0, ..., 0, 0, 0],\n",
       "         [0, 0, 0, ..., 0, 0, 0]],\n",
       "\n",
       "        [[0, 0, 0, ..., 0, 0, 0],\n",
       "         [0, 0, 0, ..., 0, 0, 0],\n",
       "         [0, 0, 0, ..., 0, 0, 0],\n",
       "         ...,\n",
       "         [0, 0, 0, ..., 0, 0, 0],\n",
       "         [0, 0, 0, ..., 0, 0, 0],\n",
       "         [0, 0, 0, ..., 0, 0, 0]],\n",
       "\n",
       "        [[0, 0, 0, ..., 0, 0, 0],\n",
       "         [0, 0, 0, ..., 0, 0, 0],\n",
       "         [0, 0, 0, ..., 0, 0, 0],\n",
       "         ...,\n",
       "         [0, 0, 0, ..., 0, 0, 0],\n",
       "         [0, 0, 0, ..., 0, 0, 0],\n",
       "         [0, 0, 0, ..., 0, 0, 0]]],\n",
       "\n",
       "\n",
       "       [[[0, 0, 0, ..., 0, 0, 0],\n",
       "         [0, 0, 0, ..., 0, 0, 0],\n",
       "         [0, 0, 0, ..., 0, 0, 0],\n",
       "         ...,\n",
       "         [0, 0, 0, ..., 0, 0, 0],\n",
       "         [0, 0, 0, ..., 0, 0, 0],\n",
       "         [0, 0, 0, ..., 0, 0, 0]],\n",
       "\n",
       "        [[0, 0, 0, ..., 0, 0, 0],\n",
       "         [0, 0, 0, ..., 0, 0, 0],\n",
       "         [0, 0, 0, ..., 0, 0, 0],\n",
       "         ...,\n",
       "         [0, 0, 0, ..., 0, 0, 0],\n",
       "         [0, 0, 0, ..., 0, 0, 0],\n",
       "         [0, 0, 0, ..., 0, 0, 0]],\n",
       "\n",
       "        [[0, 0, 0, ..., 0, 0, 0],\n",
       "         [0, 0, 0, ..., 0, 0, 0],\n",
       "         [0, 0, 0, ..., 0, 0, 0],\n",
       "         ...,\n",
       "         [0, 0, 0, ..., 0, 0, 0],\n",
       "         [0, 0, 0, ..., 0, 0, 0],\n",
       "         [0, 0, 0, ..., 0, 0, 0]],\n",
       "\n",
       "        ...,\n",
       "\n",
       "        [[0, 0, 0, ..., 0, 0, 0],\n",
       "         [0, 0, 0, ..., 0, 0, 0],\n",
       "         [0, 0, 0, ..., 0, 0, 0],\n",
       "         ...,\n",
       "         [0, 0, 0, ..., 0, 0, 0],\n",
       "         [0, 0, 0, ..., 0, 0, 0],\n",
       "         [0, 0, 0, ..., 0, 0, 0]],\n",
       "\n",
       "        [[0, 0, 0, ..., 0, 0, 0],\n",
       "         [0, 0, 0, ..., 0, 0, 0],\n",
       "         [0, 0, 0, ..., 0, 0, 0],\n",
       "         ...,\n",
       "         [0, 0, 0, ..., 0, 0, 0],\n",
       "         [0, 0, 0, ..., 0, 0, 0],\n",
       "         [0, 0, 0, ..., 0, 0, 0]],\n",
       "\n",
       "        [[0, 0, 0, ..., 0, 0, 0],\n",
       "         [0, 0, 0, ..., 0, 0, 0],\n",
       "         [0, 0, 0, ..., 0, 0, 0],\n",
       "         ...,\n",
       "         [0, 0, 0, ..., 0, 0, 0],\n",
       "         [0, 0, 0, ..., 0, 0, 0],\n",
       "         [0, 0, 0, ..., 0, 0, 0]]],\n",
       "\n",
       "\n",
       "       [[[0, 0, 0, ..., 0, 0, 0],\n",
       "         [0, 0, 0, ..., 0, 0, 0],\n",
       "         [0, 0, 0, ..., 0, 0, 0],\n",
       "         ...,\n",
       "         [0, 0, 0, ..., 0, 0, 0],\n",
       "         [0, 0, 0, ..., 0, 0, 0],\n",
       "         [0, 0, 0, ..., 0, 0, 0]],\n",
       "\n",
       "        [[0, 0, 0, ..., 0, 0, 0],\n",
       "         [0, 0, 0, ..., 0, 0, 0],\n",
       "         [0, 0, 0, ..., 0, 0, 0],\n",
       "         ...,\n",
       "         [0, 0, 0, ..., 0, 0, 0],\n",
       "         [0, 0, 0, ..., 0, 0, 0],\n",
       "         [0, 0, 0, ..., 0, 0, 0]],\n",
       "\n",
       "        [[0, 0, 0, ..., 0, 0, 0],\n",
       "         [0, 0, 0, ..., 0, 0, 0],\n",
       "         [0, 0, 0, ..., 0, 0, 0],\n",
       "         ...,\n",
       "         [0, 0, 0, ..., 0, 0, 0],\n",
       "         [0, 0, 0, ..., 0, 0, 0],\n",
       "         [0, 0, 0, ..., 0, 0, 0]],\n",
       "\n",
       "        ...,\n",
       "\n",
       "        [[0, 0, 0, ..., 0, 0, 0],\n",
       "         [0, 0, 0, ..., 0, 0, 0],\n",
       "         [0, 0, 0, ..., 0, 0, 0],\n",
       "         ...,\n",
       "         [0, 0, 0, ..., 0, 0, 0],\n",
       "         [0, 0, 0, ..., 0, 0, 0],\n",
       "         [0, 0, 0, ..., 0, 0, 0]],\n",
       "\n",
       "        [[0, 0, 0, ..., 0, 0, 0],\n",
       "         [0, 0, 0, ..., 0, 0, 0],\n",
       "         [0, 0, 0, ..., 0, 0, 0],\n",
       "         ...,\n",
       "         [0, 0, 0, ..., 0, 0, 0],\n",
       "         [0, 0, 0, ..., 0, 0, 0],\n",
       "         [0, 0, 0, ..., 0, 0, 0]],\n",
       "\n",
       "        [[0, 0, 0, ..., 0, 0, 0],\n",
       "         [0, 0, 0, ..., 0, 0, 0],\n",
       "         [0, 0, 0, ..., 0, 0, 0],\n",
       "         ...,\n",
       "         [0, 0, 0, ..., 0, 0, 0],\n",
       "         [0, 0, 0, ..., 0, 0, 0],\n",
       "         [0, 0, 0, ..., 0, 0, 0]]],\n",
       "\n",
       "\n",
       "       [[[0, 0, 0, ..., 0, 0, 0],\n",
       "         [0, 0, 0, ..., 0, 0, 0],\n",
       "         [0, 0, 0, ..., 0, 0, 0],\n",
       "         ...,\n",
       "         [0, 0, 0, ..., 0, 0, 0],\n",
       "         [0, 0, 0, ..., 0, 0, 0],\n",
       "         [0, 0, 0, ..., 0, 0, 0]],\n",
       "\n",
       "        [[0, 0, 0, ..., 0, 0, 0],\n",
       "         [0, 0, 0, ..., 0, 0, 0],\n",
       "         [0, 0, 0, ..., 0, 0, 0],\n",
       "         ...,\n",
       "         [0, 0, 0, ..., 0, 0, 0],\n",
       "         [0, 0, 0, ..., 0, 0, 0],\n",
       "         [0, 0, 0, ..., 0, 0, 0]],\n",
       "\n",
       "        [[0, 0, 0, ..., 0, 0, 0],\n",
       "         [0, 0, 0, ..., 0, 0, 0],\n",
       "         [0, 0, 0, ..., 0, 0, 0],\n",
       "         ...,\n",
       "         [0, 0, 0, ..., 0, 0, 0],\n",
       "         [0, 0, 0, ..., 0, 0, 0],\n",
       "         [0, 0, 0, ..., 0, 0, 0]],\n",
       "\n",
       "        ...,\n",
       "\n",
       "        [[0, 0, 0, ..., 0, 0, 0],\n",
       "         [0, 0, 0, ..., 0, 0, 0],\n",
       "         [0, 0, 0, ..., 0, 0, 0],\n",
       "         ...,\n",
       "         [0, 0, 0, ..., 0, 0, 0],\n",
       "         [0, 0, 0, ..., 0, 0, 0],\n",
       "         [0, 0, 0, ..., 0, 0, 0]],\n",
       "\n",
       "        [[0, 0, 0, ..., 0, 0, 0],\n",
       "         [0, 0, 0, ..., 0, 0, 0],\n",
       "         [0, 0, 0, ..., 0, 0, 0],\n",
       "         ...,\n",
       "         [0, 0, 0, ..., 0, 0, 0],\n",
       "         [0, 0, 0, ..., 0, 0, 0],\n",
       "         [0, 0, 0, ..., 0, 0, 0]],\n",
       "\n",
       "        [[0, 0, 0, ..., 0, 0, 0],\n",
       "         [0, 0, 0, ..., 0, 0, 0],\n",
       "         [0, 0, 0, ..., 0, 0, 0],\n",
       "         ...,\n",
       "         [0, 0, 0, ..., 0, 0, 0],\n",
       "         [0, 0, 0, ..., 0, 0, 0],\n",
       "         [0, 0, 0, ..., 0, 0, 0]]],\n",
       "\n",
       "\n",
       "       [[[0, 0, 0, ..., 0, 0, 0],\n",
       "         [0, 0, 0, ..., 0, 0, 0],\n",
       "         [0, 0, 0, ..., 0, 0, 0],\n",
       "         ...,\n",
       "         [0, 0, 0, ..., 0, 0, 0],\n",
       "         [0, 0, 0, ..., 0, 0, 0],\n",
       "         [0, 0, 0, ..., 0, 0, 0]],\n",
       "\n",
       "        [[0, 0, 0, ..., 0, 0, 0],\n",
       "         [0, 0, 0, ..., 0, 0, 0],\n",
       "         [0, 0, 0, ..., 0, 0, 0],\n",
       "         ...,\n",
       "         [0, 0, 0, ..., 0, 0, 0],\n",
       "         [0, 0, 0, ..., 0, 0, 0],\n",
       "         [0, 0, 0, ..., 0, 0, 0]],\n",
       "\n",
       "        [[0, 0, 0, ..., 0, 0, 0],\n",
       "         [0, 0, 0, ..., 0, 0, 0],\n",
       "         [0, 0, 0, ..., 0, 0, 0],\n",
       "         ...,\n",
       "         [0, 0, 0, ..., 0, 0, 0],\n",
       "         [0, 0, 0, ..., 0, 0, 0],\n",
       "         [0, 0, 0, ..., 0, 0, 0]],\n",
       "\n",
       "        ...,\n",
       "\n",
       "        [[0, 0, 0, ..., 0, 0, 0],\n",
       "         [0, 0, 0, ..., 0, 0, 0],\n",
       "         [0, 0, 0, ..., 0, 0, 0],\n",
       "         ...,\n",
       "         [0, 0, 0, ..., 0, 0, 0],\n",
       "         [0, 0, 0, ..., 0, 0, 0],\n",
       "         [0, 0, 0, ..., 0, 0, 0]],\n",
       "\n",
       "        [[0, 0, 0, ..., 0, 0, 0],\n",
       "         [0, 0, 0, ..., 0, 0, 0],\n",
       "         [0, 0, 0, ..., 0, 0, 0],\n",
       "         ...,\n",
       "         [0, 0, 0, ..., 0, 0, 0],\n",
       "         [0, 0, 0, ..., 0, 0, 0],\n",
       "         [0, 0, 0, ..., 0, 0, 0]],\n",
       "\n",
       "        [[0, 0, 0, ..., 0, 0, 0],\n",
       "         [0, 0, 0, ..., 0, 0, 0],\n",
       "         [0, 0, 0, ..., 0, 0, 0],\n",
       "         ...,\n",
       "         [0, 0, 0, ..., 0, 0, 0],\n",
       "         [0, 0, 0, ..., 0, 0, 0],\n",
       "         [0, 0, 0, ..., 0, 0, 0]]]])\n",
       "Coordinates:\n",
       "    height   float64 2.0\n",
       "  * lon      (lon) float64 -157.5 -156.1 -154.7 -153.3 ... -71.72 -70.31 -68.91\n",
       "  * lat      (lat) float64 21.71 23.11 24.51 25.91 ... 51.13 52.53 53.93 55.33\n",
       "  * time     (time) datetime64[ns] 1981-01-01T12:00:00 ... 1999-12-31T12:00:00\n",
       "Dimensions without coordinates: ensemble"
      ]
     },
     "execution_count": 171,
     "metadata": {},
     "output_type": "execute_result"
    }
   ],
   "source": [
    "tasmaxHist['tasmax_F'] = 1.8*(tasmaxHist['tasmax']-273) + 32\n",
    "tasmaxHist['extreme']  = 1*(tasmaxHist['tasmax_F'] > 90)\n",
    "tasmaxHist['extreme']"
   ]
  },
  {
   "cell_type": "code",
   "execution_count": 181,
   "metadata": {},
   "outputs": [],
   "source": [
    "tasmaxHist_q1 = tasmaxHist.where(tasmaxHist.time.dt.quarter == 1, drop = True).extreme\n",
    "tasmaxHist_q1_90s = tasmaxHist_q1.groupby(tasmaxHist_q1.time.dt.year).\\\n",
    "    sum(dim = ['time']).mean(dim = ['year','ensemble']).compute(workers = 100)\n",
    "\n",
    "tasmaxHist_q2 = tasmaxHist.where(tasmaxHist.time.dt.quarter == 2, drop = True).extreme\n",
    "tasmaxHist_q2_90s = tasmaxHist_q2.groupby(tasmaxHist_q2.time.dt.year).\\\n",
    "    sum(dim = ['time']).mean(dim = ['year','ensemble']).compute(workers = 100)\n",
    "\n",
    "tasmaxHist_q3 = tasmaxHist.where(tasmaxHist.time.dt.quarter == 3, drop = True).extreme\n",
    "tasmaxHist_q3_90s = tasmaxHist_q3.groupby(tasmaxHist_q3.time.dt.year).\\\n",
    "    sum(dim = ['time']).mean(dim = ['year','ensemble']).compute(workers = 100)\n",
    "\n",
    "tasmaxHist_q4 = tasmaxHist.where(tasmaxHist.time.dt.quarter == 4, drop = True).extreme\n",
    "tasmaxHist_q4_90s = tasmaxHist_q4.groupby(tasmaxHist_q4.time.dt.year).\\\n",
    "    sum(dim = ['time']).mean(dim = ['year','ensemble']).compute(workers = 100)\n"
   ]
  },
  {
   "cell_type": "code",
   "execution_count": 191,
   "metadata": {},
   "outputs": [
    {
     "name": "stdout",
     "output_type": "stream",
     "text": [
      "starting to load\n",
      "ending the load:  0.0\n"
     ]
    }
   ],
   "source": [
    "tasmaxFuture = getFutureData('tasmax','ssp585')\n",
    "tasmaxFuture['tasmax_F'] = 1.8*(tasmaxFuture['tasmax']-273) + 32\n",
    "tasmaxFuture['extreme']  = 1*(tasmaxFuture.tasmax_F > 90)\n",
    "\n",
    "\n",
    "tasmaxFuture_q1 = tasmaxFuture.where(tasmaxFuture.time.dt.quarter == 1, drop = True).extreme\n",
    "tasmaxFuture_q1_90s = tasmaxFuture_q1.groupby(tasmaxFuture_q1.time.dt.year).\\\n",
    "    sum(dim = ['time']).mean(dim = ['year','ensemble']).compute(workers = 100) - tasmaxHist_q1_90s\n",
    "print('q1 done')\n",
    "\n",
    "tasmaxFuture_q2 = tasmaxFuture.where(tasmaxFuture.time.dt.quarter == 2, drop = True).extreme\n",
    "tasmaxFuture_q2_90s = tasmaxFuture_q2.groupby(tasmaxFuture_q2.time.dt.year).\\\n",
    "    sum(dim = ['time']).mean(dim = ['year','ensemble']).compute(workers = 100) - tasmaxHist_q2_90s\n",
    "print('q2 done')\n",
    "\n",
    "tasmaxFuture_q3 = tasmaxFuture.where(tasmaxFuture.time.dt.quarter == 3, drop = True).extreme\n",
    "tasmaxFuture_q3_90s = tasmaxFuture_q3.groupby(tasmaxFuture_q3.time.dt.year).\\\n",
    "    sum(dim = ['time']).mean(dim = ['year','ensemble']).compute(workers = 100) - tasmaxHist_q3_90s\n",
    "print('q3 done')\n",
    "\n",
    "tasmaxFuture_q4 = tasmaxFuture.where(tasmaxFuture.time.dt.quarter == 4, drop = True).extreme\n",
    "tasmaxFuture_q4_90s = tasmaxFuture_q4.groupby(tasmaxFuture_q4.time.dt.year).\\\n",
    "    sum(dim = ['time']).mean(dim = ['year','ensemble']).compute(workers = 100) - - tasmaxHist_q4_90s\n",
    "print('q4 done')\n"
   ]
  },
  {
   "cell_type": "markdown",
   "metadata": {},
   "source": [
    "## Merge Everything In\n",
    "Currently we have the hqs in hqtest"
   ]
  },
  {
   "cell_type": "code",
   "execution_count": 140,
   "metadata": {},
   "outputs": [],
   "source": [
    "hqTest = hq.head()[['zipcode','latitude','longitude']].rename(columns = {'latitude': 'lat',\n",
    "                                                               'longitude': 'lon'})"
   ]
  },
  {
   "cell_type": "code",
   "execution_count": 196,
   "metadata": {},
   "outputs": [
    {
     "data": {
      "text/html": [
       "<div>\n",
       "<style scoped>\n",
       "    .dataframe tbody tr th:only-of-type {\n",
       "        vertical-align: middle;\n",
       "    }\n",
       "\n",
       "    .dataframe tbody tr th {\n",
       "        vertical-align: top;\n",
       "    }\n",
       "\n",
       "    .dataframe thead th {\n",
       "        text-align: right;\n",
       "    }\n",
       "</style>\n",
       "<table border=\"1\" class=\"dataframe\">\n",
       "  <thead>\n",
       "    <tr style=\"text-align: right;\">\n",
       "      <th></th>\n",
       "      <th>zipcode</th>\n",
       "      <th>lat</th>\n",
       "      <th>lon</th>\n",
       "      <th>variable</th>\n",
       "      <th>extremePred</th>\n",
       "      <th>quarter</th>\n",
       "    </tr>\n",
       "  </thead>\n",
       "  <tbody>\n",
       "    <tr>\n",
       "      <th>0</th>\n",
       "      <td>44146</td>\n",
       "      <td>41.41278</td>\n",
       "      <td>-81.50616</td>\n",
       "      <td>pr</td>\n",
       "      <td>5.104762</td>\n",
       "      <td>q1</td>\n",
       "    </tr>\n",
       "    <tr>\n",
       "      <th>1</th>\n",
       "      <td>85260</td>\n",
       "      <td>33.61963</td>\n",
       "      <td>-111.90171</td>\n",
       "      <td>pr</td>\n",
       "      <td>4.361905</td>\n",
       "      <td>q1</td>\n",
       "    </tr>\n",
       "    <tr>\n",
       "      <th>2</th>\n",
       "      <td>8876</td>\n",
       "      <td>40.59778</td>\n",
       "      <td>-74.69065</td>\n",
       "      <td>pr</td>\n",
       "      <td>4.933333</td>\n",
       "      <td>q1</td>\n",
       "    </tr>\n",
       "    <tr>\n",
       "      <th>3</th>\n",
       "      <td>60411</td>\n",
       "      <td>41.52176</td>\n",
       "      <td>-87.61784</td>\n",
       "      <td>pr</td>\n",
       "      <td>5.247619</td>\n",
       "      <td>q1</td>\n",
       "    </tr>\n",
       "    <tr>\n",
       "      <th>4</th>\n",
       "      <td>74102</td>\n",
       "      <td>36.15089</td>\n",
       "      <td>-95.99398</td>\n",
       "      <td>pr</td>\n",
       "      <td>4.752381</td>\n",
       "      <td>q1</td>\n",
       "    </tr>\n",
       "    <tr>\n",
       "      <th>5</th>\n",
       "      <td>44146</td>\n",
       "      <td>41.41278</td>\n",
       "      <td>-81.50616</td>\n",
       "      <td>pr</td>\n",
       "      <td>4.809524</td>\n",
       "      <td>q2</td>\n",
       "    </tr>\n",
       "    <tr>\n",
       "      <th>6</th>\n",
       "      <td>85260</td>\n",
       "      <td>33.61963</td>\n",
       "      <td>-111.90171</td>\n",
       "      <td>pr</td>\n",
       "      <td>3.828571</td>\n",
       "      <td>q2</td>\n",
       "    </tr>\n",
       "    <tr>\n",
       "      <th>7</th>\n",
       "      <td>8876</td>\n",
       "      <td>40.59778</td>\n",
       "      <td>-74.69065</td>\n",
       "      <td>pr</td>\n",
       "      <td>5.228571</td>\n",
       "      <td>q2</td>\n",
       "    </tr>\n",
       "    <tr>\n",
       "      <th>8</th>\n",
       "      <td>60411</td>\n",
       "      <td>41.52176</td>\n",
       "      <td>-87.61784</td>\n",
       "      <td>pr</td>\n",
       "      <td>4.552381</td>\n",
       "      <td>q2</td>\n",
       "    </tr>\n",
       "    <tr>\n",
       "      <th>9</th>\n",
       "      <td>74102</td>\n",
       "      <td>36.15089</td>\n",
       "      <td>-95.99398</td>\n",
       "      <td>pr</td>\n",
       "      <td>4.695238</td>\n",
       "      <td>q2</td>\n",
       "    </tr>\n",
       "    <tr>\n",
       "      <th>10</th>\n",
       "      <td>44146</td>\n",
       "      <td>41.41278</td>\n",
       "      <td>-81.50616</td>\n",
       "      <td>pr</td>\n",
       "      <td>5.152381</td>\n",
       "      <td>q3</td>\n",
       "    </tr>\n",
       "    <tr>\n",
       "      <th>11</th>\n",
       "      <td>85260</td>\n",
       "      <td>33.61963</td>\n",
       "      <td>-111.90171</td>\n",
       "      <td>pr</td>\n",
       "      <td>6.485714</td>\n",
       "      <td>q3</td>\n",
       "    </tr>\n",
       "    <tr>\n",
       "      <th>12</th>\n",
       "      <td>8876</td>\n",
       "      <td>40.59778</td>\n",
       "      <td>-74.69065</td>\n",
       "      <td>pr</td>\n",
       "      <td>5.609524</td>\n",
       "      <td>q3</td>\n",
       "    </tr>\n",
       "    <tr>\n",
       "      <th>13</th>\n",
       "      <td>60411</td>\n",
       "      <td>41.52176</td>\n",
       "      <td>-87.61784</td>\n",
       "      <td>pr</td>\n",
       "      <td>4.514286</td>\n",
       "      <td>q3</td>\n",
       "    </tr>\n",
       "    <tr>\n",
       "      <th>14</th>\n",
       "      <td>74102</td>\n",
       "      <td>36.15089</td>\n",
       "      <td>-95.99398</td>\n",
       "      <td>pr</td>\n",
       "      <td>4.638095</td>\n",
       "      <td>q3</td>\n",
       "    </tr>\n",
       "    <tr>\n",
       "      <th>15</th>\n",
       "      <td>44146</td>\n",
       "      <td>41.41278</td>\n",
       "      <td>-81.50616</td>\n",
       "      <td>pr</td>\n",
       "      <td>4.828571</td>\n",
       "      <td>q4</td>\n",
       "    </tr>\n",
       "    <tr>\n",
       "      <th>16</th>\n",
       "      <td>85260</td>\n",
       "      <td>33.61963</td>\n",
       "      <td>-111.90171</td>\n",
       "      <td>pr</td>\n",
       "      <td>4.190476</td>\n",
       "      <td>q4</td>\n",
       "    </tr>\n",
       "    <tr>\n",
       "      <th>17</th>\n",
       "      <td>8876</td>\n",
       "      <td>40.59778</td>\n",
       "      <td>-74.69065</td>\n",
       "      <td>pr</td>\n",
       "      <td>4.523810</td>\n",
       "      <td>q4</td>\n",
       "    </tr>\n",
       "    <tr>\n",
       "      <th>18</th>\n",
       "      <td>60411</td>\n",
       "      <td>41.52176</td>\n",
       "      <td>-87.61784</td>\n",
       "      <td>pr</td>\n",
       "      <td>4.819048</td>\n",
       "      <td>q4</td>\n",
       "    </tr>\n",
       "    <tr>\n",
       "      <th>19</th>\n",
       "      <td>74102</td>\n",
       "      <td>36.15089</td>\n",
       "      <td>-95.99398</td>\n",
       "      <td>pr</td>\n",
       "      <td>4.209524</td>\n",
       "      <td>q4</td>\n",
       "    </tr>\n",
       "    <tr>\n",
       "      <th>20</th>\n",
       "      <td>44146</td>\n",
       "      <td>41.41278</td>\n",
       "      <td>-81.50616</td>\n",
       "      <td>tasmax</td>\n",
       "      <td>0.000000</td>\n",
       "      <td>q1</td>\n",
       "    </tr>\n",
       "    <tr>\n",
       "      <th>21</th>\n",
       "      <td>85260</td>\n",
       "      <td>33.61963</td>\n",
       "      <td>-111.90171</td>\n",
       "      <td>tasmax</td>\n",
       "      <td>0.468672</td>\n",
       "      <td>q1</td>\n",
       "    </tr>\n",
       "    <tr>\n",
       "      <th>22</th>\n",
       "      <td>8876</td>\n",
       "      <td>40.59778</td>\n",
       "      <td>-74.69065</td>\n",
       "      <td>tasmax</td>\n",
       "      <td>0.000000</td>\n",
       "      <td>q1</td>\n",
       "    </tr>\n",
       "    <tr>\n",
       "      <th>23</th>\n",
       "      <td>60411</td>\n",
       "      <td>41.52176</td>\n",
       "      <td>-87.61784</td>\n",
       "      <td>tasmax</td>\n",
       "      <td>0.000000</td>\n",
       "      <td>q1</td>\n",
       "    </tr>\n",
       "    <tr>\n",
       "      <th>24</th>\n",
       "      <td>74102</td>\n",
       "      <td>36.15089</td>\n",
       "      <td>-95.99398</td>\n",
       "      <td>tasmax</td>\n",
       "      <td>0.049123</td>\n",
       "      <td>q1</td>\n",
       "    </tr>\n",
       "    <tr>\n",
       "      <th>25</th>\n",
       "      <td>44146</td>\n",
       "      <td>41.41278</td>\n",
       "      <td>-81.50616</td>\n",
       "      <td>tasmax</td>\n",
       "      <td>3.535338</td>\n",
       "      <td>q2</td>\n",
       "    </tr>\n",
       "    <tr>\n",
       "      <th>26</th>\n",
       "      <td>85260</td>\n",
       "      <td>33.61963</td>\n",
       "      <td>-111.90171</td>\n",
       "      <td>tasmax</td>\n",
       "      <td>6.789474</td>\n",
       "      <td>q2</td>\n",
       "    </tr>\n",
       "    <tr>\n",
       "      <th>27</th>\n",
       "      <td>8876</td>\n",
       "      <td>40.59778</td>\n",
       "      <td>-74.69065</td>\n",
       "      <td>tasmax</td>\n",
       "      <td>3.705263</td>\n",
       "      <td>q2</td>\n",
       "    </tr>\n",
       "    <tr>\n",
       "      <th>28</th>\n",
       "      <td>60411</td>\n",
       "      <td>41.52176</td>\n",
       "      <td>-87.61784</td>\n",
       "      <td>tasmax</td>\n",
       "      <td>5.040100</td>\n",
       "      <td>q2</td>\n",
       "    </tr>\n",
       "    <tr>\n",
       "      <th>29</th>\n",
       "      <td>74102</td>\n",
       "      <td>36.15089</td>\n",
       "      <td>-95.99398</td>\n",
       "      <td>tasmax</td>\n",
       "      <td>9.516792</td>\n",
       "      <td>q2</td>\n",
       "    </tr>\n",
       "    <tr>\n",
       "      <th>30</th>\n",
       "      <td>44146</td>\n",
       "      <td>41.41278</td>\n",
       "      <td>-81.50616</td>\n",
       "      <td>tasmax</td>\n",
       "      <td>10.600000</td>\n",
       "      <td>q3</td>\n",
       "    </tr>\n",
       "    <tr>\n",
       "      <th>31</th>\n",
       "      <td>85260</td>\n",
       "      <td>33.61963</td>\n",
       "      <td>-111.90171</td>\n",
       "      <td>tasmax</td>\n",
       "      <td>0.239098</td>\n",
       "      <td>q3</td>\n",
       "    </tr>\n",
       "    <tr>\n",
       "      <th>32</th>\n",
       "      <td>8876</td>\n",
       "      <td>40.59778</td>\n",
       "      <td>-74.69065</td>\n",
       "      <td>tasmax</td>\n",
       "      <td>11.337343</td>\n",
       "      <td>q3</td>\n",
       "    </tr>\n",
       "    <tr>\n",
       "      <th>33</th>\n",
       "      <td>60411</td>\n",
       "      <td>41.52176</td>\n",
       "      <td>-87.61784</td>\n",
       "      <td>tasmax</td>\n",
       "      <td>11.092732</td>\n",
       "      <td>q3</td>\n",
       "    </tr>\n",
       "    <tr>\n",
       "      <th>34</th>\n",
       "      <td>74102</td>\n",
       "      <td>36.15089</td>\n",
       "      <td>-95.99398</td>\n",
       "      <td>tasmax</td>\n",
       "      <td>7.685714</td>\n",
       "      <td>q3</td>\n",
       "    </tr>\n",
       "    <tr>\n",
       "      <th>35</th>\n",
       "      <td>44146</td>\n",
       "      <td>41.41278</td>\n",
       "      <td>-81.50616</td>\n",
       "      <td>tasmax</td>\n",
       "      <td>0.000000</td>\n",
       "      <td>q4</td>\n",
       "    </tr>\n",
       "    <tr>\n",
       "      <th>36</th>\n",
       "      <td>85260</td>\n",
       "      <td>33.61963</td>\n",
       "      <td>-111.90171</td>\n",
       "      <td>tasmax</td>\n",
       "      <td>33.754887</td>\n",
       "      <td>q4</td>\n",
       "    </tr>\n",
       "    <tr>\n",
       "      <th>37</th>\n",
       "      <td>8876</td>\n",
       "      <td>40.59778</td>\n",
       "      <td>-74.69065</td>\n",
       "      <td>tasmax</td>\n",
       "      <td>0.028571</td>\n",
       "      <td>q4</td>\n",
       "    </tr>\n",
       "    <tr>\n",
       "      <th>38</th>\n",
       "      <td>60411</td>\n",
       "      <td>41.52176</td>\n",
       "      <td>-87.61784</td>\n",
       "      <td>tasmax</td>\n",
       "      <td>0.009524</td>\n",
       "      <td>q4</td>\n",
       "    </tr>\n",
       "    <tr>\n",
       "      <th>39</th>\n",
       "      <td>74102</td>\n",
       "      <td>36.15089</td>\n",
       "      <td>-95.99398</td>\n",
       "      <td>tasmax</td>\n",
       "      <td>7.336842</td>\n",
       "      <td>q4</td>\n",
       "    </tr>\n",
       "  </tbody>\n",
       "</table>\n",
       "</div>"
      ],
      "text/plain": [
       "    zipcode       lat        lon variable  extremePred quarter\n",
       "0     44146  41.41278  -81.50616       pr     5.104762      q1\n",
       "1     85260  33.61963 -111.90171       pr     4.361905      q1\n",
       "2      8876  40.59778  -74.69065       pr     4.933333      q1\n",
       "3     60411  41.52176  -87.61784       pr     5.247619      q1\n",
       "4     74102  36.15089  -95.99398       pr     4.752381      q1\n",
       "5     44146  41.41278  -81.50616       pr     4.809524      q2\n",
       "6     85260  33.61963 -111.90171       pr     3.828571      q2\n",
       "7      8876  40.59778  -74.69065       pr     5.228571      q2\n",
       "8     60411  41.52176  -87.61784       pr     4.552381      q2\n",
       "9     74102  36.15089  -95.99398       pr     4.695238      q2\n",
       "10    44146  41.41278  -81.50616       pr     5.152381      q3\n",
       "11    85260  33.61963 -111.90171       pr     6.485714      q3\n",
       "12     8876  40.59778  -74.69065       pr     5.609524      q3\n",
       "13    60411  41.52176  -87.61784       pr     4.514286      q3\n",
       "14    74102  36.15089  -95.99398       pr     4.638095      q3\n",
       "15    44146  41.41278  -81.50616       pr     4.828571      q4\n",
       "16    85260  33.61963 -111.90171       pr     4.190476      q4\n",
       "17     8876  40.59778  -74.69065       pr     4.523810      q4\n",
       "18    60411  41.52176  -87.61784       pr     4.819048      q4\n",
       "19    74102  36.15089  -95.99398       pr     4.209524      q4\n",
       "20    44146  41.41278  -81.50616   tasmax     0.000000      q1\n",
       "21    85260  33.61963 -111.90171   tasmax     0.468672      q1\n",
       "22     8876  40.59778  -74.69065   tasmax     0.000000      q1\n",
       "23    60411  41.52176  -87.61784   tasmax     0.000000      q1\n",
       "24    74102  36.15089  -95.99398   tasmax     0.049123      q1\n",
       "25    44146  41.41278  -81.50616   tasmax     3.535338      q2\n",
       "26    85260  33.61963 -111.90171   tasmax     6.789474      q2\n",
       "27     8876  40.59778  -74.69065   tasmax     3.705263      q2\n",
       "28    60411  41.52176  -87.61784   tasmax     5.040100      q2\n",
       "29    74102  36.15089  -95.99398   tasmax     9.516792      q2\n",
       "30    44146  41.41278  -81.50616   tasmax    10.600000      q3\n",
       "31    85260  33.61963 -111.90171   tasmax     0.239098      q3\n",
       "32     8876  40.59778  -74.69065   tasmax    11.337343      q3\n",
       "33    60411  41.52176  -87.61784   tasmax    11.092732      q3\n",
       "34    74102  36.15089  -95.99398   tasmax     7.685714      q3\n",
       "35    44146  41.41278  -81.50616   tasmax     0.000000      q4\n",
       "36    85260  33.61963 -111.90171   tasmax    33.754887      q4\n",
       "37     8876  40.59778  -74.69065   tasmax     0.028571      q4\n",
       "38    60411  41.52176  -87.61784   tasmax     0.009524      q4\n",
       "39    74102  36.15089  -95.99398   tasmax     7.336842      q4"
      ]
     },
     "execution_count": 196,
     "metadata": {},
     "output_type": "execute_result"
    }
   ],
   "source": [
    "def findClosest(row):\n",
    "    closestVal_pr1 = prQ1Avg.sel(lat=row.lat, lon=row.lon, method = 'nearest').values\n",
    "    closestVal_pr2 = prQ2Avg.sel(lat=row.lat, lon=row.lon, method = 'nearest').values\n",
    "    closestVal_pr3 = prQ3Avg.sel(lat=row.lat, lon=row.lon, method = 'nearest').values\n",
    "    closestVal_pr4 = prQ4Avg.sel(lat=row.lat, lon=row.lon, method = 'nearest').values\n",
    "    \n",
    "    closestVal_tasmax1 = tasmaxFuture_q1_90s.sel(lat=row.lat, lon=row.lon, method = 'nearest').values\n",
    "    closestVal_tasmax2 = tasmaxFuture_q2_90s.sel(lat=row.lat, lon=row.lon, method = 'nearest').values\n",
    "    closestVal_tasmax3 = tasmaxFuture_q3_90s.sel(lat=row.lat, lon=row.lon, method = 'nearest').values\n",
    "    closestVal_tasmax4 = tasmaxFuture_q4_90s.sel(lat=row.lat, lon=row.lon, method = 'nearest').values\n",
    "    \n",
    "\n",
    "    \n",
    "    return(closestVal_pr1.item(), closestVal_pr2.item(), closestVal_pr3.item(), closestVal_pr4.item(),\n",
    "          closestVal_tasmax1.item(), closestVal_tasmax2.item(), closestVal_tasmax3.item(), closestVal_tasmax4.item(),)\n",
    "\n",
    "# item = findClosest(hqTest.iloc[0,:],prQ4Avg)\n",
    "allQuarters        = hqTest.apply(findClosest, axis=1)\n",
    "\n",
    "\n",
    "hqTest[['pr_q1', 'pr_q2', 'pr_q3', 'pr_q4',\n",
    "       'tasmax_q1', 'tasmax_q2', 'tasmax_q3', 'tasmax_q4']] = pd.DataFrame(allQuarters.tolist(), index=allQuarters.index)\n",
    "\n",
    "\n",
    "preds = pd.melt(hqTest, \n",
    "        id_vars = ['zipcode','lat','lon'],\n",
    "        value_vars = hqTest.columns[3:],\n",
    "       value_name = 'extremePred')\n",
    "\n",
    "\n",
    "preds[['variable','quarter']] = preds.variable.str.split('_',expand=True)\n",
    "\n",
    "preds\n"
   ]
  },
  {
   "cell_type": "code",
   "execution_count": 199,
   "metadata": {},
   "outputs": [
    {
     "data": {
      "text/html": [
       "<div>\n",
       "<style scoped>\n",
       "    .dataframe tbody tr th:only-of-type {\n",
       "        vertical-align: middle;\n",
       "    }\n",
       "\n",
       "    .dataframe tbody tr th {\n",
       "        vertical-align: top;\n",
       "    }\n",
       "\n",
       "    .dataframe thead th {\n",
       "        text-align: right;\n",
       "    }\n",
       "</style>\n",
       "<table border=\"1\" class=\"dataframe\">\n",
       "  <thead>\n",
       "    <tr style=\"text-align: right;\">\n",
       "      <th></th>\n",
       "      <th></th>\n",
       "      <th></th>\n",
       "      <th>variable</th>\n",
       "      <th>pr</th>\n",
       "      <th>tasmax</th>\n",
       "    </tr>\n",
       "    <tr>\n",
       "      <th>zipcode</th>\n",
       "      <th>lat</th>\n",
       "      <th>lon</th>\n",
       "      <th>quarter</th>\n",
       "      <th></th>\n",
       "      <th></th>\n",
       "    </tr>\n",
       "  </thead>\n",
       "  <tbody>\n",
       "    <tr>\n",
       "      <th rowspan=\"4\" valign=\"top\">8876</th>\n",
       "      <th rowspan=\"4\" valign=\"top\">40.59778</th>\n",
       "      <th rowspan=\"4\" valign=\"top\">-74.69065</th>\n",
       "      <th>q1</th>\n",
       "      <td>4.933333</td>\n",
       "      <td>0.000000</td>\n",
       "    </tr>\n",
       "    <tr>\n",
       "      <th>q2</th>\n",
       "      <td>5.228571</td>\n",
       "      <td>3.705263</td>\n",
       "    </tr>\n",
       "    <tr>\n",
       "      <th>q3</th>\n",
       "      <td>5.609524</td>\n",
       "      <td>11.337343</td>\n",
       "    </tr>\n",
       "    <tr>\n",
       "      <th>q4</th>\n",
       "      <td>4.523810</td>\n",
       "      <td>0.028571</td>\n",
       "    </tr>\n",
       "    <tr>\n",
       "      <th rowspan=\"4\" valign=\"top\">44146</th>\n",
       "      <th rowspan=\"4\" valign=\"top\">41.41278</th>\n",
       "      <th rowspan=\"4\" valign=\"top\">-81.50616</th>\n",
       "      <th>q1</th>\n",
       "      <td>5.104762</td>\n",
       "      <td>0.000000</td>\n",
       "    </tr>\n",
       "    <tr>\n",
       "      <th>q2</th>\n",
       "      <td>4.809524</td>\n",
       "      <td>3.535338</td>\n",
       "    </tr>\n",
       "    <tr>\n",
       "      <th>q3</th>\n",
       "      <td>5.152381</td>\n",
       "      <td>10.600000</td>\n",
       "    </tr>\n",
       "    <tr>\n",
       "      <th>q4</th>\n",
       "      <td>4.828571</td>\n",
       "      <td>0.000000</td>\n",
       "    </tr>\n",
       "    <tr>\n",
       "      <th rowspan=\"4\" valign=\"top\">60411</th>\n",
       "      <th rowspan=\"4\" valign=\"top\">41.52176</th>\n",
       "      <th rowspan=\"4\" valign=\"top\">-87.61784</th>\n",
       "      <th>q1</th>\n",
       "      <td>5.247619</td>\n",
       "      <td>0.000000</td>\n",
       "    </tr>\n",
       "    <tr>\n",
       "      <th>q2</th>\n",
       "      <td>4.552381</td>\n",
       "      <td>5.040100</td>\n",
       "    </tr>\n",
       "    <tr>\n",
       "      <th>q3</th>\n",
       "      <td>4.514286</td>\n",
       "      <td>11.092732</td>\n",
       "    </tr>\n",
       "    <tr>\n",
       "      <th>q4</th>\n",
       "      <td>4.819048</td>\n",
       "      <td>0.009524</td>\n",
       "    </tr>\n",
       "    <tr>\n",
       "      <th rowspan=\"4\" valign=\"top\">74102</th>\n",
       "      <th rowspan=\"4\" valign=\"top\">36.15089</th>\n",
       "      <th rowspan=\"4\" valign=\"top\">-95.99398</th>\n",
       "      <th>q1</th>\n",
       "      <td>4.752381</td>\n",
       "      <td>0.049123</td>\n",
       "    </tr>\n",
       "    <tr>\n",
       "      <th>q2</th>\n",
       "      <td>4.695238</td>\n",
       "      <td>9.516792</td>\n",
       "    </tr>\n",
       "    <tr>\n",
       "      <th>q3</th>\n",
       "      <td>4.638095</td>\n",
       "      <td>7.685714</td>\n",
       "    </tr>\n",
       "    <tr>\n",
       "      <th>q4</th>\n",
       "      <td>4.209524</td>\n",
       "      <td>7.336842</td>\n",
       "    </tr>\n",
       "    <tr>\n",
       "      <th rowspan=\"4\" valign=\"top\">85260</th>\n",
       "      <th rowspan=\"4\" valign=\"top\">33.61963</th>\n",
       "      <th rowspan=\"4\" valign=\"top\">-111.90171</th>\n",
       "      <th>q1</th>\n",
       "      <td>4.361905</td>\n",
       "      <td>0.468672</td>\n",
       "    </tr>\n",
       "    <tr>\n",
       "      <th>q2</th>\n",
       "      <td>3.828571</td>\n",
       "      <td>6.789474</td>\n",
       "    </tr>\n",
       "    <tr>\n",
       "      <th>q3</th>\n",
       "      <td>6.485714</td>\n",
       "      <td>0.239098</td>\n",
       "    </tr>\n",
       "    <tr>\n",
       "      <th>q4</th>\n",
       "      <td>4.190476</td>\n",
       "      <td>33.754887</td>\n",
       "    </tr>\n",
       "  </tbody>\n",
       "</table>\n",
       "</div>"
      ],
      "text/plain": [
       "variable                                   pr     tasmax\n",
       "zipcode lat      lon        quarter                     \n",
       "8876    40.59778 -74.69065  q1       4.933333   0.000000\n",
       "                            q2       5.228571   3.705263\n",
       "                            q3       5.609524  11.337343\n",
       "                            q4       4.523810   0.028571\n",
       "44146   41.41278 -81.50616  q1       5.104762   0.000000\n",
       "                            q2       4.809524   3.535338\n",
       "                            q3       5.152381  10.600000\n",
       "                            q4       4.828571   0.000000\n",
       "60411   41.52176 -87.61784  q1       5.247619   0.000000\n",
       "                            q2       4.552381   5.040100\n",
       "                            q3       4.514286  11.092732\n",
       "                            q4       4.819048   0.009524\n",
       "74102   36.15089 -95.99398  q1       4.752381   0.049123\n",
       "                            q2       4.695238   9.516792\n",
       "                            q3       4.638095   7.685714\n",
       "                            q4       4.209524   7.336842\n",
       "85260   33.61963 -111.90171 q1       4.361905   0.468672\n",
       "                            q2       3.828571   6.789474\n",
       "                            q3       6.485714   0.239098\n",
       "                            q4       4.190476  33.754887"
      ]
     },
     "execution_count": 199,
     "metadata": {},
     "output_type": "execute_result"
    }
   ],
   "source": [
    "preds.pivot(index=['zipcode','lat','lon', 'quarter'], columns='variable', values='extremePred')"
   ]
  },
  {
   "cell_type": "code",
   "execution_count": null,
   "metadata": {},
   "outputs": [],
   "source": [
    "tasmaxAll.mean(dim = ['lat',\n",
    "                    'lon']).std(dim = ['ensemble']).tasmax.values"
   ]
  },
  {
   "cell_type": "code",
   "execution_count": 51,
   "metadata": {},
   "outputs": [],
   "source": [
    "q1Future = prFuture.where(prFuture.time.dt.quarter == 1)"
   ]
  },
  {
   "cell_type": "code",
   "execution_count": 58,
   "metadata": {},
   "outputs": [
    {
     "data": {
      "text/plain": [
       "<xarray.DataArray 'pr' (ensemble: 5, time: 1895, lat: 25, lon: 64)>\n",
       "dask.array<where, shape=(5, 1895, 25, 64), dtype=float32, chunksize=(1, 902, 25, 64), chunktype=numpy.ndarray>\n",
       "Coordinates:\n",
       "  * lon      (lon) float64 -157.5 -156.1 -154.7 -153.3 ... -71.72 -70.31 -68.91\n",
       "  * lat      (lat) float64 21.71 23.11 24.51 25.91 ... 51.13 52.53 53.93 55.33\n",
       "  * time     (time) datetime64[ns] 2019-01-01T12:00:00 ... 2039-03-31T12:00:00\n",
       "Dimensions without coordinates: ensemble\n",
       "Attributes:\n",
       "    standard_name:   precipitation_flux\n",
       "    long_name:       Precipitation\n",
       "    comment:         includes both liquid and solid phases\n",
       "    units:           kg m-2 s-1\n",
       "    original_name:   PRCP\n",
       "    original_units:  kg/m**2/s\n",
       "    cell_methods:    area: time: mean\n",
       "    cell_measures:   area: areacella"
      ]
     },
     "execution_count": 58,
     "metadata": {},
     "output_type": "execute_result"
    }
   ],
   "source": [
    "q1Future.pr.where(prFuture.time.dt.quarter == 1, drop = True) - "
   ]
  },
  {
   "cell_type": "code",
   "execution_count": 55,
   "metadata": {},
   "outputs": [
    {
     "ename": "NameError",
     "evalue": "name 'quarter' is not defined",
     "output_type": "error",
     "traceback": [
      "\u001b[0;31m---------------------------------------------------------------------------\u001b[0m",
      "\u001b[0;31mNameError\u001b[0m                                 Traceback (most recent call last)",
      "\u001b[0;32m<ipython-input-55-716c815061e1>\u001b[0m in \u001b[0;36m<module>\u001b[0;34m\u001b[0m\n\u001b[0;32m----> 1\u001b[0;31m \u001b[0mpr95s\u001b[0m\u001b[0;34m.\u001b[0m\u001b[0msel\u001b[0m\u001b[0;34m(\u001b[0m\u001b[0mquarter\u001b[0m \u001b[0;34m==\u001b[0m \u001b[0;36m4\u001b[0m\u001b[0;34m)\u001b[0m\u001b[0;34m\u001b[0m\u001b[0;34m\u001b[0m\u001b[0m\n\u001b[0m",
      "\u001b[0;31mNameError\u001b[0m: name 'quarter' is not defined"
     ]
    }
   ],
   "source": [
    "tasmax_future.groupby(pr_future.time.dt.quarter).mean(dim = ['ensemble','time'])"
   ]
  },
  {
   "cell_type": "markdown",
   "metadata": {},
   "source": [
    "## tasmax - future"
   ]
  },
  {
   "cell_type": "code",
   "execution_count": 106,
   "metadata": {},
   "outputs": [
    {
     "name": "stdout",
     "output_type": "stream",
     "text": [
      "starting to load\n",
      "ending the load:  1.1920928955078125e-06\n"
     ]
    }
   ],
   "source": []
  },
  {
   "cell_type": "code",
   "execution_count": 124,
   "metadata": {},
   "outputs": [
    {
     "data": {
      "text/html": [
       "<table>\n",
       "<tr>\n",
       "<td>\n",
       "<table>\n",
       "  <thead>\n",
       "    <tr><td> </td><th> Array </th><th> Chunk </th></tr>\n",
       "  </thead>\n",
       "  <tbody>\n",
       "    <tr><th> Bytes </th><td> 51.20 kB </td> <td> 12.80 kB </td></tr>\n",
       "    <tr><th> Shape </th><td> (4, 25, 64) </td> <td> (1, 25, 64) </td></tr>\n",
       "    <tr><th> Count </th><td> 3756 Tasks </td><td> 4 Chunks </td></tr>\n",
       "    <tr><th> Type </th><td> float64 </td><td> numpy.ndarray </td></tr>\n",
       "  </tbody>\n",
       "</table>\n",
       "</td>\n",
       "<td>\n",
       "<svg width=\"201\" height=\"117\" style=\"stroke:rgb(0,0,0);stroke-width:1\" >\n",
       "\n",
       "  <!-- Horizontal lines -->\n",
       "  <line x1=\"10\" y1=\"0\" x2=\"31\" y2=\"21\" style=\"stroke-width:2\" />\n",
       "  <line x1=\"10\" y1=\"46\" x2=\"31\" y2=\"67\" style=\"stroke-width:2\" />\n",
       "\n",
       "  <!-- Vertical lines -->\n",
       "  <line x1=\"10\" y1=\"0\" x2=\"10\" y2=\"46\" style=\"stroke-width:2\" />\n",
       "  <line x1=\"15\" y1=\"5\" x2=\"15\" y2=\"52\" />\n",
       "  <line x1=\"20\" y1=\"10\" x2=\"20\" y2=\"57\" />\n",
       "  <line x1=\"25\" y1=\"15\" x2=\"25\" y2=\"62\" />\n",
       "  <line x1=\"31\" y1=\"21\" x2=\"31\" y2=\"67\" style=\"stroke-width:2\" />\n",
       "\n",
       "  <!-- Colored Rectangle -->\n",
       "  <polygon points=\"10.000000,0.000000 31.093851,21.093851 31.093851,67.968851 10.000000,46.875000\" style=\"fill:#ECB172A0;stroke-width:0\"/>\n",
       "\n",
       "  <!-- Horizontal lines -->\n",
       "  <line x1=\"10\" y1=\"0\" x2=\"130\" y2=\"0\" style=\"stroke-width:2\" />\n",
       "  <line x1=\"15\" y1=\"5\" x2=\"135\" y2=\"5\" />\n",
       "  <line x1=\"20\" y1=\"10\" x2=\"140\" y2=\"10\" />\n",
       "  <line x1=\"25\" y1=\"15\" x2=\"145\" y2=\"15\" />\n",
       "  <line x1=\"31\" y1=\"21\" x2=\"151\" y2=\"21\" style=\"stroke-width:2\" />\n",
       "\n",
       "  <!-- Vertical lines -->\n",
       "  <line x1=\"10\" y1=\"0\" x2=\"31\" y2=\"21\" style=\"stroke-width:2\" />\n",
       "  <line x1=\"130\" y1=\"0\" x2=\"151\" y2=\"21\" style=\"stroke-width:2\" />\n",
       "\n",
       "  <!-- Colored Rectangle -->\n",
       "  <polygon points=\"10.000000,0.000000 130.000000,0.000000 151.093851,21.093851 31.093851,21.093851\" style=\"fill:#ECB172A0;stroke-width:0\"/>\n",
       "\n",
       "  <!-- Horizontal lines -->\n",
       "  <line x1=\"31\" y1=\"21\" x2=\"151\" y2=\"21\" style=\"stroke-width:2\" />\n",
       "  <line x1=\"31\" y1=\"67\" x2=\"151\" y2=\"67\" style=\"stroke-width:2\" />\n",
       "\n",
       "  <!-- Vertical lines -->\n",
       "  <line x1=\"31\" y1=\"21\" x2=\"31\" y2=\"67\" style=\"stroke-width:2\" />\n",
       "  <line x1=\"151\" y1=\"21\" x2=\"151\" y2=\"67\" style=\"stroke-width:2\" />\n",
       "\n",
       "  <!-- Colored Rectangle -->\n",
       "  <polygon points=\"31.093851,21.093851 151.093851,21.093851 151.093851,67.968851 31.093851,67.968851\" style=\"fill:#ECB172A0;stroke-width:0\"/>\n",
       "\n",
       "  <!-- Text -->\n",
       "  <text x=\"91.093851\" y=\"87.968851\" font-size=\"1.0rem\" font-weight=\"100\" text-anchor=\"middle\" >64</text>\n",
       "  <text x=\"171.093851\" y=\"44.531351\" font-size=\"1.0rem\" font-weight=\"100\" text-anchor=\"middle\" transform=\"rotate(0,171.093851,44.531351)\">25</text>\n",
       "  <text x=\"10.546926\" y=\"77.421926\" font-size=\"1.0rem\" font-weight=\"100\" text-anchor=\"middle\" transform=\"rotate(45,10.546926,77.421926)\">4</text>\n",
       "</svg>\n",
       "</td>\n",
       "</tr>\n",
       "</table>"
      ],
      "text/plain": [
       "dask.array<concatenate, shape=(4, 25, 64), dtype=float64, chunksize=(1, 25, 64), chunktype=numpy.ndarray>"
      ]
     },
     "execution_count": 124,
     "metadata": {},
     "output_type": "execute_result"
    }
   ],
   "source": [
    "futureTempExtremes.extreme.data\n"
   ]
  },
  {
   "cell_type": "code",
   "execution_count": null,
   "metadata": {},
   "outputs": [],
   "source": []
  },
  {
   "cell_type": "code",
   "execution_count": null,
   "metadata": {},
   "outputs": [],
   "source": []
  },
  {
   "cell_type": "code",
   "execution_count": null,
   "metadata": {},
   "outputs": [],
   "source": []
  },
  {
   "cell_type": "code",
   "execution_count": 47,
   "metadata": {},
   "outputs": [
    {
     "data": {
      "text/plain": [
       "21.77485179901123"
      ]
     },
     "execution_count": 47,
     "metadata": {},
     "output_type": "execute_result"
    }
   ],
   "source": [
    "start                         = time.time()\n",
    "percentileByQuarterByEnsemble = pr.groupby(pr.time.dt.quarter).quantile(0.95, dim = ('time'))\n",
    "# percentileByEnsemble        = data.quantile(0.95, dim = ('time'))\n",
    "time.time() - start"
   ]
  },
  {
   "cell_type": "markdown",
   "metadata": {},
   "source": [
    "alternatives: can do percentiles on a per-ensemble basis, too."
   ]
  },
  {
   "cell_type": "code",
   "execution_count": 17,
   "metadata": {},
   "outputs": [],
   "source": [
    "outfile =  '../../data/companyData/miroc_historical95s.pkl'\n",
    "with open(outfile, 'wb') as pickle_file:\n",
    "    pkl.dump(percentileByEnsemble, pickle_file)"
   ]
  },
  {
   "cell_type": "markdown",
   "metadata": {},
   "source": [
    "------------------------------\n",
    "\n",
    "# Code Graveyard\n",
    "\n",
    "\n"
   ]
  },
  {
   "cell_type": "code",
   "execution_count": 97,
   "metadata": {},
   "outputs": [],
   "source": [
    "weather = 'pr'\n",
    "scenario = 'ssp585'\n",
    "\n",
    "file1 = '../../../../../../../Volumes/backup2/dissData/cmip6Data/proj/' + weather + '/' + weather + '_day_MIROC6_' + scenario + '_r*i1p1f1_gn_20150101-20241231.nc'\n",
    "file2 = '../../../../../../../Volumes/backup2/dissData/cmip6Data/proj/' + weather + '/' + weather + '_day_MIROC6_' + scenario + '_r*i1p1f1_gn_20250101-20341231.nc'\n",
    "file3 = '../../../../../../../Volumes/backup2/dissData/cmip6Data/proj/' + weather + '/' + weather + '_day_MIROC6_' + scenario + '_r*i1p1f1_gn_20350101-20441231.nc'\n",
    "\n",
    "data1 = xr.open_mfdataset(file1,concat_dim=['ensemble'],combine='nested',decode_times=True)\n",
    "data2 = xr.open_mfdataset(file2,concat_dim=['ensemble'],combine='nested',decode_times=True)\n",
    "data3 = xr.open_mfdataset(file3,concat_dim=['ensemble'],combine='nested',decode_times=True)\n",
    "\n",
    "data = xr.combine_by_coords([data1,data2,data3])"
   ]
  },
  {
   "cell_type": "code",
   "execution_count": null,
   "metadata": {},
   "outputs": [],
   "source": [
    "file = open('../../data/companyData/miroc_historical95s.pkl','rb')\n",
    "percentileByEnsemble = pkl.load(file)"
   ]
  },
  {
   "cell_type": "code",
   "execution_count": null,
   "metadata": {},
   "outputs": [],
   "source": []
  },
  {
   "cell_type": "code",
   "execution_count": null,
   "metadata": {},
   "outputs": [],
   "source": [
    "percentileByEnsemble"
   ]
  },
  {
   "cell_type": "code",
   "execution_count": null,
   "metadata": {},
   "outputs": [],
   "source": [
    "# numpy and xarray and all that\n",
    "# https://www.earthinversion.com/utilities/reading-NetCDF4-data-in-python/"
   ]
  },
  {
   "cell_type": "code",
   "execution_count": null,
   "metadata": {},
   "outputs": [],
   "source": [
    "data.ensemble == 1"
   ]
  },
  {
   "cell_type": "code",
   "execution_count": null,
   "metadata": {},
   "outputs": [],
   "source": [
    "# https://metview.readthedocs.io/en/latest/examples/ens_mean_spread_xarray.html\n",
    "# data.mean(dim = 'ensemble')\n",
    "overall = data.mean(dim = ['lat','lon'])\n",
    "overall.pr.plot(hue = 'ensemble')"
   ]
  },
  {
   "cell_type": "code",
   "execution_count": null,
   "metadata": {},
   "outputs": [],
   "source": [
    "plt.style.use(\"seaborn-dark\")\n",
    "plt.rcParams[\"figure.figsize\"] = (13, 5)\n",
    "ens.tas.plot(hue=\"realization\")\n",
    "plt.show()"
   ]
  },
  {
   "cell_type": "code",
   "execution_count": null,
   "metadata": {},
   "outputs": [],
   "source": [
    "# this takes the ensemble mean and then the mean over time\n",
    "data_emean = data.mean()# .mean() \n",
    "print(data_emean)"
   ]
  },
  {
   "cell_type": "code",
   "execution_count": null,
   "metadata": {},
   "outputs": [],
   "source": [
    "import glob\n",
    "\n",
    "import xarray as xr\n",
    "\n",
    "import xclim as xc\n",
    "\n",
    "# Set display to HTML sytle (for fancy output)\n",
    "xr.set_options(display_style=\"html\", display_width=50)\n",
    "\n",
    "import matplotlib.pyplot as plt\n",
    "\n",
    "%matplotlib inline\n",
    "\n",
    "from xclim import ensembles"
   ]
  },
  {
   "cell_type": "code",
   "execution_count": null,
   "metadata": {},
   "outputs": [],
   "source": [
    "len(glob.glob('../../../../../../../Volumes/backup2/dissData/cmip6Data/hist/pr/pr_day_MIROC6_historical_r1*i1p1f1_gn_19800101-19891231.nc'))\n",
    "datasets = glob.glob('../../../../../../../Volumes/backup2/dissData/cmip6Data/hist/pr/pr_day_MIROC6_historical_r1*i1p1f1_gn_19800101-19891231.nc')\n",
    "datasets"
   ]
  },
  {
   "cell_type": "code",
   "execution_count": null,
   "metadata": {},
   "outputs": [],
   "source": [
    "# file = \n",
    "# data = xr.open_mfdataset(file,concat_dim='ensemble',combine='nested',decode_times=True)\n",
    "\n",
    "ens = ensembles.create_ensemble(datasets, mf_flag = True)"
   ]
  },
  {
   "cell_type": "code",
   "execution_count": null,
   "metadata": {},
   "outputs": [],
   "source": [
    "geoHQ = gpd.GeoDataFrame(\n",
    "    allIG,\n",
    "    geometry=gpd.points_from_xy(\n",
    "        allIG[\"longitude\"],\n",
    "        allIG[\"latitude\"],\n",
    "    ),\n",
    "    crs={\"init\":\"EPSG:4326\"},\n",
    ")"
   ]
  },
  {
   "cell_type": "code",
   "execution_count": null,
   "metadata": {},
   "outputs": [],
   "source": [
    "one_point = data[\"pr\"].sel(lat=50, lon=50)"
   ]
  },
  {
   "cell_type": "code",
   "execution_count": null,
   "metadata": {},
   "outputs": [],
   "source": [
    "pd.DataFrame(test.temperature[test.year == 2010]).plot()"
   ]
  },
  {
   "cell_type": "markdown",
   "metadata": {},
   "source": [
    "Now go through and make this iterable for the entire list."
   ]
  },
  {
   "cell_type": "code",
   "execution_count": null,
   "metadata": {},
   "outputs": [],
   "source": [
    "i = 0\n",
    "data.pr.sel(allIG.iloc[0,:], method='nearest')"
   ]
  },
  {
   "cell_type": "code",
   "execution_count": null,
   "metadata": {},
   "outputs": [],
   "source": [
    "hqPost2010 = geoHQ[geoHQ.archive_version_year > 2010].reset_index()"
   ]
  },
  {
   "cell_type": "code",
   "execution_count": null,
   "metadata": {},
   "outputs": [],
   "source": [
    "start = time.time()\n",
    "\n",
    "\n",
    "\n",
    "tempsList = list()\n",
    "for i in range(0,hqPost2010.shape[0]):\n",
    "    nearbyTemps = temps.sel(hqPost2010.loc[i,['latitude','longitude']], method='nearest')\n",
    "    \n",
    "    tempsList.append(list(np.array(nearbyTemps.temperature[nearbyTemps.year == hqPost2010.archive_version_year[i]])))\n",
    "\n",
    "    if (i%100 == 0):\n",
    "        print(i)\n",
    "    \n",
    "print(time.time() - start)\n",
    "\n",
    "\n",
    "\n",
    "\n"
   ]
  },
  {
   "cell_type": "code",
   "execution_count": null,
   "metadata": {},
   "outputs": [],
   "source": [
    "outfile =  'data/hqDailyTemperatures.pkl'\n",
    "with open(outfile, 'wb') as pickle_file:\n",
    "    pickle.dump(tempsList, pickle_file)"
   ]
  },
  {
   "cell_type": "markdown",
   "metadata": {},
   "source": [
    "# Now let's do the percentiles"
   ]
  },
  {
   "cell_type": "code",
   "execution_count": null,
   "metadata": {},
   "outputs": [],
   "source": [
    "baselineName = '../../../../../../../Volumes/backup2/dissData/cmip6Data/hist/mirocHQs_198199.csv'\n",
    "baseline = pd.read_csv(baselineName)"
   ]
  },
  {
   "cell_type": "code",
   "execution_count": null,
   "metadata": {},
   "outputs": [],
   "source": [
    "baseline.s.unique()"
   ]
  },
  {
   "cell_type": "code",
   "execution_count": null,
   "metadata": {},
   "outputs": [],
   "source": [
    "baseline[baseline.variable == 'tasmax_hist']"
   ]
  },
  {
   "cell_type": "code",
   "execution_count": null,
   "metadata": {},
   "outputs": [],
   "source": [
    "quantsPrecip   = baseline[baseline.variable == 'pr_hist'][['zipcode','variable','quarter','value']].\\\n",
    "    groupby(['zipcode','variable','quarter']).quantile(.95).reset_index()\n",
    "quantsPrecip.rename(columns = {'value': 'quantCutoff'}, inplace = True)\n",
    "quantsPrecip['daysExtreme'] = 4.5\n"
   ]
  },
  {
   "cell_type": "code",
   "execution_count": null,
   "metadata": {},
   "outputs": [],
   "source": [
    "quantsPrecip.head()"
   ]
  },
  {
   "cell_type": "markdown",
   "metadata": {},
   "source": [
    "Find number of days above 90F."
   ]
  },
  {
   "cell_type": "code",
   "execution_count": null,
   "metadata": {},
   "outputs": [],
   "source": [
    "temp = baseline[baseline.variable == 'tasmax_hist'].drop(columns = {'s','year'})\n",
    "temp.head()"
   ]
  },
  {
   "cell_type": "code",
   "execution_count": null,
   "metadata": {},
   "outputs": [],
   "source": [
    "quantsTemp = baseline[baseline.variable == 'tasmax_hist'].drop(columns = {'s','year'})\n",
    "quantsTemp['daysExtreme'] = 1*(quantsTemp.value > 305.3)\n",
    "quantsTemp = quantsTemp.groupby(['zipcode', 'variable', 'quarter']).median().reset_index()\n",
    "quantsTemp.rename(columns = {'value': 'quantCutoff'}, inplace = True)\n",
    "\n",
    "quantsTemp.daysExtreme = quantsTemp.daysExtreme*90\n",
    "quantsTemp.quantCutoff = 305.3\n",
    "\n",
    "\n",
    "quantsTemp.head()"
   ]
  },
  {
   "cell_type": "code",
   "execution_count": null,
   "metadata": {},
   "outputs": [],
   "source": [
    "quantsPrecip.head()"
   ]
  },
  {
   "cell_type": "code",
   "execution_count": null,
   "metadata": {},
   "outputs": [],
   "source": [
    "quants = quantsPrecip.append(quantsTemp)"
   ]
  },
  {
   "cell_type": "code",
   "execution_count": null,
   "metadata": {},
   "outputs": [],
   "source": [
    "quants.head()"
   ]
  },
  {
   "cell_type": "markdown",
   "metadata": {},
   "source": [
    "And apply them to the next period."
   ]
  },
  {
   "cell_type": "code",
   "execution_count": null,
   "metadata": {},
   "outputs": [],
   "source": [
    "nextPeriodName = '../../../../../../../Volumes/backup2/dissData/cmip6Data/proj/mirocHQs_202040.csv'\n",
    "nextPeriod = pd.read_csv(nextPeriodName)# .drop(columns = ['s'])"
   ]
  },
  {
   "cell_type": "code",
   "execution_count": null,
   "metadata": {},
   "outputs": [],
   "source": [
    "nextPeriod.shape[0]/len(nextPeriod.zipcode.unique())/365/18/2/4"
   ]
  },
  {
   "cell_type": "code",
   "execution_count": null,
   "metadata": {},
   "outputs": [],
   "source": [
    "nextPeriod.head()"
   ]
  },
  {
   "cell_type": "code",
   "execution_count": null,
   "metadata": {},
   "outputs": [],
   "source": [
    "quants.daysExtreme"
   ]
  },
  {
   "cell_type": "code",
   "execution_count": null,
   "metadata": {},
   "outputs": [],
   "source": [
    "nextPeriod = nextPeriod.merge(quants)\n",
    "nextPeriod.head()"
   ]
  },
  {
   "cell_type": "code",
   "execution_count": null,
   "metadata": {},
   "outputs": [],
   "source": [
    "nextPeriod['extreme'] = 1*(nextPeriod.value > nextPeriod.quantCutoff)"
   ]
  },
  {
   "cell_type": "code",
   "execution_count": null,
   "metadata": {},
   "outputs": [],
   "source": [
    "# nextPeriod.to_csv(\"../../data/companyData/nextPeriodExtremes.csv\")"
   ]
  },
  {
   "cell_type": "code",
   "execution_count": null,
   "metadata": {},
   "outputs": [],
   "source": [
    "nextPeriod.head()"
   ]
  },
  {
   "cell_type": "code",
   "execution_count": null,
   "metadata": {},
   "outputs": [],
   "source": [
    "nextPeriod.year"
   ]
  },
  {
   "cell_type": "code",
   "execution_count": null,
   "metadata": {},
   "outputs": [],
   "source": [
    "nextPeriod['yearQuarter'] = nextPeriod.year.astype('int64') + nextPeriod.quarter.str[1:2].astype('int64')/4"
   ]
  },
  {
   "cell_type": "code",
   "execution_count": null,
   "metadata": {},
   "outputs": [],
   "source": [
    "nextPeriod.head()"
   ]
  },
  {
   "cell_type": "code",
   "execution_count": null,
   "metadata": {},
   "outputs": [],
   "source": [
    "nextPeriod[['zipcode']].drop_duplicates().shape"
   ]
  },
  {
   "cell_type": "code",
   "execution_count": null,
   "metadata": {},
   "outputs": [],
   "source": [
    "nextPeriod.head()"
   ]
  },
  {
   "cell_type": "code",
   "execution_count": null,
   "metadata": {},
   "outputs": [],
   "source": [
    "nextPeriod[nextPeriod.variable == 'pr_hist'].extreme.describe()"
   ]
  },
  {
   "cell_type": "code",
   "execution_count": null,
   "metadata": {},
   "outputs": [],
   "source": [
    "quarterlyExtremes = nextPeriod[['variable','s','year','quarter','yearQuarter','zipcode','extreme']].\\\n",
    "    groupby(['variable','s','year','quarter','yearQuarter','zipcode']).sum().reset_index()"
   ]
  },
  {
   "cell_type": "code",
   "execution_count": null,
   "metadata": {},
   "outputs": [],
   "source": [
    "zipLats = pd.read_csv(\"../../data/companyData/quarterlyExtremesMean.csv\")[['zipcode','latitude','longitude']].\\\n",
    "    groupby(['zipcode']).mean().reset_index()\n",
    "\n",
    "quarterlyExtremes = quarterlyExtremes.merge(zipLats)"
   ]
  },
  {
   "cell_type": "code",
   "execution_count": null,
   "metadata": {},
   "outputs": [],
   "source": [
    "quarterlyExtremes.head()"
   ]
  },
  {
   "cell_type": "code",
   "execution_count": null,
   "metadata": {},
   "outputs": [],
   "source": [
    "quarterlyExtremes.head()"
   ]
  },
  {
   "cell_type": "code",
   "execution_count": null,
   "metadata": {},
   "outputs": [],
   "source": [
    "quarterlyExtremes.to_csv(\"../../data/companyData/quarterlyExtremesAll.csv\")"
   ]
  },
  {
   "cell_type": "code",
   "execution_count": null,
   "metadata": {},
   "outputs": [],
   "source": [
    "quarterlyExtremesMean = quarterlyExtremes[['variable','quarter','zipcode','latitude','longitude','extreme']].\\\n",
    "    groupby(['variable','quarter','zipcode','latitude','longitude']).mean().reset_index()"
   ]
  },
  {
   "cell_type": "code",
   "execution_count": null,
   "metadata": {},
   "outputs": [],
   "source": [
    "quarterlyExtremesMean[quarterlyExtremesMean.variable == 'tasmax_hist'].extreme.describe()"
   ]
  },
  {
   "cell_type": "code",
   "execution_count": null,
   "metadata": {},
   "outputs": [],
   "source": [
    "quarterlyExtremesMean[quarterlyExtremesMean.variable == 'pr_hist'].extreme.describe()"
   ]
  },
  {
   "cell_type": "code",
   "execution_count": null,
   "metadata": {},
   "outputs": [],
   "source": [
    "quarterlyExtremesMean.head()"
   ]
  },
  {
   "cell_type": "code",
   "execution_count": null,
   "metadata": {},
   "outputs": [],
   "source": [
    "quarterlyExtremesMean = quarterlyExtremesMean.merge(quants[['zipcode','variable','quarter','daysExtreme']])\n",
    "quarterlyExtremesMean.head()"
   ]
  },
  {
   "cell_type": "code",
   "execution_count": null,
   "metadata": {},
   "outputs": [],
   "source": [
    "quarterlyExtremesMean.to_csv(\"../../data/companyData/quarterlyExtremesMean.csv\")"
   ]
  },
  {
   "cell_type": "code",
   "execution_count": null,
   "metadata": {},
   "outputs": [],
   "source": []
  },
  {
   "cell_type": "code",
   "execution_count": null,
   "metadata": {},
   "outputs": [],
   "source": [
    "zipLats.head()"
   ]
  },
  {
   "cell_type": "code",
   "execution_count": null,
   "metadata": {},
   "outputs": [],
   "source": [
    "quarterlyExtremesMean.groupby(['variable']).extreme.describe()"
   ]
  },
  {
   "cell_type": "markdown",
   "metadata": {},
   "source": [
    "------------------------------"
   ]
  },
  {
   "cell_type": "code",
   "execution_count": null,
   "metadata": {},
   "outputs": [],
   "source": [
    "# we might have multiple records from within the same zipcode\n",
    "quarterlyExtremesMean = quarterlyExtremes[['variable','quarter','zipcode','extreme']].\\\n",
    "    groupby(['variable','quarter','zipcode']).mean().reset_index()\n",
    "\n",
    "# .groupby(['variable','quarter','zipcode']).mean().reset_index()\n"
   ]
  },
  {
   "cell_type": "code",
   "execution_count": null,
   "metadata": {},
   "outputs": [],
   "source": [
    "quarterlyExtremesMean.groupby('variable').extreme.hist(bins = 100)"
   ]
  },
  {
   "cell_type": "code",
   "execution_count": null,
   "metadata": {},
   "outputs": [],
   "source": [
    "(quarterlyExtremesMean[quarterlyExtremesMean.variable == 'tasmax_hist'].extreme - 4.5).hist(bins = 100)"
   ]
  },
  {
   "cell_type": "code",
   "execution_count": null,
   "metadata": {},
   "outputs": [],
   "source": [
    "(quarterlyExtremesMean[quarterlyExtremesMean.variable == 'pr_hist'].extreme - 4.5).hist(bins = 100)"
   ]
  },
  {
   "cell_type": "code",
   "execution_count": null,
   "metadata": {},
   "outputs": [],
   "source": [
    "sum(quarterlyExtremesMean[quarterlyExtremesMean.variable == 'pr_hist'].extreme > 4.5)/quarterlyExtremesMean[quarterlyExtremesMean.variable == 'pr_hist'].shape[0]"
   ]
  },
  {
   "cell_type": "code",
   "execution_count": null,
   "metadata": {},
   "outputs": [],
   "source": [
    "sum(quarterlyExtremesMean[quarterlyExtremesMean.variable == 'tasmax_hist'].\\\n",
    "    extreme > 4.5)/quarterlyExtremesMean[quarterlyExtremesMean.variable == 'tasmax_hist'].shape[0]"
   ]
  }
 ],
 "metadata": {
  "kernelspec": {
   "display_name": "Python 3",
   "language": "python",
   "name": "python3"
  },
  "language_info": {
   "codemirror_mode": {
    "name": "ipython",
    "version": 3
   },
   "file_extension": ".py",
   "mimetype": "text/x-python",
   "name": "python",
   "nbconvert_exporter": "python",
   "pygments_lexer": "ipython3",
   "version": "3.7.4"
  }
 },
 "nbformat": 4,
 "nbformat_minor": 2
}
