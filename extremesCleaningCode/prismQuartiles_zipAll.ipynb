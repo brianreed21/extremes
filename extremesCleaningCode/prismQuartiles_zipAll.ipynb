{
 "cells": [
  {
   "cell_type": "code",
   "execution_count": 74,
   "metadata": {},
   "outputs": [],
   "source": [
    "import pickle as pkl\n",
    "import pandas as pd\n",
    "import matplotlib\n",
    "import os\n",
    "import re\n",
    "\n",
    "import collections\n",
    "import datetime\n",
    "import time\n",
    "\n",
    "import matplotlib.pyplot as plt\n",
    "import seaborn as sns\n",
    "    \n",
    "import geopandas as gpd\n",
    "\n",
    "import numpy as np\n",
    "\n",
    "import rasterio\n",
    "\n",
    "from difflib import get_close_matches\n",
    "\n",
    "from fuzzywuzzy import process\n",
    "from fuzzywuzzy import fuzz\n",
    "\n",
    "import dask.dataframe as dd\n",
    "\n",
    "import gc\n",
    "import sys\n",
    "\n",
    "from multiprocessing import Pool\n",
    "import multiprocessing\n",
    "\n",
    "from dask.diagnostics import ProgressBar\n"
   ]
  },
  {
   "cell_type": "markdown",
   "metadata": {},
   "source": [
    "# Sample"
   ]
  },
  {
   "cell_type": "code",
   "execution_count": 2,
   "metadata": {},
   "outputs": [],
   "source": [
    "def getData(weatherType,yearRange1,yearRange2):\n",
    "\n",
    "    if weatherType == \"Tmax\":\n",
    "        weatherVar = \"temperature\"\n",
    "    else: \n",
    "        weatherVar = \"precipitation\"\n",
    "    \n",
    "    year = yearRange1\n",
    "    filename = \"../../../../../../../Volumes/backup2/dissData/prism/zipcode\" + weatherType + str(year) + \".csv\"\n",
    "    data = dd.read_csv(filename, assume_missing=True)[['ZIP','date',weatherVar]]\n",
    "    data['ZIP'] = data.ZIP.astype('int64')\n",
    "\n",
    "    \n",
    "   \n",
    "    years = range(yearRange1 + 1,yearRange2 + 1)\n",
    "    for year in years:\n",
    "        filename = \"../../../../../../../Volumes/backup2/dissData/prism/zipcode\" + weatherType + str(year) + \".csv\"\n",
    "        tempData = dd.read_csv(filename, assume_missing=True)[['ZIP','date',weatherVar]]\n",
    "        tempData['ZIP'] = tempData.ZIP.astype('int64')\n",
    "\n",
    "        # tempData = tempData[tempData.ZIP.isin(relevantZips)]\n",
    "        # tempData = tempData[~(tempData[weatherVar].isna().compute())]\n",
    "        data = data.append(tempData)\n",
    "\n",
    "    data = data[~(data[weatherVar].isna())] # .compute()\n",
    "    \n",
    "    return(data)\n"
   ]
  },
  {
   "cell_type": "markdown",
   "metadata": {},
   "source": [
    "I think only a few of these quantiles will be relevant. Let's look at 0, 0.9, 0.95, 1.0"
   ]
  },
  {
   "cell_type": "code",
   "execution_count": 3,
   "metadata": {},
   "outputs": [],
   "source": [
    "quantiles = [0.0, 0.05, 0.90, 0.95, 0.9978, 0.9995]\n",
    "\n",
    "# need to account for fact that once a year-quarter is 90 days, not 365\n",
    "quant_labels = ['quant_0.05','quant_tossThisOne','quant_0.95',\n",
    "                'quant_1x5Qtrs','quant_1x5Yrs']"
   ]
  },
  {
   "cell_type": "markdown",
   "metadata": {},
   "source": [
    "# Precipitation"
   ]
  },
  {
   "cell_type": "code",
   "execution_count": 4,
   "metadata": {},
   "outputs": [],
   "source": [
    "weatherType = \"Precip\" # Tmax\n",
    "precipData = getData(weatherType, 1981, 2008)"
   ]
  },
  {
   "cell_type": "code",
   "execution_count": 5,
   "metadata": {},
   "outputs": [],
   "source": [
    "precipData['quarter']    = dd.to_datetime(precipData['date'], format='%Y%m%d').dt.quarter"
   ]
  },
  {
   "cell_type": "code",
   "execution_count": 6,
   "metadata": {},
   "outputs": [
    {
     "data": {
      "text/plain": [
       "(333972912, 4)"
      ]
     },
     "execution_count": 6,
     "metadata": {},
     "output_type": "execute_result"
    }
   ],
   "source": [
    "precip = precipData.compute(workers = 100)\n",
    "precip.shape"
   ]
  },
  {
   "cell_type": "code",
   "execution_count": 7,
   "metadata": {},
   "outputs": [],
   "source": [
    "precip.to_csv(\"../../data/companyData/allZipsPrecip.csv\")"
   ]
  },
  {
   "cell_type": "code",
   "execution_count": 11,
   "metadata": {},
   "outputs": [
    {
     "data": {
      "text/plain": [
       "470"
      ]
     },
     "execution_count": 11,
     "metadata": {},
     "output_type": "execute_result"
    }
   ],
   "source": [
    "del precip\n",
    "gc.collect()"
   ]
  },
  {
   "cell_type": "markdown",
   "metadata": {},
   "source": [
    "## Temperature"
   ]
  },
  {
   "cell_type": "code",
   "execution_count": 8,
   "metadata": {},
   "outputs": [],
   "source": [
    "weatherType = \"Tmax\"\n",
    "tempData = getData(weatherType, 1981, 2008)"
   ]
  },
  {
   "cell_type": "code",
   "execution_count": 9,
   "metadata": {},
   "outputs": [],
   "source": [
    "tempData['quarter']  = dd.to_datetime(tempData['date'], format='%Y%m%d').dt.quarter"
   ]
  },
  {
   "cell_type": "code",
   "execution_count": 12,
   "metadata": {},
   "outputs": [
    {
     "data": {
      "text/plain": [
       "(333972912, 4)"
      ]
     },
     "execution_count": 12,
     "metadata": {},
     "output_type": "execute_result"
    }
   ],
   "source": [
    "temp = tempData.compute(workers = 100)\n",
    "temp.shape"
   ]
  },
  {
   "cell_type": "code",
   "execution_count": 13,
   "metadata": {},
   "outputs": [],
   "source": [
    "temp.to_csv(\"../../data/companyData/allZipsTemp.csv\")"
   ]
  },
  {
   "cell_type": "code",
   "execution_count": 14,
   "metadata": {},
   "outputs": [
    {
     "data": {
      "text/plain": [
       "40"
      ]
     },
     "execution_count": 14,
     "metadata": {},
     "output_type": "execute_result"
    }
   ],
   "source": [
    "del temp\n",
    "gc.collect()"
   ]
  },
  {
   "cell_type": "markdown",
   "metadata": {},
   "source": [
    "## Merge and save\n",
    "Merge these two and save them as one sv that we can read in and reindex. I think the above approach reads in all files separately so we get a multi-index problem."
   ]
  },
  {
   "cell_type": "code",
   "execution_count": null,
   "metadata": {},
   "outputs": [],
   "source": [
    "temp['precipitation'] = precip.precipitation\n",
    "temp.head()"
   ]
  },
  {
   "cell_type": "code",
   "execution_count": null,
   "metadata": {},
   "outputs": [],
   "source": [
    "temp.to_csv(\"../../data/companyData/allZipsTemp.csv\")"
   ]
  },
  {
   "cell_type": "markdown",
   "metadata": {},
   "source": [
    "# Load all data\n",
    "## Get stats\n",
    "\n",
    "### Describe Climate"
   ]
  },
  {
   "cell_type": "code",
   "execution_count": 81,
   "metadata": {},
   "outputs": [],
   "source": [
    "weatherData   = dd.read_csv(\"../../data/companyData/allZipsTemp.csv\").drop(columns = {'Unnamed: 0'})\n",
    "precipData = dd.read_csv(\"../../data/companyData/allZipsPrecip.csv\").drop(columns = {'Unnamed: 0'})\n",
    "with ProgressBar():\n",
    "    precipData = precipData.repartition(npartitions=225)\n",
    "    weatherData   = tempData.repartition(npartitions=225)\n",
    "# weatherData = tempData.merge(precipData)"
   ]
  },
  {
   "cell_type": "code",
   "execution_count": 82,
   "metadata": {},
   "outputs": [
    {
     "data": {
      "text/html": [
       "<div>\n",
       "<style scoped>\n",
       "    .dataframe tbody tr th:only-of-type {\n",
       "        vertical-align: middle;\n",
       "    }\n",
       "\n",
       "    .dataframe tbody tr th {\n",
       "        vertical-align: top;\n",
       "    }\n",
       "\n",
       "    .dataframe thead th {\n",
       "        text-align: right;\n",
       "    }\n",
       "</style>\n",
       "<table border=\"1\" class=\"dataframe\">\n",
       "  <thead>\n",
       "    <tr style=\"text-align: right;\">\n",
       "      <th></th>\n",
       "      <th>ZIP</th>\n",
       "      <th>date</th>\n",
       "      <th>temperature</th>\n",
       "      <th>quarter</th>\n",
       "      <th>precipitation</th>\n",
       "    </tr>\n",
       "  </thead>\n",
       "  <tbody>\n",
       "    <tr>\n",
       "      <th>0</th>\n",
       "      <td>1001</td>\n",
       "      <td>19810101.0</td>\n",
       "      <td>-5.148</td>\n",
       "      <td>1</td>\n",
       "      <td>0.0</td>\n",
       "    </tr>\n",
       "    <tr>\n",
       "      <th>1</th>\n",
       "      <td>1002</td>\n",
       "      <td>19810101.0</td>\n",
       "      <td>-5.678</td>\n",
       "      <td>1</td>\n",
       "      <td>0.0</td>\n",
       "    </tr>\n",
       "    <tr>\n",
       "      <th>2</th>\n",
       "      <td>1003</td>\n",
       "      <td>19810101.0</td>\n",
       "      <td>-5.460</td>\n",
       "      <td>1</td>\n",
       "      <td>0.0</td>\n",
       "    </tr>\n",
       "    <tr>\n",
       "      <th>3</th>\n",
       "      <td>1005</td>\n",
       "      <td>19810101.0</td>\n",
       "      <td>-6.078</td>\n",
       "      <td>1</td>\n",
       "      <td>0.0</td>\n",
       "    </tr>\n",
       "    <tr>\n",
       "      <th>4</th>\n",
       "      <td>1007</td>\n",
       "      <td>19810101.0</td>\n",
       "      <td>-5.815</td>\n",
       "      <td>1</td>\n",
       "      <td>0.0</td>\n",
       "    </tr>\n",
       "  </tbody>\n",
       "</table>\n",
       "</div>"
      ],
      "text/plain": [
       "    ZIP        date  temperature  quarter  precipitation\n",
       "0  1001  19810101.0       -5.148        1            0.0\n",
       "1  1002  19810101.0       -5.678        1            0.0\n",
       "2  1003  19810101.0       -5.460        1            0.0\n",
       "3  1005  19810101.0       -6.078        1            0.0\n",
       "4  1007  19810101.0       -5.815        1            0.0"
      ]
     },
     "execution_count": 82,
     "metadata": {},
     "output_type": "execute_result"
    }
   ],
   "source": [
    "# tempData['precipitation'] = precipData.precipitation\n",
    "weatherData = weatherData.assign(precipitation=precipData.precipitation)\n",
    "weatherData.head()"
   ]
  },
  {
   "cell_type": "code",
   "execution_count": 52,
   "metadata": {},
   "outputs": [
    {
     "name": "stdout",
     "output_type": "stream",
     "text": [
      "0.00014066696166992188\n"
     ]
    }
   ],
   "source": [
    "start = time.time()\n",
    "\n",
    "# tempData['temp5Days']     = tempData.groupby(by='ZIP').apply(lambda df_g: df_g['temperature'].rolling(5).mean(), meta=('temperature', 'f8'))\n",
    "# precipData['precip5Days']    = precipData.groupby(by='ZIP').apply(lambda df_g: df_g['precipitation'].rolling(5).mean(), meta=('precipitation', 'f8'))\n",
    "# precipData['precipQtrMean']  = precipData.groupby(by='quarter').apply(lambda df_g: df_g['precipitation'].mean(), meta=('precipitation', 'f8'))\n",
    "\n",
    "print(time.time() - start)"
   ]
  },
  {
   "cell_type": "code",
   "execution_count": 95,
   "metadata": {},
   "outputs": [
    {
     "name": "stdout",
     "output_type": "stream",
     "text": [
      "   quarter  quarterly_var_temp  quarterly_var_precip\n",
      "0        1           90.610895             55.668947\n",
      "1        2           56.110724             55.242613\n",
      "2        3           28.900500             56.412663\n",
      "3        4           90.470189             57.189735    quarter  quarterly_avg_temp  quarterly_avg_precip\n",
      "0        1            8.435430              2.614472\n",
      "1        2           22.821419              2.687989\n",
      "2        3           28.293629              2.790931\n",
      "3        4           13.120395              2.766938\n"
     ]
    }
   ],
   "source": [
    "quarterlyAvg = weatherData.groupby('quarter').mean().compute(workers = 100).\\\n",
    "    reset_index()[['quarter','temperature','precipitation']].rename(columns = {'temperature': 'quarterly_avg_temp',\n",
    "                                                                              'precipitation': 'quarterly_avg_precip'})\n",
    "\n",
    "\n",
    "quarterlyVar = weatherData.groupby('quarter').var().compute(workers = 100).\\\n",
    "    reset_index()[['quarter','temperature','precipitation']].rename(columns = {'temperature': 'quarterly_var_temp',\n",
    "                                                                              'precipitation': 'quarterly_var_precip'})\n",
    "print(quarterlyVar,quarterlyAvg)\n",
    "\n",
    "\n",
    "quarterlyStatsOverall = quarterlyVar.merge(quarterlyAvg)"
   ]
  },
  {
   "cell_type": "code",
   "execution_count": 175,
   "metadata": {},
   "outputs": [
    {
     "ename": "AttributeError",
     "evalue": "'Column not found: percentile'",
     "output_type": "error",
     "traceback": [
      "\u001b[0;31m---------------------------------------------------------------------------\u001b[0m",
      "\u001b[0;31mKeyError\u001b[0m                                  Traceback (most recent call last)",
      "\u001b[0;32m~/opt/anaconda3/lib/python3.7/site-packages/dask/dataframe/groupby.py\u001b[0m in \u001b[0;36m__getattr__\u001b[0;34m(self, key)\u001b[0m\n\u001b[1;32m   1703\u001b[0m         \u001b[0;32mtry\u001b[0m\u001b[0;34m:\u001b[0m\u001b[0;34m\u001b[0m\u001b[0;34m\u001b[0m\u001b[0m\n\u001b[0;32m-> 1704\u001b[0;31m             \u001b[0;32mreturn\u001b[0m \u001b[0mself\u001b[0m\u001b[0;34m[\u001b[0m\u001b[0mkey\u001b[0m\u001b[0;34m]\u001b[0m\u001b[0;34m\u001b[0m\u001b[0;34m\u001b[0m\u001b[0m\n\u001b[0m\u001b[1;32m   1705\u001b[0m         \u001b[0;32mexcept\u001b[0m \u001b[0mKeyError\u001b[0m \u001b[0;32mas\u001b[0m \u001b[0me\u001b[0m\u001b[0;34m:\u001b[0m\u001b[0;34m\u001b[0m\u001b[0;34m\u001b[0m\u001b[0m\n",
      "\u001b[0;32m~/opt/anaconda3/lib/python3.7/site-packages/dask/dataframe/groupby.py\u001b[0m in \u001b[0;36m__getitem__\u001b[0;34m(self, key)\u001b[0m\n\u001b[1;32m   1689\u001b[0m         \u001b[0;31m# error is raised from pandas\u001b[0m\u001b[0;34m\u001b[0m\u001b[0;34m\u001b[0m\u001b[0;34m\u001b[0m\u001b[0m\n\u001b[0;32m-> 1690\u001b[0;31m         \u001b[0mg\u001b[0m\u001b[0;34m.\u001b[0m\u001b[0m_meta\u001b[0m \u001b[0;34m=\u001b[0m \u001b[0mg\u001b[0m\u001b[0;34m.\u001b[0m\u001b[0m_meta\u001b[0m\u001b[0;34m[\u001b[0m\u001b[0mkey\u001b[0m\u001b[0;34m]\u001b[0m\u001b[0;34m\u001b[0m\u001b[0;34m\u001b[0m\u001b[0m\n\u001b[0m\u001b[1;32m   1691\u001b[0m         \u001b[0;32mreturn\u001b[0m \u001b[0mg\u001b[0m\u001b[0;34m\u001b[0m\u001b[0;34m\u001b[0m\u001b[0m\n",
      "\u001b[0;32m~/opt/anaconda3/lib/python3.7/site-packages/pandas/core/groupby/generic.py\u001b[0m in \u001b[0;36m__getitem__\u001b[0;34m(self, key)\u001b[0m\n\u001b[1;32m   1537\u001b[0m             )\n\u001b[0;32m-> 1538\u001b[0;31m         \u001b[0;32mreturn\u001b[0m \u001b[0msuper\u001b[0m\u001b[0;34m(\u001b[0m\u001b[0;34m)\u001b[0m\u001b[0;34m.\u001b[0m\u001b[0m__getitem__\u001b[0m\u001b[0;34m(\u001b[0m\u001b[0mkey\u001b[0m\u001b[0;34m)\u001b[0m\u001b[0;34m\u001b[0m\u001b[0;34m\u001b[0m\u001b[0m\n\u001b[0m\u001b[1;32m   1539\u001b[0m \u001b[0;34m\u001b[0m\u001b[0m\n",
      "\u001b[0;32m~/opt/anaconda3/lib/python3.7/site-packages/pandas/core/base.py\u001b[0m in \u001b[0;36m__getitem__\u001b[0;34m(self, key)\u001b[0m\n\u001b[1;32m    231\u001b[0m             \u001b[0;32mif\u001b[0m \u001b[0mkey\u001b[0m \u001b[0;32mnot\u001b[0m \u001b[0;32min\u001b[0m \u001b[0mself\u001b[0m\u001b[0;34m.\u001b[0m\u001b[0mobj\u001b[0m\u001b[0;34m:\u001b[0m\u001b[0;34m\u001b[0m\u001b[0;34m\u001b[0m\u001b[0m\n\u001b[0;32m--> 232\u001b[0;31m                 \u001b[0;32mraise\u001b[0m \u001b[0mKeyError\u001b[0m\u001b[0;34m(\u001b[0m\u001b[0;34mf\"Column not found: {key}\"\u001b[0m\u001b[0;34m)\u001b[0m\u001b[0;34m\u001b[0m\u001b[0;34m\u001b[0m\u001b[0m\n\u001b[0m\u001b[1;32m    233\u001b[0m             \u001b[0msubset\u001b[0m \u001b[0;34m=\u001b[0m \u001b[0mself\u001b[0m\u001b[0;34m.\u001b[0m\u001b[0mobj\u001b[0m\u001b[0;34m[\u001b[0m\u001b[0mkey\u001b[0m\u001b[0;34m]\u001b[0m\u001b[0;34m\u001b[0m\u001b[0;34m\u001b[0m\u001b[0m\n",
      "\u001b[0;31mKeyError\u001b[0m: 'Column not found: percentile'",
      "\nDuring handling of the above exception, another exception occurred:\n",
      "\u001b[0;31mAttributeError\u001b[0m                            Traceback (most recent call last)",
      "\u001b[0;32m<ipython-input-175-6a52640a5090>\u001b[0m in \u001b[0;36m<module>\u001b[0;34m\u001b[0m\n\u001b[0;32m----> 1\u001b[0;31m \u001b[0mweatherData\u001b[0m\u001b[0;34m.\u001b[0m\u001b[0mgroupby\u001b[0m\u001b[0;34m(\u001b[0m\u001b[0;34m[\u001b[0m\u001b[0;34m'ZIP'\u001b[0m\u001b[0;34m,\u001b[0m\u001b[0;34m'quarter'\u001b[0m\u001b[0;34m]\u001b[0m\u001b[0;34m)\u001b[0m\u001b[0;34m.\u001b[0m\u001b[0mpercentile\u001b[0m\u001b[0;34m(\u001b[0m\u001b[0;34m[\u001b[0m\u001b[0;36m0.5\u001b[0m\u001b[0;34m]\u001b[0m\u001b[0;34m)\u001b[0m\u001b[0;34m\u001b[0m\u001b[0;34m\u001b[0m\u001b[0m\n\u001b[0m",
      "\u001b[0;32m~/opt/anaconda3/lib/python3.7/site-packages/dask/dataframe/groupby.py\u001b[0m in \u001b[0;36m__getattr__\u001b[0;34m(self, key)\u001b[0m\n\u001b[1;32m   1704\u001b[0m             \u001b[0;32mreturn\u001b[0m \u001b[0mself\u001b[0m\u001b[0;34m[\u001b[0m\u001b[0mkey\u001b[0m\u001b[0;34m]\u001b[0m\u001b[0;34m\u001b[0m\u001b[0;34m\u001b[0m\u001b[0m\n\u001b[1;32m   1705\u001b[0m         \u001b[0;32mexcept\u001b[0m \u001b[0mKeyError\u001b[0m \u001b[0;32mas\u001b[0m \u001b[0me\u001b[0m\u001b[0;34m:\u001b[0m\u001b[0;34m\u001b[0m\u001b[0;34m\u001b[0m\u001b[0m\n\u001b[0;32m-> 1706\u001b[0;31m             \u001b[0;32mraise\u001b[0m \u001b[0mAttributeError\u001b[0m\u001b[0;34m(\u001b[0m\u001b[0me\u001b[0m\u001b[0;34m)\u001b[0m\u001b[0;34m\u001b[0m\u001b[0;34m\u001b[0m\u001b[0m\n\u001b[0m\u001b[1;32m   1707\u001b[0m \u001b[0;34m\u001b[0m\u001b[0m\n\u001b[1;32m   1708\u001b[0m     \u001b[0;34m@\u001b[0m\u001b[0mderived_from\u001b[0m\u001b[0;34m(\u001b[0m\u001b[0mpd\u001b[0m\u001b[0;34m.\u001b[0m\u001b[0mcore\u001b[0m\u001b[0;34m.\u001b[0m\u001b[0mgroupby\u001b[0m\u001b[0;34m.\u001b[0m\u001b[0mDataFrameGroupBy\u001b[0m\u001b[0;34m)\u001b[0m\u001b[0;34m\u001b[0m\u001b[0;34m\u001b[0m\u001b[0m\n",
      "\u001b[0;31mAttributeError\u001b[0m: 'Column not found: percentile'"
     ]
    }
   ],
   "source": [
    "weatherData.groupby(['ZIP','quarter']).percentile([0.5])"
   ]
  },
  {
   "cell_type": "code",
   "execution_count": 96,
   "metadata": {},
   "outputs": [
    {
     "name": "stdout",
     "output_type": "stream",
     "text": [
      "          ZIP  quarter  quarterly_var_temp  quarterly_var_precip\n",
      "0        1001        1           42.033604             52.755125\n",
      "1        1002        1           41.171977             56.631223\n",
      "2        1003        1           41.356117             56.334398\n",
      "3        1005        1           41.334653             52.233328\n",
      "4        1007        1           41.264102             57.015382\n",
      "...       ...      ...                 ...                   ...\n",
      "130619  99363        4           60.124202             67.076533\n",
      "130620  99371        4           63.550457             64.528976\n",
      "130621  99401        4           52.100346             78.005397\n",
      "130622  99402        4           49.997708             75.491973\n",
      "130623  99403        4           52.217880             69.550950\n",
      "\n",
      "[130624 rows x 4 columns]           ZIP  quarter  quarterly_avg_temp  quarterly_avg_precip\n",
      "0        1001        1            4.253855              2.372867\n",
      "1        1002        1            2.991732              2.418594\n",
      "2        1003        1            3.906219              2.519859\n",
      "3        1005        1            2.107410              2.463722\n",
      "4        1007        1            3.398788              2.501641\n",
      "...       ...      ...                 ...                   ...\n",
      "130619  99363        4           10.325268              2.932007\n",
      "130620  99371        4            9.544321              2.942717\n",
      "130621  99401        4            7.675624              2.926695\n",
      "130622  99402        4            8.183052              2.885631\n",
      "130623  99403        4            9.414129              3.008188\n",
      "\n",
      "[130624 rows x 4 columns]\n"
     ]
    }
   ],
   "source": [
    "quarterlyAvgByZip = weatherData.groupby(['ZIP','quarter']).mean().compute(workers = 100).\\\n",
    "    reset_index()[['ZIP','quarter','temperature','precipitation']].rename(columns = {'temperature': 'quarterly_avg_temp',\n",
    "                                                                              'precipitation': 'quarterly_avg_precip'})\n",
    "\n",
    "\n",
    "quarterlyVarByZip = weatherData.groupby(['ZIP','quarter']).var().compute(workers = 100).\\\n",
    "    reset_index()[['ZIP','quarter','temperature','precipitation']].rename(columns = {'temperature': 'quarterly_var_temp',\n",
    "                                                                              'precipitation': 'quarterly_var_precip'})\n",
    "print(quarterlyVarByZip,quarterlyAvgByZip)\n",
    "\n",
    "\n",
    "quarterlyStatsByZip = quarterlyAvgByZip.merge(quarterlyVarByZip)"
   ]
  },
  {
   "cell_type": "code",
   "execution_count": 97,
   "metadata": {},
   "outputs": [],
   "source": [
    "quarterlyStatsOverall.to_csv(\"../../data/companyData/quarterlyStatsOverall_allZips.csv\")\n",
    "quarterlyStatsByZip.to_csv(\"../../data/companyData/quarterlyStatsByZip_allZips.csv\")"
   ]
  },
  {
   "cell_type": "code",
   "execution_count": 98,
   "metadata": {},
   "outputs": [
    {
     "data": {
      "text/html": [
       "<div>\n",
       "<style scoped>\n",
       "    .dataframe tbody tr th:only-of-type {\n",
       "        vertical-align: middle;\n",
       "    }\n",
       "\n",
       "    .dataframe tbody tr th {\n",
       "        vertical-align: top;\n",
       "    }\n",
       "\n",
       "    .dataframe thead th {\n",
       "        text-align: right;\n",
       "    }\n",
       "</style>\n",
       "<table border=\"1\" class=\"dataframe\">\n",
       "  <thead>\n",
       "    <tr style=\"text-align: right;\">\n",
       "      <th></th>\n",
       "      <th>ZIP</th>\n",
       "      <th>quarter</th>\n",
       "      <th>quarterly_avg_temp</th>\n",
       "      <th>quarterly_avg_precip</th>\n",
       "      <th>quarterly_var_temp</th>\n",
       "      <th>quarterly_var_precip</th>\n",
       "    </tr>\n",
       "  </thead>\n",
       "  <tbody>\n",
       "    <tr>\n",
       "      <th>0</th>\n",
       "      <td>1001</td>\n",
       "      <td>1</td>\n",
       "      <td>4.253855</td>\n",
       "      <td>2.372867</td>\n",
       "      <td>42.033604</td>\n",
       "      <td>52.755125</td>\n",
       "    </tr>\n",
       "    <tr>\n",
       "      <th>1</th>\n",
       "      <td>1002</td>\n",
       "      <td>1</td>\n",
       "      <td>2.991732</td>\n",
       "      <td>2.418594</td>\n",
       "      <td>41.171977</td>\n",
       "      <td>56.631223</td>\n",
       "    </tr>\n",
       "    <tr>\n",
       "      <th>2</th>\n",
       "      <td>1003</td>\n",
       "      <td>1</td>\n",
       "      <td>3.906219</td>\n",
       "      <td>2.519859</td>\n",
       "      <td>41.356117</td>\n",
       "      <td>56.334398</td>\n",
       "    </tr>\n",
       "    <tr>\n",
       "      <th>3</th>\n",
       "      <td>1005</td>\n",
       "      <td>1</td>\n",
       "      <td>2.107410</td>\n",
       "      <td>2.463722</td>\n",
       "      <td>41.334653</td>\n",
       "      <td>52.233328</td>\n",
       "    </tr>\n",
       "    <tr>\n",
       "      <th>4</th>\n",
       "      <td>1007</td>\n",
       "      <td>1</td>\n",
       "      <td>3.398788</td>\n",
       "      <td>2.501641</td>\n",
       "      <td>41.264102</td>\n",
       "      <td>57.015382</td>\n",
       "    </tr>\n",
       "  </tbody>\n",
       "</table>\n",
       "</div>"
      ],
      "text/plain": [
       "    ZIP  quarter  quarterly_avg_temp  quarterly_avg_precip  \\\n",
       "0  1001        1            4.253855              2.372867   \n",
       "1  1002        1            2.991732              2.418594   \n",
       "2  1003        1            3.906219              2.519859   \n",
       "3  1005        1            2.107410              2.463722   \n",
       "4  1007        1            3.398788              2.501641   \n",
       "\n",
       "   quarterly_var_temp  quarterly_var_precip  \n",
       "0           42.033604             52.755125  \n",
       "1           41.171977             56.631223  \n",
       "2           41.356117             56.334398  \n",
       "3           41.334653             52.233328  \n",
       "4           41.264102             57.015382  "
      ]
     },
     "execution_count": 98,
     "metadata": {},
     "output_type": "execute_result"
    }
   ],
   "source": [
    "quarterlyStatsByZip.head()"
   ]
  },
  {
   "cell_type": "code",
   "execution_count": null,
   "metadata": {},
   "outputs": [],
   "source": [
    "del quarterlyStatsByZip\n",
    "gc.collect()"
   ]
  },
  {
   "cell_type": "markdown",
   "metadata": {},
   "source": [
    "### Find Quartiles"
   ]
  },
  {
   "cell_type": "code",
   "execution_count": 112,
   "metadata": {},
   "outputs": [],
   "source": [
    "def getPivotQuantsOverall(weatherType,weatherData):\n",
    "\n",
    "    quants_overall  =  weatherData[weatherType].quantile(q = quantiles).reset_index().\\\n",
    "        rename(columns = {'index': 'quartile'}).compute(workers = 100)    \n",
    "    \n",
    "    quants_overall['quartile'] = 'q_' + quants_overall['quartile'].astype(str).str.slice(0,6)\n",
    "    quants_overall = quants_overall.iloc[:,1:].values.flatten().tolist()\n",
    "\n",
    "    return(quants_overall)"
   ]
  },
  {
   "cell_type": "code",
   "execution_count": 126,
   "metadata": {},
   "outputs": [
    {
     "data": {
      "text/html": [
       "<div>\n",
       "<style scoped>\n",
       "    .dataframe tbody tr th:only-of-type {\n",
       "        vertical-align: middle;\n",
       "    }\n",
       "\n",
       "    .dataframe tbody tr th {\n",
       "        vertical-align: top;\n",
       "    }\n",
       "\n",
       "    .dataframe thead th {\n",
       "        text-align: right;\n",
       "    }\n",
       "</style>\n",
       "<table border=\"1\" class=\"dataframe\">\n",
       "  <thead>\n",
       "    <tr style=\"text-align: right;\">\n",
       "      <th></th>\n",
       "      <th>ZIP</th>\n",
       "      <th>date</th>\n",
       "      <th>temperature</th>\n",
       "      <th>quarter</th>\n",
       "      <th>precipitation</th>\n",
       "    </tr>\n",
       "  </thead>\n",
       "  <tbody>\n",
       "    <tr>\n",
       "      <th>0</th>\n",
       "      <td>1001</td>\n",
       "      <td>19810101.0</td>\n",
       "      <td>-5.148</td>\n",
       "      <td>1</td>\n",
       "      <td>0.0</td>\n",
       "    </tr>\n",
       "    <tr>\n",
       "      <th>1</th>\n",
       "      <td>1002</td>\n",
       "      <td>19810101.0</td>\n",
       "      <td>-5.678</td>\n",
       "      <td>1</td>\n",
       "      <td>0.0</td>\n",
       "    </tr>\n",
       "    <tr>\n",
       "      <th>2</th>\n",
       "      <td>1003</td>\n",
       "      <td>19810101.0</td>\n",
       "      <td>-5.460</td>\n",
       "      <td>1</td>\n",
       "      <td>0.0</td>\n",
       "    </tr>\n",
       "    <tr>\n",
       "      <th>3</th>\n",
       "      <td>1005</td>\n",
       "      <td>19810101.0</td>\n",
       "      <td>-6.078</td>\n",
       "      <td>1</td>\n",
       "      <td>0.0</td>\n",
       "    </tr>\n",
       "    <tr>\n",
       "      <th>4</th>\n",
       "      <td>1007</td>\n",
       "      <td>19810101.0</td>\n",
       "      <td>-5.815</td>\n",
       "      <td>1</td>\n",
       "      <td>0.0</td>\n",
       "    </tr>\n",
       "  </tbody>\n",
       "</table>\n",
       "</div>"
      ],
      "text/plain": [
       "    ZIP        date  temperature  quarter  precipitation\n",
       "0  1001  19810101.0       -5.148        1            0.0\n",
       "1  1002  19810101.0       -5.678        1            0.0\n",
       "2  1003  19810101.0       -5.460        1            0.0\n",
       "3  1005  19810101.0       -6.078        1            0.0\n",
       "4  1007  19810101.0       -5.815        1            0.0"
      ]
     },
     "execution_count": 126,
     "metadata": {},
     "output_type": "execute_result"
    }
   ],
   "source": [
    "weatherData.head()"
   ]
  },
  {
   "cell_type": "code",
   "execution_count": 170,
   "metadata": {},
   "outputs": [
    {
     "ename": "TypeError",
     "evalue": "__init__() missing 1 required positional argument: 'chunk'",
     "output_type": "error",
     "traceback": [
      "\u001b[0;31m---------------------------------------------------------------------------\u001b[0m",
      "\u001b[0;31mTypeError\u001b[0m                                 Traceback (most recent call last)",
      "\u001b[0;32m<ipython-input-170-1ca82b48b29f>\u001b[0m in \u001b[0;36m<module>\u001b[0;34m\u001b[0m\n\u001b[1;32m      2\u001b[0m        \u001b[0;32mreturn\u001b[0m \u001b[0ms\u001b[0m\u001b[0;34m.\u001b[0m\u001b[0mquantile\u001b[0m\u001b[0;34m(\u001b[0m\u001b[0mq\u001b[0m \u001b[0;34m=\u001b[0m \u001b[0;36m0.5\u001b[0m\u001b[0;34m)\u001b[0m\u001b[0;34m\u001b[0m\u001b[0;34m\u001b[0m\u001b[0m\n\u001b[1;32m      3\u001b[0m \u001b[0;34m\u001b[0m\u001b[0m\n\u001b[0;32m----> 4\u001b[0;31m \u001b[0mquants\u001b[0m \u001b[0;34m=\u001b[0m \u001b[0mdd\u001b[0m\u001b[0;34m.\u001b[0m\u001b[0mAggregation\u001b[0m\u001b[0;34m(\u001b[0m\u001b[0;34m'quants'\u001b[0m\u001b[0;34m,\u001b[0m \u001b[0magg\u001b[0m \u001b[0;34m=\u001b[0m \u001b[0mqDask\u001b[0m\u001b[0;34m)\u001b[0m\u001b[0;34m\u001b[0m\u001b[0;34m\u001b[0m\u001b[0m\n\u001b[0m",
      "\u001b[0;31mTypeError\u001b[0m: __init__() missing 1 required positional argument: 'chunk'"
     ]
    }
   ],
   "source": [
    " def qDask(s):\n",
    "        return s.quantile(q = 0.5)\n",
    "    \n",
    "quants = dd.Aggregation('quants', agg = qDask)\n"
   ]
  },
  {
   "cell_type": "code",
   "execution_count": 167,
   "metadata": {},
   "outputs": [
    {
     "ename": "ValueError",
     "evalue": "unknown aggregate qDask",
     "output_type": "error",
     "traceback": [
      "\u001b[0;31m---------------------------------------------------------------------------\u001b[0m",
      "\u001b[0;31mValueError\u001b[0m                                Traceback (most recent call last)",
      "\u001b[0;32m<ipython-input-167-061039665b50>\u001b[0m in \u001b[0;36m<module>\u001b[0;34m\u001b[0m\n\u001b[1;32m      2\u001b[0m \u001b[0mweatherType\u001b[0m \u001b[0;34m=\u001b[0m \u001b[0;34m'precipitation'\u001b[0m\u001b[0;34m\u001b[0m\u001b[0;34m\u001b[0m\u001b[0m\n\u001b[1;32m      3\u001b[0m \u001b[0;34m\u001b[0m\u001b[0m\n\u001b[0;32m----> 4\u001b[0;31m \u001b[0mprint\u001b[0m\u001b[0;34m(\u001b[0m\u001b[0mweatherData\u001b[0m\u001b[0;34m.\u001b[0m\u001b[0mgroupby\u001b[0m\u001b[0;34m(\u001b[0m\u001b[0midentifiers\u001b[0m\u001b[0;34m)\u001b[0m\u001b[0;34m[\u001b[0m\u001b[0mweatherType\u001b[0m\u001b[0;34m]\u001b[0m\u001b[0;34m.\u001b[0m\u001b[0magg\u001b[0m\u001b[0;34m(\u001b[0m\u001b[0;34m[\u001b[0m\u001b[0mqDask\u001b[0m\u001b[0;34m]\u001b[0m\u001b[0;34m)\u001b[0m\u001b[0;34m.\u001b[0m\u001b[0mcompute\u001b[0m\u001b[0;34m(\u001b[0m\u001b[0mworkers\u001b[0m \u001b[0;34m=\u001b[0m \u001b[0;36m100\u001b[0m\u001b[0;34m)\u001b[0m\u001b[0;34m)\u001b[0m\u001b[0;34m\u001b[0m\u001b[0;34m\u001b[0m\u001b[0m\n\u001b[0m\u001b[1;32m      5\u001b[0m \u001b[0;34m\u001b[0m\u001b[0m\n\u001b[1;32m      6\u001b[0m '''.quantile(q = quantiles).reset_index().\\\n",
      "\u001b[0;32m~/opt/anaconda3/lib/python3.7/site-packages/dask/dataframe/groupby.py\u001b[0m in \u001b[0;36magg\u001b[0;34m(self, arg, split_every, split_out)\u001b[0m\n\u001b[1;32m   1784\u001b[0m     \u001b[0;34m@\u001b[0m\u001b[0mderived_from\u001b[0m\u001b[0;34m(\u001b[0m\u001b[0mpd\u001b[0m\u001b[0;34m.\u001b[0m\u001b[0mcore\u001b[0m\u001b[0;34m.\u001b[0m\u001b[0mgroupby\u001b[0m\u001b[0;34m.\u001b[0m\u001b[0mSeriesGroupBy\u001b[0m\u001b[0;34m)\u001b[0m\u001b[0;34m\u001b[0m\u001b[0;34m\u001b[0m\u001b[0m\n\u001b[1;32m   1785\u001b[0m     \u001b[0;32mdef\u001b[0m \u001b[0magg\u001b[0m\u001b[0;34m(\u001b[0m\u001b[0mself\u001b[0m\u001b[0;34m,\u001b[0m \u001b[0marg\u001b[0m\u001b[0;34m,\u001b[0m \u001b[0msplit_every\u001b[0m\u001b[0;34m=\u001b[0m\u001b[0;32mNone\u001b[0m\u001b[0;34m,\u001b[0m \u001b[0msplit_out\u001b[0m\u001b[0;34m=\u001b[0m\u001b[0;36m1\u001b[0m\u001b[0;34m)\u001b[0m\u001b[0;34m:\u001b[0m\u001b[0;34m\u001b[0m\u001b[0;34m\u001b[0m\u001b[0m\n\u001b[0;32m-> 1786\u001b[0;31m         \u001b[0;32mreturn\u001b[0m \u001b[0mself\u001b[0m\u001b[0;34m.\u001b[0m\u001b[0maggregate\u001b[0m\u001b[0;34m(\u001b[0m\u001b[0marg\u001b[0m\u001b[0;34m,\u001b[0m \u001b[0msplit_every\u001b[0m\u001b[0;34m=\u001b[0m\u001b[0msplit_every\u001b[0m\u001b[0;34m,\u001b[0m \u001b[0msplit_out\u001b[0m\u001b[0;34m=\u001b[0m\u001b[0msplit_out\u001b[0m\u001b[0;34m)\u001b[0m\u001b[0;34m\u001b[0m\u001b[0;34m\u001b[0m\u001b[0m\n\u001b[0m",
      "\u001b[0;32m~/opt/anaconda3/lib/python3.7/site-packages/dask/dataframe/groupby.py\u001b[0m in \u001b[0;36maggregate\u001b[0;34m(self, arg, split_every, split_out)\u001b[0m\n\u001b[1;32m   1772\u001b[0m     \u001b[0;32mdef\u001b[0m \u001b[0maggregate\u001b[0m\u001b[0;34m(\u001b[0m\u001b[0mself\u001b[0m\u001b[0;34m,\u001b[0m \u001b[0marg\u001b[0m\u001b[0;34m,\u001b[0m \u001b[0msplit_every\u001b[0m\u001b[0;34m=\u001b[0m\u001b[0;32mNone\u001b[0m\u001b[0;34m,\u001b[0m \u001b[0msplit_out\u001b[0m\u001b[0;34m=\u001b[0m\u001b[0;36m1\u001b[0m\u001b[0;34m)\u001b[0m\u001b[0;34m:\u001b[0m\u001b[0;34m\u001b[0m\u001b[0;34m\u001b[0m\u001b[0m\n\u001b[1;32m   1773\u001b[0m         result = super(SeriesGroupBy, self).aggregate(\n\u001b[0;32m-> 1774\u001b[0;31m             \u001b[0marg\u001b[0m\u001b[0;34m,\u001b[0m \u001b[0msplit_every\u001b[0m\u001b[0;34m=\u001b[0m\u001b[0msplit_every\u001b[0m\u001b[0;34m,\u001b[0m \u001b[0msplit_out\u001b[0m\u001b[0;34m=\u001b[0m\u001b[0msplit_out\u001b[0m\u001b[0;34m\u001b[0m\u001b[0;34m\u001b[0m\u001b[0m\n\u001b[0m\u001b[1;32m   1775\u001b[0m         )\n\u001b[1;32m   1776\u001b[0m         \u001b[0;32mif\u001b[0m \u001b[0mself\u001b[0m\u001b[0;34m.\u001b[0m\u001b[0m_slice\u001b[0m\u001b[0;34m:\u001b[0m\u001b[0;34m\u001b[0m\u001b[0;34m\u001b[0m\u001b[0m\n",
      "\u001b[0;32m~/opt/anaconda3/lib/python3.7/site-packages/dask/dataframe/groupby.py\u001b[0m in \u001b[0;36maggregate\u001b[0;34m(self, arg, split_every, split_out)\u001b[0m\n\u001b[1;32m   1473\u001b[0m             \u001b[0;32mraise\u001b[0m \u001b[0mValueError\u001b[0m\u001b[0;34m(\u001b[0m\u001b[0;34m\"aggregate on unknown object {}\"\u001b[0m\u001b[0;34m.\u001b[0m\u001b[0mformat\u001b[0m\u001b[0;34m(\u001b[0m\u001b[0mself\u001b[0m\u001b[0;34m.\u001b[0m\u001b[0mobj\u001b[0m\u001b[0;34m)\u001b[0m\u001b[0;34m)\u001b[0m\u001b[0;34m\u001b[0m\u001b[0;34m\u001b[0m\u001b[0m\n\u001b[1;32m   1474\u001b[0m \u001b[0;34m\u001b[0m\u001b[0m\n\u001b[0;32m-> 1475\u001b[0;31m         \u001b[0mchunk_funcs\u001b[0m\u001b[0;34m,\u001b[0m \u001b[0maggregate_funcs\u001b[0m\u001b[0;34m,\u001b[0m \u001b[0mfinalizers\u001b[0m \u001b[0;34m=\u001b[0m \u001b[0m_build_agg_args\u001b[0m\u001b[0;34m(\u001b[0m\u001b[0mspec\u001b[0m\u001b[0;34m)\u001b[0m\u001b[0;34m\u001b[0m\u001b[0;34m\u001b[0m\u001b[0m\n\u001b[0m\u001b[1;32m   1476\u001b[0m \u001b[0;34m\u001b[0m\u001b[0m\n\u001b[1;32m   1477\u001b[0m         \u001b[0;32mif\u001b[0m \u001b[0misinstance\u001b[0m\u001b[0;34m(\u001b[0m\u001b[0mself\u001b[0m\u001b[0;34m.\u001b[0m\u001b[0mindex\u001b[0m\u001b[0;34m,\u001b[0m \u001b[0;34m(\u001b[0m\u001b[0mtuple\u001b[0m\u001b[0;34m,\u001b[0m \u001b[0mlist\u001b[0m\u001b[0;34m)\u001b[0m\u001b[0;34m)\u001b[0m \u001b[0;32mand\u001b[0m \u001b[0mlen\u001b[0m\u001b[0;34m(\u001b[0m\u001b[0mself\u001b[0m\u001b[0;34m.\u001b[0m\u001b[0mindex\u001b[0m\u001b[0;34m)\u001b[0m \u001b[0;34m>\u001b[0m \u001b[0;36m1\u001b[0m\u001b[0;34m:\u001b[0m\u001b[0;34m\u001b[0m\u001b[0;34m\u001b[0m\u001b[0m\n",
      "\u001b[0;32m~/opt/anaconda3/lib/python3.7/site-packages/dask/dataframe/groupby.py\u001b[0m in \u001b[0;36m_build_agg_args\u001b[0;34m(spec)\u001b[0m\n\u001b[1;32m    689\u001b[0m             \u001b[0mfunc\u001b[0m \u001b[0;34m=\u001b[0m \u001b[0mfuncname\u001b[0m\u001b[0;34m(\u001b[0m\u001b[0mknown_np_funcs\u001b[0m\u001b[0;34m.\u001b[0m\u001b[0mget\u001b[0m\u001b[0;34m(\u001b[0m\u001b[0mfunc\u001b[0m\u001b[0;34m,\u001b[0m \u001b[0mfunc\u001b[0m\u001b[0;34m)\u001b[0m\u001b[0;34m)\u001b[0m\u001b[0;34m\u001b[0m\u001b[0;34m\u001b[0m\u001b[0m\n\u001b[1;32m    690\u001b[0m \u001b[0;34m\u001b[0m\u001b[0m\n\u001b[0;32m--> 691\u001b[0;31m         \u001b[0mimpls\u001b[0m \u001b[0;34m=\u001b[0m \u001b[0m_build_agg_args_single\u001b[0m\u001b[0;34m(\u001b[0m\u001b[0mresult_column\u001b[0m\u001b[0;34m,\u001b[0m \u001b[0mfunc\u001b[0m\u001b[0;34m,\u001b[0m \u001b[0minput_column\u001b[0m\u001b[0;34m)\u001b[0m\u001b[0;34m\u001b[0m\u001b[0;34m\u001b[0m\u001b[0m\n\u001b[0m\u001b[1;32m    692\u001b[0m \u001b[0;34m\u001b[0m\u001b[0m\n\u001b[1;32m    693\u001b[0m         \u001b[0;31m# overwrite existing result-columns, generate intermediates only once\u001b[0m\u001b[0;34m\u001b[0m\u001b[0;34m\u001b[0m\u001b[0;34m\u001b[0m\u001b[0m\n",
      "\u001b[0;32m~/opt/anaconda3/lib/python3.7/site-packages/dask/dataframe/groupby.py\u001b[0m in \u001b[0;36m_build_agg_args_single\u001b[0;34m(result_column, func, input_column)\u001b[0m\n\u001b[1;32m    733\u001b[0m \u001b[0;34m\u001b[0m\u001b[0m\n\u001b[1;32m    734\u001b[0m     \u001b[0;32melse\u001b[0m\u001b[0;34m:\u001b[0m\u001b[0;34m\u001b[0m\u001b[0;34m\u001b[0m\u001b[0m\n\u001b[0;32m--> 735\u001b[0;31m         \u001b[0;32mraise\u001b[0m \u001b[0mValueError\u001b[0m\u001b[0;34m(\u001b[0m\u001b[0;34m\"unknown aggregate {}\"\u001b[0m\u001b[0;34m.\u001b[0m\u001b[0mformat\u001b[0m\u001b[0;34m(\u001b[0m\u001b[0mfunc\u001b[0m\u001b[0;34m)\u001b[0m\u001b[0;34m)\u001b[0m\u001b[0;34m\u001b[0m\u001b[0;34m\u001b[0m\u001b[0m\n\u001b[0m\u001b[1;32m    736\u001b[0m \u001b[0;34m\u001b[0m\u001b[0m\n\u001b[1;32m    737\u001b[0m \u001b[0;34m\u001b[0m\u001b[0m\n",
      "\u001b[0;31mValueError\u001b[0m: unknown aggregate qDask"
     ]
    }
   ],
   "source": [
    "\n",
    "\n",
    "identifiers = ['ZIP']\n",
    "weatherType = 'precipitation'\n",
    "\n",
    "print(weatherData.groupby(identifiers)[weatherType].agg([qDask]).compute(workers = 100))\n",
    "\n",
    "'''.quantile(q = quantiles).reset_index().\\\n",
    "    rename(columns=lambda x: re.sub('level_[0-9]$','quartile',x)).compute(workers = 100)\n",
    "'''\n",
    "'''[weatherType].quantile(q = quantiles).reset_index().\\\n",
    "        rename(columns=lambda x: re.sub('level_[0-9]$','quartile',x)).compute(workers = 100)'''"
   ]
  },
  {
   "cell_type": "code",
   "execution_count": 157,
   "metadata": {},
   "outputs": [
    {
     "data": {
      "text/plain": [
       "['quant_0.05',\n",
       " 'quant_tossThisOne',\n",
       " 'quant_0.95',\n",
       " 'quant_1x5Qtrs',\n",
       " 'quant_1x5Yrs']"
      ]
     },
     "execution_count": 157,
     "metadata": {},
     "output_type": "execute_result"
    }
   ],
   "source": [
    "quantiles\n",
    "quant_labels"
   ]
  },
  {
   "cell_type": "code",
   "execution_count": 116,
   "metadata": {},
   "outputs": [],
   "source": [
    "def getPivotQuants(weatherType, identifiers,weatherData):\n",
    "\n",
    "    quants_overallByZip   = weatherData.groupby(identifiers)[weatherType].quantile(q = quantiles).reset_index().\\\n",
    "        rename(columns=lambda x: re.sub('level_[0-9]$','quartile',x)).compute(workers = 100)\n",
    "    # rename(columns = {'level_1': 'quartile'})\n",
    "    # print(quants_overallByZip.head())\n",
    "    \n",
    "    quants_overallByZip['quartile'] = 'q_' + quants_overallByZip['quartile'].astype(str).str.slice(0,6)\n",
    "\n",
    "    ## \n",
    "\n",
    "    pivot_quants_overallByZip = quants_overallByZip.pivot(index=identifiers, \n",
    "            columns='quartile', values=str(weatherType)).reset_index().\\\n",
    "            rename_axis(None, axis=1)\n",
    "\n",
    "    pivot_quants_overallByZip['quartileList']      = pivot_quants_overallByZip.iloc[:,len(identifiers):].values.tolist()\n",
    "    pivot_quants_overallByZip['quartileLabelList'] = [list(pivot_quants_overallByZip.columns[2:-1])] * \\\n",
    "                                                                    pivot_quants_overallByZip.shape[0]\n",
    "\n",
    "    pivot_quants_overallByZip = pivot_quants_overallByZip[pivot_quants_overallByZip.\\\n",
    "                                                            columns.drop(list(pivot_quants_overallByZip.filter(regex='q_')))]\n",
    "\n",
    "    # pivot_quants_overallByZip.head()\n",
    "\n",
    "    return(pivot_quants_overallByZip)"
   ]
  },
  {
   "cell_type": "code",
   "execution_count": 103,
   "metadata": {},
   "outputs": [],
   "source": [
    "def getQuartCounts(df, weatherType):\n",
    "    weatherCut = weatherType + \"Cut\"\n",
    "    weatherCutLabels = weatherCut + 'labels'\n",
    "    \n",
    "    df['month'] = df.date.astype(str).str.slice(4,6)\n",
    "    \n",
    "    df['quarter'] = 'q1'\n",
    "\n",
    "    df.loc[df['month'].isin(['04','05','06']), 'quarter'] = 'q2'\n",
    "    df.loc[df['month'].isin(['07','08','09']), 'quarter'] = 'q3'\n",
    "    df.loc[df['month'].isin(['10','11','12']), 'quarter'] = 'q4'\n",
    "\n",
    "    df['yearQuarter'] = df.date.astype(str).str.slice(0,4) + df.quarter\n",
    "\n",
    "    occurrences = weatherType + \"Occurrences\" \n",
    "\n",
    "    summaryDF = df.groupby(['ZIP','yearQuarter',weatherCutLabels]).size().reset_index()\n",
    "    summaryDF.columns = ['zip','yearQuarter',weatherCutLabels,occurrences]\n",
    "    \n",
    "    return(summaryDF)"
   ]
  },
  {
   "cell_type": "markdown",
   "metadata": {},
   "source": [
    "Now get all the quartile data:\n",
    "    - Overall\n",
    "    - By zip\n",
    "    - Quarterly by zip"
   ]
  },
  {
   "cell_type": "code",
   "execution_count": 114,
   "metadata": {},
   "outputs": [
    {
     "data": {
      "text/plain": [
       "['quant_0.05',\n",
       " 'quant_tossThisOne',\n",
       " 'quant_0.95',\n",
       " 'quant_1x5Qtrs',\n",
       " 'quant_1x5Yrs']"
      ]
     },
     "execution_count": 114,
     "metadata": {},
     "output_type": "execute_result"
    }
   ],
   "source": [
    "quant_labels"
   ]
  },
  {
   "cell_type": "code",
   "execution_count": 115,
   "metadata": {},
   "outputs": [
    {
     "data": {
      "text/plain": [
       "\"temp5DaysQuants   = getPivotQuantsOverall('temp5Days',weatherData)\\nprecip5DaysQuants = getPivotQuantsOverall('precip5Days',weatherData)\""
      ]
     },
     "execution_count": 115,
     "metadata": {},
     "output_type": "execute_result"
    }
   ],
   "source": [
    "###################\n",
    "# OVERALL\n",
    "tempQuants   = getPivotQuantsOverall('temperature',weatherData)\n",
    "precipQuants = getPivotQuantsOverall('precipitation',weatherData)\n",
    "\n",
    "'''temp5DaysQuants   = getPivotQuantsOverall('temp5Days',weatherData)\n",
    "precip5DaysQuants = getPivotQuantsOverall('precip5Days',weatherData)'''\n"
   ]
  },
  {
   "cell_type": "code",
   "execution_count": 117,
   "metadata": {},
   "outputs": [
    {
     "ename": "AttributeError",
     "evalue": "'SeriesGroupBy' object has no attribute 'quantile'",
     "output_type": "error",
     "traceback": [
      "\u001b[0;31m---------------------------------------------------------------------------\u001b[0m",
      "\u001b[0;31mAttributeError\u001b[0m                            Traceback (most recent call last)",
      "\u001b[0;32m<ipython-input-117-381309a76345>\u001b[0m in \u001b[0;36m<module>\u001b[0;34m\u001b[0m\n\u001b[1;32m      1\u001b[0m \u001b[0;31m####################\u001b[0m\u001b[0;34m\u001b[0m\u001b[0;34m\u001b[0m\u001b[0;34m\u001b[0m\u001b[0m\n\u001b[1;32m      2\u001b[0m \u001b[0;31m# BY ZIP\u001b[0m\u001b[0;34m\u001b[0m\u001b[0;34m\u001b[0m\u001b[0;34m\u001b[0m\u001b[0m\n\u001b[0;32m----> 3\u001b[0;31m \u001b[0mpivot_temperatureQuants_zip\u001b[0m \u001b[0;34m=\u001b[0m \u001b[0mgetPivotQuants\u001b[0m\u001b[0;34m(\u001b[0m\u001b[0;34m'temperature'\u001b[0m\u001b[0;34m,\u001b[0m\u001b[0;34m[\u001b[0m\u001b[0;34m'ZIP'\u001b[0m\u001b[0;34m]\u001b[0m\u001b[0;34m,\u001b[0m\u001b[0mweatherData\u001b[0m\u001b[0;34m)\u001b[0m\u001b[0;34m.\u001b[0m\u001b[0;31m\\\u001b[0m\u001b[0;34m\u001b[0m\u001b[0;34m\u001b[0m\u001b[0m\n\u001b[0m\u001b[1;32m      4\u001b[0m     \u001b[0mdrop\u001b[0m\u001b[0;34m(\u001b[0m\u001b[0mcolumns\u001b[0m \u001b[0;34m=\u001b[0m \u001b[0;34m{\u001b[0m\u001b[0;34m'quartileLabelList'\u001b[0m\u001b[0;34m}\u001b[0m\u001b[0;34m)\u001b[0m\u001b[0;34m\u001b[0m\u001b[0;34m\u001b[0m\u001b[0m\n\u001b[1;32m      5\u001b[0m pivot_temperatureQuants_zip.rename(columns = {'quartileList':     'quartileListTemperature_zip'},\n",
      "\u001b[0;32m<ipython-input-116-d475979ec373>\u001b[0m in \u001b[0;36mgetPivotQuants\u001b[0;34m(weatherType, identifiers, weatherData)\u001b[0m\n\u001b[1;32m      1\u001b[0m \u001b[0;32mdef\u001b[0m \u001b[0mgetPivotQuants\u001b[0m\u001b[0;34m(\u001b[0m\u001b[0mweatherType\u001b[0m\u001b[0;34m,\u001b[0m \u001b[0midentifiers\u001b[0m\u001b[0;34m,\u001b[0m\u001b[0mweatherData\u001b[0m\u001b[0;34m)\u001b[0m\u001b[0;34m:\u001b[0m\u001b[0;34m\u001b[0m\u001b[0;34m\u001b[0m\u001b[0m\n\u001b[1;32m      2\u001b[0m \u001b[0;34m\u001b[0m\u001b[0m\n\u001b[0;32m----> 3\u001b[0;31m     \u001b[0mquants_overallByZip\u001b[0m   \u001b[0;34m=\u001b[0m \u001b[0mweatherData\u001b[0m\u001b[0;34m.\u001b[0m\u001b[0mgroupby\u001b[0m\u001b[0;34m(\u001b[0m\u001b[0midentifiers\u001b[0m\u001b[0;34m)\u001b[0m\u001b[0;34m[\u001b[0m\u001b[0mweatherType\u001b[0m\u001b[0;34m]\u001b[0m\u001b[0;34m.\u001b[0m\u001b[0mquantile\u001b[0m\u001b[0;34m(\u001b[0m\u001b[0mq\u001b[0m \u001b[0;34m=\u001b[0m \u001b[0mquantiles\u001b[0m\u001b[0;34m)\u001b[0m\u001b[0;34m.\u001b[0m\u001b[0mreset_index\u001b[0m\u001b[0;34m(\u001b[0m\u001b[0;34m)\u001b[0m\u001b[0;34m.\u001b[0m\u001b[0;31m\\\u001b[0m\u001b[0;34m\u001b[0m\u001b[0;34m\u001b[0m\u001b[0m\n\u001b[0m\u001b[1;32m      4\u001b[0m         \u001b[0mrename\u001b[0m\u001b[0;34m(\u001b[0m\u001b[0mcolumns\u001b[0m\u001b[0;34m=\u001b[0m\u001b[0;32mlambda\u001b[0m \u001b[0mx\u001b[0m\u001b[0;34m:\u001b[0m \u001b[0mre\u001b[0m\u001b[0;34m.\u001b[0m\u001b[0msub\u001b[0m\u001b[0;34m(\u001b[0m\u001b[0;34m'level_[0-9]$'\u001b[0m\u001b[0;34m,\u001b[0m\u001b[0;34m'quartile'\u001b[0m\u001b[0;34m,\u001b[0m\u001b[0mx\u001b[0m\u001b[0;34m)\u001b[0m\u001b[0;34m)\u001b[0m\u001b[0;34m.\u001b[0m\u001b[0mcompute\u001b[0m\u001b[0;34m(\u001b[0m\u001b[0mworkers\u001b[0m \u001b[0;34m=\u001b[0m \u001b[0;36m100\u001b[0m\u001b[0;34m)\u001b[0m\u001b[0;34m\u001b[0m\u001b[0;34m\u001b[0m\u001b[0m\n\u001b[1;32m      5\u001b[0m     \u001b[0;31m# rename(columns = {'level_1': 'quartile'})\u001b[0m\u001b[0;34m\u001b[0m\u001b[0;34m\u001b[0m\u001b[0;34m\u001b[0m\u001b[0m\n",
      "\u001b[0;31mAttributeError\u001b[0m: 'SeriesGroupBy' object has no attribute 'quantile'"
     ]
    }
   ],
   "source": []
  },
  {
   "cell_type": "code",
   "execution_count": null,
   "metadata": {},
   "outputs": [],
   "source": [
    "####################\n",
    "# BY ZIP\n",
    "pivot_temperatureQuants_zip = getPivotQuants('temperature',['ZIP'],weatherData).\\\n",
    "    drop(columns = {'quartileLabelList'})\n",
    "pivot_temperatureQuants_zip.rename(columns = {'quartileList':     'quartileListTemperature_zip'},\n",
    "                                      inplace = True)\n",
    "\n",
    "pivot_temp5DaysQuants_zip = getPivotQuants('temp5Days',['ZIP'],weatherData).\\\n",
    "    drop(columns = {'quartileLabelList'})\n",
    "pivot_temp5DaysQuants_zip.rename(columns = {'quartileList':     'quartileListTemp5Days_zip'},\n",
    "                                      inplace = True)\n",
    "\n",
    "\n",
    "\n",
    "pivot_precipitationQuants_zip = getPivotQuants('precipitation',['ZIP'],weatherData).\\\n",
    "    drop(columns = {'quartileLabelList'})\n",
    "pivot_precipitationQuants_zip.rename(columns = {'quartileList':     'quartileListPrecipitation_zip'},\n",
    "                                      inplace = True)\n",
    "\n",
    "pivot_precip5DaysQuants_zip = getPivotQuants('precip5Days',['ZIP'],weatherData).\\\n",
    "    drop(columns = {'quartileLabelList'})\n",
    "pivot_precip5DaysQuants_zip.rename(columns = {'quartileList':     'quartileListPrecip5Days_zip'},\n",
    "                                      inplace = True)\n",
    "\n",
    "\n",
    "quants_zip = pivot_temperatureQuants_zip.merge(pivot_precipitationQuants_zip).merge(pivot_temp5DaysQuants_zip).merge(pivot_precip5DaysQuants_zip)\n",
    "\n",
    "\n",
    "\n",
    "##########################################\n",
    "# BY ZIP-QUARTER\n",
    "pivot_temperatureQuants_quarterlyByZip = getPivotQuants('temperature',['ZIP','quarter'],weatherData).\\\n",
    "    drop(columns = {'quartileLabelList'})\n",
    "pivot_temperatureQuants_quarterlyByZip.rename(columns = {'quartileList':     'quartileListTemperature_quarterlyByZip'},\n",
    "                                      inplace = True)\n",
    "pivot_temp5DaysQuants_quarterlyByZip = getPivotQuants('temp5Days',['ZIP','quarter'],weatherData).\\\n",
    "    drop(columns = {'quartileLabelList'})\n",
    "pivot_temp5DaysQuants_quarterlyByZip.rename(columns = {'quartileList':     'quartileListTemp5Days_quarterlyByZip'},\n",
    "                                      inplace = True)\n",
    "\n",
    "\n",
    "\n",
    "pivot_precipitationQuants_quarterlyByZip = getPivotQuants('precipitation',['ZIP','quarter'],weatherData).\\\n",
    "    drop(columns = {'quartileLabelList'})\n",
    "pivot_precipitationQuants_quarterlyByZip.rename(columns = {'quartileList':     'quartileListPrecipitation_quarterlyByZip'},\n",
    "                                      inplace = True)\n",
    "pivot_precip5DaysQuants_quarterlyByZip = getPivotQuants('precip5Days',['ZIP','quarter'],weatherData).\\\n",
    "    drop(columns = {'quartileLabelList'})\n",
    "pivot_precip5DaysQuants_quarterlyByZip.rename(columns = {'quartileList':     'quartileListPrecip5Days_quarterlyByZip'},\n",
    "                                      inplace = True)\n",
    "\n",
    "\n",
    "quants_quarterlyByZip = pivot_temperatureQuants_quarterlyByZip.merge(pivot_precipitationQuants_quarterlyByZip).merge(pivot_temp5DaysQuants_quarterlyByZip).merge(pivot_precip5DaysQuants_quarterlyByZip)\n",
    "\n"
   ]
  },
  {
   "cell_type": "markdown",
   "metadata": {},
   "source": [
    "Construct a record of all the relevant quantiles by combining all of the above. Rough idea is:\n",
    "    - Start with the zip-quarter data\n",
    "    - Merge in the less-specific quarter information\n",
    "    - For each row, put in the overall quartile information for each row"
   ]
  },
  {
   "cell_type": "code",
   "execution_count": null,
   "metadata": {},
   "outputs": [],
   "source": [
    "quantsAll                 = quants_quarterlyByZip.merge(quants_zip)\n",
    "\n",
    "\n",
    "\n",
    "quantsAll['precipitationQuants'] = [precipQuants for i in quantsAll.index]\n",
    "quantsAll['temperatureQuants']   = [tempQuants   for i in quantsAll.index]\n",
    "\n",
    "\n",
    "\n",
    "quantsAll['precip5DaysQuants']   = [precip5DaysQuants for i in quantsAll.index]\n",
    "quantsAll['temp5DaysQuants']     = [temp5DaysQuants   for i in quantsAll.index]\n",
    "\n",
    "\n",
    "\n",
    "quantsAll.head()"
   ]
  },
  {
   "cell_type": "code",
   "execution_count": null,
   "metadata": {},
   "outputs": [],
   "source": [
    "# relevantZips = allCustomerData.zipcode.append(allSupplierData.zipcode).unique()\n",
    "outfile =  '../../data/companyData/quantsAll_allZips.pkl'\n",
    "with open(outfile, 'wb') as pickle_file:\n",
    "    pkl.dump(quantsAll, pickle_file)"
   ]
  },
  {
   "cell_type": "code",
   "execution_count": null,
   "metadata": {},
   "outputs": [],
   "source": [
    "del weatherData\n",
    "gc.collect()"
   ]
  },
  {
   "cell_type": "markdown",
   "metadata": {},
   "source": [
    "### Convert 2009-2018 data into quartiles"
   ]
  },
  {
   "cell_type": "code",
   "execution_count": null,
   "metadata": {},
   "outputs": [],
   "source": [
    "recentDecadeTmax   = getData(\"Tmax\",2009,2019)\n",
    "recentDecadePrecip = getData(\"Precip\",2009,2019)"
   ]
  },
  {
   "cell_type": "code",
   "execution_count": null,
   "metadata": {},
   "outputs": [],
   "source": [
    "recentDecadeWeather = recentDecadeTmax.merge(recentDecadePrecip)\n",
    "recentDecadeWeather.head()"
   ]
  },
  {
   "cell_type": "code",
   "execution_count": null,
   "metadata": {},
   "outputs": [],
   "source": [
    "recentDecadeWeather['month'] = recentDecadeWeather.date.astype(str).str.slice(4,6)\n",
    "\n",
    "recentDecadeWeather['quarter'] = 'q1'\n",
    "\n",
    "recentDecadeWeather.loc[recentDecadeWeather['month'].isin(['04','05','06']), 'quarter'] = 'q2'\n",
    "recentDecadeWeather.loc[recentDecadeWeather['month'].isin(['07','08','09']), 'quarter'] = 'q3'\n",
    "recentDecadeWeather.loc[recentDecadeWeather['month'].isin(['10','11','12']), 'quarter'] = 'q4'\n",
    "\n",
    "recentDecadeWeather['yearQuarter'] = recentDecadeWeather.date.astype(str).str.slice(0,4) + recentDecadeWeather.quarter\n",
    "recentDecadeWeather.head()"
   ]
  },
  {
   "cell_type": "code",
   "execution_count": null,
   "metadata": {},
   "outputs": [],
   "source": [
    "recentDecadeWeather['temp5Days']   = recentDecadeWeather.groupby('ZIP').rolling(5)['temperature'].mean().reset_index(drop=True)\n",
    "recentDecadeWeather['precip5Days'] = recentDecadeWeather.groupby('ZIP').rolling(5)['precipitation'].sum().reset_index(drop=True)"
   ]
  },
  {
   "cell_type": "code",
   "execution_count": null,
   "metadata": {},
   "outputs": [],
   "source": [
    "del recentDecadePrecip\n",
    "del recentDecadeTmax\n",
    "gc.collect()\n",
    "\n",
    "recentDecadeWeather[recentDecadeWeather.yearQuarter == '2010q1']"
   ]
  },
  {
   "cell_type": "markdown",
   "metadata": {},
   "source": [
    "Merge the intervals into the recent weather data."
   ]
  },
  {
   "cell_type": "code",
   "execution_count": null,
   "metadata": {},
   "outputs": [],
   "source": [
    "quantsAll.columns"
   ]
  },
  {
   "cell_type": "code",
   "execution_count": null,
   "metadata": {},
   "outputs": [],
   "source": [
    "recentDecadeWeather.columns"
   ]
  },
  {
   "cell_type": "code",
   "execution_count": null,
   "metadata": {},
   "outputs": [],
   "source": [
    "recentDecadeWeather = recentDecadeWeather.merge(quantsAll)\n",
    "\n",
    "recentDecadeWeather.head()"
   ]
  },
  {
   "cell_type": "markdown",
   "metadata": {},
   "source": [
    "Get the annual quants."
   ]
  },
  {
   "cell_type": "code",
   "execution_count": null,
   "metadata": {},
   "outputs": [],
   "source": [
    "recentDecadeWeather.temperatureQuants[0]"
   ]
  },
  {
   "cell_type": "code",
   "execution_count": null,
   "metadata": {},
   "outputs": [],
   "source": [
    "for i in range(0,len(recentDecadeWeather.temp_annualQuants[0])):\n",
    "    recentDecadeWeather.temperatureQuants[0][i]   = recentDecadeWeather.temperatureQuants[0][i] + i/10000\n",
    "    recentDecadeWeather.temp5DaysQuants[0][i]     = recentDecadeWeather.temp5DaysQuants[0][i] + i/10000\n",
    "    \n",
    "    recentDecadeWeather.precipitationQuants[0][i] = recentDecadeWeather.precipitationQuants[0][i] + i/10000\n",
    "    recentDecadeWeather.precip5DaysQuants[0][i]   = recentDecadeWeather.precip5DaysQuants[0][i] + i/10000\n"
   ]
  },
  {
   "cell_type": "code",
   "execution_count": null,
   "metadata": {},
   "outputs": [],
   "source": [
    "recentDecadeWeather['temp_annualQuants'] = pd.cut(recentDecadeWeather.temperature, \n",
    "           bins = recentDecadeWeather.temperatureQuants[0],\n",
    "           labels = quant_labels,include_lowest=True)\n",
    "\n",
    "recentDecadeWeather['temp5Days_annualQuants'] = pd.cut(recentDecadeWeather.temp5Days, \n",
    "           bins = recentDecadeWeather.temp5DaysQuants[0],\n",
    "           labels = quant_labels,include_lowest=True)\n",
    "\n",
    "recentDecadeWeather['precip_annualQuants'] = pd.cut(recentDecadeWeather.precipitation, \n",
    "           bins = recentDecadeWeather.precipitationQuants[0],\n",
    "           labels = quant_labels,include_lowest=True)\n",
    "\n",
    "recentDecadeWeather['precip5Days_annualQuants'] = pd.cut(recentDecadeWeather.precip5Days, \n",
    "           bins = recentDecadeWeather.precip5DaysQuants[0],\n",
    "           labels = quant_labels,include_lowest=True)\n",
    "\n",
    "recentDecadeWeather.head()\n"
   ]
  },
  {
   "cell_type": "markdown",
   "metadata": {},
   "source": [
    "Now do the same but for zips. For some reason the filtering operations are like 10x faster with making the ZIP and quarter out to be categories."
   ]
  },
  {
   "cell_type": "code",
   "execution_count": null,
   "metadata": {},
   "outputs": [],
   "source": [
    "recentDecadeWeather = recentDecadeWeather.astype({'ZIP': 'category', 'quarter': 'category'})"
   ]
  },
  {
   "cell_type": "code",
   "execution_count": null,
   "metadata": {},
   "outputs": [],
   "source": [
    "def getZipQuarts(zipcode):\n",
    "    \n",
    "    tempData = recentDecadeWeather[recentDecadeWeather.ZIP == zipcode].reset_index()\n",
    "    \n",
    "    if tempData.shape[0] > 0:\n",
    "\n",
    "\n",
    "        for i in range(0,len(tempData.quartileListPrecip5Days_zip[0])):\n",
    "                tempData.quartileListPrecipitation_zip[0][i] = tempData.quartileListPrecipitation_zip[0][i] + i/10000\n",
    "                tempData.quartileListPrecip5Days_zip[0][i]   = tempData.quartileListPrecip5Days_zip[0][i] + i/10000\n",
    "\n",
    "\n",
    "        tempData['temp_zipQuants'] = pd.cut(tempData.temperature, \n",
    "               bins = tempData.quartileListTemperature_zip[0],\n",
    "               labels = quant_labels,include_lowest=True)\n",
    "        tempData['temp5Days_zipQuants'] = pd.cut(tempData.temp5Days, \n",
    "               bins = tempData.quartileListTemp5Days_zip[0],\n",
    "               labels = quant_labels,include_lowest=True)\n",
    "\n",
    "\n",
    "        tempData['precip_zipQuants'] = pd.cut(tempData.precipitation, \n",
    "               bins = tempData.quartileListPrecipitation_zip[0],\n",
    "               labels = quant_labels,include_lowest=True)\n",
    "\n",
    "        tempData['precip5Days_zipQuants'] = pd.cut(tempData.precip5Days, \n",
    "               bins = tempData.quartileListPrecip5Days_zip[0], \n",
    "               labels = quant_labels,include_lowest=True)\n",
    "        \n",
    "    \n",
    "    \n",
    "    return(tempData)"
   ]
  },
  {
   "cell_type": "code",
   "execution_count": null,
   "metadata": {},
   "outputs": [],
   "source": [
    "def getZipQuarterQuarts(zipcode):\n",
    "\n",
    "    weatherByZipByQuarter = pd.DataFrame()\n",
    "\n",
    "    quarters = recentDecadeWeather.quarter.unique()\n",
    "    \n",
    "\n",
    "    for quarter in quarters:\n",
    "        tempData = recentDecadeWeather[(recentDecadeWeather.ZIP  == zipcode) & \n",
    "                        (recentDecadeWeather.quarter == quarter)].reset_index()\n",
    "        if tempData.shape[0] > 0:\n",
    "\n",
    "            for i in range(0,len(tempData.quartileListPrecip5Days_quarterlyByZip[0])):\n",
    "                tempData.quartileListPrecipitation_quarterlyByZip[0][i] = tempData.quartileListPrecipitation_quarterlyByZip[0][i] + i/10000\n",
    "                tempData.quartileListPrecip5Days_quarterlyByZip[0][i]   = tempData.quartileListPrecip5Days_quarterlyByZip[0][i] + i/10000\n",
    "                tempData.quartileListTemperature_quarterlyByZip[0][i] = tempData.quartileListTemperature_quarterlyByZip[0][i] + i/10000\n",
    "                tempData.quartileListTemp5Days_quarterlyByZip[0][i]   = tempData.quartileListTemp5Days_quarterlyByZip[0][i] + i/10000\n",
    "\n",
    "\n",
    "            tempData['temp_zipQuarterQuants'] = pd.cut(tempData.temperature, \n",
    "                   bins = tempData.quartileListTemperature_quarterlyByZip[0],\n",
    "                   labels = quant_labels,include_lowest=True)\n",
    "            tempData['temp5Days_zipQuarterQuants'] = pd.cut(tempData.temp5Days, \n",
    "                   bins = tempData.quartileListTemp5Days_quarterlyByZip[0],\n",
    "                   labels = quant_labels,include_lowest=True)\n",
    "\n",
    "\n",
    "            tempData['precip_zipQuarterQuants'] = pd.cut(tempData.precipitation, \n",
    "                   bins = tempData.quartileListPrecipitation_quarterlyByZip[0],\n",
    "                   labels = quant_labels,include_lowest=True)\n",
    "            tempData['precip5Days_zipQuarterQuants'] = pd.cut(tempData.precip5Days, \n",
    "                   bins = tempData.quartileListPrecip5Days_quarterlyByZip[0], \n",
    "                   labels = quant_labels,include_lowest=True) # \n",
    "\n",
    "\n",
    "            weatherByZipByQuarter = weatherByZipByQuarter.append(tempData)\n",
    "\n",
    "    return(weatherByZipByQuarter)"
   ]
  },
  {
   "cell_type": "code",
   "execution_count": null,
   "metadata": {},
   "outputs": [],
   "source": [
    "ZIPs = recentDecadeWeather.ZIP.unique()\n",
    "len(ZIPs)"
   ]
  },
  {
   "cell_type": "code",
   "execution_count": null,
   "metadata": {},
   "outputs": [],
   "source": [
    "start = time.time()\n",
    "\n",
    "\n",
    "\n",
    "\n",
    "with multiprocessing.Pool() as pool:\n",
    "    zipQuarts = pool.map(getZipQuarts, ZIPs)\n",
    "\n",
    "    \n",
    "    \n",
    "weatherByZip = pd.concat(zipQuarts)\n",
    "\n",
    "\n",
    "print(time.time() - start)"
   ]
  },
  {
   "cell_type": "code",
   "execution_count": null,
   "metadata": {},
   "outputs": [],
   "source": [
    "start = time.time()\n",
    "\n",
    "\n",
    "\n",
    "with multiprocessing.Pool() as pool:\n",
    "    zipQuarterQuarts = pool.map(getZipQuarterQuarts, ZIPs)\n",
    "\n",
    "    \n",
    "    \n",
    "weatherByZipQuarter = pd.concat(zipQuarterQuarts)\n",
    "\n",
    "\n",
    "print(time.time() - start)"
   ]
  },
  {
   "cell_type": "code",
   "execution_count": null,
   "metadata": {},
   "outputs": [],
   "source": [
    "weatherByZipQuarter['yearQuarter'] = weatherByZipQuarter.date.astype('str').str.slice(0,4) + weatherByZipQuarter.quarter.astype('str')\n",
    "weatherByZip['yearQuarter']        = weatherByZip.date.astype('str').str.slice(0,4) + weatherByZip.quarter.astype('str')"
   ]
  },
  {
   "cell_type": "code",
   "execution_count": null,
   "metadata": {},
   "outputs": [],
   "source": []
  },
  {
   "cell_type": "code",
   "execution_count": null,
   "metadata": {},
   "outputs": [],
   "source": [
    "pt1 = weatherByZip[['ZIP','date','quarter','yearQuarter',\n",
    "              'temp_annualQuants', 'temp5Days_annualQuants',\n",
    "              'precip_annualQuants', 'precip5Days_annualQuants', \n",
    "              'temp_zipQuants', 'temp5Days_zipQuants',\n",
    "              'precip_zipQuants', 'precip5Days_zipQuants']]\n",
    "\n",
    "pt2 = weatherByZipQuarter[['ZIP','date','quarter','yearQuarter',\n",
    "                           'temp_zipQuarterQuants','temp5Days_zipQuarterQuants', \n",
    "                     'precip_zipQuarterQuants','precip5Days_zipQuarterQuants']]\n",
    "\n",
    "\n",
    "outfile =  '../../data/companyData/pt1_allZips.pkl'\n",
    "with open(outfile, 'wb') as pickle_file:\n",
    "    pkl.dump(pt1, pickle_file)\n",
    "    \n",
    "outfile =  '../../data/companyData/pt2_allZips.pkl'\n",
    "with open(outfile, 'wb') as pickle_file:\n",
    "    pkl.dump(pt2, pickle_file)\n",
    "\n",
    "\n"
   ]
  },
  {
   "cell_type": "code",
   "execution_count": null,
   "metadata": {},
   "outputs": [],
   "source": [
    "allQuarts = pt1.merge(pt2)"
   ]
  },
  {
   "cell_type": "code",
   "execution_count": null,
   "metadata": {},
   "outputs": [],
   "source": [
    "allQuarts.head()"
   ]
  },
  {
   "cell_type": "markdown",
   "metadata": {},
   "source": [
    "------------------"
   ]
  },
  {
   "cell_type": "markdown",
   "metadata": {},
   "source": [
    "### Now go through the data from 2010 - 2019 and find time spent in each bin"
   ]
  },
  {
   "cell_type": "code",
   "execution_count": null,
   "metadata": {},
   "outputs": [],
   "source": [
    "def getCounts(quartType,df):\n",
    "\n",
    "    test = df.groupby(['ZIP','yearQuarter',quartType]).size().reset_index()\n",
    "    test = test.drop_duplicates()\n",
    "    test.columns = ['zip', 'yearQuarter', quartType, 'occurrences']\n",
    "\n",
    "    # print(test.head())\n",
    "\n",
    "\n",
    "    testPivot = test.pivot(index=['zip','yearQuarter'], \n",
    "            columns = quartType, values= 'occurrences').reset_index().\\\n",
    "            rename_axis(None, axis=1)\n",
    "\n",
    "    testPivot.columns.values[2:] = quartType[:-6] + testPivot.columns.values[2:]\n",
    "\n",
    "    # print(testPivot.head())\n",
    "    return(testPivot)"
   ]
  },
  {
   "cell_type": "code",
   "execution_count": null,
   "metadata": {},
   "outputs": [],
   "source": [
    "allQuarts"
   ]
  },
  {
   "cell_type": "code",
   "execution_count": null,
   "metadata": {},
   "outputs": [],
   "source": [
    "countData = getCounts(allQuarts.columns[4],allQuarts)\n",
    "\n",
    "for quart in allQuarts.columns[5:]:\n",
    "    print(quart)\n",
    "    countData = countData.merge(getCounts(quart,allQuarts))"
   ]
  },
  {
   "cell_type": "code",
   "execution_count": null,
   "metadata": {},
   "outputs": [],
   "source": [
    "print(countData.columns)"
   ]
  },
  {
   "cell_type": "markdown",
   "metadata": {},
   "source": [
    "Reformat the column names so they're consistent."
   ]
  },
  {
   "cell_type": "code",
   "execution_count": null,
   "metadata": {},
   "outputs": [],
   "source": [
    "countData['year'] = countData.yearQuarter.str.slice(0,4)\n",
    "countData['qtr']  = countData.yearQuarter.str.slice(5,6).astype('float')\n",
    "countData['zipcode']  = countData.zip.astype('int64')"
   ]
  },
  {
   "cell_type": "code",
   "execution_count": null,
   "metadata": {},
   "outputs": [],
   "source": [
    "countData.zipcode.min()"
   ]
  },
  {
   "cell_type": "code",
   "execution_count": null,
   "metadata": {},
   "outputs": [],
   "source": [
    "countData.head()"
   ]
  },
  {
   "cell_type": "code",
   "execution_count": null,
   "metadata": {},
   "outputs": [],
   "source": [
    "countData.to_csv(\"../../data/companyData/allWeatherBins_2009to2019_allZips.csv\")"
   ]
  },
  {
   "cell_type": "code",
   "execution_count": null,
   "metadata": {},
   "outputs": [],
   "source": [
    "len(countData.zipcode.unique())"
   ]
  },
  {
   "cell_type": "code",
   "execution_count": null,
   "metadata": {},
   "outputs": [],
   "source": [
    "countData.columns"
   ]
  },
  {
   "cell_type": "code",
   "execution_count": null,
   "metadata": {},
   "outputs": [],
   "source": [
    "'''countData = pd.read_csv(\"../../data/companyData/allWeatherBins_2009to2019.csv\").drop(columns = 'Unnamed: 0')\n",
    "\n",
    "countData.head()'''\n",
    "\n",
    "countDataRevised = countData[['zipcode','year','qtr']]\n"
   ]
  },
  {
   "cell_type": "code",
   "execution_count": null,
   "metadata": {},
   "outputs": [],
   "source": [
    "\n",
    "cdf = {}\n",
    "\n",
    "\n",
    "cdf['0.95']     = ['1xQtr','1xYr','1x5Qtrs','1x10Qtrs','1x5Yrs','1x10Yrs','1.0']\n",
    "cdf['1xQtr']    = ['1xYr','1x5Qtrs','1x10Qtrs','1x5Yrs','1x10Yrs','1.0']\n",
    "cdf['1xYr']     = ['1x5Qtrs','1x10Qtrs','1x5Yrs','1x10Yrs','1.0']\n",
    "cdf['1x5Qtrs']  = ['1x10Qtrs','1x5Yrs','1x10Yrs','1.0']\n",
    "cdf['1x10Qtrs'] = ['1x5Yrs','1x10Yrs','1.0']\n",
    "cdf['1x5Yrs']   = ['1x10Yrs','1.0']\n",
    "cdf['1x10Yrs']  = ['1.0']\n",
    "\n",
    "\n",
    "weatherVars = ['precip_','temp_','precip5Days_','temp5Days_']\n",
    "statVars    = ['annualquant_','zipquant_','zipQuarterquant_']\n",
    "\n",
    "\n",
    "for weatherVar in weatherVars:\n",
    "    for statVar in statVars:\n",
    "        print(weatherVar + statVar, \"*************************\")\n",
    "        \n",
    "        # 0.95\n",
    "        for cutoff in list(cdf.keys()):\n",
    "            \n",
    "            varHere = weatherVar + statVar + cutoff\n",
    "            countDataRevised[varHere] = countData[varHere]\n",
    "            print(cutoff, \"******\")\n",
    "            for greaterThanCutoffs in cdf[cutoff]:\n",
    "                varCDF = weatherVar + statVar + greaterThanCutoffs \n",
    "                countDataRevised[varHere] = countDataRevised[varHere] + countData[varCDF] \n",
    "                print(weatherVar + statVar + greaterThanCutoffs)\n",
    " "
   ]
  },
  {
   "cell_type": "code",
   "execution_count": null,
   "metadata": {},
   "outputs": [],
   "source": [
    "countDataRevised['temp_annualquant_0.95']"
   ]
  },
  {
   "cell_type": "code",
   "execution_count": null,
   "metadata": {},
   "outputs": [],
   "source": [
    "countData['temp_annualquant_0.95']"
   ]
  },
  {
   "cell_type": "code",
   "execution_count": null,
   "metadata": {},
   "outputs": [],
   "source": [
    "countDataRevised.to_csv(\"../../data/companyData/revised_allWeatherBins_2009to2019_allZips.csv\")"
   ]
  },
  {
   "cell_type": "code",
   "execution_count": null,
   "metadata": {},
   "outputs": [],
   "source": [
    "countDataRevised = pd.read_csv(\"../../data/companyData/revised_allWeatherBins_2009to2019.csv\")"
   ]
  },
  {
   "cell_type": "code",
   "execution_count": null,
   "metadata": {},
   "outputs": [],
   "source": [
    "countDataRevised['temp5Days_zipquant_0.95'].describe()"
   ]
  },
  {
   "cell_type": "code",
   "execution_count": null,
   "metadata": {},
   "outputs": [],
   "source": []
  }
 ],
 "metadata": {
  "kernelspec": {
   "display_name": "Python 3",
   "language": "python",
   "name": "python3"
  },
  "language_info": {
   "codemirror_mode": {
    "name": "ipython",
    "version": 3
   },
   "file_extension": ".py",
   "mimetype": "text/x-python",
   "name": "python",
   "nbconvert_exporter": "python",
   "pygments_lexer": "ipython3",
   "version": "3.7.4"
  }
 },
 "nbformat": 4,
 "nbformat_minor": 2
}
