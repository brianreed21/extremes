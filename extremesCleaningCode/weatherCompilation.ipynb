{
 "cells": [
  {
   "cell_type": "code",
   "execution_count": 2,
   "metadata": {},
   "outputs": [
    {
     "name": "stderr",
     "output_type": "stream",
     "text": [
      "/Users/brianreed/opt/anaconda3/lib/python3.7/site-packages/dask/dataframe/utils.py:14: FutureWarning: pandas.util.testing is deprecated. Use the functions in the public API at pandas.testing instead.\n",
      "  import pandas.util.testing as tm\n"
     ]
    }
   ],
   "source": [
    "import pickle as pkl\n",
    "import pandas as pd\n",
    "import matplotlib\n",
    "import os\n",
    "import re\n",
    "\n",
    "import collections\n",
    "import datetime\n",
    "import time\n",
    "\n",
    "import matplotlib.pyplot as plt\n",
    "import seaborn as sns\n",
    "    \n",
    "import geopandas as gpd\n",
    "\n",
    "import numpy as np\n",
    "\n",
    "import rasterio\n",
    "\n",
    "from difflib import get_close_matches\n",
    "\n",
    "from fuzzywuzzy import process\n",
    "from fuzzywuzzy import fuzz\n",
    "\n",
    "import dask.dataframe as dd\n",
    "\n",
    "import gc\n",
    "import sys\n",
    "\n",
    "from multiprocessing import Pool\n",
    "import multiprocessing\n",
    "\n",
    "from dask.diagnostics import ProgressBar"
   ]
  },
  {
   "cell_type": "markdown",
   "metadata": {},
   "source": [
    "# Weather Data\n",
    "Do this across all zips, for the establishment records. We'll put this into a different format right after, and then change the columns and whatnot. \n",
    "\n",
    "Before we had done this specifically for the hq zips, which changed our \"annual\" thresholds, which are taken over all zipcodes in the sample. The zip-specific definitions are the same, though."
   ]
  },
  {
   "cell_type": "code",
   "execution_count": 5,
   "metadata": {},
   "outputs": [
    {
     "name": "stdout",
     "output_type": "stream",
     "text": [
      "(2612480, 22)\n",
      "2001    130624\n",
      "2011    130624\n",
      "2018    130624\n",
      "2017    130624\n",
      "2016    130624\n",
      "2015    130624\n",
      "2014    130624\n",
      "2013    130624\n",
      "2012    130624\n",
      "2010    130624\n",
      "2002    130624\n",
      "2009    130624\n",
      "2008    130624\n",
      "2007    130624\n",
      "2006    130624\n",
      "2005    130624\n",
      "2004    130624\n",
      "2003    130624\n",
      "2019    130624\n",
      "Name: year, dtype: int64\n"
     ]
    }
   ],
   "source": [
    "allWeather = pd.read_csv(\"../../data/companyData/revised_allWeatherBins_2000to2019_allZips.csv\").\\\n",
    "    drop(columns = {\"Unnamed: 0\"}).rename(columns = {'quarter': 'qtr'})\n",
    "\n",
    "allWeather['yearQtr'] = allWeather.year + (allWeather.qtr - 1)/4\n",
    "\n",
    "col = allWeather.pop(\"yearQtr\")\n",
    "allWeather.insert(0, col.name, col)\n",
    "\n",
    "lag1 = allWeather.copy()\n",
    "lag1['yearQtr'] += 0.25\n",
    "for colname in lag1.columns[4:]:\n",
    "    lag1.rename(columns = {colname: 'lag1_' + colname}, inplace = True)\n",
    "lag1.drop(columns = {'year','qtr'},inplace = True)\n",
    "\n",
    "    \n",
    "lag2 = allWeather.copy()\n",
    "lag2['yearQtr'] += 0.5\n",
    "for colname in lag2.columns[4:]:\n",
    "    lag2.rename(columns = {colname: 'lag2_' + colname}, inplace = True)\n",
    "lag2.drop(columns = {'year','qtr'},inplace = True)\n",
    "\n",
    "\n",
    "lag3 = allWeather.copy()\n",
    "lag3['yearQtr'] += 0.75\n",
    "for colname in lag3.columns[4:]:\n",
    "    lag3.rename(columns = {colname: 'lag3_' + colname}, inplace = True)\n",
    "lag3.drop(columns = {'year','qtr'},inplace = True)\n",
    "\n",
    "\n",
    "lag4 = allWeather.copy()\n",
    "lag4['yearQtr'] += 1\n",
    "for colname in lag4.columns[4:]:\n",
    "    lag4.rename(columns = {colname: 'lag4_' + colname}, inplace = True)\n",
    "lag4.drop(columns = {'year','qtr'},inplace = True)\n",
    "\n",
    "\n",
    "print(allWeather.shape)\n",
    "\n",
    "allWeather_withLags = allWeather.merge(lag1).merge(lag2).merge(lag3).merge(lag4)\n",
    "\n",
    "print(allWeather_withLags.year.value_counts())\n",
    "\n",
    "allWeather_withLags.to_csv(\"../../data/companyData/allWeather_withLags_allZips.csv\")"
   ]
  },
  {
   "cell_type": "markdown",
   "metadata": {},
   "source": [
    "Add in the few new definitions we've started on here: bins by week/month/quarter, and days 90+."
   ]
  },
  {
   "cell_type": "code",
   "execution_count": 7,
   "metadata": {},
   "outputs": [
    {
     "name": "stdout",
     "output_type": "stream",
     "text": [
      "(2612480, 14)\n",
      "2001    130624\n",
      "2011    130624\n",
      "2018    130624\n",
      "2017    130624\n",
      "2016    130624\n",
      "2015    130624\n",
      "2014    130624\n",
      "2013    130624\n",
      "2012    130624\n",
      "2010    130624\n",
      "2002    130624\n",
      "2009    130624\n",
      "2008    130624\n",
      "2007    130624\n",
      "2006    130624\n",
      "2005    130624\n",
      "2004    130624\n",
      "2003    130624\n",
      "2019    130624\n",
      "Name: year, dtype: int64\n"
     ]
    }
   ],
   "source": [
    "allWeather = pd.read_csv(\"../../data/companyData/latestExtremes.csv\").\\\n",
    "    drop(columns = {\"Unnamed: 0\"})\n",
    "allWeather.rename(columns = {'quarter': 'qtr'}, inplace = True)\n",
    "\n",
    "allWeather['yearQtr'] = allWeather.year + (allWeather.qtr - 1)/4\n",
    "\n",
    "col = allWeather.pop(\"yearQtr\")\n",
    "allWeather.insert(0, col.name, col)\n",
    "\n",
    "lag1 = allWeather.copy()\n",
    "lag1['yearQtr'] += 0.25\n",
    "for colname in lag1.columns[4:]:\n",
    "    lag1.rename(columns = {colname: 'lag1_' + colname}, inplace = True)\n",
    "lag1.drop(columns = {'year','qtr'},inplace = True)\n",
    "\n",
    "    \n",
    "lag2 = allWeather.copy()\n",
    "lag2['yearQtr'] += 0.5\n",
    "for colname in lag2.columns[4:]:\n",
    "    lag2.rename(columns = {colname: 'lag2_' + colname}, inplace = True)\n",
    "lag2.drop(columns = {'year','qtr'},inplace = True)\n",
    "\n",
    "\n",
    "lag3 = allWeather.copy()\n",
    "lag3['yearQtr'] += 0.75\n",
    "for colname in lag3.columns[4:]:\n",
    "    lag3.rename(columns = {colname: 'lag3_' + colname}, inplace = True)\n",
    "lag3.drop(columns = {'year','qtr'},inplace = True)\n",
    "\n",
    "\n",
    "lag4 = allWeather.copy()\n",
    "lag4['yearQtr'] += 1\n",
    "for colname in lag4.columns[4:]:\n",
    "    lag4.rename(columns = {colname: 'lag4_' + colname}, inplace = True)\n",
    "lag4.drop(columns = {'year','qtr'},inplace = True)\n",
    "\n",
    "\n",
    "print(allWeather.shape)\n",
    "\n",
    "allWeather_withLags = allWeather.merge(lag1).merge(lag2).merge(lag3).merge(lag4)\n",
    "\n",
    "print(allWeather_withLags.year.value_counts())\n",
    "\n",
    "allWeather_withLags.to_csv(\"../../data/companyData/allWeather_withLags_new.csv\")"
   ]
  },
  {
   "cell_type": "code",
   "execution_count": 8,
   "metadata": {},
   "outputs": [
    {
     "data": {
      "text/plain": [
       "2000"
      ]
     },
     "execution_count": 8,
     "metadata": {},
     "output_type": "execute_result"
    }
   ],
   "source": [
    "allWeather.year.min()"
   ]
  },
  {
   "cell_type": "markdown",
   "metadata": {},
   "source": [
    "And now the severe weather."
   ]
  },
  {
   "cell_type": "code",
   "execution_count": 11,
   "metadata": {},
   "outputs": [
    {
     "name": "stderr",
     "output_type": "stream",
     "text": [
      "/Users/brianreed/opt/anaconda3/lib/python3.7/site-packages/ipykernel_launcher.py:6: SettingWithCopyWarning: \n",
      "A value is trying to be set on a copy of a slice from a DataFrame.\n",
      "Try using .loc[row_indexer,col_indexer] = value instead\n",
      "\n",
      "See the caveats in the documentation: https://pandas.pydata.org/pandas-docs/stable/user_guide/indexing.html#returning-a-view-versus-a-copy\n",
      "  \n"
     ]
    },
    {
     "data": {
      "text/html": [
       "<div>\n",
       "<style scoped>\n",
       "    .dataframe tbody tr th:only-of-type {\n",
       "        vertical-align: middle;\n",
       "    }\n",
       "\n",
       "    .dataframe tbody tr th {\n",
       "        vertical-align: top;\n",
       "    }\n",
       "\n",
       "    .dataframe thead th {\n",
       "        text-align: right;\n",
       "    }\n",
       "</style>\n",
       "<table border=\"1\" class=\"dataframe\">\n",
       "  <thead>\n",
       "    <tr style=\"text-align: right;\">\n",
       "      <th></th>\n",
       "      <th>zipcode</th>\n",
       "      <th>year</th>\n",
       "      <th>qtr</th>\n",
       "    </tr>\n",
       "  </thead>\n",
       "  <tbody>\n",
       "    <tr>\n",
       "      <th>0</th>\n",
       "      <td>1001</td>\n",
       "      <td>2000</td>\n",
       "      <td>1</td>\n",
       "    </tr>\n",
       "    <tr>\n",
       "      <th>19</th>\n",
       "      <td>1001</td>\n",
       "      <td>2000</td>\n",
       "      <td>2</td>\n",
       "    </tr>\n",
       "    <tr>\n",
       "      <th>38</th>\n",
       "      <td>1001</td>\n",
       "      <td>2000</td>\n",
       "      <td>3</td>\n",
       "    </tr>\n",
       "    <tr>\n",
       "      <th>57</th>\n",
       "      <td>1001</td>\n",
       "      <td>2000</td>\n",
       "      <td>4</td>\n",
       "    </tr>\n",
       "    <tr>\n",
       "      <th>76</th>\n",
       "      <td>1002</td>\n",
       "      <td>2000</td>\n",
       "      <td>1</td>\n",
       "    </tr>\n",
       "  </tbody>\n",
       "</table>\n",
       "</div>"
      ],
      "text/plain": [
       "    zipcode  year  qtr\n",
       "0      1001  2000    1\n",
       "19     1001  2000    2\n",
       "38     1001  2000    3\n",
       "57     1001  2000    4\n",
       "76     1002  2000    1"
      ]
     },
     "execution_count": 11,
     "metadata": {},
     "output_type": "execute_result"
    }
   ],
   "source": [
    "zipQuarters = pd.read_csv(\"../../data/companyData/allWeather_withLags_new.csv\")[['zipcode','year','qtr']].drop_duplicates()\n",
    "\n",
    "\n",
    "zipQuarters_2000 = zipQuarters.copy()\n",
    "zipQuarters_2000 = zipQuarters[zipQuarters.year == 2001]\n",
    "zipQuarters_2000['year'] = zipQuarters_2000['year'] - 1\n",
    "\n",
    "\n",
    "zipQuarters = zipQuarters_2000.append(zipQuarters)\n",
    "\n",
    "\n",
    "zipQuarters.head()"
   ]
  },
  {
   "cell_type": "code",
   "execution_count": 12,
   "metadata": {},
   "outputs": [
    {
     "data": {
      "text/plain": [
       "2000"
      ]
     },
     "execution_count": 12,
     "metadata": {},
     "output_type": "execute_result"
    }
   ],
   "source": [
    "zipQuarters.year.min()"
   ]
  },
  {
   "cell_type": "code",
   "execution_count": 20,
   "metadata": {},
   "outputs": [
    {
     "name": "stdout",
     "output_type": "stream",
     "text": [
      "  yearQtr  propAboveTenThou  propAboveHundredThou  propAboveMilli  zipcode  \\\n",
      "0  2016q2                 0                     0               0    19936   \n",
      "1  2016q2                 0                     0               0    19980   \n",
      "2  2016q2                 0                     0               0    19963   \n",
      "3  2016q2                 0                     0               0    19938   \n",
      "4  2016q2                 0                     0               0    19977   \n",
      "\n",
      "   year  \n",
      "0  2016  \n",
      "1  2016  \n",
      "2  2016  \n",
      "3  2016  \n",
      "4  2016  \n",
      "(1429431, 6)    year  qtr  zipcode  propAboveTenThou  propAboveHundredThou  propAboveMilli\n",
      "0  2000    1      501                 0                     0               0\n",
      "1  2000    1     6390                 0                     0               0\n",
      "2  2000    1     7728                 0                     0               0\n",
      "3  2000    1     7731                 0                     0               0\n",
      "4  2000    1     8004                 0                     0               0\n"
     ]
    }
   ],
   "source": [
    "thunderstorms = pd.read_csv(\"../../data/companyData/thunderstormWinds.csv\").\\\n",
    "    drop(columns = {'Unnamed: 0', 'STCOUNTYFP'})\n",
    "\n",
    "thunderstorms['year'] =  thunderstorms['yearQtr'].str.slice(0,4).astype('int64')\n",
    "\n",
    "print(thunderstorms.head())\n",
    "\n",
    "thunderstorms.head()\n",
    "\n",
    "\n",
    "thunderstorms['qtr']  =  thunderstorms['yearQtr'].str.slice(5,6).astype('int64')\n",
    "thunderstorms.drop(columns = {'yearQtr'}, inplace = True)\n",
    "thunderstorms = thunderstorms[(thunderstorms.year > 1999) & (thunderstorms.year < 2020)]\n",
    "\n",
    "thunderstorms = thunderstorms.groupby(['year','qtr','zipcode']).sum().reset_index()\n",
    "\n",
    "\n",
    "print(thunderstorms.shape, thunderstorms.head())\n"
   ]
  },
  {
   "cell_type": "code",
   "execution_count": 21,
   "metadata": {},
   "outputs": [
    {
     "name": "stdout",
     "output_type": "stream",
     "text": [
      "(2612480, 3) (2612480, 6)\n"
     ]
    },
    {
     "data": {
      "text/plain": [
       "2000"
      ]
     },
     "execution_count": 21,
     "metadata": {},
     "output_type": "execute_result"
    }
   ],
   "source": [
    "thunderstorms = zipQuarters.merge(thunderstorms, how = 'left')\n",
    "\n",
    "\n",
    "thunderstorms = thunderstorms.fillna(0)\n",
    "\n",
    "\n",
    "\n",
    "print(zipQuarters.shape, thunderstorms.shape)\n",
    "\n",
    "thunderstorms.year.min()"
   ]
  },
  {
   "cell_type": "code",
   "execution_count": 22,
   "metadata": {},
   "outputs": [
    {
     "data": {
      "text/plain": [
       "2000    130624\n",
       "2001    130624\n",
       "2018    130624\n",
       "2017    130624\n",
       "2016    130624\n",
       "2015    130624\n",
       "2014    130624\n",
       "2013    130624\n",
       "2012    130624\n",
       "2011    130624\n",
       "2010    130624\n",
       "2009    130624\n",
       "2008    130624\n",
       "2007    130624\n",
       "2006    130624\n",
       "2005    130624\n",
       "2004    130624\n",
       "2003    130624\n",
       "2002    130624\n",
       "2019    130624\n",
       "Name: year, dtype: int64"
      ]
     },
     "execution_count": 22,
     "metadata": {},
     "output_type": "execute_result"
    }
   ],
   "source": [
    "thunderstorms['propAboveTenThou']     = (thunderstorms['propAboveTenThou'] > 0)*1\n",
    "thunderstorms['propAboveHundredThou'] = (thunderstorms['propAboveHundredThou'] > 0)*1\n",
    "thunderstorms['propAboveMilli']       = (thunderstorms['propAboveMilli'] > 0)*1\n",
    "\n",
    "\n",
    "thunderstorms.year.value_counts()"
   ]
  },
  {
   "cell_type": "code",
   "execution_count": 23,
   "metadata": {},
   "outputs": [
    {
     "name": "stdout",
     "output_type": "stream",
     "text": [
      "2001    130624\n",
      "2011    130624\n",
      "2018    130624\n",
      "2017    130624\n",
      "2016    130624\n",
      "2015    130624\n",
      "2014    130624\n",
      "2013    130624\n",
      "2012    130624\n",
      "2010    130624\n",
      "2002    130624\n",
      "2009    130624\n",
      "2008    130624\n",
      "2007    130624\n",
      "2006    130624\n",
      "2005    130624\n",
      "2004    130624\n",
      "2003    130624\n",
      "2019    130624\n",
      "Name: year, dtype: int64\n"
     ]
    }
   ],
   "source": [
    "thunderstorms['yearQtr'] = thunderstorms.year + (thunderstorms.qtr - 1)/4\n",
    "\n",
    "col = thunderstorms.pop(\"year\")\n",
    "thunderstorms.insert(0, col.name, col)\n",
    "\n",
    "col = thunderstorms.pop(\"qtr\")\n",
    "thunderstorms.insert(0, col.name, col)\n",
    "\n",
    "col = thunderstorms.pop(\"yearQtr\")\n",
    "thunderstorms.insert(0, col.name, col)\n",
    "\n",
    "col = thunderstorms.pop(\"zipcode\")\n",
    "thunderstorms.insert(0, col.name, col)\n",
    "\n",
    "thunderstorms = thunderstorms.astype({'zipcode':    'category'})\n",
    "\n",
    "\n",
    "lag1 = thunderstorms.copy()\n",
    "lag1['yearQtr'] += 0.25\n",
    "for colname in lag1.columns[4:]:\n",
    "    lag1.rename(columns = {colname: 'lag1_' + colname}, inplace = True)\n",
    "lag1.drop(columns = {'year','qtr'},inplace = True)\n",
    "lag1 = lag1.astype({'yearQtr':    'category'})\n",
    "\n",
    "\n",
    "\n",
    "lag2 = thunderstorms.copy()\n",
    "lag2['yearQtr'] += 0.5\n",
    "for colname in lag2.columns[4:]:\n",
    "    lag2.rename(columns = {colname: 'lag2_' + colname}, inplace = True)\n",
    "lag2.drop(columns = {'year','qtr'},inplace = True)\n",
    "lag2 = lag2.astype({'yearQtr':    'category'})\n",
    "\n",
    "\n",
    "lag3 = thunderstorms.copy()\n",
    "lag3['yearQtr'] += 0.75\n",
    "for colname in lag3.columns[4:]:\n",
    "    lag3.rename(columns = {colname: 'lag3_' + colname}, inplace = True)\n",
    "lag3.drop(columns = {'year','qtr'},inplace = True)\n",
    "lag3 = lag3.astype({'yearQtr':    'category'})\n",
    "\n",
    "lag4 = thunderstorms.copy()\n",
    "lag4['yearQtr'] += 1\n",
    "for colname in lag4.columns[4:]:\n",
    "    lag4.rename(columns = {colname: 'lag4_' + colname}, inplace = True)\n",
    "lag4.drop(columns = {'year','qtr'},inplace = True)\n",
    "lag4 = lag4.astype({'yearQtr':    'category'})\n",
    "\n",
    "\n",
    "thunderstorms = thunderstorms.astype({'yearQtr':    'category'})\n",
    "\n",
    "thunderstorms_withLags = thunderstorms.merge(lag1).merge(lag2).merge(lag3).merge(lag4)\n",
    "print(thunderstorms_withLags.year.value_counts())\n",
    "\n",
    "thunderstorms_withLags.to_csv(\"../../data/companyData/thunderstorms_withLags.csv\")"
   ]
  },
  {
   "cell_type": "code",
   "execution_count": null,
   "metadata": {},
   "outputs": [],
   "source": [
    "print(thunderstorms_withLags.head())"
   ]
  },
  {
   "cell_type": "markdown",
   "metadata": {},
   "source": [
    "# Locations\n",
    "Create a separate definition of weather based not on HQ but on employee-weighted establishment footprint."
   ]
  },
  {
   "cell_type": "code",
   "execution_count": 3,
   "metadata": {},
   "outputs": [
    {
     "name": "stderr",
     "output_type": "stream",
     "text": [
      "/Users/brianreed/opt/anaconda3/lib/python3.7/site-packages/IPython/core/interactiveshell.py:3326: DtypeWarning: Columns (1) have mixed types.Specify dtype option on import or set low_memory=False.\n",
      "  exec(code_obj, self.user_global_ns, self.user_ns)\n"
     ]
    },
    {
     "name": "stdout",
     "output_type": "stream",
     "text": [
      "0       402180222\n",
      "1       397759739\n",
      "2       400700704\n",
      "3       218548014\n",
      "4       441435880\n",
      "          ...    \n",
      "8394    432764101\n",
      "8395    416920671\n",
      "8396    739118540\n",
      "8397    227688843\n",
      "8398    488766353\n",
      "Name: abi, Length: 8399, dtype: int64\n"
     ]
    },
    {
     "data": {
      "text/html": [
       "<div>\n",
       "<style scoped>\n",
       "    .dataframe tbody tr th:only-of-type {\n",
       "        vertical-align: middle;\n",
       "    }\n",
       "\n",
       "    .dataframe tbody tr th {\n",
       "        vertical-align: top;\n",
       "    }\n",
       "\n",
       "    .dataframe thead th {\n",
       "        text-align: right;\n",
       "    }\n",
       "</style>\n",
       "<table border=\"1\" class=\"dataframe\">\n",
       "  <thead>\n",
       "    <tr style=\"text-align: right;\">\n",
       "      <th></th>\n",
       "      <th>year</th>\n",
       "      <th>abi</th>\n",
       "      <th>zipcode</th>\n",
       "      <th>locationFracOfEmployees</th>\n",
       "      <th>gvkey</th>\n",
       "    </tr>\n",
       "  </thead>\n",
       "  <tbody>\n",
       "    <tr>\n",
       "      <th>0</th>\n",
       "      <td>2003</td>\n",
       "      <td>100537</td>\n",
       "      <td>27828</td>\n",
       "      <td>0.357782</td>\n",
       "      <td>3937</td>\n",
       "    </tr>\n",
       "    <tr>\n",
       "      <th>1</th>\n",
       "      <td>2003</td>\n",
       "      <td>100537</td>\n",
       "      <td>24540</td>\n",
       "      <td>0.572451</td>\n",
       "      <td>3937</td>\n",
       "    </tr>\n",
       "    <tr>\n",
       "      <th>2</th>\n",
       "      <td>2004</td>\n",
       "      <td>100537</td>\n",
       "      <td>27828</td>\n",
       "      <td>0.357782</td>\n",
       "      <td>3937</td>\n",
       "    </tr>\n",
       "    <tr>\n",
       "      <th>3</th>\n",
       "      <td>2004</td>\n",
       "      <td>100537</td>\n",
       "      <td>24540</td>\n",
       "      <td>0.572451</td>\n",
       "      <td>3937</td>\n",
       "    </tr>\n",
       "    <tr>\n",
       "      <th>4</th>\n",
       "      <td>2005</td>\n",
       "      <td>100537</td>\n",
       "      <td>27828</td>\n",
       "      <td>0.296443</td>\n",
       "      <td>3937</td>\n",
       "    </tr>\n",
       "  </tbody>\n",
       "</table>\n",
       "</div>"
      ],
      "text/plain": [
       "   year     abi zipcode  locationFracOfEmployees  gvkey\n",
       "0  2003  100537   27828                 0.357782   3937\n",
       "1  2003  100537   24540                 0.572451   3937\n",
       "2  2004  100537   27828                 0.357782   3937\n",
       "3  2004  100537   24540                 0.572451   3937\n",
       "4  2005  100537   27828                 0.296443   3937"
      ]
     },
     "execution_count": 3,
     "metadata": {},
     "output_type": "execute_result"
    }
   ],
   "source": [
    "fractions = pd.read_csv('../../data/companyData/fractionEmployees_byEstablishment.csv').\\\n",
    "    drop(columns = {'latitude','longitude'}).rename(columns = {'archive_version_year': 'year',\n",
    "                                                    'parent_number': 'abi'})\n",
    "\n",
    "fractions['year']    = fractions.year.astype('int64')\n",
    "fractions['zipcode'] = fractions.zipcode.astype('int64')\n",
    "fractions.head()\n",
    "\n",
    "gvKey_abiLinkingTable = pd.read_csv('../../data/companyData/linkingTable.csv').drop(columns = ['Unnamed: 0'])\n",
    "\n",
    "print(gvKey_abiLinkingTable.abi)\n",
    "\n",
    "gvKey_abiLinkingTable.head()\n",
    "\n",
    "fractions = fractions[['year','abi','zipcode','locationFracOfEmployees']].merge(gvKey_abiLinkingTable[['abi','gvkey']])\n",
    "\n",
    "fractions = fractions.astype({'year':       'category',\n",
    "                           'zipcode':    'category'})\n",
    "\n",
    "fractions.head()"
   ]
  },
  {
   "cell_type": "markdown",
   "metadata": {},
   "source": [
    "We have all establishments > 10%, so we don't necessarily have 100% of all establishments."
   ]
  },
  {
   "cell_type": "code",
   "execution_count": 4,
   "metadata": {},
   "outputs": [],
   "source": [
    "fractionTotal = fractions[['year','abi','gvkey','locationFracOfEmployees']].\\\n",
    "    groupby(['year','gvkey']).sum().reset_index().rename(columns = {'locationFracOfEmployees': 'totalEmployees'})"
   ]
  },
  {
   "cell_type": "code",
   "execution_count": 5,
   "metadata": {},
   "outputs": [
    {
     "data": {
      "text/html": [
       "<div>\n",
       "<style scoped>\n",
       "    .dataframe tbody tr th:only-of-type {\n",
       "        vertical-align: middle;\n",
       "    }\n",
       "\n",
       "    .dataframe tbody tr th {\n",
       "        vertical-align: top;\n",
       "    }\n",
       "\n",
       "    .dataframe thead th {\n",
       "        text-align: right;\n",
       "    }\n",
       "</style>\n",
       "<table border=\"1\" class=\"dataframe\">\n",
       "  <thead>\n",
       "    <tr style=\"text-align: right;\">\n",
       "      <th></th>\n",
       "      <th>year</th>\n",
       "      <th>gvkey</th>\n",
       "      <th>totalEmployees</th>\n",
       "    </tr>\n",
       "  </thead>\n",
       "  <tbody>\n",
       "    <tr>\n",
       "      <th>0</th>\n",
       "      <td>1998</td>\n",
       "      <td>1004</td>\n",
       "      <td>0.602984</td>\n",
       "    </tr>\n",
       "    <tr>\n",
       "      <th>1</th>\n",
       "      <td>1998</td>\n",
       "      <td>1013</td>\n",
       "      <td>0.400375</td>\n",
       "    </tr>\n",
       "    <tr>\n",
       "      <th>2</th>\n",
       "      <td>1998</td>\n",
       "      <td>1019</td>\n",
       "      <td>0.878049</td>\n",
       "    </tr>\n",
       "    <tr>\n",
       "      <th>3</th>\n",
       "      <td>1998</td>\n",
       "      <td>1045</td>\n",
       "      <td>0.616084</td>\n",
       "    </tr>\n",
       "    <tr>\n",
       "      <th>4</th>\n",
       "      <td>1998</td>\n",
       "      <td>1050</td>\n",
       "      <td>0.000000</td>\n",
       "    </tr>\n",
       "  </tbody>\n",
       "</table>\n",
       "</div>"
      ],
      "text/plain": [
       "   year  gvkey  totalEmployees\n",
       "0  1998   1004        0.602984\n",
       "1  1998   1013        0.400375\n",
       "2  1998   1019        0.878049\n",
       "3  1998   1045        0.616084\n",
       "4  1998   1050        0.000000"
      ]
     },
     "execution_count": 5,
     "metadata": {},
     "output_type": "execute_result"
    }
   ],
   "source": [
    "fractionTotal.head()"
   ]
  },
  {
   "cell_type": "markdown",
   "metadata": {},
   "source": [
    "Most of these are either 0 or 1 for now, so we don't really have to worry about scaling anything."
   ]
  },
  {
   "cell_type": "code",
   "execution_count": 6,
   "metadata": {},
   "outputs": [
    {
     "data": {
      "text/plain": [
       "<matplotlib.axes._subplots.AxesSubplot at 0x7fadc54e46d0>"
      ]
     },
     "execution_count": 6,
     "metadata": {},
     "output_type": "execute_result"
    },
    {
     "data": {
      "image/png": "[encoded data removed]",
      "text/plain": [
       "<Figure size 432x288 with 1 Axes>"
      ]
     },
     "metadata": {
      "needs_background": "light"
     },
     "output_type": "display_data"
    }
   ],
   "source": [
    "fractionTotal.totalEmployees.hist(bins = 100)"
   ]
  },
  {
   "cell_type": "code",
   "execution_count": 7,
   "metadata": {},
   "outputs": [
    {
     "name": "stdout",
     "output_type": "stream",
     "text": [
      "(176699, 4)    gvkey  year zipcode  locationFracOfEmployees\n",
      "0   3937  2003   27828                 0.384615\n",
      "1   3937  2003   24540                 0.615385\n",
      "2   3937  2004   27828                 0.384615\n",
      "3   3937  2004   24540                 0.615385\n",
      "4   3937  2005   27828                 0.318302\n"
     ]
    }
   ],
   "source": [
    "fractions_byZip = fractions[['gvkey','year','zipcode','locationFracOfEmployees']].merge(fractionTotal)\n",
    "\n",
    "fractions_byZip['year'] =  fractions_byZip['year'].astype('int64')\n",
    "fractions_byZip['locationFracOfEmployees'] = fractions_byZip.locationFracOfEmployees*1/fractions_byZip.totalEmployees\n",
    "# fractions_byZip = fractions_byZip[(fractions_byZip.year > 2000) & (fractions_byZip.year < 2020)]\n",
    "fractions_byZip.drop(columns = {'totalEmployees'}, inplace = True)\n",
    "print(fractions_byZip.shape, fractions_byZip.head())\n",
    "\n",
    "fractions_byZip.to_csv(\"../../data/companyData/fractions_byZip.csv\")"
   ]
  },
  {
   "cell_type": "code",
   "execution_count": 8,
   "metadata": {},
   "outputs": [
    {
     "data": {
      "text/plain": [
       "40"
      ]
     },
     "execution_count": 8,
     "metadata": {},
     "output_type": "execute_result"
    }
   ],
   "source": [
    "del fractions_byZip\n",
    "del fractionTotal\n",
    "del fractions\n",
    "gc.collect()"
   ]
  },
  {
   "cell_type": "markdown",
   "metadata": {},
   "source": [
    "Now merge everything together."
   ]
  },
  {
   "cell_type": "code",
   "execution_count": 9,
   "metadata": {},
   "outputs": [],
   "source": [
    "allWeather_withLags = pd.read_csv(\"../../data/companyData/allWeather_withLags_allZips.csv\").drop(columns = {'Unnamed: 0'})\n",
    "fractions           = pd.read_csv(\"../../data/companyData/fractions_byZip.csv\").drop(columns = {'Unnamed: 0'})"
   ]
  },
  {
   "cell_type": "code",
   "execution_count": 14,
   "metadata": {},
   "outputs": [
    {
     "data": {
      "text/plain": [
       "(2481856, 54)"
      ]
     },
     "execution_count": 14,
     "metadata": {},
     "output_type": "execute_result"
    }
   ],
   "source": [
    "allWeather_withLags_new = pd.read_csv(\"../../data/companyData/allWeather_withLags_new.csv\").drop(columns = {'Unnamed: 0'})\n",
    "allWeather_withLags_new.shape"
   ]
  },
  {
   "cell_type": "code",
   "execution_count": 19,
   "metadata": {},
   "outputs": [],
   "source": [
    "allWeather_withLags_new = allWeather_withLags_new[['yearQtr', 'zipcode', 'qtr', 'year',\n",
    "                                'temp_zipQuarter50','lag1_temp_zipQuarter50','lag2_temp_zipQuarter50','lag3_temp_zipQuarter50',\n",
    "                                'precip_zipQuarter50','lag1_precip_zipQuarter50','lag2_precip_zipQuarter50','lag3_precip_zipQuarter50',\n",
    "                                'temp_zipQuarter95','lag1_temp_zipQuarter95','lag2_temp_zipQuarter95','lag3_temp_zipQuarter95',\n",
    "                                'precip_zipQuarter95','lag1_precip_zipQuarter95','lag2_precip_zipQuarter95','lag3_precip_zipQuarter95',\n",
    "                                'days90Plus','lag1_days90Plus','lag2_days90Plus','lag3_days90Plus'\n",
    "                                ]]\n",
    "\n",
    "allWeather_withLags = allWeather_withLags.merge(allWeather_withLags_new)"
   ]
  },
  {
   "cell_type": "code",
   "execution_count": 20,
   "metadata": {},
   "outputs": [
    {
     "data": {
      "text/plain": [
       "(176699, 4)"
      ]
     },
     "execution_count": 20,
     "metadata": {},
     "output_type": "execute_result"
    }
   ],
   "source": [
    "fractions.shape"
   ]
  },
  {
   "cell_type": "code",
   "execution_count": 21,
   "metadata": {},
   "outputs": [
    {
     "data": {
      "text/plain": [
       "0.005654528"
      ]
     },
     "execution_count": 21,
     "metadata": {},
     "output_type": "execute_result"
    }
   ],
   "source": [
    "sys.getsizeof(fractions)/1e9"
   ]
  },
  {
   "cell_type": "code",
   "execution_count": 22,
   "metadata": {},
   "outputs": [],
   "source": [
    "def getCompanyWeatherWeights(gvkey):\n",
    "    tempData = fractions[fractions.gvkey == gvkey]\n",
    "\n",
    "    tempWithWeather  = tempData.merge(allWeather_withLags[allWeather_withLags.zipcode.isin(tempData.zipcode)])\n",
    "    \n",
    "    tempWithWeather = pd.concat([tempWithWeather.iloc[:,:6],tempWithWeather.iloc[:,6:].multiply(tempWithWeather.locationFracOfEmployees, axis=0)], axis = 1)\n",
    "   \n",
    "\n",
    "    tempWithWeather.drop(columns = {'zipcode', 'locationFracOfEmployees', 'yearQtr'}, inplace = True)\n",
    "    \n",
    "    \n",
    "    tempWithWeather = tempWithWeather.groupby(['gvkey','year','qtr']).sum().reset_index()\n",
    "    \n",
    "    \n",
    "    return(tempWithWeather)"
   ]
  },
  {
   "cell_type": "code",
   "execution_count": 23,
   "metadata": {},
   "outputs": [],
   "source": [
    "def getCompanyWeatherMax(gvkey):\n",
    "    tempData = fractions[fractions.gvkey == gvkey]\n",
    "\n",
    "    tempWithWeather  = tempData.merge(allWeather_withLags[allWeather_withLags.zipcode.isin(tempData.zipcode)])\n",
    "    tempWithWeather.drop(columns = {'zipcode','locationFracOfEmployees','yearQtr'}, inplace = True)\n",
    "    \n",
    "    \n",
    "    tempWithWeather = tempWithWeather.groupby(['gvkey','year','qtr']).max().reset_index()\n",
    "    \n",
    "    \n",
    "    return(tempWithWeather)"
   ]
  },
  {
   "cell_type": "code",
   "execution_count": 24,
   "metadata": {},
   "outputs": [
    {
     "data": {
      "text/plain": [
       "7713"
      ]
     },
     "execution_count": 24,
     "metadata": {},
     "output_type": "execute_result"
    }
   ],
   "source": [
    "companies = fractions.gvkey.unique()\n",
    "len(companies)"
   ]
  },
  {
   "cell_type": "code",
   "execution_count": 26,
   "metadata": {},
   "outputs": [
    {
     "name": "stdout",
     "output_type": "stream",
     "text": [
      "106.13468408584595\n"
     ]
    },
    {
     "data": {
      "text/html": [
       "<div>\n",
       "<style scoped>\n",
       "    .dataframe tbody tr th:only-of-type {\n",
       "        vertical-align: middle;\n",
       "    }\n",
       "\n",
       "    .dataframe tbody tr th {\n",
       "        vertical-align: top;\n",
       "    }\n",
       "\n",
       "    .dataframe thead th {\n",
       "        text-align: right;\n",
       "    }\n",
       "</style>\n",
       "<table border=\"1\" class=\"dataframe\">\n",
       "  <thead>\n",
       "    <tr style=\"text-align: right;\">\n",
       "      <th></th>\n",
       "      <th>gvkey</th>\n",
       "      <th>year</th>\n",
       "      <th>qtr</th>\n",
       "      <th>empWt_precip_annual_50</th>\n",
       "      <th>empWt_precip_annual_95</th>\n",
       "      <th>empWt_precip_annual_99</th>\n",
       "      <th>empWt_precip_zip_50</th>\n",
       "      <th>empWt_precip_zip_95</th>\n",
       "      <th>empWt_precip_zip_99</th>\n",
       "      <th>empWt_precip_zipQuarter_50</th>\n",
       "      <th>...</th>\n",
       "      <th>empWt_lag2_temp_zipQuarter95</th>\n",
       "      <th>empWt_lag3_temp_zipQuarter95</th>\n",
       "      <th>empWt_precip_zipQuarter95</th>\n",
       "      <th>empWt_lag1_precip_zipQuarter95</th>\n",
       "      <th>empWt_lag2_precip_zipQuarter95</th>\n",
       "      <th>empWt_lag3_precip_zipQuarter95</th>\n",
       "      <th>empWt_days90Plus</th>\n",
       "      <th>empWt_lag1_days90Plus</th>\n",
       "      <th>empWt_lag2_days90Plus</th>\n",
       "      <th>empWt_lag3_days90Plus</th>\n",
       "    </tr>\n",
       "  </thead>\n",
       "  <tbody>\n",
       "    <tr>\n",
       "      <th>0</th>\n",
       "      <td>3937</td>\n",
       "      <td>2001</td>\n",
       "      <td>1</td>\n",
       "      <td>4.756098</td>\n",
       "      <td>0.731707</td>\n",
       "      <td>0.365854</td>\n",
       "      <td>10.975610</td>\n",
       "      <td>1.463415</td>\n",
       "      <td>0.365854</td>\n",
       "      <td>10.975610</td>\n",
       "      <td>...</td>\n",
       "      <td>0.0</td>\n",
       "      <td>0.0</td>\n",
       "      <td>0.0</td>\n",
       "      <td>0.0</td>\n",
       "      <td>0.0</td>\n",
       "      <td>0.0</td>\n",
       "      <td>0.000000</td>\n",
       "      <td>0.000000</td>\n",
       "      <td>5.853659</td>\n",
       "      <td>9.512195</td>\n",
       "    </tr>\n",
       "    <tr>\n",
       "      <th>1</th>\n",
       "      <td>3937</td>\n",
       "      <td>2001</td>\n",
       "      <td>2</td>\n",
       "      <td>5.487805</td>\n",
       "      <td>1.463415</td>\n",
       "      <td>0.365854</td>\n",
       "      <td>12.439024</td>\n",
       "      <td>1.829268</td>\n",
       "      <td>0.731707</td>\n",
       "      <td>12.439024</td>\n",
       "      <td>...</td>\n",
       "      <td>0.0</td>\n",
       "      <td>0.0</td>\n",
       "      <td>0.0</td>\n",
       "      <td>0.0</td>\n",
       "      <td>0.0</td>\n",
       "      <td>0.0</td>\n",
       "      <td>3.658537</td>\n",
       "      <td>0.000000</td>\n",
       "      <td>0.000000</td>\n",
       "      <td>5.853659</td>\n",
       "    </tr>\n",
       "    <tr>\n",
       "      <th>2</th>\n",
       "      <td>3937</td>\n",
       "      <td>2001</td>\n",
       "      <td>3</td>\n",
       "      <td>8.048780</td>\n",
       "      <td>1.829268</td>\n",
       "      <td>0.000000</td>\n",
       "      <td>13.536585</td>\n",
       "      <td>3.658537</td>\n",
       "      <td>0.365854</td>\n",
       "      <td>13.536585</td>\n",
       "      <td>...</td>\n",
       "      <td>0.0</td>\n",
       "      <td>0.0</td>\n",
       "      <td>0.0</td>\n",
       "      <td>0.0</td>\n",
       "      <td>0.0</td>\n",
       "      <td>0.0</td>\n",
       "      <td>6.951220</td>\n",
       "      <td>3.658537</td>\n",
       "      <td>0.000000</td>\n",
       "      <td>0.000000</td>\n",
       "    </tr>\n",
       "    <tr>\n",
       "      <th>3</th>\n",
       "      <td>3937</td>\n",
       "      <td>2001</td>\n",
       "      <td>4</td>\n",
       "      <td>1.463415</td>\n",
       "      <td>0.000000</td>\n",
       "      <td>0.000000</td>\n",
       "      <td>4.390244</td>\n",
       "      <td>0.365854</td>\n",
       "      <td>0.000000</td>\n",
       "      <td>4.390244</td>\n",
       "      <td>...</td>\n",
       "      <td>0.0</td>\n",
       "      <td>0.0</td>\n",
       "      <td>0.0</td>\n",
       "      <td>0.0</td>\n",
       "      <td>0.0</td>\n",
       "      <td>0.0</td>\n",
       "      <td>0.000000</td>\n",
       "      <td>6.951220</td>\n",
       "      <td>3.658537</td>\n",
       "      <td>0.000000</td>\n",
       "    </tr>\n",
       "    <tr>\n",
       "      <th>4</th>\n",
       "      <td>3937</td>\n",
       "      <td>2002</td>\n",
       "      <td>1</td>\n",
       "      <td>6.951220</td>\n",
       "      <td>2.560976</td>\n",
       "      <td>0.000000</td>\n",
       "      <td>9.512195</td>\n",
       "      <td>3.658537</td>\n",
       "      <td>0.731707</td>\n",
       "      <td>9.512195</td>\n",
       "      <td>...</td>\n",
       "      <td>0.0</td>\n",
       "      <td>0.0</td>\n",
       "      <td>0.0</td>\n",
       "      <td>0.0</td>\n",
       "      <td>0.0</td>\n",
       "      <td>0.0</td>\n",
       "      <td>0.000000</td>\n",
       "      <td>0.000000</td>\n",
       "      <td>6.951220</td>\n",
       "      <td>3.658537</td>\n",
       "    </tr>\n",
       "  </tbody>\n",
       "</table>\n",
       "<p>5 rows × 113 columns</p>\n",
       "</div>"
      ],
      "text/plain": [
       "   gvkey  year  qtr  empWt_precip_annual_50  empWt_precip_annual_95  \\\n",
       "0   3937  2001    1                4.756098                0.731707   \n",
       "1   3937  2001    2                5.487805                1.463415   \n",
       "2   3937  2001    3                8.048780                1.829268   \n",
       "3   3937  2001    4                1.463415                0.000000   \n",
       "4   3937  2002    1                6.951220                2.560976   \n",
       "\n",
       "   empWt_precip_annual_99  empWt_precip_zip_50  empWt_precip_zip_95  \\\n",
       "0                0.365854            10.975610             1.463415   \n",
       "1                0.365854            12.439024             1.829268   \n",
       "2                0.000000            13.536585             3.658537   \n",
       "3                0.000000             4.390244             0.365854   \n",
       "4                0.000000             9.512195             3.658537   \n",
       "\n",
       "   empWt_precip_zip_99  empWt_precip_zipQuarter_50  ...  \\\n",
       "0             0.365854                   10.975610  ...   \n",
       "1             0.731707                   12.439024  ...   \n",
       "2             0.365854                   13.536585  ...   \n",
       "3             0.000000                    4.390244  ...   \n",
       "4             0.731707                    9.512195  ...   \n",
       "\n",
       "   empWt_lag2_temp_zipQuarter95  empWt_lag3_temp_zipQuarter95  \\\n",
       "0                           0.0                           0.0   \n",
       "1                           0.0                           0.0   \n",
       "2                           0.0                           0.0   \n",
       "3                           0.0                           0.0   \n",
       "4                           0.0                           0.0   \n",
       "\n",
       "   empWt_precip_zipQuarter95  empWt_lag1_precip_zipQuarter95  \\\n",
       "0                        0.0                             0.0   \n",
       "1                        0.0                             0.0   \n",
       "2                        0.0                             0.0   \n",
       "3                        0.0                             0.0   \n",
       "4                        0.0                             0.0   \n",
       "\n",
       "   empWt_lag2_precip_zipQuarter95  empWt_lag3_precip_zipQuarter95  \\\n",
       "0                             0.0                             0.0   \n",
       "1                             0.0                             0.0   \n",
       "2                             0.0                             0.0   \n",
       "3                             0.0                             0.0   \n",
       "4                             0.0                             0.0   \n",
       "\n",
       "   empWt_days90Plus  empWt_lag1_days90Plus  empWt_lag2_days90Plus  \\\n",
       "0          0.000000               0.000000               5.853659   \n",
       "1          3.658537               0.000000               0.000000   \n",
       "2          6.951220               3.658537               0.000000   \n",
       "3          0.000000               6.951220               3.658537   \n",
       "4          0.000000               0.000000               6.951220   \n",
       "\n",
       "   empWt_lag3_days90Plus  \n",
       "0               9.512195  \n",
       "1               5.853659  \n",
       "2               0.000000  \n",
       "3               0.000000  \n",
       "4               3.658537  \n",
       "\n",
       "[5 rows x 113 columns]"
      ]
     },
     "execution_count": 26,
     "metadata": {},
     "output_type": "execute_result"
    }
   ],
   "source": [
    "start = time.time()\n",
    "\n",
    "weatherWeighted = []\n",
    "\n",
    "for company in companies:\n",
    "    weatherWeighted.append(getCompanyWeatherWeights(company))\n",
    "    \n",
    "companyWeighted = pd.concat(weatherWeighted)\n",
    "\n",
    "for colname in companyWeighted.columns[3:]:\n",
    "    companyWeighted.rename(columns = {colname: 'empWt_' + colname}, inplace = True)\n",
    "\n",
    "\n",
    "print(time.time() - start)\n",
    "\n",
    "companyWeighted.head()\n"
   ]
  },
  {
   "cell_type": "code",
   "execution_count": 27,
   "metadata": {},
   "outputs": [
    {
     "name": "stdout",
     "output_type": "stream",
     "text": [
      "99.66663694381714\n"
     ]
    },
    {
     "data": {
      "text/html": [
       "<div>\n",
       "<style scoped>\n",
       "    .dataframe tbody tr th:only-of-type {\n",
       "        vertical-align: middle;\n",
       "    }\n",
       "\n",
       "    .dataframe tbody tr th {\n",
       "        vertical-align: top;\n",
       "    }\n",
       "\n",
       "    .dataframe thead th {\n",
       "        text-align: right;\n",
       "    }\n",
       "</style>\n",
       "<table border=\"1\" class=\"dataframe\">\n",
       "  <thead>\n",
       "    <tr style=\"text-align: right;\">\n",
       "      <th></th>\n",
       "      <th>gvkey</th>\n",
       "      <th>year</th>\n",
       "      <th>qtr</th>\n",
       "      <th>empMx_precip_annual_50</th>\n",
       "      <th>empMx_precip_annual_95</th>\n",
       "      <th>empMx_precip_annual_99</th>\n",
       "      <th>empMx_precip_zip_50</th>\n",
       "      <th>empMx_precip_zip_95</th>\n",
       "      <th>empMx_precip_zip_99</th>\n",
       "      <th>empMx_precip_zipQuarter_50</th>\n",
       "      <th>...</th>\n",
       "      <th>empMx_lag2_temp_zipQuarter95</th>\n",
       "      <th>empMx_lag3_temp_zipQuarter95</th>\n",
       "      <th>empMx_precip_zipQuarter95</th>\n",
       "      <th>empMx_lag1_precip_zipQuarter95</th>\n",
       "      <th>empMx_lag2_precip_zipQuarter95</th>\n",
       "      <th>empMx_lag3_precip_zipQuarter95</th>\n",
       "      <th>empMx_days90Plus</th>\n",
       "      <th>empMx_lag1_days90Plus</th>\n",
       "      <th>empMx_lag2_days90Plus</th>\n",
       "      <th>empMx_lag3_days90Plus</th>\n",
       "    </tr>\n",
       "  </thead>\n",
       "  <tbody>\n",
       "    <tr>\n",
       "      <th>0</th>\n",
       "      <td>3937</td>\n",
       "      <td>2001</td>\n",
       "      <td>1</td>\n",
       "      <td>13.0</td>\n",
       "      <td>2.0</td>\n",
       "      <td>1.0</td>\n",
       "      <td>30.0</td>\n",
       "      <td>4.0</td>\n",
       "      <td>1.0</td>\n",
       "      <td>30.0</td>\n",
       "      <td>...</td>\n",
       "      <td>0</td>\n",
       "      <td>0</td>\n",
       "      <td>0</td>\n",
       "      <td>0</td>\n",
       "      <td>0</td>\n",
       "      <td>0</td>\n",
       "      <td>0</td>\n",
       "      <td>0</td>\n",
       "      <td>16</td>\n",
       "      <td>26</td>\n",
       "    </tr>\n",
       "    <tr>\n",
       "      <th>1</th>\n",
       "      <td>3937</td>\n",
       "      <td>2001</td>\n",
       "      <td>2</td>\n",
       "      <td>15.0</td>\n",
       "      <td>4.0</td>\n",
       "      <td>1.0</td>\n",
       "      <td>34.0</td>\n",
       "      <td>5.0</td>\n",
       "      <td>2.0</td>\n",
       "      <td>34.0</td>\n",
       "      <td>...</td>\n",
       "      <td>0</td>\n",
       "      <td>0</td>\n",
       "      <td>0</td>\n",
       "      <td>0</td>\n",
       "      <td>0</td>\n",
       "      <td>0</td>\n",
       "      <td>10</td>\n",
       "      <td>0</td>\n",
       "      <td>0</td>\n",
       "      <td>16</td>\n",
       "    </tr>\n",
       "    <tr>\n",
       "      <th>2</th>\n",
       "      <td>3937</td>\n",
       "      <td>2001</td>\n",
       "      <td>3</td>\n",
       "      <td>22.0</td>\n",
       "      <td>5.0</td>\n",
       "      <td>0.0</td>\n",
       "      <td>37.0</td>\n",
       "      <td>10.0</td>\n",
       "      <td>1.0</td>\n",
       "      <td>37.0</td>\n",
       "      <td>...</td>\n",
       "      <td>0</td>\n",
       "      <td>0</td>\n",
       "      <td>0</td>\n",
       "      <td>0</td>\n",
       "      <td>0</td>\n",
       "      <td>0</td>\n",
       "      <td>19</td>\n",
       "      <td>10</td>\n",
       "      <td>0</td>\n",
       "      <td>0</td>\n",
       "    </tr>\n",
       "    <tr>\n",
       "      <th>3</th>\n",
       "      <td>3937</td>\n",
       "      <td>2001</td>\n",
       "      <td>4</td>\n",
       "      <td>4.0</td>\n",
       "      <td>0.0</td>\n",
       "      <td>0.0</td>\n",
       "      <td>12.0</td>\n",
       "      <td>1.0</td>\n",
       "      <td>0.0</td>\n",
       "      <td>12.0</td>\n",
       "      <td>...</td>\n",
       "      <td>0</td>\n",
       "      <td>0</td>\n",
       "      <td>0</td>\n",
       "      <td>0</td>\n",
       "      <td>0</td>\n",
       "      <td>0</td>\n",
       "      <td>0</td>\n",
       "      <td>19</td>\n",
       "      <td>10</td>\n",
       "      <td>0</td>\n",
       "    </tr>\n",
       "    <tr>\n",
       "      <th>4</th>\n",
       "      <td>3937</td>\n",
       "      <td>2002</td>\n",
       "      <td>1</td>\n",
       "      <td>19.0</td>\n",
       "      <td>7.0</td>\n",
       "      <td>0.0</td>\n",
       "      <td>26.0</td>\n",
       "      <td>10.0</td>\n",
       "      <td>2.0</td>\n",
       "      <td>26.0</td>\n",
       "      <td>...</td>\n",
       "      <td>0</td>\n",
       "      <td>0</td>\n",
       "      <td>0</td>\n",
       "      <td>0</td>\n",
       "      <td>0</td>\n",
       "      <td>0</td>\n",
       "      <td>0</td>\n",
       "      <td>0</td>\n",
       "      <td>19</td>\n",
       "      <td>10</td>\n",
       "    </tr>\n",
       "  </tbody>\n",
       "</table>\n",
       "<p>5 rows × 113 columns</p>\n",
       "</div>"
      ],
      "text/plain": [
       "   gvkey  year  qtr  empMx_precip_annual_50  empMx_precip_annual_95  \\\n",
       "0   3937  2001    1                    13.0                     2.0   \n",
       "1   3937  2001    2                    15.0                     4.0   \n",
       "2   3937  2001    3                    22.0                     5.0   \n",
       "3   3937  2001    4                     4.0                     0.0   \n",
       "4   3937  2002    1                    19.0                     7.0   \n",
       "\n",
       "   empMx_precip_annual_99  empMx_precip_zip_50  empMx_precip_zip_95  \\\n",
       "0                     1.0                 30.0                  4.0   \n",
       "1                     1.0                 34.0                  5.0   \n",
       "2                     0.0                 37.0                 10.0   \n",
       "3                     0.0                 12.0                  1.0   \n",
       "4                     0.0                 26.0                 10.0   \n",
       "\n",
       "   empMx_precip_zip_99  empMx_precip_zipQuarter_50  ...  \\\n",
       "0                  1.0                        30.0  ...   \n",
       "1                  2.0                        34.0  ...   \n",
       "2                  1.0                        37.0  ...   \n",
       "3                  0.0                        12.0  ...   \n",
       "4                  2.0                        26.0  ...   \n",
       "\n",
       "   empMx_lag2_temp_zipQuarter95  empMx_lag3_temp_zipQuarter95  \\\n",
       "0                             0                             0   \n",
       "1                             0                             0   \n",
       "2                             0                             0   \n",
       "3                             0                             0   \n",
       "4                             0                             0   \n",
       "\n",
       "   empMx_precip_zipQuarter95  empMx_lag1_precip_zipQuarter95  \\\n",
       "0                          0                               0   \n",
       "1                          0                               0   \n",
       "2                          0                               0   \n",
       "3                          0                               0   \n",
       "4                          0                               0   \n",
       "\n",
       "   empMx_lag2_precip_zipQuarter95  empMx_lag3_precip_zipQuarter95  \\\n",
       "0                               0                               0   \n",
       "1                               0                               0   \n",
       "2                               0                               0   \n",
       "3                               0                               0   \n",
       "4                               0                               0   \n",
       "\n",
       "   empMx_days90Plus  empMx_lag1_days90Plus  empMx_lag2_days90Plus  \\\n",
       "0                 0                      0                     16   \n",
       "1                10                      0                      0   \n",
       "2                19                     10                      0   \n",
       "3                 0                     19                     10   \n",
       "4                 0                      0                     19   \n",
       "\n",
       "   empMx_lag3_days90Plus  \n",
       "0                     26  \n",
       "1                     16  \n",
       "2                      0  \n",
       "3                      0  \n",
       "4                     10  \n",
       "\n",
       "[5 rows x 113 columns]"
      ]
     },
     "execution_count": 27,
     "metadata": {},
     "output_type": "execute_result"
    }
   ],
   "source": [
    "start = time.time()\n",
    "\n",
    "weatherMax = []\n",
    "\n",
    "for company in companies:\n",
    "    weatherMax.append(getCompanyWeatherMax(company))\n",
    "    \n",
    "companyMax = pd.concat(weatherMax)\n",
    "\n",
    "for colname in companyMax.columns[3:]:\n",
    "    companyMax.rename(columns = {colname: 'empMx_' + colname}, inplace = True)\n",
    "\n",
    "\n",
    "print(time.time() - start)\n",
    "\n",
    "companyMax.head()"
   ]
  },
  {
   "cell_type": "code",
   "execution_count": 28,
   "metadata": {},
   "outputs": [
    {
     "name": "stdout",
     "output_type": "stream",
     "text": [
      "(317420, 223) (317420, 113) (317420, 113)\n"
     ]
    }
   ],
   "source": [
    "allEstabWeather = companyMax.merge(companyWeighted)\n",
    "\n",
    "print(allEstabWeather.shape,companyMax.shape,companyWeighted.shape)"
   ]
  },
  {
   "cell_type": "code",
   "execution_count": 29,
   "metadata": {},
   "outputs": [],
   "source": [
    "allEstabWeather.to_csv(\"../../data/companyData/weatherByEstablishment.csv\")"
   ]
  },
  {
   "cell_type": "code",
   "execution_count": 30,
   "metadata": {},
   "outputs": [
    {
     "data": {
      "text/plain": [
       "9734"
      ]
     },
     "execution_count": 30,
     "metadata": {},
     "output_type": "execute_result"
    }
   ],
   "source": [
    "establishmentZips = fractions.zipcode.unique()\n",
    "len(establishmentZips)"
   ]
  },
  {
   "cell_type": "markdown",
   "metadata": {},
   "source": [
    "--------------------------\n",
    "# Legacy Code\n",
    "We'd also looked: by industry, and the moving average streaks."
   ]
  },
  {
   "cell_type": "markdown",
   "metadata": {},
   "source": [
    "Now do the same for the industry-specific weather."
   ]
  },
  {
   "cell_type": "code",
   "execution_count": null,
   "metadata": {},
   "outputs": [],
   "source": [
    "# allWeather = pd.read_csv(\"../../../../../../../Volumes/backup2/dissData/prism/allWeatherBins_2010.2019.csv\").\\\n",
    "allWeather_byInd = pd.read_csv(\"../../data/companyData/revised_allWeatherBins_2009to2019_byInd.csv\").\\\n",
    "    drop(columns = {\"Unnamed: 0\"})\n",
    "'''[['famafrench','zipcode','yearQuarter', \n",
    "                                    'temp_ffquant_0.95','temp_indQuarterquant_0.95',\n",
    "                                   'temp5Days_ffquant_0.95', 'temp5Days_indQuarterquant_0.95',\n",
    "                                   'precip_ffquant_0.95', 'precip_indQuarterquant_0.95',\n",
    "                                   'precip5Days_ffquant_0.95', 'precip5Days_indQuarterquant_0.95']]\n",
    "'''\n",
    "allWeather_byInd['year'] = allWeather_byInd.yearQuarter.str.slice(0,4).astype('int64')\n",
    "allWeather_byInd['qtr']  = allWeather_byInd.yearQuarter.str.slice(5,6).astype('int64')\n",
    "allWeather_byInd['yearQtr'] = allWeather_byInd.year + (allWeather_byInd.qtr - 1)/4\n",
    "\n",
    "allWeather_byInd = allWeather_byInd.astype({'year':       'category',\n",
    "                         'qtr':        'category',\n",
    "                         'zipcode':    'category',\n",
    "                         'famafrench': 'category'})\n",
    "\n",
    "changes['zipcode'] = changes['zipcode'].astype({'zipcode': 'int64'})\n",
    "\n",
    "changes = changes.astype({'year':       'category',\n",
    "                          'qtr':        'category',\n",
    "                          'zipcode':    'category',\n",
    "                          'famafrench': 'category'})\n",
    "\n",
    "col = allWeather_byInd.pop(\"year\")\n",
    "allWeather_byInd.insert(0, col.name, col)\n",
    "\n",
    "col = allWeather_byInd.pop(\"qtr\")\n",
    "allWeather_byInd.insert(0, col.name, col)\n",
    "\n",
    "\n",
    "col = allWeather_byInd.pop(\"yearQtr\")\n",
    "allWeather_byInd.insert(0, col.name, col)\n",
    "\n",
    "allWeather_byInd.drop(columns = {'yearQuarter'}, inplace = True)\n",
    "\n",
    "print(allWeather_byInd.head())"
   ]
  },
  {
   "cell_type": "code",
   "execution_count": null,
   "metadata": {},
   "outputs": [],
   "source": [
    "lag1 = allWeather_byInd.copy()\n",
    "lag1['yearQtr'] += 0.25\n",
    "for colname in lag1.columns[5:]:\n",
    "    lag1.rename(columns = {colname: 'lag1_' + colname}, inplace = True)\n",
    "lag1.drop(columns = {'year','qtr'},inplace = True)\n",
    "lag1 = lag1.astype({'yearQtr':       'category'})\n",
    "\n",
    "    \n",
    "lag2 = allWeather_byInd.copy()\n",
    "lag2['yearQtr'] += 0.5\n",
    "for colname in lag2.columns[5:]:\n",
    "    lag2.rename(columns = {colname: 'lag2_' + colname}, inplace = True)\n",
    "lag2.drop(columns = {'year','qtr'},inplace = True)\n",
    "lag2 = lag2.astype({'yearQtr':       'category'})\n",
    "\n",
    "\n",
    "lag3 = allWeather_byInd.copy()\n",
    "lag3['yearQtr'] += 0.75\n",
    "for colname in lag3.columns[5:]:\n",
    "    lag3.rename(columns = {colname: 'lag3_' + colname}, inplace = True)\n",
    "lag3.drop(columns = {'year','qtr'},inplace = True)\n",
    "lag3 = lag3.astype({'yearQtr':       'category'})\n",
    "\n",
    "\n",
    "lag4 = allWeather_byInd.copy()\n",
    "lag4['yearQtr'] += 1\n",
    "for colname in lag4.columns[5:]:\n",
    "    lag4.rename(columns = {colname: 'lag4_' + colname}, inplace = True)\n",
    "lag4.drop(columns = {'year','qtr'},inplace = True)\n",
    "lag4 = lag4.astype({'yearQtr':       'category'})\n",
    "\n",
    "\n",
    "allWeather_byInd = allWeather_byInd.astype({'yearQtr':       'category'})\n",
    "\n",
    "\n",
    "print(allWeather_byInd.shape)\n",
    "\n",
    "\n",
    "allWeather_byInd.head()\n",
    "\n",
    "\n",
    "'''allWeather_byInd_withLags = allWeather_byInd.merge(lag1).merge(lag2).merge(lag3).merge(lag4)\n",
    "\n",
    "allWeather_byInd_withLags.year.value_counts()\n",
    "'''\n",
    "\n",
    "allWeather_byInd_withLags = allWeather_byInd.merge(lag1).merge(lag2).merge(lag3).merge(lag4)\n",
    "\n",
    "allWeather_byInd_withLags.to_csv(\"../../data/companyData/allWeather_byInd_withLags.csv\")"
   ]
  },
  {
   "cell_type": "markdown",
   "metadata": {},
   "source": [
    "Now get the streak data. Make sure it's 0/1 for whether there was a streak."
   ]
  },
  {
   "cell_type": "code",
   "execution_count": null,
   "metadata": {},
   "outputs": [],
   "source": [
    "allWeather = pd.read_csv(\"../../data/companyData/stockWeather_zipQuarterQuants.csv\").\\\n",
    "    drop(columns = {'Unnamed: 0'})\n",
    "\n",
    "allWeather = allWeather[~allWeather.temp_zipQuarterLast5.isna()].reset_index(drop = True)\n",
    "\n",
    "allWeather['date'] = pd.to_datetime(allWeather['date'],\n",
    "                                   format = \"%Y-%m-%d\")\n",
    "\n",
    "allWeather['hotStreak']   = (allWeather['temp_zipQuarterLast5'] == 5)*1\n",
    "allWeather['wetStreak'] = (allWeather['precip_zipQuarterLast5'] == 5)*1\n",
    "\n",
    "allWeather.rename(columns = {'ZIP': 'zipcode'}, inplace = True)\n",
    "print(allWeather.dtypes)\n",
    "\n",
    "allWeather['year'] = allWeather.date.dt.year\n",
    "allWeather['quarter'] = allWeather.date.dt.quarter\n",
    "\n",
    "\n",
    "allWeather.drop(columns = {'date','temp_zipQuarterLast5','precip_zipQuarterLast5'}, inplace = True)\n",
    "\n",
    "streaks = allWeather.groupby(['zipcode','year','quarter']).sum().reset_index()\n",
    "\n",
    "streaks['hotStreak'] = (streaks['hotStreak'] > 0)*1\n",
    "streaks['wetStreak'] = (streaks['wetStreak'] > 0)*1\n",
    "\n",
    "streaks.rename(columns = {'quarter': 'qtr'}, inplace = True)\n",
    "streaks.head()\n",
    "\n",
    "streaks['yearQtr'] = streaks.year + (streaks.qtr - 1)/4\n",
    "\n",
    "col = streaks.pop(\"yearQtr\")\n",
    "streaks.insert(0, col.name, col)\n",
    "\n",
    "lag1 = streaks.copy()\n",
    "lag1['yearQtr'] += 0.25\n",
    "for colname in lag1.columns[4:]:\n",
    "    lag1.rename(columns = {colname: 'lag1_' + colname}, inplace = True)\n",
    "lag1.drop(columns = {'year','qtr'},inplace = True)\n",
    "\n",
    "    \n",
    "lag2 = streaks.copy()\n",
    "lag2['yearQtr'] += 0.5\n",
    "for colname in lag2.columns[4:]:\n",
    "    lag2.rename(columns = {colname: 'lag2_' + colname}, inplace = True)\n",
    "lag2.drop(columns = {'year','qtr'},inplace = True)\n",
    "\n",
    "\n",
    "lag3 = streaks.copy()\n",
    "lag3['yearQtr'] += 0.75\n",
    "for colname in lag3.columns[4:]:\n",
    "    lag3.rename(columns = {colname: 'lag3_' + colname}, inplace = True)\n",
    "lag3.drop(columns = {'year','qtr'},inplace = True)\n",
    "\n",
    "\n",
    "lag4 = streaks.copy()\n",
    "lag4['yearQtr'] += 1\n",
    "for colname in lag4.columns[4:]:\n",
    "    lag4.rename(columns = {colname: 'lag4_' + colname}, inplace = True)\n",
    "lag4.drop(columns = {'year','qtr'},inplace = True)\n",
    "\n",
    "\n",
    "print(streaks.shape)\n",
    "\n",
    "streaks_withLags = streaks.merge(lag1).merge(lag2).merge(lag3).merge(lag4)\n",
    "\n",
    "print(streaks_withLags.year.value_counts())\n",
    "\n",
    "streaks_withLags.to_csv(\"../../data/companyData/streaks_withLags.csv\")\n"
   ]
  }
 ],
 "metadata": {
  "kernelspec": {
   "display_name": "Python 3",
   "language": "python",
   "name": "python3"
  },
  "language_info": {
   "codemirror_mode": {
    "name": "ipython",
    "version": 3
   },
   "file_extension": ".py",
   "mimetype": "text/x-python",
   "name": "python",
   "nbconvert_exporter": "python",
   "pygments_lexer": "ipython3",
   "version": "3.7.4"
  }
 },
 "nbformat": 4,
 "nbformat_minor": 2
}
