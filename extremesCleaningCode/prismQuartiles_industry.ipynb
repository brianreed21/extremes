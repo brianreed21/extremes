{
 "cells": [
  {
   "cell_type": "code",
   "execution_count": 2,
   "metadata": {},
   "outputs": [
    {
     "name": "stderr",
     "output_type": "stream",
     "text": [
      "/Users/brianreed/opt/anaconda3/lib/python3.7/site-packages/dask/dataframe/utils.py:14: FutureWarning: pandas.util.testing is deprecated. Use the functions in the public API at pandas.testing instead.\n",
      "  import pandas.util.testing as tm\n"
     ]
    }
   ],
   "source": [
    "import pickle as pkl\n",
    "import pandas as pd\n",
    "import matplotlib\n",
    "import os\n",
    "import re\n",
    "\n",
    "import collections\n",
    "import datetime\n",
    "import time\n",
    "\n",
    " \n",
    "import geopandas as gpd\n",
    "\n",
    "import numpy as np\n",
    "\n",
    "import rasterio\n",
    "\n",
    "from difflib import get_close_matches\n",
    "\n",
    "from fuzzywuzzy import process\n",
    "from fuzzywuzzy import fuzz\n",
    "\n",
    "import dask.dataframe as dd\n",
    "\n",
    "import gc\n",
    "import sys\n",
    "\n",
    "from multiprocessing import Pool\n",
    "import multiprocessing\n"
   ]
  },
  {
   "cell_type": "markdown",
   "metadata": {},
   "source": [
    "# Sample"
   ]
  },
  {
   "cell_type": "code",
   "execution_count": null,
   "metadata": {},
   "outputs": [],
   "source": [
    "callLocation = '../../data/companyData/relevantZips.pkl'\n",
    "file   = open(callLocation,\"rb\")\n",
    "relevantZips = list(pkl.load(file))\n",
    "\n",
    "len(relevantZips)"
   ]
  },
  {
   "cell_type": "code",
   "execution_count": null,
   "metadata": {},
   "outputs": [],
   "source": [
    "def getData(weatherType,yearRange1,yearRange2):\n",
    "\n",
    "    if weatherType == \"Tmax\":\n",
    "        weatherVar = \"temperature\"\n",
    "    else: \n",
    "        weatherVar = \"precipitation\"\n",
    "    \n",
    "    year = yearRange1\n",
    "    filename = \"../../../../../../../Volumes/backup2/dissData/prism/zipcode\" + weatherType + str(year) + \".csv\"\n",
    "    data = dd.read_csv(filename, assume_missing=True)[['ZIP','date',weatherVar]]\n",
    "    data['ZIP'] = data.ZIP.astype('int64')\n",
    "\n",
    "    \n",
    "    callLocation = '../../data/companyData/relevantZips.pkl'\n",
    "    file   = open(callLocation,\"rb\")\n",
    "    relevantZips = list(pkl.load(file))\n",
    "    \n",
    "    \n",
    "    data = data[data.ZIP.isin(relevantZips)]\n",
    "    \n",
    "    # data = data[~(data[weatherVar].isna().compute())]\n",
    "\n",
    "    years = range(yearRange1 + 1,yearRange2 + 1)\n",
    "    for year in years:\n",
    "        filename = \"../../../../../../../Volumes/backup2/dissData/prism/zipcode\" + weatherType + str(year) + \".csv\"\n",
    "        tempData = dd.read_csv(filename, assume_missing=True)[['ZIP','date',weatherVar]]\n",
    "        tempData['ZIP'] = tempData.ZIP.astype('int64')\n",
    "\n",
    "        tempData = tempData[tempData.ZIP.isin(relevantZips)]\n",
    "        # tempData = tempData[~(tempData[weatherVar].isna().compute())]\n",
    "        data = data.append(tempData)\n",
    "\n",
    "    data = data[~(data[weatherVar].isna())].compute()\n",
    "    \n",
    "    return(data)\n"
   ]
  },
  {
   "cell_type": "markdown",
   "metadata": {},
   "source": [
    "I think only a few of these quantiles will be relevant. Let's look at 0, 0.9, 0.95, 1.0"
   ]
  },
  {
   "cell_type": "code",
   "execution_count": null,
   "metadata": {},
   "outputs": [],
   "source": [
    "quantiles = [0.0, 0.05, 0.90, 0.95, 0.9888, 0.9973, 0.9978, 0.9989, 0.9995,  0.9997, 1.0]\n",
    "\n",
    "# need to account for fact that once a year-quarter is 90 days, not 365\n",
    "quant_labels = ['quant_0.05','quant_tossThisOne','quant_0.95','quant_1xQtr','quant_1xYr',\n",
    "                'quant_1x5Qtrs','quant_1x10Qtrs','quant_1x5Yrs','quant_1x10Yrs','quant_1.0']"
   ]
  },
  {
   "cell_type": "markdown",
   "metadata": {},
   "source": [
    "# Precipitation"
   ]
  },
  {
   "cell_type": "code",
   "execution_count": null,
   "metadata": {},
   "outputs": [],
   "source": [
    "weatherType = \"Precip\" # Tmax\n",
    "precipData = getData(weatherType, 1981, 2008)"
   ]
  },
  {
   "cell_type": "code",
   "execution_count": null,
   "metadata": {},
   "outputs": [],
   "source": [
    "print(sys.getsizeof(precipData)/1e6)"
   ]
  },
  {
   "cell_type": "code",
   "execution_count": null,
   "metadata": {},
   "outputs": [],
   "source": [
    "len(precipData.ZIP.unique())"
   ]
  },
  {
   "cell_type": "markdown",
   "metadata": {},
   "source": [
    "## Temperature"
   ]
  },
  {
   "cell_type": "code",
   "execution_count": null,
   "metadata": {},
   "outputs": [],
   "source": [
    "weatherType = \"Tmax\"\n",
    "tempData = getData(weatherType, 1981, 2008)"
   ]
  },
  {
   "cell_type": "code",
   "execution_count": null,
   "metadata": {},
   "outputs": [],
   "source": [
    "print(sys.getsizeof(tempData)/1e6)"
   ]
  },
  {
   "cell_type": "markdown",
   "metadata": {},
   "source": [
    "# Industry Data"
   ]
  },
  {
   "cell_type": "code",
   "execution_count": null,
   "metadata": {},
   "outputs": [],
   "source": [
    "indData = pd.read_csv(\"../../data/companyData/igData.csv\")[['zipcode','famafrench']].drop_duplicates().reset_index(drop = True)"
   ]
  },
  {
   "cell_type": "code",
   "execution_count": null,
   "metadata": {},
   "outputs": [],
   "source": [
    "indData.head()"
   ]
  },
  {
   "cell_type": "code",
   "execution_count": null,
   "metadata": {},
   "outputs": [],
   "source": [
    "indData.shape"
   ]
  },
  {
   "cell_type": "markdown",
   "metadata": {},
   "source": [
    "## Get stats\n",
    "\n",
    "### Describe Climate"
   ]
  },
  {
   "cell_type": "code",
   "execution_count": null,
   "metadata": {},
   "outputs": [],
   "source": [
    "weatherData = tempData.merge(precipData)\n",
    "weatherData['month'] = weatherData.date.astype('str').str.slice(4,6)\n",
    "weatherData['year'] = weatherData.date.astype('str').str.slice(0,4)\n",
    "\n",
    "weatherData['quarter'] = 'q1'\n",
    "\n",
    "weatherData.loc[weatherData['month'].isin(['04','05','06']), 'quarter'] = 'q2'\n",
    "weatherData.loc[weatherData['month'].isin(['07','08','09']), 'quarter'] = 'q3'\n",
    "weatherData.loc[weatherData['month'].isin(['10','11','12']), 'quarter'] = 'q4'\n",
    " \n",
    "weatherData['temp5Days']   = weatherData.groupby('ZIP').rolling(5)['temperature'].mean().reset_index(drop=True)\n",
    "weatherData['precip5Days'] = weatherData.groupby('ZIP').rolling(5)['precipitation'].sum().reset_index(drop=True)\n",
    "    \n",
    "print(weatherData.shape,tempData.shape,precipData.shape)\n",
    "\n",
    "\n",
    "weatherData.head()"
   ]
  },
  {
   "cell_type": "code",
   "execution_count": null,
   "metadata": {},
   "outputs": [],
   "source": [
    "del tempData\n",
    "del precipData\n",
    "gc.collect()"
   ]
  },
  {
   "cell_type": "code",
   "execution_count": null,
   "metadata": {},
   "outputs": [],
   "source": [
    "print(weatherData.shape)\n",
    "weatherData = weatherData[weatherData.ZIP.isin(indData.zipcode.unique())]\n",
    "print(weatherData.shape)"
   ]
  },
  {
   "cell_type": "code",
   "execution_count": null,
   "metadata": {},
   "outputs": [],
   "source": [
    "weatherData.rename(columns = {'ZIP': 'zipcode'}, inplace = True)\n",
    "weatherByInd = indData.merge(weatherData)\n",
    "print(weatherByInd.shape)"
   ]
  },
  {
   "cell_type": "code",
   "execution_count": null,
   "metadata": {},
   "outputs": [],
   "source": [
    "weatherByInd.head()"
   ]
  },
  {
   "cell_type": "markdown",
   "metadata": {},
   "source": [
    "Get the quarterly stats by industry."
   ]
  },
  {
   "cell_type": "code",
   "execution_count": null,
   "metadata": {},
   "outputs": [],
   "source": [
    "'''quarterlyStatsBySIC = weatherByInd.drop(columns = {'date'}).\\\n",
    "    groupby(['sic','quarter']).\\\n",
    "    agg(quarterly_avg_precip = ('precipitation',\"mean\"),\n",
    "       quarterly_median_precip = ('precipitation',\"median\"),\n",
    "       quarterly_variance_precip = ('precipitation',\"var\"),\n",
    "       quarterly_avg_temp = ('temperature',\"mean\"),\n",
    "       quarterly_median_temp = ('temperature',\"median\"),\n",
    "       quarterly_variance_temp = ('temperature',\"var\")\n",
    "       ).reset_index()'''\n",
    "\n",
    "quarterlyStatsByFF = weatherByInd.drop(columns = {'date'}).\\\n",
    "    groupby(['famafrench','quarter']).\\\n",
    "    agg(quarterly_avg_precip = ('precipitation',\"mean\"),\n",
    "       quarterly_median_precip = ('precipitation',\"median\"),\n",
    "       quarterly_variance_precip = ('precipitation',\"var\"),\n",
    "       quarterly_avg_temp = ('temperature',\"mean\"),\n",
    "       quarterly_median_temp = ('temperature',\"median\"),\n",
    "       quarterly_variance_temp = ('temperature',\"var\")\n",
    "       ).reset_index()\n",
    "\n",
    "'''\n",
    "precipQuantsOverall = precipData.groupby(['month']).precipitation.quantile(q = quantiles).\\\n",
    "    reset_index().rename(columns = {'level_1': 'quantile'})\n",
    "'''\n"
   ]
  },
  {
   "cell_type": "code",
   "execution_count": null,
   "metadata": {},
   "outputs": [],
   "source": [
    "# quarterlyStatsBySIC.to_csv(\"../../data/companyData/quarterlyStatsBySIC.csv\")\n",
    "quarterlyStatsByFF.to_csv(\"../../data/companyData/quarterlyStatsByFF.csv\")"
   ]
  },
  {
   "cell_type": "markdown",
   "metadata": {},
   "source": [
    "And the annual ones."
   ]
  },
  {
   "cell_type": "code",
   "execution_count": null,
   "metadata": {},
   "outputs": [],
   "source": [
    "'''annualStatsOverallbySIC = weatherByInd.drop(columns = {'date'}).\\\n",
    "    groupby(['sic','quarter']).\\\n",
    "    agg(annual_avg_precip = ('precipitation',\"mean\"),\n",
    "       annual_median_precip = ('precipitation',\"median\"),\n",
    "       annual_variance_precip = ('precipitation',\"var\"),\n",
    "       annual_avg_temp = ('temperature',\"mean\"),\n",
    "       annual_median_temp = ('temperature',\"median\"),\n",
    "       annual_variance_temp = ('temperature',\"var\")\n",
    "       ).reset_index()'''\n",
    "\n",
    "annualStatsOverallbyFF = weatherByInd.drop(columns = {'date'}).\\\n",
    "    groupby(['famafrench','quarter']).\\\n",
    "    agg(annual_avg_precip = ('precipitation',\"mean\"),\n",
    "       annual_median_precip = ('precipitation',\"median\"),\n",
    "       annual_variance_precip = ('precipitation',\"var\"),\n",
    "       annual_avg_temp = ('temperature',\"mean\"),\n",
    "       annual_median_temp = ('temperature',\"median\"),\n",
    "       annual_variance_temp = ('temperature',\"var\")\n",
    "       ).reset_index()"
   ]
  },
  {
   "cell_type": "code",
   "execution_count": null,
   "metadata": {},
   "outputs": [],
   "source": [
    "# annualStatsOverallbySIC.to_csv(\"../../data/companyData/annualStatsOverallbySIC.csv\")\n",
    "annualStatsOverallbyFF.to_csv(\"../../data/companyData/annualStatsOverallbyFF.csv\")"
   ]
  },
  {
   "cell_type": "code",
   "execution_count": null,
   "metadata": {},
   "outputs": [],
   "source": [
    "#del quarterlyStatsBySIC\n",
    "del quarterlyStatsByFF\n",
    "# del annualStatsOverallbySIC\n",
    "del annualStatsOverallbyFF\n",
    "gc.collect()"
   ]
  },
  {
   "cell_type": "markdown",
   "metadata": {},
   "source": [
    "### Find Quartiles"
   ]
  },
  {
   "cell_type": "code",
   "execution_count": null,
   "metadata": {},
   "outputs": [],
   "source": [
    "def getPivotQuants(weatherType, identifiers,weatherData):\n",
    "\n",
    "    quants_overallByInd   = weatherData.groupby(identifiers)[weatherType].quantile(q = quantiles).reset_index().\\\n",
    "        rename(columns=lambda x: re.sub('level_[0-9]$','quartile',x))\n",
    "    # rename(columns = {'level_1': 'quartile'})\n",
    "    # print(quants_overallByZip.head())\n",
    "    \n",
    "    quants_overallByInd['quartile'] = 'q_' + quants_overallByInd['quartile'].astype(str).str.slice(0,6)\n",
    "\n",
    "    ## \n",
    "\n",
    "    pivot_quants_overallByInd = quants_overallByInd.pivot(index=identifiers, \n",
    "            columns='quartile', values=str(weatherType)).reset_index().\\\n",
    "            rename_axis(None, axis=1)\n",
    "\n",
    "    pivot_quants_overallByInd['quartileList']      = pivot_quants_overallByInd.iloc[:,len(identifiers):].values.tolist()\n",
    "    pivot_quants_overallByInd['quartileLabelList'] = [list(pivot_quants_overallByInd.columns[2:-1])] * \\\n",
    "                                                                    pivot_quants_overallByInd.shape[0]\n",
    "\n",
    "    pivot_quants_overallByInd = pivot_quants_overallByInd[pivot_quants_overallByInd.\\\n",
    "                                                            columns.drop(list(pivot_quants_overallByInd.filter(regex='q_')))]\n",
    "\n",
    "    # pivot_quants_overallByZip.head()\n",
    "\n",
    "    return(pivot_quants_overallByInd)"
   ]
  },
  {
   "cell_type": "code",
   "execution_count": null,
   "metadata": {},
   "outputs": [],
   "source": [
    "def getQuartCounts(df, weatherType):\n",
    "    weatherCut = weatherType + \"Cut\"\n",
    "    weatherCutLabels = weatherCut + 'labels'\n",
    "    \n",
    "    df['month'] = df.date.astype(str).str.slice(4,6)\n",
    "    \n",
    "    df['quarter'] = 'q1'\n",
    "\n",
    "    df.loc[df['month'].isin(['04','05','06']), 'quarter'] = 'q2'\n",
    "    df.loc[df['month'].isin(['07','08','09']), 'quarter'] = 'q3'\n",
    "    df.loc[df['month'].isin(['10','11','12']), 'quarter'] = 'q4'\n",
    "\n",
    "    df['yearQuarter'] = df.date.astype(str).str.slice(0,4) + df.quarter\n",
    "\n",
    "    occurrences = weatherType + \"Occurrences\" \n",
    "\n",
    "    summaryDF = df.groupby(['famafrench','yearQuarter',weatherCutLabels]).size().reset_index()\n",
    "    summaryDF.columns = ['famafrench','yearQuarter',weatherCutLabels,occurrences]\n",
    "    \n",
    "    return(summaryDF)"
   ]
  },
  {
   "cell_type": "markdown",
   "metadata": {},
   "source": [
    "Now get all the quartile data:\n",
    "    - by sic overall\n",
    "    - by famafrench overall\n",
    "    - by sic by quarter\n",
    "    - by famafrench by quarter"
   ]
  },
  {
   "cell_type": "code",
   "execution_count": null,
   "metadata": {},
   "outputs": [],
   "source": [
    "weatherByInd.head()"
   ]
  },
  {
   "cell_type": "code",
   "execution_count": null,
   "metadata": {},
   "outputs": [],
   "source": [
    "####################\n",
    "# by famafrench\n",
    "pivot_temperatureQuants_ff = getPivotQuants('temperature',['famafrench'],weatherByInd).\\\n",
    "    drop(columns = {'quartileLabelList'})\n",
    "pivot_temperatureQuants_ff.rename(columns = {'quartileList':     'quartileListTemperature_ff'},\n",
    "                                      inplace = True)\n",
    "\n",
    "pivot_temp5DaysQuants_ff = getPivotQuants('temp5Days',['famafrench'],weatherByInd).\\\n",
    "    drop(columns = {'quartileLabelList'})\n",
    "pivot_temp5DaysQuants_ff.rename(columns = {'quartileList':     'quartileListTemp5Days_ff'},\n",
    "                                      inplace = True)\n",
    "\n",
    "print(\"here 1\")\n",
    "\n",
    "pivot_precipitationQuants_ff = getPivotQuants('precipitation',['famafrench'],weatherByInd).\\\n",
    "    drop(columns = {'quartileLabelList'})\n",
    "pivot_precipitationQuants_ff.rename(columns = {'quartileList':     'quartileListPrecipitation_ff'},\n",
    "                                      inplace = True)\n",
    "\n",
    "pivot_precip5DaysQuants_ff = getPivotQuants('precip5Days',['famafrench'],weatherByInd).\\\n",
    "    drop(columns = {'quartileLabelList'})\n",
    "pivot_precip5DaysQuants_ff.rename(columns = {'quartileList':     'quartileListPrecip5Days_ff'},\n",
    "                                      inplace = True)\n",
    "\n",
    "print(\"here 2\")\n",
    "\n",
    "quants_ff = pivot_temperatureQuants_ff.merge(pivot_precipitationQuants_ff).merge(pivot_temp5DaysQuants_ff).merge(pivot_precip5DaysQuants_ff)\n",
    "\n",
    "\n",
    "##########################################\n",
    "# famafrench - quarterly\n",
    "pivot_temperatureQuants_quarterlyByFF = getPivotQuants('temperature',['famafrench','quarter'],weatherByInd).\\\n",
    "    drop(columns = {'quartileLabelList'})\n",
    "pivot_temperatureQuants_quarterlyByFF.rename(columns = {'quartileList':     'quartileListTemperature_quarterlyByFF'},\n",
    "                                      inplace = True)\n",
    "pivot_temp5DaysQuants_quarterlyByFF = getPivotQuants('temp5Days',['famafrench','quarter'],weatherByInd).\\\n",
    "    drop(columns = {'quartileLabelList'})\n",
    "pivot_temp5DaysQuants_quarterlyByFF.rename(columns = {'quartileList':     'quartileListTemp5Days_quarterlyByFF'},\n",
    "                                      inplace = True)\n",
    "\n",
    "print(\"here 3\")\n",
    "\n",
    "pivot_precipitationQuants_quarterlyByFF = getPivotQuants('precipitation',['famafrench','quarter'],weatherByInd).\\\n",
    "    drop(columns = {'quartileLabelList'})\n",
    "pivot_precipitationQuants_quarterlyByFF.rename(columns = {'quartileList':     'quartileListPrecipitation_quarterlyByFF'},\n",
    "                                      inplace = True)\n",
    "pivot_precip5DaysQuants_quarterlyByFF = getPivotQuants('precip5Days',['famafrench','quarter'],weatherByInd).\\\n",
    "    drop(columns = {'quartileLabelList'})\n",
    "pivot_precip5DaysQuants_quarterlyByFF.rename(columns = {'quartileList':     'quartileListPrecip5Days_quarterlyByFF'},\n",
    "                                      inplace = True)\n",
    "\n",
    "print(\"here 4\")\n",
    "\n",
    "quants_quarterlyByFF = pivot_temperatureQuants_quarterlyByFF.merge(pivot_precipitationQuants_quarterlyByFF).merge(pivot_temp5DaysQuants_quarterlyByFF).merge(pivot_precip5DaysQuants_quarterlyByFF)\n"
   ]
  },
  {
   "cell_type": "code",
   "execution_count": null,
   "metadata": {},
   "outputs": [],
   "source": [
    "quants_quarterlyByFF.head()"
   ]
  },
  {
   "cell_type": "markdown",
   "metadata": {},
   "source": [
    "Construct a record of all the relevant quantiles by combining all of the above. Rough idea is:\n",
    "    - Start with the zip-quarter data\n",
    "    - Merge in the less-specific quarter information\n",
    "    - For each row, put in the overall quartile information for each row"
   ]
  },
  {
   "cell_type": "code",
   "execution_count": null,
   "metadata": {},
   "outputs": [],
   "source": [
    "quantsAll                 = quants_quarterlyByFF.merge(quants_ff)\n",
    "\n",
    "\n",
    "'''\n",
    "quantsAll['precipitationQuants'] = [precipQuants for i in quantsAll.index]\n",
    "quantsAll['temperatureQuants']   = [tempQuants   for i in quantsAll.index]\n",
    "\n",
    "\n",
    "\n",
    "quantsAll['precip5DaysQuants']   = [precip5DaysQuants for i in quantsAll.index]\n",
    "quantsAll['temp5DaysQuants']     = [temp5DaysQuants   for i in quantsAll.index]\n",
    "'''\n",
    "\n",
    "\n",
    "quantsAll.head()"
   ]
  },
  {
   "cell_type": "code",
   "execution_count": null,
   "metadata": {},
   "outputs": [],
   "source": [
    "# relevantZips = allCustomerData.zipcode.append(allSupplierData.zipcode).unique()\n",
    "outfile =  '../../data/companyData/quantsAll_byFF.pkl'\n",
    "with open(outfile, 'wb') as pickle_file:\n",
    "    pkl.dump(quantsAll, pickle_file)"
   ]
  },
  {
   "cell_type": "code",
   "execution_count": null,
   "metadata": {},
   "outputs": [],
   "source": [
    "del weatherByInd\n",
    "del weatherData\n",
    "gc.collect()"
   ]
  },
  {
   "cell_type": "markdown",
   "metadata": {},
   "source": [
    "### Convert 2009-2018 data into quartiles"
   ]
  },
  {
   "cell_type": "code",
   "execution_count": null,
   "metadata": {},
   "outputs": [],
   "source": [
    "quantsAll = pkl.load(open('../../data/companyData/quantsAll_byFF.pkl','rb'))\n",
    "quantsAll.head()"
   ]
  },
  {
   "cell_type": "code",
   "execution_count": null,
   "metadata": {},
   "outputs": [],
   "source": [
    "recentDecadeTmax   = getData(\"Tmax\",2009,2019)\n",
    "recentDecadePrecip = getData(\"Precip\",2009,2019)"
   ]
  },
  {
   "cell_type": "code",
   "execution_count": null,
   "metadata": {},
   "outputs": [],
   "source": [
    "recentDecadeWeather = recentDecadeTmax.merge(recentDecadePrecip)\n",
    "recentDecadeWeather.head()"
   ]
  },
  {
   "cell_type": "code",
   "execution_count": null,
   "metadata": {},
   "outputs": [],
   "source": [
    "recentDecadeWeather['month'] = recentDecadeWeather.date.astype(str).str.slice(4,6)\n",
    "\n",
    "recentDecadeWeather['quarter'] = 'q1'\n",
    "\n",
    "recentDecadeWeather.loc[recentDecadeWeather['month'].isin(['04','05','06']), 'quarter'] = 'q2'\n",
    "recentDecadeWeather.loc[recentDecadeWeather['month'].isin(['07','08','09']), 'quarter'] = 'q3'\n",
    "recentDecadeWeather.loc[recentDecadeWeather['month'].isin(['10','11','12']), 'quarter'] = 'q4'\n",
    "\n",
    "recentDecadeWeather['yearQuarter'] = recentDecadeWeather.date.astype(str).str.slice(0,4) + recentDecadeWeather.quarter\n",
    "recentDecadeWeather.head()"
   ]
  },
  {
   "cell_type": "code",
   "execution_count": null,
   "metadata": {},
   "outputs": [],
   "source": [
    "recentDecadeWeather['temp5Days']   = recentDecadeWeather.groupby('ZIP').rolling(5)['temperature'].mean().reset_index(drop=True)\n",
    "recentDecadeWeather['precip5Days'] = recentDecadeWeather.groupby('ZIP').rolling(5)['precipitation'].sum().reset_index(drop=True)"
   ]
  },
  {
   "cell_type": "code",
   "execution_count": null,
   "metadata": {},
   "outputs": [],
   "source": [
    "recentDecadeWeather[recentDecadeWeather.yearQuarter == '2010q1'].head()"
   ]
  },
  {
   "cell_type": "code",
   "execution_count": null,
   "metadata": {},
   "outputs": [],
   "source": [
    "del recentDecadePrecip\n",
    "del recentDecadeTmax\n",
    "gc.collect()"
   ]
  },
  {
   "cell_type": "markdown",
   "metadata": {},
   "source": [
    "Merge the intervals into the recent weather data."
   ]
  },
  {
   "cell_type": "code",
   "execution_count": null,
   "metadata": {},
   "outputs": [],
   "source": [
    "quantsAll.columns"
   ]
  },
  {
   "cell_type": "code",
   "execution_count": null,
   "metadata": {},
   "outputs": [],
   "source": [
    "quantsAll.head()"
   ]
  },
  {
   "cell_type": "code",
   "execution_count": null,
   "metadata": {},
   "outputs": [],
   "source": [
    "recentDecadeWeather.columns"
   ]
  },
  {
   "cell_type": "code",
   "execution_count": null,
   "metadata": {},
   "outputs": [],
   "source": [
    "recentDecadeWeather.rename(columns = {'ZIP': 'zipcode'}, inplace = True)\n",
    "\n",
    "recentDecadeWeatherInd = indData.merge(recentDecadeWeather).merge(quantsAll)\n",
    "\n",
    "print(recentDecadeWeatherInd.shape,indData.shape,recentDecadeWeather.shape)"
   ]
  },
  {
   "cell_type": "code",
   "execution_count": null,
   "metadata": {},
   "outputs": [],
   "source": [
    "recentDecadeWeatherInd.tail()"
   ]
  },
  {
   "cell_type": "markdown",
   "metadata": {},
   "source": [
    "Now do the counts by industry & zipcode. For some reason the filtering operations are like 10x faster with making the industry and quarter out to be categories."
   ]
  },
  {
   "cell_type": "code",
   "execution_count": null,
   "metadata": {},
   "outputs": [],
   "source": [
    "recentDecadeWeatherInd = recentDecadeWeatherInd.astype({'famafrench': 'category', 'quarter': 'category'})"
   ]
  },
  {
   "cell_type": "code",
   "execution_count": null,
   "metadata": {},
   "outputs": [],
   "source": [
    "recentDecadeWeatherInd.quartileListPrecip5Days_ff[0]"
   ]
  },
  {
   "cell_type": "code",
   "execution_count": null,
   "metadata": {},
   "outputs": [],
   "source": [
    "recentDecadeWeatherInd.quartileListPrecipitation_ff[0][1:]"
   ]
  },
  {
   "cell_type": "code",
   "execution_count": null,
   "metadata": {},
   "outputs": [],
   "source": [
    "def getFFQuarts(ff):\n",
    "    \n",
    "    tempData = recentDecadeWeatherInd[recentDecadeWeatherInd.famafrench == ff].reset_index()\n",
    "    \n",
    "    if tempData.shape[0] > 0:\n",
    "\n",
    "\n",
    "        for i in range(0,len(tempData.quartileListPrecip5Days_ff[0])):\n",
    "                tempData.quartileListPrecipitation_ff[0][i] = tempData.quartileListPrecipitation_ff[0][i] + i/10000\n",
    "                tempData.quartileListPrecip5Days_ff[0][i]   = tempData.quartileListPrecip5Days_ff[0][i] + i/10000\n",
    "\n",
    "\n",
    "        tempData['temp_ffQuants'] = pd.cut(tempData.temperature, \n",
    "               bins = tempData.quartileListTemperature_ff[0],\n",
    "               labels = quant_labels,include_lowest=True)\n",
    "        tempData['temp5Days_ffQuants'] = pd.cut(tempData.temp5Days, \n",
    "               bins = tempData.quartileListTemp5Days_ff[0],\n",
    "               labels = quant_labels,include_lowest=True)\n",
    "\n",
    "\n",
    "        tempData['precip_ffQuants'] = pd.cut(tempData.precipitation, \n",
    "               bins = tempData.quartileListPrecipitation_ff[0],\n",
    "               labels = quant_labels,include_lowest=True)\n",
    "        tempData['precip5Days_ffQuants'] = pd.cut(tempData.precip5Days, \n",
    "               bins = tempData.quartileListPrecip5Days_ff[0], \n",
    "               labels = quant_labels,include_lowest=True)\n",
    "        \n",
    "    \n",
    "    \n",
    "    return(tempData)"
   ]
  },
  {
   "cell_type": "code",
   "execution_count": null,
   "metadata": {},
   "outputs": [],
   "source": [
    "def getIndQuarterQuarts(ff):\n",
    "\n",
    "    weatherByFFByQuarter = pd.DataFrame()\n",
    "\n",
    "    quarters = recentDecadeWeatherInd.quarter.unique()\n",
    "    \n",
    "\n",
    "    for quarter in quarters:\n",
    "        tempData = recentDecadeWeatherInd[(recentDecadeWeatherInd.famafrench == ff) & \n",
    "                        (recentDecadeWeatherInd.quarter == quarter)].reset_index()\n",
    "        if tempData.shape[0] > 0:\n",
    "\n",
    "            for i in range(0,len(tempData.quartileListPrecip5Days_quarterlyByFF[0])):\n",
    "                tempData.quartileListPrecipitation_quarterlyByFF[0][i] = tempData.quartileListPrecipitation_quarterlyByFF[0][i] + i/10000\n",
    "                tempData.quartileListPrecip5Days_quarterlyByFF[0][i]   = tempData.quartileListPrecip5Days_quarterlyByFF[0][i] + i/10000\n",
    "                tempData.quartileListTemperature_quarterlyByFF[0][i] = tempData.quartileListTemperature_quarterlyByFF[0][i] + i/10000\n",
    "                tempData.quartileListTemp5Days_quarterlyByFF[0][i]   = tempData.quartileListTemp5Days_quarterlyByFF[0][i] + i/10000\n",
    "\n",
    "\n",
    "            tempData['temp_indQuarterQuants'] = pd.cut(tempData.temperature, \n",
    "                   bins = tempData.quartileListTemperature_quarterlyByFF[0],\n",
    "                   labels = quant_labels,include_lowest=True)\n",
    "            tempData['temp5Days_indQuarterQuants'] = pd.cut(tempData.temp5Days, \n",
    "                   bins = tempData.quartileListTemp5Days_quarterlyByFF[0],\n",
    "                   labels = quant_labels,include_lowest=True)\n",
    "\n",
    "\n",
    "            tempData['precip_indQuarterQuants'] = pd.cut(tempData.precipitation, \n",
    "                   bins = tempData.quartileListPrecipitation_quarterlyByFF[0],\n",
    "                   labels = quant_labels,include_lowest=True)\n",
    "            tempData['precip5Days_indQuarterQuants'] = pd.cut(tempData.precip5Days, \n",
    "                   bins = tempData.quartileListPrecip5Days_quarterlyByFF[0], \n",
    "                   labels = quant_labels,include_lowest=True) # \n",
    "\n",
    "\n",
    "            weatherByFFByQuarter = weatherByFFByQuarter.append(tempData)\n",
    "\n",
    "    return(weatherByFFByQuarter)"
   ]
  },
  {
   "cell_type": "code",
   "execution_count": null,
   "metadata": {},
   "outputs": [],
   "source": [
    "inds = recentDecadeWeatherInd.famafrench.unique()\n",
    "len(inds)"
   ]
  },
  {
   "cell_type": "code",
   "execution_count": null,
   "metadata": {},
   "outputs": [],
   "source": [
    "start = time.time()\n",
    "\n",
    "\n",
    "\n",
    "\n",
    "with multiprocessing.Pool() as pool:\n",
    "    indQuarts = pool.map(getFFQuarts, inds)\n",
    "\n",
    "    \n",
    "    \n",
    "weatherByInd = pd.concat(indQuarts)\n",
    "\n",
    "\n",
    "print(time.time() - start)"
   ]
  },
  {
   "cell_type": "code",
   "execution_count": null,
   "metadata": {},
   "outputs": [],
   "source": [
    "weatherByInd.head()"
   ]
  },
  {
   "cell_type": "code",
   "execution_count": null,
   "metadata": {},
   "outputs": [],
   "source": [
    "sum(weatherByInd.temp_ffQuants.isna())"
   ]
  },
  {
   "cell_type": "code",
   "execution_count": null,
   "metadata": {},
   "outputs": [],
   "source": [
    "start = time.time()\n",
    "\n",
    "\n",
    "\n",
    "with multiprocessing.Pool() as pool:\n",
    "    indQuarterQuarts = pool.map(getIndQuarterQuarts, inds)\n",
    "\n",
    "    \n",
    "    \n",
    "weatherByIndQuarter = pd.concat(indQuarterQuarts)\n",
    "\n",
    "\n",
    "print(time.time() - start)"
   ]
  },
  {
   "cell_type": "code",
   "execution_count": null,
   "metadata": {},
   "outputs": [],
   "source": [
    "weatherByIndQuarter['yearQuarter'] = weatherByIndQuarter.date.astype('str').str.slice(0,4) + weatherByIndQuarter.quarter.astype('str')\n",
    "weatherByInd['yearQuarter']        = weatherByInd.date.astype('str').str.slice(0,4) + weatherByInd.quarter.astype('str')\n",
    "\n",
    "\n"
   ]
  },
  {
   "cell_type": "code",
   "execution_count": null,
   "metadata": {},
   "outputs": [],
   "source": [
    "outfile =  '../../data/companyData/weatherByIndQuarter.pkl'\n",
    "with open(outfile, 'wb') as pickle_file:\n",
    "    pkl.dump(weatherByIndQuarter, pickle_file)\n",
    "    \n",
    "    \n",
    "outfile =  '../../data/companyData/weatherByInd.pkl'\n",
    "with open(outfile, 'wb') as pickle_file:\n",
    "    pkl.dump(weatherByInd, pickle_file)"
   ]
  },
  {
   "cell_type": "code",
   "execution_count": null,
   "metadata": {},
   "outputs": [],
   "source": [
    "file   = open('../../data/companyData/weatherByIndQuarter.pkl',\"rb\")\n",
    "weatherByIndQuarter = pkl.load(file)\n",
    "\n",
    "file   = open('../../data/companyData/weatherByInd.pkl',\"rb\")\n",
    "weatherByInd = pkl.load(file)"
   ]
  },
  {
   "cell_type": "code",
   "execution_count": null,
   "metadata": {
    "scrolled": true
   },
   "outputs": [],
   "source": [
    "weatherByInd.head()"
   ]
  },
  {
   "cell_type": "code",
   "execution_count": null,
   "metadata": {},
   "outputs": [],
   "source": [
    "allQuarts = pt1.merge(pt2)"
   ]
  },
  {
   "cell_type": "code",
   "execution_count": null,
   "metadata": {},
   "outputs": [],
   "source": [
    "'''outfile =  '../../data/companyData/allQuarts_byInd.pkl'\n",
    "with open(outfile, 'wb') as pickle_file:\n",
    "    pkl.dump(allQuarts, pickle_file)'''"
   ]
  },
  {
   "cell_type": "code",
   "execution_count": null,
   "metadata": {},
   "outputs": [],
   "source": [
    "'''tempData['temp_ffQuants'] = pd.cut(tempData.temperature, \n",
    "       bins = tempData.quartileListTemperature_ff[0],\n",
    "       labels = quant_labels,include_lowest=True)\n",
    "tempData['temp5Days_ffQuants'] = pd.cut(tempData.temp5Days, \n",
    "       bins = tempData.quartileListTemp5Days_ff[0],\n",
    "       labels = quant_labels,include_lowest=True)\n",
    "\n",
    "\n",
    "tempData['precip_ffQuants'] = pd.cut(tempData.precipitation, \n",
    "       bins = tempData.quartileListPrecipitation_ff[0],\n",
    "       labels = quant_labels,include_lowest=True)\n",
    "tempData['precip5Days_ffQuants'] = pd.cut(tempData.precip5Days, \n",
    "       bins = tempData.quartileListPrecip5Days_ff[0], \n",
    "       labels = quant_labels,include_lowest=True)'''"
   ]
  },
  {
   "cell_type": "code",
   "execution_count": null,
   "metadata": {},
   "outputs": [],
   "source": [
    "pt1 = weatherByInd[['famafrench','zipcode','date','quarter','yearQuarter',\n",
    "              'temp_ffQuants', 'temp5Days_ffQuants',\n",
    "              'precip_ffQuants', 'precip5Days_ffQuants']]\n",
    "\n",
    "pt2 = weatherByIndQuarter[['famafrench','zipcode','date','quarter','yearQuarter',\n",
    "                           'temp_indQuarterQuants','temp5Days_indQuarterQuants', \n",
    "                           'precip_indQuarterQuants','precip5Days_indQuarterQuants']]\n"
   ]
  },
  {
   "cell_type": "markdown",
   "metadata": {},
   "source": [
    "------------------"
   ]
  },
  {
   "cell_type": "markdown",
   "metadata": {},
   "source": [
    "### Now go through the data from 2010 - 2019 and find time spent in each bin"
   ]
  },
  {
   "cell_type": "code",
   "execution_count": null,
   "metadata": {},
   "outputs": [],
   "source": [
    "def getCounts(quartType,df):\n",
    "\n",
    "    test = df.groupby(['famafrench', 'zipcode', 'yearQuarter', quartType]).size().reset_index()\n",
    "    test = test.drop_duplicates()\n",
    "    test.columns = ['famafrench', 'zipcode', 'yearQuarter', quartType, 'occurrences']\n",
    "\n",
    "    # print(test.head())\n",
    "\n",
    "\n",
    "    testPivot = test.pivot(index=['famafrench','zipcode','yearQuarter'], \n",
    "            columns = quartType, values= 'occurrences').reset_index().\\\n",
    "            rename_axis(None, axis=1)\n",
    "\n",
    "    testPivot.columns.values[3:] = quartType[:-6] + testPivot.columns.values[3:]\n",
    "\n",
    "    # print(testPivot.head())\n",
    "    return(testPivot)"
   ]
  },
  {
   "cell_type": "code",
   "execution_count": null,
   "metadata": {},
   "outputs": [],
   "source": [
    "pt2.head()"
   ]
  },
  {
   "cell_type": "code",
   "execution_count": null,
   "metadata": {},
   "outputs": [],
   "source": [
    "countData_pt1 = getCounts(pt1.columns[5],pt1)\n",
    "for quart in pt1.columns[6:]:\n",
    "    print(quart)\n",
    "    countData_pt1 = countData_pt1.merge(getCounts(quart,pt1))\n",
    "    \n",
    "countData_pt2 = getCounts(pt2.columns[5],pt2)\n",
    "for quart in pt2.columns[6:]:\n",
    "    print(quart)\n",
    "    countData_pt2 = countData_pt2.merge(getCounts(quart,pt2))"
   ]
  },
  {
   "cell_type": "code",
   "execution_count": null,
   "metadata": {},
   "outputs": [],
   "source": [
    "countData = countData_pt1.merge(countData_pt2)"
   ]
  },
  {
   "cell_type": "markdown",
   "metadata": {},
   "source": [
    "Reformat the column names so they're consistent."
   ]
  },
  {
   "cell_type": "code",
   "execution_count": null,
   "metadata": {},
   "outputs": [],
   "source": [
    "countData.head()"
   ]
  },
  {
   "cell_type": "code",
   "execution_count": null,
   "metadata": {},
   "outputs": [],
   "source": [
    "countData.to_csv(\"../../data/companyData/allWeatherBins_2009to2019_byInd.csv\")"
   ]
  },
  {
   "cell_type": "code",
   "execution_count": 14,
   "metadata": {},
   "outputs": [
    {
     "name": "stdout",
     "output_type": "stream",
     "text": [
      "   famafrench  zipcode yearQuarter  temp_ffquant_0.05  \\\n",
      "0         1.0     1013      2009q1                  0   \n",
      "1         1.0     1013      2009q2                  0   \n",
      "2         1.0     1013      2009q3                  0   \n",
      "3         1.0     1013      2009q4                  0   \n",
      "4         1.0     1013      2010q1                  0   \n",
      "\n",
      "   temp_ffquant_tossThisOne  temp_ffquant_0.95  temp_ffquant_1xQtr  \\\n",
      "0                         0                  0                   0   \n",
      "1                         0                  0                   0   \n",
      "2                         0                  0                   0   \n",
      "3                         0                  0                   0   \n",
      "4                         0                  0                   0   \n",
      "\n",
      "   temp_ffquant_1xYr  temp_ffquant_1x5Qtrs  temp_ffquant_1x10Qtrs  ...  \\\n",
      "0                  0                     0                      0  ...   \n",
      "1                  0                     0                      0  ...   \n",
      "2                  0                     0                      0  ...   \n",
      "3                  0                     0                      0  ...   \n",
      "4                  0                     0                      0  ...   \n",
      "\n",
      "   precip5Days_indQuarterquant_0.05  precip5Days_indQuarterquant_tossThisOne  \\\n",
      "0                                 0                                        0   \n",
      "1                                 0                                        0   \n",
      "2                                 0                                        0   \n",
      "3                                 0                                        0   \n",
      "4                                 0                                        0   \n",
      "\n",
      "   precip5Days_indQuarterquant_0.95  precip5Days_indQuarterquant_1xQtr  \\\n",
      "0                                 0                                  0   \n",
      "1                                 0                                  0   \n",
      "2                                 0                                  0   \n",
      "3                                 0                                  0   \n",
      "4                                 0                                  0   \n",
      "\n",
      "   precip5Days_indQuarterquant_1xYr  precip5Days_indQuarterquant_1x5Qtrs  \\\n",
      "0                                 0                                    0   \n",
      "1                                 0                                    0   \n",
      "2                                 0                                    0   \n",
      "3                                 0                                    0   \n",
      "4                                 0                                    0   \n",
      "\n",
      "   precip5Days_indQuarterquant_1x10Qtrs  precip5Days_indQuarterquant_1x5Yrs  \\\n",
      "0                                     0                                   0   \n",
      "1                                     0                                   0   \n",
      "2                                     0                                   0   \n",
      "3                                     0                                   0   \n",
      "4                                     0                                   0   \n",
      "\n",
      "   precip5Days_indQuarterquant_1x10Yrs  precip5Days_indQuarterquant_1.0  \n",
      "0                                    0                                0  \n",
      "1                                    0                                0  \n",
      "2                                    0                                0  \n",
      "3                                    0                                0  \n",
      "4                                    0                                0  \n",
      "\n",
      "[5 rows x 83 columns]\n"
     ]
    }
   ],
   "source": [
    "countData = pd.read_csv(\"../../data/companyData/allWeatherBins_2009to2019_byInd.csv\").drop(columns = 'Unnamed: 0')\n",
    "\n",
    "print(countData.head())\n",
    "\n",
    "countDataRevised = countData[['famafrench','zipcode','yearQuarter']]"
   ]
  },
  {
   "cell_type": "code",
   "execution_count": 15,
   "metadata": {},
   "outputs": [
    {
     "name": "stdout",
     "output_type": "stream",
     "text": [
      "temp_ffquant_ *************************\n",
      "0.95 ******\n",
      "temp_ffquant_1xQtr\n",
      "temp_ffquant_1xYr\n",
      "temp_ffquant_1x5Qtrs\n",
      "temp_ffquant_1x10Qtrs\n",
      "temp_ffquant_1x5Yrs\n",
      "temp_ffquant_1x10Yrs\n",
      "temp_ffquant_1.0\n",
      "1xQtr ******\n",
      "temp_ffquant_1xYr\n",
      "temp_ffquant_1x5Qtrs\n",
      "temp_ffquant_1x10Qtrs\n",
      "temp_ffquant_1x5Yrs\n",
      "temp_ffquant_1x10Yrs\n",
      "temp_ffquant_1.0\n",
      "1xYr ******\n",
      "temp_ffquant_1x5Qtrs\n",
      "temp_ffquant_1x10Qtrs\n",
      "temp_ffquant_1x5Yrs\n",
      "temp_ffquant_1x10Yrs\n"
     ]
    },
    {
     "name": "stderr",
     "output_type": "stream",
     "text": [
      "/Users/brianreed/opt/anaconda3/lib/python3.7/site-packages/ipykernel_launcher.py:25: SettingWithCopyWarning: \n",
      "A value is trying to be set on a copy of a slice from a DataFrame.\n",
      "Try using .loc[row_indexer,col_indexer] = value instead\n",
      "\n",
      "See the caveats in the documentation: https://pandas.pydata.org/pandas-docs/stable/user_guide/indexing.html#returning-a-view-versus-a-copy\n",
      "/Users/brianreed/opt/anaconda3/lib/python3.7/site-packages/ipykernel_launcher.py:29: SettingWithCopyWarning: \n",
      "A value is trying to be set on a copy of a slice from a DataFrame.\n",
      "Try using .loc[row_indexer,col_indexer] = value instead\n",
      "\n",
      "See the caveats in the documentation: https://pandas.pydata.org/pandas-docs/stable/user_guide/indexing.html#returning-a-view-versus-a-copy\n"
     ]
    },
    {
     "name": "stdout",
     "output_type": "stream",
     "text": [
      "temp_ffquant_1.0\n",
      "1x5Qtrs ******\n",
      "temp_ffquant_1x10Qtrs\n",
      "temp_ffquant_1x5Yrs\n",
      "temp_ffquant_1x10Yrs\n",
      "temp_ffquant_1.0\n",
      "1x10Qtrs ******\n",
      "temp_ffquant_1x5Yrs\n",
      "temp_ffquant_1x10Yrs\n",
      "temp_ffquant_1.0\n",
      "1x5Yrs ******\n",
      "temp_ffquant_1x10Yrs\n",
      "temp_ffquant_1.0\n",
      "1x10Yrs ******\n",
      "temp_ffquant_1.0\n",
      "temp_indQuarterquant_ *************************\n",
      "0.95 ******\n",
      "temp_indQuarterquant_1xQtr\n",
      "temp_indQuarterquant_1xYr\n",
      "temp_indQuarterquant_1x5Qtrs\n",
      "temp_indQuarterquant_1x10Qtrs\n",
      "temp_indQuarterquant_1x5Yrs\n",
      "temp_indQuarterquant_1x10Yrs\n",
      "temp_indQuarterquant_1.0\n",
      "1xQtr ******\n",
      "temp_indQuarterquant_1xYr\n",
      "temp_indQuarterquant_1x5Qtrs\n",
      "temp_indQuarterquant_1x10Qtrs\n",
      "temp_indQuarterquant_1x5Yrs\n",
      "temp_indQuarterquant_1x10Yrs\n",
      "temp_indQuarterquant_1.0\n",
      "1xYr ******\n",
      "temp_indQuarterquant_1x5Qtrs\n",
      "temp_indQuarterquant_1x10Qtrs\n",
      "temp_indQuarterquant_1x5Yrs\n",
      "temp_indQuarterquant_1x10Yrs\n",
      "temp_indQuarterquant_1.0\n",
      "1x5Qtrs ******\n",
      "temp_indQuarterquant_1x10Qtrs\n",
      "temp_indQuarterquant_1x5Yrs\n",
      "temp_indQuarterquant_1x10Yrs\n",
      "temp_indQuarterquant_1.0\n",
      "1x10Qtrs ******\n",
      "temp_indQuarterquant_1x5Yrs\n",
      "temp_indQuarterquant_1x10Yrs\n",
      "temp_indQuarterquant_1.0\n",
      "1x5Yrs ******\n",
      "temp_indQuarterquant_1x10Yrs\n",
      "temp_indQuarterquant_1.0\n",
      "1x10Yrs ******\n",
      "temp_indQuarterquant_1.0\n",
      "temp5Days_ffquant_ *************************\n",
      "0.95 ******\n",
      "temp5Days_ffquant_1xQtr\n",
      "temp5Days_ffquant_1xYr\n",
      "temp5Days_ffquant_1x5Qtrs\n",
      "temp5Days_ffquant_1x10Qtrs\n",
      "temp5Days_ffquant_1x5Yrs\n",
      "temp5Days_ffquant_1x10Yrs\n",
      "temp5Days_ffquant_1.0\n",
      "1xQtr ******\n",
      "temp5Days_ffquant_1xYr\n",
      "temp5Days_ffquant_1x5Qtrs\n",
      "temp5Days_ffquant_1x10Qtrs\n",
      "temp5Days_ffquant_1x5Yrs\n",
      "temp5Days_ffquant_1x10Yrs\n",
      "temp5Days_ffquant_1.0\n",
      "1xYr ******\n",
      "temp5Days_ffquant_1x5Qtrs\n",
      "temp5Days_ffquant_1x10Qtrs\n",
      "temp5Days_ffquant_1x5Yrs\n",
      "temp5Days_ffquant_1x10Yrs\n",
      "temp5Days_ffquant_1.0\n",
      "1x5Qtrs ******\n",
      "temp5Days_ffquant_1x10Qtrs\n",
      "temp5Days_ffquant_1x5Yrs\n",
      "temp5Days_ffquant_1x10Yrs\n",
      "temp5Days_ffquant_1.0\n",
      "1x10Qtrs ******\n",
      "temp5Days_ffquant_1x5Yrs\n",
      "temp5Days_ffquant_1x10Yrs\n",
      "temp5Days_ffquant_1.0\n",
      "1x5Yrs ******\n",
      "temp5Days_ffquant_1x10Yrs\n",
      "temp5Days_ffquant_1.0\n",
      "1x10Yrs ******\n",
      "temp5Days_ffquant_1.0\n",
      "temp5Days_indQuarterquant_ *************************\n",
      "0.95 ******\n",
      "temp5Days_indQuarterquant_1xQtr\n",
      "temp5Days_indQuarterquant_1xYr\n",
      "temp5Days_indQuarterquant_1x5Qtrs\n",
      "temp5Days_indQuarterquant_1x10Qtrs\n",
      "temp5Days_indQuarterquant_1x5Yrs\n",
      "temp5Days_indQuarterquant_1x10Yrs\n",
      "temp5Days_indQuarterquant_1.0\n",
      "1xQtr ******\n",
      "temp5Days_indQuarterquant_1xYr\n",
      "temp5Days_indQuarterquant_1x5Qtrs\n",
      "temp5Days_indQuarterquant_1x10Qtrs\n",
      "temp5Days_indQuarterquant_1x5Yrs\n",
      "temp5Days_indQuarterquant_1x10Yrs\n",
      "temp5Days_indQuarterquant_1.0\n",
      "1xYr ******\n",
      "temp5Days_indQuarterquant_1x5Qtrs\n",
      "temp5Days_indQuarterquant_1x10Qtrs\n",
      "temp5Days_indQuarterquant_1x5Yrs\n",
      "temp5Days_indQuarterquant_1x10Yrs\n",
      "temp5Days_indQuarterquant_1.0\n",
      "1x5Qtrs ******\n",
      "temp5Days_indQuarterquant_1x10Qtrs\n",
      "temp5Days_indQuarterquant_1x5Yrs\n",
      "temp5Days_indQuarterquant_1x10Yrs\n",
      "temp5Days_indQuarterquant_1.0\n",
      "1x10Qtrs ******\n",
      "temp5Days_indQuarterquant_1x5Yrs\n",
      "temp5Days_indQuarterquant_1x10Yrs\n",
      "temp5Days_indQuarterquant_1.0\n",
      "1x5Yrs ******\n",
      "temp5Days_indQuarterquant_1x10Yrs\n",
      "temp5Days_indQuarterquant_1.0\n",
      "1x10Yrs ******\n",
      "temp5Days_indQuarterquant_1.0\n",
      "precip_ffquant_ *************************\n",
      "0.95 ******\n",
      "precip_ffquant_1xQtr\n",
      "precip_ffquant_1xYr\n",
      "precip_ffquant_1x5Qtrs\n",
      "precip_ffquant_1x10Qtrs\n",
      "precip_ffquant_1x5Yrs\n",
      "precip_ffquant_1x10Yrs\n",
      "precip_ffquant_1.0\n",
      "1xQtr ******\n",
      "precip_ffquant_1xYr\n",
      "precip_ffquant_1x5Qtrs\n",
      "precip_ffquant_1x10Qtrs\n",
      "precip_ffquant_1x5Yrs\n",
      "precip_ffquant_1x10Yrs\n",
      "precip_ffquant_1.0\n",
      "1xYr ******\n",
      "precip_ffquant_1x5Qtrs\n",
      "precip_ffquant_1x10Qtrs\n",
      "precip_ffquant_1x5Yrs\n",
      "precip_ffquant_1x10Yrs\n",
      "precip_ffquant_1.0\n",
      "1x5Qtrs ******\n",
      "precip_ffquant_1x10Qtrs\n",
      "precip_ffquant_1x5Yrs\n",
      "precip_ffquant_1x10Yrs\n",
      "precip_ffquant_1.0\n",
      "1x10Qtrs ******\n",
      "precip_ffquant_1x5Yrs\n",
      "precip_ffquant_1x10Yrs\n",
      "precip_ffquant_1.0\n",
      "1x5Yrs ******\n",
      "precip_ffquant_1x10Yrs\n",
      "precip_ffquant_1.0\n",
      "1x10Yrs ******\n",
      "precip_ffquant_1.0\n",
      "precip_indQuarterquant_ *************************\n",
      "0.95 ******\n",
      "precip_indQuarterquant_1xQtr\n",
      "precip_indQuarterquant_1xYr\n",
      "precip_indQuarterquant_1x5Qtrs\n",
      "precip_indQuarterquant_1x10Qtrs\n",
      "precip_indQuarterquant_1x5Yrs\n",
      "precip_indQuarterquant_1x10Yrs\n",
      "precip_indQuarterquant_1.0\n",
      "1xQtr ******\n",
      "precip_indQuarterquant_1xYr\n",
      "precip_indQuarterquant_1x5Qtrs\n",
      "precip_indQuarterquant_1x10Qtrs\n",
      "precip_indQuarterquant_1x5Yrs\n",
      "precip_indQuarterquant_1x10Yrs\n",
      "precip_indQuarterquant_1.0\n",
      "1xYr ******\n",
      "precip_indQuarterquant_1x5Qtrs\n",
      "precip_indQuarterquant_1x10Qtrs\n",
      "precip_indQuarterquant_1x5Yrs\n",
      "precip_indQuarterquant_1x10Yrs\n",
      "precip_indQuarterquant_1.0\n",
      "1x5Qtrs ******\n",
      "precip_indQuarterquant_1x10Qtrs\n",
      "precip_indQuarterquant_1x5Yrs\n",
      "precip_indQuarterquant_1x10Yrs\n",
      "precip_indQuarterquant_1.0\n",
      "1x10Qtrs ******\n",
      "precip_indQuarterquant_1x5Yrs\n",
      "precip_indQuarterquant_1x10Yrs\n",
      "precip_indQuarterquant_1.0\n",
      "1x5Yrs ******\n",
      "precip_indQuarterquant_1x10Yrs\n",
      "precip_indQuarterquant_1.0\n",
      "1x10Yrs ******\n",
      "precip_indQuarterquant_1.0\n",
      "precip5Days_ffquant_ *************************\n",
      "0.95 ******\n",
      "precip5Days_ffquant_1xQtr\n",
      "precip5Days_ffquant_1xYr\n",
      "precip5Days_ffquant_1x5Qtrs\n",
      "precip5Days_ffquant_1x10Qtrs\n",
      "precip5Days_ffquant_1x5Yrs\n",
      "precip5Days_ffquant_1x10Yrs\n",
      "precip5Days_ffquant_1.0\n",
      "1xQtr ******\n",
      "precip5Days_ffquant_1xYr\n",
      "precip5Days_ffquant_1x5Qtrs\n",
      "precip5Days_ffquant_1x10Qtrs\n",
      "precip5Days_ffquant_1x5Yrs\n",
      "precip5Days_ffquant_1x10Yrs\n",
      "precip5Days_ffquant_1.0\n",
      "1xYr ******\n",
      "precip5Days_ffquant_1x5Qtrs\n",
      "precip5Days_ffquant_1x10Qtrs\n",
      "precip5Days_ffquant_1x5Yrs\n",
      "precip5Days_ffquant_1x10Yrs\n",
      "precip5Days_ffquant_1.0\n",
      "1x5Qtrs ******\n",
      "precip5Days_ffquant_1x10Qtrs\n",
      "precip5Days_ffquant_1x5Yrs\n",
      "precip5Days_ffquant_1x10Yrs\n",
      "precip5Days_ffquant_1.0\n",
      "1x10Qtrs ******\n",
      "precip5Days_ffquant_1x5Yrs\n",
      "precip5Days_ffquant_1x10Yrs\n",
      "precip5Days_ffquant_1.0\n",
      "1x5Yrs ******\n",
      "precip5Days_ffquant_1x10Yrs\n",
      "precip5Days_ffquant_1.0\n",
      "1x10Yrs ******\n",
      "precip5Days_ffquant_1.0\n",
      "precip5Days_indQuarterquant_ *************************\n",
      "0.95 ******\n",
      "precip5Days_indQuarterquant_1xQtr\n",
      "precip5Days_indQuarterquant_1xYr\n",
      "precip5Days_indQuarterquant_1x5Qtrs\n",
      "precip5Days_indQuarterquant_1x10Qtrs\n",
      "precip5Days_indQuarterquant_1x5Yrs\n",
      "precip5Days_indQuarterquant_1x10Yrs\n",
      "precip5Days_indQuarterquant_1.0\n",
      "1xQtr ******\n",
      "precip5Days_indQuarterquant_1xYr\n",
      "precip5Days_indQuarterquant_1x5Qtrs\n",
      "precip5Days_indQuarterquant_1x10Qtrs\n",
      "precip5Days_indQuarterquant_1x5Yrs\n",
      "precip5Days_indQuarterquant_1x10Yrs\n",
      "precip5Days_indQuarterquant_1.0\n",
      "1xYr ******\n",
      "precip5Days_indQuarterquant_1x5Qtrs\n",
      "precip5Days_indQuarterquant_1x10Qtrs\n",
      "precip5Days_indQuarterquant_1x5Yrs\n",
      "precip5Days_indQuarterquant_1x10Yrs\n",
      "precip5Days_indQuarterquant_1.0\n",
      "1x5Qtrs ******\n",
      "precip5Days_indQuarterquant_1x10Qtrs\n",
      "precip5Days_indQuarterquant_1x5Yrs\n",
      "precip5Days_indQuarterquant_1x10Yrs\n",
      "precip5Days_indQuarterquant_1.0\n",
      "1x10Qtrs ******\n",
      "precip5Days_indQuarterquant_1x5Yrs\n",
      "precip5Days_indQuarterquant_1x10Yrs\n",
      "precip5Days_indQuarterquant_1.0\n",
      "1x5Yrs ******\n",
      "precip5Days_indQuarterquant_1x10Yrs\n",
      "precip5Days_indQuarterquant_1.0\n",
      "1x10Yrs ******\n",
      "precip5Days_indQuarterquant_1.0\n"
     ]
    }
   ],
   "source": [
    "\n",
    "cdf = {}\n",
    "\n",
    "\n",
    "cdf['0.95']     = ['1xQtr','1xYr','1x5Qtrs','1x10Qtrs','1x5Yrs','1x10Yrs','1.0']\n",
    "cdf['1xQtr']    = ['1xYr','1x5Qtrs','1x10Qtrs','1x5Yrs','1x10Yrs','1.0']\n",
    "cdf['1xYr']     = ['1x5Qtrs','1x10Qtrs','1x5Yrs','1x10Yrs','1.0']\n",
    "cdf['1x5Qtrs']  = ['1x10Qtrs','1x5Yrs','1x10Yrs','1.0']\n",
    "cdf['1x10Qtrs'] = ['1x5Yrs','1x10Yrs','1.0']\n",
    "cdf['1x5Yrs']   = ['1x10Yrs','1.0']\n",
    "cdf['1x10Yrs']  = ['1.0']\n",
    "\n",
    "\n",
    "weatherVars = ['temp_','temp5Days_','precip_','precip5Days_']\n",
    "statVars    = ['ffquant_','indQuarterquant_']\n",
    "\n",
    "\n",
    "for weatherVar in weatherVars:\n",
    "    for statVar in statVars:\n",
    "        print(weatherVar + statVar, \"*************************\")\n",
    "        \n",
    "        # 0.95\n",
    "        for cutoff in list(cdf.keys()):\n",
    "            \n",
    "            varHere = weatherVar + statVar + cutoff\n",
    "            countDataRevised[varHere] = countData[varHere]\n",
    "            print(cutoff, \"******\")\n",
    "            for greaterThanCutoffs in cdf[cutoff]:\n",
    "                varCDF = weatherVar + statVar + greaterThanCutoffs \n",
    "                countDataRevised[varHere] = countDataRevised[varHere] + countData[varCDF] \n",
    "                print(weatherVar + statVar + greaterThanCutoffs)\n",
    " "
   ]
  },
  {
   "cell_type": "code",
   "execution_count": 16,
   "metadata": {},
   "outputs": [
    {
     "data": {
      "text/html": [
       "<div>\n",
       "<style scoped>\n",
       "    .dataframe tbody tr th:only-of-type {\n",
       "        vertical-align: middle;\n",
       "    }\n",
       "\n",
       "    .dataframe tbody tr th {\n",
       "        vertical-align: top;\n",
       "    }\n",
       "\n",
       "    .dataframe thead th {\n",
       "        text-align: right;\n",
       "    }\n",
       "</style>\n",
       "<table border=\"1\" class=\"dataframe\">\n",
       "  <thead>\n",
       "    <tr style=\"text-align: right;\">\n",
       "      <th></th>\n",
       "      <th>precip_ffquant_0.95</th>\n",
       "      <th>precip_ffquant_1xQtr</th>\n",
       "      <th>precip_ffquant_1xYr</th>\n",
       "      <th>precip_ffquant_1x5Qtrs</th>\n",
       "      <th>precip_ffquant_1x10Qtrs</th>\n",
       "      <th>precip_ffquant_1x5Yrs</th>\n",
       "      <th>precip_ffquant_1x10Yrs</th>\n",
       "    </tr>\n",
       "  </thead>\n",
       "  <tbody>\n",
       "    <tr>\n",
       "      <th>0</th>\n",
       "      <td>0</td>\n",
       "      <td>0</td>\n",
       "      <td>0</td>\n",
       "      <td>0</td>\n",
       "      <td>0</td>\n",
       "      <td>0</td>\n",
       "      <td>0</td>\n",
       "    </tr>\n",
       "    <tr>\n",
       "      <th>1</th>\n",
       "      <td>0</td>\n",
       "      <td>0</td>\n",
       "      <td>0</td>\n",
       "      <td>0</td>\n",
       "      <td>0</td>\n",
       "      <td>0</td>\n",
       "      <td>0</td>\n",
       "    </tr>\n",
       "    <tr>\n",
       "      <th>2</th>\n",
       "      <td>0</td>\n",
       "      <td>0</td>\n",
       "      <td>0</td>\n",
       "      <td>0</td>\n",
       "      <td>0</td>\n",
       "      <td>0</td>\n",
       "      <td>0</td>\n",
       "    </tr>\n",
       "    <tr>\n",
       "      <th>3</th>\n",
       "      <td>0</td>\n",
       "      <td>0</td>\n",
       "      <td>0</td>\n",
       "      <td>0</td>\n",
       "      <td>0</td>\n",
       "      <td>0</td>\n",
       "      <td>0</td>\n",
       "    </tr>\n",
       "    <tr>\n",
       "      <th>4</th>\n",
       "      <td>0</td>\n",
       "      <td>0</td>\n",
       "      <td>0</td>\n",
       "      <td>0</td>\n",
       "      <td>0</td>\n",
       "      <td>0</td>\n",
       "      <td>0</td>\n",
       "    </tr>\n",
       "    <tr>\n",
       "      <th>...</th>\n",
       "      <td>...</td>\n",
       "      <td>...</td>\n",
       "      <td>...</td>\n",
       "      <td>...</td>\n",
       "      <td>...</td>\n",
       "      <td>...</td>\n",
       "      <td>...</td>\n",
       "    </tr>\n",
       "    <tr>\n",
       "      <th>6540859</th>\n",
       "      <td>0</td>\n",
       "      <td>0</td>\n",
       "      <td>0</td>\n",
       "      <td>0</td>\n",
       "      <td>0</td>\n",
       "      <td>0</td>\n",
       "      <td>0</td>\n",
       "    </tr>\n",
       "    <tr>\n",
       "      <th>6540860</th>\n",
       "      <td>0</td>\n",
       "      <td>0</td>\n",
       "      <td>0</td>\n",
       "      <td>0</td>\n",
       "      <td>0</td>\n",
       "      <td>0</td>\n",
       "      <td>0</td>\n",
       "    </tr>\n",
       "    <tr>\n",
       "      <th>6540861</th>\n",
       "      <td>0</td>\n",
       "      <td>0</td>\n",
       "      <td>0</td>\n",
       "      <td>0</td>\n",
       "      <td>0</td>\n",
       "      <td>0</td>\n",
       "      <td>0</td>\n",
       "    </tr>\n",
       "    <tr>\n",
       "      <th>6540862</th>\n",
       "      <td>0</td>\n",
       "      <td>0</td>\n",
       "      <td>0</td>\n",
       "      <td>0</td>\n",
       "      <td>0</td>\n",
       "      <td>0</td>\n",
       "      <td>0</td>\n",
       "    </tr>\n",
       "    <tr>\n",
       "      <th>6540863</th>\n",
       "      <td>0</td>\n",
       "      <td>0</td>\n",
       "      <td>0</td>\n",
       "      <td>0</td>\n",
       "      <td>0</td>\n",
       "      <td>0</td>\n",
       "      <td>0</td>\n",
       "    </tr>\n",
       "  </tbody>\n",
       "</table>\n",
       "<p>6540864 rows × 7 columns</p>\n",
       "</div>"
      ],
      "text/plain": [
       "         precip_ffquant_0.95  precip_ffquant_1xQtr  precip_ffquant_1xYr  \\\n",
       "0                          0                     0                    0   \n",
       "1                          0                     0                    0   \n",
       "2                          0                     0                    0   \n",
       "3                          0                     0                    0   \n",
       "4                          0                     0                    0   \n",
       "...                      ...                   ...                  ...   \n",
       "6540859                    0                     0                    0   \n",
       "6540860                    0                     0                    0   \n",
       "6540861                    0                     0                    0   \n",
       "6540862                    0                     0                    0   \n",
       "6540863                    0                     0                    0   \n",
       "\n",
       "         precip_ffquant_1x5Qtrs  precip_ffquant_1x10Qtrs  \\\n",
       "0                             0                        0   \n",
       "1                             0                        0   \n",
       "2                             0                        0   \n",
       "3                             0                        0   \n",
       "4                             0                        0   \n",
       "...                         ...                      ...   \n",
       "6540859                       0                        0   \n",
       "6540860                       0                        0   \n",
       "6540861                       0                        0   \n",
       "6540862                       0                        0   \n",
       "6540863                       0                        0   \n",
       "\n",
       "         precip_ffquant_1x5Yrs  precip_ffquant_1x10Yrs  \n",
       "0                            0                       0  \n",
       "1                            0                       0  \n",
       "2                            0                       0  \n",
       "3                            0                       0  \n",
       "4                            0                       0  \n",
       "...                        ...                     ...  \n",
       "6540859                      0                       0  \n",
       "6540860                      0                       0  \n",
       "6540861                      0                       0  \n",
       "6540862                      0                       0  \n",
       "6540863                      0                       0  \n",
       "\n",
       "[6540864 rows x 7 columns]"
      ]
     },
     "execution_count": 16,
     "metadata": {},
     "output_type": "execute_result"
    }
   ],
   "source": [
    "countData[['precip_ffquant_0.95','precip_ffquant_1xQtr','precip_ffquant_1xYr','precip_ffquant_1x5Qtrs',\n",
    "                 'precip_ffquant_1x10Qtrs','precip_ffquant_1x5Yrs','precip_ffquant_1x10Yrs']]"
   ]
  },
  {
   "cell_type": "code",
   "execution_count": 17,
   "metadata": {},
   "outputs": [
    {
     "data": {
      "text/plain": [
       "count    6.540864e+06\n",
       "mean     1.502233e-02\n",
       "std      1.655263e-01\n",
       "min      0.000000e+00\n",
       "25%      0.000000e+00\n",
       "50%      0.000000e+00\n",
       "75%      0.000000e+00\n",
       "max      1.300000e+01\n",
       "Name: precip_ffquant_1x5Qtrs, dtype: float64"
      ]
     },
     "execution_count": 17,
     "metadata": {},
     "output_type": "execute_result"
    }
   ],
   "source": [
    "countDataRevised['precip_ffquant_1x5Qtrs'].describe()"
   ]
  },
  {
   "cell_type": "code",
   "execution_count": 18,
   "metadata": {},
   "outputs": [
    {
     "data": {
      "text/html": [
       "<div>\n",
       "<style scoped>\n",
       "    .dataframe tbody tr th:only-of-type {\n",
       "        vertical-align: middle;\n",
       "    }\n",
       "\n",
       "    .dataframe tbody tr th {\n",
       "        vertical-align: top;\n",
       "    }\n",
       "\n",
       "    .dataframe thead th {\n",
       "        text-align: right;\n",
       "    }\n",
       "</style>\n",
       "<table border=\"1\" class=\"dataframe\">\n",
       "  <thead>\n",
       "    <tr style=\"text-align: right;\">\n",
       "      <th></th>\n",
       "      <th>precip_ffquant_0.95</th>\n",
       "      <th>precip_ffquant_1xQtr</th>\n",
       "      <th>precip_ffquant_1xYr</th>\n",
       "      <th>precip_ffquant_1x5Qtrs</th>\n",
       "      <th>precip_ffquant_1x10Qtrs</th>\n",
       "      <th>precip_ffquant_1x5Yrs</th>\n",
       "      <th>precip_ffquant_1x10Yrs</th>\n",
       "    </tr>\n",
       "  </thead>\n",
       "  <tbody>\n",
       "    <tr>\n",
       "      <th>0</th>\n",
       "      <td>0</td>\n",
       "      <td>0</td>\n",
       "      <td>0</td>\n",
       "      <td>0</td>\n",
       "      <td>0</td>\n",
       "      <td>0</td>\n",
       "      <td>0</td>\n",
       "    </tr>\n",
       "    <tr>\n",
       "      <th>1</th>\n",
       "      <td>0</td>\n",
       "      <td>0</td>\n",
       "      <td>0</td>\n",
       "      <td>0</td>\n",
       "      <td>0</td>\n",
       "      <td>0</td>\n",
       "      <td>0</td>\n",
       "    </tr>\n",
       "    <tr>\n",
       "      <th>2</th>\n",
       "      <td>0</td>\n",
       "      <td>0</td>\n",
       "      <td>0</td>\n",
       "      <td>0</td>\n",
       "      <td>0</td>\n",
       "      <td>0</td>\n",
       "      <td>0</td>\n",
       "    </tr>\n",
       "    <tr>\n",
       "      <th>3</th>\n",
       "      <td>0</td>\n",
       "      <td>0</td>\n",
       "      <td>0</td>\n",
       "      <td>0</td>\n",
       "      <td>0</td>\n",
       "      <td>0</td>\n",
       "      <td>0</td>\n",
       "    </tr>\n",
       "    <tr>\n",
       "      <th>4</th>\n",
       "      <td>0</td>\n",
       "      <td>0</td>\n",
       "      <td>0</td>\n",
       "      <td>0</td>\n",
       "      <td>0</td>\n",
       "      <td>0</td>\n",
       "      <td>0</td>\n",
       "    </tr>\n",
       "    <tr>\n",
       "      <th>...</th>\n",
       "      <td>...</td>\n",
       "      <td>...</td>\n",
       "      <td>...</td>\n",
       "      <td>...</td>\n",
       "      <td>...</td>\n",
       "      <td>...</td>\n",
       "      <td>...</td>\n",
       "    </tr>\n",
       "    <tr>\n",
       "      <th>6540859</th>\n",
       "      <td>0</td>\n",
       "      <td>0</td>\n",
       "      <td>0</td>\n",
       "      <td>0</td>\n",
       "      <td>0</td>\n",
       "      <td>0</td>\n",
       "      <td>0</td>\n",
       "    </tr>\n",
       "    <tr>\n",
       "      <th>6540860</th>\n",
       "      <td>0</td>\n",
       "      <td>0</td>\n",
       "      <td>0</td>\n",
       "      <td>0</td>\n",
       "      <td>0</td>\n",
       "      <td>0</td>\n",
       "      <td>0</td>\n",
       "    </tr>\n",
       "    <tr>\n",
       "      <th>6540861</th>\n",
       "      <td>0</td>\n",
       "      <td>0</td>\n",
       "      <td>0</td>\n",
       "      <td>0</td>\n",
       "      <td>0</td>\n",
       "      <td>0</td>\n",
       "      <td>0</td>\n",
       "    </tr>\n",
       "    <tr>\n",
       "      <th>6540862</th>\n",
       "      <td>0</td>\n",
       "      <td>0</td>\n",
       "      <td>0</td>\n",
       "      <td>0</td>\n",
       "      <td>0</td>\n",
       "      <td>0</td>\n",
       "      <td>0</td>\n",
       "    </tr>\n",
       "    <tr>\n",
       "      <th>6540863</th>\n",
       "      <td>0</td>\n",
       "      <td>0</td>\n",
       "      <td>0</td>\n",
       "      <td>0</td>\n",
       "      <td>0</td>\n",
       "      <td>0</td>\n",
       "      <td>0</td>\n",
       "    </tr>\n",
       "  </tbody>\n",
       "</table>\n",
       "<p>6540864 rows × 7 columns</p>\n",
       "</div>"
      ],
      "text/plain": [
       "         precip_ffquant_0.95  precip_ffquant_1xQtr  precip_ffquant_1xYr  \\\n",
       "0                          0                     0                    0   \n",
       "1                          0                     0                    0   \n",
       "2                          0                     0                    0   \n",
       "3                          0                     0                    0   \n",
       "4                          0                     0                    0   \n",
       "...                      ...                   ...                  ...   \n",
       "6540859                    0                     0                    0   \n",
       "6540860                    0                     0                    0   \n",
       "6540861                    0                     0                    0   \n",
       "6540862                    0                     0                    0   \n",
       "6540863                    0                     0                    0   \n",
       "\n",
       "         precip_ffquant_1x5Qtrs  precip_ffquant_1x10Qtrs  \\\n",
       "0                             0                        0   \n",
       "1                             0                        0   \n",
       "2                             0                        0   \n",
       "3                             0                        0   \n",
       "4                             0                        0   \n",
       "...                         ...                      ...   \n",
       "6540859                       0                        0   \n",
       "6540860                       0                        0   \n",
       "6540861                       0                        0   \n",
       "6540862                       0                        0   \n",
       "6540863                       0                        0   \n",
       "\n",
       "         precip_ffquant_1x5Yrs  precip_ffquant_1x10Yrs  \n",
       "0                            0                       0  \n",
       "1                            0                       0  \n",
       "2                            0                       0  \n",
       "3                            0                       0  \n",
       "4                            0                       0  \n",
       "...                        ...                     ...  \n",
       "6540859                      0                       0  \n",
       "6540860                      0                       0  \n",
       "6540861                      0                       0  \n",
       "6540862                      0                       0  \n",
       "6540863                      0                       0  \n",
       "\n",
       "[6540864 rows x 7 columns]"
      ]
     },
     "execution_count": 18,
     "metadata": {},
     "output_type": "execute_result"
    }
   ],
   "source": [
    "countDataRevised[['precip_ffquant_0.95','precip_ffquant_1xQtr','precip_ffquant_1xYr','precip_ffquant_1x5Qtrs',\n",
    "                 'precip_ffquant_1x10Qtrs','precip_ffquant_1x5Yrs','precip_ffquant_1x10Yrs']]"
   ]
  },
  {
   "cell_type": "code",
   "execution_count": null,
   "metadata": {},
   "outputs": [],
   "source": [
    "countData.tail()"
   ]
  },
  {
   "cell_type": "code",
   "execution_count": 19,
   "metadata": {},
   "outputs": [],
   "source": [
    "countDataRevised.to_csv(\"../../data/companyData/revised_allWeatherBins_2009to2019_byInd.csv\")"
   ]
  },
  {
   "cell_type": "code",
   "execution_count": 4,
   "metadata": {},
   "outputs": [],
   "source": [
    "countDataRevised = pd.read_csv(\"../../data/companyData/revised_allWeatherBins_2009to2019_byInd.csv\")"
   ]
  },
  {
   "cell_type": "code",
   "execution_count": 5,
   "metadata": {},
   "outputs": [
    {
     "data": {
      "text/plain": [
       "Index(['Unnamed: 0', 'famafrench', 'yearQuarter', 'temp_ffquant_0.95',\n",
       "       'temp_ffquant_1xQtr', 'temp_ffquant_1xYr', 'temp_ffquant_1x5Qtrs',\n",
       "       'temp_ffquant_1x10Qtrs', 'temp_ffquant_1x5Yrs', 'temp_ffquant_1x10Yrs',\n",
       "       'temp_indQuarterquant_0.95', 'temp_indQuarterquant_1xQtr',\n",
       "       'temp_indQuarterquant_1xYr', 'temp_indQuarterquant_1x5Qtrs',\n",
       "       'temp_indQuarterquant_1x10Qtrs', 'temp_indQuarterquant_1x5Yrs',\n",
       "       'temp_indQuarterquant_1x10Yrs', 'temp5Days_ffquant_0.95',\n",
       "       'temp5Days_ffquant_1xQtr', 'temp5Days_ffquant_1xYr',\n",
       "       'temp5Days_ffquant_1x5Qtrs', 'temp5Days_ffquant_1x10Qtrs',\n",
       "       'temp5Days_ffquant_1x5Yrs', 'temp5Days_ffquant_1x10Yrs',\n",
       "       'temp5Days_indQuarterquant_0.95', 'temp5Days_indQuarterquant_1xQtr',\n",
       "       'temp5Days_indQuarterquant_1xYr', 'temp5Days_indQuarterquant_1x5Qtrs',\n",
       "       'temp5Days_indQuarterquant_1x10Qtrs',\n",
       "       'temp5Days_indQuarterquant_1x5Yrs', 'temp5Days_indQuarterquant_1x10Yrs',\n",
       "       'precip_ffquant_0.95', 'precip_ffquant_1xQtr', 'precip_ffquant_1xYr',\n",
       "       'precip_ffquant_1x5Qtrs', 'precip_ffquant_1x10Qtrs',\n",
       "       'precip_ffquant_1x5Yrs', 'precip_ffquant_1x10Yrs',\n",
       "       'precip_indQuarterquant_0.95', 'precip_indQuarterquant_1xQtr',\n",
       "       'precip_indQuarterquant_1xYr', 'precip_indQuarterquant_1x5Qtrs',\n",
       "       'precip_indQuarterquant_1x10Qtrs', 'precip_indQuarterquant_1x5Yrs',\n",
       "       'precip_indQuarterquant_1x10Yrs', 'precip5Days_ffquant_0.95',\n",
       "       'precip5Days_ffquant_1xQtr', 'precip5Days_ffquant_1xYr',\n",
       "       'precip5Days_ffquant_1x5Qtrs', 'precip5Days_ffquant_1x10Qtrs',\n",
       "       'precip5Days_ffquant_1x5Yrs', 'precip5Days_ffquant_1x10Yrs',\n",
       "       'precip5Days_indQuarterquant_0.95', 'precip5Days_indQuarterquant_1xQtr',\n",
       "       'precip5Days_indQuarterquant_1xYr',\n",
       "       'precip5Days_indQuarterquant_1x5Qtrs',\n",
       "       'precip5Days_indQuarterquant_1x10Qtrs',\n",
       "       'precip5Days_indQuarterquant_1x5Yrs',\n",
       "       'precip5Days_indQuarterquant_1x10Yrs'],\n",
       "      dtype='object')"
      ]
     },
     "execution_count": 5,
     "metadata": {},
     "output_type": "execute_result"
    }
   ],
   "source": [
    "countDataRevised.columns"
   ]
  },
  {
   "cell_type": "code",
   "execution_count": null,
   "metadata": {
    "collapsed": true
   },
   "outputs": [],
   "source": [
    "countDataRevised.shape"
   ]
  }
 ],
 "metadata": {
  "kernelspec": {
   "display_name": "Python 3",
   "language": "python",
   "name": "python3"
  },
  "language_info": {
   "codemirror_mode": {
    "name": "ipython",
    "version": 3
   },
   "file_extension": ".py",
   "mimetype": "text/x-python",
   "name": "python",
   "nbconvert_exporter": "python",
   "pygments_lexer": "ipython3",
   "version": "3.7.4"
  }
 },
 "nbformat": 4,
 "nbformat_minor": 2
}
