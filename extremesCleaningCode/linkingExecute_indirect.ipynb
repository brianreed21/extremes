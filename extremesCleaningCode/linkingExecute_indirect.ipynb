{
 "cells": [
  {
   "cell_type": "code",
   "execution_count": 2,
   "metadata": {},
   "outputs": [
    {
     "ename": "RuntimeError",
     "evalue": "Failed to import transformers.models.auto because of the following error (look up to see its traceback):\nFailed to import transformers.modeling_tf_utils because of the following error (look up to see its traceback):\ndlopen(/Users/brianreed/opt/anaconda3/lib/python3.7/site-packages/tensorflow/python/_pywrap_tfe.so, 0x0002): Library not loaded: @rpath/_pywrap_tensorflow_internal.so\n  Referenced from: /Users/brianreed/opt/anaconda3/lib/python3.7/site-packages/tensorflow/python/_pywrap_tfe.so\n  Reason: tried: '/Users/brianreed/opt/anaconda3/lib/python3.7/site-packages/tensorflow/python/../../_solib_darwin_x86_64/_U_S_Stensorflow_Spython_C_Upywrap_Utfe.so___Utensorflow/_pywrap_tensorflow_internal.so' (no such file), '/Users/brianreed/opt/anaconda3/lib/python3.7/site-packages/tensorflow/python/../../_solib_darwin_x86_64/_U_S_Stensorflow_Spython_C_Upywrap_Utensorflow_Uinternal_Umacos___Utensorflow_Spython/_pywrap_tensorflow_internal.so' (no such file), '/Users/brianreed/opt/anaconda3/lib/python3.7/site-packages/tensorflow/python/_pywrap_tensorflow_internal.so' (no such file), '/Users/brianreed/opt/anaconda3/lib/python3.7/site-packages/tensorflow/python/../_pywrap_tensorflow_internal.so' (no such file), '/Users/brianreed/opt/anaconda3/lib/python3.7/site-packages/tensorflow/python/../../_solib_darwin_x86_64/_U_S_Stensorflow_Spython_C_Upywrap_Utfe.so___Utensorflow/_pywrap_tensorflow_internal.so' (no such file), '/Users/brianreed/opt/anaconda3/lib/python3.7/site-packages/tensorflow/python/../../_solib_darwin_x86_64/_U_S_Stensorflow_Spython_C_Upywrap_Utensorflow_Uinternal_Umacos___Utensorflow_Spython/_pywrap_tensorflow_internal.so' (no such file), '/Users/brianreed/opt/anaconda3/lib/python3.7/site-packages/tensorflow/python/_pywrap_tensorflow_internal.so' (no such file), '/Users/brianreed/opt/anaconda3/lib/python3.7/site-packages/tensorflow/python/../_pywrap_tensorflow_internal.so' (no such file), '/opt/concourse/worker/volumes/live/d698b2ce-b4b9-4fb4-6268-e633fba1b324/volume/python_1565725718142/_h_env_placehold_placehold_placehold_placehold_placehold_placehold_placehold_placehold_placehold_placehold_placehold_placehold_placehold_placehold_placehol/lib/_pywrap_tensorflow_internal.so' (no such file), '/opt/concourse/worker/volumes/live/d698b2ce-b4b9-4fb4-6268-e633fba1b324/volume/python_1565725718142/_h_env_placehold_placehold_placehold_placehold_placehold_placehold_placehold_placehold_placehold_placehold_placehold_placehold_placehold_placehold_placehol/lib/_pywrap_tensorflow_internal.so' (no such file), '/Users/brianreed/opt/anaconda3/bin/../lib/_pywrap_tensorflow_internal.so' (no such file), '/opt/concourse/worker/volumes/live/d698b2ce-b4b9-4fb4-6268-e633fba1b324/volume/python_1565725718142/_h_env_placehold_placehold_placehold_placehold_placehold_placehold_placehold_placehold_placehold_placehold_placehold_placehold_placehold_placehold_placehol/lib/_pywrap_tensorflow_internal.so' (no such file), '/opt/concourse/worker/volumes/live/d698b2ce-b4b9-4fb4-6268-e633fba1b324/volume/python_1565725718142/_h_env_placehold_placehold_placehold_placehold_placehold_placehold_placehold_placehold_placehold_placehold_placehold_placehold_placehold_placehold_placehol/lib/_pywrap_tensorflow_internal.so' (no such file), '/Users/brianreed/opt/anaconda3/bin/../lib/_pywrap_tensorflow_internal.so' (no such file), '/usr/local/lib/_pywrap_tensorflow_internal.so' (no such file), '/usr/lib/_pywrap_tensorflow_internal.so' (no such file)",
     "output_type": "error",
     "traceback": [
      "\u001b[0;31m---------------------------------------------------------------------------\u001b[0m",
      "\u001b[0;31mImportError\u001b[0m                               Traceback (most recent call last)",
      "\u001b[0;32m~/opt/anaconda3/lib/python3.7/site-packages/transformers/file_utils.py\u001b[0m in \u001b[0;36m_get_module\u001b[0;34m(self, module_name)\u001b[0m\n\u001b[1;32m   2149\u001b[0m         \u001b[0;32mtry\u001b[0m\u001b[0;34m:\u001b[0m\u001b[0;34m\u001b[0m\u001b[0;34m\u001b[0m\u001b[0m\n\u001b[0;32m-> 2150\u001b[0;31m             \u001b[0;32mreturn\u001b[0m \u001b[0mimportlib\u001b[0m\u001b[0;34m.\u001b[0m\u001b[0mimport_module\u001b[0m\u001b[0;34m(\u001b[0m\u001b[0;34m\".\"\u001b[0m \u001b[0;34m+\u001b[0m \u001b[0mmodule_name\u001b[0m\u001b[0;34m,\u001b[0m \u001b[0mself\u001b[0m\u001b[0;34m.\u001b[0m\u001b[0m__name__\u001b[0m\u001b[0;34m)\u001b[0m\u001b[0;34m\u001b[0m\u001b[0;34m\u001b[0m\u001b[0m\n\u001b[0m\u001b[1;32m   2151\u001b[0m         \u001b[0;32mexcept\u001b[0m \u001b[0mException\u001b[0m \u001b[0;32mas\u001b[0m \u001b[0me\u001b[0m\u001b[0;34m:\u001b[0m\u001b[0;34m\u001b[0m\u001b[0;34m\u001b[0m\u001b[0m\n",
      "\u001b[0;32m~/opt/anaconda3/lib/python3.7/importlib/__init__.py\u001b[0m in \u001b[0;36mimport_module\u001b[0;34m(name, package)\u001b[0m\n\u001b[1;32m    126\u001b[0m             \u001b[0mlevel\u001b[0m \u001b[0;34m+=\u001b[0m \u001b[0;36m1\u001b[0m\u001b[0;34m\u001b[0m\u001b[0;34m\u001b[0m\u001b[0m\n\u001b[0;32m--> 127\u001b[0;31m     \u001b[0;32mreturn\u001b[0m \u001b[0m_bootstrap\u001b[0m\u001b[0;34m.\u001b[0m\u001b[0m_gcd_import\u001b[0m\u001b[0;34m(\u001b[0m\u001b[0mname\u001b[0m\u001b[0;34m[\u001b[0m\u001b[0mlevel\u001b[0m\u001b[0;34m:\u001b[0m\u001b[0;34m]\u001b[0m\u001b[0;34m,\u001b[0m \u001b[0mpackage\u001b[0m\u001b[0;34m,\u001b[0m \u001b[0mlevel\u001b[0m\u001b[0;34m)\u001b[0m\u001b[0;34m\u001b[0m\u001b[0;34m\u001b[0m\u001b[0m\n\u001b[0m\u001b[1;32m    128\u001b[0m \u001b[0;34m\u001b[0m\u001b[0m\n",
      "\u001b[0;32m~/opt/anaconda3/lib/python3.7/importlib/_bootstrap.py\u001b[0m in \u001b[0;36m_gcd_import\u001b[0;34m(name, package, level)\u001b[0m\n",
      "\u001b[0;32m~/opt/anaconda3/lib/python3.7/importlib/_bootstrap.py\u001b[0m in \u001b[0;36m_find_and_load\u001b[0;34m(name, import_)\u001b[0m\n",
      "\u001b[0;32m~/opt/anaconda3/lib/python3.7/importlib/_bootstrap.py\u001b[0m in \u001b[0;36m_find_and_load_unlocked\u001b[0;34m(name, import_)\u001b[0m\n",
      "\u001b[0;32m~/opt/anaconda3/lib/python3.7/importlib/_bootstrap.py\u001b[0m in \u001b[0;36m_load_unlocked\u001b[0;34m(spec)\u001b[0m\n",
      "\u001b[0;32m~/opt/anaconda3/lib/python3.7/importlib/_bootstrap_external.py\u001b[0m in \u001b[0;36mexec_module\u001b[0;34m(self, module)\u001b[0m\n",
      "\u001b[0;32m~/opt/anaconda3/lib/python3.7/importlib/_bootstrap.py\u001b[0m in \u001b[0;36m_call_with_frames_removed\u001b[0;34m(f, *args, **kwds)\u001b[0m\n",
      "\u001b[0;32m~/opt/anaconda3/lib/python3.7/site-packages/transformers/modeling_tf_utils.py\u001b[0m in \u001b[0;36m<module>\u001b[0;34m\u001b[0m\n\u001b[1;32m     26\u001b[0m \u001b[0;32mimport\u001b[0m \u001b[0mnumpy\u001b[0m \u001b[0;32mas\u001b[0m \u001b[0mnp\u001b[0m\u001b[0;34m\u001b[0m\u001b[0;34m\u001b[0m\u001b[0m\n\u001b[0;32m---> 27\u001b[0;31m \u001b[0;32mimport\u001b[0m \u001b[0mtensorflow\u001b[0m \u001b[0;32mas\u001b[0m \u001b[0mtf\u001b[0m\u001b[0;34m\u001b[0m\u001b[0;34m\u001b[0m\u001b[0m\n\u001b[0m\u001b[1;32m     28\u001b[0m \u001b[0;32mfrom\u001b[0m \u001b[0mtensorflow\u001b[0m\u001b[0;34m.\u001b[0m\u001b[0mpython\u001b[0m\u001b[0;34m.\u001b[0m\u001b[0mkeras\u001b[0m \u001b[0;32mimport\u001b[0m \u001b[0mbackend\u001b[0m \u001b[0;32mas\u001b[0m \u001b[0mK\u001b[0m\u001b[0;34m\u001b[0m\u001b[0;34m\u001b[0m\u001b[0m\n",
      "\u001b[0;32m~/opt/anaconda3/lib/python3.7/site-packages/tensorflow/__init__.py\u001b[0m in \u001b[0;36m<module>\u001b[0;34m\u001b[0m\n\u001b[1;32m     40\u001b[0m \u001b[0;34m\u001b[0m\u001b[0m\n\u001b[0;32m---> 41\u001b[0;31m \u001b[0;32mfrom\u001b[0m \u001b[0mtensorflow\u001b[0m\u001b[0;34m.\u001b[0m\u001b[0mpython\u001b[0m\u001b[0;34m.\u001b[0m\u001b[0mtools\u001b[0m \u001b[0;32mimport\u001b[0m \u001b[0mmodule_util\u001b[0m \u001b[0;32mas\u001b[0m \u001b[0m_module_util\u001b[0m\u001b[0;34m\u001b[0m\u001b[0;34m\u001b[0m\u001b[0m\n\u001b[0m\u001b[1;32m     42\u001b[0m \u001b[0;32mfrom\u001b[0m \u001b[0mtensorflow\u001b[0m\u001b[0;34m.\u001b[0m\u001b[0mpython\u001b[0m\u001b[0;34m.\u001b[0m\u001b[0mutil\u001b[0m\u001b[0;34m.\u001b[0m\u001b[0mlazy_loader\u001b[0m \u001b[0;32mimport\u001b[0m \u001b[0mLazyLoader\u001b[0m \u001b[0;32mas\u001b[0m \u001b[0m_LazyLoader\u001b[0m\u001b[0;34m\u001b[0m\u001b[0;34m\u001b[0m\u001b[0m\n",
      "\u001b[0;32m~/opt/anaconda3/lib/python3.7/site-packages/tensorflow/python/__init__.py\u001b[0m in \u001b[0;36m<module>\u001b[0;34m\u001b[0m\n\u001b[1;32m     39\u001b[0m \u001b[0;34m\u001b[0m\u001b[0m\n\u001b[0;32m---> 40\u001b[0;31m \u001b[0;32mfrom\u001b[0m \u001b[0mtensorflow\u001b[0m\u001b[0;34m.\u001b[0m\u001b[0mpython\u001b[0m\u001b[0;34m.\u001b[0m\u001b[0meager\u001b[0m \u001b[0;32mimport\u001b[0m \u001b[0mcontext\u001b[0m\u001b[0;34m\u001b[0m\u001b[0;34m\u001b[0m\u001b[0m\n\u001b[0m\u001b[1;32m     41\u001b[0m \u001b[0;32mfrom\u001b[0m \u001b[0mtensorflow\u001b[0m\u001b[0;34m.\u001b[0m\u001b[0mpython\u001b[0m \u001b[0;32mimport\u001b[0m \u001b[0mpywrap_tensorflow\u001b[0m \u001b[0;32mas\u001b[0m \u001b[0m_pywrap_tensorflow\u001b[0m\u001b[0;34m\u001b[0m\u001b[0;34m\u001b[0m\u001b[0m\n",
      "\u001b[0;32m~/opt/anaconda3/lib/python3.7/site-packages/tensorflow/python/eager/context.py\u001b[0m in \u001b[0;36m<module>\u001b[0;34m\u001b[0m\n\u001b[1;32m     34\u001b[0m \u001b[0;32mfrom\u001b[0m \u001b[0mtensorflow\u001b[0m\u001b[0;34m.\u001b[0m\u001b[0mcore\u001b[0m\u001b[0;34m.\u001b[0m\u001b[0mprotobuf\u001b[0m \u001b[0;32mimport\u001b[0m \u001b[0mrewriter_config_pb2\u001b[0m\u001b[0;34m\u001b[0m\u001b[0;34m\u001b[0m\u001b[0m\n\u001b[0;32m---> 35\u001b[0;31m \u001b[0;32mfrom\u001b[0m \u001b[0mtensorflow\u001b[0m\u001b[0;34m.\u001b[0m\u001b[0mpython\u001b[0m \u001b[0;32mimport\u001b[0m \u001b[0mpywrap_tfe\u001b[0m\u001b[0;34m\u001b[0m\u001b[0;34m\u001b[0m\u001b[0m\n\u001b[0m\u001b[1;32m     36\u001b[0m \u001b[0;32mfrom\u001b[0m \u001b[0mtensorflow\u001b[0m\u001b[0;34m.\u001b[0m\u001b[0mpython\u001b[0m \u001b[0;32mimport\u001b[0m \u001b[0mtf2\u001b[0m\u001b[0;34m\u001b[0m\u001b[0;34m\u001b[0m\u001b[0m\n",
      "\u001b[0;32m~/opt/anaconda3/lib/python3.7/site-packages/tensorflow/python/pywrap_tfe.py\u001b[0m in \u001b[0;36m<module>\u001b[0;34m\u001b[0m\n\u001b[1;32m     28\u001b[0m \u001b[0;32mfrom\u001b[0m \u001b[0mtensorflow\u001b[0m\u001b[0;34m.\u001b[0m\u001b[0mpython\u001b[0m \u001b[0;32mimport\u001b[0m \u001b[0mpywrap_tensorflow\u001b[0m\u001b[0;34m\u001b[0m\u001b[0;34m\u001b[0m\u001b[0m\n\u001b[0;32m---> 29\u001b[0;31m \u001b[0;32mfrom\u001b[0m \u001b[0mtensorflow\u001b[0m\u001b[0;34m.\u001b[0m\u001b[0mpython\u001b[0m\u001b[0;34m.\u001b[0m\u001b[0m_pywrap_tfe\u001b[0m \u001b[0;32mimport\u001b[0m \u001b[0;34m*\u001b[0m\u001b[0;34m\u001b[0m\u001b[0;34m\u001b[0m\u001b[0m\n\u001b[0m",
      "\u001b[0;31mImportError\u001b[0m: dlopen(/Users/brianreed/opt/anaconda3/lib/python3.7/site-packages/tensorflow/python/_pywrap_tfe.so, 0x0002): Library not loaded: @rpath/_pywrap_tensorflow_internal.so\n  Referenced from: /Users/brianreed/opt/anaconda3/lib/python3.7/site-packages/tensorflow/python/_pywrap_tfe.so\n  Reason: tried: '/Users/brianreed/opt/anaconda3/lib/python3.7/site-packages/tensorflow/python/../../_solib_darwin_x86_64/_U_S_Stensorflow_Spython_C_Upywrap_Utfe.so___Utensorflow/_pywrap_tensorflow_internal.so' (no such file), '/Users/brianreed/opt/anaconda3/lib/python3.7/site-packages/tensorflow/python/../../_solib_darwin_x86_64/_U_S_Stensorflow_Spython_C_Upywrap_Utensorflow_Uinternal_Umacos___Utensorflow_Spython/_pywrap_tensorflow_internal.so' (no such file), '/Users/brianreed/opt/anaconda3/lib/python3.7/site-packages/tensorflow/python/_pywrap_tensorflow_internal.so' (no such file), '/Users/brianreed/opt/anaconda3/lib/python3.7/site-packages/tensorflow/python/../_pywrap_tensorflow_internal.so' (no such file), '/Users/brianreed/opt/anaconda3/lib/python3.7/site-packages/tensorflow/python/../../_solib_darwin_x86_64/_U_S_Stensorflow_Spython_C_Upywrap_Utfe.so___Utensorflow/_pywrap_tensorflow_internal.so' (no such file), '/Users/brianreed/opt/anaconda3/lib/python3.7/site-packages/tensorflow/python/../../_solib_darwin_x86_64/_U_S_Stensorflow_Spython_C_Upywrap_Utensorflow_Uinternal_Umacos___Utensorflow_Spython/_pywrap_tensorflow_internal.so' (no such file), '/Users/brianreed/opt/anaconda3/lib/python3.7/site-packages/tensorflow/python/_pywrap_tensorflow_internal.so' (no such file), '/Users/brianreed/opt/anaconda3/lib/python3.7/site-packages/tensorflow/python/../_pywrap_tensorflow_internal.so' (no such file), '/opt/concourse/worker/volumes/live/d698b2ce-b4b9-4fb4-6268-e633fba1b324/volume/python_1565725718142/_h_env_placehold_placehold_placehold_placehold_placehold_placehold_placehold_placehold_placehold_placehold_placehold_placehold_placehold_placehold_placehol/lib/_pywrap_tensorflow_internal.so' (no such file), '/opt/concourse/worker/volumes/live/d698b2ce-b4b9-4fb4-6268-e633fba1b324/volume/python_1565725718142/_h_env_placehold_placehold_placehold_placehold_placehold_placehold_placehold_placehold_placehold_placehold_placehold_placehold_placehold_placehold_placehol/lib/_pywrap_tensorflow_internal.so' (no such file), '/Users/brianreed/opt/anaconda3/bin/../lib/_pywrap_tensorflow_internal.so' (no such file), '/opt/concourse/worker/volumes/live/d698b2ce-b4b9-4fb4-6268-e633fba1b324/volume/python_1565725718142/_h_env_placehold_placehold_placehold_placehold_placehold_placehold_placehold_placehold_placehold_placehold_placehold_placehold_placehold_placehold_placehol/lib/_pywrap_tensorflow_internal.so' (no such file), '/opt/concourse/worker/volumes/live/d698b2ce-b4b9-4fb4-6268-e633fba1b324/volume/python_1565725718142/_h_env_placehold_placehold_placehold_placehold_placehold_placehold_placehold_placehold_placehold_placehold_placehold_placehold_placehold_placehold_placehol/lib/_pywrap_tensorflow_internal.so' (no such file), '/Users/brianreed/opt/anaconda3/bin/../lib/_pywrap_tensorflow_internal.so' (no such file), '/usr/local/lib/_pywrap_tensorflow_internal.so' (no such file), '/usr/lib/_pywrap_tensorflow_internal.so' (no such file)",
      "\nThe above exception was the direct cause of the following exception:\n",
      "\u001b[0;31mRuntimeError\u001b[0m                              Traceback (most recent call last)",
      "\u001b[0;32m~/opt/anaconda3/lib/python3.7/site-packages/transformers/file_utils.py\u001b[0m in \u001b[0;36m_get_module\u001b[0;34m(self, module_name)\u001b[0m\n\u001b[1;32m   2149\u001b[0m         \u001b[0;32mtry\u001b[0m\u001b[0;34m:\u001b[0m\u001b[0;34m\u001b[0m\u001b[0;34m\u001b[0m\u001b[0m\n\u001b[0;32m-> 2150\u001b[0;31m             \u001b[0;32mreturn\u001b[0m \u001b[0mimportlib\u001b[0m\u001b[0;34m.\u001b[0m\u001b[0mimport_module\u001b[0m\u001b[0;34m(\u001b[0m\u001b[0;34m\".\"\u001b[0m \u001b[0;34m+\u001b[0m \u001b[0mmodule_name\u001b[0m\u001b[0;34m,\u001b[0m \u001b[0mself\u001b[0m\u001b[0;34m.\u001b[0m\u001b[0m__name__\u001b[0m\u001b[0;34m)\u001b[0m\u001b[0;34m\u001b[0m\u001b[0;34m\u001b[0m\u001b[0m\n\u001b[0m\u001b[1;32m   2151\u001b[0m         \u001b[0;32mexcept\u001b[0m \u001b[0mException\u001b[0m \u001b[0;32mas\u001b[0m \u001b[0me\u001b[0m\u001b[0;34m:\u001b[0m\u001b[0;34m\u001b[0m\u001b[0;34m\u001b[0m\u001b[0m\n",
      "\u001b[0;32m~/opt/anaconda3/lib/python3.7/importlib/__init__.py\u001b[0m in \u001b[0;36mimport_module\u001b[0;34m(name, package)\u001b[0m\n\u001b[1;32m    126\u001b[0m             \u001b[0mlevel\u001b[0m \u001b[0;34m+=\u001b[0m \u001b[0;36m1\u001b[0m\u001b[0;34m\u001b[0m\u001b[0;34m\u001b[0m\u001b[0m\n\u001b[0;32m--> 127\u001b[0;31m     \u001b[0;32mreturn\u001b[0m \u001b[0m_bootstrap\u001b[0m\u001b[0;34m.\u001b[0m\u001b[0m_gcd_import\u001b[0m\u001b[0;34m(\u001b[0m\u001b[0mname\u001b[0m\u001b[0;34m[\u001b[0m\u001b[0mlevel\u001b[0m\u001b[0;34m:\u001b[0m\u001b[0;34m]\u001b[0m\u001b[0;34m,\u001b[0m \u001b[0mpackage\u001b[0m\u001b[0;34m,\u001b[0m \u001b[0mlevel\u001b[0m\u001b[0;34m)\u001b[0m\u001b[0;34m\u001b[0m\u001b[0;34m\u001b[0m\u001b[0m\n\u001b[0m\u001b[1;32m    128\u001b[0m \u001b[0;34m\u001b[0m\u001b[0m\n",
      "\u001b[0;32m~/opt/anaconda3/lib/python3.7/importlib/_bootstrap.py\u001b[0m in \u001b[0;36m_gcd_import\u001b[0;34m(name, package, level)\u001b[0m\n",
      "\u001b[0;32m~/opt/anaconda3/lib/python3.7/importlib/_bootstrap.py\u001b[0m in \u001b[0;36m_find_and_load\u001b[0;34m(name, import_)\u001b[0m\n",
      "\u001b[0;32m~/opt/anaconda3/lib/python3.7/importlib/_bootstrap.py\u001b[0m in \u001b[0;36m_find_and_load_unlocked\u001b[0;34m(name, import_)\u001b[0m\n",
      "\u001b[0;32m~/opt/anaconda3/lib/python3.7/importlib/_bootstrap.py\u001b[0m in \u001b[0;36m_call_with_frames_removed\u001b[0;34m(f, *args, **kwds)\u001b[0m\n",
      "\u001b[0;32m~/opt/anaconda3/lib/python3.7/importlib/_bootstrap.py\u001b[0m in \u001b[0;36m_gcd_import\u001b[0;34m(name, package, level)\u001b[0m\n",
      "\u001b[0;32m~/opt/anaconda3/lib/python3.7/importlib/_bootstrap.py\u001b[0m in \u001b[0;36m_find_and_load\u001b[0;34m(name, import_)\u001b[0m\n",
      "\u001b[0;32m~/opt/anaconda3/lib/python3.7/importlib/_bootstrap.py\u001b[0m in \u001b[0;36m_find_and_load_unlocked\u001b[0;34m(name, import_)\u001b[0m\n",
      "\u001b[0;32m~/opt/anaconda3/lib/python3.7/importlib/_bootstrap.py\u001b[0m in \u001b[0;36m_load_unlocked\u001b[0;34m(spec)\u001b[0m\n",
      "\u001b[0;32m~/opt/anaconda3/lib/python3.7/importlib/_bootstrap_external.py\u001b[0m in \u001b[0;36mexec_module\u001b[0;34m(self, module)\u001b[0m\n",
      "\u001b[0;32m~/opt/anaconda3/lib/python3.7/importlib/_bootstrap.py\u001b[0m in \u001b[0;36m_call_with_frames_removed\u001b[0;34m(f, *args, **kwds)\u001b[0m\n",
      "\u001b[0;32m~/opt/anaconda3/lib/python3.7/site-packages/transformers/models/__init__.py\u001b[0m in \u001b[0;36m<module>\u001b[0;34m\u001b[0m\n\u001b[1;32m     18\u001b[0m \u001b[0;34m\u001b[0m\u001b[0m\n\u001b[0;32m---> 19\u001b[0;31m from . import (\n\u001b[0m\u001b[1;32m     20\u001b[0m     \u001b[0malbert\u001b[0m\u001b[0;34m,\u001b[0m\u001b[0;34m\u001b[0m\u001b[0;34m\u001b[0m\u001b[0m\n",
      "\u001b[0;32m~/opt/anaconda3/lib/python3.7/site-packages/transformers/models/layoutlm/__init__.py\u001b[0m in \u001b[0;36m<module>\u001b[0;34m\u001b[0m\n\u001b[1;32m     21\u001b[0m \u001b[0;32mfrom\u001b[0m \u001b[0;34m...\u001b[0m\u001b[0mfile_utils\u001b[0m \u001b[0;32mimport\u001b[0m \u001b[0m_LazyModule\u001b[0m\u001b[0;34m,\u001b[0m \u001b[0mis_tf_available\u001b[0m\u001b[0;34m,\u001b[0m \u001b[0mis_tokenizers_available\u001b[0m\u001b[0;34m,\u001b[0m \u001b[0mis_torch_available\u001b[0m\u001b[0;34m\u001b[0m\u001b[0;34m\u001b[0m\u001b[0m\n\u001b[0;32m---> 22\u001b[0;31m \u001b[0;32mfrom\u001b[0m \u001b[0;34m.\u001b[0m\u001b[0mconfiguration_layoutlm\u001b[0m \u001b[0;32mimport\u001b[0m \u001b[0mLAYOUTLM_PRETRAINED_CONFIG_ARCHIVE_MAP\u001b[0m\u001b[0;34m,\u001b[0m \u001b[0mLayoutLMConfig\u001b[0m\u001b[0;34m\u001b[0m\u001b[0;34m\u001b[0m\u001b[0m\n\u001b[0m\u001b[1;32m     23\u001b[0m \u001b[0;32mfrom\u001b[0m \u001b[0;34m.\u001b[0m\u001b[0mtokenization_layoutlm\u001b[0m \u001b[0;32mimport\u001b[0m \u001b[0mLayoutLMTokenizer\u001b[0m\u001b[0;34m\u001b[0m\u001b[0;34m\u001b[0m\u001b[0m\n",
      "\u001b[0;32m~/opt/anaconda3/lib/python3.7/site-packages/transformers/models/layoutlm/configuration_layoutlm.py\u001b[0m in \u001b[0;36m<module>\u001b[0;34m\u001b[0m\n\u001b[1;32m     21\u001b[0m \u001b[0;32mfrom\u001b[0m \u001b[0;34m...\u001b[0m \u001b[0;32mimport\u001b[0m \u001b[0mis_torch_available\u001b[0m\u001b[0;34m\u001b[0m\u001b[0;34m\u001b[0m\u001b[0m\n\u001b[0;32m---> 22\u001b[0;31m \u001b[0;32mfrom\u001b[0m \u001b[0;34m...\u001b[0m\u001b[0monnx\u001b[0m \u001b[0;32mimport\u001b[0m \u001b[0mOnnxConfig\u001b[0m\u001b[0;34m,\u001b[0m \u001b[0mPatchingSpec\u001b[0m\u001b[0;34m\u001b[0m\u001b[0;34m\u001b[0m\u001b[0m\n\u001b[0m\u001b[1;32m     23\u001b[0m \u001b[0;32mfrom\u001b[0m \u001b[0;34m...\u001b[0m\u001b[0mutils\u001b[0m \u001b[0;32mimport\u001b[0m \u001b[0mlogging\u001b[0m\u001b[0;34m\u001b[0m\u001b[0;34m\u001b[0m\u001b[0m\n",
      "\u001b[0;32m~/opt/anaconda3/lib/python3.7/site-packages/transformers/onnx/__init__.py\u001b[0m in \u001b[0;36m<module>\u001b[0;34m\u001b[0m\n\u001b[1;32m     16\u001b[0m \u001b[0;32mfrom\u001b[0m \u001b[0;34m.\u001b[0m\u001b[0mconfig\u001b[0m \u001b[0;32mimport\u001b[0m \u001b[0mEXTERNAL_DATA_FORMAT_SIZE_LIMIT\u001b[0m\u001b[0;34m,\u001b[0m \u001b[0mOnnxConfig\u001b[0m\u001b[0;34m,\u001b[0m \u001b[0mOnnxConfigWithPast\u001b[0m\u001b[0;34m,\u001b[0m \u001b[0mPatchingSpec\u001b[0m\u001b[0;34m\u001b[0m\u001b[0;34m\u001b[0m\u001b[0m\n\u001b[0;32m---> 17\u001b[0;31m \u001b[0;32mfrom\u001b[0m \u001b[0;34m.\u001b[0m\u001b[0mconvert\u001b[0m \u001b[0;32mimport\u001b[0m \u001b[0mexport\u001b[0m\u001b[0;34m,\u001b[0m \u001b[0mvalidate_model_outputs\u001b[0m\u001b[0;34m\u001b[0m\u001b[0;34m\u001b[0m\u001b[0m\n\u001b[0m\u001b[1;32m     18\u001b[0m \u001b[0;32mfrom\u001b[0m \u001b[0;34m.\u001b[0m\u001b[0mutils\u001b[0m \u001b[0;32mimport\u001b[0m \u001b[0mParameterFormat\u001b[0m\u001b[0;34m,\u001b[0m \u001b[0mcompute_serialized_parameters_size\u001b[0m\u001b[0;34m\u001b[0m\u001b[0;34m\u001b[0m\u001b[0m\n",
      "\u001b[0;32m~/opt/anaconda3/lib/python3.7/site-packages/transformers/onnx/convert.py\u001b[0m in \u001b[0;36m<module>\u001b[0;34m\u001b[0m\n\u001b[1;32m     22\u001b[0m \u001b[0;34m\u001b[0m\u001b[0m\n\u001b[0;32m---> 23\u001b[0;31m \u001b[0;32mfrom\u001b[0m \u001b[0;34m.\u001b[0m\u001b[0;34m.\u001b[0m \u001b[0;32mimport\u001b[0m \u001b[0mPreTrainedModel\u001b[0m\u001b[0;34m,\u001b[0m \u001b[0mPreTrainedTokenizer\u001b[0m\u001b[0;34m,\u001b[0m \u001b[0mTensorType\u001b[0m\u001b[0;34m,\u001b[0m \u001b[0mTFPreTrainedModel\u001b[0m\u001b[0;34m,\u001b[0m \u001b[0mis_torch_available\u001b[0m\u001b[0;34m\u001b[0m\u001b[0;34m\u001b[0m\u001b[0m\n\u001b[0m\u001b[1;32m     24\u001b[0m \u001b[0;32mfrom\u001b[0m \u001b[0;34m.\u001b[0m\u001b[0;34m.\u001b[0m\u001b[0mfile_utils\u001b[0m \u001b[0;32mimport\u001b[0m \u001b[0mis_torch_onnx_dict_inputs_support_available\u001b[0m\u001b[0;34m\u001b[0m\u001b[0;34m\u001b[0m\u001b[0m\n",
      "\u001b[0;32m~/opt/anaconda3/lib/python3.7/importlib/_bootstrap.py\u001b[0m in \u001b[0;36m_handle_fromlist\u001b[0;34m(module, fromlist, import_, recursive)\u001b[0m\n",
      "\u001b[0;32m~/opt/anaconda3/lib/python3.7/site-packages/transformers/file_utils.py\u001b[0m in \u001b[0;36m__getattr__\u001b[0;34m(self, name)\u001b[0m\n\u001b[1;32m   2139\u001b[0m         \u001b[0;32melif\u001b[0m \u001b[0mname\u001b[0m \u001b[0;32min\u001b[0m \u001b[0mself\u001b[0m\u001b[0;34m.\u001b[0m\u001b[0m_class_to_module\u001b[0m\u001b[0;34m.\u001b[0m\u001b[0mkeys\u001b[0m\u001b[0;34m(\u001b[0m\u001b[0;34m)\u001b[0m\u001b[0;34m:\u001b[0m\u001b[0;34m\u001b[0m\u001b[0;34m\u001b[0m\u001b[0m\n\u001b[0;32m-> 2140\u001b[0;31m             \u001b[0mmodule\u001b[0m \u001b[0;34m=\u001b[0m \u001b[0mself\u001b[0m\u001b[0;34m.\u001b[0m\u001b[0m_get_module\u001b[0m\u001b[0;34m(\u001b[0m\u001b[0mself\u001b[0m\u001b[0;34m.\u001b[0m\u001b[0m_class_to_module\u001b[0m\u001b[0;34m[\u001b[0m\u001b[0mname\u001b[0m\u001b[0;34m]\u001b[0m\u001b[0;34m)\u001b[0m\u001b[0;34m\u001b[0m\u001b[0;34m\u001b[0m\u001b[0m\n\u001b[0m\u001b[1;32m   2141\u001b[0m             \u001b[0mvalue\u001b[0m \u001b[0;34m=\u001b[0m \u001b[0mgetattr\u001b[0m\u001b[0;34m(\u001b[0m\u001b[0mmodule\u001b[0m\u001b[0;34m,\u001b[0m \u001b[0mname\u001b[0m\u001b[0;34m)\u001b[0m\u001b[0;34m\u001b[0m\u001b[0;34m\u001b[0m\u001b[0m\n",
      "\u001b[0;32m~/opt/anaconda3/lib/python3.7/site-packages/transformers/file_utils.py\u001b[0m in \u001b[0;36m_get_module\u001b[0;34m(self, module_name)\u001b[0m\n\u001b[1;32m   2153\u001b[0m                 \u001b[0;34mf\"Failed to import {self.__name__}.{module_name} because of the following error (look up to see its traceback):\\n{e}\"\u001b[0m\u001b[0;34m\u001b[0m\u001b[0;34m\u001b[0m\u001b[0m\n\u001b[0;32m-> 2154\u001b[0;31m             ) from e\n\u001b[0m\u001b[1;32m   2155\u001b[0m \u001b[0;34m\u001b[0m\u001b[0m\n",
      "\u001b[0;31mRuntimeError\u001b[0m: Failed to import transformers.modeling_tf_utils because of the following error (look up to see its traceback):\ndlopen(/Users/brianreed/opt/anaconda3/lib/python3.7/site-packages/tensorflow/python/_pywrap_tfe.so, 0x0002): Library not loaded: @rpath/_pywrap_tensorflow_internal.so\n  Referenced from: /Users/brianreed/opt/anaconda3/lib/python3.7/site-packages/tensorflow/python/_pywrap_tfe.so\n  Reason: tried: '/Users/brianreed/opt/anaconda3/lib/python3.7/site-packages/tensorflow/python/../../_solib_darwin_x86_64/_U_S_Stensorflow_Spython_C_Upywrap_Utfe.so___Utensorflow/_pywrap_tensorflow_internal.so' (no such file), '/Users/brianreed/opt/anaconda3/lib/python3.7/site-packages/tensorflow/python/../../_solib_darwin_x86_64/_U_S_Stensorflow_Spython_C_Upywrap_Utensorflow_Uinternal_Umacos___Utensorflow_Spython/_pywrap_tensorflow_internal.so' (no such file), '/Users/brianreed/opt/anaconda3/lib/python3.7/site-packages/tensorflow/python/_pywrap_tensorflow_internal.so' (no such file), '/Users/brianreed/opt/anaconda3/lib/python3.7/site-packages/tensorflow/python/../_pywrap_tensorflow_internal.so' (no such file), '/Users/brianreed/opt/anaconda3/lib/python3.7/site-packages/tensorflow/python/../../_solib_darwin_x86_64/_U_S_Stensorflow_Spython_C_Upywrap_Utfe.so___Utensorflow/_pywrap_tensorflow_internal.so' (no such file), '/Users/brianreed/opt/anaconda3/lib/python3.7/site-packages/tensorflow/python/../../_solib_darwin_x86_64/_U_S_Stensorflow_Spython_C_Upywrap_Utensorflow_Uinternal_Umacos___Utensorflow_Spython/_pywrap_tensorflow_internal.so' (no such file), '/Users/brianreed/opt/anaconda3/lib/python3.7/site-packages/tensorflow/python/_pywrap_tensorflow_internal.so' (no such file), '/Users/brianreed/opt/anaconda3/lib/python3.7/site-packages/tensorflow/python/../_pywrap_tensorflow_internal.so' (no such file), '/opt/concourse/worker/volumes/live/d698b2ce-b4b9-4fb4-6268-e633fba1b324/volume/python_1565725718142/_h_env_placehold_placehold_placehold_placehold_placehold_placehold_placehold_placehold_placehold_placehold_placehold_placehold_placehold_placehold_placehol/lib/_pywrap_tensorflow_internal.so' (no such file), '/opt/concourse/worker/volumes/live/d698b2ce-b4b9-4fb4-6268-e633fba1b324/volume/python_1565725718142/_h_env_placehold_placehold_placehold_placehold_placehold_placehold_placehold_placehold_placehold_placehold_placehold_placehold_placehold_placehold_placehol/lib/_pywrap_tensorflow_internal.so' (no such file), '/Users/brianreed/opt/anaconda3/bin/../lib/_pywrap_tensorflow_internal.so' (no such file), '/opt/concourse/worker/volumes/live/d698b2ce-b4b9-4fb4-6268-e633fba1b324/volume/python_1565725718142/_h_env_placehold_placehold_placehold_placehold_placehold_placehold_placehold_placehold_placehold_placehold_placehold_placehold_placehold_placehold_placehol/lib/_pywrap_tensorflow_internal.so' (no such file), '/opt/concourse/worker/volumes/live/d698b2ce-b4b9-4fb4-6268-e633fba1b324/volume/python_1565725718142/_h_env_placehold_placehold_placehold_placehold_placehold_placehold_placehold_placehold_placehold_placehold_placehold_placehold_placehold_placehold_placehol/lib/_pywrap_tensorflow_internal.so' (no such file), '/Users/brianreed/opt/anaconda3/bin/../lib/_pywrap_tensorflow_internal.so' (no such file), '/usr/local/lib/_pywrap_tensorflow_internal.so' (no such file), '/usr/lib/_pywrap_tensorflow_internal.so' (no such file)",
      "\nThe above exception was the direct cause of the following exception:\n",
      "\u001b[0;31mRuntimeError\u001b[0m                              Traceback (most recent call last)",
      "\u001b[0;32m<ipython-input-2-05f3154d72bb>\u001b[0m in \u001b[0;36m<module>\u001b[0;34m\u001b[0m\n\u001b[1;32m     21\u001b[0m \u001b[0;32mimport\u001b[0m \u001b[0mgeopy\u001b[0m\u001b[0;34m.\u001b[0m\u001b[0mdistance\u001b[0m\u001b[0;34m\u001b[0m\u001b[0;34m\u001b[0m\u001b[0m\n\u001b[1;32m     22\u001b[0m \u001b[0;34m\u001b[0m\u001b[0m\n\u001b[0;32m---> 23\u001b[0;31m \u001b[0mnlp\u001b[0m \u001b[0;34m=\u001b[0m \u001b[0mspacy\u001b[0m\u001b[0;34m.\u001b[0m\u001b[0mload\u001b[0m\u001b[0;34m(\u001b[0m\u001b[0;34m'en_core_web_lg'\u001b[0m\u001b[0;34m)\u001b[0m\u001b[0;34m\u001b[0m\u001b[0;34m\u001b[0m\u001b[0m\n\u001b[0m\u001b[1;32m     24\u001b[0m \u001b[0;32mfrom\u001b[0m \u001b[0msklearn\u001b[0m\u001b[0;34m.\u001b[0m\u001b[0mmetrics\u001b[0m\u001b[0;34m.\u001b[0m\u001b[0mpairwise\u001b[0m \u001b[0;32mimport\u001b[0m \u001b[0mcosine_similarity\u001b[0m\u001b[0;34m\u001b[0m\u001b[0;34m\u001b[0m\u001b[0m\n\u001b[1;32m     25\u001b[0m \u001b[0;34m\u001b[0m\u001b[0m\n",
      "\u001b[0;32m~/opt/anaconda3/lib/python3.7/site-packages/spacy/__init__.py\u001b[0m in \u001b[0;36mload\u001b[0;34m(name, vocab, disable, exclude, config)\u001b[0m\n\u001b[1;32m     50\u001b[0m     \"\"\"\n\u001b[1;32m     51\u001b[0m     return util.load_model(\n\u001b[0;32m---> 52\u001b[0;31m         \u001b[0mname\u001b[0m\u001b[0;34m,\u001b[0m \u001b[0mvocab\u001b[0m\u001b[0;34m=\u001b[0m\u001b[0mvocab\u001b[0m\u001b[0;34m,\u001b[0m \u001b[0mdisable\u001b[0m\u001b[0;34m=\u001b[0m\u001b[0mdisable\u001b[0m\u001b[0;34m,\u001b[0m \u001b[0mexclude\u001b[0m\u001b[0;34m=\u001b[0m\u001b[0mexclude\u001b[0m\u001b[0;34m,\u001b[0m \u001b[0mconfig\u001b[0m\u001b[0;34m=\u001b[0m\u001b[0mconfig\u001b[0m\u001b[0;34m\u001b[0m\u001b[0;34m\u001b[0m\u001b[0m\n\u001b[0m\u001b[1;32m     53\u001b[0m     )\n\u001b[1;32m     54\u001b[0m \u001b[0;34m\u001b[0m\u001b[0m\n",
      "\u001b[0;32m~/opt/anaconda3/lib/python3.7/site-packages/spacy/util.py\u001b[0m in \u001b[0;36mload_model\u001b[0;34m(name, vocab, disable, exclude, config)\u001b[0m\n\u001b[1;32m    418\u001b[0m             \u001b[0;32mreturn\u001b[0m \u001b[0mget_lang_class\u001b[0m\u001b[0;34m(\u001b[0m\u001b[0mname\u001b[0m\u001b[0;34m.\u001b[0m\u001b[0mreplace\u001b[0m\u001b[0;34m(\u001b[0m\u001b[0;34m\"blank:\"\u001b[0m\u001b[0;34m,\u001b[0m \u001b[0;34m\"\"\u001b[0m\u001b[0;34m)\u001b[0m\u001b[0;34m)\u001b[0m\u001b[0;34m(\u001b[0m\u001b[0;34m)\u001b[0m\u001b[0;34m\u001b[0m\u001b[0;34m\u001b[0m\u001b[0m\n\u001b[1;32m    419\u001b[0m         \u001b[0;32mif\u001b[0m \u001b[0mis_package\u001b[0m\u001b[0;34m(\u001b[0m\u001b[0mname\u001b[0m\u001b[0;34m)\u001b[0m\u001b[0;34m:\u001b[0m  \u001b[0;31m# installed as package\u001b[0m\u001b[0;34m\u001b[0m\u001b[0;34m\u001b[0m\u001b[0m\n\u001b[0;32m--> 420\u001b[0;31m             \u001b[0;32mreturn\u001b[0m \u001b[0mload_model_from_package\u001b[0m\u001b[0;34m(\u001b[0m\u001b[0mname\u001b[0m\u001b[0;34m,\u001b[0m \u001b[0;34m**\u001b[0m\u001b[0mkwargs\u001b[0m\u001b[0;34m)\u001b[0m  \u001b[0;31m# type: ignore[arg-type]\u001b[0m\u001b[0;34m\u001b[0m\u001b[0;34m\u001b[0m\u001b[0m\n\u001b[0m\u001b[1;32m    421\u001b[0m         \u001b[0;32mif\u001b[0m \u001b[0mPath\u001b[0m\u001b[0;34m(\u001b[0m\u001b[0mname\u001b[0m\u001b[0;34m)\u001b[0m\u001b[0;34m.\u001b[0m\u001b[0mexists\u001b[0m\u001b[0;34m(\u001b[0m\u001b[0;34m)\u001b[0m\u001b[0;34m:\u001b[0m  \u001b[0;31m# path to model data directory\u001b[0m\u001b[0;34m\u001b[0m\u001b[0;34m\u001b[0m\u001b[0m\n\u001b[1;32m    422\u001b[0m             \u001b[0;32mreturn\u001b[0m \u001b[0mload_model_from_path\u001b[0m\u001b[0;34m(\u001b[0m\u001b[0mPath\u001b[0m\u001b[0;34m(\u001b[0m\u001b[0mname\u001b[0m\u001b[0;34m)\u001b[0m\u001b[0;34m,\u001b[0m \u001b[0;34m**\u001b[0m\u001b[0mkwargs\u001b[0m\u001b[0;34m)\u001b[0m  \u001b[0;31m# type: ignore[arg-type]\u001b[0m\u001b[0;34m\u001b[0m\u001b[0;34m\u001b[0m\u001b[0m\n",
      "\u001b[0;32m~/opt/anaconda3/lib/python3.7/site-packages/spacy/util.py\u001b[0m in \u001b[0;36mload_model_from_package\u001b[0;34m(name, vocab, disable, exclude, config)\u001b[0m\n\u001b[1;32m    451\u001b[0m     \"\"\"\n\u001b[1;32m    452\u001b[0m     \u001b[0mcls\u001b[0m \u001b[0;34m=\u001b[0m \u001b[0mimportlib\u001b[0m\u001b[0;34m.\u001b[0m\u001b[0mimport_module\u001b[0m\u001b[0;34m(\u001b[0m\u001b[0mname\u001b[0m\u001b[0;34m)\u001b[0m\u001b[0;34m\u001b[0m\u001b[0;34m\u001b[0m\u001b[0m\n\u001b[0;32m--> 453\u001b[0;31m     \u001b[0;32mreturn\u001b[0m \u001b[0mcls\u001b[0m\u001b[0;34m.\u001b[0m\u001b[0mload\u001b[0m\u001b[0;34m(\u001b[0m\u001b[0mvocab\u001b[0m\u001b[0;34m=\u001b[0m\u001b[0mvocab\u001b[0m\u001b[0;34m,\u001b[0m \u001b[0mdisable\u001b[0m\u001b[0;34m=\u001b[0m\u001b[0mdisable\u001b[0m\u001b[0;34m,\u001b[0m \u001b[0mexclude\u001b[0m\u001b[0;34m=\u001b[0m\u001b[0mexclude\u001b[0m\u001b[0;34m,\u001b[0m \u001b[0mconfig\u001b[0m\u001b[0;34m=\u001b[0m\u001b[0mconfig\u001b[0m\u001b[0;34m)\u001b[0m  \u001b[0;31m# type: ignore[attr-defined]\u001b[0m\u001b[0;34m\u001b[0m\u001b[0;34m\u001b[0m\u001b[0m\n\u001b[0m\u001b[1;32m    454\u001b[0m \u001b[0;34m\u001b[0m\u001b[0m\n\u001b[1;32m    455\u001b[0m \u001b[0;34m\u001b[0m\u001b[0m\n",
      "\u001b[0;32m~/opt/anaconda3/lib/python3.7/site-packages/en_core_web_lg/__init__.py\u001b[0m in \u001b[0;36mload\u001b[0;34m(**overrides)\u001b[0m\n\u001b[1;32m      8\u001b[0m \u001b[0;34m\u001b[0m\u001b[0m\n\u001b[1;32m      9\u001b[0m \u001b[0;32mdef\u001b[0m \u001b[0mload\u001b[0m\u001b[0;34m(\u001b[0m\u001b[0;34m**\u001b[0m\u001b[0moverrides\u001b[0m\u001b[0;34m)\u001b[0m\u001b[0;34m:\u001b[0m\u001b[0;34m\u001b[0m\u001b[0;34m\u001b[0m\u001b[0m\n\u001b[0;32m---> 10\u001b[0;31m     \u001b[0;32mreturn\u001b[0m \u001b[0mload_model_from_init_py\u001b[0m\u001b[0;34m(\u001b[0m\u001b[0m__file__\u001b[0m\u001b[0;34m,\u001b[0m \u001b[0;34m**\u001b[0m\u001b[0moverrides\u001b[0m\u001b[0;34m)\u001b[0m\u001b[0;34m\u001b[0m\u001b[0;34m\u001b[0m\u001b[0m\n\u001b[0m",
      "\u001b[0;32m~/opt/anaconda3/lib/python3.7/site-packages/spacy/util.py\u001b[0m in \u001b[0;36mload_model_from_init_py\u001b[0;34m(init_file, vocab, disable, exclude, config)\u001b[0m\n\u001b[1;32m    619\u001b[0m         \u001b[0mdisable\u001b[0m\u001b[0;34m=\u001b[0m\u001b[0mdisable\u001b[0m\u001b[0;34m,\u001b[0m\u001b[0;34m\u001b[0m\u001b[0;34m\u001b[0m\u001b[0m\n\u001b[1;32m    620\u001b[0m         \u001b[0mexclude\u001b[0m\u001b[0;34m=\u001b[0m\u001b[0mexclude\u001b[0m\u001b[0;34m,\u001b[0m\u001b[0;34m\u001b[0m\u001b[0;34m\u001b[0m\u001b[0m\n\u001b[0;32m--> 621\u001b[0;31m         \u001b[0mconfig\u001b[0m\u001b[0;34m=\u001b[0m\u001b[0mconfig\u001b[0m\u001b[0;34m,\u001b[0m\u001b[0;34m\u001b[0m\u001b[0;34m\u001b[0m\u001b[0m\n\u001b[0m\u001b[1;32m    622\u001b[0m     )\n\u001b[1;32m    623\u001b[0m \u001b[0;34m\u001b[0m\u001b[0m\n",
      "\u001b[0;32m~/opt/anaconda3/lib/python3.7/site-packages/spacy/util.py\u001b[0m in \u001b[0;36mload_model_from_path\u001b[0;34m(model_path, meta, vocab, disable, exclude, config)\u001b[0m\n\u001b[1;32m    486\u001b[0m     \u001b[0moverrides\u001b[0m \u001b[0;34m=\u001b[0m \u001b[0mdict_to_dot\u001b[0m\u001b[0;34m(\u001b[0m\u001b[0mconfig\u001b[0m\u001b[0;34m)\u001b[0m\u001b[0;34m\u001b[0m\u001b[0;34m\u001b[0m\u001b[0m\n\u001b[1;32m    487\u001b[0m     \u001b[0mconfig\u001b[0m \u001b[0;34m=\u001b[0m \u001b[0mload_config\u001b[0m\u001b[0;34m(\u001b[0m\u001b[0mconfig_path\u001b[0m\u001b[0;34m,\u001b[0m \u001b[0moverrides\u001b[0m\u001b[0;34m=\u001b[0m\u001b[0moverrides\u001b[0m\u001b[0;34m)\u001b[0m\u001b[0;34m\u001b[0m\u001b[0;34m\u001b[0m\u001b[0m\n\u001b[0;32m--> 488\u001b[0;31m     \u001b[0mnlp\u001b[0m \u001b[0;34m=\u001b[0m \u001b[0mload_model_from_config\u001b[0m\u001b[0;34m(\u001b[0m\u001b[0mconfig\u001b[0m\u001b[0;34m,\u001b[0m \u001b[0mvocab\u001b[0m\u001b[0;34m=\u001b[0m\u001b[0mvocab\u001b[0m\u001b[0;34m,\u001b[0m \u001b[0mdisable\u001b[0m\u001b[0;34m=\u001b[0m\u001b[0mdisable\u001b[0m\u001b[0;34m,\u001b[0m \u001b[0mexclude\u001b[0m\u001b[0;34m=\u001b[0m\u001b[0mexclude\u001b[0m\u001b[0;34m)\u001b[0m\u001b[0;34m\u001b[0m\u001b[0;34m\u001b[0m\u001b[0m\n\u001b[0m\u001b[1;32m    489\u001b[0m     \u001b[0;32mreturn\u001b[0m \u001b[0mnlp\u001b[0m\u001b[0;34m.\u001b[0m\u001b[0mfrom_disk\u001b[0m\u001b[0;34m(\u001b[0m\u001b[0mmodel_path\u001b[0m\u001b[0;34m,\u001b[0m \u001b[0mexclude\u001b[0m\u001b[0;34m=\u001b[0m\u001b[0mexclude\u001b[0m\u001b[0;34m,\u001b[0m \u001b[0moverrides\u001b[0m\u001b[0;34m=\u001b[0m\u001b[0moverrides\u001b[0m\u001b[0;34m)\u001b[0m\u001b[0;34m\u001b[0m\u001b[0;34m\u001b[0m\u001b[0m\n\u001b[1;32m    490\u001b[0m \u001b[0;34m\u001b[0m\u001b[0m\n",
      "\u001b[0;32m~/opt/anaconda3/lib/python3.7/site-packages/spacy/util.py\u001b[0m in \u001b[0;36mload_model_from_config\u001b[0;34m(config, vocab, disable, exclude, auto_fill, validate)\u001b[0m\n\u001b[1;32m    529\u001b[0m         \u001b[0mexclude\u001b[0m\u001b[0;34m=\u001b[0m\u001b[0mexclude\u001b[0m\u001b[0;34m,\u001b[0m\u001b[0;34m\u001b[0m\u001b[0;34m\u001b[0m\u001b[0m\n\u001b[1;32m    530\u001b[0m         \u001b[0mauto_fill\u001b[0m\u001b[0;34m=\u001b[0m\u001b[0mauto_fill\u001b[0m\u001b[0;34m,\u001b[0m\u001b[0;34m\u001b[0m\u001b[0;34m\u001b[0m\u001b[0m\n\u001b[0;32m--> 531\u001b[0;31m         \u001b[0mvalidate\u001b[0m\u001b[0;34m=\u001b[0m\u001b[0mvalidate\u001b[0m\u001b[0;34m,\u001b[0m\u001b[0;34m\u001b[0m\u001b[0;34m\u001b[0m\u001b[0m\n\u001b[0m\u001b[1;32m    532\u001b[0m     )\n\u001b[1;32m    533\u001b[0m     \u001b[0;32mreturn\u001b[0m \u001b[0mnlp\u001b[0m\u001b[0;34m\u001b[0m\u001b[0;34m\u001b[0m\u001b[0m\n",
      "\u001b[0;32m~/opt/anaconda3/lib/python3.7/site-packages/spacy/language.py\u001b[0m in \u001b[0;36mfrom_config\u001b[0;34m(cls, config, vocab, disable, exclude, meta, auto_fill, validate)\u001b[0m\n\u001b[1;32m   1747\u001b[0m         \u001b[0;31m# then we would load them twice at runtime: once when we make from config,\u001b[0m\u001b[0;34m\u001b[0m\u001b[0;34m\u001b[0m\u001b[0;34m\u001b[0m\u001b[0m\n\u001b[1;32m   1748\u001b[0m         \u001b[0;31m# and then again when we load from disk.\u001b[0m\u001b[0;34m\u001b[0m\u001b[0;34m\u001b[0m\u001b[0;34m\u001b[0m\u001b[0m\n\u001b[0;32m-> 1749\u001b[0;31m         \u001b[0mnlp\u001b[0m \u001b[0;34m=\u001b[0m \u001b[0mlang_cls\u001b[0m\u001b[0;34m(\u001b[0m\u001b[0mvocab\u001b[0m\u001b[0;34m=\u001b[0m\u001b[0mvocab\u001b[0m\u001b[0;34m,\u001b[0m \u001b[0mcreate_tokenizer\u001b[0m\u001b[0;34m=\u001b[0m\u001b[0mcreate_tokenizer\u001b[0m\u001b[0;34m,\u001b[0m \u001b[0mmeta\u001b[0m\u001b[0;34m=\u001b[0m\u001b[0mmeta\u001b[0m\u001b[0;34m)\u001b[0m\u001b[0;34m\u001b[0m\u001b[0;34m\u001b[0m\u001b[0m\n\u001b[0m\u001b[1;32m   1750\u001b[0m         \u001b[0;32mif\u001b[0m \u001b[0mafter_creation\u001b[0m \u001b[0;32mis\u001b[0m \u001b[0;32mnot\u001b[0m \u001b[0;32mNone\u001b[0m\u001b[0;34m:\u001b[0m\u001b[0;34m\u001b[0m\u001b[0;34m\u001b[0m\u001b[0m\n\u001b[1;32m   1751\u001b[0m             \u001b[0mnlp\u001b[0m \u001b[0;34m=\u001b[0m \u001b[0mafter_creation\u001b[0m\u001b[0;34m(\u001b[0m\u001b[0mnlp\u001b[0m\u001b[0;34m)\u001b[0m\u001b[0;34m\u001b[0m\u001b[0;34m\u001b[0m\u001b[0m\n",
      "\u001b[0;32m~/opt/anaconda3/lib/python3.7/site-packages/spacy/language.py\u001b[0m in \u001b[0;36m__init__\u001b[0;34m(self, vocab, max_length, meta, create_tokenizer, batch_size, **kwargs)\u001b[0m\n\u001b[1;32m    160\u001b[0m         \u001b[0;31m# points. The factory decorator applied to these functions takes care\u001b[0m\u001b[0;34m\u001b[0m\u001b[0;34m\u001b[0m\u001b[0;34m\u001b[0m\u001b[0m\n\u001b[1;32m    161\u001b[0m         \u001b[0;31m# of the rest.\u001b[0m\u001b[0;34m\u001b[0m\u001b[0;34m\u001b[0m\u001b[0;34m\u001b[0m\u001b[0m\n\u001b[0;32m--> 162\u001b[0;31m         \u001b[0mutil\u001b[0m\u001b[0;34m.\u001b[0m\u001b[0mregistry\u001b[0m\u001b[0;34m.\u001b[0m\u001b[0m_entry_point_factories\u001b[0m\u001b[0;34m.\u001b[0m\u001b[0mget_all\u001b[0m\u001b[0;34m(\u001b[0m\u001b[0;34m)\u001b[0m\u001b[0;34m\u001b[0m\u001b[0;34m\u001b[0m\u001b[0m\n\u001b[0m\u001b[1;32m    163\u001b[0m \u001b[0;34m\u001b[0m\u001b[0m\n\u001b[1;32m    164\u001b[0m         \u001b[0mself\u001b[0m\u001b[0;34m.\u001b[0m\u001b[0m_config\u001b[0m \u001b[0;34m=\u001b[0m \u001b[0mDEFAULT_CONFIG\u001b[0m\u001b[0;34m.\u001b[0m\u001b[0mmerge\u001b[0m\u001b[0;34m(\u001b[0m\u001b[0mself\u001b[0m\u001b[0;34m.\u001b[0m\u001b[0mdefault_config\u001b[0m\u001b[0;34m)\u001b[0m\u001b[0;34m\u001b[0m\u001b[0;34m\u001b[0m\u001b[0m\n",
      "\u001b[0;32m~/opt/anaconda3/lib/python3.7/site-packages/catalogue/__init__.py\u001b[0m in \u001b[0;36mget_all\u001b[0;34m(self)\u001b[0m\n\u001b[1;32m    107\u001b[0m         \u001b[0mresult\u001b[0m \u001b[0;34m=\u001b[0m \u001b[0;34m{\u001b[0m\u001b[0;34m}\u001b[0m\u001b[0;34m\u001b[0m\u001b[0;34m\u001b[0m\u001b[0m\n\u001b[1;32m    108\u001b[0m         \u001b[0;32mif\u001b[0m \u001b[0mself\u001b[0m\u001b[0;34m.\u001b[0m\u001b[0mentry_points\u001b[0m\u001b[0;34m:\u001b[0m\u001b[0;34m\u001b[0m\u001b[0;34m\u001b[0m\u001b[0m\n\u001b[0;32m--> 109\u001b[0;31m             \u001b[0mresult\u001b[0m\u001b[0;34m.\u001b[0m\u001b[0mupdate\u001b[0m\u001b[0;34m(\u001b[0m\u001b[0mself\u001b[0m\u001b[0;34m.\u001b[0m\u001b[0mget_entry_points\u001b[0m\u001b[0;34m(\u001b[0m\u001b[0;34m)\u001b[0m\u001b[0;34m)\u001b[0m\u001b[0;34m\u001b[0m\u001b[0;34m\u001b[0m\u001b[0m\n\u001b[0m\u001b[1;32m    110\u001b[0m         \u001b[0;32mfor\u001b[0m \u001b[0mkeys\u001b[0m\u001b[0;34m,\u001b[0m \u001b[0mvalue\u001b[0m \u001b[0;32min\u001b[0m \u001b[0mREGISTRY\u001b[0m\u001b[0;34m.\u001b[0m\u001b[0mitems\u001b[0m\u001b[0;34m(\u001b[0m\u001b[0;34m)\u001b[0m\u001b[0;34m:\u001b[0m\u001b[0;34m\u001b[0m\u001b[0;34m\u001b[0m\u001b[0m\n\u001b[1;32m    111\u001b[0m             if len(self.namespace) == len(keys) - 1 and all(\n",
      "\u001b[0;32m~/opt/anaconda3/lib/python3.7/site-packages/catalogue/__init__.py\u001b[0m in \u001b[0;36mget_entry_points\u001b[0;34m(self)\u001b[0m\n\u001b[1;32m    122\u001b[0m         \u001b[0mresult\u001b[0m \u001b[0;34m=\u001b[0m \u001b[0;34m{\u001b[0m\u001b[0;34m}\u001b[0m\u001b[0;34m\u001b[0m\u001b[0;34m\u001b[0m\u001b[0m\n\u001b[1;32m    123\u001b[0m         \u001b[0;32mfor\u001b[0m \u001b[0mentry_point\u001b[0m \u001b[0;32min\u001b[0m \u001b[0mAVAILABLE_ENTRY_POINTS\u001b[0m\u001b[0;34m.\u001b[0m\u001b[0mget\u001b[0m\u001b[0;34m(\u001b[0m\u001b[0mself\u001b[0m\u001b[0;34m.\u001b[0m\u001b[0mentry_point_namespace\u001b[0m\u001b[0;34m,\u001b[0m \u001b[0;34m[\u001b[0m\u001b[0;34m]\u001b[0m\u001b[0;34m)\u001b[0m\u001b[0;34m:\u001b[0m\u001b[0;34m\u001b[0m\u001b[0;34m\u001b[0m\u001b[0m\n\u001b[0;32m--> 124\u001b[0;31m             \u001b[0mresult\u001b[0m\u001b[0;34m[\u001b[0m\u001b[0mentry_point\u001b[0m\u001b[0;34m.\u001b[0m\u001b[0mname\u001b[0m\u001b[0;34m]\u001b[0m \u001b[0;34m=\u001b[0m \u001b[0mentry_point\u001b[0m\u001b[0;34m.\u001b[0m\u001b[0mload\u001b[0m\u001b[0;34m(\u001b[0m\u001b[0;34m)\u001b[0m\u001b[0;34m\u001b[0m\u001b[0;34m\u001b[0m\u001b[0m\n\u001b[0m\u001b[1;32m    125\u001b[0m         \u001b[0;32mreturn\u001b[0m \u001b[0mresult\u001b[0m\u001b[0;34m\u001b[0m\u001b[0;34m\u001b[0m\u001b[0m\n\u001b[1;32m    126\u001b[0m \u001b[0;34m\u001b[0m\u001b[0m\n",
      "\u001b[0;32m~/opt/anaconda3/lib/python3.7/site-packages/catalogue/_importlib_metadata/__init__.py\u001b[0m in \u001b[0;36mload\u001b[0;34m(self)\u001b[0m\n\u001b[1;32m     92\u001b[0m         \"\"\"\n\u001b[1;32m     93\u001b[0m         \u001b[0mmatch\u001b[0m \u001b[0;34m=\u001b[0m \u001b[0mself\u001b[0m\u001b[0;34m.\u001b[0m\u001b[0mpattern\u001b[0m\u001b[0;34m.\u001b[0m\u001b[0mmatch\u001b[0m\u001b[0;34m(\u001b[0m\u001b[0mself\u001b[0m\u001b[0;34m.\u001b[0m\u001b[0mvalue\u001b[0m\u001b[0;34m)\u001b[0m\u001b[0;34m\u001b[0m\u001b[0;34m\u001b[0m\u001b[0m\n\u001b[0;32m---> 94\u001b[0;31m         \u001b[0mmodule\u001b[0m \u001b[0;34m=\u001b[0m \u001b[0mimport_module\u001b[0m\u001b[0;34m(\u001b[0m\u001b[0mmatch\u001b[0m\u001b[0;34m.\u001b[0m\u001b[0mgroup\u001b[0m\u001b[0;34m(\u001b[0m\u001b[0;34m'module'\u001b[0m\u001b[0;34m)\u001b[0m\u001b[0;34m)\u001b[0m\u001b[0;34m\u001b[0m\u001b[0;34m\u001b[0m\u001b[0m\n\u001b[0m\u001b[1;32m     95\u001b[0m         \u001b[0mattrs\u001b[0m \u001b[0;34m=\u001b[0m \u001b[0mfilter\u001b[0m\u001b[0;34m(\u001b[0m\u001b[0;32mNone\u001b[0m\u001b[0;34m,\u001b[0m \u001b[0;34m(\u001b[0m\u001b[0mmatch\u001b[0m\u001b[0;34m.\u001b[0m\u001b[0mgroup\u001b[0m\u001b[0;34m(\u001b[0m\u001b[0;34m'attr'\u001b[0m\u001b[0;34m)\u001b[0m \u001b[0;32mor\u001b[0m \u001b[0;34m''\u001b[0m\u001b[0;34m)\u001b[0m\u001b[0;34m.\u001b[0m\u001b[0msplit\u001b[0m\u001b[0;34m(\u001b[0m\u001b[0;34m'.'\u001b[0m\u001b[0;34m)\u001b[0m\u001b[0;34m)\u001b[0m\u001b[0;34m\u001b[0m\u001b[0;34m\u001b[0m\u001b[0m\n\u001b[1;32m     96\u001b[0m         \u001b[0;32mreturn\u001b[0m \u001b[0mfunctools\u001b[0m\u001b[0;34m.\u001b[0m\u001b[0mreduce\u001b[0m\u001b[0;34m(\u001b[0m\u001b[0mgetattr\u001b[0m\u001b[0;34m,\u001b[0m \u001b[0mattrs\u001b[0m\u001b[0;34m,\u001b[0m \u001b[0mmodule\u001b[0m\u001b[0;34m)\u001b[0m\u001b[0;34m\u001b[0m\u001b[0;34m\u001b[0m\u001b[0m\n",
      "\u001b[0;32m~/opt/anaconda3/lib/python3.7/importlib/__init__.py\u001b[0m in \u001b[0;36mimport_module\u001b[0;34m(name, package)\u001b[0m\n\u001b[1;32m    125\u001b[0m                 \u001b[0;32mbreak\u001b[0m\u001b[0;34m\u001b[0m\u001b[0;34m\u001b[0m\u001b[0m\n\u001b[1;32m    126\u001b[0m             \u001b[0mlevel\u001b[0m \u001b[0;34m+=\u001b[0m \u001b[0;36m1\u001b[0m\u001b[0;34m\u001b[0m\u001b[0;34m\u001b[0m\u001b[0m\n\u001b[0;32m--> 127\u001b[0;31m     \u001b[0;32mreturn\u001b[0m \u001b[0m_bootstrap\u001b[0m\u001b[0;34m.\u001b[0m\u001b[0m_gcd_import\u001b[0m\u001b[0;34m(\u001b[0m\u001b[0mname\u001b[0m\u001b[0;34m[\u001b[0m\u001b[0mlevel\u001b[0m\u001b[0;34m:\u001b[0m\u001b[0;34m]\u001b[0m\u001b[0;34m,\u001b[0m \u001b[0mpackage\u001b[0m\u001b[0;34m,\u001b[0m \u001b[0mlevel\u001b[0m\u001b[0;34m)\u001b[0m\u001b[0;34m\u001b[0m\u001b[0;34m\u001b[0m\u001b[0m\n\u001b[0m\u001b[1;32m    128\u001b[0m \u001b[0;34m\u001b[0m\u001b[0m\n\u001b[1;32m    129\u001b[0m \u001b[0;34m\u001b[0m\u001b[0m\n",
      "\u001b[0;32m~/opt/anaconda3/lib/python3.7/importlib/_bootstrap.py\u001b[0m in \u001b[0;36m_gcd_import\u001b[0;34m(name, package, level)\u001b[0m\n",
      "\u001b[0;32m~/opt/anaconda3/lib/python3.7/importlib/_bootstrap.py\u001b[0m in \u001b[0;36m_find_and_load\u001b[0;34m(name, import_)\u001b[0m\n",
      "\u001b[0;32m~/opt/anaconda3/lib/python3.7/importlib/_bootstrap.py\u001b[0m in \u001b[0;36m_find_and_load_unlocked\u001b[0;34m(name, import_)\u001b[0m\n",
      "\u001b[0;32m~/opt/anaconda3/lib/python3.7/importlib/_bootstrap.py\u001b[0m in \u001b[0;36m_call_with_frames_removed\u001b[0;34m(f, *args, **kwds)\u001b[0m\n",
      "\u001b[0;32m~/opt/anaconda3/lib/python3.7/importlib/_bootstrap.py\u001b[0m in \u001b[0;36m_gcd_import\u001b[0;34m(name, package, level)\u001b[0m\n",
      "\u001b[0;32m~/opt/anaconda3/lib/python3.7/importlib/_bootstrap.py\u001b[0m in \u001b[0;36m_find_and_load\u001b[0;34m(name, import_)\u001b[0m\n",
      "\u001b[0;32m~/opt/anaconda3/lib/python3.7/importlib/_bootstrap.py\u001b[0m in \u001b[0;36m_find_and_load_unlocked\u001b[0;34m(name, import_)\u001b[0m\n",
      "\u001b[0;32m~/opt/anaconda3/lib/python3.7/importlib/_bootstrap.py\u001b[0m in \u001b[0;36m_load_unlocked\u001b[0;34m(spec)\u001b[0m\n",
      "\u001b[0;32m~/opt/anaconda3/lib/python3.7/importlib/_bootstrap_external.py\u001b[0m in \u001b[0;36mexec_module\u001b[0;34m(self, module)\u001b[0m\n",
      "\u001b[0;32m~/opt/anaconda3/lib/python3.7/importlib/_bootstrap.py\u001b[0m in \u001b[0;36m_call_with_frames_removed\u001b[0;34m(f, *args, **kwds)\u001b[0m\n",
      "\u001b[0;32m~/opt/anaconda3/lib/python3.7/site-packages/spacy_transformers/__init__.py\u001b[0m in \u001b[0;36m<module>\u001b[0;34m\u001b[0m\n\u001b[0;32m----> 1\u001b[0;31m \u001b[0;32mfrom\u001b[0m \u001b[0;34m.\u001b[0m \u001b[0;32mimport\u001b[0m \u001b[0marchitectures\u001b[0m\u001b[0;34m\u001b[0m\u001b[0;34m\u001b[0m\u001b[0m\n\u001b[0m\u001b[1;32m      2\u001b[0m \u001b[0;32mfrom\u001b[0m \u001b[0;34m.\u001b[0m \u001b[0;32mimport\u001b[0m \u001b[0mannotation_setters\u001b[0m\u001b[0;34m\u001b[0m\u001b[0;34m\u001b[0m\u001b[0m\n\u001b[1;32m      3\u001b[0m \u001b[0;32mfrom\u001b[0m \u001b[0;34m.\u001b[0m \u001b[0;32mimport\u001b[0m \u001b[0mspan_getters\u001b[0m\u001b[0;34m\u001b[0m\u001b[0;34m\u001b[0m\u001b[0m\n\u001b[1;32m      4\u001b[0m \u001b[0;32mfrom\u001b[0m \u001b[0;34m.\u001b[0m\u001b[0mlayers\u001b[0m \u001b[0;32mimport\u001b[0m \u001b[0mTransformerModel\u001b[0m\u001b[0;34m\u001b[0m\u001b[0;34m\u001b[0m\u001b[0m\n\u001b[1;32m      5\u001b[0m \u001b[0;32mfrom\u001b[0m \u001b[0;34m.\u001b[0m\u001b[0mpipeline_component\u001b[0m \u001b[0;32mimport\u001b[0m \u001b[0mTransformer\u001b[0m\u001b[0;34m,\u001b[0m \u001b[0minstall_extensions\u001b[0m\u001b[0;34m\u001b[0m\u001b[0;34m\u001b[0m\u001b[0m\n",
      "\u001b[0;32m~/opt/anaconda3/lib/python3.7/site-packages/spacy_transformers/architectures.py\u001b[0m in \u001b[0;36m<module>\u001b[0;34m\u001b[0m\n\u001b[1;32m      4\u001b[0m \u001b[0;32mfrom\u001b[0m \u001b[0mspacy\u001b[0m\u001b[0;34m.\u001b[0m\u001b[0mtokens\u001b[0m \u001b[0;32mimport\u001b[0m \u001b[0mDoc\u001b[0m\u001b[0;34m\u001b[0m\u001b[0;34m\u001b[0m\u001b[0m\n\u001b[1;32m      5\u001b[0m \u001b[0;34m\u001b[0m\u001b[0m\n\u001b[0;32m----> 6\u001b[0;31m \u001b[0;32mfrom\u001b[0m \u001b[0;34m.\u001b[0m\u001b[0mlayers\u001b[0m \u001b[0;32mimport\u001b[0m \u001b[0mTransformerModel\u001b[0m\u001b[0;34m,\u001b[0m \u001b[0mTransformerListener\u001b[0m\u001b[0;34m\u001b[0m\u001b[0;34m\u001b[0m\u001b[0m\n\u001b[0m\u001b[1;32m      7\u001b[0m \u001b[0;32mfrom\u001b[0m \u001b[0;34m.\u001b[0m\u001b[0mlayers\u001b[0m \u001b[0;32mimport\u001b[0m \u001b[0mtrfs2arrays\u001b[0m\u001b[0;34m,\u001b[0m \u001b[0msplit_trf_batch\u001b[0m\u001b[0;34m\u001b[0m\u001b[0;34m\u001b[0m\u001b[0m\n\u001b[1;32m      8\u001b[0m \u001b[0;32mfrom\u001b[0m \u001b[0;34m.\u001b[0m\u001b[0mutil\u001b[0m \u001b[0;32mimport\u001b[0m \u001b[0mregistry\u001b[0m\u001b[0;34m\u001b[0m\u001b[0;34m\u001b[0m\u001b[0m\n",
      "\u001b[0;32m~/opt/anaconda3/lib/python3.7/site-packages/spacy_transformers/layers/__init__.py\u001b[0m in \u001b[0;36m<module>\u001b[0;34m\u001b[0m\n\u001b[0;32m----> 1\u001b[0;31m \u001b[0;32mfrom\u001b[0m \u001b[0;34m.\u001b[0m\u001b[0mlistener\u001b[0m \u001b[0;32mimport\u001b[0m \u001b[0mTransformerListener\u001b[0m\u001b[0;34m\u001b[0m\u001b[0;34m\u001b[0m\u001b[0m\n\u001b[0m\u001b[1;32m      2\u001b[0m \u001b[0;32mfrom\u001b[0m \u001b[0;34m.\u001b[0m\u001b[0mtransformer_model\u001b[0m \u001b[0;32mimport\u001b[0m \u001b[0mTransformerModel\u001b[0m\u001b[0;34m\u001b[0m\u001b[0;34m\u001b[0m\u001b[0m\n\u001b[1;32m      3\u001b[0m \u001b[0;32mfrom\u001b[0m \u001b[0;34m.\u001b[0m\u001b[0msplit_trf\u001b[0m \u001b[0;32mimport\u001b[0m \u001b[0msplit_trf_batch\u001b[0m\u001b[0;34m\u001b[0m\u001b[0;34m\u001b[0m\u001b[0m\n\u001b[1;32m      4\u001b[0m \u001b[0;32mfrom\u001b[0m \u001b[0;34m.\u001b[0m\u001b[0mtrfs2arrays\u001b[0m \u001b[0;32mimport\u001b[0m \u001b[0mtrfs2arrays\u001b[0m\u001b[0;34m\u001b[0m\u001b[0;34m\u001b[0m\u001b[0m\n\u001b[1;32m      5\u001b[0m \u001b[0;34m\u001b[0m\u001b[0m\n",
      "\u001b[0;32m~/opt/anaconda3/lib/python3.7/site-packages/spacy_transformers/layers/listener.py\u001b[0m in \u001b[0;36m<module>\u001b[0;34m\u001b[0m\n\u001b[1;32m      2\u001b[0m \u001b[0;32mfrom\u001b[0m \u001b[0mthinc\u001b[0m\u001b[0;34m.\u001b[0m\u001b[0mapi\u001b[0m \u001b[0;32mimport\u001b[0m \u001b[0mModel\u001b[0m\u001b[0;34m\u001b[0m\u001b[0;34m\u001b[0m\u001b[0m\n\u001b[1;32m      3\u001b[0m \u001b[0;32mfrom\u001b[0m \u001b[0mspacy\u001b[0m\u001b[0;34m.\u001b[0m\u001b[0mtokens\u001b[0m \u001b[0;32mimport\u001b[0m \u001b[0mDoc\u001b[0m\u001b[0;34m\u001b[0m\u001b[0;34m\u001b[0m\u001b[0m\n\u001b[0;32m----> 4\u001b[0;31m \u001b[0;32mfrom\u001b[0m \u001b[0;34m.\u001b[0m\u001b[0;34m.\u001b[0m\u001b[0mdata_classes\u001b[0m \u001b[0;32mimport\u001b[0m \u001b[0mTransformerData\u001b[0m\u001b[0;34m\u001b[0m\u001b[0;34m\u001b[0m\u001b[0m\n\u001b[0m\u001b[1;32m      5\u001b[0m \u001b[0;34m\u001b[0m\u001b[0m\n\u001b[1;32m      6\u001b[0m \u001b[0;34m\u001b[0m\u001b[0m\n",
      "\u001b[0;32m~/opt/anaconda3/lib/python3.7/site-packages/spacy_transformers/data_classes.py\u001b[0m in \u001b[0;36m<module>\u001b[0;34m\u001b[0m\n\u001b[1;32m     10\u001b[0m \u001b[0;32mimport\u001b[0m \u001b[0msrsly\u001b[0m\u001b[0;34m\u001b[0m\u001b[0;34m\u001b[0m\u001b[0m\n\u001b[1;32m     11\u001b[0m \u001b[0;34m\u001b[0m\u001b[0m\n\u001b[0;32m---> 12\u001b[0;31m \u001b[0;32mfrom\u001b[0m \u001b[0;34m.\u001b[0m\u001b[0mutil\u001b[0m \u001b[0;32mimport\u001b[0m \u001b[0mtranspose_list\u001b[0m\u001b[0;34m\u001b[0m\u001b[0;34m\u001b[0m\u001b[0m\n\u001b[0m\u001b[1;32m     13\u001b[0m \u001b[0;32mfrom\u001b[0m \u001b[0;34m.\u001b[0m\u001b[0malign\u001b[0m \u001b[0;32mimport\u001b[0m \u001b[0mget_token_positions\u001b[0m\u001b[0;34m\u001b[0m\u001b[0;34m\u001b[0m\u001b[0m\n\u001b[1;32m     14\u001b[0m \u001b[0;34m\u001b[0m\u001b[0m\n",
      "\u001b[0;32m~/opt/anaconda3/lib/python3.7/site-packages/spacy_transformers/util.py\u001b[0m in \u001b[0;36m<module>\u001b[0;34m\u001b[0m\n\u001b[1;32m      2\u001b[0m \u001b[0;32mfrom\u001b[0m \u001b[0mpathlib\u001b[0m \u001b[0;32mimport\u001b[0m \u001b[0mPath\u001b[0m\u001b[0;34m\u001b[0m\u001b[0;34m\u001b[0m\u001b[0m\n\u001b[1;32m      3\u001b[0m \u001b[0;32mimport\u001b[0m \u001b[0mrandom\u001b[0m\u001b[0;34m\u001b[0m\u001b[0;34m\u001b[0m\u001b[0m\n\u001b[0;32m----> 4\u001b[0;31m \u001b[0;32mfrom\u001b[0m \u001b[0mtransformers\u001b[0m \u001b[0;32mimport\u001b[0m \u001b[0mAutoModel\u001b[0m\u001b[0;34m,\u001b[0m \u001b[0mAutoTokenizer\u001b[0m\u001b[0;34m\u001b[0m\u001b[0;34m\u001b[0m\u001b[0m\n\u001b[0m\u001b[1;32m      5\u001b[0m \u001b[0;32mfrom\u001b[0m \u001b[0mtransformers\u001b[0m\u001b[0;34m.\u001b[0m\u001b[0mtokenization_utils\u001b[0m \u001b[0;32mimport\u001b[0m \u001b[0mBatchEncoding\u001b[0m\u001b[0;34m\u001b[0m\u001b[0;34m\u001b[0m\u001b[0m\n\u001b[1;32m      6\u001b[0m \u001b[0;32mfrom\u001b[0m \u001b[0mtransformers\u001b[0m\u001b[0;34m.\u001b[0m\u001b[0mtokenization_utils_fast\u001b[0m \u001b[0;32mimport\u001b[0m \u001b[0mPreTrainedTokenizerFast\u001b[0m\u001b[0;34m\u001b[0m\u001b[0;34m\u001b[0m\u001b[0m\n",
      "\u001b[0;32m~/opt/anaconda3/lib/python3.7/importlib/_bootstrap.py\u001b[0m in \u001b[0;36m_handle_fromlist\u001b[0;34m(module, fromlist, import_, recursive)\u001b[0m\n",
      "\u001b[0;32m~/opt/anaconda3/lib/python3.7/site-packages/transformers/file_utils.py\u001b[0m in \u001b[0;36m__getattr__\u001b[0;34m(self, name)\u001b[0m\n\u001b[1;32m   2138\u001b[0m             \u001b[0mvalue\u001b[0m \u001b[0;34m=\u001b[0m \u001b[0mself\u001b[0m\u001b[0;34m.\u001b[0m\u001b[0m_get_module\u001b[0m\u001b[0;34m(\u001b[0m\u001b[0mname\u001b[0m\u001b[0;34m)\u001b[0m\u001b[0;34m\u001b[0m\u001b[0;34m\u001b[0m\u001b[0m\n\u001b[1;32m   2139\u001b[0m         \u001b[0;32melif\u001b[0m \u001b[0mname\u001b[0m \u001b[0;32min\u001b[0m \u001b[0mself\u001b[0m\u001b[0;34m.\u001b[0m\u001b[0m_class_to_module\u001b[0m\u001b[0;34m.\u001b[0m\u001b[0mkeys\u001b[0m\u001b[0;34m(\u001b[0m\u001b[0;34m)\u001b[0m\u001b[0;34m:\u001b[0m\u001b[0;34m\u001b[0m\u001b[0;34m\u001b[0m\u001b[0m\n\u001b[0;32m-> 2140\u001b[0;31m             \u001b[0mmodule\u001b[0m \u001b[0;34m=\u001b[0m \u001b[0mself\u001b[0m\u001b[0;34m.\u001b[0m\u001b[0m_get_module\u001b[0m\u001b[0;34m(\u001b[0m\u001b[0mself\u001b[0m\u001b[0;34m.\u001b[0m\u001b[0m_class_to_module\u001b[0m\u001b[0;34m[\u001b[0m\u001b[0mname\u001b[0m\u001b[0;34m]\u001b[0m\u001b[0;34m)\u001b[0m\u001b[0;34m\u001b[0m\u001b[0;34m\u001b[0m\u001b[0m\n\u001b[0m\u001b[1;32m   2141\u001b[0m             \u001b[0mvalue\u001b[0m \u001b[0;34m=\u001b[0m \u001b[0mgetattr\u001b[0m\u001b[0;34m(\u001b[0m\u001b[0mmodule\u001b[0m\u001b[0;34m,\u001b[0m \u001b[0mname\u001b[0m\u001b[0;34m)\u001b[0m\u001b[0;34m\u001b[0m\u001b[0;34m\u001b[0m\u001b[0m\n\u001b[1;32m   2142\u001b[0m         \u001b[0;32melse\u001b[0m\u001b[0;34m:\u001b[0m\u001b[0;34m\u001b[0m\u001b[0;34m\u001b[0m\u001b[0m\n",
      "\u001b[0;32m~/opt/anaconda3/lib/python3.7/site-packages/transformers/file_utils.py\u001b[0m in \u001b[0;36m_get_module\u001b[0;34m(self, module_name)\u001b[0m\n\u001b[1;32m   2152\u001b[0m             raise RuntimeError(\n\u001b[1;32m   2153\u001b[0m                 \u001b[0;34mf\"Failed to import {self.__name__}.{module_name} because of the following error (look up to see its traceback):\\n{e}\"\u001b[0m\u001b[0;34m\u001b[0m\u001b[0;34m\u001b[0m\u001b[0m\n\u001b[0;32m-> 2154\u001b[0;31m             ) from e\n\u001b[0m\u001b[1;32m   2155\u001b[0m \u001b[0;34m\u001b[0m\u001b[0m\n\u001b[1;32m   2156\u001b[0m     \u001b[0;32mdef\u001b[0m \u001b[0m__reduce__\u001b[0m\u001b[0;34m(\u001b[0m\u001b[0mself\u001b[0m\u001b[0;34m)\u001b[0m\u001b[0;34m:\u001b[0m\u001b[0;34m\u001b[0m\u001b[0;34m\u001b[0m\u001b[0m\n",
      "\u001b[0;31mRuntimeError\u001b[0m: Failed to import transformers.models.auto because of the following error (look up to see its traceback):\nFailed to import transformers.modeling_tf_utils because of the following error (look up to see its traceback):\ndlopen(/Users/brianreed/opt/anaconda3/lib/python3.7/site-packages/tensorflow/python/_pywrap_tfe.so, 0x0002): Library not loaded: @rpath/_pywrap_tensorflow_internal.so\n  Referenced from: /Users/brianreed/opt/anaconda3/lib/python3.7/site-packages/tensorflow/python/_pywrap_tfe.so\n  Reason: tried: '/Users/brianreed/opt/anaconda3/lib/python3.7/site-packages/tensorflow/python/../../_solib_darwin_x86_64/_U_S_Stensorflow_Spython_C_Upywrap_Utfe.so___Utensorflow/_pywrap_tensorflow_internal.so' (no such file), '/Users/brianreed/opt/anaconda3/lib/python3.7/site-packages/tensorflow/python/../../_solib_darwin_x86_64/_U_S_Stensorflow_Spython_C_Upywrap_Utensorflow_Uinternal_Umacos___Utensorflow_Spython/_pywrap_tensorflow_internal.so' (no such file), '/Users/brianreed/opt/anaconda3/lib/python3.7/site-packages/tensorflow/python/_pywrap_tensorflow_internal.so' (no such file), '/Users/brianreed/opt/anaconda3/lib/python3.7/site-packages/tensorflow/python/../_pywrap_tensorflow_internal.so' (no such file), '/Users/brianreed/opt/anaconda3/lib/python3.7/site-packages/tensorflow/python/../../_solib_darwin_x86_64/_U_S_Stensorflow_Spython_C_Upywrap_Utfe.so___Utensorflow/_pywrap_tensorflow_internal.so' (no such file), '/Users/brianreed/opt/anaconda3/lib/python3.7/site-packages/tensorflow/python/../../_solib_darwin_x86_64/_U_S_Stensorflow_Spython_C_Upywrap_Utensorflow_Uinternal_Umacos___Utensorflow_Spython/_pywrap_tensorflow_internal.so' (no such file), '/Users/brianreed/opt/anaconda3/lib/python3.7/site-packages/tensorflow/python/_pywrap_tensorflow_internal.so' (no such file), '/Users/brianreed/opt/anaconda3/lib/python3.7/site-packages/tensorflow/python/../_pywrap_tensorflow_internal.so' (no such file), '/opt/concourse/worker/volumes/live/d698b2ce-b4b9-4fb4-6268-e633fba1b324/volume/python_1565725718142/_h_env_placehold_placehold_placehold_placehold_placehold_placehold_placehold_placehold_placehold_placehold_placehold_placehold_placehold_placehold_placehol/lib/_pywrap_tensorflow_internal.so' (no such file), '/opt/concourse/worker/volumes/live/d698b2ce-b4b9-4fb4-6268-e633fba1b324/volume/python_1565725718142/_h_env_placehold_placehold_placehold_placehold_placehold_placehold_placehold_placehold_placehold_placehold_placehold_placehold_placehold_placehold_placehol/lib/_pywrap_tensorflow_internal.so' (no such file), '/Users/brianreed/opt/anaconda3/bin/../lib/_pywrap_tensorflow_internal.so' (no such file), '/opt/concourse/worker/volumes/live/d698b2ce-b4b9-4fb4-6268-e633fba1b324/volume/python_1565725718142/_h_env_placehold_placehold_placehold_placehold_placehold_placehold_placehold_placehold_placehold_placehold_placehold_placehold_placehold_placehold_placehol/lib/_pywrap_tensorflow_internal.so' (no such file), '/opt/concourse/worker/volumes/live/d698b2ce-b4b9-4fb4-6268-e633fba1b324/volume/python_1565725718142/_h_env_placehold_placehold_placehold_placehold_placehold_placehold_placehold_placehold_placehold_placehold_placehold_placehold_placehold_placehold_placehol/lib/_pywrap_tensorflow_internal.so' (no such file), '/Users/brianreed/opt/anaconda3/bin/../lib/_pywrap_tensorflow_internal.so' (no such file), '/usr/local/lib/_pywrap_tensorflow_internal.so' (no such file), '/usr/lib/_pywrap_tensorflow_internal.so' (no such file)"
     ]
    }
   ],
   "source": [
    "import pickle as pkl\n",
    "import pandas as pd\n",
    "import matplotlib\n",
    "import os\n",
    "import re\n",
    "\n",
    "import collections\n",
    "import datetime\n",
    "import time\n",
    "\n",
    "import geopandas as gpd\n",
    "\n",
    "import numpy as np\n",
    "\n",
    "import rasterio\n",
    "\n",
    "import spacy\n",
    "\n",
    "import gc\n",
    "\n",
    "import geopy.distance\n",
    "\n",
    "nlp = spacy.load('en_core_web_lg')\n",
    "from sklearn.metrics.pairwise import cosine_similarity\n",
    "\n",
    "import itertools\n",
    "\n",
    "import pgeocode\n",
    "\n",
    "from dateutil.relativedelta import relativedelta"
   ]
  },
  {
   "cell_type": "markdown",
   "metadata": {},
   "source": [
    "# Indirect\n",
    "Introduce the SC Data, focusing on transactions between US companies."
   ]
  },
  {
   "cell_type": "code",
   "execution_count": 350,
   "metadata": {},
   "outputs": [
    {
     "data": {
      "text/html": [
       "<div>\n",
       "<style scoped>\n",
       "    .dataframe tbody tr th:only-of-type {\n",
       "        vertical-align: middle;\n",
       "    }\n",
       "\n",
       "    .dataframe tbody tr th {\n",
       "        vertical-align: top;\n",
       "    }\n",
       "\n",
       "    .dataframe thead th {\n",
       "        text-align: right;\n",
       "    }\n",
       "</style>\n",
       "<table border=\"1\" class=\"dataframe\">\n",
       "  <thead>\n",
       "    <tr style=\"text-align: right;\">\n",
       "      <th></th>\n",
       "      <th>year</th>\n",
       "      <th>supplier_gvkey</th>\n",
       "      <th>customer_gvkey</th>\n",
       "      <th>salecs</th>\n",
       "    </tr>\n",
       "  </thead>\n",
       "  <tbody>\n",
       "    <tr>\n",
       "      <th>0</th>\n",
       "      <td>2002-01-01</td>\n",
       "      <td>1013</td>\n",
       "      <td>2136</td>\n",
       "      <td>111.056</td>\n",
       "    </tr>\n",
       "    <tr>\n",
       "      <th>1</th>\n",
       "      <td>2004-01-01</td>\n",
       "      <td>1013</td>\n",
       "      <td>2136</td>\n",
       "      <td>104.312</td>\n",
       "    </tr>\n",
       "    <tr>\n",
       "      <th>2</th>\n",
       "      <td>2005-01-01</td>\n",
       "      <td>1013</td>\n",
       "      <td>2136</td>\n",
       "      <td>146.000</td>\n",
       "    </tr>\n",
       "    <tr>\n",
       "      <th>3</th>\n",
       "      <td>2006-01-01</td>\n",
       "      <td>1013</td>\n",
       "      <td>2136</td>\n",
       "      <td>205.000</td>\n",
       "    </tr>\n",
       "    <tr>\n",
       "      <th>4</th>\n",
       "      <td>2007-01-01</td>\n",
       "      <td>1013</td>\n",
       "      <td>2136</td>\n",
       "      <td>236.000</td>\n",
       "    </tr>\n",
       "  </tbody>\n",
       "</table>\n",
       "</div>"
      ],
      "text/plain": [
       "        year  supplier_gvkey  customer_gvkey   salecs\n",
       "0 2002-01-01            1013            2136  111.056\n",
       "1 2004-01-01            1013            2136  104.312\n",
       "2 2005-01-01            1013            2136  146.000\n",
       "3 2006-01-01            1013            2136  205.000\n",
       "4 2007-01-01            1013            2136  236.000"
      ]
     },
     "execution_count": 350,
     "metadata": {},
     "output_type": "execute_result"
    }
   ],
   "source": [
    "c_links = pd.read_csv(\"../../data/companyData/c_linksUS.csv\") # pd.read_csv(\"../../data/companyData/compustatSCLinked.csv\")\n",
    "\n",
    "c_links['year'] = c_links.srcdate.astype('str').str.slice(0,4).astype('int64')\n",
    "\n",
    "c_links = c_links[c_links.year > 1999][['year','gvkey','cgvkey','salecs']].\\\n",
    "    rename(columns = {'cgvkey': 'customer_gvkey','gvkey': 'supplier_gvkey'})\n",
    "\n",
    "c_links['year'] = pd.to_datetime(c_links.year, format = '%Y')\n",
    "\n",
    "\n",
    "c_links.head()"
   ]
  },
  {
   "cell_type": "code",
   "execution_count": 351,
   "metadata": {},
   "outputs": [
    {
     "data": {
      "text/plain": [
       "11228"
      ]
     },
     "execution_count": 351,
     "metadata": {},
     "output_type": "execute_result"
    }
   ],
   "source": [
    "sum(c_links.salecs.isna())"
   ]
  },
  {
   "cell_type": "code",
   "execution_count": 352,
   "metadata": {},
   "outputs": [
    {
     "name": "stdout",
     "output_type": "stream",
     "text": [
      "(11827, 2)\n"
     ]
    },
    {
     "data": {
      "text/html": [
       "<div>\n",
       "<style scoped>\n",
       "    .dataframe tbody tr th:only-of-type {\n",
       "        vertical-align: middle;\n",
       "    }\n",
       "\n",
       "    .dataframe tbody tr th {\n",
       "        vertical-align: top;\n",
       "    }\n",
       "\n",
       "    .dataframe thead th {\n",
       "        text-align: right;\n",
       "    }\n",
       "</style>\n",
       "<table border=\"1\" class=\"dataframe\">\n",
       "  <thead>\n",
       "    <tr style=\"text-align: right;\">\n",
       "      <th></th>\n",
       "      <th>supplier_gvkey</th>\n",
       "      <th>customer_gvkey</th>\n",
       "    </tr>\n",
       "  </thead>\n",
       "  <tbody>\n",
       "    <tr>\n",
       "      <th>0</th>\n",
       "      <td>1013</td>\n",
       "      <td>2136</td>\n",
       "    </tr>\n",
       "    <tr>\n",
       "      <th>1</th>\n",
       "      <td>1013</td>\n",
       "      <td>9899</td>\n",
       "    </tr>\n",
       "    <tr>\n",
       "      <th>2</th>\n",
       "      <td>1021</td>\n",
       "      <td>61494</td>\n",
       "    </tr>\n",
       "    <tr>\n",
       "      <th>3</th>\n",
       "      <td>1021</td>\n",
       "      <td>25880</td>\n",
       "    </tr>\n",
       "    <tr>\n",
       "      <th>4</th>\n",
       "      <td>1048</td>\n",
       "      <td>11552</td>\n",
       "    </tr>\n",
       "  </tbody>\n",
       "</table>\n",
       "</div>"
      ],
      "text/plain": [
       "   supplier_gvkey  customer_gvkey\n",
       "0            1013            2136\n",
       "1            1013            9899\n",
       "2            1021           61494\n",
       "3            1021           25880\n",
       "4            1048           11552"
      ]
     },
     "execution_count": 352,
     "metadata": {},
     "output_type": "execute_result"
    }
   ],
   "source": [
    "supplierCombos = c_links[['supplier_gvkey', 'customer_gvkey']].drop_duplicates().reset_index(drop = True)\n",
    "\n",
    "print(supplierCombos.shape)\n",
    "\n",
    "supplierCombos.head()"
   ]
  },
  {
   "cell_type": "markdown",
   "metadata": {},
   "source": [
    "We'll follow Barrot Sauvagnat in assuming that a supplier relationship holds for every year between the first and last year in which a customer is reported. This is going to take a little bit of work. We'll try it like this: \n",
    "- subset dataframe to a specific supplier-customer pair\n",
    "- fill in data for every year that's missing\n",
    "\n",
    "Then, apply this row-wise to all rows of the unique supplierCombos df above using: https://stackoverflow.com/questions/61942138/apply-function-row-wise-to-pandas-dataframe"
   ]
  },
  {
   "cell_type": "code",
   "execution_count": 353,
   "metadata": {},
   "outputs": [],
   "source": [
    "def fillYear(supplier, customer, scData = c_links):\n",
    "    c_linksTemp = scData[(scData.supplier_gvkey == supplier) & \\\n",
    "                      (scData.customer_gvkey == customer)].reset_index(drop = True)\n",
    "    \n",
    "    # if there are na values and non-na values for the same supplier-cust combination, then \n",
    "    # select for only the non-na values, by (1) replacing na with negative, (2) 1\n",
    "    c_linksTemp['salecs'] = c_linksTemp['salecs'].fillna(-5)\n",
    "    c_linksTemp = c_linksTemp.loc[c_linksTemp.reset_index().groupby(['year','supplier_gvkey',\n",
    "                                                                     'customer_gvkey'])['salecs'].idxmax()]\n",
    "    \n",
    "    \n",
    "    # now: find the start and end of the data series\n",
    "    first = c_linksTemp.year.min() - relativedelta(years = 3)\n",
    "    last  = c_linksTemp.year.max() + relativedelta(years = 3)\n",
    "    \n",
    "    \n",
    "    c_linksTemp['firstYear'] = c_linksTemp.year.min()\n",
    "    c_linksTemp['lastYear']  = c_linksTemp.year.max()\n",
    "    \n",
    "    \n",
    "    c_linksTemp = c_linksTemp.set_index('year') \n",
    "    \n",
    "    \n",
    "    c_linksTemp = c_linksTemp.reindex(pd.date_range(first, last, freq = 'YS')).\\\n",
    "        reset_index().rename(columns = {'index': 'year'})\n",
    "    \n",
    "    \n",
    "    # and impute all values within the series\n",
    "    c_linksTemp = c_linksTemp.groupby(c_linksTemp.year.dt.time).ffill().bfill()\n",
    "    \n",
    "    \n",
    "    return(c_linksTemp)"
   ]
  },
  {
   "cell_type": "markdown",
   "metadata": {},
   "source": [
    "Show that this works for one of the supplier rows."
   ]
  },
  {
   "cell_type": "code",
   "execution_count": 354,
   "metadata": {},
   "outputs": [
    {
     "data": {
      "text/html": [
       "<div>\n",
       "<style scoped>\n",
       "    .dataframe tbody tr th:only-of-type {\n",
       "        vertical-align: middle;\n",
       "    }\n",
       "\n",
       "    .dataframe tbody tr th {\n",
       "        vertical-align: top;\n",
       "    }\n",
       "\n",
       "    .dataframe thead th {\n",
       "        text-align: right;\n",
       "    }\n",
       "</style>\n",
       "<table border=\"1\" class=\"dataframe\">\n",
       "  <thead>\n",
       "    <tr style=\"text-align: right;\">\n",
       "      <th></th>\n",
       "      <th>year</th>\n",
       "      <th>supplier_gvkey</th>\n",
       "      <th>customer_gvkey</th>\n",
       "      <th>salecs</th>\n",
       "      <th>firstYear</th>\n",
       "      <th>lastYear</th>\n",
       "    </tr>\n",
       "  </thead>\n",
       "  <tbody>\n",
       "    <tr>\n",
       "      <th>0</th>\n",
       "      <td>1999-01-01</td>\n",
       "      <td>1013.0</td>\n",
       "      <td>2136.0</td>\n",
       "      <td>111.056</td>\n",
       "      <td>2002-01-01</td>\n",
       "      <td>2010-01-01</td>\n",
       "    </tr>\n",
       "    <tr>\n",
       "      <th>1</th>\n",
       "      <td>2000-01-01</td>\n",
       "      <td>1013.0</td>\n",
       "      <td>2136.0</td>\n",
       "      <td>111.056</td>\n",
       "      <td>2002-01-01</td>\n",
       "      <td>2010-01-01</td>\n",
       "    </tr>\n",
       "    <tr>\n",
       "      <th>2</th>\n",
       "      <td>2001-01-01</td>\n",
       "      <td>1013.0</td>\n",
       "      <td>2136.0</td>\n",
       "      <td>111.056</td>\n",
       "      <td>2002-01-01</td>\n",
       "      <td>2010-01-01</td>\n",
       "    </tr>\n",
       "    <tr>\n",
       "      <th>3</th>\n",
       "      <td>2002-01-01</td>\n",
       "      <td>1013.0</td>\n",
       "      <td>2136.0</td>\n",
       "      <td>111.056</td>\n",
       "      <td>2002-01-01</td>\n",
       "      <td>2010-01-01</td>\n",
       "    </tr>\n",
       "    <tr>\n",
       "      <th>4</th>\n",
       "      <td>2003-01-01</td>\n",
       "      <td>1013.0</td>\n",
       "      <td>2136.0</td>\n",
       "      <td>111.056</td>\n",
       "      <td>2002-01-01</td>\n",
       "      <td>2010-01-01</td>\n",
       "    </tr>\n",
       "    <tr>\n",
       "      <th>5</th>\n",
       "      <td>2004-01-01</td>\n",
       "      <td>1013.0</td>\n",
       "      <td>2136.0</td>\n",
       "      <td>104.312</td>\n",
       "      <td>2002-01-01</td>\n",
       "      <td>2010-01-01</td>\n",
       "    </tr>\n",
       "    <tr>\n",
       "      <th>6</th>\n",
       "      <td>2005-01-01</td>\n",
       "      <td>1013.0</td>\n",
       "      <td>2136.0</td>\n",
       "      <td>146.000</td>\n",
       "      <td>2002-01-01</td>\n",
       "      <td>2010-01-01</td>\n",
       "    </tr>\n",
       "    <tr>\n",
       "      <th>7</th>\n",
       "      <td>2006-01-01</td>\n",
       "      <td>1013.0</td>\n",
       "      <td>2136.0</td>\n",
       "      <td>205.000</td>\n",
       "      <td>2002-01-01</td>\n",
       "      <td>2010-01-01</td>\n",
       "    </tr>\n",
       "    <tr>\n",
       "      <th>8</th>\n",
       "      <td>2007-01-01</td>\n",
       "      <td>1013.0</td>\n",
       "      <td>2136.0</td>\n",
       "      <td>236.000</td>\n",
       "      <td>2002-01-01</td>\n",
       "      <td>2010-01-01</td>\n",
       "    </tr>\n",
       "    <tr>\n",
       "      <th>9</th>\n",
       "      <td>2008-01-01</td>\n",
       "      <td>1013.0</td>\n",
       "      <td>2136.0</td>\n",
       "      <td>240.000</td>\n",
       "      <td>2002-01-01</td>\n",
       "      <td>2010-01-01</td>\n",
       "    </tr>\n",
       "    <tr>\n",
       "      <th>10</th>\n",
       "      <td>2009-01-01</td>\n",
       "      <td>1013.0</td>\n",
       "      <td>2136.0</td>\n",
       "      <td>176.000</td>\n",
       "      <td>2002-01-01</td>\n",
       "      <td>2010-01-01</td>\n",
       "    </tr>\n",
       "    <tr>\n",
       "      <th>11</th>\n",
       "      <td>2010-01-01</td>\n",
       "      <td>1013.0</td>\n",
       "      <td>2136.0</td>\n",
       "      <td>146.000</td>\n",
       "      <td>2002-01-01</td>\n",
       "      <td>2010-01-01</td>\n",
       "    </tr>\n",
       "    <tr>\n",
       "      <th>12</th>\n",
       "      <td>2011-01-01</td>\n",
       "      <td>1013.0</td>\n",
       "      <td>2136.0</td>\n",
       "      <td>146.000</td>\n",
       "      <td>2002-01-01</td>\n",
       "      <td>2010-01-01</td>\n",
       "    </tr>\n",
       "    <tr>\n",
       "      <th>13</th>\n",
       "      <td>2012-01-01</td>\n",
       "      <td>1013.0</td>\n",
       "      <td>2136.0</td>\n",
       "      <td>146.000</td>\n",
       "      <td>2002-01-01</td>\n",
       "      <td>2010-01-01</td>\n",
       "    </tr>\n",
       "    <tr>\n",
       "      <th>14</th>\n",
       "      <td>2013-01-01</td>\n",
       "      <td>1013.0</td>\n",
       "      <td>2136.0</td>\n",
       "      <td>146.000</td>\n",
       "      <td>2002-01-01</td>\n",
       "      <td>2010-01-01</td>\n",
       "    </tr>\n",
       "  </tbody>\n",
       "</table>\n",
       "</div>"
      ],
      "text/plain": [
       "         year  supplier_gvkey  customer_gvkey   salecs  firstYear   lastYear\n",
       "0  1999-01-01          1013.0          2136.0  111.056 2002-01-01 2010-01-01\n",
       "1  2000-01-01          1013.0          2136.0  111.056 2002-01-01 2010-01-01\n",
       "2  2001-01-01          1013.0          2136.0  111.056 2002-01-01 2010-01-01\n",
       "3  2002-01-01          1013.0          2136.0  111.056 2002-01-01 2010-01-01\n",
       "4  2003-01-01          1013.0          2136.0  111.056 2002-01-01 2010-01-01\n",
       "5  2004-01-01          1013.0          2136.0  104.312 2002-01-01 2010-01-01\n",
       "6  2005-01-01          1013.0          2136.0  146.000 2002-01-01 2010-01-01\n",
       "7  2006-01-01          1013.0          2136.0  205.000 2002-01-01 2010-01-01\n",
       "8  2007-01-01          1013.0          2136.0  236.000 2002-01-01 2010-01-01\n",
       "9  2008-01-01          1013.0          2136.0  240.000 2002-01-01 2010-01-01\n",
       "10 2009-01-01          1013.0          2136.0  176.000 2002-01-01 2010-01-01\n",
       "11 2010-01-01          1013.0          2136.0  146.000 2002-01-01 2010-01-01\n",
       "12 2011-01-01          1013.0          2136.0  146.000 2002-01-01 2010-01-01\n",
       "13 2012-01-01          1013.0          2136.0  146.000 2002-01-01 2010-01-01\n",
       "14 2013-01-01          1013.0          2136.0  146.000 2002-01-01 2010-01-01"
      ]
     },
     "execution_count": 354,
     "metadata": {},
     "output_type": "execute_result"
    }
   ],
   "source": [
    "fillYear(supplierCombos.supplier_gvkey[0], supplierCombos.customer_gvkey[0])"
   ]
  },
  {
   "cell_type": "markdown",
   "metadata": {},
   "source": [
    "Now do it for all rows."
   ]
  },
  {
   "cell_type": "code",
   "execution_count": 355,
   "metadata": {},
   "outputs": [
    {
     "name": "stdout",
     "output_type": "stream",
     "text": [
      "(47427, 4)\n",
      "(120797, 6)\n",
      "65.35241484642029\n"
     ]
    }
   ],
   "source": [
    "start = time.time()\n",
    "print(c_links.shape)\n",
    "c_linksImpd_list = supplierCombos.apply(lambda row: fillYear(row['supplier_gvkey'], row['customer_gvkey']), axis = 1)\n",
    "c_linksImpd_df   = pd.concat(list(c_linksImpd_list))\n",
    "print(c_linksImpd_df.shape)\n",
    "print(time.time() - start)\n",
    "\n",
    "c_linksImpd_df['year'] = c_linksImpd_df.year.dt.year"
   ]
  },
  {
   "cell_type": "markdown",
   "metadata": {},
   "source": [
    "We had converted some of the na sales values to -5 so that we could deal with duplicated values, by choosing the larger of said values. Switch back to nan so that we are not thrown off when we look for biggest supplier."
   ]
  },
  {
   "cell_type": "code",
   "execution_count": 356,
   "metadata": {},
   "outputs": [],
   "source": [
    "c_linksImpd_df.loc[c_linksImpd_df.salecs == -5, 'salecs'] = float('nan')"
   ]
  },
  {
   "cell_type": "markdown",
   "metadata": {},
   "source": [
    "Partially subset to focus on suppliers in our data."
   ]
  },
  {
   "cell_type": "code",
   "execution_count": 404,
   "metadata": {},
   "outputs": [
    {
     "data": {
      "text/plain": [
       "(47251, 2)"
      ]
     },
     "execution_count": 404,
     "metadata": {},
     "output_type": "execute_result"
    }
   ],
   "source": [
    "suppliersOnly = c_linksImpd_df[['year', 'supplier_gvkey']].drop_duplicates()\n",
    "\n",
    "suppliersOnly.to_csv(\"../../data/companyData/suppliers.csv\")\n",
    "\n",
    "suppliersOnly.shape"
   ]
  },
  {
   "cell_type": "code",
   "execution_count": 402,
   "metadata": {},
   "outputs": [
    {
     "data": {
      "text/plain": [
       "(29148, 2)"
      ]
     },
     "execution_count": 402,
     "metadata": {},
     "output_type": "execute_result"
    }
   ],
   "source": [
    "customersOnly = c_linksImpd_df[['year', 'customer_gvkey']].drop_duplicates()\n",
    "customersOnly.shape"
   ]
  },
  {
   "cell_type": "code",
   "execution_count": null,
   "metadata": {},
   "outputs": [],
   "source": []
  },
  {
   "cell_type": "code",
   "execution_count": null,
   "metadata": {},
   "outputs": [],
   "source": []
  },
  {
   "cell_type": "code",
   "execution_count": 357,
   "metadata": {},
   "outputs": [
    {
     "name": "stdout",
     "output_type": "stream",
     "text": [
      "       gvkey            indGroup\n",
      "0       1010                manu\n",
      "1       1043           wholesale\n",
      "2       1045  transportUtilities\n",
      "3       1062             finance\n",
      "4       1075  transportUtilities\n",
      "...      ...                 ...\n",
      "31652  37600             finance\n",
      "31653  37618             finance\n",
      "31654  37620             finance\n",
      "31655  37621             finance\n",
      "31656  37625             finance\n",
      "\n",
      "[31657 rows x 2 columns]\n"
     ]
    }
   ],
   "source": [
    "industries = pd.read_csv(\"../../data/companyData/gvkeyIndustries.csv\").drop(columns = {'Unnamed: 0'})\n",
    "print(industries)"
   ]
  },
  {
   "cell_type": "code",
   "execution_count": 358,
   "metadata": {},
   "outputs": [
    {
     "name": "stdout",
     "output_type": "stream",
     "text": [
      "(120797, 6)\n",
      "   year  supplier_gvkey  customer_gvkey   salecs  firstYear   lastYear\n",
      "0  1999          1013.0          2136.0  111.056 2002-01-01 2010-01-01\n",
      "1  2000          1013.0          2136.0  111.056 2002-01-01 2010-01-01\n",
      "2  2001          1013.0          2136.0  111.056 2002-01-01 2010-01-01\n",
      "3  2002          1013.0          2136.0  111.056 2002-01-01 2010-01-01\n",
      "4  2003          1013.0          2136.0  111.056 2002-01-01 2010-01-01\n",
      "   year  supplier_gvkey  customer_gvkey   salecs  firstYear   lastYear  \\\n",
      "0  1999          1013.0          2136.0  111.056 2002-01-01 2010-01-01   \n",
      "1  2000          1013.0          2136.0  111.056 2002-01-01 2010-01-01   \n",
      "2  2001          1013.0          2136.0  111.056 2002-01-01 2010-01-01   \n",
      "3  2002          1013.0          2136.0  111.056 2002-01-01 2010-01-01   \n",
      "4  2003          1013.0          2136.0  111.056 2002-01-01 2010-01-01   \n",
      "\n",
      "         customer_ind supplier_ind  \n",
      "0  transportUtilities         manu  \n",
      "1  transportUtilities         manu  \n",
      "2  transportUtilities         manu  \n",
      "3  transportUtilities         manu  \n",
      "4  transportUtilities         manu   (120797, 8)\n"
     ]
    }
   ],
   "source": [
    "c_links = c_linksImpd_df.copy()\n",
    "\n",
    "print(c_links.shape)\n",
    "\n",
    "print(c_links.head())\n",
    "\n",
    "industries.columns = ['customer_gvkey','customer_ind']\n",
    "\n",
    "\n",
    "c_links = c_links.merge(industries)\n",
    "industries.columns = ['supplier_gvkey','supplier_ind']\n",
    "\n",
    "c_links = c_links.merge(industries)\n",
    "print(c_links.head(), c_links.shape)\n",
    "\n",
    "\n",
    "c_links.to_csv(\"../../data/companyData/c_links.csv\")\n"
   ]
  },
  {
   "cell_type": "markdown",
   "metadata": {},
   "source": [
    "Let's see how all this translates into different industries. Check how many times different industries show up.\n",
    "\n",
    "The full count will be roughly 4x whatever is below, assuming we can get a match for roughly all of them (which we should be able to)."
   ]
  },
  {
   "cell_type": "code",
   "execution_count": 359,
   "metadata": {},
   "outputs": [
    {
     "data": {
      "text/plain": [
       "manu                  50104\n",
       "finance               22950\n",
       "services              17259\n",
       "mining                 9457\n",
       "transportUtilities     6402\n",
       "wholesale              2884\n",
       "construction           1097\n",
       "retail                  628\n",
       "agForFish               194\n",
       "Name: supplier_ind, dtype: int64"
      ]
     },
     "execution_count": 359,
     "metadata": {},
     "output_type": "execute_result"
    }
   ],
   "source": [
    "c_links[c_links.year.astype(int) > 1999].supplier_ind.value_counts()"
   ]
  },
  {
   "cell_type": "markdown",
   "metadata": {},
   "source": [
    "Now see if it's common to have one in and one out of the industries of interest. \n",
    "\n",
    "For now, let's keep all the different industry types.\n",
    "\n",
    "We can always filter later if we need to.\n",
    "\n",
    "\n",
    "********this is where it would be helpful to check on the abi bits for a given industry, to see if we can get additional matches as well***********"
   ]
  },
  {
   "cell_type": "code",
   "execution_count": 360,
   "metadata": {},
   "outputs": [
    {
     "name": "stdout",
     "output_type": "stream",
     "text": [
      "(120797, 8)\n",
      "(120797, 8) (112962, 11)    year  supplier_gvkey  customer_gvkey   salecs  firstYear   lastYear  \\\n",
      "0  1999          1013.0          2136.0  111.056 2002-01-01 2010-01-01   \n",
      "1  2000          1013.0          2136.0  111.056 2002-01-01 2010-01-01   \n",
      "2  2001          1013.0          2136.0  111.056 2002-01-01 2010-01-01   \n",
      "3  2002          1013.0          2136.0  111.056 2002-01-01 2010-01-01   \n",
      "4  2003          1013.0          2136.0  111.056 2002-01-01 2010-01-01   \n",
      "\n",
      "         customer_ind supplier_ind customer_cstatCompanies  \\\n",
      "0  transportUtilities         manu     verizonmmunications   \n",
      "1  transportUtilities         manu     verizonmmunications   \n",
      "2  transportUtilities         manu     verizonmmunications   \n",
      "3  transportUtilities         manu     verizonmmunications   \n",
      "4  transportUtilities         manu     verizonmmunications   \n",
      "\n",
      "  customer_igCompanies  customer_abi  \n",
      "0  verizonmmunications       7564776  \n",
      "1  verizonmmunications       7564776  \n",
      "2  verizonmmunications       7564776  \n",
      "3  verizonmmunications       7564776  \n",
      "4  verizonmmunications       7564776  \n",
      "(120797, 8)\n",
      "(99854, 14)\n"
     ]
    },
    {
     "data": {
      "text/plain": [
       "(4082,)"
      ]
     },
     "execution_count": 360,
     "metadata": {},
     "output_type": "execute_result"
    }
   ],
   "source": [
    "#########################\n",
    "# get data and reset columns \n",
    "gvKey_abiLinkingTable = pd.read_csv('../../data/companyData/sc_linkingTable.csv').drop(columns = ['Unnamed: 0']).\\\n",
    "    drop_duplicates()\n",
    "\n",
    "\n",
    "\n",
    "base_columns = gvKey_abiLinkingTable.columns \n",
    "customer_columns = \"customer_\" + base_columns\n",
    "supplier_columns = \"supplier_\" + base_columns\n",
    "\n",
    "\n",
    "\n",
    "# merge in customer information\n",
    "gvKey_abiLinkingTable.columns = customer_columns\n",
    "\n",
    "\n",
    "\n",
    "print(c_links.shape)\n",
    "c_linksMerge1 = c_links.merge(gvKey_abiLinkingTable, on ='customer_gvkey')\n",
    "print(c_links.shape,c_linksMerge1.shape, c_linksMerge1.head())\n",
    "\n",
    "\n",
    "\n",
    "#########################\n",
    "# and merge in supplier \n",
    "gvKey_abiLinkingTable.columns = supplier_columns\n",
    "\n",
    "print(c_links.shape)\n",
    "c_linksMerge2 = c_linksMerge1.merge(gvKey_abiLinkingTable, on ='supplier_gvkey').drop_duplicates()\n",
    "print(c_linksMerge2.shape)\n",
    "\n",
    "c_linksMerge2.to_csv(\"../../data/companyData/clinks_IG_selected.csv\")\n",
    "\n",
    "\n",
    "c_linksMerge2['year'] = pd.to_datetime(c_linksMerge2.year, format = '%Y')\n",
    "\n",
    "\n",
    "##########################\n",
    "# get all the company abi\n",
    "allAbi = c_linksMerge2.customer_abi.append(c_linksMerge2.supplier_abi).drop_duplicates()\n",
    "allAbi.shape"
   ]
  },
  {
   "cell_type": "markdown",
   "metadata": {},
   "source": [
    "## Relevant Industries"
   ]
  },
  {
   "cell_type": "code",
   "execution_count": 361,
   "metadata": {},
   "outputs": [
    {
     "data": {
      "text/plain": [
       "(62071, 14)"
      ]
     },
     "execution_count": 361,
     "metadata": {},
     "output_type": "execute_result"
    }
   ],
   "source": [
    "c_linksMerge2 = c_linksMerge2[(c_linksMerge2.customer_ind != 'finance') & (c_linksMerge2.customer_ind != 'services') & \\\n",
    "               (c_linksMerge2.supplier_ind != 'finance') & (c_linksMerge2.supplier_ind != 'services')]\n",
    "\n",
    "c_linksMerge2.shape"
   ]
  },
  {
   "cell_type": "markdown",
   "metadata": {},
   "source": [
    "First, make a sample with the companies on one year of either side of when it reports another customer."
   ]
  },
  {
   "cell_type": "code",
   "execution_count": 362,
   "metadata": {},
   "outputs": [],
   "source": [
    "########\n",
    "hqsOnly = pd.read_csv(\"../../data/ig_uniqueHQs.csv\").drop(columns = {'Unnamed: 0'})\n",
    "\n",
    "hq = pd.read_csv(\"../../data/ig_uniqueHQs_multLocations.csv\").\\\n",
    "    drop(columns = {'Unnamed: 0'}).\\\n",
    "    rename(columns = {'archive_version_year': 'year'})\n",
    "\n",
    "hq['year']    = pd.to_datetime(hq.year, format = '%Y')   # hq.year.astype('int64')\n",
    "hq['zipcode'] = hq.zipcode.astype('str').str.zfill(5)\n",
    "hqRelevant    = hq[hq.abi.isin(allAbi)].reset_index()\n",
    "\n"
   ]
  },
  {
   "cell_type": "markdown",
   "metadata": {},
   "source": [
    "I think many of these don't have a lat-long but do have a zipcode. We should be able to use pgeocode to get an approximate lat-long from the zipcode."
   ]
  },
  {
   "cell_type": "code",
   "execution_count": 363,
   "metadata": {},
   "outputs": [
    {
     "name": "stderr",
     "output_type": "stream",
     "text": [
      "/Users/brianreed/opt/anaconda3/lib/python3.7/site-packages/ipykernel_launcher.py:5: SettingWithCopyWarning: \n",
      "A value is trying to be set on a copy of a slice from a DataFrame\n",
      "\n",
      "See the caveats in the documentation: https://pandas.pydata.org/pandas-docs/stable/user_guide/indexing.html#returning-a-view-versus-a-copy\n",
      "  \"\"\"\n",
      "/Users/brianreed/opt/anaconda3/lib/python3.7/site-packages/ipykernel_launcher.py:6: SettingWithCopyWarning: \n",
      "A value is trying to be set on a copy of a slice from a DataFrame\n",
      "\n",
      "See the caveats in the documentation: https://pandas.pydata.org/pandas-docs/stable/user_guide/indexing.html#returning-a-view-versus-a-copy\n",
      "  \n"
     ]
    }
   ],
   "source": [
    "us = pgeocode.Nominatim('us')\n",
    "\n",
    "for i in range(0, hq.shape[0]):\n",
    "    if pd.isna(hq.latitude[i]):\n",
    "        hq.latitude[i]  = us.query_postal_code(hq.zipcode[i]).latitude\n",
    "        hq.longitude[i] = us.query_postal_code(hq.zipcode[i]).longitude"
   ]
  },
  {
   "cell_type": "code",
   "execution_count": 364,
   "metadata": {},
   "outputs": [
    {
     "data": {
      "text/plain": [
       "array([  1864149,   5136239,   6484067,   7512304,   7536717, 107286601,\n",
       "       107358178, 120553524, 306744129, 406330118, 406330126, 433385663,\n",
       "       441433422, 450510896, 477538250, 902151877, 936186998, 967349333,\n",
       "         7001068, 510200629, 902180348,   4552857,   6918395, 602875296,\n",
       "       435965967, 657440202, 670508548, 671873610, 207813429, 252925805])"
      ]
     },
     "execution_count": 364,
     "metadata": {},
     "output_type": "execute_result"
    }
   ],
   "source": [
    "hq[hq['longitude'].isna()].abi.unique()"
   ]
  },
  {
   "cell_type": "code",
   "execution_count": 365,
   "metadata": {},
   "outputs": [],
   "source": [
    "supplierHQ = hq[['year','abi','latitude','longitude','zipcode']].copy().rename(columns = {'abi':      'supplier_abi',\n",
    "                                                                        'latitude':  'supplier_latitude',\n",
    "                                                                        'longitude': 'supplier_longitude',\n",
    "                                                                        'zipcode': 'supplier_zipcode'})\n",
    "\n",
    "\n",
    "customerHQ = hq[['year','abi','latitude','longitude','zipcode']].copy().rename(columns = {'abi':      'customer_abi',\n",
    "                                                                        'latitude':  'customer_latitude',\n",
    "                                                                        'longitude': 'customer_longitude',\n",
    "                                                                        'zipcode': 'customer_zipcode'})"
   ]
  },
  {
   "cell_type": "code",
   "execution_count": 366,
   "metadata": {},
   "outputs": [
    {
     "name": "stdout",
     "output_type": "stream",
     "text": [
      "4059 4059\n"
     ]
    }
   ],
   "source": [
    "print(sum(allAbi.isin(supplierHQ.supplier_abi)) ,\n",
    "     sum(allAbi.isin(customerHQ.customer_abi)))\n",
    "\n"
   ]
  },
  {
   "cell_type": "markdown",
   "metadata": {},
   "source": [
    "Merge to the closest year in either direction"
   ]
  },
  {
   "cell_type": "code",
   "execution_count": 367,
   "metadata": {},
   "outputs": [
    {
     "name": "stdout",
     "output_type": "stream",
     "text": [
      "(62071, 17)\n"
     ]
    },
    {
     "data": {
      "text/html": [
       "<div>\n",
       "<style scoped>\n",
       "    .dataframe tbody tr th:only-of-type {\n",
       "        vertical-align: middle;\n",
       "    }\n",
       "\n",
       "    .dataframe tbody tr th {\n",
       "        vertical-align: top;\n",
       "    }\n",
       "\n",
       "    .dataframe thead th {\n",
       "        text-align: right;\n",
       "    }\n",
       "</style>\n",
       "<table border=\"1\" class=\"dataframe\">\n",
       "  <thead>\n",
       "    <tr style=\"text-align: right;\">\n",
       "      <th></th>\n",
       "      <th>year</th>\n",
       "      <th>supplier_gvkey</th>\n",
       "      <th>customer_gvkey</th>\n",
       "      <th>salecs</th>\n",
       "      <th>firstYear</th>\n",
       "      <th>lastYear</th>\n",
       "      <th>customer_ind</th>\n",
       "      <th>supplier_ind</th>\n",
       "      <th>customer_cstatCompanies</th>\n",
       "      <th>customer_igCompanies</th>\n",
       "      <th>customer_abi</th>\n",
       "      <th>supplier_cstatCompanies</th>\n",
       "      <th>supplier_igCompanies</th>\n",
       "      <th>supplier_abi</th>\n",
       "      <th>customer_latitude</th>\n",
       "      <th>customer_longitude</th>\n",
       "      <th>customer_zipcode</th>\n",
       "    </tr>\n",
       "  </thead>\n",
       "  <tbody>\n",
       "    <tr>\n",
       "      <th>0</th>\n",
       "      <td>1997-01-01</td>\n",
       "      <td>11318.0</td>\n",
       "      <td>6307.0</td>\n",
       "      <td>8.950</td>\n",
       "      <td>2000-01-01</td>\n",
       "      <td>2003-01-01</td>\n",
       "      <td>retail</td>\n",
       "      <td>wholesale</td>\n",
       "      <td>sears</td>\n",
       "      <td>sears</td>\n",
       "      <td>265269498</td>\n",
       "      <td>waxman industries</td>\n",
       "      <td>waxman industries</td>\n",
       "      <td>679704</td>\n",
       "      <td>42.07745</td>\n",
       "      <td>-88.22351</td>\n",
       "      <td>60179</td>\n",
       "    </tr>\n",
       "    <tr>\n",
       "      <th>1</th>\n",
       "      <td>1997-01-01</td>\n",
       "      <td>30463.0</td>\n",
       "      <td>10867.0</td>\n",
       "      <td>31.588</td>\n",
       "      <td>2000-01-01</td>\n",
       "      <td>2013-01-01</td>\n",
       "      <td>transportUtilities</td>\n",
       "      <td>manu</td>\n",
       "      <td>union pacific</td>\n",
       "      <td>union pacific</td>\n",
       "      <td>4591012</td>\n",
       "      <td>greenbriers (the)</td>\n",
       "      <td>greenbrier</td>\n",
       "      <td>886778679</td>\n",
       "      <td>32.78161</td>\n",
       "      <td>-96.79653</td>\n",
       "      <td>75201</td>\n",
       "    </tr>\n",
       "    <tr>\n",
       "      <th>2</th>\n",
       "      <td>1997-01-01</td>\n",
       "      <td>28691.0</td>\n",
       "      <td>126554.0</td>\n",
       "      <td>NaN</td>\n",
       "      <td>2000-01-01</td>\n",
       "      <td>2000-01-01</td>\n",
       "      <td>manu</td>\n",
       "      <td>manu</td>\n",
       "      <td>agilent technologies</td>\n",
       "      <td>agilent technologies</td>\n",
       "      <td>517534723</td>\n",
       "      <td>allegro biodiesel</td>\n",
       "      <td>allegro biodiesel</td>\n",
       "      <td>645422957</td>\n",
       "      <td>37.42481</td>\n",
       "      <td>-122.13972</td>\n",
       "      <td>94306</td>\n",
       "    </tr>\n",
       "    <tr>\n",
       "      <th>3</th>\n",
       "      <td>1997-01-01</td>\n",
       "      <td>13412.0</td>\n",
       "      <td>5606.0</td>\n",
       "      <td>4.180</td>\n",
       "      <td>2000-01-01</td>\n",
       "      <td>2002-01-01</td>\n",
       "      <td>manu</td>\n",
       "      <td>manu</td>\n",
       "      <td>hp</td>\n",
       "      <td>hp</td>\n",
       "      <td>7518194</td>\n",
       "      <td>imp</td>\n",
       "      <td>imp</td>\n",
       "      <td>830400354</td>\n",
       "      <td>37.45211</td>\n",
       "      <td>-122.12615</td>\n",
       "      <td>94303</td>\n",
       "    </tr>\n",
       "    <tr>\n",
       "      <th>4</th>\n",
       "      <td>1997-01-01</td>\n",
       "      <td>13155.0</td>\n",
       "      <td>11259.0</td>\n",
       "      <td>1.079</td>\n",
       "      <td>2000-01-01</td>\n",
       "      <td>2001-01-01</td>\n",
       "      <td>retail</td>\n",
       "      <td>agForFish</td>\n",
       "      <td>walmart</td>\n",
       "      <td>walmart</td>\n",
       "      <td>5889993</td>\n",
       "      <td>margo caribe</td>\n",
       "      <td>margo caribe</td>\n",
       "      <td>671873610</td>\n",
       "      <td>36.36072</td>\n",
       "      <td>-94.22725</td>\n",
       "      <td>72712</td>\n",
       "    </tr>\n",
       "  </tbody>\n",
       "</table>\n",
       "</div>"
      ],
      "text/plain": [
       "        year  supplier_gvkey  customer_gvkey  salecs  firstYear   lastYear  \\\n",
       "0 1997-01-01         11318.0          6307.0   8.950 2000-01-01 2003-01-01   \n",
       "1 1997-01-01         30463.0         10867.0  31.588 2000-01-01 2013-01-01   \n",
       "2 1997-01-01         28691.0        126554.0     NaN 2000-01-01 2000-01-01   \n",
       "3 1997-01-01         13412.0          5606.0   4.180 2000-01-01 2002-01-01   \n",
       "4 1997-01-01         13155.0         11259.0   1.079 2000-01-01 2001-01-01   \n",
       "\n",
       "         customer_ind supplier_ind customer_cstatCompanies  \\\n",
       "0              retail    wholesale                  sears    \n",
       "1  transportUtilities         manu           union pacific   \n",
       "2                manu         manu    agilent technologies   \n",
       "3                manu         manu                      hp   \n",
       "4              retail    agForFish                 walmart   \n",
       "\n",
       "   customer_igCompanies  customer_abi supplier_cstatCompanies  \\\n",
       "0                sears      265269498       waxman industries   \n",
       "1         union pacific       4591012       greenbriers (the)   \n",
       "2  agilent technologies     517534723       allegro biodiesel   \n",
       "3                    hp       7518194                     imp   \n",
       "4               walmart       5889993            margo caribe   \n",
       "\n",
       "  supplier_igCompanies  supplier_abi  customer_latitude  customer_longitude  \\\n",
       "0    waxman industries        679704           42.07745           -88.22351   \n",
       "1           greenbrier     886778679           32.78161           -96.79653   \n",
       "2    allegro biodiesel     645422957           37.42481          -122.13972   \n",
       "3                  imp     830400354           37.45211          -122.12615   \n",
       "4         margo caribe     671873610           36.36072           -94.22725   \n",
       "\n",
       "  customer_zipcode  \n",
       "0            60179  \n",
       "1            75201  \n",
       "2            94306  \n",
       "3            94303  \n",
       "4            72712  "
      ]
     },
     "execution_count": 367,
     "metadata": {},
     "output_type": "execute_result"
    }
   ],
   "source": [
    "merged_dataframe = pd.merge_asof(c_linksMerge2.sort_values('year'), customerHQ.sort_values('year'), on=\"year\",\n",
    "                                 by=\"customer_abi\", \n",
    "                                direction = \"nearest\")\n",
    "\n",
    "print(merged_dataframe.shape)\n",
    "merged_dataframe.head()"
   ]
  },
  {
   "cell_type": "code",
   "execution_count": 368,
   "metadata": {},
   "outputs": [
    {
     "name": "stdout",
     "output_type": "stream",
     "text": [
      "(62071, 20)\n",
      "(61262, 20)\n"
     ]
    }
   ],
   "source": [
    "c_linksMerge3 = pd.merge_asof(merged_dataframe.sort_values('year'), supplierHQ.sort_values('year'), on=\"year\",\n",
    "                                 by=\"supplier_abi\", \n",
    "                                direction = \"nearest\")\n",
    "\n",
    "# c_linksMerge2.merge(supplierHQ).merge(customerHQ)\n",
    "\n",
    "\n",
    "print(c_linksMerge3.shape)\n",
    "\n",
    "\n",
    "c_linksMerge3 = c_linksMerge3[(~c_linksMerge3.supplier_latitude.isna()) & (~c_linksMerge3.customer_latitude.isna())]\n",
    "\n",
    "print(c_linksMerge3.shape)\n",
    "\n",
    "c_linksMerge3 = c_linksMerge3.reset_index(drop = True)"
   ]
  },
  {
   "cell_type": "code",
   "execution_count": 369,
   "metadata": {},
   "outputs": [
    {
     "data": {
      "text/plain": [
       "0.9865664954491257"
      ]
     },
     "execution_count": 369,
     "metadata": {},
     "output_type": "execute_result"
    }
   ],
   "source": [
    "c_linksMerge3.salecs.sum()/c_linksMerge2.salecs.sum()"
   ]
  },
  {
   "cell_type": "markdown",
   "metadata": {},
   "source": [
    "Now, find the distances between suppliers."
   ]
  },
  {
   "cell_type": "code",
   "execution_count": 370,
   "metadata": {},
   "outputs": [
    {
     "name": "stderr",
     "output_type": "stream",
     "text": [
      "/Users/brianreed/opt/anaconda3/lib/python3.7/site-packages/ipykernel_launcher.py:5: SettingWithCopyWarning: \n",
      "A value is trying to be set on a copy of a slice from a DataFrame\n",
      "\n",
      "See the caveats in the documentation: https://pandas.pydata.org/pandas-docs/stable/user_guide/indexing.html#returning-a-view-versus-a-copy\n",
      "  \"\"\"\n"
     ]
    }
   ],
   "source": [
    "c_linksMerge3['dist'] = 0\n",
    "\n",
    "for i in range(0,c_linksMerge3.shape[0]):\n",
    "    c_linksMerge3.dist[i] = geopy.distance.geodesic((c_linksMerge3.customer_latitude[i],c_linksMerge3.customer_longitude[i]), \\\n",
    "                                                             (c_linksMerge3.supplier_latitude[i],c_linksMerge3.supplier_longitude[i])).km"
   ]
  },
  {
   "cell_type": "code",
   "execution_count": 371,
   "metadata": {},
   "outputs": [
    {
     "data": {
      "text/plain": [
       "<matplotlib.axes._subplots.AxesSubplot at 0x7ff15ec28190>"
      ]
     },
     "execution_count": 371,
     "metadata": {},
     "output_type": "execute_result"
    },
    {
     "data": {
      "image/png": "[encoded data removed]",
      "text/plain": [
       "<Figure size 432x288 with 1 Axes>"
      ]
     },
     "metadata": {
      "needs_background": "light"
     },
     "output_type": "display_data"
    }
   ],
   "source": [
    "c_linksMerge3.dist.hist(bins = 100)"
   ]
  },
  {
   "cell_type": "code",
   "execution_count": 407,
   "metadata": {},
   "outputs": [],
   "source": [
    "c_linksMerge3.to_csv(\"../../data/companyData/supplierCustomerHQs.csv\")"
   ]
  },
  {
   "cell_type": "code",
   "execution_count": 3,
   "metadata": {},
   "outputs": [],
   "source": [
    "test = pd.read_csv(\"../../data/companyData/supplierCustomerHQs.csv\")\n"
   ]
  },
  {
   "cell_type": "code",
   "execution_count": 7,
   "metadata": {},
   "outputs": [
    {
     "data": {
      "text/plain": [
       "976"
      ]
     },
     "execution_count": 7,
     "metadata": {},
     "output_type": "execute_result"
    }
   ],
   "source": [
    "sum(test.customer_cstatCompanies == 'general motors')"
   ]
  },
  {
   "cell_type": "markdown",
   "metadata": {},
   "source": [
    "Try to figure out which companies have no sales figures. Are they the same companies through and through, or are some different ones in play?"
   ]
  },
  {
   "cell_type": "markdown",
   "metadata": {},
   "source": [
    "This means that most of the firms with an na transaction have another transaction. It could be either that year or another year. If a company has one transaction for a year and it's na, then turn it into a small amount so that we keep it. "
   ]
  },
  {
   "cell_type": "code",
   "execution_count": 372,
   "metadata": {},
   "outputs": [
    {
     "name": "stdout",
     "output_type": "stream",
     "text": [
      "(61262, 22) (61262, 23)\n"
     ]
    },
    {
     "data": {
      "text/html": [
       "<div>\n",
       "<style scoped>\n",
       "    .dataframe tbody tr th:only-of-type {\n",
       "        vertical-align: middle;\n",
       "    }\n",
       "\n",
       "    .dataframe tbody tr th {\n",
       "        vertical-align: top;\n",
       "    }\n",
       "\n",
       "    .dataframe thead th {\n",
       "        text-align: right;\n",
       "    }\n",
       "</style>\n",
       "<table border=\"1\" class=\"dataframe\">\n",
       "  <thead>\n",
       "    <tr style=\"text-align: right;\">\n",
       "      <th></th>\n",
       "      <th>year</th>\n",
       "      <th>supplier_gvkey</th>\n",
       "      <th>customer_gvkey</th>\n",
       "      <th>salecs</th>\n",
       "      <th>firstYear</th>\n",
       "      <th>lastYear</th>\n",
       "      <th>customer_ind</th>\n",
       "      <th>supplier_ind</th>\n",
       "      <th>customer_cstatCompanies</th>\n",
       "      <th>customer_igCompanies</th>\n",
       "      <th>...</th>\n",
       "      <th>supplier_abi</th>\n",
       "      <th>customer_latitude</th>\n",
       "      <th>customer_longitude</th>\n",
       "      <th>customer_zipcode</th>\n",
       "      <th>supplier_latitude</th>\n",
       "      <th>supplier_longitude</th>\n",
       "      <th>supplier_zipcode</th>\n",
       "      <th>dist</th>\n",
       "      <th>totalSuppliers</th>\n",
       "      <th>meanSales</th>\n",
       "    </tr>\n",
       "  </thead>\n",
       "  <tbody>\n",
       "    <tr>\n",
       "      <th>0</th>\n",
       "      <td>1997-01-01</td>\n",
       "      <td>11318.0</td>\n",
       "      <td>6307.0</td>\n",
       "      <td>8.950</td>\n",
       "      <td>2000-01-01</td>\n",
       "      <td>2003-01-01</td>\n",
       "      <td>retail</td>\n",
       "      <td>wholesale</td>\n",
       "      <td>sears</td>\n",
       "      <td>sears</td>\n",
       "      <td>...</td>\n",
       "      <td>679704</td>\n",
       "      <td>42.07745</td>\n",
       "      <td>-88.22351</td>\n",
       "      <td>60179</td>\n",
       "      <td>41.41278</td>\n",
       "      <td>-81.50616</td>\n",
       "      <td>44146</td>\n",
       "      <td>563</td>\n",
       "      <td>17</td>\n",
       "      <td>174.308333</td>\n",
       "    </tr>\n",
       "    <tr>\n",
       "      <th>1</th>\n",
       "      <td>1997-01-01</td>\n",
       "      <td>64830.0</td>\n",
       "      <td>6307.0</td>\n",
       "      <td>NaN</td>\n",
       "      <td>2000-01-01</td>\n",
       "      <td>2001-01-01</td>\n",
       "      <td>retail</td>\n",
       "      <td>manu</td>\n",
       "      <td>sears</td>\n",
       "      <td>sears</td>\n",
       "      <td>...</td>\n",
       "      <td>949575955</td>\n",
       "      <td>42.07745</td>\n",
       "      <td>-88.22351</td>\n",
       "      <td>60179</td>\n",
       "      <td>29.78875</td>\n",
       "      <td>-95.56178</td>\n",
       "      <td>77043</td>\n",
       "      <td>1514</td>\n",
       "      <td>17</td>\n",
       "      <td>174.308333</td>\n",
       "    </tr>\n",
       "    <tr>\n",
       "      <th>2</th>\n",
       "      <td>1997-01-01</td>\n",
       "      <td>4769.0</td>\n",
       "      <td>6307.0</td>\n",
       "      <td>1443.736</td>\n",
       "      <td>2000-01-01</td>\n",
       "      <td>2001-01-01</td>\n",
       "      <td>retail</td>\n",
       "      <td>wholesale</td>\n",
       "      <td>sears</td>\n",
       "      <td>sears</td>\n",
       "      <td>...</td>\n",
       "      <td>7514540</td>\n",
       "      <td>42.07745</td>\n",
       "      <td>-88.22351</td>\n",
       "      <td>60179</td>\n",
       "      <td>35.46001</td>\n",
       "      <td>-97.51832</td>\n",
       "      <td>73126</td>\n",
       "      <td>1090</td>\n",
       "      <td>17</td>\n",
       "      <td>174.308333</td>\n",
       "    </tr>\n",
       "    <tr>\n",
       "      <th>3</th>\n",
       "      <td>1997-01-01</td>\n",
       "      <td>5458.0</td>\n",
       "      <td>6307.0</td>\n",
       "      <td>398.161</td>\n",
       "      <td>2000-01-01</td>\n",
       "      <td>2007-01-01</td>\n",
       "      <td>retail</td>\n",
       "      <td>NaN</td>\n",
       "      <td>sears</td>\n",
       "      <td>sears</td>\n",
       "      <td>...</td>\n",
       "      <td>5620646</td>\n",
       "      <td>42.07745</td>\n",
       "      <td>-88.22351</td>\n",
       "      <td>60179</td>\n",
       "      <td>42.55997</td>\n",
       "      <td>-83.14753</td>\n",
       "      <td>48007</td>\n",
       "      <td>421</td>\n",
       "      <td>17</td>\n",
       "      <td>174.308333</td>\n",
       "    </tr>\n",
       "    <tr>\n",
       "      <th>4</th>\n",
       "      <td>1997-01-01</td>\n",
       "      <td>28676.0</td>\n",
       "      <td>6307.0</td>\n",
       "      <td>254.222</td>\n",
       "      <td>2000-01-01</td>\n",
       "      <td>2003-01-01</td>\n",
       "      <td>retail</td>\n",
       "      <td>manu</td>\n",
       "      <td>sears</td>\n",
       "      <td>sears</td>\n",
       "      <td>...</td>\n",
       "      <td>7540081</td>\n",
       "      <td>42.07745</td>\n",
       "      <td>-88.22351</td>\n",
       "      <td>60179</td>\n",
       "      <td>32.86813</td>\n",
       "      <td>-85.12466</td>\n",
       "      <td>31833</td>\n",
       "      <td>1058</td>\n",
       "      <td>17</td>\n",
       "      <td>174.308333</td>\n",
       "    </tr>\n",
       "  </tbody>\n",
       "</table>\n",
       "<p>5 rows × 23 columns</p>\n",
       "</div>"
      ],
      "text/plain": [
       "        year  supplier_gvkey  customer_gvkey    salecs  firstYear   lastYear  \\\n",
       "0 1997-01-01         11318.0          6307.0     8.950 2000-01-01 2003-01-01   \n",
       "1 1997-01-01         64830.0          6307.0       NaN 2000-01-01 2001-01-01   \n",
       "2 1997-01-01          4769.0          6307.0  1443.736 2000-01-01 2001-01-01   \n",
       "3 1997-01-01          5458.0          6307.0   398.161 2000-01-01 2007-01-01   \n",
       "4 1997-01-01         28676.0          6307.0   254.222 2000-01-01 2003-01-01   \n",
       "\n",
       "  customer_ind supplier_ind customer_cstatCompanies customer_igCompanies  ...  \\\n",
       "0       retail    wholesale                  sears                sears   ...   \n",
       "1       retail         manu                  sears                sears   ...   \n",
       "2       retail    wholesale                  sears                sears   ...   \n",
       "3       retail          NaN                  sears                sears   ...   \n",
       "4       retail         manu                  sears                sears   ...   \n",
       "\n",
       "   supplier_abi customer_latitude customer_longitude  customer_zipcode  \\\n",
       "0        679704          42.07745          -88.22351             60179   \n",
       "1     949575955          42.07745          -88.22351             60179   \n",
       "2       7514540          42.07745          -88.22351             60179   \n",
       "3       5620646          42.07745          -88.22351             60179   \n",
       "4       7540081          42.07745          -88.22351             60179   \n",
       "\n",
       "   supplier_latitude  supplier_longitude supplier_zipcode  dist  \\\n",
       "0           41.41278           -81.50616            44146   563   \n",
       "1           29.78875           -95.56178            77043  1514   \n",
       "2           35.46001           -97.51832            73126  1090   \n",
       "3           42.55997           -83.14753            48007   421   \n",
       "4           32.86813           -85.12466            31833  1058   \n",
       "\n",
       "   totalSuppliers   meanSales  \n",
       "0              17  174.308333  \n",
       "1              17  174.308333  \n",
       "2              17  174.308333  \n",
       "3              17  174.308333  \n",
       "4              17  174.308333  \n",
       "\n",
       "[5 rows x 23 columns]"
      ]
     },
     "execution_count": 372,
     "metadata": {},
     "output_type": "execute_result"
    }
   ],
   "source": [
    "c_linksMerge3['suppliers'] = 1\n",
    "\n",
    "\n",
    "suppliers = c_linksMerge3[['year', 'customer_gvkey', 'suppliers']].groupby(['year','customer_gvkey']).sum().\\\n",
    "    reset_index().rename(columns = {'suppliers': 'totalSuppliers'})\n",
    "\n",
    "meanExp   = c_linksMerge3[['year', 'customer_gvkey', 'salecs']].groupby(['year','customer_gvkey'],dropna=False).\\\n",
    "    mean().reset_index().rename(columns = {'salecs': 'meanSales'})\n",
    "\n",
    "c_linksMerge4 = c_linksMerge3.merge(suppliers).drop(columns = {'suppliers'}).merge(meanExp)\n",
    "\n",
    "\n",
    "\n",
    "print(c_linksMerge3.shape,c_linksMerge4.shape)\n",
    "\n",
    "\n",
    "c_linksMerge4.head()"
   ]
  },
  {
   "cell_type": "code",
   "execution_count": 373,
   "metadata": {},
   "outputs": [
    {
     "name": "stdout",
     "output_type": "stream",
     "text": [
      "Find the fraction of firms who have an na transaction value one year, but another non-na [0.7637931]\n"
     ]
    }
   ],
   "source": [
    "withNAs = c_linksMerge3[c_linksMerge3.salecs.isna()].customer_gvkey.drop_duplicates()\n",
    "\n",
    "print(\"Find the fraction of firms who have an na transaction value one year, but another non-na\", \n",
    "      withNAs.isin(c_linksMerge4[~c_linksMerge4.salecs.isna()].customer_gvkey.drop_duplicates()).sum()/withNAs.shape)"
   ]
  },
  {
   "cell_type": "markdown",
   "metadata": {},
   "source": [
    "For each row: if salecs is na, replace with mean sales. If mean sales also na, replace with 1."
   ]
  },
  {
   "cell_type": "code",
   "execution_count": 374,
   "metadata": {},
   "outputs": [
    {
     "name": "stderr",
     "output_type": "stream",
     "text": [
      "/Users/brianreed/opt/anaconda3/lib/python3.7/site-packages/ipykernel_launcher.py:9: SettingWithCopyWarning: \n",
      "A value is trying to be set on a copy of a slice from a DataFrame\n",
      "\n",
      "See the caveats in the documentation: https://pandas.pydata.org/pandas-docs/stable/user_guide/indexing.html#returning-a-view-versus-a-copy\n",
      "  if __name__ == '__main__':\n",
      "/Users/brianreed/opt/anaconda3/lib/python3.7/site-packages/ipykernel_launcher.py:5: SettingWithCopyWarning: \n",
      "A value is trying to be set on a copy of a slice from a DataFrame\n",
      "\n",
      "See the caveats in the documentation: https://pandas.pydata.org/pandas-docs/stable/user_guide/indexing.html#returning-a-view-versus-a-copy\n",
      "  \"\"\"\n"
     ]
    }
   ],
   "source": [
    "for i in range(0,c_linksMerge4.shape[0]):\n",
    "    \n",
    "    # if mean sales is na, replace with 1\n",
    "    if pd.isna(c_linksMerge4.meanSales[i]):\n",
    "        c_linksMerge4.salecs[i] = 1\n",
    "    \n",
    "    # if salecs is na, replace with mean sales\n",
    "    elif pd.isna(c_linksMerge4.salecs[i]):\n",
    "        c_linksMerge4.salecs[i] = c_linksMerge4.meanSales[i]"
   ]
  },
  {
   "cell_type": "code",
   "execution_count": 375,
   "metadata": {},
   "outputs": [
    {
     "name": "stdout",
     "output_type": "stream",
     "text": [
      "(14859, 2) (14859, 2)\n"
     ]
    }
   ],
   "source": [
    "print(c_linksMerge3[['customer_gvkey', 'year']].drop_duplicates().shape,\n",
    "     c_linksMerge4[['customer_gvkey', 'year']].drop_duplicates().shape)"
   ]
  },
  {
   "cell_type": "code",
   "execution_count": 376,
   "metadata": {},
   "outputs": [
    {
     "data": {
      "text/plain": [
       "(61262, 23)"
      ]
     },
     "execution_count": 376,
     "metadata": {},
     "output_type": "execute_result"
    }
   ],
   "source": [
    "# c_linksMerge4 = c_linksMerge4[(c_linksMerge4.dist >= 500)]\n",
    "\n",
    "c_linksMerge4.shape"
   ]
  },
  {
   "cell_type": "code",
   "execution_count": 377,
   "metadata": {},
   "outputs": [
    {
     "data": {
      "text/html": [
       "<div>\n",
       "<style scoped>\n",
       "    .dataframe tbody tr th:only-of-type {\n",
       "        vertical-align: middle;\n",
       "    }\n",
       "\n",
       "    .dataframe tbody tr th {\n",
       "        vertical-align: top;\n",
       "    }\n",
       "\n",
       "    .dataframe thead th {\n",
       "        text-align: right;\n",
       "    }\n",
       "</style>\n",
       "<table border=\"1\" class=\"dataframe\">\n",
       "  <thead>\n",
       "    <tr style=\"text-align: right;\">\n",
       "      <th></th>\n",
       "      <th>year</th>\n",
       "      <th>supplier_gvkey</th>\n",
       "      <th>customer_gvkey</th>\n",
       "      <th>salecs</th>\n",
       "      <th>firstYear</th>\n",
       "      <th>lastYear</th>\n",
       "      <th>customer_ind</th>\n",
       "      <th>supplier_ind</th>\n",
       "      <th>customer_cstatCompanies</th>\n",
       "      <th>customer_igCompanies</th>\n",
       "      <th>...</th>\n",
       "      <th>supplier_abi</th>\n",
       "      <th>customer_latitude</th>\n",
       "      <th>customer_longitude</th>\n",
       "      <th>customer_zipcode</th>\n",
       "      <th>supplier_latitude</th>\n",
       "      <th>supplier_longitude</th>\n",
       "      <th>supplier_zipcode</th>\n",
       "      <th>dist</th>\n",
       "      <th>totalSuppliers</th>\n",
       "      <th>meanSales</th>\n",
       "    </tr>\n",
       "  </thead>\n",
       "  <tbody>\n",
       "    <tr>\n",
       "      <th>0</th>\n",
       "      <td>1997-01-01</td>\n",
       "      <td>11318.0</td>\n",
       "      <td>6307.0</td>\n",
       "      <td>8.950000</td>\n",
       "      <td>2000-01-01</td>\n",
       "      <td>2003-01-01</td>\n",
       "      <td>retail</td>\n",
       "      <td>wholesale</td>\n",
       "      <td>sears</td>\n",
       "      <td>sears</td>\n",
       "      <td>...</td>\n",
       "      <td>679704</td>\n",
       "      <td>42.07745</td>\n",
       "      <td>-88.22351</td>\n",
       "      <td>60179</td>\n",
       "      <td>41.41278</td>\n",
       "      <td>-81.50616</td>\n",
       "      <td>44146</td>\n",
       "      <td>563</td>\n",
       "      <td>17</td>\n",
       "      <td>174.308333</td>\n",
       "    </tr>\n",
       "    <tr>\n",
       "      <th>1</th>\n",
       "      <td>1997-01-01</td>\n",
       "      <td>64830.0</td>\n",
       "      <td>6307.0</td>\n",
       "      <td>174.308333</td>\n",
       "      <td>2000-01-01</td>\n",
       "      <td>2001-01-01</td>\n",
       "      <td>retail</td>\n",
       "      <td>manu</td>\n",
       "      <td>sears</td>\n",
       "      <td>sears</td>\n",
       "      <td>...</td>\n",
       "      <td>949575955</td>\n",
       "      <td>42.07745</td>\n",
       "      <td>-88.22351</td>\n",
       "      <td>60179</td>\n",
       "      <td>29.78875</td>\n",
       "      <td>-95.56178</td>\n",
       "      <td>77043</td>\n",
       "      <td>1514</td>\n",
       "      <td>17</td>\n",
       "      <td>174.308333</td>\n",
       "    </tr>\n",
       "    <tr>\n",
       "      <th>2</th>\n",
       "      <td>1997-01-01</td>\n",
       "      <td>4769.0</td>\n",
       "      <td>6307.0</td>\n",
       "      <td>1443.736000</td>\n",
       "      <td>2000-01-01</td>\n",
       "      <td>2001-01-01</td>\n",
       "      <td>retail</td>\n",
       "      <td>wholesale</td>\n",
       "      <td>sears</td>\n",
       "      <td>sears</td>\n",
       "      <td>...</td>\n",
       "      <td>7514540</td>\n",
       "      <td>42.07745</td>\n",
       "      <td>-88.22351</td>\n",
       "      <td>60179</td>\n",
       "      <td>35.46001</td>\n",
       "      <td>-97.51832</td>\n",
       "      <td>73126</td>\n",
       "      <td>1090</td>\n",
       "      <td>17</td>\n",
       "      <td>174.308333</td>\n",
       "    </tr>\n",
       "    <tr>\n",
       "      <th>3</th>\n",
       "      <td>1997-01-01</td>\n",
       "      <td>5458.0</td>\n",
       "      <td>6307.0</td>\n",
       "      <td>398.161000</td>\n",
       "      <td>2000-01-01</td>\n",
       "      <td>2007-01-01</td>\n",
       "      <td>retail</td>\n",
       "      <td>NaN</td>\n",
       "      <td>sears</td>\n",
       "      <td>sears</td>\n",
       "      <td>...</td>\n",
       "      <td>5620646</td>\n",
       "      <td>42.07745</td>\n",
       "      <td>-88.22351</td>\n",
       "      <td>60179</td>\n",
       "      <td>42.55997</td>\n",
       "      <td>-83.14753</td>\n",
       "      <td>48007</td>\n",
       "      <td>421</td>\n",
       "      <td>17</td>\n",
       "      <td>174.308333</td>\n",
       "    </tr>\n",
       "    <tr>\n",
       "      <th>4</th>\n",
       "      <td>1997-01-01</td>\n",
       "      <td>28676.0</td>\n",
       "      <td>6307.0</td>\n",
       "      <td>254.222000</td>\n",
       "      <td>2000-01-01</td>\n",
       "      <td>2003-01-01</td>\n",
       "      <td>retail</td>\n",
       "      <td>manu</td>\n",
       "      <td>sears</td>\n",
       "      <td>sears</td>\n",
       "      <td>...</td>\n",
       "      <td>7540081</td>\n",
       "      <td>42.07745</td>\n",
       "      <td>-88.22351</td>\n",
       "      <td>60179</td>\n",
       "      <td>32.86813</td>\n",
       "      <td>-85.12466</td>\n",
       "      <td>31833</td>\n",
       "      <td>1058</td>\n",
       "      <td>17</td>\n",
       "      <td>174.308333</td>\n",
       "    </tr>\n",
       "  </tbody>\n",
       "</table>\n",
       "<p>5 rows × 23 columns</p>\n",
       "</div>"
      ],
      "text/plain": [
       "        year  supplier_gvkey  customer_gvkey       salecs  firstYear  \\\n",
       "0 1997-01-01         11318.0          6307.0     8.950000 2000-01-01   \n",
       "1 1997-01-01         64830.0          6307.0   174.308333 2000-01-01   \n",
       "2 1997-01-01          4769.0          6307.0  1443.736000 2000-01-01   \n",
       "3 1997-01-01          5458.0          6307.0   398.161000 2000-01-01   \n",
       "4 1997-01-01         28676.0          6307.0   254.222000 2000-01-01   \n",
       "\n",
       "    lastYear customer_ind supplier_ind customer_cstatCompanies  \\\n",
       "0 2003-01-01       retail    wholesale                  sears    \n",
       "1 2001-01-01       retail         manu                  sears    \n",
       "2 2001-01-01       retail    wholesale                  sears    \n",
       "3 2007-01-01       retail          NaN                  sears    \n",
       "4 2003-01-01       retail         manu                  sears    \n",
       "\n",
       "  customer_igCompanies  ...  supplier_abi customer_latitude  \\\n",
       "0               sears   ...        679704          42.07745   \n",
       "1               sears   ...     949575955          42.07745   \n",
       "2               sears   ...       7514540          42.07745   \n",
       "3               sears   ...       5620646          42.07745   \n",
       "4               sears   ...       7540081          42.07745   \n",
       "\n",
       "  customer_longitude  customer_zipcode  supplier_latitude  supplier_longitude  \\\n",
       "0          -88.22351             60179           41.41278           -81.50616   \n",
       "1          -88.22351             60179           29.78875           -95.56178   \n",
       "2          -88.22351             60179           35.46001           -97.51832   \n",
       "3          -88.22351             60179           42.55997           -83.14753   \n",
       "4          -88.22351             60179           32.86813           -85.12466   \n",
       "\n",
       "  supplier_zipcode  dist  totalSuppliers   meanSales  \n",
       "0            44146   563              17  174.308333  \n",
       "1            77043  1514              17  174.308333  \n",
       "2            73126  1090              17  174.308333  \n",
       "3            48007   421              17  174.308333  \n",
       "4            31833  1058              17  174.308333  \n",
       "\n",
       "[5 rows x 23 columns]"
      ]
     },
     "execution_count": 377,
     "metadata": {},
     "output_type": "execute_result"
    }
   ],
   "source": [
    "c_linksMerge4.head()"
   ]
  },
  {
   "cell_type": "code",
   "execution_count": 378,
   "metadata": {},
   "outputs": [
    {
     "data": {
      "text/plain": [
       "0        44146\n",
       "1        77043\n",
       "2        73126\n",
       "3        48007\n",
       "4        31833\n",
       "         ...  \n",
       "61257    33408\n",
       "61258    33408\n",
       "61259    10022\n",
       "61260    33408\n",
       "61261    95051\n",
       "Name: supplier_zipcode, Length: 61262, dtype: object"
      ]
     },
     "execution_count": 378,
     "metadata": {},
     "output_type": "execute_result"
    }
   ],
   "source": [
    "c_linksMerge4.supplier_zipcode"
   ]
  },
  {
   "cell_type": "markdown",
   "metadata": {},
   "source": [
    "## Merge in supplier weather\n",
    "Get the weather data."
   ]
  },
  {
   "cell_type": "code",
   "execution_count": 379,
   "metadata": {},
   "outputs": [],
   "source": [
    "'''g = pd.read_csv(\"../../data/companyData/weatherByEstablishment.csv\").\\\n",
    "    drop(columns = {\"Unnamed: 0\"})'''\n",
    "\n",
    "\n",
    "allWeather_withLags = pd.read_csv(\"../../data/companyData/allWeather_withLags_allZips.csv\").\\\n",
    "    drop(columns = {\"Unnamed: 0\", 'yearQtr'}).astype({'year':       'category',\n",
    "                           'qtr':        'category',\n",
    "                           'zipcode':    'category'})\n",
    "\n",
    "\n",
    "averages = pd.read_csv(\"../../data/companyData/quarterlyStatsByZip.csv\").\\\n",
    "    drop(columns = {\"Unnamed: 0\"}).rename(columns = {'ZIP': 'zipcode'})\n",
    "averages['qtr'] = averages.quarter.str.slice(1,2).astype('float')\n",
    "averages.drop(columns = {'quarter'}, inplace = True) \n",
    "averages = averages.astype({'qtr':        'category',\n",
    "                           'zipcode':    'category'})\n",
    "\n",
    "\n",
    "allWeather_withLags2 = pd.read_csv(\"../../data/companyData/allWeather_withLags_new.csv\").\\\n",
    "    drop(columns = {\"Unnamed: 0\", 'yearQtr'}).astype({'year':       'category',\n",
    "                           'qtr':        'category',\n",
    "                           'zipcode':    'category'})\n",
    "\n",
    "\n",
    "thunderstorms_withLags = pd.read_csv(\"../../data/companyData/thunderstorms_withLags.csv\").\\\n",
    "    drop(columns = {\"Unnamed: 0\", 'yearQtr'}).astype({'year':       'category',\n",
    "                           'qtr':        'category',\n",
    "                           'zipcode':    'category'})"
   ]
  },
  {
   "cell_type": "code",
   "execution_count": 380,
   "metadata": {},
   "outputs": [
    {
     "data": {
      "text/html": [
       "<div>\n",
       "<style scoped>\n",
       "    .dataframe tbody tr th:only-of-type {\n",
       "        vertical-align: middle;\n",
       "    }\n",
       "\n",
       "    .dataframe tbody tr th {\n",
       "        vertical-align: top;\n",
       "    }\n",
       "\n",
       "    .dataframe thead th {\n",
       "        text-align: right;\n",
       "    }\n",
       "</style>\n",
       "<table border=\"1\" class=\"dataframe\">\n",
       "  <thead>\n",
       "    <tr style=\"text-align: right;\">\n",
       "      <th></th>\n",
       "      <th>supplier_zipcode</th>\n",
       "      <th>year</th>\n",
       "      <th>qtr</th>\n",
       "      <th>supplier_precip_annual_50</th>\n",
       "      <th>supplier_precip_annual_95</th>\n",
       "      <th>supplier_precip_annual_99</th>\n",
       "      <th>supplier_precip_zip_50</th>\n",
       "      <th>supplier_precip_zip_95</th>\n",
       "      <th>supplier_precip_zip_99</th>\n",
       "      <th>supplier_precip_zipQuarter_50</th>\n",
       "      <th>...</th>\n",
       "      <th>supplier_lag4_temp_zipQuarter50</th>\n",
       "      <th>supplier_lag4_temp_zipQuarter95</th>\n",
       "      <th>supplier_lag4_precip_zipQuarter50</th>\n",
       "      <th>supplier_lag4_precip_zipQuarter95</th>\n",
       "      <th>supplier_lag4_temp_zipWeek50</th>\n",
       "      <th>supplier_lag4_temp_zipWeek95</th>\n",
       "      <th>supplier_lag4_precip_zipWeek50</th>\n",
       "      <th>supplier_lag4_precip_zipWeek95</th>\n",
       "      <th>supplier_lag4_days90Plus</th>\n",
       "      <th>supplier_lag4_streak90Plus</th>\n",
       "    </tr>\n",
       "  </thead>\n",
       "  <tbody>\n",
       "    <tr>\n",
       "      <th>0</th>\n",
       "      <td>01001</td>\n",
       "      <td>2001</td>\n",
       "      <td>1</td>\n",
       "      <td>12.0</td>\n",
       "      <td>3.0</td>\n",
       "      <td>0.0</td>\n",
       "      <td>35.0</td>\n",
       "      <td>5.0</td>\n",
       "      <td>2.0</td>\n",
       "      <td>35.0</td>\n",
       "      <td>...</td>\n",
       "      <td>1</td>\n",
       "      <td>0</td>\n",
       "      <td>0</td>\n",
       "      <td>0</td>\n",
       "      <td>8</td>\n",
       "      <td>2</td>\n",
       "      <td>8</td>\n",
       "      <td>0</td>\n",
       "      <td>0</td>\n",
       "      <td>0</td>\n",
       "    </tr>\n",
       "    <tr>\n",
       "      <th>1</th>\n",
       "      <td>01001</td>\n",
       "      <td>2002</td>\n",
       "      <td>1</td>\n",
       "      <td>13.0</td>\n",
       "      <td>2.0</td>\n",
       "      <td>0.0</td>\n",
       "      <td>34.0</td>\n",
       "      <td>3.0</td>\n",
       "      <td>0.0</td>\n",
       "      <td>34.0</td>\n",
       "      <td>...</td>\n",
       "      <td>0</td>\n",
       "      <td>0</td>\n",
       "      <td>0</td>\n",
       "      <td>0</td>\n",
       "      <td>5</td>\n",
       "      <td>0</td>\n",
       "      <td>7</td>\n",
       "      <td>2</td>\n",
       "      <td>0</td>\n",
       "      <td>0</td>\n",
       "    </tr>\n",
       "    <tr>\n",
       "      <th>2</th>\n",
       "      <td>01001</td>\n",
       "      <td>2003</td>\n",
       "      <td>1</td>\n",
       "      <td>13.0</td>\n",
       "      <td>4.0</td>\n",
       "      <td>0.0</td>\n",
       "      <td>34.0</td>\n",
       "      <td>7.0</td>\n",
       "      <td>2.0</td>\n",
       "      <td>34.0</td>\n",
       "      <td>...</td>\n",
       "      <td>1</td>\n",
       "      <td>1</td>\n",
       "      <td>0</td>\n",
       "      <td>0</td>\n",
       "      <td>10</td>\n",
       "      <td>3</td>\n",
       "      <td>6</td>\n",
       "      <td>0</td>\n",
       "      <td>0</td>\n",
       "      <td>0</td>\n",
       "    </tr>\n",
       "    <tr>\n",
       "      <th>3</th>\n",
       "      <td>01001</td>\n",
       "      <td>2004</td>\n",
       "      <td>1</td>\n",
       "      <td>8.0</td>\n",
       "      <td>1.0</td>\n",
       "      <td>0.0</td>\n",
       "      <td>34.0</td>\n",
       "      <td>1.0</td>\n",
       "      <td>0.0</td>\n",
       "      <td>34.0</td>\n",
       "      <td>...</td>\n",
       "      <td>0</td>\n",
       "      <td>0</td>\n",
       "      <td>0</td>\n",
       "      <td>0</td>\n",
       "      <td>4</td>\n",
       "      <td>1</td>\n",
       "      <td>6</td>\n",
       "      <td>2</td>\n",
       "      <td>0</td>\n",
       "      <td>0</td>\n",
       "    </tr>\n",
       "    <tr>\n",
       "      <th>4</th>\n",
       "      <td>01001</td>\n",
       "      <td>2005</td>\n",
       "      <td>1</td>\n",
       "      <td>20.0</td>\n",
       "      <td>1.0</td>\n",
       "      <td>1.0</td>\n",
       "      <td>35.0</td>\n",
       "      <td>4.0</td>\n",
       "      <td>1.0</td>\n",
       "      <td>35.0</td>\n",
       "      <td>...</td>\n",
       "      <td>0</td>\n",
       "      <td>0</td>\n",
       "      <td>0</td>\n",
       "      <td>0</td>\n",
       "      <td>5</td>\n",
       "      <td>1</td>\n",
       "      <td>4</td>\n",
       "      <td>1</td>\n",
       "      <td>0</td>\n",
       "      <td>0</td>\n",
       "    </tr>\n",
       "  </tbody>\n",
       "</table>\n",
       "<p>5 rows × 164 columns</p>\n",
       "</div>"
      ],
      "text/plain": [
       "  supplier_zipcode  year qtr  supplier_precip_annual_50  \\\n",
       "0            01001  2001   1                       12.0   \n",
       "1            01001  2002   1                       13.0   \n",
       "2            01001  2003   1                       13.0   \n",
       "3            01001  2004   1                        8.0   \n",
       "4            01001  2005   1                       20.0   \n",
       "\n",
       "   supplier_precip_annual_95  supplier_precip_annual_99  \\\n",
       "0                        3.0                        0.0   \n",
       "1                        2.0                        0.0   \n",
       "2                        4.0                        0.0   \n",
       "3                        1.0                        0.0   \n",
       "4                        1.0                        1.0   \n",
       "\n",
       "   supplier_precip_zip_50  supplier_precip_zip_95  supplier_precip_zip_99  \\\n",
       "0                    35.0                     5.0                     2.0   \n",
       "1                    34.0                     3.0                     0.0   \n",
       "2                    34.0                     7.0                     2.0   \n",
       "3                    34.0                     1.0                     0.0   \n",
       "4                    35.0                     4.0                     1.0   \n",
       "\n",
       "   supplier_precip_zipQuarter_50  ...  supplier_lag4_temp_zipQuarter50  \\\n",
       "0                           35.0  ...                                1   \n",
       "1                           34.0  ...                                0   \n",
       "2                           34.0  ...                                1   \n",
       "3                           34.0  ...                                0   \n",
       "4                           35.0  ...                                0   \n",
       "\n",
       "   supplier_lag4_temp_zipQuarter95  supplier_lag4_precip_zipQuarter50  \\\n",
       "0                                0                                  0   \n",
       "1                                0                                  0   \n",
       "2                                1                                  0   \n",
       "3                                0                                  0   \n",
       "4                                0                                  0   \n",
       "\n",
       "   supplier_lag4_precip_zipQuarter95  supplier_lag4_temp_zipWeek50  \\\n",
       "0                                  0                             8   \n",
       "1                                  0                             5   \n",
       "2                                  0                            10   \n",
       "3                                  0                             4   \n",
       "4                                  0                             5   \n",
       "\n",
       "   supplier_lag4_temp_zipWeek95  supplier_lag4_precip_zipWeek50  \\\n",
       "0                             2                               8   \n",
       "1                             0                               7   \n",
       "2                             3                               6   \n",
       "3                             1                               6   \n",
       "4                             1                               4   \n",
       "\n",
       "   supplier_lag4_precip_zipWeek95  supplier_lag4_days90Plus  \\\n",
       "0                               0                         0   \n",
       "1                               2                         0   \n",
       "2                               0                         0   \n",
       "3                               2                         0   \n",
       "4                               1                         0   \n",
       "\n",
       "   supplier_lag4_streak90Plus  \n",
       "0                           0  \n",
       "1                           0  \n",
       "2                           0  \n",
       "3                           0  \n",
       "4                           0  \n",
       "\n",
       "[5 rows x 164 columns]"
      ]
     },
     "execution_count": 380,
     "metadata": {},
     "output_type": "execute_result"
    }
   ],
   "source": [
    "allSupplierWeather = allWeather_withLags.merge(averages).\\\n",
    "    merge(thunderstorms_withLags).merge(thunderstorms_withLags).merge(allWeather_withLags2)\n",
    "\n",
    "# merge(g).streaks_withLags.\n",
    "\n",
    "for colname in allSupplierWeather.columns[3:]:\n",
    "    allSupplierWeather.rename(columns = {colname: 'supplier_' + colname}, inplace = True)\n",
    "\n",
    "allSupplierWeather.rename(columns = {'zipcode': 'supplier_zipcode'}, inplace = True)\n",
    "allSupplierWeather['supplier_zipcode']     = allSupplierWeather.supplier_zipcode.astype('str').str.zfill(5)\n",
    "\n",
    "allSupplierWeather.head()"
   ]
  },
  {
   "cell_type": "code",
   "execution_count": 381,
   "metadata": {},
   "outputs": [],
   "source": [
    "c_linksMerge4 = c_linksMerge4[c_linksMerge4.supplier_zipcode.isin(allSupplierWeather.supplier_zipcode)]"
   ]
  },
  {
   "cell_type": "markdown",
   "metadata": {},
   "source": [
    "Now find the largest supplier for each customer."
   ]
  },
  {
   "cell_type": "code",
   "execution_count": 382,
   "metadata": {},
   "outputs": [
    {
     "name": "stdout",
     "output_type": "stream",
     "text": [
      "(58659, 23)\n",
      "(7250, 23)\n",
      "(17470, 23)\n"
     ]
    }
   ],
   "source": [
    "idx = c_linksMerge4.groupby(['year','customer_gvkey']).salecs.\\\n",
    "    transform(max) == c_linksMerge4.salecs\n",
    "largestSuppliers_more500k = c_linksMerge4[idx].reset_index(drop = True)\n",
    "print(c_linksMerge4.shape)\n",
    "\n",
    "# find companies who only have one other supplier\n",
    "singleSuppliers_more500k = c_linksMerge4[c_linksMerge4.totalSuppliers == 1].reset_index(drop = True)\n",
    "print(singleSuppliers_more500k.shape)\n",
    "\n",
    "# find largest suppliers of different companies\n",
    "largestSuppliers_more500k = largestSuppliers_more500k.append(singleSuppliers_more500k).drop_duplicates()\n",
    "print(largestSuppliers_more500k.shape)\n"
   ]
  },
  {
   "cell_type": "code",
   "execution_count": 383,
   "metadata": {},
   "outputs": [
    {
     "data": {
      "text/plain": [
       "(14619, 2)"
      ]
     },
     "execution_count": 383,
     "metadata": {},
     "output_type": "execute_result"
    }
   ],
   "source": [
    "largestSuppliers_more500k[['year','customer_gvkey']].drop_duplicates().shape"
   ]
  },
  {
   "cell_type": "markdown",
   "metadata": {},
   "source": [
    "There seem to be a number of ties here, maybe from the companies that had only na values. To get around this, just sample one of each observation by company-group."
   ]
  },
  {
   "cell_type": "code",
   "execution_count": 384,
   "metadata": {},
   "outputs": [],
   "source": [
    "randomSample = largestSuppliers_more500k.groupby(['year','customer_gvkey']).\\\n",
    "    apply(lambda x: x.sample(1)).reset_index(drop=True)"
   ]
  },
  {
   "cell_type": "code",
   "execution_count": 385,
   "metadata": {},
   "outputs": [
    {
     "data": {
      "text/html": [
       "<div>\n",
       "<style scoped>\n",
       "    .dataframe tbody tr th:only-of-type {\n",
       "        vertical-align: middle;\n",
       "    }\n",
       "\n",
       "    .dataframe tbody tr th {\n",
       "        vertical-align: top;\n",
       "    }\n",
       "\n",
       "    .dataframe thead th {\n",
       "        text-align: right;\n",
       "    }\n",
       "</style>\n",
       "<table border=\"1\" class=\"dataframe\">\n",
       "  <thead>\n",
       "    <tr style=\"text-align: right;\">\n",
       "      <th></th>\n",
       "      <th>year</th>\n",
       "      <th>supplier_gvkey</th>\n",
       "      <th>customer_gvkey</th>\n",
       "      <th>salecs</th>\n",
       "      <th>firstYear</th>\n",
       "      <th>lastYear</th>\n",
       "      <th>customer_ind</th>\n",
       "      <th>supplier_ind</th>\n",
       "      <th>customer_cstatCompanies</th>\n",
       "      <th>customer_igCompanies</th>\n",
       "      <th>...</th>\n",
       "      <th>supplier_abi</th>\n",
       "      <th>customer_latitude</th>\n",
       "      <th>customer_longitude</th>\n",
       "      <th>customer_zipcode</th>\n",
       "      <th>supplier_latitude</th>\n",
       "      <th>supplier_longitude</th>\n",
       "      <th>supplier_zipcode</th>\n",
       "      <th>dist</th>\n",
       "      <th>totalSuppliers</th>\n",
       "      <th>meanSales</th>\n",
       "    </tr>\n",
       "  </thead>\n",
       "  <tbody>\n",
       "    <tr>\n",
       "      <th>0</th>\n",
       "      <td>1997-01-01</td>\n",
       "      <td>112874.0</td>\n",
       "      <td>1013.0</td>\n",
       "      <td>23.366</td>\n",
       "      <td>2000-01-01</td>\n",
       "      <td>2000-01-01</td>\n",
       "      <td>manu</td>\n",
       "      <td>manu</td>\n",
       "      <td>adc telecommunications</td>\n",
       "      <td>adc telecommunications</td>\n",
       "      <td>...</td>\n",
       "      <td>465227874</td>\n",
       "      <td>44.98311</td>\n",
       "      <td>-93.26507</td>\n",
       "      <td>55440</td>\n",
       "      <td>40.02642</td>\n",
       "      <td>-105.22828</td>\n",
       "      <td>80301</td>\n",
       "      <td>1125</td>\n",
       "      <td>2</td>\n",
       "      <td>14.2200</td>\n",
       "    </tr>\n",
       "    <tr>\n",
       "      <th>1</th>\n",
       "      <td>1997-01-01</td>\n",
       "      <td>148363.0</td>\n",
       "      <td>1045.0</td>\n",
       "      <td>78.779</td>\n",
       "      <td>2000-01-01</td>\n",
       "      <td>2002-01-01</td>\n",
       "      <td>transportUtilities</td>\n",
       "      <td>transportUtilities</td>\n",
       "      <td>american airlines</td>\n",
       "      <td>american airlines</td>\n",
       "      <td>...</td>\n",
       "      <td>998571673</td>\n",
       "      <td>32.88270</td>\n",
       "      <td>-97.03714</td>\n",
       "      <td>75261</td>\n",
       "      <td>32.89982</td>\n",
       "      <td>-96.97439</td>\n",
       "      <td>75063</td>\n",
       "      <td>6</td>\n",
       "      <td>5</td>\n",
       "      <td>25.6436</td>\n",
       "    </tr>\n",
       "    <tr>\n",
       "      <th>2</th>\n",
       "      <td>1997-01-01</td>\n",
       "      <td>24971.0</td>\n",
       "      <td>1078.0</td>\n",
       "      <td>45.927</td>\n",
       "      <td>2000-01-01</td>\n",
       "      <td>2002-01-01</td>\n",
       "      <td>manu</td>\n",
       "      <td>manu</td>\n",
       "      <td>abbott laboratories</td>\n",
       "      <td>abbott laboratories</td>\n",
       "      <td>...</td>\n",
       "      <td>849323969</td>\n",
       "      <td>42.30222</td>\n",
       "      <td>-87.89119</td>\n",
       "      <td>60064</td>\n",
       "      <td>40.35536</td>\n",
       "      <td>-74.59647</td>\n",
       "      <td>08540</td>\n",
       "      <td>1132</td>\n",
       "      <td>5</td>\n",
       "      <td>13.7376</td>\n",
       "    </tr>\n",
       "    <tr>\n",
       "      <th>3</th>\n",
       "      <td>1997-01-01</td>\n",
       "      <td>63607.0</td>\n",
       "      <td>1121.0</td>\n",
       "      <td>40.578</td>\n",
       "      <td>2000-01-01</td>\n",
       "      <td>2003-01-01</td>\n",
       "      <td>wholesale</td>\n",
       "      <td>mining</td>\n",
       "      <td>adams resources   energy</td>\n",
       "      <td>adams resources   energy</td>\n",
       "      <td>...</td>\n",
       "      <td>860908169</td>\n",
       "      <td>29.75807</td>\n",
       "      <td>-95.36145</td>\n",
       "      <td>77001</td>\n",
       "      <td>29.75765</td>\n",
       "      <td>-95.36883</td>\n",
       "      <td>77002</td>\n",
       "      <td>0</td>\n",
       "      <td>2</td>\n",
       "      <td>24.2305</td>\n",
       "    </tr>\n",
       "    <tr>\n",
       "      <th>4</th>\n",
       "      <td>1997-01-01</td>\n",
       "      <td>8934.0</td>\n",
       "      <td>1161.0</td>\n",
       "      <td>0.802</td>\n",
       "      <td>2000-01-01</td>\n",
       "      <td>2001-01-01</td>\n",
       "      <td>manu</td>\n",
       "      <td>manu</td>\n",
       "      <td>advanced micro devices</td>\n",
       "      <td>advanced micro devices</td>\n",
       "      <td>...</td>\n",
       "      <td>463446112</td>\n",
       "      <td>37.39239</td>\n",
       "      <td>-122.03870</td>\n",
       "      <td>94088</td>\n",
       "      <td>33.85917</td>\n",
       "      <td>-117.89824</td>\n",
       "      <td>92831</td>\n",
       "      <td>542</td>\n",
       "      <td>2</td>\n",
       "      <td>0.8020</td>\n",
       "    </tr>\n",
       "  </tbody>\n",
       "</table>\n",
       "<p>5 rows × 23 columns</p>\n",
       "</div>"
      ],
      "text/plain": [
       "        year  supplier_gvkey  customer_gvkey  salecs  firstYear   lastYear  \\\n",
       "0 1997-01-01        112874.0          1013.0  23.366 2000-01-01 2000-01-01   \n",
       "1 1997-01-01        148363.0          1045.0  78.779 2000-01-01 2002-01-01   \n",
       "2 1997-01-01         24971.0          1078.0  45.927 2000-01-01 2002-01-01   \n",
       "3 1997-01-01         63607.0          1121.0  40.578 2000-01-01 2003-01-01   \n",
       "4 1997-01-01          8934.0          1161.0   0.802 2000-01-01 2001-01-01   \n",
       "\n",
       "         customer_ind        supplier_ind   customer_cstatCompanies  \\\n",
       "0                manu                manu    adc telecommunications   \n",
       "1  transportUtilities  transportUtilities        american airlines    \n",
       "2                manu                manu       abbott laboratories   \n",
       "3           wholesale              mining  adams resources   energy   \n",
       "4                manu                manu    advanced micro devices   \n",
       "\n",
       "       customer_igCompanies  ...  supplier_abi customer_latitude  \\\n",
       "0    adc telecommunications  ...     465227874          44.98311   \n",
       "1        american airlines   ...     998571673          32.88270   \n",
       "2       abbott laboratories  ...     849323969          42.30222   \n",
       "3  adams resources   energy  ...     860908169          29.75807   \n",
       "4    advanced micro devices  ...     463446112          37.39239   \n",
       "\n",
       "  customer_longitude  customer_zipcode  supplier_latitude  supplier_longitude  \\\n",
       "0          -93.26507             55440           40.02642          -105.22828   \n",
       "1          -97.03714             75261           32.89982           -96.97439   \n",
       "2          -87.89119             60064           40.35536           -74.59647   \n",
       "3          -95.36145             77001           29.75765           -95.36883   \n",
       "4         -122.03870             94088           33.85917          -117.89824   \n",
       "\n",
       "  supplier_zipcode  dist  totalSuppliers meanSales  \n",
       "0            80301  1125               2   14.2200  \n",
       "1            75063     6               5   25.6436  \n",
       "2            08540  1132               5   13.7376  \n",
       "3            77002     0               2   24.2305  \n",
       "4            92831   542               2    0.8020  \n",
       "\n",
       "[5 rows x 23 columns]"
      ]
     },
     "execution_count": 385,
     "metadata": {},
     "output_type": "execute_result"
    }
   ],
   "source": [
    "randomSample.head()"
   ]
  },
  {
   "cell_type": "code",
   "execution_count": 386,
   "metadata": {},
   "outputs": [
    {
     "data": {
      "text/plain": [
       "2001"
      ]
     },
     "execution_count": 386,
     "metadata": {},
     "output_type": "execute_result"
    }
   ],
   "source": [
    "allSupplierWeather.year.astype('int').min()"
   ]
  },
  {
   "cell_type": "code",
   "execution_count": 387,
   "metadata": {},
   "outputs": [
    {
     "data": {
      "text/plain": [
       "(14619, 23)"
      ]
     },
     "execution_count": 387,
     "metadata": {},
     "output_type": "execute_result"
    }
   ],
   "source": [
    "randomSample.shape"
   ]
  },
  {
   "cell_type": "code",
   "execution_count": 388,
   "metadata": {},
   "outputs": [],
   "source": [
    "allSupplierWeather['year'] = allSupplierWeather.year.astype('str').str.slice(0,4).astype('int64')\n",
    "randomSample['year']       = randomSample.year.astype('str').str.slice(0,4).astype('int64')"
   ]
  },
  {
   "cell_type": "markdown",
   "metadata": {},
   "source": [
    "Join this in."
   ]
  },
  {
   "cell_type": "code",
   "execution_count": 389,
   "metadata": {},
   "outputs": [
    {
     "name": "stdout",
     "output_type": "stream",
     "text": [
      "Index(['customer_gvkey', 'year', 'qtr', 'companyName', 'curcdq', 'assets',\n",
      "       'cash', 'costGoodsSold', 'totalInv', 'netIncome', 'opInc_afDep',\n",
      "       'opInc_befDep', 'totalRevenue', 'costat', 'priceClose', 'add1',\n",
      "       'addzip', 'city', 'state', 'assetsLast', 'netIncomeLast',\n",
      "       'totalRevenueLast', 'costGoodsSoldLast', 'totalInvLast',\n",
      "       'opInc_afDepLast', 'opInc_befDepLast', 'priceCloseLast', 'cashLast',\n",
      "       'fyearq', 'assetsLagged', 'netIncomeLagged', 'roa_lagged', 'sic2',\n",
      "       'indGroup', 'earliestYear', 'ageTercile', 'sizeTercile',\n",
      "       'profitTercile', 'datacqtr', 'datafqtr', 'fyr', 'DATE'],\n",
      "      dtype='object')\n"
     ]
    }
   ],
   "source": [
    "compustat = pd.read_csv(\"../../data/companyData/compustatChanges_withControls.csv\").\\\n",
    "    drop(columns = ['Unnamed: 0', 'datadate']).rename(columns = {'gvkey': 'customer_gvkey'})\n",
    "\n",
    "\n",
    "print(compustat.columns)"
   ]
  },
  {
   "cell_type": "markdown",
   "metadata": {},
   "source": [
    "We are losing some observations, but it seems like we're losing them because we don't have calendar quarters aligning with firm quarters."
   ]
  },
  {
   "cell_type": "code",
   "execution_count": 390,
   "metadata": {},
   "outputs": [
    {
     "data": {
      "text/plain": [
       "0.8163349066283604"
      ]
     },
     "execution_count": 390,
     "metadata": {},
     "output_type": "execute_result"
    }
   ],
   "source": [
    "randomSample.customer_gvkey.isin(compustat.customer_gvkey).sum()/randomSample.shape[0]"
   ]
  },
  {
   "cell_type": "code",
   "execution_count": 391,
   "metadata": {},
   "outputs": [
    {
     "data": {
      "text/plain": [
       "(14619, 23)"
      ]
     },
     "execution_count": 391,
     "metadata": {},
     "output_type": "execute_result"
    }
   ],
   "source": [
    "randomSample.shape"
   ]
  },
  {
   "cell_type": "code",
   "execution_count": 392,
   "metadata": {},
   "outputs": [
    {
     "name": "stdout",
     "output_type": "stream",
     "text": [
      "(35367, 63)\n"
     ]
    },
    {
     "data": {
      "text/html": [
       "<div>\n",
       "<style scoped>\n",
       "    .dataframe tbody tr th:only-of-type {\n",
       "        vertical-align: middle;\n",
       "    }\n",
       "\n",
       "    .dataframe tbody tr th {\n",
       "        vertical-align: top;\n",
       "    }\n",
       "\n",
       "    .dataframe thead th {\n",
       "        text-align: right;\n",
       "    }\n",
       "</style>\n",
       "<table border=\"1\" class=\"dataframe\">\n",
       "  <thead>\n",
       "    <tr style=\"text-align: right;\">\n",
       "      <th></th>\n",
       "      <th>year</th>\n",
       "      <th>supplier_gvkey</th>\n",
       "      <th>customer_gvkey</th>\n",
       "      <th>salecs</th>\n",
       "      <th>firstYear</th>\n",
       "      <th>lastYear</th>\n",
       "      <th>customer_ind</th>\n",
       "      <th>supplier_ind</th>\n",
       "      <th>customer_cstatCompanies</th>\n",
       "      <th>customer_igCompanies</th>\n",
       "      <th>...</th>\n",
       "      <th>sic2</th>\n",
       "      <th>indGroup</th>\n",
       "      <th>earliestYear</th>\n",
       "      <th>ageTercile</th>\n",
       "      <th>sizeTercile</th>\n",
       "      <th>profitTercile</th>\n",
       "      <th>datacqtr</th>\n",
       "      <th>datafqtr</th>\n",
       "      <th>fyr</th>\n",
       "      <th>DATE</th>\n",
       "    </tr>\n",
       "  </thead>\n",
       "  <tbody>\n",
       "    <tr>\n",
       "      <th>0</th>\n",
       "      <td>2000</td>\n",
       "      <td>147639.0</td>\n",
       "      <td>1045.0</td>\n",
       "      <td>95.476</td>\n",
       "      <td>2003-01-01</td>\n",
       "      <td>2008-01-01</td>\n",
       "      <td>transportUtilities</td>\n",
       "      <td>transportUtilities</td>\n",
       "      <td>american airlines</td>\n",
       "      <td>american airlines</td>\n",
       "      <td>...</td>\n",
       "      <td>45</td>\n",
       "      <td>transportUtilities</td>\n",
       "      <td>1963</td>\n",
       "      <td>0</td>\n",
       "      <td>2.0</td>\n",
       "      <td>2.0</td>\n",
       "      <td>2000Q1</td>\n",
       "      <td>2000Q1</td>\n",
       "      <td>12</td>\n",
       "      <td>1970-01-01 00:00:00.020000331</td>\n",
       "    </tr>\n",
       "    <tr>\n",
       "      <th>1</th>\n",
       "      <td>2000</td>\n",
       "      <td>147639.0</td>\n",
       "      <td>1045.0</td>\n",
       "      <td>95.476</td>\n",
       "      <td>2003-01-01</td>\n",
       "      <td>2008-01-01</td>\n",
       "      <td>transportUtilities</td>\n",
       "      <td>transportUtilities</td>\n",
       "      <td>american airlines</td>\n",
       "      <td>american airlines</td>\n",
       "      <td>...</td>\n",
       "      <td>45</td>\n",
       "      <td>transportUtilities</td>\n",
       "      <td>1963</td>\n",
       "      <td>0</td>\n",
       "      <td>2.0</td>\n",
       "      <td>2.0</td>\n",
       "      <td>2000Q2</td>\n",
       "      <td>2000Q2</td>\n",
       "      <td>12</td>\n",
       "      <td>1970-01-01 00:00:00.020000630</td>\n",
       "    </tr>\n",
       "    <tr>\n",
       "      <th>2</th>\n",
       "      <td>2000</td>\n",
       "      <td>147639.0</td>\n",
       "      <td>1045.0</td>\n",
       "      <td>95.476</td>\n",
       "      <td>2003-01-01</td>\n",
       "      <td>2008-01-01</td>\n",
       "      <td>transportUtilities</td>\n",
       "      <td>transportUtilities</td>\n",
       "      <td>american airlines</td>\n",
       "      <td>american airlines</td>\n",
       "      <td>...</td>\n",
       "      <td>45</td>\n",
       "      <td>transportUtilities</td>\n",
       "      <td>1963</td>\n",
       "      <td>0</td>\n",
       "      <td>2.0</td>\n",
       "      <td>2.0</td>\n",
       "      <td>2000Q3</td>\n",
       "      <td>2000Q3</td>\n",
       "      <td>12</td>\n",
       "      <td>1970-01-01 00:00:00.020000930</td>\n",
       "    </tr>\n",
       "    <tr>\n",
       "      <th>3</th>\n",
       "      <td>2000</td>\n",
       "      <td>147639.0</td>\n",
       "      <td>1045.0</td>\n",
       "      <td>95.476</td>\n",
       "      <td>2003-01-01</td>\n",
       "      <td>2008-01-01</td>\n",
       "      <td>transportUtilities</td>\n",
       "      <td>transportUtilities</td>\n",
       "      <td>american airlines</td>\n",
       "      <td>american airlines</td>\n",
       "      <td>...</td>\n",
       "      <td>45</td>\n",
       "      <td>transportUtilities</td>\n",
       "      <td>1963</td>\n",
       "      <td>0</td>\n",
       "      <td>2.0</td>\n",
       "      <td>1.0</td>\n",
       "      <td>2000Q4</td>\n",
       "      <td>2000Q4</td>\n",
       "      <td>12</td>\n",
       "      <td>1970-01-01 00:00:00.020001231</td>\n",
       "    </tr>\n",
       "    <tr>\n",
       "      <th>4</th>\n",
       "      <td>2000</td>\n",
       "      <td>160255.0</td>\n",
       "      <td>1078.0</td>\n",
       "      <td>160.000</td>\n",
       "      <td>2002-01-01</td>\n",
       "      <td>2004-01-01</td>\n",
       "      <td>manu</td>\n",
       "      <td>manu</td>\n",
       "      <td>abbott laboratories</td>\n",
       "      <td>abbott laboratories</td>\n",
       "      <td>...</td>\n",
       "      <td>38</td>\n",
       "      <td>manu</td>\n",
       "      <td>1962</td>\n",
       "      <td>0</td>\n",
       "      <td>2.0</td>\n",
       "      <td>2.0</td>\n",
       "      <td>2000Q1</td>\n",
       "      <td>2000Q1</td>\n",
       "      <td>12</td>\n",
       "      <td>1970-01-01 00:00:00.020000331</td>\n",
       "    </tr>\n",
       "  </tbody>\n",
       "</table>\n",
       "<p>5 rows × 63 columns</p>\n",
       "</div>"
      ],
      "text/plain": [
       "   year  supplier_gvkey  customer_gvkey   salecs  firstYear   lastYear  \\\n",
       "0  2000        147639.0          1045.0   95.476 2003-01-01 2008-01-01   \n",
       "1  2000        147639.0          1045.0   95.476 2003-01-01 2008-01-01   \n",
       "2  2000        147639.0          1045.0   95.476 2003-01-01 2008-01-01   \n",
       "3  2000        147639.0          1045.0   95.476 2003-01-01 2008-01-01   \n",
       "4  2000        160255.0          1078.0  160.000 2002-01-01 2004-01-01   \n",
       "\n",
       "         customer_ind        supplier_ind customer_cstatCompanies  \\\n",
       "0  transportUtilities  transportUtilities      american airlines    \n",
       "1  transportUtilities  transportUtilities      american airlines    \n",
       "2  transportUtilities  transportUtilities      american airlines    \n",
       "3  transportUtilities  transportUtilities      american airlines    \n",
       "4                manu                manu     abbott laboratories   \n",
       "\n",
       "  customer_igCompanies  ...  sic2            indGroup earliestYear  \\\n",
       "0   american airlines   ...    45  transportUtilities         1963   \n",
       "1   american airlines   ...    45  transportUtilities         1963   \n",
       "2   american airlines   ...    45  transportUtilities         1963   \n",
       "3   american airlines   ...    45  transportUtilities         1963   \n",
       "4  abbott laboratories  ...    38                manu         1962   \n",
       "\n",
       "   ageTercile  sizeTercile  profitTercile datacqtr  datafqtr  fyr  \\\n",
       "0           0          2.0            2.0   2000Q1    2000Q1   12   \n",
       "1           0          2.0            2.0   2000Q2    2000Q2   12   \n",
       "2           0          2.0            2.0   2000Q3    2000Q3   12   \n",
       "3           0          2.0            1.0   2000Q4    2000Q4   12   \n",
       "4           0          2.0            2.0   2000Q1    2000Q1   12   \n",
       "\n",
       "                            DATE  \n",
       "0  1970-01-01 00:00:00.020000331  \n",
       "1  1970-01-01 00:00:00.020000630  \n",
       "2  1970-01-01 00:00:00.020000930  \n",
       "3  1970-01-01 00:00:00.020001231  \n",
       "4  1970-01-01 00:00:00.020000331  \n",
       "\n",
       "[5 rows x 63 columns]"
      ]
     },
     "execution_count": 392,
     "metadata": {},
     "output_type": "execute_result"
    }
   ],
   "source": [
    "compustat = randomSample.merge(compustat)\n",
    "print(compustat.shape)\n",
    "\n",
    "\n",
    "compustat.head()"
   ]
  },
  {
   "cell_type": "markdown",
   "metadata": {},
   "source": [
    "See what fraction of all samples we would expect to take."
   ]
  },
  {
   "cell_type": "code",
   "execution_count": 393,
   "metadata": {},
   "outputs": [
    {
     "data": {
      "text/plain": [
       "0.6048122306587318"
      ]
     },
     "execution_count": 393,
     "metadata": {},
     "output_type": "execute_result"
    }
   ],
   "source": [
    "compustat.shape[0]/(randomSample.shape[0]*4)"
   ]
  },
  {
   "cell_type": "code",
   "execution_count": 394,
   "metadata": {},
   "outputs": [
    {
     "data": {
      "text/plain": [
       "(35367, 63)"
      ]
     },
     "execution_count": 394,
     "metadata": {},
     "output_type": "execute_result"
    }
   ],
   "source": [
    "compustat.shape"
   ]
  },
  {
   "cell_type": "code",
   "execution_count": 395,
   "metadata": {},
   "outputs": [
    {
     "data": {
      "text/plain": [
       "Index(['supplier_zipcode', 'year', 'qtr', 'supplier_precip_annual_50',\n",
       "       'supplier_precip_annual_95', 'supplier_precip_annual_99',\n",
       "       'supplier_precip_zip_50', 'supplier_precip_zip_95',\n",
       "       'supplier_precip_zip_99', 'supplier_precip_zipQuarter_50',\n",
       "       ...\n",
       "       'supplier_lag4_temp_zipQuarter50', 'supplier_lag4_temp_zipQuarter95',\n",
       "       'supplier_lag4_precip_zipQuarter50',\n",
       "       'supplier_lag4_precip_zipQuarter95', 'supplier_lag4_temp_zipWeek50',\n",
       "       'supplier_lag4_temp_zipWeek95', 'supplier_lag4_precip_zipWeek50',\n",
       "       'supplier_lag4_precip_zipWeek95', 'supplier_lag4_days90Plus',\n",
       "       'supplier_lag4_streak90Plus'],\n",
       "      dtype='object', length=164)"
      ]
     },
     "execution_count": 395,
     "metadata": {},
     "output_type": "execute_result"
    }
   ],
   "source": [
    "allSupplierWeather.columns"
   ]
  },
  {
   "cell_type": "code",
   "execution_count": 396,
   "metadata": {},
   "outputs": [],
   "source": [
    "largestSuppliersWithWeather = compustat.merge(allSupplierWeather)"
   ]
  },
  {
   "cell_type": "code",
   "execution_count": 397,
   "metadata": {},
   "outputs": [
    {
     "data": {
      "text/plain": [
       "Index(['year', 'supplier_gvkey', 'customer_gvkey', 'salecs', 'firstYear',\n",
       "       'lastYear', 'customer_ind', 'supplier_ind', 'customer_cstatCompanies',\n",
       "       'customer_igCompanies', 'customer_abi', 'supplier_cstatCompanies',\n",
       "       'supplier_igCompanies', 'supplier_abi', 'customer_latitude',\n",
       "       'customer_longitude', 'customer_zipcode', 'supplier_latitude',\n",
       "       'supplier_longitude', 'supplier_zipcode', 'dist', 'totalSuppliers',\n",
       "       'meanSales', 'qtr', 'companyName', 'curcdq', 'assets', 'cash',\n",
       "       'costGoodsSold', 'totalInv', 'netIncome', 'opInc_afDep', 'opInc_befDep',\n",
       "       'totalRevenue', 'costat', 'priceClose', 'add1', 'addzip', 'city',\n",
       "       'state', 'assetsLast', 'netIncomeLast', 'totalRevenueLast',\n",
       "       'costGoodsSoldLast', 'totalInvLast', 'opInc_afDepLast',\n",
       "       'opInc_befDepLast', 'priceCloseLast', 'cashLast', 'fyearq',\n",
       "       'assetsLagged', 'netIncomeLagged', 'roa_lagged', 'sic2', 'indGroup',\n",
       "       'earliestYear', 'ageTercile', 'sizeTercile', 'profitTercile',\n",
       "       'datacqtr', 'datafqtr', 'fyr', 'DATE', 'supplier_precip_annual_50',\n",
       "       'supplier_precip_annual_95', 'supplier_precip_annual_99',\n",
       "       'supplier_precip_zip_50', 'supplier_precip_zip_95',\n",
       "       'supplier_precip_zip_99', 'supplier_precip_zipQuarter_50',\n",
       "       'supplier_precip_zipQuarter_95', 'supplier_precip_zipQuarter_99',\n",
       "       'supplier_temp_annual_50', 'supplier_temp_annual_95',\n",
       "       'supplier_temp_annual_99', 'supplier_temp_zip_50',\n",
       "       'supplier_temp_zip_95', 'supplier_temp_zip_99',\n",
       "       'supplier_temp_zipQuarter_50', 'supplier_temp_zipQuarter_95',\n",
       "       'supplier_temp_zipQuarter_99', 'supplier_lag1_precip_annual_50',\n",
       "       'supplier_lag1_precip_annual_95', 'supplier_lag1_precip_annual_99',\n",
       "       'supplier_lag1_precip_zip_50', 'supplier_lag1_precip_zip_95',\n",
       "       'supplier_lag1_precip_zip_99', 'supplier_lag1_precip_zipQuarter_50',\n",
       "       'supplier_lag1_precip_zipQuarter_95',\n",
       "       'supplier_lag1_precip_zipQuarter_99', 'supplier_lag1_temp_annual_50',\n",
       "       'supplier_lag1_temp_annual_95', 'supplier_lag1_temp_annual_99',\n",
       "       'supplier_lag1_temp_zip_50', 'supplier_lag1_temp_zip_95',\n",
       "       'supplier_lag1_temp_zip_99', 'supplier_lag1_temp_zipQuarter_50',\n",
       "       'supplier_lag1_temp_zipQuarter_95', 'supplier_lag1_temp_zipQuarter_99',\n",
       "       'supplier_lag2_precip_annual_50'],\n",
       "      dtype='object')"
      ]
     },
     "execution_count": 397,
     "metadata": {},
     "output_type": "execute_result"
    }
   ],
   "source": [
    "largestSuppliersWithWeather.columns[0:100]"
   ]
  },
  {
   "cell_type": "markdown",
   "metadata": {},
   "source": [
    "Now put in the customer hq thing, so we can filter out customer-supplier pairs that are within x miles of each other."
   ]
  },
  {
   "cell_type": "code",
   "execution_count": 398,
   "metadata": {},
   "outputs": [],
   "source": [
    "largestSuppliersWithWeather.rename(columns = {'customer_gvkey': 'gvkey'}, inplace = True)"
   ]
  },
  {
   "cell_type": "code",
   "execution_count": 399,
   "metadata": {},
   "outputs": [],
   "source": [
    "largestSuppliersWithWeather.to_csv(\"../../data/companyData/largestSuppliersWithWeather_more500K.csv\")"
   ]
  },
  {
   "cell_type": "code",
   "execution_count": 349,
   "metadata": {},
   "outputs": [
    {
     "data": {
      "text/plain": [
       "(26440, 224)"
      ]
     },
     "execution_count": 349,
     "metadata": {},
     "output_type": "execute_result"
    }
   ],
   "source": [
    "largestSuppliersWithWeather.shape"
   ]
  },
  {
   "cell_type": "code",
   "execution_count": 109,
   "metadata": {},
   "outputs": [
    {
     "data": {
      "text/html": [
       "<div>\n",
       "<style scoped>\n",
       "    .dataframe tbody tr th:only-of-type {\n",
       "        vertical-align: middle;\n",
       "    }\n",
       "\n",
       "    .dataframe tbody tr th {\n",
       "        vertical-align: top;\n",
       "    }\n",
       "\n",
       "    .dataframe thead th {\n",
       "        text-align: right;\n",
       "    }\n",
       "</style>\n",
       "<table border=\"1\" class=\"dataframe\">\n",
       "  <thead>\n",
       "    <tr style=\"text-align: right;\">\n",
       "      <th></th>\n",
       "      <th>year</th>\n",
       "      <th>supplier_gvkey</th>\n",
       "      <th>gvkey</th>\n",
       "      <th>salecs</th>\n",
       "      <th>firstYear</th>\n",
       "      <th>lastYear</th>\n",
       "      <th>customer_ind</th>\n",
       "      <th>supplier_ind</th>\n",
       "      <th>customer_cstatCompanies</th>\n",
       "      <th>customer_igCompanies</th>\n",
       "      <th>...</th>\n",
       "      <th>supplier_lag4_temp_zipQuarter50</th>\n",
       "      <th>supplier_lag4_temp_zipQuarter95</th>\n",
       "      <th>supplier_lag4_precip_zipQuarter50</th>\n",
       "      <th>supplier_lag4_precip_zipQuarter95</th>\n",
       "      <th>supplier_lag4_temp_zipWeek50</th>\n",
       "      <th>supplier_lag4_temp_zipWeek95</th>\n",
       "      <th>supplier_lag4_precip_zipWeek50</th>\n",
       "      <th>supplier_lag4_precip_zipWeek95</th>\n",
       "      <th>supplier_lag4_days90Plus</th>\n",
       "      <th>supplier_lag4_streak90Plus</th>\n",
       "    </tr>\n",
       "  </thead>\n",
       "  <tbody>\n",
       "    <tr>\n",
       "      <th>0</th>\n",
       "      <td>2001</td>\n",
       "      <td>151161.0</td>\n",
       "      <td>1045.0</td>\n",
       "      <td>16.216</td>\n",
       "      <td>2000-01-01</td>\n",
       "      <td>2005-01-01</td>\n",
       "      <td>transportUtilities</td>\n",
       "      <td>manu</td>\n",
       "      <td>american airlines</td>\n",
       "      <td>american airlines</td>\n",
       "      <td>...</td>\n",
       "      <td>0</td>\n",
       "      <td>0</td>\n",
       "      <td>1</td>\n",
       "      <td>0</td>\n",
       "      <td>6</td>\n",
       "      <td>1</td>\n",
       "      <td>6</td>\n",
       "      <td>0</td>\n",
       "      <td>0</td>\n",
       "      <td>0</td>\n",
       "    </tr>\n",
       "    <tr>\n",
       "      <th>1</th>\n",
       "      <td>2001</td>\n",
       "      <td>151161.0</td>\n",
       "      <td>1045.0</td>\n",
       "      <td>16.216</td>\n",
       "      <td>2000-01-01</td>\n",
       "      <td>2005-01-01</td>\n",
       "      <td>transportUtilities</td>\n",
       "      <td>manu</td>\n",
       "      <td>american airlines</td>\n",
       "      <td>american airlines</td>\n",
       "      <td>...</td>\n",
       "      <td>1</td>\n",
       "      <td>0</td>\n",
       "      <td>1</td>\n",
       "      <td>0</td>\n",
       "      <td>11</td>\n",
       "      <td>1</td>\n",
       "      <td>3</td>\n",
       "      <td>2</td>\n",
       "      <td>1</td>\n",
       "      <td>0</td>\n",
       "    </tr>\n",
       "    <tr>\n",
       "      <th>2</th>\n",
       "      <td>2001</td>\n",
       "      <td>151161.0</td>\n",
       "      <td>1045.0</td>\n",
       "      <td>16.216</td>\n",
       "      <td>2000-01-01</td>\n",
       "      <td>2005-01-01</td>\n",
       "      <td>transportUtilities</td>\n",
       "      <td>manu</td>\n",
       "      <td>american airlines</td>\n",
       "      <td>american airlines</td>\n",
       "      <td>...</td>\n",
       "      <td>0</td>\n",
       "      <td>0</td>\n",
       "      <td>1</td>\n",
       "      <td>0</td>\n",
       "      <td>7</td>\n",
       "      <td>0</td>\n",
       "      <td>2</td>\n",
       "      <td>1</td>\n",
       "      <td>9</td>\n",
       "      <td>0</td>\n",
       "    </tr>\n",
       "    <tr>\n",
       "      <th>3</th>\n",
       "      <td>2001</td>\n",
       "      <td>151161.0</td>\n",
       "      <td>1045.0</td>\n",
       "      <td>16.216</td>\n",
       "      <td>2000-01-01</td>\n",
       "      <td>2005-01-01</td>\n",
       "      <td>transportUtilities</td>\n",
       "      <td>manu</td>\n",
       "      <td>american airlines</td>\n",
       "      <td>american airlines</td>\n",
       "      <td>...</td>\n",
       "      <td>0</td>\n",
       "      <td>0</td>\n",
       "      <td>0</td>\n",
       "      <td>0</td>\n",
       "      <td>5</td>\n",
       "      <td>0</td>\n",
       "      <td>3</td>\n",
       "      <td>1</td>\n",
       "      <td>0</td>\n",
       "      <td>0</td>\n",
       "    </tr>\n",
       "    <tr>\n",
       "      <th>4</th>\n",
       "      <td>2001</td>\n",
       "      <td>24971.0</td>\n",
       "      <td>1078.0</td>\n",
       "      <td>49.600</td>\n",
       "      <td>2000-01-01</td>\n",
       "      <td>2002-01-01</td>\n",
       "      <td>manu</td>\n",
       "      <td>manu</td>\n",
       "      <td>abbott laboratories</td>\n",
       "      <td>abbott laboratories</td>\n",
       "      <td>...</td>\n",
       "      <td>1</td>\n",
       "      <td>0</td>\n",
       "      <td>0</td>\n",
       "      <td>0</td>\n",
       "      <td>9</td>\n",
       "      <td>3</td>\n",
       "      <td>6</td>\n",
       "      <td>0</td>\n",
       "      <td>0</td>\n",
       "      <td>0</td>\n",
       "    </tr>\n",
       "  </tbody>\n",
       "</table>\n",
       "<p>5 rows × 224 columns</p>\n",
       "</div>"
      ],
      "text/plain": [
       "   year  supplier_gvkey   gvkey  salecs  firstYear   lastYear  \\\n",
       "0  2001        151161.0  1045.0  16.216 2000-01-01 2005-01-01   \n",
       "1  2001        151161.0  1045.0  16.216 2000-01-01 2005-01-01   \n",
       "2  2001        151161.0  1045.0  16.216 2000-01-01 2005-01-01   \n",
       "3  2001        151161.0  1045.0  16.216 2000-01-01 2005-01-01   \n",
       "4  2001         24971.0  1078.0  49.600 2000-01-01 2002-01-01   \n",
       "\n",
       "         customer_ind supplier_ind customer_cstatCompanies  \\\n",
       "0  transportUtilities         manu      american airlines    \n",
       "1  transportUtilities         manu      american airlines    \n",
       "2  transportUtilities         manu      american airlines    \n",
       "3  transportUtilities         manu      american airlines    \n",
       "4                manu         manu     abbott laboratories   \n",
       "\n",
       "  customer_igCompanies  ...  supplier_lag4_temp_zipQuarter50  \\\n",
       "0   american airlines   ...                                0   \n",
       "1   american airlines   ...                                1   \n",
       "2   american airlines   ...                                0   \n",
       "3   american airlines   ...                                0   \n",
       "4  abbott laboratories  ...                                1   \n",
       "\n",
       "  supplier_lag4_temp_zipQuarter95 supplier_lag4_precip_zipQuarter50  \\\n",
       "0                               0                                 1   \n",
       "1                               0                                 1   \n",
       "2                               0                                 1   \n",
       "3                               0                                 0   \n",
       "4                               0                                 0   \n",
       "\n",
       "   supplier_lag4_precip_zipQuarter95  supplier_lag4_temp_zipWeek50  \\\n",
       "0                                  0                             6   \n",
       "1                                  0                            11   \n",
       "2                                  0                             7   \n",
       "3                                  0                             5   \n",
       "4                                  0                             9   \n",
       "\n",
       "   supplier_lag4_temp_zipWeek95 supplier_lag4_precip_zipWeek50  \\\n",
       "0                             1                              6   \n",
       "1                             1                              3   \n",
       "2                             0                              2   \n",
       "3                             0                              3   \n",
       "4                             3                              6   \n",
       "\n",
       "   supplier_lag4_precip_zipWeek95  supplier_lag4_days90Plus  \\\n",
       "0                               0                         0   \n",
       "1                               2                         1   \n",
       "2                               1                         9   \n",
       "3                               1                         0   \n",
       "4                               0                         0   \n",
       "\n",
       "  supplier_lag4_streak90Plus  \n",
       "0                          0  \n",
       "1                          0  \n",
       "2                          0  \n",
       "3                          0  \n",
       "4                          0  \n",
       "\n",
       "[5 rows x 224 columns]"
      ]
     },
     "execution_count": 109,
     "metadata": {},
     "output_type": "execute_result"
    }
   ],
   "source": [
    "largestSuppliersWithWeather.head()"
   ]
  },
  {
   "cell_type": "code",
   "execution_count": 65,
   "metadata": {},
   "outputs": [
    {
     "name": "stdout",
     "output_type": "stream",
     "text": [
      "year\n",
      "supplier_gvkey\n",
      "gvkey\n",
      "salecs\n",
      "firstYear\n",
      "lastYear\n",
      "customer_ind\n",
      "supplier_ind\n",
      "customer_cstatCompanies\n",
      "customer_igCompanies\n",
      "customer_abi\n",
      "supplier_cstatCompanies\n",
      "supplier_igCompanies\n",
      "supplier_abi\n",
      "customer_latitude\n",
      "customer_longitude\n",
      "customer_zipcode\n",
      "supplier_latitude\n",
      "supplier_longitude\n",
      "supplier_zipcode\n",
      "dist\n",
      "totalSuppliers\n",
      "meanSales\n",
      "qtr\n",
      "companyName\n",
      "curcdq\n",
      "assets\n",
      "cash\n",
      "costGoodsSold\n",
      "totalInv\n",
      "netIncome\n",
      "opInc_afDep\n",
      "opInc_befDep\n",
      "totalRevenue\n",
      "costat\n",
      "priceClose\n",
      "add1\n",
      "addzip\n",
      "city\n",
      "state\n",
      "assetsLast\n",
      "netIncomeLast\n",
      "totalRevenueLast\n",
      "costGoodsSoldLast\n",
      "totalInvLast\n",
      "opInc_afDepLast\n",
      "opInc_befDepLast\n",
      "priceCloseLast\n",
      "cashLast\n",
      "fyearq\n",
      "assetsLagged\n",
      "netIncomeLagged\n",
      "roa_lagged\n",
      "sic2\n",
      "indGroup\n",
      "earliestYear\n",
      "ageTercile\n",
      "sizeTercile\n",
      "profitTercile\n",
      "datacqtr\n",
      "datafqtr\n",
      "fyr\n",
      "DATE\n",
      "supplier_precip_annual_50\n",
      "supplier_precip_annual_95\n",
      "supplier_precip_annual_99\n",
      "supplier_precip_zip_50\n",
      "supplier_precip_zip_95\n",
      "supplier_precip_zip_99\n",
      "supplier_precip_zipQuarter_50\n",
      "supplier_precip_zipQuarter_95\n",
      "supplier_precip_zipQuarter_99\n",
      "supplier_temp_annual_50\n",
      "supplier_temp_annual_95\n",
      "supplier_temp_annual_99\n",
      "supplier_temp_zip_50\n",
      "supplier_temp_zip_95\n",
      "supplier_temp_zip_99\n",
      "supplier_temp_zipQuarter_50\n",
      "supplier_temp_zipQuarter_95\n",
      "supplier_temp_zipQuarter_99\n",
      "supplier_lag1_precip_annual_50\n",
      "supplier_lag1_precip_annual_95\n",
      "supplier_lag1_precip_annual_99\n",
      "supplier_lag1_precip_zip_50\n",
      "supplier_lag1_precip_zip_95\n",
      "supplier_lag1_precip_zip_99\n",
      "supplier_lag1_precip_zipQuarter_50\n",
      "supplier_lag1_precip_zipQuarter_95\n",
      "supplier_lag1_precip_zipQuarter_99\n",
      "supplier_lag1_temp_annual_50\n",
      "supplier_lag1_temp_annual_95\n",
      "supplier_lag1_temp_annual_99\n",
      "supplier_lag1_temp_zip_50\n",
      "supplier_lag1_temp_zip_95\n",
      "supplier_lag1_temp_zip_99\n",
      "supplier_lag1_temp_zipQuarter_50\n",
      "supplier_lag1_temp_zipQuarter_95\n",
      "supplier_lag1_temp_zipQuarter_99\n",
      "supplier_lag2_precip_annual_50\n",
      "supplier_lag2_precip_annual_95\n",
      "supplier_lag2_precip_annual_99\n",
      "supplier_lag2_precip_zip_50\n",
      "supplier_lag2_precip_zip_95\n",
      "supplier_lag2_precip_zip_99\n",
      "supplier_lag2_precip_zipQuarter_50\n",
      "supplier_lag2_precip_zipQuarter_95\n",
      "supplier_lag2_precip_zipQuarter_99\n",
      "supplier_lag2_temp_annual_50\n",
      "supplier_lag2_temp_annual_95\n",
      "supplier_lag2_temp_annual_99\n",
      "supplier_lag2_temp_zip_50\n",
      "supplier_lag2_temp_zip_95\n",
      "supplier_lag2_temp_zip_99\n",
      "supplier_lag2_temp_zipQuarter_50\n",
      "supplier_lag2_temp_zipQuarter_95\n",
      "supplier_lag2_temp_zipQuarter_99\n",
      "supplier_lag3_precip_annual_50\n",
      "supplier_lag3_precip_annual_95\n",
      "supplier_lag3_precip_annual_99\n",
      "supplier_lag3_precip_zip_50\n",
      "supplier_lag3_precip_zip_95\n",
      "supplier_lag3_precip_zip_99\n",
      "supplier_lag3_precip_zipQuarter_50\n",
      "supplier_lag3_precip_zipQuarter_95\n",
      "supplier_lag3_precip_zipQuarter_99\n",
      "supplier_lag3_temp_annual_50\n",
      "supplier_lag3_temp_annual_95\n",
      "supplier_lag3_temp_annual_99\n",
      "supplier_lag3_temp_zip_50\n",
      "supplier_lag3_temp_zip_95\n",
      "supplier_lag3_temp_zip_99\n",
      "supplier_lag3_temp_zipQuarter_50\n",
      "supplier_lag3_temp_zipQuarter_95\n",
      "supplier_lag3_temp_zipQuarter_99\n",
      "supplier_lag4_precip_annual_50\n",
      "supplier_lag4_precip_annual_95\n",
      "supplier_lag4_precip_annual_99\n",
      "supplier_lag4_precip_zip_50\n",
      "supplier_lag4_precip_zip_95\n",
      "supplier_lag4_precip_zip_99\n",
      "supplier_lag4_precip_zipQuarter_50\n",
      "supplier_lag4_precip_zipQuarter_95\n",
      "supplier_lag4_precip_zipQuarter_99\n",
      "supplier_lag4_temp_annual_50\n",
      "supplier_lag4_temp_annual_95\n",
      "supplier_lag4_temp_annual_99\n",
      "supplier_lag4_temp_zip_50\n",
      "supplier_lag4_temp_zip_95\n",
      "supplier_lag4_temp_zip_99\n",
      "supplier_lag4_temp_zipQuarter_50\n",
      "supplier_lag4_temp_zipQuarter_95\n",
      "supplier_lag4_temp_zipQuarter_99\n",
      "supplier_quarterly_avg_precip\n",
      "supplier_quarterly_median_precip\n",
      "supplier_quarterly_variance_precip\n",
      "supplier_quarterly_avg_temp\n",
      "supplier_quarterly_median_temp\n",
      "supplier_quarterly_variance_temp\n",
      "supplier_propAboveTenThou\n",
      "supplier_propAboveHundredThou\n",
      "supplier_propAboveMilli\n",
      "supplier_lag1_propAboveTenThou\n",
      "supplier_lag1_propAboveHundredThou\n",
      "supplier_lag1_propAboveMilli\n",
      "supplier_lag2_propAboveTenThou\n",
      "supplier_lag2_propAboveHundredThou\n",
      "supplier_lag2_propAboveMilli\n",
      "supplier_lag3_propAboveTenThou\n",
      "supplier_lag3_propAboveHundredThou\n",
      "supplier_lag3_propAboveMilli\n",
      "supplier_lag4_propAboveTenThou\n",
      "supplier_lag4_propAboveHundredThou\n",
      "supplier_lag4_propAboveMilli\n",
      "supplier_temp_zipQuarter50\n",
      "supplier_temp_zipQuarter95\n",
      "supplier_precip_zipQuarter50\n",
      "supplier_precip_zipQuarter95\n",
      "supplier_temp_zipWeek50\n",
      "supplier_temp_zipWeek95\n",
      "supplier_precip_zipWeek50\n",
      "supplier_precip_zipWeek95\n",
      "supplier_days90Plus\n",
      "supplier_streak90Plus\n",
      "supplier_lag1_temp_zipQuarter50\n",
      "supplier_lag1_temp_zipQuarter95\n",
      "supplier_lag1_precip_zipQuarter50\n",
      "supplier_lag1_precip_zipQuarter95\n",
      "supplier_lag1_temp_zipWeek50\n",
      "supplier_lag1_temp_zipWeek95\n",
      "supplier_lag1_precip_zipWeek50\n",
      "supplier_lag1_precip_zipWeek95\n",
      "supplier_lag1_days90Plus\n",
      "supplier_lag1_streak90Plus\n",
      "supplier_lag2_temp_zipQuarter50\n",
      "supplier_lag2_temp_zipQuarter95\n",
      "supplier_lag2_precip_zipQuarter50\n",
      "supplier_lag2_precip_zipQuarter95\n",
      "supplier_lag2_temp_zipWeek50\n",
      "supplier_lag2_temp_zipWeek95\n",
      "supplier_lag2_precip_zipWeek50\n",
      "supplier_lag2_precip_zipWeek95\n",
      "supplier_lag2_days90Plus\n",
      "supplier_lag2_streak90Plus\n",
      "supplier_lag3_temp_zipQuarter50\n",
      "supplier_lag3_temp_zipQuarter95\n",
      "supplier_lag3_precip_zipQuarter50\n",
      "supplier_lag3_precip_zipQuarter95\n",
      "supplier_lag3_temp_zipWeek50\n",
      "supplier_lag3_temp_zipWeek95\n",
      "supplier_lag3_precip_zipWeek50\n",
      "supplier_lag3_precip_zipWeek95\n",
      "supplier_lag3_days90Plus\n",
      "supplier_lag3_streak90Plus\n",
      "supplier_lag4_temp_zipQuarter50\n",
      "supplier_lag4_temp_zipQuarter95\n",
      "supplier_lag4_precip_zipQuarter50\n",
      "supplier_lag4_precip_zipQuarter95\n",
      "supplier_lag4_temp_zipWeek50\n",
      "supplier_lag4_temp_zipWeek95\n",
      "supplier_lag4_precip_zipWeek50\n",
      "supplier_lag4_precip_zipWeek95\n",
      "supplier_lag4_days90Plus\n",
      "supplier_lag4_streak90Plus\n"
     ]
    }
   ],
   "source": [
    "for col in largestSuppliersWithWeather.columns:\n",
    "    print(col)"
   ]
  },
  {
   "cell_type": "code",
   "execution_count": null,
   "metadata": {},
   "outputs": [],
   "source": []
  },
  {
   "cell_type": "markdown",
   "metadata": {},
   "source": [
    "## Sales-Weighted Average\n",
    "If a company doesn't have sales-specific information, then assume equal shares. This doesn't happen for too many of the companies, thankfully."
   ]
  },
  {
   "cell_type": "code",
   "execution_count": null,
   "metadata": {},
   "outputs": [],
   "source": [
    "customerDB = c_links[['year','customer_gvkey','supplier_gvkey','salecs']].\\\n",
    "    merge(custExp).rename(columns = {'customer_gvkey': 'gvkey'}).drop_duplicates()\n",
    "\n",
    "customerDB['salesWeight'] = customerDB.salecs/customerDB.totalExp\n",
    "\n",
    "customerDB.fillna(1, inplace = True)"
   ]
  },
  {
   "cell_type": "markdown",
   "metadata": {},
   "source": [
    "Now merge this with the supplier weather data, and use the sales weights to find a sales-weighted average of the weather conditions for the suppliers."
   ]
  },
  {
   "cell_type": "code",
   "execution_count": null,
   "metadata": {},
   "outputs": [],
   "source": [
    "relevantVars = [x for x in suppliersWithWeather.columns if (('year' in x) | \n",
    "                                                 ('qtr' in x) |\n",
    "                                                 ('gvkey' in x) |\n",
    "                                                 ('_' in x)) & \n",
    "                                                ~('roa_lagged' in x) & \n",
    "                                                ~('yearQtr' in x)]\n",
    "\n",
    "suppliers_toMerge = suppliersWithWeather[relevantVars]\n",
    "\n",
    "\n",
    "for colname in suppliers_toMerge.columns[3:]:\n",
    "    suppliers_toMerge.rename(columns = {colname: 'supplier_' + colname}, inplace = True)\n",
    "\n",
    "    \n",
    "suppliers_toMerge.rename(columns = {'gvkey': 'supplier_gvkey'},inplace = True)    \n"
   ]
  },
  {
   "cell_type": "code",
   "execution_count": null,
   "metadata": {},
   "outputs": [],
   "source": [
    "suppliers_toMerge.head()"
   ]
  },
  {
   "cell_type": "markdown",
   "metadata": {},
   "source": [
    "For each of the supplier weather columns, multiply the variable by the fraction of sales attributable to that relationship."
   ]
  },
  {
   "cell_type": "code",
   "execution_count": null,
   "metadata": {},
   "outputs": [],
   "source": [
    "supplierWeather = customerDB[['year','gvkey','supplier_gvkey','salesWeight']].merge(suppliers_toMerge)\n",
    "\n",
    "for col in supplierWeather.columns[7:]:\n",
    "        supplierWeather[col]   = supplierWeather.salesWeight*supplierWeather[col]\n",
    "        \n",
    "        \n",
    "\n",
    "supplierWeather.drop(columns = {'supplier_gvkey','salesWeight'}, inplace = True)\n",
    "\n",
    "\n",
    "print(supplierWeather.head())\n",
    "\n",
    "\n",
    "\n",
    "# [['year','qtr','gvkey','supplier_tmax_quant_1.0','supplier_precip_quant_1.0']]"
   ]
  },
  {
   "cell_type": "code",
   "execution_count": null,
   "metadata": {},
   "outputs": [],
   "source": [
    "supplierWtdAvgWeather = supplierWeather.groupby(['year','qtr','gvkey']).sum().reset_index().drop_duplicates()"
   ]
  },
  {
   "cell_type": "code",
   "execution_count": null,
   "metadata": {},
   "outputs": [],
   "source": [
    "supplierWtdAvgWeather.gvkey.unique()"
   ]
  },
  {
   "cell_type": "markdown",
   "metadata": {},
   "source": [
    "Merge the supplier weighted average weather data with the customer data that has weather as well."
   ]
  },
  {
   "cell_type": "code",
   "execution_count": null,
   "metadata": {},
   "outputs": [],
   "source": [
    "customersWithWeather.head()"
   ]
  },
  {
   "cell_type": "code",
   "execution_count": null,
   "metadata": {},
   "outputs": [],
   "source": [
    "wtdAvgSuppliers = customersWithWeather.merge(supplierWtdAvgWeather)\n",
    "\n",
    "wtdAvgSuppliers.head()"
   ]
  },
  {
   "cell_type": "code",
   "execution_count": null,
   "metadata": {},
   "outputs": [],
   "source": [
    "wtdAvgSuppliers.shape"
   ]
  },
  {
   "cell_type": "code",
   "execution_count": null,
   "metadata": {},
   "outputs": [],
   "source": [
    "wtdAvgSuppliers.to_csv(\"../../data/companyData/wtdAvgSuppliers.csv\")"
   ]
  },
  {
   "cell_type": "code",
   "execution_count": null,
   "metadata": {},
   "outputs": [],
   "source": [
    "wtdAvgSuppliers.head()"
   ]
  },
  {
   "cell_type": "code",
   "execution_count": null,
   "metadata": {},
   "outputs": [],
   "source": [
    "wtdAvgSuppliers.columns[wtdAvgSuppliers.columns.str.contains('Tercile')]"
   ]
  },
  {
   "cell_type": "code",
   "execution_count": null,
   "metadata": {},
   "outputs": [],
   "source": []
  }
 ],
 "metadata": {
  "kernelspec": {
   "display_name": "Python 3",
   "language": "python",
   "name": "python3"
  },
  "language_info": {
   "codemirror_mode": {
    "name": "ipython",
    "version": 3
   },
   "file_extension": ".py",
   "mimetype": "text/x-python",
   "name": "python",
   "nbconvert_exporter": "python",
   "pygments_lexer": "ipython3",
   "version": "3.7.4"
  }
 },
 "nbformat": 4,
 "nbformat_minor": 2
}
