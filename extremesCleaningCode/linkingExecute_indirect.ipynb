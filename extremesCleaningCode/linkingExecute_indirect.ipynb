{
 "cells": [
  {
   "cell_type": "code",
   "execution_count": 131,
   "metadata": {},
   "outputs": [],
   "source": [
    "import pickle as pkl\n",
    "import pandas as pd\n",
    "import matplotlib\n",
    "import os\n",
    "import re\n",
    "\n",
    "import collections\n",
    "import datetime\n",
    "import time\n",
    "\n",
    "import geopandas as gpd\n",
    "\n",
    "import numpy as np\n",
    "\n",
    "import rasterio\n",
    "\n",
    "import spacy\n",
    "\n",
    "import gc\n",
    "\n",
    "import geopy.distance\n",
    "\n",
    "nlp = spacy.load('en_core_web_lg')\n",
    "from sklearn.metrics.pairwise import cosine_similarity\n",
    "\n",
    "import itertools\n",
    "\n",
    "import pgeocode\n",
    "\n",
    "from dateutil.relativedelta import relativedelta"
   ]
  },
  {
   "cell_type": "markdown",
   "metadata": {},
   "source": [
    "# Indirect\n",
    "Introduce the SC Data, focusing on transactions between US companies."
   ]
  },
  {
   "cell_type": "code",
   "execution_count": 132,
   "metadata": {},
   "outputs": [
    {
     "data": {
      "text/html": [
       "<div>\n",
       "<style scoped>\n",
       "    .dataframe tbody tr th:only-of-type {\n",
       "        vertical-align: middle;\n",
       "    }\n",
       "\n",
       "    .dataframe tbody tr th {\n",
       "        vertical-align: top;\n",
       "    }\n",
       "\n",
       "    .dataframe thead th {\n",
       "        text-align: right;\n",
       "    }\n",
       "</style>\n",
       "<table border=\"1\" class=\"dataframe\">\n",
       "  <thead>\n",
       "    <tr style=\"text-align: right;\">\n",
       "      <th></th>\n",
       "      <th>year</th>\n",
       "      <th>supplier_gvkey</th>\n",
       "      <th>customer_gvkey</th>\n",
       "      <th>salecs</th>\n",
       "    </tr>\n",
       "  </thead>\n",
       "  <tbody>\n",
       "    <tr>\n",
       "      <th>0</th>\n",
       "      <td>2002-01-01</td>\n",
       "      <td>1013</td>\n",
       "      <td>2136</td>\n",
       "      <td>111.056</td>\n",
       "    </tr>\n",
       "    <tr>\n",
       "      <th>1</th>\n",
       "      <td>2004-01-01</td>\n",
       "      <td>1013</td>\n",
       "      <td>2136</td>\n",
       "      <td>104.312</td>\n",
       "    </tr>\n",
       "    <tr>\n",
       "      <th>2</th>\n",
       "      <td>2005-01-01</td>\n",
       "      <td>1013</td>\n",
       "      <td>2136</td>\n",
       "      <td>146.000</td>\n",
       "    </tr>\n",
       "    <tr>\n",
       "      <th>3</th>\n",
       "      <td>2006-01-01</td>\n",
       "      <td>1013</td>\n",
       "      <td>2136</td>\n",
       "      <td>205.000</td>\n",
       "    </tr>\n",
       "    <tr>\n",
       "      <th>4</th>\n",
       "      <td>2007-01-01</td>\n",
       "      <td>1013</td>\n",
       "      <td>2136</td>\n",
       "      <td>236.000</td>\n",
       "    </tr>\n",
       "  </tbody>\n",
       "</table>\n",
       "</div>"
      ],
      "text/plain": [
       "        year  supplier_gvkey  customer_gvkey   salecs\n",
       "0 2002-01-01            1013            2136  111.056\n",
       "1 2004-01-01            1013            2136  104.312\n",
       "2 2005-01-01            1013            2136  146.000\n",
       "3 2006-01-01            1013            2136  205.000\n",
       "4 2007-01-01            1013            2136  236.000"
      ]
     },
     "execution_count": 132,
     "metadata": {},
     "output_type": "execute_result"
    }
   ],
   "source": [
    "c_links = pd.read_csv(\"../../data/companyData/c_linksUS.csv\") # pd.read_csv(\"../../data/companyData/compustatSCLinked.csv\")\n",
    "\n",
    "c_links['year'] = c_links.srcdate.astype('str').str.slice(0,4).astype('int64')\n",
    "\n",
    "c_links = c_links[c_links.year > 1999][['year','gvkey','cgvkey','salecs']].\\\n",
    "    rename(columns = {'cgvkey': 'customer_gvkey','gvkey': 'supplier_gvkey'})\n",
    "\n",
    "c_links['year'] = pd.to_datetime(c_links.year, format = '%Y')\n",
    "\n",
    "\n",
    "c_links.head()"
   ]
  },
  {
   "cell_type": "code",
   "execution_count": 133,
   "metadata": {},
   "outputs": [
    {
     "data": {
      "text/plain": [
       "11228"
      ]
     },
     "execution_count": 133,
     "metadata": {},
     "output_type": "execute_result"
    }
   ],
   "source": [
    "sum(c_links.salecs.isna())"
   ]
  },
  {
   "cell_type": "code",
   "execution_count": 134,
   "metadata": {},
   "outputs": [
    {
     "name": "stdout",
     "output_type": "stream",
     "text": [
      "(11827, 2)\n"
     ]
    },
    {
     "data": {
      "text/html": [
       "<div>\n",
       "<style scoped>\n",
       "    .dataframe tbody tr th:only-of-type {\n",
       "        vertical-align: middle;\n",
       "    }\n",
       "\n",
       "    .dataframe tbody tr th {\n",
       "        vertical-align: top;\n",
       "    }\n",
       "\n",
       "    .dataframe thead th {\n",
       "        text-align: right;\n",
       "    }\n",
       "</style>\n",
       "<table border=\"1\" class=\"dataframe\">\n",
       "  <thead>\n",
       "    <tr style=\"text-align: right;\">\n",
       "      <th></th>\n",
       "      <th>supplier_gvkey</th>\n",
       "      <th>customer_gvkey</th>\n",
       "    </tr>\n",
       "  </thead>\n",
       "  <tbody>\n",
       "    <tr>\n",
       "      <th>0</th>\n",
       "      <td>1013</td>\n",
       "      <td>2136</td>\n",
       "    </tr>\n",
       "    <tr>\n",
       "      <th>1</th>\n",
       "      <td>1013</td>\n",
       "      <td>9899</td>\n",
       "    </tr>\n",
       "    <tr>\n",
       "      <th>2</th>\n",
       "      <td>1021</td>\n",
       "      <td>61494</td>\n",
       "    </tr>\n",
       "    <tr>\n",
       "      <th>3</th>\n",
       "      <td>1021</td>\n",
       "      <td>25880</td>\n",
       "    </tr>\n",
       "    <tr>\n",
       "      <th>4</th>\n",
       "      <td>1048</td>\n",
       "      <td>11552</td>\n",
       "    </tr>\n",
       "  </tbody>\n",
       "</table>\n",
       "</div>"
      ],
      "text/plain": [
       "   supplier_gvkey  customer_gvkey\n",
       "0            1013            2136\n",
       "1            1013            9899\n",
       "2            1021           61494\n",
       "3            1021           25880\n",
       "4            1048           11552"
      ]
     },
     "execution_count": 134,
     "metadata": {},
     "output_type": "execute_result"
    }
   ],
   "source": [
    "supplierCombos = c_links[['supplier_gvkey', 'customer_gvkey']].drop_duplicates().reset_index(drop = True)\n",
    "\n",
    "print(supplierCombos.shape)\n",
    "\n",
    "supplierCombos.head()"
   ]
  },
  {
   "cell_type": "markdown",
   "metadata": {},
   "source": [
    "We'll follow Barrot Sauvagnat in assuming that a supplier relationship holds for every year between the first and last year in which a customer is reported. This is going to take a little bit of work. We'll try it like this: \n",
    "- subset dataframe to a specific supplier-customer pair\n",
    "- fill in data for every year that's missing\n",
    "\n",
    "Then, apply this row-wise to all rows of the unique supplierCombos df above using: https://stackoverflow.com/questions/61942138/apply-function-row-wise-to-pandas-dataframe"
   ]
  },
  {
   "cell_type": "code",
   "execution_count": 135,
   "metadata": {},
   "outputs": [],
   "source": [
    "def fillYear(supplier, customer, scData = c_links):\n",
    "    c_linksTemp = scData[(scData.supplier_gvkey == supplier) & \\\n",
    "                      (scData.customer_gvkey == customer)].reset_index(drop = True)\n",
    "    \n",
    "    # if there are na values and non-na values for the same supplier-cust combination, then \n",
    "    # select for only the non-na values, by (1) replacing na with negative, (2) 1\n",
    "    c_linksTemp['salecs'] = c_linksTemp['salecs'].fillna(-5)\n",
    "    c_linksTemp = c_linksTemp.loc[c_linksTemp.reset_index().groupby(['year','supplier_gvkey',\n",
    "                                                                     'customer_gvkey'])['salecs'].idxmax()]\n",
    "    \n",
    "    \n",
    "    # now: find the start and end of the data series\n",
    "    first = c_linksTemp.year.min() - relativedelta(years = 3)\n",
    "    last  = c_linksTemp.year.max() + relativedelta(years = 3)\n",
    "    \n",
    "    \n",
    "    c_linksTemp['firstYear'] = c_linksTemp.year.min()\n",
    "    c_linksTemp['lastYear']  = c_linksTemp.year.max()\n",
    "    \n",
    "    \n",
    "    c_linksTemp = c_linksTemp.set_index('year') \n",
    "    \n",
    "    \n",
    "    c_linksTemp = c_linksTemp.reindex(pd.date_range(first, last, freq = 'YS')).\\\n",
    "        reset_index().rename(columns = {'index': 'year'})\n",
    "    \n",
    "    \n",
    "    # and impute all values within the series\n",
    "    c_linksTemp = c_linksTemp.groupby(c_linksTemp.year.dt.time).ffill().bfill()\n",
    "    \n",
    "    \n",
    "    return(c_linksTemp)"
   ]
  },
  {
   "cell_type": "markdown",
   "metadata": {},
   "source": [
    "Show that this works for one of the supplier rows."
   ]
  },
  {
   "cell_type": "code",
   "execution_count": 136,
   "metadata": {},
   "outputs": [
    {
     "data": {
      "text/html": [
       "<div>\n",
       "<style scoped>\n",
       "    .dataframe tbody tr th:only-of-type {\n",
       "        vertical-align: middle;\n",
       "    }\n",
       "\n",
       "    .dataframe tbody tr th {\n",
       "        vertical-align: top;\n",
       "    }\n",
       "\n",
       "    .dataframe thead th {\n",
       "        text-align: right;\n",
       "    }\n",
       "</style>\n",
       "<table border=\"1\" class=\"dataframe\">\n",
       "  <thead>\n",
       "    <tr style=\"text-align: right;\">\n",
       "      <th></th>\n",
       "      <th>year</th>\n",
       "      <th>supplier_gvkey</th>\n",
       "      <th>customer_gvkey</th>\n",
       "      <th>salecs</th>\n",
       "      <th>firstYear</th>\n",
       "      <th>lastYear</th>\n",
       "    </tr>\n",
       "  </thead>\n",
       "  <tbody>\n",
       "    <tr>\n",
       "      <th>0</th>\n",
       "      <td>1999-01-01</td>\n",
       "      <td>1013.0</td>\n",
       "      <td>2136.0</td>\n",
       "      <td>111.056</td>\n",
       "      <td>2002-01-01</td>\n",
       "      <td>2010-01-01</td>\n",
       "    </tr>\n",
       "    <tr>\n",
       "      <th>1</th>\n",
       "      <td>2000-01-01</td>\n",
       "      <td>1013.0</td>\n",
       "      <td>2136.0</td>\n",
       "      <td>111.056</td>\n",
       "      <td>2002-01-01</td>\n",
       "      <td>2010-01-01</td>\n",
       "    </tr>\n",
       "    <tr>\n",
       "      <th>2</th>\n",
       "      <td>2001-01-01</td>\n",
       "      <td>1013.0</td>\n",
       "      <td>2136.0</td>\n",
       "      <td>111.056</td>\n",
       "      <td>2002-01-01</td>\n",
       "      <td>2010-01-01</td>\n",
       "    </tr>\n",
       "    <tr>\n",
       "      <th>3</th>\n",
       "      <td>2002-01-01</td>\n",
       "      <td>1013.0</td>\n",
       "      <td>2136.0</td>\n",
       "      <td>111.056</td>\n",
       "      <td>2002-01-01</td>\n",
       "      <td>2010-01-01</td>\n",
       "    </tr>\n",
       "    <tr>\n",
       "      <th>4</th>\n",
       "      <td>2003-01-01</td>\n",
       "      <td>1013.0</td>\n",
       "      <td>2136.0</td>\n",
       "      <td>111.056</td>\n",
       "      <td>2002-01-01</td>\n",
       "      <td>2010-01-01</td>\n",
       "    </tr>\n",
       "    <tr>\n",
       "      <th>5</th>\n",
       "      <td>2004-01-01</td>\n",
       "      <td>1013.0</td>\n",
       "      <td>2136.0</td>\n",
       "      <td>104.312</td>\n",
       "      <td>2002-01-01</td>\n",
       "      <td>2010-01-01</td>\n",
       "    </tr>\n",
       "    <tr>\n",
       "      <th>6</th>\n",
       "      <td>2005-01-01</td>\n",
       "      <td>1013.0</td>\n",
       "      <td>2136.0</td>\n",
       "      <td>146.000</td>\n",
       "      <td>2002-01-01</td>\n",
       "      <td>2010-01-01</td>\n",
       "    </tr>\n",
       "    <tr>\n",
       "      <th>7</th>\n",
       "      <td>2006-01-01</td>\n",
       "      <td>1013.0</td>\n",
       "      <td>2136.0</td>\n",
       "      <td>205.000</td>\n",
       "      <td>2002-01-01</td>\n",
       "      <td>2010-01-01</td>\n",
       "    </tr>\n",
       "    <tr>\n",
       "      <th>8</th>\n",
       "      <td>2007-01-01</td>\n",
       "      <td>1013.0</td>\n",
       "      <td>2136.0</td>\n",
       "      <td>236.000</td>\n",
       "      <td>2002-01-01</td>\n",
       "      <td>2010-01-01</td>\n",
       "    </tr>\n",
       "    <tr>\n",
       "      <th>9</th>\n",
       "      <td>2008-01-01</td>\n",
       "      <td>1013.0</td>\n",
       "      <td>2136.0</td>\n",
       "      <td>240.000</td>\n",
       "      <td>2002-01-01</td>\n",
       "      <td>2010-01-01</td>\n",
       "    </tr>\n",
       "    <tr>\n",
       "      <th>10</th>\n",
       "      <td>2009-01-01</td>\n",
       "      <td>1013.0</td>\n",
       "      <td>2136.0</td>\n",
       "      <td>176.000</td>\n",
       "      <td>2002-01-01</td>\n",
       "      <td>2010-01-01</td>\n",
       "    </tr>\n",
       "    <tr>\n",
       "      <th>11</th>\n",
       "      <td>2010-01-01</td>\n",
       "      <td>1013.0</td>\n",
       "      <td>2136.0</td>\n",
       "      <td>146.000</td>\n",
       "      <td>2002-01-01</td>\n",
       "      <td>2010-01-01</td>\n",
       "    </tr>\n",
       "    <tr>\n",
       "      <th>12</th>\n",
       "      <td>2011-01-01</td>\n",
       "      <td>1013.0</td>\n",
       "      <td>2136.0</td>\n",
       "      <td>146.000</td>\n",
       "      <td>2002-01-01</td>\n",
       "      <td>2010-01-01</td>\n",
       "    </tr>\n",
       "    <tr>\n",
       "      <th>13</th>\n",
       "      <td>2012-01-01</td>\n",
       "      <td>1013.0</td>\n",
       "      <td>2136.0</td>\n",
       "      <td>146.000</td>\n",
       "      <td>2002-01-01</td>\n",
       "      <td>2010-01-01</td>\n",
       "    </tr>\n",
       "    <tr>\n",
       "      <th>14</th>\n",
       "      <td>2013-01-01</td>\n",
       "      <td>1013.0</td>\n",
       "      <td>2136.0</td>\n",
       "      <td>146.000</td>\n",
       "      <td>2002-01-01</td>\n",
       "      <td>2010-01-01</td>\n",
       "    </tr>\n",
       "  </tbody>\n",
       "</table>\n",
       "</div>"
      ],
      "text/plain": [
       "         year  supplier_gvkey  customer_gvkey   salecs  firstYear   lastYear\n",
       "0  1999-01-01          1013.0          2136.0  111.056 2002-01-01 2010-01-01\n",
       "1  2000-01-01          1013.0          2136.0  111.056 2002-01-01 2010-01-01\n",
       "2  2001-01-01          1013.0          2136.0  111.056 2002-01-01 2010-01-01\n",
       "3  2002-01-01          1013.0          2136.0  111.056 2002-01-01 2010-01-01\n",
       "4  2003-01-01          1013.0          2136.0  111.056 2002-01-01 2010-01-01\n",
       "5  2004-01-01          1013.0          2136.0  104.312 2002-01-01 2010-01-01\n",
       "6  2005-01-01          1013.0          2136.0  146.000 2002-01-01 2010-01-01\n",
       "7  2006-01-01          1013.0          2136.0  205.000 2002-01-01 2010-01-01\n",
       "8  2007-01-01          1013.0          2136.0  236.000 2002-01-01 2010-01-01\n",
       "9  2008-01-01          1013.0          2136.0  240.000 2002-01-01 2010-01-01\n",
       "10 2009-01-01          1013.0          2136.0  176.000 2002-01-01 2010-01-01\n",
       "11 2010-01-01          1013.0          2136.0  146.000 2002-01-01 2010-01-01\n",
       "12 2011-01-01          1013.0          2136.0  146.000 2002-01-01 2010-01-01\n",
       "13 2012-01-01          1013.0          2136.0  146.000 2002-01-01 2010-01-01\n",
       "14 2013-01-01          1013.0          2136.0  146.000 2002-01-01 2010-01-01"
      ]
     },
     "execution_count": 136,
     "metadata": {},
     "output_type": "execute_result"
    }
   ],
   "source": [
    "fillYear(supplierCombos.supplier_gvkey[0], supplierCombos.customer_gvkey[0])"
   ]
  },
  {
   "cell_type": "markdown",
   "metadata": {},
   "source": [
    "Now do it for all rows."
   ]
  },
  {
   "cell_type": "code",
   "execution_count": 137,
   "metadata": {},
   "outputs": [
    {
     "name": "stdout",
     "output_type": "stream",
     "text": [
      "(47427, 4)\n",
      "(120797, 6)\n",
      "73.34816718101501\n"
     ]
    }
   ],
   "source": [
    "start = time.time()\n",
    "print(c_links.shape)\n",
    "c_linksImpd_list = supplierCombos.apply(lambda row: fillYear(row['supplier_gvkey'], row['customer_gvkey']), axis = 1)\n",
    "c_linksImpd_df   = pd.concat(list(c_linksImpd_list))\n",
    "print(c_linksImpd_df.shape)\n",
    "print(time.time() - start)\n",
    "\n",
    "c_linksImpd_df['year'] = c_linksImpd_df.year.dt.year"
   ]
  },
  {
   "cell_type": "markdown",
   "metadata": {},
   "source": [
    "We had converted some of the na sales values to -5 so that we could deal with duplicated values, by choosing the larger of said values. Switch back to nan so that we are not thrown off when we look for biggest supplier."
   ]
  },
  {
   "cell_type": "code",
   "execution_count": 138,
   "metadata": {},
   "outputs": [],
   "source": [
    "c_linksImpd_df.loc[c_linksImpd_df.salecs == -5, 'salecs'] = float('nan')"
   ]
  },
  {
   "cell_type": "markdown",
   "metadata": {},
   "source": [
    "Partially subset to focus on suppliers in our data."
   ]
  },
  {
   "cell_type": "code",
   "execution_count": 139,
   "metadata": {},
   "outputs": [
    {
     "data": {
      "text/plain": [
       "(47251, 2)"
      ]
     },
     "execution_count": 139,
     "metadata": {},
     "output_type": "execute_result"
    }
   ],
   "source": [
    "suppliersOnly = c_linksImpd_df[['year', 'supplier_gvkey']].drop_duplicates()\n",
    "\n",
    "suppliersOnly.to_csv(\"../../data/companyData/suppliers.csv\")\n",
    "\n",
    "suppliersOnly.shape"
   ]
  },
  {
   "cell_type": "code",
   "execution_count": 140,
   "metadata": {},
   "outputs": [
    {
     "data": {
      "text/plain": [
       "(29148, 2)"
      ]
     },
     "execution_count": 140,
     "metadata": {},
     "output_type": "execute_result"
    }
   ],
   "source": [
    "customersOnly = c_linksImpd_df[['year', 'customer_gvkey']].drop_duplicates()\n",
    "customersOnly.shape"
   ]
  },
  {
   "cell_type": "code",
   "execution_count": null,
   "metadata": {},
   "outputs": [],
   "source": []
  },
  {
   "cell_type": "code",
   "execution_count": null,
   "metadata": {},
   "outputs": [],
   "source": []
  },
  {
   "cell_type": "code",
   "execution_count": 141,
   "metadata": {},
   "outputs": [
    {
     "name": "stdout",
     "output_type": "stream",
     "text": [
      "       gvkey            indGroup\n",
      "0       1010                manu\n",
      "1       1043           wholesale\n",
      "2       1045  transportUtilities\n",
      "3       1062             finance\n",
      "4       1075  transportUtilities\n",
      "...      ...                 ...\n",
      "31652  37600             finance\n",
      "31653  37618             finance\n",
      "31654  37620             finance\n",
      "31655  37621             finance\n",
      "31656  37625             finance\n",
      "\n",
      "[31657 rows x 2 columns]\n"
     ]
    }
   ],
   "source": [
    "industries = pd.read_csv(\"../../data/companyData/gvkeyIndustries.csv\").drop(columns = {'Unnamed: 0'})\n",
    "print(industries)"
   ]
  },
  {
   "cell_type": "code",
   "execution_count": 142,
   "metadata": {},
   "outputs": [
    {
     "name": "stdout",
     "output_type": "stream",
     "text": [
      "(120797, 6)\n",
      "   year  supplier_gvkey  customer_gvkey   salecs  firstYear   lastYear\n",
      "0  1999          1013.0          2136.0  111.056 2002-01-01 2010-01-01\n",
      "1  2000          1013.0          2136.0  111.056 2002-01-01 2010-01-01\n",
      "2  2001          1013.0          2136.0  111.056 2002-01-01 2010-01-01\n",
      "3  2002          1013.0          2136.0  111.056 2002-01-01 2010-01-01\n",
      "4  2003          1013.0          2136.0  111.056 2002-01-01 2010-01-01\n",
      "   year  supplier_gvkey  customer_gvkey   salecs  firstYear   lastYear  \\\n",
      "0  1999          1013.0          2136.0  111.056 2002-01-01 2010-01-01   \n",
      "1  2000          1013.0          2136.0  111.056 2002-01-01 2010-01-01   \n",
      "2  2001          1013.0          2136.0  111.056 2002-01-01 2010-01-01   \n",
      "3  2002          1013.0          2136.0  111.056 2002-01-01 2010-01-01   \n",
      "4  2003          1013.0          2136.0  111.056 2002-01-01 2010-01-01   \n",
      "\n",
      "         customer_ind supplier_ind  \n",
      "0  transportUtilities         manu  \n",
      "1  transportUtilities         manu  \n",
      "2  transportUtilities         manu  \n",
      "3  transportUtilities         manu  \n",
      "4  transportUtilities         manu   (120797, 8)\n"
     ]
    }
   ],
   "source": [
    "c_links = c_linksImpd_df.copy()\n",
    "\n",
    "print(c_links.shape)\n",
    "\n",
    "print(c_links.head())\n",
    "\n",
    "industries.columns = ['customer_gvkey','customer_ind']\n",
    "\n",
    "\n",
    "c_links = c_links.merge(industries)\n",
    "industries.columns = ['supplier_gvkey','supplier_ind']\n",
    "\n",
    "c_links = c_links.merge(industries)\n",
    "print(c_links.head(), c_links.shape)\n",
    "\n",
    "\n",
    "c_links.to_csv(\"../../data/companyData/c_links.csv\")\n"
   ]
  },
  {
   "cell_type": "markdown",
   "metadata": {},
   "source": [
    "Let's see how all this translates into different industries. Check how many times different industries show up.\n",
    "\n",
    "The full count will be roughly 4x whatever is below, assuming we can get a match for roughly all of them (which we should be able to)."
   ]
  },
  {
   "cell_type": "code",
   "execution_count": 143,
   "metadata": {},
   "outputs": [
    {
     "data": {
      "text/plain": [
       "manu                  50104\n",
       "finance               22950\n",
       "services              17259\n",
       "mining                 9457\n",
       "transportUtilities     6402\n",
       "wholesale              2884\n",
       "construction           1097\n",
       "retail                  628\n",
       "agForFish               194\n",
       "Name: supplier_ind, dtype: int64"
      ]
     },
     "execution_count": 143,
     "metadata": {},
     "output_type": "execute_result"
    }
   ],
   "source": [
    "c_links[c_links.year.astype(int) > 1999].supplier_ind.value_counts()"
   ]
  },
  {
   "cell_type": "markdown",
   "metadata": {},
   "source": [
    "Now see if it's common to have one in and one out of the industries of interest. \n",
    "\n",
    "For now, let's keep all the different industry types.\n",
    "\n",
    "We can always filter later if we need to.\n",
    "\n",
    "\n",
    "********this is where it would be helpful to check on the abi bits for a given industry, to see if we can get additional matches as well***********"
   ]
  },
  {
   "cell_type": "code",
   "execution_count": 144,
   "metadata": {},
   "outputs": [
    {
     "name": "stdout",
     "output_type": "stream",
     "text": [
      "(120797, 8)\n",
      "(120797, 8) (112962, 11)    year  supplier_gvkey  customer_gvkey   salecs  firstYear   lastYear  \\\n",
      "0  1999          1013.0          2136.0  111.056 2002-01-01 2010-01-01   \n",
      "1  2000          1013.0          2136.0  111.056 2002-01-01 2010-01-01   \n",
      "2  2001          1013.0          2136.0  111.056 2002-01-01 2010-01-01   \n",
      "3  2002          1013.0          2136.0  111.056 2002-01-01 2010-01-01   \n",
      "4  2003          1013.0          2136.0  111.056 2002-01-01 2010-01-01   \n",
      "\n",
      "         customer_ind supplier_ind customer_cstatCompanies  \\\n",
      "0  transportUtilities         manu     verizonmmunications   \n",
      "1  transportUtilities         manu     verizonmmunications   \n",
      "2  transportUtilities         manu     verizonmmunications   \n",
      "3  transportUtilities         manu     verizonmmunications   \n",
      "4  transportUtilities         manu     verizonmmunications   \n",
      "\n",
      "  customer_igCompanies  customer_abi  \n",
      "0  verizonmmunications       7564776  \n",
      "1  verizonmmunications       7564776  \n",
      "2  verizonmmunications       7564776  \n",
      "3  verizonmmunications       7564776  \n",
      "4  verizonmmunications       7564776  \n",
      "(120797, 8)\n",
      "(99854, 14)\n"
     ]
    },
    {
     "data": {
      "text/plain": [
       "(4082,)"
      ]
     },
     "execution_count": 144,
     "metadata": {},
     "output_type": "execute_result"
    }
   ],
   "source": [
    "#########################\n",
    "# get data and reset columns \n",
    "gvKey_abiLinkingTable = pd.read_csv('../../data/companyData/sc_linkingTable.csv').drop(columns = ['Unnamed: 0']).\\\n",
    "    drop_duplicates()\n",
    "\n",
    "\n",
    "\n",
    "base_columns = gvKey_abiLinkingTable.columns \n",
    "customer_columns = \"customer_\" + base_columns\n",
    "supplier_columns = \"supplier_\" + base_columns\n",
    "\n",
    "\n",
    "\n",
    "# merge in customer information\n",
    "gvKey_abiLinkingTable.columns = customer_columns\n",
    "\n",
    "\n",
    "\n",
    "print(c_links.shape)\n",
    "c_linksMerge1 = c_links.merge(gvKey_abiLinkingTable, on ='customer_gvkey')\n",
    "print(c_links.shape,c_linksMerge1.shape, c_linksMerge1.head())\n",
    "\n",
    "\n",
    "\n",
    "#########################\n",
    "# and merge in supplier \n",
    "gvKey_abiLinkingTable.columns = supplier_columns\n",
    "\n",
    "print(c_links.shape)\n",
    "c_linksMerge2 = c_linksMerge1.merge(gvKey_abiLinkingTable, on ='supplier_gvkey').drop_duplicates()\n",
    "print(c_linksMerge2.shape)\n",
    "\n",
    "c_linksMerge2.to_csv(\"../../data/companyData/clinks_IG_selected.csv\")\n",
    "\n",
    "\n",
    "c_linksMerge2['year'] = pd.to_datetime(c_linksMerge2.year, format = '%Y')\n",
    "\n",
    "\n",
    "##########################\n",
    "# get all the company abi\n",
    "allAbi = c_linksMerge2.customer_abi.append(c_linksMerge2.supplier_abi).drop_duplicates()\n",
    "allAbi.shape"
   ]
  },
  {
   "cell_type": "markdown",
   "metadata": {},
   "source": [
    "## Relevant Industries"
   ]
  },
  {
   "cell_type": "code",
   "execution_count": 145,
   "metadata": {},
   "outputs": [
    {
     "data": {
      "text/plain": [
       "\"c_linksMerge2 = c_linksMerge2[(c_linksMerge2.customer_ind != 'finance') & (c_linksMerge2.customer_ind != 'services') &                (c_linksMerge2.supplier_ind != 'finance') & (c_linksMerge2.supplier_ind != 'services')]\\n\\nc_linksMerge2.shape\""
      ]
     },
     "execution_count": 145,
     "metadata": {},
     "output_type": "execute_result"
    }
   ],
   "source": [
    "'''c_linksMerge2 = c_linksMerge2[(c_linksMerge2.customer_ind != 'finance') & (c_linksMerge2.customer_ind != 'services') & \\\n",
    "               (c_linksMerge2.supplier_ind != 'finance') & (c_linksMerge2.supplier_ind != 'services')]\n",
    "\n",
    "c_linksMerge2.shape'''"
   ]
  },
  {
   "cell_type": "markdown",
   "metadata": {},
   "source": [
    "First, make a sample with the companies on one year of either side of when it reports another customer."
   ]
  },
  {
   "cell_type": "code",
   "execution_count": 146,
   "metadata": {},
   "outputs": [],
   "source": [
    "########\n",
    "hqsOnly = pd.read_csv(\"../../data/ig_uniqueHQs.csv\").drop(columns = {'Unnamed: 0'})\n",
    "\n",
    "hq = pd.read_csv(\"../../data/ig_uniqueHQs_multLocations.csv\").\\\n",
    "    drop(columns = {'Unnamed: 0'}).\\\n",
    "    rename(columns = {'archive_version_year': 'year'})\n",
    "\n",
    "hq['year']    = pd.to_datetime(hq.year, format = '%Y')   # hq.year.astype('int64')\n",
    "hq['zipcode'] = hq.zipcode.astype('str').str.zfill(5)\n",
    "hqRelevant    = hq[hq.abi.isin(allAbi)].reset_index()\n",
    "\n"
   ]
  },
  {
   "cell_type": "markdown",
   "metadata": {},
   "source": [
    "I think many of these don't have a lat-long but do have a zipcode. We should be able to use pgeocode to get an approximate lat-long from the zipcode."
   ]
  },
  {
   "cell_type": "code",
   "execution_count": 147,
   "metadata": {},
   "outputs": [
    {
     "name": "stderr",
     "output_type": "stream",
     "text": [
      "/Users/brianreed/opt/anaconda3/lib/python3.7/site-packages/ipykernel_launcher.py:5: SettingWithCopyWarning: \n",
      "A value is trying to be set on a copy of a slice from a DataFrame\n",
      "\n",
      "See the caveats in the documentation: https://pandas.pydata.org/pandas-docs/stable/user_guide/indexing.html#returning-a-view-versus-a-copy\n",
      "  \"\"\"\n",
      "/Users/brianreed/opt/anaconda3/lib/python3.7/site-packages/ipykernel_launcher.py:6: SettingWithCopyWarning: \n",
      "A value is trying to be set on a copy of a slice from a DataFrame\n",
      "\n",
      "See the caveats in the documentation: https://pandas.pydata.org/pandas-docs/stable/user_guide/indexing.html#returning-a-view-versus-a-copy\n",
      "  \n"
     ]
    }
   ],
   "source": [
    "us = pgeocode.Nominatim('us')\n",
    "\n",
    "for i in range(0, hq.shape[0]):\n",
    "    if pd.isna(hq.latitude[i]):\n",
    "        hq.latitude[i]  = us.query_postal_code(hq.zipcode[i]).latitude\n",
    "        hq.longitude[i] = us.query_postal_code(hq.zipcode[i]).longitude"
   ]
  },
  {
   "cell_type": "code",
   "execution_count": 148,
   "metadata": {},
   "outputs": [
    {
     "data": {
      "text/plain": [
       "array([  1864149,   5136239,   6484067,   7512304,   7536717, 107286601,\n",
       "       107358178, 120553524, 306744129, 406330118, 406330126, 433385663,\n",
       "       441433422, 450510896, 477538250, 902151877, 936186998, 967349333,\n",
       "         7001068, 510200629, 902180348,   4552857,   6918395, 602875296,\n",
       "       435965967, 657440202, 670508548, 671873610, 207813429, 252925805])"
      ]
     },
     "execution_count": 148,
     "metadata": {},
     "output_type": "execute_result"
    }
   ],
   "source": [
    "hq[hq['longitude'].isna()].abi.unique()"
   ]
  },
  {
   "cell_type": "code",
   "execution_count": 149,
   "metadata": {},
   "outputs": [],
   "source": [
    "supplierHQ = hq[['year','abi','latitude','longitude','zipcode']].copy().rename(columns = {'abi':      'supplier_abi',\n",
    "                                                                        'latitude':  'supplier_latitude',\n",
    "                                                                        'longitude': 'supplier_longitude',\n",
    "                                                                        'zipcode': 'supplier_zipcode'})\n",
    "\n",
    "\n",
    "customerHQ = hq[['year','abi','latitude','longitude','zipcode']].copy().rename(columns = {'abi':      'customer_abi',\n",
    "                                                                        'latitude':  'customer_latitude',\n",
    "                                                                        'longitude': 'customer_longitude',\n",
    "                                                                        'zipcode': 'customer_zipcode'})"
   ]
  },
  {
   "cell_type": "code",
   "execution_count": 150,
   "metadata": {},
   "outputs": [
    {
     "name": "stdout",
     "output_type": "stream",
     "text": [
      "4059 4059\n"
     ]
    }
   ],
   "source": [
    "print(sum(allAbi.isin(supplierHQ.supplier_abi)) ,\n",
    "     sum(allAbi.isin(customerHQ.customer_abi)))\n",
    "\n"
   ]
  },
  {
   "cell_type": "markdown",
   "metadata": {},
   "source": [
    "Merge to the closest year in either direction"
   ]
  },
  {
   "cell_type": "code",
   "execution_count": 151,
   "metadata": {},
   "outputs": [
    {
     "name": "stdout",
     "output_type": "stream",
     "text": [
      "(99854, 17)\n"
     ]
    },
    {
     "data": {
      "text/html": [
       "<div>\n",
       "<style scoped>\n",
       "    .dataframe tbody tr th:only-of-type {\n",
       "        vertical-align: middle;\n",
       "    }\n",
       "\n",
       "    .dataframe tbody tr th {\n",
       "        vertical-align: top;\n",
       "    }\n",
       "\n",
       "    .dataframe thead th {\n",
       "        text-align: right;\n",
       "    }\n",
       "</style>\n",
       "<table border=\"1\" class=\"dataframe\">\n",
       "  <thead>\n",
       "    <tr style=\"text-align: right;\">\n",
       "      <th></th>\n",
       "      <th>year</th>\n",
       "      <th>supplier_gvkey</th>\n",
       "      <th>customer_gvkey</th>\n",
       "      <th>salecs</th>\n",
       "      <th>firstYear</th>\n",
       "      <th>lastYear</th>\n",
       "      <th>customer_ind</th>\n",
       "      <th>supplier_ind</th>\n",
       "      <th>customer_cstatCompanies</th>\n",
       "      <th>customer_igCompanies</th>\n",
       "      <th>customer_abi</th>\n",
       "      <th>supplier_cstatCompanies</th>\n",
       "      <th>supplier_igCompanies</th>\n",
       "      <th>supplier_abi</th>\n",
       "      <th>customer_latitude</th>\n",
       "      <th>customer_longitude</th>\n",
       "      <th>customer_zipcode</th>\n",
       "    </tr>\n",
       "  </thead>\n",
       "  <tbody>\n",
       "    <tr>\n",
       "      <th>0</th>\n",
       "      <td>1997-01-01</td>\n",
       "      <td>27786.0</td>\n",
       "      <td>11056.0</td>\n",
       "      <td>54.900</td>\n",
       "      <td>2000-01-01</td>\n",
       "      <td>2001-01-01</td>\n",
       "      <td>transportUtilities</td>\n",
       "      <td>mining</td>\n",
       "      <td>aquila</td>\n",
       "      <td>aquila</td>\n",
       "      <td>7693658</td>\n",
       "      <td>chesapeake energy</td>\n",
       "      <td>chesapeake energy</td>\n",
       "      <td>463222893</td>\n",
       "      <td>39.10510</td>\n",
       "      <td>-94.59160</td>\n",
       "      <td>64199</td>\n",
       "    </tr>\n",
       "    <tr>\n",
       "      <th>1</th>\n",
       "      <td>1997-01-01</td>\n",
       "      <td>138005.0</td>\n",
       "      <td>1164.0</td>\n",
       "      <td>24.271</td>\n",
       "      <td>2000-01-01</td>\n",
       "      <td>2000-01-01</td>\n",
       "      <td>transportUtilities</td>\n",
       "      <td>services</td>\n",
       "      <td>mci</td>\n",
       "      <td>mci</td>\n",
       "      <td>712125533</td>\n",
       "      <td>lexent</td>\n",
       "      <td>lexent</td>\n",
       "      <td>544364045</td>\n",
       "      <td>32.30014</td>\n",
       "      <td>-90.18116</td>\n",
       "      <td>39201</td>\n",
       "    </tr>\n",
       "    <tr>\n",
       "      <th>2</th>\n",
       "      <td>1997-01-01</td>\n",
       "      <td>63766.0</td>\n",
       "      <td>1045.0</td>\n",
       "      <td>597.201</td>\n",
       "      <td>2000-01-01</td>\n",
       "      <td>2003-01-01</td>\n",
       "      <td>transportUtilities</td>\n",
       "      <td>services</td>\n",
       "      <td>american airlines</td>\n",
       "      <td>american airlines</td>\n",
       "      <td>7501711</td>\n",
       "      <td>sabre</td>\n",
       "      <td>sabre</td>\n",
       "      <td>416062792</td>\n",
       "      <td>32.88270</td>\n",
       "      <td>-97.03714</td>\n",
       "      <td>75261</td>\n",
       "    </tr>\n",
       "    <tr>\n",
       "      <th>3</th>\n",
       "      <td>1997-01-01</td>\n",
       "      <td>138005.0</td>\n",
       "      <td>13440.0</td>\n",
       "      <td>75.182</td>\n",
       "      <td>2000-01-01</td>\n",
       "      <td>2002-01-01</td>\n",
       "      <td>transportUtilities</td>\n",
       "      <td>services</td>\n",
       "      <td>level 3mmunications</td>\n",
       "      <td>level 3mmunications</td>\n",
       "      <td>463236547</td>\n",
       "      <td>lexent</td>\n",
       "      <td>lexent</td>\n",
       "      <td>544364045</td>\n",
       "      <td>39.92060</td>\n",
       "      <td>-105.14427</td>\n",
       "      <td>80021</td>\n",
       "    </tr>\n",
       "    <tr>\n",
       "      <th>4</th>\n",
       "      <td>1997-01-01</td>\n",
       "      <td>63766.0</td>\n",
       "      <td>10946.0</td>\n",
       "      <td>311.583</td>\n",
       "      <td>2000-01-01</td>\n",
       "      <td>2001-01-01</td>\n",
       "      <td>transportUtilities</td>\n",
       "      <td>services</td>\n",
       "      <td>us airways</td>\n",
       "      <td>us airways</td>\n",
       "      <td>441439718</td>\n",
       "      <td>sabre</td>\n",
       "      <td>sabre</td>\n",
       "      <td>416062792</td>\n",
       "      <td>38.85292</td>\n",
       "      <td>-77.04895</td>\n",
       "      <td>22202</td>\n",
       "    </tr>\n",
       "  </tbody>\n",
       "</table>\n",
       "</div>"
      ],
      "text/plain": [
       "        year  supplier_gvkey  customer_gvkey   salecs  firstYear   lastYear  \\\n",
       "0 1997-01-01         27786.0         11056.0   54.900 2000-01-01 2001-01-01   \n",
       "1 1997-01-01        138005.0          1164.0   24.271 2000-01-01 2000-01-01   \n",
       "2 1997-01-01         63766.0          1045.0  597.201 2000-01-01 2003-01-01   \n",
       "3 1997-01-01        138005.0         13440.0   75.182 2000-01-01 2002-01-01   \n",
       "4 1997-01-01         63766.0         10946.0  311.583 2000-01-01 2001-01-01   \n",
       "\n",
       "         customer_ind supplier_ind customer_cstatCompanies  \\\n",
       "0  transportUtilities       mining                  aquila   \n",
       "1  transportUtilities     services                     mci   \n",
       "2  transportUtilities     services      american airlines    \n",
       "3  transportUtilities     services     level 3mmunications   \n",
       "4  transportUtilities     services             us airways    \n",
       "\n",
       "  customer_igCompanies  customer_abi supplier_cstatCompanies  \\\n",
       "0               aquila       7693658       chesapeake energy   \n",
       "1                  mci     712125533                  lexent   \n",
       "2   american airlines        7501711                 sabre     \n",
       "3  level 3mmunications     463236547                  lexent   \n",
       "4          us airways      441439718                 sabre     \n",
       "\n",
       "  supplier_igCompanies  supplier_abi  customer_latitude  customer_longitude  \\\n",
       "0    chesapeake energy     463222893           39.10510           -94.59160   \n",
       "1               lexent     544364045           32.30014           -90.18116   \n",
       "2                sabre     416062792           32.88270           -97.03714   \n",
       "3               lexent     544364045           39.92060          -105.14427   \n",
       "4                sabre     416062792           38.85292           -77.04895   \n",
       "\n",
       "  customer_zipcode  \n",
       "0            64199  \n",
       "1            39201  \n",
       "2            75261  \n",
       "3            80021  \n",
       "4            22202  "
      ]
     },
     "execution_count": 151,
     "metadata": {},
     "output_type": "execute_result"
    }
   ],
   "source": [
    "merged_dataframe = pd.merge_asof(c_linksMerge2.sort_values('year'), customerHQ.sort_values('year'), on=\"year\",\n",
    "                                 by=\"customer_abi\", \n",
    "                                direction = \"nearest\")\n",
    "\n",
    "print(merged_dataframe.shape)\n",
    "merged_dataframe.head()"
   ]
  },
  {
   "cell_type": "code",
   "execution_count": 152,
   "metadata": {},
   "outputs": [
    {
     "name": "stdout",
     "output_type": "stream",
     "text": [
      "(99854, 20)\n",
      "(98787, 20)\n"
     ]
    }
   ],
   "source": [
    "c_linksMerge3 = pd.merge_asof(merged_dataframe.sort_values('year'), supplierHQ.sort_values('year'), on=\"year\",\n",
    "                                 by=\"supplier_abi\", \n",
    "                                direction = \"nearest\")\n",
    "\n",
    "# c_linksMerge2.merge(supplierHQ).merge(customerHQ)\n",
    "\n",
    "\n",
    "print(c_linksMerge3.shape)\n",
    "\n",
    "\n",
    "c_linksMerge3 = c_linksMerge3[(~c_linksMerge3.supplier_latitude.isna()) & (~c_linksMerge3.customer_latitude.isna())]\n",
    "\n",
    "print(c_linksMerge3.shape)\n",
    "\n",
    "c_linksMerge3 = c_linksMerge3.reset_index(drop = True)"
   ]
  },
  {
   "cell_type": "code",
   "execution_count": 153,
   "metadata": {},
   "outputs": [
    {
     "data": {
      "text/plain": [
       "0.9889415923171958"
      ]
     },
     "execution_count": 153,
     "metadata": {},
     "output_type": "execute_result"
    }
   ],
   "source": [
    "c_linksMerge3.salecs.sum()/c_linksMerge2.salecs.sum()"
   ]
  },
  {
   "cell_type": "markdown",
   "metadata": {},
   "source": [
    "Now, find the distances between suppliers."
   ]
  },
  {
   "cell_type": "code",
   "execution_count": 154,
   "metadata": {},
   "outputs": [
    {
     "name": "stderr",
     "output_type": "stream",
     "text": [
      "/Users/brianreed/opt/anaconda3/lib/python3.7/site-packages/ipykernel_launcher.py:5: SettingWithCopyWarning: \n",
      "A value is trying to be set on a copy of a slice from a DataFrame\n",
      "\n",
      "See the caveats in the documentation: https://pandas.pydata.org/pandas-docs/stable/user_guide/indexing.html#returning-a-view-versus-a-copy\n",
      "  \"\"\"\n"
     ]
    }
   ],
   "source": [
    "c_linksMerge3['dist'] = 0\n",
    "\n",
    "for i in range(0,c_linksMerge3.shape[0]):\n",
    "    c_linksMerge3.dist[i] = geopy.distance.geodesic((c_linksMerge3.customer_latitude[i],c_linksMerge3.customer_longitude[i]), \\\n",
    "                                                             (c_linksMerge3.supplier_latitude[i],c_linksMerge3.supplier_longitude[i])).km"
   ]
  },
  {
   "cell_type": "code",
   "execution_count": 155,
   "metadata": {},
   "outputs": [
    {
     "data": {
      "text/plain": [
       "<matplotlib.axes._subplots.AxesSubplot at 0x7fb5dae9ce10>"
      ]
     },
     "execution_count": 155,
     "metadata": {},
     "output_type": "execute_result"
    },
    {
     "data": {
      "image/png": "[encoded data removed]",
      "text/plain": [
       "<Figure size 432x288 with 1 Axes>"
      ]
     },
     "metadata": {
      "needs_background": "light"
     },
     "output_type": "display_data"
    }
   ],
   "source": [
    "c_linksMerge3.dist.hist(bins = 100)"
   ]
  },
  {
   "cell_type": "code",
   "execution_count": 156,
   "metadata": {},
   "outputs": [],
   "source": [
    "c_linksMerge3.to_csv(\"../../data/companyData/supplierCustomerHQs.csv\")"
   ]
  },
  {
   "cell_type": "code",
   "execution_count": 157,
   "metadata": {},
   "outputs": [],
   "source": [
    "test = pd.read_csv(\"../../data/companyData/supplierCustomerHQs.csv\")\n"
   ]
  },
  {
   "cell_type": "code",
   "execution_count": 158,
   "metadata": {},
   "outputs": [
    {
     "data": {
      "text/plain": [
       "1213"
      ]
     },
     "execution_count": 158,
     "metadata": {},
     "output_type": "execute_result"
    }
   ],
   "source": [
    "sum(test.customer_cstatCompanies == 'general motors')"
   ]
  },
  {
   "cell_type": "markdown",
   "metadata": {},
   "source": [
    "Try to figure out which companies have no sales figures. Are they the same companies through and through, or are some different ones in play?"
   ]
  },
  {
   "cell_type": "markdown",
   "metadata": {},
   "source": [
    "This means that most of the firms with an na transaction have another transaction. It could be either that year or another year. If a company has one transaction for a year and it's na, then turn it into a small amount so that we keep it. "
   ]
  },
  {
   "cell_type": "code",
   "execution_count": 159,
   "metadata": {},
   "outputs": [
    {
     "name": "stdout",
     "output_type": "stream",
     "text": [
      "(98787, 22) (98787, 23)\n"
     ]
    },
    {
     "data": {
      "text/html": [
       "<div>\n",
       "<style scoped>\n",
       "    .dataframe tbody tr th:only-of-type {\n",
       "        vertical-align: middle;\n",
       "    }\n",
       "\n",
       "    .dataframe tbody tr th {\n",
       "        vertical-align: top;\n",
       "    }\n",
       "\n",
       "    .dataframe thead th {\n",
       "        text-align: right;\n",
       "    }\n",
       "</style>\n",
       "<table border=\"1\" class=\"dataframe\">\n",
       "  <thead>\n",
       "    <tr style=\"text-align: right;\">\n",
       "      <th></th>\n",
       "      <th>year</th>\n",
       "      <th>supplier_gvkey</th>\n",
       "      <th>customer_gvkey</th>\n",
       "      <th>salecs</th>\n",
       "      <th>firstYear</th>\n",
       "      <th>lastYear</th>\n",
       "      <th>customer_ind</th>\n",
       "      <th>supplier_ind</th>\n",
       "      <th>customer_cstatCompanies</th>\n",
       "      <th>customer_igCompanies</th>\n",
       "      <th>...</th>\n",
       "      <th>supplier_abi</th>\n",
       "      <th>customer_latitude</th>\n",
       "      <th>customer_longitude</th>\n",
       "      <th>customer_zipcode</th>\n",
       "      <th>supplier_latitude</th>\n",
       "      <th>supplier_longitude</th>\n",
       "      <th>supplier_zipcode</th>\n",
       "      <th>dist</th>\n",
       "      <th>totalSuppliers</th>\n",
       "      <th>meanSales</th>\n",
       "    </tr>\n",
       "  </thead>\n",
       "  <tbody>\n",
       "    <tr>\n",
       "      <th>0</th>\n",
       "      <td>1997-01-01</td>\n",
       "      <td>27786.0</td>\n",
       "      <td>11056.0</td>\n",
       "      <td>54.900</td>\n",
       "      <td>2000-01-01</td>\n",
       "      <td>2001-01-01</td>\n",
       "      <td>transportUtilities</td>\n",
       "      <td>mining</td>\n",
       "      <td>aquila</td>\n",
       "      <td>aquila</td>\n",
       "      <td>...</td>\n",
       "      <td>463222893</td>\n",
       "      <td>39.10510</td>\n",
       "      <td>-94.59160</td>\n",
       "      <td>64199</td>\n",
       "      <td>35.52366</td>\n",
       "      <td>-97.52563</td>\n",
       "      <td>73154</td>\n",
       "      <td>474</td>\n",
       "      <td>2</td>\n",
       "      <td>30.249000</td>\n",
       "    </tr>\n",
       "    <tr>\n",
       "      <th>1</th>\n",
       "      <td>1997-01-01</td>\n",
       "      <td>2204.0</td>\n",
       "      <td>11056.0</td>\n",
       "      <td>5.598</td>\n",
       "      <td>2000-01-01</td>\n",
       "      <td>2002-01-01</td>\n",
       "      <td>transportUtilities</td>\n",
       "      <td>mining</td>\n",
       "      <td>aquila</td>\n",
       "      <td>aquila</td>\n",
       "      <td>...</td>\n",
       "      <td>443390901</td>\n",
       "      <td>39.10510</td>\n",
       "      <td>-94.59160</td>\n",
       "      <td>64199</td>\n",
       "      <td>32.84653</td>\n",
       "      <td>-96.77077</td>\n",
       "      <td>75206</td>\n",
       "      <td>721</td>\n",
       "      <td>2</td>\n",
       "      <td>30.249000</td>\n",
       "    </tr>\n",
       "    <tr>\n",
       "      <th>2</th>\n",
       "      <td>1997-01-01</td>\n",
       "      <td>7116.0</td>\n",
       "      <td>11259.0</td>\n",
       "      <td>NaN</td>\n",
       "      <td>2000-01-01</td>\n",
       "      <td>2019-01-01</td>\n",
       "      <td>retail</td>\n",
       "      <td>manu</td>\n",
       "      <td>walmart</td>\n",
       "      <td>walmart</td>\n",
       "      <td>...</td>\n",
       "      <td>441359064</td>\n",
       "      <td>36.36072</td>\n",
       "      <td>-94.22725</td>\n",
       "      <td>72712</td>\n",
       "      <td>33.92030</td>\n",
       "      <td>-118.39185</td>\n",
       "      <td>90245</td>\n",
       "      <td>2212</td>\n",
       "      <td>82</td>\n",
       "      <td>212.806338</td>\n",
       "    </tr>\n",
       "    <tr>\n",
       "      <th>3</th>\n",
       "      <td>1997-01-01</td>\n",
       "      <td>6431.0</td>\n",
       "      <td>11259.0</td>\n",
       "      <td>32.043</td>\n",
       "      <td>2000-01-01</td>\n",
       "      <td>2003-01-01</td>\n",
       "      <td>retail</td>\n",
       "      <td>manu</td>\n",
       "      <td>walmart</td>\n",
       "      <td>walmart</td>\n",
       "      <td>...</td>\n",
       "      <td>5035605</td>\n",
       "      <td>36.36072</td>\n",
       "      <td>-94.22725</td>\n",
       "      <td>72712</td>\n",
       "      <td>42.12987</td>\n",
       "      <td>-71.05769</td>\n",
       "      <td>02322</td>\n",
       "      <td>2092</td>\n",
       "      <td>82</td>\n",
       "      <td>212.806338</td>\n",
       "    </tr>\n",
       "    <tr>\n",
       "      <th>4</th>\n",
       "      <td>1997-01-01</td>\n",
       "      <td>5518.0</td>\n",
       "      <td>11259.0</td>\n",
       "      <td>530.210</td>\n",
       "      <td>2000-01-01</td>\n",
       "      <td>2019-01-01</td>\n",
       "      <td>retail</td>\n",
       "      <td>manu</td>\n",
       "      <td>walmart</td>\n",
       "      <td>walmart</td>\n",
       "      <td>...</td>\n",
       "      <td>435133038</td>\n",
       "      <td>36.36072</td>\n",
       "      <td>-94.22725</td>\n",
       "      <td>72712</td>\n",
       "      <td>41.88076</td>\n",
       "      <td>-71.38554</td>\n",
       "      <td>02862</td>\n",
       "      <td>2060</td>\n",
       "      <td>82</td>\n",
       "      <td>212.806338</td>\n",
       "    </tr>\n",
       "  </tbody>\n",
       "</table>\n",
       "<p>5 rows × 23 columns</p>\n",
       "</div>"
      ],
      "text/plain": [
       "        year  supplier_gvkey  customer_gvkey   salecs  firstYear   lastYear  \\\n",
       "0 1997-01-01         27786.0         11056.0   54.900 2000-01-01 2001-01-01   \n",
       "1 1997-01-01          2204.0         11056.0    5.598 2000-01-01 2002-01-01   \n",
       "2 1997-01-01          7116.0         11259.0      NaN 2000-01-01 2019-01-01   \n",
       "3 1997-01-01          6431.0         11259.0   32.043 2000-01-01 2003-01-01   \n",
       "4 1997-01-01          5518.0         11259.0  530.210 2000-01-01 2019-01-01   \n",
       "\n",
       "         customer_ind supplier_ind customer_cstatCompanies  \\\n",
       "0  transportUtilities       mining                  aquila   \n",
       "1  transportUtilities       mining                  aquila   \n",
       "2              retail         manu                 walmart   \n",
       "3              retail         manu                 walmart   \n",
       "4              retail         manu                 walmart   \n",
       "\n",
       "  customer_igCompanies  ...  supplier_abi customer_latitude  \\\n",
       "0               aquila  ...     463222893          39.10510   \n",
       "1               aquila  ...     443390901          39.10510   \n",
       "2              walmart  ...     441359064          36.36072   \n",
       "3              walmart  ...       5035605          36.36072   \n",
       "4              walmart  ...     435133038          36.36072   \n",
       "\n",
       "  customer_longitude  customer_zipcode  supplier_latitude  supplier_longitude  \\\n",
       "0          -94.59160             64199           35.52366           -97.52563   \n",
       "1          -94.59160             64199           32.84653           -96.77077   \n",
       "2          -94.22725             72712           33.92030          -118.39185   \n",
       "3          -94.22725             72712           42.12987           -71.05769   \n",
       "4          -94.22725             72712           41.88076           -71.38554   \n",
       "\n",
       "  supplier_zipcode  dist  totalSuppliers   meanSales  \n",
       "0            73154   474               2   30.249000  \n",
       "1            75206   721               2   30.249000  \n",
       "2            90245  2212              82  212.806338  \n",
       "3            02322  2092              82  212.806338  \n",
       "4            02862  2060              82  212.806338  \n",
       "\n",
       "[5 rows x 23 columns]"
      ]
     },
     "execution_count": 159,
     "metadata": {},
     "output_type": "execute_result"
    }
   ],
   "source": [
    "c_linksMerge3['suppliers'] = 1\n",
    "\n",
    "\n",
    "suppliers = c_linksMerge3[['year', 'customer_gvkey', 'suppliers']].groupby(['year','customer_gvkey']).sum().\\\n",
    "    reset_index().rename(columns = {'suppliers': 'totalSuppliers'})\n",
    "\n",
    "meanExp   = c_linksMerge3[['year', 'customer_gvkey', 'salecs']].groupby(['year','customer_gvkey'],dropna=False).\\\n",
    "    mean().reset_index().rename(columns = {'salecs': 'meanSales'})\n",
    "\n",
    "c_linksMerge4 = c_linksMerge3.merge(suppliers).drop(columns = {'suppliers'}).merge(meanExp)\n",
    "\n",
    "\n",
    "\n",
    "print(c_linksMerge3.shape,c_linksMerge4.shape)\n",
    "\n",
    "\n",
    "c_linksMerge4.head()"
   ]
  },
  {
   "cell_type": "code",
   "execution_count": 160,
   "metadata": {},
   "outputs": [
    {
     "name": "stdout",
     "output_type": "stream",
     "text": [
      "Find the fraction of firms who have an na transaction value one year, but another non-na [0.75112613]\n"
     ]
    }
   ],
   "source": [
    "withNAs = c_linksMerge3[c_linksMerge3.salecs.isna()].customer_gvkey.drop_duplicates()\n",
    "\n",
    "print(\"Find the fraction of firms who have an na transaction value one year, but another non-na\", \n",
    "      withNAs.isin(c_linksMerge4[~c_linksMerge4.salecs.isna()].customer_gvkey.drop_duplicates()).sum()/withNAs.shape)"
   ]
  },
  {
   "cell_type": "markdown",
   "metadata": {},
   "source": [
    "For each row: if salecs is na, replace with mean sales. If mean sales also na, replace with 1."
   ]
  },
  {
   "cell_type": "code",
   "execution_count": 161,
   "metadata": {},
   "outputs": [
    {
     "name": "stderr",
     "output_type": "stream",
     "text": [
      "/Users/brianreed/opt/anaconda3/lib/python3.7/site-packages/ipykernel_launcher.py:9: SettingWithCopyWarning: \n",
      "A value is trying to be set on a copy of a slice from a DataFrame\n",
      "\n",
      "See the caveats in the documentation: https://pandas.pydata.org/pandas-docs/stable/user_guide/indexing.html#returning-a-view-versus-a-copy\n",
      "  if __name__ == '__main__':\n",
      "/Users/brianreed/opt/anaconda3/lib/python3.7/site-packages/ipykernel_launcher.py:5: SettingWithCopyWarning: \n",
      "A value is trying to be set on a copy of a slice from a DataFrame\n",
      "\n",
      "See the caveats in the documentation: https://pandas.pydata.org/pandas-docs/stable/user_guide/indexing.html#returning-a-view-versus-a-copy\n",
      "  \"\"\"\n"
     ]
    }
   ],
   "source": [
    "for i in range(0,c_linksMerge4.shape[0]):\n",
    "    \n",
    "    # if mean sales is na, replace with 1\n",
    "    if pd.isna(c_linksMerge4.meanSales[i]):\n",
    "        c_linksMerge4.salecs[i] = 1\n",
    "    \n",
    "    # if salecs is na, replace with mean sales\n",
    "    elif pd.isna(c_linksMerge4.salecs[i]):\n",
    "        c_linksMerge4.salecs[i] = c_linksMerge4.meanSales[i]"
   ]
  },
  {
   "cell_type": "code",
   "execution_count": 162,
   "metadata": {},
   "outputs": [
    {
     "name": "stdout",
     "output_type": "stream",
     "text": [
      "(23250, 2) (23250, 2)\n"
     ]
    }
   ],
   "source": [
    "print(c_linksMerge3[['customer_gvkey', 'year']].drop_duplicates().shape,\n",
    "     c_linksMerge4[['customer_gvkey', 'year']].drop_duplicates().shape)"
   ]
  },
  {
   "cell_type": "code",
   "execution_count": 163,
   "metadata": {},
   "outputs": [
    {
     "data": {
      "text/plain": [
       "(98787, 23)"
      ]
     },
     "execution_count": 163,
     "metadata": {},
     "output_type": "execute_result"
    }
   ],
   "source": [
    "# c_linksMerge4 = c_linksMerge4[(c_linksMerge4.dist >= 500)]\n",
    "\n",
    "c_linksMerge4.shape"
   ]
  },
  {
   "cell_type": "code",
   "execution_count": 164,
   "metadata": {},
   "outputs": [
    {
     "data": {
      "text/html": [
       "<div>\n",
       "<style scoped>\n",
       "    .dataframe tbody tr th:only-of-type {\n",
       "        vertical-align: middle;\n",
       "    }\n",
       "\n",
       "    .dataframe tbody tr th {\n",
       "        vertical-align: top;\n",
       "    }\n",
       "\n",
       "    .dataframe thead th {\n",
       "        text-align: right;\n",
       "    }\n",
       "</style>\n",
       "<table border=\"1\" class=\"dataframe\">\n",
       "  <thead>\n",
       "    <tr style=\"text-align: right;\">\n",
       "      <th></th>\n",
       "      <th>year</th>\n",
       "      <th>supplier_gvkey</th>\n",
       "      <th>customer_gvkey</th>\n",
       "      <th>salecs</th>\n",
       "      <th>firstYear</th>\n",
       "      <th>lastYear</th>\n",
       "      <th>customer_ind</th>\n",
       "      <th>supplier_ind</th>\n",
       "      <th>customer_cstatCompanies</th>\n",
       "      <th>customer_igCompanies</th>\n",
       "      <th>...</th>\n",
       "      <th>supplier_abi</th>\n",
       "      <th>customer_latitude</th>\n",
       "      <th>customer_longitude</th>\n",
       "      <th>customer_zipcode</th>\n",
       "      <th>supplier_latitude</th>\n",
       "      <th>supplier_longitude</th>\n",
       "      <th>supplier_zipcode</th>\n",
       "      <th>dist</th>\n",
       "      <th>totalSuppliers</th>\n",
       "      <th>meanSales</th>\n",
       "    </tr>\n",
       "  </thead>\n",
       "  <tbody>\n",
       "    <tr>\n",
       "      <th>0</th>\n",
       "      <td>1997-01-01</td>\n",
       "      <td>27786.0</td>\n",
       "      <td>11056.0</td>\n",
       "      <td>54.900000</td>\n",
       "      <td>2000-01-01</td>\n",
       "      <td>2001-01-01</td>\n",
       "      <td>transportUtilities</td>\n",
       "      <td>mining</td>\n",
       "      <td>aquila</td>\n",
       "      <td>aquila</td>\n",
       "      <td>...</td>\n",
       "      <td>463222893</td>\n",
       "      <td>39.10510</td>\n",
       "      <td>-94.59160</td>\n",
       "      <td>64199</td>\n",
       "      <td>35.52366</td>\n",
       "      <td>-97.52563</td>\n",
       "      <td>73154</td>\n",
       "      <td>474</td>\n",
       "      <td>2</td>\n",
       "      <td>30.249000</td>\n",
       "    </tr>\n",
       "    <tr>\n",
       "      <th>1</th>\n",
       "      <td>1997-01-01</td>\n",
       "      <td>2204.0</td>\n",
       "      <td>11056.0</td>\n",
       "      <td>5.598000</td>\n",
       "      <td>2000-01-01</td>\n",
       "      <td>2002-01-01</td>\n",
       "      <td>transportUtilities</td>\n",
       "      <td>mining</td>\n",
       "      <td>aquila</td>\n",
       "      <td>aquila</td>\n",
       "      <td>...</td>\n",
       "      <td>443390901</td>\n",
       "      <td>39.10510</td>\n",
       "      <td>-94.59160</td>\n",
       "      <td>64199</td>\n",
       "      <td>32.84653</td>\n",
       "      <td>-96.77077</td>\n",
       "      <td>75206</td>\n",
       "      <td>721</td>\n",
       "      <td>2</td>\n",
       "      <td>30.249000</td>\n",
       "    </tr>\n",
       "    <tr>\n",
       "      <th>2</th>\n",
       "      <td>1997-01-01</td>\n",
       "      <td>7116.0</td>\n",
       "      <td>11259.0</td>\n",
       "      <td>212.806338</td>\n",
       "      <td>2000-01-01</td>\n",
       "      <td>2019-01-01</td>\n",
       "      <td>retail</td>\n",
       "      <td>manu</td>\n",
       "      <td>walmart</td>\n",
       "      <td>walmart</td>\n",
       "      <td>...</td>\n",
       "      <td>441359064</td>\n",
       "      <td>36.36072</td>\n",
       "      <td>-94.22725</td>\n",
       "      <td>72712</td>\n",
       "      <td>33.92030</td>\n",
       "      <td>-118.39185</td>\n",
       "      <td>90245</td>\n",
       "      <td>2212</td>\n",
       "      <td>82</td>\n",
       "      <td>212.806338</td>\n",
       "    </tr>\n",
       "    <tr>\n",
       "      <th>3</th>\n",
       "      <td>1997-01-01</td>\n",
       "      <td>6431.0</td>\n",
       "      <td>11259.0</td>\n",
       "      <td>32.043000</td>\n",
       "      <td>2000-01-01</td>\n",
       "      <td>2003-01-01</td>\n",
       "      <td>retail</td>\n",
       "      <td>manu</td>\n",
       "      <td>walmart</td>\n",
       "      <td>walmart</td>\n",
       "      <td>...</td>\n",
       "      <td>5035605</td>\n",
       "      <td>36.36072</td>\n",
       "      <td>-94.22725</td>\n",
       "      <td>72712</td>\n",
       "      <td>42.12987</td>\n",
       "      <td>-71.05769</td>\n",
       "      <td>02322</td>\n",
       "      <td>2092</td>\n",
       "      <td>82</td>\n",
       "      <td>212.806338</td>\n",
       "    </tr>\n",
       "    <tr>\n",
       "      <th>4</th>\n",
       "      <td>1997-01-01</td>\n",
       "      <td>5518.0</td>\n",
       "      <td>11259.0</td>\n",
       "      <td>530.210000</td>\n",
       "      <td>2000-01-01</td>\n",
       "      <td>2019-01-01</td>\n",
       "      <td>retail</td>\n",
       "      <td>manu</td>\n",
       "      <td>walmart</td>\n",
       "      <td>walmart</td>\n",
       "      <td>...</td>\n",
       "      <td>435133038</td>\n",
       "      <td>36.36072</td>\n",
       "      <td>-94.22725</td>\n",
       "      <td>72712</td>\n",
       "      <td>41.88076</td>\n",
       "      <td>-71.38554</td>\n",
       "      <td>02862</td>\n",
       "      <td>2060</td>\n",
       "      <td>82</td>\n",
       "      <td>212.806338</td>\n",
       "    </tr>\n",
       "  </tbody>\n",
       "</table>\n",
       "<p>5 rows × 23 columns</p>\n",
       "</div>"
      ],
      "text/plain": [
       "        year  supplier_gvkey  customer_gvkey      salecs  firstYear  \\\n",
       "0 1997-01-01         27786.0         11056.0   54.900000 2000-01-01   \n",
       "1 1997-01-01          2204.0         11056.0    5.598000 2000-01-01   \n",
       "2 1997-01-01          7116.0         11259.0  212.806338 2000-01-01   \n",
       "3 1997-01-01          6431.0         11259.0   32.043000 2000-01-01   \n",
       "4 1997-01-01          5518.0         11259.0  530.210000 2000-01-01   \n",
       "\n",
       "    lastYear        customer_ind supplier_ind customer_cstatCompanies  \\\n",
       "0 2001-01-01  transportUtilities       mining                  aquila   \n",
       "1 2002-01-01  transportUtilities       mining                  aquila   \n",
       "2 2019-01-01              retail         manu                 walmart   \n",
       "3 2003-01-01              retail         manu                 walmart   \n",
       "4 2019-01-01              retail         manu                 walmart   \n",
       "\n",
       "  customer_igCompanies  ...  supplier_abi customer_latitude  \\\n",
       "0               aquila  ...     463222893          39.10510   \n",
       "1               aquila  ...     443390901          39.10510   \n",
       "2              walmart  ...     441359064          36.36072   \n",
       "3              walmart  ...       5035605          36.36072   \n",
       "4              walmart  ...     435133038          36.36072   \n",
       "\n",
       "  customer_longitude  customer_zipcode  supplier_latitude  supplier_longitude  \\\n",
       "0          -94.59160             64199           35.52366           -97.52563   \n",
       "1          -94.59160             64199           32.84653           -96.77077   \n",
       "2          -94.22725             72712           33.92030          -118.39185   \n",
       "3          -94.22725             72712           42.12987           -71.05769   \n",
       "4          -94.22725             72712           41.88076           -71.38554   \n",
       "\n",
       "  supplier_zipcode  dist  totalSuppliers   meanSales  \n",
       "0            73154   474               2   30.249000  \n",
       "1            75206   721               2   30.249000  \n",
       "2            90245  2212              82  212.806338  \n",
       "3            02322  2092              82  212.806338  \n",
       "4            02862  2060              82  212.806338  \n",
       "\n",
       "[5 rows x 23 columns]"
      ]
     },
     "execution_count": 164,
     "metadata": {},
     "output_type": "execute_result"
    }
   ],
   "source": [
    "c_linksMerge4.head()"
   ]
  },
  {
   "cell_type": "code",
   "execution_count": 165,
   "metadata": {},
   "outputs": [
    {
     "data": {
      "text/plain": [
       "0        73154\n",
       "1        75206\n",
       "2        90245\n",
       "3        02322\n",
       "4        02862\n",
       "         ...  \n",
       "98782    10018\n",
       "98783    93012\n",
       "98784    33408\n",
       "98785    33408\n",
       "98786    95051\n",
       "Name: supplier_zipcode, Length: 98787, dtype: object"
      ]
     },
     "execution_count": 165,
     "metadata": {},
     "output_type": "execute_result"
    }
   ],
   "source": [
    "c_linksMerge4.supplier_zipcode"
   ]
  },
  {
   "cell_type": "markdown",
   "metadata": {},
   "source": [
    "## Merge in supplier weather\n",
    "Get the weather data."
   ]
  },
  {
   "cell_type": "code",
   "execution_count": null,
   "metadata": {},
   "outputs": [],
   "source": [
    "g = pd.read_csv(\"../../data/companyData/weatherByEstablishment.csv\").\\\n",
    "    drop(columns = {\"Unnamed: 0\"})\n",
    "\n",
    "\n",
    "allWeather_withLags = pd.read_csv(\"../../data/companyData/allWeather_withLags_allZips.csv\").\\\n",
    "    drop(columns = {\"Unnamed: 0\", 'yearQtr'}).astype({'year':       'category',\n",
    "                           'qtr':        'category',\n",
    "                           'zipcode':    'category'})\n",
    "\n",
    "\n",
    "averages = pd.read_csv(\"../../data/companyData/quarterlyStatsByZip.csv\").\\\n",
    "    drop(columns = {\"Unnamed: 0\"}).rename(columns = {'ZIP': 'zipcode'})\n",
    "averages['qtr'] = averages.quarter.str.slice(1,2).astype('float')\n",
    "averages.drop(columns = {'quarter'}, inplace = True) \n",
    "averages = averages.astype({'qtr':        'category',\n",
    "                           'zipcode':    'category'})\n",
    "\n",
    "\n",
    "allWeather_withLags2 = pd.read_csv(\"../../data/companyData/allWeather_withLags_new.csv\").\\\n",
    "    drop(columns = {\"Unnamed: 0\", 'yearQtr'}).astype({'year':       'category',\n",
    "                           'qtr':        'category',\n",
    "                           'zipcode':    'category'})\n",
    "\n",
    "\n",
    "thunderstorms_withLags = pd.read_csv(\"../../data/companyData/thunderstorms_withLags.csv\").\\\n",
    "    drop(columns = {\"Unnamed: 0\", 'yearQtr'}).astype({'year':       'category',\n",
    "                           'qtr':        'category',\n",
    "                           'zipcode':    'category'})\n",
    "\n",
    "allWeather = averages.merge(thunderstorms_withLags).merge(thunderstorms_withLags).merge(allWeather_withLags2).merge(g)"
   ]
  },
  {
   "cell_type": "code",
   "execution_count": null,
   "metadata": {},
   "outputs": [],
   "source": [
    "allWeather['zipcode'] = allWeather.zipcode.astype('str').str.zfill(5).astype({'zipcode': 'category'})"
   ]
  },
  {
   "cell_type": "code",
   "execution_count": null,
   "metadata": {},
   "outputs": [],
   "source": [
    "allCustomerWeather = allWeather_withLags.merge(averages).\\\n",
    "    merge(thunderstorms_withLags).merge(thunderstorms_withLags).merge(allWeather_withLags2).merge(g)\n",
    "\n",
    "\n",
    "for colname in allCustomerWeather.columns[3:]:\n",
    "    allCustomerWeather.rename(columns = {colname: 'customer_' + colname}, inplace = True)\n",
    "\n",
    "allCustomerWeather.rename(columns = {'zipcode': 'customer_zipcode'}, inplace = True)\n",
    "allCustomerWeather['customer_zipcode']     = allCustomerWeather.customer_zipcode.astype('str').str.zfill(5)\n",
    "\n",
    "print(allCustomerWeather.shape)\n",
    "\n",
    "allCustomerWeather.head()"
   ]
  },
  {
   "cell_type": "code",
   "execution_count": null,
   "metadata": {},
   "outputs": [],
   "source": [
    "allSupplierWeather = allWeather_withLags.merge(averages).\\\n",
    "    merge(thunderstorms_withLags).merge(thunderstorms_withLags).merge(allWeather_withLags2).merge(g)\n",
    "\n",
    "# merge(g).streaks_withLags.\n",
    "\n",
    "for colname in allSupplierWeather.columns[3:]:\n",
    "    allSupplierWeather.rename(columns = {colname: 'supplier_' + colname}, inplace = True)\n",
    "\n",
    "allSupplierWeather.rename(columns = {'zipcode': 'supplier_zipcode'}, inplace = True)\n",
    "allSupplierWeather['supplier_zipcode']     = allSupplierWeather.supplier_zipcode.astype('str').str.zfill(5)\n",
    "\n",
    "allSupplierWeather.head()"
   ]
  },
  {
   "cell_type": "code",
   "execution_count": null,
   "metadata": {},
   "outputs": [],
   "source": [
    "c_linksMerge4         = c_linksMerge4[c_linksMerge4.supplier_zipcode.isin(allSupplierWeather.supplier_zipcode) & \n",
    "                             c_linksMerge4.customer_zipcode.isin(allCustomerWeather.customer_zipcode)]\n",
    "\n",
    "c_linksMerge4['year'] = c_linksMerge4.year.astype('str').str.slice(0,4).astype('int64')\n",
    "\n",
    "print(c_linksMerge4.shape)"
   ]
  },
  {
   "cell_type": "code",
   "execution_count": null,
   "metadata": {},
   "outputs": [],
   "source": [
    "compustat = pd.read_csv(\"../../data/companyData/compustatChanges_withControls.csv\").\\\n",
    "    drop(columns = ['Unnamed: 0', 'datadate','curcdq','costat','add1','addzip','city','state',\n",
    "                   'fyearq','assetsLagged','datacqtr','datafqtr','fyr','DATE']).\\\n",
    "    rename(columns = {'gvkey': 'customer_gvkey'})\n",
    "\n",
    "\n",
    "print(compustat.columns,compustat.shape)"
   ]
  },
  {
   "cell_type": "code",
   "execution_count": null,
   "metadata": {},
   "outputs": [],
   "source": [
    "compustat.year.min()"
   ]
  },
  {
   "cell_type": "code",
   "execution_count": null,
   "metadata": {},
   "outputs": [],
   "source": [
    "compustat_withLinks = c_linksMerge4.merge(compustat)\n",
    "compustat_withLinks.shape"
   ]
  },
  {
   "cell_type": "code",
   "execution_count": null,
   "metadata": {},
   "outputs": [],
   "source": [
    "compustat_withLinks.columns"
   ]
  },
  {
   "cell_type": "code",
   "execution_count": null,
   "metadata": {},
   "outputs": [],
   "source": [
    "compustat_withLinks.to_csv(\"../../data/companyData/allSupplierCustomerData.csv\")"
   ]
  },
  {
   "cell_type": "markdown",
   "metadata": {},
   "source": [
    "# Aggregating SC Information\n",
    "How do we go from a bunch of information on a bunch of suppliers to a more general measure. Candidates:\n",
    "    - max over suppliers\n",
    "    - average over suppliers\n",
    "    - sales-weighted average over supplier\n",
    "    - random choice \n",
    "    \n",
    "Start with the max.    "
   ]
  },
  {
   "cell_type": "code",
   "execution_count": 51,
   "metadata": {},
   "outputs": [
    {
     "data": {
      "text/html": [
       "<div>\n",
       "<style scoped>\n",
       "    .dataframe tbody tr th:only-of-type {\n",
       "        vertical-align: middle;\n",
       "    }\n",
       "\n",
       "    .dataframe tbody tr th {\n",
       "        vertical-align: top;\n",
       "    }\n",
       "\n",
       "    .dataframe thead th {\n",
       "        text-align: right;\n",
       "    }\n",
       "</style>\n",
       "<table border=\"1\" class=\"dataframe\">\n",
       "  <thead>\n",
       "    <tr style=\"text-align: right;\">\n",
       "      <th></th>\n",
       "      <th>customer_gvkey</th>\n",
       "      <th>year</th>\n",
       "      <th>qtr</th>\n",
       "      <th>companyName</th>\n",
       "      <th>assets</th>\n",
       "      <th>cash</th>\n",
       "      <th>costGoodsSold</th>\n",
       "      <th>totalInv</th>\n",
       "      <th>netIncome</th>\n",
       "      <th>opInc_afDep</th>\n",
       "      <th>...</th>\n",
       "      <th>priceCloseLast</th>\n",
       "      <th>cashLast</th>\n",
       "      <th>netIncomeLagged</th>\n",
       "      <th>roa_lagged</th>\n",
       "      <th>sic2</th>\n",
       "      <th>indGroup</th>\n",
       "      <th>earliestYear</th>\n",
       "      <th>ageTercile</th>\n",
       "      <th>sizeTercile</th>\n",
       "      <th>profitTercile</th>\n",
       "    </tr>\n",
       "  </thead>\n",
       "  <tbody>\n",
       "    <tr>\n",
       "      <th>0</th>\n",
       "      <td>8515</td>\n",
       "      <td>1999</td>\n",
       "      <td>3</td>\n",
       "      <td>PHI INC</td>\n",
       "      <td>NaN</td>\n",
       "      <td>NaN</td>\n",
       "      <td>NaN</td>\n",
       "      <td>NaN</td>\n",
       "      <td>NaN</td>\n",
       "      <td>NaN</td>\n",
       "      <td>...</td>\n",
       "      <td>24.288648</td>\n",
       "      <td>NaN</td>\n",
       "      <td>2.794491</td>\n",
       "      <td>0.008235</td>\n",
       "      <td>45</td>\n",
       "      <td>transportUtilities</td>\n",
       "      <td>1981</td>\n",
       "      <td>0</td>\n",
       "      <td>1.0</td>\n",
       "      <td>1.0</td>\n",
       "    </tr>\n",
       "    <tr>\n",
       "      <th>1</th>\n",
       "      <td>12405</td>\n",
       "      <td>1999</td>\n",
       "      <td>3</td>\n",
       "      <td>AVESIS INC</td>\n",
       "      <td>NaN</td>\n",
       "      <td>NaN</td>\n",
       "      <td>2.470251</td>\n",
       "      <td>NaN</td>\n",
       "      <td>0.337057</td>\n",
       "      <td>0.293614</td>\n",
       "      <td>...</td>\n",
       "      <td>0.531314</td>\n",
       "      <td>NaN</td>\n",
       "      <td>0.093662</td>\n",
       "      <td>0.031012</td>\n",
       "      <td>64</td>\n",
       "      <td>finance</td>\n",
       "      <td>1984</td>\n",
       "      <td>0</td>\n",
       "      <td>0.0</td>\n",
       "      <td>2.0</td>\n",
       "    </tr>\n",
       "    <tr>\n",
       "      <th>2</th>\n",
       "      <td>24474</td>\n",
       "      <td>1999</td>\n",
       "      <td>3</td>\n",
       "      <td>TECHNOLOGY SOLUTIONS CO</td>\n",
       "      <td>362.960666</td>\n",
       "      <td>NaN</td>\n",
       "      <td>36.229854</td>\n",
       "      <td>0.000000</td>\n",
       "      <td>5.021396</td>\n",
       "      <td>1.423128</td>\n",
       "      <td>...</td>\n",
       "      <td>12.428956</td>\n",
       "      <td>NaN</td>\n",
       "      <td>8.279063</td>\n",
       "      <td>0.029498</td>\n",
       "      <td>73</td>\n",
       "      <td>services</td>\n",
       "      <td>1990</td>\n",
       "      <td>0</td>\n",
       "      <td>1.0</td>\n",
       "      <td>2.0</td>\n",
       "    </tr>\n",
       "    <tr>\n",
       "      <th>3</th>\n",
       "      <td>26830</td>\n",
       "      <td>1999</td>\n",
       "      <td>3</td>\n",
       "      <td>NAMIBIAN MINERALS CORP</td>\n",
       "      <td>111.299129</td>\n",
       "      <td>NaN</td>\n",
       "      <td>7.938061</td>\n",
       "      <td>4.269385</td>\n",
       "      <td>8.078875</td>\n",
       "      <td>7.897614</td>\n",
       "      <td>...</td>\n",
       "      <td>3.178473</td>\n",
       "      <td>NaN</td>\n",
       "      <td>-4.821264</td>\n",
       "      <td>-0.063432</td>\n",
       "      <td>14</td>\n",
       "      <td>mining</td>\n",
       "      <td>1994</td>\n",
       "      <td>1</td>\n",
       "      <td>0.0</td>\n",
       "      <td>0.0</td>\n",
       "    </tr>\n",
       "    <tr>\n",
       "      <th>4</th>\n",
       "      <td>30448</td>\n",
       "      <td>1970</td>\n",
       "      <td>1</td>\n",
       "      <td>AMERICAN HOMESTAR CORP</td>\n",
       "      <td>NaN</td>\n",
       "      <td>NaN</td>\n",
       "      <td>NaN</td>\n",
       "      <td>NaN</td>\n",
       "      <td>NaN</td>\n",
       "      <td>NaN</td>\n",
       "      <td>...</td>\n",
       "      <td>11.195549</td>\n",
       "      <td>NaN</td>\n",
       "      <td>6.880282</td>\n",
       "      <td>0.018206</td>\n",
       "      <td>24</td>\n",
       "      <td>manu</td>\n",
       "      <td>1993</td>\n",
       "      <td>0</td>\n",
       "      <td>1.0</td>\n",
       "      <td>2.0</td>\n",
       "    </tr>\n",
       "  </tbody>\n",
       "</table>\n",
       "<p>5 rows × 30 columns</p>\n",
       "</div>"
      ],
      "text/plain": [
       "   customer_gvkey  year  qtr              companyName      assets  cash  \\\n",
       "0            8515  1999    3                  PHI INC         NaN   NaN   \n",
       "1           12405  1999    3               AVESIS INC         NaN   NaN   \n",
       "2           24474  1999    3  TECHNOLOGY SOLUTIONS CO  362.960666   NaN   \n",
       "3           26830  1999    3   NAMIBIAN MINERALS CORP  111.299129   NaN   \n",
       "4           30448  1970    1   AMERICAN HOMESTAR CORP         NaN   NaN   \n",
       "\n",
       "   costGoodsSold  totalInv  netIncome  opInc_afDep  ...  priceCloseLast  \\\n",
       "0            NaN       NaN        NaN          NaN  ...       24.288648   \n",
       "1       2.470251       NaN   0.337057     0.293614  ...        0.531314   \n",
       "2      36.229854  0.000000   5.021396     1.423128  ...       12.428956   \n",
       "3       7.938061  4.269385   8.078875     7.897614  ...        3.178473   \n",
       "4            NaN       NaN        NaN          NaN  ...       11.195549   \n",
       "\n",
       "   cashLast  netIncomeLagged  roa_lagged  sic2            indGroup  \\\n",
       "0       NaN         2.794491    0.008235    45  transportUtilities   \n",
       "1       NaN         0.093662    0.031012    64             finance   \n",
       "2       NaN         8.279063    0.029498    73            services   \n",
       "3       NaN        -4.821264   -0.063432    14              mining   \n",
       "4       NaN         6.880282    0.018206    24                manu   \n",
       "\n",
       "   earliestYear  ageTercile  sizeTercile  profitTercile  \n",
       "0          1981           0          1.0            1.0  \n",
       "1          1984           0          0.0            2.0  \n",
       "2          1990           0          1.0            2.0  \n",
       "3          1994           1          0.0            0.0  \n",
       "4          1993           0          1.0            2.0  \n",
       "\n",
       "[5 rows x 30 columns]"
      ]
     },
     "execution_count": 51,
     "metadata": {},
     "output_type": "execute_result"
    }
   ],
   "source": [
    "compustat.head()"
   ]
  },
  {
   "cell_type": "code",
   "execution_count": 63,
   "metadata": {},
   "outputs": [
    {
     "data": {
      "text/html": [
       "<div>\n",
       "<style scoped>\n",
       "    .dataframe tbody tr th:only-of-type {\n",
       "        vertical-align: middle;\n",
       "    }\n",
       "\n",
       "    .dataframe tbody tr th {\n",
       "        vertical-align: top;\n",
       "    }\n",
       "\n",
       "    .dataframe thead th {\n",
       "        text-align: right;\n",
       "    }\n",
       "</style>\n",
       "<table border=\"1\" class=\"dataframe\">\n",
       "  <thead>\n",
       "    <tr style=\"text-align: right;\">\n",
       "      <th></th>\n",
       "      <th>year</th>\n",
       "      <th>customer_gvkey</th>\n",
       "      <th>qtr</th>\n",
       "      <th>supplier_precip_annual_50</th>\n",
       "      <th>supplier_precip_annual_95</th>\n",
       "      <th>supplier_precip_annual_99</th>\n",
       "      <th>supplier_precip_zip_50</th>\n",
       "      <th>supplier_precip_zip_95</th>\n",
       "      <th>supplier_precip_zip_99</th>\n",
       "      <th>supplier_precip_zipQuarter_50</th>\n",
       "      <th>...</th>\n",
       "      <th>customer_days90Plus</th>\n",
       "      <th>customer_streak90Plus</th>\n",
       "      <th>customer_lag1_days90Plus</th>\n",
       "      <th>customer_lag1_streak90Plus</th>\n",
       "      <th>customer_lag2_days90Plus</th>\n",
       "      <th>customer_lag2_streak90Plus</th>\n",
       "      <th>customer_lag3_days90Plus</th>\n",
       "      <th>customer_lag3_streak90Plus</th>\n",
       "      <th>customer_lag4_days90Plus</th>\n",
       "      <th>customer_lag4_streak90Plus</th>\n",
       "    </tr>\n",
       "  </thead>\n",
       "  <tbody>\n",
       "    <tr>\n",
       "      <th>0</th>\n",
       "      <td>2001</td>\n",
       "      <td>136648.0</td>\n",
       "      <td>1</td>\n",
       "      <td>19.0</td>\n",
       "      <td>3.0</td>\n",
       "      <td>0.0</td>\n",
       "      <td>32.0</td>\n",
       "      <td>6.0</td>\n",
       "      <td>2.0</td>\n",
       "      <td>32.0</td>\n",
       "      <td>...</td>\n",
       "      <td>0</td>\n",
       "      <td>0</td>\n",
       "      <td>0</td>\n",
       "      <td>0</td>\n",
       "      <td>0</td>\n",
       "      <td>0</td>\n",
       "      <td>1</td>\n",
       "      <td>0</td>\n",
       "      <td>0</td>\n",
       "      <td>1</td>\n",
       "    </tr>\n",
       "    <tr>\n",
       "      <th>1</th>\n",
       "      <td>2001</td>\n",
       "      <td>136648.0</td>\n",
       "      <td>2</td>\n",
       "      <td>14.0</td>\n",
       "      <td>4.0</td>\n",
       "      <td>2.0</td>\n",
       "      <td>31.0</td>\n",
       "      <td>7.0</td>\n",
       "      <td>2.0</td>\n",
       "      <td>31.0</td>\n",
       "      <td>...</td>\n",
       "      <td>3</td>\n",
       "      <td>0</td>\n",
       "      <td>0</td>\n",
       "      <td>0</td>\n",
       "      <td>0</td>\n",
       "      <td>0</td>\n",
       "      <td>0</td>\n",
       "      <td>0</td>\n",
       "      <td>1</td>\n",
       "      <td>0</td>\n",
       "    </tr>\n",
       "    <tr>\n",
       "      <th>2</th>\n",
       "      <td>2001</td>\n",
       "      <td>136648.0</td>\n",
       "      <td>3</td>\n",
       "      <td>16.0</td>\n",
       "      <td>3.0</td>\n",
       "      <td>0.0</td>\n",
       "      <td>34.0</td>\n",
       "      <td>6.0</td>\n",
       "      <td>1.0</td>\n",
       "      <td>34.0</td>\n",
       "      <td>...</td>\n",
       "      <td>19</td>\n",
       "      <td>0</td>\n",
       "      <td>3</td>\n",
       "      <td>0</td>\n",
       "      <td>0</td>\n",
       "      <td>0</td>\n",
       "      <td>0</td>\n",
       "      <td>0</td>\n",
       "      <td>0</td>\n",
       "      <td>0</td>\n",
       "    </tr>\n",
       "    <tr>\n",
       "      <th>3</th>\n",
       "      <td>2001</td>\n",
       "      <td>136648.0</td>\n",
       "      <td>4</td>\n",
       "      <td>7.0</td>\n",
       "      <td>0.0</td>\n",
       "      <td>0.0</td>\n",
       "      <td>23.0</td>\n",
       "      <td>2.0</td>\n",
       "      <td>0.0</td>\n",
       "      <td>23.0</td>\n",
       "      <td>...</td>\n",
       "      <td>0</td>\n",
       "      <td>0</td>\n",
       "      <td>19</td>\n",
       "      <td>0</td>\n",
       "      <td>3</td>\n",
       "      <td>0</td>\n",
       "      <td>0</td>\n",
       "      <td>0</td>\n",
       "      <td>0</td>\n",
       "      <td>0</td>\n",
       "    </tr>\n",
       "    <tr>\n",
       "      <th>4</th>\n",
       "      <td>2001</td>\n",
       "      <td>136648.0</td>\n",
       "      <td>1</td>\n",
       "      <td>12.0</td>\n",
       "      <td>0.0</td>\n",
       "      <td>0.0</td>\n",
       "      <td>32.0</td>\n",
       "      <td>2.0</td>\n",
       "      <td>0.0</td>\n",
       "      <td>32.0</td>\n",
       "      <td>...</td>\n",
       "      <td>0</td>\n",
       "      <td>0</td>\n",
       "      <td>0</td>\n",
       "      <td>0</td>\n",
       "      <td>0</td>\n",
       "      <td>0</td>\n",
       "      <td>1</td>\n",
       "      <td>0</td>\n",
       "      <td>0</td>\n",
       "      <td>1</td>\n",
       "    </tr>\n",
       "  </tbody>\n",
       "</table>\n",
       "<p>5 rows × 165 columns</p>\n",
       "</div>"
      ],
      "text/plain": [
       "   year  customer_gvkey qtr  supplier_precip_annual_50  \\\n",
       "0  2001        136648.0   1                       19.0   \n",
       "1  2001        136648.0   2                       14.0   \n",
       "2  2001        136648.0   3                       16.0   \n",
       "3  2001        136648.0   4                        7.0   \n",
       "4  2001        136648.0   1                       12.0   \n",
       "\n",
       "   supplier_precip_annual_95  supplier_precip_annual_99  \\\n",
       "0                        3.0                        0.0   \n",
       "1                        4.0                        2.0   \n",
       "2                        3.0                        0.0   \n",
       "3                        0.0                        0.0   \n",
       "4                        0.0                        0.0   \n",
       "\n",
       "   supplier_precip_zip_50  supplier_precip_zip_95  supplier_precip_zip_99  \\\n",
       "0                    32.0                     6.0                     2.0   \n",
       "1                    31.0                     7.0                     2.0   \n",
       "2                    34.0                     6.0                     1.0   \n",
       "3                    23.0                     2.0                     0.0   \n",
       "4                    32.0                     2.0                     0.0   \n",
       "\n",
       "   supplier_precip_zipQuarter_50  ...  customer_days90Plus  \\\n",
       "0                           32.0  ...                    0   \n",
       "1                           31.0  ...                    3   \n",
       "2                           34.0  ...                   19   \n",
       "3                           23.0  ...                    0   \n",
       "4                           32.0  ...                    0   \n",
       "\n",
       "   customer_streak90Plus  customer_lag1_days90Plus  \\\n",
       "0                      0                         0   \n",
       "1                      0                         0   \n",
       "2                      0                         3   \n",
       "3                      0                        19   \n",
       "4                      0                         0   \n",
       "\n",
       "   customer_lag1_streak90Plus  customer_lag2_days90Plus  \\\n",
       "0                           0                         0   \n",
       "1                           0                         0   \n",
       "2                           0                         0   \n",
       "3                           0                         3   \n",
       "4                           0                         0   \n",
       "\n",
       "   customer_lag2_streak90Plus  customer_lag3_days90Plus  \\\n",
       "0                           0                         1   \n",
       "1                           0                         0   \n",
       "2                           0                         0   \n",
       "3                           0                         0   \n",
       "4                           0                         1   \n",
       "\n",
       "   customer_lag3_streak90Plus  customer_lag4_days90Plus  \\\n",
       "0                           0                         0   \n",
       "1                           0                         1   \n",
       "2                           0                         0   \n",
       "3                           0                         0   \n",
       "4                           0                         0   \n",
       "\n",
       "   customer_lag4_streak90Plus  \n",
       "0                           1  \n",
       "1                           0  \n",
       "2                           0  \n",
       "3                           0  \n",
       "4                           1  \n",
       "\n",
       "[5 rows x 165 columns]"
      ]
     },
     "execution_count": 63,
     "metadata": {},
     "output_type": "execute_result"
    }
   ],
   "source": [
    "supplierWeather.head()"
   ]
  },
  {
   "cell_type": "code",
   "execution_count": 77,
   "metadata": {},
   "outputs": [
    {
     "data": {
      "text/plain": [
       "2        90245\n",
       "3        02322\n",
       "5        61032\n",
       "6        94063\n",
       "7        94608\n",
       "         ...  \n",
       "98781    33760\n",
       "98782    10018\n",
       "98783    93012\n",
       "98784    33408\n",
       "98785    33408\n",
       "Name: supplier_zipcode, Length: 81516, dtype: object"
      ]
     },
     "execution_count": 77,
     "metadata": {},
     "output_type": "execute_result"
    }
   ],
   "source": [
    "c_linksMerge4.supplier_zipcode"
   ]
  },
  {
   "cell_type": "code",
   "execution_count": 94,
   "metadata": {},
   "outputs": [
    {
     "data": {
      "text/plain": [
       "Index(['supplier_precip_annual_50', 'supplier_precip_annual_95',\n",
       "       'supplier_precip_annual_99', 'supplier_precip_zip_50',\n",
       "       'supplier_precip_zip_95', 'supplier_precip_zip_99',\n",
       "       'supplier_precip_zipQuarter_50', 'supplier_precip_zipQuarter_95',\n",
       "       'supplier_precip_zipQuarter_99', 'supplier_temp_annual_50',\n",
       "       ...\n",
       "       'supplier_lag4_temp_zipQuarter50', 'supplier_lag4_temp_zipQuarter95',\n",
       "       'supplier_lag4_precip_zipQuarter50',\n",
       "       'supplier_lag4_precip_zipQuarter95', 'supplier_lag4_temp_zipWeek50',\n",
       "       'supplier_lag4_temp_zipWeek95', 'supplier_lag4_precip_zipWeek50',\n",
       "       'supplier_lag4_precip_zipWeek95', 'supplier_lag4_days90Plus',\n",
       "       'supplier_lag4_streak90Plus'],\n",
       "      dtype='object', length=161)"
      ]
     },
     "execution_count": 94,
     "metadata": {},
     "output_type": "execute_result"
    }
   ],
   "source": [
    "supplierWorstWeather.columns[3:]"
   ]
  },
  {
   "cell_type": "code",
   "execution_count": 98,
   "metadata": {},
   "outputs": [
    {
     "data": {
      "text/plain": [
       "(69484, 164)"
      ]
     },
     "execution_count": 98,
     "metadata": {},
     "output_type": "execute_result"
    }
   ],
   "source": [
    "customerDB = c_linksMerge4[['year', 'customer_gvkey', 'supplier_gvkey', 'supplier_zipcode']].drop_duplicates()\n",
    "\n",
    "supplierWeather = customerDB.merge(allSupplierWeather)\n",
    "supplierWeather.drop(columns = {'supplier_gvkey','supplier_zipcode'}, inplace = True)\n",
    "supplierWorstWeather = supplierWeather.groupby(['year','qtr','customer_gvkey']).max().reset_index().drop_duplicates()\n",
    "\n",
    "supplierWorstWeather.columns = supplierWorstWeather.columns[0:3].append('worst_' + supplierWorstWeather.columns[3:])\n",
    "\n",
    "\n",
    "supplierWorstWeather.to_csv(\"../../data/companyData/supplierWorstWeather.csv\")\n",
    "supplierWorstWeather.shape"
   ]
  },
  {
   "cell_type": "markdown",
   "metadata": {},
   "source": [
    "Now the sales-weighted average."
   ]
  },
  {
   "cell_type": "code",
   "execution_count": 109,
   "metadata": {},
   "outputs": [
    {
     "name": "stdout",
     "output_type": "stream",
     "text": [
      "(69484, 164)    year  qtr  customer_gvkey  wtd_supplier_precip_annual_50  \\\n",
      "0  2001    1          1038.0                      14.031550   \n",
      "1  2001    1          1075.0                      15.000000   \n",
      "2  2001    1          1078.0                      12.007449   \n",
      "3  2001    1          1107.0                      20.000000   \n",
      "4  2001    1          1164.0                      13.207147   \n",
      "\n",
      "   wtd_supplier_precip_annual_95  wtd_supplier_precip_annual_99  \\\n",
      "0                       4.015775                       0.006310   \n",
      "1                       2.000000                       0.000000   \n",
      "2                       1.924741                       0.087533   \n",
      "3                       1.000000                       0.000000   \n",
      "4                       2.883099                       0.822003   \n",
      "\n",
      "   wtd_supplier_precip_zip_50  wtd_supplier_precip_zip_95  \\\n",
      "0                   31.710837                    7.006310   \n",
      "1                   32.000000                    4.000000   \n",
      "2                   30.164566                    3.959274   \n",
      "3                   32.000000                    8.000000   \n",
      "4                   30.094294                    4.485771   \n",
      "\n",
      "   wtd_supplier_precip_zip_99  wtd_supplier_precip_zipQuarter_50  ...  \\\n",
      "0                    1.345953                          31.710837  ...   \n",
      "1                    1.000000                          32.000000  ...   \n",
      "2                    0.660112                          30.164566  ...   \n",
      "3                    0.000000                          32.000000  ...   \n",
      "4                    1.486860                          30.094294  ...   \n",
      "\n",
      "   wtd_supplier_lag4_temp_zipQuarter50  wtd_supplier_lag4_temp_zipQuarter95  \\\n",
      "0                             0.996845                             0.996845   \n",
      "1                             1.000000                             0.000000   \n",
      "2                             0.934288                             0.450474   \n",
      "3                             0.000000                             0.000000   \n",
      "4                             0.768036                             0.048116   \n",
      "\n",
      "   wtd_supplier_lag4_precip_zipQuarter50  \\\n",
      "0                               0.003155   \n",
      "1                               0.000000   \n",
      "2                               0.009086   \n",
      "3                               1.000000   \n",
      "4                               0.614253   \n",
      "\n",
      "   wtd_supplier_lag4_precip_zipQuarter95  wtd_supplier_lag4_temp_zipWeek50  \\\n",
      "0                                    0.0                         10.654047   \n",
      "1                                    0.0                          8.000000   \n",
      "2                                    0.0                          9.312025   \n",
      "3                                    0.0                          8.000000   \n",
      "4                                    0.0                          8.178316   \n",
      "\n",
      "   wtd_supplier_lag4_temp_zipWeek95  wtd_supplier_lag4_precip_zipWeek50  \\\n",
      "0                          2.660357                            5.342798   \n",
      "1                          4.000000                            6.000000   \n",
      "2                          2.846289                            6.001797   \n",
      "3                          1.000000                            7.000000   \n",
      "4                          2.044291                            6.585347   \n",
      "\n",
      "   wtd_supplier_lag4_precip_zipWeek95  wtd_supplier_lag4_days90Plus  \\\n",
      "0                            0.000000                           0.0   \n",
      "1                            0.000000                           0.0   \n",
      "2                            0.120136                           0.0   \n",
      "3                            2.000000                           0.0   \n",
      "4                            1.351581                           0.0   \n",
      "\n",
      "   wtd_supplier_lag4_streak90Plus  \n",
      "0                        0.000000  \n",
      "1                        1.000000  \n",
      "2                        0.086284  \n",
      "3                        0.000000  \n",
      "4                        0.000000  \n",
      "\n",
      "[5 rows x 164 columns]\n"
     ]
    }
   ],
   "source": [
    "# find total expenditures, using the annual data so we don't have double counting\n",
    "custExp    = c_linksMerge4[['year','customer_gvkey','salecs']].groupby(['year','customer_gvkey']).\\\n",
    "    sum().reset_index().rename(columns = {'salecs': 'totalExp'})\n",
    "\n",
    "customerDB = c_linksMerge4[['year','customer_gvkey','supplier_gvkey','supplier_zipcode','salecs']].\\\n",
    "    merge(custExp).drop_duplicates() # .rename(columns = {'customer_gvkey': 'gvkey'})\n",
    "\n",
    "customerDB['salesWeight'] = customerDB.salecs/customerDB.totalExp\n",
    "\n",
    "customerDB.fillna(1, inplace = True)\n",
    "\n",
    "\n",
    "supplierWeightedWeather = customerDB[['year','customer_gvkey','supplier_zipcode','salesWeight']].merge(allSupplierWeather)\n",
    "\n",
    "\n",
    "for col in supplierWeightedWeather.columns[5:]:\n",
    "        supplierWeightedWeather[col] = supplierWeightedWeather.salesWeight*supplierWeightedWeather[col]\n",
    "        \n",
    "        \n",
    "\n",
    "supplierWeightedWeather.drop(columns = {'supplier_zipcode', 'salesWeight'}, inplace = True)\n",
    "\n",
    "supplierWeightedWeather.columns = supplierWeightedWeather.columns[0:3].append('wtd_' + supplierWeightedWeather.columns[3:])\n",
    "\n",
    "\n",
    "supplierWeightedWeather = supplierWeightedWeather.groupby(['year','qtr','customer_gvkey']).sum().reset_index().drop_duplicates()\n",
    "print(supplierWeightedWeather.shape,supplierWeightedWeather.head())\n",
    "\n",
    "\n",
    "supplierWeightedWeather.to_csv(\"../../data/companyData/supplierWeightedWeather.csv\")\n",
    "\n"
   ]
  },
  {
   "cell_type": "markdown",
   "metadata": {},
   "source": [
    "Now find the largest supplier for each customer."
   ]
  },
  {
   "cell_type": "code",
   "execution_count": 118,
   "metadata": {},
   "outputs": [
    {
     "name": "stdout",
     "output_type": "stream",
     "text": [
      "(81516, 23)\n",
      "(10848, 23)\n",
      "(24788, 4)\n"
     ]
    }
   ],
   "source": [
    "idx = c_linksMerge4.groupby(['year','customer_gvkey']).salecs.\\\n",
    "    transform(max) == c_linksMerge4.salecs\n",
    "largestSuppliers = c_linksMerge4[idx].reset_index(drop = True)\n",
    "print(c_linksMerge4.shape)\n",
    "\n",
    "\n",
    "# find companies who only have one other supplier\n",
    "singleSuppliers = c_linksMerge4[c_linksMerge4.totalSuppliers == 1].reset_index(drop = True)\n",
    "print(singleSuppliers.shape)\n",
    "\n",
    "\n",
    "# find largest suppliers of different companies\n",
    "largestSuppliers = largestSuppliers.append(singleSuppliers).drop_duplicates()[['year', 'customer_gvkey', 'supplier_zipcode', 'salecs']]\n",
    "print(largestSuppliers.shape)\n"
   ]
  },
  {
   "cell_type": "markdown",
   "metadata": {},
   "source": [
    "There seem to be a number of ties here, maybe from the companies that had only na values. To get around this, just sample one of each observation by company-group."
   ]
  },
  {
   "cell_type": "code",
   "execution_count": 119,
   "metadata": {},
   "outputs": [
    {
     "data": {
      "text/html": [
       "<div>\n",
       "<style scoped>\n",
       "    .dataframe tbody tr th:only-of-type {\n",
       "        vertical-align: middle;\n",
       "    }\n",
       "\n",
       "    .dataframe tbody tr th {\n",
       "        vertical-align: top;\n",
       "    }\n",
       "\n",
       "    .dataframe thead th {\n",
       "        text-align: right;\n",
       "    }\n",
       "</style>\n",
       "<table border=\"1\" class=\"dataframe\">\n",
       "  <thead>\n",
       "    <tr style=\"text-align: right;\">\n",
       "      <th></th>\n",
       "      <th>year</th>\n",
       "      <th>customer_gvkey</th>\n",
       "      <th>supplier_zipcode</th>\n",
       "      <th>salecs</th>\n",
       "    </tr>\n",
       "  </thead>\n",
       "  <tbody>\n",
       "    <tr>\n",
       "      <th>0</th>\n",
       "      <td>1997</td>\n",
       "      <td>1038.0</td>\n",
       "      <td>30339</td>\n",
       "      <td>38.220</td>\n",
       "    </tr>\n",
       "    <tr>\n",
       "      <th>1</th>\n",
       "      <td>1997</td>\n",
       "      <td>1078.0</td>\n",
       "      <td>08540</td>\n",
       "      <td>45.927</td>\n",
       "    </tr>\n",
       "    <tr>\n",
       "      <th>2</th>\n",
       "      <td>1997</td>\n",
       "      <td>1164.0</td>\n",
       "      <td>94043</td>\n",
       "      <td>121.230</td>\n",
       "    </tr>\n",
       "    <tr>\n",
       "      <th>3</th>\n",
       "      <td>1997</td>\n",
       "      <td>1279.0</td>\n",
       "      <td>15317</td>\n",
       "      <td>410.250</td>\n",
       "    </tr>\n",
       "    <tr>\n",
       "      <th>4</th>\n",
       "      <td>1997</td>\n",
       "      <td>1440.0</td>\n",
       "      <td>80202</td>\n",
       "      <td>0.255</td>\n",
       "    </tr>\n",
       "  </tbody>\n",
       "</table>\n",
       "</div>"
      ],
      "text/plain": [
       "   year  customer_gvkey supplier_zipcode   salecs\n",
       "0  1997          1038.0            30339   38.220\n",
       "1  1997          1078.0            08540   45.927\n",
       "2  1997          1164.0            94043  121.230\n",
       "3  1997          1279.0            15317  410.250\n",
       "4  1997          1440.0            80202    0.255"
      ]
     },
     "execution_count": 119,
     "metadata": {},
     "output_type": "execute_result"
    }
   ],
   "source": [
    "randomSample = largestSuppliers.groupby(['year','customer_gvkey']).\\\n",
    "    apply(lambda x: x.sample(1)).reset_index(drop=True)\n",
    "\n",
    "randomSample['year']       = randomSample.year.astype('str').str.slice(0,4).astype('int64')\n",
    "\n",
    "randomSample.head()"
   ]
  },
  {
   "cell_type": "code",
   "execution_count": 120,
   "metadata": {},
   "outputs": [
    {
     "data": {
      "text/plain": [
       "(20925, 4)"
      ]
     },
     "execution_count": 120,
     "metadata": {},
     "output_type": "execute_result"
    }
   ],
   "source": [
    "randomSample.shape"
   ]
  },
  {
   "cell_type": "code",
   "execution_count": 128,
   "metadata": {},
   "outputs": [
    {
     "name": "stdout",
     "output_type": "stream",
     "text": [
      "(69484, 164)\n"
     ]
    }
   ],
   "source": [
    "largestSupplierWeather = randomSample.merge(allSupplierWeather)\n",
    "\n",
    "largestSupplierWeather.drop(columns = {'supplier_zipcode', 'salecs'}, inplace = True)     \n",
    "\n",
    "\n",
    "\n",
    "\n",
    "largestSupplierWeather.columns = largestSupplierWeather.columns[0:3].append('largest_' + largestSupplierWeather.columns[3:])\n",
    "\n",
    "\n",
    "print(largestSupplierWeather.shape)\n",
    "\n",
    "largestSupplierWeather.to_csv(\"../../data/companyData/largestSupplierWeather.csv\")"
   ]
  },
  {
   "cell_type": "markdown",
   "metadata": {},
   "source": [
    "Now put in the customer hq thing, so we can filter out customer-supplier pairs that are within x miles of each other."
   ]
  },
  {
   "cell_type": "code",
   "execution_count": null,
   "metadata": {},
   "outputs": [],
   "source": [
    "largestSuppliersWithWeather.rename(columns = {'customer_gvkey': 'gvkey'}, inplace = True)"
   ]
  },
  {
   "cell_type": "code",
   "execution_count": null,
   "metadata": {},
   "outputs": [],
   "source": [
    "largestSuppliersWithWeather.to_csv(\"../../data/companyData/largestSuppliersWithWeather_more500K.csv\")"
   ]
  },
  {
   "cell_type": "code",
   "execution_count": null,
   "metadata": {},
   "outputs": [],
   "source": [
    "largestSuppliersWithWeather.shape"
   ]
  },
  {
   "cell_type": "code",
   "execution_count": null,
   "metadata": {},
   "outputs": [],
   "source": []
  }
 ],
 "metadata": {
  "kernelspec": {
   "display_name": "Python 3",
   "language": "python",
   "name": "python3"
  },
  "language_info": {
   "codemirror_mode": {
    "name": "ipython",
    "version": 3
   },
   "file_extension": ".py",
   "mimetype": "text/x-python",
   "name": "python",
   "nbconvert_exporter": "python",
   "pygments_lexer": "ipython3",
   "version": "3.7.4"
  }
 },
 "nbformat": 4,
 "nbformat_minor": 2
}
