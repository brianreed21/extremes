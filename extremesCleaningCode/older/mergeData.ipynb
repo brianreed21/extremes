{
 "cells": [
  {
   "cell_type": "markdown",
   "metadata": {},
   "source": [
    "# Packages"
   ]
  },
  {
   "cell_type": "code",
   "execution_count": 2,
   "metadata": {},
   "outputs": [],
   "source": [
    "import pickle as pkl\n",
    "import pandas as pd\n",
    "import matplotlib\n",
    "import os\n",
    "import re\n",
    "\n",
    "import collections\n",
    "import datetime\n",
    "import time\n",
    "\n",
    "import geopandas as gpd\n",
    "\n",
    "import numpy as np\n",
    "\n",
    "import rasterio"
   ]
  },
  {
   "cell_type": "code",
   "execution_count": null,
   "metadata": {},
   "outputs": [],
   "source": [
    "x = np.array([3,4,5])\n",
    "y = np.array([[5,4,6],[1,3,2]])"
   ]
  },
  {
   "cell_type": "code",
   "execution_count": null,
   "metadata": {},
   "outputs": [],
   "source": [
    "y\n"
   ]
  },
  {
   "cell_type": "code",
   "execution_count": null,
   "metadata": {},
   "outputs": [],
   "source": [
    "dist = (y - x)**2\n",
    "dist = np.sum(dist,axis = 1)\n",
    "dist = np.sqrt(dist)\n",
    "dist"
   ]
  },
  {
   "cell_type": "code",
   "execution_count": null,
   "metadata": {},
   "outputs": [],
   "source": [
    "import numpy as np\n",
    "single_point = [3, 4]\n",
    "points = np.arange(20).reshape((10,2))\n",
    "\n",
    "dist = (points - single_point)**2\n",
    "dist = np.sum(dist, axis=1)\n",
    "dist = np.sqrt(dist)\n",
    "dist"
   ]
  },
  {
   "cell_type": "code",
   "execution_count": null,
   "metadata": {},
   "outputs": [],
   "source": [
    "sum(x - y)"
   ]
  },
  {
   "cell_type": "markdown",
   "metadata": {},
   "source": [
    "# Load Data\n",
    "We'll focus on the 2010s for now. Maybe change to longer time period after this."
   ]
  },
  {
   "cell_type": "code",
   "execution_count": null,
   "metadata": {},
   "outputs": [],
   "source": [
    "compustat = pd.read_csv(\"../../data/companyData/compustatChanges_All.csv\").drop(columns = ['Unnamed: 0'])\n",
    "compustat.head()\n",
    "\n",
    "compustat2 = pd.read_csv(\"../../data/companyData/compustatChanges_2010s.csv\").drop(columns = ['Unnamed: 0'])\n",
    "compustat2.head()\n",
    "\n",
    "compustat = compustat.append(compustat2)"
   ]
  },
  {
   "cell_type": "code",
   "execution_count": null,
   "metadata": {},
   "outputs": [],
   "source": [
    "compustat.year.max()"
   ]
  },
  {
   "cell_type": "code",
   "execution_count": null,
   "metadata": {},
   "outputs": [],
   "source": [
    "compustat = compustat[(~compustat.qtr.isna()) & (compustat.year > 1996)]"
   ]
  },
  {
   "cell_type": "code",
   "execution_count": null,
   "metadata": {},
   "outputs": [],
   "source": [
    "compustat.qtr"
   ]
  },
  {
   "cell_type": "code",
   "execution_count": null,
   "metadata": {},
   "outputs": [],
   "source": [
    "compustat['fquarter'] = \"q\" + compustat.qtr.astype(int).astype(str) + \"y\" + compustat.year.astype(int).astype(str)\n",
    "compustat.rename(columns = {'tic': 'TICKER'}, inplace = True)\n",
    "compustat.reset_index(drop = True,inplace = True)"
   ]
  },
  {
   "cell_type": "code",
   "execution_count": null,
   "metadata": {},
   "outputs": [],
   "source": [
    "compustat.revenueChangeAbsolute.sum()*0.005"
   ]
  },
  {
   "cell_type": "code",
   "execution_count": null,
   "metadata": {},
   "outputs": [],
   "source": [
    "compustat"
   ]
  },
  {
   "cell_type": "code",
   "execution_count": null,
   "metadata": {},
   "outputs": [],
   "source": [
    "hq = pd.read_csv(\"../../data/allIGData_byQuarter.csv\").drop(columns = ['Unnamed: 0'])\n",
    "hq"
   ]
  },
  {
   "cell_type": "code",
   "execution_count": null,
   "metadata": {},
   "outputs": [],
   "source": [
    "compustatWithHQ = compustat.merge(hq)"
   ]
  },
  {
   "cell_type": "code",
   "execution_count": null,
   "metadata": {},
   "outputs": [],
   "source": [
    "compustatWithHQ.revenueChangeAbsolute.sum()*0.005"
   ]
  },
  {
   "cell_type": "code",
   "execution_count": null,
   "metadata": {},
   "outputs": [],
   "source": [
    "compustatWithHQ.head()"
   ]
  },
  {
   "cell_type": "code",
   "execution_count": null,
   "metadata": {},
   "outputs": [],
   "source": [
    "compustatWithHQ.to_csv(\"../../data/compustatWithHQ_all.csv\")"
   ]
  },
  {
   "cell_type": "markdown",
   "metadata": {},
   "source": [
    "# Reshape the Compustat HQ Data"
   ]
  },
  {
   "cell_type": "code",
   "execution_count": null,
   "metadata": {},
   "outputs": [],
   "source": [
    "def melt(start):    \n",
    "    start = start.melt(id_vars = ['year','TICKER','company','state','latitude','longitude'],\n",
    "               var_name = 'origVar',\n",
    "               value_name = start.columns[7].split('_')[1])\n",
    "    start['day'] = start.origVar.str[-6:-4]\n",
    "    start['month'] = start.origVar.str[-8:-6]\n",
    "    start['weatherYear'] = start.origVar.str[-12:-8].astype('int64')\n",
    "\n",
    "    # print(start.shape,start.weatherYear.value_counts())\n",
    "\n",
    "    start = start[start.year == start.weatherYear]\n",
    "    start = start.drop(['origVar'],axis = 1)\n",
    "\n",
    "    start = start.reset_index(drop=True)\n",
    "\n",
    "    \n",
    "    return(start)"
   ]
  },
  {
   "cell_type": "code",
   "execution_count": null,
   "metadata": {},
   "outputs": [],
   "source": [
    "def getBoth(year):\n",
    "    tmax = pd.read_csv(\"../../../../../../../Volumes/backup2/dissData/prism/hqInfogroupTmax\" + str(year) + \".csv\").drop(['Unnamed: 0'],axis = 1)\n",
    "    precip = pd.read_csv(\"../../../../../../../Volumes/backup2/dissData/prism/hqInfogroupPrecip\" + str(year) + \".csv\").drop(['Unnamed: 0'],axis = 1)\n",
    "\n",
    "    df1 = melt(precip)\n",
    "    df2 = melt(tmax)\n",
    "\n",
    "\n",
    "    allDF = df1.merge(df2)\n",
    "    \n",
    "    \n",
    "    filename = '../../../../../../../Volumes/backup2/dissData/prism/allWeather' + str(year) + '.pkl'\n",
    "    with open(filename, 'wb') as handle:\n",
    "        pickle.dump(allDF, handle)\n",
    "    \n",
    "    # return(allDF)"
   ]
  },
  {
   "cell_type": "code",
   "execution_count": null,
   "metadata": {},
   "outputs": [],
   "source": [
    "for year in range(2019,2020):\n",
    "    print(year)\n",
    "    startTime = time.time()\n",
    "\n",
    "    getBoth(year)\n",
    "\n",
    "    print(time.time() - startTime)"
   ]
  },
  {
   "cell_type": "code",
   "execution_count": null,
   "metadata": {},
   "outputs": [],
   "source": [
    "allData = pd.DataFrame()\n",
    "for year in range(1998,2020):\n",
    "    print(year)\n",
    "    callLocation = '../../../../../../../Volumes/backup2/dissData/prism/allWeather' + str(year) + '.pkl'\n",
    "    \n",
    "    file   = open(callLocation,\"rb\")\n",
    "\n",
    "    allWeather = pkl.load(file)\n",
    "    \n",
    "    allData = allData.append(allWeather)\n",
    "    \n",
    "    "
   ]
  },
  {
   "cell_type": "code",
   "execution_count": null,
   "metadata": {},
   "outputs": [],
   "source": [
    "allData.head()"
   ]
  },
  {
   "cell_type": "code",
   "execution_count": null,
   "metadata": {},
   "outputs": [],
   "source": [
    "allData.to_csv(\"../../../../../../../Volumes/backup2/dissData/prism/allWeather.csv\")"
   ]
  },
  {
   "cell_type": "code",
   "execution_count": null,
   "metadata": {},
   "outputs": [],
   "source": [
    "allData.shape"
   ]
  },
  {
   "cell_type": "markdown",
   "metadata": {},
   "source": [
    "# Merge in SC Information"
   ]
  },
  {
   "cell_type": "code",
   "execution_count": 3,
   "metadata": {},
   "outputs": [
    {
     "data": {
      "text/html": [
       "<div>\n",
       "<style scoped>\n",
       "    .dataframe tbody tr th:only-of-type {\n",
       "        vertical-align: middle;\n",
       "    }\n",
       "\n",
       "    .dataframe tbody tr th {\n",
       "        vertical-align: top;\n",
       "    }\n",
       "\n",
       "    .dataframe thead th {\n",
       "        text-align: right;\n",
       "    }\n",
       "</style>\n",
       "<table border=\"1\" class=\"dataframe\">\n",
       "  <thead>\n",
       "    <tr style=\"text-align: right;\">\n",
       "      <th></th>\n",
       "      <th>gvkey</th>\n",
       "      <th>conm</th>\n",
       "      <th>cgvkey</th>\n",
       "      <th>cconm</th>\n",
       "      <th>cnms</th>\n",
       "      <th>srcdate</th>\n",
       "      <th>cid</th>\n",
       "      <th>sid</th>\n",
       "      <th>ctype</th>\n",
       "      <th>salecs</th>\n",
       "      <th>scusip</th>\n",
       "      <th>stic</th>\n",
       "      <th>ccusip</th>\n",
       "      <th>ctic</th>\n",
       "    </tr>\n",
       "  </thead>\n",
       "  <tbody>\n",
       "    <tr>\n",
       "      <th>0</th>\n",
       "      <td>1005</td>\n",
       "      <td>A.B.A. INDUSTRIES INC</td>\n",
       "      <td>10983</td>\n",
       "      <td>UNITED TECHNOLOGIES CORP</td>\n",
       "      <td>UTD TECHS</td>\n",
       "      <td>19781031</td>\n",
       "      <td>101</td>\n",
       "      <td>1</td>\n",
       "      <td>COMPANY</td>\n",
       "      <td>4.100</td>\n",
       "      <td>000370106</td>\n",
       "      <td>ABA.2</td>\n",
       "      <td>75513E101</td>\n",
       "      <td>RTX</td>\n",
       "    </tr>\n",
       "    <tr>\n",
       "      <th>1</th>\n",
       "      <td>1005</td>\n",
       "      <td>A.B.A. INDUSTRIES INC</td>\n",
       "      <td>10983</td>\n",
       "      <td>UNITED TECHNOLOGIES CORP</td>\n",
       "      <td>UTD TECHS</td>\n",
       "      <td>19791031</td>\n",
       "      <td>101</td>\n",
       "      <td>1</td>\n",
       "      <td>COMPANY</td>\n",
       "      <td>7.454</td>\n",
       "      <td>000370106</td>\n",
       "      <td>ABA.2</td>\n",
       "      <td>75513E101</td>\n",
       "      <td>RTX</td>\n",
       "    </tr>\n",
       "    <tr>\n",
       "      <th>2</th>\n",
       "      <td>1005</td>\n",
       "      <td>A.B.A. INDUSTRIES INC</td>\n",
       "      <td>8972</td>\n",
       "      <td>RAYTHEON CO</td>\n",
       "      <td>RAYTHEON</td>\n",
       "      <td>19791031</td>\n",
       "      <td>201</td>\n",
       "      <td>2</td>\n",
       "      <td>COMPANY</td>\n",
       "      <td>2.377</td>\n",
       "      <td>000370106</td>\n",
       "      <td>ABA.2</td>\n",
       "      <td>755111507</td>\n",
       "      <td>RTN</td>\n",
       "    </tr>\n",
       "    <tr>\n",
       "      <th>3</th>\n",
       "      <td>1005</td>\n",
       "      <td>A.B.A. INDUSTRIES INC</td>\n",
       "      <td>8972</td>\n",
       "      <td>RAYTHEON CO</td>\n",
       "      <td>RAYTHEON</td>\n",
       "      <td>19801031</td>\n",
       "      <td>201</td>\n",
       "      <td>2</td>\n",
       "      <td>COMPANY</td>\n",
       "      <td>2.292</td>\n",
       "      <td>000370106</td>\n",
       "      <td>ABA.2</td>\n",
       "      <td>755111507</td>\n",
       "      <td>RTN</td>\n",
       "    </tr>\n",
       "    <tr>\n",
       "      <th>4</th>\n",
       "      <td>1005</td>\n",
       "      <td>A.B.A. INDUSTRIES INC</td>\n",
       "      <td>10983</td>\n",
       "      <td>UNITED TECHNOLOGIES CORP</td>\n",
       "      <td>UTD TECHS</td>\n",
       "      <td>19801031</td>\n",
       "      <td>101</td>\n",
       "      <td>1</td>\n",
       "      <td>COMPANY</td>\n",
       "      <td>9.563</td>\n",
       "      <td>000370106</td>\n",
       "      <td>ABA.2</td>\n",
       "      <td>75513E101</td>\n",
       "      <td>RTX</td>\n",
       "    </tr>\n",
       "  </tbody>\n",
       "</table>\n",
       "</div>"
      ],
      "text/plain": [
       "   gvkey                   conm  cgvkey                     cconm       cnms  \\\n",
       "0   1005  A.B.A. INDUSTRIES INC   10983  UNITED TECHNOLOGIES CORP  UTD TECHS   \n",
       "1   1005  A.B.A. INDUSTRIES INC   10983  UNITED TECHNOLOGIES CORP  UTD TECHS   \n",
       "2   1005  A.B.A. INDUSTRIES INC    8972               RAYTHEON CO   RAYTHEON   \n",
       "3   1005  A.B.A. INDUSTRIES INC    8972               RAYTHEON CO   RAYTHEON   \n",
       "4   1005  A.B.A. INDUSTRIES INC   10983  UNITED TECHNOLOGIES CORP  UTD TECHS   \n",
       "\n",
       "    srcdate  cid  sid    ctype  salecs     scusip   stic     ccusip ctic  \n",
       "0  19781031  101    1  COMPANY   4.100  000370106  ABA.2  75513E101  RTX  \n",
       "1  19791031  101    1  COMPANY   7.454  000370106  ABA.2  75513E101  RTX  \n",
       "2  19791031  201    2  COMPANY   2.377  000370106  ABA.2  755111507  RTN  \n",
       "3  19801031  201    2  COMPANY   2.292  000370106  ABA.2  755111507  RTN  \n",
       "4  19801031  101    1  COMPANY   9.563  000370106  ABA.2  75513E101  RTX  "
      ]
     },
     "execution_count": 3,
     "metadata": {},
     "output_type": "execute_result"
    }
   ],
   "source": [
    "compustatSC = pd.read_csv(\"../../data/companyData/compustatSCLinked.csv\")# [['stic','cgvkey','cconm','srcdate']]\n",
    "compustatSC.head()"
   ]
  },
  {
   "cell_type": "code",
   "execution_count": null,
   "metadata": {},
   "outputs": [],
   "source": [
    "compustatSC['year'] = compustatSC.srcdate.astype('str').str[0:4].astype('int64')\n",
    "\n",
    "compustatSC = compustatSC.drop(['srcdate'], axis = 1)\n",
    "compustatSC.rename(columns = {'stic':'TICKER'},inplace = True)"
   ]
  },
  {
   "cell_type": "code",
   "execution_count": null,
   "metadata": {},
   "outputs": [],
   "source": [
    "compustatSC.head()"
   ]
  },
  {
   "cell_type": "markdown",
   "metadata": {},
   "source": [
    "Merge in the weather information for the suppliers, now that we've added a year to the supply chain date.\n",
    "\n",
    "This means that we're considering, ie, the weather in 1999 for companies themselves and for companies that they transacted with in 1998."
   ]
  },
  {
   "cell_type": "code",
   "execution_count": null,
   "metadata": {},
   "outputs": [],
   "source": [
    "hq = pd.read_csv(\"../../data/allIGData_byQuarter.csv\").drop(columns = ['Unnamed: 0'])\n",
    "\n",
    "hq['year'] = hq.fquarter.str[-4:].astype('int64')\n",
    "\n",
    "hq = hq.rename(columns={col: 'supplier_' + col \n",
    "                        for col in hq.columns if col not in ['company', 'TICKER','fquarter','year']})\n",
    "hq.head()"
   ]
  },
  {
   "cell_type": "code",
   "execution_count": null,
   "metadata": {},
   "outputs": [],
   "source": [
    "suppliers = compustatSC.merge(hq).drop(columns = {'TICKER','cconm','company'}).rename(columns = {'cgvkey': 'gvkey'})"
   ]
  },
  {
   "cell_type": "code",
   "execution_count": null,
   "metadata": {},
   "outputs": [],
   "source": [
    "suppliers.head()"
   ]
  },
  {
   "cell_type": "code",
   "execution_count": null,
   "metadata": {},
   "outputs": [],
   "source": [
    "compustatHQs = pd.read_csv(\"../../data/compustatWithHQ_all.csv\").\\\n",
    "    drop(columns = {'Unnamed: 0'})"
   ]
  },
  {
   "cell_type": "code",
   "execution_count": null,
   "metadata": {},
   "outputs": [],
   "source": [
    "compustatHQs.head()"
   ]
  },
  {
   "cell_type": "code",
   "execution_count": null,
   "metadata": {},
   "outputs": [],
   "source": [
    "sampleDataset = compustatHQs.merge(suppliers)"
   ]
  },
  {
   "cell_type": "code",
   "execution_count": null,
   "metadata": {},
   "outputs": [],
   "source": [
    "sampleDataset.head()"
   ]
  },
  {
   "cell_type": "code",
   "execution_count": null,
   "metadata": {},
   "outputs": [],
   "source": [
    "sampleDataset.shape"
   ]
  },
  {
   "cell_type": "code",
   "execution_count": null,
   "metadata": {},
   "outputs": [],
   "source": [
    "sampleDataset.columns"
   ]
  },
  {
   "cell_type": "code",
   "execution_count": null,
   "metadata": {},
   "outputs": [],
   "source": [
    "sampleDataset.head()"
   ]
  },
  {
   "cell_type": "code",
   "execution_count": null,
   "metadata": {},
   "outputs": [],
   "source": [
    "sampleDataset.to_csv(\"../../data/compustat_supplierWeather.csv\")"
   ]
  },
  {
   "cell_type": "code",
   "execution_count": null,
   "metadata": {},
   "outputs": [],
   "source": [
    "sampleDataset.shape"
   ]
  }
 ],
 "metadata": {
  "kernelspec": {
   "display_name": "Python 3",
   "language": "python",
   "name": "python3"
  },
  "language_info": {
   "codemirror_mode": {
    "name": "ipython",
    "version": 3
   },
   "file_extension": ".py",
   "mimetype": "text/x-python",
   "name": "python",
   "nbconvert_exporter": "python",
   "pygments_lexer": "ipython3",
   "version": "3.7.4"
  }
 },
 "nbformat": 4,
 "nbformat_minor": 2
}
