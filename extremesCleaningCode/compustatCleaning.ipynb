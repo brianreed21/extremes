{
 "cells": [
  {
   "cell_type": "markdown",
   "metadata": {},
   "source": [
    "# Cleaning File\n",
    "Get the basic company information here. There are three main parts here.\n",
    "\n",
    "1. Company addresses\n",
    "\n",
    "2. Basic change information\n",
    "\n",
    "3. Controls for the companies\n",
    "\n",
    "\n",
    "First, just load the data and the relevant deflators."
   ]
  },
  {
   "cell_type": "code",
   "execution_count": 8,
   "metadata": {},
   "outputs": [],
   "source": [
    "import pickle\n",
    "import pandas as pd\n",
    "import matplotlib\n",
    "import os\n",
    "import re\n",
    "\n",
    "import collections\n",
    "import datetime\n",
    "import time\n",
    "\n",
    "import geopandas as gpd\n",
    "\n",
    "import numpy as np\n",
    "\n",
    "from difflib import get_close_matches\n",
    "\n",
    "from fuzzywuzzy import process\n",
    "from fuzzywuzzy import fuzz"
   ]
  },
  {
   "cell_type": "code",
   "execution_count": 9,
   "metadata": {},
   "outputs": [
    {
     "data": {
      "text/html": [
       "<div>\n",
       "<style scoped>\n",
       "    .dataframe tbody tr th:only-of-type {\n",
       "        vertical-align: middle;\n",
       "    }\n",
       "\n",
       "    .dataframe tbody tr th {\n",
       "        vertical-align: top;\n",
       "    }\n",
       "\n",
       "    .dataframe thead th {\n",
       "        text-align: right;\n",
       "    }\n",
       "</style>\n",
       "<table border=\"1\" class=\"dataframe\">\n",
       "  <thead>\n",
       "    <tr style=\"text-align: right;\">\n",
       "      <th></th>\n",
       "      <th>inflator</th>\n",
       "      <th>year</th>\n",
       "      <th>qtr</th>\n",
       "    </tr>\n",
       "  </thead>\n",
       "  <tbody>\n",
       "    <tr>\n",
       "      <th>291</th>\n",
       "      <td>1.012932</td>\n",
       "      <td>2019</td>\n",
       "      <td>4.0</td>\n",
       "    </tr>\n",
       "    <tr>\n",
       "      <th>292</th>\n",
       "      <td>1.009643</td>\n",
       "      <td>2020</td>\n",
       "      <td>1.0</td>\n",
       "    </tr>\n",
       "    <tr>\n",
       "      <th>293</th>\n",
       "      <td>1.014000</td>\n",
       "      <td>2020</td>\n",
       "      <td>2.0</td>\n",
       "    </tr>\n",
       "    <tr>\n",
       "      <th>294</th>\n",
       "      <td>1.004838</td>\n",
       "      <td>2020</td>\n",
       "      <td>3.0</td>\n",
       "    </tr>\n",
       "    <tr>\n",
       "      <th>295</th>\n",
       "      <td>1.000000</td>\n",
       "      <td>2020</td>\n",
       "      <td>4.0</td>\n",
       "    </tr>\n",
       "  </tbody>\n",
       "</table>\n",
       "</div>"
      ],
      "text/plain": [
       "     inflator  year  qtr\n",
       "291  1.012932  2019  4.0\n",
       "292  1.009643  2020  1.0\n",
       "293  1.014000  2020  2.0\n",
       "294  1.004838  2020  3.0\n",
       "295  1.000000  2020  4.0"
      ]
     },
     "execution_count": 9,
     "metadata": {},
     "output_type": "execute_result"
    }
   ],
   "source": [
    "defl            = pd.read_csv(\"../GDPDEF.csv\")\n",
    "defl['DATE']    = pd.to_datetime(defl['DATE'])\n",
    "defl['year']    = defl['DATE'].dt.year\n",
    "\n",
    "# for some reason the years are messed up but they take anything after 1971 to be in the 2000s\n",
    "\n",
    "defl.loc[(defl.year > 2020), 'year'] = defl.year - 100\n",
    "defl['qtr'] = defl['DATE'].dt.quarter.astype('float64')\n",
    "defl.drop(columns = {'DATE','GDPDEF'},inplace = True)\n",
    "defl.tail()"
   ]
  },
  {
   "cell_type": "code",
   "execution_count": 10,
   "metadata": {},
   "outputs": [
    {
     "data": {
      "text/html": [
       "<div>\n",
       "<style scoped>\n",
       "    .dataframe tbody tr th:only-of-type {\n",
       "        vertical-align: middle;\n",
       "    }\n",
       "\n",
       "    .dataframe tbody tr th {\n",
       "        vertical-align: top;\n",
       "    }\n",
       "\n",
       "    .dataframe thead th {\n",
       "        text-align: right;\n",
       "    }\n",
       "</style>\n",
       "<table border=\"1\" class=\"dataframe\">\n",
       "  <thead>\n",
       "    <tr style=\"text-align: right;\">\n",
       "      <th></th>\n",
       "      <th>gvkey</th>\n",
       "      <th>datadate</th>\n",
       "      <th>year</th>\n",
       "      <th>qtr</th>\n",
       "      <th>indfmt</th>\n",
       "      <th>consol</th>\n",
       "      <th>popsrc</th>\n",
       "      <th>datafmt</th>\n",
       "      <th>tic</th>\n",
       "      <th>companyName</th>\n",
       "      <th>...</th>\n",
       "      <th>opInc_afDep</th>\n",
       "      <th>opInc_befDep</th>\n",
       "      <th>totalRevenue</th>\n",
       "      <th>costat</th>\n",
       "      <th>priceClose</th>\n",
       "      <th>add1</th>\n",
       "      <th>addzip</th>\n",
       "      <th>city</th>\n",
       "      <th>state</th>\n",
       "      <th>inflator</th>\n",
       "    </tr>\n",
       "  </thead>\n",
       "  <tbody>\n",
       "    <tr>\n",
       "      <th>0</th>\n",
       "      <td>1004</td>\n",
       "      <td>19990228</td>\n",
       "      <td>1998</td>\n",
       "      <td>3.0</td>\n",
       "      <td>INDL</td>\n",
       "      <td>C</td>\n",
       "      <td>D</td>\n",
       "      <td>STD</td>\n",
       "      <td>AIR</td>\n",
       "      <td>AAR CORP</td>\n",
       "      <td>...</td>\n",
       "      <td>18.938</td>\n",
       "      <td>23.200</td>\n",
       "      <td>250.984</td>\n",
       "      <td>A</td>\n",
       "      <td>15.1250</td>\n",
       "      <td>One AAR Place, 1100 North Wood Dale Road</td>\n",
       "      <td>60191</td>\n",
       "      <td>Wood Dale</td>\n",
       "      <td>IL</td>\n",
       "      <td>1.51804</td>\n",
       "    </tr>\n",
       "    <tr>\n",
       "      <th>1</th>\n",
       "      <td>1082</td>\n",
       "      <td>19990131</td>\n",
       "      <td>1998</td>\n",
       "      <td>3.0</td>\n",
       "      <td>INDL</td>\n",
       "      <td>C</td>\n",
       "      <td>D</td>\n",
       "      <td>STD</td>\n",
       "      <td>SERV.1</td>\n",
       "      <td>SERVIDYNE INC</td>\n",
       "      <td>...</td>\n",
       "      <td>0.795</td>\n",
       "      <td>1.562</td>\n",
       "      <td>27.942</td>\n",
       "      <td>I</td>\n",
       "      <td>6.8750</td>\n",
       "      <td>1945 The Exchange, Suite 325</td>\n",
       "      <td>30339-2029</td>\n",
       "      <td>Atlanta</td>\n",
       "      <td>GA</td>\n",
       "      <td>1.51804</td>\n",
       "    </tr>\n",
       "    <tr>\n",
       "      <th>2</th>\n",
       "      <td>1244</td>\n",
       "      <td>19990228</td>\n",
       "      <td>1998</td>\n",
       "      <td>3.0</td>\n",
       "      <td>INDL</td>\n",
       "      <td>C</td>\n",
       "      <td>D</td>\n",
       "      <td>STD</td>\n",
       "      <td>ALCD.</td>\n",
       "      <td>ALCIDE CORP</td>\n",
       "      <td>...</td>\n",
       "      <td>-0.090</td>\n",
       "      <td>-0.074</td>\n",
       "      <td>2.280</td>\n",
       "      <td>I</td>\n",
       "      <td>15.5000</td>\n",
       "      <td>8561 154th Avenue North East</td>\n",
       "      <td>98052</td>\n",
       "      <td>Redmond</td>\n",
       "      <td>WA</td>\n",
       "      <td>1.51804</td>\n",
       "    </tr>\n",
       "    <tr>\n",
       "      <th>3</th>\n",
       "      <td>1258</td>\n",
       "      <td>19990228</td>\n",
       "      <td>1998</td>\n",
       "      <td>3.0</td>\n",
       "      <td>INDL</td>\n",
       "      <td>C</td>\n",
       "      <td>D</td>\n",
       "      <td>STD</td>\n",
       "      <td>CGYNQ</td>\n",
       "      <td>CAPCO ENERGY INC</td>\n",
       "      <td>...</td>\n",
       "      <td>0.802</td>\n",
       "      <td>0.803</td>\n",
       "      <td>0.809</td>\n",
       "      <td>I</td>\n",
       "      <td>NaN</td>\n",
       "      <td>1800 West Loop South, Suite 1950</td>\n",
       "      <td>77027</td>\n",
       "      <td>Houston</td>\n",
       "      <td>TX</td>\n",
       "      <td>1.51804</td>\n",
       "    </tr>\n",
       "    <tr>\n",
       "      <th>4</th>\n",
       "      <td>1331</td>\n",
       "      <td>19990131</td>\n",
       "      <td>1998</td>\n",
       "      <td>3.0</td>\n",
       "      <td>INDL</td>\n",
       "      <td>C</td>\n",
       "      <td>D</td>\n",
       "      <td>STD</td>\n",
       "      <td>APNI</td>\n",
       "      <td>ALPINE GROUP INC</td>\n",
       "      <td>...</td>\n",
       "      <td>NaN</td>\n",
       "      <td>NaN</td>\n",
       "      <td>326.714</td>\n",
       "      <td>I</td>\n",
       "      <td>13.9375</td>\n",
       "      <td>One Meadowlands Plaza</td>\n",
       "      <td>07073</td>\n",
       "      <td>East Rutherford</td>\n",
       "      <td>NJ</td>\n",
       "      <td>1.51804</td>\n",
       "    </tr>\n",
       "  </tbody>\n",
       "</table>\n",
       "<p>5 rows × 28 columns</p>\n",
       "</div>"
      ],
      "text/plain": [
       "   gvkey  datadate  year  qtr indfmt consol popsrc datafmt     tic  \\\n",
       "0   1004  19990228  1998  3.0   INDL      C      D     STD     AIR   \n",
       "1   1082  19990131  1998  3.0   INDL      C      D     STD  SERV.1   \n",
       "2   1244  19990228  1998  3.0   INDL      C      D     STD   ALCD.   \n",
       "3   1258  19990228  1998  3.0   INDL      C      D     STD   CGYNQ   \n",
       "4   1331  19990131  1998  3.0   INDL      C      D     STD    APNI   \n",
       "\n",
       "        companyName  ... opInc_afDep opInc_befDep totalRevenue  costat  \\\n",
       "0          AAR CORP  ...      18.938       23.200      250.984       A   \n",
       "1     SERVIDYNE INC  ...       0.795        1.562       27.942       I   \n",
       "2       ALCIDE CORP  ...      -0.090       -0.074        2.280       I   \n",
       "3  CAPCO ENERGY INC  ...       0.802        0.803        0.809       I   \n",
       "4  ALPINE GROUP INC  ...         NaN          NaN      326.714       I   \n",
       "\n",
       "   priceClose                                      add1      addzip  \\\n",
       "0     15.1250  One AAR Place, 1100 North Wood Dale Road       60191   \n",
       "1      6.8750              1945 The Exchange, Suite 325  30339-2029   \n",
       "2     15.5000              8561 154th Avenue North East       98052   \n",
       "3         NaN          1800 West Loop South, Suite 1950       77027   \n",
       "4     13.9375                     One Meadowlands Plaza       07073   \n",
       "\n",
       "              city  state  inflator  \n",
       "0        Wood Dale     IL   1.51804  \n",
       "1          Atlanta     GA   1.51804  \n",
       "2          Redmond     WA   1.51804  \n",
       "3          Houston     TX   1.51804  \n",
       "4  East Rutherford     NJ   1.51804  \n",
       "\n",
       "[5 rows x 28 columns]"
      ]
     },
     "execution_count": 10,
     "metadata": {},
     "output_type": "execute_result"
    }
   ],
   "source": [
    "file = \"../../data/companyData/compustat2000s.csv\"\n",
    "compustat = pd.read_csv(file, encoding = 'unicode_escape').drop(columns = {'curncdq'})\n",
    "\n",
    "# rename to clean this up a little bit\n",
    "compustat.rename(columns = {'fyearq':'year',\n",
    "                            'fqtr':  'qtr',\n",
    "                            'chq':   'cash', \n",
    "                            'conm':  'companyName',\n",
    "                            'atq':   'assets',\n",
    "                            'niq':   'netIncome',\n",
    "                            'revtq': 'totalRevenue',\n",
    "                            'cogsq': 'costGoodsSold',\n",
    "                            'invtq': 'totalInv',\n",
    "                            'oibdpq': 'opInc_befDep',\n",
    "                            'oiadpq': 'opInc_afDep',\n",
    "                            'prccq':  'priceClose'\n",
    "                           },\n",
    "                 inplace = True)\n",
    "\n",
    "\n",
    "# and merge in the deflators\n",
    "compustat = compustat.merge(defl)\n",
    "compustat.head()"
   ]
  },
  {
   "cell_type": "code",
   "execution_count": 11,
   "metadata": {},
   "outputs": [
    {
     "data": {
      "text/plain": [
       "Index(['gvkey', 'datadate', 'year', 'qtr', 'indfmt', 'consol', 'popsrc',\n",
       "       'datafmt', 'tic', 'companyName', 'curcdq', 'datacqtr', 'datafqtr',\n",
       "       'assets', 'cash', 'costGoodsSold', 'totalInv', 'netIncome',\n",
       "       'opInc_afDep', 'opInc_befDep', 'totalRevenue', 'costat', 'priceClose',\n",
       "       'add1', 'addzip', 'city', 'state', 'inflator'],\n",
       "      dtype='object')"
      ]
     },
     "execution_count": 11,
     "metadata": {},
     "output_type": "execute_result"
    }
   ],
   "source": [
    "compustat.columns"
   ]
  },
  {
   "cell_type": "code",
   "execution_count": 12,
   "metadata": {},
   "outputs": [
    {
     "data": {
      "text/plain": [
       "(1005795, 28)"
      ]
     },
     "execution_count": 12,
     "metadata": {},
     "output_type": "execute_result"
    }
   ],
   "source": [
    "compustat.columns\n",
    "\n",
    "sum(compustat.datacqtr != compustat.datafqtr)\n",
    "compustat.shape"
   ]
  },
  {
   "cell_type": "code",
   "execution_count": 13,
   "metadata": {},
   "outputs": [
    {
     "data": {
      "text/plain": [
       "Index(['gvkey', 'datadate', 'year', 'qtr', 'indfmt', 'consol', 'popsrc',\n",
       "       'datafmt', 'tic', 'companyName', 'curcdq', 'datacqtr', 'datafqtr',\n",
       "       'assets', 'cash', 'costGoodsSold', 'totalInv', 'netIncome',\n",
       "       'opInc_afDep', 'opInc_befDep', 'totalRevenue', 'costat', 'priceClose',\n",
       "       'add1', 'addzip', 'city', 'state', 'inflator'],\n",
       "      dtype='object')"
      ]
     },
     "execution_count": 13,
     "metadata": {},
     "output_type": "execute_result"
    }
   ],
   "source": [
    "toDeflate = ['assets','costGoodsSold', 'totalInv', 'netIncome', 'totalRevenue',\n",
    "            'opInc_afDep', 'opInc_befDep','priceClose','cash']\n",
    "\n",
    "\n",
    "for col in toDeflate:\n",
    "    compustat[col] = compustat[col]*compustat.inflator\n",
    "\n",
    "    \n",
    "    \n",
    "compustat.columns"
   ]
  },
  {
   "cell_type": "code",
   "execution_count": 14,
   "metadata": {},
   "outputs": [
    {
     "data": {
      "text/plain": [
       "Index(['gvkey', 'datadate', 'year', 'qtr', 'companyName', 'curcdq', 'assets',\n",
       "       'cash', 'costGoodsSold', 'totalInv', 'netIncome', 'opInc_afDep',\n",
       "       'opInc_befDep', 'totalRevenue', 'costat', 'priceClose', 'add1',\n",
       "       'addzip', 'city', 'state'],\n",
       "      dtype='object')"
      ]
     },
     "execution_count": 14,
     "metadata": {},
     "output_type": "execute_result"
    }
   ],
   "source": [
    "compustat.drop(columns=['indfmt','consol','popsrc','datafmt','tic','datacqtr','datafqtr','inflator'], inplace = True)\n",
    "\n",
    "\n",
    "compustat.columns"
   ]
  },
  {
   "cell_type": "markdown",
   "metadata": {},
   "source": [
    "## 1. Basic Addresses"
   ]
  },
  {
   "cell_type": "code",
   "execution_count": 105,
   "metadata": {},
   "outputs": [],
   "source": [
    "compustatAddresses = compustat[['year','gvkey','companyName','add1','city','state','addzip']]\n",
    "compustatAddresses.to_csv(\"../../data/companyData/compustatAddresses.csv\")"
   ]
  },
  {
   "cell_type": "markdown",
   "metadata": {},
   "source": [
    "Get the addresses for all companies in the SC dataset."
   ]
  },
  {
   "cell_type": "code",
   "execution_count": 137,
   "metadata": {},
   "outputs": [
    {
     "name": "stdout",
     "output_type": "stream",
     "text": [
      "    gvkey                        conm  cgvkey                       cconm  \\\n",
      "70   1013  ADC TELECOMMUNICATIONS INC    2136  VERIZON COMMUNICATIONS INC   \n",
      "71   1013  ADC TELECOMMUNICATIONS INC    2136  VERIZON COMMUNICATIONS INC   \n",
      "72   1013  ADC TELECOMMUNICATIONS INC    2136  VERIZON COMMUNICATIONS INC   \n",
      "73   1013  ADC TELECOMMUNICATIONS INC    2136  VERIZON COMMUNICATIONS INC   \n",
      "74   1013  ADC TELECOMMUNICATIONS INC    2136  VERIZON COMMUNICATIONS INC   \n",
      "\n",
      "                      cnms   srcdate  cid  sid    ctype   salecs     scusip  \\\n",
      "70  VERIZON COMMUNICATIONS  20021031   10    0  COMPANY  111.056  000886309   \n",
      "71  VERIZON COMMUNICATIONS  20041031   13    0  COMPANY  104.312  000886309   \n",
      "72  VERIZON COMMUNICATIONS  20051031   13    0  COMPANY  146.000  000886309   \n",
      "73  VERIZON COMMUNICATIONS  20061031   13    0  COMPANY  205.000  000886309   \n",
      "74  VERIZON COMMUNICATIONS  20071031   13    0  COMPANY  236.000  000886309   \n",
      "\n",
      "      stic     ccusip ctic  year  \n",
      "70  ADCT.1  92343V104   VZ  2002  \n",
      "71  ADCT.1  92343V104   VZ  2004  \n",
      "72  ADCT.1  92343V104   VZ  2005  \n",
      "73  ADCT.1  92343V104   VZ  2006  \n",
      "74  ADCT.1  92343V104   VZ  2007   (7788,)\n"
     ]
    }
   ],
   "source": [
    "c_links = pd.read_csv(\"../../data/companyData/compustatSCLinked.csv\")\n",
    "\n",
    "c_links['year'] = c_links.srcdate.astype('str').str.slice(0,4).astype('int64')\n",
    "\n",
    "c_links = c_links[c_links.year > 1997]\n",
    "\n",
    "relevant_gvkeys = c_links.gvkey.append(c_links.cgvkey).drop_duplicates()\n",
    "\n",
    "print(c_links.head(),relevant_gvkeys.shape)"
   ]
  },
  {
   "cell_type": "code",
   "execution_count": 138,
   "metadata": {},
   "outputs": [
    {
     "name": "stdout",
     "output_type": "stream",
     "text": [
      "number of customers:  5411 total companies (incl suppliers):  7788\n"
     ]
    }
   ],
   "source": [
    "print(\"number of customers: \", c_links.gvkey.unique().shape[0],\n",
    "      \"total companies (incl suppliers): \", relevant_gvkeys.shape[0])"
   ]
  },
  {
   "cell_type": "code",
   "execution_count": 139,
   "metadata": {},
   "outputs": [
    {
     "name": "stdout",
     "output_type": "stream",
     "text": [
      "   year  gvkey               companyName  \\\n",
      "0  1998   1004                  AAR CORP   \n",
      "1  1998   1082             SERVIDYNE INC   \n",
      "2  1998   1244               ALCIDE CORP   \n",
      "4  1998   1331          ALPINE GROUP INC   \n",
      "5  1998   1562  AMERICAN SOFTWARE  -CL A   \n",
      "\n",
      "                                       add1             city state      addzip  \n",
      "0  One AAR Place, 1100 North Wood Dale Road        Wood Dale    IL       60191  \n",
      "1              1945 The Exchange, Suite 325          Atlanta    GA  30339-2029  \n",
      "2              8561 154th Avenue North East          Redmond    WA       98052  \n",
      "4                     One Meadowlands Plaza  East Rutherford    NJ       07073  \n",
      "5             470 East Paces Ferry Road, NE          Atlanta    GA       30305   (7271,)\n"
     ]
    }
   ],
   "source": [
    "compustatAddresses = compustatAddresses[(compustatAddresses.year < 2020) & \\\n",
    "                          compustatAddresses.gvkey.isin(relevant_gvkeys)]\n",
    "\n",
    "print(compustatAddresses.head(), compustatAddresses.gvkey.unique().shape)"
   ]
  },
  {
   "cell_type": "code",
   "execution_count": 140,
   "metadata": {},
   "outputs": [],
   "source": [
    "chq = compustatAddresses[['gvkey','companyName','add1',\n",
    "                   'city','state','addzip']].drop_duplicates()"
   ]
  },
  {
   "cell_type": "code",
   "execution_count": 141,
   "metadata": {},
   "outputs": [
    {
     "data": {
      "text/plain": [
       "(7271,)"
      ]
     },
     "execution_count": 141,
     "metadata": {},
     "output_type": "execute_result"
    }
   ],
   "source": [
    "chq.gvkey.unique().shape"
   ]
  },
  {
   "cell_type": "markdown",
   "metadata": {},
   "source": [
    "We're starting with the compustat north america dataset. Not all of the HQs are in North America, so we can filter some of the information down to match with Infogroup."
   ]
  },
  {
   "cell_type": "code",
   "execution_count": 142,
   "metadata": {},
   "outputs": [
    {
     "data": {
      "text/plain": [
       "array(['IL', 'GA', 'WA', 'NJ', 'PA', 'IN', 'OH', 'NC', 'OR', 'CO', 'TN',\n",
       "       'CT', 'CA', 'NY', 'MN', 'MI', 'TX', 'MO', nan, 'MD', 'VA', 'LA',\n",
       "       'NE', 'MA', 'KS', 'AR', 'AL', 'ON', 'OK', 'WI', 'FL', 'BC', 'AB',\n",
       "       'AZ', 'MS', 'QC', 'UT', 'ND', 'NS', 'SC', 'ID', 'NV', 'KY', 'DE',\n",
       "       'SD', 'NH', 'RI', 'IA', 'NB', 'ME', 'PR', 'HI', 'VT', 'DC', 'WV',\n",
       "       'MT', 'NF', 'SK', 'WY', 'MB', 'NM', 'VI'], dtype=object)"
      ]
     },
     "execution_count": 142,
     "metadata": {},
     "output_type": "execute_result"
    }
   ],
   "source": [
    "canadian = ['ON', 'AB','QC', 'BC', 'NS', 'NF', 'SK', 'MB', 'NB']\n",
    "\n",
    "chq.state.unique()"
   ]
  },
  {
   "cell_type": "code",
   "execution_count": 143,
   "metadata": {},
   "outputs": [],
   "source": [
    "chq = chq[~(chq.state.isin(canadian)) & ~chq.state.isna()]"
   ]
  },
  {
   "cell_type": "code",
   "execution_count": 144,
   "metadata": {},
   "outputs": [
    {
     "data": {
      "text/html": [
       "<div>\n",
       "<style scoped>\n",
       "    .dataframe tbody tr th:only-of-type {\n",
       "        vertical-align: middle;\n",
       "    }\n",
       "\n",
       "    .dataframe tbody tr th {\n",
       "        vertical-align: top;\n",
       "    }\n",
       "\n",
       "    .dataframe thead th {\n",
       "        text-align: right;\n",
       "    }\n",
       "</style>\n",
       "<table border=\"1\" class=\"dataframe\">\n",
       "  <thead>\n",
       "    <tr style=\"text-align: right;\">\n",
       "      <th></th>\n",
       "      <th>gvkey</th>\n",
       "      <th>companyName</th>\n",
       "      <th>add1</th>\n",
       "      <th>city</th>\n",
       "      <th>state</th>\n",
       "      <th>addzip</th>\n",
       "    </tr>\n",
       "  </thead>\n",
       "  <tbody>\n",
       "    <tr>\n",
       "      <th>0</th>\n",
       "      <td>1004</td>\n",
       "      <td>AAR CORP</td>\n",
       "      <td>One AAR Place, 1100 North Wood Dale Road</td>\n",
       "      <td>Wood Dale</td>\n",
       "      <td>IL</td>\n",
       "      <td>60191</td>\n",
       "    </tr>\n",
       "    <tr>\n",
       "      <th>1</th>\n",
       "      <td>1082</td>\n",
       "      <td>SERVIDYNE INC</td>\n",
       "      <td>1945 The Exchange, Suite 325</td>\n",
       "      <td>Atlanta</td>\n",
       "      <td>GA</td>\n",
       "      <td>30339-2029</td>\n",
       "    </tr>\n",
       "    <tr>\n",
       "      <th>2</th>\n",
       "      <td>1244</td>\n",
       "      <td>ALCIDE CORP</td>\n",
       "      <td>8561 154th Avenue North East</td>\n",
       "      <td>Redmond</td>\n",
       "      <td>WA</td>\n",
       "      <td>98052</td>\n",
       "    </tr>\n",
       "    <tr>\n",
       "      <th>4</th>\n",
       "      <td>1331</td>\n",
       "      <td>ALPINE GROUP INC</td>\n",
       "      <td>One Meadowlands Plaza</td>\n",
       "      <td>East Rutherford</td>\n",
       "      <td>NJ</td>\n",
       "      <td>07073</td>\n",
       "    </tr>\n",
       "    <tr>\n",
       "      <th>5</th>\n",
       "      <td>1562</td>\n",
       "      <td>AMERICAN SOFTWARE  -CL A</td>\n",
       "      <td>470 East Paces Ferry Road, NE</td>\n",
       "      <td>Atlanta</td>\n",
       "      <td>GA</td>\n",
       "      <td>30305</td>\n",
       "    </tr>\n",
       "  </tbody>\n",
       "</table>\n",
       "</div>"
      ],
      "text/plain": [
       "   gvkey               companyName                                      add1  \\\n",
       "0   1004                  AAR CORP  One AAR Place, 1100 North Wood Dale Road   \n",
       "1   1082             SERVIDYNE INC              1945 The Exchange, Suite 325   \n",
       "2   1244               ALCIDE CORP              8561 154th Avenue North East   \n",
       "4   1331          ALPINE GROUP INC                     One Meadowlands Plaza   \n",
       "5   1562  AMERICAN SOFTWARE  -CL A             470 East Paces Ferry Road, NE   \n",
       "\n",
       "              city state      addzip  \n",
       "0        Wood Dale    IL       60191  \n",
       "1          Atlanta    GA  30339-2029  \n",
       "2          Redmond    WA       98052  \n",
       "4  East Rutherford    NJ       07073  \n",
       "5          Atlanta    GA       30305  "
      ]
     },
     "execution_count": 144,
     "metadata": {},
     "output_type": "execute_result"
    }
   ],
   "source": [
    "chq.head()"
   ]
  },
  {
   "cell_type": "code",
   "execution_count": 145,
   "metadata": {},
   "outputs": [
    {
     "data": {
      "text/plain": [
       "5.0     5488\n",
       "10.0     761\n",
       "Name: addzip, dtype: int64"
      ]
     },
     "execution_count": 145,
     "metadata": {},
     "output_type": "execute_result"
    }
   ],
   "source": [
    "chq.addzip.str.len().value_counts()"
   ]
  },
  {
   "cell_type": "code",
   "execution_count": 146,
   "metadata": {},
   "outputs": [],
   "source": [
    "chq['addzip'] = chq.addzip.astype('str').str.slice(0,5)"
   ]
  },
  {
   "cell_type": "code",
   "execution_count": 147,
   "metadata": {},
   "outputs": [
    {
     "data": {
      "text/html": [
       "<div>\n",
       "<style scoped>\n",
       "    .dataframe tbody tr th:only-of-type {\n",
       "        vertical-align: middle;\n",
       "    }\n",
       "\n",
       "    .dataframe tbody tr th {\n",
       "        vertical-align: top;\n",
       "    }\n",
       "\n",
       "    .dataframe thead th {\n",
       "        text-align: right;\n",
       "    }\n",
       "</style>\n",
       "<table border=\"1\" class=\"dataframe\">\n",
       "  <thead>\n",
       "    <tr style=\"text-align: right;\">\n",
       "      <th></th>\n",
       "      <th>gvkey</th>\n",
       "      <th>companyName</th>\n",
       "      <th>add1</th>\n",
       "      <th>city</th>\n",
       "      <th>state</th>\n",
       "      <th>cstatZipcode</th>\n",
       "    </tr>\n",
       "  </thead>\n",
       "  <tbody>\n",
       "    <tr>\n",
       "      <th>0</th>\n",
       "      <td>1004</td>\n",
       "      <td>AAR CORP</td>\n",
       "      <td>One AAR Place, 1100 North Wood Dale Road</td>\n",
       "      <td>Wood Dale</td>\n",
       "      <td>IL</td>\n",
       "      <td>60191</td>\n",
       "    </tr>\n",
       "    <tr>\n",
       "      <th>1</th>\n",
       "      <td>1082</td>\n",
       "      <td>SERVIDYNE INC</td>\n",
       "      <td>1945 The Exchange, Suite 325</td>\n",
       "      <td>Atlanta</td>\n",
       "      <td>GA</td>\n",
       "      <td>30339</td>\n",
       "    </tr>\n",
       "    <tr>\n",
       "      <th>2</th>\n",
       "      <td>1244</td>\n",
       "      <td>ALCIDE CORP</td>\n",
       "      <td>8561 154th Avenue North East</td>\n",
       "      <td>Redmond</td>\n",
       "      <td>WA</td>\n",
       "      <td>98052</td>\n",
       "    </tr>\n",
       "    <tr>\n",
       "      <th>4</th>\n",
       "      <td>1331</td>\n",
       "      <td>ALPINE GROUP INC</td>\n",
       "      <td>One Meadowlands Plaza</td>\n",
       "      <td>East Rutherford</td>\n",
       "      <td>NJ</td>\n",
       "      <td>07073</td>\n",
       "    </tr>\n",
       "    <tr>\n",
       "      <th>5</th>\n",
       "      <td>1562</td>\n",
       "      <td>AMERICAN SOFTWARE  -CL A</td>\n",
       "      <td>470 East Paces Ferry Road, NE</td>\n",
       "      <td>Atlanta</td>\n",
       "      <td>GA</td>\n",
       "      <td>30305</td>\n",
       "    </tr>\n",
       "  </tbody>\n",
       "</table>\n",
       "</div>"
      ],
      "text/plain": [
       "   gvkey               companyName                                      add1  \\\n",
       "0   1004                  AAR CORP  One AAR Place, 1100 North Wood Dale Road   \n",
       "1   1082             SERVIDYNE INC              1945 The Exchange, Suite 325   \n",
       "2   1244               ALCIDE CORP              8561 154th Avenue North East   \n",
       "4   1331          ALPINE GROUP INC                     One Meadowlands Plaza   \n",
       "5   1562  AMERICAN SOFTWARE  -CL A             470 East Paces Ferry Road, NE   \n",
       "\n",
       "              city state cstatZipcode  \n",
       "0        Wood Dale    IL        60191  \n",
       "1          Atlanta    GA        30339  \n",
       "2          Redmond    WA        98052  \n",
       "4  East Rutherford    NJ        07073  \n",
       "5          Atlanta    GA        30305  "
      ]
     },
     "execution_count": 147,
     "metadata": {},
     "output_type": "execute_result"
    }
   ],
   "source": [
    "chq.rename(columns = {'conm': 'company','addzip': 'cstatZipcode'},inplace = True)\n",
    "chq.head()"
   ]
  },
  {
   "cell_type": "code",
   "execution_count": 148,
   "metadata": {},
   "outputs": [
    {
     "data": {
      "text/plain": [
       "(6250, 6)"
      ]
     },
     "execution_count": 148,
     "metadata": {},
     "output_type": "execute_result"
    }
   ],
   "source": [
    "chq.shape"
   ]
  },
  {
   "cell_type": "code",
   "execution_count": 149,
   "metadata": {},
   "outputs": [],
   "source": [
    "chq.to_csv(\"../../data/chq.csv\")"
   ]
  },
  {
   "cell_type": "markdown",
   "metadata": {},
   "source": [
    "Now subset all the supply chain data to focus on transactions between companies in the U.S.  "
   ]
  },
  {
   "cell_type": "code",
   "execution_count": 152,
   "metadata": {},
   "outputs": [
    {
     "data": {
      "text/plain": [
       "0.7294002994265699"
      ]
     },
     "execution_count": 152,
     "metadata": {},
     "output_type": "execute_result"
    }
   ],
   "source": [
    "c_linksUS = c_links[(c_links.gvkey.isin(chq.gvkey)) & (c_links.cgvkey.isin(chq.gvkey))]\n",
    "c_linksUS.shape[0]/c_links.shape[0]"
   ]
  },
  {
   "cell_type": "code",
   "execution_count": 153,
   "metadata": {},
   "outputs": [
    {
     "data": {
      "text/html": [
       "<div>\n",
       "<style scoped>\n",
       "    .dataframe tbody tr th:only-of-type {\n",
       "        vertical-align: middle;\n",
       "    }\n",
       "\n",
       "    .dataframe tbody tr th {\n",
       "        vertical-align: top;\n",
       "    }\n",
       "\n",
       "    .dataframe thead th {\n",
       "        text-align: right;\n",
       "    }\n",
       "</style>\n",
       "<table border=\"1\" class=\"dataframe\">\n",
       "  <thead>\n",
       "    <tr style=\"text-align: right;\">\n",
       "      <th></th>\n",
       "      <th>gvkey</th>\n",
       "      <th>conm</th>\n",
       "      <th>cgvkey</th>\n",
       "      <th>cconm</th>\n",
       "      <th>cnms</th>\n",
       "      <th>srcdate</th>\n",
       "      <th>cid</th>\n",
       "      <th>sid</th>\n",
       "      <th>ctype</th>\n",
       "      <th>salecs</th>\n",
       "      <th>scusip</th>\n",
       "      <th>stic</th>\n",
       "      <th>ccusip</th>\n",
       "      <th>ctic</th>\n",
       "      <th>year</th>\n",
       "    </tr>\n",
       "  </thead>\n",
       "  <tbody>\n",
       "    <tr>\n",
       "      <th>70</th>\n",
       "      <td>1013</td>\n",
       "      <td>ADC TELECOMMUNICATIONS INC</td>\n",
       "      <td>2136</td>\n",
       "      <td>VERIZON COMMUNICATIONS INC</td>\n",
       "      <td>VERIZON COMMUNICATIONS</td>\n",
       "      <td>20021031</td>\n",
       "      <td>10</td>\n",
       "      <td>0</td>\n",
       "      <td>COMPANY</td>\n",
       "      <td>111.056</td>\n",
       "      <td>000886309</td>\n",
       "      <td>ADCT.1</td>\n",
       "      <td>92343V104</td>\n",
       "      <td>VZ</td>\n",
       "      <td>2002</td>\n",
       "    </tr>\n",
       "    <tr>\n",
       "      <th>71</th>\n",
       "      <td>1013</td>\n",
       "      <td>ADC TELECOMMUNICATIONS INC</td>\n",
       "      <td>2136</td>\n",
       "      <td>VERIZON COMMUNICATIONS INC</td>\n",
       "      <td>VERIZON COMMUNICATIONS</td>\n",
       "      <td>20041031</td>\n",
       "      <td>13</td>\n",
       "      <td>0</td>\n",
       "      <td>COMPANY</td>\n",
       "      <td>104.312</td>\n",
       "      <td>000886309</td>\n",
       "      <td>ADCT.1</td>\n",
       "      <td>92343V104</td>\n",
       "      <td>VZ</td>\n",
       "      <td>2004</td>\n",
       "    </tr>\n",
       "    <tr>\n",
       "      <th>72</th>\n",
       "      <td>1013</td>\n",
       "      <td>ADC TELECOMMUNICATIONS INC</td>\n",
       "      <td>2136</td>\n",
       "      <td>VERIZON COMMUNICATIONS INC</td>\n",
       "      <td>VERIZON COMMUNICATIONS</td>\n",
       "      <td>20051031</td>\n",
       "      <td>13</td>\n",
       "      <td>0</td>\n",
       "      <td>COMPANY</td>\n",
       "      <td>146.000</td>\n",
       "      <td>000886309</td>\n",
       "      <td>ADCT.1</td>\n",
       "      <td>92343V104</td>\n",
       "      <td>VZ</td>\n",
       "      <td>2005</td>\n",
       "    </tr>\n",
       "    <tr>\n",
       "      <th>73</th>\n",
       "      <td>1013</td>\n",
       "      <td>ADC TELECOMMUNICATIONS INC</td>\n",
       "      <td>2136</td>\n",
       "      <td>VERIZON COMMUNICATIONS INC</td>\n",
       "      <td>VERIZON COMMUNICATIONS</td>\n",
       "      <td>20061031</td>\n",
       "      <td>13</td>\n",
       "      <td>0</td>\n",
       "      <td>COMPANY</td>\n",
       "      <td>205.000</td>\n",
       "      <td>000886309</td>\n",
       "      <td>ADCT.1</td>\n",
       "      <td>92343V104</td>\n",
       "      <td>VZ</td>\n",
       "      <td>2006</td>\n",
       "    </tr>\n",
       "    <tr>\n",
       "      <th>74</th>\n",
       "      <td>1013</td>\n",
       "      <td>ADC TELECOMMUNICATIONS INC</td>\n",
       "      <td>2136</td>\n",
       "      <td>VERIZON COMMUNICATIONS INC</td>\n",
       "      <td>VERIZON COMMUNICATIONS</td>\n",
       "      <td>20071031</td>\n",
       "      <td>13</td>\n",
       "      <td>0</td>\n",
       "      <td>COMPANY</td>\n",
       "      <td>236.000</td>\n",
       "      <td>000886309</td>\n",
       "      <td>ADCT.1</td>\n",
       "      <td>92343V104</td>\n",
       "      <td>VZ</td>\n",
       "      <td>2007</td>\n",
       "    </tr>\n",
       "  </tbody>\n",
       "</table>\n",
       "</div>"
      ],
      "text/plain": [
       "    gvkey                        conm  cgvkey                       cconm  \\\n",
       "70   1013  ADC TELECOMMUNICATIONS INC    2136  VERIZON COMMUNICATIONS INC   \n",
       "71   1013  ADC TELECOMMUNICATIONS INC    2136  VERIZON COMMUNICATIONS INC   \n",
       "72   1013  ADC TELECOMMUNICATIONS INC    2136  VERIZON COMMUNICATIONS INC   \n",
       "73   1013  ADC TELECOMMUNICATIONS INC    2136  VERIZON COMMUNICATIONS INC   \n",
       "74   1013  ADC TELECOMMUNICATIONS INC    2136  VERIZON COMMUNICATIONS INC   \n",
       "\n",
       "                      cnms   srcdate  cid  sid    ctype   salecs     scusip  \\\n",
       "70  VERIZON COMMUNICATIONS  20021031   10    0  COMPANY  111.056  000886309   \n",
       "71  VERIZON COMMUNICATIONS  20041031   13    0  COMPANY  104.312  000886309   \n",
       "72  VERIZON COMMUNICATIONS  20051031   13    0  COMPANY  146.000  000886309   \n",
       "73  VERIZON COMMUNICATIONS  20061031   13    0  COMPANY  205.000  000886309   \n",
       "74  VERIZON COMMUNICATIONS  20071031   13    0  COMPANY  236.000  000886309   \n",
       "\n",
       "      stic     ccusip ctic  year  \n",
       "70  ADCT.1  92343V104   VZ  2002  \n",
       "71  ADCT.1  92343V104   VZ  2004  \n",
       "72  ADCT.1  92343V104   VZ  2005  \n",
       "73  ADCT.1  92343V104   VZ  2006  \n",
       "74  ADCT.1  92343V104   VZ  2007  "
      ]
     },
     "execution_count": 153,
     "metadata": {},
     "output_type": "execute_result"
    }
   ],
   "source": [
    "c_links.head()"
   ]
  },
  {
   "cell_type": "code",
   "execution_count": 154,
   "metadata": {},
   "outputs": [
    {
     "data": {
      "text/plain": [
       "(51643, 15)"
      ]
     },
     "execution_count": 154,
     "metadata": {},
     "output_type": "execute_result"
    }
   ],
   "source": [
    "c_linksUS.shape"
   ]
  },
  {
   "cell_type": "code",
   "execution_count": 155,
   "metadata": {},
   "outputs": [
    {
     "data": {
      "text/plain": [
       "5892"
      ]
     },
     "execution_count": 155,
     "metadata": {},
     "output_type": "execute_result"
    }
   ],
   "source": [
    "relevantUSgvkey = c_linksUS.gvkey.append(c_linksUS.cgvkey).drop_duplicates()\n",
    "\n",
    "len(relevantUSgvkey)"
   ]
  },
  {
   "cell_type": "code",
   "execution_count": 156,
   "metadata": {},
   "outputs": [],
   "source": [
    "c_linksUS.to_csv(\"../../data/companyData/c_linksUS.csv\")"
   ]
  },
  {
   "cell_type": "markdown",
   "metadata": {},
   "source": [
    "## 2. Basic Change Information"
   ]
  },
  {
   "cell_type": "code",
   "execution_count": 52,
   "metadata": {},
   "outputs": [
    {
     "name": "stdout",
     "output_type": "stream",
     "text": [
      "Index(['gvkey', 'datadate', 'year', 'qtr', 'companyName', 'curcdq',\n",
      "       'assetsLast', 'cashLast', 'costGoodsSoldLast', 'totalInvLast',\n",
      "       'netIncomeLast', 'opInc_afDepLast', 'opInc_befDepLast',\n",
      "       'totalRevenueLast', 'costat', 'priceCloseLast', 'add1', 'addzip',\n",
      "       'city', 'state'],\n",
      "      dtype='object')\n"
     ]
    }
   ],
   "source": [
    "compustatLast = compustat.copy()\n",
    "\n",
    "compustatLast['year'] += 1\n",
    "compustatLast.rename(columns = {'assets': 'assetsLast',\n",
    "                                'netIncome':'netIncomeLast',\n",
    "                                'totalRevenue':'totalRevenueLast',\n",
    "                                'costGoodsSold':'costGoodsSoldLast',\n",
    "                                'totalInv':'totalInvLast',\n",
    "                                'opInc_afDep': 'opInc_afDepLast',\n",
    "                                'opInc_befDep': 'opInc_befDepLast',\n",
    "                                'priceClose': 'priceCloseLast',\n",
    "                                'cash': 'cashLast'\n",
    "                           }, inplace = True)\n",
    "\n",
    "# 'assets','costGoodsSold', 'totalInv', 'netIncome', 'totalRevenue',\n",
    "# 'opInc_afDep', 'opInc_befDep','priceClose','cash'\n",
    "\n",
    "print(compustatLast.columns)\n",
    "compustatLast = compustatLast[['gvkey','year','qtr','assetsLast','netIncomeLast',\n",
    "                               'totalRevenueLast','costGoodsSoldLast','totalInvLast',\n",
    "                              'opInc_afDepLast','opInc_befDepLast','priceCloseLast','cashLast']]"
   ]
  },
  {
   "cell_type": "code",
   "execution_count": 53,
   "metadata": {},
   "outputs": [
    {
     "data": {
      "text/html": [
       "<div>\n",
       "<style scoped>\n",
       "    .dataframe tbody tr th:only-of-type {\n",
       "        vertical-align: middle;\n",
       "    }\n",
       "\n",
       "    .dataframe tbody tr th {\n",
       "        vertical-align: top;\n",
       "    }\n",
       "\n",
       "    .dataframe thead th {\n",
       "        text-align: right;\n",
       "    }\n",
       "</style>\n",
       "<table border=\"1\" class=\"dataframe\">\n",
       "  <thead>\n",
       "    <tr style=\"text-align: right;\">\n",
       "      <th></th>\n",
       "      <th>gvkey</th>\n",
       "      <th>year</th>\n",
       "      <th>qtr</th>\n",
       "      <th>assetsLast</th>\n",
       "      <th>netIncomeLast</th>\n",
       "      <th>totalRevenueLast</th>\n",
       "      <th>costGoodsSoldLast</th>\n",
       "      <th>totalInvLast</th>\n",
       "      <th>opInc_afDepLast</th>\n",
       "      <th>opInc_befDepLast</th>\n",
       "      <th>priceCloseLast</th>\n",
       "      <th>cashLast</th>\n",
       "    </tr>\n",
       "  </thead>\n",
       "  <tbody>\n",
       "    <tr>\n",
       "      <th>0</th>\n",
       "      <td>1004</td>\n",
       "      <td>1999</td>\n",
       "      <td>3.0</td>\n",
       "      <td>1075.103596</td>\n",
       "      <td>15.602420</td>\n",
       "      <td>381.003873</td>\n",
       "      <td>309.704548</td>\n",
       "      <td>419.419406</td>\n",
       "      <td>28.748651</td>\n",
       "      <td>35.218539</td>\n",
       "      <td>22.960362</td>\n",
       "      <td>NaN</td>\n",
       "    </tr>\n",
       "    <tr>\n",
       "      <th>1</th>\n",
       "      <td>1082</td>\n",
       "      <td>1999</td>\n",
       "      <td>3.0</td>\n",
       "      <td>168.611793</td>\n",
       "      <td>-1.294889</td>\n",
       "      <td>42.417087</td>\n",
       "      <td>36.310010</td>\n",
       "      <td>17.313252</td>\n",
       "      <td>1.206842</td>\n",
       "      <td>2.371179</td>\n",
       "      <td>10.436528</td>\n",
       "      <td>NaN</td>\n",
       "    </tr>\n",
       "    <tr>\n",
       "      <th>2</th>\n",
       "      <td>1244</td>\n",
       "      <td>1999</td>\n",
       "      <td>3.0</td>\n",
       "      <td>27.689058</td>\n",
       "      <td>-2.324120</td>\n",
       "      <td>3.461132</td>\n",
       "      <td>1.621267</td>\n",
       "      <td>4.513134</td>\n",
       "      <td>-0.136624</td>\n",
       "      <td>-0.112335</td>\n",
       "      <td>23.529628</td>\n",
       "      <td>NaN</td>\n",
       "    </tr>\n",
       "    <tr>\n",
       "      <th>3</th>\n",
       "      <td>1258</td>\n",
       "      <td>1999</td>\n",
       "      <td>3.0</td>\n",
       "      <td>1.316141</td>\n",
       "      <td>1.217468</td>\n",
       "      <td>1.228095</td>\n",
       "      <td>0.000000</td>\n",
       "      <td>0.000000</td>\n",
       "      <td>1.217468</td>\n",
       "      <td>1.218987</td>\n",
       "      <td>NaN</td>\n",
       "      <td>NaN</td>\n",
       "    </tr>\n",
       "    <tr>\n",
       "      <th>4</th>\n",
       "      <td>1331</td>\n",
       "      <td>1999</td>\n",
       "      <td>3.0</td>\n",
       "      <td>3716.041664</td>\n",
       "      <td>0.593554</td>\n",
       "      <td>495.965079</td>\n",
       "      <td>NaN</td>\n",
       "      <td>677.551564</td>\n",
       "      <td>NaN</td>\n",
       "      <td>NaN</td>\n",
       "      <td>21.157689</td>\n",
       "      <td>NaN</td>\n",
       "    </tr>\n",
       "  </tbody>\n",
       "</table>\n",
       "</div>"
      ],
      "text/plain": [
       "   gvkey  year  qtr   assetsLast  netIncomeLast  totalRevenueLast  \\\n",
       "0   1004  1999  3.0  1075.103596      15.602420        381.003873   \n",
       "1   1082  1999  3.0   168.611793      -1.294889         42.417087   \n",
       "2   1244  1999  3.0    27.689058      -2.324120          3.461132   \n",
       "3   1258  1999  3.0     1.316141       1.217468          1.228095   \n",
       "4   1331  1999  3.0  3716.041664       0.593554        495.965079   \n",
       "\n",
       "   costGoodsSoldLast  totalInvLast  opInc_afDepLast  opInc_befDepLast  \\\n",
       "0         309.704548    419.419406        28.748651         35.218539   \n",
       "1          36.310010     17.313252         1.206842          2.371179   \n",
       "2           1.621267      4.513134        -0.136624         -0.112335   \n",
       "3           0.000000      0.000000         1.217468          1.218987   \n",
       "4                NaN    677.551564              NaN               NaN   \n",
       "\n",
       "   priceCloseLast  cashLast  \n",
       "0       22.960362       NaN  \n",
       "1       10.436528       NaN  \n",
       "2       23.529628       NaN  \n",
       "3             NaN       NaN  \n",
       "4       21.157689       NaN  "
      ]
     },
     "execution_count": 53,
     "metadata": {},
     "output_type": "execute_result"
    }
   ],
   "source": [
    "compustatLast.head()"
   ]
  },
  {
   "cell_type": "code",
   "execution_count": 54,
   "metadata": {},
   "outputs": [
    {
     "name": "stdout",
     "output_type": "stream",
     "text": [
      "(891345, 29)\n"
     ]
    }
   ],
   "source": [
    "compustatChanges = compustat.merge(compustatLast)\n",
    "print(compustatChanges.shape)"
   ]
  },
  {
   "cell_type": "code",
   "execution_count": 19,
   "metadata": {},
   "outputs": [
    {
     "name": "stdout",
     "output_type": "stream",
     "text": [
      "   gvkey  datadate  year  qtr       companyName curcdq       assets  cash  \\\n",
      "0   1004  20000229  1999  3.0          AAR CORP    USD  1129.147545   NaN   \n",
      "1   1082  20000131  1999  3.0     SERVIDYNE INC    USD   165.794462   NaN   \n",
      "2   1244  20000229  1999  3.0       ALCIDE CORP    USD    21.983589   NaN   \n",
      "3   1258  20000229  1999  3.0  CAPCO ENERGY INC    USD    41.520895   NaN   \n",
      "4   1331  20000131  1999  3.0  ALPINE GROUP INC    USD          NaN   NaN   \n",
      "\n",
      "   costGoodsSold    totalInv  ...  priceCloseLast  cashLast  incomeChange  \\\n",
      "0     333.569319  477.771178  ...       22.960362       NaN      0.051819   \n",
      "1      39.497057   17.258803  ...       10.436528       NaN      2.519227   \n",
      "2       2.067281    2.405836  ...       23.529628       NaN     -0.962616   \n",
      "3       3.947309    1.427623  ...             NaN       NaN     -1.141501   \n",
      "4            NaN         NaN  ...       21.157689       NaN           NaN   \n",
      "\n",
      "   revenueChange costChange  inventoryChange opInc_afDepChange  \\\n",
      "0       0.070750   0.077057         0.139125          0.077069   \n",
      "1       0.062572   0.087773        -0.003145          0.173010   \n",
      "2       0.244343   0.275102        -0.466926          0.666626   \n",
      "3       3.207090        inf              inf         -1.249781   \n",
      "4            NaN        NaN              NaN               NaN   \n",
      "\n",
      "  opInc_befDepChange priceCloseChange   assetsPrev  \n",
      "0           0.074228         0.549549  1075.103596  \n",
      "1          -0.019499        -0.497620   168.611793  \n",
      "2          -2.373544         0.329021    27.689058  \n",
      "3          -1.245783              NaN     1.316141  \n",
      "4                NaN        -0.110536  3716.041664  \n",
      "\n",
      "[5 rows x 37 columns]\n"
     ]
    },
    {
     "data": {
      "text/plain": [
       "\"compustatChanges = compustatChanges[['year', 'qtr', 'gvkey', 'companyName', \\n                                     'tic', 'curcdq','salesChange','incomeChange','revenueChange',\\n                                     'costChange','inventoryChange']]\\n\""
      ]
     },
     "execution_count": 19,
     "metadata": {},
     "output_type": "execute_result"
    }
   ],
   "source": [
    "compustatChanges['incomeChange']       = (compustatChanges.netIncome - compustatChanges.netIncomeLast)/compustatChanges.netIncomeLast\n",
    "\n",
    "compustatChanges['revenueChange']      = (compustatChanges.totalRevenue - compustatChanges.totalRevenueLast)/compustatChanges.totalRevenueLast\n",
    "\n",
    "compustatChanges['costChange']         = (compustatChanges.costGoodsSold - compustatChanges.costGoodsSoldLast)/compustatChanges.costGoodsSoldLast\n",
    "\n",
    "compustatChanges['inventoryChange']    = (compustatChanges.totalInv - compustatChanges.totalInvLast)/compustatChanges.totalInvLast\n",
    "\n",
    "compustatChanges['opInc_afDepChange']  = (compustatChanges.opInc_afDep - compustatChanges.opInc_afDepLast)/compustatChanges.opInc_afDepLast\n",
    "\n",
    "compustatChanges['opInc_befDepChange'] = (compustatChanges.opInc_befDep - compustatChanges.opInc_befDepLast)/compustatChanges.opInc_befDepLast\n",
    "\n",
    "compustatChanges['priceCloseChange']   = (compustatChanges.priceClose - compustatChanges.priceCloseLast)/compustatChanges.priceCloseLast\n",
    "\n",
    "compustatChanges['assetsPrev']         = compustatChanges.assetsLast\n",
    "\n",
    "\n",
    "\n",
    "print(compustatChanges.head())\n",
    "\n",
    "\n",
    "'''compustatChanges = compustatChanges[['year', 'qtr', 'gvkey', 'companyName', \n",
    "                                     'tic', 'curcdq','salesChange','incomeChange','revenueChange',\n",
    "                                     'costChange','inventoryChange']]\n",
    "'''"
   ]
  },
  {
   "cell_type": "code",
   "execution_count": 20,
   "metadata": {},
   "outputs": [],
   "source": [
    "compustatChanges.to_csv(\"../../data/companyData/compustatChanges_all.csv\")"
   ]
  },
  {
   "cell_type": "code",
   "execution_count": 21,
   "metadata": {},
   "outputs": [
    {
     "data": {
      "text/html": [
       "<div>\n",
       "<style scoped>\n",
       "    .dataframe tbody tr th:only-of-type {\n",
       "        vertical-align: middle;\n",
       "    }\n",
       "\n",
       "    .dataframe tbody tr th {\n",
       "        vertical-align: top;\n",
       "    }\n",
       "\n",
       "    .dataframe thead th {\n",
       "        text-align: right;\n",
       "    }\n",
       "</style>\n",
       "<table border=\"1\" class=\"dataframe\">\n",
       "  <thead>\n",
       "    <tr style=\"text-align: right;\">\n",
       "      <th></th>\n",
       "      <th>gvkey</th>\n",
       "      <th>datadate</th>\n",
       "      <th>year</th>\n",
       "      <th>qtr</th>\n",
       "      <th>companyName</th>\n",
       "      <th>curcdq</th>\n",
       "      <th>assets</th>\n",
       "      <th>cash</th>\n",
       "      <th>costGoodsSold</th>\n",
       "      <th>totalInv</th>\n",
       "      <th>...</th>\n",
       "      <th>priceCloseLast</th>\n",
       "      <th>cashLast</th>\n",
       "      <th>incomeChange</th>\n",
       "      <th>revenueChange</th>\n",
       "      <th>costChange</th>\n",
       "      <th>inventoryChange</th>\n",
       "      <th>opInc_afDepChange</th>\n",
       "      <th>opInc_befDepChange</th>\n",
       "      <th>priceCloseChange</th>\n",
       "      <th>assetsPrev</th>\n",
       "    </tr>\n",
       "  </thead>\n",
       "  <tbody>\n",
       "    <tr>\n",
       "      <th>0</th>\n",
       "      <td>1004</td>\n",
       "      <td>20000229</td>\n",
       "      <td>1999</td>\n",
       "      <td>3.0</td>\n",
       "      <td>AAR CORP</td>\n",
       "      <td>USD</td>\n",
       "      <td>1129.147545</td>\n",
       "      <td>NaN</td>\n",
       "      <td>333.569319</td>\n",
       "      <td>477.771178</td>\n",
       "      <td>...</td>\n",
       "      <td>22.960362</td>\n",
       "      <td>NaN</td>\n",
       "      <td>0.051819</td>\n",
       "      <td>0.070750</td>\n",
       "      <td>0.077057</td>\n",
       "      <td>0.139125</td>\n",
       "      <td>0.077069</td>\n",
       "      <td>0.074228</td>\n",
       "      <td>0.549549</td>\n",
       "      <td>1075.103596</td>\n",
       "    </tr>\n",
       "    <tr>\n",
       "      <th>1</th>\n",
       "      <td>1082</td>\n",
       "      <td>20000131</td>\n",
       "      <td>1999</td>\n",
       "      <td>3.0</td>\n",
       "      <td>SERVIDYNE INC</td>\n",
       "      <td>USD</td>\n",
       "      <td>165.794462</td>\n",
       "      <td>NaN</td>\n",
       "      <td>39.497057</td>\n",
       "      <td>17.258803</td>\n",
       "      <td>...</td>\n",
       "      <td>10.436528</td>\n",
       "      <td>NaN</td>\n",
       "      <td>2.519227</td>\n",
       "      <td>0.062572</td>\n",
       "      <td>0.087773</td>\n",
       "      <td>-0.003145</td>\n",
       "      <td>0.173010</td>\n",
       "      <td>-0.019499</td>\n",
       "      <td>-0.497620</td>\n",
       "      <td>168.611793</td>\n",
       "    </tr>\n",
       "    <tr>\n",
       "      <th>2</th>\n",
       "      <td>1244</td>\n",
       "      <td>20000229</td>\n",
       "      <td>1999</td>\n",
       "      <td>3.0</td>\n",
       "      <td>ALCIDE CORP</td>\n",
       "      <td>USD</td>\n",
       "      <td>21.983589</td>\n",
       "      <td>NaN</td>\n",
       "      <td>2.067281</td>\n",
       "      <td>2.405836</td>\n",
       "      <td>...</td>\n",
       "      <td>23.529628</td>\n",
       "      <td>NaN</td>\n",
       "      <td>-0.962616</td>\n",
       "      <td>0.244343</td>\n",
       "      <td>0.275102</td>\n",
       "      <td>-0.466926</td>\n",
       "      <td>0.666626</td>\n",
       "      <td>-2.373544</td>\n",
       "      <td>0.329021</td>\n",
       "      <td>27.689058</td>\n",
       "    </tr>\n",
       "    <tr>\n",
       "      <th>3</th>\n",
       "      <td>1258</td>\n",
       "      <td>20000229</td>\n",
       "      <td>1999</td>\n",
       "      <td>3.0</td>\n",
       "      <td>CAPCO ENERGY INC</td>\n",
       "      <td>USD</td>\n",
       "      <td>41.520895</td>\n",
       "      <td>NaN</td>\n",
       "      <td>3.947309</td>\n",
       "      <td>1.427623</td>\n",
       "      <td>...</td>\n",
       "      <td>NaN</td>\n",
       "      <td>NaN</td>\n",
       "      <td>-1.141501</td>\n",
       "      <td>3.207090</td>\n",
       "      <td>inf</td>\n",
       "      <td>inf</td>\n",
       "      <td>-1.249781</td>\n",
       "      <td>-1.245783</td>\n",
       "      <td>NaN</td>\n",
       "      <td>1.316141</td>\n",
       "    </tr>\n",
       "    <tr>\n",
       "      <th>4</th>\n",
       "      <td>1331</td>\n",
       "      <td>20000131</td>\n",
       "      <td>1999</td>\n",
       "      <td>3.0</td>\n",
       "      <td>ALPINE GROUP INC</td>\n",
       "      <td>USD</td>\n",
       "      <td>NaN</td>\n",
       "      <td>NaN</td>\n",
       "      <td>NaN</td>\n",
       "      <td>NaN</td>\n",
       "      <td>...</td>\n",
       "      <td>21.157689</td>\n",
       "      <td>NaN</td>\n",
       "      <td>NaN</td>\n",
       "      <td>NaN</td>\n",
       "      <td>NaN</td>\n",
       "      <td>NaN</td>\n",
       "      <td>NaN</td>\n",
       "      <td>NaN</td>\n",
       "      <td>-0.110536</td>\n",
       "      <td>3716.041664</td>\n",
       "    </tr>\n",
       "  </tbody>\n",
       "</table>\n",
       "<p>5 rows × 37 columns</p>\n",
       "</div>"
      ],
      "text/plain": [
       "   gvkey  datadate  year  qtr       companyName curcdq       assets  cash  \\\n",
       "0   1004  20000229  1999  3.0          AAR CORP    USD  1129.147545   NaN   \n",
       "1   1082  20000131  1999  3.0     SERVIDYNE INC    USD   165.794462   NaN   \n",
       "2   1244  20000229  1999  3.0       ALCIDE CORP    USD    21.983589   NaN   \n",
       "3   1258  20000229  1999  3.0  CAPCO ENERGY INC    USD    41.520895   NaN   \n",
       "4   1331  20000131  1999  3.0  ALPINE GROUP INC    USD          NaN   NaN   \n",
       "\n",
       "   costGoodsSold    totalInv  ...  priceCloseLast  cashLast  incomeChange  \\\n",
       "0     333.569319  477.771178  ...       22.960362       NaN      0.051819   \n",
       "1      39.497057   17.258803  ...       10.436528       NaN      2.519227   \n",
       "2       2.067281    2.405836  ...       23.529628       NaN     -0.962616   \n",
       "3       3.947309    1.427623  ...             NaN       NaN     -1.141501   \n",
       "4            NaN         NaN  ...       21.157689       NaN           NaN   \n",
       "\n",
       "   revenueChange costChange  inventoryChange opInc_afDepChange  \\\n",
       "0       0.070750   0.077057         0.139125          0.077069   \n",
       "1       0.062572   0.087773        -0.003145          0.173010   \n",
       "2       0.244343   0.275102        -0.466926          0.666626   \n",
       "3       3.207090        inf              inf         -1.249781   \n",
       "4            NaN        NaN              NaN               NaN   \n",
       "\n",
       "  opInc_befDepChange priceCloseChange   assetsPrev  \n",
       "0           0.074228         0.549549  1075.103596  \n",
       "1          -0.019499        -0.497620   168.611793  \n",
       "2          -2.373544         0.329021    27.689058  \n",
       "3          -1.245783              NaN     1.316141  \n",
       "4                NaN        -0.110536  3716.041664  \n",
       "\n",
       "[5 rows x 37 columns]"
      ]
     },
     "execution_count": 21,
     "metadata": {},
     "output_type": "execute_result"
    }
   ],
   "source": [
    "compustatChanges.head()"
   ]
  },
  {
   "cell_type": "markdown",
   "metadata": {},
   "source": [
    "## 3. Company-level controls"
   ]
  },
  {
   "cell_type": "code",
   "execution_count": 55,
   "metadata": {},
   "outputs": [
    {
     "data": {
      "text/html": [
       "<div>\n",
       "<style scoped>\n",
       "    .dataframe tbody tr th:only-of-type {\n",
       "        vertical-align: middle;\n",
       "    }\n",
       "\n",
       "    .dataframe tbody tr th {\n",
       "        vertical-align: top;\n",
       "    }\n",
       "\n",
       "    .dataframe thead th {\n",
       "        text-align: right;\n",
       "    }\n",
       "</style>\n",
       "<table border=\"1\" class=\"dataframe\">\n",
       "  <thead>\n",
       "    <tr style=\"text-align: right;\">\n",
       "      <th></th>\n",
       "      <th>gvkey</th>\n",
       "      <th>datadate</th>\n",
       "      <th>fyearq</th>\n",
       "      <th>fqtr</th>\n",
       "      <th>indfmt</th>\n",
       "      <th>consol</th>\n",
       "      <th>popsrc</th>\n",
       "      <th>datafmt</th>\n",
       "      <th>tic</th>\n",
       "      <th>curcdq</th>\n",
       "      <th>datacqtr</th>\n",
       "      <th>datafqtr</th>\n",
       "      <th>atq</th>\n",
       "      <th>niq</th>\n",
       "      <th>costat</th>\n",
       "      <th>prccq</th>\n",
       "      <th>naics</th>\n",
       "      <th>sic</th>\n",
       "    </tr>\n",
       "  </thead>\n",
       "  <tbody>\n",
       "    <tr>\n",
       "      <th>0</th>\n",
       "      <td>1000</td>\n",
       "      <td>19660331</td>\n",
       "      <td>1966</td>\n",
       "      <td>1.0</td>\n",
       "      <td>INDL</td>\n",
       "      <td>C</td>\n",
       "      <td>D</td>\n",
       "      <td>STD</td>\n",
       "      <td>AE.2</td>\n",
       "      <td>USD</td>\n",
       "      <td>1966Q1</td>\n",
       "      <td>1966Q1</td>\n",
       "      <td>NaN</td>\n",
       "      <td>NaN</td>\n",
       "      <td>I</td>\n",
       "      <td>NaN</td>\n",
       "      <td>NaN</td>\n",
       "      <td>3089.0</td>\n",
       "    </tr>\n",
       "    <tr>\n",
       "      <th>1</th>\n",
       "      <td>1000</td>\n",
       "      <td>19660630</td>\n",
       "      <td>1966</td>\n",
       "      <td>2.0</td>\n",
       "      <td>INDL</td>\n",
       "      <td>C</td>\n",
       "      <td>D</td>\n",
       "      <td>STD</td>\n",
       "      <td>AE.2</td>\n",
       "      <td>USD</td>\n",
       "      <td>1966Q2</td>\n",
       "      <td>1966Q2</td>\n",
       "      <td>NaN</td>\n",
       "      <td>NaN</td>\n",
       "      <td>I</td>\n",
       "      <td>NaN</td>\n",
       "      <td>NaN</td>\n",
       "      <td>3089.0</td>\n",
       "    </tr>\n",
       "    <tr>\n",
       "      <th>2</th>\n",
       "      <td>1000</td>\n",
       "      <td>19660930</td>\n",
       "      <td>1966</td>\n",
       "      <td>3.0</td>\n",
       "      <td>INDL</td>\n",
       "      <td>C</td>\n",
       "      <td>D</td>\n",
       "      <td>STD</td>\n",
       "      <td>AE.2</td>\n",
       "      <td>USD</td>\n",
       "      <td>1966Q3</td>\n",
       "      <td>1966Q3</td>\n",
       "      <td>NaN</td>\n",
       "      <td>NaN</td>\n",
       "      <td>I</td>\n",
       "      <td>NaN</td>\n",
       "      <td>NaN</td>\n",
       "      <td>3089.0</td>\n",
       "    </tr>\n",
       "    <tr>\n",
       "      <th>3</th>\n",
       "      <td>1000</td>\n",
       "      <td>19661231</td>\n",
       "      <td>1966</td>\n",
       "      <td>4.0</td>\n",
       "      <td>INDL</td>\n",
       "      <td>C</td>\n",
       "      <td>D</td>\n",
       "      <td>STD</td>\n",
       "      <td>AE.2</td>\n",
       "      <td>USD</td>\n",
       "      <td>1966Q4</td>\n",
       "      <td>1966Q4</td>\n",
       "      <td>NaN</td>\n",
       "      <td>0.164</td>\n",
       "      <td>I</td>\n",
       "      <td>NaN</td>\n",
       "      <td>NaN</td>\n",
       "      <td>3089.0</td>\n",
       "    </tr>\n",
       "    <tr>\n",
       "      <th>4</th>\n",
       "      <td>1000</td>\n",
       "      <td>19670331</td>\n",
       "      <td>1967</td>\n",
       "      <td>1.0</td>\n",
       "      <td>INDL</td>\n",
       "      <td>C</td>\n",
       "      <td>D</td>\n",
       "      <td>STD</td>\n",
       "      <td>AE.2</td>\n",
       "      <td>USD</td>\n",
       "      <td>1967Q1</td>\n",
       "      <td>1967Q1</td>\n",
       "      <td>NaN</td>\n",
       "      <td>NaN</td>\n",
       "      <td>I</td>\n",
       "      <td>NaN</td>\n",
       "      <td>NaN</td>\n",
       "      <td>3089.0</td>\n",
       "    </tr>\n",
       "  </tbody>\n",
       "</table>\n",
       "</div>"
      ],
      "text/plain": [
       "   gvkey  datadate  fyearq  fqtr indfmt consol popsrc datafmt   tic curcdq  \\\n",
       "0   1000  19660331    1966   1.0   INDL      C      D     STD  AE.2    USD   \n",
       "1   1000  19660630    1966   2.0   INDL      C      D     STD  AE.2    USD   \n",
       "2   1000  19660930    1966   3.0   INDL      C      D     STD  AE.2    USD   \n",
       "3   1000  19661231    1966   4.0   INDL      C      D     STD  AE.2    USD   \n",
       "4   1000  19670331    1967   1.0   INDL      C      D     STD  AE.2    USD   \n",
       "\n",
       "  datacqtr datafqtr  atq    niq costat  prccq  naics     sic  \n",
       "0   1966Q1   1966Q1  NaN    NaN      I    NaN    NaN  3089.0  \n",
       "1   1966Q2   1966Q2  NaN    NaN      I    NaN    NaN  3089.0  \n",
       "2   1966Q3   1966Q3  NaN    NaN      I    NaN    NaN  3089.0  \n",
       "3   1966Q4   1966Q4  NaN  0.164      I    NaN    NaN  3089.0  \n",
       "4   1967Q1   1967Q1  NaN    NaN      I    NaN    NaN  3089.0  "
      ]
     },
     "execution_count": 55,
     "metadata": {},
     "output_type": "execute_result"
    }
   ],
   "source": [
    "file = \"../../data/companyData/compustatControls.csv\"\n",
    "compustatControls = pd.read_csv(file, encoding = 'unicode_escape')\n",
    "compustatControls.head()"
   ]
  },
  {
   "cell_type": "code",
   "execution_count": 56,
   "metadata": {},
   "outputs": [
    {
     "data": {
      "text/html": [
       "<div>\n",
       "<style scoped>\n",
       "    .dataframe tbody tr th:only-of-type {\n",
       "        vertical-align: middle;\n",
       "    }\n",
       "\n",
       "    .dataframe tbody tr th {\n",
       "        vertical-align: top;\n",
       "    }\n",
       "\n",
       "    .dataframe thead th {\n",
       "        text-align: right;\n",
       "    }\n",
       "</style>\n",
       "<table border=\"1\" class=\"dataframe\">\n",
       "  <thead>\n",
       "    <tr style=\"text-align: right;\">\n",
       "      <th></th>\n",
       "      <th>gvkey</th>\n",
       "      <th>earliestYear</th>\n",
       "    </tr>\n",
       "  </thead>\n",
       "  <tbody>\n",
       "    <tr>\n",
       "      <th>0</th>\n",
       "      <td>1000</td>\n",
       "      <td>1966</td>\n",
       "    </tr>\n",
       "    <tr>\n",
       "      <th>1</th>\n",
       "      <td>1001</td>\n",
       "      <td>1983</td>\n",
       "    </tr>\n",
       "    <tr>\n",
       "      <th>2</th>\n",
       "      <td>1003</td>\n",
       "      <td>1982</td>\n",
       "    </tr>\n",
       "    <tr>\n",
       "      <th>3</th>\n",
       "      <td>1004</td>\n",
       "      <td>1968</td>\n",
       "    </tr>\n",
       "    <tr>\n",
       "      <th>4</th>\n",
       "      <td>1005</td>\n",
       "      <td>1978</td>\n",
       "    </tr>\n",
       "  </tbody>\n",
       "</table>\n",
       "</div>"
      ],
      "text/plain": [
       "   gvkey  earliestYear\n",
       "0   1000          1966\n",
       "1   1001          1983\n",
       "2   1003          1982\n",
       "3   1004          1968\n",
       "4   1005          1978"
      ]
     },
     "execution_count": 56,
     "metadata": {},
     "output_type": "execute_result"
    }
   ],
   "source": [
    "earliestYear = compustatControls.groupby('gvkey')['fyearq'].min().reset_index().\\\n",
    "    rename(columns = {'fyearq': 'earliestYear'})\n",
    "earliestYear.head()"
   ]
  },
  {
   "cell_type": "markdown",
   "metadata": {},
   "source": [
    "---------------------------------------"
   ]
  },
  {
   "cell_type": "code",
   "execution_count": 57,
   "metadata": {},
   "outputs": [],
   "source": [
    "otherControls = compustatControls[['gvkey','fyearq','fqtr','sic','naics','atq','niq']]"
   ]
  },
  {
   "cell_type": "code",
   "execution_count": 58,
   "metadata": {},
   "outputs": [
    {
     "data": {
      "text/html": [
       "<div>\n",
       "<style scoped>\n",
       "    .dataframe tbody tr th:only-of-type {\n",
       "        vertical-align: middle;\n",
       "    }\n",
       "\n",
       "    .dataframe tbody tr th {\n",
       "        vertical-align: top;\n",
       "    }\n",
       "\n",
       "    .dataframe thead th {\n",
       "        text-align: right;\n",
       "    }\n",
       "</style>\n",
       "<table border=\"1\" class=\"dataframe\">\n",
       "  <thead>\n",
       "    <tr style=\"text-align: right;\">\n",
       "      <th></th>\n",
       "      <th>gvkey</th>\n",
       "      <th>fyearq</th>\n",
       "      <th>fqtr</th>\n",
       "      <th>sic</th>\n",
       "      <th>naics</th>\n",
       "      <th>atq</th>\n",
       "      <th>niq</th>\n",
       "      <th>inflator</th>\n",
       "    </tr>\n",
       "  </thead>\n",
       "  <tbody>\n",
       "    <tr>\n",
       "      <th>0</th>\n",
       "      <td>1000</td>\n",
       "      <td>1966</td>\n",
       "      <td>1.0</td>\n",
       "      <td>3089.0</td>\n",
       "      <td>NaN</td>\n",
       "      <td>NaN</td>\n",
       "      <td>NaN</td>\n",
       "      <td>6.341516</td>\n",
       "    </tr>\n",
       "    <tr>\n",
       "      <th>1</th>\n",
       "      <td>1010</td>\n",
       "      <td>1966</td>\n",
       "      <td>1.0</td>\n",
       "      <td>3743.0</td>\n",
       "      <td>336510.0</td>\n",
       "      <td>NaN</td>\n",
       "      <td>43.306214</td>\n",
       "      <td>6.341516</td>\n",
       "    </tr>\n",
       "    <tr>\n",
       "      <th>2</th>\n",
       "      <td>1040</td>\n",
       "      <td>1966</td>\n",
       "      <td>1.0</td>\n",
       "      <td>3949.0</td>\n",
       "      <td>339920.0</td>\n",
       "      <td>NaN</td>\n",
       "      <td>42.830600</td>\n",
       "      <td>6.341516</td>\n",
       "    </tr>\n",
       "    <tr>\n",
       "      <th>3</th>\n",
       "      <td>1043</td>\n",
       "      <td>1966</td>\n",
       "      <td>1.0</td>\n",
       "      <td>5040.0</td>\n",
       "      <td>421410.0</td>\n",
       "      <td>NaN</td>\n",
       "      <td>29.507075</td>\n",
       "      <td>6.341516</td>\n",
       "    </tr>\n",
       "    <tr>\n",
       "      <th>4</th>\n",
       "      <td>1044</td>\n",
       "      <td>1966</td>\n",
       "      <td>1.0</td>\n",
       "      <td>2011.0</td>\n",
       "      <td>NaN</td>\n",
       "      <td>NaN</td>\n",
       "      <td>NaN</td>\n",
       "      <td>6.341516</td>\n",
       "    </tr>\n",
       "  </tbody>\n",
       "</table>\n",
       "</div>"
      ],
      "text/plain": [
       "   gvkey  fyearq  fqtr     sic     naics  atq        niq  inflator\n",
       "0   1000    1966   1.0  3089.0       NaN  NaN        NaN  6.341516\n",
       "1   1010    1966   1.0  3743.0  336510.0  NaN  43.306214  6.341516\n",
       "2   1040    1966   1.0  3949.0  339920.0  NaN  42.830600  6.341516\n",
       "3   1043    1966   1.0  5040.0  421410.0  NaN  29.507075  6.341516\n",
       "4   1044    1966   1.0  2011.0       NaN  NaN        NaN  6.341516"
      ]
     },
     "execution_count": 58,
     "metadata": {},
     "output_type": "execute_result"
    }
   ],
   "source": [
    "defl.rename(columns = {'year': 'fyearq', 'qtr': 'fqtr'}, inplace = True)\n",
    "defl.head()\n",
    "\n",
    "\n",
    "otherControls = otherControls.merge(defl)\n",
    "\n",
    "\n",
    "toDeflate = ['atq','niq']\n",
    "\n",
    "\n",
    "for col in toDeflate:\n",
    "    otherControls[col] = otherControls[col]*otherControls.inflator\n",
    "\n",
    "otherControls.head()"
   ]
  },
  {
   "cell_type": "code",
   "execution_count": 59,
   "metadata": {},
   "outputs": [],
   "source": [
    "otherControls['roa']  = otherControls['niq']/otherControls['atq']\n",
    "\n",
    "otherControls.rename(columns = {'niq': 'netIncome',\n",
    "                               'atq':  'assets'},inplace = True)"
   ]
  },
  {
   "cell_type": "markdown",
   "metadata": {},
   "source": [
    "Try some industry classifications. First SIC2 and the corresponding groups."
   ]
  },
  {
   "cell_type": "code",
   "execution_count": 60,
   "metadata": {},
   "outputs": [
    {
     "name": "stdout",
     "output_type": "stream",
     "text": [
      "9998 0100\n"
     ]
    }
   ],
   "source": [
    "otherControls = otherControls[~(otherControls['sic'] == 'na') & ~(otherControls['sic'].isna())]\n",
    "\n",
    "otherControls['sic'] = otherControls['sic'].astype('int').astype('str').str.rjust(4,'0')\n",
    "\n",
    "print(otherControls.sic.max(),otherControls.sic.min())"
   ]
  },
  {
   "cell_type": "code",
   "execution_count": 61,
   "metadata": {},
   "outputs": [],
   "source": [
    "otherControls['sic2'] = otherControls.sic.str.slice(0,2).astype('int')\n",
    "\n",
    "otherControls['sic']  = otherControls.sic.astype('int')"
   ]
  },
  {
   "cell_type": "code",
   "execution_count": 62,
   "metadata": {},
   "outputs": [],
   "source": [
    "otherControls.loc[(otherControls.sic2  < 10 ), 'indGroup']                              = 'agForFish'\n",
    "otherControls.loc[(otherControls.sic2 >= 10 ) & (otherControls.sic2 < 15 ) , 'indGroup'] = 'mining'\n",
    "otherControls.loc[(otherControls.sic2 >= 15 ) & (otherControls.sic2 < 18 ) , 'indGroup'] = 'construction'\n",
    "otherControls.loc[(otherControls.sic2 >= 20 ) & (otherControls.sic2 < 40 ) , 'indGroup'] = 'manu'\n",
    "otherControls.loc[(otherControls.sic2 >= 40 ) & (otherControls.sic2 < 50 ) , 'indGroup'] = 'transportUtilities'\n",
    "otherControls.loc[(otherControls.sic2 >= 50 ) & (otherControls.sic2 < 52 ) , 'indGroup'] = 'wholesale'\n",
    "otherControls.loc[(otherControls.sic2 >= 52 ) & (otherControls.sic2 < 60 ) , 'indGroup'] = 'retail'\n",
    "otherControls.loc[(otherControls.sic2 >= 60 ) & (otherControls.sic2 < 68 ) , 'indGroup'] = 'finance'\n",
    "otherControls.loc[(otherControls.sic2 >= 70 ) & (otherControls.sic2 < 90 ) , 'indGroup'] = 'services'\n",
    "otherControls.loc[(otherControls.sic2 >= 91 ) & (otherControls.sic2 < 98 ) , 'indGroup'] = 'publicAdmin'"
   ]
  },
  {
   "cell_type": "code",
   "execution_count": 63,
   "metadata": {},
   "outputs": [
    {
     "data": {
      "text/plain": [
       "manu                  617526\n",
       "finance               474464\n",
       "services              237786\n",
       "transportUtilities    173488\n",
       "mining                150302\n",
       "retail                 88359\n",
       "wholesale              53160\n",
       "construction           17406\n",
       "agForFish               6026\n",
       "Name: indGroup, dtype: int64"
      ]
     },
     "execution_count": 63,
     "metadata": {},
     "output_type": "execute_result"
    }
   ],
   "source": [
    "otherControls.indGroup.value_counts()"
   ]
  },
  {
   "cell_type": "code",
   "execution_count": 65,
   "metadata": {},
   "outputs": [
    {
     "data": {
      "text/plain": [
       "(1845917, 11)"
      ]
     },
     "execution_count": 65,
     "metadata": {},
     "output_type": "execute_result"
    }
   ],
   "source": [
    "otherControls.shape"
   ]
  },
  {
   "cell_type": "markdown",
   "metadata": {},
   "source": [
    "In previous versions of the code (pre-9/12), we also have the famafrench industries. But these seem to make distinctions that are so fine that they are not helpful, so they're out for now."
   ]
  },
  {
   "cell_type": "code",
   "execution_count": 66,
   "metadata": {},
   "outputs": [
    {
     "data": {
      "text/html": [
       "<div>\n",
       "<style scoped>\n",
       "    .dataframe tbody tr th:only-of-type {\n",
       "        vertical-align: middle;\n",
       "    }\n",
       "\n",
       "    .dataframe tbody tr th {\n",
       "        vertical-align: top;\n",
       "    }\n",
       "\n",
       "    .dataframe thead th {\n",
       "        text-align: right;\n",
       "    }\n",
       "</style>\n",
       "<table border=\"1\" class=\"dataframe\">\n",
       "  <thead>\n",
       "    <tr style=\"text-align: right;\">\n",
       "      <th></th>\n",
       "      <th>gvkey</th>\n",
       "      <th>fyearq</th>\n",
       "      <th>fqtr</th>\n",
       "      <th>assetsLagged</th>\n",
       "      <th>netIncomeLagged</th>\n",
       "      <th>roa_lagged</th>\n",
       "      <th>sic2</th>\n",
       "      <th>indGroup</th>\n",
       "      <th>year_toMatchOn</th>\n",
       "      <th>earliestYear</th>\n",
       "    </tr>\n",
       "  </thead>\n",
       "  <tbody>\n",
       "    <tr>\n",
       "      <th>0</th>\n",
       "      <td>1000</td>\n",
       "      <td>1966</td>\n",
       "      <td>1.0</td>\n",
       "      <td>NaN</td>\n",
       "      <td>NaN</td>\n",
       "      <td>NaN</td>\n",
       "      <td>30</td>\n",
       "      <td>manu</td>\n",
       "      <td>1968</td>\n",
       "      <td>1966</td>\n",
       "    </tr>\n",
       "    <tr>\n",
       "      <th>1</th>\n",
       "      <td>1000</td>\n",
       "      <td>1966</td>\n",
       "      <td>2.0</td>\n",
       "      <td>NaN</td>\n",
       "      <td>NaN</td>\n",
       "      <td>NaN</td>\n",
       "      <td>30</td>\n",
       "      <td>manu</td>\n",
       "      <td>1968</td>\n",
       "      <td>1966</td>\n",
       "    </tr>\n",
       "    <tr>\n",
       "      <th>2</th>\n",
       "      <td>1000</td>\n",
       "      <td>1966</td>\n",
       "      <td>3.0</td>\n",
       "      <td>NaN</td>\n",
       "      <td>NaN</td>\n",
       "      <td>NaN</td>\n",
       "      <td>30</td>\n",
       "      <td>manu</td>\n",
       "      <td>1968</td>\n",
       "      <td>1966</td>\n",
       "    </tr>\n",
       "    <tr>\n",
       "      <th>3</th>\n",
       "      <td>1000</td>\n",
       "      <td>1966</td>\n",
       "      <td>4.0</td>\n",
       "      <td>NaN</td>\n",
       "      <td>1.013227</td>\n",
       "      <td>NaN</td>\n",
       "      <td>30</td>\n",
       "      <td>manu</td>\n",
       "      <td>1968</td>\n",
       "      <td>1966</td>\n",
       "    </tr>\n",
       "    <tr>\n",
       "      <th>4</th>\n",
       "      <td>1000</td>\n",
       "      <td>1967</td>\n",
       "      <td>1.0</td>\n",
       "      <td>NaN</td>\n",
       "      <td>NaN</td>\n",
       "      <td>NaN</td>\n",
       "      <td>30</td>\n",
       "      <td>manu</td>\n",
       "      <td>1969</td>\n",
       "      <td>1966</td>\n",
       "    </tr>\n",
       "  </tbody>\n",
       "</table>\n",
       "</div>"
      ],
      "text/plain": [
       "   gvkey  fyearq  fqtr  assetsLagged  netIncomeLagged  roa_lagged  sic2  \\\n",
       "0   1000    1966   1.0           NaN              NaN         NaN    30   \n",
       "1   1000    1966   2.0           NaN              NaN         NaN    30   \n",
       "2   1000    1966   3.0           NaN              NaN         NaN    30   \n",
       "3   1000    1966   4.0           NaN         1.013227         NaN    30   \n",
       "4   1000    1967   1.0           NaN              NaN         NaN    30   \n",
       "\n",
       "  indGroup  year_toMatchOn  earliestYear  \n",
       "0     manu            1968          1966  \n",
       "1     manu            1968          1966  \n",
       "2     manu            1968          1966  \n",
       "3     manu            1968          1966  \n",
       "4     manu            1969          1966  "
      ]
     },
     "execution_count": 66,
     "metadata": {},
     "output_type": "execute_result"
    }
   ],
   "source": [
    "otherControls = otherControls[['gvkey','fyearq','fqtr','assets','netIncome','roa', 'sic2', 'indGroup']]\n",
    "\n",
    "otherControls.rename(columns = {'assets': 'assetsLagged', 'netIncome': 'netIncomeLagged', 'roa': 'roa_lagged'}, \n",
    "                    inplace = True)\n",
    "\n",
    "otherControls['year_toMatchOn'] = otherControls['fyearq'] + 2 \n",
    "\n",
    "otherControls = otherControls.merge(earliestYear)\n",
    "\n",
    "otherControls.head()"
   ]
  },
  {
   "cell_type": "code",
   "execution_count": 67,
   "metadata": {},
   "outputs": [
    {
     "data": {
      "text/plain": [
       "2.0    300844\n",
       "0.0    300844\n",
       "1.0    300843\n",
       "Name: profitTercile, dtype: int64"
      ]
     },
     "execution_count": 67,
     "metadata": {},
     "output_type": "execute_result"
    }
   ],
   "source": [
    "otherControls = otherControls[otherControls.year_toMatchOn > 1997]\n",
    "\n",
    "otherControls['ageTercile']  = pd.qcut(otherControls['earliestYear'], 3, labels=False)\n",
    "otherControls['sizeTercile'] = pd.qcut(otherControls['assetsLagged'], 3, labels=False)\n",
    "otherControls['profitTercile'] = pd.qcut(otherControls['roa_lagged'], 3, labels=False)\n",
    "\n",
    "otherControls.profitTercile.value_counts()"
   ]
  },
  {
   "cell_type": "code",
   "execution_count": 68,
   "metadata": {},
   "outputs": [
    {
     "data": {
      "text/plain": [
       "2020"
      ]
     },
     "execution_count": 68,
     "metadata": {},
     "output_type": "execute_result"
    }
   ],
   "source": [
    "otherControls.earliestYear.max()"
   ]
  },
  {
   "cell_type": "code",
   "execution_count": 36,
   "metadata": {},
   "outputs": [],
   "source": [
    "otherControls.to_csv('../../data/companyData/otherControls.csv')"
   ]
  },
  {
   "cell_type": "markdown",
   "metadata": {},
   "source": [
    "Save the basic industry data as well."
   ]
  },
  {
   "cell_type": "code",
   "execution_count": 37,
   "metadata": {},
   "outputs": [],
   "source": [
    "industries = otherControls[['gvkey','indGroup']].drop_duplicates()\n",
    "industries.to_csv(\"../../data/companyData/gvkeyIndustries.csv\")"
   ]
  },
  {
   "cell_type": "markdown",
   "metadata": {},
   "source": [
    "# Final Merge"
   ]
  },
  {
   "cell_type": "code",
   "execution_count": 74,
   "metadata": {},
   "outputs": [],
   "source": [
    "changes       = compustatChanges.copy()\n",
    "\n",
    "otherControls = otherControls.rename(columns = {'year_toMatchOn': 'year','fqtr': 'qtr'})"
   ]
  },
  {
   "cell_type": "code",
   "execution_count": 75,
   "metadata": {},
   "outputs": [
    {
     "data": {
      "text/html": [
       "<div>\n",
       "<style scoped>\n",
       "    .dataframe tbody tr th:only-of-type {\n",
       "        vertical-align: middle;\n",
       "    }\n",
       "\n",
       "    .dataframe tbody tr th {\n",
       "        vertical-align: top;\n",
       "    }\n",
       "\n",
       "    .dataframe thead th {\n",
       "        text-align: right;\n",
       "    }\n",
       "</style>\n",
       "<table border=\"1\" class=\"dataframe\">\n",
       "  <thead>\n",
       "    <tr style=\"text-align: right;\">\n",
       "      <th></th>\n",
       "      <th>gvkey</th>\n",
       "      <th>fyearq</th>\n",
       "      <th>qtr</th>\n",
       "      <th>assetsLagged</th>\n",
       "      <th>netIncomeLagged</th>\n",
       "      <th>roa_lagged</th>\n",
       "      <th>sic2</th>\n",
       "      <th>indGroup</th>\n",
       "      <th>year</th>\n",
       "      <th>earliestYear</th>\n",
       "      <th>ageTercile</th>\n",
       "      <th>sizeTercile</th>\n",
       "      <th>profitTercile</th>\n",
       "    </tr>\n",
       "  </thead>\n",
       "  <tbody>\n",
       "    <tr>\n",
       "      <th>169</th>\n",
       "      <td>1010</td>\n",
       "      <td>1996</td>\n",
       "      <td>1.0</td>\n",
       "      <td>3422.936770</td>\n",
       "      <td>46.757990</td>\n",
       "      <td>0.013660</td>\n",
       "      <td>37</td>\n",
       "      <td>manu</td>\n",
       "      <td>1998</td>\n",
       "      <td>1962</td>\n",
       "      <td>0</td>\n",
       "      <td>2.0</td>\n",
       "      <td>2.0</td>\n",
       "    </tr>\n",
       "    <tr>\n",
       "      <th>170</th>\n",
       "      <td>1010</td>\n",
       "      <td>1996</td>\n",
       "      <td>2.0</td>\n",
       "      <td>3454.132166</td>\n",
       "      <td>18.500640</td>\n",
       "      <td>0.005356</td>\n",
       "      <td>37</td>\n",
       "      <td>manu</td>\n",
       "      <td>1998</td>\n",
       "      <td>1962</td>\n",
       "      <td>0</td>\n",
       "      <td>2.0</td>\n",
       "      <td>1.0</td>\n",
       "    </tr>\n",
       "    <tr>\n",
       "      <th>171</th>\n",
       "      <td>1010</td>\n",
       "      <td>1996</td>\n",
       "      <td>3.0</td>\n",
       "      <td>3487.709411</td>\n",
       "      <td>10.470317</td>\n",
       "      <td>0.003002</td>\n",
       "      <td>37</td>\n",
       "      <td>manu</td>\n",
       "      <td>1998</td>\n",
       "      <td>1962</td>\n",
       "      <td>0</td>\n",
       "      <td>2.0</td>\n",
       "      <td>1.0</td>\n",
       "    </tr>\n",
       "    <tr>\n",
       "      <th>172</th>\n",
       "      <td>1010</td>\n",
       "      <td>1996</td>\n",
       "      <td>4.0</td>\n",
       "      <td>3448.667709</td>\n",
       "      <td>68.705992</td>\n",
       "      <td>0.019922</td>\n",
       "      <td>37</td>\n",
       "      <td>manu</td>\n",
       "      <td>1998</td>\n",
       "      <td>1962</td>\n",
       "      <td>0</td>\n",
       "      <td>2.0</td>\n",
       "      <td>2.0</td>\n",
       "    </tr>\n",
       "    <tr>\n",
       "      <th>173</th>\n",
       "      <td>1010</td>\n",
       "      <td>1997</td>\n",
       "      <td>1.0</td>\n",
       "      <td>4322.135119</td>\n",
       "      <td>260.987674</td>\n",
       "      <td>0.060384</td>\n",
       "      <td>37</td>\n",
       "      <td>manu</td>\n",
       "      <td>1999</td>\n",
       "      <td>1962</td>\n",
       "      <td>0</td>\n",
       "      <td>2.0</td>\n",
       "      <td>2.0</td>\n",
       "    </tr>\n",
       "  </tbody>\n",
       "</table>\n",
       "</div>"
      ],
      "text/plain": [
       "     gvkey  fyearq  qtr  assetsLagged  netIncomeLagged  roa_lagged  sic2  \\\n",
       "169   1010    1996  1.0   3422.936770        46.757990    0.013660    37   \n",
       "170   1010    1996  2.0   3454.132166        18.500640    0.005356    37   \n",
       "171   1010    1996  3.0   3487.709411        10.470317    0.003002    37   \n",
       "172   1010    1996  4.0   3448.667709        68.705992    0.019922    37   \n",
       "173   1010    1997  1.0   4322.135119       260.987674    0.060384    37   \n",
       "\n",
       "    indGroup  year  earliestYear  ageTercile  sizeTercile  profitTercile  \n",
       "169     manu  1998          1962           0          2.0            2.0  \n",
       "170     manu  1998          1962           0          2.0            1.0  \n",
       "171     manu  1998          1962           0          2.0            1.0  \n",
       "172     manu  1998          1962           0          2.0            2.0  \n",
       "173     manu  1999          1962           0          2.0            2.0  "
      ]
     },
     "execution_count": 75,
     "metadata": {},
     "output_type": "execute_result"
    }
   ],
   "source": [
    "otherControls.head()"
   ]
  },
  {
   "cell_type": "code",
   "execution_count": 76,
   "metadata": {},
   "outputs": [
    {
     "data": {
      "text/plain": [
       "Index(['gvkey', 'datadate', 'year', 'qtr', 'companyName', 'curcdq', 'assets',\n",
       "       'cash', 'costGoodsSold', 'totalInv', 'netIncome', 'opInc_afDep',\n",
       "       'opInc_befDep', 'totalRevenue', 'costat', 'priceClose', 'add1',\n",
       "       'addzip', 'city', 'state', 'assetsLast', 'netIncomeLast',\n",
       "       'totalRevenueLast', 'costGoodsSoldLast', 'totalInvLast',\n",
       "       'opInc_afDepLast', 'opInc_befDepLast', 'priceCloseLast', 'cashLast'],\n",
       "      dtype='object')"
      ]
     },
     "execution_count": 76,
     "metadata": {},
     "output_type": "execute_result"
    }
   ],
   "source": [
    "changes.columns"
   ]
  },
  {
   "cell_type": "code",
   "execution_count": 77,
   "metadata": {},
   "outputs": [],
   "source": [
    "changes = changes.merge(otherControls)"
   ]
  },
  {
   "cell_type": "code",
   "execution_count": 78,
   "metadata": {},
   "outputs": [
    {
     "data": {
      "text/plain": [
       "(827747, 39)"
      ]
     },
     "execution_count": 78,
     "metadata": {},
     "output_type": "execute_result"
    }
   ],
   "source": [
    "changes.shape"
   ]
  },
  {
   "cell_type": "markdown",
   "metadata": {},
   "source": [
    "Put in calendar and fiscal quarters."
   ]
  },
  {
   "cell_type": "code",
   "execution_count": 80,
   "metadata": {},
   "outputs": [
    {
     "data": {
      "text/html": [
       "<div>\n",
       "<style scoped>\n",
       "    .dataframe tbody tr th:only-of-type {\n",
       "        vertical-align: middle;\n",
       "    }\n",
       "\n",
       "    .dataframe tbody tr th {\n",
       "        vertical-align: top;\n",
       "    }\n",
       "\n",
       "    .dataframe thead th {\n",
       "        text-align: right;\n",
       "    }\n",
       "</style>\n",
       "<table border=\"1\" class=\"dataframe\">\n",
       "  <thead>\n",
       "    <tr style=\"text-align: right;\">\n",
       "      <th></th>\n",
       "      <th>gvkey</th>\n",
       "      <th>datadate</th>\n",
       "      <th>fyearq</th>\n",
       "      <th>fqtr</th>\n",
       "      <th>fyr</th>\n",
       "      <th>indfmt</th>\n",
       "      <th>consol</th>\n",
       "      <th>popsrc</th>\n",
       "      <th>datafmt</th>\n",
       "      <th>tic</th>\n",
       "      <th>curcdq</th>\n",
       "      <th>datacqtr</th>\n",
       "      <th>datafqtr</th>\n",
       "      <th>costat</th>\n",
       "      <th>fyrc</th>\n",
       "    </tr>\n",
       "  </thead>\n",
       "  <tbody>\n",
       "    <tr>\n",
       "      <th>0</th>\n",
       "      <td>1004</td>\n",
       "      <td>19980228</td>\n",
       "      <td>1997</td>\n",
       "      <td>3.0</td>\n",
       "      <td>5</td>\n",
       "      <td>INDL</td>\n",
       "      <td>C</td>\n",
       "      <td>D</td>\n",
       "      <td>STD</td>\n",
       "      <td>AIR</td>\n",
       "      <td>USD</td>\n",
       "      <td>1998Q1</td>\n",
       "      <td>1997Q3</td>\n",
       "      <td>A</td>\n",
       "      <td>5</td>\n",
       "    </tr>\n",
       "    <tr>\n",
       "      <th>1</th>\n",
       "      <td>1004</td>\n",
       "      <td>19980531</td>\n",
       "      <td>1997</td>\n",
       "      <td>4.0</td>\n",
       "      <td>5</td>\n",
       "      <td>INDL</td>\n",
       "      <td>C</td>\n",
       "      <td>D</td>\n",
       "      <td>STD</td>\n",
       "      <td>AIR</td>\n",
       "      <td>USD</td>\n",
       "      <td>1998Q2</td>\n",
       "      <td>1997Q4</td>\n",
       "      <td>A</td>\n",
       "      <td>5</td>\n",
       "    </tr>\n",
       "    <tr>\n",
       "      <th>2</th>\n",
       "      <td>1004</td>\n",
       "      <td>19980831</td>\n",
       "      <td>1998</td>\n",
       "      <td>1.0</td>\n",
       "      <td>5</td>\n",
       "      <td>INDL</td>\n",
       "      <td>C</td>\n",
       "      <td>D</td>\n",
       "      <td>STD</td>\n",
       "      <td>AIR</td>\n",
       "      <td>USD</td>\n",
       "      <td>1998Q3</td>\n",
       "      <td>1998Q1</td>\n",
       "      <td>A</td>\n",
       "      <td>5</td>\n",
       "    </tr>\n",
       "    <tr>\n",
       "      <th>3</th>\n",
       "      <td>1004</td>\n",
       "      <td>19981130</td>\n",
       "      <td>1998</td>\n",
       "      <td>2.0</td>\n",
       "      <td>5</td>\n",
       "      <td>INDL</td>\n",
       "      <td>C</td>\n",
       "      <td>D</td>\n",
       "      <td>STD</td>\n",
       "      <td>AIR</td>\n",
       "      <td>USD</td>\n",
       "      <td>1998Q4</td>\n",
       "      <td>1998Q2</td>\n",
       "      <td>A</td>\n",
       "      <td>5</td>\n",
       "    </tr>\n",
       "    <tr>\n",
       "      <th>4</th>\n",
       "      <td>1004</td>\n",
       "      <td>19990228</td>\n",
       "      <td>1998</td>\n",
       "      <td>3.0</td>\n",
       "      <td>5</td>\n",
       "      <td>INDL</td>\n",
       "      <td>C</td>\n",
       "      <td>D</td>\n",
       "      <td>STD</td>\n",
       "      <td>AIR</td>\n",
       "      <td>USD</td>\n",
       "      <td>1999Q1</td>\n",
       "      <td>1998Q3</td>\n",
       "      <td>A</td>\n",
       "      <td>5</td>\n",
       "    </tr>\n",
       "  </tbody>\n",
       "</table>\n",
       "</div>"
      ],
      "text/plain": [
       "   gvkey  datadate  fyearq  fqtr  fyr indfmt consol popsrc datafmt  tic  \\\n",
       "0   1004  19980228    1997   3.0    5   INDL      C      D     STD  AIR   \n",
       "1   1004  19980531    1997   4.0    5   INDL      C      D     STD  AIR   \n",
       "2   1004  19980831    1998   1.0    5   INDL      C      D     STD  AIR   \n",
       "3   1004  19981130    1998   2.0    5   INDL      C      D     STD  AIR   \n",
       "4   1004  19990228    1998   3.0    5   INDL      C      D     STD  AIR   \n",
       "\n",
       "  curcdq datacqtr datafqtr costat  fyrc  \n",
       "0    USD   1998Q1   1997Q3      A     5  \n",
       "1    USD   1998Q2   1997Q4      A     5  \n",
       "2    USD   1998Q3   1998Q1      A     5  \n",
       "3    USD   1998Q4   1998Q2      A     5  \n",
       "4    USD   1999Q1   1998Q3      A     5  "
      ]
     },
     "execution_count": 80,
     "metadata": {},
     "output_type": "execute_result"
    }
   ],
   "source": [
    "quarters = pd.read_csv(\"../../data/companyData/fiscalYears.csv\")\n",
    "quarters.head()"
   ]
  },
  {
   "cell_type": "code",
   "execution_count": 81,
   "metadata": {},
   "outputs": [
    {
     "data": {
      "text/plain": [
       "27703"
      ]
     },
     "execution_count": 81,
     "metadata": {},
     "output_type": "execute_result"
    }
   ],
   "source": [
    "len(quarters.gvkey.unique())"
   ]
  },
  {
   "cell_type": "code",
   "execution_count": 82,
   "metadata": {},
   "outputs": [
    {
     "data": {
      "text/plain": [
       "0.8661478661478661"
      ]
     },
     "execution_count": 82,
     "metadata": {},
     "output_type": "execute_result"
    }
   ],
   "source": [
    "sum((quarters.fyr == 12) | \n",
    "   (quarters.fyr == 3) | \n",
    "   (quarters.fyr == 6) | \n",
    "   (quarters.fyr == 9))/quarters.shape[0]"
   ]
  },
  {
   "cell_type": "code",
   "execution_count": 83,
   "metadata": {},
   "outputs": [],
   "source": [
    "quarters = quarters[(quarters.fyr == 12) | \n",
    "   (quarters.fyr == 3) | \n",
    "   (quarters.fyr == 6) | \n",
    "   (quarters.fyr == 9)][['gvkey','datadate','datacqtr','datafqtr','fyr']].reset_index(drop = True)\n"
   ]
  },
  {
   "cell_type": "code",
   "execution_count": 84,
   "metadata": {},
   "outputs": [
    {
     "data": {
      "text/html": [
       "<div>\n",
       "<style scoped>\n",
       "    .dataframe tbody tr th:only-of-type {\n",
       "        vertical-align: middle;\n",
       "    }\n",
       "\n",
       "    .dataframe tbody tr th {\n",
       "        vertical-align: top;\n",
       "    }\n",
       "\n",
       "    .dataframe thead th {\n",
       "        text-align: right;\n",
       "    }\n",
       "</style>\n",
       "<table border=\"1\" class=\"dataframe\">\n",
       "  <thead>\n",
       "    <tr style=\"text-align: right;\">\n",
       "      <th></th>\n",
       "      <th>gvkey</th>\n",
       "      <th>datadate</th>\n",
       "      <th>datacqtr</th>\n",
       "      <th>datafqtr</th>\n",
       "      <th>fyr</th>\n",
       "    </tr>\n",
       "  </thead>\n",
       "  <tbody>\n",
       "    <tr>\n",
       "      <th>0</th>\n",
       "      <td>1010</td>\n",
       "      <td>19980331</td>\n",
       "      <td>1998Q1</td>\n",
       "      <td>1998Q1</td>\n",
       "      <td>12</td>\n",
       "    </tr>\n",
       "    <tr>\n",
       "      <th>1</th>\n",
       "      <td>1010</td>\n",
       "      <td>19980630</td>\n",
       "      <td>1998Q2</td>\n",
       "      <td>1998Q2</td>\n",
       "      <td>12</td>\n",
       "    </tr>\n",
       "    <tr>\n",
       "      <th>2</th>\n",
       "      <td>1010</td>\n",
       "      <td>19980930</td>\n",
       "      <td>1998Q3</td>\n",
       "      <td>1998Q3</td>\n",
       "      <td>12</td>\n",
       "    </tr>\n",
       "    <tr>\n",
       "      <th>3</th>\n",
       "      <td>1010</td>\n",
       "      <td>19981231</td>\n",
       "      <td>1998Q4</td>\n",
       "      <td>1998Q4</td>\n",
       "      <td>12</td>\n",
       "    </tr>\n",
       "    <tr>\n",
       "      <th>4</th>\n",
       "      <td>1010</td>\n",
       "      <td>19990331</td>\n",
       "      <td>1999Q1</td>\n",
       "      <td>1999Q1</td>\n",
       "      <td>12</td>\n",
       "    </tr>\n",
       "  </tbody>\n",
       "</table>\n",
       "</div>"
      ],
      "text/plain": [
       "   gvkey  datadate datacqtr datafqtr  fyr\n",
       "0   1010  19980331   1998Q1   1998Q1   12\n",
       "1   1010  19980630   1998Q2   1998Q2   12\n",
       "2   1010  19980930   1998Q3   1998Q3   12\n",
       "3   1010  19981231   1998Q4   1998Q4   12\n",
       "4   1010  19990331   1999Q1   1999Q1   12"
      ]
     },
     "execution_count": 84,
     "metadata": {},
     "output_type": "execute_result"
    }
   ],
   "source": [
    "quarters.head()"
   ]
  },
  {
   "cell_type": "markdown",
   "metadata": {},
   "source": [
    "Merge the quarter data into the change data, and make sure that the quarters that are used line up with the calendar quarters."
   ]
  },
  {
   "cell_type": "code",
   "execution_count": 85,
   "metadata": {},
   "outputs": [
    {
     "name": "stdout",
     "output_type": "stream",
     "text": [
      "0.7815951009185174\n"
     ]
    }
   ],
   "source": [
    "changesCal = changes[changes.gvkey.isin(quarters.gvkey.unique())]\n",
    "\n",
    "changesCal = changesCal.merge(quarters)\n",
    "\n",
    "print(changesCal.shape[0]/changes.shape[0])"
   ]
  },
  {
   "cell_type": "code",
   "execution_count": 86,
   "metadata": {},
   "outputs": [
    {
     "name": "stdout",
     "output_type": "stream",
     "text": [
      "(646963, 43)    gvkey  datadate  year  qtr              companyName curcdq      assets  \\\n",
      "0   8515  19990930  1999    3                  PHI INC    USD         NaN   \n",
      "1  12405  19990930  1999    3               AVESIS INC    USD         NaN   \n",
      "2  24474  19990930  1999    3  TECHNOLOGY SOLUTIONS CO    USD  362.960666   \n",
      "3  26830  19990930  1999    3   NAMIBIAN MINERALS CORP    USD  111.299129   \n",
      "4  30448  19990331  1970    1   AMERICAN HOMESTAR CORP    USD         NaN   \n",
      "\n",
      "   cash  costGoodsSold  totalInv  ...  sic2            indGroup  earliestYear  \\\n",
      "0   NaN            NaN       NaN  ...    45  transportUtilities          1981   \n",
      "1   NaN       2.470251       NaN  ...    64             finance          1984   \n",
      "2   NaN      36.229854  0.000000  ...    73            services          1990   \n",
      "3   NaN       7.938061  4.269385  ...    14              mining          1994   \n",
      "4   NaN            NaN       NaN  ...    24                manu          1993   \n",
      "\n",
      "   ageTercile sizeTercile  profitTercile datacqtr datafqtr fyr  \\\n",
      "0           0         1.0            1.0   1999Q3   1999Q3  12   \n",
      "1           0         0.0            2.0   1999Q3   1999Q3  12   \n",
      "2           0         1.0            2.0   1999Q3   1999Q3  12   \n",
      "3           1         0.0            0.0   1999Q3   1999Q3  12   \n",
      "4           0         1.0            2.0      NaN   1999Q3   6   \n",
      "\n",
      "                           DATE  \n",
      "0 1970-01-01 00:00:00.019990930  \n",
      "1 1970-01-01 00:00:00.019990930  \n",
      "2 1970-01-01 00:00:00.019990930  \n",
      "3 1970-01-01 00:00:00.019990930  \n",
      "4 1970-01-01 00:00:00.019990331  \n",
      "\n",
      "[5 rows x 43 columns]\n"
     ]
    }
   ],
   "source": [
    "changesCal.loc[~(changesCal.datacqtr.isna()), 'year'] = changesCal.datacqtr.str.slice(0,4)\n",
    "changesCal.loc[~(changesCal.datacqtr.isna()), 'qtr']  = changesCal.datacqtr.str.slice(5,6)\n",
    "\n",
    "changesCal['DATE'] = pd.to_datetime(changesCal['datadate'])\n",
    "\n",
    "changesCal.loc[(changesCal.datacqtr.isna()), 'year'] = changesCal.DATE.dt.year\n",
    "changesCal.loc[(changesCal.datacqtr.isna()), 'qtr']  = changesCal.DATE.dt.quarter\n",
    "\n",
    "changesCal['year'] = changesCal.year.astype('int64')\n",
    "changesCal['qtr']  = changesCal.qtr.astype('int64')\n",
    "\n",
    "print(changesCal.shape,changesCal.head())"
   ]
  },
  {
   "cell_type": "code",
   "execution_count": 87,
   "metadata": {},
   "outputs": [
    {
     "data": {
      "text/html": [
       "<div>\n",
       "<style scoped>\n",
       "    .dataframe tbody tr th:only-of-type {\n",
       "        vertical-align: middle;\n",
       "    }\n",
       "\n",
       "    .dataframe tbody tr th {\n",
       "        vertical-align: top;\n",
       "    }\n",
       "\n",
       "    .dataframe thead th {\n",
       "        text-align: right;\n",
       "    }\n",
       "</style>\n",
       "<table border=\"1\" class=\"dataframe\">\n",
       "  <thead>\n",
       "    <tr style=\"text-align: right;\">\n",
       "      <th></th>\n",
       "      <th>gvkey</th>\n",
       "      <th>datadate</th>\n",
       "      <th>year</th>\n",
       "      <th>qtr</th>\n",
       "      <th>companyName</th>\n",
       "      <th>curcdq</th>\n",
       "      <th>assets</th>\n",
       "      <th>cash</th>\n",
       "      <th>costGoodsSold</th>\n",
       "      <th>totalInv</th>\n",
       "      <th>...</th>\n",
       "      <th>sic2</th>\n",
       "      <th>indGroup</th>\n",
       "      <th>earliestYear</th>\n",
       "      <th>ageTercile</th>\n",
       "      <th>sizeTercile</th>\n",
       "      <th>profitTercile</th>\n",
       "      <th>datacqtr</th>\n",
       "      <th>datafqtr</th>\n",
       "      <th>fyr</th>\n",
       "      <th>DATE</th>\n",
       "    </tr>\n",
       "  </thead>\n",
       "  <tbody>\n",
       "    <tr>\n",
       "      <th>0</th>\n",
       "      <td>8515</td>\n",
       "      <td>19990930</td>\n",
       "      <td>1999</td>\n",
       "      <td>3</td>\n",
       "      <td>PHI INC</td>\n",
       "      <td>USD</td>\n",
       "      <td>NaN</td>\n",
       "      <td>NaN</td>\n",
       "      <td>NaN</td>\n",
       "      <td>NaN</td>\n",
       "      <td>...</td>\n",
       "      <td>45</td>\n",
       "      <td>transportUtilities</td>\n",
       "      <td>1981</td>\n",
       "      <td>0</td>\n",
       "      <td>1.0</td>\n",
       "      <td>1.0</td>\n",
       "      <td>1999Q3</td>\n",
       "      <td>1999Q3</td>\n",
       "      <td>12</td>\n",
       "      <td>1970-01-01 00:00:00.019990930</td>\n",
       "    </tr>\n",
       "    <tr>\n",
       "      <th>1</th>\n",
       "      <td>12405</td>\n",
       "      <td>19990930</td>\n",
       "      <td>1999</td>\n",
       "      <td>3</td>\n",
       "      <td>AVESIS INC</td>\n",
       "      <td>USD</td>\n",
       "      <td>NaN</td>\n",
       "      <td>NaN</td>\n",
       "      <td>2.470251</td>\n",
       "      <td>NaN</td>\n",
       "      <td>...</td>\n",
       "      <td>64</td>\n",
       "      <td>finance</td>\n",
       "      <td>1984</td>\n",
       "      <td>0</td>\n",
       "      <td>0.0</td>\n",
       "      <td>2.0</td>\n",
       "      <td>1999Q3</td>\n",
       "      <td>1999Q3</td>\n",
       "      <td>12</td>\n",
       "      <td>1970-01-01 00:00:00.019990930</td>\n",
       "    </tr>\n",
       "    <tr>\n",
       "      <th>2</th>\n",
       "      <td>24474</td>\n",
       "      <td>19990930</td>\n",
       "      <td>1999</td>\n",
       "      <td>3</td>\n",
       "      <td>TECHNOLOGY SOLUTIONS CO</td>\n",
       "      <td>USD</td>\n",
       "      <td>362.960666</td>\n",
       "      <td>NaN</td>\n",
       "      <td>36.229854</td>\n",
       "      <td>0.000000</td>\n",
       "      <td>...</td>\n",
       "      <td>73</td>\n",
       "      <td>services</td>\n",
       "      <td>1990</td>\n",
       "      <td>0</td>\n",
       "      <td>1.0</td>\n",
       "      <td>2.0</td>\n",
       "      <td>1999Q3</td>\n",
       "      <td>1999Q3</td>\n",
       "      <td>12</td>\n",
       "      <td>1970-01-01 00:00:00.019990930</td>\n",
       "    </tr>\n",
       "    <tr>\n",
       "      <th>3</th>\n",
       "      <td>26830</td>\n",
       "      <td>19990930</td>\n",
       "      <td>1999</td>\n",
       "      <td>3</td>\n",
       "      <td>NAMIBIAN MINERALS CORP</td>\n",
       "      <td>USD</td>\n",
       "      <td>111.299129</td>\n",
       "      <td>NaN</td>\n",
       "      <td>7.938061</td>\n",
       "      <td>4.269385</td>\n",
       "      <td>...</td>\n",
       "      <td>14</td>\n",
       "      <td>mining</td>\n",
       "      <td>1994</td>\n",
       "      <td>1</td>\n",
       "      <td>0.0</td>\n",
       "      <td>0.0</td>\n",
       "      <td>1999Q3</td>\n",
       "      <td>1999Q3</td>\n",
       "      <td>12</td>\n",
       "      <td>1970-01-01 00:00:00.019990930</td>\n",
       "    </tr>\n",
       "    <tr>\n",
       "      <th>4</th>\n",
       "      <td>30448</td>\n",
       "      <td>19990331</td>\n",
       "      <td>1970</td>\n",
       "      <td>1</td>\n",
       "      <td>AMERICAN HOMESTAR CORP</td>\n",
       "      <td>USD</td>\n",
       "      <td>NaN</td>\n",
       "      <td>NaN</td>\n",
       "      <td>NaN</td>\n",
       "      <td>NaN</td>\n",
       "      <td>...</td>\n",
       "      <td>24</td>\n",
       "      <td>manu</td>\n",
       "      <td>1993</td>\n",
       "      <td>0</td>\n",
       "      <td>1.0</td>\n",
       "      <td>2.0</td>\n",
       "      <td>NaN</td>\n",
       "      <td>1999Q3</td>\n",
       "      <td>6</td>\n",
       "      <td>1970-01-01 00:00:00.019990331</td>\n",
       "    </tr>\n",
       "  </tbody>\n",
       "</table>\n",
       "<p>5 rows × 43 columns</p>\n",
       "</div>"
      ],
      "text/plain": [
       "   gvkey  datadate  year  qtr              companyName curcdq      assets  \\\n",
       "0   8515  19990930  1999    3                  PHI INC    USD         NaN   \n",
       "1  12405  19990930  1999    3               AVESIS INC    USD         NaN   \n",
       "2  24474  19990930  1999    3  TECHNOLOGY SOLUTIONS CO    USD  362.960666   \n",
       "3  26830  19990930  1999    3   NAMIBIAN MINERALS CORP    USD  111.299129   \n",
       "4  30448  19990331  1970    1   AMERICAN HOMESTAR CORP    USD         NaN   \n",
       "\n",
       "   cash  costGoodsSold  totalInv  ...  sic2            indGroup  earliestYear  \\\n",
       "0   NaN            NaN       NaN  ...    45  transportUtilities          1981   \n",
       "1   NaN       2.470251       NaN  ...    64             finance          1984   \n",
       "2   NaN      36.229854  0.000000  ...    73            services          1990   \n",
       "3   NaN       7.938061  4.269385  ...    14              mining          1994   \n",
       "4   NaN            NaN       NaN  ...    24                manu          1993   \n",
       "\n",
       "   ageTercile sizeTercile  profitTercile datacqtr datafqtr fyr  \\\n",
       "0           0         1.0            1.0   1999Q3   1999Q3  12   \n",
       "1           0         0.0            2.0   1999Q3   1999Q3  12   \n",
       "2           0         1.0            2.0   1999Q3   1999Q3  12   \n",
       "3           1         0.0            0.0   1999Q3   1999Q3  12   \n",
       "4           0         1.0            2.0      NaN   1999Q3   6   \n",
       "\n",
       "                           DATE  \n",
       "0 1970-01-01 00:00:00.019990930  \n",
       "1 1970-01-01 00:00:00.019990930  \n",
       "2 1970-01-01 00:00:00.019990930  \n",
       "3 1970-01-01 00:00:00.019990930  \n",
       "4 1970-01-01 00:00:00.019990331  \n",
       "\n",
       "[5 rows x 43 columns]"
      ]
     },
     "execution_count": 87,
     "metadata": {},
     "output_type": "execute_result"
    }
   ],
   "source": [
    "changesCal.to_csv(\"../../data/companyData/compustatChanges_withControls.csv\")\n",
    "changesCal.head()"
   ]
  },
  {
   "cell_type": "code",
   "execution_count": null,
   "metadata": {},
   "outputs": [],
   "source": []
  }
 ],
 "metadata": {
  "kernelspec": {
   "display_name": "Python 3",
   "language": "python",
   "name": "python3"
  },
  "language_info": {
   "codemirror_mode": {
    "name": "ipython",
    "version": 3
   },
   "file_extension": ".py",
   "mimetype": "text/x-python",
   "name": "python",
   "nbconvert_exporter": "python",
   "pygments_lexer": "ipython3",
   "version": "3.7.4"
  }
 },
 "nbformat": 4,
 "nbformat_minor": 2
}
