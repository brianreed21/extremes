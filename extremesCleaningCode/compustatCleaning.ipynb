{
 "cells": [
  {
   "cell_type": "markdown",
   "metadata": {},
   "source": [
    "# Cleaning File\n",
    "Get the basic company information here."
   ]
  },
  {
   "cell_type": "code",
   "execution_count": 8,
   "metadata": {},
   "outputs": [],
   "source": [
    "import pickle\n",
    "import pandas as pd\n",
    "import matplotlib\n",
    "import os\n",
    "import re\n",
    "\n",
    "import collections\n",
    "import datetime\n",
    "import time\n",
    "\n",
    "import geopandas as gpd\n",
    "\n",
    "import numpy as np\n",
    "\n",
    "from difflib import get_close_matches\n",
    "\n",
    "from fuzzywuzzy import process\n",
    "from fuzzywuzzy import fuzz"
   ]
  },
  {
   "cell_type": "code",
   "execution_count": 9,
   "metadata": {},
   "outputs": [],
   "source": [
    "file = \"../../data/companyData/compustat_2010s.csv\"\n",
    "compustat = pd.read_csv(file, encoding = 'unicode_escape')"
   ]
  },
  {
   "cell_type": "code",
   "execution_count": 10,
   "metadata": {},
   "outputs": [
    {
     "data": {
      "text/plain": [
       "2013    47496\n",
       "2012    47264\n",
       "2014    46972\n",
       "2015    46272\n",
       "2016    45754\n",
       "2019    45631\n",
       "2018    45470\n",
       "2017    45449\n",
       "2011    44585\n",
       "2010    41695\n",
       "2020    22861\n",
       "2009     1512\n",
       "Name: fyearq, dtype: int64"
      ]
     },
     "execution_count": 10,
     "metadata": {},
     "output_type": "execute_result"
    }
   ],
   "source": [
    "compustat.fyearq.value_counts()"
   ]
  },
  {
   "cell_type": "code",
   "execution_count": 11,
   "metadata": {},
   "outputs": [
    {
     "data": {
      "text/html": [
       "<div>\n",
       "<style scoped>\n",
       "    .dataframe tbody tr th:only-of-type {\n",
       "        vertical-align: middle;\n",
       "    }\n",
       "\n",
       "    .dataframe tbody tr th {\n",
       "        vertical-align: top;\n",
       "    }\n",
       "\n",
       "    .dataframe thead th {\n",
       "        text-align: right;\n",
       "    }\n",
       "</style>\n",
       "<table border=\"1\" class=\"dataframe\">\n",
       "  <thead>\n",
       "    <tr style=\"text-align: right;\">\n",
       "      <th></th>\n",
       "      <th>gvkey</th>\n",
       "      <th>datadate</th>\n",
       "      <th>fyearq</th>\n",
       "      <th>fqtr</th>\n",
       "      <th>indfmt</th>\n",
       "      <th>consol</th>\n",
       "      <th>popsrc</th>\n",
       "      <th>datafmt</th>\n",
       "      <th>tic</th>\n",
       "      <th>cusip</th>\n",
       "      <th>...</th>\n",
       "      <th>datafqtr</th>\n",
       "      <th>chq</th>\n",
       "      <th>cogsq</th>\n",
       "      <th>gdwlq</th>\n",
       "      <th>invtq</th>\n",
       "      <th>invwipq</th>\n",
       "      <th>niq</th>\n",
       "      <th>revtq</th>\n",
       "      <th>costat</th>\n",
       "      <th>naics</th>\n",
       "    </tr>\n",
       "  </thead>\n",
       "  <tbody>\n",
       "    <tr>\n",
       "      <th>0</th>\n",
       "      <td>1004</td>\n",
       "      <td>20100228</td>\n",
       "      <td>2009</td>\n",
       "      <td>3.0</td>\n",
       "      <td>INDL</td>\n",
       "      <td>C</td>\n",
       "      <td>D</td>\n",
       "      <td>STD</td>\n",
       "      <td>AIR</td>\n",
       "      <td>000361105</td>\n",
       "      <td>...</td>\n",
       "      <td>2009Q3</td>\n",
       "      <td>117.526</td>\n",
       "      <td>242.629</td>\n",
       "      <td>NaN</td>\n",
       "      <td>444.645</td>\n",
       "      <td>NaN</td>\n",
       "      <td>9.912</td>\n",
       "      <td>300.845</td>\n",
       "      <td>A</td>\n",
       "      <td>423860.0</td>\n",
       "    </tr>\n",
       "    <tr>\n",
       "      <th>1</th>\n",
       "      <td>1004</td>\n",
       "      <td>20100531</td>\n",
       "      <td>2009</td>\n",
       "      <td>4.0</td>\n",
       "      <td>INDL</td>\n",
       "      <td>C</td>\n",
       "      <td>D</td>\n",
       "      <td>STD</td>\n",
       "      <td>AIR</td>\n",
       "      <td>000361105</td>\n",
       "      <td>...</td>\n",
       "      <td>2009Q4</td>\n",
       "      <td>79.370</td>\n",
       "      <td>298.064</td>\n",
       "      <td>111.544</td>\n",
       "      <td>496.904</td>\n",
       "      <td>NaN</td>\n",
       "      <td>11.200</td>\n",
       "      <td>364.809</td>\n",
       "      <td>A</td>\n",
       "      <td>423860.0</td>\n",
       "    </tr>\n",
       "    <tr>\n",
       "      <th>2</th>\n",
       "      <td>1004</td>\n",
       "      <td>20100831</td>\n",
       "      <td>2010</td>\n",
       "      <td>1.0</td>\n",
       "      <td>INDL</td>\n",
       "      <td>C</td>\n",
       "      <td>D</td>\n",
       "      <td>STD</td>\n",
       "      <td>AIR</td>\n",
       "      <td>000361105</td>\n",
       "      <td>...</td>\n",
       "      <td>2010Q1</td>\n",
       "      <td>52.155</td>\n",
       "      <td>334.392</td>\n",
       "      <td>NaN</td>\n",
       "      <td>520.001</td>\n",
       "      <td>NaN</td>\n",
       "      <td>13.674</td>\n",
       "      <td>404.393</td>\n",
       "      <td>A</td>\n",
       "      <td>423860.0</td>\n",
       "    </tr>\n",
       "    <tr>\n",
       "      <th>3</th>\n",
       "      <td>1004</td>\n",
       "      <td>20101130</td>\n",
       "      <td>2010</td>\n",
       "      <td>2.0</td>\n",
       "      <td>INDL</td>\n",
       "      <td>C</td>\n",
       "      <td>D</td>\n",
       "      <td>STD</td>\n",
       "      <td>AIR</td>\n",
       "      <td>000361105</td>\n",
       "      <td>...</td>\n",
       "      <td>2010Q2</td>\n",
       "      <td>49.320</td>\n",
       "      <td>379.795</td>\n",
       "      <td>NaN</td>\n",
       "      <td>524.548</td>\n",
       "      <td>NaN</td>\n",
       "      <td>16.814</td>\n",
       "      <td>454.858</td>\n",
       "      <td>A</td>\n",
       "      <td>423860.0</td>\n",
       "    </tr>\n",
       "    <tr>\n",
       "      <th>4</th>\n",
       "      <td>1004</td>\n",
       "      <td>20110228</td>\n",
       "      <td>2010</td>\n",
       "      <td>3.0</td>\n",
       "      <td>INDL</td>\n",
       "      <td>C</td>\n",
       "      <td>D</td>\n",
       "      <td>STD</td>\n",
       "      <td>AIR</td>\n",
       "      <td>000361105</td>\n",
       "      <td>...</td>\n",
       "      <td>2010Q3</td>\n",
       "      <td>54.716</td>\n",
       "      <td>379.242</td>\n",
       "      <td>NaN</td>\n",
       "      <td>523.464</td>\n",
       "      <td>NaN</td>\n",
       "      <td>17.918</td>\n",
       "      <td>458.035</td>\n",
       "      <td>A</td>\n",
       "      <td>423860.0</td>\n",
       "    </tr>\n",
       "  </tbody>\n",
       "</table>\n",
       "<p>5 rows × 23 columns</p>\n",
       "</div>"
      ],
      "text/plain": [
       "   gvkey  datadate  fyearq  fqtr indfmt consol popsrc datafmt  tic      cusip  \\\n",
       "0   1004  20100228    2009   3.0   INDL      C      D     STD  AIR  000361105   \n",
       "1   1004  20100531    2009   4.0   INDL      C      D     STD  AIR  000361105   \n",
       "2   1004  20100831    2010   1.0   INDL      C      D     STD  AIR  000361105   \n",
       "3   1004  20101130    2010   2.0   INDL      C      D     STD  AIR  000361105   \n",
       "4   1004  20110228    2010   3.0   INDL      C      D     STD  AIR  000361105   \n",
       "\n",
       "   ... datafqtr      chq    cogsq    gdwlq    invtq  invwipq     niq    revtq  \\\n",
       "0  ...   2009Q3  117.526  242.629      NaN  444.645      NaN   9.912  300.845   \n",
       "1  ...   2009Q4   79.370  298.064  111.544  496.904      NaN  11.200  364.809   \n",
       "2  ...   2010Q1   52.155  334.392      NaN  520.001      NaN  13.674  404.393   \n",
       "3  ...   2010Q2   49.320  379.795      NaN  524.548      NaN  16.814  454.858   \n",
       "4  ...   2010Q3   54.716  379.242      NaN  523.464      NaN  17.918  458.035   \n",
       "\n",
       "   costat     naics  \n",
       "0       A  423860.0  \n",
       "1       A  423860.0  \n",
       "2       A  423860.0  \n",
       "3       A  423860.0  \n",
       "4       A  423860.0  \n",
       "\n",
       "[5 rows x 23 columns]"
      ]
     },
     "execution_count": 11,
     "metadata": {},
     "output_type": "execute_result"
    }
   ],
   "source": [
    "compustat.head()"
   ]
  },
  {
   "cell_type": "code",
   "execution_count": 13,
   "metadata": {},
   "outputs": [],
   "source": [
    "file = \"../../data/companyData/compustatAll.csv\"\n",
    "compustatAll = pd.read_csv(file, encoding = 'unicode_escape')"
   ]
  },
  {
   "cell_type": "markdown",
   "metadata": {},
   "source": [
    "Seems like we've forgotten the naics code here."
   ]
  },
  {
   "cell_type": "code",
   "execution_count": 14,
   "metadata": {},
   "outputs": [
    {
     "data": {
      "text/plain": [
       "Index(['gvkey', 'datadate', 'fyearq', 'fqtr', 'indfmt', 'consol', 'popsrc',\n",
       "       'datafmt', 'tic', 'cusip', 'conm', 'curcdq', 'curncdq', 'currtrq',\n",
       "       'datacqtr', 'datafqtr', 'cogsq', 'invtq', 'niq', 'revtq', 'saleq',\n",
       "       'cik', 'costat'],\n",
       "      dtype='object')"
      ]
     },
     "execution_count": 14,
     "metadata": {},
     "output_type": "execute_result"
    }
   ],
   "source": [
    "compustatAll.columns"
   ]
  },
  {
   "cell_type": "code",
   "execution_count": 7,
   "metadata": {
    "scrolled": true
   },
   "outputs": [
    {
     "data": {
      "text/html": [
       "<div>\n",
       "<style scoped>\n",
       "    .dataframe tbody tr th:only-of-type {\n",
       "        vertical-align: middle;\n",
       "    }\n",
       "\n",
       "    .dataframe tbody tr th {\n",
       "        vertical-align: top;\n",
       "    }\n",
       "\n",
       "    .dataframe thead th {\n",
       "        text-align: right;\n",
       "    }\n",
       "</style>\n",
       "<table border=\"1\" class=\"dataframe\">\n",
       "  <thead>\n",
       "    <tr style=\"text-align: right;\">\n",
       "      <th></th>\n",
       "      <th>fyearq</th>\n",
       "      <th>fqtr</th>\n",
       "      <th>gvkey</th>\n",
       "      <th>conm</th>\n",
       "      <th>tic</th>\n",
       "      <th>curcdq</th>\n",
       "      <th>niq</th>\n",
       "      <th>revtq</th>\n",
       "      <th>cogsq</th>\n",
       "      <th>invtq</th>\n",
       "      <th>saleq</th>\n",
       "    </tr>\n",
       "  </thead>\n",
       "  <tbody>\n",
       "    <tr>\n",
       "      <th>0</th>\n",
       "      <td>1975</td>\n",
       "      <td>1.0</td>\n",
       "      <td>1000</td>\n",
       "      <td>A &amp; E PLASTIK PAK INC</td>\n",
       "      <td>AE.2</td>\n",
       "      <td>USD</td>\n",
       "      <td>0.190</td>\n",
       "      <td>11.295</td>\n",
       "      <td>NaN</td>\n",
       "      <td>NaN</td>\n",
       "      <td>11.295</td>\n",
       "    </tr>\n",
       "    <tr>\n",
       "      <th>1</th>\n",
       "      <td>1975</td>\n",
       "      <td>2.0</td>\n",
       "      <td>1000</td>\n",
       "      <td>A &amp; E PLASTIK PAK INC</td>\n",
       "      <td>AE.2</td>\n",
       "      <td>USD</td>\n",
       "      <td>0.875</td>\n",
       "      <td>14.441</td>\n",
       "      <td>NaN</td>\n",
       "      <td>NaN</td>\n",
       "      <td>14.441</td>\n",
       "    </tr>\n",
       "    <tr>\n",
       "      <th>2</th>\n",
       "      <td>1975</td>\n",
       "      <td>3.0</td>\n",
       "      <td>1000</td>\n",
       "      <td>A &amp; E PLASTIK PAK INC</td>\n",
       "      <td>AE.2</td>\n",
       "      <td>USD</td>\n",
       "      <td>0.613</td>\n",
       "      <td>13.122</td>\n",
       "      <td>NaN</td>\n",
       "      <td>NaN</td>\n",
       "      <td>13.122</td>\n",
       "    </tr>\n",
       "    <tr>\n",
       "      <th>3</th>\n",
       "      <td>1975</td>\n",
       "      <td>4.0</td>\n",
       "      <td>1000</td>\n",
       "      <td>A &amp; E PLASTIK PAK INC</td>\n",
       "      <td>AE.2</td>\n",
       "      <td>USD</td>\n",
       "      <td>0.606</td>\n",
       "      <td>12.334</td>\n",
       "      <td>35.237</td>\n",
       "      <td>6.227</td>\n",
       "      <td>12.334</td>\n",
       "    </tr>\n",
       "    <tr>\n",
       "      <th>4</th>\n",
       "      <td>1976</td>\n",
       "      <td>1.0</td>\n",
       "      <td>1000</td>\n",
       "      <td>A &amp; E PLASTIK PAK INC</td>\n",
       "      <td>AE.2</td>\n",
       "      <td>USD</td>\n",
       "      <td>0.726</td>\n",
       "      <td>16.226</td>\n",
       "      <td>11.138</td>\n",
       "      <td>6.369</td>\n",
       "      <td>16.226</td>\n",
       "    </tr>\n",
       "  </tbody>\n",
       "</table>\n",
       "</div>"
      ],
      "text/plain": [
       "   fyearq  fqtr  gvkey                   conm   tic curcdq    niq   revtq  \\\n",
       "0    1975   1.0   1000  A & E PLASTIK PAK INC  AE.2    USD  0.190  11.295   \n",
       "1    1975   2.0   1000  A & E PLASTIK PAK INC  AE.2    USD  0.875  14.441   \n",
       "2    1975   3.0   1000  A & E PLASTIK PAK INC  AE.2    USD  0.613  13.122   \n",
       "3    1975   4.0   1000  A & E PLASTIK PAK INC  AE.2    USD  0.606  12.334   \n",
       "4    1976   1.0   1000  A & E PLASTIK PAK INC  AE.2    USD  0.726  16.226   \n",
       "\n",
       "    cogsq  invtq   saleq  \n",
       "0     NaN    NaN  11.295  \n",
       "1     NaN    NaN  14.441  \n",
       "2     NaN    NaN  13.122  \n",
       "3  35.237  6.227  12.334  \n",
       "4  11.138  6.369  16.226  "
      ]
     },
     "execution_count": 7,
     "metadata": {},
     "output_type": "execute_result"
    }
   ],
   "source": [
    "'''compustat = compustat[(compustat.fyearq > 2009) & (compustat.fyearq < 2020)].reset_index()[['fyearq', 'fqtr', 'gvkey', 'conm', 'tic', 'naics','curcdq',\n",
    "           'niq', 'revtq', 'cogsq', 'invtq']]'''\n",
    "\n",
    "compustat = compustat[['fyearq', 'fqtr', 'gvkey', 'conm', 'tic','curcdq',\n",
    "           'niq', 'revtq', 'cogsq', 'invtq','saleq']]\n",
    "compustat.head()"
   ]
  },
  {
   "cell_type": "code",
   "execution_count": null,
   "metadata": {},
   "outputs": [],
   "source": [
    "compustat.rename(columns = {'fyearq':'year',\n",
    "                            'fqtr':  'qtr',\n",
    "                            'chq':   'cash', \n",
    "                            'conm':  'companyName',\n",
    "                            'niq':   'netIncome',\n",
    "                            'revtq': 'totalRevenue',\n",
    "                            'cogsq': 'costGoodsSold',\n",
    "                            'invtq': 'totalInv',\n",
    "                            'saleq': 'sales'\n",
    "                           },\n",
    "                 inplace = True)"
   ]
  },
  {
   "cell_type": "code",
   "execution_count": null,
   "metadata": {},
   "outputs": [],
   "source": [
    "compustat.head()"
   ]
  },
  {
   "cell_type": "code",
   "execution_count": null,
   "metadata": {},
   "outputs": [],
   "source": [
    "compustat.curcdq.value_counts()"
   ]
  },
  {
   "cell_type": "code",
   "execution_count": null,
   "metadata": {},
   "outputs": [],
   "source": [
    "compustatNext = compustat.copy()\n",
    "\n",
    "compustatNext['year'] -= 1\n",
    "compustatNext.rename(columns = {'sales':'salesNext',\n",
    "                                'netIncome':'netIncomeNext',\n",
    "                                'totalRevenue':'totalRevenueNext',\n",
    "                                'costGoodsSold':'costGoodsSoldNext',\n",
    "                                'totalInv':'totalInvNext'\n",
    "                           },\n",
    "                 inplace = True)"
   ]
  },
  {
   "cell_type": "code",
   "execution_count": null,
   "metadata": {},
   "outputs": [],
   "source": [
    "compustatNext.head()"
   ]
  },
  {
   "cell_type": "code",
   "execution_count": null,
   "metadata": {},
   "outputs": [],
   "source": [
    "compustatChanges = compustat.merge(compustatNext)"
   ]
  },
  {
   "cell_type": "code",
   "execution_count": null,
   "metadata": {},
   "outputs": [],
   "source": [
    "compustatChanges['salesChange'] = (compustatChanges.salesNext - compustatChanges.sales)/compustatChanges.sales\n",
    "\n",
    "compustatChanges['incomeChange'] = (compustatChanges.netIncomeNext - compustatChanges.netIncome)/compustatChanges.netIncome\n",
    "\n",
    "compustatChanges['revenueChange'] = (compustatChanges.totalRevenueNext - compustatChanges.totalRevenue)/compustatChanges.totalRevenue\n",
    "\n",
    "compustatChanges['revenueChangeAbsolute'] = (compustatChanges.totalRevenueNext - compustatChanges.totalRevenue)\n",
    "\n",
    "compustatChanges['costChange'] = (compustatChanges.costGoodsSoldNext - compustatChanges.costGoodsSold)/compustatChanges.costGoodsSold\n",
    "\n",
    "compustatChanges['inventoryChange'] = (compustatChanges.totalInvNext - compustatChanges.totalInv)/compustatChanges.totalInv\n",
    "\n",
    "compustatChanges = compustatChanges[['year', 'qtr', 'gvkey', 'companyName', \n",
    "                                     'tic', 'curcdq','salesChange','incomeChange','revenueChange',\n",
    "                                     'revenueChangeAbsolute','costChange','inventoryChange']]\n"
   ]
  },
  {
   "cell_type": "code",
   "execution_count": null,
   "metadata": {},
   "outputs": [],
   "source": [
    "compustatChanges.to_csv(\"../../data/compustatChanges_all.csv\")"
   ]
  },
  {
   "cell_type": "code",
   "execution_count": null,
   "metadata": {},
   "outputs": [],
   "source": [
    "83000*1000000/1e9"
   ]
  },
  {
   "cell_type": "code",
   "execution_count": null,
   "metadata": {},
   "outputs": [],
   "source": [
    "compustatChanges.shape[0]*0.002*4.5*compustatChanges.revenueChangeAbsolute.mean()"
   ]
  },
  {
   "cell_type": "code",
   "execution_count": null,
   "metadata": {},
   "outputs": [],
   "source": [
    "compustatChanges.head()"
   ]
  },
  {
   "cell_type": "code",
   "execution_count": null,
   "metadata": {},
   "outputs": [],
   "source": [
    "compustatChanges.year"
   ]
  },
  {
   "cell_type": "markdown",
   "metadata": {},
   "source": [
    "### Company-level controls"
   ]
  },
  {
   "cell_type": "code",
   "execution_count": 23,
   "metadata": {},
   "outputs": [
    {
     "data": {
      "text/html": [
       "<div>\n",
       "<style scoped>\n",
       "    .dataframe tbody tr th:only-of-type {\n",
       "        vertical-align: middle;\n",
       "    }\n",
       "\n",
       "    .dataframe tbody tr th {\n",
       "        vertical-align: top;\n",
       "    }\n",
       "\n",
       "    .dataframe thead th {\n",
       "        text-align: right;\n",
       "    }\n",
       "</style>\n",
       "<table border=\"1\" class=\"dataframe\">\n",
       "  <thead>\n",
       "    <tr style=\"text-align: right;\">\n",
       "      <th></th>\n",
       "      <th>gvkey</th>\n",
       "      <th>datadate</th>\n",
       "      <th>fyearq</th>\n",
       "      <th>fqtr</th>\n",
       "      <th>indfmt</th>\n",
       "      <th>consol</th>\n",
       "      <th>popsrc</th>\n",
       "      <th>datafmt</th>\n",
       "      <th>tic</th>\n",
       "      <th>curcdq</th>\n",
       "      <th>datacqtr</th>\n",
       "      <th>datafqtr</th>\n",
       "      <th>atq</th>\n",
       "      <th>niq</th>\n",
       "      <th>costat</th>\n",
       "      <th>prccq</th>\n",
       "      <th>naics</th>\n",
       "      <th>sic</th>\n",
       "    </tr>\n",
       "  </thead>\n",
       "  <tbody>\n",
       "    <tr>\n",
       "      <th>0</th>\n",
       "      <td>1000</td>\n",
       "      <td>19660331</td>\n",
       "      <td>1966</td>\n",
       "      <td>1.0</td>\n",
       "      <td>INDL</td>\n",
       "      <td>C</td>\n",
       "      <td>D</td>\n",
       "      <td>STD</td>\n",
       "      <td>AE.2</td>\n",
       "      <td>USD</td>\n",
       "      <td>1966Q1</td>\n",
       "      <td>1966Q1</td>\n",
       "      <td>NaN</td>\n",
       "      <td>NaN</td>\n",
       "      <td>I</td>\n",
       "      <td>NaN</td>\n",
       "      <td>NaN</td>\n",
       "      <td>3089.0</td>\n",
       "    </tr>\n",
       "    <tr>\n",
       "      <th>1</th>\n",
       "      <td>1000</td>\n",
       "      <td>19660630</td>\n",
       "      <td>1966</td>\n",
       "      <td>2.0</td>\n",
       "      <td>INDL</td>\n",
       "      <td>C</td>\n",
       "      <td>D</td>\n",
       "      <td>STD</td>\n",
       "      <td>AE.2</td>\n",
       "      <td>USD</td>\n",
       "      <td>1966Q2</td>\n",
       "      <td>1966Q2</td>\n",
       "      <td>NaN</td>\n",
       "      <td>NaN</td>\n",
       "      <td>I</td>\n",
       "      <td>NaN</td>\n",
       "      <td>NaN</td>\n",
       "      <td>3089.0</td>\n",
       "    </tr>\n",
       "    <tr>\n",
       "      <th>2</th>\n",
       "      <td>1000</td>\n",
       "      <td>19660930</td>\n",
       "      <td>1966</td>\n",
       "      <td>3.0</td>\n",
       "      <td>INDL</td>\n",
       "      <td>C</td>\n",
       "      <td>D</td>\n",
       "      <td>STD</td>\n",
       "      <td>AE.2</td>\n",
       "      <td>USD</td>\n",
       "      <td>1966Q3</td>\n",
       "      <td>1966Q3</td>\n",
       "      <td>NaN</td>\n",
       "      <td>NaN</td>\n",
       "      <td>I</td>\n",
       "      <td>NaN</td>\n",
       "      <td>NaN</td>\n",
       "      <td>3089.0</td>\n",
       "    </tr>\n",
       "    <tr>\n",
       "      <th>3</th>\n",
       "      <td>1000</td>\n",
       "      <td>19661231</td>\n",
       "      <td>1966</td>\n",
       "      <td>4.0</td>\n",
       "      <td>INDL</td>\n",
       "      <td>C</td>\n",
       "      <td>D</td>\n",
       "      <td>STD</td>\n",
       "      <td>AE.2</td>\n",
       "      <td>USD</td>\n",
       "      <td>1966Q4</td>\n",
       "      <td>1966Q4</td>\n",
       "      <td>NaN</td>\n",
       "      <td>0.164</td>\n",
       "      <td>I</td>\n",
       "      <td>NaN</td>\n",
       "      <td>NaN</td>\n",
       "      <td>3089.0</td>\n",
       "    </tr>\n",
       "    <tr>\n",
       "      <th>4</th>\n",
       "      <td>1000</td>\n",
       "      <td>19670331</td>\n",
       "      <td>1967</td>\n",
       "      <td>1.0</td>\n",
       "      <td>INDL</td>\n",
       "      <td>C</td>\n",
       "      <td>D</td>\n",
       "      <td>STD</td>\n",
       "      <td>AE.2</td>\n",
       "      <td>USD</td>\n",
       "      <td>1967Q1</td>\n",
       "      <td>1967Q1</td>\n",
       "      <td>NaN</td>\n",
       "      <td>NaN</td>\n",
       "      <td>I</td>\n",
       "      <td>NaN</td>\n",
       "      <td>NaN</td>\n",
       "      <td>3089.0</td>\n",
       "    </tr>\n",
       "  </tbody>\n",
       "</table>\n",
       "</div>"
      ],
      "text/plain": [
       "   gvkey  datadate  fyearq  fqtr indfmt consol popsrc datafmt   tic curcdq  \\\n",
       "0   1000  19660331    1966   1.0   INDL      C      D     STD  AE.2    USD   \n",
       "1   1000  19660630    1966   2.0   INDL      C      D     STD  AE.2    USD   \n",
       "2   1000  19660930    1966   3.0   INDL      C      D     STD  AE.2    USD   \n",
       "3   1000  19661231    1966   4.0   INDL      C      D     STD  AE.2    USD   \n",
       "4   1000  19670331    1967   1.0   INDL      C      D     STD  AE.2    USD   \n",
       "\n",
       "  datacqtr datafqtr  atq    niq costat  prccq  naics     sic  \n",
       "0   1966Q1   1966Q1  NaN    NaN      I    NaN    NaN  3089.0  \n",
       "1   1966Q2   1966Q2  NaN    NaN      I    NaN    NaN  3089.0  \n",
       "2   1966Q3   1966Q3  NaN    NaN      I    NaN    NaN  3089.0  \n",
       "3   1966Q4   1966Q4  NaN  0.164      I    NaN    NaN  3089.0  \n",
       "4   1967Q1   1967Q1  NaN    NaN      I    NaN    NaN  3089.0  "
      ]
     },
     "execution_count": 23,
     "metadata": {},
     "output_type": "execute_result"
    }
   ],
   "source": [
    "file = \"../../data/companyData/compustatControls.csv\"\n",
    "compustatControls = pd.read_csv(file, encoding = 'unicode_escape')\n",
    "compustatControls.head()"
   ]
  },
  {
   "cell_type": "code",
   "execution_count": 24,
   "metadata": {},
   "outputs": [
    {
     "data": {
      "text/html": [
       "<div>\n",
       "<style scoped>\n",
       "    .dataframe tbody tr th:only-of-type {\n",
       "        vertical-align: middle;\n",
       "    }\n",
       "\n",
       "    .dataframe tbody tr th {\n",
       "        vertical-align: top;\n",
       "    }\n",
       "\n",
       "    .dataframe thead th {\n",
       "        text-align: right;\n",
       "    }\n",
       "</style>\n",
       "<table border=\"1\" class=\"dataframe\">\n",
       "  <thead>\n",
       "    <tr style=\"text-align: right;\">\n",
       "      <th></th>\n",
       "      <th>gvkey</th>\n",
       "      <th>earliestYear</th>\n",
       "    </tr>\n",
       "  </thead>\n",
       "  <tbody>\n",
       "    <tr>\n",
       "      <th>0</th>\n",
       "      <td>1000</td>\n",
       "      <td>1966</td>\n",
       "    </tr>\n",
       "    <tr>\n",
       "      <th>1</th>\n",
       "      <td>1001</td>\n",
       "      <td>1983</td>\n",
       "    </tr>\n",
       "    <tr>\n",
       "      <th>2</th>\n",
       "      <td>1003</td>\n",
       "      <td>1982</td>\n",
       "    </tr>\n",
       "    <tr>\n",
       "      <th>3</th>\n",
       "      <td>1004</td>\n",
       "      <td>1968</td>\n",
       "    </tr>\n",
       "    <tr>\n",
       "      <th>4</th>\n",
       "      <td>1005</td>\n",
       "      <td>1978</td>\n",
       "    </tr>\n",
       "  </tbody>\n",
       "</table>\n",
       "</div>"
      ],
      "text/plain": [
       "   gvkey  earliestYear\n",
       "0   1000          1966\n",
       "1   1001          1983\n",
       "2   1003          1982\n",
       "3   1004          1968\n",
       "4   1005          1978"
      ]
     },
     "execution_count": 24,
     "metadata": {},
     "output_type": "execute_result"
    }
   ],
   "source": [
    "earliestYear = compustatControls.groupby('gvkey')['fyearq'].min().reset_index().\\\n",
    "    rename(columns = {'fyearq': 'earliestYear'})\n",
    "earliestYear.head()"
   ]
  },
  {
   "cell_type": "markdown",
   "metadata": {},
   "source": [
    "---------------------------------------"
   ]
  },
  {
   "cell_type": "code",
   "execution_count": 41,
   "metadata": {},
   "outputs": [],
   "source": [
    "otherControls = compustatControls[['gvkey','fyearq','fqtr','sic','naics','atq','niq']]"
   ]
  },
  {
   "cell_type": "code",
   "execution_count": 44,
   "metadata": {},
   "outputs": [
    {
     "name": "stderr",
     "output_type": "stream",
     "text": [
      "/Users/brianreed/opt/anaconda3/lib/python3.7/site-packages/ipykernel_launcher.py:1: SettingWithCopyWarning: \n",
      "A value is trying to be set on a copy of a slice from a DataFrame.\n",
      "Try using .loc[row_indexer,col_indexer] = value instead\n",
      "\n",
      "See the caveats in the documentation: https://pandas.pydata.org/pandas-docs/stable/user_guide/indexing.html#returning-a-view-versus-a-copy\n",
      "  \"\"\"Entry point for launching an IPython kernel.\n",
      "/Users/brianreed/opt/anaconda3/lib/python3.7/site-packages/pandas/core/frame.py:5047: SettingWithCopyWarning: \n",
      "A value is trying to be set on a copy of a slice from a DataFrame\n",
      "\n",
      "See the caveats in the documentation: https://pandas.pydata.org/pandas-docs/stable/user_guide/indexing.html#returning-a-view-versus-a-copy\n",
      "  errors=errors,\n"
     ]
    }
   ],
   "source": [
    "otherControls['roa'] = otherControls['niq']/otherControls['atq']\n",
    "\n",
    "otherControls.rename(columns = {'niq': 'netIncome',\n",
    "                               'atq':  'assets'},inplace = True)\n"
   ]
  },
  {
   "cell_type": "code",
   "execution_count": 45,
   "metadata": {},
   "outputs": [
    {
     "name": "stderr",
     "output_type": "stream",
     "text": [
      "/Users/brianreed/opt/anaconda3/lib/python3.7/site-packages/pandas/core/indexing.py:1817: SettingWithCopyWarning: \n",
      "A value is trying to be set on a copy of a slice from a DataFrame.\n",
      "Try using .loc[row_indexer,col_indexer] = value instead\n",
      "\n",
      "See the caveats in the documentation: https://pandas.pydata.org/pandas-docs/stable/user_guide/indexing.html#returning-a-view-versus-a-copy\n",
      "  self._setitem_single_column(loc, value, pi)\n"
     ]
    },
    {
     "name": "stdout",
     "output_type": "stream",
     "text": [
      "   gvkey  fyearq  fqtr     sic  naics  assets  netIncome  roa  famafrench\n",
      "0   1000    1966   1.0  3089.0    NaN     NaN        NaN  NaN        15.0\n",
      "1   1000    1966   2.0  3089.0    NaN     NaN        NaN  NaN        15.0\n",
      "2   1000    1966   3.0  3089.0    NaN     NaN        NaN  NaN        15.0\n",
      "3   1000    1966   4.0  3089.0    NaN     NaN      0.164  NaN        15.0\n",
      "4   1000    1967   1.0  3089.0    NaN     NaN        NaN  NaN        15.0\n"
     ]
    }
   ],
   "source": [
    "otherControls.loc[(otherControls.sic >=100) & (otherControls.sic <= 799), 'famafrench'] = 1\n",
    "otherControls.loc[(otherControls.sic == 2048), 'famafrench'] = 1\n",
    "\n",
    "otherControls.loc[(otherControls.sic >=2000) & (otherControls.sic <= 2046), 'famafrench'] = 2\n",
    "otherControls.loc[(otherControls.sic >=2050) & (otherControls.sic <= 2063), 'famafrench'] = 2\n",
    "otherControls.loc[(otherControls.sic >=2070) & (otherControls.sic <= 2079), 'famafrench'] = 2\n",
    "otherControls.loc[(otherControls.sic >=2090) & (otherControls.sic <= 2095), 'famafrench'] = 2\n",
    "otherControls.loc[(otherControls.sic >=2098) & (otherControls.sic <= 2099), 'famafrench'] = 2\n",
    "\n",
    "otherControls.loc[(otherControls.sic >=2064) & (otherControls.sic <= 2068), 'famafrench'] = 3\n",
    "otherControls.loc[(otherControls.sic >=2086) & (otherControls.sic <= 2087), 'famafrench'] = 3\n",
    "otherControls.loc[(otherControls.sic >=2096) & (otherControls.sic <= 2097), 'famafrench'] = 3\n",
    "\n",
    "otherControls.loc[(otherControls.sic >=2080) & (otherControls.sic <= 2085), 'famafrench'] = 4\n",
    "\n",
    "otherControls.loc[(otherControls.sic >=2100) & (otherControls.sic <= 2199), 'famafrench'] = 5\n",
    "\n",
    "otherControls.loc[(otherControls.sic >=900)  & (otherControls.sic <= 999), 'famafrench']  = 6\n",
    "otherControls.loc[(otherControls.sic >=3650) & (otherControls.sic<= 3652), 'famafrench']  = 6\n",
    "otherControls.loc[(otherControls.sic ==3732), 'famafrench']  = 6\n",
    "otherControls.loc[(otherControls.sic >=3930)  & (otherControls.sic<= 3949), 'famafrench']  = 6\n",
    "\n",
    "otherControls.loc[(otherControls.sic >=7800)  & (otherControls.sic<= 7841), 'famafrench']  = 7\n",
    "otherControls.loc[(otherControls.sic >=7900)  & (otherControls.sic<= 7999), 'famafrench']  = 7\n",
    "\n",
    "otherControls.loc[(otherControls.sic >=2700)  & (otherControls.sic<= 2749), 'famafrench']  = 8\n",
    "otherControls.loc[(otherControls.sic >=2770)  & (otherControls.sic<= 2799), 'famafrench']  = 8\n",
    "\n",
    "otherControls.loc[(otherControls.sic ==2047), 'famafrench']  = 9\n",
    "otherControls.loc[(otherControls.sic >=2391)  & (otherControls.sic<= 2392), 'famafrench']  = 9\n",
    "otherControls.loc[(otherControls.sic >=2510)  & (otherControls.sic<= 2519), 'famafrench']  = 9\n",
    "otherControls.loc[(otherControls.sic >=2590)  & (otherControls.sic<= 2599), 'famafrench']  = 9\n",
    "otherControls.loc[(otherControls.sic >=2840)  & (otherControls.sic<= 2844), 'famafrench']  = 9\n",
    "otherControls.loc[(otherControls.sic >=3160)  & (otherControls.sic<= 3199), 'famafrench']  = 9\n",
    "otherControls.loc[(otherControls.sic >=3229)  & (otherControls.sic<= 3231), 'famafrench']  = 9\n",
    "otherControls.loc[(otherControls.sic ==3260), 'famafrench']  = 9\n",
    "otherControls.loc[(otherControls.sic >=3262)  & (otherControls.sic<= 3263), 'famafrench']  = 9\n",
    "otherControls.loc[(otherControls.sic ==3269), 'famafrench']  = 9\n",
    "otherControls.loc[(otherControls.sic >=3630)  & (otherControls.sic<= 3639), 'famafrench']  = 9\n",
    "otherControls.loc[(otherControls.sic >=3750)  & (otherControls.sic<= 3751), 'famafrench']  = 9\n",
    "otherControls.loc[(otherControls.sic ==3800), 'famafrench']  = 9\n",
    "otherControls.loc[(otherControls.sic >=3229)  & (otherControls.sic<= 3231), 'famafrench']  = 9\n",
    "\n",
    "otherControls.loc[(otherControls.sic >=3229)  & (otherControls.sic<= 3231), 'famafrench']  = 9\n",
    "\n",
    "\n",
    "otherControls.loc[(otherControls.sic>=3860) & (otherControls.sic<=3879), 'famafrench']  = 9\n",
    "otherControls.loc[(otherControls.sic>=3910) & (otherControls.sic<=3919), 'famafrench']  = 9\n",
    "otherControls.loc[(otherControls.sic>=3960) & (otherControls.sic<=3961), 'famafrench']  = 9\n",
    "otherControls.loc[(otherControls.sic==3991), 'famafrench']  = 9\n",
    "otherControls.loc[(otherControls.sic==3995), 'famafrench']  = 9\n",
    "\n",
    "\n",
    "otherControls.loc[(otherControls.sic>=2300) & (otherControls.sic<=2390), 'famafrench']  = 10\n",
    "otherControls.loc[(otherControls.sic>=3020) & (otherControls.sic<=3021), 'famafrench']  = 10\n",
    "otherControls.loc[(otherControls.sic>=3100) & (otherControls.sic<=3111), 'famafrench']  = 10\n",
    "otherControls.loc[(otherControls.sic>=3130) & (otherControls.sic<=3159), 'famafrench']  = 10\n",
    "otherControls.loc[(otherControls.sic==3965), 'famafrench']  = 10\n",
    "\n",
    "otherControls.loc[(otherControls.sic>=8000) & (otherControls.sic<=8099), 'famafrench']  = 11\n",
    "\n",
    "otherControls.loc[(otherControls.sic==3693), 'famafrench']  = 12\n",
    "otherControls.loc[(otherControls.sic>=3840) & (otherControls.sic<=3851), 'famafrench']  = 12\n",
    "\n",
    "otherControls.loc[(otherControls.sic>=2830) & (otherControls.sic<=2836), 'famafrench']  = 13\n",
    "\n",
    "otherControls.loc[(otherControls.sic>=2800) & (otherControls.sic<=2829), 'famafrench']  = 14\n",
    "otherControls.loc[(otherControls.sic>=2850) & (otherControls.sic<=2899), 'famafrench']  = 14\n",
    "\n",
    "otherControls.loc[(otherControls.sic==3000), 'famafrench']  = 15\n",
    "otherControls.loc[(otherControls.sic>=3050) & (otherControls.sic<=3099), 'famafrench']  = 15\n",
    "\n",
    "otherControls.loc[(otherControls.sic>=2200) & (otherControls.sic<=2295), 'famafrench']  = 16\n",
    "otherControls.loc[(otherControls.sic>=2297) & (otherControls.sic<=2299), 'famafrench']  = 16\n",
    "otherControls.loc[(otherControls.sic>=2393) & (otherControls.sic<=2395), 'famafrench']  = 16\n",
    "otherControls.loc[(otherControls.sic>=2397) & (otherControls.sic<=2399), 'famafrench']  = 16\n",
    "\n",
    "otherControls.loc[(otherControls.sic>=800) & (otherControls.sic<=899), 'famafrench']  = 17\n",
    "otherControls.loc[(otherControls.sic>=2400) & (otherControls.sic<=2439), 'famafrench']  = 17\n",
    "otherControls.loc[(otherControls.sic>=2450) & (otherControls.sic<=2459), 'famafrench']  = 17\n",
    "otherControls.loc[(otherControls.sic>=2490) & (otherControls.sic<=2499), 'famafrench']  = 17\n",
    "otherControls.loc[(otherControls.sic>=2950) & (otherControls.sic<=2952), 'famafrench']  = 17\n",
    "otherControls.loc[(otherControls.sic>=3200) & (otherControls.sic<=3219), 'famafrench']  = 17\n",
    "otherControls.loc[(otherControls.sic>=3240) & (otherControls.sic<=3259), 'famafrench']  = 17\n",
    "otherControls.loc[(otherControls.sic==3261), 'famafrench']  = 17\n",
    "otherControls.loc[(otherControls.sic==3264), 'famafrench']  = 17\n",
    "otherControls.loc[(otherControls.sic>=3270) & (otherControls.sic<=3299), 'famafrench']  = 17\n",
    "otherControls.loc[(otherControls.sic>=3420) & (otherControls.sic<=3442), 'famafrench']  = 17\n",
    "otherControls.loc[(otherControls.sic>=3446) & (otherControls.sic<=3452), 'famafrench']  = 17\n",
    "otherControls.loc[(otherControls.sic>=3490) & (otherControls.sic<=3499), 'famafrench']  = 17\n",
    "otherControls.loc[(otherControls.sic==3996), 'famafrench']  = 17\n",
    "\n",
    "otherControls.loc[(otherControls.sic>=1500) & (otherControls.sic<=1549), 'famafrench']  = 18\n",
    "otherControls.loc[(otherControls.sic>=1600) & (otherControls.sic<=1699), 'famafrench']  = 18\n",
    "otherControls.loc[(otherControls.sic>=1700) & (otherControls.sic<=1799), 'famafrench']  = 18\n",
    "\n",
    "otherControls.loc[(otherControls.sic>=3300) & (otherControls.sic<=3369), 'famafrench']  = 19\n",
    "otherControls.loc[(otherControls.sic>=3390) & (otherControls.sic<=3399), 'famafrench']  = 19\n",
    "\n",
    "otherControls.loc[(otherControls.sic==3400), 'famafrench']  = 20\n",
    "otherControls.loc[(otherControls.sic>=3443) & (otherControls.sic<=3444), 'famafrench']  = 20\n",
    "otherControls.loc[(otherControls.sic>=3460) & (otherControls.sic<=3479), 'famafrench']  = 20\n",
    "\n",
    "otherControls.loc[(otherControls.sic>=3510) & (otherControls.sic<=3536), 'famafrench']  = 21\n",
    "otherControls.loc[(otherControls.sic>=3540) & (otherControls.sic<=3569), 'famafrench']  = 21\n",
    "otherControls.loc[(otherControls.sic>=3580) & (otherControls.sic<=3599), 'famafrench']  = 21\n",
    "\n",
    "otherControls.loc[(otherControls.sic>=3600) & (otherControls.sic<=3621), 'famafrench']  = 22\n",
    "otherControls.loc[(otherControls.sic>=3623) & (otherControls.sic<=3629), 'famafrench']  = 22\n",
    "otherControls.loc[(otherControls.sic>=3640) & (otherControls.sic<=3646), 'famafrench']  = 22\n",
    "otherControls.loc[(otherControls.sic>=3648) & (otherControls.sic<=3649), 'famafrench']  = 22\n",
    "otherControls.loc[(otherControls.sic==3660), 'famafrench']  = 22\n",
    "otherControls.loc[(otherControls.sic>=3690) & (otherControls.sic<=3692), 'famafrench']  = 22\n",
    "otherControls.loc[(otherControls.sic==3699), 'famafrench']  = 22\n",
    "\n",
    "otherControls.loc[(otherControls.sic==3900), 'famafrench']  = 23\n",
    "otherControls.loc[(otherControls.sic==3990), 'famafrench']  = 23\n",
    "otherControls.loc[(otherControls.sic==3999), 'famafrench']  = 23\n",
    "otherControls.loc[(otherControls.sic>=9900) & (otherControls.sic<=9999), 'famafrench']  = 23\n",
    "\n",
    "otherControls.loc[(otherControls.sic==2296), 'famafrench']  = 24\n",
    "otherControls.loc[(otherControls.sic==2396), 'famafrench']  = 24\n",
    "otherControls.loc[(otherControls.sic>=3011) & (otherControls.sic<=3011), 'famafrench']  = 24\n",
    "otherControls.loc[(otherControls.sic==3537), 'famafrench']  = 24\n",
    "otherControls.loc[(otherControls.sic==3647), 'famafrench']  = 24\n",
    "otherControls.loc[(otherControls.sic==3694), 'famafrench']  = 24\n",
    "otherControls.loc[(otherControls.sic>=3700) & (otherControls.sic<=3716), 'famafrench']  = 24\n",
    "otherControls.loc[(otherControls.sic>=3790) & (otherControls.sic<=3792), 'famafrench']  = 24\n",
    "otherControls.loc[(otherControls.sic==3799), 'famafrench']  = 24\n",
    "\n",
    "otherControls.loc[(otherControls.sic>=3720) & (otherControls.sic<=3729), 'famafrench']  = 25\n",
    "\n",
    "otherControls.loc[(otherControls.sic>=3730) & (otherControls.sic<=3731), 'famafrench']  = 26\n",
    "otherControls.loc[(otherControls.sic>=3740) & (otherControls.sic<=3743), 'famafrench']  = 26\n",
    "\n",
    "otherControls.loc[(otherControls.sic>=3480) & (otherControls.sic<=3489), 'famafrench']  = 27\n",
    "otherControls.loc[(otherControls.sic>=3760) & (otherControls.sic<=3769), 'famafrench']  = 27\n",
    "otherControls.loc[(otherControls.sic==3795), 'famafrench']  = 27\n",
    "\n",
    "otherControls.loc[(otherControls.sic>=1040) & (otherControls.sic<=1049), 'famafrench']  = 28\n",
    "\n",
    "otherControls.loc[(otherControls.sic>=1000) & (otherControls.sic<=1039), 'famafrench']  = 29\n",
    "otherControls.loc[(otherControls.sic>=1060) & (otherControls.sic<=1099), 'famafrench']  = 29\n",
    "otherControls.loc[(otherControls.sic>=1400) & (otherControls.sic<=1499), 'famafrench']  = 29\n",
    "\n",
    "otherControls.loc[(otherControls.sic>=1200) & (otherControls.sic<=1299), 'famafrench']  = 30\n",
    "\n",
    "otherControls.loc[(otherControls.sic>=1310) & (otherControls.sic<=1389), 'famafrench']  = 31\n",
    "otherControls.loc[(otherControls.sic>=2900) & (otherControls.sic<=2911), 'famafrench']  = 31\n",
    "otherControls.loc[(otherControls.sic>=2990) & (otherControls.sic<=2999), 'famafrench']  = 31\n",
    "\n",
    "otherControls.loc[(otherControls.sic>=4900) & (otherControls.sic<=4999), 'famafrench']  = 32\n",
    "\n",
    "otherControls.loc[(otherControls.sic>=4800) & (otherControls.sic<=4899), 'famafrench']  = 33\n",
    "\n",
    "otherControls.loc[(otherControls.sic>=7020) & (otherControls.sic<=7021), 'famafrench']  = 34\n",
    "otherControls.loc[(otherControls.sic>=7030) & (otherControls.sic<=7039), 'famafrench']  = 34\n",
    "otherControls.loc[(otherControls.sic>=7200) & (otherControls.sic<=7212), 'famafrench']  = 34\n",
    "otherControls.loc[(otherControls.sic>=7215) & (otherControls.sic<=7299), 'famafrench']  = 34\n",
    "otherControls.loc[(otherControls.sic==7395), 'famafrench']  = 34\n",
    "otherControls.loc[(otherControls.sic==7500), 'famafrench']  = 34\n",
    "otherControls.loc[(otherControls.sic>=7520) & (otherControls.sic<=7549), 'famafrench']  = 34\n",
    "otherControls.loc[(otherControls.sic>=7600) & (otherControls.sic<=7699), 'famafrench']  = 34\n",
    "otherControls.loc[(otherControls.sic>=8100) & (otherControls.sic<=8199), 'famafrench']  = 34\n",
    "otherControls.loc[(otherControls.sic>=8200) & (otherControls.sic<=8299), 'famafrench']  = 34\n",
    "otherControls.loc[(otherControls.sic>=8300) & (otherControls.sic<=8399), 'famafrench']  = 34\n",
    "otherControls.loc[(otherControls.sic>=8400) & (otherControls.sic<=8499), 'famafrench']  = 34\n",
    "otherControls.loc[(otherControls.sic>=8600) & (otherControls.sic<=8699), 'famafrench']  = 34\n",
    "otherControls.loc[(otherControls.sic>=8800) & (otherControls.sic<=8899), 'famafrench']  = 34\n",
    "\n",
    "otherControls.loc[(otherControls.sic>=2750) & (otherControls.sic<=2759), 'famafrench']  = 35\n",
    "otherControls.loc[(otherControls.sic==3993), 'famafrench']  = 35\n",
    "otherControls.loc[(otherControls.sic>=7300) & (otherControls.sic<=7372), 'famafrench']  = 35\n",
    "otherControls.loc[(otherControls.sic>=7374) & (otherControls.sic<=7394), 'famafrench']  = 35\n",
    "otherControls.loc[(otherControls.sic==7397), 'famafrench']  = 35\n",
    "otherControls.loc[(otherControls.sic==7399), 'famafrench']  = 35\n",
    "otherControls.loc[(otherControls.sic>=7510) & (otherControls.sic<=7519), 'famafrench']  = 35\n",
    "otherControls.loc[(otherControls.sic>=8700) & (otherControls.sic<=8748), 'famafrench']  = 35\n",
    "otherControls.loc[(otherControls.sic>=8900) & (otherControls.sic<=8999), 'famafrench']  = 35\n",
    "\n",
    "otherControls.loc[(otherControls.sic>=3570) & (otherControls.sic<=3579), 'famafrench']  = 36\n",
    "otherControls.loc[(otherControls.sic>=3680) & (otherControls.sic<=3689), 'famafrench']  = 36\n",
    "otherControls.loc[(otherControls.sic==3695), 'famafrench']  = 36\n",
    "otherControls.loc[(otherControls.sic==7373), 'famafrench']  = 36\n",
    "\n",
    "otherControls.loc[(otherControls.sic==3622), 'famafrench']  = 37\n",
    "otherControls.loc[(otherControls.sic>=3661) & (otherControls.sic<=3679), 'famafrench']  = 37\n",
    "otherControls.loc[(otherControls.sic==3810), 'famafrench']  = 37\n",
    "otherControls.loc[(otherControls.sic==3812), 'famafrench']  = 37\n",
    "\n",
    "otherControls.loc[(otherControls.sic==3811), 'famafrench']  = 38\n",
    "otherControls.loc[(otherControls.sic>=3820) & (otherControls.sic<=3830), 'famafrench']  = 38\n",
    "\n",
    "\n",
    "otherControls.loc[(otherControls.sic>=2520) & (otherControls.sic<=2549), 'famafrench']  = 39\n",
    "otherControls.loc[(otherControls.sic>=2600) & (otherControls.sic<=2639), 'famafrench']  = 39\n",
    "otherControls.loc[(otherControls.sic>=2670) & (otherControls.sic<=2699), 'famafrench']  = 39\n",
    "otherControls.loc[(otherControls.sic>=2760) & (otherControls.sic<=2761), 'famafrench']  = 39\n",
    "otherControls.loc[(otherControls.sic>=3950) & (otherControls.sic<=3955), 'famafrench']  = 39\n",
    "\n",
    "otherControls.loc[(otherControls.sic>=2440) & (otherControls.sic<=2449), 'famafrench']  = 40\n",
    "otherControls.loc[(otherControls.sic>=2640) & (otherControls.sic<=2659), 'famafrench']  = 40\n",
    "otherControls.loc[(otherControls.sic>=3210) & (otherControls.sic<=3221), 'famafrench']  = 40\n",
    "otherControls.loc[(otherControls.sic>=3410) & (otherControls.sic<=3412), 'famafrench']  = 40\n",
    "\n",
    "otherControls.loc[(otherControls.sic>=4000) & (otherControls.sic<=4099), 'famafrench']  = 41\n",
    "otherControls.loc[(otherControls.sic>=4100) & (otherControls.sic<=4199), 'famafrench']  = 41\n",
    "otherControls.loc[(otherControls.sic>=4200) & (otherControls.sic<=4299), 'famafrench']  = 41\n",
    "otherControls.loc[(otherControls.sic>=4400) & (otherControls.sic<=4499), 'famafrench']  = 41\n",
    "otherControls.loc[(otherControls.sic>=4500) & (otherControls.sic<=4599), 'famafrench']  = 41\n",
    "otherControls.loc[(otherControls.sic>=4600) & (otherControls.sic<=4699), 'famafrench']  = 41\n",
    "otherControls.loc[(otherControls.sic>=4700) & (otherControls.sic<=4799), 'famafrench']  = 41\n",
    "\n",
    "otherControls.loc[(otherControls.sic>=5000) & (otherControls.sic<=5099), 'famafrench']  = 42\n",
    "otherControls.loc[(otherControls.sic>=5100) & (otherControls.sic<=5199), 'famafrench']  = 42\n",
    "\n",
    "otherControls.loc[(otherControls.sic>=5200) & (otherControls.sic<=5299), 'famafrench']  = 43\n",
    "otherControls.loc[(otherControls.sic>=5300) & (otherControls.sic<=5399), 'famafrench']  = 43\n",
    "otherControls.loc[(otherControls.sic>=5400) & (otherControls.sic<=5499), 'famafrench']  = 43\n",
    "otherControls.loc[(otherControls.sic>=5500) & (otherControls.sic<=5599), 'famafrench']  = 43\n",
    "otherControls.loc[(otherControls.sic>=5600) & (otherControls.sic<=5699), 'famafrench']  = 43\n",
    "otherControls.loc[(otherControls.sic>=5700) & (otherControls.sic<=5736), 'famafrench']  = 43\n",
    "\n",
    "otherControls.loc[(otherControls.sic>=5900) & (otherControls.sic<=5999), 'famafrench']  = 44\n",
    "\n",
    "otherControls.loc[(otherControls.sic>=5800) & (otherControls.sic<=5813), 'famafrench']  = 44\n",
    "otherControls.loc[(otherControls.sic==5890), 'famafrench']  = 44\n",
    "otherControls.loc[(otherControls.sic>=7000) & (otherControls.sic<=7019), 'famafrench']  = 44\n",
    "otherControls.loc[(otherControls.sic>=7040) & (otherControls.sic<=7049), 'famafrench']  = 44\n",
    "otherControls.loc[(otherControls.sic==7213), 'famafrench']  = 44\n",
    "\n",
    "otherControls.loc[(otherControls.sic>=6000) & (otherControls.sic<=6099), 'famafrench']  = 45\n",
    "otherControls.loc[(otherControls.sic>=6100) & (otherControls.sic<=6199), 'famafrench']  = 45\n",
    "\n",
    "otherControls.loc[(otherControls.sic>=6300) & (otherControls.sic<=6399), 'famafrench']  = 46\n",
    "otherControls.loc[(otherControls.sic>=6400) & (otherControls.sic<=6411), 'famafrench']  = 46\n",
    "\n",
    "otherControls.loc[(otherControls.sic>=6500) & (otherControls.sic<=6553), 'famafrench']  = 47\n",
    "\n",
    "otherControls.loc[(otherControls.sic>=6200) & (otherControls.sic<=6299), 'famafrench']  = 48\n",
    "otherControls.loc[(otherControls.sic>=6700) & (otherControls.sic<=6799), 'famafrench']  = 48\n",
    "\n",
    "print(otherControls.head())"
   ]
  },
  {
   "cell_type": "code",
   "execution_count": 50,
   "metadata": {},
   "outputs": [
    {
     "data": {
      "text/html": [
       "<div>\n",
       "<style scoped>\n",
       "    .dataframe tbody tr th:only-of-type {\n",
       "        vertical-align: middle;\n",
       "    }\n",
       "\n",
       "    .dataframe tbody tr th {\n",
       "        vertical-align: top;\n",
       "    }\n",
       "\n",
       "    .dataframe thead th {\n",
       "        text-align: right;\n",
       "    }\n",
       "</style>\n",
       "<table border=\"1\" class=\"dataframe\">\n",
       "  <thead>\n",
       "    <tr style=\"text-align: right;\">\n",
       "      <th></th>\n",
       "      <th>gvkey</th>\n",
       "      <th>fyearq</th>\n",
       "      <th>fqtr</th>\n",
       "      <th>netIncome</th>\n",
       "      <th>roa</th>\n",
       "      <th>famafrench</th>\n",
       "      <th>year_toMatchOn</th>\n",
       "      <th>earliestYear</th>\n",
       "    </tr>\n",
       "  </thead>\n",
       "  <tbody>\n",
       "    <tr>\n",
       "      <th>0</th>\n",
       "      <td>1000</td>\n",
       "      <td>1966</td>\n",
       "      <td>1.0</td>\n",
       "      <td>NaN</td>\n",
       "      <td>NaN</td>\n",
       "      <td>15.0</td>\n",
       "      <td>1969</td>\n",
       "      <td>1966</td>\n",
       "    </tr>\n",
       "    <tr>\n",
       "      <th>1</th>\n",
       "      <td>1000</td>\n",
       "      <td>1966</td>\n",
       "      <td>2.0</td>\n",
       "      <td>NaN</td>\n",
       "      <td>NaN</td>\n",
       "      <td>15.0</td>\n",
       "      <td>1969</td>\n",
       "      <td>1966</td>\n",
       "    </tr>\n",
       "    <tr>\n",
       "      <th>2</th>\n",
       "      <td>1000</td>\n",
       "      <td>1966</td>\n",
       "      <td>3.0</td>\n",
       "      <td>NaN</td>\n",
       "      <td>NaN</td>\n",
       "      <td>15.0</td>\n",
       "      <td>1969</td>\n",
       "      <td>1966</td>\n",
       "    </tr>\n",
       "    <tr>\n",
       "      <th>3</th>\n",
       "      <td>1000</td>\n",
       "      <td>1966</td>\n",
       "      <td>4.0</td>\n",
       "      <td>0.164</td>\n",
       "      <td>NaN</td>\n",
       "      <td>15.0</td>\n",
       "      <td>1969</td>\n",
       "      <td>1966</td>\n",
       "    </tr>\n",
       "    <tr>\n",
       "      <th>4</th>\n",
       "      <td>1000</td>\n",
       "      <td>1967</td>\n",
       "      <td>1.0</td>\n",
       "      <td>NaN</td>\n",
       "      <td>NaN</td>\n",
       "      <td>15.0</td>\n",
       "      <td>1970</td>\n",
       "      <td>1966</td>\n",
       "    </tr>\n",
       "  </tbody>\n",
       "</table>\n",
       "</div>"
      ],
      "text/plain": [
       "   gvkey  fyearq  fqtr  netIncome  roa  famafrench  year_toMatchOn  \\\n",
       "0   1000    1966   1.0        NaN  NaN        15.0            1969   \n",
       "1   1000    1966   2.0        NaN  NaN        15.0            1969   \n",
       "2   1000    1966   3.0        NaN  NaN        15.0            1969   \n",
       "3   1000    1966   4.0      0.164  NaN        15.0            1969   \n",
       "4   1000    1967   1.0        NaN  NaN        15.0            1970   \n",
       "\n",
       "   earliestYear  \n",
       "0          1966  \n",
       "1          1966  \n",
       "2          1966  \n",
       "3          1966  \n",
       "4          1966  "
      ]
     },
     "execution_count": 50,
     "metadata": {},
     "output_type": "execute_result"
    }
   ],
   "source": [
    "otherControls = otherControls[['gvkey','fyearq','fqtr','netIncome','roa','famafrench']]\n",
    "otherControls['year_toMatchOn'] = otherControls['fyearq'] + 3 \n",
    "\n",
    "otherControls = otherControls.merge(earliestYear)\n",
    "\n",
    "otherControls.head()"
   ]
  },
  {
   "cell_type": "code",
   "execution_count": 52,
   "metadata": {},
   "outputs": [
    {
     "data": {
      "text/plain": [
       "2021"
      ]
     },
     "execution_count": 52,
     "metadata": {},
     "output_type": "execute_result"
    }
   ],
   "source": [
    "otherControls.earliestYear.max()"
   ]
  },
  {
   "cell_type": "code",
   "execution_count": 54,
   "metadata": {},
   "outputs": [],
   "source": [
    "otherControls.to_csv('../../data/companyData/otherControls.csv')"
   ]
  },
  {
   "cell_type": "markdown",
   "metadata": {},
   "source": [
    "# Location Data\n",
    "This is not our final source of data. We use it as a complementary source to match the companies, as many of the ompanies have similar address names in IG and CStat, especially at the end of the data (the last address in IG should match with the CStat address, as the cstat addresses are not updated)."
   ]
  },
  {
   "cell_type": "code",
   "execution_count": null,
   "metadata": {},
   "outputs": [],
   "source": [
    "file = \"../../data/cstatLocations.csv\"\n",
    "locations = pd.read_csv(file)[['fyear','gvkey','addzip','state']]\n",
    "\n",
    "\n",
    "locations = locations[~locations.fyear.isna()]\n",
    "locations = locations[~locations.addzip.isna()]\n",
    "print(locations.shape)\n",
    "\n",
    "locations.rename(columns = {'fyear': 'year'},inplace = True)\n",
    "locations.reset_index(inplace = True,drop= True)\n",
    "locations['year'] = locations['year'].astype('int64')\n",
    "locations.drop_duplicates(inplace = True)"
   ]
  },
  {
   "cell_type": "code",
   "execution_count": null,
   "metadata": {},
   "outputs": [],
   "source": [
    "locations.shape"
   ]
  },
  {
   "cell_type": "code",
   "execution_count": null,
   "metadata": {},
   "outputs": [],
   "source": [
    "compustatChanges.head()"
   ]
  },
  {
   "cell_type": "code",
   "execution_count": null,
   "metadata": {},
   "outputs": [],
   "source": [
    "companyHQ = compustatChanges.merge(locations,how='left')"
   ]
  },
  {
   "cell_type": "code",
   "execution_count": null,
   "metadata": {},
   "outputs": [],
   "source": [
    "companyHQ = companyHQ[~companyHQ.addzip.isna()]"
   ]
  },
  {
   "cell_type": "code",
   "execution_count": null,
   "metadata": {},
   "outputs": [],
   "source": [
    "sum(companyHQ.addzip.isna())"
   ]
  },
  {
   "cell_type": "markdown",
   "metadata": {},
   "source": [
    "Merge the zip code information with the change information."
   ]
  },
  {
   "cell_type": "code",
   "execution_count": null,
   "metadata": {},
   "outputs": [],
   "source": [
    "zipFile = \"../../data/zipLatLong.csv\"\n",
    "zips = pd.read_csv(zipFile)\n",
    "'''[['ZIP','LAT','LNG']].rename(columns = {'ZIP': 'addzip'})\n",
    "zips['addzip'] = zips.addzip.astype('object')'''\n",
    "\n",
    "zips = zips['ZIP,LAT,LNG'].str.split(',', expand=True)\n",
    "\n",
    "zips.columns = ['addzip','latitude','longitude']\n",
    "\n",
    "print(zips.head())"
   ]
  },
  {
   "cell_type": "code",
   "execution_count": null,
   "metadata": {},
   "outputs": [],
   "source": [
    "companyHQZips = companyHQ.merge(zips)\n",
    "print(companyHQZips.head(),companyHQZips.shape)"
   ]
  },
  {
   "cell_type": "code",
   "execution_count": null,
   "metadata": {},
   "outputs": [],
   "source": [
    "companyHQZips = companyHQZips.drop_duplicates()"
   ]
  },
  {
   "cell_type": "code",
   "execution_count": null,
   "metadata": {},
   "outputs": [],
   "source": [
    "companyHQZips.to_csv(\"../../data/companyHQZips.csv\")"
   ]
  },
  {
   "cell_type": "markdown",
   "metadata": {},
   "source": [
    "-------------------"
   ]
  },
  {
   "cell_type": "markdown",
   "metadata": {},
   "source": [
    "# Segments Data"
   ]
  },
  {
   "cell_type": "code",
   "execution_count": null,
   "metadata": {},
   "outputs": [],
   "source": [
    "import datetime"
   ]
  },
  {
   "cell_type": "code",
   "execution_count": null,
   "metadata": {},
   "outputs": [],
   "source": [
    "file = \"../../data/companyData/compustatSegments.csv\"\n",
    "segments = pd.read_csv(file)"
   ]
  },
  {
   "cell_type": "code",
   "execution_count": null,
   "metadata": {},
   "outputs": [],
   "source": [
    "segments['srcdate'] = pd.DatetimeIndex(pd.to_datetime(segments['srcdate'], format='%Y%m%d'))\n",
    "segments['year']    = pd.DatetimeIndex(pd.to_datetime(segments['srcdate'], format='%Y%m%d')).year"
   ]
  },
  {
   "cell_type": "code",
   "execution_count": null,
   "metadata": {},
   "outputs": [],
   "source": [
    "segments.head()\n",
    "relats = segments[segments.ctype == 'COMPANY']\n",
    "relats['customerCleaned'] = relats.cnms.str.lower()\n",
    "print(relats.shape)\n",
    "\n",
    "relats = relats[relats.customerCleaned != 'not reported'] \n",
    "print(relats.shape)\n",
    "\n",
    "relats = relats[~relats['customerCleaned'].str.contains('customers',na = True)] \n",
    "print(relats.shape)\n",
    "\n",
    "relats = relats[['year','gvkey','conm','customerCleaned','salecs']].drop_duplicates()"
   ]
  },
  {
   "cell_type": "markdown",
   "metadata": {},
   "source": [
    "There is a linked version of Compustat that has company names merged in.\n",
    "\n",
    "It seems like it has maybe an incomplete representation of the companies in it, but it's not too too bad of the company-company sales here."
   ]
  },
  {
   "cell_type": "code",
   "execution_count": null,
   "metadata": {},
   "outputs": [],
   "source": [
    "relats.head()"
   ]
  },
  {
   "cell_type": "code",
   "execution_count": null,
   "metadata": {},
   "outputs": [],
   "source": [
    "file = \"../../data/companyData/compustatSCLinked.csv\"\n",
    "linked = pd.read_csv(file)\n",
    "\n",
    "linked['year'] = pd.DatetimeIndex(pd.to_datetime(linked['srcdate'], format='%Y%m%d')).year"
   ]
  },
  {
   "cell_type": "code",
   "execution_count": null,
   "metadata": {},
   "outputs": [],
   "source": [
    "linked.salecs.sum()/relats.salecs.sum()\n",
    "\n",
    "# [['cnms','srcdate','conm']].drop_duplicates().shape"
   ]
  },
  {
   "cell_type": "code",
   "execution_count": null,
   "metadata": {},
   "outputs": [],
   "source": [
    "linked.head()"
   ]
  },
  {
   "cell_type": "code",
   "execution_count": null,
   "metadata": {},
   "outputs": [],
   "source": [
    "customers = linked[['year','cgvkey']].drop_duplicatzipes().rename(columns = {'cgvkey': 'gvkey'})\n",
    "suppliers = linked[['year', 'gvkey']].drop_duplicates()"
   ]
  },
  {
   "cell_type": "code",
   "execution_count": null,
   "metadata": {},
   "outputs": [],
   "source": [
    "len(linked[['gvkey']].drop_duplicates())"
   ]
  },
  {
   "cell_type": "code",
   "execution_count": null,
   "metadata": {},
   "outputs": [],
   "source": [
    "def gatherData(df): \n",
    "    df['yearPlus1']  = df['year'] + 1\n",
    "    df['yearPlus2']  = df['year'] + 2\n",
    "    df['yearPlus3']  = df['year'] + 3\n",
    "\n",
    "    df['yearMinus1'] = df['year'] - 1\n",
    "    df['yearMinus2'] = df['year'] - 2\n",
    "    df['yearMinus3'] = df['year'] - 3\n",
    "    \n",
    "    dfMelted = pd.melt(df,id_vars=['year','gvkey'], var_name='variation', value_name='vyear').\\\n",
    "        drop(['variation','year'], axis = 1).rename(columns = {'vyear': 'year'}).drop_duplicates()\n",
    "\n",
    "    return(dfMelted)"
   ]
  },
  {
   "cell_type": "code",
   "execution_count": null,
   "metadata": {},
   "outputs": [],
   "source": [
    "suppDF = gatherData(suppliers)"
   ]
  },
  {
   "cell_type": "code",
   "execution_count": null,
   "metadata": {},
   "outputs": [],
   "source": [
    "custDF = gatherData(customers)"
   ]
  },
  {
   "cell_type": "code",
   "execution_count": null,
   "metadata": {},
   "outputs": [],
   "source": [
    "print(suppDF.head())\n",
    "print(suppDF.shape)\n",
    "\n",
    "print(custDF.head())\n",
    "print(custDF.shape)"
   ]
  },
  {
   "cell_type": "code",
   "execution_count": null,
   "metadata": {},
   "outputs": [],
   "source": [
    "allCompanies = suppDF.append(custDF).drop_duplicates()"
   ]
  },
  {
   "cell_type": "code",
   "execution_count": null,
   "metadata": {},
   "outputs": [],
   "source": [
    "allCompanies.head()"
   ]
  },
  {
   "cell_type": "code",
   "execution_count": null,
   "metadata": {},
   "outputs": [],
   "source": [
    "allCompanies.to_csv('../../data/companyData/allCompanyKeys.csv')"
   ]
  },
  {
   "cell_type": "markdown",
   "metadata": {},
   "source": [
    "## Merge in some of the data"
   ]
  },
  {
   "cell_type": "markdown",
   "metadata": {},
   "source": [
    "Now let's try merging in the other dataframes."
   ]
  },
  {
   "cell_type": "code",
   "execution_count": null,
   "metadata": {},
   "outputs": [],
   "source": [
    "def mergeCompChanges(test):\n",
    "    test = test.merge(compustatChanges, how = 'left')\n",
    "\n",
    "    test.replace([np.inf, -np.inf], np.nan, inplace=True)\n",
    "\n",
    "    test = test.dropna(subset = ['salesChange','incomeChange','revenueChange','costChange','inventoryChange'])\n",
    "\n",
    "    return(test)"
   ]
  },
  {
   "cell_type": "code",
   "execution_count": null,
   "metadata": {},
   "outputs": [],
   "source": [
    "suppChanges = mergeCompChanges(suppDF)\n",
    "custChanges = mergeCompChanges(custDF)"
   ]
  },
  {
   "cell_type": "code",
   "execution_count": null,
   "metadata": {},
   "outputs": [],
   "source": [
    "custChanges.salesChange.describe()"
   ]
  },
  {
   "cell_type": "markdown",
   "metadata": {},
   "source": [
    "We also need to merge in the Infogroup data here."
   ]
  },
  {
   "cell_type": "markdown",
   "metadata": {},
   "source": [
    "# Clean the company information up"
   ]
  },
  {
   "cell_type": "code",
   "execution_count": null,
   "metadata": {},
   "outputs": [],
   "source": [
    "def cleanText(text):\n",
    "    text = text.\\\n",
    "    replace(\" CORP\",\"\").replace(\" CO\",\"\").replace(\" INC\",\"\").\\\n",
    "    replace(\" LTD\",\"\").replace(\" -CL A\",\"\").\\\n",
    "    replace(\" -LP\",\"\").replace(\" LP\",\"\").\\\n",
    "    replace(\"-OLD\",\"\").replace(\" LLC\",\"\").\\\n",
    "    replace(\" -CL B\",\"\").replace(\" -CL i\",\"\").replace(\" -CL\",\"\").\\\n",
    "    replace(\"-REDH\",\"\").replace(\" CP\",\"\").\\\n",
    "    replace(\"-ADR\",\"\").replace(\" PLC\",\"\").lower()\n",
    "    \n",
    "    \n",
    "    return text"
   ]
  },
  {
   "cell_type": "markdown",
   "metadata": {},
   "source": [
    "### Merge in Infogroup data\n",
    "Let's use the gvkey as the unit of analysis."
   ]
  },
  {
   "cell_type": "code",
   "execution_count": null,
   "metadata": {},
   "outputs": [],
   "source": [
    "hq = pd.read_csv('../../data/companyData/hqPublicAll.csv').drop([\"Unnamed: 0\"], axis = 1).\\\n",
    "    rename(columns = {'archive_version_year': 'year',\n",
    "                     'company': 'companyName',\n",
    "                     'ticker': 'tic'})\n",
    "\n",
    "# 'ticker': 'tic',\n",
    "\n",
    "hq['year'] = hq.year.astype('int64')\n",
    "\n",
    "hq.head()"
   ]
  },
  {
   "cell_type": "code",
   "execution_count": null,
   "metadata": {},
   "outputs": [],
   "source": [
    "hq['companyNameClean'] = hq.companyName.apply(cleanText).apply(cleanText).apply(cleanText)"
   ]
  },
  {
   "cell_type": "code",
   "execution_count": null,
   "metadata": {},
   "outputs": [],
   "source": [
    "hq.companyNameClean.head()"
   ]
  },
  {
   "cell_type": "code",
   "execution_count": null,
   "metadata": {},
   "outputs": [],
   "source": [
    "ig_unique = hq[['tic','companyNameClean']].drop_duplicates()\n",
    "ig_unique.shape"
   ]
  },
  {
   "cell_type": "code",
   "execution_count": null,
   "metadata": {},
   "outputs": [],
   "source": [
    "compIDs = suppChanges.append(custChanges)[['companyName','tic','gvkey']].drop_duplicates().reset_index().\\\n",
    "    drop(['index'],axis = 1)\n",
    "compIDs.shape"
   ]
  },
  {
   "cell_type": "code",
   "execution_count": null,
   "metadata": {},
   "outputs": [],
   "source": [
    "compIDs['companyNameClean'] = compIDs.companyName.apply(cleanText)"
   ]
  },
  {
   "cell_type": "markdown",
   "metadata": {},
   "source": [
    "Look for compustat IDs that match infogroup IDs. First off, look to see if company name or tic is in infogroup names or tickers."
   ]
  },
  {
   "cell_type": "code",
   "execution_count": null,
   "metadata": {},
   "outputs": [],
   "source": [
    "compIDs.head()"
   ]
  },
  {
   "cell_type": "code",
   "execution_count": null,
   "metadata": {},
   "outputs": [],
   "source": [
    "compIDs['hasMatch'] = (compIDs.companyNameClean.isin(ig_unique.companyNameClean) | compIDs.tic.isin(ig_unique.tic))\n",
    "compIDsNeedsMatch   = compIDs[~compIDs.hasMatch]\n",
    "compIDsNeedsMatch.shape"
   ]
  },
  {
   "cell_type": "code",
   "execution_count": null,
   "metadata": {},
   "outputs": [],
   "source": [
    "compIDs.companyNameClean"
   ]
  },
  {
   "cell_type": "code",
   "execution_count": null,
   "metadata": {},
   "outputs": [],
   "source": [
    "def closestName(text):\n",
    "    matchOrder = process.extract(text, ig_unique.companyNameClean, \n",
    "                               scorer=fuzz.token_sort_ratio)\n",
    "    return(matchOrder)\n"
   ]
  },
  {
   "cell_type": "code",
   "execution_count": null,
   "metadata": {},
   "outputs": [],
   "source": [
    "start = time.time()\n",
    "closestNames = compIDsNeedsMatch.companyNameClean[0:50].apply(closestName)\n",
    "\n",
    "time.time() - start"
   ]
  },
  {
   "cell_type": "code",
   "execution_count": null,
   "metadata": {},
   "outputs": [],
   "source": [
    "compIDsNeedsMatch.companyNameClean[0:50]"
   ]
  },
  {
   "cell_type": "code",
   "execution_count": null,
   "metadata": {},
   "outputs": [],
   "source": [
    "closestNames"
   ]
  },
  {
   "cell_type": "code",
   "execution_count": null,
   "metadata": {},
   "outputs": [],
   "source": [
    "compIDsNeedsMatch.to_csv('../../data/companyData/matchesNeeded.csv')"
   ]
  },
  {
   "cell_type": "code",
   "execution_count": null,
   "metadata": {},
   "outputs": [],
   "source": [
    "closestNames.to_csv('../../data/companyData/closestNames.csv')"
   ]
  },
  {
   "cell_type": "markdown",
   "metadata": {},
   "source": [
    "# Stock price data"
   ]
  },
  {
   "cell_type": "code",
   "execution_count": null,
   "metadata": {},
   "outputs": [],
   "source": [
    "file = \"data/crsp_raw.csv\"\n",
    "raw = pd.read_csv(file, encoding = 'unicode_escape')"
   ]
  },
  {
   "cell_type": "code",
   "execution_count": null,
   "metadata": {},
   "outputs": [],
   "source": [
    "raw.head()"
   ]
  },
  {
   "cell_type": "markdown",
   "metadata": {},
   "source": [
    "Let's follow Evan's crsp cleaning and linking process.\n",
    "\n",
    "1. Drop firms not traded on NYSE or NASDAQ."
   ]
  },
  {
   "cell_type": "code",
   "execution_count": null,
   "metadata": {},
   "outputs": [],
   "source": [
    "other_exch = crsp[ (raw['PRIMEXCH'] != 'Q') & (raw['PRIMEXCH'] != 'N') ].index\n",
    "raw.drop(other_exch, inplace=True)\n",
    "raw.shape"
   ]
  },
  {
   "cell_type": "markdown",
   "metadata": {},
   "source": [
    "2. Drop entries with missing return or volume information."
   ]
  },
  {
   "cell_type": "code",
   "execution_count": null,
   "metadata": {},
   "outputs": [],
   "source": [
    "raw.dropna(subset=['VOL', 'RET','date'],inplace=True)\n",
    "raw['VOL'] = raw['VOL'].astype('int')\n",
    "raw.drop(raw[raw['RET']=='C'].index,inplace=True)\n",
    "raw['RET'] = raw['RET'].astype('float')\n",
    "raw['date'] = raw['date'].astype('int')"
   ]
  },
  {
   "cell_type": "markdown",
   "metadata": {},
   "source": [
    "3. Drop tickers with average daily trading volume less than 100K shares."
   ]
  },
  {
   "cell_type": "code",
   "execution_count": null,
   "metadata": {},
   "outputs": [],
   "source": [
    "adv = raw[['VOL','TICKER']].groupby(['TICKER']).mean()\n",
    "low_vol = adv.drop(adv[adv['VOL']>=100000].index)\n",
    "low_vol_index = raw[raw['TICKER'].isin(low_vol.index)].index\n",
    "raw.drop(low_vol_index,inplace=True)\n",
    "raw.shape"
   ]
  },
  {
   "cell_type": "markdown",
   "metadata": {},
   "source": [
    "4. Drop tickers that traded for less than 20% of the period"
   ]
  },
  {
   "cell_type": "code",
   "execution_count": null,
   "metadata": {},
   "outputs": [],
   "source": [
    "ndays = len(raw.date.unique())\n",
    "obs = raw['TICKER'].value_counts()\n",
    "rare_obs = obs[obs<0.2*ndays]\n",
    "rare_index = raw[raw['TICKER'].isin(rare_obs.index)].index\n",
    "raw.drop(rare_index,inplace=True)\n",
    "raw.shape"
   ]
  },
  {
   "cell_type": "code",
   "execution_count": null,
   "metadata": {},
   "outputs": [],
   "source": [
    "raw = raw.drop_duplicates()"
   ]
  },
  {
   "cell_type": "code",
   "execution_count": null,
   "metadata": {},
   "outputs": [],
   "source": [
    "raw.shape"
   ]
  },
  {
   "cell_type": "markdown",
   "metadata": {},
   "source": [
    "Merge in GVKEY information for linking with compustat.\n",
    "\n",
    "gv_cik will come in hand with another merge maybe; but to get to compustat, looks like we just need gvkey - permco."
   ]
  },
  {
   "cell_type": "markdown",
   "metadata": {},
   "source": [
    "Some of the keys seem to be used twice. Let's see if they're re-used when a company has gone out of business."
   ]
  },
  {
   "cell_type": "code",
   "execution_count": null,
   "metadata": {},
   "outputs": [],
   "source": [
    "# gv_cik = pd.read_csv(\"data/cik_gvkey.csv\",dtype={'cik':str})[['cik','gvkey']]\n",
    "gv_permco = pd.read_csv(\"data/cik_permco.csv\",dtype={'cik':str})\n",
    "# [['gvkey','LPERMCO']].rename(columns = {'LPERMCO': 'PERMCO'}).drop_duplicates()\n",
    "\n",
    "gv_permco.loc[gv_permco.LINKENDDT == 'E', 'LINKENDDT'] = '20210101'\n",
    "gv_permco['existsCurrently'] = pd.DatetimeIndex(pd.to_datetime(gv_permco.LINKENDDT.astype(str), format='%Y%m%d')).year\n",
    "\n",
    "gv_permco = gv_permco[gv_permco.existsCurrently > 2010]\n",
    "print(gv_permco.shape)\n",
    "print(gv_permco.head())\n",
    "\n",
    "gv_permco = gv_permco[['gvkey','LPERMCO','conm']].rename(columns = {'LPERMCO': 'PERMCO'}).drop_duplicates()"
   ]
  },
  {
   "cell_type": "code",
   "execution_count": null,
   "metadata": {},
   "outputs": [],
   "source": [
    "for company in gv_permco[gv_permco.PERMCO.duplicated()].conm:\n",
    "    print(company)"
   ]
  },
  {
   "cell_type": "markdown",
   "metadata": {},
   "source": [
    "Drop the duplicated entries. We may want to revisit this later on."
   ]
  },
  {
   "cell_type": "code",
   "execution_count": null,
   "metadata": {},
   "outputs": [],
   "source": [
    "gv_permco = gv_permco[~gv_permco.PERMCO.isin(list(gv_permco.PERMCO[gv_permco.PERMCO.duplicated()]))]"
   ]
  },
  {
   "cell_type": "markdown",
   "metadata": {},
   "source": [
    "Now just merge the raw return information with this company information so we can link everything."
   ]
  },
  {
   "cell_type": "code",
   "execution_count": null,
   "metadata": {},
   "outputs": [],
   "source": [
    "rawMergeable = pd.merge(raw,gv_permco,on='PERMCO',how = 'left')\n",
    "rawMergeable.shape"
   ]
  },
  {
   "cell_type": "code",
   "execution_count": null,
   "metadata": {},
   "outputs": [],
   "source": [
    "raw.head()"
   ]
  },
  {
   "cell_type": "code",
   "execution_count": null,
   "metadata": {},
   "outputs": [],
   "source": [
    "rawMergeable = rawMergeable.drop(['RETX'],axis = 1)\n",
    "rawMergeable['date'] = pd.to_datetime(rawMergeable['date'].astype(str), format='%Y%m%d')\n",
    "rawMergeable['year'] = pd.DatetimeIndex(rawMergeable['date']).year\n",
    "rawMergeable.head()"
   ]
  },
  {
   "cell_type": "code",
   "execution_count": null,
   "metadata": {},
   "outputs": [],
   "source": [
    "outfile =  'data/stockReturns.pkl'\n",
    "with open(outfile, 'wb') as pickle_file:\n",
    "    pickle.dump(rawMergeable, pickle_file)"
   ]
  },
  {
   "cell_type": "markdown",
   "metadata": {},
   "source": [
    "----------------------------------------------"
   ]
  },
  {
   "cell_type": "code",
   "execution_count": null,
   "metadata": {},
   "outputs": [],
   "source": [
    "crsp2010s = crsp[['date','year','PERMNO','COMNAM','PRC']]"
   ]
  },
  {
   "cell_type": "code",
   "execution_count": null,
   "metadata": {},
   "outputs": [],
   "source": [
    "sum(crsp.RET == crsp.RETX)"
   ]
  }
 ],
 "metadata": {
  "kernelspec": {
   "display_name": "Python 3",
   "language": "python",
   "name": "python3"
  },
  "language_info": {
   "codemirror_mode": {
    "name": "ipython",
    "version": 3
   },
   "file_extension": ".py",
   "mimetype": "text/x-python",
   "name": "python",
   "nbconvert_exporter": "python",
   "pygments_lexer": "ipython3",
   "version": "3.7.4"
  }
 },
 "nbformat": 4,
 "nbformat_minor": 2
}
