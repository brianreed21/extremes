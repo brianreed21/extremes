{
 "cells": [
  {
   "cell_type": "code",
   "execution_count": 2,
   "metadata": {},
   "outputs": [],
   "source": [
    "import pickle as pkl\n",
    "import pandas as pd\n",
    "import matplotlib\n",
    "import os\n",
    "import re\n",
    "\n",
    "import collections\n",
    "import datetime\n",
    "import time\n",
    "\n",
    "import geopandas as gpd\n",
    "\n",
    "import numpy as np\n",
    "\n",
    "import rasterio\n",
    "\n",
    "import spacy\n",
    "  \n",
    "nlp = spacy.load('en_core_web_lg')\n",
    "from sklearn.metrics.pairwise import cosine_similarity\n",
    "\n",
    "import itertools"
   ]
  },
  {
   "cell_type": "markdown",
   "metadata": {},
   "source": [
    "# Get Data\n",
    "\n",
    "## Changes from year to year"
   ]
  },
  {
   "cell_type": "code",
   "execution_count": 3,
   "metadata": {},
   "outputs": [
    {
     "data": {
      "text/html": [
       "<div>\n",
       "<style scoped>\n",
       "    .dataframe tbody tr th:only-of-type {\n",
       "        vertical-align: middle;\n",
       "    }\n",
       "\n",
       "    .dataframe tbody tr th {\n",
       "        vertical-align: top;\n",
       "    }\n",
       "\n",
       "    .dataframe thead th {\n",
       "        text-align: right;\n",
       "    }\n",
       "</style>\n",
       "<table border=\"1\" class=\"dataframe\">\n",
       "  <thead>\n",
       "    <tr style=\"text-align: right;\">\n",
       "      <th></th>\n",
       "      <th>year</th>\n",
       "      <th>qtr</th>\n",
       "      <th>gvkey</th>\n",
       "      <th>companyName</th>\n",
       "      <th>tic</th>\n",
       "      <th>naics</th>\n",
       "      <th>curcdq</th>\n",
       "      <th>incomeChange</th>\n",
       "      <th>revenueChange</th>\n",
       "      <th>revenueChangeAbsolute</th>\n",
       "      <th>costChange</th>\n",
       "      <th>inventoryChange</th>\n",
       "    </tr>\n",
       "  </thead>\n",
       "  <tbody>\n",
       "    <tr>\n",
       "      <th>0</th>\n",
       "      <td>2010</td>\n",
       "      <td>1.0</td>\n",
       "      <td>1004</td>\n",
       "      <td>AAR CORP</td>\n",
       "      <td>AIR</td>\n",
       "      <td>423860.0</td>\n",
       "      <td>USD</td>\n",
       "      <td>0.213983</td>\n",
       "      <td>0.200565</td>\n",
       "      <td>81.107</td>\n",
       "      <td>0.178258</td>\n",
       "      <td>0.055631</td>\n",
       "    </tr>\n",
       "    <tr>\n",
       "      <th>1</th>\n",
       "      <td>2010</td>\n",
       "      <td>2.0</td>\n",
       "      <td>1004</td>\n",
       "      <td>AAR CORP</td>\n",
       "      <td>AIR</td>\n",
       "      <td>423860.0</td>\n",
       "      <td>USD</td>\n",
       "      <td>0.045617</td>\n",
       "      <td>0.059577</td>\n",
       "      <td>27.099</td>\n",
       "      <td>0.017636</td>\n",
       "      <td>0.086776</td>\n",
       "    </tr>\n",
       "    <tr>\n",
       "      <th>2</th>\n",
       "      <td>2010</td>\n",
       "      <td>3.0</td>\n",
       "      <td>1004</td>\n",
       "      <td>AAR CORP</td>\n",
       "      <td>AIR</td>\n",
       "      <td>423860.0</td>\n",
       "      <td>USD</td>\n",
       "      <td>0.153198</td>\n",
       "      <td>0.166276</td>\n",
       "      <td>76.160</td>\n",
       "      <td>0.129456</td>\n",
       "      <td>0.169270</td>\n",
       "    </tr>\n",
       "    <tr>\n",
       "      <th>3</th>\n",
       "      <td>2010</td>\n",
       "      <td>4.0</td>\n",
       "      <td>1004</td>\n",
       "      <td>AAR CORP</td>\n",
       "      <td>AIR</td>\n",
       "      <td>423860.0</td>\n",
       "      <td>USD</td>\n",
       "      <td>-0.398739</td>\n",
       "      <td>0.174283</td>\n",
       "      <td>85.020</td>\n",
       "      <td>0.136013</td>\n",
       "      <td>0.182304</td>\n",
       "    </tr>\n",
       "    <tr>\n",
       "      <th>4</th>\n",
       "      <td>2011</td>\n",
       "      <td>1.0</td>\n",
       "      <td>1004</td>\n",
       "      <td>AAR CORP</td>\n",
       "      <td>AIR</td>\n",
       "      <td>423860.0</td>\n",
       "      <td>USD</td>\n",
       "      <td>0.096386</td>\n",
       "      <td>0.133883</td>\n",
       "      <td>65.000</td>\n",
       "      <td>0.101523</td>\n",
       "      <td>0.104150</td>\n",
       "    </tr>\n",
       "  </tbody>\n",
       "</table>\n",
       "</div>"
      ],
      "text/plain": [
       "   year  qtr  gvkey companyName  tic     naics curcdq  incomeChange  \\\n",
       "0  2010  1.0   1004    AAR CORP  AIR  423860.0    USD      0.213983   \n",
       "1  2010  2.0   1004    AAR CORP  AIR  423860.0    USD      0.045617   \n",
       "2  2010  3.0   1004    AAR CORP  AIR  423860.0    USD      0.153198   \n",
       "3  2010  4.0   1004    AAR CORP  AIR  423860.0    USD     -0.398739   \n",
       "4  2011  1.0   1004    AAR CORP  AIR  423860.0    USD      0.096386   \n",
       "\n",
       "   revenueChange  revenueChangeAbsolute  costChange  inventoryChange  \n",
       "0       0.200565                 81.107    0.178258         0.055631  \n",
       "1       0.059577                 27.099    0.017636         0.086776  \n",
       "2       0.166276                 76.160    0.129456         0.169270  \n",
       "3       0.174283                 85.020    0.136013         0.182304  \n",
       "4       0.133883                 65.000    0.101523         0.104150  "
      ]
     },
     "execution_count": 3,
     "metadata": {},
     "output_type": "execute_result"
    }
   ],
   "source": [
    "changes = pd.read_csv(\"../../data/companyData/compustatChanges_2010s.csv\").drop(columns = ['Unnamed: 0'])\n",
    "\n",
    "changes.head()"
   ]
  },
  {
   "cell_type": "code",
   "execution_count": 4,
   "metadata": {},
   "outputs": [],
   "source": [
    "industries = changes[['gvkey','naics']].drop_duplicates()\n",
    "industries['naics'] = industries.naics.astype('str').str.slice(0,2)"
   ]
  },
  {
   "cell_type": "markdown",
   "metadata": {},
   "source": [
    "## SC Linking Table for 2010s"
   ]
  },
  {
   "cell_type": "code",
   "execution_count": null,
   "metadata": {},
   "outputs": [],
   "source": [
    "c_links = pd.read_csv(\"../../data/companyData/compustatSCLinked.csv\")\n",
    "\n",
    "c_links['year'] = c_links.srcdate.astype('str').str.slice(0,4).astype('int64')\n",
    "\n",
    "c_links = c_links[c_links.year > 2009][['year','gvkey','cgvkey','salecs']].\\\n",
    "    rename(columns = {'cgvkey': 'customer_gvkey','gvkey': 'supplier_gvkey'})\n",
    "\n",
    "\n",
    "print(c_links.shape)\n",
    "\n",
    "c_links.head()"
   ]
  },
  {
   "cell_type": "code",
   "execution_count": null,
   "metadata": {},
   "outputs": [],
   "source": [
    "industries.columns = ['customer_gvkey','customer_naics']\n",
    "\n",
    "c_links = c_links.merge(industries)\n",
    "\n",
    "industries.columns = ['supplier_gvkey','supplier_naics']\n",
    "\n",
    "c_links = c_links.merge(industries)\n",
    "c_links.head()"
   ]
  },
  {
   "cell_type": "code",
   "execution_count": null,
   "metadata": {},
   "outputs": [],
   "source": [
    "c_links.shape"
   ]
  },
  {
   "cell_type": "markdown",
   "metadata": {},
   "source": [
    "Now see if it's common to have one in and one out of the industries of interest."
   ]
  },
  {
   "cell_type": "code",
   "execution_count": null,
   "metadata": {},
   "outputs": [],
   "source": [
    "ofInterest = ['11','21','22','23','31','32','33','42','44','45','48','49']\n",
    "\n",
    "c_linksCut = c_links[~(c_links.customer_naics.isin(ofInterest) & c_links.supplier_naics.isin(ofInterest))]"
   ]
  },
  {
   "cell_type": "code",
   "execution_count": null,
   "metadata": {},
   "outputs": [],
   "source": [
    "c_linksCut['relat'] = c_linksCut.customer_naics + \"_\" + c_linksCut.supplier_naics\n",
    "c_linksCut.relat.value_counts()[0:10]"
   ]
  },
  {
   "cell_type": "code",
   "execution_count": null,
   "metadata": {},
   "outputs": [],
   "source": [
    "c_linksCut.supplier_naics.value_counts()[0:10]"
   ]
  },
  {
   "cell_type": "markdown",
   "metadata": {},
   "source": [
    "## Compustat and ABI Linking"
   ]
  },
  {
   "cell_type": "code",
   "execution_count": null,
   "metadata": {},
   "outputs": [],
   "source": [
    "gvKey_abiLinkingTable = pd.read_csv('../../data/companyData/linkingTable.csv').drop(columns = ['Unnamed: 0'])\n",
    "\n",
    "\n",
    "base_columns = gvKey_abiLinkingTable.columns \n",
    "customer_columns = \"customer_\" + base_columns\n",
    "supplier_columns = \"supplier_\" + base_columns\n",
    "\n",
    "\n",
    "gvKey_abiLinkingTable.head()"
   ]
  },
  {
   "cell_type": "code",
   "execution_count": null,
   "metadata": {},
   "outputs": [],
   "source": [
    "hasMatch = gvKey_abiLinkingTable.gvkey.unique()"
   ]
  },
  {
   "cell_type": "code",
   "execution_count": null,
   "metadata": {},
   "outputs": [],
   "source": [
    "sum(c_links.supplier_gvkey.isin(hasMatch) | c_links.customer_gvkey.isin(hasMatch))"
   ]
  },
  {
   "cell_type": "code",
   "execution_count": null,
   "metadata": {},
   "outputs": [],
   "source": []
  },
  {
   "cell_type": "markdown",
   "metadata": {},
   "source": [
    "# Merge"
   ]
  },
  {
   "cell_type": "code",
   "execution_count": null,
   "metadata": {},
   "outputs": [],
   "source": [
    "\n",
    "#########################\n",
    "# merge in customer information\n",
    "gvKey_abiLinkingTable.columns = customer_columns\n",
    "\n",
    "print(c_links.shape)\n",
    "c_linksMerge1 = c_links.merge(gvKey_abiLinkingTable, on ='customer_gvkey')\n",
    "print(c_links.shape,c_linksMerge1.shape)\n",
    "\n",
    "\n",
    "\n",
    "#########################\n",
    "# and merge in supplier \n",
    "gvKey_abiLinkingTable.columns = supplier_columns\n",
    "\n",
    "print(c_links.shape)\n",
    "c_linksMerge2 = c_linksMerge1.merge(gvKey_abiLinkingTable, on ='supplier_gvkey')\n",
    "print(c_links.shape,c_linksMerge2.shape)"
   ]
  },
  {
   "cell_type": "code",
   "execution_count": null,
   "metadata": {},
   "outputs": [],
   "source": [
    "c_linksMerge2.to_csv(\"../../data/companyData/clinks_IG_selected.csv\")"
   ]
  },
  {
   "cell_type": "code",
   "execution_count": null,
   "metadata": {},
   "outputs": [],
   "source": [
    "gvKey_abiLinkingTable"
   ]
  },
  {
   "cell_type": "markdown",
   "metadata": {},
   "source": [
    "This is probably because: (1) companies are not in North America, or (2) companies are not in the physical goods industries we're interested in. We can verify this though: look at c_links where both the customer and supplier are in the dataset of interest."
   ]
  },
  {
   "cell_type": "code",
   "execution_count": null,
   "metadata": {},
   "outputs": [],
   "source": [
    "chq     = pd.read_csv(\"../../data/chq.csv\",dtype={'cstatZipcode': 'object'}).drop(columns = {'Unnamed: 0'})\n",
    "\n",
    "c_linkTest = c_links[c_links.customer_gvkey.isin(chq.gvkey.unique()) & \\\n",
    "                     c_links.supplier_gvkey.isin(chq.gvkey.unique())]\n",
    "\n",
    "print(\"Percent of firms with a match: \", c_linksMerge2.shape[0]/c_linkTest.shape[0])"
   ]
  },
  {
   "cell_type": "markdown",
   "metadata": {},
   "source": [
    "It's entirely possible that we have too small of a sample from the 2010s alone. Let's just try it though and see how it goes.\n",
    "\n",
    "First, make a sample with the companies on three years of either side of when it reports another customer."
   ]
  },
  {
   "cell_type": "code",
   "execution_count": null,
   "metadata": {},
   "outputs": [],
   "source": [
    "scTableCustomers = c_linksMerge2.copy()[['year','customer_gvkey','customer_abi']].drop_duplicates()\n",
    "scTableSuppliers = c_linksMerge2.copy()[['year','supplier_gvkey','supplier_abi']].drop_duplicates()"
   ]
  },
  {
   "cell_type": "code",
   "execution_count": null,
   "metadata": {},
   "outputs": [],
   "source": [
    "scTableCustomers.head()"
   ]
  },
  {
   "cell_type": "code",
   "execution_count": null,
   "metadata": {},
   "outputs": [],
   "source": [
    "def makeThreeEitherSide(df): \n",
    "    yrPlus1 = df.copy(); yrPlus1['year'] += 1\n",
    "    yrPlus2 = df.copy(); yrPlus2['year'] += 1\n",
    "    yrPlus3 = df.copy(); yrPlus3['year'] += 1\n",
    "    \n",
    "    yrMinus1 = df.copy(); yrMinus1['year'] -= 1\n",
    "    yrMinus2 = df.copy(); yrMinus2['year'] -= 1\n",
    "    yrMinus3 = df.copy(); yrMinus3['year'] -= 1\n",
    "    \n",
    "    all = pd.concat([yrPlus1,yrPlus2,yrPlus3,yrMinus1,yrMinus2,yrMinus3])\n",
    "    \n",
    "    return(all)"
   ]
  },
  {
   "cell_type": "code",
   "execution_count": null,
   "metadata": {},
   "outputs": [],
   "source": [
    "allCustomerData = makeThreeEitherSide(scTableCustomers)\n",
    "allCustomerData.columns = ['year','gvkey','abi']\n",
    "\n",
    "\n",
    "allSupplierData = makeThreeEitherSide(scTableSuppliers)\n",
    "allSupplierData.columns = ['year','gvkey','abi']"
   ]
  },
  {
   "cell_type": "code",
   "execution_count": null,
   "metadata": {},
   "outputs": [],
   "source": [
    "allSupplierData.year"
   ]
  },
  {
   "cell_type": "code",
   "execution_count": null,
   "metadata": {},
   "outputs": [],
   "source": [
    "allAbi = allCustomerData.abi.append(allSupplierData.abi).drop_duplicates()"
   ]
  },
  {
   "cell_type": "code",
   "execution_count": null,
   "metadata": {},
   "outputs": [],
   "source": [
    "hqsOnly = pd.read_csv(\"../../data/ig2010s_uniqueHQs.csv\").drop(columns = {'Unnamed: 0'})"
   ]
  },
  {
   "cell_type": "code",
   "execution_count": null,
   "metadata": {},
   "outputs": [],
   "source": [
    "hqsOnly.head()"
   ]
  },
  {
   "cell_type": "code",
   "execution_count": null,
   "metadata": {},
   "outputs": [],
   "source": [
    "hq = pd.read_csv(\"../../data/ig2010s_uniqueHQs_multLocations.csv\").\\\n",
    "    drop(columns = {'Unnamed: 0'}).\\\n",
    "    rename(columns = {'archive_version_year': 'year'})\n",
    "\n",
    "hq['year'] = hq.year.astype('int64')\n",
    "\n",
    "hqRelevant = hq[hq.abi.isin(allAbi)]"
   ]
  },
  {
   "cell_type": "code",
   "execution_count": null,
   "metadata": {},
   "outputs": [],
   "source": [
    "hqRelevant[hqRelevant.abi == 71340]"
   ]
  },
  {
   "cell_type": "code",
   "execution_count": null,
   "metadata": {},
   "outputs": [],
   "source": [
    "allSupplierData = allSupplierData.merge(hqRelevant).drop_duplicates()\n",
    "allCustomerData = allCustomerData.merge(hqRelevant).drop_duplicates()"
   ]
  },
  {
   "cell_type": "code",
   "execution_count": null,
   "metadata": {},
   "outputs": [],
   "source": [
    "allSupplierData.head()"
   ]
  },
  {
   "cell_type": "code",
   "execution_count": null,
   "metadata": {},
   "outputs": [],
   "source": [
    "allCustomerData.to_csv(\"../../data/companyData/allCustomerData.csv\")\n",
    "allSupplierData.to_csv(\"../../data/companyData/allSupplierData.csv\")"
   ]
  },
  {
   "cell_type": "code",
   "execution_count": null,
   "metadata": {},
   "outputs": [],
   "source": [
    "allSupplierData.shape"
   ]
  },
  {
   "cell_type": "code",
   "execution_count": null,
   "metadata": {},
   "outputs": [],
   "source": [
    "hqsOnly = pd.read_csv(\"../../data/ig2010s_uniqueHQs.csv\")"
   ]
  }
 ],
 "metadata": {
  "kernelspec": {
   "display_name": "Python 3",
   "language": "python",
   "name": "python3"
  },
  "language_info": {
   "codemirror_mode": {
    "name": "ipython",
    "version": 3
   },
   "file_extension": ".py",
   "mimetype": "text/x-python",
   "name": "python",
   "nbconvert_exporter": "python",
   "pygments_lexer": "ipython3",
   "version": "3.7.4"
  }
 },
 "nbformat": 4,
 "nbformat_minor": 2
}
