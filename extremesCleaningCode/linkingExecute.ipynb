{
 "cells": [
  {
   "cell_type": "code",
   "execution_count": 2,
   "metadata": {},
   "outputs": [],
   "source": [
    "import pickle as pkl\n",
    "import pandas as pd\n",
    "import matplotlib\n",
    "import os\n",
    "import re\n",
    "\n",
    "import collections\n",
    "import datetime\n",
    "import time\n",
    "\n",
    "import geopandas as gpd\n",
    "\n",
    "import numpy as np\n",
    "\n",
    "import rasterio\n",
    "\n",
    "import spacy\n",
    "\n",
    "import gc\n",
    "\n",
    "nlp = spacy.load('en_core_web_lg')\n",
    "from sklearn.metrics.pairwise import cosine_similarity\n",
    "\n",
    "import itertools"
   ]
  },
  {
   "cell_type": "markdown",
   "metadata": {},
   "source": [
    "# Get Data\n",
    "\n",
    "## Changes from year to year"
   ]
  },
  {
   "cell_type": "code",
   "execution_count": null,
   "metadata": {},
   "outputs": [],
   "source": [
    "changes = pd.read_csv(\"../../data/compustatChanges_all.csv\").drop(columns = ['Unnamed: 0'])\n",
    "\n",
    "changes.head()"
   ]
  },
  {
   "cell_type": "code",
   "execution_count": null,
   "metadata": {},
   "outputs": [],
   "source": [
    "otherControls = pd.read_csv('../../data/companyData/otherControls.csv').\\\n",
    "    drop(columns = {'Unnamed: 0', 'fyearq'}).rename(columns = {'year_toMatchOn': 'year',\n",
    "                                                              'fqtr': 'qtr'})\n"
   ]
  },
  {
   "cell_type": "code",
   "execution_count": null,
   "metadata": {},
   "outputs": [],
   "source": [
    "otherControls.head()"
   ]
  },
  {
   "cell_type": "code",
   "execution_count": null,
   "metadata": {},
   "outputs": [],
   "source": [
    "print(changes.shape)\n",
    "changes = changes.merge(otherControls)\n",
    "print(changes.shape)\n",
    "\n",
    "\n",
    "industries = changes[['gvkey','famafrench']].drop_duplicates()"
   ]
  },
  {
   "cell_type": "code",
   "execution_count": null,
   "metadata": {},
   "outputs": [],
   "source": [
    "'''changes.to_csv(\"../../data/companyData/compustatChanges_withControls.csv\")\n",
    "changes.head()'''"
   ]
  },
  {
   "cell_type": "code",
   "execution_count": null,
   "metadata": {},
   "outputs": [],
   "source": [
    "changes = pd.read_csv(\"../../data/companyData/compustatChanges_withControls.csv\")"
   ]
  },
  {
   "cell_type": "markdown",
   "metadata": {},
   "source": [
    "Put in the calendar quarters and fiscal quarter data."
   ]
  },
  {
   "cell_type": "code",
   "execution_count": null,
   "metadata": {},
   "outputs": [],
   "source": [
    "quarters = pd.read_csv(\"../../data/companyData/fiscalYears.csv\")\n",
    "quarters.head()"
   ]
  },
  {
   "cell_type": "code",
   "execution_count": null,
   "metadata": {},
   "outputs": [],
   "source": [
    "len(quarters.gvkey.unique())"
   ]
  },
  {
   "cell_type": "code",
   "execution_count": null,
   "metadata": {},
   "outputs": [],
   "source": [
    "sum((quarters.fyr == 12) | \n",
    "   (quarters.fyr == 3) | \n",
    "   (quarters.fyr == 6) | \n",
    "   (quarters.fyr == 9))/quarters.shape[0]"
   ]
  },
  {
   "cell_type": "code",
   "execution_count": null,
   "metadata": {},
   "outputs": [],
   "source": [
    "quarters = quarters[(quarters.fyr == 12) | \n",
    "   (quarters.fyr == 3) | \n",
    "   (quarters.fyr == 6) | \n",
    "   (quarters.fyr == 9)][['gvkey','datadate','datacqtr','datafqtr','fyr']].reset_index(drop = True)\n"
   ]
  },
  {
   "cell_type": "code",
   "execution_count": null,
   "metadata": {},
   "outputs": [],
   "source": [
    "quarters.head()"
   ]
  },
  {
   "cell_type": "markdown",
   "metadata": {},
   "source": [
    "Merge the quarter data into the change data, and make sure that the quarters that are used line up with the calendar quarters."
   ]
  },
  {
   "cell_type": "code",
   "execution_count": null,
   "metadata": {},
   "outputs": [],
   "source": [
    "changesCal = changes[changes.gvkey.isin(quarters.gvkey.unique())]\n",
    "\n",
    "changesCal = changesCal.merge(quarters)\n",
    "\n",
    "print(changesCal.shape[0]/changes.shape[0])"
   ]
  },
  {
   "cell_type": "code",
   "execution_count": null,
   "metadata": {},
   "outputs": [],
   "source": [
    "changesCal.loc[~(changesCal.datacqtr.isna()), 'year'] = changesCal.datacqtr.str.slice(0,4)\n",
    "changesCal.loc[~(changesCal.datacqtr.isna()), 'qtr']  = changesCal.datacqtr.str.slice(5,6)\n",
    "\n",
    "changesCal['DATE'] = pd.to_datetime(changesCal['datadate'])\n",
    "\n",
    "changesCal.loc[(changesCal.datacqtr.isna()), 'year'] = changesCal.DATE.dt.year\n",
    "changesCal.loc[(changesCal.datacqtr.isna()), 'qtr']  = changesCal.DATE.dt.quarter\n",
    "\n",
    "changesCal['year'] = changesCal.year.astype('int64')\n",
    "changesCal['qtr']  = changesCal.qtr.astype('int64')\n",
    "\n",
    "print(changesCal.shape,changesCal.head())"
   ]
  },
  {
   "cell_type": "code",
   "execution_count": null,
   "metadata": {},
   "outputs": [],
   "source": [
    "changesCal.to_csv(\"../../data/companyData/compustatChanges_withControls.csv\")\n",
    "changesCal.head()"
   ]
  },
  {
   "cell_type": "code",
   "execution_count": null,
   "metadata": {},
   "outputs": [],
   "source": [
    "changesCal = pd.read_csv(\"../../data/companyData/compustatChanges_withControls.csv\")\n"
   ]
  },
  {
   "cell_type": "markdown",
   "metadata": {},
   "source": [
    "# Compustat and ABI Linking"
   ]
  },
  {
   "cell_type": "code",
   "execution_count": null,
   "metadata": {},
   "outputs": [],
   "source": [
    "gvKey_abiLinkingTable = pd.read_csv('../../data/companyData/linkingTable.csv').drop(columns = ['Unnamed: 0'])\n",
    "\n",
    "base_columns = gvKey_abiLinkingTable.columns \n",
    "customer_columns = \"customer_\" + base_columns\n",
    "supplier_columns = \"supplier_\" + base_columns\n",
    "\n",
    "\n",
    "\n",
    "hasMatch = gvKey_abiLinkingTable.gvkey.unique()\n",
    "\n",
    "gvKey_abiLinkingTable.head()\n"
   ]
  },
  {
   "cell_type": "markdown",
   "metadata": {},
   "source": [
    "# SC Linking Table for 2010s"
   ]
  },
  {
   "cell_type": "code",
   "execution_count": null,
   "metadata": {},
   "outputs": [],
   "source": [
    "# this does a little bit of a test on the reporting requirements. \n",
    "# number \n",
    "\n",
    "'''c_linksTest = pd.read_csv(\"../../data/companyData/compustatSCLinked.csv\")[['srcdate','gvkey','cgvkey']]\n",
    "c_linksTest['year'] = c_linksTest.srcdate.astype('str').str.slice(0,4).astype('int64')\n",
    "\n",
    "bs = c_linksTest[c_linksTest.year < 2014]\n",
    "print(\"Customers per supplier, 1978-2013 Pd: \", len(bs.cgvkey.unique())/len(bs.gvkey.unique()))\n",
    "\n",
    "bs2 = c_linksTest[c_linksTest.year > 2010]\n",
    "print(\"Customers per supplier, Recent Pd: \", len(bs2.cgvkey.unique())/len(bs2.gvkey.unique()))'''\n"
   ]
  },
  {
   "cell_type": "code",
   "execution_count": null,
   "metadata": {},
   "outputs": [],
   "source": [
    "c_links = pd.read_csv(\"../../data/companyData/compustatSCLinked.csv\")\n",
    "\n",
    "c_links['year'] = c_links.srcdate.astype('str').str.slice(0,4).astype('int64')\n",
    "\n",
    "c_links = c_links[c_links.year > 1999][['year','gvkey','cgvkey','salecs']].\\\n",
    "    rename(columns = {'cgvkey': 'customer_gvkey','gvkey': 'supplier_gvkey'})\n",
    "\n",
    "\n",
    "print(c_links.shape)\n",
    "\n",
    "c_links.head()"
   ]
  },
  {
   "cell_type": "code",
   "execution_count": null,
   "metadata": {},
   "outputs": [],
   "source": [
    "industries.columns = ['customer_gvkey','customer_famafrench']\n",
    "\n",
    "c_links = c_links.merge(industries)\n",
    "\n",
    "industries.columns = ['supplier_gvkey','supplier_famafrench']\n",
    "\n",
    "c_links = c_links.merge(industries)\n",
    "c_links.head()"
   ]
  },
  {
   "cell_type": "code",
   "execution_count": null,
   "metadata": {},
   "outputs": [],
   "source": [
    "c_links.shape"
   ]
  },
  {
   "cell_type": "markdown",
   "metadata": {},
   "source": [
    "Now see if it's common to have one in and one out of the industries of interest. \n",
    "\n",
    "For now, let's keep all the different industry types.\n",
    "\n",
    "We can always filter later if we need to."
   ]
  },
  {
   "cell_type": "code",
   "execution_count": null,
   "metadata": {},
   "outputs": [],
   "source": [
    "'''ofInterest = ['11','21','22','23','31','32','33','42','44','45','48','49']\n",
    "\n",
    "c_linksCut = c_links[~(c_links.customer_naics.isin(ofInterest) & c_links.supplier_naics.isin(ofInterest))]\n",
    "\n",
    "c_linksCut['relat'] = c_linksCut.customer_naics + \"_\" + c_linksCut.supplier_naics\n",
    "c_linksCut.relat.value_counts()[0:10]\n",
    "\n",
    "c_linksCut.supplier_naics.value_counts()[0:10]'''"
   ]
  },
  {
   "cell_type": "code",
   "execution_count": null,
   "metadata": {},
   "outputs": [],
   "source": [
    "c_links.to_csv(\"../../data/companyData/c_links.csv\")\n",
    "# c_links = pd.read_csv(\"../../data/companyData/c_links.csv\")\n"
   ]
  },
  {
   "cell_type": "code",
   "execution_count": null,
   "metadata": {},
   "outputs": [],
   "source": []
  },
  {
   "cell_type": "code",
   "execution_count": null,
   "metadata": {},
   "outputs": [],
   "source": [
    "sum(c_links.supplier_gvkey.isin(hasMatch) | c_links.customer_gvkey.isin(hasMatch))"
   ]
  },
  {
   "cell_type": "markdown",
   "metadata": {},
   "source": [
    "## Merge SC Info In"
   ]
  },
  {
   "cell_type": "code",
   "execution_count": null,
   "metadata": {},
   "outputs": [],
   "source": [
    "#########################\n",
    "# merge in customer information\n",
    "gvKey_abiLinkingTable.columns = customer_columns\n",
    "\n",
    "print(c_links.shape)\n",
    "c_linksMerge1 = c_links.merge(gvKey_abiLinkingTable, on ='customer_gvkey')\n",
    "print(c_links.shape,c_linksMerge1.shape)\n",
    "\n",
    "\n",
    "\n",
    "#########################\n",
    "# and merge in supplier \n",
    "gvKey_abiLinkingTable.columns = supplier_columns\n",
    "\n",
    "print(c_links.shape)\n",
    "c_linksMerge2 = c_linksMerge1.merge(gvKey_abiLinkingTable, on ='supplier_gvkey')\n",
    "print(c_links.shape,c_linksMerge2.shape)"
   ]
  },
  {
   "cell_type": "code",
   "execution_count": null,
   "metadata": {},
   "outputs": [],
   "source": [
    "c_linksMerge2.to_csv(\"../../data/companyData/clinks_IG_selected.csv\")"
   ]
  },
  {
   "cell_type": "code",
   "execution_count": null,
   "metadata": {},
   "outputs": [],
   "source": [
    "c_linksMerge2"
   ]
  },
  {
   "cell_type": "code",
   "execution_count": null,
   "metadata": {},
   "outputs": [],
   "source": [
    "gvKey_abiLinkingTable"
   ]
  },
  {
   "cell_type": "markdown",
   "metadata": {},
   "source": [
    "This is probably because: (1) companies are not in North America, or (2) companies are not in the physical goods industries we're interested in. We can verify this though: look at c_links where both the customer and supplier are in the dataset of interest."
   ]
  },
  {
   "cell_type": "code",
   "execution_count": null,
   "metadata": {},
   "outputs": [],
   "source": [
    "chq     = pd.read_csv(\"../../data/chq.csv\",dtype={'cstatZipcode': 'object'}).drop(columns = {'Unnamed: 0'})\n",
    "\n",
    "c_linkTest = c_links[c_links.customer_gvkey.isin(chq.gvkey.unique()) & \\\n",
    "                     c_links.supplier_gvkey.isin(chq.gvkey.unique())]\n",
    "\n",
    "print(\"Percent of firms with a match: \", c_linksMerge2.shape[0]/c_linkTest.shape[0])"
   ]
  },
  {
   "cell_type": "markdown",
   "metadata": {},
   "source": [
    "It's entirely possible that we have too small of a sample from the 2010s alone. Let's just try it though and see how it goes.\n",
    "\n",
    "First, make a sample with the companies on three years of either side of when it reports another customer."
   ]
  },
  {
   "cell_type": "code",
   "execution_count": null,
   "metadata": {},
   "outputs": [],
   "source": [
    "scTableCustomers = c_linksMerge2.copy()[['year','customer_gvkey','customer_abi']].drop_duplicates()\n",
    "scTableSuppliers = c_linksMerge2.copy()[['year','supplier_gvkey','supplier_abi']].drop_duplicates()"
   ]
  },
  {
   "cell_type": "code",
   "execution_count": null,
   "metadata": {},
   "outputs": [],
   "source": [
    "scTableCustomers.head()"
   ]
  },
  {
   "cell_type": "code",
   "execution_count": null,
   "metadata": {},
   "outputs": [],
   "source": [
    "def makeOneEitherSide(df): \n",
    "    yrPlus1 = df.copy(); yrPlus1['year'] += 1\n",
    "    # yrPlus2 = df.copy(); yrPlus2['year'] += 1\n",
    "    # yrPlus3 = df.copy(); yrPlus3['year'] += 1\n",
    "    \n",
    "    yrMinus1 = df.copy(); yrMinus1['year'] -= 1\n",
    "    # yrMinus2 = df.copy(); yrMinus2['year'] -= 1\n",
    "    # yrMinus3 = df.copy(); yrMinus3['year'] -= 1\n",
    "    \n",
    "    all = pd.concat([yrPlus1,yrMinus1]) # pd.concat([yrPlus1,yrPlus2,yrPlus3,yrMinus1,yrMinus2,yrMinus3])\n",
    "    \n",
    "    return(all)"
   ]
  },
  {
   "cell_type": "code",
   "execution_count": null,
   "metadata": {},
   "outputs": [],
   "source": [
    "allCustomerData = makeOneEitherSide(scTableCustomers)\n",
    "allCustomerData.columns = ['year','gvkey','abi']\n",
    "\n",
    "\n",
    "allSupplierData = makeOneEitherSide(scTableSuppliers)\n",
    "allSupplierData.columns = ['year','gvkey','abi']"
   ]
  },
  {
   "cell_type": "code",
   "execution_count": null,
   "metadata": {},
   "outputs": [],
   "source": [
    "allSupplierData.year"
   ]
  },
  {
   "cell_type": "code",
   "execution_count": null,
   "metadata": {},
   "outputs": [],
   "source": [
    "allAbi = allCustomerData.abi.append(allSupplierData.abi).drop_duplicates()"
   ]
  },
  {
   "cell_type": "code",
   "execution_count": null,
   "metadata": {},
   "outputs": [],
   "source": [
    "hqsOnly = pd.read_csv(\"../../data/ig_uniqueHQs.csv\").drop(columns = {'Unnamed: 0'})"
   ]
  },
  {
   "cell_type": "code",
   "execution_count": null,
   "metadata": {},
   "outputs": [],
   "source": [
    "hqsOnly.head()"
   ]
  },
  {
   "cell_type": "code",
   "execution_count": null,
   "metadata": {},
   "outputs": [],
   "source": [
    "hq = pd.read_csv(\"../../data/ig_uniqueHQs_multLocations.csv\").\\\n",
    "    drop(columns = {'Unnamed: 0'}).\\\n",
    "    rename(columns = {'archive_version_year': 'year'})\n",
    "\n",
    "hq['year'] = hq.year.astype('int64')\n",
    "\n",
    "hqRelevant = hq[hq.abi.isin(allAbi)]"
   ]
  },
  {
   "cell_type": "code",
   "execution_count": null,
   "metadata": {},
   "outputs": [],
   "source": [
    "\n",
    "allSupplierData = allSupplierData.merge(hqRelevant).drop_duplicates()\n",
    "allCustomerData = allCustomerData.merge(hqRelevant).drop_duplicates()"
   ]
  },
  {
   "cell_type": "code",
   "execution_count": null,
   "metadata": {},
   "outputs": [],
   "source": [
    "allSupplierData.head()"
   ]
  },
  {
   "cell_type": "code",
   "execution_count": null,
   "metadata": {},
   "outputs": [],
   "source": [
    "allCustomerData.to_csv(\"../../data/companyData/allCustomerData.csv\")\n",
    "allSupplierData.to_csv(\"../../data/companyData/allSupplierData.csv\")"
   ]
  },
  {
   "cell_type": "markdown",
   "metadata": {},
   "source": [
    "## Find Customer and Supplier pairings and merge with change data\n",
    "### Can pick up here"
   ]
  },
  {
   "cell_type": "code",
   "execution_count": 2,
   "metadata": {},
   "outputs": [],
   "source": [
    "allSupplierData = pd.read_csv(\"../../data/companyData/allSupplierData.csv\").drop(columns = ['Unnamed: 0'])\n",
    "allCustomerData = pd.read_csv(\"../../data/companyData/allCustomerData.csv\").drop(columns = ['Unnamed: 0'])"
   ]
  },
  {
   "cell_type": "code",
   "execution_count": 3,
   "metadata": {},
   "outputs": [
    {
     "name": "stderr",
     "output_type": "stream",
     "text": [
      "/Users/brianreed/opt/anaconda3/lib/python3.7/site-packages/IPython/core/interactiveshell.py:3326: DtypeWarning: Columns (16) have mixed types.Specify dtype option on import or set low_memory=False.\n",
      "  exec(code_obj, self.user_global_ns, self.user_ns)\n"
     ]
    },
    {
     "data": {
      "text/html": [
       "<div>\n",
       "<style scoped>\n",
       "    .dataframe tbody tr th:only-of-type {\n",
       "        vertical-align: middle;\n",
       "    }\n",
       "\n",
       "    .dataframe tbody tr th {\n",
       "        vertical-align: top;\n",
       "    }\n",
       "\n",
       "    .dataframe thead th {\n",
       "        text-align: right;\n",
       "    }\n",
       "</style>\n",
       "<table border=\"1\" class=\"dataframe\">\n",
       "  <thead>\n",
       "    <tr style=\"text-align: right;\">\n",
       "      <th></th>\n",
       "      <th>Unnamed: 0.1</th>\n",
       "      <th>gvkey</th>\n",
       "      <th>datadate</th>\n",
       "      <th>year</th>\n",
       "      <th>qtr</th>\n",
       "      <th>companyName</th>\n",
       "      <th>curcdq</th>\n",
       "      <th>assets</th>\n",
       "      <th>costGoodsSold</th>\n",
       "      <th>totalInv</th>\n",
       "      <th>...</th>\n",
       "      <th>roa_lagged</th>\n",
       "      <th>famafrench</th>\n",
       "      <th>earliestYear</th>\n",
       "      <th>ageTercile</th>\n",
       "      <th>sizeTercile</th>\n",
       "      <th>profitTercile</th>\n",
       "      <th>datacqtr</th>\n",
       "      <th>datafqtr</th>\n",
       "      <th>fyr</th>\n",
       "      <th>DATE</th>\n",
       "    </tr>\n",
       "  </thead>\n",
       "  <tbody>\n",
       "    <tr>\n",
       "      <th>0</th>\n",
       "      <td>0</td>\n",
       "      <td>1010</td>\n",
       "      <td>20010331</td>\n",
       "      <td>2001</td>\n",
       "      <td>1</td>\n",
       "      <td>ACF INDUSTRIES INC</td>\n",
       "      <td>USD</td>\n",
       "      <td>3750.1</td>\n",
       "      <td>56.3</td>\n",
       "      <td>53.9</td>\n",
       "      <td>...</td>\n",
       "      <td>0.005412</td>\n",
       "      <td>26.0</td>\n",
       "      <td>1962</td>\n",
       "      <td>0</td>\n",
       "      <td>2.0</td>\n",
       "      <td>1.0</td>\n",
       "      <td>2001Q1</td>\n",
       "      <td>2001Q1</td>\n",
       "      <td>12</td>\n",
       "      <td>1970-01-01 00:00:00.020010331</td>\n",
       "    </tr>\n",
       "    <tr>\n",
       "      <th>1</th>\n",
       "      <td>1</td>\n",
       "      <td>1010</td>\n",
       "      <td>20010630</td>\n",
       "      <td>2001</td>\n",
       "      <td>2</td>\n",
       "      <td>ACF INDUSTRIES INC</td>\n",
       "      <td>USD</td>\n",
       "      <td>3701.7</td>\n",
       "      <td>30.8</td>\n",
       "      <td>56.2</td>\n",
       "      <td>...</td>\n",
       "      <td>0.021410</td>\n",
       "      <td>26.0</td>\n",
       "      <td>1962</td>\n",
       "      <td>0</td>\n",
       "      <td>2.0</td>\n",
       "      <td>2.0</td>\n",
       "      <td>2001Q2</td>\n",
       "      <td>2001Q2</td>\n",
       "      <td>12</td>\n",
       "      <td>1970-01-01 00:00:00.020010630</td>\n",
       "    </tr>\n",
       "    <tr>\n",
       "      <th>2</th>\n",
       "      <td>2</td>\n",
       "      <td>1010</td>\n",
       "      <td>20010930</td>\n",
       "      <td>2001</td>\n",
       "      <td>3</td>\n",
       "      <td>ACF INDUSTRIES INC</td>\n",
       "      <td>USD</td>\n",
       "      <td>3930.6</td>\n",
       "      <td>37.0</td>\n",
       "      <td>49.8</td>\n",
       "      <td>...</td>\n",
       "      <td>NaN</td>\n",
       "      <td>26.0</td>\n",
       "      <td>1962</td>\n",
       "      <td>0</td>\n",
       "      <td>NaN</td>\n",
       "      <td>NaN</td>\n",
       "      <td>2001Q3</td>\n",
       "      <td>2001Q3</td>\n",
       "      <td>12</td>\n",
       "      <td>1970-01-01 00:00:00.020010930</td>\n",
       "    </tr>\n",
       "    <tr>\n",
       "      <th>3</th>\n",
       "      <td>3</td>\n",
       "      <td>1010</td>\n",
       "      <td>20011231</td>\n",
       "      <td>2001</td>\n",
       "      <td>4</td>\n",
       "      <td>ACF INDUSTRIES INC</td>\n",
       "      <td>USD</td>\n",
       "      <td>3723.1</td>\n",
       "      <td>30.0</td>\n",
       "      <td>42.4</td>\n",
       "      <td>...</td>\n",
       "      <td>-0.011506</td>\n",
       "      <td>26.0</td>\n",
       "      <td>1962</td>\n",
       "      <td>0</td>\n",
       "      <td>2.0</td>\n",
       "      <td>0.0</td>\n",
       "      <td>2001Q4</td>\n",
       "      <td>2001Q4</td>\n",
       "      <td>12</td>\n",
       "      <td>1970-01-01 00:00:00.020011231</td>\n",
       "    </tr>\n",
       "    <tr>\n",
       "      <th>4</th>\n",
       "      <td>4</td>\n",
       "      <td>1010</td>\n",
       "      <td>20020331</td>\n",
       "      <td>2002</td>\n",
       "      <td>1</td>\n",
       "      <td>ACF INDUSTRIES INC</td>\n",
       "      <td>USD</td>\n",
       "      <td>3691.9</td>\n",
       "      <td>26.1</td>\n",
       "      <td>40.6</td>\n",
       "      <td>...</td>\n",
       "      <td>0.019720</td>\n",
       "      <td>26.0</td>\n",
       "      <td>1962</td>\n",
       "      <td>0</td>\n",
       "      <td>2.0</td>\n",
       "      <td>2.0</td>\n",
       "      <td>2002Q1</td>\n",
       "      <td>2002Q1</td>\n",
       "      <td>12</td>\n",
       "      <td>1970-01-01 00:00:00.020020331</td>\n",
       "    </tr>\n",
       "  </tbody>\n",
       "</table>\n",
       "<p>5 rows × 42 columns</p>\n",
       "</div>"
      ],
      "text/plain": [
       "   Unnamed: 0.1  gvkey  datadate  year  qtr         companyName curcdq  \\\n",
       "0             0   1010  20010331  2001    1  ACF INDUSTRIES INC    USD   \n",
       "1             1   1010  20010630  2001    2  ACF INDUSTRIES INC    USD   \n",
       "2             2   1010  20010930  2001    3  ACF INDUSTRIES INC    USD   \n",
       "3             3   1010  20011231  2001    4  ACF INDUSTRIES INC    USD   \n",
       "4             4   1010  20020331  2002    1  ACF INDUSTRIES INC    USD   \n",
       "\n",
       "   assets  costGoodsSold  totalInv  ...  roa_lagged  famafrench  earliestYear  \\\n",
       "0  3750.1           56.3      53.9  ...    0.005412        26.0          1962   \n",
       "1  3701.7           30.8      56.2  ...    0.021410        26.0          1962   \n",
       "2  3930.6           37.0      49.8  ...         NaN        26.0          1962   \n",
       "3  3723.1           30.0      42.4  ...   -0.011506        26.0          1962   \n",
       "4  3691.9           26.1      40.6  ...    0.019720        26.0          1962   \n",
       "\n",
       "  ageTercile sizeTercile profitTercile datacqtr datafqtr  fyr  \\\n",
       "0          0         2.0           1.0   2001Q1   2001Q1   12   \n",
       "1          0         2.0           2.0   2001Q2   2001Q2   12   \n",
       "2          0         NaN           NaN   2001Q3   2001Q3   12   \n",
       "3          0         2.0           0.0   2001Q4   2001Q4   12   \n",
       "4          0         2.0           2.0   2002Q1   2002Q1   12   \n",
       "\n",
       "                            DATE  \n",
       "0  1970-01-01 00:00:00.020010331  \n",
       "1  1970-01-01 00:00:00.020010630  \n",
       "2  1970-01-01 00:00:00.020010930  \n",
       "3  1970-01-01 00:00:00.020011231  \n",
       "4  1970-01-01 00:00:00.020020331  \n",
       "\n",
       "[5 rows x 42 columns]"
      ]
     },
     "execution_count": 3,
     "metadata": {},
     "output_type": "execute_result"
    }
   ],
   "source": [
    "changes = pd.read_csv(\"../../data/companyData/compustatChanges_withControls.csv\").drop(columns = ['Unnamed: 0'])\n",
    "changes.head()"
   ]
  },
  {
   "cell_type": "code",
   "execution_count": 4,
   "metadata": {},
   "outputs": [
    {
     "data": {
      "text/plain": [
       "Index(['ageTercile', 'sizeTercile', 'profitTercile'], dtype='object')"
      ]
     },
     "execution_count": 4,
     "metadata": {},
     "output_type": "execute_result"
    }
   ],
   "source": [
    "changes.columns[changes.columns.str.contains('Tercile')]"
   ]
  },
  {
   "cell_type": "code",
   "execution_count": 5,
   "metadata": {},
   "outputs": [
    {
     "data": {
      "text/html": [
       "<div>\n",
       "<style scoped>\n",
       "    .dataframe tbody tr th:only-of-type {\n",
       "        vertical-align: middle;\n",
       "    }\n",
       "\n",
       "    .dataframe tbody tr th {\n",
       "        vertical-align: top;\n",
       "    }\n",
       "\n",
       "    .dataframe thead th {\n",
       "        text-align: right;\n",
       "    }\n",
       "</style>\n",
       "<table border=\"1\" class=\"dataframe\">\n",
       "  <thead>\n",
       "    <tr style=\"text-align: right;\">\n",
       "      <th></th>\n",
       "      <th>year</th>\n",
       "      <th>gvkey</th>\n",
       "      <th>abi</th>\n",
       "      <th>ticker</th>\n",
       "      <th>company</th>\n",
       "      <th>state</th>\n",
       "      <th>city</th>\n",
       "      <th>address_line_1</th>\n",
       "      <th>zipcode</th>\n",
       "      <th>latitude</th>\n",
       "      <th>longitude</th>\n",
       "      <th>parent_employee_size_code</th>\n",
       "      <th>location_employee_size_code</th>\n",
       "      <th>employeesAtLocation</th>\n",
       "    </tr>\n",
       "  </thead>\n",
       "  <tbody>\n",
       "    <tr>\n",
       "      <th>0</th>\n",
       "      <td>2003</td>\n",
       "      <td>1013</td>\n",
       "      <td>7523129</td>\n",
       "      <td>NaN</td>\n",
       "      <td>ADC TELECOMMUNICATIONS INC</td>\n",
       "      <td>MN</td>\n",
       "      <td>EDEN PRAIRIE</td>\n",
       "      <td>13625 TECHNOLOGY DR</td>\n",
       "      <td>55344</td>\n",
       "      <td>44.85645</td>\n",
       "      <td>-93.45199</td>\n",
       "      <td>250.0</td>\n",
       "      <td>250.0</td>\n",
       "      <td>1.0</td>\n",
       "    </tr>\n",
       "    <tr>\n",
       "      <th>1</th>\n",
       "      <td>2005</td>\n",
       "      <td>1013</td>\n",
       "      <td>7523129</td>\n",
       "      <td>NaN</td>\n",
       "      <td>ADC TELECOMMUNICATIONS INC</td>\n",
       "      <td>MN</td>\n",
       "      <td>EDEN PRAIRIE</td>\n",
       "      <td>13625 TECHNOLOGY DR</td>\n",
       "      <td>55344</td>\n",
       "      <td>44.85645</td>\n",
       "      <td>-93.45199</td>\n",
       "      <td>250.0</td>\n",
       "      <td>250.0</td>\n",
       "      <td>1.0</td>\n",
       "    </tr>\n",
       "    <tr>\n",
       "      <th>2</th>\n",
       "      <td>2006</td>\n",
       "      <td>1013</td>\n",
       "      <td>7523129</td>\n",
       "      <td>NaN</td>\n",
       "      <td>ADC TELECOMMUNICATIONS INC</td>\n",
       "      <td>MN</td>\n",
       "      <td>EDEN PRAIRIE</td>\n",
       "      <td>13625 TECHNOLOGY DR</td>\n",
       "      <td>55344</td>\n",
       "      <td>44.85645</td>\n",
       "      <td>-93.45199</td>\n",
       "      <td>250.0</td>\n",
       "      <td>250.0</td>\n",
       "      <td>1.0</td>\n",
       "    </tr>\n",
       "    <tr>\n",
       "      <th>3</th>\n",
       "      <td>2007</td>\n",
       "      <td>1013</td>\n",
       "      <td>7523129</td>\n",
       "      <td>NaN</td>\n",
       "      <td>ADC TELECOMMUNICATIONS INC</td>\n",
       "      <td>MN</td>\n",
       "      <td>EDEN PRAIRIE</td>\n",
       "      <td>13625 TECHNOLOGY DR</td>\n",
       "      <td>55344</td>\n",
       "      <td>44.85645</td>\n",
       "      <td>-93.45199</td>\n",
       "      <td>250.0</td>\n",
       "      <td>250.0</td>\n",
       "      <td>1.0</td>\n",
       "    </tr>\n",
       "    <tr>\n",
       "      <th>4</th>\n",
       "      <td>2008</td>\n",
       "      <td>1013</td>\n",
       "      <td>7523129</td>\n",
       "      <td>NaN</td>\n",
       "      <td>ADC TELECOMMUNICATIONS INC</td>\n",
       "      <td>MN</td>\n",
       "      <td>EDEN PRAIRIE</td>\n",
       "      <td>13625 TECHNOLOGY DR</td>\n",
       "      <td>55344</td>\n",
       "      <td>44.85645</td>\n",
       "      <td>-93.45199</td>\n",
       "      <td>250.0</td>\n",
       "      <td>250.0</td>\n",
       "      <td>1.0</td>\n",
       "    </tr>\n",
       "  </tbody>\n",
       "</table>\n",
       "</div>"
      ],
      "text/plain": [
       "   year  gvkey      abi ticker                     company state  \\\n",
       "0  2003   1013  7523129    NaN  ADC TELECOMMUNICATIONS INC    MN   \n",
       "1  2005   1013  7523129    NaN  ADC TELECOMMUNICATIONS INC    MN   \n",
       "2  2006   1013  7523129    NaN  ADC TELECOMMUNICATIONS INC    MN   \n",
       "3  2007   1013  7523129    NaN  ADC TELECOMMUNICATIONS INC    MN   \n",
       "4  2008   1013  7523129    NaN  ADC TELECOMMUNICATIONS INC    MN   \n",
       "\n",
       "           city       address_line_1  zipcode  latitude  longitude  \\\n",
       "0  EDEN PRAIRIE  13625 TECHNOLOGY DR    55344  44.85645  -93.45199   \n",
       "1  EDEN PRAIRIE  13625 TECHNOLOGY DR    55344  44.85645  -93.45199   \n",
       "2  EDEN PRAIRIE  13625 TECHNOLOGY DR    55344  44.85645  -93.45199   \n",
       "3  EDEN PRAIRIE  13625 TECHNOLOGY DR    55344  44.85645  -93.45199   \n",
       "4  EDEN PRAIRIE  13625 TECHNOLOGY DR    55344  44.85645  -93.45199   \n",
       "\n",
       "   parent_employee_size_code  location_employee_size_code  employeesAtLocation  \n",
       "0                      250.0                        250.0                  1.0  \n",
       "1                      250.0                        250.0                  1.0  \n",
       "2                      250.0                        250.0                  1.0  \n",
       "3                      250.0                        250.0                  1.0  \n",
       "4                      250.0                        250.0                  1.0  "
      ]
     },
     "execution_count": 5,
     "metadata": {},
     "output_type": "execute_result"
    }
   ],
   "source": [
    "allSupplierData.head()"
   ]
  },
  {
   "cell_type": "code",
   "execution_count": 6,
   "metadata": {},
   "outputs": [],
   "source": [
    "# allSupplierData.zipcode.drop_duplicates().to_csv(\"../../data/companyData/uniqueZIPS.csv\")"
   ]
  },
  {
   "cell_type": "code",
   "execution_count": 7,
   "metadata": {},
   "outputs": [
    {
     "data": {
      "text/plain": [
       "(49996, 44)"
      ]
     },
     "execution_count": 7,
     "metadata": {},
     "output_type": "execute_result"
    }
   ],
   "source": [
    "suppliers = changes.merge(allSupplierData[['year','gvkey','zipcode','employeesAtLocation']])\n",
    "suppliers.shape"
   ]
  },
  {
   "cell_type": "code",
   "execution_count": 8,
   "metadata": {},
   "outputs": [
    {
     "data": {
      "text/html": [
       "<div>\n",
       "<style scoped>\n",
       "    .dataframe tbody tr th:only-of-type {\n",
       "        vertical-align: middle;\n",
       "    }\n",
       "\n",
       "    .dataframe tbody tr th {\n",
       "        vertical-align: top;\n",
       "    }\n",
       "\n",
       "    .dataframe thead th {\n",
       "        text-align: right;\n",
       "    }\n",
       "</style>\n",
       "<table border=\"1\" class=\"dataframe\">\n",
       "  <thead>\n",
       "    <tr style=\"text-align: right;\">\n",
       "      <th></th>\n",
       "      <th>Unnamed: 0.1</th>\n",
       "      <th>gvkey</th>\n",
       "      <th>datadate</th>\n",
       "      <th>year</th>\n",
       "      <th>qtr</th>\n",
       "      <th>companyName</th>\n",
       "      <th>curcdq</th>\n",
       "      <th>assets</th>\n",
       "      <th>costGoodsSold</th>\n",
       "      <th>totalInv</th>\n",
       "      <th>...</th>\n",
       "      <th>earliestYear</th>\n",
       "      <th>ageTercile</th>\n",
       "      <th>sizeTercile</th>\n",
       "      <th>profitTercile</th>\n",
       "      <th>datacqtr</th>\n",
       "      <th>datafqtr</th>\n",
       "      <th>fyr</th>\n",
       "      <th>DATE</th>\n",
       "      <th>zipcode</th>\n",
       "      <th>employeesAtLocation</th>\n",
       "    </tr>\n",
       "  </thead>\n",
       "  <tbody>\n",
       "    <tr>\n",
       "      <th>0</th>\n",
       "      <td>121</td>\n",
       "      <td>1045</td>\n",
       "      <td>20030331</td>\n",
       "      <td>2003</td>\n",
       "      <td>1</td>\n",
       "      <td>AMERICAN AIRLINES GROUP INC</td>\n",
       "      <td>USD</td>\n",
       "      <td>29086.0</td>\n",
       "      <td>3943.0</td>\n",
       "      <td>618.0</td>\n",
       "      <td>...</td>\n",
       "      <td>1963</td>\n",
       "      <td>0</td>\n",
       "      <td>2.0</td>\n",
       "      <td>1.0</td>\n",
       "      <td>2003Q1</td>\n",
       "      <td>2003Q1</td>\n",
       "      <td>12</td>\n",
       "      <td>1970-01-01 00:00:00.020030331</td>\n",
       "      <td>76155</td>\n",
       "      <td>1.0</td>\n",
       "    </tr>\n",
       "    <tr>\n",
       "      <th>1</th>\n",
       "      <td>122</td>\n",
       "      <td>1045</td>\n",
       "      <td>20030630</td>\n",
       "      <td>2003</td>\n",
       "      <td>2</td>\n",
       "      <td>AMERICAN AIRLINES GROUP INC</td>\n",
       "      <td>USD</td>\n",
       "      <td>29220.0</td>\n",
       "      <td>3589.0</td>\n",
       "      <td>557.0</td>\n",
       "      <td>...</td>\n",
       "      <td>1963</td>\n",
       "      <td>0</td>\n",
       "      <td>2.0</td>\n",
       "      <td>0.0</td>\n",
       "      <td>2003Q2</td>\n",
       "      <td>2003Q2</td>\n",
       "      <td>12</td>\n",
       "      <td>1970-01-01 00:00:00.020030630</td>\n",
       "      <td>76155</td>\n",
       "      <td>1.0</td>\n",
       "    </tr>\n",
       "    <tr>\n",
       "      <th>2</th>\n",
       "      <td>123</td>\n",
       "      <td>1045</td>\n",
       "      <td>20030930</td>\n",
       "      <td>2003</td>\n",
       "      <td>3</td>\n",
       "      <td>AMERICAN AIRLINES GROUP INC</td>\n",
       "      <td>USD</td>\n",
       "      <td>29943.0</td>\n",
       "      <td>3525.0</td>\n",
       "      <td>527.0</td>\n",
       "      <td>...</td>\n",
       "      <td>1963</td>\n",
       "      <td>0</td>\n",
       "      <td>2.0</td>\n",
       "      <td>0.0</td>\n",
       "      <td>2003Q3</td>\n",
       "      <td>2003Q3</td>\n",
       "      <td>12</td>\n",
       "      <td>1970-01-01 00:00:00.020030930</td>\n",
       "      <td>76155</td>\n",
       "      <td>1.0</td>\n",
       "    </tr>\n",
       "    <tr>\n",
       "      <th>3</th>\n",
       "      <td>124</td>\n",
       "      <td>1045</td>\n",
       "      <td>20031231</td>\n",
       "      <td>2003</td>\n",
       "      <td>4</td>\n",
       "      <td>AMERICAN AIRLINES GROUP INC</td>\n",
       "      <td>USD</td>\n",
       "      <td>29330.0</td>\n",
       "      <td>3373.0</td>\n",
       "      <td>516.0</td>\n",
       "      <td>...</td>\n",
       "      <td>1963</td>\n",
       "      <td>0</td>\n",
       "      <td>2.0</td>\n",
       "      <td>0.0</td>\n",
       "      <td>2003Q4</td>\n",
       "      <td>2003Q4</td>\n",
       "      <td>12</td>\n",
       "      <td>1970-01-01 00:00:00.020031231</td>\n",
       "      <td>76155</td>\n",
       "      <td>1.0</td>\n",
       "    </tr>\n",
       "    <tr>\n",
       "      <th>4</th>\n",
       "      <td>125</td>\n",
       "      <td>1045</td>\n",
       "      <td>20040331</td>\n",
       "      <td>2004</td>\n",
       "      <td>1</td>\n",
       "      <td>AMERICAN AIRLINES GROUP INC</td>\n",
       "      <td>USD</td>\n",
       "      <td>29950.0</td>\n",
       "      <td>3562.0</td>\n",
       "      <td>490.0</td>\n",
       "      <td>...</td>\n",
       "      <td>1963</td>\n",
       "      <td>0</td>\n",
       "      <td>2.0</td>\n",
       "      <td>0.0</td>\n",
       "      <td>2004Q1</td>\n",
       "      <td>2004Q1</td>\n",
       "      <td>12</td>\n",
       "      <td>1970-01-01 00:00:00.020040331</td>\n",
       "      <td>76155</td>\n",
       "      <td>1.0</td>\n",
       "    </tr>\n",
       "  </tbody>\n",
       "</table>\n",
       "<p>5 rows × 44 columns</p>\n",
       "</div>"
      ],
      "text/plain": [
       "   Unnamed: 0.1  gvkey  datadate  year  qtr                  companyName  \\\n",
       "0           121   1045  20030331  2003    1  AMERICAN AIRLINES GROUP INC   \n",
       "1           122   1045  20030630  2003    2  AMERICAN AIRLINES GROUP INC   \n",
       "2           123   1045  20030930  2003    3  AMERICAN AIRLINES GROUP INC   \n",
       "3           124   1045  20031231  2003    4  AMERICAN AIRLINES GROUP INC   \n",
       "4           125   1045  20040331  2004    1  AMERICAN AIRLINES GROUP INC   \n",
       "\n",
       "  curcdq   assets  costGoodsSold  totalInv  ...  earliestYear  ageTercile  \\\n",
       "0    USD  29086.0         3943.0     618.0  ...          1963           0   \n",
       "1    USD  29220.0         3589.0     557.0  ...          1963           0   \n",
       "2    USD  29943.0         3525.0     527.0  ...          1963           0   \n",
       "3    USD  29330.0         3373.0     516.0  ...          1963           0   \n",
       "4    USD  29950.0         3562.0     490.0  ...          1963           0   \n",
       "\n",
       "   sizeTercile profitTercile datacqtr datafqtr fyr  \\\n",
       "0          2.0           1.0   2003Q1   2003Q1  12   \n",
       "1          2.0           0.0   2003Q2   2003Q2  12   \n",
       "2          2.0           0.0   2003Q3   2003Q3  12   \n",
       "3          2.0           0.0   2003Q4   2003Q4  12   \n",
       "4          2.0           0.0   2004Q1   2004Q1  12   \n",
       "\n",
       "                            DATE  zipcode employeesAtLocation  \n",
       "0  1970-01-01 00:00:00.020030331    76155                 1.0  \n",
       "1  1970-01-01 00:00:00.020030630    76155                 1.0  \n",
       "2  1970-01-01 00:00:00.020030930    76155                 1.0  \n",
       "3  1970-01-01 00:00:00.020031231    76155                 1.0  \n",
       "4  1970-01-01 00:00:00.020040331    76155                 1.0  \n",
       "\n",
       "[5 rows x 44 columns]"
      ]
     },
     "execution_count": 8,
     "metadata": {},
     "output_type": "execute_result"
    }
   ],
   "source": [
    "customers = changes.merge(allCustomerData[['year','gvkey','zipcode','employeesAtLocation']])\n",
    "customers.head()"
   ]
  },
  {
   "cell_type": "code",
   "execution_count": 9,
   "metadata": {},
   "outputs": [
    {
     "name": "stdout",
     "output_type": "stream",
     "text": [
      "(9603, 14) (15529, 14)\n"
     ]
    }
   ],
   "source": [
    "print(allCustomerData.shape,allSupplierData.shape)"
   ]
  },
  {
   "cell_type": "markdown",
   "metadata": {},
   "source": [
    "---------------------------------"
   ]
  },
  {
   "cell_type": "markdown",
   "metadata": {},
   "source": [
    "# Get all change data together\n",
    "Get the linking table and merge the abi labels into the change df. \n",
    "\n",
    "Then, merge the location data into the change data and get as complete a record of companies as possible given the HQ data."
   ]
  },
  {
   "cell_type": "code",
   "execution_count": 10,
   "metadata": {},
   "outputs": [
    {
     "name": "stderr",
     "output_type": "stream",
     "text": [
      "/Users/brianreed/opt/anaconda3/lib/python3.7/site-packages/IPython/core/interactiveshell.py:3326: DtypeWarning: Columns (16) have mixed types.Specify dtype option on import or set low_memory=False.\n",
      "  exec(code_obj, self.user_global_ns, self.user_ns)\n"
     ]
    },
    {
     "name": "stdout",
     "output_type": "stream",
     "text": [
      "(645951, 42)    Unnamed: 0.1  gvkey  datadate  year  qtr         companyName curcdq  \\\n",
      "0             0   1010  20010331  2001    1  ACF INDUSTRIES INC    USD   \n",
      "1             1   1010  20010630  2001    2  ACF INDUSTRIES INC    USD   \n",
      "2             2   1010  20010930  2001    3  ACF INDUSTRIES INC    USD   \n",
      "3             3   1010  20011231  2001    4  ACF INDUSTRIES INC    USD   \n",
      "4             4   1010  20020331  2002    1  ACF INDUSTRIES INC    USD   \n",
      "\n",
      "   assets  costGoodsSold  totalInv  ...  roa_lagged  famafrench  earliestYear  \\\n",
      "0  3750.1           56.3      53.9  ...    0.005412        26.0          1962   \n",
      "1  3701.7           30.8      56.2  ...    0.021410        26.0          1962   \n",
      "2  3930.6           37.0      49.8  ...         NaN        26.0          1962   \n",
      "3  3723.1           30.0      42.4  ...   -0.011506        26.0          1962   \n",
      "4  3691.9           26.1      40.6  ...    0.019720        26.0          1962   \n",
      "\n",
      "  ageTercile sizeTercile profitTercile datacqtr datafqtr  fyr  \\\n",
      "0          0         2.0           1.0   2001Q1   2001Q1   12   \n",
      "1          0         2.0           2.0   2001Q2   2001Q2   12   \n",
      "2          0         NaN           NaN   2001Q3   2001Q3   12   \n",
      "3          0         2.0           0.0   2001Q4   2001Q4   12   \n",
      "4          0         2.0           2.0   2002Q1   2002Q1   12   \n",
      "\n",
      "                            DATE  \n",
      "0  1970-01-01 00:00:00.020010331  \n",
      "1  1970-01-01 00:00:00.020010630  \n",
      "2  1970-01-01 00:00:00.020010930  \n",
      "3  1970-01-01 00:00:00.020011231  \n",
      "4  1970-01-01 00:00:00.020020331  \n",
      "\n",
      "[5 rows x 42 columns]\n",
      "(313403, 44)    Unnamed: 0.1  gvkey  datadate  year  qtr                 companyName  \\\n",
      "0            14   1013  20091231  2009    4  ADC TELECOMMUNICATIONS INC   \n",
      "1            15   1013  20100331  2010    1  ADC TELECOMMUNICATIONS INC   \n",
      "2            16   1013  20100630  2010    2  ADC TELECOMMUNICATIONS INC   \n",
      "3            17   1013  20100930  2010    3  ADC TELECOMMUNICATIONS INC   \n",
      "4            18   1019  20010331  2001    1  AFA PROTECTIVE SYSTEMS INC   \n",
      "\n",
      "  curcdq  assets  costGoodsSold  totalInv  ...  sizeTercile  profitTercile  \\\n",
      "0    USD  1336.1          157.9     123.9  ...          2.0            0.0   \n",
      "1    USD  1345.1          158.5     122.8  ...          2.0            1.0   \n",
      "2    USD  1415.0          176.2     116.3  ...          2.0            1.0   \n",
      "3    USD  1474.5          184.6     106.4  ...          2.0            0.0   \n",
      "4    USD     NaN            NaN       NaN  ...          NaN            NaN   \n",
      "\n",
      "   datacqtr datafqtr fyr                           DATE  \\\n",
      "0    2009Q4   2010Q1   9  1970-01-01 00:00:00.020091231   \n",
      "1    2010Q1   2010Q2   9  1970-01-01 00:00:00.020100331   \n",
      "2    2010Q2   2010Q3   9  1970-01-01 00:00:00.020100630   \n",
      "3    2010Q3   2010Q4   9  1970-01-01 00:00:00.020100930   \n",
      "4    2001Q1   2001Q1  12  1970-01-01 00:00:00.020010331   \n",
      "\n",
      "           cstatCompanies             igCompanies  delete        abi  \n",
      "0  adc telecommunications  adc telecommunications     NaN    7523129  \n",
      "1  adc telecommunications  adc telecommunications     NaN    7523129  \n",
      "2  adc telecommunications  adc telecommunications     NaN    7523129  \n",
      "3  adc telecommunications  adc telecommunications     NaN    7523129  \n",
      "4  afa protective systems  afa protective systems     NaN  317110880  \n",
      "\n",
      "[5 rows x 44 columns]\n"
     ]
    }
   ],
   "source": [
    "gvKey_abiLinkingTable = pd.read_csv('../../data/companyData/linkingTable.csv').drop(columns = ['Unnamed: 0'])\n",
    "\n",
    "changes = pd.read_csv(\"../../data/companyData/compustatChanges_withControls.csv\").drop(columns = ['Unnamed: 0'])\n",
    "print(changes.shape, changes.head())\n",
    "\n",
    "\n",
    "changesABI = changes.merge(gvKey_abiLinkingTable, on ='gvkey').drop(columns = {'state','city'})\n",
    "print(changesABI.shape, changesABI.head())"
   ]
  },
  {
   "cell_type": "markdown",
   "metadata": {},
   "source": [
    "Now merge in the hq information."
   ]
  },
  {
   "cell_type": "code",
   "execution_count": 11,
   "metadata": {},
   "outputs": [
    {
     "data": {
      "text/plain": [
       "array(['MO', 'MN', 'NY', 'NJ', 'PA', 'TX', 'SC', 'AZ', 'UT', 'IL', 'MA',\n",
       "       'WA', 'CT', 'FL', 'CA', 'MD', 'NC', 'AL', 'HI', 'OH', 'AR', 'GA',\n",
       "       'CO', 'NV', 'KS', 'ID', 'WI', 'ME', 'WY', 'VA', 'OK', 'VT', 'DE',\n",
       "       'IN', 'PR', 'IA', 'MI', 'LA', 'RI', 'NE', 'MT', 'SD', 'OR', 'DC',\n",
       "       'WV', 'KY', 'TN', 'MS', 'ND', 'NH', 'NM', 'VI', 'AK', 'GU'],\n",
       "      dtype=object)"
      ]
     },
     "execution_count": 11,
     "metadata": {},
     "output_type": "execute_result"
    }
   ],
   "source": [
    "canadian = ['ON', 'AB','QC', 'BC', 'NS', 'NF', 'SK', 'MB', 'NB']\n",
    "changes = changes[~(changes.state.isin(canadian)) & ~changes.state.isna()]\n",
    "\n",
    "changes['addzip'] = changes.addzip.astype('str').str.slice(0,5)\n",
    "\n",
    "changes.state.unique()"
   ]
  },
  {
   "cell_type": "code",
   "execution_count": 12,
   "metadata": {},
   "outputs": [],
   "source": [
    "changes.drop(columns = {'Unnamed: 0.1'}, inplace = True)"
   ]
  },
  {
   "cell_type": "code",
   "execution_count": 13,
   "metadata": {},
   "outputs": [
    {
     "name": "stdout",
     "output_type": "stream",
     "text": [
      "(241835, 55)    Unnamed: 0.1  gvkey  datadate  year  qtr                  companyName  \\\n",
      "0            14   1013  20091231  2009    4   ADC TELECOMMUNICATIONS INC   \n",
      "1            15   1013  20100331  2010    1   ADC TELECOMMUNICATIONS INC   \n",
      "2            16   1013  20100630  2010    2   ADC TELECOMMUNICATIONS INC   \n",
      "3            17   1013  20100930  2010    3   ADC TELECOMMUNICATIONS INC   \n",
      "4           121   1045  20030331  2003    1  AMERICAN AIRLINES GROUP INC   \n",
      "\n",
      "  curcdq   assets  costGoodsSold  totalInv  ...                     company  \\\n",
      "0    USD   1336.1          157.9     123.9  ...  ADC TELECOMMUNICATIONS INC   \n",
      "1    USD   1345.1          158.5     122.8  ...  ADC TELECOMMUNICATIONS INC   \n",
      "2    USD   1415.0          176.2     116.3  ...  ADC TELECOMMUNICATIONS INC   \n",
      "3    USD   1474.5          184.6     106.4  ...  ADC TELECOMMUNICATIONS INC   \n",
      "4    USD  29086.0         3943.0     618.0  ...                    AMR CORP   \n",
      "\n",
      "   state          city         address_line_1 zipcode  latitude longitude  \\\n",
      "0     MN  EDEN PRAIRIE    13625 TECHNOLOGY DR   55344  44.85645 -93.45199   \n",
      "1     MN  EDEN PRAIRIE    13625 TECHNOLOGY DR   55344  44.85645 -93.45199   \n",
      "2     MN  EDEN PRAIRIE    13625 TECHNOLOGY DR   55344  44.85645 -93.45199   \n",
      "3     MN  EDEN PRAIRIE    13625 TECHNOLOGY DR   55344  44.85645 -93.45199   \n",
      "4     TX    FORT WORTH  4333 AMON CARTER BLVD   76155  32.82563 -97.05057   \n",
      "\n",
      "   parent_employee_size_code  location_employee_size_code  employeesAtLocation  \n",
      "0                      250.0                        250.0                  1.0  \n",
      "1                      250.0                        250.0                  1.0  \n",
      "2                      250.0                        250.0                  1.0  \n",
      "3                      250.0                        250.0                  1.0  \n",
      "4                     1000.0                       1000.0                  1.0  \n",
      "\n",
      "[5 rows x 55 columns]\n"
     ]
    },
    {
     "data": {
      "text/html": [
       "<div>\n",
       "<style scoped>\n",
       "    .dataframe tbody tr th:only-of-type {\n",
       "        vertical-align: middle;\n",
       "    }\n",
       "\n",
       "    .dataframe tbody tr th {\n",
       "        vertical-align: top;\n",
       "    }\n",
       "\n",
       "    .dataframe thead th {\n",
       "        text-align: right;\n",
       "    }\n",
       "</style>\n",
       "<table border=\"1\" class=\"dataframe\">\n",
       "  <thead>\n",
       "    <tr style=\"text-align: right;\">\n",
       "      <th></th>\n",
       "      <th>abi</th>\n",
       "      <th>ticker</th>\n",
       "      <th>company</th>\n",
       "      <th>year</th>\n",
       "      <th>state</th>\n",
       "      <th>city</th>\n",
       "      <th>address_line_1</th>\n",
       "      <th>zipcode</th>\n",
       "      <th>latitude</th>\n",
       "      <th>longitude</th>\n",
       "      <th>parent_employee_size_code</th>\n",
       "      <th>location_employee_size_code</th>\n",
       "      <th>employeesAtLocation</th>\n",
       "    </tr>\n",
       "  </thead>\n",
       "  <tbody>\n",
       "    <tr>\n",
       "      <th>0</th>\n",
       "      <td>7609</td>\n",
       "      <td>SODI</td>\n",
       "      <td>SOLITRON DEVICES INC</td>\n",
       "      <td>2003</td>\n",
       "      <td>FL</td>\n",
       "      <td>WEST PALM BEACH</td>\n",
       "      <td>3301 ELECTRONICS WAY # C</td>\n",
       "      <td>33407</td>\n",
       "      <td>26.74120</td>\n",
       "      <td>-80.06694</td>\n",
       "      <td>NaN</td>\n",
       "      <td>NaN</td>\n",
       "      <td>NaN</td>\n",
       "    </tr>\n",
       "    <tr>\n",
       "      <th>1</th>\n",
       "      <td>23077</td>\n",
       "      <td>NaN</td>\n",
       "      <td>JENNY LEE BAKERY</td>\n",
       "      <td>2003</td>\n",
       "      <td>PA</td>\n",
       "      <td>MC KEES ROCKS</td>\n",
       "      <td>620 ISLAND AVE</td>\n",
       "      <td>15136</td>\n",
       "      <td>40.47235</td>\n",
       "      <td>-80.06152</td>\n",
       "      <td>50.0</td>\n",
       "      <td>50.0</td>\n",
       "      <td>1.0</td>\n",
       "    </tr>\n",
       "    <tr>\n",
       "      <th>2</th>\n",
       "      <td>76547</td>\n",
       "      <td>NaN</td>\n",
       "      <td>MASTER PROTECTION CORP</td>\n",
       "      <td>2003</td>\n",
       "      <td>FL</td>\n",
       "      <td>FORT MYERS</td>\n",
       "      <td>12800 UNIVERSITY DR # 400</td>\n",
       "      <td>33907</td>\n",
       "      <td>26.55504</td>\n",
       "      <td>-81.88423</td>\n",
       "      <td>20.0</td>\n",
       "      <td>20.0</td>\n",
       "      <td>1.0</td>\n",
       "    </tr>\n",
       "    <tr>\n",
       "      <th>3</th>\n",
       "      <td>77743</td>\n",
       "      <td>NaN</td>\n",
       "      <td>NATIONAL TECHNICAL SYSTEMS INC</td>\n",
       "      <td>2003</td>\n",
       "      <td>CA</td>\n",
       "      <td>CALABASAS</td>\n",
       "      <td>24007 VENTURA BLVD # 200</td>\n",
       "      <td>91302</td>\n",
       "      <td>34.15562</td>\n",
       "      <td>-118.65163</td>\n",
       "      <td>10.0</td>\n",
       "      <td>10.0</td>\n",
       "      <td>1.0</td>\n",
       "    </tr>\n",
       "    <tr>\n",
       "      <th>4</th>\n",
       "      <td>89151</td>\n",
       "      <td>NaN</td>\n",
       "      <td>HILLTOP BASIC RESOURCES</td>\n",
       "      <td>2003</td>\n",
       "      <td>OH</td>\n",
       "      <td>CINCINNATI</td>\n",
       "      <td>1 W 4TH ST # 1100</td>\n",
       "      <td>45202</td>\n",
       "      <td>39.09982</td>\n",
       "      <td>-84.51297</td>\n",
       "      <td>20.0</td>\n",
       "      <td>20.0</td>\n",
       "      <td>1.0</td>\n",
       "    </tr>\n",
       "  </tbody>\n",
       "</table>\n",
       "</div>"
      ],
      "text/plain": [
       "     abi ticker                         company  year state             city  \\\n",
       "0   7609   SODI            SOLITRON DEVICES INC  2003    FL  WEST PALM BEACH   \n",
       "1  23077    NaN                JENNY LEE BAKERY  2003    PA    MC KEES ROCKS   \n",
       "2  76547    NaN          MASTER PROTECTION CORP  2003    FL       FORT MYERS   \n",
       "3  77743    NaN  NATIONAL TECHNICAL SYSTEMS INC  2003    CA        CALABASAS   \n",
       "4  89151    NaN         HILLTOP BASIC RESOURCES  2003    OH       CINCINNATI   \n",
       "\n",
       "              address_line_1  zipcode  latitude  longitude  \\\n",
       "0   3301 ELECTRONICS WAY # C    33407  26.74120  -80.06694   \n",
       "1             620 ISLAND AVE    15136  40.47235  -80.06152   \n",
       "2  12800 UNIVERSITY DR # 400    33907  26.55504  -81.88423   \n",
       "3   24007 VENTURA BLVD # 200    91302  34.15562 -118.65163   \n",
       "4          1 W 4TH ST # 1100    45202  39.09982  -84.51297   \n",
       "\n",
       "   parent_employee_size_code  location_employee_size_code  employeesAtLocation  \n",
       "0                        NaN                          NaN                  NaN  \n",
       "1                       50.0                         50.0                  1.0  \n",
       "2                       20.0                         20.0                  1.0  \n",
       "3                       10.0                         10.0                  1.0  \n",
       "4                       20.0                         20.0                  1.0  "
      ]
     },
     "execution_count": 13,
     "metadata": {},
     "output_type": "execute_result"
    }
   ],
   "source": [
    "hq = pd.read_csv(\"../../data/ig_uniqueHQs_multLocations.csv\").\\\n",
    "    drop(columns = {'Unnamed: 0'}).\\\n",
    "    rename(columns = {'archive_version_year': 'year'})\n",
    "\n",
    "hq['year'] = hq.year.astype('int64')\n",
    "\n",
    "igChanges = changesABI.merge(hq)\n",
    "print(igChanges.shape, igChanges.head())\n",
    "\n",
    "\n",
    "hq.head()"
   ]
  },
  {
   "cell_type": "code",
   "execution_count": 14,
   "metadata": {},
   "outputs": [],
   "source": [
    "igChanges.to_csv(\"../../data/companyData/igData.csv\")"
   ]
  },
  {
   "cell_type": "markdown",
   "metadata": {},
   "source": [
    "At this point, we have zip information in the following forms (from most to least examples):\n",
    "    - changes: all compustat companies, from the compustat address system\n",
    "    - igChanges: subset of compustat companies, from the ig merge\n",
    "    - subset of compustat companies that have SC information and survived the ig merge\n",
    "    \n",
    "We could potentially look at the subset of compustat companies for which we have SC information, usign the compustat address system as well.\n",
    "\n",
    "For now: follow similar trajectory as before but add in weather data for all cstat companies and all ig-merged companies.\n",
    "\n",
    "First: pull all zips that are mentioned in changes and igChanges and use this to get the weather data.\n",
    "\n"
   ]
  },
  {
   "cell_type": "code",
   "execution_count": 15,
   "metadata": {},
   "outputs": [],
   "source": [
    "changes = changes[(~changes.addzip.isna()) & (changes.addzip != 'nan')]\n",
    "relevantZips = changes.addzip.astype('int64').append(igChanges.zipcode).unique()"
   ]
  },
  {
   "cell_type": "code",
   "execution_count": 16,
   "metadata": {},
   "outputs": [
    {
     "data": {
      "text/plain": [
       "4538"
      ]
     },
     "execution_count": 16,
     "metadata": {},
     "output_type": "execute_result"
    }
   ],
   "source": [
    "len(relevantZips)"
   ]
  },
  {
   "cell_type": "code",
   "execution_count": 17,
   "metadata": {},
   "outputs": [],
   "source": [
    "# relevantZips = allCustomerData.zipcode.append(allSupplierData.zipcode).unique()\n",
    "outfile =  '../../data/companyData/relevantZips.pkl'\n",
    "with open(outfile, 'wb') as pickle_file:\n",
    "    pkl.dump(relevantZips, pickle_file)"
   ]
  },
  {
   "cell_type": "markdown",
   "metadata": {},
   "source": [
    "------------------------------------------------"
   ]
  },
  {
   "cell_type": "markdown",
   "metadata": {},
   "source": [
    "# Weather Data"
   ]
  },
  {
   "cell_type": "code",
   "execution_count": 18,
   "metadata": {},
   "outputs": [
    {
     "name": "stdout",
     "output_type": "stream",
     "text": [
      "4456\n"
     ]
    },
    {
     "data": {
      "text/html": [
       "<div>\n",
       "<style scoped>\n",
       "    .dataframe tbody tr th:only-of-type {\n",
       "        vertical-align: middle;\n",
       "    }\n",
       "\n",
       "    .dataframe tbody tr th {\n",
       "        vertical-align: top;\n",
       "    }\n",
       "\n",
       "    .dataframe thead th {\n",
       "        text-align: right;\n",
       "    }\n",
       "</style>\n",
       "<table border=\"1\" class=\"dataframe\">\n",
       "  <thead>\n",
       "    <tr style=\"text-align: right;\">\n",
       "      <th></th>\n",
       "      <th>zipcode</th>\n",
       "      <th>quarterly_avg_precip</th>\n",
       "      <th>quarterly_median_precip</th>\n",
       "      <th>quarterly_variance_precip</th>\n",
       "      <th>quarterly_avg_temp</th>\n",
       "      <th>quarterly_median_temp</th>\n",
       "      <th>quarterly_variance_temp</th>\n",
       "      <th>qtr</th>\n",
       "    </tr>\n",
       "  </thead>\n",
       "  <tbody>\n",
       "    <tr>\n",
       "      <th>0</th>\n",
       "      <td>1001</td>\n",
       "      <td>2.866177</td>\n",
       "      <td>0.0</td>\n",
       "      <td>48.053550</td>\n",
       "      <td>4.253855</td>\n",
       "      <td>3.9460</td>\n",
       "      <td>42.033604</td>\n",
       "      <td>1.0</td>\n",
       "    </tr>\n",
       "    <tr>\n",
       "      <th>1</th>\n",
       "      <td>1001</td>\n",
       "      <td>3.601853</td>\n",
       "      <td>0.0</td>\n",
       "      <td>75.610613</td>\n",
       "      <td>20.817859</td>\n",
       "      <td>21.2870</td>\n",
       "      <td>49.057586</td>\n",
       "      <td>2.0</td>\n",
       "    </tr>\n",
       "    <tr>\n",
       "      <th>2</th>\n",
       "      <td>1001</td>\n",
       "      <td>3.468813</td>\n",
       "      <td>0.0</td>\n",
       "      <td>88.529803</td>\n",
       "      <td>26.791997</td>\n",
       "      <td>27.3020</td>\n",
       "      <td>20.188445</td>\n",
       "      <td>3.0</td>\n",
       "    </tr>\n",
       "    <tr>\n",
       "      <th>3</th>\n",
       "      <td>1001</td>\n",
       "      <td>3.435141</td>\n",
       "      <td>0.0</td>\n",
       "      <td>74.436349</td>\n",
       "      <td>10.708047</td>\n",
       "      <td>10.7795</td>\n",
       "      <td>55.548389</td>\n",
       "      <td>4.0</td>\n",
       "    </tr>\n",
       "    <tr>\n",
       "      <th>4</th>\n",
       "      <td>1013</td>\n",
       "      <td>2.755833</td>\n",
       "      <td>0.0</td>\n",
       "      <td>47.911696</td>\n",
       "      <td>3.964976</td>\n",
       "      <td>3.6070</td>\n",
       "      <td>42.290685</td>\n",
       "      <td>1.0</td>\n",
       "    </tr>\n",
       "  </tbody>\n",
       "</table>\n",
       "</div>"
      ],
      "text/plain": [
       "   zipcode  quarterly_avg_precip  quarterly_median_precip  \\\n",
       "0     1001              2.866177                      0.0   \n",
       "1     1001              3.601853                      0.0   \n",
       "2     1001              3.468813                      0.0   \n",
       "3     1001              3.435141                      0.0   \n",
       "4     1013              2.755833                      0.0   \n",
       "\n",
       "   quarterly_variance_precip  quarterly_avg_temp  quarterly_median_temp  \\\n",
       "0                  48.053550            4.253855                 3.9460   \n",
       "1                  75.610613           20.817859                21.2870   \n",
       "2                  88.529803           26.791997                27.3020   \n",
       "3                  74.436349           10.708047                10.7795   \n",
       "4                  47.911696            3.964976                 3.6070   \n",
       "\n",
       "   quarterly_variance_temp  qtr  \n",
       "0                42.033604  1.0  \n",
       "1                49.057586  2.0  \n",
       "2                20.188445  3.0  \n",
       "3                55.548389  4.0  \n",
       "4                42.290685  1.0  "
      ]
     },
     "execution_count": 18,
     "metadata": {},
     "output_type": "execute_result"
    }
   ],
   "source": [
    "averages = pd.read_csv(\"../../data/companyData/quarterlyStatsByZip.csv\").\\\n",
    "    drop(columns = {\"Unnamed: 0\"}).rename(columns = {'ZIP': 'zipcode'})\n",
    "\n",
    "\n",
    "averages['qtr'] = averages.quarter.str.slice(1,2).astype('float')\n",
    "averages.drop(columns = {'quarter'}, inplace = True) \n",
    "\n",
    "print(len(averages.zipcode.unique()))\n",
    "\n",
    "averages.head()"
   ]
  },
  {
   "cell_type": "code",
   "execution_count": 19,
   "metadata": {},
   "outputs": [],
   "source": [
    "# allWeather = pd.read_csv(\"../../../../../../../Volumes/backup2/dissData/prism/allWeatherBins_2010.2019.csv\").\\\n",
    "allWeather = pd.read_csv(\"../../data/companyData/revised_allWeatherBins_2009to2019.csv\").\\\n",
    "    drop(columns = {\"Unnamed: 0\"})\n",
    "\n",
    "allWeather['yearQtr'] = allWeather.year + (allWeather.qtr - 1)/4"
   ]
  },
  {
   "cell_type": "code",
   "execution_count": 20,
   "metadata": {},
   "outputs": [],
   "source": [
    "changes.rename(columns = {'addzip': 'zipcode'}, inplace = True)\n",
    "changes.drop(columns = {'cik',\n",
    "     'datadate','costat', 'add1', 'add2', 'city', 'sic', 'state'}, inplace = True)"
   ]
  },
  {
   "cell_type": "code",
   "execution_count": 21,
   "metadata": {},
   "outputs": [
    {
     "data": {
      "text/plain": [
       "Index(['gvkey', 'year', 'qtr', 'companyName', 'curcdq', 'assets',\n",
       "       'costGoodsSold', 'totalInv', 'netIncome', 'totalRevenue', 'zipcode',\n",
       "       'assetsLast', 'netIncomeLast', 'totalRevenueLast', 'costGoodsSoldLast',\n",
       "       'totalInvLast', 'incomeChange', 'revenueChange', 'costChange',\n",
       "       'inventoryChange', 'assetsPrev', 'assetsLagged', 'netIncomeLagged',\n",
       "       'roa_lagged', 'famafrench', 'earliestYear', 'ageTercile', 'sizeTercile',\n",
       "       'profitTercile', 'datacqtr', 'datafqtr', 'fyr', 'DATE'],\n",
       "      dtype='object')"
      ]
     },
     "execution_count": 21,
     "metadata": {},
     "output_type": "execute_result"
    }
   ],
   "source": [
    "changes.columns"
   ]
  },
  {
   "cell_type": "code",
   "execution_count": 22,
   "metadata": {},
   "outputs": [],
   "source": [
    "col = allWeather.pop(\"yearQtr\")\n",
    "allWeather.insert(0, col.name, col)"
   ]
  },
  {
   "cell_type": "code",
   "execution_count": 23,
   "metadata": {},
   "outputs": [
    {
     "data": {
      "text/html": [
       "<div>\n",
       "<style scoped>\n",
       "    .dataframe tbody tr th:only-of-type {\n",
       "        vertical-align: middle;\n",
       "    }\n",
       "\n",
       "    .dataframe tbody tr th {\n",
       "        vertical-align: top;\n",
       "    }\n",
       "\n",
       "    .dataframe thead th {\n",
       "        text-align: right;\n",
       "    }\n",
       "</style>\n",
       "<table border=\"1\" class=\"dataframe\">\n",
       "  <thead>\n",
       "    <tr style=\"text-align: right;\">\n",
       "      <th></th>\n",
       "      <th>yearQtr</th>\n",
       "      <th>zipcode</th>\n",
       "      <th>year</th>\n",
       "      <th>qtr</th>\n",
       "      <th>precip_annualquant_0.95</th>\n",
       "      <th>precip_annualquant_1xQtr</th>\n",
       "      <th>precip_annualquant_1xYr</th>\n",
       "      <th>precip_annualquant_1x5Qtrs</th>\n",
       "      <th>precip_annualquant_1x10Qtrs</th>\n",
       "      <th>precip_annualquant_1x5Yrs</th>\n",
       "      <th>...</th>\n",
       "      <th>temp5Days_zipquant_1x10Qtrs</th>\n",
       "      <th>temp5Days_zipquant_1x5Yrs</th>\n",
       "      <th>temp5Days_zipquant_1x10Yrs</th>\n",
       "      <th>temp5Days_zipQuarterquant_0.95</th>\n",
       "      <th>temp5Days_zipQuarterquant_1xQtr</th>\n",
       "      <th>temp5Days_zipQuarterquant_1xYr</th>\n",
       "      <th>temp5Days_zipQuarterquant_1x5Qtrs</th>\n",
       "      <th>temp5Days_zipQuarterquant_1x10Qtrs</th>\n",
       "      <th>temp5Days_zipQuarterquant_1x5Yrs</th>\n",
       "      <th>temp5Days_zipQuarterquant_1x10Yrs</th>\n",
       "    </tr>\n",
       "  </thead>\n",
       "  <tbody>\n",
       "    <tr>\n",
       "      <th>0</th>\n",
       "      <td>2009.00</td>\n",
       "      <td>1001</td>\n",
       "      <td>2009</td>\n",
       "      <td>1.0</td>\n",
       "      <td>9</td>\n",
       "      <td>3</td>\n",
       "      <td>0</td>\n",
       "      <td>0</td>\n",
       "      <td>0</td>\n",
       "      <td>0</td>\n",
       "      <td>...</td>\n",
       "      <td>0</td>\n",
       "      <td>0</td>\n",
       "      <td>0</td>\n",
       "      <td>1</td>\n",
       "      <td>1</td>\n",
       "      <td>0</td>\n",
       "      <td>0</td>\n",
       "      <td>0</td>\n",
       "      <td>0</td>\n",
       "      <td>0</td>\n",
       "    </tr>\n",
       "    <tr>\n",
       "      <th>1</th>\n",
       "      <td>2009.25</td>\n",
       "      <td>1001</td>\n",
       "      <td>2009</td>\n",
       "      <td>2.0</td>\n",
       "      <td>15</td>\n",
       "      <td>8</td>\n",
       "      <td>2</td>\n",
       "      <td>0</td>\n",
       "      <td>0</td>\n",
       "      <td>0</td>\n",
       "      <td>...</td>\n",
       "      <td>0</td>\n",
       "      <td>0</td>\n",
       "      <td>0</td>\n",
       "      <td>2</td>\n",
       "      <td>1</td>\n",
       "      <td>0</td>\n",
       "      <td>0</td>\n",
       "      <td>0</td>\n",
       "      <td>0</td>\n",
       "      <td>0</td>\n",
       "    </tr>\n",
       "    <tr>\n",
       "      <th>2</th>\n",
       "      <td>2009.50</td>\n",
       "      <td>1001</td>\n",
       "      <td>2009</td>\n",
       "      <td>3.0</td>\n",
       "      <td>13</td>\n",
       "      <td>9</td>\n",
       "      <td>4</td>\n",
       "      <td>0</td>\n",
       "      <td>0</td>\n",
       "      <td>0</td>\n",
       "      <td>...</td>\n",
       "      <td>0</td>\n",
       "      <td>0</td>\n",
       "      <td>0</td>\n",
       "      <td>2</td>\n",
       "      <td>0</td>\n",
       "      <td>0</td>\n",
       "      <td>0</td>\n",
       "      <td>0</td>\n",
       "      <td>0</td>\n",
       "      <td>0</td>\n",
       "    </tr>\n",
       "    <tr>\n",
       "      <th>3</th>\n",
       "      <td>2009.75</td>\n",
       "      <td>1001</td>\n",
       "      <td>2009</td>\n",
       "      <td>4.0</td>\n",
       "      <td>14</td>\n",
       "      <td>7</td>\n",
       "      <td>1</td>\n",
       "      <td>0</td>\n",
       "      <td>0</td>\n",
       "      <td>0</td>\n",
       "      <td>...</td>\n",
       "      <td>0</td>\n",
       "      <td>0</td>\n",
       "      <td>0</td>\n",
       "      <td>3</td>\n",
       "      <td>1</td>\n",
       "      <td>0</td>\n",
       "      <td>0</td>\n",
       "      <td>0</td>\n",
       "      <td>0</td>\n",
       "      <td>0</td>\n",
       "    </tr>\n",
       "    <tr>\n",
       "      <th>4</th>\n",
       "      <td>2010.00</td>\n",
       "      <td>1001</td>\n",
       "      <td>2010</td>\n",
       "      <td>1.0</td>\n",
       "      <td>10</td>\n",
       "      <td>9</td>\n",
       "      <td>5</td>\n",
       "      <td>0</td>\n",
       "      <td>0</td>\n",
       "      <td>0</td>\n",
       "      <td>...</td>\n",
       "      <td>0</td>\n",
       "      <td>0</td>\n",
       "      <td>0</td>\n",
       "      <td>3</td>\n",
       "      <td>2</td>\n",
       "      <td>0</td>\n",
       "      <td>0</td>\n",
       "      <td>0</td>\n",
       "      <td>0</td>\n",
       "      <td>0</td>\n",
       "    </tr>\n",
       "  </tbody>\n",
       "</table>\n",
       "<p>5 rows × 88 columns</p>\n",
       "</div>"
      ],
      "text/plain": [
       "   yearQtr  zipcode  year  qtr  precip_annualquant_0.95  \\\n",
       "0  2009.00     1001  2009  1.0                        9   \n",
       "1  2009.25     1001  2009  2.0                       15   \n",
       "2  2009.50     1001  2009  3.0                       13   \n",
       "3  2009.75     1001  2009  4.0                       14   \n",
       "4  2010.00     1001  2010  1.0                       10   \n",
       "\n",
       "   precip_annualquant_1xQtr  precip_annualquant_1xYr  \\\n",
       "0                         3                        0   \n",
       "1                         8                        2   \n",
       "2                         9                        4   \n",
       "3                         7                        1   \n",
       "4                         9                        5   \n",
       "\n",
       "   precip_annualquant_1x5Qtrs  precip_annualquant_1x10Qtrs  \\\n",
       "0                           0                            0   \n",
       "1                           0                            0   \n",
       "2                           0                            0   \n",
       "3                           0                            0   \n",
       "4                           0                            0   \n",
       "\n",
       "   precip_annualquant_1x5Yrs  ...  temp5Days_zipquant_1x10Qtrs  \\\n",
       "0                          0  ...                            0   \n",
       "1                          0  ...                            0   \n",
       "2                          0  ...                            0   \n",
       "3                          0  ...                            0   \n",
       "4                          0  ...                            0   \n",
       "\n",
       "   temp5Days_zipquant_1x5Yrs  temp5Days_zipquant_1x10Yrs  \\\n",
       "0                          0                           0   \n",
       "1                          0                           0   \n",
       "2                          0                           0   \n",
       "3                          0                           0   \n",
       "4                          0                           0   \n",
       "\n",
       "   temp5Days_zipQuarterquant_0.95  temp5Days_zipQuarterquant_1xQtr  \\\n",
       "0                               1                                1   \n",
       "1                               2                                1   \n",
       "2                               2                                0   \n",
       "3                               3                                1   \n",
       "4                               3                                2   \n",
       "\n",
       "   temp5Days_zipQuarterquant_1xYr  temp5Days_zipQuarterquant_1x5Qtrs  \\\n",
       "0                               0                                  0   \n",
       "1                               0                                  0   \n",
       "2                               0                                  0   \n",
       "3                               0                                  0   \n",
       "4                               0                                  0   \n",
       "\n",
       "   temp5Days_zipQuarterquant_1x10Qtrs  temp5Days_zipQuarterquant_1x5Yrs  \\\n",
       "0                                   0                                 0   \n",
       "1                                   0                                 0   \n",
       "2                                   0                                 0   \n",
       "3                                   0                                 0   \n",
       "4                                   0                                 0   \n",
       "\n",
       "   temp5Days_zipQuarterquant_1x10Yrs  \n",
       "0                                  0  \n",
       "1                                  0  \n",
       "2                                  0  \n",
       "3                                  0  \n",
       "4                                  0  \n",
       "\n",
       "[5 rows x 88 columns]"
      ]
     },
     "execution_count": 23,
     "metadata": {},
     "output_type": "execute_result"
    }
   ],
   "source": [
    "allWeather.head()"
   ]
  },
  {
   "cell_type": "code",
   "execution_count": 24,
   "metadata": {},
   "outputs": [
    {
     "name": "stdout",
     "output_type": "stream",
     "text": [
      "(184492, 88)\n"
     ]
    }
   ],
   "source": [
    "lag1 = allWeather.copy()\n",
    "lag1['yearQtr'] += 0.25\n",
    "for colname in lag1.columns[4:]:\n",
    "    lag1.rename(columns = {colname: 'lag1_' + colname}, inplace = True)\n",
    "lag1.drop(columns = {'year','qtr'},inplace = True)\n",
    "\n",
    "    \n",
    "lag2 = allWeather.copy()\n",
    "lag2['yearQtr'] += 0.5\n",
    "for colname in lag2.columns[4:]:\n",
    "    lag2.rename(columns = {colname: 'lag2_' + colname}, inplace = True)\n",
    "lag2.drop(columns = {'year','qtr'},inplace = True)\n",
    "\n",
    "\n",
    "lag3 = allWeather.copy()\n",
    "lag3['yearQtr'] += 0.75\n",
    "for colname in lag3.columns[4:]:\n",
    "    lag3.rename(columns = {colname: 'lag3_' + colname}, inplace = True)\n",
    "lag3.drop(columns = {'year','qtr'},inplace = True)\n",
    "\n",
    "\n",
    "lag4 = allWeather.copy()\n",
    "lag4['yearQtr'] += 1\n",
    "for colname in lag4.columns[4:]:\n",
    "    lag4.rename(columns = {colname: 'lag4_' + colname}, inplace = True)\n",
    "lag4.drop(columns = {'year','qtr'},inplace = True)\n",
    "\n",
    "\n",
    "print(allWeather.shape)"
   ]
  },
  {
   "cell_type": "code",
   "execution_count": 25,
   "metadata": {},
   "outputs": [
    {
     "data": {
      "text/plain": [
       "2010    16772\n",
       "2011    16772\n",
       "2012    16772\n",
       "2013    16772\n",
       "2014    16772\n",
       "2015    16772\n",
       "2016    16772\n",
       "2017    16772\n",
       "2018    16772\n",
       "2019    16772\n",
       "Name: year, dtype: int64"
      ]
     },
     "execution_count": 25,
     "metadata": {},
     "output_type": "execute_result"
    }
   ],
   "source": [
    "allWeather_withLags = allWeather.merge(lag1).merge(lag2).merge(lag3).merge(lag4)\n",
    "\n",
    "allWeather_withLags.year.value_counts()"
   ]
  },
  {
   "cell_type": "markdown",
   "metadata": {},
   "source": [
    "Now do the same for the industry-specific weather."
   ]
  },
  {
   "cell_type": "code",
   "execution_count": 36,
   "metadata": {},
   "outputs": [
    {
     "name": "stdout",
     "output_type": "stream",
     "text": [
      "   yearQtr qtr  year famafrench zipcode  temp_ffquant_0.95  \\\n",
      "0  2009.00   1  2009        1.0    1013                  0   \n",
      "1  2009.25   2  2009        1.0    1013                  0   \n",
      "2  2009.50   3  2009        1.0    1013                  0   \n",
      "3  2009.75   4  2009        1.0    1013                  0   \n",
      "4  2010.00   1  2010        1.0    1013                  0   \n",
      "\n",
      "   temp_ffquant_1xQtr  temp_ffquant_1xYr  temp_ffquant_1x5Qtrs  \\\n",
      "0                   0                  0                     0   \n",
      "1                   0                  0                     0   \n",
      "2                   0                  0                     0   \n",
      "3                   0                  0                     0   \n",
      "4                   0                  0                     0   \n",
      "\n",
      "   temp_ffquant_1x10Qtrs  ...  precip5Days_ffquant_1x10Qtrs  \\\n",
      "0                      0  ...                             0   \n",
      "1                      0  ...                             0   \n",
      "2                      0  ...                             0   \n",
      "3                      0  ...                             0   \n",
      "4                      0  ...                             0   \n",
      "\n",
      "   precip5Days_ffquant_1x5Yrs  precip5Days_ffquant_1x10Yrs  \\\n",
      "0                           0                            0   \n",
      "1                           0                            0   \n",
      "2                           0                            0   \n",
      "3                           0                            0   \n",
      "4                           0                            0   \n",
      "\n",
      "   precip5Days_indQuarterquant_0.95  precip5Days_indQuarterquant_1xQtr  \\\n",
      "0                                 0                                  0   \n",
      "1                                 0                                  0   \n",
      "2                                 0                                  0   \n",
      "3                                 0                                  0   \n",
      "4                                 0                                  0   \n",
      "\n",
      "   precip5Days_indQuarterquant_1xYr  precip5Days_indQuarterquant_1x5Qtrs  \\\n",
      "0                                 0                                    0   \n",
      "1                                 0                                    0   \n",
      "2                                 0                                    0   \n",
      "3                                 0                                    0   \n",
      "4                                 0                                    0   \n",
      "\n",
      "   precip5Days_indQuarterquant_1x10Qtrs  precip5Days_indQuarterquant_1x5Yrs  \\\n",
      "0                                     0                                   0   \n",
      "1                                     0                                   0   \n",
      "2                                     0                                   0   \n",
      "3                                     0                                   0   \n",
      "4                                     0                                   0   \n",
      "\n",
      "   precip5Days_indQuarterquant_1x10Yrs  \n",
      "0                                    0  \n",
      "1                                    0  \n",
      "2                                    0  \n",
      "3                                    0  \n",
      "4                                    0  \n",
      "\n",
      "[5 rows x 61 columns]\n"
     ]
    }
   ],
   "source": [
    "# allWeather = pd.read_csv(\"../../../../../../../Volumes/backup2/dissData/prism/allWeatherBins_2010.2019.csv\").\\\n",
    "allWeather_byInd = pd.read_csv(\"../../data/companyData/revised_allWeatherBins_2009to2019_byInd.csv\").\\\n",
    "    drop(columns = {\"Unnamed: 0\"})\n",
    "'''[['famafrench','zipcode','yearQuarter', \n",
    "                                    'temp_ffquant_0.95','temp_indQuarterquant_0.95',\n",
    "                                   'temp5Days_ffquant_0.95', 'temp5Days_indQuarterquant_0.95',\n",
    "                                   'precip_ffquant_0.95', 'precip_indQuarterquant_0.95',\n",
    "                                   'precip5Days_ffquant_0.95', 'precip5Days_indQuarterquant_0.95']]\n",
    "'''\n",
    "allWeather_byInd['year'] = allWeather_byInd.yearQuarter.str.slice(0,4).astype('int64')\n",
    "allWeather_byInd['qtr']  = allWeather_byInd.yearQuarter.str.slice(5,6).astype('int64')\n",
    "allWeather_byInd['yearQtr'] = allWeather_byInd.year + (allWeather_byInd.qtr - 1)/4\n",
    "\n",
    "allWeather_byInd = allWeather_byInd.astype({'year':       'category',\n",
    "                         'qtr':        'category',\n",
    "                         'zipcode':    'category',\n",
    "                         'famafrench': 'category'})\n",
    "\n",
    "changes['zipcode'] = changes['zipcode'].astype({'zipcode': 'int64'})\n",
    "\n",
    "changes = changes.astype({'year':       'category',\n",
    "                          'qtr':        'category',\n",
    "                          'zipcode':    'category',\n",
    "                          'famafrench': 'category'})\n",
    "\n",
    "col = allWeather_byInd.pop(\"year\")\n",
    "allWeather_byInd.insert(0, col.name, col)\n",
    "\n",
    "col = allWeather_byInd.pop(\"qtr\")\n",
    "allWeather_byInd.insert(0, col.name, col)\n",
    "\n",
    "\n",
    "col = allWeather_byInd.pop(\"yearQtr\")\n",
    "allWeather_byInd.insert(0, col.name, col)\n",
    "\n",
    "allWeather_byInd.drop(columns = {'yearQuarter'}, inplace = True)\n",
    "\n",
    "print(allWeather_byInd.head())"
   ]
  },
  {
   "cell_type": "code",
   "execution_count": 37,
   "metadata": {},
   "outputs": [
    {
     "data": {
      "text/plain": [
       "Index(['yearQtr', 'zipcode', 'year', 'qtr', 'precip_annualquant_0.95',\n",
       "       'precip_annualquant_1xQtr', 'precip_annualquant_1xYr',\n",
       "       'precip_annualquant_1x5Qtrs', 'precip_annualquant_1x10Qtrs',\n",
       "       'precip_annualquant_1x5Yrs', 'precip_annualquant_1x10Yrs',\n",
       "       'precip_zipquant_0.95', 'precip_zipquant_1xQtr', 'precip_zipquant_1xYr',\n",
       "       'precip_zipquant_1x5Qtrs', 'precip_zipquant_1x10Qtrs',\n",
       "       'precip_zipquant_1x5Yrs', 'precip_zipquant_1x10Yrs',\n",
       "       'precip_zipQuarterquant_0.95', 'precip_zipQuarterquant_1xQtr',\n",
       "       'precip_zipQuarterquant_1xYr', 'precip_zipQuarterquant_1x5Qtrs',\n",
       "       'precip_zipQuarterquant_1x10Qtrs', 'precip_zipQuarterquant_1x5Yrs',\n",
       "       'precip_zipQuarterquant_1x10Yrs', 'temp_annualquant_0.95',\n",
       "       'temp_annualquant_1xQtr', 'temp_annualquant_1xYr',\n",
       "       'temp_annualquant_1x5Qtrs', 'temp_annualquant_1x10Qtrs',\n",
       "       'temp_annualquant_1x5Yrs', 'temp_annualquant_1x10Yrs',\n",
       "       'temp_zipquant_0.95', 'temp_zipquant_1xQtr', 'temp_zipquant_1xYr',\n",
       "       'temp_zipquant_1x5Qtrs', 'temp_zipquant_1x10Qtrs',\n",
       "       'temp_zipquant_1x5Yrs', 'temp_zipquant_1x10Yrs',\n",
       "       'temp_zipQuarterquant_0.95', 'temp_zipQuarterquant_1xQtr',\n",
       "       'temp_zipQuarterquant_1xYr', 'temp_zipQuarterquant_1x5Qtrs',\n",
       "       'temp_zipQuarterquant_1x10Qtrs', 'temp_zipQuarterquant_1x5Yrs',\n",
       "       'temp_zipQuarterquant_1x10Yrs', 'precip5Days_annualquant_0.95',\n",
       "       'precip5Days_annualquant_1xQtr', 'precip5Days_annualquant_1xYr',\n",
       "       'precip5Days_annualquant_1x5Qtrs', 'precip5Days_annualquant_1x10Qtrs',\n",
       "       'precip5Days_annualquant_1x5Yrs', 'precip5Days_annualquant_1x10Yrs',\n",
       "       'precip5Days_zipquant_0.95', 'precip5Days_zipquant_1xQtr',\n",
       "       'precip5Days_zipquant_1xYr', 'precip5Days_zipquant_1x5Qtrs',\n",
       "       'precip5Days_zipquant_1x10Qtrs', 'precip5Days_zipquant_1x5Yrs',\n",
       "       'precip5Days_zipquant_1x10Yrs', 'precip5Days_zipQuarterquant_0.95',\n",
       "       'precip5Days_zipQuarterquant_1xQtr', 'precip5Days_zipQuarterquant_1xYr',\n",
       "       'precip5Days_zipQuarterquant_1x5Qtrs',\n",
       "       'precip5Days_zipQuarterquant_1x10Qtrs',\n",
       "       'precip5Days_zipQuarterquant_1x5Yrs',\n",
       "       'precip5Days_zipQuarterquant_1x10Yrs', 'temp5Days_annualquant_0.95',\n",
       "       'temp5Days_annualquant_1xQtr', 'temp5Days_annualquant_1xYr',\n",
       "       'temp5Days_annualquant_1x5Qtrs', 'temp5Days_annualquant_1x10Qtrs',\n",
       "       'temp5Days_annualquant_1x5Yrs', 'temp5Days_annualquant_1x10Yrs',\n",
       "       'temp5Days_zipquant_0.95', 'temp5Days_zipquant_1xQtr',\n",
       "       'temp5Days_zipquant_1xYr', 'temp5Days_zipquant_1x5Qtrs',\n",
       "       'temp5Days_zipquant_1x10Qtrs', 'temp5Days_zipquant_1x5Yrs',\n",
       "       'temp5Days_zipquant_1x10Yrs', 'temp5Days_zipQuarterquant_0.95',\n",
       "       'temp5Days_zipQuarterquant_1xQtr', 'temp5Days_zipQuarterquant_1xYr',\n",
       "       'temp5Days_zipQuarterquant_1x5Qtrs',\n",
       "       'temp5Days_zipQuarterquant_1x10Qtrs',\n",
       "       'temp5Days_zipQuarterquant_1x5Yrs',\n",
       "       'temp5Days_zipQuarterquant_1x10Yrs'],\n",
       "      dtype='object')"
      ]
     },
     "execution_count": 37,
     "metadata": {},
     "output_type": "execute_result"
    }
   ],
   "source": [
    "allWeather.columns"
   ]
  },
  {
   "cell_type": "code",
   "execution_count": 38,
   "metadata": {},
   "outputs": [
    {
     "data": {
      "text/plain": [
       "Index(['yearQtr', 'qtr', 'year', 'famafrench', 'zipcode', 'temp_ffquant_0.95',\n",
       "       'temp_ffquant_1xQtr', 'temp_ffquant_1xYr', 'temp_ffquant_1x5Qtrs',\n",
       "       'temp_ffquant_1x10Qtrs', 'temp_ffquant_1x5Yrs', 'temp_ffquant_1x10Yrs',\n",
       "       'temp_indQuarterquant_0.95', 'temp_indQuarterquant_1xQtr',\n",
       "       'temp_indQuarterquant_1xYr', 'temp_indQuarterquant_1x5Qtrs',\n",
       "       'temp_indQuarterquant_1x10Qtrs', 'temp_indQuarterquant_1x5Yrs',\n",
       "       'temp_indQuarterquant_1x10Yrs', 'temp5Days_ffquant_0.95',\n",
       "       'temp5Days_ffquant_1xQtr', 'temp5Days_ffquant_1xYr',\n",
       "       'temp5Days_ffquant_1x5Qtrs', 'temp5Days_ffquant_1x10Qtrs',\n",
       "       'temp5Days_ffquant_1x5Yrs', 'temp5Days_ffquant_1x10Yrs',\n",
       "       'temp5Days_indQuarterquant_0.95', 'temp5Days_indQuarterquant_1xQtr',\n",
       "       'temp5Days_indQuarterquant_1xYr', 'temp5Days_indQuarterquant_1x5Qtrs',\n",
       "       'temp5Days_indQuarterquant_1x10Qtrs',\n",
       "       'temp5Days_indQuarterquant_1x5Yrs', 'temp5Days_indQuarterquant_1x10Yrs',\n",
       "       'precip_ffquant_0.95', 'precip_ffquant_1xQtr', 'precip_ffquant_1xYr',\n",
       "       'precip_ffquant_1x5Qtrs', 'precip_ffquant_1x10Qtrs',\n",
       "       'precip_ffquant_1x5Yrs', 'precip_ffquant_1x10Yrs',\n",
       "       'precip_indQuarterquant_0.95', 'precip_indQuarterquant_1xQtr',\n",
       "       'precip_indQuarterquant_1xYr', 'precip_indQuarterquant_1x5Qtrs',\n",
       "       'precip_indQuarterquant_1x10Qtrs', 'precip_indQuarterquant_1x5Yrs',\n",
       "       'precip_indQuarterquant_1x10Yrs', 'precip5Days_ffquant_0.95',\n",
       "       'precip5Days_ffquant_1xQtr', 'precip5Days_ffquant_1xYr',\n",
       "       'precip5Days_ffquant_1x5Qtrs', 'precip5Days_ffquant_1x10Qtrs',\n",
       "       'precip5Days_ffquant_1x5Yrs', 'precip5Days_ffquant_1x10Yrs',\n",
       "       'precip5Days_indQuarterquant_0.95', 'precip5Days_indQuarterquant_1xQtr',\n",
       "       'precip5Days_indQuarterquant_1xYr',\n",
       "       'precip5Days_indQuarterquant_1x5Qtrs',\n",
       "       'precip5Days_indQuarterquant_1x10Qtrs',\n",
       "       'precip5Days_indQuarterquant_1x5Yrs',\n",
       "       'precip5Days_indQuarterquant_1x10Yrs'],\n",
       "      dtype='object')"
      ]
     },
     "execution_count": 38,
     "metadata": {},
     "output_type": "execute_result"
    }
   ],
   "source": [
    "allWeather_byInd.columns"
   ]
  },
  {
   "cell_type": "code",
   "execution_count": 39,
   "metadata": {},
   "outputs": [
    {
     "name": "stdout",
     "output_type": "stream",
     "text": [
      "(6540864, 61)\n"
     ]
    },
    {
     "data": {
      "text/plain": [
       "'allWeather_byInd_withLags = allWeather_byInd.merge(lag1).merge(lag2).merge(lag3).merge(lag4)\\n\\nallWeather_byInd_withLags.year.value_counts()\\n'"
      ]
     },
     "execution_count": 39,
     "metadata": {},
     "output_type": "execute_result"
    }
   ],
   "source": [
    "lag1 = allWeather_byInd.copy()\n",
    "lag1['yearQtr'] += 0.25\n",
    "for colname in lag1.columns[5:]:\n",
    "    lag1.rename(columns = {colname: 'lag1_' + colname}, inplace = True)\n",
    "lag1.drop(columns = {'year','qtr'},inplace = True)\n",
    "lag1 = lag1.astype({'yearQtr':       'category'})\n",
    "\n",
    "    \n",
    "lag2 = allWeather_byInd.copy()\n",
    "lag2['yearQtr'] += 0.5\n",
    "for colname in lag2.columns[5:]:\n",
    "    lag2.rename(columns = {colname: 'lag2_' + colname}, inplace = True)\n",
    "lag2.drop(columns = {'year','qtr'},inplace = True)\n",
    "lag2 = lag2.astype({'yearQtr':       'category'})\n",
    "\n",
    "\n",
    "lag3 = allWeather_byInd.copy()\n",
    "lag3['yearQtr'] += 0.75\n",
    "for colname in lag3.columns[5:]:\n",
    "    lag3.rename(columns = {colname: 'lag3_' + colname}, inplace = True)\n",
    "lag3.drop(columns = {'year','qtr'},inplace = True)\n",
    "lag3 = lag3.astype({'yearQtr':       'category'})\n",
    "\n",
    "\n",
    "lag4 = allWeather_byInd.copy()\n",
    "lag4['yearQtr'] += 1\n",
    "for colname in lag4.columns[5:]:\n",
    "    lag4.rename(columns = {colname: 'lag4_' + colname}, inplace = True)\n",
    "lag4.drop(columns = {'year','qtr'},inplace = True)\n",
    "lag4 = lag4.astype({'yearQtr':       'category'})\n",
    "\n",
    "\n",
    "allWeather_byInd = allWeather_byInd.astype({'yearQtr':       'category'})\n",
    "\n",
    "\n",
    "print(allWeather_byInd.shape)\n",
    "\n",
    "\n",
    "allWeather_byInd.head()\n",
    "\n",
    "\n",
    "'''allWeather_byInd_withLags = allWeather_byInd.merge(lag1).merge(lag2).merge(lag3).merge(lag4)\n",
    "\n",
    "allWeather_byInd_withLags.year.value_counts()\n",
    "'''"
   ]
  },
  {
   "cell_type": "code",
   "execution_count": 40,
   "metadata": {},
   "outputs": [],
   "source": [
    "allWeather_byInd_withLags = allWeather_byInd.merge(lag1).merge(lag2).merge(lag3).merge(lag4)"
   ]
  },
  {
   "cell_type": "code",
   "execution_count": 41,
   "metadata": {},
   "outputs": [
    {
     "data": {
      "text/plain": [
       "(5946240, 285)"
      ]
     },
     "execution_count": 41,
     "metadata": {},
     "output_type": "execute_result"
    }
   ],
   "source": [
    "allWeather_byInd_withLags.shape"
   ]
  },
  {
   "cell_type": "code",
   "execution_count": 42,
   "metadata": {},
   "outputs": [],
   "source": [
    "allWeather_byInd_withLags.to_csv(\"../../data/companyData/allWeather_byInd_withLags.csv\")"
   ]
  },
  {
   "cell_type": "code",
   "execution_count": 45,
   "metadata": {},
   "outputs": [
    {
     "ename": "NameError",
     "evalue": "name 'allWeather_byInd' is not defined",
     "output_type": "error",
     "traceback": [
      "\u001b[0;31m---------------------------------------------------------------------------\u001b[0m",
      "\u001b[0;31mNameError\u001b[0m                                 Traceback (most recent call last)",
      "\u001b[0;32m<ipython-input-45-eef479f51281>\u001b[0m in \u001b[0;36m<module>\u001b[0;34m\u001b[0m\n\u001b[0;32m----> 1\u001b[0;31m \u001b[0;32mdel\u001b[0m \u001b[0mallWeather_byInd\u001b[0m\u001b[0;34m\u001b[0m\u001b[0;34m\u001b[0m\u001b[0m\n\u001b[0m\u001b[1;32m      2\u001b[0m \u001b[0;32mdel\u001b[0m \u001b[0mlag1\u001b[0m\u001b[0;34m\u001b[0m\u001b[0;34m\u001b[0m\u001b[0m\n\u001b[1;32m      3\u001b[0m \u001b[0;32mdel\u001b[0m \u001b[0mlag2\u001b[0m\u001b[0;34m\u001b[0m\u001b[0;34m\u001b[0m\u001b[0m\n\u001b[1;32m      4\u001b[0m \u001b[0;32mdel\u001b[0m \u001b[0mlag3\u001b[0m\u001b[0;34m\u001b[0m\u001b[0;34m\u001b[0m\u001b[0m\n\u001b[1;32m      5\u001b[0m \u001b[0;32mdel\u001b[0m \u001b[0mlag4\u001b[0m\u001b[0;34m\u001b[0m\u001b[0;34m\u001b[0m\u001b[0m\n",
      "\u001b[0;31mNameError\u001b[0m: name 'allWeather_byInd' is not defined"
     ]
    }
   ],
   "source": [
    "del allWeather_byInd\n",
    "del lag1\n",
    "del lag2\n",
    "del lag3\n",
    "del lag4\n",
    "gc.collect()"
   ]
  },
  {
   "cell_type": "markdown",
   "metadata": {},
   "source": [
    "Merge weather to full cstat database."
   ]
  },
  {
   "cell_type": "code",
   "execution_count": 47,
   "metadata": {},
   "outputs": [
    {
     "name": "stdout",
     "output_type": "stream",
     "text": [
      "(487582, 33) (189833, 740)\n"
     ]
    }
   ],
   "source": [
    "# changes['zipcode']  = changes['zipcode'].astype('int64')\n",
    "changesWithWeather = changes.merge(allWeather_withLags).merge(allWeather_byInd_withLags).merge(averages)\n",
    "print(changes.shape,changesWithWeather.shape)"
   ]
  },
  {
   "cell_type": "code",
   "execution_count": 48,
   "metadata": {},
   "outputs": [],
   "source": [
    "changesWithWeather.to_csv(\"../../data/companyData/cstatWithWeather.csv\")"
   ]
  },
  {
   "cell_type": "markdown",
   "metadata": {},
   "source": [
    "Merge weather to the ig-cstat database."
   ]
  },
  {
   "cell_type": "code",
   "execution_count": 49,
   "metadata": {},
   "outputs": [
    {
     "data": {
      "text/plain": [
       "(131383, 762)"
      ]
     },
     "execution_count": 49,
     "metadata": {},
     "output_type": "execute_result"
    }
   ],
   "source": [
    "igChangesWithWeather = igChanges.merge(allWeather_withLags).merge(allWeather_byInd_withLags).merge(averages)\n",
    "igChangesWithWeather.shape"
   ]
  },
  {
   "cell_type": "code",
   "execution_count": 50,
   "metadata": {},
   "outputs": [],
   "source": [
    "igChangesWithWeather.to_csv(\"../../data/companyData/igWithWeather.csv\")"
   ]
  },
  {
   "cell_type": "code",
   "execution_count": null,
   "metadata": {
    "collapsed": true
   },
   "outputs": [],
   "source": [
    "igChangesWithWeather.head()"
   ]
  },
  {
   "cell_type": "code",
   "execution_count": 54,
   "metadata": {},
   "outputs": [
    {
     "data": {
      "text/plain": [
       "count    131383.000000\n",
       "mean         10.639710\n",
       "std          14.299951\n",
       "min           0.000000\n",
       "25%           0.000000\n",
       "50%           4.000000\n",
       "75%          17.000000\n",
       "max          79.000000\n",
       "Name: temp_zipquant_0.95, dtype: float64"
      ]
     },
     "execution_count": 54,
     "metadata": {},
     "output_type": "execute_result"
    }
   ],
   "source": [
    "igChangesWithWeather['temp_zipquant_0.95'].describe()"
   ]
  },
  {
   "cell_type": "code",
   "execution_count": 52,
   "metadata": {},
   "outputs": [
    {
     "data": {
      "text/plain": [
       "count    131383.000000\n",
       "mean         10.449975\n",
       "std           9.267852\n",
       "min           0.000000\n",
       "25%           3.000000\n",
       "50%           8.000000\n",
       "75%          17.000000\n",
       "max          37.000000\n",
       "Name: temp5Days_ffquant_0.95, dtype: float64"
      ]
     },
     "execution_count": 52,
     "metadata": {},
     "output_type": "execute_result"
    }
   ],
   "source": [
    "igChangesWithWeather['temp5Days_ffquant_0.95'].describe()"
   ]
  },
  {
   "cell_type": "markdown",
   "metadata": {},
   "source": [
    "And then do the SC information."
   ]
  },
  {
   "cell_type": "code",
   "execution_count": null,
   "metadata": {},
   "outputs": [],
   "source": [
    "customersWithWeather = customers.merge(allWeather_withLags).merge(averages).merge(allWeather_byInd_withLags)\n",
    "customersWithWeather.shape"
   ]
  },
  {
   "cell_type": "code",
   "execution_count": null,
   "metadata": {},
   "outputs": [],
   "source": [
    "suppliersWithWeather = suppliers.merge(allWeather_withLags).merge(averages).merge(allWeather_byInd_withLags)\n",
    "suppliersWithWeather.shape"
   ]
  },
  {
   "cell_type": "code",
   "execution_count": null,
   "metadata": {},
   "outputs": [],
   "source": [
    "suppliersWithWeather.to_csv(\"../../data/companyData/suppliersWithWeather.csv\")\n",
    "customersWithWeather.to_csv(\"../../data/companyData/customersWithWeather.csv\")"
   ]
  },
  {
   "cell_type": "code",
   "execution_count": null,
   "metadata": {},
   "outputs": [],
   "source": [
    "suppliersWithWeather = pd.read_csv(\"../../data/companyData/suppliersWithWeather.csv\").drop(columns = {'Unnamed: 0'})\n",
    "customersWithWeather = pd.read_csv(\"../../data/companyData/customersWithWeather.csv\").drop(columns = {'Unnamed: 0'})"
   ]
  },
  {
   "cell_type": "code",
   "execution_count": null,
   "metadata": {},
   "outputs": [],
   "source": [
    "frames = [customersWithWeather, suppliersWithWeather]\n",
    "\n",
    "allCompanies = pd.concat(frames).drop_duplicates()\n",
    "\n",
    "print(allCompanies.shape)"
   ]
  },
  {
   "cell_type": "code",
   "execution_count": null,
   "metadata": {},
   "outputs": [],
   "source": [
    "allCompanies.columns"
   ]
  },
  {
   "cell_type": "code",
   "execution_count": null,
   "metadata": {},
   "outputs": [],
   "source": [
    "np.max(allCompanies.lag4_precip5Days_zipquant_1x10Qtrs)"
   ]
  },
  {
   "cell_type": "code",
   "execution_count": null,
   "metadata": {},
   "outputs": [],
   "source": [
    "allCompanies.to_csv(\"../../data/companyData/allCompaniesWithWeather.csv\")"
   ]
  },
  {
   "cell_type": "code",
   "execution_count": null,
   "metadata": {},
   "outputs": [],
   "source": [
    "allCompanies.shape"
   ]
  },
  {
   "cell_type": "code",
   "execution_count": null,
   "metadata": {},
   "outputs": [],
   "source": [
    "allCompanies.head()"
   ]
  },
  {
   "cell_type": "code",
   "execution_count": null,
   "metadata": {},
   "outputs": [],
   "source": []
  },
  {
   "cell_type": "markdown",
   "metadata": {},
   "source": [
    "## Get first-hop SC data"
   ]
  },
  {
   "cell_type": "code",
   "execution_count": 9,
   "metadata": {},
   "outputs": [
    {
     "data": {
      "text/html": [
       "<div>\n",
       "<style scoped>\n",
       "    .dataframe tbody tr th:only-of-type {\n",
       "        vertical-align: middle;\n",
       "    }\n",
       "\n",
       "    .dataframe tbody tr th {\n",
       "        vertical-align: top;\n",
       "    }\n",
       "\n",
       "    .dataframe thead th {\n",
       "        text-align: right;\n",
       "    }\n",
       "</style>\n",
       "<table border=\"1\" class=\"dataframe\">\n",
       "  <thead>\n",
       "    <tr style=\"text-align: right;\">\n",
       "      <th></th>\n",
       "      <th>year</th>\n",
       "      <th>supplier_gvkey</th>\n",
       "      <th>customer_gvkey</th>\n",
       "      <th>salecs</th>\n",
       "      <th>customer_famafrench</th>\n",
       "      <th>supplier_famafrench</th>\n",
       "      <th>customer_cstatCompanies</th>\n",
       "      <th>customer_igCompanies</th>\n",
       "      <th>customer_delete</th>\n",
       "      <th>customer_abi</th>\n",
       "      <th>supplier_cstatCompanies</th>\n",
       "      <th>supplier_igCompanies</th>\n",
       "      <th>supplier_delete</th>\n",
       "      <th>supplier_abi</th>\n",
       "    </tr>\n",
       "  </thead>\n",
       "  <tbody>\n",
       "    <tr>\n",
       "      <th>0</th>\n",
       "      <td>2002</td>\n",
       "      <td>1013</td>\n",
       "      <td>2136</td>\n",
       "      <td>111.056</td>\n",
       "      <td>33.0</td>\n",
       "      <td>37.0</td>\n",
       "      <td>verizonmmunications</td>\n",
       "      <td>verizonmmunications</td>\n",
       "      <td>NaN</td>\n",
       "      <td>7564776</td>\n",
       "      <td>adc telecommunications</td>\n",
       "      <td>adc telecommunications</td>\n",
       "      <td>NaN</td>\n",
       "      <td>7523129</td>\n",
       "    </tr>\n",
       "    <tr>\n",
       "      <th>1</th>\n",
       "      <td>2004</td>\n",
       "      <td>1013</td>\n",
       "      <td>2136</td>\n",
       "      <td>104.312</td>\n",
       "      <td>33.0</td>\n",
       "      <td>37.0</td>\n",
       "      <td>verizonmmunications</td>\n",
       "      <td>verizonmmunications</td>\n",
       "      <td>NaN</td>\n",
       "      <td>7564776</td>\n",
       "      <td>adc telecommunications</td>\n",
       "      <td>adc telecommunications</td>\n",
       "      <td>NaN</td>\n",
       "      <td>7523129</td>\n",
       "    </tr>\n",
       "    <tr>\n",
       "      <th>2</th>\n",
       "      <td>2005</td>\n",
       "      <td>1013</td>\n",
       "      <td>2136</td>\n",
       "      <td>146.000</td>\n",
       "      <td>33.0</td>\n",
       "      <td>37.0</td>\n",
       "      <td>verizonmmunications</td>\n",
       "      <td>verizonmmunications</td>\n",
       "      <td>NaN</td>\n",
       "      <td>7564776</td>\n",
       "      <td>adc telecommunications</td>\n",
       "      <td>adc telecommunications</td>\n",
       "      <td>NaN</td>\n",
       "      <td>7523129</td>\n",
       "    </tr>\n",
       "    <tr>\n",
       "      <th>3</th>\n",
       "      <td>2006</td>\n",
       "      <td>1013</td>\n",
       "      <td>2136</td>\n",
       "      <td>205.000</td>\n",
       "      <td>33.0</td>\n",
       "      <td>37.0</td>\n",
       "      <td>verizonmmunications</td>\n",
       "      <td>verizonmmunications</td>\n",
       "      <td>NaN</td>\n",
       "      <td>7564776</td>\n",
       "      <td>adc telecommunications</td>\n",
       "      <td>adc telecommunications</td>\n",
       "      <td>NaN</td>\n",
       "      <td>7523129</td>\n",
       "    </tr>\n",
       "    <tr>\n",
       "      <th>4</th>\n",
       "      <td>2007</td>\n",
       "      <td>1013</td>\n",
       "      <td>2136</td>\n",
       "      <td>236.000</td>\n",
       "      <td>33.0</td>\n",
       "      <td>37.0</td>\n",
       "      <td>verizonmmunications</td>\n",
       "      <td>verizonmmunications</td>\n",
       "      <td>NaN</td>\n",
       "      <td>7564776</td>\n",
       "      <td>adc telecommunications</td>\n",
       "      <td>adc telecommunications</td>\n",
       "      <td>NaN</td>\n",
       "      <td>7523129</td>\n",
       "    </tr>\n",
       "  </tbody>\n",
       "</table>\n",
       "</div>"
      ],
      "text/plain": [
       "   year  supplier_gvkey  customer_gvkey   salecs  customer_famafrench  \\\n",
       "0  2002            1013            2136  111.056                 33.0   \n",
       "1  2004            1013            2136  104.312                 33.0   \n",
       "2  2005            1013            2136  146.000                 33.0   \n",
       "3  2006            1013            2136  205.000                 33.0   \n",
       "4  2007            1013            2136  236.000                 33.0   \n",
       "\n",
       "   supplier_famafrench customer_cstatCompanies customer_igCompanies  \\\n",
       "0                 37.0     verizonmmunications  verizonmmunications   \n",
       "1                 37.0     verizonmmunications  verizonmmunications   \n",
       "2                 37.0     verizonmmunications  verizonmmunications   \n",
       "3                 37.0     verizonmmunications  verizonmmunications   \n",
       "4                 37.0     verizonmmunications  verizonmmunications   \n",
       "\n",
       "   customer_delete  customer_abi supplier_cstatCompanies  \\\n",
       "0              NaN       7564776  adc telecommunications   \n",
       "1              NaN       7564776  adc telecommunications   \n",
       "2              NaN       7564776  adc telecommunications   \n",
       "3              NaN       7564776  adc telecommunications   \n",
       "4              NaN       7564776  adc telecommunications   \n",
       "\n",
       "     supplier_igCompanies  supplier_delete  supplier_abi  \n",
       "0  adc telecommunications              NaN       7523129  \n",
       "1  adc telecommunications              NaN       7523129  \n",
       "2  adc telecommunications              NaN       7523129  \n",
       "3  adc telecommunications              NaN       7523129  \n",
       "4  adc telecommunications              NaN       7523129  "
      ]
     },
     "execution_count": 9,
     "metadata": {},
     "output_type": "execute_result"
    }
   ],
   "source": [
    "c_links = pd.read_csv(\"../../data/companyData/clinks_IG_selected.csv\").drop(columns = {'Unnamed: 0'})\n",
    "c_links.head()"
   ]
  },
  {
   "cell_type": "code",
   "execution_count": 14,
   "metadata": {},
   "outputs": [
    {
     "data": {
      "text/plain": [
       "31.0    1370\n",
       "42.0     326\n",
       "32.0     270\n",
       "43.0      18\n",
       "48.0      18\n",
       "35.0      13\n",
       "45.0      11\n",
       "41.0       9\n",
       "14.0       8\n",
       "13.0       8\n",
       "36.0       8\n",
       "23.0       4\n",
       "24.0       3\n",
       "44.0       3\n",
       "18.0       3\n",
       "2.0        2\n",
       "21.0       2\n",
       "37.0       1\n",
       "38.0       1\n",
       "Name: customer_famafrench, dtype: int64"
      ]
     },
     "execution_count": 14,
     "metadata": {},
     "output_type": "execute_result"
    }
   ],
   "source": [
    "c_links[c_links.supplier_famafrench == 31.0].customer_famafrench.value_counts()"
   ]
  },
  {
   "cell_type": "code",
   "execution_count": null,
   "metadata": {},
   "outputs": [],
   "source": [
    "c_links['suppliers'] = 1\n",
    "custExp = c_links[['year', 'customer_gvkey', 'salecs','suppliers']].groupby(['year','customer_gvkey']).sum().\\\n",
    "    reset_index().rename(columns = {'salecs': 'totalExp'})\n",
    "\n",
    "custExp.head()\n",
    "\n"
   ]
  },
  {
   "cell_type": "code",
   "execution_count": null,
   "metadata": {},
   "outputs": [],
   "source": [
    "print(\"Number of firms with no exp information and multiple suppliers: \", \\\n",
    "          sum(custExp[custExp.totalExp == 0].suppliers > 1))\n",
    "print(\"Number of firms with no exp information and >5 suppliers: \", \\\n",
    "          sum(custExp[custExp.totalExp == 0].suppliers > 5))\n"
   ]
  },
  {
   "cell_type": "markdown",
   "metadata": {},
   "source": [
    "Most of these firms have expenditure information. We can look at:\n",
    "    - Expenditure-weighted (just do equal shares if no exp information)\n",
    "    - Largest supplier"
   ]
  },
  {
   "cell_type": "code",
   "execution_count": null,
   "metadata": {},
   "outputs": [],
   "source": [
    "customerDB = c_links[['year','customer_gvkey','supplier_gvkey','salecs']].\\\n",
    "    merge(custExp).rename(columns = {'customer_gvkey': 'gvkey'}).drop_duplicates()\n",
    "print(customerDB.shape)\n",
    "\n",
    "customerDB.head()"
   ]
  },
  {
   "cell_type": "markdown",
   "metadata": {},
   "source": [
    "## Biggest Supplier\n",
    "Focus on weather of biggest supplier.\n",
    "\n",
    "First find the max by supplier. Add back in any rows with only 1 supplier."
   ]
  },
  {
   "cell_type": "code",
   "execution_count": null,
   "metadata": {},
   "outputs": [],
   "source": [
    "customerDB.shape"
   ]
  },
  {
   "cell_type": "code",
   "execution_count": null,
   "metadata": {},
   "outputs": [],
   "source": [
    "# https://stackoverflow.com/questions/15705630/get-the-rows-which-have-the-max-value-in-groups-using-groupby\n",
    "idx = customerDB.groupby(['year','gvkey']).salecs.\\\n",
    "    transform(max) == customerDB.salecs\n",
    "largestSuppliers = customerDB[idx].reset_index(drop = True)\n",
    "print(largestSuppliers.shape)\n",
    "\n",
    "# find companies who only have one other supplier\n",
    "singleSuppliers = customerDB[customerDB.suppliers == 1].reset_index(drop = True)\n",
    "print(singleSuppliers.shape)\n",
    "\n",
    "# find largest suppliers of different companies\n",
    "largestSuppliers = largestSuppliers.append(singleSuppliers).drop_duplicates()\n",
    "print(largestSuppliers.shape)\n",
    "\n"
   ]
  },
  {
   "cell_type": "code",
   "execution_count": null,
   "metadata": {},
   "outputs": [],
   "source": [
    "customerDB[['year','gvkey']][customerDB.year > 2009].drop_duplicates().shape"
   ]
  },
  {
   "cell_type": "code",
   "execution_count": null,
   "metadata": {},
   "outputs": [],
   "source": [
    "len(largestSuppliers.gvkey.unique())"
   ]
  },
  {
   "cell_type": "code",
   "execution_count": null,
   "metadata": {},
   "outputs": [],
   "source": [
    "for column in suppliersWithWeather.columns:\n",
    "    print(column)"
   ]
  },
  {
   "cell_type": "code",
   "execution_count": null,
   "metadata": {},
   "outputs": [],
   "source": [
    "relevantVars = [x for x in suppliersWithWeather.columns if (('year' in x) | \n",
    "                                                 ('qtr' in x) |\n",
    "                                                 ('gvkey' in x) |\n",
    "                                                 ('_' in x)) & \n",
    "                                                ~('roa_lagged' in x) & \n",
    "                                                ~('yearQtr' in x)]\n",
    "\n",
    "suppliers_toMerge = suppliersWithWeather[relevantVars]\n",
    "\n",
    "\n",
    "for colname in suppliers_toMerge.columns[3:]:\n",
    "    suppliers_toMerge.rename(columns = {colname: 'supplier_' + colname}, inplace = True)\n",
    "\n",
    "    \n",
    "suppliers_toMerge.rename(columns = {'gvkey': 'supplier_gvkey'},inplace = True)    \n",
    "\n",
    "print(suppliers_toMerge.columns)\n",
    "\n",
    "\n",
    "'''suppliers_toMerge = suppliersWithWeather[['year','qtr','gvkey','tmax_quant_1.0','precip_quant_1.0']].\\\n",
    "    rename(columns = {'gvkey': 'supplier_gvkey',\n",
    "                      'tmax_quant_1.0': 'supplier_tmax_quant_1.0',\n",
    "                      'precip_quant_1.0': 'supplier_precip_quant_1.0'})'''"
   ]
  },
  {
   "cell_type": "code",
   "execution_count": null,
   "metadata": {},
   "outputs": [],
   "source": [
    "customersWithWeather.shape"
   ]
  },
  {
   "cell_type": "code",
   "execution_count": null,
   "metadata": {},
   "outputs": [],
   "source": [
    "len(set(supplierWtdAvgWeather.gvkey.unique()) - set(suppliers_toMerge.gvkey.unique()))\n"
   ]
  },
  {
   "cell_type": "code",
   "execution_count": null,
   "metadata": {},
   "outputs": [],
   "source": [
    "largestSuppliers.head()"
   ]
  },
  {
   "cell_type": "code",
   "execution_count": null,
   "metadata": {},
   "outputs": [],
   "source": [
    "largestSuppliersWithWeather = customersWithWeather.merge(largestSuppliers[['year', 'gvkey', 'supplier_gvkey']]).merge(suppliers_toMerge)\n",
    "largestSuppliersWithWeather.shape"
   ]
  },
  {
   "cell_type": "code",
   "execution_count": null,
   "metadata": {},
   "outputs": [],
   "source": [
    "largestSuppliersWithWeather.head()"
   ]
  },
  {
   "cell_type": "code",
   "execution_count": null,
   "metadata": {},
   "outputs": [],
   "source": [
    "largestSuppliersWithWeather.to_csv(\"../../data/companyData/largestSuppliersWithWeather.csv\")\n"
   ]
  },
  {
   "cell_type": "code",
   "execution_count": null,
   "metadata": {},
   "outputs": [],
   "source": [
    "largestSuppliersWithWeather.suppliers"
   ]
  },
  {
   "cell_type": "code",
   "execution_count": 4,
   "metadata": {},
   "outputs": [
    {
     "data": {
      "text/html": [
       "<div>\n",
       "<style scoped>\n",
       "    .dataframe tbody tr th:only-of-type {\n",
       "        vertical-align: middle;\n",
       "    }\n",
       "\n",
       "    .dataframe tbody tr th {\n",
       "        vertical-align: top;\n",
       "    }\n",
       "\n",
       "    .dataframe thead th {\n",
       "        text-align: right;\n",
       "    }\n",
       "</style>\n",
       "<table border=\"1\" class=\"dataframe\">\n",
       "  <thead>\n",
       "    <tr style=\"text-align: right;\">\n",
       "      <th></th>\n",
       "      <th>Unnamed: 0</th>\n",
       "      <th>year</th>\n",
       "      <th>gvkey</th>\n",
       "      <th>supplier_gvkey</th>\n",
       "      <th>salecs</th>\n",
       "      <th>totalExp</th>\n",
       "      <th>suppliers</th>\n",
       "      <th>datadate</th>\n",
       "      <th>qtr</th>\n",
       "      <th>companyName</th>\n",
       "      <th>...</th>\n",
       "      <th>supplier_lag4_temp5Days_zipQuarterquant_1x5Qtrs</th>\n",
       "      <th>supplier_lag4_temp5Days_zipQuarterquant_1x10Qtrs</th>\n",
       "      <th>supplier_lag4_temp5Days_zipQuarterquant_1x5Yrs</th>\n",
       "      <th>supplier_lag4_temp5Days_zipQuarterquant_1x10Yrs</th>\n",
       "      <th>supplier_quarterly_avg_precip</th>\n",
       "      <th>supplier_quarterly_median_precip</th>\n",
       "      <th>supplier_quarterly_variance_precip</th>\n",
       "      <th>supplier_quarterly_avg_temp</th>\n",
       "      <th>supplier_quarterly_median_temp</th>\n",
       "      <th>supplier_quarterly_variance_temp</th>\n",
       "    </tr>\n",
       "  </thead>\n",
       "  <tbody>\n",
       "    <tr>\n",
       "      <th>0</th>\n",
       "      <td>0</td>\n",
       "      <td>2010</td>\n",
       "      <td>9899</td>\n",
       "      <td>111880</td>\n",
       "      <td>865.425</td>\n",
       "      <td>4633.447</td>\n",
       "      <td>37</td>\n",
       "      <td>20100331</td>\n",
       "      <td>1.0</td>\n",
       "      <td>AT&amp;T INC</td>\n",
       "      <td>...</td>\n",
       "      <td>0</td>\n",
       "      <td>0</td>\n",
       "      <td>0</td>\n",
       "      <td>0</td>\n",
       "      <td>2.249304</td>\n",
       "      <td>0.0</td>\n",
       "      <td>44.801073</td>\n",
       "      <td>8.004915</td>\n",
       "      <td>7.6360</td>\n",
       "      <td>66.589459</td>\n",
       "    </tr>\n",
       "    <tr>\n",
       "      <th>1</th>\n",
       "      <td>1</td>\n",
       "      <td>2010</td>\n",
       "      <td>9899</td>\n",
       "      <td>111880</td>\n",
       "      <td>865.425</td>\n",
       "      <td>4633.447</td>\n",
       "      <td>37</td>\n",
       "      <td>20100630</td>\n",
       "      <td>2.0</td>\n",
       "      <td>AT&amp;T INC</td>\n",
       "      <td>...</td>\n",
       "      <td>0</td>\n",
       "      <td>0</td>\n",
       "      <td>0</td>\n",
       "      <td>0</td>\n",
       "      <td>3.593418</td>\n",
       "      <td>0.0</td>\n",
       "      <td>82.171479</td>\n",
       "      <td>24.101767</td>\n",
       "      <td>25.0880</td>\n",
       "      <td>41.752215</td>\n",
       "    </tr>\n",
       "    <tr>\n",
       "      <th>2</th>\n",
       "      <td>2</td>\n",
       "      <td>2010</td>\n",
       "      <td>9899</td>\n",
       "      <td>111880</td>\n",
       "      <td>865.425</td>\n",
       "      <td>4633.447</td>\n",
       "      <td>37</td>\n",
       "      <td>20100930</td>\n",
       "      <td>3.0</td>\n",
       "      <td>AT&amp;T INC</td>\n",
       "      <td>...</td>\n",
       "      <td>0</td>\n",
       "      <td>0</td>\n",
       "      <td>0</td>\n",
       "      <td>0</td>\n",
       "      <td>2.951039</td>\n",
       "      <td>0.0</td>\n",
       "      <td>76.675933</td>\n",
       "      <td>29.597434</td>\n",
       "      <td>30.0360</td>\n",
       "      <td>19.818994</td>\n",
       "    </tr>\n",
       "    <tr>\n",
       "      <th>3</th>\n",
       "      <td>3</td>\n",
       "      <td>2010</td>\n",
       "      <td>9899</td>\n",
       "      <td>111880</td>\n",
       "      <td>865.425</td>\n",
       "      <td>4633.447</td>\n",
       "      <td>37</td>\n",
       "      <td>20101231</td>\n",
       "      <td>4.0</td>\n",
       "      <td>AT&amp;T INC</td>\n",
       "      <td>...</td>\n",
       "      <td>0</td>\n",
       "      <td>0</td>\n",
       "      <td>0</td>\n",
       "      <td>0</td>\n",
       "      <td>2.765759</td>\n",
       "      <td>0.0</td>\n",
       "      <td>56.969919</td>\n",
       "      <td>13.007701</td>\n",
       "      <td>13.4325</td>\n",
       "      <td>77.199622</td>\n",
       "    </tr>\n",
       "    <tr>\n",
       "      <th>4</th>\n",
       "      <td>4</td>\n",
       "      <td>2011</td>\n",
       "      <td>9899</td>\n",
       "      <td>111880</td>\n",
       "      <td>921.541</td>\n",
       "      <td>3977.293</td>\n",
       "      <td>37</td>\n",
       "      <td>20110331</td>\n",
       "      <td>1.0</td>\n",
       "      <td>AT&amp;T INC</td>\n",
       "      <td>...</td>\n",
       "      <td>0</td>\n",
       "      <td>0</td>\n",
       "      <td>0</td>\n",
       "      <td>0</td>\n",
       "      <td>2.249304</td>\n",
       "      <td>0.0</td>\n",
       "      <td>44.801073</td>\n",
       "      <td>8.004915</td>\n",
       "      <td>7.6360</td>\n",
       "      <td>66.589459</td>\n",
       "    </tr>\n",
       "  </tbody>\n",
       "</table>\n",
       "<p>5 rows × 897 columns</p>\n",
       "</div>"
      ],
      "text/plain": [
       "   Unnamed: 0  year  gvkey  supplier_gvkey   salecs  totalExp  suppliers  \\\n",
       "0           0  2010   9899          111880  865.425  4633.447         37   \n",
       "1           1  2010   9899          111880  865.425  4633.447         37   \n",
       "2           2  2010   9899          111880  865.425  4633.447         37   \n",
       "3           3  2010   9899          111880  865.425  4633.447         37   \n",
       "4           4  2011   9899          111880  921.541  3977.293         37   \n",
       "\n",
       "   datadate  qtr companyName  ...  \\\n",
       "0  20100331  1.0    AT&T INC  ...   \n",
       "1  20100630  2.0    AT&T INC  ...   \n",
       "2  20100930  3.0    AT&T INC  ...   \n",
       "3  20101231  4.0    AT&T INC  ...   \n",
       "4  20110331  1.0    AT&T INC  ...   \n",
       "\n",
       "  supplier_lag4_temp5Days_zipQuarterquant_1x5Qtrs  \\\n",
       "0                                               0   \n",
       "1                                               0   \n",
       "2                                               0   \n",
       "3                                               0   \n",
       "4                                               0   \n",
       "\n",
       "   supplier_lag4_temp5Days_zipQuarterquant_1x10Qtrs  \\\n",
       "0                                                 0   \n",
       "1                                                 0   \n",
       "2                                                 0   \n",
       "3                                                 0   \n",
       "4                                                 0   \n",
       "\n",
       "   supplier_lag4_temp5Days_zipQuarterquant_1x5Yrs  \\\n",
       "0                                               0   \n",
       "1                                               0   \n",
       "2                                               0   \n",
       "3                                               0   \n",
       "4                                               0   \n",
       "\n",
       "   supplier_lag4_temp5Days_zipQuarterquant_1x10Yrs  \\\n",
       "0                                                0   \n",
       "1                                                0   \n",
       "2                                                0   \n",
       "3                                                0   \n",
       "4                                                0   \n",
       "\n",
       "   supplier_quarterly_avg_precip  supplier_quarterly_median_precip  \\\n",
       "0                       2.249304                               0.0   \n",
       "1                       3.593418                               0.0   \n",
       "2                       2.951039                               0.0   \n",
       "3                       2.765759                               0.0   \n",
       "4                       2.249304                               0.0   \n",
       "\n",
       "   supplier_quarterly_variance_precip supplier_quarterly_avg_temp  \\\n",
       "0                           44.801073                    8.004915   \n",
       "1                           82.171479                   24.101767   \n",
       "2                           76.675933                   29.597434   \n",
       "3                           56.969919                   13.007701   \n",
       "4                           44.801073                    8.004915   \n",
       "\n",
       "  supplier_quarterly_median_temp  supplier_quarterly_variance_temp  \n",
       "0                         7.6360                         66.589459  \n",
       "1                        25.0880                         41.752215  \n",
       "2                        30.0360                         19.818994  \n",
       "3                        13.4325                         77.199622  \n",
       "4                         7.6360                         66.589459  \n",
       "\n",
       "[5 rows x 897 columns]"
      ]
     },
     "execution_count": 4,
     "metadata": {},
     "output_type": "execute_result"
    }
   ],
   "source": [
    "largestSuppliersWithWeather = pd.read_csv(\"../../data/companyData/largestSuppliersWithWeather.csv\")\n",
    "largestSuppliersWithWeather.head()"
   ]
  },
  {
   "cell_type": "code",
   "execution_count": 8,
   "metadata": {},
   "outputs": [
    {
     "data": {
      "text/plain": [
       "Index(['Unnamed: 0', 'year', 'gvkey', 'supplier_gvkey', 'salecs', 'totalExp',\n",
       "       'suppliers', 'datadate', 'qtr', 'companyName', 'curcdq', 'assets',\n",
       "       'costGoodsSold', 'totalInv', 'netIncome', 'totalRevenue', 'cik',\n",
       "       'costat', 'add1', 'add2', 'addzip', 'city', 'sic', 'state',\n",
       "       'assetsLast', 'netIncomeLast', 'totalRevenueLast', 'costGoodsSoldLast',\n",
       "       'totalInvLast', 'incomeChange', 'revenueChange', 'costChange',\n",
       "       'inventoryChange', 'assetsPrev', 'assetsLagged', 'netIncomeLagged',\n",
       "       'roa_lagged', 'famafrench', 'earliestYear', 'ageTercile', 'sizeTercile',\n",
       "       'profitTercile', 'zipcode', 'employeesAtLocation', 'yearQtr',\n",
       "       'precip_annualquant_0.95', 'precip_annualquant_1xQtr',\n",
       "       'precip_annualquant_1xYr', 'precip_annualquant_1x5Qtrs',\n",
       "       'precip_annualquant_1x10Qtrs'],\n",
       "      dtype='object')"
      ]
     },
     "execution_count": 8,
     "metadata": {},
     "output_type": "execute_result"
    }
   ],
   "source": [
    "largestSuppliersWithWeather.columns[0:50]"
   ]
  },
  {
   "cell_type": "markdown",
   "metadata": {},
   "source": [
    "## Sales-Weighted Average\n",
    "If a company doesn't have sales-specific information, then assume equal shares. This doesn't happen for too many of the companies, thankfully."
   ]
  },
  {
   "cell_type": "code",
   "execution_count": null,
   "metadata": {},
   "outputs": [],
   "source": [
    "customerDB = c_links[['year','customer_gvkey','supplier_gvkey','salecs']].\\\n",
    "    merge(custExp).rename(columns = {'customer_gvkey': 'gvkey'}).drop_duplicates()\n",
    "\n",
    "customerDB['salesWeight'] = customerDB.salecs/customerDB.totalExp\n",
    "\n",
    "customerDB.fillna(1, inplace = True)"
   ]
  },
  {
   "cell_type": "markdown",
   "metadata": {},
   "source": [
    "Now merge this with the supplier weather data, and use the sales weights to find a sales-weighted average of the weather conditions for the suppliers."
   ]
  },
  {
   "cell_type": "code",
   "execution_count": null,
   "metadata": {},
   "outputs": [],
   "source": [
    "relevantVars = [x for x in suppliersWithWeather.columns if (('year' in x) | \n",
    "                                                 ('qtr' in x) |\n",
    "                                                 ('gvkey' in x) |\n",
    "                                                 ('_' in x)) & \n",
    "                                                ~('roa_lagged' in x) & \n",
    "                                                ~('yearQtr' in x)]\n",
    "\n",
    "suppliers_toMerge = suppliersWithWeather[relevantVars]\n",
    "\n",
    "\n",
    "for colname in suppliers_toMerge.columns[3:]:\n",
    "    suppliers_toMerge.rename(columns = {colname: 'supplier_' + colname}, inplace = True)\n",
    "\n",
    "    \n",
    "suppliers_toMerge.rename(columns = {'gvkey': 'supplier_gvkey'},inplace = True)    \n"
   ]
  },
  {
   "cell_type": "code",
   "execution_count": null,
   "metadata": {},
   "outputs": [],
   "source": [
    "suppliers_toMerge.head()"
   ]
  },
  {
   "cell_type": "markdown",
   "metadata": {},
   "source": [
    "For each of the supplier weather columns, multiply the variable by the fraction of sales attributable to that relationship."
   ]
  },
  {
   "cell_type": "code",
   "execution_count": null,
   "metadata": {},
   "outputs": [],
   "source": [
    "supplierWeather = customerDB[['year','gvkey','supplier_gvkey','salesWeight']].merge(suppliers_toMerge)\n",
    "\n",
    "for col in supplierWeather.columns[5:]:\n",
    "        supplierWeather[col]   = supplierWeather.salesWeight*supplierWeather[col]\n",
    "        \n",
    "        \n",
    "\n",
    "supplierWeather.drop(columns = {'supplier_gvkey','salesWeight'}, inplace = True)\n",
    "\n",
    "\n",
    "print(supplierWeather.head())\n",
    "\n",
    "\n",
    "\n",
    "# [['year','qtr','gvkey','supplier_tmax_quant_1.0','supplier_precip_quant_1.0']]"
   ]
  },
  {
   "cell_type": "code",
   "execution_count": null,
   "metadata": {},
   "outputs": [],
   "source": [
    "supplierWtdAvgWeather = supplierWeather.groupby(['year','qtr','gvkey']).sum().reset_index().drop_duplicates()"
   ]
  },
  {
   "cell_type": "code",
   "execution_count": null,
   "metadata": {},
   "outputs": [],
   "source": [
    "supplierWtdAvgWeather.gvkey.unique()"
   ]
  },
  {
   "cell_type": "markdown",
   "metadata": {},
   "source": [
    "Merge the supplier weighted average weather data with the customer data that has weather as well."
   ]
  },
  {
   "cell_type": "code",
   "execution_count": null,
   "metadata": {},
   "outputs": [],
   "source": [
    "customersWithWeather.head()"
   ]
  },
  {
   "cell_type": "code",
   "execution_count": null,
   "metadata": {},
   "outputs": [],
   "source": [
    "wtdAvgSuppliers = customersWithWeather.merge(supplierWtdAvgWeather)\n",
    "\n",
    "wtdAvgSuppliers.head()"
   ]
  },
  {
   "cell_type": "code",
   "execution_count": null,
   "metadata": {},
   "outputs": [],
   "source": [
    "wtdAvgSuppliers.shape"
   ]
  },
  {
   "cell_type": "code",
   "execution_count": null,
   "metadata": {},
   "outputs": [],
   "source": [
    "wtdAvgSuppliers.to_csv(\"../../data/companyData/wtdAvgSuppliers.csv\")"
   ]
  },
  {
   "cell_type": "code",
   "execution_count": null,
   "metadata": {},
   "outputs": [],
   "source": [
    "wtdAvgSuppliers.head()"
   ]
  },
  {
   "cell_type": "code",
   "execution_count": null,
   "metadata": {},
   "outputs": [],
   "source": [
    "wtdAvgSuppliers.columns[wtdAvgSuppliers.columns.str.contains('Tercile')]"
   ]
  },
  {
   "cell_type": "code",
   "execution_count": null,
   "metadata": {},
   "outputs": [],
   "source": []
  }
 ],
 "metadata": {
  "kernelspec": {
   "display_name": "Python 3",
   "language": "python",
   "name": "python3"
  },
  "language_info": {
   "codemirror_mode": {
    "name": "ipython",
    "version": 3
   },
   "file_extension": ".py",
   "mimetype": "text/x-python",
   "name": "python",
   "nbconvert_exporter": "python",
   "pygments_lexer": "ipython3",
   "version": "3.7.4"
  }
 },
 "nbformat": 4,
 "nbformat_minor": 2
}
