{
 "cells": [
  {
   "cell_type": "code",
   "execution_count": 2,
   "metadata": {},
   "outputs": [],
   "source": [
    "import pickle as pkl\n",
    "import pandas as pd\n",
    "import matplotlib\n",
    "import os\n",
    "import re\n",
    "\n",
    "import collections\n",
    "import datetime\n",
    "import time\n",
    "\n",
    "import geopandas as gpd\n",
    "\n",
    "import numpy as np\n",
    "\n",
    "import rasterio\n",
    "\n",
    "import spacy\n",
    "\n",
    "import gc\n",
    "\n",
    "\n",
    "\n",
    "nlp = spacy.load('en_core_web_lg')\n",
    "from sklearn.metrics.pairwise import cosine_similarity\n",
    "\n",
    "import itertools"
   ]
  },
  {
   "cell_type": "markdown",
   "metadata": {},
   "source": [
    "# Get Data\n",
    "\n",
    "## Changes from year to year"
   ]
  },
  {
   "cell_type": "code",
   "execution_count": null,
   "metadata": {},
   "outputs": [],
   "source": [
    "changes = pd.read_csv(\"../../data/compustatChanges_all.csv\").drop(columns = ['Unnamed: 0'])\n",
    "\n",
    "changes.head()"
   ]
  },
  {
   "cell_type": "code",
   "execution_count": null,
   "metadata": {},
   "outputs": [],
   "source": [
    "otherControls = pd.read_csv('../../data/companyData/otherControls.csv').\\\n",
    "    drop(columns = {'Unnamed: 0', 'fyearq'}).rename(columns = {'year_toMatchOn': 'year',\n",
    "                                                              'fqtr': 'qtr'})\n"
   ]
  },
  {
   "cell_type": "code",
   "execution_count": null,
   "metadata": {},
   "outputs": [],
   "source": [
    "otherControls.head()"
   ]
  },
  {
   "cell_type": "code",
   "execution_count": null,
   "metadata": {},
   "outputs": [],
   "source": [
    "print(changes.shape)\n",
    "changes = changes.merge(otherControls)\n",
    "print(changes.shape)\n",
    "\n",
    "\n",
    "industries = changes[['gvkey','famafrench']].drop_duplicates()"
   ]
  },
  {
   "cell_type": "code",
   "execution_count": null,
   "metadata": {},
   "outputs": [],
   "source": [
    "'''changes.to_csv(\"../../data/companyData/compustatChanges_withControls.csv\")\n",
    "changes.head()'''"
   ]
  },
  {
   "cell_type": "code",
   "execution_count": 2,
   "metadata": {},
   "outputs": [
    {
     "name": "stderr",
     "output_type": "stream",
     "text": [
      "/Users/brianreed/opt/anaconda3/lib/python3.7/site-packages/IPython/core/interactiveshell.py:3326: DtypeWarning: Columns (17) have mixed types.Specify dtype option on import or set low_memory=False.\n",
      "  exec(code_obj, self.user_global_ns, self.user_ns)\n"
     ]
    }
   ],
   "source": [
    "changes = pd.read_csv(\"../../data/companyData/compustatChanges_withControls.csv\")"
   ]
  },
  {
   "cell_type": "markdown",
   "metadata": {},
   "source": [
    "Put in the calendar quarters and fiscal quarter data."
   ]
  },
  {
   "cell_type": "code",
   "execution_count": 3,
   "metadata": {},
   "outputs": [
    {
     "data": {
      "text/html": [
       "<div>\n",
       "<style scoped>\n",
       "    .dataframe tbody tr th:only-of-type {\n",
       "        vertical-align: middle;\n",
       "    }\n",
       "\n",
       "    .dataframe tbody tr th {\n",
       "        vertical-align: top;\n",
       "    }\n",
       "\n",
       "    .dataframe thead th {\n",
       "        text-align: right;\n",
       "    }\n",
       "</style>\n",
       "<table border=\"1\" class=\"dataframe\">\n",
       "  <thead>\n",
       "    <tr style=\"text-align: right;\">\n",
       "      <th></th>\n",
       "      <th>gvkey</th>\n",
       "      <th>datadate</th>\n",
       "      <th>fyearq</th>\n",
       "      <th>fqtr</th>\n",
       "      <th>fyr</th>\n",
       "      <th>indfmt</th>\n",
       "      <th>consol</th>\n",
       "      <th>popsrc</th>\n",
       "      <th>datafmt</th>\n",
       "      <th>tic</th>\n",
       "      <th>curcdq</th>\n",
       "      <th>datacqtr</th>\n",
       "      <th>datafqtr</th>\n",
       "      <th>costat</th>\n",
       "      <th>fyrc</th>\n",
       "    </tr>\n",
       "  </thead>\n",
       "  <tbody>\n",
       "    <tr>\n",
       "      <th>0</th>\n",
       "      <td>1004</td>\n",
       "      <td>19980228</td>\n",
       "      <td>1997</td>\n",
       "      <td>3.0</td>\n",
       "      <td>5</td>\n",
       "      <td>INDL</td>\n",
       "      <td>C</td>\n",
       "      <td>D</td>\n",
       "      <td>STD</td>\n",
       "      <td>AIR</td>\n",
       "      <td>USD</td>\n",
       "      <td>1998Q1</td>\n",
       "      <td>1997Q3</td>\n",
       "      <td>A</td>\n",
       "      <td>5</td>\n",
       "    </tr>\n",
       "    <tr>\n",
       "      <th>1</th>\n",
       "      <td>1004</td>\n",
       "      <td>19980531</td>\n",
       "      <td>1997</td>\n",
       "      <td>4.0</td>\n",
       "      <td>5</td>\n",
       "      <td>INDL</td>\n",
       "      <td>C</td>\n",
       "      <td>D</td>\n",
       "      <td>STD</td>\n",
       "      <td>AIR</td>\n",
       "      <td>USD</td>\n",
       "      <td>1998Q2</td>\n",
       "      <td>1997Q4</td>\n",
       "      <td>A</td>\n",
       "      <td>5</td>\n",
       "    </tr>\n",
       "    <tr>\n",
       "      <th>2</th>\n",
       "      <td>1004</td>\n",
       "      <td>19980831</td>\n",
       "      <td>1998</td>\n",
       "      <td>1.0</td>\n",
       "      <td>5</td>\n",
       "      <td>INDL</td>\n",
       "      <td>C</td>\n",
       "      <td>D</td>\n",
       "      <td>STD</td>\n",
       "      <td>AIR</td>\n",
       "      <td>USD</td>\n",
       "      <td>1998Q3</td>\n",
       "      <td>1998Q1</td>\n",
       "      <td>A</td>\n",
       "      <td>5</td>\n",
       "    </tr>\n",
       "    <tr>\n",
       "      <th>3</th>\n",
       "      <td>1004</td>\n",
       "      <td>19981130</td>\n",
       "      <td>1998</td>\n",
       "      <td>2.0</td>\n",
       "      <td>5</td>\n",
       "      <td>INDL</td>\n",
       "      <td>C</td>\n",
       "      <td>D</td>\n",
       "      <td>STD</td>\n",
       "      <td>AIR</td>\n",
       "      <td>USD</td>\n",
       "      <td>1998Q4</td>\n",
       "      <td>1998Q2</td>\n",
       "      <td>A</td>\n",
       "      <td>5</td>\n",
       "    </tr>\n",
       "    <tr>\n",
       "      <th>4</th>\n",
       "      <td>1004</td>\n",
       "      <td>19990228</td>\n",
       "      <td>1998</td>\n",
       "      <td>3.0</td>\n",
       "      <td>5</td>\n",
       "      <td>INDL</td>\n",
       "      <td>C</td>\n",
       "      <td>D</td>\n",
       "      <td>STD</td>\n",
       "      <td>AIR</td>\n",
       "      <td>USD</td>\n",
       "      <td>1999Q1</td>\n",
       "      <td>1998Q3</td>\n",
       "      <td>A</td>\n",
       "      <td>5</td>\n",
       "    </tr>\n",
       "  </tbody>\n",
       "</table>\n",
       "</div>"
      ],
      "text/plain": [
       "   gvkey  datadate  fyearq  fqtr  fyr indfmt consol popsrc datafmt  tic  \\\n",
       "0   1004  19980228    1997   3.0    5   INDL      C      D     STD  AIR   \n",
       "1   1004  19980531    1997   4.0    5   INDL      C      D     STD  AIR   \n",
       "2   1004  19980831    1998   1.0    5   INDL      C      D     STD  AIR   \n",
       "3   1004  19981130    1998   2.0    5   INDL      C      D     STD  AIR   \n",
       "4   1004  19990228    1998   3.0    5   INDL      C      D     STD  AIR   \n",
       "\n",
       "  curcdq datacqtr datafqtr costat  fyrc  \n",
       "0    USD   1998Q1   1997Q3      A     5  \n",
       "1    USD   1998Q2   1997Q4      A     5  \n",
       "2    USD   1998Q3   1998Q1      A     5  \n",
       "3    USD   1998Q4   1998Q2      A     5  \n",
       "4    USD   1999Q1   1998Q3      A     5  "
      ]
     },
     "execution_count": 3,
     "metadata": {},
     "output_type": "execute_result"
    }
   ],
   "source": [
    "quarters = pd.read_csv(\"../../data/companyData/fiscalYears.csv\")\n",
    "quarters.head()"
   ]
  },
  {
   "cell_type": "code",
   "execution_count": 4,
   "metadata": {},
   "outputs": [
    {
     "data": {
      "text/plain": [
       "27703"
      ]
     },
     "execution_count": 4,
     "metadata": {},
     "output_type": "execute_result"
    }
   ],
   "source": [
    "len(quarters.gvkey.unique())"
   ]
  },
  {
   "cell_type": "code",
   "execution_count": 5,
   "metadata": {},
   "outputs": [
    {
     "data": {
      "text/plain": [
       "0.8661478661478661"
      ]
     },
     "execution_count": 5,
     "metadata": {},
     "output_type": "execute_result"
    }
   ],
   "source": [
    "sum((quarters.fyr == 12) | \n",
    "   (quarters.fyr == 3) | \n",
    "   (quarters.fyr == 6) | \n",
    "   (quarters.fyr == 9))/quarters.shape[0]"
   ]
  },
  {
   "cell_type": "code",
   "execution_count": 6,
   "metadata": {},
   "outputs": [],
   "source": [
    "quarters = quarters[(quarters.fyr == 12) | \n",
    "   (quarters.fyr == 3) | \n",
    "   (quarters.fyr == 6) | \n",
    "   (quarters.fyr == 9)][['gvkey','datadate','datacqtr','datafqtr','fyr']].reset_index(drop = True)\n"
   ]
  },
  {
   "cell_type": "code",
   "execution_count": 7,
   "metadata": {},
   "outputs": [
    {
     "data": {
      "text/html": [
       "<div>\n",
       "<style scoped>\n",
       "    .dataframe tbody tr th:only-of-type {\n",
       "        vertical-align: middle;\n",
       "    }\n",
       "\n",
       "    .dataframe tbody tr th {\n",
       "        vertical-align: top;\n",
       "    }\n",
       "\n",
       "    .dataframe thead th {\n",
       "        text-align: right;\n",
       "    }\n",
       "</style>\n",
       "<table border=\"1\" class=\"dataframe\">\n",
       "  <thead>\n",
       "    <tr style=\"text-align: right;\">\n",
       "      <th></th>\n",
       "      <th>gvkey</th>\n",
       "      <th>datadate</th>\n",
       "      <th>datacqtr</th>\n",
       "      <th>datafqtr</th>\n",
       "      <th>fyr</th>\n",
       "    </tr>\n",
       "  </thead>\n",
       "  <tbody>\n",
       "    <tr>\n",
       "      <th>0</th>\n",
       "      <td>1010</td>\n",
       "      <td>19980331</td>\n",
       "      <td>1998Q1</td>\n",
       "      <td>1998Q1</td>\n",
       "      <td>12</td>\n",
       "    </tr>\n",
       "    <tr>\n",
       "      <th>1</th>\n",
       "      <td>1010</td>\n",
       "      <td>19980630</td>\n",
       "      <td>1998Q2</td>\n",
       "      <td>1998Q2</td>\n",
       "      <td>12</td>\n",
       "    </tr>\n",
       "    <tr>\n",
       "      <th>2</th>\n",
       "      <td>1010</td>\n",
       "      <td>19980930</td>\n",
       "      <td>1998Q3</td>\n",
       "      <td>1998Q3</td>\n",
       "      <td>12</td>\n",
       "    </tr>\n",
       "    <tr>\n",
       "      <th>3</th>\n",
       "      <td>1010</td>\n",
       "      <td>19981231</td>\n",
       "      <td>1998Q4</td>\n",
       "      <td>1998Q4</td>\n",
       "      <td>12</td>\n",
       "    </tr>\n",
       "    <tr>\n",
       "      <th>4</th>\n",
       "      <td>1010</td>\n",
       "      <td>19990331</td>\n",
       "      <td>1999Q1</td>\n",
       "      <td>1999Q1</td>\n",
       "      <td>12</td>\n",
       "    </tr>\n",
       "  </tbody>\n",
       "</table>\n",
       "</div>"
      ],
      "text/plain": [
       "   gvkey  datadate datacqtr datafqtr  fyr\n",
       "0   1010  19980331   1998Q1   1998Q1   12\n",
       "1   1010  19980630   1998Q2   1998Q2   12\n",
       "2   1010  19980930   1998Q3   1998Q3   12\n",
       "3   1010  19981231   1998Q4   1998Q4   12\n",
       "4   1010  19990331   1999Q1   1999Q1   12"
      ]
     },
     "execution_count": 7,
     "metadata": {},
     "output_type": "execute_result"
    }
   ],
   "source": [
    "quarters.head()"
   ]
  },
  {
   "cell_type": "markdown",
   "metadata": {},
   "source": [
    "Merge the quarter data into the change data, and make sure that the quarters that are used line up with the calendar quarters."
   ]
  },
  {
   "cell_type": "code",
   "execution_count": 8,
   "metadata": {},
   "outputs": [
    {
     "name": "stdout",
     "output_type": "stream",
     "text": [
      "1.0\n"
     ]
    }
   ],
   "source": [
    "changesCal = changes[changes.gvkey.isin(quarters.gvkey.unique())]\n",
    "\n",
    "changesCal = changesCal.merge(quarters)\n",
    "\n",
    "print(changesCal.shape[0]/changes.shape[0])"
   ]
  },
  {
   "cell_type": "code",
   "execution_count": 9,
   "metadata": {},
   "outputs": [
    {
     "name": "stdout",
     "output_type": "stream",
     "text": [
      "(645951, 44)    Unnamed: 0  Unnamed: 0.1  Unnamed: 0.1.1  gvkey  datadate  year  qtr  \\\n",
      "0           0             0               0   1010  20010331  2001    1   \n",
      "1           1             1               1   1010  20010630  2001    2   \n",
      "2           2             2               2   1010  20010930  2001    3   \n",
      "3           3             3               3   1010  20011231  2001    4   \n",
      "4           4             4               4   1010  20020331  2002    1   \n",
      "\n",
      "          companyName curcdq  assets  ...  roa_lagged  famafrench  \\\n",
      "0  ACF INDUSTRIES INC    USD  3750.1  ...    0.005412        26.0   \n",
      "1  ACF INDUSTRIES INC    USD  3701.7  ...    0.021410        26.0   \n",
      "2  ACF INDUSTRIES INC    USD  3930.6  ...         NaN        26.0   \n",
      "3  ACF INDUSTRIES INC    USD  3723.1  ...   -0.011506        26.0   \n",
      "4  ACF INDUSTRIES INC    USD  3691.9  ...    0.019720        26.0   \n",
      "\n",
      "   earliestYear  ageTercile  sizeTercile profitTercile datacqtr datafqtr fyr  \\\n",
      "0          1962           0          2.0           1.0   2001Q1   2001Q1  12   \n",
      "1          1962           0          2.0           2.0   2001Q2   2001Q2  12   \n",
      "2          1962           0          NaN           NaN   2001Q3   2001Q3  12   \n",
      "3          1962           0          2.0           0.0   2001Q4   2001Q4  12   \n",
      "4          1962           0          2.0           2.0   2002Q1   2002Q1  12   \n",
      "\n",
      "                           DATE  \n",
      "0 1970-01-01 00:00:00.020010331  \n",
      "1 1970-01-01 00:00:00.020010630  \n",
      "2 1970-01-01 00:00:00.020010930  \n",
      "3 1970-01-01 00:00:00.020011231  \n",
      "4 1970-01-01 00:00:00.020020331  \n",
      "\n",
      "[5 rows x 44 columns]\n"
     ]
    }
   ],
   "source": [
    "changesCal.loc[~(changesCal.datacqtr.isna()), 'year'] = changesCal.datacqtr.str.slice(0,4)\n",
    "changesCal.loc[~(changesCal.datacqtr.isna()), 'qtr']  = changesCal.datacqtr.str.slice(5,6)\n",
    "\n",
    "changesCal['DATE'] = pd.to_datetime(changesCal['datadate'])\n",
    "\n",
    "changesCal.loc[(changesCal.datacqtr.isna()), 'year'] = changesCal.DATE.dt.year\n",
    "changesCal.loc[(changesCal.datacqtr.isna()), 'qtr']  = changesCal.DATE.dt.quarter\n",
    "\n",
    "changesCal['year'] = changesCal.year.astype('int64')\n",
    "changesCal['qtr']  = changesCal.qtr.astype('int64')\n",
    "\n",
    "print(changesCal.shape,changesCal.head())"
   ]
  },
  {
   "cell_type": "code",
   "execution_count": 18,
   "metadata": {},
   "outputs": [
    {
     "data": {
      "text/html": [
       "<div>\n",
       "<style scoped>\n",
       "    .dataframe tbody tr th:only-of-type {\n",
       "        vertical-align: middle;\n",
       "    }\n",
       "\n",
       "    .dataframe tbody tr th {\n",
       "        vertical-align: top;\n",
       "    }\n",
       "\n",
       "    .dataframe thead th {\n",
       "        text-align: right;\n",
       "    }\n",
       "</style>\n",
       "<table border=\"1\" class=\"dataframe\">\n",
       "  <thead>\n",
       "    <tr style=\"text-align: right;\">\n",
       "      <th></th>\n",
       "      <th>Unnamed: 0</th>\n",
       "      <th>Unnamed: 0.1</th>\n",
       "      <th>gvkey</th>\n",
       "      <th>datadate</th>\n",
       "      <th>year</th>\n",
       "      <th>qtr</th>\n",
       "      <th>companyName</th>\n",
       "      <th>curcdq</th>\n",
       "      <th>assets</th>\n",
       "      <th>costGoodsSold</th>\n",
       "      <th>...</th>\n",
       "      <th>roa_lagged</th>\n",
       "      <th>famafrench</th>\n",
       "      <th>earliestYear</th>\n",
       "      <th>ageTercile</th>\n",
       "      <th>sizeTercile</th>\n",
       "      <th>profitTercile</th>\n",
       "      <th>datacqtr</th>\n",
       "      <th>datafqtr</th>\n",
       "      <th>fyr</th>\n",
       "      <th>DATE</th>\n",
       "    </tr>\n",
       "  </thead>\n",
       "  <tbody>\n",
       "    <tr>\n",
       "      <th>0</th>\n",
       "      <td>0</td>\n",
       "      <td>0</td>\n",
       "      <td>1010</td>\n",
       "      <td>20010331</td>\n",
       "      <td>2001</td>\n",
       "      <td>1</td>\n",
       "      <td>ACF INDUSTRIES INC</td>\n",
       "      <td>USD</td>\n",
       "      <td>3750.1</td>\n",
       "      <td>56.3</td>\n",
       "      <td>...</td>\n",
       "      <td>0.005412</td>\n",
       "      <td>26.0</td>\n",
       "      <td>1962</td>\n",
       "      <td>0</td>\n",
       "      <td>2.0</td>\n",
       "      <td>1.0</td>\n",
       "      <td>2001Q1</td>\n",
       "      <td>2001Q1</td>\n",
       "      <td>12</td>\n",
       "      <td>1970-01-01 00:00:00.020010331</td>\n",
       "    </tr>\n",
       "    <tr>\n",
       "      <th>1</th>\n",
       "      <td>1</td>\n",
       "      <td>1</td>\n",
       "      <td>1010</td>\n",
       "      <td>20010630</td>\n",
       "      <td>2001</td>\n",
       "      <td>2</td>\n",
       "      <td>ACF INDUSTRIES INC</td>\n",
       "      <td>USD</td>\n",
       "      <td>3701.7</td>\n",
       "      <td>30.8</td>\n",
       "      <td>...</td>\n",
       "      <td>0.021410</td>\n",
       "      <td>26.0</td>\n",
       "      <td>1962</td>\n",
       "      <td>0</td>\n",
       "      <td>2.0</td>\n",
       "      <td>2.0</td>\n",
       "      <td>2001Q2</td>\n",
       "      <td>2001Q2</td>\n",
       "      <td>12</td>\n",
       "      <td>1970-01-01 00:00:00.020010630</td>\n",
       "    </tr>\n",
       "    <tr>\n",
       "      <th>2</th>\n",
       "      <td>2</td>\n",
       "      <td>2</td>\n",
       "      <td>1010</td>\n",
       "      <td>20010930</td>\n",
       "      <td>2001</td>\n",
       "      <td>3</td>\n",
       "      <td>ACF INDUSTRIES INC</td>\n",
       "      <td>USD</td>\n",
       "      <td>3930.6</td>\n",
       "      <td>37.0</td>\n",
       "      <td>...</td>\n",
       "      <td>NaN</td>\n",
       "      <td>26.0</td>\n",
       "      <td>1962</td>\n",
       "      <td>0</td>\n",
       "      <td>NaN</td>\n",
       "      <td>NaN</td>\n",
       "      <td>2001Q3</td>\n",
       "      <td>2001Q3</td>\n",
       "      <td>12</td>\n",
       "      <td>1970-01-01 00:00:00.020010930</td>\n",
       "    </tr>\n",
       "    <tr>\n",
       "      <th>3</th>\n",
       "      <td>3</td>\n",
       "      <td>3</td>\n",
       "      <td>1010</td>\n",
       "      <td>20011231</td>\n",
       "      <td>2001</td>\n",
       "      <td>4</td>\n",
       "      <td>ACF INDUSTRIES INC</td>\n",
       "      <td>USD</td>\n",
       "      <td>3723.1</td>\n",
       "      <td>30.0</td>\n",
       "      <td>...</td>\n",
       "      <td>-0.011506</td>\n",
       "      <td>26.0</td>\n",
       "      <td>1962</td>\n",
       "      <td>0</td>\n",
       "      <td>2.0</td>\n",
       "      <td>0.0</td>\n",
       "      <td>2001Q4</td>\n",
       "      <td>2001Q4</td>\n",
       "      <td>12</td>\n",
       "      <td>1970-01-01 00:00:00.020011231</td>\n",
       "    </tr>\n",
       "    <tr>\n",
       "      <th>4</th>\n",
       "      <td>4</td>\n",
       "      <td>4</td>\n",
       "      <td>1010</td>\n",
       "      <td>20020331</td>\n",
       "      <td>2002</td>\n",
       "      <td>1</td>\n",
       "      <td>ACF INDUSTRIES INC</td>\n",
       "      <td>USD</td>\n",
       "      <td>3691.9</td>\n",
       "      <td>26.1</td>\n",
       "      <td>...</td>\n",
       "      <td>0.019720</td>\n",
       "      <td>26.0</td>\n",
       "      <td>1962</td>\n",
       "      <td>0</td>\n",
       "      <td>2.0</td>\n",
       "      <td>2.0</td>\n",
       "      <td>2002Q1</td>\n",
       "      <td>2002Q1</td>\n",
       "      <td>12</td>\n",
       "      <td>1970-01-01 00:00:00.020020331</td>\n",
       "    </tr>\n",
       "  </tbody>\n",
       "</table>\n",
       "<p>5 rows × 43 columns</p>\n",
       "</div>"
      ],
      "text/plain": [
       "   Unnamed: 0  Unnamed: 0.1  gvkey  datadate  year  qtr         companyName  \\\n",
       "0           0             0   1010  20010331  2001    1  ACF INDUSTRIES INC   \n",
       "1           1             1   1010  20010630  2001    2  ACF INDUSTRIES INC   \n",
       "2           2             2   1010  20010930  2001    3  ACF INDUSTRIES INC   \n",
       "3           3             3   1010  20011231  2001    4  ACF INDUSTRIES INC   \n",
       "4           4             4   1010  20020331  2002    1  ACF INDUSTRIES INC   \n",
       "\n",
       "  curcdq  assets  costGoodsSold  ...  roa_lagged  famafrench  earliestYear  \\\n",
       "0    USD  3750.1           56.3  ...    0.005412        26.0          1962   \n",
       "1    USD  3701.7           30.8  ...    0.021410        26.0          1962   \n",
       "2    USD  3930.6           37.0  ...         NaN        26.0          1962   \n",
       "3    USD  3723.1           30.0  ...   -0.011506        26.0          1962   \n",
       "4    USD  3691.9           26.1  ...    0.019720        26.0          1962   \n",
       "\n",
       "   ageTercile sizeTercile profitTercile datacqtr datafqtr fyr  \\\n",
       "0           0         2.0           1.0   2001Q1   2001Q1  12   \n",
       "1           0         2.0           2.0   2001Q2   2001Q2  12   \n",
       "2           0         NaN           NaN   2001Q3   2001Q3  12   \n",
       "3           0         2.0           0.0   2001Q4   2001Q4  12   \n",
       "4           0         2.0           2.0   2002Q1   2002Q1  12   \n",
       "\n",
       "                           DATE  \n",
       "0 1970-01-01 00:00:00.020010331  \n",
       "1 1970-01-01 00:00:00.020010630  \n",
       "2 1970-01-01 00:00:00.020010930  \n",
       "3 1970-01-01 00:00:00.020011231  \n",
       "4 1970-01-01 00:00:00.020020331  \n",
       "\n",
       "[5 rows x 43 columns]"
      ]
     },
     "execution_count": 18,
     "metadata": {},
     "output_type": "execute_result"
    }
   ],
   "source": [
    "changesCal.to_csv(\"../../data/companyData/compustatChanges_withControls.csv\")\n",
    "changesCal.head()"
   ]
  },
  {
   "cell_type": "code",
   "execution_count": 19,
   "metadata": {},
   "outputs": [
    {
     "name": "stderr",
     "output_type": "stream",
     "text": [
      "/Users/brianreed/opt/anaconda3/lib/python3.7/site-packages/IPython/core/interactiveshell.py:3326: DtypeWarning: Columns (17) have mixed types.Specify dtype option on import or set low_memory=False.\n",
      "  exec(code_obj, self.user_global_ns, self.user_ns)\n"
     ]
    }
   ],
   "source": [
    "changesCal = pd.read_csv(\"../../data/companyData/compustatChanges_withControls.csv\")\n"
   ]
  },
  {
   "cell_type": "markdown",
   "metadata": {},
   "source": [
    "# Compustat and ABI Linking"
   ]
  },
  {
   "cell_type": "code",
   "execution_count": 3,
   "metadata": {},
   "outputs": [
    {
     "data": {
      "text/html": [
       "<div>\n",
       "<style scoped>\n",
       "    .dataframe tbody tr th:only-of-type {\n",
       "        vertical-align: middle;\n",
       "    }\n",
       "\n",
       "    .dataframe tbody tr th {\n",
       "        vertical-align: top;\n",
       "    }\n",
       "\n",
       "    .dataframe thead th {\n",
       "        text-align: right;\n",
       "    }\n",
       "</style>\n",
       "<table border=\"1\" class=\"dataframe\">\n",
       "  <thead>\n",
       "    <tr style=\"text-align: right;\">\n",
       "      <th></th>\n",
       "      <th>cstatCompanies</th>\n",
       "      <th>igCompanies</th>\n",
       "      <th>delete</th>\n",
       "      <th>gvkey</th>\n",
       "      <th>abi</th>\n",
       "    </tr>\n",
       "  </thead>\n",
       "  <tbody>\n",
       "    <tr>\n",
       "      <th>0</th>\n",
       "      <td>asa gold and precious metals</td>\n",
       "      <td>asa gold   precious metals</td>\n",
       "      <td>NaN</td>\n",
       "      <td>1062</td>\n",
       "      <td>402180222</td>\n",
       "    </tr>\n",
       "    <tr>\n",
       "      <th>1</th>\n",
       "      <td>adams diversified equity fd</td>\n",
       "      <td>adams diversified equity fund</td>\n",
       "      <td>NaN</td>\n",
       "      <td>1119</td>\n",
       "      <td>397759739</td>\n",
       "    </tr>\n",
       "    <tr>\n",
       "      <th>2</th>\n",
       "      <td>allen organ</td>\n",
       "      <td>allen organ</td>\n",
       "      <td>NaN</td>\n",
       "      <td>1283</td>\n",
       "      <td>400700704</td>\n",
       "    </tr>\n",
       "    <tr>\n",
       "      <th>3</th>\n",
       "      <td>american physicians svc gp</td>\n",
       "      <td>american physicians svc</td>\n",
       "      <td>NaN</td>\n",
       "      <td>1539</td>\n",
       "      <td>218548014</td>\n",
       "    </tr>\n",
       "    <tr>\n",
       "      <th>4</th>\n",
       "      <td>american science engineering</td>\n",
       "      <td>american science   engineering</td>\n",
       "      <td>NaN</td>\n",
       "      <td>1554</td>\n",
       "      <td>441435880</td>\n",
       "    </tr>\n",
       "  </tbody>\n",
       "</table>\n",
       "</div>"
      ],
      "text/plain": [
       "                 cstatCompanies                     igCompanies  delete  \\\n",
       "0  asa gold and precious metals      asa gold   precious metals     NaN   \n",
       "1   adams diversified equity fd   adams diversified equity fund     NaN   \n",
       "2                  allen organ                      allen organ     NaN   \n",
       "3    american physicians svc gp        american physicians svc      NaN   \n",
       "4  american science engineering  american science   engineering     NaN   \n",
       "\n",
       "   gvkey        abi  \n",
       "0   1062  402180222  \n",
       "1   1119  397759739  \n",
       "2   1283  400700704  \n",
       "3   1539  218548014  \n",
       "4   1554  441435880  "
      ]
     },
     "execution_count": 3,
     "metadata": {},
     "output_type": "execute_result"
    }
   ],
   "source": [
    "gvKey_abiLinkingTable = pd.read_csv('../../data/companyData/linkingTable.csv').drop(columns = ['Unnamed: 0'])\n",
    "\n",
    "base_columns = gvKey_abiLinkingTable.columns \n",
    "customer_columns = \"customer_\" + base_columns\n",
    "supplier_columns = \"supplier_\" + base_columns\n",
    "\n",
    "\n",
    "\n",
    "hasMatch = gvKey_abiLinkingTable.gvkey.unique()\n",
    "\n",
    "gvKey_abiLinkingTable.head()\n"
   ]
  },
  {
   "cell_type": "code",
   "execution_count": null,
   "metadata": {},
   "outputs": [],
   "source": []
  },
  {
   "cell_type": "markdown",
   "metadata": {},
   "source": [
    "---------------------------------"
   ]
  },
  {
   "cell_type": "markdown",
   "metadata": {},
   "source": [
    "# Get all change data together\n",
    "Get the linking table and merge the abi labels into the change df. \n",
    "\n",
    "Then, merge the location data into the change data and get as complete a record of companies as possible given the HQ data."
   ]
  },
  {
   "cell_type": "code",
   "execution_count": 4,
   "metadata": {},
   "outputs": [
    {
     "name": "stderr",
     "output_type": "stream",
     "text": [
      "/Users/brianreed/opt/anaconda3/lib/python3.7/site-packages/IPython/core/interactiveshell.py:3326: DtypeWarning: Columns (17) have mixed types.Specify dtype option on import or set low_memory=False.\n",
      "  exec(code_obj, self.user_global_ns, self.user_ns)\n"
     ]
    },
    {
     "name": "stdout",
     "output_type": "stream",
     "text": [
      "(645951, 43)    Unnamed: 0.1  Unnamed: 0.1.1  gvkey  datadate  year  qtr  \\\n",
      "0             0               0   1010  20010331  2001    1   \n",
      "1             1               1   1010  20010630  2001    2   \n",
      "2             2               2   1010  20010930  2001    3   \n",
      "3             3               3   1010  20011231  2001    4   \n",
      "4             4               4   1010  20020331  2002    1   \n",
      "\n",
      "          companyName curcdq  assets  costGoodsSold  ...  roa_lagged  \\\n",
      "0  ACF INDUSTRIES INC    USD  3750.1           56.3  ...    0.005412   \n",
      "1  ACF INDUSTRIES INC    USD  3701.7           30.8  ...    0.021410   \n",
      "2  ACF INDUSTRIES INC    USD  3930.6           37.0  ...         NaN   \n",
      "3  ACF INDUSTRIES INC    USD  3723.1           30.0  ...   -0.011506   \n",
      "4  ACF INDUSTRIES INC    USD  3691.9           26.1  ...    0.019720   \n",
      "\n",
      "   famafrench  earliestYear  ageTercile sizeTercile profitTercile datacqtr  \\\n",
      "0        26.0          1962           0         2.0           1.0   2001Q1   \n",
      "1        26.0          1962           0         2.0           2.0   2001Q2   \n",
      "2        26.0          1962           0         NaN           NaN   2001Q3   \n",
      "3        26.0          1962           0         2.0           0.0   2001Q4   \n",
      "4        26.0          1962           0         2.0           2.0   2002Q1   \n",
      "\n",
      "  datafqtr fyr                           DATE  \n",
      "0   2001Q1  12  1970-01-01 00:00:00.020010331  \n",
      "1   2001Q2  12  1970-01-01 00:00:00.020010630  \n",
      "2   2001Q3  12  1970-01-01 00:00:00.020010930  \n",
      "3   2001Q4  12  1970-01-01 00:00:00.020011231  \n",
      "4   2002Q1  12  1970-01-01 00:00:00.020020331  \n",
      "\n",
      "[5 rows x 43 columns]\n",
      "(313403, 45)    Unnamed: 0.1  Unnamed: 0.1.1  gvkey  datadate  year  qtr  \\\n",
      "0            14              14   1013  20091231  2009    4   \n",
      "1            15              15   1013  20100331  2010    1   \n",
      "2            16              16   1013  20100630  2010    2   \n",
      "3            17              17   1013  20100930  2010    3   \n",
      "4            18              18   1019  20010331  2001    1   \n",
      "\n",
      "                  companyName curcdq  assets  costGoodsSold  ...  sizeTercile  \\\n",
      "0  ADC TELECOMMUNICATIONS INC    USD  1336.1          157.9  ...          2.0   \n",
      "1  ADC TELECOMMUNICATIONS INC    USD  1345.1          158.5  ...          2.0   \n",
      "2  ADC TELECOMMUNICATIONS INC    USD  1415.0          176.2  ...          2.0   \n",
      "3  ADC TELECOMMUNICATIONS INC    USD  1474.5          184.6  ...          2.0   \n",
      "4  AFA PROTECTIVE SYSTEMS INC    USD     NaN            NaN  ...          NaN   \n",
      "\n",
      "   profitTercile  datacqtr  datafqtr fyr                           DATE  \\\n",
      "0            0.0    2009Q4    2010Q1   9  1970-01-01 00:00:00.020091231   \n",
      "1            1.0    2010Q1    2010Q2   9  1970-01-01 00:00:00.020100331   \n",
      "2            1.0    2010Q2    2010Q3   9  1970-01-01 00:00:00.020100630   \n",
      "3            0.0    2010Q3    2010Q4   9  1970-01-01 00:00:00.020100930   \n",
      "4            NaN    2001Q1    2001Q1  12  1970-01-01 00:00:00.020010331   \n",
      "\n",
      "           cstatCompanies             igCompanies  delete        abi  \n",
      "0  adc telecommunications  adc telecommunications     NaN    7523129  \n",
      "1  adc telecommunications  adc telecommunications     NaN    7523129  \n",
      "2  adc telecommunications  adc telecommunications     NaN    7523129  \n",
      "3  adc telecommunications  adc telecommunications     NaN    7523129  \n",
      "4  afa protective systems  afa protective systems     NaN  317110880  \n",
      "\n",
      "[5 rows x 45 columns]\n"
     ]
    }
   ],
   "source": [
    "gvKey_abiLinkingTable = pd.read_csv('../../data/companyData/linkingTable.csv').drop(columns = ['Unnamed: 0'])\n",
    "\n",
    "changes = pd.read_csv(\"../../data/companyData/compustatChanges_withControls.csv\").drop(columns = ['Unnamed: 0'])\n",
    "print(changes.shape, changes.head())\n",
    "\n",
    "\n",
    "changesABI = changes.merge(gvKey_abiLinkingTable, on ='gvkey').drop(columns = {'state','city'})\n",
    "print(changesABI.shape, changesABI.head())"
   ]
  },
  {
   "cell_type": "markdown",
   "metadata": {},
   "source": [
    "Now merge in the hq information."
   ]
  },
  {
   "cell_type": "code",
   "execution_count": 12,
   "metadata": {},
   "outputs": [
    {
     "data": {
      "text/plain": [
       "array(['MO', 'MN', 'NY', 'NJ', 'PA', 'TX', 'SC', 'AZ', 'UT', 'IL', 'MA',\n",
       "       'WA', 'CT', 'FL', 'CA', 'MD', 'NC', 'AL', 'HI', 'OH', 'AR', 'GA',\n",
       "       'CO', 'NV', 'KS', 'ID', 'WI', 'ME', 'WY', 'VA', 'OK', 'VT', 'DE',\n",
       "       'IN', 'PR', 'IA', 'MI', 'LA', 'RI', 'NE', 'MT', 'SD', 'OR', 'DC',\n",
       "       'WV', 'KY', 'TN', 'MS', 'ND', 'NH', 'NM', 'VI', 'AK', 'GU'],\n",
       "      dtype=object)"
      ]
     },
     "execution_count": 12,
     "metadata": {},
     "output_type": "execute_result"
    }
   ],
   "source": [
    "canadian = ['ON', 'AB','QC', 'BC', 'NS', 'NF', 'SK', 'MB', 'NB']\n",
    "changes = changes[~(changes.state.isin(canadian)) & ~changes.state.isna()]\n",
    "\n",
    "changes['addzip'] = changes.addzip.astype('str').str.slice(0,5)\n",
    "\n",
    "changes.state.unique()"
   ]
  },
  {
   "cell_type": "code",
   "execution_count": 13,
   "metadata": {},
   "outputs": [],
   "source": [
    "changes.drop(columns = {'Unnamed: 0.1'}, inplace = True)"
   ]
  },
  {
   "cell_type": "code",
   "execution_count": 14,
   "metadata": {},
   "outputs": [
    {
     "name": "stdout",
     "output_type": "stream",
     "text": [
      "(241835, 56)    Unnamed: 0.1  Unnamed: 0.1.1  gvkey  datadate  year  qtr  \\\n",
      "0            14              14   1013  20091231  2009    4   \n",
      "1            15              15   1013  20100331  2010    1   \n",
      "2            16              16   1013  20100630  2010    2   \n",
      "3            17              17   1013  20100930  2010    3   \n",
      "4           121             121   1045  20030331  2003    1   \n",
      "\n",
      "                   companyName curcdq   assets  costGoodsSold  ...  \\\n",
      "0   ADC TELECOMMUNICATIONS INC    USD   1336.1          157.9  ...   \n",
      "1   ADC TELECOMMUNICATIONS INC    USD   1345.1          158.5  ...   \n",
      "2   ADC TELECOMMUNICATIONS INC    USD   1415.0          176.2  ...   \n",
      "3   ADC TELECOMMUNICATIONS INC    USD   1474.5          184.6  ...   \n",
      "4  AMERICAN AIRLINES GROUP INC    USD  29086.0         3943.0  ...   \n",
      "\n",
      "                      company  state          city         address_line_1  \\\n",
      "0  ADC TELECOMMUNICATIONS INC     MN  EDEN PRAIRIE    13625 TECHNOLOGY DR   \n",
      "1  ADC TELECOMMUNICATIONS INC     MN  EDEN PRAIRIE    13625 TECHNOLOGY DR   \n",
      "2  ADC TELECOMMUNICATIONS INC     MN  EDEN PRAIRIE    13625 TECHNOLOGY DR   \n",
      "3  ADC TELECOMMUNICATIONS INC     MN  EDEN PRAIRIE    13625 TECHNOLOGY DR   \n",
      "4                    AMR CORP     TX    FORT WORTH  4333 AMON CARTER BLVD   \n",
      "\n",
      "  zipcode  latitude longitude parent_employee_size_code  \\\n",
      "0   55344  44.85645 -93.45199                     250.0   \n",
      "1   55344  44.85645 -93.45199                     250.0   \n",
      "2   55344  44.85645 -93.45199                     250.0   \n",
      "3   55344  44.85645 -93.45199                     250.0   \n",
      "4   76155  32.82563 -97.05057                    1000.0   \n",
      "\n",
      "   location_employee_size_code  employeesAtLocation  \n",
      "0                        250.0                  1.0  \n",
      "1                        250.0                  1.0  \n",
      "2                        250.0                  1.0  \n",
      "3                        250.0                  1.0  \n",
      "4                       1000.0                  1.0  \n",
      "\n",
      "[5 rows x 56 columns]\n"
     ]
    },
    {
     "data": {
      "text/html": [
       "<div>\n",
       "<style scoped>\n",
       "    .dataframe tbody tr th:only-of-type {\n",
       "        vertical-align: middle;\n",
       "    }\n",
       "\n",
       "    .dataframe tbody tr th {\n",
       "        vertical-align: top;\n",
       "    }\n",
       "\n",
       "    .dataframe thead th {\n",
       "        text-align: right;\n",
       "    }\n",
       "</style>\n",
       "<table border=\"1\" class=\"dataframe\">\n",
       "  <thead>\n",
       "    <tr style=\"text-align: right;\">\n",
       "      <th></th>\n",
       "      <th>abi</th>\n",
       "      <th>ticker</th>\n",
       "      <th>company</th>\n",
       "      <th>year</th>\n",
       "      <th>state</th>\n",
       "      <th>city</th>\n",
       "      <th>address_line_1</th>\n",
       "      <th>zipcode</th>\n",
       "      <th>latitude</th>\n",
       "      <th>longitude</th>\n",
       "      <th>parent_employee_size_code</th>\n",
       "      <th>location_employee_size_code</th>\n",
       "      <th>employeesAtLocation</th>\n",
       "    </tr>\n",
       "  </thead>\n",
       "  <tbody>\n",
       "    <tr>\n",
       "      <th>0</th>\n",
       "      <td>7609</td>\n",
       "      <td>SODI</td>\n",
       "      <td>SOLITRON DEVICES INC</td>\n",
       "      <td>2003</td>\n",
       "      <td>FL</td>\n",
       "      <td>WEST PALM BEACH</td>\n",
       "      <td>3301 ELECTRONICS WAY # C</td>\n",
       "      <td>33407</td>\n",
       "      <td>26.74120</td>\n",
       "      <td>-80.06694</td>\n",
       "      <td>NaN</td>\n",
       "      <td>NaN</td>\n",
       "      <td>NaN</td>\n",
       "    </tr>\n",
       "    <tr>\n",
       "      <th>1</th>\n",
       "      <td>23077</td>\n",
       "      <td>NaN</td>\n",
       "      <td>JENNY LEE BAKERY</td>\n",
       "      <td>2003</td>\n",
       "      <td>PA</td>\n",
       "      <td>MC KEES ROCKS</td>\n",
       "      <td>620 ISLAND AVE</td>\n",
       "      <td>15136</td>\n",
       "      <td>40.47235</td>\n",
       "      <td>-80.06152</td>\n",
       "      <td>50.0</td>\n",
       "      <td>50.0</td>\n",
       "      <td>1.0</td>\n",
       "    </tr>\n",
       "    <tr>\n",
       "      <th>2</th>\n",
       "      <td>76547</td>\n",
       "      <td>NaN</td>\n",
       "      <td>MASTER PROTECTION CORP</td>\n",
       "      <td>2003</td>\n",
       "      <td>FL</td>\n",
       "      <td>FORT MYERS</td>\n",
       "      <td>12800 UNIVERSITY DR # 400</td>\n",
       "      <td>33907</td>\n",
       "      <td>26.55504</td>\n",
       "      <td>-81.88423</td>\n",
       "      <td>20.0</td>\n",
       "      <td>20.0</td>\n",
       "      <td>1.0</td>\n",
       "    </tr>\n",
       "    <tr>\n",
       "      <th>3</th>\n",
       "      <td>77743</td>\n",
       "      <td>NaN</td>\n",
       "      <td>NATIONAL TECHNICAL SYSTEMS INC</td>\n",
       "      <td>2003</td>\n",
       "      <td>CA</td>\n",
       "      <td>CALABASAS</td>\n",
       "      <td>24007 VENTURA BLVD # 200</td>\n",
       "      <td>91302</td>\n",
       "      <td>34.15562</td>\n",
       "      <td>-118.65163</td>\n",
       "      <td>10.0</td>\n",
       "      <td>10.0</td>\n",
       "      <td>1.0</td>\n",
       "    </tr>\n",
       "    <tr>\n",
       "      <th>4</th>\n",
       "      <td>89151</td>\n",
       "      <td>NaN</td>\n",
       "      <td>HILLTOP BASIC RESOURCES</td>\n",
       "      <td>2003</td>\n",
       "      <td>OH</td>\n",
       "      <td>CINCINNATI</td>\n",
       "      <td>1 W 4TH ST # 1100</td>\n",
       "      <td>45202</td>\n",
       "      <td>39.09982</td>\n",
       "      <td>-84.51297</td>\n",
       "      <td>20.0</td>\n",
       "      <td>20.0</td>\n",
       "      <td>1.0</td>\n",
       "    </tr>\n",
       "  </tbody>\n",
       "</table>\n",
       "</div>"
      ],
      "text/plain": [
       "     abi ticker                         company  year state             city  \\\n",
       "0   7609   SODI            SOLITRON DEVICES INC  2003    FL  WEST PALM BEACH   \n",
       "1  23077    NaN                JENNY LEE BAKERY  2003    PA    MC KEES ROCKS   \n",
       "2  76547    NaN          MASTER PROTECTION CORP  2003    FL       FORT MYERS   \n",
       "3  77743    NaN  NATIONAL TECHNICAL SYSTEMS INC  2003    CA        CALABASAS   \n",
       "4  89151    NaN         HILLTOP BASIC RESOURCES  2003    OH       CINCINNATI   \n",
       "\n",
       "              address_line_1  zipcode  latitude  longitude  \\\n",
       "0   3301 ELECTRONICS WAY # C    33407  26.74120  -80.06694   \n",
       "1             620 ISLAND AVE    15136  40.47235  -80.06152   \n",
       "2  12800 UNIVERSITY DR # 400    33907  26.55504  -81.88423   \n",
       "3   24007 VENTURA BLVD # 200    91302  34.15562 -118.65163   \n",
       "4          1 W 4TH ST # 1100    45202  39.09982  -84.51297   \n",
       "\n",
       "   parent_employee_size_code  location_employee_size_code  employeesAtLocation  \n",
       "0                        NaN                          NaN                  NaN  \n",
       "1                       50.0                         50.0                  1.0  \n",
       "2                       20.0                         20.0                  1.0  \n",
       "3                       10.0                         10.0                  1.0  \n",
       "4                       20.0                         20.0                  1.0  "
      ]
     },
     "execution_count": 14,
     "metadata": {},
     "output_type": "execute_result"
    }
   ],
   "source": [
    "hq = pd.read_csv(\"../../data/ig_uniqueHQs_multLocations.csv\").\\\n",
    "    drop(columns = {'Unnamed: 0'}).\\\n",
    "    rename(columns = {'archive_version_year': 'year'})\n",
    "\n",
    "hq['year'] = hq.year.astype('int64')\n",
    "\n",
    "igChanges = changesABI.merge(hq)\n",
    "print(igChanges.shape, igChanges.head())\n",
    "\n",
    "\n",
    "hq.head()"
   ]
  },
  {
   "cell_type": "code",
   "execution_count": 14,
   "metadata": {},
   "outputs": [],
   "source": [
    "igChanges.to_csv(\"../../data/companyData/igData.csv\")"
   ]
  },
  {
   "cell_type": "markdown",
   "metadata": {},
   "source": [
    "At this point, we have zip information in the following forms (from most to least examples):\n",
    "    - changes: all compustat companies, from the compustat address system\n",
    "    - igChanges: subset of compustat companies, from the ig merge\n",
    "    - subset of compustat companies that have SC information and survived the ig merge\n",
    "    \n",
    "We could potentially look at the subset of compustat companies for which we have SC information, usign the compustat address system as well.\n",
    "\n",
    "For now: follow similar trajectory as before but add in weather data for all cstat companies and all ig-merged companies.\n",
    "\n",
    "First: pull all zips that are mentioned in changes and igChanges and use this to get the weather data.\n",
    "\n"
   ]
  },
  {
   "cell_type": "code",
   "execution_count": 15,
   "metadata": {},
   "outputs": [],
   "source": [
    "changes = changes[(~changes.addzip.isna()) & (changes.addzip != 'nan')]\n",
    "relevantZips = changes.addzip.astype('int64').append(igChanges.zipcode).unique()"
   ]
  },
  {
   "cell_type": "code",
   "execution_count": 16,
   "metadata": {},
   "outputs": [
    {
     "data": {
      "text/plain": [
       "4538"
      ]
     },
     "execution_count": 16,
     "metadata": {},
     "output_type": "execute_result"
    }
   ],
   "source": [
    "len(relevantZips)"
   ]
  },
  {
   "cell_type": "code",
   "execution_count": 17,
   "metadata": {},
   "outputs": [],
   "source": [
    "# relevantZips = allCustomerData.zipcode.append(allSupplierData.zipcode).unique()\n",
    "outfile =  '../../data/companyData/relevantZips.pkl'\n",
    "with open(outfile, 'wb') as pickle_file:\n",
    "    pkl.dump(relevantZips, pickle_file)"
   ]
  },
  {
   "cell_type": "markdown",
   "metadata": {},
   "source": [
    "------------------------------------------------"
   ]
  },
  {
   "cell_type": "markdown",
   "metadata": {},
   "source": [
    "# Stocks"
   ]
  },
  {
   "cell_type": "code",
   "execution_count": 10,
   "metadata": {},
   "outputs": [],
   "source": [
    "with open('../../data/stockReturns.pkl', 'rb') as f:\n",
    "    stonks = pkl.load(f)[['date','gvkey','RET']]"
   ]
  },
  {
   "cell_type": "code",
   "execution_count": 11,
   "metadata": {
    "scrolled": true
   },
   "outputs": [
    {
     "data": {
      "text/html": [
       "<div>\n",
       "<style scoped>\n",
       "    .dataframe tbody tr th:only-of-type {\n",
       "        vertical-align: middle;\n",
       "    }\n",
       "\n",
       "    .dataframe tbody tr th {\n",
       "        vertical-align: top;\n",
       "    }\n",
       "\n",
       "    .dataframe thead th {\n",
       "        text-align: right;\n",
       "    }\n",
       "</style>\n",
       "<table border=\"1\" class=\"dataframe\">\n",
       "  <thead>\n",
       "    <tr style=\"text-align: right;\">\n",
       "      <th></th>\n",
       "      <th>date</th>\n",
       "      <th>gvkey</th>\n",
       "      <th>RET</th>\n",
       "    </tr>\n",
       "  </thead>\n",
       "  <tbody>\n",
       "    <tr>\n",
       "      <th>0</th>\n",
       "      <td>2000-01-03</td>\n",
       "      <td>1690.0</td>\n",
       "      <td>0.088754</td>\n",
       "    </tr>\n",
       "    <tr>\n",
       "      <th>1</th>\n",
       "      <td>2000-01-04</td>\n",
       "      <td>1690.0</td>\n",
       "      <td>-0.084310</td>\n",
       "    </tr>\n",
       "    <tr>\n",
       "      <th>2</th>\n",
       "      <td>2000-01-05</td>\n",
       "      <td>1690.0</td>\n",
       "      <td>0.014634</td>\n",
       "    </tr>\n",
       "    <tr>\n",
       "      <th>3</th>\n",
       "      <td>2000-01-06</td>\n",
       "      <td>1690.0</td>\n",
       "      <td>-0.086538</td>\n",
       "    </tr>\n",
       "    <tr>\n",
       "      <th>4</th>\n",
       "      <td>2000-01-07</td>\n",
       "      <td>1690.0</td>\n",
       "      <td>0.047368</td>\n",
       "    </tr>\n",
       "  </tbody>\n",
       "</table>\n",
       "</div>"
      ],
      "text/plain": [
       "        date   gvkey       RET\n",
       "0 2000-01-03  1690.0  0.088754\n",
       "1 2000-01-04  1690.0 -0.084310\n",
       "2 2000-01-05  1690.0  0.014634\n",
       "3 2000-01-06  1690.0 -0.086538\n",
       "4 2000-01-07  1690.0  0.047368"
      ]
     },
     "execution_count": 11,
     "metadata": {},
     "output_type": "execute_result"
    }
   ],
   "source": [
    "stonks.head()"
   ]
  },
  {
   "cell_type": "markdown",
   "metadata": {},
   "source": [
    "--------------------"
   ]
  },
  {
   "cell_type": "markdown",
   "metadata": {},
   "source": [
    "# Weather Data"
   ]
  },
  {
   "cell_type": "code",
   "execution_count": 16,
   "metadata": {},
   "outputs": [
    {
     "name": "stdout",
     "output_type": "stream",
     "text": [
      "4456\n"
     ]
    },
    {
     "data": {
      "text/html": [
       "<div>\n",
       "<style scoped>\n",
       "    .dataframe tbody tr th:only-of-type {\n",
       "        vertical-align: middle;\n",
       "    }\n",
       "\n",
       "    .dataframe tbody tr th {\n",
       "        vertical-align: top;\n",
       "    }\n",
       "\n",
       "    .dataframe thead th {\n",
       "        text-align: right;\n",
       "    }\n",
       "</style>\n",
       "<table border=\"1\" class=\"dataframe\">\n",
       "  <thead>\n",
       "    <tr style=\"text-align: right;\">\n",
       "      <th></th>\n",
       "      <th>zipcode</th>\n",
       "      <th>quarterly_avg_precip</th>\n",
       "      <th>quarterly_median_precip</th>\n",
       "      <th>quarterly_variance_precip</th>\n",
       "      <th>quarterly_avg_temp</th>\n",
       "      <th>quarterly_median_temp</th>\n",
       "      <th>quarterly_variance_temp</th>\n",
       "      <th>qtr</th>\n",
       "    </tr>\n",
       "  </thead>\n",
       "  <tbody>\n",
       "    <tr>\n",
       "      <th>0</th>\n",
       "      <td>1001</td>\n",
       "      <td>2.866177</td>\n",
       "      <td>0.0</td>\n",
       "      <td>48.053550</td>\n",
       "      <td>4.253855</td>\n",
       "      <td>3.9460</td>\n",
       "      <td>42.033604</td>\n",
       "      <td>1.0</td>\n",
       "    </tr>\n",
       "    <tr>\n",
       "      <th>1</th>\n",
       "      <td>1001</td>\n",
       "      <td>3.601853</td>\n",
       "      <td>0.0</td>\n",
       "      <td>75.610613</td>\n",
       "      <td>20.817859</td>\n",
       "      <td>21.2870</td>\n",
       "      <td>49.057586</td>\n",
       "      <td>2.0</td>\n",
       "    </tr>\n",
       "    <tr>\n",
       "      <th>2</th>\n",
       "      <td>1001</td>\n",
       "      <td>3.468813</td>\n",
       "      <td>0.0</td>\n",
       "      <td>88.529803</td>\n",
       "      <td>26.791997</td>\n",
       "      <td>27.3020</td>\n",
       "      <td>20.188445</td>\n",
       "      <td>3.0</td>\n",
       "    </tr>\n",
       "    <tr>\n",
       "      <th>3</th>\n",
       "      <td>1001</td>\n",
       "      <td>3.435141</td>\n",
       "      <td>0.0</td>\n",
       "      <td>74.436349</td>\n",
       "      <td>10.708047</td>\n",
       "      <td>10.7795</td>\n",
       "      <td>55.548389</td>\n",
       "      <td>4.0</td>\n",
       "    </tr>\n",
       "    <tr>\n",
       "      <th>4</th>\n",
       "      <td>1013</td>\n",
       "      <td>2.755833</td>\n",
       "      <td>0.0</td>\n",
       "      <td>47.911696</td>\n",
       "      <td>3.964976</td>\n",
       "      <td>3.6070</td>\n",
       "      <td>42.290685</td>\n",
       "      <td>1.0</td>\n",
       "    </tr>\n",
       "  </tbody>\n",
       "</table>\n",
       "</div>"
      ],
      "text/plain": [
       "   zipcode  quarterly_avg_precip  quarterly_median_precip  \\\n",
       "0     1001              2.866177                      0.0   \n",
       "1     1001              3.601853                      0.0   \n",
       "2     1001              3.468813                      0.0   \n",
       "3     1001              3.435141                      0.0   \n",
       "4     1013              2.755833                      0.0   \n",
       "\n",
       "   quarterly_variance_precip  quarterly_avg_temp  quarterly_median_temp  \\\n",
       "0                  48.053550            4.253855                 3.9460   \n",
       "1                  75.610613           20.817859                21.2870   \n",
       "2                  88.529803           26.791997                27.3020   \n",
       "3                  74.436349           10.708047                10.7795   \n",
       "4                  47.911696            3.964976                 3.6070   \n",
       "\n",
       "   quarterly_variance_temp  qtr  \n",
       "0                42.033604  1.0  \n",
       "1                49.057586  2.0  \n",
       "2                20.188445  3.0  \n",
       "3                55.548389  4.0  \n",
       "4                42.290685  1.0  "
      ]
     },
     "execution_count": 16,
     "metadata": {},
     "output_type": "execute_result"
    }
   ],
   "source": [
    "averages = pd.read_csv(\"../../data/companyData/quarterlyStatsByZip.csv\").\\\n",
    "    drop(columns = {\"Unnamed: 0\"}).rename(columns = {'ZIP': 'zipcode'})\n",
    "\n",
    "\n",
    "averages['qtr'] = averages.quarter.str.slice(1,2).astype('float')\n",
    "averages.drop(columns = {'quarter'}, inplace = True) \n",
    "\n",
    "print(len(averages.zipcode.unique()))\n",
    "\n",
    "averages.head()"
   ]
  },
  {
   "cell_type": "code",
   "execution_count": 24,
   "metadata": {},
   "outputs": [],
   "source": [
    "# allWeather = pd.read_csv(\"../../../../../../../Volumes/backup2/dissData/prism/allWeatherBins_2010.2019.csv\").\\\n",
    "allWeather = pd.read_csv(\"../../data/companyData/revised_allWeatherBins_2009to2019.csv\").\\\n",
    "    drop(columns = {\"Unnamed: 0\"})\n",
    "\n",
    "allWeather['yearQtr'] = allWeather.year + (allWeather.qtr - 1)/4"
   ]
  },
  {
   "cell_type": "code",
   "execution_count": 25,
   "metadata": {},
   "outputs": [],
   "source": [
    "changes.rename(columns = {'addzip': 'zipcode'}, inplace = True)\n",
    "changes.drop(columns = {'cik',\n",
    "     'datadate','costat', 'add1', 'add2', 'city', 'sic', 'state'}, inplace = True)"
   ]
  },
  {
   "cell_type": "code",
   "execution_count": 26,
   "metadata": {},
   "outputs": [],
   "source": [
    "col = allWeather.pop(\"yearQtr\")\n",
    "allWeather.insert(0, col.name, col)"
   ]
  },
  {
   "cell_type": "code",
   "execution_count": 27,
   "metadata": {},
   "outputs": [
    {
     "data": {
      "text/html": [
       "<div>\n",
       "<style scoped>\n",
       "    .dataframe tbody tr th:only-of-type {\n",
       "        vertical-align: middle;\n",
       "    }\n",
       "\n",
       "    .dataframe tbody tr th {\n",
       "        vertical-align: top;\n",
       "    }\n",
       "\n",
       "    .dataframe thead th {\n",
       "        text-align: right;\n",
       "    }\n",
       "</style>\n",
       "<table border=\"1\" class=\"dataframe\">\n",
       "  <thead>\n",
       "    <tr style=\"text-align: right;\">\n",
       "      <th></th>\n",
       "      <th>yearQtr</th>\n",
       "      <th>zipcode</th>\n",
       "      <th>year</th>\n",
       "      <th>qtr</th>\n",
       "      <th>precip_annualquant_0.95</th>\n",
       "      <th>precip_annualquant_1xQtr</th>\n",
       "      <th>precip_annualquant_1xYr</th>\n",
       "      <th>precip_annualquant_1x5Qtrs</th>\n",
       "      <th>precip_annualquant_1x10Qtrs</th>\n",
       "      <th>precip_annualquant_1x5Yrs</th>\n",
       "      <th>...</th>\n",
       "      <th>temp5Days_zipquant_1x10Qtrs</th>\n",
       "      <th>temp5Days_zipquant_1x5Yrs</th>\n",
       "      <th>temp5Days_zipquant_1x10Yrs</th>\n",
       "      <th>temp5Days_zipQuarterquant_0.95</th>\n",
       "      <th>temp5Days_zipQuarterquant_1xQtr</th>\n",
       "      <th>temp5Days_zipQuarterquant_1xYr</th>\n",
       "      <th>temp5Days_zipQuarterquant_1x5Qtrs</th>\n",
       "      <th>temp5Days_zipQuarterquant_1x10Qtrs</th>\n",
       "      <th>temp5Days_zipQuarterquant_1x5Yrs</th>\n",
       "      <th>temp5Days_zipQuarterquant_1x10Yrs</th>\n",
       "    </tr>\n",
       "  </thead>\n",
       "  <tbody>\n",
       "    <tr>\n",
       "      <th>0</th>\n",
       "      <td>2009.00</td>\n",
       "      <td>1001</td>\n",
       "      <td>2009</td>\n",
       "      <td>1.0</td>\n",
       "      <td>9</td>\n",
       "      <td>3</td>\n",
       "      <td>0</td>\n",
       "      <td>0</td>\n",
       "      <td>0</td>\n",
       "      <td>0</td>\n",
       "      <td>...</td>\n",
       "      <td>0</td>\n",
       "      <td>0</td>\n",
       "      <td>0</td>\n",
       "      <td>1</td>\n",
       "      <td>1</td>\n",
       "      <td>0</td>\n",
       "      <td>0</td>\n",
       "      <td>0</td>\n",
       "      <td>0</td>\n",
       "      <td>0</td>\n",
       "    </tr>\n",
       "    <tr>\n",
       "      <th>1</th>\n",
       "      <td>2009.25</td>\n",
       "      <td>1001</td>\n",
       "      <td>2009</td>\n",
       "      <td>2.0</td>\n",
       "      <td>15</td>\n",
       "      <td>8</td>\n",
       "      <td>2</td>\n",
       "      <td>0</td>\n",
       "      <td>0</td>\n",
       "      <td>0</td>\n",
       "      <td>...</td>\n",
       "      <td>0</td>\n",
       "      <td>0</td>\n",
       "      <td>0</td>\n",
       "      <td>2</td>\n",
       "      <td>1</td>\n",
       "      <td>0</td>\n",
       "      <td>0</td>\n",
       "      <td>0</td>\n",
       "      <td>0</td>\n",
       "      <td>0</td>\n",
       "    </tr>\n",
       "    <tr>\n",
       "      <th>2</th>\n",
       "      <td>2009.50</td>\n",
       "      <td>1001</td>\n",
       "      <td>2009</td>\n",
       "      <td>3.0</td>\n",
       "      <td>13</td>\n",
       "      <td>9</td>\n",
       "      <td>4</td>\n",
       "      <td>0</td>\n",
       "      <td>0</td>\n",
       "      <td>0</td>\n",
       "      <td>...</td>\n",
       "      <td>0</td>\n",
       "      <td>0</td>\n",
       "      <td>0</td>\n",
       "      <td>2</td>\n",
       "      <td>0</td>\n",
       "      <td>0</td>\n",
       "      <td>0</td>\n",
       "      <td>0</td>\n",
       "      <td>0</td>\n",
       "      <td>0</td>\n",
       "    </tr>\n",
       "    <tr>\n",
       "      <th>3</th>\n",
       "      <td>2009.75</td>\n",
       "      <td>1001</td>\n",
       "      <td>2009</td>\n",
       "      <td>4.0</td>\n",
       "      <td>14</td>\n",
       "      <td>7</td>\n",
       "      <td>1</td>\n",
       "      <td>0</td>\n",
       "      <td>0</td>\n",
       "      <td>0</td>\n",
       "      <td>...</td>\n",
       "      <td>0</td>\n",
       "      <td>0</td>\n",
       "      <td>0</td>\n",
       "      <td>3</td>\n",
       "      <td>1</td>\n",
       "      <td>0</td>\n",
       "      <td>0</td>\n",
       "      <td>0</td>\n",
       "      <td>0</td>\n",
       "      <td>0</td>\n",
       "    </tr>\n",
       "    <tr>\n",
       "      <th>4</th>\n",
       "      <td>2010.00</td>\n",
       "      <td>1001</td>\n",
       "      <td>2010</td>\n",
       "      <td>1.0</td>\n",
       "      <td>10</td>\n",
       "      <td>9</td>\n",
       "      <td>5</td>\n",
       "      <td>0</td>\n",
       "      <td>0</td>\n",
       "      <td>0</td>\n",
       "      <td>...</td>\n",
       "      <td>0</td>\n",
       "      <td>0</td>\n",
       "      <td>0</td>\n",
       "      <td>3</td>\n",
       "      <td>2</td>\n",
       "      <td>0</td>\n",
       "      <td>0</td>\n",
       "      <td>0</td>\n",
       "      <td>0</td>\n",
       "      <td>0</td>\n",
       "    </tr>\n",
       "  </tbody>\n",
       "</table>\n",
       "<p>5 rows × 88 columns</p>\n",
       "</div>"
      ],
      "text/plain": [
       "   yearQtr  zipcode  year  qtr  precip_annualquant_0.95  \\\n",
       "0  2009.00     1001  2009  1.0                        9   \n",
       "1  2009.25     1001  2009  2.0                       15   \n",
       "2  2009.50     1001  2009  3.0                       13   \n",
       "3  2009.75     1001  2009  4.0                       14   \n",
       "4  2010.00     1001  2010  1.0                       10   \n",
       "\n",
       "   precip_annualquant_1xQtr  precip_annualquant_1xYr  \\\n",
       "0                         3                        0   \n",
       "1                         8                        2   \n",
       "2                         9                        4   \n",
       "3                         7                        1   \n",
       "4                         9                        5   \n",
       "\n",
       "   precip_annualquant_1x5Qtrs  precip_annualquant_1x10Qtrs  \\\n",
       "0                           0                            0   \n",
       "1                           0                            0   \n",
       "2                           0                            0   \n",
       "3                           0                            0   \n",
       "4                           0                            0   \n",
       "\n",
       "   precip_annualquant_1x5Yrs  ...  temp5Days_zipquant_1x10Qtrs  \\\n",
       "0                          0  ...                            0   \n",
       "1                          0  ...                            0   \n",
       "2                          0  ...                            0   \n",
       "3                          0  ...                            0   \n",
       "4                          0  ...                            0   \n",
       "\n",
       "   temp5Days_zipquant_1x5Yrs  temp5Days_zipquant_1x10Yrs  \\\n",
       "0                          0                           0   \n",
       "1                          0                           0   \n",
       "2                          0                           0   \n",
       "3                          0                           0   \n",
       "4                          0                           0   \n",
       "\n",
       "   temp5Days_zipQuarterquant_0.95  temp5Days_zipQuarterquant_1xQtr  \\\n",
       "0                               1                                1   \n",
       "1                               2                                1   \n",
       "2                               2                                0   \n",
       "3                               3                                1   \n",
       "4                               3                                2   \n",
       "\n",
       "   temp5Days_zipQuarterquant_1xYr  temp5Days_zipQuarterquant_1x5Qtrs  \\\n",
       "0                               0                                  0   \n",
       "1                               0                                  0   \n",
       "2                               0                                  0   \n",
       "3                               0                                  0   \n",
       "4                               0                                  0   \n",
       "\n",
       "   temp5Days_zipQuarterquant_1x10Qtrs  temp5Days_zipQuarterquant_1x5Yrs  \\\n",
       "0                                   0                                 0   \n",
       "1                                   0                                 0   \n",
       "2                                   0                                 0   \n",
       "3                                   0                                 0   \n",
       "4                                   0                                 0   \n",
       "\n",
       "   temp5Days_zipQuarterquant_1x10Yrs  \n",
       "0                                  0  \n",
       "1                                  0  \n",
       "2                                  0  \n",
       "3                                  0  \n",
       "4                                  0  \n",
       "\n",
       "[5 rows x 88 columns]"
      ]
     },
     "execution_count": 27,
     "metadata": {},
     "output_type": "execute_result"
    }
   ],
   "source": [
    "allWeather.head()"
   ]
  },
  {
   "cell_type": "code",
   "execution_count": 28,
   "metadata": {},
   "outputs": [
    {
     "name": "stdout",
     "output_type": "stream",
     "text": [
      "(184492, 88)\n"
     ]
    }
   ],
   "source": [
    "lag1 = allWeather.copy()\n",
    "lag1['yearQtr'] += 0.25\n",
    "for colname in lag1.columns[4:]:\n",
    "    lag1.rename(columns = {colname: 'lag1_' + colname}, inplace = True)\n",
    "lag1.drop(columns = {'year','qtr'},inplace = True)\n",
    "\n",
    "    \n",
    "lag2 = allWeather.copy()\n",
    "lag2['yearQtr'] += 0.5\n",
    "for colname in lag2.columns[4:]:\n",
    "    lag2.rename(columns = {colname: 'lag2_' + colname}, inplace = True)\n",
    "lag2.drop(columns = {'year','qtr'},inplace = True)\n",
    "\n",
    "\n",
    "lag3 = allWeather.copy()\n",
    "lag3['yearQtr'] += 0.75\n",
    "for colname in lag3.columns[4:]:\n",
    "    lag3.rename(columns = {colname: 'lag3_' + colname}, inplace = True)\n",
    "lag3.drop(columns = {'year','qtr'},inplace = True)\n",
    "\n",
    "\n",
    "lag4 = allWeather.copy()\n",
    "lag4['yearQtr'] += 1\n",
    "for colname in lag4.columns[4:]:\n",
    "    lag4.rename(columns = {colname: 'lag4_' + colname}, inplace = True)\n",
    "lag4.drop(columns = {'year','qtr'},inplace = True)\n",
    "\n",
    "\n",
    "print(allWeather.shape)"
   ]
  },
  {
   "cell_type": "code",
   "execution_count": 29,
   "metadata": {},
   "outputs": [
    {
     "data": {
      "text/plain": [
       "2010    16772\n",
       "2011    16772\n",
       "2012    16772\n",
       "2013    16772\n",
       "2014    16772\n",
       "2015    16772\n",
       "2016    16772\n",
       "2017    16772\n",
       "2018    16772\n",
       "2019    16772\n",
       "Name: year, dtype: int64"
      ]
     },
     "execution_count": 29,
     "metadata": {},
     "output_type": "execute_result"
    }
   ],
   "source": [
    "allWeather_withLags = allWeather.merge(lag1).merge(lag2).merge(lag3).merge(lag4)\n",
    "\n",
    "allWeather_withLags.year.value_counts()"
   ]
  },
  {
   "cell_type": "code",
   "execution_count": 30,
   "metadata": {},
   "outputs": [],
   "source": [
    "allWeather_withLags.to_csv(\"../../data/companyData/allWeather_withLags.csv\")"
   ]
  },
  {
   "cell_type": "markdown",
   "metadata": {},
   "source": [
    "Now do the same for the industry-specific weather."
   ]
  },
  {
   "cell_type": "code",
   "execution_count": null,
   "metadata": {},
   "outputs": [],
   "source": [
    "# allWeather = pd.read_csv(\"../../../../../../../Volumes/backup2/dissData/prism/allWeatherBins_2010.2019.csv\").\\\n",
    "allWeather_byInd = pd.read_csv(\"../../data/companyData/revised_allWeatherBins_2009to2019_byInd.csv\").\\\n",
    "    drop(columns = {\"Unnamed: 0\"})\n",
    "'''[['famafrench','zipcode','yearQuarter', \n",
    "                                    'temp_ffquant_0.95','temp_indQuarterquant_0.95',\n",
    "                                   'temp5Days_ffquant_0.95', 'temp5Days_indQuarterquant_0.95',\n",
    "                                   'precip_ffquant_0.95', 'precip_indQuarterquant_0.95',\n",
    "                                   'precip5Days_ffquant_0.95', 'precip5Days_indQuarterquant_0.95']]\n",
    "'''\n",
    "allWeather_byInd['year'] = allWeather_byInd.yearQuarter.str.slice(0,4).astype('int64')\n",
    "allWeather_byInd['qtr']  = allWeather_byInd.yearQuarter.str.slice(5,6).astype('int64')\n",
    "allWeather_byInd['yearQtr'] = allWeather_byInd.year + (allWeather_byInd.qtr - 1)/4\n",
    "\n",
    "allWeather_byInd = allWeather_byInd.astype({'year':       'category',\n",
    "                         'qtr':        'category',\n",
    "                         'zipcode':    'category',\n",
    "                         'famafrench': 'category'})\n",
    "\n",
    "changes['zipcode'] = changes['zipcode'].astype({'zipcode': 'int64'})\n",
    "\n",
    "changes = changes.astype({'year':       'category',\n",
    "                          'qtr':        'category',\n",
    "                          'zipcode':    'category',\n",
    "                          'famafrench': 'category'})\n",
    "\n",
    "col = allWeather_byInd.pop(\"year\")\n",
    "allWeather_byInd.insert(0, col.name, col)\n",
    "\n",
    "col = allWeather_byInd.pop(\"qtr\")\n",
    "allWeather_byInd.insert(0, col.name, col)\n",
    "\n",
    "\n",
    "col = allWeather_byInd.pop(\"yearQtr\")\n",
    "allWeather_byInd.insert(0, col.name, col)\n",
    "\n",
    "allWeather_byInd.drop(columns = {'yearQuarter'}, inplace = True)\n",
    "\n",
    "print(allWeather_byInd.head())"
   ]
  },
  {
   "cell_type": "code",
   "execution_count": 39,
   "metadata": {},
   "outputs": [
    {
     "name": "stdout",
     "output_type": "stream",
     "text": [
      "(6540864, 61)\n"
     ]
    },
    {
     "data": {
      "text/plain": [
       "'allWeather_byInd_withLags = allWeather_byInd.merge(lag1).merge(lag2).merge(lag3).merge(lag4)\\n\\nallWeather_byInd_withLags.year.value_counts()\\n'"
      ]
     },
     "execution_count": 39,
     "metadata": {},
     "output_type": "execute_result"
    }
   ],
   "source": [
    "lag1 = allWeather_byInd.copy()\n",
    "lag1['yearQtr'] += 0.25\n",
    "for colname in lag1.columns[5:]:\n",
    "    lag1.rename(columns = {colname: 'lag1_' + colname}, inplace = True)\n",
    "lag1.drop(columns = {'year','qtr'},inplace = True)\n",
    "lag1 = lag1.astype({'yearQtr':       'category'})\n",
    "\n",
    "    \n",
    "lag2 = allWeather_byInd.copy()\n",
    "lag2['yearQtr'] += 0.5\n",
    "for colname in lag2.columns[5:]:\n",
    "    lag2.rename(columns = {colname: 'lag2_' + colname}, inplace = True)\n",
    "lag2.drop(columns = {'year','qtr'},inplace = True)\n",
    "lag2 = lag2.astype({'yearQtr':       'category'})\n",
    "\n",
    "\n",
    "lag3 = allWeather_byInd.copy()\n",
    "lag3['yearQtr'] += 0.75\n",
    "for colname in lag3.columns[5:]:\n",
    "    lag3.rename(columns = {colname: 'lag3_' + colname}, inplace = True)\n",
    "lag3.drop(columns = {'year','qtr'},inplace = True)\n",
    "lag3 = lag3.astype({'yearQtr':       'category'})\n",
    "\n",
    "\n",
    "lag4 = allWeather_byInd.copy()\n",
    "lag4['yearQtr'] += 1\n",
    "for colname in lag4.columns[5:]:\n",
    "    lag4.rename(columns = {colname: 'lag4_' + colname}, inplace = True)\n",
    "lag4.drop(columns = {'year','qtr'},inplace = True)\n",
    "lag4 = lag4.astype({'yearQtr':       'category'})\n",
    "\n",
    "\n",
    "allWeather_byInd = allWeather_byInd.astype({'yearQtr':       'category'})\n",
    "\n",
    "\n",
    "print(allWeather_byInd.shape)\n",
    "\n",
    "\n",
    "allWeather_byInd.head()\n",
    "\n",
    "\n",
    "'''allWeather_byInd_withLags = allWeather_byInd.merge(lag1).merge(lag2).merge(lag3).merge(lag4)\n",
    "\n",
    "allWeather_byInd_withLags.year.value_counts()\n",
    "'''"
   ]
  },
  {
   "cell_type": "code",
   "execution_count": 40,
   "metadata": {},
   "outputs": [],
   "source": [
    "allWeather_byInd_withLags = allWeather_byInd.merge(lag1).merge(lag2).merge(lag3).merge(lag4)"
   ]
  },
  {
   "cell_type": "code",
   "execution_count": 41,
   "metadata": {},
   "outputs": [
    {
     "data": {
      "text/plain": [
       "(5946240, 285)"
      ]
     },
     "execution_count": 41,
     "metadata": {},
     "output_type": "execute_result"
    }
   ],
   "source": [
    "allWeather_byInd_withLags.shape"
   ]
  },
  {
   "cell_type": "code",
   "execution_count": 42,
   "metadata": {},
   "outputs": [],
   "source": [
    "allWeather_byInd_withLags.to_csv(\"../../data/companyData/allWeather_byInd_withLags.csv\")"
   ]
  },
  {
   "cell_type": "code",
   "execution_count": 45,
   "metadata": {},
   "outputs": [
    {
     "ename": "NameError",
     "evalue": "name 'allWeather_byInd' is not defined",
     "output_type": "error",
     "traceback": [
      "\u001b[0;31m---------------------------------------------------------------------------\u001b[0m",
      "\u001b[0;31mNameError\u001b[0m                                 Traceback (most recent call last)",
      "\u001b[0;32m<ipython-input-45-eef479f51281>\u001b[0m in \u001b[0;36m<module>\u001b[0;34m\u001b[0m\n\u001b[0;32m----> 1\u001b[0;31m \u001b[0;32mdel\u001b[0m \u001b[0mallWeather_byInd\u001b[0m\u001b[0;34m\u001b[0m\u001b[0;34m\u001b[0m\u001b[0m\n\u001b[0m\u001b[1;32m      2\u001b[0m \u001b[0;32mdel\u001b[0m \u001b[0mlag1\u001b[0m\u001b[0;34m\u001b[0m\u001b[0;34m\u001b[0m\u001b[0m\n\u001b[1;32m      3\u001b[0m \u001b[0;32mdel\u001b[0m \u001b[0mlag2\u001b[0m\u001b[0;34m\u001b[0m\u001b[0;34m\u001b[0m\u001b[0m\n\u001b[1;32m      4\u001b[0m \u001b[0;32mdel\u001b[0m \u001b[0mlag3\u001b[0m\u001b[0;34m\u001b[0m\u001b[0;34m\u001b[0m\u001b[0m\n\u001b[1;32m      5\u001b[0m \u001b[0;32mdel\u001b[0m \u001b[0mlag4\u001b[0m\u001b[0;34m\u001b[0m\u001b[0;34m\u001b[0m\u001b[0m\n",
      "\u001b[0;31mNameError\u001b[0m: name 'allWeather_byInd' is not defined"
     ]
    }
   ],
   "source": [
    "del allWeather_byInd\n",
    "del lag1\n",
    "del lag2\n",
    "del lag3\n",
    "del lag4\n",
    "gc.collect()"
   ]
  },
  {
   "cell_type": "markdown",
   "metadata": {},
   "source": [
    "# Locations\n",
    "Create a separate definition of weather based not on HQ but on employee-weighted establishment footprint."
   ]
  },
  {
   "cell_type": "code",
   "execution_count": 17,
   "metadata": {},
   "outputs": [],
   "source": [
    "allWeather_byInd_withLags = pd.read_csv(\"../../data/companyData/allWeather_byInd_withLags.csv\").\\\n",
    "    drop(columns = {\"Unnamed: 0\", 'yearQtr'})\n",
    "allWeather_withLags = pd.read_csv(\"../../data/companyData/allWeather_withLags.csv\").\\\n",
    "    drop(columns = {\"Unnamed: 0\", 'yearQtr'})\n",
    "\n",
    "\n"
   ]
  },
  {
   "cell_type": "code",
   "execution_count": 36,
   "metadata": {},
   "outputs": [
    {
     "data": {
      "text/html": [
       "<div>\n",
       "<style scoped>\n",
       "    .dataframe tbody tr th:only-of-type {\n",
       "        vertical-align: middle;\n",
       "    }\n",
       "\n",
       "    .dataframe tbody tr th {\n",
       "        vertical-align: top;\n",
       "    }\n",
       "\n",
       "    .dataframe thead th {\n",
       "        text-align: right;\n",
       "    }\n",
       "</style>\n",
       "<table border=\"1\" class=\"dataframe\">\n",
       "  <thead>\n",
       "    <tr style=\"text-align: right;\">\n",
       "      <th></th>\n",
       "      <th>zipcode</th>\n",
       "      <th>quarterly_avg_precip</th>\n",
       "      <th>quarterly_median_precip</th>\n",
       "      <th>quarterly_variance_precip</th>\n",
       "      <th>quarterly_avg_temp</th>\n",
       "      <th>quarterly_median_temp</th>\n",
       "      <th>quarterly_variance_temp</th>\n",
       "      <th>qtr</th>\n",
       "    </tr>\n",
       "  </thead>\n",
       "  <tbody>\n",
       "    <tr>\n",
       "      <th>0</th>\n",
       "      <td>1001</td>\n",
       "      <td>2.866177</td>\n",
       "      <td>0.0</td>\n",
       "      <td>48.053550</td>\n",
       "      <td>4.253855</td>\n",
       "      <td>3.9460</td>\n",
       "      <td>42.033604</td>\n",
       "      <td>1.0</td>\n",
       "    </tr>\n",
       "    <tr>\n",
       "      <th>1</th>\n",
       "      <td>1001</td>\n",
       "      <td>3.601853</td>\n",
       "      <td>0.0</td>\n",
       "      <td>75.610613</td>\n",
       "      <td>20.817859</td>\n",
       "      <td>21.2870</td>\n",
       "      <td>49.057586</td>\n",
       "      <td>2.0</td>\n",
       "    </tr>\n",
       "    <tr>\n",
       "      <th>2</th>\n",
       "      <td>1001</td>\n",
       "      <td>3.468813</td>\n",
       "      <td>0.0</td>\n",
       "      <td>88.529803</td>\n",
       "      <td>26.791997</td>\n",
       "      <td>27.3020</td>\n",
       "      <td>20.188445</td>\n",
       "      <td>3.0</td>\n",
       "    </tr>\n",
       "    <tr>\n",
       "      <th>3</th>\n",
       "      <td>1001</td>\n",
       "      <td>3.435141</td>\n",
       "      <td>0.0</td>\n",
       "      <td>74.436349</td>\n",
       "      <td>10.708047</td>\n",
       "      <td>10.7795</td>\n",
       "      <td>55.548389</td>\n",
       "      <td>4.0</td>\n",
       "    </tr>\n",
       "    <tr>\n",
       "      <th>4</th>\n",
       "      <td>1013</td>\n",
       "      <td>2.755833</td>\n",
       "      <td>0.0</td>\n",
       "      <td>47.911696</td>\n",
       "      <td>3.964976</td>\n",
       "      <td>3.6070</td>\n",
       "      <td>42.290685</td>\n",
       "      <td>1.0</td>\n",
       "    </tr>\n",
       "  </tbody>\n",
       "</table>\n",
       "</div>"
      ],
      "text/plain": [
       "   zipcode  quarterly_avg_precip  quarterly_median_precip  \\\n",
       "0     1001              2.866177                      0.0   \n",
       "1     1001              3.601853                      0.0   \n",
       "2     1001              3.468813                      0.0   \n",
       "3     1001              3.435141                      0.0   \n",
       "4     1013              2.755833                      0.0   \n",
       "\n",
       "   quarterly_variance_precip  quarterly_avg_temp  quarterly_median_temp  \\\n",
       "0                  48.053550            4.253855                 3.9460   \n",
       "1                  75.610613           20.817859                21.2870   \n",
       "2                  88.529803           26.791997                27.3020   \n",
       "3                  74.436349           10.708047                10.7795   \n",
       "4                  47.911696            3.964976                 3.6070   \n",
       "\n",
       "   quarterly_variance_temp  qtr  \n",
       "0                42.033604  1.0  \n",
       "1                49.057586  2.0  \n",
       "2                20.188445  3.0  \n",
       "3                55.548389  4.0  \n",
       "4                42.290685  1.0  "
      ]
     },
     "execution_count": 36,
     "metadata": {},
     "output_type": "execute_result"
    }
   ],
   "source": [
    "averages.head()"
   ]
  },
  {
   "cell_type": "code",
   "execution_count": null,
   "metadata": {},
   "outputs": [],
   "source": [
    "allWeather_byInd_withLags = allWeather_byInd_withLags.astype({'year':       'category',\n",
    "                           'qtr':        'category',\n",
    "                           'zipcode':    'category'})\n",
    "allWeather_withLags       = allWeather_withLags.astype({'year':       'category',\n",
    "                           'qtr':        'category',\n",
    "                           'zipcode':    'category'})\n",
    "averages                  = averages.astype({'qtr':        'category',\n",
    "                           'zipcode':    'category'})"
   ]
  },
  {
   "cell_type": "code",
   "execution_count": 20,
   "metadata": {},
   "outputs": [
    {
     "data": {
      "text/plain": [
       "4456"
      ]
     },
     "execution_count": 20,
     "metadata": {},
     "output_type": "execute_result"
    }
   ],
   "source": [
    "len(averages.zipcode.unique())"
   ]
  },
  {
   "cell_type": "code",
   "execution_count": 19,
   "metadata": {},
   "outputs": [
    {
     "data": {
      "text/plain": [
       "37200"
      ]
     },
     "execution_count": 19,
     "metadata": {},
     "output_type": "execute_result"
    }
   ],
   "source": [
    "len(fractions.zipcode.unique())"
   ]
  },
  {
   "cell_type": "code",
   "execution_count": 5,
   "metadata": {},
   "outputs": [
    {
     "name": "stdout",
     "output_type": "stream",
     "text": [
      "0       402180222\n",
      "1       397759739\n",
      "2       400700704\n",
      "3       218548014\n",
      "4       441435880\n",
      "          ...    \n",
      "8394    432764101\n",
      "8395    416920671\n",
      "8396    739118540\n",
      "8397    227688843\n",
      "8398    488766353\n",
      "Name: abi, Length: 8399, dtype: int64\n"
     ]
    },
    {
     "data": {
      "text/html": [
       "<div>\n",
       "<style scoped>\n",
       "    .dataframe tbody tr th:only-of-type {\n",
       "        vertical-align: middle;\n",
       "    }\n",
       "\n",
       "    .dataframe tbody tr th {\n",
       "        vertical-align: top;\n",
       "    }\n",
       "\n",
       "    .dataframe thead th {\n",
       "        text-align: right;\n",
       "    }\n",
       "</style>\n",
       "<table border=\"1\" class=\"dataframe\">\n",
       "  <thead>\n",
       "    <tr style=\"text-align: right;\">\n",
       "      <th></th>\n",
       "      <th>year</th>\n",
       "      <th>abi</th>\n",
       "      <th>zipcode</th>\n",
       "      <th>locationFracOfEmployees</th>\n",
       "      <th>gvkey</th>\n",
       "    </tr>\n",
       "  </thead>\n",
       "  <tbody>\n",
       "    <tr>\n",
       "      <th>0</th>\n",
       "      <td>2003</td>\n",
       "      <td>100537</td>\n",
       "      <td>24541</td>\n",
       "      <td>0.047704</td>\n",
       "      <td>3937</td>\n",
       "    </tr>\n",
       "    <tr>\n",
       "      <th>1</th>\n",
       "      <td>2003</td>\n",
       "      <td>100537</td>\n",
       "      <td>24540</td>\n",
       "      <td>0.572451</td>\n",
       "      <td>3937</td>\n",
       "    </tr>\n",
       "    <tr>\n",
       "      <th>2</th>\n",
       "      <td>2003</td>\n",
       "      <td>100537</td>\n",
       "      <td>27828</td>\n",
       "      <td>0.357782</td>\n",
       "      <td>3937</td>\n",
       "    </tr>\n",
       "    <tr>\n",
       "      <th>3</th>\n",
       "      <td>2003</td>\n",
       "      <td>100537</td>\n",
       "      <td>27804</td>\n",
       "      <td>0.017889</td>\n",
       "      <td>3937</td>\n",
       "    </tr>\n",
       "    <tr>\n",
       "      <th>4</th>\n",
       "      <td>2003</td>\n",
       "      <td>100537</td>\n",
       "      <td>27834</td>\n",
       "      <td>0.001789</td>\n",
       "      <td>3937</td>\n",
       "    </tr>\n",
       "  </tbody>\n",
       "</table>\n",
       "</div>"
      ],
      "text/plain": [
       "   year     abi zipcode  locationFracOfEmployees  gvkey\n",
       "0  2003  100537   24541                 0.047704   3937\n",
       "1  2003  100537   24540                 0.572451   3937\n",
       "2  2003  100537   27828                 0.357782   3937\n",
       "3  2003  100537   27804                 0.017889   3937\n",
       "4  2003  100537   27834                 0.001789   3937"
      ]
     },
     "execution_count": 5,
     "metadata": {},
     "output_type": "execute_result"
    }
   ],
   "source": [
    "fractions = pd.read_csv('../../data/companyData/fractionEmployees_byEstablishment.csv').\\\n",
    "    drop(columns = {\"Unnamed: 0\", 'latitude','longitude'}).rename(columns = {'archive_version_year': 'year',\n",
    "                                                    'parent_number': 'abi'})\n",
    "\n",
    "fractions['year']    = fractions.year.astype('int64')\n",
    "fractions['zipcode'] = fractions.zipcode.astype('int64')\n",
    "fractions.head()\n",
    "\n",
    "gvKey_abiLinkingTable = pd.read_csv('../../data/companyData/linkingTable.csv').drop(columns = ['Unnamed: 0'])\n",
    "\n",
    "print(gvKey_abiLinkingTable.abi)\n",
    "\n",
    "gvKey_abiLinkingTable.head()\n",
    "\n",
    "fractions = fractions[['year','abi','zipcode','locationFracOfEmployees']].merge(gvKey_abiLinkingTable[['abi','gvkey']])\n",
    "\n",
    "fractions = fractions.astype({'year':       'category',\n",
    "                           'zipcode':    'category'})\n",
    "\n",
    "fractions.head()"
   ]
  },
  {
   "cell_type": "code",
   "execution_count": null,
   "metadata": {},
   "outputs": [],
   "source": [
    "fractionsWithWeather = fractions.merge(allWeather_withLags).merge(allWeather_byInd_withLags).merge(averages)\n",
    "print(fractionsWithWeather.shape)\n",
    "fractionsWithWeather.head()"
   ]
  },
  {
   "cell_type": "code",
   "execution_count": 6,
   "metadata": {},
   "outputs": [
    {
     "data": {
      "text/plain": [
       "37200"
      ]
     },
     "execution_count": 6,
     "metadata": {},
     "output_type": "execute_result"
    }
   ],
   "source": [
    "establishmentZips = fractions.zipcode.unique()\n",
    "len(establishmentZips)"
   ]
  },
  {
   "cell_type": "markdown",
   "metadata": {},
   "source": [
    "Create direct effects database. Merge weather to full cstat database."
   ]
  },
  {
   "cell_type": "code",
   "execution_count": 47,
   "metadata": {},
   "outputs": [
    {
     "name": "stdout",
     "output_type": "stream",
     "text": [
      "(487582, 33) (189833, 740)\n"
     ]
    }
   ],
   "source": [
    "# changes['zipcode']  = changes['zipcode'].astype('int64')\n",
    "changesWithWeather = changes.merge(allWeather_withLags).merge(allWeather_byInd_withLags).merge(averages)\n",
    "print(changes.shape,changesWithWeather.shape)"
   ]
  },
  {
   "cell_type": "code",
   "execution_count": 48,
   "metadata": {},
   "outputs": [],
   "source": [
    "changesWithWeather.to_csv(\"../../data/companyData/cstatWithWeather.csv\")"
   ]
  },
  {
   "cell_type": "markdown",
   "metadata": {},
   "source": [
    "Merge weather to the ig-cstat database."
   ]
  },
  {
   "cell_type": "code",
   "execution_count": 49,
   "metadata": {},
   "outputs": [
    {
     "data": {
      "text/plain": [
       "(131383, 762)"
      ]
     },
     "execution_count": 49,
     "metadata": {},
     "output_type": "execute_result"
    }
   ],
   "source": [
    "igChangesWithWeather = igChanges.merge(allWeather_withLags).merge(allWeather_byInd_withLags).merge(averages)\n",
    "igChangesWithWeather.shape"
   ]
  },
  {
   "cell_type": "code",
   "execution_count": 50,
   "metadata": {},
   "outputs": [],
   "source": [
    "igChangesWithWeather.to_csv(\"../../data/companyData/igWithWeather.csv\")"
   ]
  },
  {
   "cell_type": "code",
   "execution_count": null,
   "metadata": {
    "collapsed": true
   },
   "outputs": [],
   "source": [
    "igChangesWithWeather.head()"
   ]
  },
  {
   "cell_type": "code",
   "execution_count": 54,
   "metadata": {},
   "outputs": [
    {
     "data": {
      "text/plain": [
       "count    131383.000000\n",
       "mean         10.639710\n",
       "std          14.299951\n",
       "min           0.000000\n",
       "25%           0.000000\n",
       "50%           4.000000\n",
       "75%          17.000000\n",
       "max          79.000000\n",
       "Name: temp_zipquant_0.95, dtype: float64"
      ]
     },
     "execution_count": 54,
     "metadata": {},
     "output_type": "execute_result"
    }
   ],
   "source": [
    "igChangesWithWeather['temp_zipquant_0.95'].describe()"
   ]
  },
  {
   "cell_type": "code",
   "execution_count": 52,
   "metadata": {},
   "outputs": [
    {
     "data": {
      "text/plain": [
       "count    131383.000000\n",
       "mean         10.449975\n",
       "std           9.267852\n",
       "min           0.000000\n",
       "25%           3.000000\n",
       "50%           8.000000\n",
       "75%          17.000000\n",
       "max          37.000000\n",
       "Name: temp5Days_ffquant_0.95, dtype: float64"
      ]
     },
     "execution_count": 52,
     "metadata": {},
     "output_type": "execute_result"
    }
   ],
   "source": [
    "igChangesWithWeather['temp5Days_ffquant_0.95'].describe()"
   ]
  },
  {
   "cell_type": "code",
   "execution_count": null,
   "metadata": {},
   "outputs": [],
   "source": []
  },
  {
   "cell_type": "markdown",
   "metadata": {},
   "source": [
    "# Indirect\n",
    "Introduce the SC Data."
   ]
  },
  {
   "cell_type": "code",
   "execution_count": 1,
   "metadata": {},
   "outputs": [
    {
     "data": {
      "text/plain": [
       "'c_linksTest = pd.read_csv(\"../../data/companyData/compustatSCLinked.csv\")[[\\'srcdate\\',\\'gvkey\\',\\'cgvkey\\']]\\nc_linksTest[\\'year\\'] = c_linksTest.srcdate.astype(\\'str\\').str.slice(0,4).astype(\\'int64\\')\\n\\nbs = c_linksTest[c_linksTest.year < 2014]\\nprint(\"Customers per supplier, 1978-2013 Pd: \", len(bs.cgvkey.unique())/len(bs.gvkey.unique()))\\n\\nbs2 = c_linksTest[c_linksTest.year > 2010]\\nprint(\"Customers per supplier, Recent Pd: \", len(bs2.cgvkey.unique())/len(bs2.gvkey.unique()))'"
      ]
     },
     "execution_count": 1,
     "metadata": {},
     "output_type": "execute_result"
    }
   ],
   "source": [
    "# this does a little bit of a test on the reporting requirements. \n",
    "# number \n",
    "\n",
    "'''c_linksTest = pd.read_csv(\"../../data/companyData/compustatSCLinked.csv\")[['srcdate','gvkey','cgvkey']]\n",
    "c_linksTest['year'] = c_linksTest.srcdate.astype('str').str.slice(0,4).astype('int64')\n",
    "\n",
    "bs = c_linksTest[c_linksTest.year < 2014]\n",
    "print(\"Customers per supplier, 1978-2013 Pd: \", len(bs.cgvkey.unique())/len(bs.gvkey.unique()))\n",
    "\n",
    "bs2 = c_linksTest[c_linksTest.year > 2010]\n",
    "print(\"Customers per supplier, Recent Pd: \", len(bs2.cgvkey.unique())/len(bs2.gvkey.unique()))'''\n"
   ]
  },
  {
   "cell_type": "code",
   "execution_count": 2,
   "metadata": {},
   "outputs": [
    {
     "ename": "NameError",
     "evalue": "name 'pd' is not defined",
     "output_type": "error",
     "traceback": [
      "\u001b[0;31m---------------------------------------------------------------------------\u001b[0m",
      "\u001b[0;31mNameError\u001b[0m                                 Traceback (most recent call last)",
      "\u001b[0;32m<ipython-input-2-27f4acc27e40>\u001b[0m in \u001b[0;36m<module>\u001b[0;34m\u001b[0m\n\u001b[0;32m----> 1\u001b[0;31m \u001b[0mc_links\u001b[0m \u001b[0;34m=\u001b[0m \u001b[0mpd\u001b[0m\u001b[0;34m.\u001b[0m\u001b[0mread_csv\u001b[0m\u001b[0;34m(\u001b[0m\u001b[0;34m\"../../data/companyData/compustatSCLinked.csv\"\u001b[0m\u001b[0;34m)\u001b[0m\u001b[0;34m\u001b[0m\u001b[0;34m\u001b[0m\u001b[0m\n\u001b[0m\u001b[1;32m      2\u001b[0m \u001b[0;34m\u001b[0m\u001b[0m\n\u001b[1;32m      3\u001b[0m \u001b[0mc_links\u001b[0m\u001b[0;34m[\u001b[0m\u001b[0;34m'year'\u001b[0m\u001b[0;34m]\u001b[0m \u001b[0;34m=\u001b[0m \u001b[0mc_links\u001b[0m\u001b[0;34m.\u001b[0m\u001b[0msrcdate\u001b[0m\u001b[0;34m.\u001b[0m\u001b[0mastype\u001b[0m\u001b[0;34m(\u001b[0m\u001b[0;34m'str'\u001b[0m\u001b[0;34m)\u001b[0m\u001b[0;34m.\u001b[0m\u001b[0mstr\u001b[0m\u001b[0;34m.\u001b[0m\u001b[0mslice\u001b[0m\u001b[0;34m(\u001b[0m\u001b[0;36m0\u001b[0m\u001b[0;34m,\u001b[0m\u001b[0;36m4\u001b[0m\u001b[0;34m)\u001b[0m\u001b[0;34m.\u001b[0m\u001b[0mastype\u001b[0m\u001b[0;34m(\u001b[0m\u001b[0;34m'int64'\u001b[0m\u001b[0;34m)\u001b[0m\u001b[0;34m\u001b[0m\u001b[0;34m\u001b[0m\u001b[0m\n\u001b[1;32m      4\u001b[0m \u001b[0;34m\u001b[0m\u001b[0m\n\u001b[1;32m      5\u001b[0m \u001b[0mc_links\u001b[0m \u001b[0;34m=\u001b[0m \u001b[0mc_links\u001b[0m\u001b[0;34m[\u001b[0m\u001b[0mc_links\u001b[0m\u001b[0;34m.\u001b[0m\u001b[0myear\u001b[0m \u001b[0;34m>\u001b[0m \u001b[0;36m1999\u001b[0m\u001b[0;34m]\u001b[0m\u001b[0;34m[\u001b[0m\u001b[0;34m[\u001b[0m\u001b[0;34m'year'\u001b[0m\u001b[0;34m,\u001b[0m\u001b[0;34m'gvkey'\u001b[0m\u001b[0;34m,\u001b[0m\u001b[0;34m'cgvkey'\u001b[0m\u001b[0;34m,\u001b[0m\u001b[0;34m'salecs'\u001b[0m\u001b[0;34m]\u001b[0m\u001b[0;34m]\u001b[0m\u001b[0;34m.\u001b[0m\u001b[0;31m\\\u001b[0m\u001b[0;34m\u001b[0m\u001b[0;34m\u001b[0m\u001b[0m\n",
      "\u001b[0;31mNameError\u001b[0m: name 'pd' is not defined"
     ]
    }
   ],
   "source": [
    "c_links = pd.read_csv(\"../../data/companyData/compustatSCLinked.csv\")\n",
    "\n",
    "c_links['year'] = c_links.srcdate.astype('str').str.slice(0,4).astype('int64')\n",
    "\n",
    "c_links = c_links[c_links.year > 1999][['year','gvkey','cgvkey','salecs']].\\\n",
    "    rename(columns = {'cgvkey': 'customer_gvkey','gvkey': 'supplier_gvkey'})\n",
    "\n",
    "\n",
    "print(c_links.shape)\n",
    "\n",
    "c_links.head()\n",
    "\n",
    "industries.columns = ['customer_gvkey','customer_famafrench']\n",
    "\n",
    "c_links = c_links.merge(industries)\n",
    "\n",
    "industries.columns = ['supplier_gvkey','supplier_famafrench']\n",
    "\n",
    "c_links = c_links.merge(industries)\n",
    "print(c_links.head(), c_links.shape)\n",
    "\n",
    "\n",
    "c_links.to_csv(\"../../data/companyData/c_links.csv\")\n",
    "\n",
    "\n",
    "sum(c_links.supplier_gvkey.isin(hasMatch) | c_links.customer_gvkey.isin(hasMatch))\n"
   ]
  },
  {
   "cell_type": "markdown",
   "metadata": {},
   "source": [
    "Now see if it's common to have one in and one out of the industries of interest. \n",
    "\n",
    "For now, let's keep all the different industry types.\n",
    "\n",
    "We can always filter later if we need to."
   ]
  },
  {
   "cell_type": "code",
   "execution_count": null,
   "metadata": {},
   "outputs": [],
   "source": [
    "#########################\n",
    "# merge in customer information\n",
    "gvKey_abiLinkingTable.columns = customer_columns\n",
    "\n",
    "print(c_links.shape)\n",
    "c_linksMerge1 = c_links.merge(gvKey_abiLinkingTable, on ='customer_gvkey')\n",
    "print(c_links.shape,c_linksMerge1.shape)\n",
    "\n",
    "\n",
    "\n",
    "#########################\n",
    "# and merge in supplier \n",
    "gvKey_abiLinkingTable.columns = supplier_columns\n",
    "\n",
    "print(c_links.shape)\n",
    "c_linksMerge2 = c_linksMerge1.merge(gvKey_abiLinkingTable, on ='supplier_gvkey')\n",
    "print(c_links.shape,c_linksMerge2.shape)\n",
    "\n",
    "c_linksMerge2.to_csv(\"../../data/companyData/clinks_IG_selected.csv\")"
   ]
  },
  {
   "cell_type": "markdown",
   "metadata": {},
   "source": [
    "This is probably because: (1) companies are not in North America, or (2) companies are not in the physical goods industries we're interested in. We can verify this though: look at c_links where both the customer and supplier are in the dataset of interest."
   ]
  },
  {
   "cell_type": "code",
   "execution_count": null,
   "metadata": {},
   "outputs": [],
   "source": [
    "chq     = pd.read_csv(\"../../data/chq.csv\",dtype={'cstatZipcode': 'object'}).drop(columns = {'Unnamed: 0'})\n",
    "\n",
    "c_linkTest = c_links[c_links.customer_gvkey.isin(chq.gvkey.unique()) & \\\n",
    "                     c_links.supplier_gvkey.isin(chq.gvkey.unique())]\n",
    "\n",
    "print(\"Percent of firms with a match: \", c_linksMerge2.shape[0]/c_linkTest.shape[0])"
   ]
  },
  {
   "cell_type": "markdown",
   "metadata": {},
   "source": [
    "It's entirely possible that we have too small of a sample from the 2010s alone. Let's just try it though and see how it goes.\n",
    "\n",
    "First, make a sample with the companies on three years of either side of when it reports another customer."
   ]
  },
  {
   "cell_type": "code",
   "execution_count": null,
   "metadata": {},
   "outputs": [],
   "source": [
    "def makeOneEitherSide(df): \n",
    "    yrPlus1 = df.copy(); yrPlus1['year'] += 1\n",
    "    # yrPlus2 = df.copy(); yrPlus2['year'] += 1\n",
    "    # yrPlus3 = df.copy(); yrPlus3['year'] += 1\n",
    "    \n",
    "    yrMinus1 = df.copy(); yrMinus1['year'] -= 1\n",
    "    # yrMinus2 = df.copy(); yrMinus2['year'] -= 1\n",
    "    # yrMinus3 = df.copy(); yrMinus3['year'] -= 1\n",
    "    \n",
    "    all = pd.concat([yrPlus1,yrMinus1]) # pd.concat([yrPlus1,yrPlus2,yrPlus3,yrMinus1,yrMinus2,yrMinus3])\n",
    "    \n",
    "    return(all)"
   ]
  },
  {
   "cell_type": "code",
   "execution_count": null,
   "metadata": {},
   "outputs": [],
   "source": [
    "scTableCustomers = c_linksMerge2.copy()[['year','customer_gvkey','customer_abi']].drop_duplicates()\n",
    "scTableSuppliers = c_linksMerge2.copy()[['year','supplier_gvkey','supplier_abi']].drop_duplicates()\n",
    "\n",
    "allCustomerData = makeOneEitherSide(scTableCustomers)\n",
    "allCustomerData.columns = ['year','gvkey','abi']\n",
    "\n",
    "\n",
    "allSupplierData = makeOneEitherSide(scTableSuppliers)\n",
    "allSupplierData.columns = ['year','gvkey','abi']\n",
    "\n",
    "allAbi = allCustomerData.abi.append(allSupplierData.abi).drop_duplicates()\n",
    "\n",
    "hqsOnly = pd.read_csv(\"../../data/ig_uniqueHQs.csv\").drop(columns = {'Unnamed: 0'})\n",
    "\n",
    "hq = pd.read_csv(\"../../data/ig_uniqueHQs_multLocations.csv\").\\\n",
    "    drop(columns = {'Unnamed: 0'}).\\\n",
    "    rename(columns = {'archive_version_year': 'year'})\n",
    "\n",
    "hq['year'] = hq.year.astype('int64')\n",
    "\n",
    "hqRelevant = hq[hq.abi.isin(allAbi)]\n",
    "\n",
    "\n",
    "allSupplierData = allSupplierData.merge(hqRelevant).drop_duplicates()\n",
    "allCustomerData = allCustomerData.merge(hqRelevant).drop_duplicates()\n",
    "\n",
    "print(allSupplierData.head())\n",
    "\n",
    "allCustomerData.to_csv(\"../../data/companyData/allCustomerData.csv\")\n",
    "allSupplierData.to_csv(\"../../data/companyData/allSupplierData.csv\")"
   ]
  },
  {
   "cell_type": "code",
   "execution_count": null,
   "metadata": {},
   "outputs": [],
   "source": []
  },
  {
   "cell_type": "markdown",
   "metadata": {},
   "source": [
    "## Find Customer and Supplier pairings and merge with change data\n",
    "### Can pick up here"
   ]
  },
  {
   "cell_type": "code",
   "execution_count": 2,
   "metadata": {},
   "outputs": [],
   "source": [
    "allSupplierData = pd.read_csv(\"../../data/companyData/allSupplierData.csv\").drop(columns = ['Unnamed: 0'])\n",
    "allCustomerData = pd.read_csv(\"../../data/companyData/allCustomerData.csv\").drop(columns = ['Unnamed: 0'])\n",
    "\n",
    "changes = pd.read_csv(\"../../data/companyData/compustatChanges_withControls.csv\").drop(columns = ['Unnamed: 0'])\n",
    "changes.head()\n",
    "suppliers = changes.merge(allSupplierData[['year','gvkey','zipcode','employeesAtLocation']])\n",
    "print(suppliers.shape)\n",
    "\n",
    "customers = changes.merge(allCustomerData[['year','gvkey','zipcode','employeesAtLocation']])\n",
    "print(customers.head())\n",
    "\n",
    "print(allCustomerData.shape,allSupplierData.shape)"
   ]
  },
  {
   "cell_type": "markdown",
   "metadata": {},
   "source": [
    "## Get first-hop SC data"
   ]
  },
  {
   "cell_type": "code",
   "execution_count": 9,
   "metadata": {},
   "outputs": [
    {
     "data": {
      "text/html": [
       "<div>\n",
       "<style scoped>\n",
       "    .dataframe tbody tr th:only-of-type {\n",
       "        vertical-align: middle;\n",
       "    }\n",
       "\n",
       "    .dataframe tbody tr th {\n",
       "        vertical-align: top;\n",
       "    }\n",
       "\n",
       "    .dataframe thead th {\n",
       "        text-align: right;\n",
       "    }\n",
       "</style>\n",
       "<table border=\"1\" class=\"dataframe\">\n",
       "  <thead>\n",
       "    <tr style=\"text-align: right;\">\n",
       "      <th></th>\n",
       "      <th>year</th>\n",
       "      <th>supplier_gvkey</th>\n",
       "      <th>customer_gvkey</th>\n",
       "      <th>salecs</th>\n",
       "      <th>customer_famafrench</th>\n",
       "      <th>supplier_famafrench</th>\n",
       "      <th>customer_cstatCompanies</th>\n",
       "      <th>customer_igCompanies</th>\n",
       "      <th>customer_delete</th>\n",
       "      <th>customer_abi</th>\n",
       "      <th>supplier_cstatCompanies</th>\n",
       "      <th>supplier_igCompanies</th>\n",
       "      <th>supplier_delete</th>\n",
       "      <th>supplier_abi</th>\n",
       "    </tr>\n",
       "  </thead>\n",
       "  <tbody>\n",
       "    <tr>\n",
       "      <th>0</th>\n",
       "      <td>2002</td>\n",
       "      <td>1013</td>\n",
       "      <td>2136</td>\n",
       "      <td>111.056</td>\n",
       "      <td>33.0</td>\n",
       "      <td>37.0</td>\n",
       "      <td>verizonmmunications</td>\n",
       "      <td>verizonmmunications</td>\n",
       "      <td>NaN</td>\n",
       "      <td>7564776</td>\n",
       "      <td>adc telecommunications</td>\n",
       "      <td>adc telecommunications</td>\n",
       "      <td>NaN</td>\n",
       "      <td>7523129</td>\n",
       "    </tr>\n",
       "    <tr>\n",
       "      <th>1</th>\n",
       "      <td>2004</td>\n",
       "      <td>1013</td>\n",
       "      <td>2136</td>\n",
       "      <td>104.312</td>\n",
       "      <td>33.0</td>\n",
       "      <td>37.0</td>\n",
       "      <td>verizonmmunications</td>\n",
       "      <td>verizonmmunications</td>\n",
       "      <td>NaN</td>\n",
       "      <td>7564776</td>\n",
       "      <td>adc telecommunications</td>\n",
       "      <td>adc telecommunications</td>\n",
       "      <td>NaN</td>\n",
       "      <td>7523129</td>\n",
       "    </tr>\n",
       "    <tr>\n",
       "      <th>2</th>\n",
       "      <td>2005</td>\n",
       "      <td>1013</td>\n",
       "      <td>2136</td>\n",
       "      <td>146.000</td>\n",
       "      <td>33.0</td>\n",
       "      <td>37.0</td>\n",
       "      <td>verizonmmunications</td>\n",
       "      <td>verizonmmunications</td>\n",
       "      <td>NaN</td>\n",
       "      <td>7564776</td>\n",
       "      <td>adc telecommunications</td>\n",
       "      <td>adc telecommunications</td>\n",
       "      <td>NaN</td>\n",
       "      <td>7523129</td>\n",
       "    </tr>\n",
       "    <tr>\n",
       "      <th>3</th>\n",
       "      <td>2006</td>\n",
       "      <td>1013</td>\n",
       "      <td>2136</td>\n",
       "      <td>205.000</td>\n",
       "      <td>33.0</td>\n",
       "      <td>37.0</td>\n",
       "      <td>verizonmmunications</td>\n",
       "      <td>verizonmmunications</td>\n",
       "      <td>NaN</td>\n",
       "      <td>7564776</td>\n",
       "      <td>adc telecommunications</td>\n",
       "      <td>adc telecommunications</td>\n",
       "      <td>NaN</td>\n",
       "      <td>7523129</td>\n",
       "    </tr>\n",
       "    <tr>\n",
       "      <th>4</th>\n",
       "      <td>2007</td>\n",
       "      <td>1013</td>\n",
       "      <td>2136</td>\n",
       "      <td>236.000</td>\n",
       "      <td>33.0</td>\n",
       "      <td>37.0</td>\n",
       "      <td>verizonmmunications</td>\n",
       "      <td>verizonmmunications</td>\n",
       "      <td>NaN</td>\n",
       "      <td>7564776</td>\n",
       "      <td>adc telecommunications</td>\n",
       "      <td>adc telecommunications</td>\n",
       "      <td>NaN</td>\n",
       "      <td>7523129</td>\n",
       "    </tr>\n",
       "  </tbody>\n",
       "</table>\n",
       "</div>"
      ],
      "text/plain": [
       "   year  supplier_gvkey  customer_gvkey   salecs  customer_famafrench  \\\n",
       "0  2002            1013            2136  111.056                 33.0   \n",
       "1  2004            1013            2136  104.312                 33.0   \n",
       "2  2005            1013            2136  146.000                 33.0   \n",
       "3  2006            1013            2136  205.000                 33.0   \n",
       "4  2007            1013            2136  236.000                 33.0   \n",
       "\n",
       "   supplier_famafrench customer_cstatCompanies customer_igCompanies  \\\n",
       "0                 37.0     verizonmmunications  verizonmmunications   \n",
       "1                 37.0     verizonmmunications  verizonmmunications   \n",
       "2                 37.0     verizonmmunications  verizonmmunications   \n",
       "3                 37.0     verizonmmunications  verizonmmunications   \n",
       "4                 37.0     verizonmmunications  verizonmmunications   \n",
       "\n",
       "   customer_delete  customer_abi supplier_cstatCompanies  \\\n",
       "0              NaN       7564776  adc telecommunications   \n",
       "1              NaN       7564776  adc telecommunications   \n",
       "2              NaN       7564776  adc telecommunications   \n",
       "3              NaN       7564776  adc telecommunications   \n",
       "4              NaN       7564776  adc telecommunications   \n",
       "\n",
       "     supplier_igCompanies  supplier_delete  supplier_abi  \n",
       "0  adc telecommunications              NaN       7523129  \n",
       "1  adc telecommunications              NaN       7523129  \n",
       "2  adc telecommunications              NaN       7523129  \n",
       "3  adc telecommunications              NaN       7523129  \n",
       "4  adc telecommunications              NaN       7523129  "
      ]
     },
     "execution_count": 9,
     "metadata": {},
     "output_type": "execute_result"
    }
   ],
   "source": [
    "c_links = pd.read_csv(\"../../data/companyData/clinks_IG_selected.csv\").drop(columns = {'Unnamed: 0'})\n",
    "c_links.head()"
   ]
  },
  {
   "cell_type": "code",
   "execution_count": null,
   "metadata": {},
   "outputs": [],
   "source": [
    "c_links['suppliers'] = 1\n",
    "custExp = c_links[['year', 'customer_gvkey', 'salecs','suppliers']].groupby(['year','customer_gvkey']).sum().\\\n",
    "    reset_index().rename(columns = {'salecs': 'totalExp'})\n",
    "\n",
    "custExp.head()\n",
    "\n"
   ]
  },
  {
   "cell_type": "code",
   "execution_count": null,
   "metadata": {},
   "outputs": [],
   "source": [
    "print(\"Number of firms with no exp information and multiple suppliers: \", \\\n",
    "          sum(custExp[custExp.totalExp == 0].suppliers > 1))\n",
    "print(\"Number of firms with no exp information and >5 suppliers: \", \\\n",
    "          sum(custExp[custExp.totalExp == 0].suppliers > 5))\n"
   ]
  },
  {
   "cell_type": "markdown",
   "metadata": {},
   "source": [
    "Most of these firms have expenditure information. We can look at:\n",
    "    - Expenditure-weighted (just do equal shares if no exp information)\n",
    "    - Largest supplier"
   ]
  },
  {
   "cell_type": "code",
   "execution_count": null,
   "metadata": {},
   "outputs": [],
   "source": [
    "customerDB = c_links[['year','customer_gvkey','supplier_gvkey','salecs']].\\\n",
    "    merge(custExp).rename(columns = {'customer_gvkey': 'gvkey'}).drop_duplicates()\n",
    "print(customerDB.shape)\n",
    "\n",
    "customerDB.head()"
   ]
  },
  {
   "cell_type": "code",
   "execution_count": null,
   "metadata": {},
   "outputs": [],
   "source": [
    "customersWithWeather = customers.merge(allWeather_withLags).merge(averages).merge(allWeather_byInd_withLags)\n",
    "customersWithWeather.shape\n",
    "\n",
    "suppliersWithWeather = suppliers.merge(allWeather_withLags).merge(averages).merge(allWeather_byInd_withLags)\n",
    "suppliersWithWeather.shape\n",
    "\n",
    "suppliersWithWeather.to_csv(\"../../data/companyData/suppliersWithWeather.csv\")\n",
    "customersWithWeather.to_csv(\"../../data/companyData/customersWithWeather.csv\")\n",
    "\n",
    "'''suppliersWithWeather = pd.read_csv(\"../../data/companyData/suppliersWithWeather.csv\").drop(columns = {'Unnamed: 0'})\n",
    "customersWithWeather = pd.read_csv(\"../../data/companyData/customersWithWeather.csv\").drop(columns = {'Unnamed: 0'})'''\n",
    "\n",
    "frames = [customersWithWeather, suppliersWithWeather]\n",
    "\n",
    "allCompanies = pd.concat(frames).drop_duplicates()\n",
    "\n",
    "print(allCompanies.shape)\n",
    "\n",
    "allCompanies.to_csv(\"../../data/companyData/allCompaniesWithWeather.csv\")"
   ]
  },
  {
   "cell_type": "markdown",
   "metadata": {},
   "source": [
    "## Biggest Supplier\n",
    "Focus on weather of biggest supplier.\n",
    "\n",
    "First find the max by supplier. Add back in any rows with only 1 supplier."
   ]
  },
  {
   "cell_type": "code",
   "execution_count": null,
   "metadata": {},
   "outputs": [],
   "source": [
    "customerDB.shape"
   ]
  },
  {
   "cell_type": "code",
   "execution_count": null,
   "metadata": {},
   "outputs": [],
   "source": [
    "# https://stackoverflow.com/questions/15705630/get-the-rows-which-have-the-max-value-in-groups-using-groupby\n",
    "idx = customerDB.groupby(['year','gvkey']).salecs.\\\n",
    "    transform(max) == customerDB.salecs\n",
    "largestSuppliers = customerDB[idx].reset_index(drop = True)\n",
    "print(largestSuppliers.shape)\n",
    "\n",
    "# find companies who only have one other supplier\n",
    "singleSuppliers = customerDB[customerDB.suppliers == 1].reset_index(drop = True)\n",
    "print(singleSuppliers.shape)\n",
    "\n",
    "# find largest suppliers of different companies\n",
    "largestSuppliers = largestSuppliers.append(singleSuppliers).drop_duplicates()\n",
    "print(largestSuppliers.shape)\n",
    "\n"
   ]
  },
  {
   "cell_type": "code",
   "execution_count": null,
   "metadata": {},
   "outputs": [],
   "source": [
    "customerDB[['year','gvkey']][customerDB.year > 2009].drop_duplicates().shape"
   ]
  },
  {
   "cell_type": "code",
   "execution_count": null,
   "metadata": {},
   "outputs": [],
   "source": [
    "len(largestSuppliers.gvkey.unique())"
   ]
  },
  {
   "cell_type": "code",
   "execution_count": null,
   "metadata": {},
   "outputs": [],
   "source": [
    "for column in suppliersWithWeather.columns:\n",
    "    print(column)"
   ]
  },
  {
   "cell_type": "code",
   "execution_count": null,
   "metadata": {},
   "outputs": [],
   "source": [
    "relevantVars = [x for x in suppliersWithWeather.columns if (('year' in x) | \n",
    "                                                 ('qtr' in x) |\n",
    "                                                 ('gvkey' in x) |\n",
    "                                                 ('_' in x)) & \n",
    "                                                ~('roa_lagged' in x) & \n",
    "                                                ~('yearQtr' in x)]\n",
    "\n",
    "suppliers_toMerge = suppliersWithWeather[relevantVars]\n",
    "\n",
    "\n",
    "for colname in suppliers_toMerge.columns[3:]:\n",
    "    suppliers_toMerge.rename(columns = {colname: 'supplier_' + colname}, inplace = True)\n",
    "\n",
    "    \n",
    "suppliers_toMerge.rename(columns = {'gvkey': 'supplier_gvkey'},inplace = True)    \n",
    "\n",
    "print(suppliers_toMerge.columns)\n",
    "\n",
    "\n",
    "'''suppliers_toMerge = suppliersWithWeather[['year','qtr','gvkey','tmax_quant_1.0','precip_quant_1.0']].\\\n",
    "    rename(columns = {'gvkey': 'supplier_gvkey',\n",
    "                      'tmax_quant_1.0': 'supplier_tmax_quant_1.0',\n",
    "                      'precip_quant_1.0': 'supplier_precip_quant_1.0'})'''"
   ]
  },
  {
   "cell_type": "code",
   "execution_count": null,
   "metadata": {},
   "outputs": [],
   "source": [
    "customersWithWeather.shape"
   ]
  },
  {
   "cell_type": "code",
   "execution_count": null,
   "metadata": {},
   "outputs": [],
   "source": [
    "len(set(supplierWtdAvgWeather.gvkey.unique()) - set(suppliers_toMerge.gvkey.unique()))\n"
   ]
  },
  {
   "cell_type": "code",
   "execution_count": null,
   "metadata": {},
   "outputs": [],
   "source": [
    "largestSuppliers.head()"
   ]
  },
  {
   "cell_type": "code",
   "execution_count": null,
   "metadata": {},
   "outputs": [],
   "source": [
    "largestSuppliersWithWeather = customersWithWeather.merge(largestSuppliers[['year', 'gvkey', 'supplier_gvkey']]).merge(suppliers_toMerge)\n",
    "largestSuppliersWithWeather.shape"
   ]
  },
  {
   "cell_type": "code",
   "execution_count": null,
   "metadata": {},
   "outputs": [],
   "source": [
    "largestSuppliersWithWeather.head()"
   ]
  },
  {
   "cell_type": "code",
   "execution_count": null,
   "metadata": {},
   "outputs": [],
   "source": [
    "largestSuppliersWithWeather.to_csv(\"../../data/companyData/largestSuppliersWithWeather.csv\")\n"
   ]
  },
  {
   "cell_type": "code",
   "execution_count": null,
   "metadata": {},
   "outputs": [],
   "source": [
    "largestSuppliersWithWeather.suppliers"
   ]
  },
  {
   "cell_type": "code",
   "execution_count": 4,
   "metadata": {},
   "outputs": [
    {
     "data": {
      "text/html": [
       "<div>\n",
       "<style scoped>\n",
       "    .dataframe tbody tr th:only-of-type {\n",
       "        vertical-align: middle;\n",
       "    }\n",
       "\n",
       "    .dataframe tbody tr th {\n",
       "        vertical-align: top;\n",
       "    }\n",
       "\n",
       "    .dataframe thead th {\n",
       "        text-align: right;\n",
       "    }\n",
       "</style>\n",
       "<table border=\"1\" class=\"dataframe\">\n",
       "  <thead>\n",
       "    <tr style=\"text-align: right;\">\n",
       "      <th></th>\n",
       "      <th>Unnamed: 0</th>\n",
       "      <th>year</th>\n",
       "      <th>gvkey</th>\n",
       "      <th>supplier_gvkey</th>\n",
       "      <th>salecs</th>\n",
       "      <th>totalExp</th>\n",
       "      <th>suppliers</th>\n",
       "      <th>datadate</th>\n",
       "      <th>qtr</th>\n",
       "      <th>companyName</th>\n",
       "      <th>...</th>\n",
       "      <th>supplier_lag4_temp5Days_zipQuarterquant_1x5Qtrs</th>\n",
       "      <th>supplier_lag4_temp5Days_zipQuarterquant_1x10Qtrs</th>\n",
       "      <th>supplier_lag4_temp5Days_zipQuarterquant_1x5Yrs</th>\n",
       "      <th>supplier_lag4_temp5Days_zipQuarterquant_1x10Yrs</th>\n",
       "      <th>supplier_quarterly_avg_precip</th>\n",
       "      <th>supplier_quarterly_median_precip</th>\n",
       "      <th>supplier_quarterly_variance_precip</th>\n",
       "      <th>supplier_quarterly_avg_temp</th>\n",
       "      <th>supplier_quarterly_median_temp</th>\n",
       "      <th>supplier_quarterly_variance_temp</th>\n",
       "    </tr>\n",
       "  </thead>\n",
       "  <tbody>\n",
       "    <tr>\n",
       "      <th>0</th>\n",
       "      <td>0</td>\n",
       "      <td>2010</td>\n",
       "      <td>9899</td>\n",
       "      <td>111880</td>\n",
       "      <td>865.425</td>\n",
       "      <td>4633.447</td>\n",
       "      <td>37</td>\n",
       "      <td>20100331</td>\n",
       "      <td>1.0</td>\n",
       "      <td>AT&amp;T INC</td>\n",
       "      <td>...</td>\n",
       "      <td>0</td>\n",
       "      <td>0</td>\n",
       "      <td>0</td>\n",
       "      <td>0</td>\n",
       "      <td>2.249304</td>\n",
       "      <td>0.0</td>\n",
       "      <td>44.801073</td>\n",
       "      <td>8.004915</td>\n",
       "      <td>7.6360</td>\n",
       "      <td>66.589459</td>\n",
       "    </tr>\n",
       "    <tr>\n",
       "      <th>1</th>\n",
       "      <td>1</td>\n",
       "      <td>2010</td>\n",
       "      <td>9899</td>\n",
       "      <td>111880</td>\n",
       "      <td>865.425</td>\n",
       "      <td>4633.447</td>\n",
       "      <td>37</td>\n",
       "      <td>20100630</td>\n",
       "      <td>2.0</td>\n",
       "      <td>AT&amp;T INC</td>\n",
       "      <td>...</td>\n",
       "      <td>0</td>\n",
       "      <td>0</td>\n",
       "      <td>0</td>\n",
       "      <td>0</td>\n",
       "      <td>3.593418</td>\n",
       "      <td>0.0</td>\n",
       "      <td>82.171479</td>\n",
       "      <td>24.101767</td>\n",
       "      <td>25.0880</td>\n",
       "      <td>41.752215</td>\n",
       "    </tr>\n",
       "    <tr>\n",
       "      <th>2</th>\n",
       "      <td>2</td>\n",
       "      <td>2010</td>\n",
       "      <td>9899</td>\n",
       "      <td>111880</td>\n",
       "      <td>865.425</td>\n",
       "      <td>4633.447</td>\n",
       "      <td>37</td>\n",
       "      <td>20100930</td>\n",
       "      <td>3.0</td>\n",
       "      <td>AT&amp;T INC</td>\n",
       "      <td>...</td>\n",
       "      <td>0</td>\n",
       "      <td>0</td>\n",
       "      <td>0</td>\n",
       "      <td>0</td>\n",
       "      <td>2.951039</td>\n",
       "      <td>0.0</td>\n",
       "      <td>76.675933</td>\n",
       "      <td>29.597434</td>\n",
       "      <td>30.0360</td>\n",
       "      <td>19.818994</td>\n",
       "    </tr>\n",
       "    <tr>\n",
       "      <th>3</th>\n",
       "      <td>3</td>\n",
       "      <td>2010</td>\n",
       "      <td>9899</td>\n",
       "      <td>111880</td>\n",
       "      <td>865.425</td>\n",
       "      <td>4633.447</td>\n",
       "      <td>37</td>\n",
       "      <td>20101231</td>\n",
       "      <td>4.0</td>\n",
       "      <td>AT&amp;T INC</td>\n",
       "      <td>...</td>\n",
       "      <td>0</td>\n",
       "      <td>0</td>\n",
       "      <td>0</td>\n",
       "      <td>0</td>\n",
       "      <td>2.765759</td>\n",
       "      <td>0.0</td>\n",
       "      <td>56.969919</td>\n",
       "      <td>13.007701</td>\n",
       "      <td>13.4325</td>\n",
       "      <td>77.199622</td>\n",
       "    </tr>\n",
       "    <tr>\n",
       "      <th>4</th>\n",
       "      <td>4</td>\n",
       "      <td>2011</td>\n",
       "      <td>9899</td>\n",
       "      <td>111880</td>\n",
       "      <td>921.541</td>\n",
       "      <td>3977.293</td>\n",
       "      <td>37</td>\n",
       "      <td>20110331</td>\n",
       "      <td>1.0</td>\n",
       "      <td>AT&amp;T INC</td>\n",
       "      <td>...</td>\n",
       "      <td>0</td>\n",
       "      <td>0</td>\n",
       "      <td>0</td>\n",
       "      <td>0</td>\n",
       "      <td>2.249304</td>\n",
       "      <td>0.0</td>\n",
       "      <td>44.801073</td>\n",
       "      <td>8.004915</td>\n",
       "      <td>7.6360</td>\n",
       "      <td>66.589459</td>\n",
       "    </tr>\n",
       "  </tbody>\n",
       "</table>\n",
       "<p>5 rows × 897 columns</p>\n",
       "</div>"
      ],
      "text/plain": [
       "   Unnamed: 0  year  gvkey  supplier_gvkey   salecs  totalExp  suppliers  \\\n",
       "0           0  2010   9899          111880  865.425  4633.447         37   \n",
       "1           1  2010   9899          111880  865.425  4633.447         37   \n",
       "2           2  2010   9899          111880  865.425  4633.447         37   \n",
       "3           3  2010   9899          111880  865.425  4633.447         37   \n",
       "4           4  2011   9899          111880  921.541  3977.293         37   \n",
       "\n",
       "   datadate  qtr companyName  ...  \\\n",
       "0  20100331  1.0    AT&T INC  ...   \n",
       "1  20100630  2.0    AT&T INC  ...   \n",
       "2  20100930  3.0    AT&T INC  ...   \n",
       "3  20101231  4.0    AT&T INC  ...   \n",
       "4  20110331  1.0    AT&T INC  ...   \n",
       "\n",
       "  supplier_lag4_temp5Days_zipQuarterquant_1x5Qtrs  \\\n",
       "0                                               0   \n",
       "1                                               0   \n",
       "2                                               0   \n",
       "3                                               0   \n",
       "4                                               0   \n",
       "\n",
       "   supplier_lag4_temp5Days_zipQuarterquant_1x10Qtrs  \\\n",
       "0                                                 0   \n",
       "1                                                 0   \n",
       "2                                                 0   \n",
       "3                                                 0   \n",
       "4                                                 0   \n",
       "\n",
       "   supplier_lag4_temp5Days_zipQuarterquant_1x5Yrs  \\\n",
       "0                                               0   \n",
       "1                                               0   \n",
       "2                                               0   \n",
       "3                                               0   \n",
       "4                                               0   \n",
       "\n",
       "   supplier_lag4_temp5Days_zipQuarterquant_1x10Yrs  \\\n",
       "0                                                0   \n",
       "1                                                0   \n",
       "2                                                0   \n",
       "3                                                0   \n",
       "4                                                0   \n",
       "\n",
       "   supplier_quarterly_avg_precip  supplier_quarterly_median_precip  \\\n",
       "0                       2.249304                               0.0   \n",
       "1                       3.593418                               0.0   \n",
       "2                       2.951039                               0.0   \n",
       "3                       2.765759                               0.0   \n",
       "4                       2.249304                               0.0   \n",
       "\n",
       "   supplier_quarterly_variance_precip supplier_quarterly_avg_temp  \\\n",
       "0                           44.801073                    8.004915   \n",
       "1                           82.171479                   24.101767   \n",
       "2                           76.675933                   29.597434   \n",
       "3                           56.969919                   13.007701   \n",
       "4                           44.801073                    8.004915   \n",
       "\n",
       "  supplier_quarterly_median_temp  supplier_quarterly_variance_temp  \n",
       "0                         7.6360                         66.589459  \n",
       "1                        25.0880                         41.752215  \n",
       "2                        30.0360                         19.818994  \n",
       "3                        13.4325                         77.199622  \n",
       "4                         7.6360                         66.589459  \n",
       "\n",
       "[5 rows x 897 columns]"
      ]
     },
     "execution_count": 4,
     "metadata": {},
     "output_type": "execute_result"
    }
   ],
   "source": [
    "largestSuppliersWithWeather = pd.read_csv(\"../../data/companyData/largestSuppliersWithWeather.csv\")\n",
    "largestSuppliersWithWeather.head()"
   ]
  },
  {
   "cell_type": "code",
   "execution_count": 8,
   "metadata": {},
   "outputs": [
    {
     "data": {
      "text/plain": [
       "Index(['Unnamed: 0', 'year', 'gvkey', 'supplier_gvkey', 'salecs', 'totalExp',\n",
       "       'suppliers', 'datadate', 'qtr', 'companyName', 'curcdq', 'assets',\n",
       "       'costGoodsSold', 'totalInv', 'netIncome', 'totalRevenue', 'cik',\n",
       "       'costat', 'add1', 'add2', 'addzip', 'city', 'sic', 'state',\n",
       "       'assetsLast', 'netIncomeLast', 'totalRevenueLast', 'costGoodsSoldLast',\n",
       "       'totalInvLast', 'incomeChange', 'revenueChange', 'costChange',\n",
       "       'inventoryChange', 'assetsPrev', 'assetsLagged', 'netIncomeLagged',\n",
       "       'roa_lagged', 'famafrench', 'earliestYear', 'ageTercile', 'sizeTercile',\n",
       "       'profitTercile', 'zipcode', 'employeesAtLocation', 'yearQtr',\n",
       "       'precip_annualquant_0.95', 'precip_annualquant_1xQtr',\n",
       "       'precip_annualquant_1xYr', 'precip_annualquant_1x5Qtrs',\n",
       "       'precip_annualquant_1x10Qtrs'],\n",
       "      dtype='object')"
      ]
     },
     "execution_count": 8,
     "metadata": {},
     "output_type": "execute_result"
    }
   ],
   "source": [
    "largestSuppliersWithWeather.columns[0:50]"
   ]
  },
  {
   "cell_type": "markdown",
   "metadata": {},
   "source": [
    "## Sales-Weighted Average\n",
    "If a company doesn't have sales-specific information, then assume equal shares. This doesn't happen for too many of the companies, thankfully."
   ]
  },
  {
   "cell_type": "code",
   "execution_count": null,
   "metadata": {},
   "outputs": [],
   "source": [
    "customerDB = c_links[['year','customer_gvkey','supplier_gvkey','salecs']].\\\n",
    "    merge(custExp).rename(columns = {'customer_gvkey': 'gvkey'}).drop_duplicates()\n",
    "\n",
    "customerDB['salesWeight'] = customerDB.salecs/customerDB.totalExp\n",
    "\n",
    "customerDB.fillna(1, inplace = True)"
   ]
  },
  {
   "cell_type": "markdown",
   "metadata": {},
   "source": [
    "Now merge this with the supplier weather data, and use the sales weights to find a sales-weighted average of the weather conditions for the suppliers."
   ]
  },
  {
   "cell_type": "code",
   "execution_count": null,
   "metadata": {},
   "outputs": [],
   "source": [
    "relevantVars = [x for x in suppliersWithWeather.columns if (('year' in x) | \n",
    "                                                 ('qtr' in x) |\n",
    "                                                 ('gvkey' in x) |\n",
    "                                                 ('_' in x)) & \n",
    "                                                ~('roa_lagged' in x) & \n",
    "                                                ~('yearQtr' in x)]\n",
    "\n",
    "suppliers_toMerge = suppliersWithWeather[relevantVars]\n",
    "\n",
    "\n",
    "for colname in suppliers_toMerge.columns[3:]:\n",
    "    suppliers_toMerge.rename(columns = {colname: 'supplier_' + colname}, inplace = True)\n",
    "\n",
    "    \n",
    "suppliers_toMerge.rename(columns = {'gvkey': 'supplier_gvkey'},inplace = True)    \n"
   ]
  },
  {
   "cell_type": "code",
   "execution_count": null,
   "metadata": {},
   "outputs": [],
   "source": [
    "suppliers_toMerge.head()"
   ]
  },
  {
   "cell_type": "markdown",
   "metadata": {},
   "source": [
    "For each of the supplier weather columns, multiply the variable by the fraction of sales attributable to that relationship."
   ]
  },
  {
   "cell_type": "code",
   "execution_count": null,
   "metadata": {},
   "outputs": [],
   "source": [
    "supplierWeather = customerDB[['year','gvkey','supplier_gvkey','salesWeight']].merge(suppliers_toMerge)\n",
    "\n",
    "for col in supplierWeather.columns[5:]:\n",
    "        supplierWeather[col]   = supplierWeather.salesWeight*supplierWeather[col]\n",
    "        \n",
    "        \n",
    "\n",
    "supplierWeather.drop(columns = {'supplier_gvkey','salesWeight'}, inplace = True)\n",
    "\n",
    "\n",
    "print(supplierWeather.head())\n",
    "\n",
    "\n",
    "\n",
    "# [['year','qtr','gvkey','supplier_tmax_quant_1.0','supplier_precip_quant_1.0']]"
   ]
  },
  {
   "cell_type": "code",
   "execution_count": null,
   "metadata": {},
   "outputs": [],
   "source": [
    "supplierWtdAvgWeather = supplierWeather.groupby(['year','qtr','gvkey']).sum().reset_index().drop_duplicates()"
   ]
  },
  {
   "cell_type": "code",
   "execution_count": null,
   "metadata": {},
   "outputs": [],
   "source": [
    "supplierWtdAvgWeather.gvkey.unique()"
   ]
  },
  {
   "cell_type": "markdown",
   "metadata": {},
   "source": [
    "Merge the supplier weighted average weather data with the customer data that has weather as well."
   ]
  },
  {
   "cell_type": "code",
   "execution_count": null,
   "metadata": {},
   "outputs": [],
   "source": [
    "customersWithWeather.head()"
   ]
  },
  {
   "cell_type": "code",
   "execution_count": null,
   "metadata": {},
   "outputs": [],
   "source": [
    "wtdAvgSuppliers = customersWithWeather.merge(supplierWtdAvgWeather)\n",
    "\n",
    "wtdAvgSuppliers.head()"
   ]
  },
  {
   "cell_type": "code",
   "execution_count": null,
   "metadata": {},
   "outputs": [],
   "source": [
    "wtdAvgSuppliers.shape"
   ]
  },
  {
   "cell_type": "code",
   "execution_count": null,
   "metadata": {},
   "outputs": [],
   "source": [
    "wtdAvgSuppliers.to_csv(\"../../data/companyData/wtdAvgSuppliers.csv\")"
   ]
  },
  {
   "cell_type": "code",
   "execution_count": null,
   "metadata": {},
   "outputs": [],
   "source": [
    "wtdAvgSuppliers.head()"
   ]
  },
  {
   "cell_type": "code",
   "execution_count": null,
   "metadata": {},
   "outputs": [],
   "source": [
    "wtdAvgSuppliers.columns[wtdAvgSuppliers.columns.str.contains('Tercile')]"
   ]
  },
  {
   "cell_type": "code",
   "execution_count": null,
   "metadata": {},
   "outputs": [],
   "source": []
  }
 ],
 "metadata": {
  "kernelspec": {
   "display_name": "Python 3",
   "language": "python",
   "name": "python3"
  },
  "language_info": {
   "codemirror_mode": {
    "name": "ipython",
    "version": 3
   },
   "file_extension": ".py",
   "mimetype": "text/x-python",
   "name": "python",
   "nbconvert_exporter": "python",
   "pygments_lexer": "ipython3",
   "version": "3.7.4"
  }
 },
 "nbformat": 4,
 "nbformat_minor": 2
}
