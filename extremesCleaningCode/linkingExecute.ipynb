{
 "cells": [
  {
   "cell_type": "code",
   "execution_count": 1,
   "metadata": {},
   "outputs": [
    {
     "ename": "RuntimeError",
     "evalue": "Failed to import transformers.models.auto because of the following error (look up to see its traceback):\nFailed to import transformers.modeling_tf_utils because of the following error (look up to see its traceback):\ndlopen(/Users/brianreed/opt/anaconda3/lib/python3.7/site-packages/tensorflow/python/_pywrap_tfe.so, 0x0002): Library not loaded: @rpath/_pywrap_tensorflow_internal.so\n  Referenced from: /Users/brianreed/opt/anaconda3/lib/python3.7/site-packages/tensorflow/python/_pywrap_tfe.so\n  Reason: tried: '/Users/brianreed/opt/anaconda3/lib/python3.7/site-packages/tensorflow/python/../../_solib_darwin_x86_64/_U_S_Stensorflow_Spython_C_Upywrap_Utfe.so___Utensorflow/_pywrap_tensorflow_internal.so' (no such file), '/Users/brianreed/opt/anaconda3/lib/python3.7/site-packages/tensorflow/python/../../_solib_darwin_x86_64/_U_S_Stensorflow_Spython_C_Upywrap_Utensorflow_Uinternal_Umacos___Utensorflow_Spython/_pywrap_tensorflow_internal.so' (no such file), '/Users/brianreed/opt/anaconda3/lib/python3.7/site-packages/tensorflow/python/_pywrap_tensorflow_internal.so' (no such file), '/Users/brianreed/opt/anaconda3/lib/python3.7/site-packages/tensorflow/python/../_pywrap_tensorflow_internal.so' (no such file), '/Users/brianreed/opt/anaconda3/lib/python3.7/site-packages/tensorflow/python/../../_solib_darwin_x86_64/_U_S_Stensorflow_Spython_C_Upywrap_Utfe.so___Utensorflow/_pywrap_tensorflow_internal.so' (no such file), '/Users/brianreed/opt/anaconda3/lib/python3.7/site-packages/tensorflow/python/../../_solib_darwin_x86_64/_U_S_Stensorflow_Spython_C_Upywrap_Utensorflow_Uinternal_Umacos___Utensorflow_Spython/_pywrap_tensorflow_internal.so' (no such file), '/Users/brianreed/opt/anaconda3/lib/python3.7/site-packages/tensorflow/python/_pywrap_tensorflow_internal.so' (no such file), '/Users/brianreed/opt/anaconda3/lib/python3.7/site-packages/tensorflow/python/../_pywrap_tensorflow_internal.so' (no such file), '/opt/concourse/worker/volumes/live/d698b2ce-b4b9-4fb4-6268-e633fba1b324/volume/python_1565725718142/_h_env_placehold_placehold_placehold_placehold_placehold_placehold_placehold_placehold_placehold_placehold_placehold_placehold_placehold_placehold_placehol/lib/_pywrap_tensorflow_internal.so' (no such file), '/opt/concourse/worker/volumes/live/d698b2ce-b4b9-4fb4-6268-e633fba1b324/volume/python_1565725718142/_h_env_placehold_placehold_placehold_placehold_placehold_placehold_placehold_placehold_placehold_placehold_placehold_placehold_placehold_placehold_placehol/lib/_pywrap_tensorflow_internal.so' (no such file), '/Users/brianreed/opt/anaconda3/bin/../lib/_pywrap_tensorflow_internal.so' (no such file), '/opt/concourse/worker/volumes/live/d698b2ce-b4b9-4fb4-6268-e633fba1b324/volume/python_1565725718142/_h_env_placehold_placehold_placehold_placehold_placehold_placehold_placehold_placehold_placehold_placehold_placehold_placehold_placehold_placehold_placehol/lib/_pywrap_tensorflow_internal.so' (no such file), '/opt/concourse/worker/volumes/live/d698b2ce-b4b9-4fb4-6268-e633fba1b324/volume/python_1565725718142/_h_env_placehold_placehold_placehold_placehold_placehold_placehold_placehold_placehold_placehold_placehold_placehold_placehold_placehold_placehold_placehol/lib/_pywrap_tensorflow_internal.so' (no such file), '/Users/brianreed/opt/anaconda3/bin/../lib/_pywrap_tensorflow_internal.so' (no such file), '/usr/local/lib/_pywrap_tensorflow_internal.so' (no such file), '/usr/lib/_pywrap_tensorflow_internal.so' (no such file)",
     "output_type": "error",
     "traceback": [
      "\u001b[0;31m---------------------------------------------------------------------------\u001b[0m",
      "\u001b[0;31mImportError\u001b[0m                               Traceback (most recent call last)",
      "\u001b[0;32m~/opt/anaconda3/lib/python3.7/site-packages/transformers/file_utils.py\u001b[0m in \u001b[0;36m_get_module\u001b[0;34m(self, module_name)\u001b[0m\n\u001b[1;32m   2149\u001b[0m         \u001b[0;32mtry\u001b[0m\u001b[0;34m:\u001b[0m\u001b[0;34m\u001b[0m\u001b[0;34m\u001b[0m\u001b[0m\n\u001b[0;32m-> 2150\u001b[0;31m             \u001b[0;32mreturn\u001b[0m \u001b[0mimportlib\u001b[0m\u001b[0;34m.\u001b[0m\u001b[0mimport_module\u001b[0m\u001b[0;34m(\u001b[0m\u001b[0;34m\".\"\u001b[0m \u001b[0;34m+\u001b[0m \u001b[0mmodule_name\u001b[0m\u001b[0;34m,\u001b[0m \u001b[0mself\u001b[0m\u001b[0;34m.\u001b[0m\u001b[0m__name__\u001b[0m\u001b[0;34m)\u001b[0m\u001b[0;34m\u001b[0m\u001b[0;34m\u001b[0m\u001b[0m\n\u001b[0m\u001b[1;32m   2151\u001b[0m         \u001b[0;32mexcept\u001b[0m \u001b[0mException\u001b[0m \u001b[0;32mas\u001b[0m \u001b[0me\u001b[0m\u001b[0;34m:\u001b[0m\u001b[0;34m\u001b[0m\u001b[0;34m\u001b[0m\u001b[0m\n",
      "\u001b[0;32m~/opt/anaconda3/lib/python3.7/importlib/__init__.py\u001b[0m in \u001b[0;36mimport_module\u001b[0;34m(name, package)\u001b[0m\n\u001b[1;32m    126\u001b[0m             \u001b[0mlevel\u001b[0m \u001b[0;34m+=\u001b[0m \u001b[0;36m1\u001b[0m\u001b[0;34m\u001b[0m\u001b[0;34m\u001b[0m\u001b[0m\n\u001b[0;32m--> 127\u001b[0;31m     \u001b[0;32mreturn\u001b[0m \u001b[0m_bootstrap\u001b[0m\u001b[0;34m.\u001b[0m\u001b[0m_gcd_import\u001b[0m\u001b[0;34m(\u001b[0m\u001b[0mname\u001b[0m\u001b[0;34m[\u001b[0m\u001b[0mlevel\u001b[0m\u001b[0;34m:\u001b[0m\u001b[0;34m]\u001b[0m\u001b[0;34m,\u001b[0m \u001b[0mpackage\u001b[0m\u001b[0;34m,\u001b[0m \u001b[0mlevel\u001b[0m\u001b[0;34m)\u001b[0m\u001b[0;34m\u001b[0m\u001b[0;34m\u001b[0m\u001b[0m\n\u001b[0m\u001b[1;32m    128\u001b[0m \u001b[0;34m\u001b[0m\u001b[0m\n",
      "\u001b[0;32m~/opt/anaconda3/lib/python3.7/importlib/_bootstrap.py\u001b[0m in \u001b[0;36m_gcd_import\u001b[0;34m(name, package, level)\u001b[0m\n",
      "\u001b[0;32m~/opt/anaconda3/lib/python3.7/importlib/_bootstrap.py\u001b[0m in \u001b[0;36m_find_and_load\u001b[0;34m(name, import_)\u001b[0m\n",
      "\u001b[0;32m~/opt/anaconda3/lib/python3.7/importlib/_bootstrap.py\u001b[0m in \u001b[0;36m_find_and_load_unlocked\u001b[0;34m(name, import_)\u001b[0m\n",
      "\u001b[0;32m~/opt/anaconda3/lib/python3.7/importlib/_bootstrap.py\u001b[0m in \u001b[0;36m_load_unlocked\u001b[0;34m(spec)\u001b[0m\n",
      "\u001b[0;32m~/opt/anaconda3/lib/python3.7/importlib/_bootstrap_external.py\u001b[0m in \u001b[0;36mexec_module\u001b[0;34m(self, module)\u001b[0m\n",
      "\u001b[0;32m~/opt/anaconda3/lib/python3.7/importlib/_bootstrap.py\u001b[0m in \u001b[0;36m_call_with_frames_removed\u001b[0;34m(f, *args, **kwds)\u001b[0m\n",
      "\u001b[0;32m~/opt/anaconda3/lib/python3.7/site-packages/transformers/modeling_tf_utils.py\u001b[0m in \u001b[0;36m<module>\u001b[0;34m\u001b[0m\n\u001b[1;32m     26\u001b[0m \u001b[0;32mimport\u001b[0m \u001b[0mnumpy\u001b[0m \u001b[0;32mas\u001b[0m \u001b[0mnp\u001b[0m\u001b[0;34m\u001b[0m\u001b[0;34m\u001b[0m\u001b[0m\n\u001b[0;32m---> 27\u001b[0;31m \u001b[0;32mimport\u001b[0m \u001b[0mtensorflow\u001b[0m \u001b[0;32mas\u001b[0m \u001b[0mtf\u001b[0m\u001b[0;34m\u001b[0m\u001b[0;34m\u001b[0m\u001b[0m\n\u001b[0m\u001b[1;32m     28\u001b[0m \u001b[0;32mfrom\u001b[0m \u001b[0mtensorflow\u001b[0m\u001b[0;34m.\u001b[0m\u001b[0mpython\u001b[0m\u001b[0;34m.\u001b[0m\u001b[0mkeras\u001b[0m \u001b[0;32mimport\u001b[0m \u001b[0mbackend\u001b[0m \u001b[0;32mas\u001b[0m \u001b[0mK\u001b[0m\u001b[0;34m\u001b[0m\u001b[0;34m\u001b[0m\u001b[0m\n",
      "\u001b[0;32m~/opt/anaconda3/lib/python3.7/site-packages/tensorflow/__init__.py\u001b[0m in \u001b[0;36m<module>\u001b[0;34m\u001b[0m\n\u001b[1;32m     40\u001b[0m \u001b[0;34m\u001b[0m\u001b[0m\n\u001b[0;32m---> 41\u001b[0;31m \u001b[0;32mfrom\u001b[0m \u001b[0mtensorflow\u001b[0m\u001b[0;34m.\u001b[0m\u001b[0mpython\u001b[0m\u001b[0;34m.\u001b[0m\u001b[0mtools\u001b[0m \u001b[0;32mimport\u001b[0m \u001b[0mmodule_util\u001b[0m \u001b[0;32mas\u001b[0m \u001b[0m_module_util\u001b[0m\u001b[0;34m\u001b[0m\u001b[0;34m\u001b[0m\u001b[0m\n\u001b[0m\u001b[1;32m     42\u001b[0m \u001b[0;32mfrom\u001b[0m \u001b[0mtensorflow\u001b[0m\u001b[0;34m.\u001b[0m\u001b[0mpython\u001b[0m\u001b[0;34m.\u001b[0m\u001b[0mutil\u001b[0m\u001b[0;34m.\u001b[0m\u001b[0mlazy_loader\u001b[0m \u001b[0;32mimport\u001b[0m \u001b[0mLazyLoader\u001b[0m \u001b[0;32mas\u001b[0m \u001b[0m_LazyLoader\u001b[0m\u001b[0;34m\u001b[0m\u001b[0;34m\u001b[0m\u001b[0m\n",
      "\u001b[0;32m~/opt/anaconda3/lib/python3.7/site-packages/tensorflow/python/__init__.py\u001b[0m in \u001b[0;36m<module>\u001b[0;34m\u001b[0m\n\u001b[1;32m     39\u001b[0m \u001b[0;34m\u001b[0m\u001b[0m\n\u001b[0;32m---> 40\u001b[0;31m \u001b[0;32mfrom\u001b[0m \u001b[0mtensorflow\u001b[0m\u001b[0;34m.\u001b[0m\u001b[0mpython\u001b[0m\u001b[0;34m.\u001b[0m\u001b[0meager\u001b[0m \u001b[0;32mimport\u001b[0m \u001b[0mcontext\u001b[0m\u001b[0;34m\u001b[0m\u001b[0;34m\u001b[0m\u001b[0m\n\u001b[0m\u001b[1;32m     41\u001b[0m \u001b[0;32mfrom\u001b[0m \u001b[0mtensorflow\u001b[0m\u001b[0;34m.\u001b[0m\u001b[0mpython\u001b[0m \u001b[0;32mimport\u001b[0m \u001b[0mpywrap_tensorflow\u001b[0m \u001b[0;32mas\u001b[0m \u001b[0m_pywrap_tensorflow\u001b[0m\u001b[0;34m\u001b[0m\u001b[0;34m\u001b[0m\u001b[0m\n",
      "\u001b[0;32m~/opt/anaconda3/lib/python3.7/site-packages/tensorflow/python/eager/context.py\u001b[0m in \u001b[0;36m<module>\u001b[0;34m\u001b[0m\n\u001b[1;32m     34\u001b[0m \u001b[0;32mfrom\u001b[0m \u001b[0mtensorflow\u001b[0m\u001b[0;34m.\u001b[0m\u001b[0mcore\u001b[0m\u001b[0;34m.\u001b[0m\u001b[0mprotobuf\u001b[0m \u001b[0;32mimport\u001b[0m \u001b[0mrewriter_config_pb2\u001b[0m\u001b[0;34m\u001b[0m\u001b[0;34m\u001b[0m\u001b[0m\n\u001b[0;32m---> 35\u001b[0;31m \u001b[0;32mfrom\u001b[0m \u001b[0mtensorflow\u001b[0m\u001b[0;34m.\u001b[0m\u001b[0mpython\u001b[0m \u001b[0;32mimport\u001b[0m \u001b[0mpywrap_tfe\u001b[0m\u001b[0;34m\u001b[0m\u001b[0;34m\u001b[0m\u001b[0m\n\u001b[0m\u001b[1;32m     36\u001b[0m \u001b[0;32mfrom\u001b[0m \u001b[0mtensorflow\u001b[0m\u001b[0;34m.\u001b[0m\u001b[0mpython\u001b[0m \u001b[0;32mimport\u001b[0m \u001b[0mtf2\u001b[0m\u001b[0;34m\u001b[0m\u001b[0;34m\u001b[0m\u001b[0m\n",
      "\u001b[0;32m~/opt/anaconda3/lib/python3.7/site-packages/tensorflow/python/pywrap_tfe.py\u001b[0m in \u001b[0;36m<module>\u001b[0;34m\u001b[0m\n\u001b[1;32m     28\u001b[0m \u001b[0;32mfrom\u001b[0m \u001b[0mtensorflow\u001b[0m\u001b[0;34m.\u001b[0m\u001b[0mpython\u001b[0m \u001b[0;32mimport\u001b[0m \u001b[0mpywrap_tensorflow\u001b[0m\u001b[0;34m\u001b[0m\u001b[0;34m\u001b[0m\u001b[0m\n\u001b[0;32m---> 29\u001b[0;31m \u001b[0;32mfrom\u001b[0m \u001b[0mtensorflow\u001b[0m\u001b[0;34m.\u001b[0m\u001b[0mpython\u001b[0m\u001b[0;34m.\u001b[0m\u001b[0m_pywrap_tfe\u001b[0m \u001b[0;32mimport\u001b[0m \u001b[0;34m*\u001b[0m\u001b[0;34m\u001b[0m\u001b[0;34m\u001b[0m\u001b[0m\n\u001b[0m",
      "\u001b[0;31mImportError\u001b[0m: dlopen(/Users/brianreed/opt/anaconda3/lib/python3.7/site-packages/tensorflow/python/_pywrap_tfe.so, 0x0002): Library not loaded: @rpath/_pywrap_tensorflow_internal.so\n  Referenced from: /Users/brianreed/opt/anaconda3/lib/python3.7/site-packages/tensorflow/python/_pywrap_tfe.so\n  Reason: tried: '/Users/brianreed/opt/anaconda3/lib/python3.7/site-packages/tensorflow/python/../../_solib_darwin_x86_64/_U_S_Stensorflow_Spython_C_Upywrap_Utfe.so___Utensorflow/_pywrap_tensorflow_internal.so' (no such file), '/Users/brianreed/opt/anaconda3/lib/python3.7/site-packages/tensorflow/python/../../_solib_darwin_x86_64/_U_S_Stensorflow_Spython_C_Upywrap_Utensorflow_Uinternal_Umacos___Utensorflow_Spython/_pywrap_tensorflow_internal.so' (no such file), '/Users/brianreed/opt/anaconda3/lib/python3.7/site-packages/tensorflow/python/_pywrap_tensorflow_internal.so' (no such file), '/Users/brianreed/opt/anaconda3/lib/python3.7/site-packages/tensorflow/python/../_pywrap_tensorflow_internal.so' (no such file), '/Users/brianreed/opt/anaconda3/lib/python3.7/site-packages/tensorflow/python/../../_solib_darwin_x86_64/_U_S_Stensorflow_Spython_C_Upywrap_Utfe.so___Utensorflow/_pywrap_tensorflow_internal.so' (no such file), '/Users/brianreed/opt/anaconda3/lib/python3.7/site-packages/tensorflow/python/../../_solib_darwin_x86_64/_U_S_Stensorflow_Spython_C_Upywrap_Utensorflow_Uinternal_Umacos___Utensorflow_Spython/_pywrap_tensorflow_internal.so' (no such file), '/Users/brianreed/opt/anaconda3/lib/python3.7/site-packages/tensorflow/python/_pywrap_tensorflow_internal.so' (no such file), '/Users/brianreed/opt/anaconda3/lib/python3.7/site-packages/tensorflow/python/../_pywrap_tensorflow_internal.so' (no such file), '/opt/concourse/worker/volumes/live/d698b2ce-b4b9-4fb4-6268-e633fba1b324/volume/python_1565725718142/_h_env_placehold_placehold_placehold_placehold_placehold_placehold_placehold_placehold_placehold_placehold_placehold_placehold_placehold_placehold_placehol/lib/_pywrap_tensorflow_internal.so' (no such file), '/opt/concourse/worker/volumes/live/d698b2ce-b4b9-4fb4-6268-e633fba1b324/volume/python_1565725718142/_h_env_placehold_placehold_placehold_placehold_placehold_placehold_placehold_placehold_placehold_placehold_placehold_placehold_placehold_placehold_placehol/lib/_pywrap_tensorflow_internal.so' (no such file), '/Users/brianreed/opt/anaconda3/bin/../lib/_pywrap_tensorflow_internal.so' (no such file), '/opt/concourse/worker/volumes/live/d698b2ce-b4b9-4fb4-6268-e633fba1b324/volume/python_1565725718142/_h_env_placehold_placehold_placehold_placehold_placehold_placehold_placehold_placehold_placehold_placehold_placehold_placehold_placehold_placehold_placehol/lib/_pywrap_tensorflow_internal.so' (no such file), '/opt/concourse/worker/volumes/live/d698b2ce-b4b9-4fb4-6268-e633fba1b324/volume/python_1565725718142/_h_env_placehold_placehold_placehold_placehold_placehold_placehold_placehold_placehold_placehold_placehold_placehold_placehold_placehold_placehold_placehol/lib/_pywrap_tensorflow_internal.so' (no such file), '/Users/brianreed/opt/anaconda3/bin/../lib/_pywrap_tensorflow_internal.so' (no such file), '/usr/local/lib/_pywrap_tensorflow_internal.so' (no such file), '/usr/lib/_pywrap_tensorflow_internal.so' (no such file)",
      "\nThe above exception was the direct cause of the following exception:\n",
      "\u001b[0;31mRuntimeError\u001b[0m                              Traceback (most recent call last)",
      "\u001b[0;32m~/opt/anaconda3/lib/python3.7/site-packages/transformers/file_utils.py\u001b[0m in \u001b[0;36m_get_module\u001b[0;34m(self, module_name)\u001b[0m\n\u001b[1;32m   2149\u001b[0m         \u001b[0;32mtry\u001b[0m\u001b[0;34m:\u001b[0m\u001b[0;34m\u001b[0m\u001b[0;34m\u001b[0m\u001b[0m\n\u001b[0;32m-> 2150\u001b[0;31m             \u001b[0;32mreturn\u001b[0m \u001b[0mimportlib\u001b[0m\u001b[0;34m.\u001b[0m\u001b[0mimport_module\u001b[0m\u001b[0;34m(\u001b[0m\u001b[0;34m\".\"\u001b[0m \u001b[0;34m+\u001b[0m \u001b[0mmodule_name\u001b[0m\u001b[0;34m,\u001b[0m \u001b[0mself\u001b[0m\u001b[0;34m.\u001b[0m\u001b[0m__name__\u001b[0m\u001b[0;34m)\u001b[0m\u001b[0;34m\u001b[0m\u001b[0;34m\u001b[0m\u001b[0m\n\u001b[0m\u001b[1;32m   2151\u001b[0m         \u001b[0;32mexcept\u001b[0m \u001b[0mException\u001b[0m \u001b[0;32mas\u001b[0m \u001b[0me\u001b[0m\u001b[0;34m:\u001b[0m\u001b[0;34m\u001b[0m\u001b[0;34m\u001b[0m\u001b[0m\n",
      "\u001b[0;32m~/opt/anaconda3/lib/python3.7/importlib/__init__.py\u001b[0m in \u001b[0;36mimport_module\u001b[0;34m(name, package)\u001b[0m\n\u001b[1;32m    126\u001b[0m             \u001b[0mlevel\u001b[0m \u001b[0;34m+=\u001b[0m \u001b[0;36m1\u001b[0m\u001b[0;34m\u001b[0m\u001b[0;34m\u001b[0m\u001b[0m\n\u001b[0;32m--> 127\u001b[0;31m     \u001b[0;32mreturn\u001b[0m \u001b[0m_bootstrap\u001b[0m\u001b[0;34m.\u001b[0m\u001b[0m_gcd_import\u001b[0m\u001b[0;34m(\u001b[0m\u001b[0mname\u001b[0m\u001b[0;34m[\u001b[0m\u001b[0mlevel\u001b[0m\u001b[0;34m:\u001b[0m\u001b[0;34m]\u001b[0m\u001b[0;34m,\u001b[0m \u001b[0mpackage\u001b[0m\u001b[0;34m,\u001b[0m \u001b[0mlevel\u001b[0m\u001b[0;34m)\u001b[0m\u001b[0;34m\u001b[0m\u001b[0;34m\u001b[0m\u001b[0m\n\u001b[0m\u001b[1;32m    128\u001b[0m \u001b[0;34m\u001b[0m\u001b[0m\n",
      "\u001b[0;32m~/opt/anaconda3/lib/python3.7/importlib/_bootstrap.py\u001b[0m in \u001b[0;36m_gcd_import\u001b[0;34m(name, package, level)\u001b[0m\n",
      "\u001b[0;32m~/opt/anaconda3/lib/python3.7/importlib/_bootstrap.py\u001b[0m in \u001b[0;36m_find_and_load\u001b[0;34m(name, import_)\u001b[0m\n",
      "\u001b[0;32m~/opt/anaconda3/lib/python3.7/importlib/_bootstrap.py\u001b[0m in \u001b[0;36m_find_and_load_unlocked\u001b[0;34m(name, import_)\u001b[0m\n",
      "\u001b[0;32m~/opt/anaconda3/lib/python3.7/importlib/_bootstrap.py\u001b[0m in \u001b[0;36m_call_with_frames_removed\u001b[0;34m(f, *args, **kwds)\u001b[0m\n",
      "\u001b[0;32m~/opt/anaconda3/lib/python3.7/importlib/_bootstrap.py\u001b[0m in \u001b[0;36m_gcd_import\u001b[0;34m(name, package, level)\u001b[0m\n",
      "\u001b[0;32m~/opt/anaconda3/lib/python3.7/importlib/_bootstrap.py\u001b[0m in \u001b[0;36m_find_and_load\u001b[0;34m(name, import_)\u001b[0m\n",
      "\u001b[0;32m~/opt/anaconda3/lib/python3.7/importlib/_bootstrap.py\u001b[0m in \u001b[0;36m_find_and_load_unlocked\u001b[0;34m(name, import_)\u001b[0m\n",
      "\u001b[0;32m~/opt/anaconda3/lib/python3.7/importlib/_bootstrap.py\u001b[0m in \u001b[0;36m_load_unlocked\u001b[0;34m(spec)\u001b[0m\n",
      "\u001b[0;32m~/opt/anaconda3/lib/python3.7/importlib/_bootstrap_external.py\u001b[0m in \u001b[0;36mexec_module\u001b[0;34m(self, module)\u001b[0m\n",
      "\u001b[0;32m~/opt/anaconda3/lib/python3.7/importlib/_bootstrap.py\u001b[0m in \u001b[0;36m_call_with_frames_removed\u001b[0;34m(f, *args, **kwds)\u001b[0m\n",
      "\u001b[0;32m~/opt/anaconda3/lib/python3.7/site-packages/transformers/models/__init__.py\u001b[0m in \u001b[0;36m<module>\u001b[0;34m\u001b[0m\n\u001b[1;32m     18\u001b[0m \u001b[0;34m\u001b[0m\u001b[0m\n\u001b[0;32m---> 19\u001b[0;31m from . import (\n\u001b[0m\u001b[1;32m     20\u001b[0m     \u001b[0malbert\u001b[0m\u001b[0;34m,\u001b[0m\u001b[0;34m\u001b[0m\u001b[0;34m\u001b[0m\u001b[0m\n",
      "\u001b[0;32m~/opt/anaconda3/lib/python3.7/site-packages/transformers/models/layoutlm/__init__.py\u001b[0m in \u001b[0;36m<module>\u001b[0;34m\u001b[0m\n\u001b[1;32m     21\u001b[0m \u001b[0;32mfrom\u001b[0m \u001b[0;34m...\u001b[0m\u001b[0mfile_utils\u001b[0m \u001b[0;32mimport\u001b[0m \u001b[0m_LazyModule\u001b[0m\u001b[0;34m,\u001b[0m \u001b[0mis_tf_available\u001b[0m\u001b[0;34m,\u001b[0m \u001b[0mis_tokenizers_available\u001b[0m\u001b[0;34m,\u001b[0m \u001b[0mis_torch_available\u001b[0m\u001b[0;34m\u001b[0m\u001b[0;34m\u001b[0m\u001b[0m\n\u001b[0;32m---> 22\u001b[0;31m \u001b[0;32mfrom\u001b[0m \u001b[0;34m.\u001b[0m\u001b[0mconfiguration_layoutlm\u001b[0m \u001b[0;32mimport\u001b[0m \u001b[0mLAYOUTLM_PRETRAINED_CONFIG_ARCHIVE_MAP\u001b[0m\u001b[0;34m,\u001b[0m \u001b[0mLayoutLMConfig\u001b[0m\u001b[0;34m\u001b[0m\u001b[0;34m\u001b[0m\u001b[0m\n\u001b[0m\u001b[1;32m     23\u001b[0m \u001b[0;32mfrom\u001b[0m \u001b[0;34m.\u001b[0m\u001b[0mtokenization_layoutlm\u001b[0m \u001b[0;32mimport\u001b[0m \u001b[0mLayoutLMTokenizer\u001b[0m\u001b[0;34m\u001b[0m\u001b[0;34m\u001b[0m\u001b[0m\n",
      "\u001b[0;32m~/opt/anaconda3/lib/python3.7/site-packages/transformers/models/layoutlm/configuration_layoutlm.py\u001b[0m in \u001b[0;36m<module>\u001b[0;34m\u001b[0m\n\u001b[1;32m     21\u001b[0m \u001b[0;32mfrom\u001b[0m \u001b[0;34m...\u001b[0m \u001b[0;32mimport\u001b[0m \u001b[0mis_torch_available\u001b[0m\u001b[0;34m\u001b[0m\u001b[0;34m\u001b[0m\u001b[0m\n\u001b[0;32m---> 22\u001b[0;31m \u001b[0;32mfrom\u001b[0m \u001b[0;34m...\u001b[0m\u001b[0monnx\u001b[0m \u001b[0;32mimport\u001b[0m \u001b[0mOnnxConfig\u001b[0m\u001b[0;34m,\u001b[0m \u001b[0mPatchingSpec\u001b[0m\u001b[0;34m\u001b[0m\u001b[0;34m\u001b[0m\u001b[0m\n\u001b[0m\u001b[1;32m     23\u001b[0m \u001b[0;32mfrom\u001b[0m \u001b[0;34m...\u001b[0m\u001b[0mutils\u001b[0m \u001b[0;32mimport\u001b[0m \u001b[0mlogging\u001b[0m\u001b[0;34m\u001b[0m\u001b[0;34m\u001b[0m\u001b[0m\n",
      "\u001b[0;32m~/opt/anaconda3/lib/python3.7/site-packages/transformers/onnx/__init__.py\u001b[0m in \u001b[0;36m<module>\u001b[0;34m\u001b[0m\n\u001b[1;32m     16\u001b[0m \u001b[0;32mfrom\u001b[0m \u001b[0;34m.\u001b[0m\u001b[0mconfig\u001b[0m \u001b[0;32mimport\u001b[0m \u001b[0mEXTERNAL_DATA_FORMAT_SIZE_LIMIT\u001b[0m\u001b[0;34m,\u001b[0m \u001b[0mOnnxConfig\u001b[0m\u001b[0;34m,\u001b[0m \u001b[0mOnnxConfigWithPast\u001b[0m\u001b[0;34m,\u001b[0m \u001b[0mPatchingSpec\u001b[0m\u001b[0;34m\u001b[0m\u001b[0;34m\u001b[0m\u001b[0m\n\u001b[0;32m---> 17\u001b[0;31m \u001b[0;32mfrom\u001b[0m \u001b[0;34m.\u001b[0m\u001b[0mconvert\u001b[0m \u001b[0;32mimport\u001b[0m \u001b[0mexport\u001b[0m\u001b[0;34m,\u001b[0m \u001b[0mvalidate_model_outputs\u001b[0m\u001b[0;34m\u001b[0m\u001b[0;34m\u001b[0m\u001b[0m\n\u001b[0m\u001b[1;32m     18\u001b[0m \u001b[0;32mfrom\u001b[0m \u001b[0;34m.\u001b[0m\u001b[0mutils\u001b[0m \u001b[0;32mimport\u001b[0m \u001b[0mParameterFormat\u001b[0m\u001b[0;34m,\u001b[0m \u001b[0mcompute_serialized_parameters_size\u001b[0m\u001b[0;34m\u001b[0m\u001b[0;34m\u001b[0m\u001b[0m\n",
      "\u001b[0;32m~/opt/anaconda3/lib/python3.7/site-packages/transformers/onnx/convert.py\u001b[0m in \u001b[0;36m<module>\u001b[0;34m\u001b[0m\n\u001b[1;32m     22\u001b[0m \u001b[0;34m\u001b[0m\u001b[0m\n\u001b[0;32m---> 23\u001b[0;31m \u001b[0;32mfrom\u001b[0m \u001b[0;34m.\u001b[0m\u001b[0;34m.\u001b[0m \u001b[0;32mimport\u001b[0m \u001b[0mPreTrainedModel\u001b[0m\u001b[0;34m,\u001b[0m \u001b[0mPreTrainedTokenizer\u001b[0m\u001b[0;34m,\u001b[0m \u001b[0mTensorType\u001b[0m\u001b[0;34m,\u001b[0m \u001b[0mTFPreTrainedModel\u001b[0m\u001b[0;34m,\u001b[0m \u001b[0mis_torch_available\u001b[0m\u001b[0;34m\u001b[0m\u001b[0;34m\u001b[0m\u001b[0m\n\u001b[0m\u001b[1;32m     24\u001b[0m \u001b[0;32mfrom\u001b[0m \u001b[0;34m.\u001b[0m\u001b[0;34m.\u001b[0m\u001b[0mfile_utils\u001b[0m \u001b[0;32mimport\u001b[0m \u001b[0mis_torch_onnx_dict_inputs_support_available\u001b[0m\u001b[0;34m\u001b[0m\u001b[0;34m\u001b[0m\u001b[0m\n",
      "\u001b[0;32m~/opt/anaconda3/lib/python3.7/importlib/_bootstrap.py\u001b[0m in \u001b[0;36m_handle_fromlist\u001b[0;34m(module, fromlist, import_, recursive)\u001b[0m\n",
      "\u001b[0;32m~/opt/anaconda3/lib/python3.7/site-packages/transformers/file_utils.py\u001b[0m in \u001b[0;36m__getattr__\u001b[0;34m(self, name)\u001b[0m\n\u001b[1;32m   2139\u001b[0m         \u001b[0;32melif\u001b[0m \u001b[0mname\u001b[0m \u001b[0;32min\u001b[0m \u001b[0mself\u001b[0m\u001b[0;34m.\u001b[0m\u001b[0m_class_to_module\u001b[0m\u001b[0;34m.\u001b[0m\u001b[0mkeys\u001b[0m\u001b[0;34m(\u001b[0m\u001b[0;34m)\u001b[0m\u001b[0;34m:\u001b[0m\u001b[0;34m\u001b[0m\u001b[0;34m\u001b[0m\u001b[0m\n\u001b[0;32m-> 2140\u001b[0;31m             \u001b[0mmodule\u001b[0m \u001b[0;34m=\u001b[0m \u001b[0mself\u001b[0m\u001b[0;34m.\u001b[0m\u001b[0m_get_module\u001b[0m\u001b[0;34m(\u001b[0m\u001b[0mself\u001b[0m\u001b[0;34m.\u001b[0m\u001b[0m_class_to_module\u001b[0m\u001b[0;34m[\u001b[0m\u001b[0mname\u001b[0m\u001b[0;34m]\u001b[0m\u001b[0;34m)\u001b[0m\u001b[0;34m\u001b[0m\u001b[0;34m\u001b[0m\u001b[0m\n\u001b[0m\u001b[1;32m   2141\u001b[0m             \u001b[0mvalue\u001b[0m \u001b[0;34m=\u001b[0m \u001b[0mgetattr\u001b[0m\u001b[0;34m(\u001b[0m\u001b[0mmodule\u001b[0m\u001b[0;34m,\u001b[0m \u001b[0mname\u001b[0m\u001b[0;34m)\u001b[0m\u001b[0;34m\u001b[0m\u001b[0;34m\u001b[0m\u001b[0m\n",
      "\u001b[0;32m~/opt/anaconda3/lib/python3.7/site-packages/transformers/file_utils.py\u001b[0m in \u001b[0;36m_get_module\u001b[0;34m(self, module_name)\u001b[0m\n\u001b[1;32m   2153\u001b[0m                 \u001b[0;34mf\"Failed to import {self.__name__}.{module_name} because of the following error (look up to see its traceback):\\n{e}\"\u001b[0m\u001b[0;34m\u001b[0m\u001b[0;34m\u001b[0m\u001b[0m\n\u001b[0;32m-> 2154\u001b[0;31m             ) from e\n\u001b[0m\u001b[1;32m   2155\u001b[0m \u001b[0;34m\u001b[0m\u001b[0m\n",
      "\u001b[0;31mRuntimeError\u001b[0m: Failed to import transformers.modeling_tf_utils because of the following error (look up to see its traceback):\ndlopen(/Users/brianreed/opt/anaconda3/lib/python3.7/site-packages/tensorflow/python/_pywrap_tfe.so, 0x0002): Library not loaded: @rpath/_pywrap_tensorflow_internal.so\n  Referenced from: /Users/brianreed/opt/anaconda3/lib/python3.7/site-packages/tensorflow/python/_pywrap_tfe.so\n  Reason: tried: '/Users/brianreed/opt/anaconda3/lib/python3.7/site-packages/tensorflow/python/../../_solib_darwin_x86_64/_U_S_Stensorflow_Spython_C_Upywrap_Utfe.so___Utensorflow/_pywrap_tensorflow_internal.so' (no such file), '/Users/brianreed/opt/anaconda3/lib/python3.7/site-packages/tensorflow/python/../../_solib_darwin_x86_64/_U_S_Stensorflow_Spython_C_Upywrap_Utensorflow_Uinternal_Umacos___Utensorflow_Spython/_pywrap_tensorflow_internal.so' (no such file), '/Users/brianreed/opt/anaconda3/lib/python3.7/site-packages/tensorflow/python/_pywrap_tensorflow_internal.so' (no such file), '/Users/brianreed/opt/anaconda3/lib/python3.7/site-packages/tensorflow/python/../_pywrap_tensorflow_internal.so' (no such file), '/Users/brianreed/opt/anaconda3/lib/python3.7/site-packages/tensorflow/python/../../_solib_darwin_x86_64/_U_S_Stensorflow_Spython_C_Upywrap_Utfe.so___Utensorflow/_pywrap_tensorflow_internal.so' (no such file), '/Users/brianreed/opt/anaconda3/lib/python3.7/site-packages/tensorflow/python/../../_solib_darwin_x86_64/_U_S_Stensorflow_Spython_C_Upywrap_Utensorflow_Uinternal_Umacos___Utensorflow_Spython/_pywrap_tensorflow_internal.so' (no such file), '/Users/brianreed/opt/anaconda3/lib/python3.7/site-packages/tensorflow/python/_pywrap_tensorflow_internal.so' (no such file), '/Users/brianreed/opt/anaconda3/lib/python3.7/site-packages/tensorflow/python/../_pywrap_tensorflow_internal.so' (no such file), '/opt/concourse/worker/volumes/live/d698b2ce-b4b9-4fb4-6268-e633fba1b324/volume/python_1565725718142/_h_env_placehold_placehold_placehold_placehold_placehold_placehold_placehold_placehold_placehold_placehold_placehold_placehold_placehold_placehold_placehol/lib/_pywrap_tensorflow_internal.so' (no such file), '/opt/concourse/worker/volumes/live/d698b2ce-b4b9-4fb4-6268-e633fba1b324/volume/python_1565725718142/_h_env_placehold_placehold_placehold_placehold_placehold_placehold_placehold_placehold_placehold_placehold_placehold_placehold_placehold_placehold_placehol/lib/_pywrap_tensorflow_internal.so' (no such file), '/Users/brianreed/opt/anaconda3/bin/../lib/_pywrap_tensorflow_internal.so' (no such file), '/opt/concourse/worker/volumes/live/d698b2ce-b4b9-4fb4-6268-e633fba1b324/volume/python_1565725718142/_h_env_placehold_placehold_placehold_placehold_placehold_placehold_placehold_placehold_placehold_placehold_placehold_placehold_placehold_placehold_placehol/lib/_pywrap_tensorflow_internal.so' (no such file), '/opt/concourse/worker/volumes/live/d698b2ce-b4b9-4fb4-6268-e633fba1b324/volume/python_1565725718142/_h_env_placehold_placehold_placehold_placehold_placehold_placehold_placehold_placehold_placehold_placehold_placehold_placehold_placehold_placehold_placehol/lib/_pywrap_tensorflow_internal.so' (no such file), '/Users/brianreed/opt/anaconda3/bin/../lib/_pywrap_tensorflow_internal.so' (no such file), '/usr/local/lib/_pywrap_tensorflow_internal.so' (no such file), '/usr/lib/_pywrap_tensorflow_internal.so' (no such file)",
      "\nThe above exception was the direct cause of the following exception:\n",
      "\u001b[0;31mRuntimeError\u001b[0m                              Traceback (most recent call last)",
      "\u001b[0;32m<ipython-input-1-dbac036c83b5>\u001b[0m in \u001b[0;36m<module>\u001b[0;34m\u001b[0m\n\u001b[1;32m     21\u001b[0m \u001b[0;34m\u001b[0m\u001b[0m\n\u001b[1;32m     22\u001b[0m \u001b[0;34m\u001b[0m\u001b[0m\n\u001b[0;32m---> 23\u001b[0;31m \u001b[0mnlp\u001b[0m \u001b[0;34m=\u001b[0m \u001b[0mspacy\u001b[0m\u001b[0;34m.\u001b[0m\u001b[0mload\u001b[0m\u001b[0;34m(\u001b[0m\u001b[0;34m'en_core_web_lg'\u001b[0m\u001b[0;34m)\u001b[0m\u001b[0;34m\u001b[0m\u001b[0;34m\u001b[0m\u001b[0m\n\u001b[0m\u001b[1;32m     24\u001b[0m \u001b[0;32mfrom\u001b[0m \u001b[0msklearn\u001b[0m\u001b[0;34m.\u001b[0m\u001b[0mmetrics\u001b[0m\u001b[0;34m.\u001b[0m\u001b[0mpairwise\u001b[0m \u001b[0;32mimport\u001b[0m \u001b[0mcosine_similarity\u001b[0m\u001b[0;34m\u001b[0m\u001b[0;34m\u001b[0m\u001b[0m\n\u001b[1;32m     25\u001b[0m \u001b[0;34m\u001b[0m\u001b[0m\n",
      "\u001b[0;32m~/opt/anaconda3/lib/python3.7/site-packages/spacy/__init__.py\u001b[0m in \u001b[0;36mload\u001b[0;34m(name, vocab, disable, exclude, config)\u001b[0m\n\u001b[1;32m     50\u001b[0m     \"\"\"\n\u001b[1;32m     51\u001b[0m     return util.load_model(\n\u001b[0;32m---> 52\u001b[0;31m         \u001b[0mname\u001b[0m\u001b[0;34m,\u001b[0m \u001b[0mvocab\u001b[0m\u001b[0;34m=\u001b[0m\u001b[0mvocab\u001b[0m\u001b[0;34m,\u001b[0m \u001b[0mdisable\u001b[0m\u001b[0;34m=\u001b[0m\u001b[0mdisable\u001b[0m\u001b[0;34m,\u001b[0m \u001b[0mexclude\u001b[0m\u001b[0;34m=\u001b[0m\u001b[0mexclude\u001b[0m\u001b[0;34m,\u001b[0m \u001b[0mconfig\u001b[0m\u001b[0;34m=\u001b[0m\u001b[0mconfig\u001b[0m\u001b[0;34m\u001b[0m\u001b[0;34m\u001b[0m\u001b[0m\n\u001b[0m\u001b[1;32m     53\u001b[0m     )\n\u001b[1;32m     54\u001b[0m \u001b[0;34m\u001b[0m\u001b[0m\n",
      "\u001b[0;32m~/opt/anaconda3/lib/python3.7/site-packages/spacy/util.py\u001b[0m in \u001b[0;36mload_model\u001b[0;34m(name, vocab, disable, exclude, config)\u001b[0m\n\u001b[1;32m    418\u001b[0m             \u001b[0;32mreturn\u001b[0m \u001b[0mget_lang_class\u001b[0m\u001b[0;34m(\u001b[0m\u001b[0mname\u001b[0m\u001b[0;34m.\u001b[0m\u001b[0mreplace\u001b[0m\u001b[0;34m(\u001b[0m\u001b[0;34m\"blank:\"\u001b[0m\u001b[0;34m,\u001b[0m \u001b[0;34m\"\"\u001b[0m\u001b[0;34m)\u001b[0m\u001b[0;34m)\u001b[0m\u001b[0;34m(\u001b[0m\u001b[0;34m)\u001b[0m\u001b[0;34m\u001b[0m\u001b[0;34m\u001b[0m\u001b[0m\n\u001b[1;32m    419\u001b[0m         \u001b[0;32mif\u001b[0m \u001b[0mis_package\u001b[0m\u001b[0;34m(\u001b[0m\u001b[0mname\u001b[0m\u001b[0;34m)\u001b[0m\u001b[0;34m:\u001b[0m  \u001b[0;31m# installed as package\u001b[0m\u001b[0;34m\u001b[0m\u001b[0;34m\u001b[0m\u001b[0m\n\u001b[0;32m--> 420\u001b[0;31m             \u001b[0;32mreturn\u001b[0m \u001b[0mload_model_from_package\u001b[0m\u001b[0;34m(\u001b[0m\u001b[0mname\u001b[0m\u001b[0;34m,\u001b[0m \u001b[0;34m**\u001b[0m\u001b[0mkwargs\u001b[0m\u001b[0;34m)\u001b[0m  \u001b[0;31m# type: ignore[arg-type]\u001b[0m\u001b[0;34m\u001b[0m\u001b[0;34m\u001b[0m\u001b[0m\n\u001b[0m\u001b[1;32m    421\u001b[0m         \u001b[0;32mif\u001b[0m \u001b[0mPath\u001b[0m\u001b[0;34m(\u001b[0m\u001b[0mname\u001b[0m\u001b[0;34m)\u001b[0m\u001b[0;34m.\u001b[0m\u001b[0mexists\u001b[0m\u001b[0;34m(\u001b[0m\u001b[0;34m)\u001b[0m\u001b[0;34m:\u001b[0m  \u001b[0;31m# path to model data directory\u001b[0m\u001b[0;34m\u001b[0m\u001b[0;34m\u001b[0m\u001b[0m\n\u001b[1;32m    422\u001b[0m             \u001b[0;32mreturn\u001b[0m \u001b[0mload_model_from_path\u001b[0m\u001b[0;34m(\u001b[0m\u001b[0mPath\u001b[0m\u001b[0;34m(\u001b[0m\u001b[0mname\u001b[0m\u001b[0;34m)\u001b[0m\u001b[0;34m,\u001b[0m \u001b[0;34m**\u001b[0m\u001b[0mkwargs\u001b[0m\u001b[0;34m)\u001b[0m  \u001b[0;31m# type: ignore[arg-type]\u001b[0m\u001b[0;34m\u001b[0m\u001b[0;34m\u001b[0m\u001b[0m\n",
      "\u001b[0;32m~/opt/anaconda3/lib/python3.7/site-packages/spacy/util.py\u001b[0m in \u001b[0;36mload_model_from_package\u001b[0;34m(name, vocab, disable, exclude, config)\u001b[0m\n\u001b[1;32m    451\u001b[0m     \"\"\"\n\u001b[1;32m    452\u001b[0m     \u001b[0mcls\u001b[0m \u001b[0;34m=\u001b[0m \u001b[0mimportlib\u001b[0m\u001b[0;34m.\u001b[0m\u001b[0mimport_module\u001b[0m\u001b[0;34m(\u001b[0m\u001b[0mname\u001b[0m\u001b[0;34m)\u001b[0m\u001b[0;34m\u001b[0m\u001b[0;34m\u001b[0m\u001b[0m\n\u001b[0;32m--> 453\u001b[0;31m     \u001b[0;32mreturn\u001b[0m \u001b[0mcls\u001b[0m\u001b[0;34m.\u001b[0m\u001b[0mload\u001b[0m\u001b[0;34m(\u001b[0m\u001b[0mvocab\u001b[0m\u001b[0;34m=\u001b[0m\u001b[0mvocab\u001b[0m\u001b[0;34m,\u001b[0m \u001b[0mdisable\u001b[0m\u001b[0;34m=\u001b[0m\u001b[0mdisable\u001b[0m\u001b[0;34m,\u001b[0m \u001b[0mexclude\u001b[0m\u001b[0;34m=\u001b[0m\u001b[0mexclude\u001b[0m\u001b[0;34m,\u001b[0m \u001b[0mconfig\u001b[0m\u001b[0;34m=\u001b[0m\u001b[0mconfig\u001b[0m\u001b[0;34m)\u001b[0m  \u001b[0;31m# type: ignore[attr-defined]\u001b[0m\u001b[0;34m\u001b[0m\u001b[0;34m\u001b[0m\u001b[0m\n\u001b[0m\u001b[1;32m    454\u001b[0m \u001b[0;34m\u001b[0m\u001b[0m\n\u001b[1;32m    455\u001b[0m \u001b[0;34m\u001b[0m\u001b[0m\n",
      "\u001b[0;32m~/opt/anaconda3/lib/python3.7/site-packages/en_core_web_lg/__init__.py\u001b[0m in \u001b[0;36mload\u001b[0;34m(**overrides)\u001b[0m\n\u001b[1;32m      8\u001b[0m \u001b[0;34m\u001b[0m\u001b[0m\n\u001b[1;32m      9\u001b[0m \u001b[0;32mdef\u001b[0m \u001b[0mload\u001b[0m\u001b[0;34m(\u001b[0m\u001b[0;34m**\u001b[0m\u001b[0moverrides\u001b[0m\u001b[0;34m)\u001b[0m\u001b[0;34m:\u001b[0m\u001b[0;34m\u001b[0m\u001b[0;34m\u001b[0m\u001b[0m\n\u001b[0;32m---> 10\u001b[0;31m     \u001b[0;32mreturn\u001b[0m \u001b[0mload_model_from_init_py\u001b[0m\u001b[0;34m(\u001b[0m\u001b[0m__file__\u001b[0m\u001b[0;34m,\u001b[0m \u001b[0;34m**\u001b[0m\u001b[0moverrides\u001b[0m\u001b[0;34m)\u001b[0m\u001b[0;34m\u001b[0m\u001b[0;34m\u001b[0m\u001b[0m\n\u001b[0m",
      "\u001b[0;32m~/opt/anaconda3/lib/python3.7/site-packages/spacy/util.py\u001b[0m in \u001b[0;36mload_model_from_init_py\u001b[0;34m(init_file, vocab, disable, exclude, config)\u001b[0m\n\u001b[1;32m    619\u001b[0m         \u001b[0mdisable\u001b[0m\u001b[0;34m=\u001b[0m\u001b[0mdisable\u001b[0m\u001b[0;34m,\u001b[0m\u001b[0;34m\u001b[0m\u001b[0;34m\u001b[0m\u001b[0m\n\u001b[1;32m    620\u001b[0m         \u001b[0mexclude\u001b[0m\u001b[0;34m=\u001b[0m\u001b[0mexclude\u001b[0m\u001b[0;34m,\u001b[0m\u001b[0;34m\u001b[0m\u001b[0;34m\u001b[0m\u001b[0m\n\u001b[0;32m--> 621\u001b[0;31m         \u001b[0mconfig\u001b[0m\u001b[0;34m=\u001b[0m\u001b[0mconfig\u001b[0m\u001b[0;34m,\u001b[0m\u001b[0;34m\u001b[0m\u001b[0;34m\u001b[0m\u001b[0m\n\u001b[0m\u001b[1;32m    622\u001b[0m     )\n\u001b[1;32m    623\u001b[0m \u001b[0;34m\u001b[0m\u001b[0m\n",
      "\u001b[0;32m~/opt/anaconda3/lib/python3.7/site-packages/spacy/util.py\u001b[0m in \u001b[0;36mload_model_from_path\u001b[0;34m(model_path, meta, vocab, disable, exclude, config)\u001b[0m\n\u001b[1;32m    486\u001b[0m     \u001b[0moverrides\u001b[0m \u001b[0;34m=\u001b[0m \u001b[0mdict_to_dot\u001b[0m\u001b[0;34m(\u001b[0m\u001b[0mconfig\u001b[0m\u001b[0;34m)\u001b[0m\u001b[0;34m\u001b[0m\u001b[0;34m\u001b[0m\u001b[0m\n\u001b[1;32m    487\u001b[0m     \u001b[0mconfig\u001b[0m \u001b[0;34m=\u001b[0m \u001b[0mload_config\u001b[0m\u001b[0;34m(\u001b[0m\u001b[0mconfig_path\u001b[0m\u001b[0;34m,\u001b[0m \u001b[0moverrides\u001b[0m\u001b[0;34m=\u001b[0m\u001b[0moverrides\u001b[0m\u001b[0;34m)\u001b[0m\u001b[0;34m\u001b[0m\u001b[0;34m\u001b[0m\u001b[0m\n\u001b[0;32m--> 488\u001b[0;31m     \u001b[0mnlp\u001b[0m \u001b[0;34m=\u001b[0m \u001b[0mload_model_from_config\u001b[0m\u001b[0;34m(\u001b[0m\u001b[0mconfig\u001b[0m\u001b[0;34m,\u001b[0m \u001b[0mvocab\u001b[0m\u001b[0;34m=\u001b[0m\u001b[0mvocab\u001b[0m\u001b[0;34m,\u001b[0m \u001b[0mdisable\u001b[0m\u001b[0;34m=\u001b[0m\u001b[0mdisable\u001b[0m\u001b[0;34m,\u001b[0m \u001b[0mexclude\u001b[0m\u001b[0;34m=\u001b[0m\u001b[0mexclude\u001b[0m\u001b[0;34m)\u001b[0m\u001b[0;34m\u001b[0m\u001b[0;34m\u001b[0m\u001b[0m\n\u001b[0m\u001b[1;32m    489\u001b[0m     \u001b[0;32mreturn\u001b[0m \u001b[0mnlp\u001b[0m\u001b[0;34m.\u001b[0m\u001b[0mfrom_disk\u001b[0m\u001b[0;34m(\u001b[0m\u001b[0mmodel_path\u001b[0m\u001b[0;34m,\u001b[0m \u001b[0mexclude\u001b[0m\u001b[0;34m=\u001b[0m\u001b[0mexclude\u001b[0m\u001b[0;34m,\u001b[0m \u001b[0moverrides\u001b[0m\u001b[0;34m=\u001b[0m\u001b[0moverrides\u001b[0m\u001b[0;34m)\u001b[0m\u001b[0;34m\u001b[0m\u001b[0;34m\u001b[0m\u001b[0m\n\u001b[1;32m    490\u001b[0m \u001b[0;34m\u001b[0m\u001b[0m\n",
      "\u001b[0;32m~/opt/anaconda3/lib/python3.7/site-packages/spacy/util.py\u001b[0m in \u001b[0;36mload_model_from_config\u001b[0;34m(config, vocab, disable, exclude, auto_fill, validate)\u001b[0m\n\u001b[1;32m    529\u001b[0m         \u001b[0mexclude\u001b[0m\u001b[0;34m=\u001b[0m\u001b[0mexclude\u001b[0m\u001b[0;34m,\u001b[0m\u001b[0;34m\u001b[0m\u001b[0;34m\u001b[0m\u001b[0m\n\u001b[1;32m    530\u001b[0m         \u001b[0mauto_fill\u001b[0m\u001b[0;34m=\u001b[0m\u001b[0mauto_fill\u001b[0m\u001b[0;34m,\u001b[0m\u001b[0;34m\u001b[0m\u001b[0;34m\u001b[0m\u001b[0m\n\u001b[0;32m--> 531\u001b[0;31m         \u001b[0mvalidate\u001b[0m\u001b[0;34m=\u001b[0m\u001b[0mvalidate\u001b[0m\u001b[0;34m,\u001b[0m\u001b[0;34m\u001b[0m\u001b[0;34m\u001b[0m\u001b[0m\n\u001b[0m\u001b[1;32m    532\u001b[0m     )\n\u001b[1;32m    533\u001b[0m     \u001b[0;32mreturn\u001b[0m \u001b[0mnlp\u001b[0m\u001b[0;34m\u001b[0m\u001b[0;34m\u001b[0m\u001b[0m\n",
      "\u001b[0;32m~/opt/anaconda3/lib/python3.7/site-packages/spacy/language.py\u001b[0m in \u001b[0;36mfrom_config\u001b[0;34m(cls, config, vocab, disable, exclude, meta, auto_fill, validate)\u001b[0m\n\u001b[1;32m   1747\u001b[0m         \u001b[0;31m# then we would load them twice at runtime: once when we make from config,\u001b[0m\u001b[0;34m\u001b[0m\u001b[0;34m\u001b[0m\u001b[0;34m\u001b[0m\u001b[0m\n\u001b[1;32m   1748\u001b[0m         \u001b[0;31m# and then again when we load from disk.\u001b[0m\u001b[0;34m\u001b[0m\u001b[0;34m\u001b[0m\u001b[0;34m\u001b[0m\u001b[0m\n\u001b[0;32m-> 1749\u001b[0;31m         \u001b[0mnlp\u001b[0m \u001b[0;34m=\u001b[0m \u001b[0mlang_cls\u001b[0m\u001b[0;34m(\u001b[0m\u001b[0mvocab\u001b[0m\u001b[0;34m=\u001b[0m\u001b[0mvocab\u001b[0m\u001b[0;34m,\u001b[0m \u001b[0mcreate_tokenizer\u001b[0m\u001b[0;34m=\u001b[0m\u001b[0mcreate_tokenizer\u001b[0m\u001b[0;34m,\u001b[0m \u001b[0mmeta\u001b[0m\u001b[0;34m=\u001b[0m\u001b[0mmeta\u001b[0m\u001b[0;34m)\u001b[0m\u001b[0;34m\u001b[0m\u001b[0;34m\u001b[0m\u001b[0m\n\u001b[0m\u001b[1;32m   1750\u001b[0m         \u001b[0;32mif\u001b[0m \u001b[0mafter_creation\u001b[0m \u001b[0;32mis\u001b[0m \u001b[0;32mnot\u001b[0m \u001b[0;32mNone\u001b[0m\u001b[0;34m:\u001b[0m\u001b[0;34m\u001b[0m\u001b[0;34m\u001b[0m\u001b[0m\n\u001b[1;32m   1751\u001b[0m             \u001b[0mnlp\u001b[0m \u001b[0;34m=\u001b[0m \u001b[0mafter_creation\u001b[0m\u001b[0;34m(\u001b[0m\u001b[0mnlp\u001b[0m\u001b[0;34m)\u001b[0m\u001b[0;34m\u001b[0m\u001b[0;34m\u001b[0m\u001b[0m\n",
      "\u001b[0;32m~/opt/anaconda3/lib/python3.7/site-packages/spacy/language.py\u001b[0m in \u001b[0;36m__init__\u001b[0;34m(self, vocab, max_length, meta, create_tokenizer, batch_size, **kwargs)\u001b[0m\n\u001b[1;32m    160\u001b[0m         \u001b[0;31m# points. The factory decorator applied to these functions takes care\u001b[0m\u001b[0;34m\u001b[0m\u001b[0;34m\u001b[0m\u001b[0;34m\u001b[0m\u001b[0m\n\u001b[1;32m    161\u001b[0m         \u001b[0;31m# of the rest.\u001b[0m\u001b[0;34m\u001b[0m\u001b[0;34m\u001b[0m\u001b[0;34m\u001b[0m\u001b[0m\n\u001b[0;32m--> 162\u001b[0;31m         \u001b[0mutil\u001b[0m\u001b[0;34m.\u001b[0m\u001b[0mregistry\u001b[0m\u001b[0;34m.\u001b[0m\u001b[0m_entry_point_factories\u001b[0m\u001b[0;34m.\u001b[0m\u001b[0mget_all\u001b[0m\u001b[0;34m(\u001b[0m\u001b[0;34m)\u001b[0m\u001b[0;34m\u001b[0m\u001b[0;34m\u001b[0m\u001b[0m\n\u001b[0m\u001b[1;32m    163\u001b[0m \u001b[0;34m\u001b[0m\u001b[0m\n\u001b[1;32m    164\u001b[0m         \u001b[0mself\u001b[0m\u001b[0;34m.\u001b[0m\u001b[0m_config\u001b[0m \u001b[0;34m=\u001b[0m \u001b[0mDEFAULT_CONFIG\u001b[0m\u001b[0;34m.\u001b[0m\u001b[0mmerge\u001b[0m\u001b[0;34m(\u001b[0m\u001b[0mself\u001b[0m\u001b[0;34m.\u001b[0m\u001b[0mdefault_config\u001b[0m\u001b[0;34m)\u001b[0m\u001b[0;34m\u001b[0m\u001b[0;34m\u001b[0m\u001b[0m\n",
      "\u001b[0;32m~/opt/anaconda3/lib/python3.7/site-packages/catalogue/__init__.py\u001b[0m in \u001b[0;36mget_all\u001b[0;34m(self)\u001b[0m\n\u001b[1;32m    107\u001b[0m         \u001b[0mresult\u001b[0m \u001b[0;34m=\u001b[0m \u001b[0;34m{\u001b[0m\u001b[0;34m}\u001b[0m\u001b[0;34m\u001b[0m\u001b[0;34m\u001b[0m\u001b[0m\n\u001b[1;32m    108\u001b[0m         \u001b[0;32mif\u001b[0m \u001b[0mself\u001b[0m\u001b[0;34m.\u001b[0m\u001b[0mentry_points\u001b[0m\u001b[0;34m:\u001b[0m\u001b[0;34m\u001b[0m\u001b[0;34m\u001b[0m\u001b[0m\n\u001b[0;32m--> 109\u001b[0;31m             \u001b[0mresult\u001b[0m\u001b[0;34m.\u001b[0m\u001b[0mupdate\u001b[0m\u001b[0;34m(\u001b[0m\u001b[0mself\u001b[0m\u001b[0;34m.\u001b[0m\u001b[0mget_entry_points\u001b[0m\u001b[0;34m(\u001b[0m\u001b[0;34m)\u001b[0m\u001b[0;34m)\u001b[0m\u001b[0;34m\u001b[0m\u001b[0;34m\u001b[0m\u001b[0m\n\u001b[0m\u001b[1;32m    110\u001b[0m         \u001b[0;32mfor\u001b[0m \u001b[0mkeys\u001b[0m\u001b[0;34m,\u001b[0m \u001b[0mvalue\u001b[0m \u001b[0;32min\u001b[0m \u001b[0mREGISTRY\u001b[0m\u001b[0;34m.\u001b[0m\u001b[0mitems\u001b[0m\u001b[0;34m(\u001b[0m\u001b[0;34m)\u001b[0m\u001b[0;34m:\u001b[0m\u001b[0;34m\u001b[0m\u001b[0;34m\u001b[0m\u001b[0m\n\u001b[1;32m    111\u001b[0m             if len(self.namespace) == len(keys) - 1 and all(\n",
      "\u001b[0;32m~/opt/anaconda3/lib/python3.7/site-packages/catalogue/__init__.py\u001b[0m in \u001b[0;36mget_entry_points\u001b[0;34m(self)\u001b[0m\n\u001b[1;32m    122\u001b[0m         \u001b[0mresult\u001b[0m \u001b[0;34m=\u001b[0m \u001b[0;34m{\u001b[0m\u001b[0;34m}\u001b[0m\u001b[0;34m\u001b[0m\u001b[0;34m\u001b[0m\u001b[0m\n\u001b[1;32m    123\u001b[0m         \u001b[0;32mfor\u001b[0m \u001b[0mentry_point\u001b[0m \u001b[0;32min\u001b[0m \u001b[0mAVAILABLE_ENTRY_POINTS\u001b[0m\u001b[0;34m.\u001b[0m\u001b[0mget\u001b[0m\u001b[0;34m(\u001b[0m\u001b[0mself\u001b[0m\u001b[0;34m.\u001b[0m\u001b[0mentry_point_namespace\u001b[0m\u001b[0;34m,\u001b[0m \u001b[0;34m[\u001b[0m\u001b[0;34m]\u001b[0m\u001b[0;34m)\u001b[0m\u001b[0;34m:\u001b[0m\u001b[0;34m\u001b[0m\u001b[0;34m\u001b[0m\u001b[0m\n\u001b[0;32m--> 124\u001b[0;31m             \u001b[0mresult\u001b[0m\u001b[0;34m[\u001b[0m\u001b[0mentry_point\u001b[0m\u001b[0;34m.\u001b[0m\u001b[0mname\u001b[0m\u001b[0;34m]\u001b[0m \u001b[0;34m=\u001b[0m \u001b[0mentry_point\u001b[0m\u001b[0;34m.\u001b[0m\u001b[0mload\u001b[0m\u001b[0;34m(\u001b[0m\u001b[0;34m)\u001b[0m\u001b[0;34m\u001b[0m\u001b[0;34m\u001b[0m\u001b[0m\n\u001b[0m\u001b[1;32m    125\u001b[0m         \u001b[0;32mreturn\u001b[0m \u001b[0mresult\u001b[0m\u001b[0;34m\u001b[0m\u001b[0;34m\u001b[0m\u001b[0m\n\u001b[1;32m    126\u001b[0m \u001b[0;34m\u001b[0m\u001b[0m\n",
      "\u001b[0;32m~/opt/anaconda3/lib/python3.7/site-packages/catalogue/_importlib_metadata/__init__.py\u001b[0m in \u001b[0;36mload\u001b[0;34m(self)\u001b[0m\n\u001b[1;32m     92\u001b[0m         \"\"\"\n\u001b[1;32m     93\u001b[0m         \u001b[0mmatch\u001b[0m \u001b[0;34m=\u001b[0m \u001b[0mself\u001b[0m\u001b[0;34m.\u001b[0m\u001b[0mpattern\u001b[0m\u001b[0;34m.\u001b[0m\u001b[0mmatch\u001b[0m\u001b[0;34m(\u001b[0m\u001b[0mself\u001b[0m\u001b[0;34m.\u001b[0m\u001b[0mvalue\u001b[0m\u001b[0;34m)\u001b[0m\u001b[0;34m\u001b[0m\u001b[0;34m\u001b[0m\u001b[0m\n\u001b[0;32m---> 94\u001b[0;31m         \u001b[0mmodule\u001b[0m \u001b[0;34m=\u001b[0m \u001b[0mimport_module\u001b[0m\u001b[0;34m(\u001b[0m\u001b[0mmatch\u001b[0m\u001b[0;34m.\u001b[0m\u001b[0mgroup\u001b[0m\u001b[0;34m(\u001b[0m\u001b[0;34m'module'\u001b[0m\u001b[0;34m)\u001b[0m\u001b[0;34m)\u001b[0m\u001b[0;34m\u001b[0m\u001b[0;34m\u001b[0m\u001b[0m\n\u001b[0m\u001b[1;32m     95\u001b[0m         \u001b[0mattrs\u001b[0m \u001b[0;34m=\u001b[0m \u001b[0mfilter\u001b[0m\u001b[0;34m(\u001b[0m\u001b[0;32mNone\u001b[0m\u001b[0;34m,\u001b[0m \u001b[0;34m(\u001b[0m\u001b[0mmatch\u001b[0m\u001b[0;34m.\u001b[0m\u001b[0mgroup\u001b[0m\u001b[0;34m(\u001b[0m\u001b[0;34m'attr'\u001b[0m\u001b[0;34m)\u001b[0m \u001b[0;32mor\u001b[0m \u001b[0;34m''\u001b[0m\u001b[0;34m)\u001b[0m\u001b[0;34m.\u001b[0m\u001b[0msplit\u001b[0m\u001b[0;34m(\u001b[0m\u001b[0;34m'.'\u001b[0m\u001b[0;34m)\u001b[0m\u001b[0;34m)\u001b[0m\u001b[0;34m\u001b[0m\u001b[0;34m\u001b[0m\u001b[0m\n\u001b[1;32m     96\u001b[0m         \u001b[0;32mreturn\u001b[0m \u001b[0mfunctools\u001b[0m\u001b[0;34m.\u001b[0m\u001b[0mreduce\u001b[0m\u001b[0;34m(\u001b[0m\u001b[0mgetattr\u001b[0m\u001b[0;34m,\u001b[0m \u001b[0mattrs\u001b[0m\u001b[0;34m,\u001b[0m \u001b[0mmodule\u001b[0m\u001b[0;34m)\u001b[0m\u001b[0;34m\u001b[0m\u001b[0;34m\u001b[0m\u001b[0m\n",
      "\u001b[0;32m~/opt/anaconda3/lib/python3.7/importlib/__init__.py\u001b[0m in \u001b[0;36mimport_module\u001b[0;34m(name, package)\u001b[0m\n\u001b[1;32m    125\u001b[0m                 \u001b[0;32mbreak\u001b[0m\u001b[0;34m\u001b[0m\u001b[0;34m\u001b[0m\u001b[0m\n\u001b[1;32m    126\u001b[0m             \u001b[0mlevel\u001b[0m \u001b[0;34m+=\u001b[0m \u001b[0;36m1\u001b[0m\u001b[0;34m\u001b[0m\u001b[0;34m\u001b[0m\u001b[0m\n\u001b[0;32m--> 127\u001b[0;31m     \u001b[0;32mreturn\u001b[0m \u001b[0m_bootstrap\u001b[0m\u001b[0;34m.\u001b[0m\u001b[0m_gcd_import\u001b[0m\u001b[0;34m(\u001b[0m\u001b[0mname\u001b[0m\u001b[0;34m[\u001b[0m\u001b[0mlevel\u001b[0m\u001b[0;34m:\u001b[0m\u001b[0;34m]\u001b[0m\u001b[0;34m,\u001b[0m \u001b[0mpackage\u001b[0m\u001b[0;34m,\u001b[0m \u001b[0mlevel\u001b[0m\u001b[0;34m)\u001b[0m\u001b[0;34m\u001b[0m\u001b[0;34m\u001b[0m\u001b[0m\n\u001b[0m\u001b[1;32m    128\u001b[0m \u001b[0;34m\u001b[0m\u001b[0m\n\u001b[1;32m    129\u001b[0m \u001b[0;34m\u001b[0m\u001b[0m\n",
      "\u001b[0;32m~/opt/anaconda3/lib/python3.7/importlib/_bootstrap.py\u001b[0m in \u001b[0;36m_gcd_import\u001b[0;34m(name, package, level)\u001b[0m\n",
      "\u001b[0;32m~/opt/anaconda3/lib/python3.7/importlib/_bootstrap.py\u001b[0m in \u001b[0;36m_find_and_load\u001b[0;34m(name, import_)\u001b[0m\n",
      "\u001b[0;32m~/opt/anaconda3/lib/python3.7/importlib/_bootstrap.py\u001b[0m in \u001b[0;36m_find_and_load_unlocked\u001b[0;34m(name, import_)\u001b[0m\n",
      "\u001b[0;32m~/opt/anaconda3/lib/python3.7/importlib/_bootstrap.py\u001b[0m in \u001b[0;36m_call_with_frames_removed\u001b[0;34m(f, *args, **kwds)\u001b[0m\n",
      "\u001b[0;32m~/opt/anaconda3/lib/python3.7/importlib/_bootstrap.py\u001b[0m in \u001b[0;36m_gcd_import\u001b[0;34m(name, package, level)\u001b[0m\n",
      "\u001b[0;32m~/opt/anaconda3/lib/python3.7/importlib/_bootstrap.py\u001b[0m in \u001b[0;36m_find_and_load\u001b[0;34m(name, import_)\u001b[0m\n",
      "\u001b[0;32m~/opt/anaconda3/lib/python3.7/importlib/_bootstrap.py\u001b[0m in \u001b[0;36m_find_and_load_unlocked\u001b[0;34m(name, import_)\u001b[0m\n",
      "\u001b[0;32m~/opt/anaconda3/lib/python3.7/importlib/_bootstrap.py\u001b[0m in \u001b[0;36m_load_unlocked\u001b[0;34m(spec)\u001b[0m\n",
      "\u001b[0;32m~/opt/anaconda3/lib/python3.7/importlib/_bootstrap_external.py\u001b[0m in \u001b[0;36mexec_module\u001b[0;34m(self, module)\u001b[0m\n",
      "\u001b[0;32m~/opt/anaconda3/lib/python3.7/importlib/_bootstrap.py\u001b[0m in \u001b[0;36m_call_with_frames_removed\u001b[0;34m(f, *args, **kwds)\u001b[0m\n",
      "\u001b[0;32m~/opt/anaconda3/lib/python3.7/site-packages/spacy_transformers/__init__.py\u001b[0m in \u001b[0;36m<module>\u001b[0;34m\u001b[0m\n\u001b[0;32m----> 1\u001b[0;31m \u001b[0;32mfrom\u001b[0m \u001b[0;34m.\u001b[0m \u001b[0;32mimport\u001b[0m \u001b[0marchitectures\u001b[0m\u001b[0;34m\u001b[0m\u001b[0;34m\u001b[0m\u001b[0m\n\u001b[0m\u001b[1;32m      2\u001b[0m \u001b[0;32mfrom\u001b[0m \u001b[0;34m.\u001b[0m \u001b[0;32mimport\u001b[0m \u001b[0mannotation_setters\u001b[0m\u001b[0;34m\u001b[0m\u001b[0;34m\u001b[0m\u001b[0m\n\u001b[1;32m      3\u001b[0m \u001b[0;32mfrom\u001b[0m \u001b[0;34m.\u001b[0m \u001b[0;32mimport\u001b[0m \u001b[0mspan_getters\u001b[0m\u001b[0;34m\u001b[0m\u001b[0;34m\u001b[0m\u001b[0m\n\u001b[1;32m      4\u001b[0m \u001b[0;32mfrom\u001b[0m \u001b[0;34m.\u001b[0m\u001b[0mlayers\u001b[0m \u001b[0;32mimport\u001b[0m \u001b[0mTransformerModel\u001b[0m\u001b[0;34m\u001b[0m\u001b[0;34m\u001b[0m\u001b[0m\n\u001b[1;32m      5\u001b[0m \u001b[0;32mfrom\u001b[0m \u001b[0;34m.\u001b[0m\u001b[0mpipeline_component\u001b[0m \u001b[0;32mimport\u001b[0m \u001b[0mTransformer\u001b[0m\u001b[0;34m,\u001b[0m \u001b[0minstall_extensions\u001b[0m\u001b[0;34m\u001b[0m\u001b[0;34m\u001b[0m\u001b[0m\n",
      "\u001b[0;32m~/opt/anaconda3/lib/python3.7/site-packages/spacy_transformers/architectures.py\u001b[0m in \u001b[0;36m<module>\u001b[0;34m\u001b[0m\n\u001b[1;32m      4\u001b[0m \u001b[0;32mfrom\u001b[0m \u001b[0mspacy\u001b[0m\u001b[0;34m.\u001b[0m\u001b[0mtokens\u001b[0m \u001b[0;32mimport\u001b[0m \u001b[0mDoc\u001b[0m\u001b[0;34m\u001b[0m\u001b[0;34m\u001b[0m\u001b[0m\n\u001b[1;32m      5\u001b[0m \u001b[0;34m\u001b[0m\u001b[0m\n\u001b[0;32m----> 6\u001b[0;31m \u001b[0;32mfrom\u001b[0m \u001b[0;34m.\u001b[0m\u001b[0mlayers\u001b[0m \u001b[0;32mimport\u001b[0m \u001b[0mTransformerModel\u001b[0m\u001b[0;34m,\u001b[0m \u001b[0mTransformerListener\u001b[0m\u001b[0;34m\u001b[0m\u001b[0;34m\u001b[0m\u001b[0m\n\u001b[0m\u001b[1;32m      7\u001b[0m \u001b[0;32mfrom\u001b[0m \u001b[0;34m.\u001b[0m\u001b[0mlayers\u001b[0m \u001b[0;32mimport\u001b[0m \u001b[0mtrfs2arrays\u001b[0m\u001b[0;34m,\u001b[0m \u001b[0msplit_trf_batch\u001b[0m\u001b[0;34m\u001b[0m\u001b[0;34m\u001b[0m\u001b[0m\n\u001b[1;32m      8\u001b[0m \u001b[0;32mfrom\u001b[0m \u001b[0;34m.\u001b[0m\u001b[0mutil\u001b[0m \u001b[0;32mimport\u001b[0m \u001b[0mregistry\u001b[0m\u001b[0;34m\u001b[0m\u001b[0;34m\u001b[0m\u001b[0m\n",
      "\u001b[0;32m~/opt/anaconda3/lib/python3.7/site-packages/spacy_transformers/layers/__init__.py\u001b[0m in \u001b[0;36m<module>\u001b[0;34m\u001b[0m\n\u001b[0;32m----> 1\u001b[0;31m \u001b[0;32mfrom\u001b[0m \u001b[0;34m.\u001b[0m\u001b[0mlistener\u001b[0m \u001b[0;32mimport\u001b[0m \u001b[0mTransformerListener\u001b[0m\u001b[0;34m\u001b[0m\u001b[0;34m\u001b[0m\u001b[0m\n\u001b[0m\u001b[1;32m      2\u001b[0m \u001b[0;32mfrom\u001b[0m \u001b[0;34m.\u001b[0m\u001b[0mtransformer_model\u001b[0m \u001b[0;32mimport\u001b[0m \u001b[0mTransformerModel\u001b[0m\u001b[0;34m\u001b[0m\u001b[0;34m\u001b[0m\u001b[0m\n\u001b[1;32m      3\u001b[0m \u001b[0;32mfrom\u001b[0m \u001b[0;34m.\u001b[0m\u001b[0msplit_trf\u001b[0m \u001b[0;32mimport\u001b[0m \u001b[0msplit_trf_batch\u001b[0m\u001b[0;34m\u001b[0m\u001b[0;34m\u001b[0m\u001b[0m\n\u001b[1;32m      4\u001b[0m \u001b[0;32mfrom\u001b[0m \u001b[0;34m.\u001b[0m\u001b[0mtrfs2arrays\u001b[0m \u001b[0;32mimport\u001b[0m \u001b[0mtrfs2arrays\u001b[0m\u001b[0;34m\u001b[0m\u001b[0;34m\u001b[0m\u001b[0m\n\u001b[1;32m      5\u001b[0m \u001b[0;34m\u001b[0m\u001b[0m\n",
      "\u001b[0;32m~/opt/anaconda3/lib/python3.7/site-packages/spacy_transformers/layers/listener.py\u001b[0m in \u001b[0;36m<module>\u001b[0;34m\u001b[0m\n\u001b[1;32m      2\u001b[0m \u001b[0;32mfrom\u001b[0m \u001b[0mthinc\u001b[0m\u001b[0;34m.\u001b[0m\u001b[0mapi\u001b[0m \u001b[0;32mimport\u001b[0m \u001b[0mModel\u001b[0m\u001b[0;34m\u001b[0m\u001b[0;34m\u001b[0m\u001b[0m\n\u001b[1;32m      3\u001b[0m \u001b[0;32mfrom\u001b[0m \u001b[0mspacy\u001b[0m\u001b[0;34m.\u001b[0m\u001b[0mtokens\u001b[0m \u001b[0;32mimport\u001b[0m \u001b[0mDoc\u001b[0m\u001b[0;34m\u001b[0m\u001b[0;34m\u001b[0m\u001b[0m\n\u001b[0;32m----> 4\u001b[0;31m \u001b[0;32mfrom\u001b[0m \u001b[0;34m.\u001b[0m\u001b[0;34m.\u001b[0m\u001b[0mdata_classes\u001b[0m \u001b[0;32mimport\u001b[0m \u001b[0mTransformerData\u001b[0m\u001b[0;34m\u001b[0m\u001b[0;34m\u001b[0m\u001b[0m\n\u001b[0m\u001b[1;32m      5\u001b[0m \u001b[0;34m\u001b[0m\u001b[0m\n\u001b[1;32m      6\u001b[0m \u001b[0;34m\u001b[0m\u001b[0m\n",
      "\u001b[0;32m~/opt/anaconda3/lib/python3.7/site-packages/spacy_transformers/data_classes.py\u001b[0m in \u001b[0;36m<module>\u001b[0;34m\u001b[0m\n\u001b[1;32m     10\u001b[0m \u001b[0;32mimport\u001b[0m \u001b[0msrsly\u001b[0m\u001b[0;34m\u001b[0m\u001b[0;34m\u001b[0m\u001b[0m\n\u001b[1;32m     11\u001b[0m \u001b[0;34m\u001b[0m\u001b[0m\n\u001b[0;32m---> 12\u001b[0;31m \u001b[0;32mfrom\u001b[0m \u001b[0;34m.\u001b[0m\u001b[0mutil\u001b[0m \u001b[0;32mimport\u001b[0m \u001b[0mtranspose_list\u001b[0m\u001b[0;34m\u001b[0m\u001b[0;34m\u001b[0m\u001b[0m\n\u001b[0m\u001b[1;32m     13\u001b[0m \u001b[0;32mfrom\u001b[0m \u001b[0;34m.\u001b[0m\u001b[0malign\u001b[0m \u001b[0;32mimport\u001b[0m \u001b[0mget_token_positions\u001b[0m\u001b[0;34m\u001b[0m\u001b[0;34m\u001b[0m\u001b[0m\n\u001b[1;32m     14\u001b[0m \u001b[0;34m\u001b[0m\u001b[0m\n",
      "\u001b[0;32m~/opt/anaconda3/lib/python3.7/site-packages/spacy_transformers/util.py\u001b[0m in \u001b[0;36m<module>\u001b[0;34m\u001b[0m\n\u001b[1;32m      2\u001b[0m \u001b[0;32mfrom\u001b[0m \u001b[0mpathlib\u001b[0m \u001b[0;32mimport\u001b[0m \u001b[0mPath\u001b[0m\u001b[0;34m\u001b[0m\u001b[0;34m\u001b[0m\u001b[0m\n\u001b[1;32m      3\u001b[0m \u001b[0;32mimport\u001b[0m \u001b[0mrandom\u001b[0m\u001b[0;34m\u001b[0m\u001b[0;34m\u001b[0m\u001b[0m\n\u001b[0;32m----> 4\u001b[0;31m \u001b[0;32mfrom\u001b[0m \u001b[0mtransformers\u001b[0m \u001b[0;32mimport\u001b[0m \u001b[0mAutoModel\u001b[0m\u001b[0;34m,\u001b[0m \u001b[0mAutoTokenizer\u001b[0m\u001b[0;34m\u001b[0m\u001b[0;34m\u001b[0m\u001b[0m\n\u001b[0m\u001b[1;32m      5\u001b[0m \u001b[0;32mfrom\u001b[0m \u001b[0mtransformers\u001b[0m\u001b[0;34m.\u001b[0m\u001b[0mtokenization_utils\u001b[0m \u001b[0;32mimport\u001b[0m \u001b[0mBatchEncoding\u001b[0m\u001b[0;34m\u001b[0m\u001b[0;34m\u001b[0m\u001b[0m\n\u001b[1;32m      6\u001b[0m \u001b[0;32mfrom\u001b[0m \u001b[0mtransformers\u001b[0m\u001b[0;34m.\u001b[0m\u001b[0mtokenization_utils_fast\u001b[0m \u001b[0;32mimport\u001b[0m \u001b[0mPreTrainedTokenizerFast\u001b[0m\u001b[0;34m\u001b[0m\u001b[0;34m\u001b[0m\u001b[0m\n",
      "\u001b[0;32m~/opt/anaconda3/lib/python3.7/importlib/_bootstrap.py\u001b[0m in \u001b[0;36m_handle_fromlist\u001b[0;34m(module, fromlist, import_, recursive)\u001b[0m\n",
      "\u001b[0;32m~/opt/anaconda3/lib/python3.7/site-packages/transformers/file_utils.py\u001b[0m in \u001b[0;36m__getattr__\u001b[0;34m(self, name)\u001b[0m\n\u001b[1;32m   2138\u001b[0m             \u001b[0mvalue\u001b[0m \u001b[0;34m=\u001b[0m \u001b[0mself\u001b[0m\u001b[0;34m.\u001b[0m\u001b[0m_get_module\u001b[0m\u001b[0;34m(\u001b[0m\u001b[0mname\u001b[0m\u001b[0;34m)\u001b[0m\u001b[0;34m\u001b[0m\u001b[0;34m\u001b[0m\u001b[0m\n\u001b[1;32m   2139\u001b[0m         \u001b[0;32melif\u001b[0m \u001b[0mname\u001b[0m \u001b[0;32min\u001b[0m \u001b[0mself\u001b[0m\u001b[0;34m.\u001b[0m\u001b[0m_class_to_module\u001b[0m\u001b[0;34m.\u001b[0m\u001b[0mkeys\u001b[0m\u001b[0;34m(\u001b[0m\u001b[0;34m)\u001b[0m\u001b[0;34m:\u001b[0m\u001b[0;34m\u001b[0m\u001b[0;34m\u001b[0m\u001b[0m\n\u001b[0;32m-> 2140\u001b[0;31m             \u001b[0mmodule\u001b[0m \u001b[0;34m=\u001b[0m \u001b[0mself\u001b[0m\u001b[0;34m.\u001b[0m\u001b[0m_get_module\u001b[0m\u001b[0;34m(\u001b[0m\u001b[0mself\u001b[0m\u001b[0;34m.\u001b[0m\u001b[0m_class_to_module\u001b[0m\u001b[0;34m[\u001b[0m\u001b[0mname\u001b[0m\u001b[0;34m]\u001b[0m\u001b[0;34m)\u001b[0m\u001b[0;34m\u001b[0m\u001b[0;34m\u001b[0m\u001b[0m\n\u001b[0m\u001b[1;32m   2141\u001b[0m             \u001b[0mvalue\u001b[0m \u001b[0;34m=\u001b[0m \u001b[0mgetattr\u001b[0m\u001b[0;34m(\u001b[0m\u001b[0mmodule\u001b[0m\u001b[0;34m,\u001b[0m \u001b[0mname\u001b[0m\u001b[0;34m)\u001b[0m\u001b[0;34m\u001b[0m\u001b[0;34m\u001b[0m\u001b[0m\n\u001b[1;32m   2142\u001b[0m         \u001b[0;32melse\u001b[0m\u001b[0;34m:\u001b[0m\u001b[0;34m\u001b[0m\u001b[0;34m\u001b[0m\u001b[0m\n",
      "\u001b[0;32m~/opt/anaconda3/lib/python3.7/site-packages/transformers/file_utils.py\u001b[0m in \u001b[0;36m_get_module\u001b[0;34m(self, module_name)\u001b[0m\n\u001b[1;32m   2152\u001b[0m             raise RuntimeError(\n\u001b[1;32m   2153\u001b[0m                 \u001b[0;34mf\"Failed to import {self.__name__}.{module_name} because of the following error (look up to see its traceback):\\n{e}\"\u001b[0m\u001b[0;34m\u001b[0m\u001b[0;34m\u001b[0m\u001b[0m\n\u001b[0;32m-> 2154\u001b[0;31m             ) from e\n\u001b[0m\u001b[1;32m   2155\u001b[0m \u001b[0;34m\u001b[0m\u001b[0m\n\u001b[1;32m   2156\u001b[0m     \u001b[0;32mdef\u001b[0m \u001b[0m__reduce__\u001b[0m\u001b[0;34m(\u001b[0m\u001b[0mself\u001b[0m\u001b[0;34m)\u001b[0m\u001b[0;34m:\u001b[0m\u001b[0;34m\u001b[0m\u001b[0;34m\u001b[0m\u001b[0m\n",
      "\u001b[0;31mRuntimeError\u001b[0m: Failed to import transformers.models.auto because of the following error (look up to see its traceback):\nFailed to import transformers.modeling_tf_utils because of the following error (look up to see its traceback):\ndlopen(/Users/brianreed/opt/anaconda3/lib/python3.7/site-packages/tensorflow/python/_pywrap_tfe.so, 0x0002): Library not loaded: @rpath/_pywrap_tensorflow_internal.so\n  Referenced from: /Users/brianreed/opt/anaconda3/lib/python3.7/site-packages/tensorflow/python/_pywrap_tfe.so\n  Reason: tried: '/Users/brianreed/opt/anaconda3/lib/python3.7/site-packages/tensorflow/python/../../_solib_darwin_x86_64/_U_S_Stensorflow_Spython_C_Upywrap_Utfe.so___Utensorflow/_pywrap_tensorflow_internal.so' (no such file), '/Users/brianreed/opt/anaconda3/lib/python3.7/site-packages/tensorflow/python/../../_solib_darwin_x86_64/_U_S_Stensorflow_Spython_C_Upywrap_Utensorflow_Uinternal_Umacos___Utensorflow_Spython/_pywrap_tensorflow_internal.so' (no such file), '/Users/brianreed/opt/anaconda3/lib/python3.7/site-packages/tensorflow/python/_pywrap_tensorflow_internal.so' (no such file), '/Users/brianreed/opt/anaconda3/lib/python3.7/site-packages/tensorflow/python/../_pywrap_tensorflow_internal.so' (no such file), '/Users/brianreed/opt/anaconda3/lib/python3.7/site-packages/tensorflow/python/../../_solib_darwin_x86_64/_U_S_Stensorflow_Spython_C_Upywrap_Utfe.so___Utensorflow/_pywrap_tensorflow_internal.so' (no such file), '/Users/brianreed/opt/anaconda3/lib/python3.7/site-packages/tensorflow/python/../../_solib_darwin_x86_64/_U_S_Stensorflow_Spython_C_Upywrap_Utensorflow_Uinternal_Umacos___Utensorflow_Spython/_pywrap_tensorflow_internal.so' (no such file), '/Users/brianreed/opt/anaconda3/lib/python3.7/site-packages/tensorflow/python/_pywrap_tensorflow_internal.so' (no such file), '/Users/brianreed/opt/anaconda3/lib/python3.7/site-packages/tensorflow/python/../_pywrap_tensorflow_internal.so' (no such file), '/opt/concourse/worker/volumes/live/d698b2ce-b4b9-4fb4-6268-e633fba1b324/volume/python_1565725718142/_h_env_placehold_placehold_placehold_placehold_placehold_placehold_placehold_placehold_placehold_placehold_placehold_placehold_placehold_placehold_placehol/lib/_pywrap_tensorflow_internal.so' (no such file), '/opt/concourse/worker/volumes/live/d698b2ce-b4b9-4fb4-6268-e633fba1b324/volume/python_1565725718142/_h_env_placehold_placehold_placehold_placehold_placehold_placehold_placehold_placehold_placehold_placehold_placehold_placehold_placehold_placehold_placehol/lib/_pywrap_tensorflow_internal.so' (no such file), '/Users/brianreed/opt/anaconda3/bin/../lib/_pywrap_tensorflow_internal.so' (no such file), '/opt/concourse/worker/volumes/live/d698b2ce-b4b9-4fb4-6268-e633fba1b324/volume/python_1565725718142/_h_env_placehold_placehold_placehold_placehold_placehold_placehold_placehold_placehold_placehold_placehold_placehold_placehold_placehold_placehold_placehol/lib/_pywrap_tensorflow_internal.so' (no such file), '/opt/concourse/worker/volumes/live/d698b2ce-b4b9-4fb4-6268-e633fba1b324/volume/python_1565725718142/_h_env_placehold_placehold_placehold_placehold_placehold_placehold_placehold_placehold_placehold_placehold_placehold_placehold_placehold_placehold_placehol/lib/_pywrap_tensorflow_internal.so' (no such file), '/Users/brianreed/opt/anaconda3/bin/../lib/_pywrap_tensorflow_internal.so' (no such file), '/usr/local/lib/_pywrap_tensorflow_internal.so' (no such file), '/usr/lib/_pywrap_tensorflow_internal.so' (no such file)"
     ]
    }
   ],
   "source": [
    "import pickle as pkl\n",
    "import pandas as pd\n",
    "import matplotlib\n",
    "import os\n",
    "import re\n",
    "\n",
    "import collections\n",
    "import datetime\n",
    "import time\n",
    "\n",
    "import geopandas as gpd\n",
    "\n",
    "import numpy as np\n",
    "\n",
    "import rasterio\n",
    "\n",
    "import spacy\n",
    "\n",
    "import gc\n",
    "\n",
    "\n",
    "\n",
    "nlp = spacy.load('en_core_web_lg')\n",
    "from sklearn.metrics.pairwise import cosine_similarity\n",
    "\n",
    "import itertools"
   ]
  },
  {
   "cell_type": "markdown",
   "metadata": {},
   "source": [
    "# Get Data\n",
    "\n",
    "## Changes from year to year"
   ]
  },
  {
   "cell_type": "code",
   "execution_count": 3,
   "metadata": {},
   "outputs": [
    {
     "name": "stderr",
     "output_type": "stream",
     "text": [
      "/Users/brianreed/opt/anaconda3/lib/python3.7/site-packages/IPython/core/interactiveshell.py:3326: DtypeWarning: Columns (15) have mixed types.Specify dtype option on import or set low_memory=False.\n",
      "  exec(code_obj, self.user_global_ns, self.user_ns)\n"
     ]
    },
    {
     "data": {
      "text/html": [
       "<div>\n",
       "<style scoped>\n",
       "    .dataframe tbody tr th:only-of-type {\n",
       "        vertical-align: middle;\n",
       "    }\n",
       "\n",
       "    .dataframe tbody tr th {\n",
       "        vertical-align: top;\n",
       "    }\n",
       "\n",
       "    .dataframe thead th {\n",
       "        text-align: right;\n",
       "    }\n",
       "</style>\n",
       "<table border=\"1\" class=\"dataframe\">\n",
       "  <thead>\n",
       "    <tr style=\"text-align: right;\">\n",
       "      <th></th>\n",
       "      <th>gvkey</th>\n",
       "      <th>datadate</th>\n",
       "      <th>year</th>\n",
       "      <th>qtr</th>\n",
       "      <th>companyName</th>\n",
       "      <th>curcdq</th>\n",
       "      <th>assets</th>\n",
       "      <th>costGoodsSold</th>\n",
       "      <th>totalInv</th>\n",
       "      <th>netIncome</th>\n",
       "      <th>...</th>\n",
       "      <th>assetsLast</th>\n",
       "      <th>netIncomeLast</th>\n",
       "      <th>totalRevenueLast</th>\n",
       "      <th>costGoodsSoldLast</th>\n",
       "      <th>totalInvLast</th>\n",
       "      <th>incomeChange</th>\n",
       "      <th>revenueChange</th>\n",
       "      <th>costChange</th>\n",
       "      <th>inventoryChange</th>\n",
       "      <th>assetsPrev</th>\n",
       "    </tr>\n",
       "  </thead>\n",
       "  <tbody>\n",
       "    <tr>\n",
       "      <th>0</th>\n",
       "      <td>1004</td>\n",
       "      <td>20010228</td>\n",
       "      <td>2000</td>\n",
       "      <td>3.0</td>\n",
       "      <td>AAR CORP</td>\n",
       "      <td>USD</td>\n",
       "      <td>754.718</td>\n",
       "      <td>159.537</td>\n",
       "      <td>354.479</td>\n",
       "      <td>5.388</td>\n",
       "      <td>...</td>\n",
       "      <td>753.755</td>\n",
       "      <td>10.955</td>\n",
       "      <td>272.331</td>\n",
       "      <td>222.672</td>\n",
       "      <td>318.933</td>\n",
       "      <td>-0.508170</td>\n",
       "      <td>-0.265339</td>\n",
       "      <td>-0.283534</td>\n",
       "      <td>0.111453</td>\n",
       "      <td>753.755</td>\n",
       "    </tr>\n",
       "    <tr>\n",
       "      <th>1</th>\n",
       "      <td>1004</td>\n",
       "      <td>20010531</td>\n",
       "      <td>2000</td>\n",
       "      <td>4.0</td>\n",
       "      <td>AAR CORP</td>\n",
       "      <td>USD</td>\n",
       "      <td>701.854</td>\n",
       "      <td>180.131</td>\n",
       "      <td>320.590</td>\n",
       "      <td>5.706</td>\n",
       "      <td>...</td>\n",
       "      <td>740.998</td>\n",
       "      <td>2.471</td>\n",
       "      <td>225.079</td>\n",
       "      <td>182.440</td>\n",
       "      <td>336.018</td>\n",
       "      <td>1.309187</td>\n",
       "      <td>-0.017772</td>\n",
       "      <td>-0.012656</td>\n",
       "      <td>-0.045914</td>\n",
       "      <td>740.998</td>\n",
       "    </tr>\n",
       "    <tr>\n",
       "      <th>2</th>\n",
       "      <td>1004</td>\n",
       "      <td>20010831</td>\n",
       "      <td>2001</td>\n",
       "      <td>1.0</td>\n",
       "      <td>AAR CORP</td>\n",
       "      <td>USD</td>\n",
       "      <td>758.503</td>\n",
       "      <td>168.829</td>\n",
       "      <td>340.683</td>\n",
       "      <td>0.486</td>\n",
       "      <td>...</td>\n",
       "      <td>747.543</td>\n",
       "      <td>3.159</td>\n",
       "      <td>241.770</td>\n",
       "      <td>202.661</td>\n",
       "      <td>343.815</td>\n",
       "      <td>-0.846154</td>\n",
       "      <td>-0.160388</td>\n",
       "      <td>-0.166939</td>\n",
       "      <td>-0.009110</td>\n",
       "      <td>747.543</td>\n",
       "    </tr>\n",
       "    <tr>\n",
       "      <th>3</th>\n",
       "      <td>1004</td>\n",
       "      <td>20011130</td>\n",
       "      <td>2001</td>\n",
       "      <td>2.0</td>\n",
       "      <td>AAR CORP</td>\n",
       "      <td>USD</td>\n",
       "      <td>714.208</td>\n",
       "      <td>118.697</td>\n",
       "      <td>265.818</td>\n",
       "      <td>-54.484</td>\n",
       "      <td>...</td>\n",
       "      <td>772.941</td>\n",
       "      <td>4.278</td>\n",
       "      <td>211.335</td>\n",
       "      <td>171.482</td>\n",
       "      <td>344.778</td>\n",
       "      <td>-13.735858</td>\n",
       "      <td>-0.314411</td>\n",
       "      <td>-0.307817</td>\n",
       "      <td>-0.229017</td>\n",
       "      <td>772.941</td>\n",
       "    </tr>\n",
       "    <tr>\n",
       "      <th>4</th>\n",
       "      <td>1004</td>\n",
       "      <td>20020228</td>\n",
       "      <td>2001</td>\n",
       "      <td>3.0</td>\n",
       "      <td>AAR CORP</td>\n",
       "      <td>USD</td>\n",
       "      <td>690.681</td>\n",
       "      <td>118.267</td>\n",
       "      <td>271.342</td>\n",
       "      <td>-2.290</td>\n",
       "      <td>...</td>\n",
       "      <td>754.718</td>\n",
       "      <td>5.388</td>\n",
       "      <td>200.071</td>\n",
       "      <td>159.537</td>\n",
       "      <td>354.479</td>\n",
       "      <td>-1.425019</td>\n",
       "      <td>-0.282970</td>\n",
       "      <td>-0.258686</td>\n",
       "      <td>-0.234533</td>\n",
       "      <td>754.718</td>\n",
       "    </tr>\n",
       "  </tbody>\n",
       "</table>\n",
       "<p>5 rows × 29 columns</p>\n",
       "</div>"
      ],
      "text/plain": [
       "   gvkey  datadate  year  qtr companyName curcdq   assets  costGoodsSold  \\\n",
       "0   1004  20010228  2000  3.0    AAR CORP    USD  754.718        159.537   \n",
       "1   1004  20010531  2000  4.0    AAR CORP    USD  701.854        180.131   \n",
       "2   1004  20010831  2001  1.0    AAR CORP    USD  758.503        168.829   \n",
       "3   1004  20011130  2001  2.0    AAR CORP    USD  714.208        118.697   \n",
       "4   1004  20020228  2001  3.0    AAR CORP    USD  690.681        118.267   \n",
       "\n",
       "   totalInv  netIncome  ...  assetsLast  netIncomeLast totalRevenueLast  \\\n",
       "0   354.479      5.388  ...     753.755         10.955          272.331   \n",
       "1   320.590      5.706  ...     740.998          2.471          225.079   \n",
       "2   340.683      0.486  ...     747.543          3.159          241.770   \n",
       "3   265.818    -54.484  ...     772.941          4.278          211.335   \n",
       "4   271.342     -2.290  ...     754.718          5.388          200.071   \n",
       "\n",
       "  costGoodsSoldLast totalInvLast incomeChange revenueChange  costChange  \\\n",
       "0           222.672      318.933    -0.508170     -0.265339   -0.283534   \n",
       "1           182.440      336.018     1.309187     -0.017772   -0.012656   \n",
       "2           202.661      343.815    -0.846154     -0.160388   -0.166939   \n",
       "3           171.482      344.778   -13.735858     -0.314411   -0.307817   \n",
       "4           159.537      354.479    -1.425019     -0.282970   -0.258686   \n",
       "\n",
       "  inventoryChange  assetsPrev  \n",
       "0        0.111453     753.755  \n",
       "1       -0.045914     740.998  \n",
       "2       -0.009110     747.543  \n",
       "3       -0.229017     772.941  \n",
       "4       -0.234533     754.718  \n",
       "\n",
       "[5 rows x 29 columns]"
      ]
     },
     "execution_count": 3,
     "metadata": {},
     "output_type": "execute_result"
    }
   ],
   "source": [
    "changes = pd.read_csv(\"../../data/compustatChanges_all.csv\").drop(columns = ['Unnamed: 0'])\n",
    "\n",
    "changes.head()"
   ]
  },
  {
   "cell_type": "code",
   "execution_count": 4,
   "metadata": {},
   "outputs": [
    {
     "data": {
      "text/html": [
       "<div>\n",
       "<style scoped>\n",
       "    .dataframe tbody tr th:only-of-type {\n",
       "        vertical-align: middle;\n",
       "    }\n",
       "\n",
       "    .dataframe tbody tr th {\n",
       "        vertical-align: top;\n",
       "    }\n",
       "\n",
       "    .dataframe thead th {\n",
       "        text-align: right;\n",
       "    }\n",
       "</style>\n",
       "<table border=\"1\" class=\"dataframe\">\n",
       "  <thead>\n",
       "    <tr style=\"text-align: right;\">\n",
       "      <th></th>\n",
       "      <th>gvkey</th>\n",
       "      <th>qtr</th>\n",
       "      <th>assetsLagged</th>\n",
       "      <th>netIncomeLagged</th>\n",
       "      <th>roa_lagged</th>\n",
       "      <th>famafrench</th>\n",
       "      <th>sic2</th>\n",
       "      <th>indGroup</th>\n",
       "      <th>year</th>\n",
       "      <th>earliestYear</th>\n",
       "      <th>ageTercile</th>\n",
       "      <th>sizeTercile</th>\n",
       "      <th>profitTercile</th>\n",
       "    </tr>\n",
       "  </thead>\n",
       "  <tbody>\n",
       "    <tr>\n",
       "      <th>0</th>\n",
       "      <td>1010</td>\n",
       "      <td>1.0</td>\n",
       "      <td>3422.936770</td>\n",
       "      <td>46.757990</td>\n",
       "      <td>0.013660</td>\n",
       "      <td>25.0</td>\n",
       "      <td>37</td>\n",
       "      <td>manu</td>\n",
       "      <td>1998</td>\n",
       "      <td>1962</td>\n",
       "      <td>0</td>\n",
       "      <td>2.0</td>\n",
       "      <td>2.0</td>\n",
       "    </tr>\n",
       "    <tr>\n",
       "      <th>1</th>\n",
       "      <td>1010</td>\n",
       "      <td>2.0</td>\n",
       "      <td>3454.132166</td>\n",
       "      <td>18.500640</td>\n",
       "      <td>0.005356</td>\n",
       "      <td>25.0</td>\n",
       "      <td>37</td>\n",
       "      <td>manu</td>\n",
       "      <td>1998</td>\n",
       "      <td>1962</td>\n",
       "      <td>0</td>\n",
       "      <td>2.0</td>\n",
       "      <td>1.0</td>\n",
       "    </tr>\n",
       "    <tr>\n",
       "      <th>2</th>\n",
       "      <td>1010</td>\n",
       "      <td>3.0</td>\n",
       "      <td>3487.709411</td>\n",
       "      <td>10.470317</td>\n",
       "      <td>0.003002</td>\n",
       "      <td>25.0</td>\n",
       "      <td>37</td>\n",
       "      <td>manu</td>\n",
       "      <td>1998</td>\n",
       "      <td>1962</td>\n",
       "      <td>0</td>\n",
       "      <td>2.0</td>\n",
       "      <td>1.0</td>\n",
       "    </tr>\n",
       "    <tr>\n",
       "      <th>3</th>\n",
       "      <td>1010</td>\n",
       "      <td>4.0</td>\n",
       "      <td>3448.667709</td>\n",
       "      <td>68.705992</td>\n",
       "      <td>0.019922</td>\n",
       "      <td>25.0</td>\n",
       "      <td>37</td>\n",
       "      <td>manu</td>\n",
       "      <td>1998</td>\n",
       "      <td>1962</td>\n",
       "      <td>0</td>\n",
       "      <td>2.0</td>\n",
       "      <td>2.0</td>\n",
       "    </tr>\n",
       "    <tr>\n",
       "      <th>4</th>\n",
       "      <td>1010</td>\n",
       "      <td>1.0</td>\n",
       "      <td>4322.135119</td>\n",
       "      <td>260.987674</td>\n",
       "      <td>0.060384</td>\n",
       "      <td>25.0</td>\n",
       "      <td>37</td>\n",
       "      <td>manu</td>\n",
       "      <td>1999</td>\n",
       "      <td>1962</td>\n",
       "      <td>0</td>\n",
       "      <td>2.0</td>\n",
       "      <td>2.0</td>\n",
       "    </tr>\n",
       "  </tbody>\n",
       "</table>\n",
       "</div>"
      ],
      "text/plain": [
       "   gvkey  qtr  assetsLagged  netIncomeLagged  roa_lagged  famafrench  sic2  \\\n",
       "0   1010  1.0   3422.936770        46.757990    0.013660        25.0    37   \n",
       "1   1010  2.0   3454.132166        18.500640    0.005356        25.0    37   \n",
       "2   1010  3.0   3487.709411        10.470317    0.003002        25.0    37   \n",
       "3   1010  4.0   3448.667709        68.705992    0.019922        25.0    37   \n",
       "4   1010  1.0   4322.135119       260.987674    0.060384        25.0    37   \n",
       "\n",
       "  indGroup  year  earliestYear  ageTercile  sizeTercile  profitTercile  \n",
       "0     manu  1998          1962           0          2.0            2.0  \n",
       "1     manu  1998          1962           0          2.0            1.0  \n",
       "2     manu  1998          1962           0          2.0            1.0  \n",
       "3     manu  1998          1962           0          2.0            2.0  \n",
       "4     manu  1999          1962           0          2.0            2.0  "
      ]
     },
     "execution_count": 4,
     "metadata": {},
     "output_type": "execute_result"
    }
   ],
   "source": [
    "otherControls = pd.read_csv('../../data/companyData/otherControls.csv').\\\n",
    "    drop(columns = {'Unnamed: 0', 'fyearq'}).rename(columns = {'year_toMatchOn': 'year',\n",
    "                                                              'fqtr': 'qtr'})\n",
    "\n",
    "otherControls.head()"
   ]
  },
  {
   "cell_type": "code",
   "execution_count": 5,
   "metadata": {},
   "outputs": [
    {
     "data": {
      "text/html": [
       "<div>\n",
       "<style scoped>\n",
       "    .dataframe tbody tr th:only-of-type {\n",
       "        vertical-align: middle;\n",
       "    }\n",
       "\n",
       "    .dataframe tbody tr th {\n",
       "        vertical-align: top;\n",
       "    }\n",
       "\n",
       "    .dataframe thead th {\n",
       "        text-align: right;\n",
       "    }\n",
       "</style>\n",
       "<table border=\"1\" class=\"dataframe\">\n",
       "  <thead>\n",
       "    <tr style=\"text-align: right;\">\n",
       "      <th></th>\n",
       "      <th>gvkey</th>\n",
       "      <th>qtr</th>\n",
       "      <th>assetsLagged</th>\n",
       "      <th>netIncomeLagged</th>\n",
       "      <th>roa_lagged</th>\n",
       "      <th>famafrench</th>\n",
       "      <th>sic2</th>\n",
       "      <th>indGroup</th>\n",
       "      <th>year</th>\n",
       "      <th>earliestYear</th>\n",
       "      <th>ageTercile</th>\n",
       "      <th>sizeTercile</th>\n",
       "      <th>profitTercile</th>\n",
       "    </tr>\n",
       "  </thead>\n",
       "  <tbody>\n",
       "    <tr>\n",
       "      <th>0</th>\n",
       "      <td>1010</td>\n",
       "      <td>1.0</td>\n",
       "      <td>3422.936770</td>\n",
       "      <td>46.757990</td>\n",
       "      <td>0.013660</td>\n",
       "      <td>25.0</td>\n",
       "      <td>37</td>\n",
       "      <td>manu</td>\n",
       "      <td>1998</td>\n",
       "      <td>1962</td>\n",
       "      <td>0</td>\n",
       "      <td>2.0</td>\n",
       "      <td>2.0</td>\n",
       "    </tr>\n",
       "    <tr>\n",
       "      <th>1</th>\n",
       "      <td>1010</td>\n",
       "      <td>2.0</td>\n",
       "      <td>3454.132166</td>\n",
       "      <td>18.500640</td>\n",
       "      <td>0.005356</td>\n",
       "      <td>25.0</td>\n",
       "      <td>37</td>\n",
       "      <td>manu</td>\n",
       "      <td>1998</td>\n",
       "      <td>1962</td>\n",
       "      <td>0</td>\n",
       "      <td>2.0</td>\n",
       "      <td>1.0</td>\n",
       "    </tr>\n",
       "    <tr>\n",
       "      <th>2</th>\n",
       "      <td>1010</td>\n",
       "      <td>3.0</td>\n",
       "      <td>3487.709411</td>\n",
       "      <td>10.470317</td>\n",
       "      <td>0.003002</td>\n",
       "      <td>25.0</td>\n",
       "      <td>37</td>\n",
       "      <td>manu</td>\n",
       "      <td>1998</td>\n",
       "      <td>1962</td>\n",
       "      <td>0</td>\n",
       "      <td>2.0</td>\n",
       "      <td>1.0</td>\n",
       "    </tr>\n",
       "    <tr>\n",
       "      <th>3</th>\n",
       "      <td>1010</td>\n",
       "      <td>4.0</td>\n",
       "      <td>3448.667709</td>\n",
       "      <td>68.705992</td>\n",
       "      <td>0.019922</td>\n",
       "      <td>25.0</td>\n",
       "      <td>37</td>\n",
       "      <td>manu</td>\n",
       "      <td>1998</td>\n",
       "      <td>1962</td>\n",
       "      <td>0</td>\n",
       "      <td>2.0</td>\n",
       "      <td>2.0</td>\n",
       "    </tr>\n",
       "    <tr>\n",
       "      <th>4</th>\n",
       "      <td>1010</td>\n",
       "      <td>1.0</td>\n",
       "      <td>4322.135119</td>\n",
       "      <td>260.987674</td>\n",
       "      <td>0.060384</td>\n",
       "      <td>25.0</td>\n",
       "      <td>37</td>\n",
       "      <td>manu</td>\n",
       "      <td>1999</td>\n",
       "      <td>1962</td>\n",
       "      <td>0</td>\n",
       "      <td>2.0</td>\n",
       "      <td>2.0</td>\n",
       "    </tr>\n",
       "  </tbody>\n",
       "</table>\n",
       "</div>"
      ],
      "text/plain": [
       "   gvkey  qtr  assetsLagged  netIncomeLagged  roa_lagged  famafrench  sic2  \\\n",
       "0   1010  1.0   3422.936770        46.757990    0.013660        25.0    37   \n",
       "1   1010  2.0   3454.132166        18.500640    0.005356        25.0    37   \n",
       "2   1010  3.0   3487.709411        10.470317    0.003002        25.0    37   \n",
       "3   1010  4.0   3448.667709        68.705992    0.019922        25.0    37   \n",
       "4   1010  1.0   4322.135119       260.987674    0.060384        25.0    37   \n",
       "\n",
       "  indGroup  year  earliestYear  ageTercile  sizeTercile  profitTercile  \n",
       "0     manu  1998          1962           0          2.0            2.0  \n",
       "1     manu  1998          1962           0          2.0            1.0  \n",
       "2     manu  1998          1962           0          2.0            1.0  \n",
       "3     manu  1998          1962           0          2.0            2.0  \n",
       "4     manu  1999          1962           0          2.0            2.0  "
      ]
     },
     "execution_count": 5,
     "metadata": {},
     "output_type": "execute_result"
    }
   ],
   "source": [
    "otherControls.head()"
   ]
  },
  {
   "cell_type": "code",
   "execution_count": 6,
   "metadata": {},
   "outputs": [
    {
     "name": "stdout",
     "output_type": "stream",
     "text": [
      "(890758, 29)\n",
      "(829559, 39)\n"
     ]
    }
   ],
   "source": [
    "print(changes.shape)\n",
    "changes = changes.merge(otherControls)\n",
    "print(changes.shape)\n",
    "\n",
    "\n",
    "industries = changes[['gvkey','indGroup']].drop_duplicates()"
   ]
  },
  {
   "cell_type": "code",
   "execution_count": 8,
   "metadata": {},
   "outputs": [],
   "source": [
    "industries.to_csv(\"../../data/companyData/gvkeyIndustries.csv\")"
   ]
  },
  {
   "cell_type": "code",
   "execution_count": 9,
   "metadata": {},
   "outputs": [
    {
     "data": {
      "text/html": [
       "<div>\n",
       "<style scoped>\n",
       "    .dataframe tbody tr th:only-of-type {\n",
       "        vertical-align: middle;\n",
       "    }\n",
       "\n",
       "    .dataframe tbody tr th {\n",
       "        vertical-align: top;\n",
       "    }\n",
       "\n",
       "    .dataframe thead th {\n",
       "        text-align: right;\n",
       "    }\n",
       "</style>\n",
       "<table border=\"1\" class=\"dataframe\">\n",
       "  <thead>\n",
       "    <tr style=\"text-align: right;\">\n",
       "      <th></th>\n",
       "      <th>gvkey</th>\n",
       "      <th>datadate</th>\n",
       "      <th>year</th>\n",
       "      <th>qtr</th>\n",
       "      <th>companyName</th>\n",
       "      <th>curcdq</th>\n",
       "      <th>assets</th>\n",
       "      <th>costGoodsSold</th>\n",
       "      <th>totalInv</th>\n",
       "      <th>netIncome</th>\n",
       "      <th>...</th>\n",
       "      <th>assetsLagged</th>\n",
       "      <th>netIncomeLagged</th>\n",
       "      <th>roa_lagged</th>\n",
       "      <th>famafrench</th>\n",
       "      <th>sic2</th>\n",
       "      <th>indGroup</th>\n",
       "      <th>earliestYear</th>\n",
       "      <th>ageTercile</th>\n",
       "      <th>sizeTercile</th>\n",
       "      <th>profitTercile</th>\n",
       "    </tr>\n",
       "  </thead>\n",
       "  <tbody>\n",
       "    <tr>\n",
       "      <th>0</th>\n",
       "      <td>1004</td>\n",
       "      <td>20010228</td>\n",
       "      <td>2000</td>\n",
       "      <td>3.0</td>\n",
       "      <td>AAR CORP</td>\n",
       "      <td>USD</td>\n",
       "      <td>754.718</td>\n",
       "      <td>159.537</td>\n",
       "      <td>354.479</td>\n",
       "      <td>5.388</td>\n",
       "      <td>...</td>\n",
       "      <td>1075.103596</td>\n",
       "      <td>15.602420</td>\n",
       "      <td>0.014512</td>\n",
       "      <td>41.0</td>\n",
       "      <td>50</td>\n",
       "      <td>wholesale</td>\n",
       "      <td>1968</td>\n",
       "      <td>0</td>\n",
       "      <td>2.0</td>\n",
       "      <td>2.0</td>\n",
       "    </tr>\n",
       "    <tr>\n",
       "      <th>1</th>\n",
       "      <td>1004</td>\n",
       "      <td>20010531</td>\n",
       "      <td>2000</td>\n",
       "      <td>4.0</td>\n",
       "      <td>AAR CORP</td>\n",
       "      <td>USD</td>\n",
       "      <td>701.854</td>\n",
       "      <td>180.131</td>\n",
       "      <td>320.590</td>\n",
       "      <td>5.706</td>\n",
       "      <td>...</td>\n",
       "      <td>1100.033212</td>\n",
       "      <td>17.765424</td>\n",
       "      <td>0.016150</td>\n",
       "      <td>41.0</td>\n",
       "      <td>50</td>\n",
       "      <td>wholesale</td>\n",
       "      <td>1968</td>\n",
       "      <td>0</td>\n",
       "      <td>2.0</td>\n",
       "      <td>2.0</td>\n",
       "    </tr>\n",
       "    <tr>\n",
       "      <th>2</th>\n",
       "      <td>1004</td>\n",
       "      <td>20010831</td>\n",
       "      <td>2001</td>\n",
       "      <td>1.0</td>\n",
       "      <td>AAR CORP</td>\n",
       "      <td>USD</td>\n",
       "      <td>758.503</td>\n",
       "      <td>168.829</td>\n",
       "      <td>340.683</td>\n",
       "      <td>0.486</td>\n",
       "      <td>...</td>\n",
       "      <td>1084.877494</td>\n",
       "      <td>16.344548</td>\n",
       "      <td>0.015066</td>\n",
       "      <td>41.0</td>\n",
       "      <td>50</td>\n",
       "      <td>wholesale</td>\n",
       "      <td>1968</td>\n",
       "      <td>0</td>\n",
       "      <td>2.0</td>\n",
       "      <td>2.0</td>\n",
       "    </tr>\n",
       "    <tr>\n",
       "      <th>3</th>\n",
       "      <td>1004</td>\n",
       "      <td>20011130</td>\n",
       "      <td>2001</td>\n",
       "      <td>2.0</td>\n",
       "      <td>AAR CORP</td>\n",
       "      <td>USD</td>\n",
       "      <td>714.208</td>\n",
       "      <td>118.697</td>\n",
       "      <td>265.818</td>\n",
       "      <td>-54.484</td>\n",
       "      <td>...</td>\n",
       "      <td>1123.076823</td>\n",
       "      <td>16.395677</td>\n",
       "      <td>0.014599</td>\n",
       "      <td>41.0</td>\n",
       "      <td>50</td>\n",
       "      <td>wholesale</td>\n",
       "      <td>1968</td>\n",
       "      <td>0</td>\n",
       "      <td>2.0</td>\n",
       "      <td>2.0</td>\n",
       "    </tr>\n",
       "    <tr>\n",
       "      <th>4</th>\n",
       "      <td>1004</td>\n",
       "      <td>20020228</td>\n",
       "      <td>2001</td>\n",
       "      <td>3.0</td>\n",
       "      <td>AAR CORP</td>\n",
       "      <td>USD</td>\n",
       "      <td>690.681</td>\n",
       "      <td>118.267</td>\n",
       "      <td>271.342</td>\n",
       "      <td>-2.290</td>\n",
       "      <td>...</td>\n",
       "      <td>1129.147545</td>\n",
       "      <td>16.410918</td>\n",
       "      <td>0.014534</td>\n",
       "      <td>41.0</td>\n",
       "      <td>50</td>\n",
       "      <td>wholesale</td>\n",
       "      <td>1968</td>\n",
       "      <td>0</td>\n",
       "      <td>2.0</td>\n",
       "      <td>2.0</td>\n",
       "    </tr>\n",
       "  </tbody>\n",
       "</table>\n",
       "<p>5 rows × 39 columns</p>\n",
       "</div>"
      ],
      "text/plain": [
       "   gvkey  datadate  year  qtr companyName curcdq   assets  costGoodsSold  \\\n",
       "0   1004  20010228  2000  3.0    AAR CORP    USD  754.718        159.537   \n",
       "1   1004  20010531  2000  4.0    AAR CORP    USD  701.854        180.131   \n",
       "2   1004  20010831  2001  1.0    AAR CORP    USD  758.503        168.829   \n",
       "3   1004  20011130  2001  2.0    AAR CORP    USD  714.208        118.697   \n",
       "4   1004  20020228  2001  3.0    AAR CORP    USD  690.681        118.267   \n",
       "\n",
       "   totalInv  netIncome  ...  assetsLagged  netIncomeLagged roa_lagged  \\\n",
       "0   354.479      5.388  ...   1075.103596        15.602420   0.014512   \n",
       "1   320.590      5.706  ...   1100.033212        17.765424   0.016150   \n",
       "2   340.683      0.486  ...   1084.877494        16.344548   0.015066   \n",
       "3   265.818    -54.484  ...   1123.076823        16.395677   0.014599   \n",
       "4   271.342     -2.290  ...   1129.147545        16.410918   0.014534   \n",
       "\n",
       "  famafrench sic2   indGroup earliestYear  ageTercile sizeTercile  \\\n",
       "0       41.0   50  wholesale         1968           0         2.0   \n",
       "1       41.0   50  wholesale         1968           0         2.0   \n",
       "2       41.0   50  wholesale         1968           0         2.0   \n",
       "3       41.0   50  wholesale         1968           0         2.0   \n",
       "4       41.0   50  wholesale         1968           0         2.0   \n",
       "\n",
       "   profitTercile  \n",
       "0            2.0  \n",
       "1            2.0  \n",
       "2            2.0  \n",
       "3            2.0  \n",
       "4            2.0  \n",
       "\n",
       "[5 rows x 39 columns]"
      ]
     },
     "execution_count": 9,
     "metadata": {},
     "output_type": "execute_result"
    }
   ],
   "source": [
    "changes.to_csv(\"../../data/companyData/compustatChanges_withControls.csv\")\n",
    "changes.head()"
   ]
  },
  {
   "cell_type": "code",
   "execution_count": 10,
   "metadata": {},
   "outputs": [
    {
     "name": "stderr",
     "output_type": "stream",
     "text": [
      "/Users/brianreed/opt/anaconda3/lib/python3.7/site-packages/IPython/core/interactiveshell.py:3326: DtypeWarning: Columns (15) have mixed types.Specify dtype option on import or set low_memory=False.\n",
      "  exec(code_obj, self.user_global_ns, self.user_ns)\n"
     ]
    },
    {
     "data": {
      "text/html": [
       "<div>\n",
       "<style scoped>\n",
       "    .dataframe tbody tr th:only-of-type {\n",
       "        vertical-align: middle;\n",
       "    }\n",
       "\n",
       "    .dataframe tbody tr th {\n",
       "        vertical-align: top;\n",
       "    }\n",
       "\n",
       "    .dataframe thead th {\n",
       "        text-align: right;\n",
       "    }\n",
       "</style>\n",
       "<table border=\"1\" class=\"dataframe\">\n",
       "  <thead>\n",
       "    <tr style=\"text-align: right;\">\n",
       "      <th></th>\n",
       "      <th>gvkey</th>\n",
       "      <th>datadate</th>\n",
       "      <th>year</th>\n",
       "      <th>qtr</th>\n",
       "      <th>companyName</th>\n",
       "      <th>curcdq</th>\n",
       "      <th>assets</th>\n",
       "      <th>costGoodsSold</th>\n",
       "      <th>totalInv</th>\n",
       "      <th>netIncome</th>\n",
       "      <th>...</th>\n",
       "      <th>assetsLagged</th>\n",
       "      <th>netIncomeLagged</th>\n",
       "      <th>roa_lagged</th>\n",
       "      <th>famafrench</th>\n",
       "      <th>sic2</th>\n",
       "      <th>indGroup</th>\n",
       "      <th>earliestYear</th>\n",
       "      <th>ageTercile</th>\n",
       "      <th>sizeTercile</th>\n",
       "      <th>profitTercile</th>\n",
       "    </tr>\n",
       "  </thead>\n",
       "  <tbody>\n",
       "    <tr>\n",
       "      <th>0</th>\n",
       "      <td>1004</td>\n",
       "      <td>20010228</td>\n",
       "      <td>2000</td>\n",
       "      <td>3.0</td>\n",
       "      <td>AAR CORP</td>\n",
       "      <td>USD</td>\n",
       "      <td>754.718</td>\n",
       "      <td>159.537</td>\n",
       "      <td>354.479</td>\n",
       "      <td>5.388</td>\n",
       "      <td>...</td>\n",
       "      <td>1075.103596</td>\n",
       "      <td>15.602420</td>\n",
       "      <td>0.014512</td>\n",
       "      <td>41.0</td>\n",
       "      <td>50</td>\n",
       "      <td>wholesale</td>\n",
       "      <td>1968</td>\n",
       "      <td>0</td>\n",
       "      <td>2.0</td>\n",
       "      <td>2.0</td>\n",
       "    </tr>\n",
       "    <tr>\n",
       "      <th>1</th>\n",
       "      <td>1004</td>\n",
       "      <td>20010531</td>\n",
       "      <td>2000</td>\n",
       "      <td>4.0</td>\n",
       "      <td>AAR CORP</td>\n",
       "      <td>USD</td>\n",
       "      <td>701.854</td>\n",
       "      <td>180.131</td>\n",
       "      <td>320.590</td>\n",
       "      <td>5.706</td>\n",
       "      <td>...</td>\n",
       "      <td>1100.033212</td>\n",
       "      <td>17.765424</td>\n",
       "      <td>0.016150</td>\n",
       "      <td>41.0</td>\n",
       "      <td>50</td>\n",
       "      <td>wholesale</td>\n",
       "      <td>1968</td>\n",
       "      <td>0</td>\n",
       "      <td>2.0</td>\n",
       "      <td>2.0</td>\n",
       "    </tr>\n",
       "    <tr>\n",
       "      <th>2</th>\n",
       "      <td>1004</td>\n",
       "      <td>20010831</td>\n",
       "      <td>2001</td>\n",
       "      <td>1.0</td>\n",
       "      <td>AAR CORP</td>\n",
       "      <td>USD</td>\n",
       "      <td>758.503</td>\n",
       "      <td>168.829</td>\n",
       "      <td>340.683</td>\n",
       "      <td>0.486</td>\n",
       "      <td>...</td>\n",
       "      <td>1084.877494</td>\n",
       "      <td>16.344548</td>\n",
       "      <td>0.015066</td>\n",
       "      <td>41.0</td>\n",
       "      <td>50</td>\n",
       "      <td>wholesale</td>\n",
       "      <td>1968</td>\n",
       "      <td>0</td>\n",
       "      <td>2.0</td>\n",
       "      <td>2.0</td>\n",
       "    </tr>\n",
       "    <tr>\n",
       "      <th>3</th>\n",
       "      <td>1004</td>\n",
       "      <td>20011130</td>\n",
       "      <td>2001</td>\n",
       "      <td>2.0</td>\n",
       "      <td>AAR CORP</td>\n",
       "      <td>USD</td>\n",
       "      <td>714.208</td>\n",
       "      <td>118.697</td>\n",
       "      <td>265.818</td>\n",
       "      <td>-54.484</td>\n",
       "      <td>...</td>\n",
       "      <td>1123.076823</td>\n",
       "      <td>16.395677</td>\n",
       "      <td>0.014599</td>\n",
       "      <td>41.0</td>\n",
       "      <td>50</td>\n",
       "      <td>wholesale</td>\n",
       "      <td>1968</td>\n",
       "      <td>0</td>\n",
       "      <td>2.0</td>\n",
       "      <td>2.0</td>\n",
       "    </tr>\n",
       "    <tr>\n",
       "      <th>4</th>\n",
       "      <td>1004</td>\n",
       "      <td>20020228</td>\n",
       "      <td>2001</td>\n",
       "      <td>3.0</td>\n",
       "      <td>AAR CORP</td>\n",
       "      <td>USD</td>\n",
       "      <td>690.681</td>\n",
       "      <td>118.267</td>\n",
       "      <td>271.342</td>\n",
       "      <td>-2.290</td>\n",
       "      <td>...</td>\n",
       "      <td>1129.147545</td>\n",
       "      <td>16.410918</td>\n",
       "      <td>0.014534</td>\n",
       "      <td>41.0</td>\n",
       "      <td>50</td>\n",
       "      <td>wholesale</td>\n",
       "      <td>1968</td>\n",
       "      <td>0</td>\n",
       "      <td>2.0</td>\n",
       "      <td>2.0</td>\n",
       "    </tr>\n",
       "  </tbody>\n",
       "</table>\n",
       "<p>5 rows × 39 columns</p>\n",
       "</div>"
      ],
      "text/plain": [
       "   gvkey  datadate  year  qtr companyName curcdq   assets  costGoodsSold  \\\n",
       "0   1004  20010228  2000  3.0    AAR CORP    USD  754.718        159.537   \n",
       "1   1004  20010531  2000  4.0    AAR CORP    USD  701.854        180.131   \n",
       "2   1004  20010831  2001  1.0    AAR CORP    USD  758.503        168.829   \n",
       "3   1004  20011130  2001  2.0    AAR CORP    USD  714.208        118.697   \n",
       "4   1004  20020228  2001  3.0    AAR CORP    USD  690.681        118.267   \n",
       "\n",
       "   totalInv  netIncome  ...  assetsLagged  netIncomeLagged roa_lagged  \\\n",
       "0   354.479      5.388  ...   1075.103596        15.602420   0.014512   \n",
       "1   320.590      5.706  ...   1100.033212        17.765424   0.016150   \n",
       "2   340.683      0.486  ...   1084.877494        16.344548   0.015066   \n",
       "3   265.818    -54.484  ...   1123.076823        16.395677   0.014599   \n",
       "4   271.342     -2.290  ...   1129.147545        16.410918   0.014534   \n",
       "\n",
       "  famafrench sic2   indGroup earliestYear  ageTercile sizeTercile  \\\n",
       "0       41.0   50  wholesale         1968           0         2.0   \n",
       "1       41.0   50  wholesale         1968           0         2.0   \n",
       "2       41.0   50  wholesale         1968           0         2.0   \n",
       "3       41.0   50  wholesale         1968           0         2.0   \n",
       "4       41.0   50  wholesale         1968           0         2.0   \n",
       "\n",
       "   profitTercile  \n",
       "0            2.0  \n",
       "1            2.0  \n",
       "2            2.0  \n",
       "3            2.0  \n",
       "4            2.0  \n",
       "\n",
       "[5 rows x 39 columns]"
      ]
     },
     "execution_count": 10,
     "metadata": {},
     "output_type": "execute_result"
    }
   ],
   "source": [
    "changes = pd.read_csv(\"../../data/companyData/compustatChanges_withControls.csv\").drop(columns = {'Unnamed: 0'})\n",
    "changes.head()"
   ]
  },
  {
   "cell_type": "markdown",
   "metadata": {},
   "source": [
    "Put in the calendar quarters and fiscal quarter data."
   ]
  },
  {
   "cell_type": "code",
   "execution_count": 11,
   "metadata": {},
   "outputs": [
    {
     "data": {
      "text/html": [
       "<div>\n",
       "<style scoped>\n",
       "    .dataframe tbody tr th:only-of-type {\n",
       "        vertical-align: middle;\n",
       "    }\n",
       "\n",
       "    .dataframe tbody tr th {\n",
       "        vertical-align: top;\n",
       "    }\n",
       "\n",
       "    .dataframe thead th {\n",
       "        text-align: right;\n",
       "    }\n",
       "</style>\n",
       "<table border=\"1\" class=\"dataframe\">\n",
       "  <thead>\n",
       "    <tr style=\"text-align: right;\">\n",
       "      <th></th>\n",
       "      <th>gvkey</th>\n",
       "      <th>datadate</th>\n",
       "      <th>fyearq</th>\n",
       "      <th>fqtr</th>\n",
       "      <th>fyr</th>\n",
       "      <th>indfmt</th>\n",
       "      <th>consol</th>\n",
       "      <th>popsrc</th>\n",
       "      <th>datafmt</th>\n",
       "      <th>tic</th>\n",
       "      <th>curcdq</th>\n",
       "      <th>datacqtr</th>\n",
       "      <th>datafqtr</th>\n",
       "      <th>costat</th>\n",
       "      <th>fyrc</th>\n",
       "    </tr>\n",
       "  </thead>\n",
       "  <tbody>\n",
       "    <tr>\n",
       "      <th>0</th>\n",
       "      <td>1004</td>\n",
       "      <td>19980228</td>\n",
       "      <td>1997</td>\n",
       "      <td>3.0</td>\n",
       "      <td>5</td>\n",
       "      <td>INDL</td>\n",
       "      <td>C</td>\n",
       "      <td>D</td>\n",
       "      <td>STD</td>\n",
       "      <td>AIR</td>\n",
       "      <td>USD</td>\n",
       "      <td>1998Q1</td>\n",
       "      <td>1997Q3</td>\n",
       "      <td>A</td>\n",
       "      <td>5</td>\n",
       "    </tr>\n",
       "    <tr>\n",
       "      <th>1</th>\n",
       "      <td>1004</td>\n",
       "      <td>19980531</td>\n",
       "      <td>1997</td>\n",
       "      <td>4.0</td>\n",
       "      <td>5</td>\n",
       "      <td>INDL</td>\n",
       "      <td>C</td>\n",
       "      <td>D</td>\n",
       "      <td>STD</td>\n",
       "      <td>AIR</td>\n",
       "      <td>USD</td>\n",
       "      <td>1998Q2</td>\n",
       "      <td>1997Q4</td>\n",
       "      <td>A</td>\n",
       "      <td>5</td>\n",
       "    </tr>\n",
       "    <tr>\n",
       "      <th>2</th>\n",
       "      <td>1004</td>\n",
       "      <td>19980831</td>\n",
       "      <td>1998</td>\n",
       "      <td>1.0</td>\n",
       "      <td>5</td>\n",
       "      <td>INDL</td>\n",
       "      <td>C</td>\n",
       "      <td>D</td>\n",
       "      <td>STD</td>\n",
       "      <td>AIR</td>\n",
       "      <td>USD</td>\n",
       "      <td>1998Q3</td>\n",
       "      <td>1998Q1</td>\n",
       "      <td>A</td>\n",
       "      <td>5</td>\n",
       "    </tr>\n",
       "    <tr>\n",
       "      <th>3</th>\n",
       "      <td>1004</td>\n",
       "      <td>19981130</td>\n",
       "      <td>1998</td>\n",
       "      <td>2.0</td>\n",
       "      <td>5</td>\n",
       "      <td>INDL</td>\n",
       "      <td>C</td>\n",
       "      <td>D</td>\n",
       "      <td>STD</td>\n",
       "      <td>AIR</td>\n",
       "      <td>USD</td>\n",
       "      <td>1998Q4</td>\n",
       "      <td>1998Q2</td>\n",
       "      <td>A</td>\n",
       "      <td>5</td>\n",
       "    </tr>\n",
       "    <tr>\n",
       "      <th>4</th>\n",
       "      <td>1004</td>\n",
       "      <td>19990228</td>\n",
       "      <td>1998</td>\n",
       "      <td>3.0</td>\n",
       "      <td>5</td>\n",
       "      <td>INDL</td>\n",
       "      <td>C</td>\n",
       "      <td>D</td>\n",
       "      <td>STD</td>\n",
       "      <td>AIR</td>\n",
       "      <td>USD</td>\n",
       "      <td>1999Q1</td>\n",
       "      <td>1998Q3</td>\n",
       "      <td>A</td>\n",
       "      <td>5</td>\n",
       "    </tr>\n",
       "  </tbody>\n",
       "</table>\n",
       "</div>"
      ],
      "text/plain": [
       "   gvkey  datadate  fyearq  fqtr  fyr indfmt consol popsrc datafmt  tic  \\\n",
       "0   1004  19980228    1997   3.0    5   INDL      C      D     STD  AIR   \n",
       "1   1004  19980531    1997   4.0    5   INDL      C      D     STD  AIR   \n",
       "2   1004  19980831    1998   1.0    5   INDL      C      D     STD  AIR   \n",
       "3   1004  19981130    1998   2.0    5   INDL      C      D     STD  AIR   \n",
       "4   1004  19990228    1998   3.0    5   INDL      C      D     STD  AIR   \n",
       "\n",
       "  curcdq datacqtr datafqtr costat  fyrc  \n",
       "0    USD   1998Q1   1997Q3      A     5  \n",
       "1    USD   1998Q2   1997Q4      A     5  \n",
       "2    USD   1998Q3   1998Q1      A     5  \n",
       "3    USD   1998Q4   1998Q2      A     5  \n",
       "4    USD   1999Q1   1998Q3      A     5  "
      ]
     },
     "execution_count": 11,
     "metadata": {},
     "output_type": "execute_result"
    }
   ],
   "source": [
    "quarters = pd.read_csv(\"../../data/companyData/fiscalYears.csv\")\n",
    "quarters.head()"
   ]
  },
  {
   "cell_type": "code",
   "execution_count": 12,
   "metadata": {},
   "outputs": [
    {
     "data": {
      "text/plain": [
       "27703"
      ]
     },
     "execution_count": 12,
     "metadata": {},
     "output_type": "execute_result"
    }
   ],
   "source": [
    "len(quarters.gvkey.unique())"
   ]
  },
  {
   "cell_type": "code",
   "execution_count": 13,
   "metadata": {},
   "outputs": [
    {
     "data": {
      "text/plain": [
       "0.8661478661478661"
      ]
     },
     "execution_count": 13,
     "metadata": {},
     "output_type": "execute_result"
    }
   ],
   "source": [
    "sum((quarters.fyr == 12) | \n",
    "   (quarters.fyr == 3) | \n",
    "   (quarters.fyr == 6) | \n",
    "   (quarters.fyr == 9))/quarters.shape[0]"
   ]
  },
  {
   "cell_type": "code",
   "execution_count": 14,
   "metadata": {},
   "outputs": [],
   "source": [
    "quarters = quarters[(quarters.fyr == 12) | \n",
    "   (quarters.fyr == 3) | \n",
    "   (quarters.fyr == 6) | \n",
    "   (quarters.fyr == 9)][['gvkey','datadate','datacqtr','datafqtr','fyr']].reset_index(drop = True)\n"
   ]
  },
  {
   "cell_type": "code",
   "execution_count": 15,
   "metadata": {},
   "outputs": [
    {
     "data": {
      "text/html": [
       "<div>\n",
       "<style scoped>\n",
       "    .dataframe tbody tr th:only-of-type {\n",
       "        vertical-align: middle;\n",
       "    }\n",
       "\n",
       "    .dataframe tbody tr th {\n",
       "        vertical-align: top;\n",
       "    }\n",
       "\n",
       "    .dataframe thead th {\n",
       "        text-align: right;\n",
       "    }\n",
       "</style>\n",
       "<table border=\"1\" class=\"dataframe\">\n",
       "  <thead>\n",
       "    <tr style=\"text-align: right;\">\n",
       "      <th></th>\n",
       "      <th>gvkey</th>\n",
       "      <th>datadate</th>\n",
       "      <th>datacqtr</th>\n",
       "      <th>datafqtr</th>\n",
       "      <th>fyr</th>\n",
       "    </tr>\n",
       "  </thead>\n",
       "  <tbody>\n",
       "    <tr>\n",
       "      <th>0</th>\n",
       "      <td>1010</td>\n",
       "      <td>19980331</td>\n",
       "      <td>1998Q1</td>\n",
       "      <td>1998Q1</td>\n",
       "      <td>12</td>\n",
       "    </tr>\n",
       "    <tr>\n",
       "      <th>1</th>\n",
       "      <td>1010</td>\n",
       "      <td>19980630</td>\n",
       "      <td>1998Q2</td>\n",
       "      <td>1998Q2</td>\n",
       "      <td>12</td>\n",
       "    </tr>\n",
       "    <tr>\n",
       "      <th>2</th>\n",
       "      <td>1010</td>\n",
       "      <td>19980930</td>\n",
       "      <td>1998Q3</td>\n",
       "      <td>1998Q3</td>\n",
       "      <td>12</td>\n",
       "    </tr>\n",
       "    <tr>\n",
       "      <th>3</th>\n",
       "      <td>1010</td>\n",
       "      <td>19981231</td>\n",
       "      <td>1998Q4</td>\n",
       "      <td>1998Q4</td>\n",
       "      <td>12</td>\n",
       "    </tr>\n",
       "    <tr>\n",
       "      <th>4</th>\n",
       "      <td>1010</td>\n",
       "      <td>19990331</td>\n",
       "      <td>1999Q1</td>\n",
       "      <td>1999Q1</td>\n",
       "      <td>12</td>\n",
       "    </tr>\n",
       "  </tbody>\n",
       "</table>\n",
       "</div>"
      ],
      "text/plain": [
       "   gvkey  datadate datacqtr datafqtr  fyr\n",
       "0   1010  19980331   1998Q1   1998Q1   12\n",
       "1   1010  19980630   1998Q2   1998Q2   12\n",
       "2   1010  19980930   1998Q3   1998Q3   12\n",
       "3   1010  19981231   1998Q4   1998Q4   12\n",
       "4   1010  19990331   1999Q1   1999Q1   12"
      ]
     },
     "execution_count": 15,
     "metadata": {},
     "output_type": "execute_result"
    }
   ],
   "source": [
    "quarters.head()"
   ]
  },
  {
   "cell_type": "markdown",
   "metadata": {},
   "source": [
    "Merge the quarter data into the change data, and make sure that the quarters that are used line up with the calendar quarters."
   ]
  },
  {
   "cell_type": "code",
   "execution_count": 16,
   "metadata": {},
   "outputs": [
    {
     "name": "stdout",
     "output_type": "stream",
     "text": [
      "0.7786679428467415\n"
     ]
    }
   ],
   "source": [
    "changesCal = changes[changes.gvkey.isin(quarters.gvkey.unique())]\n",
    "\n",
    "changesCal = changesCal.merge(quarters)\n",
    "\n",
    "print(changesCal.shape[0]/changes.shape[0])"
   ]
  },
  {
   "cell_type": "code",
   "execution_count": 17,
   "metadata": {},
   "outputs": [
    {
     "name": "stdout",
     "output_type": "stream",
     "text": [
      "(645951, 43)    gvkey  datadate  year  qtr         companyName curcdq  assets  \\\n",
      "0   1010  20010331  2001    1  ACF INDUSTRIES INC    USD  3750.1   \n",
      "1   1010  20010630  2001    2  ACF INDUSTRIES INC    USD  3701.7   \n",
      "2   1010  20010930  2001    3  ACF INDUSTRIES INC    USD  3930.6   \n",
      "3   1010  20011231  2001    4  ACF INDUSTRIES INC    USD  3723.1   \n",
      "4   1010  20020331  2002    1  ACF INDUSTRIES INC    USD  3691.9   \n",
      "\n",
      "   costGoodsSold  totalInv  netIncome  ...  sic2  indGroup earliestYear  \\\n",
      "0           56.3      53.9       24.8  ...    37      manu         1962   \n",
      "1           30.8      56.2        1.8  ...    37      manu         1962   \n",
      "2           37.0      49.8       42.2  ...    37      manu         1962   \n",
      "3           30.0      42.4       76.9  ...    37      manu         1962   \n",
      "4           26.1      40.6        7.3  ...    37      manu         1962   \n",
      "\n",
      "  ageTercile sizeTercile profitTercile datacqtr  datafqtr fyr  \\\n",
      "0          0         2.0           1.0   2001Q1    2001Q1  12   \n",
      "1          0         2.0           2.0   2001Q2    2001Q2  12   \n",
      "2          0         NaN           NaN   2001Q3    2001Q3  12   \n",
      "3          0         2.0           0.0   2001Q4    2001Q4  12   \n",
      "4          0         2.0           2.0   2002Q1    2002Q1  12   \n",
      "\n",
      "                           DATE  \n",
      "0 1970-01-01 00:00:00.020010331  \n",
      "1 1970-01-01 00:00:00.020010630  \n",
      "2 1970-01-01 00:00:00.020010930  \n",
      "3 1970-01-01 00:00:00.020011231  \n",
      "4 1970-01-01 00:00:00.020020331  \n",
      "\n",
      "[5 rows x 43 columns]\n"
     ]
    }
   ],
   "source": [
    "changesCal.loc[~(changesCal.datacqtr.isna()), 'year'] = changesCal.datacqtr.str.slice(0,4)\n",
    "changesCal.loc[~(changesCal.datacqtr.isna()), 'qtr']  = changesCal.datacqtr.str.slice(5,6)\n",
    "\n",
    "changesCal['DATE'] = pd.to_datetime(changesCal['datadate'])\n",
    "\n",
    "changesCal.loc[(changesCal.datacqtr.isna()), 'year'] = changesCal.DATE.dt.year\n",
    "changesCal.loc[(changesCal.datacqtr.isna()), 'qtr']  = changesCal.DATE.dt.quarter\n",
    "\n",
    "changesCal['year'] = changesCal.year.astype('int64')\n",
    "changesCal['qtr']  = changesCal.qtr.astype('int64')\n",
    "\n",
    "print(changesCal.shape,changesCal.head())"
   ]
  },
  {
   "cell_type": "code",
   "execution_count": 18,
   "metadata": {},
   "outputs": [
    {
     "data": {
      "text/html": [
       "<div>\n",
       "<style scoped>\n",
       "    .dataframe tbody tr th:only-of-type {\n",
       "        vertical-align: middle;\n",
       "    }\n",
       "\n",
       "    .dataframe tbody tr th {\n",
       "        vertical-align: top;\n",
       "    }\n",
       "\n",
       "    .dataframe thead th {\n",
       "        text-align: right;\n",
       "    }\n",
       "</style>\n",
       "<table border=\"1\" class=\"dataframe\">\n",
       "  <thead>\n",
       "    <tr style=\"text-align: right;\">\n",
       "      <th></th>\n",
       "      <th>gvkey</th>\n",
       "      <th>datadate</th>\n",
       "      <th>year</th>\n",
       "      <th>qtr</th>\n",
       "      <th>companyName</th>\n",
       "      <th>curcdq</th>\n",
       "      <th>assets</th>\n",
       "      <th>costGoodsSold</th>\n",
       "      <th>totalInv</th>\n",
       "      <th>netIncome</th>\n",
       "      <th>...</th>\n",
       "      <th>sic2</th>\n",
       "      <th>indGroup</th>\n",
       "      <th>earliestYear</th>\n",
       "      <th>ageTercile</th>\n",
       "      <th>sizeTercile</th>\n",
       "      <th>profitTercile</th>\n",
       "      <th>datacqtr</th>\n",
       "      <th>datafqtr</th>\n",
       "      <th>fyr</th>\n",
       "      <th>DATE</th>\n",
       "    </tr>\n",
       "  </thead>\n",
       "  <tbody>\n",
       "    <tr>\n",
       "      <th>0</th>\n",
       "      <td>1010</td>\n",
       "      <td>20010331</td>\n",
       "      <td>2001</td>\n",
       "      <td>1</td>\n",
       "      <td>ACF INDUSTRIES INC</td>\n",
       "      <td>USD</td>\n",
       "      <td>3750.1</td>\n",
       "      <td>56.3</td>\n",
       "      <td>53.9</td>\n",
       "      <td>24.8</td>\n",
       "      <td>...</td>\n",
       "      <td>37</td>\n",
       "      <td>manu</td>\n",
       "      <td>1962</td>\n",
       "      <td>0</td>\n",
       "      <td>2.0</td>\n",
       "      <td>1.0</td>\n",
       "      <td>2001Q1</td>\n",
       "      <td>2001Q1</td>\n",
       "      <td>12</td>\n",
       "      <td>1970-01-01 00:00:00.020010331</td>\n",
       "    </tr>\n",
       "    <tr>\n",
       "      <th>1</th>\n",
       "      <td>1010</td>\n",
       "      <td>20010630</td>\n",
       "      <td>2001</td>\n",
       "      <td>2</td>\n",
       "      <td>ACF INDUSTRIES INC</td>\n",
       "      <td>USD</td>\n",
       "      <td>3701.7</td>\n",
       "      <td>30.8</td>\n",
       "      <td>56.2</td>\n",
       "      <td>1.8</td>\n",
       "      <td>...</td>\n",
       "      <td>37</td>\n",
       "      <td>manu</td>\n",
       "      <td>1962</td>\n",
       "      <td>0</td>\n",
       "      <td>2.0</td>\n",
       "      <td>2.0</td>\n",
       "      <td>2001Q2</td>\n",
       "      <td>2001Q2</td>\n",
       "      <td>12</td>\n",
       "      <td>1970-01-01 00:00:00.020010630</td>\n",
       "    </tr>\n",
       "    <tr>\n",
       "      <th>2</th>\n",
       "      <td>1010</td>\n",
       "      <td>20010930</td>\n",
       "      <td>2001</td>\n",
       "      <td>3</td>\n",
       "      <td>ACF INDUSTRIES INC</td>\n",
       "      <td>USD</td>\n",
       "      <td>3930.6</td>\n",
       "      <td>37.0</td>\n",
       "      <td>49.8</td>\n",
       "      <td>42.2</td>\n",
       "      <td>...</td>\n",
       "      <td>37</td>\n",
       "      <td>manu</td>\n",
       "      <td>1962</td>\n",
       "      <td>0</td>\n",
       "      <td>NaN</td>\n",
       "      <td>NaN</td>\n",
       "      <td>2001Q3</td>\n",
       "      <td>2001Q3</td>\n",
       "      <td>12</td>\n",
       "      <td>1970-01-01 00:00:00.020010930</td>\n",
       "    </tr>\n",
       "    <tr>\n",
       "      <th>3</th>\n",
       "      <td>1010</td>\n",
       "      <td>20011231</td>\n",
       "      <td>2001</td>\n",
       "      <td>4</td>\n",
       "      <td>ACF INDUSTRIES INC</td>\n",
       "      <td>USD</td>\n",
       "      <td>3723.1</td>\n",
       "      <td>30.0</td>\n",
       "      <td>42.4</td>\n",
       "      <td>76.9</td>\n",
       "      <td>...</td>\n",
       "      <td>37</td>\n",
       "      <td>manu</td>\n",
       "      <td>1962</td>\n",
       "      <td>0</td>\n",
       "      <td>2.0</td>\n",
       "      <td>0.0</td>\n",
       "      <td>2001Q4</td>\n",
       "      <td>2001Q4</td>\n",
       "      <td>12</td>\n",
       "      <td>1970-01-01 00:00:00.020011231</td>\n",
       "    </tr>\n",
       "    <tr>\n",
       "      <th>4</th>\n",
       "      <td>1010</td>\n",
       "      <td>20020331</td>\n",
       "      <td>2002</td>\n",
       "      <td>1</td>\n",
       "      <td>ACF INDUSTRIES INC</td>\n",
       "      <td>USD</td>\n",
       "      <td>3691.9</td>\n",
       "      <td>26.1</td>\n",
       "      <td>40.6</td>\n",
       "      <td>7.3</td>\n",
       "      <td>...</td>\n",
       "      <td>37</td>\n",
       "      <td>manu</td>\n",
       "      <td>1962</td>\n",
       "      <td>0</td>\n",
       "      <td>2.0</td>\n",
       "      <td>2.0</td>\n",
       "      <td>2002Q1</td>\n",
       "      <td>2002Q1</td>\n",
       "      <td>12</td>\n",
       "      <td>1970-01-01 00:00:00.020020331</td>\n",
       "    </tr>\n",
       "  </tbody>\n",
       "</table>\n",
       "<p>5 rows × 43 columns</p>\n",
       "</div>"
      ],
      "text/plain": [
       "   gvkey  datadate  year  qtr         companyName curcdq  assets  \\\n",
       "0   1010  20010331  2001    1  ACF INDUSTRIES INC    USD  3750.1   \n",
       "1   1010  20010630  2001    2  ACF INDUSTRIES INC    USD  3701.7   \n",
       "2   1010  20010930  2001    3  ACF INDUSTRIES INC    USD  3930.6   \n",
       "3   1010  20011231  2001    4  ACF INDUSTRIES INC    USD  3723.1   \n",
       "4   1010  20020331  2002    1  ACF INDUSTRIES INC    USD  3691.9   \n",
       "\n",
       "   costGoodsSold  totalInv  netIncome  ...  sic2  indGroup earliestYear  \\\n",
       "0           56.3      53.9       24.8  ...    37      manu         1962   \n",
       "1           30.8      56.2        1.8  ...    37      manu         1962   \n",
       "2           37.0      49.8       42.2  ...    37      manu         1962   \n",
       "3           30.0      42.4       76.9  ...    37      manu         1962   \n",
       "4           26.1      40.6        7.3  ...    37      manu         1962   \n",
       "\n",
       "  ageTercile sizeTercile profitTercile datacqtr  datafqtr fyr  \\\n",
       "0          0         2.0           1.0   2001Q1    2001Q1  12   \n",
       "1          0         2.0           2.0   2001Q2    2001Q2  12   \n",
       "2          0         NaN           NaN   2001Q3    2001Q3  12   \n",
       "3          0         2.0           0.0   2001Q4    2001Q4  12   \n",
       "4          0         2.0           2.0   2002Q1    2002Q1  12   \n",
       "\n",
       "                           DATE  \n",
       "0 1970-01-01 00:00:00.020010331  \n",
       "1 1970-01-01 00:00:00.020010630  \n",
       "2 1970-01-01 00:00:00.020010930  \n",
       "3 1970-01-01 00:00:00.020011231  \n",
       "4 1970-01-01 00:00:00.020020331  \n",
       "\n",
       "[5 rows x 43 columns]"
      ]
     },
     "execution_count": 18,
     "metadata": {},
     "output_type": "execute_result"
    }
   ],
   "source": [
    "changesCal.to_csv(\"../../data/companyData/compustatChanges_withControls.csv\")\n",
    "changesCal.head()"
   ]
  },
  {
   "cell_type": "code",
   "execution_count": null,
   "metadata": {},
   "outputs": [],
   "source": [
    "changesCal = pd.read_csv(\"../../data/companyData/compustatChanges_withControls.csv\")\n",
    "changesCal.head()"
   ]
  },
  {
   "cell_type": "markdown",
   "metadata": {},
   "source": [
    "# Compustat and ABI Linking"
   ]
  },
  {
   "cell_type": "code",
   "execution_count": 19,
   "metadata": {},
   "outputs": [
    {
     "data": {
      "text/html": [
       "<div>\n",
       "<style scoped>\n",
       "    .dataframe tbody tr th:only-of-type {\n",
       "        vertical-align: middle;\n",
       "    }\n",
       "\n",
       "    .dataframe tbody tr th {\n",
       "        vertical-align: top;\n",
       "    }\n",
       "\n",
       "    .dataframe thead th {\n",
       "        text-align: right;\n",
       "    }\n",
       "</style>\n",
       "<table border=\"1\" class=\"dataframe\">\n",
       "  <thead>\n",
       "    <tr style=\"text-align: right;\">\n",
       "      <th></th>\n",
       "      <th>cstatCompanies</th>\n",
       "      <th>igCompanies</th>\n",
       "      <th>delete</th>\n",
       "      <th>gvkey</th>\n",
       "      <th>abi</th>\n",
       "    </tr>\n",
       "  </thead>\n",
       "  <tbody>\n",
       "    <tr>\n",
       "      <th>0</th>\n",
       "      <td>asa gold and precious metals</td>\n",
       "      <td>asa gold   precious metals</td>\n",
       "      <td>NaN</td>\n",
       "      <td>1062</td>\n",
       "      <td>402180222</td>\n",
       "    </tr>\n",
       "    <tr>\n",
       "      <th>1</th>\n",
       "      <td>adams diversified equity fd</td>\n",
       "      <td>adams diversified equity fund</td>\n",
       "      <td>NaN</td>\n",
       "      <td>1119</td>\n",
       "      <td>397759739</td>\n",
       "    </tr>\n",
       "    <tr>\n",
       "      <th>2</th>\n",
       "      <td>allen organ</td>\n",
       "      <td>allen organ</td>\n",
       "      <td>NaN</td>\n",
       "      <td>1283</td>\n",
       "      <td>400700704</td>\n",
       "    </tr>\n",
       "    <tr>\n",
       "      <th>3</th>\n",
       "      <td>american physicians svc gp</td>\n",
       "      <td>american physicians svc</td>\n",
       "      <td>NaN</td>\n",
       "      <td>1539</td>\n",
       "      <td>218548014</td>\n",
       "    </tr>\n",
       "    <tr>\n",
       "      <th>4</th>\n",
       "      <td>american science engineering</td>\n",
       "      <td>american science   engineering</td>\n",
       "      <td>NaN</td>\n",
       "      <td>1554</td>\n",
       "      <td>441435880</td>\n",
       "    </tr>\n",
       "  </tbody>\n",
       "</table>\n",
       "</div>"
      ],
      "text/plain": [
       "                 cstatCompanies                     igCompanies  delete  \\\n",
       "0  asa gold and precious metals      asa gold   precious metals     NaN   \n",
       "1   adams diversified equity fd   adams diversified equity fund     NaN   \n",
       "2                  allen organ                      allen organ     NaN   \n",
       "3    american physicians svc gp        american physicians svc      NaN   \n",
       "4  american science engineering  american science   engineering     NaN   \n",
       "\n",
       "   gvkey        abi  \n",
       "0   1062  402180222  \n",
       "1   1119  397759739  \n",
       "2   1283  400700704  \n",
       "3   1539  218548014  \n",
       "4   1554  441435880  "
      ]
     },
     "execution_count": 19,
     "metadata": {},
     "output_type": "execute_result"
    }
   ],
   "source": [
    "gvKey_abiLinkingTable = pd.read_csv('../../data/companyData/linkingTable.csv').drop(columns = ['Unnamed: 0'])\n",
    "\n",
    "base_columns = gvKey_abiLinkingTable.columns \n",
    "customer_columns = \"customer_\" + base_columns\n",
    "supplier_columns = \"supplier_\" + base_columns\n",
    "\n",
    "\n",
    "\n",
    "hasMatch = gvKey_abiLinkingTable.gvkey.unique()\n",
    "\n",
    "gvKey_abiLinkingTable.head()\n"
   ]
  },
  {
   "cell_type": "code",
   "execution_count": null,
   "metadata": {},
   "outputs": [],
   "source": []
  },
  {
   "cell_type": "markdown",
   "metadata": {},
   "source": [
    "---------------------------------"
   ]
  },
  {
   "cell_type": "markdown",
   "metadata": {},
   "source": [
    "# Get all change data together\n",
    "Get the linking table and merge the abi labels into the change df. \n",
    "\n",
    "Then, merge the location data into the change data and get as complete a record of companies as possible given the HQ data."
   ]
  },
  {
   "cell_type": "code",
   "execution_count": 26,
   "metadata": {},
   "outputs": [
    {
     "name": "stderr",
     "output_type": "stream",
     "text": [
      "/Users/brianreed/opt/anaconda3/lib/python3.7/site-packages/IPython/core/interactiveshell.py:3326: DtypeWarning: Columns (15) have mixed types.Specify dtype option on import or set low_memory=False.\n",
      "  exec(code_obj, self.user_global_ns, self.user_ns)\n"
     ]
    },
    {
     "name": "stdout",
     "output_type": "stream",
     "text": [
      "(645951, 43)    gvkey  datadate  year  qtr         companyName curcdq  assets  \\\n",
      "0   1010  20010331  2001    1  ACF INDUSTRIES INC    USD  3750.1   \n",
      "1   1010  20010630  2001    2  ACF INDUSTRIES INC    USD  3701.7   \n",
      "2   1010  20010930  2001    3  ACF INDUSTRIES INC    USD  3930.6   \n",
      "3   1010  20011231  2001    4  ACF INDUSTRIES INC    USD  3723.1   \n",
      "4   1010  20020331  2002    1  ACF INDUSTRIES INC    USD  3691.9   \n",
      "\n",
      "   costGoodsSold  totalInv  netIncome  ...  sic2  indGroup earliestYear  \\\n",
      "0           56.3      53.9       24.8  ...    37      manu         1962   \n",
      "1           30.8      56.2        1.8  ...    37      manu         1962   \n",
      "2           37.0      49.8       42.2  ...    37      manu         1962   \n",
      "3           30.0      42.4       76.9  ...    37      manu         1962   \n",
      "4           26.1      40.6        7.3  ...    37      manu         1962   \n",
      "\n",
      "  ageTercile sizeTercile profitTercile datacqtr  datafqtr fyr  \\\n",
      "0          0         2.0           1.0   2001Q1    2001Q1  12   \n",
      "1          0         2.0           2.0   2001Q2    2001Q2  12   \n",
      "2          0         NaN           NaN   2001Q3    2001Q3  12   \n",
      "3          0         2.0           0.0   2001Q4    2001Q4  12   \n",
      "4          0         2.0           2.0   2002Q1    2002Q1  12   \n",
      "\n",
      "                            DATE  \n",
      "0  1970-01-01 00:00:00.020010331  \n",
      "1  1970-01-01 00:00:00.020010630  \n",
      "2  1970-01-01 00:00:00.020010930  \n",
      "3  1970-01-01 00:00:00.020011231  \n",
      "4  1970-01-01 00:00:00.020020331  \n",
      "\n",
      "[5 rows x 43 columns]\n",
      "(313403, 45)    gvkey  datadate  year  qtr                 companyName curcdq  assets  \\\n",
      "0   1013  20091231  2009    4  ADC TELECOMMUNICATIONS INC    USD  1336.1   \n",
      "1   1013  20100331  2010    1  ADC TELECOMMUNICATIONS INC    USD  1345.1   \n",
      "2   1013  20100630  2010    2  ADC TELECOMMUNICATIONS INC    USD  1415.0   \n",
      "3   1013  20100930  2010    3  ADC TELECOMMUNICATIONS INC    USD  1474.5   \n",
      "4   1019  20010331  2001    1  AFA PROTECTIVE SYSTEMS INC    USD     NaN   \n",
      "\n",
      "   costGoodsSold  totalInv  netIncome  ...  sizeTercile  profitTercile  \\\n",
      "0          157.9     123.9    -11.200  ...          2.0            0.0   \n",
      "1          158.5     122.8    -13.200  ...          2.0            1.0   \n",
      "2          176.2     116.3     75.800  ...          2.0            1.0   \n",
      "3          184.6     106.4     10.600  ...          2.0            0.0   \n",
      "4            NaN       NaN      0.413  ...          NaN            NaN   \n",
      "\n",
      "  datacqtr datafqtr fyr                           DATE  \\\n",
      "0   2009Q4   2010Q1   9  1970-01-01 00:00:00.020091231   \n",
      "1   2010Q1   2010Q2   9  1970-01-01 00:00:00.020100331   \n",
      "2   2010Q2   2010Q3   9  1970-01-01 00:00:00.020100630   \n",
      "3   2010Q3   2010Q4   9  1970-01-01 00:00:00.020100930   \n",
      "4   2001Q1   2001Q1  12  1970-01-01 00:00:00.020010331   \n",
      "\n",
      "           cstatCompanies             igCompanies  delete        abi  \n",
      "0  adc telecommunications  adc telecommunications     NaN    7523129  \n",
      "1  adc telecommunications  adc telecommunications     NaN    7523129  \n",
      "2  adc telecommunications  adc telecommunications     NaN    7523129  \n",
      "3  adc telecommunications  adc telecommunications     NaN    7523129  \n",
      "4  afa protective systems  afa protective systems     NaN  317110880  \n",
      "\n",
      "[5 rows x 45 columns]\n"
     ]
    }
   ],
   "source": [
    "gvKey_abiLinkingTable = pd.read_csv('../../data/companyData/linkingTable.csv').drop(columns = ['Unnamed: 0'])\n",
    "\n",
    "changes = pd.read_csv(\"../../data/companyData/compustatChanges_withControls.csv\").drop(columns = ['Unnamed: 0'])\n",
    "print(changes.shape, changes.head())\n",
    "\n",
    "\n",
    "changesABI = changes.merge(gvKey_abiLinkingTable, on ='gvkey').drop(columns = {'state','city'})\n",
    "print(changesABI.shape, changesABI.head())"
   ]
  },
  {
   "cell_type": "markdown",
   "metadata": {},
   "source": [
    "Now merge in the hq information."
   ]
  },
  {
   "cell_type": "code",
   "execution_count": 27,
   "metadata": {},
   "outputs": [
    {
     "data": {
      "text/plain": [
       "array(['MO', 'MN', 'NY', 'NJ', 'PA', 'TX', 'SC', 'AZ', 'UT', 'IL', 'MA',\n",
       "       'WA', 'CT', 'FL', 'CA', 'MD', 'NC', 'AL', 'HI', 'OH', 'AR', 'GA',\n",
       "       'CO', 'NV', 'KS', 'ID', 'WI', 'ME', 'WY', 'VA', 'OK', 'VT', 'DE',\n",
       "       'IN', 'PR', 'IA', 'MI', 'LA', 'RI', 'NE', 'MT', 'SD', 'OR', 'DC',\n",
       "       'WV', 'KY', 'TN', 'MS', 'ND', 'NH', 'NM', 'VI', 'AK', 'GU'],\n",
       "      dtype=object)"
      ]
     },
     "execution_count": 27,
     "metadata": {},
     "output_type": "execute_result"
    }
   ],
   "source": [
    "canadian = ['ON', 'AB','QC', 'BC', 'NS', 'NF', 'SK', 'MB', 'NB']\n",
    "changes = changes[~(changes.state.isin(canadian)) & ~changes.state.isna()]\n",
    "\n",
    "changes['addzip'] = changes.addzip.astype('str').str.slice(0,5)\n",
    "\n",
    "changes.state.unique()"
   ]
  },
  {
   "cell_type": "code",
   "execution_count": 28,
   "metadata": {},
   "outputs": [
    {
     "name": "stdout",
     "output_type": "stream",
     "text": [
      "(241835, 56)    gvkey  datadate  year  qtr                  companyName curcdq   assets  \\\n",
      "0   1013  20091231  2009    4   ADC TELECOMMUNICATIONS INC    USD   1336.1   \n",
      "1   1013  20100331  2010    1   ADC TELECOMMUNICATIONS INC    USD   1345.1   \n",
      "2   1013  20100630  2010    2   ADC TELECOMMUNICATIONS INC    USD   1415.0   \n",
      "3   1013  20100930  2010    3   ADC TELECOMMUNICATIONS INC    USD   1474.5   \n",
      "4   1045  20030331  2003    1  AMERICAN AIRLINES GROUP INC    USD  29086.0   \n",
      "\n",
      "   costGoodsSold  totalInv  netIncome  ...                     company  state  \\\n",
      "0          157.9     123.9      -11.2  ...  ADC TELECOMMUNICATIONS INC     MN   \n",
      "1          158.5     122.8      -13.2  ...  ADC TELECOMMUNICATIONS INC     MN   \n",
      "2          176.2     116.3       75.8  ...  ADC TELECOMMUNICATIONS INC     MN   \n",
      "3          184.6     106.4       10.6  ...  ADC TELECOMMUNICATIONS INC     MN   \n",
      "4         3943.0     618.0    -1043.0  ...                    AMR CORP     TX   \n",
      "\n",
      "           city         address_line_1 zipcode  latitude  longitude  \\\n",
      "0  EDEN PRAIRIE    13625 TECHNOLOGY DR   55344  44.85645  -93.45199   \n",
      "1  EDEN PRAIRIE    13625 TECHNOLOGY DR   55344  44.85645  -93.45199   \n",
      "2  EDEN PRAIRIE    13625 TECHNOLOGY DR   55344  44.85645  -93.45199   \n",
      "3  EDEN PRAIRIE    13625 TECHNOLOGY DR   55344  44.85645  -93.45199   \n",
      "4    FORT WORTH  4333 AMON CARTER BLVD   76155  32.82563  -97.05057   \n",
      "\n",
      "   parent_employee_size_code  location_employee_size_code  employeesAtLocation  \n",
      "0                      250.0                        250.0                  1.0  \n",
      "1                      250.0                        250.0                  1.0  \n",
      "2                      250.0                        250.0                  1.0  \n",
      "3                      250.0                        250.0                  1.0  \n",
      "4                     1000.0                       1000.0                  1.0  \n",
      "\n",
      "[5 rows x 56 columns]\n"
     ]
    },
    {
     "data": {
      "text/html": [
       "<div>\n",
       "<style scoped>\n",
       "    .dataframe tbody tr th:only-of-type {\n",
       "        vertical-align: middle;\n",
       "    }\n",
       "\n",
       "    .dataframe tbody tr th {\n",
       "        vertical-align: top;\n",
       "    }\n",
       "\n",
       "    .dataframe thead th {\n",
       "        text-align: right;\n",
       "    }\n",
       "</style>\n",
       "<table border=\"1\" class=\"dataframe\">\n",
       "  <thead>\n",
       "    <tr style=\"text-align: right;\">\n",
       "      <th></th>\n",
       "      <th>abi</th>\n",
       "      <th>ticker</th>\n",
       "      <th>company</th>\n",
       "      <th>year</th>\n",
       "      <th>state</th>\n",
       "      <th>city</th>\n",
       "      <th>address_line_1</th>\n",
       "      <th>zipcode</th>\n",
       "      <th>latitude</th>\n",
       "      <th>longitude</th>\n",
       "      <th>parent_employee_size_code</th>\n",
       "      <th>location_employee_size_code</th>\n",
       "      <th>employeesAtLocation</th>\n",
       "    </tr>\n",
       "  </thead>\n",
       "  <tbody>\n",
       "    <tr>\n",
       "      <th>0</th>\n",
       "      <td>7609</td>\n",
       "      <td>SODI</td>\n",
       "      <td>SOLITRON DEVICES INC</td>\n",
       "      <td>2003</td>\n",
       "      <td>FL</td>\n",
       "      <td>WEST PALM BEACH</td>\n",
       "      <td>3301 ELECTRONICS WAY # C</td>\n",
       "      <td>33407</td>\n",
       "      <td>26.74120</td>\n",
       "      <td>-80.06694</td>\n",
       "      <td>NaN</td>\n",
       "      <td>NaN</td>\n",
       "      <td>NaN</td>\n",
       "    </tr>\n",
       "    <tr>\n",
       "      <th>1</th>\n",
       "      <td>23077</td>\n",
       "      <td>NaN</td>\n",
       "      <td>JENNY LEE BAKERY</td>\n",
       "      <td>2003</td>\n",
       "      <td>PA</td>\n",
       "      <td>MC KEES ROCKS</td>\n",
       "      <td>620 ISLAND AVE</td>\n",
       "      <td>15136</td>\n",
       "      <td>40.47235</td>\n",
       "      <td>-80.06152</td>\n",
       "      <td>50.0</td>\n",
       "      <td>50.0</td>\n",
       "      <td>1.0</td>\n",
       "    </tr>\n",
       "    <tr>\n",
       "      <th>2</th>\n",
       "      <td>76547</td>\n",
       "      <td>NaN</td>\n",
       "      <td>MASTER PROTECTION CORP</td>\n",
       "      <td>2003</td>\n",
       "      <td>FL</td>\n",
       "      <td>FORT MYERS</td>\n",
       "      <td>12800 UNIVERSITY DR # 400</td>\n",
       "      <td>33907</td>\n",
       "      <td>26.55504</td>\n",
       "      <td>-81.88423</td>\n",
       "      <td>20.0</td>\n",
       "      <td>20.0</td>\n",
       "      <td>1.0</td>\n",
       "    </tr>\n",
       "    <tr>\n",
       "      <th>3</th>\n",
       "      <td>77743</td>\n",
       "      <td>NaN</td>\n",
       "      <td>NATIONAL TECHNICAL SYSTEMS INC</td>\n",
       "      <td>2003</td>\n",
       "      <td>CA</td>\n",
       "      <td>CALABASAS</td>\n",
       "      <td>24007 VENTURA BLVD # 200</td>\n",
       "      <td>91302</td>\n",
       "      <td>34.15562</td>\n",
       "      <td>-118.65163</td>\n",
       "      <td>10.0</td>\n",
       "      <td>10.0</td>\n",
       "      <td>1.0</td>\n",
       "    </tr>\n",
       "    <tr>\n",
       "      <th>4</th>\n",
       "      <td>89151</td>\n",
       "      <td>NaN</td>\n",
       "      <td>HILLTOP BASIC RESOURCES</td>\n",
       "      <td>2003</td>\n",
       "      <td>OH</td>\n",
       "      <td>CINCINNATI</td>\n",
       "      <td>1 W 4TH ST # 1100</td>\n",
       "      <td>45202</td>\n",
       "      <td>39.09982</td>\n",
       "      <td>-84.51297</td>\n",
       "      <td>20.0</td>\n",
       "      <td>20.0</td>\n",
       "      <td>1.0</td>\n",
       "    </tr>\n",
       "  </tbody>\n",
       "</table>\n",
       "</div>"
      ],
      "text/plain": [
       "     abi ticker                         company  year state             city  \\\n",
       "0   7609   SODI            SOLITRON DEVICES INC  2003    FL  WEST PALM BEACH   \n",
       "1  23077    NaN                JENNY LEE BAKERY  2003    PA    MC KEES ROCKS   \n",
       "2  76547    NaN          MASTER PROTECTION CORP  2003    FL       FORT MYERS   \n",
       "3  77743    NaN  NATIONAL TECHNICAL SYSTEMS INC  2003    CA        CALABASAS   \n",
       "4  89151    NaN         HILLTOP BASIC RESOURCES  2003    OH       CINCINNATI   \n",
       "\n",
       "              address_line_1  zipcode  latitude  longitude  \\\n",
       "0   3301 ELECTRONICS WAY # C    33407  26.74120  -80.06694   \n",
       "1             620 ISLAND AVE    15136  40.47235  -80.06152   \n",
       "2  12800 UNIVERSITY DR # 400    33907  26.55504  -81.88423   \n",
       "3   24007 VENTURA BLVD # 200    91302  34.15562 -118.65163   \n",
       "4          1 W 4TH ST # 1100    45202  39.09982  -84.51297   \n",
       "\n",
       "   parent_employee_size_code  location_employee_size_code  employeesAtLocation  \n",
       "0                        NaN                          NaN                  NaN  \n",
       "1                       50.0                         50.0                  1.0  \n",
       "2                       20.0                         20.0                  1.0  \n",
       "3                       10.0                         10.0                  1.0  \n",
       "4                       20.0                         20.0                  1.0  "
      ]
     },
     "execution_count": 28,
     "metadata": {},
     "output_type": "execute_result"
    }
   ],
   "source": [
    "hq = pd.read_csv(\"../../data/ig_uniqueHQs_multLocations.csv\").\\\n",
    "    drop(columns = {'Unnamed: 0'}).\\\n",
    "    rename(columns = {'archive_version_year': 'year'})\n",
    "\n",
    "hq['year'] = hq.year.astype('int64')\n",
    "\n",
    "igChanges = changesABI.merge(hq)\n",
    "print(igChanges.shape, igChanges.head())\n",
    "\n",
    "\n",
    "hq.head()"
   ]
  },
  {
   "cell_type": "code",
   "execution_count": null,
   "metadata": {},
   "outputs": [],
   "source": [
    "igChanges.to_csv(\"../../data/companyData/igData.csv\")"
   ]
  },
  {
   "cell_type": "code",
   "execution_count": 29,
   "metadata": {},
   "outputs": [
    {
     "data": {
      "text/plain": [
       "Index(['gvkey', 'datadate', 'year', 'qtr', 'companyName', 'curcdq', 'assets',\n",
       "       'costGoodsSold', 'totalInv', 'netIncome', 'totalRevenue', 'cik',\n",
       "       'costat', 'add1', 'add2', 'addzip', 'sic', 'assetsLast',\n",
       "       'netIncomeLast', 'totalRevenueLast', 'costGoodsSoldLast',\n",
       "       'totalInvLast', 'incomeChange', 'revenueChange', 'costChange',\n",
       "       'inventoryChange', 'assetsPrev', 'assetsLagged', 'netIncomeLagged',\n",
       "       'roa_lagged', 'famafrench', 'sic2', 'indGroup', 'earliestYear',\n",
       "       'ageTercile', 'sizeTercile', 'profitTercile', 'datacqtr', 'datafqtr',\n",
       "       'fyr', 'DATE', 'cstatCompanies', 'igCompanies', 'delete', 'abi',\n",
       "       'ticker', 'company', 'state', 'city', 'address_line_1', 'zipcode',\n",
       "       'latitude', 'longitude', 'parent_employee_size_code',\n",
       "       'location_employee_size_code', 'employeesAtLocation'],\n",
       "      dtype='object')"
      ]
     },
     "execution_count": 29,
     "metadata": {},
     "output_type": "execute_result"
    }
   ],
   "source": [
    "igChanges.columns"
   ]
  },
  {
   "cell_type": "markdown",
   "metadata": {},
   "source": [
    "At this point, we have zip information in the following forms (from most to least examples):\n",
    "    - changes: all compustat companies, from the compustat address system\n",
    "    - igChanges: subset of compustat companies, from the ig merge\n",
    "    - subset of compustat companies that have SC information and survived the ig merge\n",
    "    \n",
    "We could potentially look at the subset of compustat companies for which we have SC information, usign the compustat address system as well.\n",
    "\n",
    "For now: follow similar trajectory as before but add in weather data for all cstat companies and all ig-merged companies.\n",
    "\n",
    "First: pull all zips that are mentioned in changes and igChanges and use this to get the weather data.\n",
    "\n"
   ]
  },
  {
   "cell_type": "code",
   "execution_count": 30,
   "metadata": {},
   "outputs": [],
   "source": [
    "changes = changes[(~changes.addzip.isna()) & (changes.addzip != 'nan')]\n",
    "relevantZips = changes.addzip.astype('int64').append(igChanges.zipcode).unique()\n",
    "\n",
    "changes.rename(columns = {'addzip': 'zipcode'}, inplace = True)\n",
    "changes.drop(columns = {'cik',\n",
    "     'datadate','costat', 'add1', 'add2', 'city', 'sic', 'state'}, inplace = True)"
   ]
  },
  {
   "cell_type": "code",
   "execution_count": 31,
   "metadata": {},
   "outputs": [
    {
     "data": {
      "text/plain": [
       "4538"
      ]
     },
     "execution_count": 31,
     "metadata": {},
     "output_type": "execute_result"
    }
   ],
   "source": [
    "len(relevantZips)"
   ]
  },
  {
   "cell_type": "code",
   "execution_count": null,
   "metadata": {},
   "outputs": [],
   "source": [
    "# relevantZips = allCustomerData.zipcode.append(allSupplierData.zipcode).unique()\n",
    "outfile =  '../../data/companyData/relevantZips.pkl'\n",
    "with open(outfile, 'wb') as pickle_file:\n",
    "    pkl.dump(relevantZips, pickle_file)"
   ]
  },
  {
   "cell_type": "markdown",
   "metadata": {},
   "source": [
    "------------------------------------------------"
   ]
  },
  {
   "cell_type": "markdown",
   "metadata": {},
   "source": [
    "# Stocks"
   ]
  },
  {
   "cell_type": "code",
   "execution_count": null,
   "metadata": {},
   "outputs": [],
   "source": [
    "igChanges = pd.read_csv(\"../../data/companyData/igData.csv\").\\\n",
    "    drop(columns = {'Unnamed: 0'})\n",
    "igChanges.head()"
   ]
  },
  {
   "cell_type": "code",
   "execution_count": null,
   "metadata": {},
   "outputs": [],
   "source": [
    "with open('../../data/stockReturns.pkl', 'rb') as f:\n",
    "    stocks = pkl.load(f)[['date','gvkey','RET']]"
   ]
  },
  {
   "cell_type": "code",
   "execution_count": null,
   "metadata": {
    "scrolled": true
   },
   "outputs": [],
   "source": [
    "stocks.head()"
   ]
  },
  {
   "cell_type": "code",
   "execution_count": null,
   "metadata": {},
   "outputs": [],
   "source": [
    "sum(stocks.gvkey.isna())"
   ]
  },
  {
   "cell_type": "code",
   "execution_count": null,
   "metadata": {},
   "outputs": [],
   "source": [
    "stocks = stocks[stocks.date.dt.year > 2008]\n",
    "\n",
    "stocks['qtr']  = stocks.date.dt.quarter\n",
    "stocks['year'] = stocks.date.dt.year\n",
    "\n",
    "stocks = stocks[~stocks.gvkey.isna()]\n",
    "stocks['gvkey'] = stocks['gvkey'].astype(int)\n",
    "stocks.shape"
   ]
  },
  {
   "cell_type": "code",
   "execution_count": null,
   "metadata": {},
   "outputs": [],
   "source": [
    "igChanges.columns"
   ]
  },
  {
   "cell_type": "code",
   "execution_count": null,
   "metadata": {},
   "outputs": [],
   "source": [
    "companyControls = igChanges[['gvkey','year','qtr','famafrench','ageTercile','sizeTercile','profitTercile','zipcode']]\n",
    "companyControls.head()"
   ]
  },
  {
   "cell_type": "code",
   "execution_count": null,
   "metadata": {},
   "outputs": [],
   "source": [
    "print(stocks.dtypes, companyControls.dtypes)"
   ]
  },
  {
   "cell_type": "code",
   "execution_count": null,
   "metadata": {},
   "outputs": [],
   "source": [
    "stocksWithControls = stocks.merge(companyControls)\n",
    "print(stocksWithControls.shape,stocks.shape,companyControls.shape)\n",
    "stocksWithControls.head()"
   ]
  },
  {
   "cell_type": "code",
   "execution_count": null,
   "metadata": {},
   "outputs": [],
   "source": [
    "del stocks\n",
    "del companyControls\n",
    "del igChanges\n",
    "gc.collect()"
   ]
  },
  {
   "cell_type": "code",
   "execution_count": null,
   "metadata": {},
   "outputs": [],
   "source": [
    "annualWeather = pd.read_csv(\"../../data/companyData/stockWeather_annual.csv\").\\\n",
    "    drop(columns = {'Unnamed: 0'})\n",
    "\n",
    "annualWeather = annualWeather[~annualWeather.temp_annualLast5.isna()].reset_index(drop = True)\n",
    "\n",
    "annualWeather['date'] = pd.to_datetime(annualWeather['date'],\n",
    "                                   format = \"%Y%m%d\")\n",
    "\n",
    "annualWeather.rename(columns = {'ZIP': 'zipcode'}, inplace = True)\n",
    "print(annualWeather.dtypes)\n",
    "annualWeather.head()"
   ]
  },
  {
   "cell_type": "code",
   "execution_count": null,
   "metadata": {
    "scrolled": true
   },
   "outputs": [],
   "source": [
    "allWeather = pd.read_csv(\"../../data/companyData/stockWeather_zipQuarterQuants.csv\").\\\n",
    "    drop(columns = {'Unnamed: 0'})\n",
    "\n",
    "allWeather = allWeather[~allWeather.temp_zipQuarterLast5.isna()].reset_index(drop = True)\n",
    "\n",
    "allWeather['date'] = pd.to_datetime(allWeather['date'],\n",
    "                                   format = \"%Y-%m-%d\")\n",
    "\n",
    "allWeather.rename(columns = {'ZIP': 'zipcode'}, inplace = True)\n",
    "print(allWeather.dtypes)\n",
    "allWeather.head()"
   ]
  },
  {
   "cell_type": "code",
   "execution_count": null,
   "metadata": {},
   "outputs": [],
   "source": [
    "stocksWithControlsWeather = stocksWithControls.merge(allWeather).merge(annualWeather)\n",
    "print(stocksWithControlsWeather.shape,allWeather.shape)\n",
    "\n",
    "stocksWithControlsWeather.head()"
   ]
  },
  {
   "cell_type": "code",
   "execution_count": null,
   "metadata": {},
   "outputs": [],
   "source": [
    "stocksWithControlsWeather.to_csv(\"../../data/companyData/stocksWithControlsWeather.csv\")"
   ]
  },
  {
   "cell_type": "code",
   "execution_count": null,
   "metadata": {},
   "outputs": [],
   "source": [
    "sum(stocksWithControlsWeather.RET.isna())"
   ]
  },
  {
   "cell_type": "code",
   "execution_count": null,
   "metadata": {},
   "outputs": [],
   "source": [
    "stocksWithControlsWeather = pd.read_csv(\"../../data/companyData/stocksWithControlsWeather.csv\").drop(columns = {'Unnamed: 0'})\n",
    "stocksWithControlsWeather.head()"
   ]
  },
  {
   "cell_type": "code",
   "execution_count": null,
   "metadata": {},
   "outputs": [],
   "source": [
    "sum(stocksWithControlsWeather.gvkey.isna())"
   ]
  },
  {
   "cell_type": "markdown",
   "metadata": {},
   "source": [
    "--------------------"
   ]
  },
  {
   "cell_type": "markdown",
   "metadata": {},
   "source": [
    "# Weather Data\n",
    "First do this on the HQ zipcodes."
   ]
  },
  {
   "cell_type": "code",
   "execution_count": null,
   "metadata": {},
   "outputs": [],
   "source": [
    "allWeather = pd.read_csv(\"../../data/companyData/revised_allWeatherBins_2009to2019.csv\").\\\n",
    "    drop(columns = {\"Unnamed: 0\"})\n",
    "\n",
    "allWeather['yearQtr'] = allWeather.year + (allWeather.qtr - 1)/4\n",
    "\n",
    "col = allWeather.pop(\"yearQtr\")\n",
    "allWeather.insert(0, col.name, col)\n",
    "\n",
    "lag1 = allWeather.copy()\n",
    "lag1['yearQtr'] += 0.25\n",
    "for colname in lag1.columns[4:]:\n",
    "    lag1.rename(columns = {colname: 'lag1_' + colname}, inplace = True)\n",
    "lag1.drop(columns = {'year','qtr'},inplace = True)\n",
    "\n",
    "    \n",
    "lag2 = allWeather.copy()\n",
    "lag2['yearQtr'] += 0.5\n",
    "for colname in lag2.columns[4:]:\n",
    "    lag2.rename(columns = {colname: 'lag2_' + colname}, inplace = True)\n",
    "lag2.drop(columns = {'year','qtr'},inplace = True)\n",
    "\n",
    "\n",
    "lag3 = allWeather.copy()\n",
    "lag3['yearQtr'] += 0.75\n",
    "for colname in lag3.columns[4:]:\n",
    "    lag3.rename(columns = {colname: 'lag3_' + colname}, inplace = True)\n",
    "lag3.drop(columns = {'year','qtr'},inplace = True)\n",
    "\n",
    "\n",
    "lag4 = allWeather.copy()\n",
    "lag4['yearQtr'] += 1\n",
    "for colname in lag4.columns[4:]:\n",
    "    lag4.rename(columns = {colname: 'lag4_' + colname}, inplace = True)\n",
    "lag4.drop(columns = {'year','qtr'},inplace = True)\n",
    "\n",
    "\n",
    "print(allWeather.shape)\n",
    "\n",
    "allWeather_withLags = allWeather.merge(lag1).merge(lag2).merge(lag3).merge(lag4)\n",
    "\n",
    "print(allWeather_withLags.year.value_counts())\n",
    "\n",
    "allWeather_withLags.to_csv(\"../../data/companyData/allWeather_withLags.csv\")"
   ]
  },
  {
   "cell_type": "markdown",
   "metadata": {},
   "source": [
    "Do this across all zips, for the establishment records. We'll put this into a different format right after, and then change the columns and whatnot."
   ]
  },
  {
   "cell_type": "code",
   "execution_count": null,
   "metadata": {},
   "outputs": [],
   "source": [
    "allWeather = pd.read_csv(\"../../data/companyData/revised_allWeatherBins_2009to2019_allZips.csv\").\\\n",
    "    drop(columns = {\"Unnamed: 0\", 'Unnamed: 0.1'})\n",
    "\n",
    "allWeather['yearQtr'] = allWeather.year + (allWeather.qtr - 1)/4\n",
    "\n",
    "col = allWeather.pop(\"yearQtr\")\n",
    "allWeather.insert(0, col.name, col)\n",
    "\n",
    "lag1 = allWeather.copy()\n",
    "lag1['yearQtr'] += 0.25\n",
    "for colname in lag1.columns[4:]:\n",
    "    lag1.rename(columns = {colname: 'lag1_' + colname}, inplace = True)\n",
    "lag1.drop(columns = {'year','qtr'},inplace = True)\n",
    "\n",
    "    \n",
    "lag2 = allWeather.copy()\n",
    "lag2['yearQtr'] += 0.5\n",
    "for colname in lag2.columns[4:]:\n",
    "    lag2.rename(columns = {colname: 'lag2_' + colname}, inplace = True)\n",
    "lag2.drop(columns = {'year','qtr'},inplace = True)\n",
    "\n",
    "\n",
    "lag3 = allWeather.copy()\n",
    "lag3['yearQtr'] += 0.75\n",
    "for colname in lag3.columns[4:]:\n",
    "    lag3.rename(columns = {colname: 'lag3_' + colname}, inplace = True)\n",
    "lag3.drop(columns = {'year','qtr'},inplace = True)\n",
    "\n",
    "\n",
    "lag4 = allWeather.copy()\n",
    "lag4['yearQtr'] += 1\n",
    "for colname in lag4.columns[4:]:\n",
    "    lag4.rename(columns = {colname: 'lag4_' + colname}, inplace = True)\n",
    "lag4.drop(columns = {'year','qtr'},inplace = True)\n",
    "\n",
    "\n",
    "print(allWeather.shape)\n",
    "\n",
    "allWeather_withLags = allWeather.merge(lag1).merge(lag2).merge(lag3).merge(lag4)\n",
    "\n",
    "print(allWeather_withLags.year.value_counts())\n",
    "\n",
    "allWeather_withLags.to_csv(\"../../data/companyData/allWeather_withLags_allZips.csv\")"
   ]
  },
  {
   "cell_type": "markdown",
   "metadata": {},
   "source": [
    "Add in the few new definitions we've started on here: bins by week/month/quarter, and days 90+."
   ]
  },
  {
   "cell_type": "code",
   "execution_count": 5,
   "metadata": {},
   "outputs": [
    {
     "name": "stdout",
     "output_type": "stream",
     "text": [
      "(1436864, 30)\n",
      "2010    130624\n",
      "2011    130624\n",
      "2012    130624\n",
      "2013    130624\n",
      "2014    130624\n",
      "2015    130624\n",
      "2016    130624\n",
      "2017    130624\n",
      "2018    130624\n",
      "2019    130624\n",
      "Name: year, dtype: int64\n"
     ]
    }
   ],
   "source": [
    "allWeather = pd.read_csv(\"../../data/companyData/latestExtremes.csv\").\\\n",
    "    drop(columns = {\"Unnamed: 0\"})\n",
    "allWeather.rename(columns = {'quarter': 'qtr'}, inplace = True)\n",
    "\n",
    "allWeather['yearQtr'] = allWeather.year + (allWeather.qtr - 1)/4\n",
    "\n",
    "col = allWeather.pop(\"yearQtr\")\n",
    "allWeather.insert(0, col.name, col)\n",
    "\n",
    "lag1 = allWeather.copy()\n",
    "lag1['yearQtr'] += 0.25\n",
    "for colname in lag1.columns[4:]:\n",
    "    lag1.rename(columns = {colname: 'lag1_' + colname}, inplace = True)\n",
    "lag1.drop(columns = {'year','qtr'},inplace = True)\n",
    "\n",
    "    \n",
    "lag2 = allWeather.copy()\n",
    "lag2['yearQtr'] += 0.5\n",
    "for colname in lag2.columns[4:]:\n",
    "    lag2.rename(columns = {colname: 'lag2_' + colname}, inplace = True)\n",
    "lag2.drop(columns = {'year','qtr'},inplace = True)\n",
    "\n",
    "\n",
    "lag3 = allWeather.copy()\n",
    "lag3['yearQtr'] += 0.75\n",
    "for colname in lag3.columns[4:]:\n",
    "    lag3.rename(columns = {colname: 'lag3_' + colname}, inplace = True)\n",
    "lag3.drop(columns = {'year','qtr'},inplace = True)\n",
    "\n",
    "\n",
    "lag4 = allWeather.copy()\n",
    "lag4['yearQtr'] += 1\n",
    "for colname in lag4.columns[4:]:\n",
    "    lag4.rename(columns = {colname: 'lag4_' + colname}, inplace = True)\n",
    "lag4.drop(columns = {'year','qtr'},inplace = True)\n",
    "\n",
    "\n",
    "print(allWeather.shape)\n",
    "\n",
    "allWeather_withLags = allWeather.merge(lag1).merge(lag2).merge(lag3).merge(lag4)\n",
    "\n",
    "print(allWeather_withLags.year.value_counts())\n",
    "\n",
    "allWeather_withLags.to_csv(\"../../data/companyData/allWeather_withLags_new.csv\")"
   ]
  },
  {
   "cell_type": "markdown",
   "metadata": {},
   "source": [
    "Now do the same for the industry-specific weather."
   ]
  },
  {
   "cell_type": "code",
   "execution_count": null,
   "metadata": {},
   "outputs": [],
   "source": [
    "# allWeather = pd.read_csv(\"../../../../../../../Volumes/backup2/dissData/prism/allWeatherBins_2010.2019.csv\").\\\n",
    "allWeather_byInd = pd.read_csv(\"../../data/companyData/revised_allWeatherBins_2009to2019_byInd.csv\").\\\n",
    "    drop(columns = {\"Unnamed: 0\"})\n",
    "'''[['famafrench','zipcode','yearQuarter', \n",
    "                                    'temp_ffquant_0.95','temp_indQuarterquant_0.95',\n",
    "                                   'temp5Days_ffquant_0.95', 'temp5Days_indQuarterquant_0.95',\n",
    "                                   'precip_ffquant_0.95', 'precip_indQuarterquant_0.95',\n",
    "                                   'precip5Days_ffquant_0.95', 'precip5Days_indQuarterquant_0.95']]\n",
    "'''\n",
    "allWeather_byInd['year'] = allWeather_byInd.yearQuarter.str.slice(0,4).astype('int64')\n",
    "allWeather_byInd['qtr']  = allWeather_byInd.yearQuarter.str.slice(5,6).astype('int64')\n",
    "allWeather_byInd['yearQtr'] = allWeather_byInd.year + (allWeather_byInd.qtr - 1)/4\n",
    "\n",
    "allWeather_byInd = allWeather_byInd.astype({'year':       'category',\n",
    "                         'qtr':        'category',\n",
    "                         'zipcode':    'category',\n",
    "                         'famafrench': 'category'})\n",
    "\n",
    "changes['zipcode'] = changes['zipcode'].astype({'zipcode': 'int64'})\n",
    "\n",
    "changes = changes.astype({'year':       'category',\n",
    "                          'qtr':        'category',\n",
    "                          'zipcode':    'category',\n",
    "                          'famafrench': 'category'})\n",
    "\n",
    "col = allWeather_byInd.pop(\"year\")\n",
    "allWeather_byInd.insert(0, col.name, col)\n",
    "\n",
    "col = allWeather_byInd.pop(\"qtr\")\n",
    "allWeather_byInd.insert(0, col.name, col)\n",
    "\n",
    "\n",
    "col = allWeather_byInd.pop(\"yearQtr\")\n",
    "allWeather_byInd.insert(0, col.name, col)\n",
    "\n",
    "allWeather_byInd.drop(columns = {'yearQuarter'}, inplace = True)\n",
    "\n",
    "print(allWeather_byInd.head())"
   ]
  },
  {
   "cell_type": "code",
   "execution_count": null,
   "metadata": {},
   "outputs": [],
   "source": [
    "lag1 = allWeather_byInd.copy()\n",
    "lag1['yearQtr'] += 0.25\n",
    "for colname in lag1.columns[5:]:\n",
    "    lag1.rename(columns = {colname: 'lag1_' + colname}, inplace = True)\n",
    "lag1.drop(columns = {'year','qtr'},inplace = True)\n",
    "lag1 = lag1.astype({'yearQtr':       'category'})\n",
    "\n",
    "    \n",
    "lag2 = allWeather_byInd.copy()\n",
    "lag2['yearQtr'] += 0.5\n",
    "for colname in lag2.columns[5:]:\n",
    "    lag2.rename(columns = {colname: 'lag2_' + colname}, inplace = True)\n",
    "lag2.drop(columns = {'year','qtr'},inplace = True)\n",
    "lag2 = lag2.astype({'yearQtr':       'category'})\n",
    "\n",
    "\n",
    "lag3 = allWeather_byInd.copy()\n",
    "lag3['yearQtr'] += 0.75\n",
    "for colname in lag3.columns[5:]:\n",
    "    lag3.rename(columns = {colname: 'lag3_' + colname}, inplace = True)\n",
    "lag3.drop(columns = {'year','qtr'},inplace = True)\n",
    "lag3 = lag3.astype({'yearQtr':       'category'})\n",
    "\n",
    "\n",
    "lag4 = allWeather_byInd.copy()\n",
    "lag4['yearQtr'] += 1\n",
    "for colname in lag4.columns[5:]:\n",
    "    lag4.rename(columns = {colname: 'lag4_' + colname}, inplace = True)\n",
    "lag4.drop(columns = {'year','qtr'},inplace = True)\n",
    "lag4 = lag4.astype({'yearQtr':       'category'})\n",
    "\n",
    "\n",
    "allWeather_byInd = allWeather_byInd.astype({'yearQtr':       'category'})\n",
    "\n",
    "\n",
    "print(allWeather_byInd.shape)\n",
    "\n",
    "\n",
    "allWeather_byInd.head()\n",
    "\n",
    "\n",
    "'''allWeather_byInd_withLags = allWeather_byInd.merge(lag1).merge(lag2).merge(lag3).merge(lag4)\n",
    "\n",
    "allWeather_byInd_withLags.year.value_counts()\n",
    "'''"
   ]
  },
  {
   "cell_type": "code",
   "execution_count": null,
   "metadata": {},
   "outputs": [],
   "source": [
    "allWeather_byInd_withLags = allWeather_byInd.merge(lag1).merge(lag2).merge(lag3).merge(lag4)"
   ]
  },
  {
   "cell_type": "code",
   "execution_count": null,
   "metadata": {},
   "outputs": [],
   "source": [
    "allWeather_byInd_withLags.shape"
   ]
  },
  {
   "cell_type": "code",
   "execution_count": null,
   "metadata": {},
   "outputs": [],
   "source": [
    "allWeather_byInd_withLags.to_csv(\"../../data/companyData/allWeather_byInd_withLags.csv\")"
   ]
  },
  {
   "cell_type": "code",
   "execution_count": null,
   "metadata": {},
   "outputs": [],
   "source": [
    "del allWeather_byInd\n",
    "del lag1\n",
    "del lag2\n",
    "del lag3\n",
    "del lag4\n",
    "gc.collect()"
   ]
  },
  {
   "cell_type": "code",
   "execution_count": null,
   "metadata": {},
   "outputs": [],
   "source": [
    "allWeather_byInd_withLags = pd.read_csv(\"../../data/companyData/allWeather_byInd_withLags.csv\")\n",
    "allWeather_byInd_withLags.head()"
   ]
  },
  {
   "cell_type": "markdown",
   "metadata": {},
   "source": [
    "Now get the streak data. Make sure it's 0/1 for whether there was a streak."
   ]
  },
  {
   "cell_type": "code",
   "execution_count": null,
   "metadata": {},
   "outputs": [],
   "source": [
    "allWeather = pd.read_csv(\"../../data/companyData/stockWeather_zipQuarterQuants.csv\").\\\n",
    "    drop(columns = {'Unnamed: 0'})\n",
    "\n",
    "allWeather = allWeather[~allWeather.temp_zipQuarterLast5.isna()].reset_index(drop = True)\n",
    "\n",
    "allWeather['date'] = pd.to_datetime(allWeather['date'],\n",
    "                                   format = \"%Y-%m-%d\")\n",
    "\n",
    "allWeather['hotStreak']   = (allWeather['temp_zipQuarterLast5'] == 5)*1\n",
    "allWeather['wetStreak'] = (allWeather['precip_zipQuarterLast5'] == 5)*1\n",
    "\n",
    "allWeather.rename(columns = {'ZIP': 'zipcode'}, inplace = True)\n",
    "print(allWeather.dtypes)\n",
    "\n",
    "allWeather['year'] = allWeather.date.dt.year\n",
    "allWeather['quarter'] = allWeather.date.dt.quarter\n",
    "\n",
    "\n",
    "allWeather.drop(columns = {'date','temp_zipQuarterLast5','precip_zipQuarterLast5'}, inplace = True)\n",
    "\n",
    "streaks = allWeather.groupby(['zipcode','year','quarter']).sum().reset_index()\n",
    "\n",
    "streaks['hotStreak'] = (streaks['hotStreak'] > 0)*1\n",
    "streaks['wetStreak'] = (streaks['wetStreak'] > 0)*1\n",
    "\n",
    "streaks.rename(columns = {'quarter': 'qtr'}, inplace = True)\n",
    "streaks.head()\n"
   ]
  },
  {
   "cell_type": "code",
   "execution_count": null,
   "metadata": {},
   "outputs": [],
   "source": [
    "streaks['yearQtr'] = streaks.year + (streaks.qtr - 1)/4\n",
    "\n",
    "col = streaks.pop(\"yearQtr\")\n",
    "streaks.insert(0, col.name, col)\n",
    "\n",
    "lag1 = streaks.copy()\n",
    "lag1['yearQtr'] += 0.25\n",
    "for colname in lag1.columns[4:]:\n",
    "    lag1.rename(columns = {colname: 'lag1_' + colname}, inplace = True)\n",
    "lag1.drop(columns = {'year','qtr'},inplace = True)\n",
    "\n",
    "    \n",
    "lag2 = streaks.copy()\n",
    "lag2['yearQtr'] += 0.5\n",
    "for colname in lag2.columns[4:]:\n",
    "    lag2.rename(columns = {colname: 'lag2_' + colname}, inplace = True)\n",
    "lag2.drop(columns = {'year','qtr'},inplace = True)\n",
    "\n",
    "\n",
    "lag3 = streaks.copy()\n",
    "lag3['yearQtr'] += 0.75\n",
    "for colname in lag3.columns[4:]:\n",
    "    lag3.rename(columns = {colname: 'lag3_' + colname}, inplace = True)\n",
    "lag3.drop(columns = {'year','qtr'},inplace = True)\n",
    "\n",
    "\n",
    "lag4 = streaks.copy()\n",
    "lag4['yearQtr'] += 1\n",
    "for colname in lag4.columns[4:]:\n",
    "    lag4.rename(columns = {colname: 'lag4_' + colname}, inplace = True)\n",
    "lag4.drop(columns = {'year','qtr'},inplace = True)\n",
    "\n",
    "\n",
    "print(streaks.shape)\n",
    "\n",
    "streaks_withLags = streaks.merge(lag1).merge(lag2).merge(lag3).merge(lag4)\n",
    "\n",
    "print(streaks_withLags.year.value_counts())\n",
    "\n",
    "streaks_withLags.to_csv(\"../../data/companyData/streaks_withLags.csv\")"
   ]
  },
  {
   "cell_type": "code",
   "execution_count": null,
   "metadata": {},
   "outputs": [],
   "source": [
    "streaks_withLags.head()"
   ]
  },
  {
   "cell_type": "markdown",
   "metadata": {},
   "source": [
    "# Locations\n",
    "Create a separate definition of weather based not on HQ but on employee-weighted establishment footprint."
   ]
  },
  {
   "cell_type": "code",
   "execution_count": 3,
   "metadata": {},
   "outputs": [
    {
     "name": "stdout",
     "output_type": "stream",
     "text": [
      "0       402180222\n",
      "1       397759739\n",
      "2       400700704\n",
      "3       218548014\n",
      "4       441435880\n",
      "          ...    \n",
      "8394    432764101\n",
      "8395    416920671\n",
      "8396    739118540\n",
      "8397    227688843\n",
      "8398    488766353\n",
      "Name: abi, Length: 8399, dtype: int64\n"
     ]
    },
    {
     "data": {
      "text/html": [
       "<div>\n",
       "<style scoped>\n",
       "    .dataframe tbody tr th:only-of-type {\n",
       "        vertical-align: middle;\n",
       "    }\n",
       "\n",
       "    .dataframe tbody tr th {\n",
       "        vertical-align: top;\n",
       "    }\n",
       "\n",
       "    .dataframe thead th {\n",
       "        text-align: right;\n",
       "    }\n",
       "</style>\n",
       "<table border=\"1\" class=\"dataframe\">\n",
       "  <thead>\n",
       "    <tr style=\"text-align: right;\">\n",
       "      <th></th>\n",
       "      <th>year</th>\n",
       "      <th>abi</th>\n",
       "      <th>zipcode</th>\n",
       "      <th>locationFracOfEmployees</th>\n",
       "      <th>gvkey</th>\n",
       "    </tr>\n",
       "  </thead>\n",
       "  <tbody>\n",
       "    <tr>\n",
       "      <th>0</th>\n",
       "      <td>2003</td>\n",
       "      <td>100537</td>\n",
       "      <td>24541</td>\n",
       "      <td>0.047704</td>\n",
       "      <td>3937</td>\n",
       "    </tr>\n",
       "    <tr>\n",
       "      <th>1</th>\n",
       "      <td>2003</td>\n",
       "      <td>100537</td>\n",
       "      <td>24540</td>\n",
       "      <td>0.572451</td>\n",
       "      <td>3937</td>\n",
       "    </tr>\n",
       "    <tr>\n",
       "      <th>2</th>\n",
       "      <td>2003</td>\n",
       "      <td>100537</td>\n",
       "      <td>27828</td>\n",
       "      <td>0.357782</td>\n",
       "      <td>3937</td>\n",
       "    </tr>\n",
       "    <tr>\n",
       "      <th>3</th>\n",
       "      <td>2003</td>\n",
       "      <td>100537</td>\n",
       "      <td>27804</td>\n",
       "      <td>0.017889</td>\n",
       "      <td>3937</td>\n",
       "    </tr>\n",
       "    <tr>\n",
       "      <th>4</th>\n",
       "      <td>2003</td>\n",
       "      <td>100537</td>\n",
       "      <td>27834</td>\n",
       "      <td>0.001789</td>\n",
       "      <td>3937</td>\n",
       "    </tr>\n",
       "  </tbody>\n",
       "</table>\n",
       "</div>"
      ],
      "text/plain": [
       "   year     abi zipcode  locationFracOfEmployees  gvkey\n",
       "0  2003  100537   24541                 0.047704   3937\n",
       "1  2003  100537   24540                 0.572451   3937\n",
       "2  2003  100537   27828                 0.357782   3937\n",
       "3  2003  100537   27804                 0.017889   3937\n",
       "4  2003  100537   27834                 0.001789   3937"
      ]
     },
     "execution_count": 3,
     "metadata": {},
     "output_type": "execute_result"
    }
   ],
   "source": [
    "fractions = pd.read_csv('../../data/companyData/fractionEmployees_byEstablishment.csv').\\\n",
    "    drop(columns = {\"Unnamed: 0\", 'latitude','longitude'}).rename(columns = {'archive_version_year': 'year',\n",
    "                                                    'parent_number': 'abi'})\n",
    "\n",
    "fractions['year']    = fractions.year.astype('int64')\n",
    "fractions['zipcode'] = fractions.zipcode.astype('int64')\n",
    "fractions.head()\n",
    "\n",
    "gvKey_abiLinkingTable = pd.read_csv('../../data/companyData/linkingTable.csv').drop(columns = ['Unnamed: 0'])\n",
    "\n",
    "print(gvKey_abiLinkingTable.abi)\n",
    "\n",
    "gvKey_abiLinkingTable.head()\n",
    "\n",
    "fractions = fractions[['year','abi','zipcode','locationFracOfEmployees']].merge(gvKey_abiLinkingTable[['abi','gvkey']])\n",
    "\n",
    "fractions = fractions.astype({'year':       'category',\n",
    "                           'zipcode':    'category'})\n",
    "\n",
    "fractions.head()"
   ]
  },
  {
   "cell_type": "code",
   "execution_count": 6,
   "metadata": {},
   "outputs": [
    {
     "data": {
      "text/plain": [
       "0           2003\n",
       "1           2003\n",
       "2           2003\n",
       "3           2003\n",
       "4           2003\n",
       "            ... \n",
       "14770031    2021\n",
       "14770032    2021\n",
       "14770033    2021\n",
       "14770034    2021\n",
       "14770035    2021\n",
       "Name: year, Length: 14770036, dtype: category\n",
       "Categories (19, int64): [2003, 2004, 2005, 2006, ..., 2018, 2019, 2020, 2021]"
      ]
     },
     "execution_count": 6,
     "metadata": {},
     "output_type": "execute_result"
    }
   ],
   "source": [
    "fractions.year"
   ]
  },
  {
   "cell_type": "code",
   "execution_count": 29,
   "metadata": {},
   "outputs": [
    {
     "name": "stderr",
     "output_type": "stream",
     "text": [
      "/Users/brianreed/opt/anaconda3/lib/python3.7/site-packages/ipykernel_launcher.py:2: SettingWithCopyWarning: \n",
      "A value is trying to be set on a copy of a slice from a DataFrame.\n",
      "Try using .loc[row_indexer,col_indexer] = value instead\n",
      "\n",
      "See the caveats in the documentation: https://pandas.pydata.org/pandas-docs/stable/user_guide/indexing.html#returning-a-view-versus-a-copy\n",
      "  \n"
     ]
    },
    {
     "name": "stdout",
     "output_type": "stream",
     "text": [
      "(9065033, 4)\n"
     ]
    }
   ],
   "source": [
    "fractions_byZip = fractions[['gvkey','year','zipcode','locationFracOfEmployees']]\n",
    "fractions_byZip['year'] =  fractions_byZip['year'].astype('int64')\n",
    "\n",
    "fractions_byZip = fractions_byZip[(fractions_byZip.year > 2008) & (fractions_byZip.year < 2020)]\n",
    "\n",
    "print(fractions_byZip.shape)\n",
    "\n",
    "fractions_byZip.to_csv(\"../../data/companyData/fractions_byZip.csv\")"
   ]
  },
  {
   "cell_type": "code",
   "execution_count": null,
   "metadata": {},
   "outputs": [],
   "source": [
    "fractionsWithWeather = fractions.merge(allWeather_withLags_allZips) \n",
    "fractionsWithWeather.drop(columns = {'abi','zipcode'}, inplace = True)\n",
    "\n",
    "print(fractionsWithWeather.shape)\n",
    "fractionsWithWeather.head()"
   ]
  },
  {
   "cell_type": "code",
   "execution_count": null,
   "metadata": {},
   "outputs": [],
   "source": [
    "fractionsWithWeather[fractionsWithWeather.gvkey == 1004]"
   ]
  },
  {
   "cell_type": "code",
   "execution_count": null,
   "metadata": {},
   "outputs": [],
   "source": [
    "del allWeather_withLags\n",
    "del fractions\n",
    "del gvKey_abiLinkingTable\n",
    "gc.collect()"
   ]
  },
  {
   "cell_type": "code",
   "execution_count": null,
   "metadata": {},
   "outputs": [],
   "source": [
    "for col in fractionsWithWeather.columns[4:]:\n",
    "    fractionsWithWeather[col] = fractionsWithWeather[col] * fractionsWithWeather.locationFracOfEmployees"
   ]
  },
  {
   "cell_type": "code",
   "execution_count": null,
   "metadata": {},
   "outputs": [],
   "source": [
    "g = fractionsWithWeather.groupby(['gvkey','year','qtr']).sum().reset_index()\n",
    "g.drop(columns = {'locationFracOfEmployees'}, inplace = True)\n",
    "\n",
    "for colname in g.columns[3:]:\n",
    "    g.rename(columns = {colname: 'empWt_' + colname}, inplace = True)\n",
    "\n",
    "g.head()"
   ]
  },
  {
   "cell_type": "code",
   "execution_count": null,
   "metadata": {},
   "outputs": [],
   "source": [
    "g.to_csv(\"../../data/companyData/weatherByEstablishment.csv\")"
   ]
  },
  {
   "cell_type": "code",
   "execution_count": null,
   "metadata": {},
   "outputs": [],
   "source": [
    "establishmentZips = fractions.zipcode.unique()\n",
    "len(establishmentZips)"
   ]
  },
  {
   "cell_type": "markdown",
   "metadata": {},
   "source": [
    "## create the original weather with lags dataset"
   ]
  },
  {
   "cell_type": "code",
   "execution_count": 8,
   "metadata": {},
   "outputs": [],
   "source": [
    "streaks_withLags = pd.read_csv(\"../../data/companyData/streaks_withLags.csv\").\\\n",
    "    drop(columns = {'Unnamed: 0', 'yearQtr'})\n",
    "\n",
    "g = pd.read_csv(\"../../data/companyData/weatherByEstablishment.csv\").\\\n",
    "    drop(columns = {\"Unnamed: 0\"})\n",
    "\n",
    "allWeather_withLags = pd.read_csv(\"../../data/companyData/allWeather_withLags.csv\").\\\n",
    "    drop(columns = {\"Unnamed: 0\", 'yearQtr'})\n",
    "\n",
    "averages = pd.read_csv(\"../../data/companyData/quarterlyStatsByZip.csv\").\\\n",
    "    drop(columns = {\"Unnamed: 0\"}).rename(columns = {'ZIP': 'zipcode'})\n",
    "\n",
    "allWeather_withLags2 = pd.read_csv(\"../../data/companyData/allWeather_withLags_new.csv\").\\\n",
    "    drop(columns = {\"Unnamed: 0\", 'yearQtr'})\n",
    "\n",
    "\n",
    "averages['qtr'] = averages.quarter.str.slice(1,2).astype('float')\n",
    "averages.drop(columns = {'quarter'}, inplace = True) \n",
    "\n",
    "\n",
    "\n",
    "streaks_withLags          = streaks_withLags.astype({'year':       'category',\n",
    "                           'qtr':        'category',\n",
    "                           'zipcode':    'category'})\n",
    "\n",
    "allWeather_withLags       = allWeather_withLags.astype({'year':       'category',\n",
    "                           'qtr':        'category',\n",
    "                           'zipcode':    'category'})\n",
    "\n",
    "allWeather_withLags2      = allWeather_withLags2.astype({'year':       'category',\n",
    "                           'qtr':        'category',\n",
    "                           'zipcode':    'category'})\n",
    "\n",
    "averages                  = averages.astype({'qtr':        'category',\n",
    "                           'zipcode':    'category'})\n",
    "\n",
    "allWeather_byInd_withLags = pd.read_csv(\"../../data/companyData/allWeather_byInd_withLags.csv\").\\\n",
    "    drop(columns = {\"Unnamed: 0\", 'yearQtr'})\n",
    "\n",
    "allWeather_byInd_withLags = allWeather_byInd_withLags.astype({'year':       'category',\n",
    "                           'qtr':        'category',\n",
    "                           'zipcode':    'category'})"
   ]
  },
  {
   "cell_type": "markdown",
   "metadata": {},
   "source": [
    "Create direct effects database. Merge weather to full cstat database."
   ]
  },
  {
   "cell_type": "code",
   "execution_count": 9,
   "metadata": {},
   "outputs": [
    {
     "data": {
      "text/plain": [
       "0          1001\n",
       "1          1001\n",
       "2          1001\n",
       "3          1001\n",
       "4          1001\n",
       "          ...  \n",
       "167715    99403\n",
       "167716    99403\n",
       "167717    99403\n",
       "167718    99403\n",
       "167719    99403\n",
       "Name: zipcode, Length: 167720, dtype: category\n",
       "Categories (4193, int64): [1001, 1013, 1085, 1089, ..., 99352, 99354, 99362, 99403]"
      ]
     },
     "execution_count": 9,
     "metadata": {},
     "output_type": "execute_result"
    }
   ],
   "source": [
    "allWeather_withLags.zipcode"
   ]
  },
  {
   "cell_type": "code",
   "execution_count": 39,
   "metadata": {},
   "outputs": [
    {
     "ename": "NameError",
     "evalue": "name 'changes' is not defined",
     "output_type": "error",
     "traceback": [
      "\u001b[0;31m-----------------------------------------------------\u001b[0m",
      "\u001b[0;31mNameError\u001b[0m           Traceback (most recent call last)",
      "\u001b[0;32m<ipython-input-39-57bba0ff6825>\u001b[0m in \u001b[0;36m<module>\u001b[0;34m\u001b[0m\n\u001b[0;32m----> 1\u001b[0;31m \u001b[0mchanges\u001b[0m\u001b[0;34m.\u001b[0m\u001b[0mzipcode\u001b[0m \u001b[0;34m=\u001b[0m \u001b[0mchanges\u001b[0m\u001b[0;34m.\u001b[0m\u001b[0mzipcode\u001b[0m\u001b[0;34m.\u001b[0m\u001b[0mastype\u001b[0m\u001b[0;34m(\u001b[0m\u001b[0;34m'int64'\u001b[0m\u001b[0;34m)\u001b[0m\u001b[0;34m\u001b[0m\u001b[0;34m\u001b[0m\u001b[0m\n\u001b[0m",
      "\u001b[0;31mNameError\u001b[0m: name 'changes' is not defined"
     ]
    }
   ],
   "source": [
    "changes.zipcode = changes.zipcode.astype('int64')"
   ]
  },
  {
   "cell_type": "code",
   "execution_count": null,
   "metadata": {},
   "outputs": [],
   "source": [
    "changes.columns"
   ]
  },
  {
   "cell_type": "code",
   "execution_count": 34,
   "metadata": {},
   "outputs": [
    {
     "name": "stdout",
     "output_type": "stream",
     "text": [
      "(487582, 35) (128974, 691)\n"
     ]
    }
   ],
   "source": [
    "# changes['zipcode']  = changes['zipcode'].astype('int64')\n",
    "changesWithWeather = changes.merge(allWeather_withLags).merge(allWeather_byInd_withLags).merge(averages).merge(g)\n",
    "print(changes.shape,changesWithWeather.shape)"
   ]
  },
  {
   "cell_type": "code",
   "execution_count": 37,
   "metadata": {},
   "outputs": [
    {
     "data": {
      "text/plain": [
       "manu                  46143\n",
       "finance               34732\n",
       "services              20316\n",
       "transportUtilities    10126\n",
       "mining                 7175\n",
       "retail                 4294\n",
       "wholesale              3810\n",
       "construction           1462\n",
       "agForFish               298\n",
       "Name: indGroup, dtype: int64"
      ]
     },
     "execution_count": 37,
     "metadata": {},
     "output_type": "execute_result"
    }
   ],
   "source": [
    "changesWithWeather.indGroup.value_counts()"
   ]
  },
  {
   "cell_type": "code",
   "execution_count": 38,
   "metadata": {},
   "outputs": [
    {
     "name": "stdout",
     "output_type": "stream",
     "text": [
      "14    304\n",
      "31    301\n",
      "17    251\n",
      "75    251\n",
      "40    185\n",
      "72    183\n",
      "1     154\n",
      "52    133\n",
      "57    127\n",
      "46    102\n",
      "21     90\n",
      "83     73\n",
      "7      70\n",
      "56     61\n",
      "8      55\n",
      "53     48\n",
      "41     37\n",
      "81     36\n",
      "2      19\n",
      "Name: sic2, dtype: int64\n"
     ]
    }
   ],
   "source": [
    "print(changesWithWeather.sic2.value_counts()[50:85])"
   ]
  },
  {
   "cell_type": "code",
   "execution_count": null,
   "metadata": {},
   "outputs": [],
   "source": [
    "changesWithWeather.to_csv(\"../../data/companyData/cstatWithWeather.csv\")"
   ]
  },
  {
   "cell_type": "markdown",
   "metadata": {},
   "source": [
    "Merge weather to the ig-cstat database."
   ]
  },
  {
   "cell_type": "code",
   "execution_count": 11,
   "metadata": {},
   "outputs": [
    {
     "name": "stderr",
     "output_type": "stream",
     "text": [
      "/Users/brianreed/opt/anaconda3/lib/python3.7/site-packages/IPython/core/interactiveshell.py:3326: DtypeWarning: Columns (15) have mixed types.Specify dtype option on import or set low_memory=False.\n",
      "  exec(code_obj, self.user_global_ns, self.user_ns)\n"
     ]
    },
    {
     "name": "stdout",
     "output_type": "stream",
     "text": [
      "(241835, 53)\n",
      "(134423, 54)\n"
     ]
    }
   ],
   "source": [
    "igChanges = pd.read_csv(\"../../data/companyData/igData.csv\").drop(columns = {'Unnamed: 0', \n",
    "        'parent_employee_size_code', 'location_employee_size_code', 'employeesAtLocation'})\n",
    "\n",
    "fractions_byZip = pd.read_csv(\"../../data/companyData/fractions_byZip.csv\").drop(columns = {'Unnamed: 0'})\n",
    "fractions_byZip = fractions_byZip[fractions_byZip.gvkey.isin(list(igChanges.gvkey.unique())) & \\\n",
    "                                  fractions_byZip.zipcode.isin(list(igChanges.zipcode.unique())) ]\n",
    "\n",
    "fractions_byZip = fractions_byZip.groupby(['year','zipcode','gvkey']).sum().reset_index()\n",
    "\n",
    "print(igChanges.shape)\n",
    "\n",
    "igChanges = igChanges.merge(fractions_byZip)\n",
    "\n",
    "print(igChanges.shape)"
   ]
  },
  {
   "cell_type": "code",
   "execution_count": 31,
   "metadata": {},
   "outputs": [
    {
     "data": {
      "text/plain": [
       "(1763315, 4)"
      ]
     },
     "execution_count": 31,
     "metadata": {},
     "output_type": "execute_result"
    }
   ],
   "source": [
    "fractions_byZip.shape\n"
   ]
  },
  {
   "cell_type": "code",
   "execution_count": 14,
   "metadata": {},
   "outputs": [
    {
     "data": {
      "text/plain": [
       "(116342, 850)"
      ]
     },
     "execution_count": 14,
     "metadata": {},
     "output_type": "execute_result"
    }
   ],
   "source": [
    "igChangesWithWeather = igChanges.merge(allWeather_withLags).merge(allWeather_withLags2).merge(allWeather_byInd_withLags).merge(averages).merge(g).merge(streaks_withLags)\n",
    "igChangesWithWeather.shape"
   ]
  },
  {
   "cell_type": "code",
   "execution_count": 15,
   "metadata": {},
   "outputs": [],
   "source": [
    "igChangesWithWeather.to_csv(\"../../data/companyData/igWithWeather.csv\")"
   ]
  },
  {
   "cell_type": "code",
   "execution_count": 33,
   "metadata": {},
   "outputs": [
    {
     "name": "stderr",
     "output_type": "stream",
     "text": [
      "/Users/brianreed/opt/anaconda3/lib/python3.7/site-packages/IPython/core/interactiveshell.py:3326: DtypeWarning: Columns (15,16) have mixed types.Specify dtype option on import or set low_memory=False.\n",
      "  exec(code_obj, self.user_global_ns, self.user_ns)\n"
     ]
    }
   ],
   "source": [
    "igChangesWithWeather = pd.read_csv(\"../../data/companyData/igWithWeather.csv\")"
   ]
  },
  {
   "cell_type": "code",
   "execution_count": null,
   "metadata": {},
   "outputs": [],
   "source": [
    "for col in igChangesWithWeather.columns:\n",
    "    print(col)"
   ]
  },
  {
   "cell_type": "code",
   "execution_count": 34,
   "metadata": {},
   "outputs": [
    {
     "data": {
      "text/plain": [
       "(125500, 723)"
      ]
     },
     "execution_count": 34,
     "metadata": {},
     "output_type": "execute_result"
    }
   ],
   "source": [
    "igChangesWithWeather.shape"
   ]
  },
  {
   "cell_type": "markdown",
   "metadata": {},
   "source": [
    "# Indirect\n",
    "Introduce the SC Data."
   ]
  },
  {
   "cell_type": "code",
   "execution_count": null,
   "metadata": {},
   "outputs": [],
   "source": [
    "# this does a little bit of a test on the reporting requirements. \n",
    "# number \n",
    "\n",
    "'''c_linksTest = pd.read_csv(\"../../data/companyData/compustatSCLinked.csv\")[['srcdate','gvkey','cgvkey']]\n",
    "c_linksTest['year'] = c_linksTest.srcdate.astype('str').str.slice(0,4).astype('int64')\n",
    "\n",
    "bs = c_linksTest[c_linksTest.year < 2014]\n",
    "print(\"Customers per supplier, 1978-2013 Pd: \", len(bs.cgvkey.unique())/len(bs.gvkey.unique()))\n",
    "\n",
    "bs2 = c_linksTest[c_linksTest.year > 2010]\n",
    "print(\"Customers per supplier, Recent Pd: \", len(bs2.cgvkey.unique())/len(bs2.gvkey.unique()))'''\n"
   ]
  },
  {
   "cell_type": "code",
   "execution_count": 39,
   "metadata": {},
   "outputs": [
    {
     "data": {
      "text/html": [
       "<div>\n",
       "<style scoped>\n",
       "    .dataframe tbody tr th:only-of-type {\n",
       "        vertical-align: middle;\n",
       "    }\n",
       "\n",
       "    .dataframe tbody tr th {\n",
       "        vertical-align: top;\n",
       "    }\n",
       "\n",
       "    .dataframe thead th {\n",
       "        text-align: right;\n",
       "    }\n",
       "</style>\n",
       "<table border=\"1\" class=\"dataframe\">\n",
       "  <thead>\n",
       "    <tr style=\"text-align: right;\">\n",
       "      <th></th>\n",
       "      <th>year</th>\n",
       "      <th>supplier_gvkey</th>\n",
       "      <th>customer_gvkey</th>\n",
       "      <th>salecs</th>\n",
       "    </tr>\n",
       "  </thead>\n",
       "  <tbody>\n",
       "    <tr>\n",
       "      <th>70</th>\n",
       "      <td>2002-01-01</td>\n",
       "      <td>1013</td>\n",
       "      <td>2136</td>\n",
       "      <td>111.056</td>\n",
       "    </tr>\n",
       "    <tr>\n",
       "      <th>71</th>\n",
       "      <td>2004-01-01</td>\n",
       "      <td>1013</td>\n",
       "      <td>2136</td>\n",
       "      <td>104.312</td>\n",
       "    </tr>\n",
       "    <tr>\n",
       "      <th>72</th>\n",
       "      <td>2005-01-01</td>\n",
       "      <td>1013</td>\n",
       "      <td>2136</td>\n",
       "      <td>146.000</td>\n",
       "    </tr>\n",
       "    <tr>\n",
       "      <th>73</th>\n",
       "      <td>2006-01-01</td>\n",
       "      <td>1013</td>\n",
       "      <td>2136</td>\n",
       "      <td>205.000</td>\n",
       "    </tr>\n",
       "    <tr>\n",
       "      <th>74</th>\n",
       "      <td>2007-01-01</td>\n",
       "      <td>1013</td>\n",
       "      <td>2136</td>\n",
       "      <td>236.000</td>\n",
       "    </tr>\n",
       "  </tbody>\n",
       "</table>\n",
       "</div>"
      ],
      "text/plain": [
       "         year  supplier_gvkey  customer_gvkey   salecs\n",
       "70 2002-01-01            1013            2136  111.056\n",
       "71 2004-01-01            1013            2136  104.312\n",
       "72 2005-01-01            1013            2136  146.000\n",
       "73 2006-01-01            1013            2136  205.000\n",
       "74 2007-01-01            1013            2136  236.000"
      ]
     },
     "execution_count": 39,
     "metadata": {},
     "output_type": "execute_result"
    }
   ],
   "source": [
    "c_links = pd.read_csv(\"../../data/companyData/compustatSCLinked.csv\") # pd.read_csv(\"../../data/companyData/compustatSCLinked.csv\")\n",
    "\n",
    "c_links['year'] = c_links.srcdate.astype('str').str.slice(0,4).astype('int64')\n",
    "\n",
    "c_links = c_links[c_links.year > 1999][['year','gvkey','cgvkey','salecs']].\\\n",
    "    rename(columns = {'cgvkey': 'customer_gvkey','gvkey': 'supplier_gvkey'})\n",
    "\n",
    "c_links['year'] = pd.to_datetime(c_links.year, format = '%Y')\n",
    "\n",
    "\n",
    "c_links.head()"
   ]
  },
  {
   "cell_type": "code",
   "execution_count": 40,
   "metadata": {},
   "outputs": [
    {
     "name": "stdout",
     "output_type": "stream",
     "text": [
      "(16812, 2)\n"
     ]
    },
    {
     "data": {
      "text/html": [
       "<div>\n",
       "<style scoped>\n",
       "    .dataframe tbody tr th:only-of-type {\n",
       "        vertical-align: middle;\n",
       "    }\n",
       "\n",
       "    .dataframe tbody tr th {\n",
       "        vertical-align: top;\n",
       "    }\n",
       "\n",
       "    .dataframe thead th {\n",
       "        text-align: right;\n",
       "    }\n",
       "</style>\n",
       "<table border=\"1\" class=\"dataframe\">\n",
       "  <thead>\n",
       "    <tr style=\"text-align: right;\">\n",
       "      <th></th>\n",
       "      <th>supplier_gvkey</th>\n",
       "      <th>customer_gvkey</th>\n",
       "    </tr>\n",
       "  </thead>\n",
       "  <tbody>\n",
       "    <tr>\n",
       "      <th>0</th>\n",
       "      <td>1013</td>\n",
       "      <td>2136</td>\n",
       "    </tr>\n",
       "    <tr>\n",
       "      <th>1</th>\n",
       "      <td>1013</td>\n",
       "      <td>9899</td>\n",
       "    </tr>\n",
       "    <tr>\n",
       "      <th>2</th>\n",
       "      <td>1021</td>\n",
       "      <td>61494</td>\n",
       "    </tr>\n",
       "    <tr>\n",
       "      <th>3</th>\n",
       "      <td>1021</td>\n",
       "      <td>25880</td>\n",
       "    </tr>\n",
       "    <tr>\n",
       "      <th>4</th>\n",
       "      <td>1048</td>\n",
       "      <td>11552</td>\n",
       "    </tr>\n",
       "  </tbody>\n",
       "</table>\n",
       "</div>"
      ],
      "text/plain": [
       "   supplier_gvkey  customer_gvkey\n",
       "0            1013            2136\n",
       "1            1013            9899\n",
       "2            1021           61494\n",
       "3            1021           25880\n",
       "4            1048           11552"
      ]
     },
     "execution_count": 40,
     "metadata": {},
     "output_type": "execute_result"
    }
   ],
   "source": [
    "supplierCombos = c_links[['supplier_gvkey', 'customer_gvkey']].drop_duplicates().reset_index(drop = True)\n",
    "\n",
    "print(supplierCombos.shape)\n",
    "\n",
    "supplierCombos.head()"
   ]
  },
  {
   "cell_type": "markdown",
   "metadata": {},
   "source": [
    "We'll follow Barrot Sauvagnat in assuming that a supplier relationship holds for every year between the first and last year in which a customer is reported. This is going to take a little bit of work. We'll try it like this: \n",
    "- subset dataframe to a specific supplier-customer pair\n",
    "- fill in data for every year that's missing\n",
    "\n",
    "Then, apply this row-wise to all rows of the unique supplierCombos df above using: https://stackoverflow.com/questions/61942138/apply-function-row-wise-to-pandas-dataframe"
   ]
  },
  {
   "cell_type": "code",
   "execution_count": 41,
   "metadata": {},
   "outputs": [],
   "source": [
    "def fillYear(supplier, customer, scData = c_links):\n",
    "    c_linksTemp = scData[(scData.supplier_gvkey == supplier) & \\\n",
    "                      (scData.customer_gvkey == customer)].reset_index(drop = True)\n",
    "    \n",
    "    # if there are na values and non-na values for the same supplier-cust combination, then \n",
    "    # select for only the non-na values, by (1) replacing na with negative, (2) 1\n",
    "    c_linksTemp['salecs'] = c_linksTemp['salecs'].fillna(-5)\n",
    "    c_linksTemp = c_linksTemp.loc[c_linksTemp.reset_index().groupby(['year','supplier_gvkey', 'customer_gvkey'])['salecs'].idxmax()]\n",
    "\n",
    "    \n",
    "    # now: find the start and end of the data series\n",
    "    first = c_linksTemp.year.min()\n",
    "    last  = c_linksTemp.year.max()\n",
    "\n",
    "    c_linksTemp = c_linksTemp.set_index('year') \n",
    "\n",
    "    c_linksTemp = c_linksTemp.reindex(pd.date_range(first, last, freq = 'YS')).\\\n",
    "        reset_index().rename(columns = {'index': 'year'})\n",
    "\n",
    "    # and impute all values within the series\n",
    "    c_linksTemp = c_linksTemp.groupby(c_linksTemp.year.dt.time).ffill()\n",
    "    \n",
    "    return(c_linksTemp)"
   ]
  },
  {
   "cell_type": "markdown",
   "metadata": {},
   "source": [
    "Show that this works for one of the supplier rows."
   ]
  },
  {
   "cell_type": "code",
   "execution_count": 42,
   "metadata": {},
   "outputs": [
    {
     "data": {
      "text/html": [
       "<div>\n",
       "<style scoped>\n",
       "    .dataframe tbody tr th:only-of-type {\n",
       "        vertical-align: middle;\n",
       "    }\n",
       "\n",
       "    .dataframe tbody tr th {\n",
       "        vertical-align: top;\n",
       "    }\n",
       "\n",
       "    .dataframe thead th {\n",
       "        text-align: right;\n",
       "    }\n",
       "</style>\n",
       "<table border=\"1\" class=\"dataframe\">\n",
       "  <thead>\n",
       "    <tr style=\"text-align: right;\">\n",
       "      <th></th>\n",
       "      <th>year</th>\n",
       "      <th>supplier_gvkey</th>\n",
       "      <th>customer_gvkey</th>\n",
       "      <th>salecs</th>\n",
       "    </tr>\n",
       "  </thead>\n",
       "  <tbody>\n",
       "    <tr>\n",
       "      <th>0</th>\n",
       "      <td>2002-01-01</td>\n",
       "      <td>1013.0</td>\n",
       "      <td>2136.0</td>\n",
       "      <td>111.056</td>\n",
       "    </tr>\n",
       "    <tr>\n",
       "      <th>1</th>\n",
       "      <td>2003-01-01</td>\n",
       "      <td>1013.0</td>\n",
       "      <td>2136.0</td>\n",
       "      <td>111.056</td>\n",
       "    </tr>\n",
       "    <tr>\n",
       "      <th>2</th>\n",
       "      <td>2004-01-01</td>\n",
       "      <td>1013.0</td>\n",
       "      <td>2136.0</td>\n",
       "      <td>104.312</td>\n",
       "    </tr>\n",
       "    <tr>\n",
       "      <th>3</th>\n",
       "      <td>2005-01-01</td>\n",
       "      <td>1013.0</td>\n",
       "      <td>2136.0</td>\n",
       "      <td>146.000</td>\n",
       "    </tr>\n",
       "    <tr>\n",
       "      <th>4</th>\n",
       "      <td>2006-01-01</td>\n",
       "      <td>1013.0</td>\n",
       "      <td>2136.0</td>\n",
       "      <td>205.000</td>\n",
       "    </tr>\n",
       "    <tr>\n",
       "      <th>5</th>\n",
       "      <td>2007-01-01</td>\n",
       "      <td>1013.0</td>\n",
       "      <td>2136.0</td>\n",
       "      <td>236.000</td>\n",
       "    </tr>\n",
       "    <tr>\n",
       "      <th>6</th>\n",
       "      <td>2008-01-01</td>\n",
       "      <td>1013.0</td>\n",
       "      <td>2136.0</td>\n",
       "      <td>240.000</td>\n",
       "    </tr>\n",
       "    <tr>\n",
       "      <th>7</th>\n",
       "      <td>2009-01-01</td>\n",
       "      <td>1013.0</td>\n",
       "      <td>2136.0</td>\n",
       "      <td>176.000</td>\n",
       "    </tr>\n",
       "    <tr>\n",
       "      <th>8</th>\n",
       "      <td>2010-01-01</td>\n",
       "      <td>1013.0</td>\n",
       "      <td>2136.0</td>\n",
       "      <td>146.000</td>\n",
       "    </tr>\n",
       "  </tbody>\n",
       "</table>\n",
       "</div>"
      ],
      "text/plain": [
       "        year  supplier_gvkey  customer_gvkey   salecs\n",
       "0 2002-01-01          1013.0          2136.0  111.056\n",
       "1 2003-01-01          1013.0          2136.0  111.056\n",
       "2 2004-01-01          1013.0          2136.0  104.312\n",
       "3 2005-01-01          1013.0          2136.0  146.000\n",
       "4 2006-01-01          1013.0          2136.0  205.000\n",
       "5 2007-01-01          1013.0          2136.0  236.000\n",
       "6 2008-01-01          1013.0          2136.0  240.000\n",
       "7 2009-01-01          1013.0          2136.0  176.000\n",
       "8 2010-01-01          1013.0          2136.0  146.000"
      ]
     },
     "execution_count": 42,
     "metadata": {},
     "output_type": "execute_result"
    }
   ],
   "source": [
    "fillYear(supplierCombos.supplier_gvkey[0], supplierCombos.customer_gvkey[0])"
   ]
  },
  {
   "cell_type": "markdown",
   "metadata": {},
   "source": [
    "Now do it for all rows."
   ]
  },
  {
   "cell_type": "code",
   "execution_count": 43,
   "metadata": {},
   "outputs": [
    {
     "name": "stdout",
     "output_type": "stream",
     "text": [
      "(65270, 4)\n",
      "(68771, 4)\n",
      "69.66637182235718\n"
     ]
    }
   ],
   "source": [
    "start = time.time()\n",
    "print(c_links.shape)\n",
    "c_linksImpd_list = supplierCombos.apply(lambda row: fillYear(row['supplier_gvkey'], row['customer_gvkey']), axis = 1)\n",
    "c_linksImpd_df   = pd.concat(list(c_linksImpd_list))\n",
    "print(c_linksImpd_df.shape)\n",
    "print(time.time() - start)\n",
    "\n",
    "c_linksImpd_df['year'] = c_linksImpd_df.year.dt.year"
   ]
  },
  {
   "cell_type": "markdown",
   "metadata": {},
   "source": [
    "We had converted some of the na sales values to -5 so that we could deal with duplicated values, by choosing the larger of said values. Switch back to nan so that we are not thrown off when we look for biggest supplier."
   ]
  },
  {
   "cell_type": "code",
   "execution_count": 44,
   "metadata": {},
   "outputs": [],
   "source": [
    "c_linksImpd_df.loc[c_linksImpd_df.salecs == -5, 'salecs'] = float('nan')"
   ]
  },
  {
   "cell_type": "code",
   "execution_count": 45,
   "metadata": {},
   "outputs": [
    {
     "data": {
      "text/plain": [
       "0    111.056\n",
       "1    111.056\n",
       "2    104.312\n",
       "3    146.000\n",
       "4    205.000\n",
       "      ...   \n",
       "1    179.284\n",
       "0     34.418\n",
       "0     25.334\n",
       "0    283.318\n",
       "1    316.116\n",
       "Name: salecs, Length: 68771, dtype: float64"
      ]
     },
     "execution_count": 45,
     "metadata": {},
     "output_type": "execute_result"
    }
   ],
   "source": [
    "c_linksImpd_df.salecs"
   ]
  },
  {
   "cell_type": "code",
   "execution_count": 46,
   "metadata": {},
   "outputs": [
    {
     "name": "stdout",
     "output_type": "stream",
     "text": [
      "        gvkey   indGroup\n",
      "0        1004  wholesale\n",
      "1        1010       manu\n",
      "2        1013       manu\n",
      "3        1019   services\n",
      "4        1021       manu\n",
      "...       ...        ...\n",
      "25236  345920       manu\n",
      "25237  345980     retail\n",
      "25238  347085   services\n",
      "25239  351491       manu\n",
      "25240  351590       manu\n",
      "\n",
      "[25241 rows x 2 columns]\n"
     ]
    }
   ],
   "source": [
    "industries = pd.read_csv(\"../../data/companyData/gvkeyIndustries.csv\").drop(columns = {'Unnamed: 0'})\n",
    "print(industries)"
   ]
  },
  {
   "cell_type": "code",
   "execution_count": 47,
   "metadata": {},
   "outputs": [
    {
     "name": "stdout",
     "output_type": "stream",
     "text": [
      "(68771, 4)\n",
      "   year  supplier_gvkey  customer_gvkey   salecs\n",
      "0  2002          1013.0          2136.0  111.056\n",
      "1  2003          1013.0          2136.0  111.056\n",
      "2  2004          1013.0          2136.0  104.312\n",
      "3  2005          1013.0          2136.0  146.000\n",
      "4  2006          1013.0          2136.0  205.000\n",
      "   year  supplier_gvkey  customer_gvkey   salecs        customer_ind  \\\n",
      "0  2002          1013.0          2136.0  111.056  transportUtilities   \n",
      "1  2003          1013.0          2136.0  111.056  transportUtilities   \n",
      "2  2004          1013.0          2136.0  104.312  transportUtilities   \n",
      "3  2005          1013.0          2136.0  146.000  transportUtilities   \n",
      "4  2006          1013.0          2136.0  205.000  transportUtilities   \n",
      "\n",
      "  supplier_ind  \n",
      "0         manu  \n",
      "1         manu  \n",
      "2         manu  \n",
      "3         manu  \n",
      "4         manu   (66561, 6)\n"
     ]
    }
   ],
   "source": [
    "c_links = c_linksImpd_df.copy()\n",
    "\n",
    "print(c_links.shape)\n",
    "\n",
    "print(c_links.head())\n",
    "\n",
    "industries.columns = ['customer_gvkey','customer_ind']\n",
    "\n",
    "c_links = c_links.merge(industries)\n",
    "\n",
    "industries.columns = ['supplier_gvkey','supplier_ind']\n",
    "\n",
    "c_links = c_links.merge(industries)\n",
    "print(c_links.head(), c_links.shape)\n",
    "\n",
    "\n",
    "c_links.to_csv(\"../../data/companyData/c_links.csv\")\n"
   ]
  },
  {
   "cell_type": "markdown",
   "metadata": {},
   "source": [
    "Let's see how all this translates into different industries. Check how many times different industries show up.\n",
    "\n",
    "The full count will be roughly 4x whatever is below, assuming we can get a match for roughly all of them (which we should be able to)."
   ]
  },
  {
   "cell_type": "code",
   "execution_count": 49,
   "metadata": {},
   "outputs": [
    {
     "data": {
      "text/plain": [
       "manu                  15682\n",
       "finance                8270\n",
       "services               4294\n",
       "mining                 2864\n",
       "transportUtilities     1950\n",
       "wholesale               802\n",
       "construction            265\n",
       "retail                  172\n",
       "agForFish                62\n",
       "Name: supplier_ind, dtype: int64"
      ]
     },
     "execution_count": 49,
     "metadata": {},
     "output_type": "execute_result"
    }
   ],
   "source": [
    "c_links[c_links.year > 2009].supplier_ind.value_counts()"
   ]
  },
  {
   "cell_type": "markdown",
   "metadata": {},
   "source": [
    "Now see if it's common to have one in and one out of the industries of interest. \n",
    "\n",
    "For now, let's keep all the different industry types.\n",
    "\n",
    "We can always filter later if we need to."
   ]
  },
  {
   "cell_type": "code",
   "execution_count": 50,
   "metadata": {},
   "outputs": [
    {
     "name": "stdout",
     "output_type": "stream",
     "text": [
      "(66561, 6)\n",
      "(46937, 10)\n"
     ]
    }
   ],
   "source": [
    "#########################\n",
    "# get data and reset columns \n",
    "gvKey_abiLinkingTable = pd.read_csv('../../data/companyData/linkingTable.csv').drop(columns = ['Unnamed: 0'])\n",
    "\n",
    "base_columns = gvKey_abiLinkingTable.columns \n",
    "customer_columns = \"customer_\" + base_columns\n",
    "supplier_columns = \"supplier_\" + base_columns\n",
    "\n",
    "\n",
    "\n",
    "'''\n",
    "# merge in customer information\n",
    "gvKey_abiLinkingTable.columns = customer_columns\n",
    "\n",
    "print(c_links.shape)\n",
    "c_linksMerge1 = c_links.merge(gvKey_abiLinkingTable, on ='customer_gvkey')\n",
    "print(c_links.shape,c_linksMerge1.shape)\n",
    "'''\n",
    "\n",
    "\n",
    "\n",
    "#########################\n",
    "# and merge in supplier \n",
    "gvKey_abiLinkingTable.columns = supplier_columns\n",
    "\n",
    "print(c_links.shape)\n",
    "c_linksMerge2 = c_links.merge(gvKey_abiLinkingTable, on ='supplier_gvkey')\n",
    "print(c_linksMerge2.shape)\n",
    "\n",
    "c_linksMerge2.to_csv(\"../../data/companyData/clinks_IG_selected.csv\")"
   ]
  },
  {
   "cell_type": "code",
   "execution_count": 51,
   "metadata": {},
   "outputs": [
    {
     "data": {
      "text/plain": [
       "27172"
      ]
     },
     "execution_count": 51,
     "metadata": {},
     "output_type": "execute_result"
    }
   ],
   "source": [
    "sum(c_linksMerge2.year > 2009)"
   ]
  },
  {
   "cell_type": "code",
   "execution_count": 52,
   "metadata": {},
   "outputs": [
    {
     "data": {
      "text/html": [
       "<div>\n",
       "<style scoped>\n",
       "    .dataframe tbody tr th:only-of-type {\n",
       "        vertical-align: middle;\n",
       "    }\n",
       "\n",
       "    .dataframe tbody tr th {\n",
       "        vertical-align: top;\n",
       "    }\n",
       "\n",
       "    .dataframe thead th {\n",
       "        text-align: right;\n",
       "    }\n",
       "</style>\n",
       "<table border=\"1\" class=\"dataframe\">\n",
       "  <thead>\n",
       "    <tr style=\"text-align: right;\">\n",
       "      <th></th>\n",
       "      <th>year</th>\n",
       "      <th>supplier_gvkey</th>\n",
       "      <th>customer_gvkey</th>\n",
       "      <th>salecs</th>\n",
       "      <th>customer_ind</th>\n",
       "      <th>supplier_ind</th>\n",
       "      <th>supplier_cstatCompanies</th>\n",
       "      <th>supplier_igCompanies</th>\n",
       "      <th>supplier_delete</th>\n",
       "      <th>supplier_abi</th>\n",
       "    </tr>\n",
       "  </thead>\n",
       "  <tbody>\n",
       "    <tr>\n",
       "      <th>0</th>\n",
       "      <td>2002</td>\n",
       "      <td>1013.0</td>\n",
       "      <td>2136.0</td>\n",
       "      <td>111.056</td>\n",
       "      <td>transportUtilities</td>\n",
       "      <td>manu</td>\n",
       "      <td>adc telecommunications</td>\n",
       "      <td>adc telecommunications</td>\n",
       "      <td>NaN</td>\n",
       "      <td>7523129</td>\n",
       "    </tr>\n",
       "    <tr>\n",
       "      <th>1</th>\n",
       "      <td>2003</td>\n",
       "      <td>1013.0</td>\n",
       "      <td>2136.0</td>\n",
       "      <td>111.056</td>\n",
       "      <td>transportUtilities</td>\n",
       "      <td>manu</td>\n",
       "      <td>adc telecommunications</td>\n",
       "      <td>adc telecommunications</td>\n",
       "      <td>NaN</td>\n",
       "      <td>7523129</td>\n",
       "    </tr>\n",
       "    <tr>\n",
       "      <th>2</th>\n",
       "      <td>2004</td>\n",
       "      <td>1013.0</td>\n",
       "      <td>2136.0</td>\n",
       "      <td>104.312</td>\n",
       "      <td>transportUtilities</td>\n",
       "      <td>manu</td>\n",
       "      <td>adc telecommunications</td>\n",
       "      <td>adc telecommunications</td>\n",
       "      <td>NaN</td>\n",
       "      <td>7523129</td>\n",
       "    </tr>\n",
       "    <tr>\n",
       "      <th>3</th>\n",
       "      <td>2005</td>\n",
       "      <td>1013.0</td>\n",
       "      <td>2136.0</td>\n",
       "      <td>146.000</td>\n",
       "      <td>transportUtilities</td>\n",
       "      <td>manu</td>\n",
       "      <td>adc telecommunications</td>\n",
       "      <td>adc telecommunications</td>\n",
       "      <td>NaN</td>\n",
       "      <td>7523129</td>\n",
       "    </tr>\n",
       "    <tr>\n",
       "      <th>4</th>\n",
       "      <td>2006</td>\n",
       "      <td>1013.0</td>\n",
       "      <td>2136.0</td>\n",
       "      <td>205.000</td>\n",
       "      <td>transportUtilities</td>\n",
       "      <td>manu</td>\n",
       "      <td>adc telecommunications</td>\n",
       "      <td>adc telecommunications</td>\n",
       "      <td>NaN</td>\n",
       "      <td>7523129</td>\n",
       "    </tr>\n",
       "  </tbody>\n",
       "</table>\n",
       "</div>"
      ],
      "text/plain": [
       "   year  supplier_gvkey  customer_gvkey   salecs        customer_ind  \\\n",
       "0  2002          1013.0          2136.0  111.056  transportUtilities   \n",
       "1  2003          1013.0          2136.0  111.056  transportUtilities   \n",
       "2  2004          1013.0          2136.0  104.312  transportUtilities   \n",
       "3  2005          1013.0          2136.0  146.000  transportUtilities   \n",
       "4  2006          1013.0          2136.0  205.000  transportUtilities   \n",
       "\n",
       "  supplier_ind supplier_cstatCompanies    supplier_igCompanies  \\\n",
       "0         manu  adc telecommunications  adc telecommunications   \n",
       "1         manu  adc telecommunications  adc telecommunications   \n",
       "2         manu  adc telecommunications  adc telecommunications   \n",
       "3         manu  adc telecommunications  adc telecommunications   \n",
       "4         manu  adc telecommunications  adc telecommunications   \n",
       "\n",
       "   supplier_delete  supplier_abi  \n",
       "0              NaN       7523129  \n",
       "1              NaN       7523129  \n",
       "2              NaN       7523129  \n",
       "3              NaN       7523129  \n",
       "4              NaN       7523129  "
      ]
     },
     "execution_count": 52,
     "metadata": {},
     "output_type": "execute_result"
    }
   ],
   "source": [
    "c_linksMerge2.head()"
   ]
  },
  {
   "cell_type": "markdown",
   "metadata": {},
   "source": [
    "This is probably because: (1) companies are not in North America, or (2) companies are not in the physical goods industries we're interested in. We can verify this though: look at c_links where both the customer and supplier are in the dataset of interest."
   ]
  },
  {
   "cell_type": "code",
   "execution_count": 53,
   "metadata": {},
   "outputs": [
    {
     "name": "stdout",
     "output_type": "stream",
     "text": [
      "Percent of firms with a match:  0.9528614060374754\n"
     ]
    }
   ],
   "source": [
    "chq     = pd.read_csv(\"../../data/chq.csv\",dtype={'cstatZipcode': 'object'}).drop(columns = {'Unnamed: 0'})\n",
    "\n",
    "c_linkTest = c_links[c_links.customer_gvkey.isin(chq.gvkey.unique()) & \\\n",
    "                     c_links.supplier_gvkey.isin(chq.gvkey.unique())]\n",
    "\n",
    "print(\"Percent of firms with a match: \", c_linksMerge2.shape[0]/c_linkTest.shape[0])"
   ]
  },
  {
   "cell_type": "code",
   "execution_count": 54,
   "metadata": {},
   "outputs": [
    {
     "data": {
      "text/html": [
       "<div>\n",
       "<style scoped>\n",
       "    .dataframe tbody tr th:only-of-type {\n",
       "        vertical-align: middle;\n",
       "    }\n",
       "\n",
       "    .dataframe tbody tr th {\n",
       "        vertical-align: top;\n",
       "    }\n",
       "\n",
       "    .dataframe thead th {\n",
       "        text-align: right;\n",
       "    }\n",
       "</style>\n",
       "<table border=\"1\" class=\"dataframe\">\n",
       "  <thead>\n",
       "    <tr style=\"text-align: right;\">\n",
       "      <th></th>\n",
       "      <th>year</th>\n",
       "      <th>supplier_gvkey</th>\n",
       "      <th>customer_gvkey</th>\n",
       "      <th>salecs</th>\n",
       "      <th>customer_ind</th>\n",
       "      <th>supplier_ind</th>\n",
       "      <th>supplier_cstatCompanies</th>\n",
       "      <th>supplier_igCompanies</th>\n",
       "      <th>supplier_delete</th>\n",
       "      <th>supplier_abi</th>\n",
       "    </tr>\n",
       "  </thead>\n",
       "  <tbody>\n",
       "    <tr>\n",
       "      <th>0</th>\n",
       "      <td>2002</td>\n",
       "      <td>1013.0</td>\n",
       "      <td>2136.0</td>\n",
       "      <td>111.056</td>\n",
       "      <td>transportUtilities</td>\n",
       "      <td>manu</td>\n",
       "      <td>adc telecommunications</td>\n",
       "      <td>adc telecommunications</td>\n",
       "      <td>NaN</td>\n",
       "      <td>7523129</td>\n",
       "    </tr>\n",
       "    <tr>\n",
       "      <th>1</th>\n",
       "      <td>2003</td>\n",
       "      <td>1013.0</td>\n",
       "      <td>2136.0</td>\n",
       "      <td>111.056</td>\n",
       "      <td>transportUtilities</td>\n",
       "      <td>manu</td>\n",
       "      <td>adc telecommunications</td>\n",
       "      <td>adc telecommunications</td>\n",
       "      <td>NaN</td>\n",
       "      <td>7523129</td>\n",
       "    </tr>\n",
       "    <tr>\n",
       "      <th>2</th>\n",
       "      <td>2004</td>\n",
       "      <td>1013.0</td>\n",
       "      <td>2136.0</td>\n",
       "      <td>104.312</td>\n",
       "      <td>transportUtilities</td>\n",
       "      <td>manu</td>\n",
       "      <td>adc telecommunications</td>\n",
       "      <td>adc telecommunications</td>\n",
       "      <td>NaN</td>\n",
       "      <td>7523129</td>\n",
       "    </tr>\n",
       "    <tr>\n",
       "      <th>3</th>\n",
       "      <td>2005</td>\n",
       "      <td>1013.0</td>\n",
       "      <td>2136.0</td>\n",
       "      <td>146.000</td>\n",
       "      <td>transportUtilities</td>\n",
       "      <td>manu</td>\n",
       "      <td>adc telecommunications</td>\n",
       "      <td>adc telecommunications</td>\n",
       "      <td>NaN</td>\n",
       "      <td>7523129</td>\n",
       "    </tr>\n",
       "    <tr>\n",
       "      <th>4</th>\n",
       "      <td>2006</td>\n",
       "      <td>1013.0</td>\n",
       "      <td>2136.0</td>\n",
       "      <td>205.000</td>\n",
       "      <td>transportUtilities</td>\n",
       "      <td>manu</td>\n",
       "      <td>adc telecommunications</td>\n",
       "      <td>adc telecommunications</td>\n",
       "      <td>NaN</td>\n",
       "      <td>7523129</td>\n",
       "    </tr>\n",
       "  </tbody>\n",
       "</table>\n",
       "</div>"
      ],
      "text/plain": [
       "   year  supplier_gvkey  customer_gvkey   salecs        customer_ind  \\\n",
       "0  2002          1013.0          2136.0  111.056  transportUtilities   \n",
       "1  2003          1013.0          2136.0  111.056  transportUtilities   \n",
       "2  2004          1013.0          2136.0  104.312  transportUtilities   \n",
       "3  2005          1013.0          2136.0  146.000  transportUtilities   \n",
       "4  2006          1013.0          2136.0  205.000  transportUtilities   \n",
       "\n",
       "  supplier_ind supplier_cstatCompanies    supplier_igCompanies  \\\n",
       "0         manu  adc telecommunications  adc telecommunications   \n",
       "1         manu  adc telecommunications  adc telecommunications   \n",
       "2         manu  adc telecommunications  adc telecommunications   \n",
       "3         manu  adc telecommunications  adc telecommunications   \n",
       "4         manu  adc telecommunications  adc telecommunications   \n",
       "\n",
       "   supplier_delete  supplier_abi  \n",
       "0              NaN       7523129  \n",
       "1              NaN       7523129  \n",
       "2              NaN       7523129  \n",
       "3              NaN       7523129  \n",
       "4              NaN       7523129  "
      ]
     },
     "execution_count": 54,
     "metadata": {},
     "output_type": "execute_result"
    }
   ],
   "source": [
    "c_linksMerge2.head()"
   ]
  },
  {
   "cell_type": "markdown",
   "metadata": {},
   "source": [
    "It's entirely possible that we have too small of a sample from the 2010s alone. Let's just try it though and see how it goes.\n",
    "\n",
    "First, make a sample with the companies on one year of either side of when it reports another customer."
   ]
  },
  {
   "cell_type": "code",
   "execution_count": 55,
   "metadata": {},
   "outputs": [],
   "source": [
    "def makeOneEitherSide(df): \n",
    "    yrPlus1 = df.copy(); yrPlus1['year'] += 1\n",
    "    # yrPlus2 = df.copy(); yrPlus2['year'] += 1\n",
    "    # yrPlus3 = df.copy(); yrPlus3['year'] += 1\n",
    "    \n",
    "    yrMinus1 = df.copy(); yrMinus1['year'] -= 1\n",
    "    # yrMinus2 = df.copy(); yrMinus2['year'] -= 1\n",
    "    # yrMinus3 = df.copy(); yrMinus3['year'] -= 1\n",
    "    \n",
    "    all = pd.concat([yrPlus1,yrMinus1]) # pd.concat([yrPlus1,yrPlus2,yrPlus3,yrMinus1,yrMinus2,yrMinus3])\n",
    "    \n",
    "    return(all)"
   ]
  },
  {
   "cell_type": "code",
   "execution_count": 56,
   "metadata": {},
   "outputs": [
    {
     "data": {
      "text/plain": [
       "Index(['year', 'supplier_gvkey', 'customer_gvkey', 'salecs', 'customer_ind',\n",
       "       'supplier_ind', 'supplier_cstatCompanies', 'supplier_igCompanies',\n",
       "       'supplier_delete', 'supplier_abi'],\n",
       "      dtype='object')"
      ]
     },
     "execution_count": 56,
     "metadata": {},
     "output_type": "execute_result"
    }
   ],
   "source": [
    "c_linksMerge2.columns"
   ]
  },
  {
   "cell_type": "code",
   "execution_count": 57,
   "metadata": {},
   "outputs": [
    {
     "name": "stdout",
     "output_type": "stream",
     "text": [
      "(19295, 4)\n",
      "   year   gvkey      abi   ind ticker                     company state  \\\n",
      "0  2003  1013.0  7523129  manu    NaN  ADC TELECOMMUNICATIONS INC    MN   \n",
      "1  2004  1013.0  7523129  manu    NaN  ADC TELECOMMUNICATIONS INC    MN   \n",
      "2  2005  1013.0  7523129  manu    NaN  ADC TELECOMMUNICATIONS INC    MN   \n",
      "3  2006  1013.0  7523129  manu    NaN  ADC TELECOMMUNICATIONS INC    MN   \n",
      "4  2007  1013.0  7523129  manu    NaN  ADC TELECOMMUNICATIONS INC    MN   \n",
      "\n",
      "           city       address_line_1  zipcode  latitude  longitude  \\\n",
      "0  EDEN PRAIRIE  13625 TECHNOLOGY DR    55344  44.85645  -93.45199   \n",
      "1  EDEN PRAIRIE  13625 TECHNOLOGY DR    55344  44.85645  -93.45199   \n",
      "2  EDEN PRAIRIE  13625 TECHNOLOGY DR    55344  44.85645  -93.45199   \n",
      "3  EDEN PRAIRIE  13625 TECHNOLOGY DR    55344  44.85645  -93.45199   \n",
      "4  EDEN PRAIRIE  13625 TECHNOLOGY DR    55344  44.85645  -93.45199   \n",
      "\n",
      "   parent_employee_size_code  location_employee_size_code  employeesAtLocation  \n",
      "0                      250.0                        250.0                  1.0  \n",
      "1                      250.0                        250.0                  1.0  \n",
      "2                      250.0                        250.0                  1.0  \n",
      "3                      250.0                        250.0                  1.0  \n",
      "4                      250.0                        250.0                  1.0   (15261, 15)\n"
     ]
    }
   ],
   "source": [
    "scTableSuppliers = c_linksMerge2.copy()[['year','supplier_gvkey','supplier_abi','supplier_ind']].drop_duplicates()\n",
    "\n",
    "print(scTableSuppliers.shape)\n",
    "# allSupplierData = makeOneEitherSide(scTableSuppliers)\n",
    "allSupplierData         = scTableSuppliers.copy()\n",
    "allSupplierData.columns = ['year','gvkey','abi','ind']\n",
    "\n",
    "\n",
    "allAbi = allSupplierData.abi.drop_duplicates() # allCustomerData.abi.append(\n",
    "\n",
    "########\n",
    "hqsOnly = pd.read_csv(\"../../data/ig_uniqueHQs.csv\").drop(columns = {'Unnamed: 0'})\n",
    "\n",
    "hq = pd.read_csv(\"../../data/ig_uniqueHQs_multLocations.csv\").\\\n",
    "    drop(columns = {'Unnamed: 0'}).\\\n",
    "    rename(columns = {'archive_version_year': 'year'})\n",
    "\n",
    "hq['year'] = hq.year.astype('int64')\n",
    "\n",
    "hqRelevant = hq[hq.abi.isin(allAbi)]\n",
    "\n",
    "\n",
    "allSupplierData = allSupplierData.merge(hqRelevant).drop_duplicates()\n",
    "\n",
    "print(allSupplierData.head(), allSupplierData.shape)\n",
    "\n",
    "allSupplierData.to_csv(\"../../data/companyData/allSupplierData.csv\")"
   ]
  },
  {
   "cell_type": "markdown",
   "metadata": {},
   "source": [
    "Previously we had done this with the customers as well, but we lose some percentage of the observations if we again try to match on the IG data, so for now just focus on the suppliers."
   ]
  },
  {
   "cell_type": "markdown",
   "metadata": {},
   "source": [
    "## Find Customer and Supplier pairings and merge with change data\n",
    "### Can pick up here"
   ]
  },
  {
   "cell_type": "code",
   "execution_count": 48,
   "metadata": {},
   "outputs": [
    {
     "name": "stdout",
     "output_type": "stream",
     "text": [
      "(15261, 4) Index(['gvkey', 'ind', 'year', 'zipcode'], dtype='object')\n"
     ]
    }
   ],
   "source": [
    "allSupplierData = pd.read_csv(\"../../data/companyData/allSupplierData.csv\").\\\n",
    "    drop(columns = ['Unnamed: 0'])[['gvkey', 'ind', 'year','zipcode']]\n",
    "print(allSupplierData.shape, allSupplierData.columns)"
   ]
  },
  {
   "cell_type": "code",
   "execution_count": 49,
   "metadata": {},
   "outputs": [
    {
     "data": {
      "text/html": [
       "<div>\n",
       "<style scoped>\n",
       "    .dataframe tbody tr th:only-of-type {\n",
       "        vertical-align: middle;\n",
       "    }\n",
       "\n",
       "    .dataframe tbody tr th {\n",
       "        vertical-align: top;\n",
       "    }\n",
       "\n",
       "    .dataframe thead th {\n",
       "        text-align: right;\n",
       "    }\n",
       "</style>\n",
       "<table border=\"1\" class=\"dataframe\">\n",
       "  <thead>\n",
       "    <tr style=\"text-align: right;\">\n",
       "      <th></th>\n",
       "      <th>gvkey</th>\n",
       "      <th>ind</th>\n",
       "      <th>year</th>\n",
       "      <th>zipcode</th>\n",
       "    </tr>\n",
       "  </thead>\n",
       "  <tbody>\n",
       "    <tr>\n",
       "      <th>0</th>\n",
       "      <td>1013.0</td>\n",
       "      <td>manu</td>\n",
       "      <td>2003</td>\n",
       "      <td>55344</td>\n",
       "    </tr>\n",
       "    <tr>\n",
       "      <th>1</th>\n",
       "      <td>1013.0</td>\n",
       "      <td>manu</td>\n",
       "      <td>2004</td>\n",
       "      <td>55344</td>\n",
       "    </tr>\n",
       "    <tr>\n",
       "      <th>2</th>\n",
       "      <td>1013.0</td>\n",
       "      <td>manu</td>\n",
       "      <td>2005</td>\n",
       "      <td>55344</td>\n",
       "    </tr>\n",
       "    <tr>\n",
       "      <th>3</th>\n",
       "      <td>1013.0</td>\n",
       "      <td>manu</td>\n",
       "      <td>2006</td>\n",
       "      <td>55344</td>\n",
       "    </tr>\n",
       "    <tr>\n",
       "      <th>4</th>\n",
       "      <td>1013.0</td>\n",
       "      <td>manu</td>\n",
       "      <td>2007</td>\n",
       "      <td>55344</td>\n",
       "    </tr>\n",
       "  </tbody>\n",
       "</table>\n",
       "</div>"
      ],
      "text/plain": [
       "    gvkey   ind  year  zipcode\n",
       "0  1013.0  manu  2003    55344\n",
       "1  1013.0  manu  2004    55344\n",
       "2  1013.0  manu  2005    55344\n",
       "3  1013.0  manu  2006    55344\n",
       "4  1013.0  manu  2007    55344"
      ]
     },
     "execution_count": 49,
     "metadata": {},
     "output_type": "execute_result"
    }
   ],
   "source": [
    "allSupplierData.head()"
   ]
  },
  {
   "cell_type": "markdown",
   "metadata": {},
   "source": [
    "## Get first-hop SC data"
   ]
  },
  {
   "cell_type": "code",
   "execution_count": 42,
   "metadata": {},
   "outputs": [
    {
     "name": "stdout",
     "output_type": "stream",
     "text": [
      "(46937, 10)\n"
     ]
    },
    {
     "data": {
      "text/html": [
       "<div>\n",
       "<style scoped>\n",
       "    .dataframe tbody tr th:only-of-type {\n",
       "        vertical-align: middle;\n",
       "    }\n",
       "\n",
       "    .dataframe tbody tr th {\n",
       "        vertical-align: top;\n",
       "    }\n",
       "\n",
       "    .dataframe thead th {\n",
       "        text-align: right;\n",
       "    }\n",
       "</style>\n",
       "<table border=\"1\" class=\"dataframe\">\n",
       "  <thead>\n",
       "    <tr style=\"text-align: right;\">\n",
       "      <th></th>\n",
       "      <th>year</th>\n",
       "      <th>supplier_gvkey</th>\n",
       "      <th>customer_gvkey</th>\n",
       "      <th>salecs</th>\n",
       "      <th>customer_ind</th>\n",
       "      <th>supplier_ind</th>\n",
       "      <th>supplier_cstatCompanies</th>\n",
       "      <th>supplier_igCompanies</th>\n",
       "      <th>supplier_delete</th>\n",
       "      <th>supplier_abi</th>\n",
       "    </tr>\n",
       "  </thead>\n",
       "  <tbody>\n",
       "    <tr>\n",
       "      <th>0</th>\n",
       "      <td>2002</td>\n",
       "      <td>1013.0</td>\n",
       "      <td>2136.0</td>\n",
       "      <td>111.056</td>\n",
       "      <td>transportUtilities</td>\n",
       "      <td>manu</td>\n",
       "      <td>adc telecommunications</td>\n",
       "      <td>adc telecommunications</td>\n",
       "      <td>NaN</td>\n",
       "      <td>7523129</td>\n",
       "    </tr>\n",
       "    <tr>\n",
       "      <th>1</th>\n",
       "      <td>2003</td>\n",
       "      <td>1013.0</td>\n",
       "      <td>2136.0</td>\n",
       "      <td>111.056</td>\n",
       "      <td>transportUtilities</td>\n",
       "      <td>manu</td>\n",
       "      <td>adc telecommunications</td>\n",
       "      <td>adc telecommunications</td>\n",
       "      <td>NaN</td>\n",
       "      <td>7523129</td>\n",
       "    </tr>\n",
       "    <tr>\n",
       "      <th>2</th>\n",
       "      <td>2004</td>\n",
       "      <td>1013.0</td>\n",
       "      <td>2136.0</td>\n",
       "      <td>104.312</td>\n",
       "      <td>transportUtilities</td>\n",
       "      <td>manu</td>\n",
       "      <td>adc telecommunications</td>\n",
       "      <td>adc telecommunications</td>\n",
       "      <td>NaN</td>\n",
       "      <td>7523129</td>\n",
       "    </tr>\n",
       "    <tr>\n",
       "      <th>3</th>\n",
       "      <td>2005</td>\n",
       "      <td>1013.0</td>\n",
       "      <td>2136.0</td>\n",
       "      <td>146.000</td>\n",
       "      <td>transportUtilities</td>\n",
       "      <td>manu</td>\n",
       "      <td>adc telecommunications</td>\n",
       "      <td>adc telecommunications</td>\n",
       "      <td>NaN</td>\n",
       "      <td>7523129</td>\n",
       "    </tr>\n",
       "    <tr>\n",
       "      <th>4</th>\n",
       "      <td>2006</td>\n",
       "      <td>1013.0</td>\n",
       "      <td>2136.0</td>\n",
       "      <td>205.000</td>\n",
       "      <td>transportUtilities</td>\n",
       "      <td>manu</td>\n",
       "      <td>adc telecommunications</td>\n",
       "      <td>adc telecommunications</td>\n",
       "      <td>NaN</td>\n",
       "      <td>7523129</td>\n",
       "    </tr>\n",
       "  </tbody>\n",
       "</table>\n",
       "</div>"
      ],
      "text/plain": [
       "   year  supplier_gvkey  customer_gvkey   salecs        customer_ind  \\\n",
       "0  2002          1013.0          2136.0  111.056  transportUtilities   \n",
       "1  2003          1013.0          2136.0  111.056  transportUtilities   \n",
       "2  2004          1013.0          2136.0  104.312  transportUtilities   \n",
       "3  2005          1013.0          2136.0  146.000  transportUtilities   \n",
       "4  2006          1013.0          2136.0  205.000  transportUtilities   \n",
       "\n",
       "  supplier_ind supplier_cstatCompanies    supplier_igCompanies  \\\n",
       "0         manu  adc telecommunications  adc telecommunications   \n",
       "1         manu  adc telecommunications  adc telecommunications   \n",
       "2         manu  adc telecommunications  adc telecommunications   \n",
       "3         manu  adc telecommunications  adc telecommunications   \n",
       "4         manu  adc telecommunications  adc telecommunications   \n",
       "\n",
       "   supplier_delete  supplier_abi  \n",
       "0              NaN       7523129  \n",
       "1              NaN       7523129  \n",
       "2              NaN       7523129  \n",
       "3              NaN       7523129  \n",
       "4              NaN       7523129  "
      ]
     },
     "execution_count": 42,
     "metadata": {},
     "output_type": "execute_result"
    }
   ],
   "source": [
    "c_links = pd.read_csv(\"../../data/companyData/clinks_IG_selected.csv\").drop(columns = {'Unnamed: 0'})\n",
    "\n",
    "print(c_links.shape)\n",
    "\n",
    "c_links.head()"
   ]
  },
  {
   "cell_type": "code",
   "execution_count": 43,
   "metadata": {},
   "outputs": [
    {
     "data": {
      "text/html": [
       "<div>\n",
       "<style scoped>\n",
       "    .dataframe tbody tr th:only-of-type {\n",
       "        vertical-align: middle;\n",
       "    }\n",
       "\n",
       "    .dataframe tbody tr th {\n",
       "        vertical-align: top;\n",
       "    }\n",
       "\n",
       "    .dataframe thead th {\n",
       "        text-align: right;\n",
       "    }\n",
       "</style>\n",
       "<table border=\"1\" class=\"dataframe\">\n",
       "  <thead>\n",
       "    <tr style=\"text-align: right;\">\n",
       "      <th></th>\n",
       "      <th>year</th>\n",
       "      <th>customer_gvkey</th>\n",
       "      <th>totalExp</th>\n",
       "      <th>suppliers</th>\n",
       "    </tr>\n",
       "  </thead>\n",
       "  <tbody>\n",
       "    <tr>\n",
       "      <th>0</th>\n",
       "      <td>2000</td>\n",
       "      <td>1038.0</td>\n",
       "      <td>38.220</td>\n",
       "      <td>2</td>\n",
       "    </tr>\n",
       "    <tr>\n",
       "      <th>1</th>\n",
       "      <td>2000</td>\n",
       "      <td>1045.0</td>\n",
       "      <td>38.093</td>\n",
       "      <td>4</td>\n",
       "    </tr>\n",
       "    <tr>\n",
       "      <th>2</th>\n",
       "      <td>2000</td>\n",
       "      <td>1078.0</td>\n",
       "      <td>5.070</td>\n",
       "      <td>2</td>\n",
       "    </tr>\n",
       "    <tr>\n",
       "      <th>3</th>\n",
       "      <td>2000</td>\n",
       "      <td>1095.0</td>\n",
       "      <td>4.790</td>\n",
       "      <td>1</td>\n",
       "    </tr>\n",
       "    <tr>\n",
       "      <th>4</th>\n",
       "      <td>2000</td>\n",
       "      <td>1121.0</td>\n",
       "      <td>7.883</td>\n",
       "      <td>1</td>\n",
       "    </tr>\n",
       "  </tbody>\n",
       "</table>\n",
       "</div>"
      ],
      "text/plain": [
       "   year  customer_gvkey  totalExp  suppliers\n",
       "0  2000          1038.0    38.220          2\n",
       "1  2000          1045.0    38.093          4\n",
       "2  2000          1078.0     5.070          2\n",
       "3  2000          1095.0     4.790          1\n",
       "4  2000          1121.0     7.883          1"
      ]
     },
     "execution_count": 43,
     "metadata": {},
     "output_type": "execute_result"
    }
   ],
   "source": [
    "c_links['suppliers'] = 1\n",
    "custExp = c_links[['year', 'customer_gvkey', 'salecs','suppliers']].groupby(['year','customer_gvkey']).sum().\\\n",
    "    reset_index().rename(columns = {'salecs': 'totalExp'})\n",
    "\n",
    "custExp.head()\n",
    "\n"
   ]
  },
  {
   "cell_type": "code",
   "execution_count": 44,
   "metadata": {},
   "outputs": [
    {
     "name": "stdout",
     "output_type": "stream",
     "text": [
      "Number of firms with no exp information and multiple suppliers:  312\n",
      "Number of firms with no exp information and >5 suppliers:  3\n"
     ]
    }
   ],
   "source": [
    "print(\"Number of firms with no exp information and multiple suppliers: \", \\\n",
    "          sum(custExp[custExp.totalExp == 0].suppliers > 1))\n",
    "print(\"Number of firms with no exp information and >5 suppliers: \", \\\n",
    "          sum(custExp[custExp.totalExp == 0].suppliers > 5))\n"
   ]
  },
  {
   "cell_type": "markdown",
   "metadata": {},
   "source": [
    "Most of these firms have expenditure information. We can look at:\n",
    "    - Expenditure-weighted (just do equal shares if no exp information)\n",
    "    - Largest supplier\n",
    "    \n",
    "    \n",
    "Our focus is going to be on the economic data of the customers, so isolate for the customers here."
   ]
  },
  {
   "cell_type": "code",
   "execution_count": 45,
   "metadata": {},
   "outputs": [
    {
     "name": "stdout",
     "output_type": "stream",
     "text": [
      "(46293, 6)\n"
     ]
    },
    {
     "data": {
      "text/html": [
       "<div>\n",
       "<style scoped>\n",
       "    .dataframe tbody tr th:only-of-type {\n",
       "        vertical-align: middle;\n",
       "    }\n",
       "\n",
       "    .dataframe tbody tr th {\n",
       "        vertical-align: top;\n",
       "    }\n",
       "\n",
       "    .dataframe thead th {\n",
       "        text-align: right;\n",
       "    }\n",
       "</style>\n",
       "<table border=\"1\" class=\"dataframe\">\n",
       "  <thead>\n",
       "    <tr style=\"text-align: right;\">\n",
       "      <th></th>\n",
       "      <th>year</th>\n",
       "      <th>gvkey</th>\n",
       "      <th>supplier_gvkey</th>\n",
       "      <th>salecs</th>\n",
       "      <th>totalExp</th>\n",
       "      <th>suppliers</th>\n",
       "    </tr>\n",
       "  </thead>\n",
       "  <tbody>\n",
       "    <tr>\n",
       "      <th>0</th>\n",
       "      <td>2002</td>\n",
       "      <td>2136.0</td>\n",
       "      <td>1013.0</td>\n",
       "      <td>111.056</td>\n",
       "      <td>892.202</td>\n",
       "      <td>13</td>\n",
       "    </tr>\n",
       "    <tr>\n",
       "      <th>1</th>\n",
       "      <td>2002</td>\n",
       "      <td>2136.0</td>\n",
       "      <td>3275.0</td>\n",
       "      <td>8.398</td>\n",
       "      <td>892.202</td>\n",
       "      <td>13</td>\n",
       "    </tr>\n",
       "    <tr>\n",
       "      <th>2</th>\n",
       "      <td>2002</td>\n",
       "      <td>2136.0</td>\n",
       "      <td>10286.0</td>\n",
       "      <td>16.987</td>\n",
       "      <td>892.202</td>\n",
       "      <td>13</td>\n",
       "    </tr>\n",
       "    <tr>\n",
       "      <th>3</th>\n",
       "      <td>2002</td>\n",
       "      <td>2136.0</td>\n",
       "      <td>10420.0</td>\n",
       "      <td>229.158</td>\n",
       "      <td>892.202</td>\n",
       "      <td>13</td>\n",
       "    </tr>\n",
       "    <tr>\n",
       "      <th>4</th>\n",
       "      <td>2002</td>\n",
       "      <td>2136.0</td>\n",
       "      <td>14340.0</td>\n",
       "      <td>9.432</td>\n",
       "      <td>892.202</td>\n",
       "      <td>13</td>\n",
       "    </tr>\n",
       "  </tbody>\n",
       "</table>\n",
       "</div>"
      ],
      "text/plain": [
       "   year   gvkey  supplier_gvkey   salecs  totalExp  suppliers\n",
       "0  2002  2136.0          1013.0  111.056   892.202         13\n",
       "1  2002  2136.0          3275.0    8.398   892.202         13\n",
       "2  2002  2136.0         10286.0   16.987   892.202         13\n",
       "3  2002  2136.0         10420.0  229.158   892.202         13\n",
       "4  2002  2136.0         14340.0    9.432   892.202         13"
      ]
     },
     "execution_count": 45,
     "metadata": {},
     "output_type": "execute_result"
    }
   ],
   "source": [
    "customerDB = c_links[['year','customer_gvkey','supplier_gvkey','salecs']].\\\n",
    "    merge(custExp).rename(columns = {'customer_gvkey': 'gvkey'}).drop_duplicates()\n",
    "print(customerDB.shape)\n",
    "\n",
    "customerDB.head()"
   ]
  },
  {
   "cell_type": "markdown",
   "metadata": {},
   "source": [
    "## Merge in supplier weather\n",
    "Get the weather data."
   ]
  },
  {
   "cell_type": "code",
   "execution_count": 46,
   "metadata": {},
   "outputs": [],
   "source": [
    "streaks_withLags = pd.read_csv(\"../../data/companyData/streaks_withLags.csv\").\\\n",
    "    drop(columns = {'Unnamed: 0', 'yearQtr'})\n",
    "\n",
    "g = pd.read_csv(\"../../data/companyData/weatherByEstablishment.csv\").\\\n",
    "    drop(columns = {\"Unnamed: 0\"})\n",
    "\n",
    "allWeather_withLags = pd.read_csv(\"../../data/companyData/allWeather_withLags.csv\").\\\n",
    "    drop(columns = {\"Unnamed: 0\", 'yearQtr'})\n",
    "\n",
    "averages = pd.read_csv(\"../../data/companyData/quarterlyStatsByZip.csv\").\\\n",
    "    drop(columns = {\"Unnamed: 0\"}).rename(columns = {'ZIP': 'zipcode'})\n",
    "\n",
    "\n",
    "averages['qtr'] = averages.quarter.str.slice(1,2).astype('float')\n",
    "averages.drop(columns = {'quarter'}, inplace = True) \n",
    "\n",
    "\n",
    "\n",
    "streaks_withLags          = streaks_withLags.astype({'year':       'category',\n",
    "                           'qtr':        'category',\n",
    "                           'zipcode':    'category'})\n",
    "\n",
    "allWeather_withLags       = allWeather_withLags.astype({'year':       'category',\n",
    "                           'qtr':        'category',\n",
    "                           'zipcode':    'category'})\n",
    "\n",
    "averages                  = averages.astype({'qtr':        'category',\n",
    "                           'zipcode':    'category'})\n",
    "\n",
    "allWeather_byInd_withLags = pd.read_csv(\"../../data/companyData/allWeather_byInd_withLags.csv\").\\\n",
    "    drop(columns = {\"Unnamed: 0\", 'yearQtr'})\n",
    "allWeather_byInd_withLags = allWeather_byInd_withLags.astype({'year':       'category',\n",
    "                           'qtr':        'category',\n",
    "                           'zipcode':    'category'})"
   ]
  },
  {
   "cell_type": "code",
   "execution_count": 47,
   "metadata": {},
   "outputs": [
    {
     "data": {
      "text/html": [
       "<div>\n",
       "<style scoped>\n",
       "    .dataframe tbody tr th:only-of-type {\n",
       "        vertical-align: middle;\n",
       "    }\n",
       "\n",
       "    .dataframe tbody tr th {\n",
       "        vertical-align: top;\n",
       "    }\n",
       "\n",
       "    .dataframe thead th {\n",
       "        text-align: right;\n",
       "    }\n",
       "</style>\n",
       "<table border=\"1\" class=\"dataframe\">\n",
       "  <thead>\n",
       "    <tr style=\"text-align: right;\">\n",
       "      <th></th>\n",
       "      <th>zipcode</th>\n",
       "      <th>year</th>\n",
       "      <th>qtr</th>\n",
       "      <th>hotStreak</th>\n",
       "      <th>wetStreak</th>\n",
       "      <th>lag1_hotStreak</th>\n",
       "      <th>lag1_wetStreak</th>\n",
       "      <th>lag2_hotStreak</th>\n",
       "      <th>lag2_wetStreak</th>\n",
       "      <th>lag3_hotStreak</th>\n",
       "      <th>lag3_wetStreak</th>\n",
       "      <th>lag4_hotStreak</th>\n",
       "      <th>lag4_wetStreak</th>\n",
       "    </tr>\n",
       "  </thead>\n",
       "  <tbody>\n",
       "    <tr>\n",
       "      <th>0</th>\n",
       "      <td>1001</td>\n",
       "      <td>2010</td>\n",
       "      <td>1</td>\n",
       "      <td>1</td>\n",
       "      <td>0</td>\n",
       "      <td>0</td>\n",
       "      <td>0</td>\n",
       "      <td>0</td>\n",
       "      <td>0</td>\n",
       "      <td>0</td>\n",
       "      <td>0</td>\n",
       "      <td>0</td>\n",
       "      <td>0</td>\n",
       "    </tr>\n",
       "    <tr>\n",
       "      <th>1</th>\n",
       "      <td>1001</td>\n",
       "      <td>2010</td>\n",
       "      <td>2</td>\n",
       "      <td>0</td>\n",
       "      <td>0</td>\n",
       "      <td>1</td>\n",
       "      <td>0</td>\n",
       "      <td>0</td>\n",
       "      <td>0</td>\n",
       "      <td>0</td>\n",
       "      <td>0</td>\n",
       "      <td>0</td>\n",
       "      <td>0</td>\n",
       "    </tr>\n",
       "    <tr>\n",
       "      <th>2</th>\n",
       "      <td>1001</td>\n",
       "      <td>2010</td>\n",
       "      <td>3</td>\n",
       "      <td>1</td>\n",
       "      <td>0</td>\n",
       "      <td>0</td>\n",
       "      <td>0</td>\n",
       "      <td>1</td>\n",
       "      <td>0</td>\n",
       "      <td>0</td>\n",
       "      <td>0</td>\n",
       "      <td>0</td>\n",
       "      <td>0</td>\n",
       "    </tr>\n",
       "    <tr>\n",
       "      <th>3</th>\n",
       "      <td>1001</td>\n",
       "      <td>2010</td>\n",
       "      <td>4</td>\n",
       "      <td>0</td>\n",
       "      <td>0</td>\n",
       "      <td>1</td>\n",
       "      <td>0</td>\n",
       "      <td>0</td>\n",
       "      <td>0</td>\n",
       "      <td>1</td>\n",
       "      <td>0</td>\n",
       "      <td>0</td>\n",
       "      <td>0</td>\n",
       "    </tr>\n",
       "    <tr>\n",
       "      <th>4</th>\n",
       "      <td>1001</td>\n",
       "      <td>2011</td>\n",
       "      <td>1</td>\n",
       "      <td>0</td>\n",
       "      <td>0</td>\n",
       "      <td>0</td>\n",
       "      <td>0</td>\n",
       "      <td>1</td>\n",
       "      <td>0</td>\n",
       "      <td>0</td>\n",
       "      <td>0</td>\n",
       "      <td>1</td>\n",
       "      <td>0</td>\n",
       "    </tr>\n",
       "  </tbody>\n",
       "</table>\n",
       "</div>"
      ],
      "text/plain": [
       "  zipcode  year qtr  hotStreak  wetStreak  lag1_hotStreak  lag1_wetStreak  \\\n",
       "0    1001  2010   1          1          0               0               0   \n",
       "1    1001  2010   2          0          0               1               0   \n",
       "2    1001  2010   3          1          0               0               0   \n",
       "3    1001  2010   4          0          0               1               0   \n",
       "4    1001  2011   1          0          0               0               0   \n",
       "\n",
       "   lag2_hotStreak  lag2_wetStreak  lag3_hotStreak  lag3_wetStreak  \\\n",
       "0               0               0               0               0   \n",
       "1               0               0               0               0   \n",
       "2               1               0               0               0   \n",
       "3               0               0               1               0   \n",
       "4               1               0               0               0   \n",
       "\n",
       "   lag4_hotStreak  lag4_wetStreak  \n",
       "0               0               0  \n",
       "1               0               0  \n",
       "2               0               0  \n",
       "3               0               0  \n",
       "4               1               0  "
      ]
     },
     "execution_count": 47,
     "metadata": {},
     "output_type": "execute_result"
    }
   ],
   "source": [
    "streaks_withLags.head()"
   ]
  },
  {
   "cell_type": "markdown",
   "metadata": {},
   "source": [
    "The weather data, for now at least, is only back until 2009. We can potentially change this but for now it fits the ``last ten years\" theme."
   ]
  },
  {
   "cell_type": "code",
   "execution_count": 50,
   "metadata": {},
   "outputs": [
    {
     "name": "stdout",
     "output_type": "stream",
     "text": [
      "supplier:  (1425020, 672)\n"
     ]
    }
   ],
   "source": [
    "suppliersWithWeather = allSupplierData[allSupplierData.year > 2009].merge(streaks_withLags).merge(allWeather_withLags).merge(averages).merge(allWeather_byInd_withLags).merge(g)\n",
    "print(\"supplier: \", suppliersWithWeather.shape)\n",
    "\n",
    "suppliersWithWeather.to_csv(\"../../data/companyData/suppliersWithWeather.csv\")"
   ]
  },
  {
   "cell_type": "code",
   "execution_count": 51,
   "metadata": {},
   "outputs": [
    {
     "data": {
      "text/html": [
       "<div>\n",
       "<style scoped>\n",
       "    .dataframe tbody tr th:only-of-type {\n",
       "        vertical-align: middle;\n",
       "    }\n",
       "\n",
       "    .dataframe tbody tr th {\n",
       "        vertical-align: top;\n",
       "    }\n",
       "\n",
       "    .dataframe thead th {\n",
       "        text-align: right;\n",
       "    }\n",
       "</style>\n",
       "<table border=\"1\" class=\"dataframe\">\n",
       "  <thead>\n",
       "    <tr style=\"text-align: right;\">\n",
       "      <th></th>\n",
       "      <th>gvkey</th>\n",
       "      <th>ind</th>\n",
       "      <th>year</th>\n",
       "      <th>zipcode</th>\n",
       "      <th>qtr</th>\n",
       "      <th>hotStreak</th>\n",
       "      <th>wetStreak</th>\n",
       "      <th>lag1_hotStreak</th>\n",
       "      <th>lag1_wetStreak</th>\n",
       "      <th>lag2_hotStreak</th>\n",
       "      <th>...</th>\n",
       "      <th>empWt_lag4_precip_zipQuarterquant_1x5Yrs</th>\n",
       "      <th>empWt_lag4_temp_annualquant_0.95</th>\n",
       "      <th>empWt_lag4_temp_annualquant_1x5Qtrs</th>\n",
       "      <th>empWt_lag4_temp_annualquant_1x5Yrs</th>\n",
       "      <th>empWt_lag4_temp_zipquant_0.95</th>\n",
       "      <th>empWt_lag4_temp_zipquant_1x5Qtrs</th>\n",
       "      <th>empWt_lag4_temp_zipquant_1x5Yrs</th>\n",
       "      <th>empWt_lag4_temp_zipQuarterquant_0.95</th>\n",
       "      <th>empWt_lag4_temp_zipQuarterquant_1x5Qtrs</th>\n",
       "      <th>empWt_lag4_temp_zipQuarterquant_1x5Yrs</th>\n",
       "    </tr>\n",
       "  </thead>\n",
       "  <tbody>\n",
       "    <tr>\n",
       "      <th>0</th>\n",
       "      <td>1013.0</td>\n",
       "      <td>manu</td>\n",
       "      <td>2010</td>\n",
       "      <td>55344</td>\n",
       "      <td>1</td>\n",
       "      <td>1</td>\n",
       "      <td>0</td>\n",
       "      <td>0</td>\n",
       "      <td>0</td>\n",
       "      <td>0</td>\n",
       "      <td>...</td>\n",
       "      <td>0.332755</td>\n",
       "      <td>0.0</td>\n",
       "      <td>0.0</td>\n",
       "      <td>0.0</td>\n",
       "      <td>0.0</td>\n",
       "      <td>0.0</td>\n",
       "      <td>0.0</td>\n",
       "      <td>10.198698</td>\n",
       "      <td>5.252495</td>\n",
       "      <td>0.0</td>\n",
       "    </tr>\n",
       "    <tr>\n",
       "      <th>1</th>\n",
       "      <td>1013.0</td>\n",
       "      <td>manu</td>\n",
       "      <td>2010</td>\n",
       "      <td>55344</td>\n",
       "      <td>1</td>\n",
       "      <td>1</td>\n",
       "      <td>0</td>\n",
       "      <td>0</td>\n",
       "      <td>0</td>\n",
       "      <td>0</td>\n",
       "      <td>...</td>\n",
       "      <td>0.332755</td>\n",
       "      <td>0.0</td>\n",
       "      <td>0.0</td>\n",
       "      <td>0.0</td>\n",
       "      <td>0.0</td>\n",
       "      <td>0.0</td>\n",
       "      <td>0.0</td>\n",
       "      <td>10.198698</td>\n",
       "      <td>5.252495</td>\n",
       "      <td>0.0</td>\n",
       "    </tr>\n",
       "    <tr>\n",
       "      <th>2</th>\n",
       "      <td>1013.0</td>\n",
       "      <td>manu</td>\n",
       "      <td>2010</td>\n",
       "      <td>55344</td>\n",
       "      <td>1</td>\n",
       "      <td>1</td>\n",
       "      <td>0</td>\n",
       "      <td>0</td>\n",
       "      <td>0</td>\n",
       "      <td>0</td>\n",
       "      <td>...</td>\n",
       "      <td>0.332755</td>\n",
       "      <td>0.0</td>\n",
       "      <td>0.0</td>\n",
       "      <td>0.0</td>\n",
       "      <td>0.0</td>\n",
       "      <td>0.0</td>\n",
       "      <td>0.0</td>\n",
       "      <td>10.198698</td>\n",
       "      <td>5.252495</td>\n",
       "      <td>0.0</td>\n",
       "    </tr>\n",
       "    <tr>\n",
       "      <th>3</th>\n",
       "      <td>1013.0</td>\n",
       "      <td>manu</td>\n",
       "      <td>2010</td>\n",
       "      <td>55344</td>\n",
       "      <td>1</td>\n",
       "      <td>1</td>\n",
       "      <td>0</td>\n",
       "      <td>0</td>\n",
       "      <td>0</td>\n",
       "      <td>0</td>\n",
       "      <td>...</td>\n",
       "      <td>0.332755</td>\n",
       "      <td>0.0</td>\n",
       "      <td>0.0</td>\n",
       "      <td>0.0</td>\n",
       "      <td>0.0</td>\n",
       "      <td>0.0</td>\n",
       "      <td>0.0</td>\n",
       "      <td>10.198698</td>\n",
       "      <td>5.252495</td>\n",
       "      <td>0.0</td>\n",
       "    </tr>\n",
       "    <tr>\n",
       "      <th>4</th>\n",
       "      <td>1013.0</td>\n",
       "      <td>manu</td>\n",
       "      <td>2010</td>\n",
       "      <td>55344</td>\n",
       "      <td>1</td>\n",
       "      <td>1</td>\n",
       "      <td>0</td>\n",
       "      <td>0</td>\n",
       "      <td>0</td>\n",
       "      <td>0</td>\n",
       "      <td>...</td>\n",
       "      <td>0.332755</td>\n",
       "      <td>0.0</td>\n",
       "      <td>0.0</td>\n",
       "      <td>0.0</td>\n",
       "      <td>0.0</td>\n",
       "      <td>0.0</td>\n",
       "      <td>0.0</td>\n",
       "      <td>10.198698</td>\n",
       "      <td>5.252495</td>\n",
       "      <td>0.0</td>\n",
       "    </tr>\n",
       "  </tbody>\n",
       "</table>\n",
       "<p>5 rows × 672 columns</p>\n",
       "</div>"
      ],
      "text/plain": [
       "    gvkey   ind  year zipcode qtr  hotStreak  wetStreak  lag1_hotStreak  \\\n",
       "0  1013.0  manu  2010   55344   1          1          0               0   \n",
       "1  1013.0  manu  2010   55344   1          1          0               0   \n",
       "2  1013.0  manu  2010   55344   1          1          0               0   \n",
       "3  1013.0  manu  2010   55344   1          1          0               0   \n",
       "4  1013.0  manu  2010   55344   1          1          0               0   \n",
       "\n",
       "   lag1_wetStreak  lag2_hotStreak  ...  \\\n",
       "0               0               0  ...   \n",
       "1               0               0  ...   \n",
       "2               0               0  ...   \n",
       "3               0               0  ...   \n",
       "4               0               0  ...   \n",
       "\n",
       "   empWt_lag4_precip_zipQuarterquant_1x5Yrs  empWt_lag4_temp_annualquant_0.95  \\\n",
       "0                                  0.332755                               0.0   \n",
       "1                                  0.332755                               0.0   \n",
       "2                                  0.332755                               0.0   \n",
       "3                                  0.332755                               0.0   \n",
       "4                                  0.332755                               0.0   \n",
       "\n",
       "   empWt_lag4_temp_annualquant_1x5Qtrs  empWt_lag4_temp_annualquant_1x5Yrs  \\\n",
       "0                                  0.0                                 0.0   \n",
       "1                                  0.0                                 0.0   \n",
       "2                                  0.0                                 0.0   \n",
       "3                                  0.0                                 0.0   \n",
       "4                                  0.0                                 0.0   \n",
       "\n",
       "   empWt_lag4_temp_zipquant_0.95  empWt_lag4_temp_zipquant_1x5Qtrs  \\\n",
       "0                            0.0                               0.0   \n",
       "1                            0.0                               0.0   \n",
       "2                            0.0                               0.0   \n",
       "3                            0.0                               0.0   \n",
       "4                            0.0                               0.0   \n",
       "\n",
       "   empWt_lag4_temp_zipquant_1x5Yrs  empWt_lag4_temp_zipQuarterquant_0.95  \\\n",
       "0                              0.0                             10.198698   \n",
       "1                              0.0                             10.198698   \n",
       "2                              0.0                             10.198698   \n",
       "3                              0.0                             10.198698   \n",
       "4                              0.0                             10.198698   \n",
       "\n",
       "   empWt_lag4_temp_zipQuarterquant_1x5Qtrs  \\\n",
       "0                                 5.252495   \n",
       "1                                 5.252495   \n",
       "2                                 5.252495   \n",
       "3                                 5.252495   \n",
       "4                                 5.252495   \n",
       "\n",
       "   empWt_lag4_temp_zipQuarterquant_1x5Yrs  \n",
       "0                                     0.0  \n",
       "1                                     0.0  \n",
       "2                                     0.0  \n",
       "3                                     0.0  \n",
       "4                                     0.0  \n",
       "\n",
       "[5 rows x 672 columns]"
      ]
     },
     "execution_count": 51,
     "metadata": {},
     "output_type": "execute_result"
    }
   ],
   "source": [
    "suppliersWithWeather.head()"
   ]
  },
  {
   "cell_type": "markdown",
   "metadata": {},
   "source": [
    "## Any Supplier\n",
    "Focus on weather of all suppliers. First rename the suppliers data."
   ]
  },
  {
   "cell_type": "code",
   "execution_count": 52,
   "metadata": {},
   "outputs": [
    {
     "name": "stdout",
     "output_type": "stream",
     "text": [
      "Index(['supplier_gvkey', 'year', 'qtr', 'hotStreak', 'supplier_wetStreak',\n",
      "       'supplier_lag1_hotStreak', 'supplier_lag1_wetStreak',\n",
      "       'supplier_lag2_hotStreak', 'supplier_lag2_wetStreak',\n",
      "       'supplier_lag3_hotStreak',\n",
      "       ...\n",
      "       'supplier_empWt_lag4_precip_zipQuarterquant_1x5Yrs',\n",
      "       'supplier_empWt_lag4_temp_annualquant_0.95',\n",
      "       'supplier_empWt_lag4_temp_annualquant_1x5Qtrs',\n",
      "       'supplier_empWt_lag4_temp_annualquant_1x5Yrs',\n",
      "       'supplier_empWt_lag4_temp_zipquant_0.95',\n",
      "       'supplier_empWt_lag4_temp_zipquant_1x5Qtrs',\n",
      "       'supplier_empWt_lag4_temp_zipquant_1x5Yrs',\n",
      "       'supplier_empWt_lag4_temp_zipQuarterquant_0.95',\n",
      "       'supplier_empWt_lag4_temp_zipQuarterquant_1x5Qtrs',\n",
      "       'supplier_empWt_lag4_temp_zipQuarterquant_1x5Yrs'],\n",
      "      dtype='object', length=670)\n"
     ]
    },
    {
     "name": "stderr",
     "output_type": "stream",
     "text": [
      "/Users/brianreed/opt/anaconda3/lib/python3.7/site-packages/pandas/core/frame.py:5047: SettingWithCopyWarning: \n",
      "A value is trying to be set on a copy of a slice from a DataFrame\n",
      "\n",
      "See the caveats in the documentation: https://pandas.pydata.org/pandas-docs/stable/user_guide/indexing.html#returning-a-view-versus-a-copy\n",
      "  errors=errors,\n"
     ]
    }
   ],
   "source": [
    "relevantVars = [x for x in suppliersWithWeather.columns if (('year' in x) | \n",
    "                                                 ('qtr' in x)        |\n",
    "                                                 ('gvkey' in x)      |\n",
    "                                                 ('famafrench' in x) |\n",
    "                                                 ('Streak' in x)     | \n",
    "                                                 ('_' in x)) & \n",
    "                                                ~('roa_lagged' in x) & \n",
    "                                                ~('yearQtr' in x)]\n",
    "\n",
    "suppliers_toMerge = suppliersWithWeather[relevantVars]\n",
    "\n",
    "\n",
    "for colname in suppliers_toMerge.columns[4:]:\n",
    "    suppliers_toMerge.rename(columns = {colname: 'supplier_' + colname}, inplace = True)\n",
    "\n",
    "    \n",
    "suppliers_toMerge.rename(columns = {'gvkey': 'supplier_gvkey',\n",
    "                                   'famafrench': 'supplier_famafrench'},inplace = True)    \n",
    "\n",
    "print(suppliers_toMerge.columns)\n"
   ]
  },
  {
   "cell_type": "markdown",
   "metadata": {},
   "source": [
    "Get the change data and merge with the customers in the customer-supplier dataset."
   ]
  },
  {
   "cell_type": "code",
   "execution_count": 53,
   "metadata": {},
   "outputs": [
    {
     "name": "stderr",
     "output_type": "stream",
     "text": [
      "/Users/brianreed/opt/anaconda3/lib/python3.7/site-packages/IPython/core/interactiveshell.py:3326: DtypeWarning: Columns (15) have mixed types.Specify dtype option on import or set low_memory=False.\n",
      "  exec(code_obj, self.user_global_ns, self.user_ns)\n"
     ]
    },
    {
     "name": "stdout",
     "output_type": "stream",
     "text": [
      "Index(['gvkey', 'datadate', 'year', 'qtr', 'companyName', 'curcdq', 'assets',\n",
      "       'costGoodsSold', 'totalInv', 'netIncome', 'totalRevenue', 'cik',\n",
      "       'costat', 'add1', 'add2', 'addzip', 'city', 'sic', 'state',\n",
      "       'assetsLast', 'netIncomeLast', 'totalRevenueLast', 'costGoodsSoldLast',\n",
      "       'totalInvLast', 'incomeChange', 'revenueChange', 'costChange',\n",
      "       'inventoryChange', 'assetsPrev', 'assetsLagged', 'netIncomeLagged',\n",
      "       'roa_lagged', 'famafrench', 'sic2', 'indGroup', 'earliestYear',\n",
      "       'ageTercile', 'sizeTercile', 'profitTercile', 'datacqtr', 'datafqtr',\n",
      "       'fyr', 'DATE'],\n",
      "      dtype='object')\n",
      "(124640, 47)\n"
     ]
    }
   ],
   "source": [
    "changes = pd.read_csv(\"../../data/companyData/compustatChanges_withControls.csv\").drop(columns = ['Unnamed: 0'])\n",
    "print(changes.columns)\n",
    "customers = changes.merge(customerDB)\n",
    "print(customers.shape)"
   ]
  },
  {
   "cell_type": "code",
   "execution_count": 54,
   "metadata": {},
   "outputs": [
    {
     "data": {
      "text/html": [
       "<div>\n",
       "<style scoped>\n",
       "    .dataframe tbody tr th:only-of-type {\n",
       "        vertical-align: middle;\n",
       "    }\n",
       "\n",
       "    .dataframe tbody tr th {\n",
       "        vertical-align: top;\n",
       "    }\n",
       "\n",
       "    .dataframe thead th {\n",
       "        text-align: right;\n",
       "    }\n",
       "</style>\n",
       "<table border=\"1\" class=\"dataframe\">\n",
       "  <thead>\n",
       "    <tr style=\"text-align: right;\">\n",
       "      <th></th>\n",
       "      <th>gvkey</th>\n",
       "      <th>ind</th>\n",
       "      <th>year</th>\n",
       "      <th>zipcode</th>\n",
       "      <th>qtr</th>\n",
       "      <th>hotStreak</th>\n",
       "      <th>wetStreak</th>\n",
       "      <th>lag1_hotStreak</th>\n",
       "      <th>lag1_wetStreak</th>\n",
       "      <th>lag2_hotStreak</th>\n",
       "      <th>...</th>\n",
       "      <th>empWt_lag4_precip_zipQuarterquant_1x5Yrs</th>\n",
       "      <th>empWt_lag4_temp_annualquant_0.95</th>\n",
       "      <th>empWt_lag4_temp_annualquant_1x5Qtrs</th>\n",
       "      <th>empWt_lag4_temp_annualquant_1x5Yrs</th>\n",
       "      <th>empWt_lag4_temp_zipquant_0.95</th>\n",
       "      <th>empWt_lag4_temp_zipquant_1x5Qtrs</th>\n",
       "      <th>empWt_lag4_temp_zipquant_1x5Yrs</th>\n",
       "      <th>empWt_lag4_temp_zipQuarterquant_0.95</th>\n",
       "      <th>empWt_lag4_temp_zipQuarterquant_1x5Qtrs</th>\n",
       "      <th>empWt_lag4_temp_zipQuarterquant_1x5Yrs</th>\n",
       "    </tr>\n",
       "  </thead>\n",
       "  <tbody>\n",
       "    <tr>\n",
       "      <th>0</th>\n",
       "      <td>1013.0</td>\n",
       "      <td>manu</td>\n",
       "      <td>2010</td>\n",
       "      <td>55344</td>\n",
       "      <td>1</td>\n",
       "      <td>1</td>\n",
       "      <td>0</td>\n",
       "      <td>0</td>\n",
       "      <td>0</td>\n",
       "      <td>0</td>\n",
       "      <td>...</td>\n",
       "      <td>0.332755</td>\n",
       "      <td>0.0</td>\n",
       "      <td>0.0</td>\n",
       "      <td>0.0</td>\n",
       "      <td>0.0</td>\n",
       "      <td>0.0</td>\n",
       "      <td>0.0</td>\n",
       "      <td>10.198698</td>\n",
       "      <td>5.252495</td>\n",
       "      <td>0.0</td>\n",
       "    </tr>\n",
       "    <tr>\n",
       "      <th>1</th>\n",
       "      <td>1013.0</td>\n",
       "      <td>manu</td>\n",
       "      <td>2010</td>\n",
       "      <td>55344</td>\n",
       "      <td>1</td>\n",
       "      <td>1</td>\n",
       "      <td>0</td>\n",
       "      <td>0</td>\n",
       "      <td>0</td>\n",
       "      <td>0</td>\n",
       "      <td>...</td>\n",
       "      <td>0.332755</td>\n",
       "      <td>0.0</td>\n",
       "      <td>0.0</td>\n",
       "      <td>0.0</td>\n",
       "      <td>0.0</td>\n",
       "      <td>0.0</td>\n",
       "      <td>0.0</td>\n",
       "      <td>10.198698</td>\n",
       "      <td>5.252495</td>\n",
       "      <td>0.0</td>\n",
       "    </tr>\n",
       "    <tr>\n",
       "      <th>2</th>\n",
       "      <td>1013.0</td>\n",
       "      <td>manu</td>\n",
       "      <td>2010</td>\n",
       "      <td>55344</td>\n",
       "      <td>1</td>\n",
       "      <td>1</td>\n",
       "      <td>0</td>\n",
       "      <td>0</td>\n",
       "      <td>0</td>\n",
       "      <td>0</td>\n",
       "      <td>...</td>\n",
       "      <td>0.332755</td>\n",
       "      <td>0.0</td>\n",
       "      <td>0.0</td>\n",
       "      <td>0.0</td>\n",
       "      <td>0.0</td>\n",
       "      <td>0.0</td>\n",
       "      <td>0.0</td>\n",
       "      <td>10.198698</td>\n",
       "      <td>5.252495</td>\n",
       "      <td>0.0</td>\n",
       "    </tr>\n",
       "    <tr>\n",
       "      <th>3</th>\n",
       "      <td>1013.0</td>\n",
       "      <td>manu</td>\n",
       "      <td>2010</td>\n",
       "      <td>55344</td>\n",
       "      <td>1</td>\n",
       "      <td>1</td>\n",
       "      <td>0</td>\n",
       "      <td>0</td>\n",
       "      <td>0</td>\n",
       "      <td>0</td>\n",
       "      <td>...</td>\n",
       "      <td>0.332755</td>\n",
       "      <td>0.0</td>\n",
       "      <td>0.0</td>\n",
       "      <td>0.0</td>\n",
       "      <td>0.0</td>\n",
       "      <td>0.0</td>\n",
       "      <td>0.0</td>\n",
       "      <td>10.198698</td>\n",
       "      <td>5.252495</td>\n",
       "      <td>0.0</td>\n",
       "    </tr>\n",
       "    <tr>\n",
       "      <th>4</th>\n",
       "      <td>1013.0</td>\n",
       "      <td>manu</td>\n",
       "      <td>2010</td>\n",
       "      <td>55344</td>\n",
       "      <td>1</td>\n",
       "      <td>1</td>\n",
       "      <td>0</td>\n",
       "      <td>0</td>\n",
       "      <td>0</td>\n",
       "      <td>0</td>\n",
       "      <td>...</td>\n",
       "      <td>0.332755</td>\n",
       "      <td>0.0</td>\n",
       "      <td>0.0</td>\n",
       "      <td>0.0</td>\n",
       "      <td>0.0</td>\n",
       "      <td>0.0</td>\n",
       "      <td>0.0</td>\n",
       "      <td>10.198698</td>\n",
       "      <td>5.252495</td>\n",
       "      <td>0.0</td>\n",
       "    </tr>\n",
       "  </tbody>\n",
       "</table>\n",
       "<p>5 rows × 672 columns</p>\n",
       "</div>"
      ],
      "text/plain": [
       "    gvkey   ind  year zipcode qtr  hotStreak  wetStreak  lag1_hotStreak  \\\n",
       "0  1013.0  manu  2010   55344   1          1          0               0   \n",
       "1  1013.0  manu  2010   55344   1          1          0               0   \n",
       "2  1013.0  manu  2010   55344   1          1          0               0   \n",
       "3  1013.0  manu  2010   55344   1          1          0               0   \n",
       "4  1013.0  manu  2010   55344   1          1          0               0   \n",
       "\n",
       "   lag1_wetStreak  lag2_hotStreak  ...  \\\n",
       "0               0               0  ...   \n",
       "1               0               0  ...   \n",
       "2               0               0  ...   \n",
       "3               0               0  ...   \n",
       "4               0               0  ...   \n",
       "\n",
       "   empWt_lag4_precip_zipQuarterquant_1x5Yrs  empWt_lag4_temp_annualquant_0.95  \\\n",
       "0                                  0.332755                               0.0   \n",
       "1                                  0.332755                               0.0   \n",
       "2                                  0.332755                               0.0   \n",
       "3                                  0.332755                               0.0   \n",
       "4                                  0.332755                               0.0   \n",
       "\n",
       "   empWt_lag4_temp_annualquant_1x5Qtrs  empWt_lag4_temp_annualquant_1x5Yrs  \\\n",
       "0                                  0.0                                 0.0   \n",
       "1                                  0.0                                 0.0   \n",
       "2                                  0.0                                 0.0   \n",
       "3                                  0.0                                 0.0   \n",
       "4                                  0.0                                 0.0   \n",
       "\n",
       "   empWt_lag4_temp_zipquant_0.95  empWt_lag4_temp_zipquant_1x5Qtrs  \\\n",
       "0                            0.0                               0.0   \n",
       "1                            0.0                               0.0   \n",
       "2                            0.0                               0.0   \n",
       "3                            0.0                               0.0   \n",
       "4                            0.0                               0.0   \n",
       "\n",
       "   empWt_lag4_temp_zipquant_1x5Yrs  empWt_lag4_temp_zipQuarterquant_0.95  \\\n",
       "0                              0.0                             10.198698   \n",
       "1                              0.0                             10.198698   \n",
       "2                              0.0                             10.198698   \n",
       "3                              0.0                             10.198698   \n",
       "4                              0.0                             10.198698   \n",
       "\n",
       "   empWt_lag4_temp_zipQuarterquant_1x5Qtrs  \\\n",
       "0                                 5.252495   \n",
       "1                                 5.252495   \n",
       "2                                 5.252495   \n",
       "3                                 5.252495   \n",
       "4                                 5.252495   \n",
       "\n",
       "   empWt_lag4_temp_zipQuarterquant_1x5Yrs  \n",
       "0                                     0.0  \n",
       "1                                     0.0  \n",
       "2                                     0.0  \n",
       "3                                     0.0  \n",
       "4                                     0.0  \n",
       "\n",
       "[5 rows x 672 columns]"
      ]
     },
     "execution_count": 54,
     "metadata": {},
     "output_type": "execute_result"
    }
   ],
   "source": [
    "suppliersWithWeather.head()"
   ]
  },
  {
   "cell_type": "code",
   "execution_count": 55,
   "metadata": {},
   "outputs": [],
   "source": [
    "allSuppliersWithWeather = customers.merge(suppliers_toMerge)"
   ]
  },
  {
   "cell_type": "code",
   "execution_count": 56,
   "metadata": {},
   "outputs": [],
   "source": [
    "allSuppliersWithWeather.to_csv(\"../../data/companyData/allSuppliersWithWeather.csv\")"
   ]
  },
  {
   "cell_type": "markdown",
   "metadata": {},
   "source": [
    "### stock data\n",
    "merge in weather at the location of any supplier. First, get the supplier names only."
   ]
  },
  {
   "cell_type": "code",
   "execution_count": null,
   "metadata": {},
   "outputs": [],
   "source": [
    "allSupplierData = pd.read_csv(\"../../data/companyData/allSupplierData.csv\").\\\n",
    "    drop(columns = ['Unnamed: 0'])[['gvkey', 'famafrench', 'year','zipcode']]\n",
    "print(allSupplierData.shape, allSupplierData.columns)\n",
    "\n",
    "allSupplierData.head()"
   ]
  },
  {
   "cell_type": "markdown",
   "metadata": {},
   "source": [
    "And merge with the daily weather data."
   ]
  },
  {
   "cell_type": "code",
   "execution_count": null,
   "metadata": {},
   "outputs": [],
   "source": [
    "allWeather = pd.read_csv(\"../../data/companyData/stockWeather_zipQuarterQuants.csv\").\\\n",
    "    drop(columns = {'Unnamed: 0'})\n",
    "\n",
    "allWeather = allWeather[~allWeather.temp_zipQuarterLast5.isna()].reset_index(drop = True)\n",
    "\n",
    "allWeather['date'] = pd.to_datetime(allWeather['date'],\n",
    "                                   format = \"%Y-%m-%d\")\n",
    "\n",
    "allWeather.rename(columns = {'ZIP': 'zipcode'}, inplace = True)\n",
    "print(allWeather.dtypes)\n",
    "allWeather.head()\n",
    "\n",
    "\n",
    "allWeather['year'] = allWeather.date.dt.year\n",
    "\n",
    "supplierWeather = allSupplierData.merge(allWeather)"
   ]
  },
  {
   "cell_type": "code",
   "execution_count": null,
   "metadata": {},
   "outputs": [],
   "source": [
    "supplierWeather.head()"
   ]
  },
  {
   "cell_type": "code",
   "execution_count": null,
   "metadata": {},
   "outputs": [],
   "source": [
    "supplierWeather.drop(columns = {'zipcode'},inplace = True)\n",
    "supplierWeather.rename(columns = {'gvkey': 'supplier_gvkey','famafrench': 'supplier_famafrench'},inplace = True)"
   ]
  },
  {
   "cell_type": "markdown",
   "metadata": {},
   "source": [
    "Now get the actual stock data."
   ]
  },
  {
   "cell_type": "code",
   "execution_count": null,
   "metadata": {},
   "outputs": [],
   "source": [
    "with open('../../data/stockReturns.pkl', 'rb') as f:\n",
    "    stocks = pkl.load(f)[['date','gvkey','RET']]\n",
    "\n",
    "stocks = stocks[stocks.date.dt.year > 2008]\n",
    "\n",
    "stocks['qtr']  = stocks.date.dt.quarter\n",
    "stocks['year'] = stocks.date.dt.year\n",
    "\n",
    "stocks = stocks[~stocks.gvkey.isna()]\n",
    "stocks['gvkey'] = stocks['gvkey'].astype(int)\n",
    "print(stocks.shape)\n",
    "\n",
    "stocks.head()"
   ]
  },
  {
   "cell_type": "markdown",
   "metadata": {},
   "source": [
    "The controls data."
   ]
  },
  {
   "cell_type": "code",
   "execution_count": null,
   "metadata": {},
   "outputs": [],
   "source": [
    "igChanges = pd.read_csv(\"../../data/companyData/igData.csv\").\\\n",
    "    drop(columns = {'Unnamed: 0'})\n",
    "igChanges.head()\n",
    "\n",
    "companyControls = igChanges[['gvkey','year','qtr','famafrench','ageTercile','sizeTercile','profitTercile','zipcode']]\n",
    "companyControls.head()"
   ]
  },
  {
   "cell_type": "markdown",
   "metadata": {},
   "source": [
    "And merge it all together."
   ]
  },
  {
   "cell_type": "code",
   "execution_count": null,
   "metadata": {},
   "outputs": [],
   "source": [
    "customerDB['gvkey'] = customerDB.gvkey.astype('int64')"
   ]
  },
  {
   "cell_type": "code",
   "execution_count": null,
   "metadata": {},
   "outputs": [],
   "source": [
    "supplierStocks = customerDB.merge(companyControls).merge(stocks).merge(supplierWeather)\n",
    "print(supplierStocks.shape)\n",
    "\n",
    "supplierStocks.head()"
   ]
  },
  {
   "cell_type": "code",
   "execution_count": null,
   "metadata": {},
   "outputs": [],
   "source": [
    "supplierStocks.to_csv(\"../../data/companyData/supplierStocks.csv\")"
   ]
  },
  {
   "cell_type": "markdown",
   "metadata": {},
   "source": [
    "## Biggest Supplier\n",
    "Focus on weather of biggest supplier.\n",
    "\n",
    "First find the max by supplier. Add back in any rows with only 1 supplier."
   ]
  },
  {
   "cell_type": "code",
   "execution_count": null,
   "metadata": {},
   "outputs": [],
   "source": [
    "customerDB.shape"
   ]
  },
  {
   "cell_type": "code",
   "execution_count": null,
   "metadata": {},
   "outputs": [],
   "source": [
    "# https://stackoverflow.com/questions/15705630/get-the-rows-which-have-the-max-value-in-groups-using-groupby\n",
    "idx = customerDB.groupby(['year','gvkey']).salecs.\\\n",
    "    transform(max) == customerDB.salecs\n",
    "largestSuppliers = customerDB[idx].reset_index(drop = True)\n",
    "print(largestSuppliers.shape)\n",
    "\n",
    "# find companies who only have one other supplier\n",
    "singleSuppliers = customerDB[customerDB.suppliers == 1].reset_index(drop = True)\n",
    "print(singleSuppliers.shape)\n",
    "\n",
    "# find largest suppliers of different companies\n",
    "largestSuppliers = largestSuppliers.append(singleSuppliers).drop_duplicates()\n",
    "print(largestSuppliers.shape)\n",
    "\n"
   ]
  },
  {
   "cell_type": "code",
   "execution_count": null,
   "metadata": {},
   "outputs": [],
   "source": [
    "largestSuppliers.head()"
   ]
  },
  {
   "cell_type": "markdown",
   "metadata": {},
   "source": [
    "Merge in the change data for that gvkey."
   ]
  },
  {
   "cell_type": "code",
   "execution_count": null,
   "metadata": {},
   "outputs": [],
   "source": [
    "relevantVars = [x for x in suppliersWithWeather.columns if (('year' in x) | \n",
    "                                                 ('qtr' in x) |\n",
    "                                                 ('gvkey' in x) |\n",
    "                                                 ('famafrench' in x) |\n",
    "                                                 ('Streak' in x)     |\n",
    "                                                 ('_' in x)) & \n",
    "                                                ~('roa_lagged' in x) & \n",
    "                                                ~('yearQtr' in x)]\n",
    "\n",
    "suppliers_toMerge = suppliersWithWeather[relevantVars]\n",
    "\n",
    "\n",
    "for colname in suppliers_toMerge.columns[4:]:\n",
    "    suppliers_toMerge.rename(columns = {colname: 'supplier_' + colname}, inplace = True)\n",
    "\n",
    "    \n",
    "suppliers_toMerge.rename(columns = {'gvkey': 'supplier_gvkey',\n",
    "                                   'famafrench': 'supplier_famafrench'},inplace = True)    \n",
    "\n",
    "print(suppliers_toMerge.columns)\n",
    "\n",
    "\n",
    "'''suppliers_toMerge = suppliersWithWeather[['year','qtr','gvkey','tmax_quant_1.0','precip_quant_1.0']].\\\n",
    "    rename(columns = {'gvkey': 'supplier_gvkey',\n",
    "                      'tmax_quant_1.0': 'supplier_tmax_quant_1.0',\n",
    "                      'precip_quant_1.0': 'supplier_precip_quant_1.0'})'''"
   ]
  },
  {
   "cell_type": "code",
   "execution_count": null,
   "metadata": {},
   "outputs": [],
   "source": [
    "changes = pd.read_csv(\"../../data/companyData/compustatChanges_withControls.csv\").drop(columns = ['Unnamed: 0'])\n",
    "print(changes.columns)\n",
    "customers = changes.merge(largestSuppliers) # gvkey is on the customer here\n",
    "print(customers.shape)"
   ]
  },
  {
   "cell_type": "code",
   "execution_count": null,
   "metadata": {},
   "outputs": [],
   "source": [
    "largestSuppliersWithWeather = customers.merge(largestSuppliers[['year', 'gvkey', 'supplier_gvkey']]).merge(suppliers_toMerge)\n",
    "largestSuppliersWithWeather.shape"
   ]
  },
  {
   "cell_type": "code",
   "execution_count": null,
   "metadata": {},
   "outputs": [],
   "source": [
    "for col in largestSuppliersWithWeather.columns:\n",
    "    print(col)"
   ]
  },
  {
   "cell_type": "code",
   "execution_count": null,
   "metadata": {},
   "outputs": [],
   "source": [
    "largestSuppliersWithWeather.to_csv(\"../../data/companyData/largestSuppliersWithWeather.csv\")"
   ]
  },
  {
   "cell_type": "markdown",
   "metadata": {},
   "source": [
    "## Sales-Weighted Average\n",
    "If a company doesn't have sales-specific information, then assume equal shares. This doesn't happen for too many of the companies, thankfully."
   ]
  },
  {
   "cell_type": "code",
   "execution_count": null,
   "metadata": {},
   "outputs": [],
   "source": [
    "customerDB = c_links[['year','customer_gvkey','supplier_gvkey','salecs']].\\\n",
    "    merge(custExp).rename(columns = {'customer_gvkey': 'gvkey'}).drop_duplicates()\n",
    "\n",
    "customerDB['salesWeight'] = customerDB.salecs/customerDB.totalExp\n",
    "\n",
    "customerDB.fillna(1, inplace = True)"
   ]
  },
  {
   "cell_type": "markdown",
   "metadata": {},
   "source": [
    "Now merge this with the supplier weather data, and use the sales weights to find a sales-weighted average of the weather conditions for the suppliers."
   ]
  },
  {
   "cell_type": "code",
   "execution_count": null,
   "metadata": {},
   "outputs": [],
   "source": [
    "relevantVars = [x for x in suppliersWithWeather.columns if (('year' in x) | \n",
    "                                                 ('qtr' in x) |\n",
    "                                                 ('gvkey' in x) |\n",
    "                                                 ('_' in x)) & \n",
    "                                                ~('roa_lagged' in x) & \n",
    "                                                ~('yearQtr' in x)]\n",
    "\n",
    "suppliers_toMerge = suppliersWithWeather[relevantVars]\n",
    "\n",
    "\n",
    "for colname in suppliers_toMerge.columns[3:]:\n",
    "    suppliers_toMerge.rename(columns = {colname: 'supplier_' + colname}, inplace = True)\n",
    "\n",
    "    \n",
    "suppliers_toMerge.rename(columns = {'gvkey': 'supplier_gvkey'},inplace = True)    \n"
   ]
  },
  {
   "cell_type": "code",
   "execution_count": null,
   "metadata": {},
   "outputs": [],
   "source": [
    "suppliers_toMerge.head()"
   ]
  },
  {
   "cell_type": "markdown",
   "metadata": {},
   "source": [
    "For each of the supplier weather columns, multiply the variable by the fraction of sales attributable to that relationship."
   ]
  },
  {
   "cell_type": "code",
   "execution_count": null,
   "metadata": {},
   "outputs": [],
   "source": [
    "supplierWeather = customerDB[['year','gvkey','supplier_gvkey','salesWeight']].merge(suppliers_toMerge)\n",
    "\n",
    "for col in supplierWeather.columns[7:]:\n",
    "        supplierWeather[col]   = supplierWeather.salesWeight*supplierWeather[col]\n",
    "        \n",
    "        \n",
    "\n",
    "supplierWeather.drop(columns = {'supplier_gvkey','salesWeight'}, inplace = True)\n",
    "\n",
    "\n",
    "print(supplierWeather.head())\n",
    "\n",
    "\n",
    "\n",
    "# [['year','qtr','gvkey','supplier_tmax_quant_1.0','supplier_precip_quant_1.0']]"
   ]
  },
  {
   "cell_type": "code",
   "execution_count": null,
   "metadata": {},
   "outputs": [],
   "source": [
    "supplierWtdAvgWeather = supplierWeather.groupby(['year','qtr','gvkey']).sum().reset_index().drop_duplicates()"
   ]
  },
  {
   "cell_type": "code",
   "execution_count": null,
   "metadata": {},
   "outputs": [],
   "source": [
    "supplierWtdAvgWeather.gvkey.unique()"
   ]
  },
  {
   "cell_type": "markdown",
   "metadata": {},
   "source": [
    "Merge the supplier weighted average weather data with the customer data that has weather as well."
   ]
  },
  {
   "cell_type": "code",
   "execution_count": null,
   "metadata": {},
   "outputs": [],
   "source": [
    "customersWithWeather.head()"
   ]
  },
  {
   "cell_type": "code",
   "execution_count": null,
   "metadata": {},
   "outputs": [],
   "source": [
    "wtdAvgSuppliers = customersWithWeather.merge(supplierWtdAvgWeather)\n",
    "\n",
    "wtdAvgSuppliers.head()"
   ]
  },
  {
   "cell_type": "code",
   "execution_count": null,
   "metadata": {},
   "outputs": [],
   "source": [
    "wtdAvgSuppliers.shape"
   ]
  },
  {
   "cell_type": "code",
   "execution_count": null,
   "metadata": {},
   "outputs": [],
   "source": [
    "wtdAvgSuppliers.to_csv(\"../../data/companyData/wtdAvgSuppliers.csv\")"
   ]
  },
  {
   "cell_type": "code",
   "execution_count": null,
   "metadata": {},
   "outputs": [],
   "source": [
    "wtdAvgSuppliers.head()"
   ]
  },
  {
   "cell_type": "code",
   "execution_count": null,
   "metadata": {},
   "outputs": [],
   "source": [
    "wtdAvgSuppliers.columns[wtdAvgSuppliers.columns.str.contains('Tercile')]"
   ]
  },
  {
   "cell_type": "code",
   "execution_count": null,
   "metadata": {},
   "outputs": [],
   "source": []
  }
 ],
 "metadata": {
  "kernelspec": {
   "display_name": "Python 3",
   "language": "python",
   "name": "python3"
  },
  "language_info": {
   "codemirror_mode": {
    "name": "ipython",
    "version": 3
   },
   "file_extension": ".py",
   "mimetype": "text/x-python",
   "name": "python",
   "nbconvert_exporter": "python",
   "pygments_lexer": "ipython3",
   "version": "3.7.4"
  }
 },
 "nbformat": 4,
 "nbformat_minor": 2
}
