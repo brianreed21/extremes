{
 "cells": [
  {
   "cell_type": "code",
   "execution_count": 2,
   "metadata": {},
   "outputs": [],
   "source": [
    "import pickle as pkl\n",
    "import pandas as pd\n",
    "import matplotlib\n",
    "import os\n",
    "import re\n",
    "\n",
    "import collections\n",
    "import datetime\n",
    "import time\n",
    "\n",
    "import geopandas as gpd\n",
    "\n",
    "import numpy as np\n",
    "\n",
    "import rasterio\n",
    "\n",
    "import spacy\n",
    "\n",
    "import gc\n",
    "\n",
    "import geopy.distance\n",
    "\n",
    "nlp = spacy.load('en_core_web_lg')\n",
    "from sklearn.metrics.pairwise import cosine_similarity\n",
    "\n",
    "import itertools\n",
    "\n",
    "import pgeocode\n",
    "\n",
    "from dateutil.relativedelta import relativedelta"
   ]
  },
  {
   "cell_type": "markdown",
   "metadata": {},
   "source": [
    "# Indirect\n",
    "Introduce the SC Data, focusing on transactions between US companies."
   ]
  },
  {
   "cell_type": "code",
   "execution_count": 3,
   "metadata": {},
   "outputs": [
    {
     "data": {
      "text/html": [
       "<div>\n",
       "<style scoped>\n",
       "    .dataframe tbody tr th:only-of-type {\n",
       "        vertical-align: middle;\n",
       "    }\n",
       "\n",
       "    .dataframe tbody tr th {\n",
       "        vertical-align: top;\n",
       "    }\n",
       "\n",
       "    .dataframe thead th {\n",
       "        text-align: right;\n",
       "    }\n",
       "</style>\n",
       "<table border=\"1\" class=\"dataframe\">\n",
       "  <thead>\n",
       "    <tr style=\"text-align: right;\">\n",
       "      <th></th>\n",
       "      <th>year</th>\n",
       "      <th>supplier_gvkey</th>\n",
       "      <th>customer_gvkey</th>\n",
       "      <th>salecs</th>\n",
       "    </tr>\n",
       "  </thead>\n",
       "  <tbody>\n",
       "    <tr>\n",
       "      <th>0</th>\n",
       "      <td>2002-01-01</td>\n",
       "      <td>1013</td>\n",
       "      <td>2136</td>\n",
       "      <td>111.056</td>\n",
       "    </tr>\n",
       "    <tr>\n",
       "      <th>1</th>\n",
       "      <td>2004-01-01</td>\n",
       "      <td>1013</td>\n",
       "      <td>2136</td>\n",
       "      <td>104.312</td>\n",
       "    </tr>\n",
       "    <tr>\n",
       "      <th>2</th>\n",
       "      <td>2005-01-01</td>\n",
       "      <td>1013</td>\n",
       "      <td>2136</td>\n",
       "      <td>146.000</td>\n",
       "    </tr>\n",
       "    <tr>\n",
       "      <th>3</th>\n",
       "      <td>2006-01-01</td>\n",
       "      <td>1013</td>\n",
       "      <td>2136</td>\n",
       "      <td>205.000</td>\n",
       "    </tr>\n",
       "    <tr>\n",
       "      <th>4</th>\n",
       "      <td>2007-01-01</td>\n",
       "      <td>1013</td>\n",
       "      <td>2136</td>\n",
       "      <td>236.000</td>\n",
       "    </tr>\n",
       "  </tbody>\n",
       "</table>\n",
       "</div>"
      ],
      "text/plain": [
       "        year  supplier_gvkey  customer_gvkey   salecs\n",
       "0 2002-01-01            1013            2136  111.056\n",
       "1 2004-01-01            1013            2136  104.312\n",
       "2 2005-01-01            1013            2136  146.000\n",
       "3 2006-01-01            1013            2136  205.000\n",
       "4 2007-01-01            1013            2136  236.000"
      ]
     },
     "execution_count": 3,
     "metadata": {},
     "output_type": "execute_result"
    }
   ],
   "source": [
    "c_links = pd.read_csv(\"../../data/companyData/c_linksUS.csv\") # pd.read_csv(\"../../data/companyData/compustatSCLinked.csv\")\n",
    "\n",
    "c_links['year'] = c_links.srcdate.astype('str').str.slice(0,4).astype('int64')\n",
    "\n",
    "c_links = c_links[c_links.year > 1999][['year','gvkey','cgvkey','salecs']].\\\n",
    "    rename(columns = {'cgvkey': 'customer_gvkey','gvkey': 'supplier_gvkey'})\n",
    "\n",
    "c_links['year'] = pd.to_datetime(c_links.year, format = '%Y')\n",
    "\n",
    "\n",
    "c_links.head()"
   ]
  },
  {
   "cell_type": "code",
   "execution_count": 4,
   "metadata": {},
   "outputs": [
    {
     "data": {
      "text/plain": [
       "11228"
      ]
     },
     "execution_count": 4,
     "metadata": {},
     "output_type": "execute_result"
    }
   ],
   "source": [
    "sum(c_links.salecs.isna())"
   ]
  },
  {
   "cell_type": "code",
   "execution_count": 5,
   "metadata": {},
   "outputs": [
    {
     "name": "stdout",
     "output_type": "stream",
     "text": [
      "(11827, 2)\n"
     ]
    },
    {
     "data": {
      "text/html": [
       "<div>\n",
       "<style scoped>\n",
       "    .dataframe tbody tr th:only-of-type {\n",
       "        vertical-align: middle;\n",
       "    }\n",
       "\n",
       "    .dataframe tbody tr th {\n",
       "        vertical-align: top;\n",
       "    }\n",
       "\n",
       "    .dataframe thead th {\n",
       "        text-align: right;\n",
       "    }\n",
       "</style>\n",
       "<table border=\"1\" class=\"dataframe\">\n",
       "  <thead>\n",
       "    <tr style=\"text-align: right;\">\n",
       "      <th></th>\n",
       "      <th>supplier_gvkey</th>\n",
       "      <th>customer_gvkey</th>\n",
       "    </tr>\n",
       "  </thead>\n",
       "  <tbody>\n",
       "    <tr>\n",
       "      <th>0</th>\n",
       "      <td>1013</td>\n",
       "      <td>2136</td>\n",
       "    </tr>\n",
       "    <tr>\n",
       "      <th>1</th>\n",
       "      <td>1013</td>\n",
       "      <td>9899</td>\n",
       "    </tr>\n",
       "    <tr>\n",
       "      <th>2</th>\n",
       "      <td>1021</td>\n",
       "      <td>61494</td>\n",
       "    </tr>\n",
       "    <tr>\n",
       "      <th>3</th>\n",
       "      <td>1021</td>\n",
       "      <td>25880</td>\n",
       "    </tr>\n",
       "    <tr>\n",
       "      <th>4</th>\n",
       "      <td>1048</td>\n",
       "      <td>11552</td>\n",
       "    </tr>\n",
       "  </tbody>\n",
       "</table>\n",
       "</div>"
      ],
      "text/plain": [
       "   supplier_gvkey  customer_gvkey\n",
       "0            1013            2136\n",
       "1            1013            9899\n",
       "2            1021           61494\n",
       "3            1021           25880\n",
       "4            1048           11552"
      ]
     },
     "execution_count": 5,
     "metadata": {},
     "output_type": "execute_result"
    }
   ],
   "source": [
    "supplierCombos = c_links[['supplier_gvkey', 'customer_gvkey']].drop_duplicates().reset_index(drop = True)\n",
    "\n",
    "print(supplierCombos.shape)\n",
    "\n",
    "supplierCombos.head()"
   ]
  },
  {
   "cell_type": "markdown",
   "metadata": {},
   "source": [
    "We'll follow Barrot Sauvagnat in assuming that a supplier relationship holds for every year between the first and last year in which a customer is reported. This is going to take a little bit of work. We'll try it like this: \n",
    "- subset dataframe to a specific supplier-customer pair\n",
    "- fill in data for every year that's missing\n",
    "\n",
    "Then, apply this row-wise to all rows of the unique supplierCombos df above using: https://stackoverflow.com/questions/61942138/apply-function-row-wise-to-pandas-dataframe"
   ]
  },
  {
   "cell_type": "code",
   "execution_count": 6,
   "metadata": {},
   "outputs": [],
   "source": [
    "def fillYear(supplier, customer, scData = c_links):\n",
    "    c_linksTemp = scData[(scData.supplier_gvkey == supplier) & \\\n",
    "                      (scData.customer_gvkey == customer)].reset_index(drop = True)\n",
    "    \n",
    "    # if there are na values and non-na values for the same supplier-cust combination, then \n",
    "    # select for only the non-na values, by (1) replacing na with negative, (2) 1\n",
    "    c_linksTemp['salecs'] = c_linksTemp['salecs'].fillna(-5)\n",
    "    c_linksTemp = c_linksTemp.loc[c_linksTemp.reset_index().groupby(['year','supplier_gvkey',\n",
    "                                                                     'customer_gvkey'])['salecs'].idxmax()]\n",
    "    \n",
    "    \n",
    "    # now: find the start and end of the data series\n",
    "    first = c_linksTemp.year.min() # - relativedelta(years = 1)\n",
    "    last  = c_linksTemp.year.max() # + relativedelta(years = 1)\n",
    "    \n",
    "    \n",
    "    c_linksTemp['firstYear'] = c_linksTemp.year.min()\n",
    "    c_linksTemp['lastYear']  = c_linksTemp.year.max()\n",
    "    \n",
    "    \n",
    "    c_linksTemp = c_linksTemp.set_index('year') \n",
    "    \n",
    "    \n",
    "    c_linksTemp = c_linksTemp.reindex(pd.date_range(first, last, freq = 'YS')).\\\n",
    "        reset_index().rename(columns = {'index': 'year'})\n",
    "    \n",
    "    \n",
    "    # and impute all values within the series\n",
    "    c_linksTemp = c_linksTemp.groupby(c_linksTemp.year.dt.time).ffill().bfill()\n",
    "    \n",
    "    \n",
    "    return(c_linksTemp)"
   ]
  },
  {
   "cell_type": "markdown",
   "metadata": {},
   "source": [
    "Show that this works for one of the supplier rows."
   ]
  },
  {
   "cell_type": "code",
   "execution_count": 7,
   "metadata": {},
   "outputs": [
    {
     "data": {
      "text/html": [
       "<div>\n",
       "<style scoped>\n",
       "    .dataframe tbody tr th:only-of-type {\n",
       "        vertical-align: middle;\n",
       "    }\n",
       "\n",
       "    .dataframe tbody tr th {\n",
       "        vertical-align: top;\n",
       "    }\n",
       "\n",
       "    .dataframe thead th {\n",
       "        text-align: right;\n",
       "    }\n",
       "</style>\n",
       "<table border=\"1\" class=\"dataframe\">\n",
       "  <thead>\n",
       "    <tr style=\"text-align: right;\">\n",
       "      <th></th>\n",
       "      <th>year</th>\n",
       "      <th>supplier_gvkey</th>\n",
       "      <th>customer_gvkey</th>\n",
       "      <th>salecs</th>\n",
       "      <th>firstYear</th>\n",
       "      <th>lastYear</th>\n",
       "    </tr>\n",
       "  </thead>\n",
       "  <tbody>\n",
       "    <tr>\n",
       "      <th>0</th>\n",
       "      <td>2001-01-01</td>\n",
       "      <td>1013.0</td>\n",
       "      <td>2136.0</td>\n",
       "      <td>111.056</td>\n",
       "      <td>2002-01-01</td>\n",
       "      <td>2010-01-01</td>\n",
       "    </tr>\n",
       "    <tr>\n",
       "      <th>1</th>\n",
       "      <td>2002-01-01</td>\n",
       "      <td>1013.0</td>\n",
       "      <td>2136.0</td>\n",
       "      <td>111.056</td>\n",
       "      <td>2002-01-01</td>\n",
       "      <td>2010-01-01</td>\n",
       "    </tr>\n",
       "    <tr>\n",
       "      <th>2</th>\n",
       "      <td>2003-01-01</td>\n",
       "      <td>1013.0</td>\n",
       "      <td>2136.0</td>\n",
       "      <td>111.056</td>\n",
       "      <td>2002-01-01</td>\n",
       "      <td>2010-01-01</td>\n",
       "    </tr>\n",
       "    <tr>\n",
       "      <th>3</th>\n",
       "      <td>2004-01-01</td>\n",
       "      <td>1013.0</td>\n",
       "      <td>2136.0</td>\n",
       "      <td>104.312</td>\n",
       "      <td>2002-01-01</td>\n",
       "      <td>2010-01-01</td>\n",
       "    </tr>\n",
       "    <tr>\n",
       "      <th>4</th>\n",
       "      <td>2005-01-01</td>\n",
       "      <td>1013.0</td>\n",
       "      <td>2136.0</td>\n",
       "      <td>146.000</td>\n",
       "      <td>2002-01-01</td>\n",
       "      <td>2010-01-01</td>\n",
       "    </tr>\n",
       "    <tr>\n",
       "      <th>5</th>\n",
       "      <td>2006-01-01</td>\n",
       "      <td>1013.0</td>\n",
       "      <td>2136.0</td>\n",
       "      <td>205.000</td>\n",
       "      <td>2002-01-01</td>\n",
       "      <td>2010-01-01</td>\n",
       "    </tr>\n",
       "    <tr>\n",
       "      <th>6</th>\n",
       "      <td>2007-01-01</td>\n",
       "      <td>1013.0</td>\n",
       "      <td>2136.0</td>\n",
       "      <td>236.000</td>\n",
       "      <td>2002-01-01</td>\n",
       "      <td>2010-01-01</td>\n",
       "    </tr>\n",
       "    <tr>\n",
       "      <th>7</th>\n",
       "      <td>2008-01-01</td>\n",
       "      <td>1013.0</td>\n",
       "      <td>2136.0</td>\n",
       "      <td>240.000</td>\n",
       "      <td>2002-01-01</td>\n",
       "      <td>2010-01-01</td>\n",
       "    </tr>\n",
       "    <tr>\n",
       "      <th>8</th>\n",
       "      <td>2009-01-01</td>\n",
       "      <td>1013.0</td>\n",
       "      <td>2136.0</td>\n",
       "      <td>176.000</td>\n",
       "      <td>2002-01-01</td>\n",
       "      <td>2010-01-01</td>\n",
       "    </tr>\n",
       "    <tr>\n",
       "      <th>9</th>\n",
       "      <td>2010-01-01</td>\n",
       "      <td>1013.0</td>\n",
       "      <td>2136.0</td>\n",
       "      <td>146.000</td>\n",
       "      <td>2002-01-01</td>\n",
       "      <td>2010-01-01</td>\n",
       "    </tr>\n",
       "    <tr>\n",
       "      <th>10</th>\n",
       "      <td>2011-01-01</td>\n",
       "      <td>1013.0</td>\n",
       "      <td>2136.0</td>\n",
       "      <td>146.000</td>\n",
       "      <td>2002-01-01</td>\n",
       "      <td>2010-01-01</td>\n",
       "    </tr>\n",
       "  </tbody>\n",
       "</table>\n",
       "</div>"
      ],
      "text/plain": [
       "         year  supplier_gvkey  customer_gvkey   salecs  firstYear   lastYear\n",
       "0  2001-01-01          1013.0          2136.0  111.056 2002-01-01 2010-01-01\n",
       "1  2002-01-01          1013.0          2136.0  111.056 2002-01-01 2010-01-01\n",
       "2  2003-01-01          1013.0          2136.0  111.056 2002-01-01 2010-01-01\n",
       "3  2004-01-01          1013.0          2136.0  104.312 2002-01-01 2010-01-01\n",
       "4  2005-01-01          1013.0          2136.0  146.000 2002-01-01 2010-01-01\n",
       "5  2006-01-01          1013.0          2136.0  205.000 2002-01-01 2010-01-01\n",
       "6  2007-01-01          1013.0          2136.0  236.000 2002-01-01 2010-01-01\n",
       "7  2008-01-01          1013.0          2136.0  240.000 2002-01-01 2010-01-01\n",
       "8  2009-01-01          1013.0          2136.0  176.000 2002-01-01 2010-01-01\n",
       "9  2010-01-01          1013.0          2136.0  146.000 2002-01-01 2010-01-01\n",
       "10 2011-01-01          1013.0          2136.0  146.000 2002-01-01 2010-01-01"
      ]
     },
     "execution_count": 7,
     "metadata": {},
     "output_type": "execute_result"
    }
   ],
   "source": [
    "fillYear(supplierCombos.supplier_gvkey[0], supplierCombos.customer_gvkey[0])"
   ]
  },
  {
   "cell_type": "markdown",
   "metadata": {},
   "source": [
    "Now do it for all rows."
   ]
  },
  {
   "cell_type": "code",
   "execution_count": 74,
   "metadata": {},
   "outputs": [
    {
     "name": "stdout",
     "output_type": "stream",
     "text": [
      "(47427, 4)\n",
      "(73489, 6)\n",
      "64.19478178024292\n"
     ]
    }
   ],
   "source": [
    "start = time.time()\n",
    "print(c_links.shape)\n",
    "c_linksImpd_list = supplierCombos.apply(lambda row: fillYear(row['supplier_gvkey'], row['customer_gvkey']), axis = 1)\n",
    "c_linksImpd_df   = pd.concat(list(c_linksImpd_list))\n",
    "print(c_linksImpd_df.shape)\n",
    "print(time.time() - start)\n",
    "\n",
    "c_linksImpd_df['year'] = c_linksImpd_df.year.dt.year"
   ]
  },
  {
   "cell_type": "markdown",
   "metadata": {},
   "source": [
    "We had converted some of the na sales values to -5 so that we could deal with duplicated values, by choosing the larger of said values. Switch back to nan so that we are not thrown off when we look for biggest supplier."
   ]
  },
  {
   "cell_type": "code",
   "execution_count": 75,
   "metadata": {},
   "outputs": [],
   "source": [
    "c_linksImpd_df.loc[c_linksImpd_df.salecs == -5, 'salecs'] = float('nan')"
   ]
  },
  {
   "cell_type": "code",
   "execution_count": 76,
   "metadata": {},
   "outputs": [
    {
     "name": "stdout",
     "output_type": "stream",
     "text": [
      "       gvkey            indGroup\n",
      "0       1010                manu\n",
      "1       1043           wholesale\n",
      "2       1045  transportUtilities\n",
      "3       1062             finance\n",
      "4       1075  transportUtilities\n",
      "...      ...                 ...\n",
      "31652  37600             finance\n",
      "31653  37618             finance\n",
      "31654  37620             finance\n",
      "31655  37621             finance\n",
      "31656  37625             finance\n",
      "\n",
      "[31657 rows x 2 columns]\n"
     ]
    }
   ],
   "source": [
    "industries = pd.read_csv(\"../../data/companyData/gvkeyIndustries.csv\").drop(columns = {'Unnamed: 0'})\n",
    "print(industries)"
   ]
  },
  {
   "cell_type": "code",
   "execution_count": 77,
   "metadata": {},
   "outputs": [
    {
     "name": "stdout",
     "output_type": "stream",
     "text": [
      "(73489, 6)\n",
      "   year  supplier_gvkey  customer_gvkey   salecs  firstYear   lastYear\n",
      "0  2001          1013.0          2136.0  111.056 2002-01-01 2010-01-01\n",
      "1  2002          1013.0          2136.0  111.056 2002-01-01 2010-01-01\n",
      "2  2003          1013.0          2136.0  111.056 2002-01-01 2010-01-01\n",
      "3  2004          1013.0          2136.0  104.312 2002-01-01 2010-01-01\n",
      "4  2005          1013.0          2136.0  146.000 2002-01-01 2010-01-01\n",
      "   year  supplier_gvkey  customer_gvkey   salecs  firstYear   lastYear  \\\n",
      "0  2001          1013.0          2136.0  111.056 2002-01-01 2010-01-01   \n",
      "1  2002          1013.0          2136.0  111.056 2002-01-01 2010-01-01   \n",
      "2  2003          1013.0          2136.0  111.056 2002-01-01 2010-01-01   \n",
      "3  2004          1013.0          2136.0  104.312 2002-01-01 2010-01-01   \n",
      "4  2005          1013.0          2136.0  146.000 2002-01-01 2010-01-01   \n",
      "\n",
      "         customer_ind supplier_ind  \n",
      "0  transportUtilities         manu  \n",
      "1  transportUtilities         manu  \n",
      "2  transportUtilities         manu  \n",
      "3  transportUtilities         manu  \n",
      "4  transportUtilities         manu   (73489, 8)\n"
     ]
    }
   ],
   "source": [
    "c_links = c_linksImpd_df.copy()\n",
    "\n",
    "print(c_links.shape)\n",
    "\n",
    "print(c_links.head())\n",
    "\n",
    "industries.columns = ['customer_gvkey','customer_ind']\n",
    "\n",
    "\n",
    "c_links = c_links.merge(industries)\n",
    "industries.columns = ['supplier_gvkey','supplier_ind']\n",
    "\n",
    "c_links = c_links.merge(industries)\n",
    "print(c_links.head(), c_links.shape)\n",
    "\n",
    "\n",
    "c_links.to_csv(\"../../data/companyData/c_links.csv\")\n"
   ]
  },
  {
   "cell_type": "markdown",
   "metadata": {},
   "source": [
    "Let's see how all this translates into different industries. Check how many times different industries show up.\n",
    "\n",
    "The full count will be roughly 4x whatever is below, assuming we can get a match for roughly all of them (which we should be able to)."
   ]
  },
  {
   "cell_type": "code",
   "execution_count": 78,
   "metadata": {},
   "outputs": [
    {
     "data": {
      "text/plain": [
       "manu                  14579\n",
       "finance               10368\n",
       "services               4496\n",
       "mining                 3156\n",
       "transportUtilities     1691\n",
       "wholesale               879\n",
       "construction            336\n",
       "retail                  167\n",
       "agForFish                50\n",
       "Name: supplier_ind, dtype: int64"
      ]
     },
     "execution_count": 78,
     "metadata": {},
     "output_type": "execute_result"
    }
   ],
   "source": [
    "c_links[c_links.year.astype(int) > 2009].supplier_ind.value_counts()"
   ]
  },
  {
   "cell_type": "markdown",
   "metadata": {},
   "source": [
    "Now see if it's common to have one in and one out of the industries of interest. \n",
    "\n",
    "For now, let's keep all the different industry types.\n",
    "\n",
    "We can always filter later if we need to.\n",
    "\n",
    "\n",
    "********this is where it would be helpful to check on the abi bits for a given industry, to see if we can get additional matches as well***********"
   ]
  },
  {
   "cell_type": "code",
   "execution_count": 79,
   "metadata": {},
   "outputs": [
    {
     "name": "stdout",
     "output_type": "stream",
     "text": [
      "(73489, 8)\n",
      "(73489, 8) (69038, 11)    year  supplier_gvkey  customer_gvkey   salecs  firstYear   lastYear  \\\n",
      "0  2001          1013.0          2136.0  111.056 2002-01-01 2010-01-01   \n",
      "1  2002          1013.0          2136.0  111.056 2002-01-01 2010-01-01   \n",
      "2  2003          1013.0          2136.0  111.056 2002-01-01 2010-01-01   \n",
      "3  2004          1013.0          2136.0  104.312 2002-01-01 2010-01-01   \n",
      "4  2005          1013.0          2136.0  146.000 2002-01-01 2010-01-01   \n",
      "\n",
      "         customer_ind supplier_ind customer_cstatCompanies  \\\n",
      "0  transportUtilities         manu     verizonmmunications   \n",
      "1  transportUtilities         manu     verizonmmunications   \n",
      "2  transportUtilities         manu     verizonmmunications   \n",
      "3  transportUtilities         manu     verizonmmunications   \n",
      "4  transportUtilities         manu     verizonmmunications   \n",
      "\n",
      "  customer_igCompanies  customer_abi  \n",
      "0  verizonmmunications       7564776  \n",
      "1  verizonmmunications       7564776  \n",
      "2  verizonmmunications       7564776  \n",
      "3  verizonmmunications       7564776  \n",
      "4  verizonmmunications       7564776  \n",
      "(73489, 8)\n",
      "(61610, 14)\n"
     ]
    },
    {
     "data": {
      "text/plain": [
       "(4082,)"
      ]
     },
     "execution_count": 79,
     "metadata": {},
     "output_type": "execute_result"
    }
   ],
   "source": [
    "#########################\n",
    "# get data and reset columns \n",
    "gvKey_abiLinkingTable = pd.read_csv('../../data/companyData/sc_linkingTable.csv').drop(columns = ['Unnamed: 0']).\\\n",
    "    drop_duplicates()\n",
    "\n",
    "\n",
    "\n",
    "base_columns = gvKey_abiLinkingTable.columns \n",
    "customer_columns = \"customer_\" + base_columns\n",
    "supplier_columns = \"supplier_\" + base_columns\n",
    "\n",
    "\n",
    "\n",
    "# merge in customer information\n",
    "gvKey_abiLinkingTable.columns = customer_columns\n",
    "\n",
    "\n",
    "\n",
    "print(c_links.shape)\n",
    "c_linksMerge1 = c_links.merge(gvKey_abiLinkingTable, on ='customer_gvkey')\n",
    "print(c_links.shape,c_linksMerge1.shape, c_linksMerge1.head())\n",
    "\n",
    "\n",
    "\n",
    "#########################\n",
    "# and merge in supplier \n",
    "gvKey_abiLinkingTable.columns = supplier_columns\n",
    "\n",
    "print(c_links.shape)\n",
    "c_linksMerge2 = c_linksMerge1.merge(gvKey_abiLinkingTable, on ='supplier_gvkey').drop_duplicates()\n",
    "print(c_linksMerge2.shape)\n",
    "\n",
    "c_linksMerge2.to_csv(\"../../data/companyData/clinks_IG_selected.csv\")\n",
    "\n",
    "\n",
    "c_linksMerge2['year'] = pd.to_datetime(c_linksMerge2.year, format = '%Y')\n",
    "\n",
    "\n",
    "##########################\n",
    "# get all the company abi\n",
    "allAbi = c_linksMerge2.customer_abi.append(c_linksMerge2.supplier_abi).drop_duplicates()\n",
    "allAbi.shape"
   ]
  },
  {
   "cell_type": "markdown",
   "metadata": {},
   "source": [
    "First, make a sample with the companies on one year of either side of when it reports another customer."
   ]
  },
  {
   "cell_type": "code",
   "execution_count": 80,
   "metadata": {},
   "outputs": [],
   "source": [
    "########\n",
    "hqsOnly = pd.read_csv(\"../../data/ig_uniqueHQs.csv\").drop(columns = {'Unnamed: 0'})\n",
    "\n",
    "hq = pd.read_csv(\"../../data/ig_uniqueHQs_multLocations.csv\").\\\n",
    "    drop(columns = {'Unnamed: 0'}).\\\n",
    "    rename(columns = {'archive_version_year': 'year'})\n",
    "\n",
    "hq['year']    = pd.to_datetime(hq.year, format = '%Y')   # hq.year.astype('int64')\n",
    "hq['zipcode'] = hq.zipcode.astype('str').str.zfill(5)\n",
    "hqRelevant    = hq[hq.abi.isin(allAbi)].reset_index()\n",
    "\n"
   ]
  },
  {
   "cell_type": "markdown",
   "metadata": {},
   "source": [
    "I think many of these don't have a lat-long but do have a zipcode. We should be able to use pgeocode to get an approximate lat-long from the zipcode."
   ]
  },
  {
   "cell_type": "code",
   "execution_count": 81,
   "metadata": {},
   "outputs": [
    {
     "name": "stderr",
     "output_type": "stream",
     "text": [
      "/Users/brianreed/opt/anaconda3/lib/python3.7/site-packages/ipykernel_launcher.py:5: SettingWithCopyWarning: \n",
      "A value is trying to be set on a copy of a slice from a DataFrame\n",
      "\n",
      "See the caveats in the documentation: https://pandas.pydata.org/pandas-docs/stable/user_guide/indexing.html#returning-a-view-versus-a-copy\n",
      "  \"\"\"\n",
      "/Users/brianreed/opt/anaconda3/lib/python3.7/site-packages/ipykernel_launcher.py:6: SettingWithCopyWarning: \n",
      "A value is trying to be set on a copy of a slice from a DataFrame\n",
      "\n",
      "See the caveats in the documentation: https://pandas.pydata.org/pandas-docs/stable/user_guide/indexing.html#returning-a-view-versus-a-copy\n",
      "  \n"
     ]
    }
   ],
   "source": [
    "us = pgeocode.Nominatim('us')\n",
    "\n",
    "for i in range(0, hq.shape[0]):\n",
    "    if pd.isna(hq.latitude[i]):\n",
    "        hq.latitude[i]  = us.query_postal_code(hq.zipcode[i]).latitude\n",
    "        hq.longitude[i] = us.query_postal_code(hq.zipcode[i]).longitude"
   ]
  },
  {
   "cell_type": "code",
   "execution_count": 82,
   "metadata": {},
   "outputs": [
    {
     "data": {
      "text/plain": [
       "array([  1864149,   5136239,   6484067,   7512304,   7536717, 107286601,\n",
       "       107358178, 120553524, 306744129, 406330118, 406330126, 433385663,\n",
       "       441433422, 450510896, 477538250, 902151877, 936186998, 967349333,\n",
       "         7001068, 510200629, 902180348,   4552857,   6918395, 602875296,\n",
       "       435965967, 657440202, 670508548, 671873610, 207813429, 252925805])"
      ]
     },
     "execution_count": 82,
     "metadata": {},
     "output_type": "execute_result"
    }
   ],
   "source": [
    "hq[hq['longitude'].isna()].abi.unique()"
   ]
  },
  {
   "cell_type": "code",
   "execution_count": 83,
   "metadata": {},
   "outputs": [],
   "source": [
    "supplierHQ = hq[['year','abi','latitude','longitude','zipcode']].copy().rename(columns = {'abi':      'supplier_abi',\n",
    "                                                                        'latitude':  'supplier_latitude',\n",
    "                                                                        'longitude': 'supplier_longitude',\n",
    "                                                                        'zipcode': 'supplier_zipcode'})\n",
    "\n",
    "\n",
    "customerHQ = hq[['year','abi','latitude','longitude','zipcode']].copy().rename(columns = {'abi':      'customer_abi',\n",
    "                                                                        'latitude':  'customer_latitude',\n",
    "                                                                        'longitude': 'customer_longitude',\n",
    "                                                                        'zipcode': 'customer_zipcode'})"
   ]
  },
  {
   "cell_type": "code",
   "execution_count": 84,
   "metadata": {},
   "outputs": [
    {
     "name": "stdout",
     "output_type": "stream",
     "text": [
      "4059 4059\n"
     ]
    }
   ],
   "source": [
    "print(sum(allAbi.isin(supplierHQ.supplier_abi)) ,\n",
    "     sum(allAbi.isin(customerHQ.customer_abi)))\n",
    "\n"
   ]
  },
  {
   "cell_type": "markdown",
   "metadata": {},
   "source": [
    "Merge to the closest year in either direction"
   ]
  },
  {
   "cell_type": "code",
   "execution_count": 85,
   "metadata": {},
   "outputs": [
    {
     "data": {
      "text/html": [
       "<div>\n",
       "<style scoped>\n",
       "    .dataframe tbody tr th:only-of-type {\n",
       "        vertical-align: middle;\n",
       "    }\n",
       "\n",
       "    .dataframe tbody tr th {\n",
       "        vertical-align: top;\n",
       "    }\n",
       "\n",
       "    .dataframe thead th {\n",
       "        text-align: right;\n",
       "    }\n",
       "</style>\n",
       "<table border=\"1\" class=\"dataframe\">\n",
       "  <thead>\n",
       "    <tr style=\"text-align: right;\">\n",
       "      <th></th>\n",
       "      <th>year</th>\n",
       "      <th>supplier_gvkey</th>\n",
       "      <th>customer_gvkey</th>\n",
       "      <th>salecs</th>\n",
       "      <th>firstYear</th>\n",
       "      <th>lastYear</th>\n",
       "      <th>customer_ind</th>\n",
       "      <th>supplier_ind</th>\n",
       "      <th>customer_cstatCompanies</th>\n",
       "      <th>customer_igCompanies</th>\n",
       "      <th>customer_abi</th>\n",
       "      <th>supplier_cstatCompanies</th>\n",
       "      <th>supplier_igCompanies</th>\n",
       "      <th>supplier_abi</th>\n",
       "      <th>customer_latitude</th>\n",
       "      <th>customer_longitude</th>\n",
       "      <th>customer_zipcode</th>\n",
       "    </tr>\n",
       "  </thead>\n",
       "  <tbody>\n",
       "    <tr>\n",
       "      <th>0</th>\n",
       "      <td>1999-01-01</td>\n",
       "      <td>5597.0</td>\n",
       "      <td>11259.0</td>\n",
       "      <td>710.900</td>\n",
       "      <td>2000-01-01</td>\n",
       "      <td>2019-01-01</td>\n",
       "      <td>retail</td>\n",
       "      <td>manu</td>\n",
       "      <td>walmart</td>\n",
       "      <td>walmart</td>\n",
       "      <td>5889993</td>\n",
       "      <td>hershey</td>\n",
       "      <td>hershey</td>\n",
       "      <td>400790390</td>\n",
       "      <td>36.36072</td>\n",
       "      <td>-94.22725</td>\n",
       "      <td>72712</td>\n",
       "    </tr>\n",
       "    <tr>\n",
       "      <th>1</th>\n",
       "      <td>1999-01-01</td>\n",
       "      <td>127575.0</td>\n",
       "      <td>1704.0</td>\n",
       "      <td>222.882</td>\n",
       "      <td>2000-01-01</td>\n",
       "      <td>2001-01-01</td>\n",
       "      <td>manu</td>\n",
       "      <td>manu</td>\n",
       "      <td>applied materials</td>\n",
       "      <td>applied materials</td>\n",
       "      <td>600130</td>\n",
       "      <td>coorstek</td>\n",
       "      <td>coors tek</td>\n",
       "      <td>524978491</td>\n",
       "      <td>37.34933</td>\n",
       "      <td>-121.94723</td>\n",
       "      <td>95052</td>\n",
       "    </tr>\n",
       "    <tr>\n",
       "      <th>2</th>\n",
       "      <td>1999-01-01</td>\n",
       "      <td>63291.0</td>\n",
       "      <td>22260.0</td>\n",
       "      <td>9.338</td>\n",
       "      <td>2000-01-01</td>\n",
       "      <td>2000-01-01</td>\n",
       "      <td>services</td>\n",
       "      <td>services</td>\n",
       "      <td>hca healthcare</td>\n",
       "      <td>hca healthcare</td>\n",
       "      <td>403916856</td>\n",
       "      <td>sri surgical express</td>\n",
       "      <td>sri surgical express</td>\n",
       "      <td>902466986</td>\n",
       "      <td>36.15316</td>\n",
       "      <td>-86.81451</td>\n",
       "      <td>37203</td>\n",
       "    </tr>\n",
       "    <tr>\n",
       "      <th>3</th>\n",
       "      <td>1999-01-01</td>\n",
       "      <td>62217.0</td>\n",
       "      <td>129467.0</td>\n",
       "      <td>NaN</td>\n",
       "      <td>2000-01-01</td>\n",
       "      <td>2000-01-01</td>\n",
       "      <td>manu</td>\n",
       "      <td>manu</td>\n",
       "      <td>avanex</td>\n",
       "      <td>avanex</td>\n",
       "      <td>525739587</td>\n",
       "      <td>lightpath technologies</td>\n",
       "      <td>lightpath technologies</td>\n",
       "      <td>477611487</td>\n",
       "      <td>37.51540</td>\n",
       "      <td>-121.98579</td>\n",
       "      <td>94538</td>\n",
       "    </tr>\n",
       "    <tr>\n",
       "      <th>4</th>\n",
       "      <td>1999-01-01</td>\n",
       "      <td>30298.0</td>\n",
       "      <td>6066.0</td>\n",
       "      <td>7.978</td>\n",
       "      <td>2000-01-01</td>\n",
       "      <td>2006-01-01</td>\n",
       "      <td>services</td>\n",
       "      <td>finance</td>\n",
       "      <td>intl business machines</td>\n",
       "      <td>international business</td>\n",
       "      <td>7519853</td>\n",
       "      <td>highwoods properties</td>\n",
       "      <td>highwoods properties</td>\n",
       "      <td>883495822</td>\n",
       "      <td>41.10913</td>\n",
       "      <td>-73.71913</td>\n",
       "      <td>10504</td>\n",
       "    </tr>\n",
       "  </tbody>\n",
       "</table>\n",
       "</div>"
      ],
      "text/plain": [
       "        year  supplier_gvkey  customer_gvkey   salecs  firstYear   lastYear  \\\n",
       "0 1999-01-01          5597.0         11259.0  710.900 2000-01-01 2019-01-01   \n",
       "1 1999-01-01        127575.0          1704.0  222.882 2000-01-01 2001-01-01   \n",
       "2 1999-01-01         63291.0         22260.0    9.338 2000-01-01 2000-01-01   \n",
       "3 1999-01-01         62217.0        129467.0      NaN 2000-01-01 2000-01-01   \n",
       "4 1999-01-01         30298.0          6066.0    7.978 2000-01-01 2006-01-01   \n",
       "\n",
       "  customer_ind supplier_ind customer_cstatCompanies    customer_igCompanies  \\\n",
       "0       retail         manu                 walmart                 walmart   \n",
       "1         manu         manu       applied materials       applied materials   \n",
       "2     services     services          hca healthcare          hca healthcare   \n",
       "3         manu         manu                  avanex                  avanex   \n",
       "4     services      finance  intl business machines  international business   \n",
       "\n",
       "   customer_abi supplier_cstatCompanies    supplier_igCompanies  supplier_abi  \\\n",
       "0       5889993                 hershey                 hershey     400790390   \n",
       "1        600130                coorstek               coors tek     524978491   \n",
       "2     403916856    sri surgical express    sri surgical express     902466986   \n",
       "3     525739587  lightpath technologies  lightpath technologies     477611487   \n",
       "4       7519853    highwoods properties    highwoods properties     883495822   \n",
       "\n",
       "   customer_latitude  customer_longitude customer_zipcode  \n",
       "0           36.36072           -94.22725            72712  \n",
       "1           37.34933          -121.94723            95052  \n",
       "2           36.15316           -86.81451            37203  \n",
       "3           37.51540          -121.98579            94538  \n",
       "4           41.10913           -73.71913            10504  "
      ]
     },
     "execution_count": 85,
     "metadata": {},
     "output_type": "execute_result"
    }
   ],
   "source": [
    "merged_dataframe = pd.merge_asof(c_linksMerge2.sort_values('year'), customerHQ.sort_values('year'), on=\"year\",\n",
    "                                 by=\"customer_abi\", \n",
    "                                direction = \"nearest\")\n",
    "\n",
    "merged_dataframe.shape\n",
    "merged_dataframe.head()"
   ]
  },
  {
   "cell_type": "code",
   "execution_count": 86,
   "metadata": {},
   "outputs": [
    {
     "name": "stdout",
     "output_type": "stream",
     "text": [
      "(61610, 20)\n",
      "(60960, 20)\n"
     ]
    }
   ],
   "source": [
    "c_linksMerge3 = pd.merge_asof(merged_dataframe.sort_values('year'), supplierHQ.sort_values('year'), on=\"year\",\n",
    "                                 by=\"supplier_abi\", \n",
    "                                direction = \"nearest\")\n",
    "\n",
    "# c_linksMerge2.merge(supplierHQ).merge(customerHQ)\n",
    "\n",
    "\n",
    "print(c_linksMerge3.shape)\n",
    "\n",
    "\n",
    "c_linksMerge3 = c_linksMerge3[(~c_linksMerge3.supplier_latitude.isna()) & (~c_linksMerge3.customer_latitude.isna())]\n",
    "\n",
    "print(c_linksMerge3.shape)\n",
    "\n",
    "c_linksMerge3 = c_linksMerge3.reset_index(drop = True)"
   ]
  },
  {
   "cell_type": "code",
   "execution_count": 87,
   "metadata": {},
   "outputs": [
    {
     "data": {
      "text/plain": [
       "0.990411708419712"
      ]
     },
     "execution_count": 87,
     "metadata": {},
     "output_type": "execute_result"
    }
   ],
   "source": [
    "c_linksMerge3.salecs.sum()/c_linksMerge2.salecs.sum()"
   ]
  },
  {
   "cell_type": "markdown",
   "metadata": {},
   "source": [
    "Now, find the distances between suppliers."
   ]
  },
  {
   "cell_type": "code",
   "execution_count": 88,
   "metadata": {},
   "outputs": [
    {
     "name": "stderr",
     "output_type": "stream",
     "text": [
      "/Users/brianreed/opt/anaconda3/lib/python3.7/site-packages/ipykernel_launcher.py:5: SettingWithCopyWarning: \n",
      "A value is trying to be set on a copy of a slice from a DataFrame\n",
      "\n",
      "See the caveats in the documentation: https://pandas.pydata.org/pandas-docs/stable/user_guide/indexing.html#returning-a-view-versus-a-copy\n",
      "  \"\"\"\n"
     ]
    }
   ],
   "source": [
    "c_linksMerge3['dist'] = 0\n",
    "\n",
    "for i in range(0,c_linksMerge3.shape[0]):\n",
    "    c_linksMerge3.dist[i] = geopy.distance.geodesic((c_linksMerge3.customer_latitude[i],c_linksMerge3.customer_longitude[i]), \\\n",
    "                                                             (c_linksMerge3.supplier_latitude[i],c_linksMerge3.supplier_longitude[i])).km"
   ]
  },
  {
   "cell_type": "code",
   "execution_count": 89,
   "metadata": {},
   "outputs": [
    {
     "data": {
      "text/plain": [
       "<matplotlib.axes._subplots.AxesSubplot at 0x7fc70992cc10>"
      ]
     },
     "execution_count": 89,
     "metadata": {},
     "output_type": "execute_result"
    },
    {
     "data": {
      "image/png": "[encoded data removed]",
      "text/plain": [
       "<Figure size 432x288 with 1 Axes>"
      ]
     },
     "metadata": {
      "needs_background": "light"
     },
     "output_type": "display_data"
    }
   ],
   "source": [
    "c_linksMerge3.dist.hist(bins = 100)"
   ]
  },
  {
   "cell_type": "markdown",
   "metadata": {},
   "source": [
    "Try to figure out which companies have no sales figures. Are they the same companies through and through, or are some different ones in play?"
   ]
  },
  {
   "cell_type": "markdown",
   "metadata": {},
   "source": [
    "This means that most of the firms with an na transaction have another transaction. It could be either that year or another year. If a company has one transaction for a year and it's na, then turn it into a small amount so that we keep it. "
   ]
  },
  {
   "cell_type": "code",
   "execution_count": 90,
   "metadata": {},
   "outputs": [
    {
     "name": "stdout",
     "output_type": "stream",
     "text": [
      "(60960, 22) (60960, 23)\n"
     ]
    },
    {
     "data": {
      "text/html": [
       "<div>\n",
       "<style scoped>\n",
       "    .dataframe tbody tr th:only-of-type {\n",
       "        vertical-align: middle;\n",
       "    }\n",
       "\n",
       "    .dataframe tbody tr th {\n",
       "        vertical-align: top;\n",
       "    }\n",
       "\n",
       "    .dataframe thead th {\n",
       "        text-align: right;\n",
       "    }\n",
       "</style>\n",
       "<table border=\"1\" class=\"dataframe\">\n",
       "  <thead>\n",
       "    <tr style=\"text-align: right;\">\n",
       "      <th></th>\n",
       "      <th>year</th>\n",
       "      <th>supplier_gvkey</th>\n",
       "      <th>customer_gvkey</th>\n",
       "      <th>salecs</th>\n",
       "      <th>firstYear</th>\n",
       "      <th>lastYear</th>\n",
       "      <th>customer_ind</th>\n",
       "      <th>supplier_ind</th>\n",
       "      <th>customer_cstatCompanies</th>\n",
       "      <th>customer_igCompanies</th>\n",
       "      <th>...</th>\n",
       "      <th>supplier_abi</th>\n",
       "      <th>customer_latitude</th>\n",
       "      <th>customer_longitude</th>\n",
       "      <th>customer_zipcode</th>\n",
       "      <th>supplier_latitude</th>\n",
       "      <th>supplier_longitude</th>\n",
       "      <th>supplier_zipcode</th>\n",
       "      <th>dist</th>\n",
       "      <th>totalSuppliers</th>\n",
       "      <th>meanSales</th>\n",
       "    </tr>\n",
       "  </thead>\n",
       "  <tbody>\n",
       "    <tr>\n",
       "      <th>0</th>\n",
       "      <td>1999-01-01</td>\n",
       "      <td>5597.0</td>\n",
       "      <td>11259.0</td>\n",
       "      <td>710.900</td>\n",
       "      <td>2000-01-01</td>\n",
       "      <td>2019-01-01</td>\n",
       "      <td>retail</td>\n",
       "      <td>manu</td>\n",
       "      <td>walmart</td>\n",
       "      <td>walmart</td>\n",
       "      <td>...</td>\n",
       "      <td>400790390</td>\n",
       "      <td>36.36072</td>\n",
       "      <td>-94.22725</td>\n",
       "      <td>72712</td>\n",
       "      <td>40.27525</td>\n",
       "      <td>-76.63997</td>\n",
       "      <td>17033</td>\n",
       "      <td>1595</td>\n",
       "      <td>82</td>\n",
       "      <td>212.806338</td>\n",
       "    </tr>\n",
       "    <tr>\n",
       "      <th>1</th>\n",
       "      <td>1999-01-01</td>\n",
       "      <td>8219.0</td>\n",
       "      <td>11259.0</td>\n",
       "      <td>125.930</td>\n",
       "      <td>2000-01-01</td>\n",
       "      <td>2007-01-01</td>\n",
       "      <td>retail</td>\n",
       "      <td>manu</td>\n",
       "      <td>walmart</td>\n",
       "      <td>walmart</td>\n",
       "      <td>...</td>\n",
       "      <td>7528136</td>\n",
       "      <td>36.36072</td>\n",
       "      <td>-94.22725</td>\n",
       "      <td>72712</td>\n",
       "      <td>33.77364</td>\n",
       "      <td>-84.38010</td>\n",
       "      <td>30308</td>\n",
       "      <td>942</td>\n",
       "      <td>82</td>\n",
       "      <td>212.806338</td>\n",
       "    </tr>\n",
       "    <tr>\n",
       "      <th>2</th>\n",
       "      <td>1999-01-01</td>\n",
       "      <td>7762.0</td>\n",
       "      <td>11259.0</td>\n",
       "      <td>48.959</td>\n",
       "      <td>2000-01-01</td>\n",
       "      <td>2019-01-01</td>\n",
       "      <td>retail</td>\n",
       "      <td>manu</td>\n",
       "      <td>walmart</td>\n",
       "      <td>walmart</td>\n",
       "      <td>...</td>\n",
       "      <td>500231</td>\n",
       "      <td>36.36072</td>\n",
       "      <td>-94.22725</td>\n",
       "      <td>72712</td>\n",
       "      <td>44.86341</td>\n",
       "      <td>-91.45371</td>\n",
       "      <td>54703</td>\n",
       "      <td>972</td>\n",
       "      <td>82</td>\n",
       "      <td>212.806338</td>\n",
       "    </tr>\n",
       "    <tr>\n",
       "      <th>3</th>\n",
       "      <td>1999-01-01</td>\n",
       "      <td>61718.0</td>\n",
       "      <td>11259.0</td>\n",
       "      <td>90.137</td>\n",
       "      <td>2000-01-01</td>\n",
       "      <td>2008-01-01</td>\n",
       "      <td>retail</td>\n",
       "      <td>services</td>\n",
       "      <td>walmart</td>\n",
       "      <td>walmart</td>\n",
       "      <td>...</td>\n",
       "      <td>891493322</td>\n",
       "      <td>36.36072</td>\n",
       "      <td>-94.22725</td>\n",
       "      <td>72712</td>\n",
       "      <td>40.75076</td>\n",
       "      <td>-73.98275</td>\n",
       "      <td>10016</td>\n",
       "      <td>1826</td>\n",
       "      <td>82</td>\n",
       "      <td>212.806338</td>\n",
       "    </tr>\n",
       "    <tr>\n",
       "      <th>4</th>\n",
       "      <td>1999-01-01</td>\n",
       "      <td>133367.0</td>\n",
       "      <td>11259.0</td>\n",
       "      <td>292.888</td>\n",
       "      <td>2000-01-01</td>\n",
       "      <td>2019-01-01</td>\n",
       "      <td>retail</td>\n",
       "      <td>manu</td>\n",
       "      <td>walmart</td>\n",
       "      <td>walmart</td>\n",
       "      <td>...</td>\n",
       "      <td>400235297</td>\n",
       "      <td>36.36072</td>\n",
       "      <td>-94.22725</td>\n",
       "      <td>72712</td>\n",
       "      <td>41.12567</td>\n",
       "      <td>-73.33036</td>\n",
       "      <td>06880</td>\n",
       "      <td>1886</td>\n",
       "      <td>82</td>\n",
       "      <td>212.806338</td>\n",
       "    </tr>\n",
       "  </tbody>\n",
       "</table>\n",
       "<p>5 rows × 23 columns</p>\n",
       "</div>"
      ],
      "text/plain": [
       "        year  supplier_gvkey  customer_gvkey   salecs  firstYear   lastYear  \\\n",
       "0 1999-01-01          5597.0         11259.0  710.900 2000-01-01 2019-01-01   \n",
       "1 1999-01-01          8219.0         11259.0  125.930 2000-01-01 2007-01-01   \n",
       "2 1999-01-01          7762.0         11259.0   48.959 2000-01-01 2019-01-01   \n",
       "3 1999-01-01         61718.0         11259.0   90.137 2000-01-01 2008-01-01   \n",
       "4 1999-01-01        133367.0         11259.0  292.888 2000-01-01 2019-01-01   \n",
       "\n",
       "  customer_ind supplier_ind customer_cstatCompanies customer_igCompanies  ...  \\\n",
       "0       retail         manu                 walmart              walmart  ...   \n",
       "1       retail         manu                 walmart              walmart  ...   \n",
       "2       retail         manu                 walmart              walmart  ...   \n",
       "3       retail     services                 walmart              walmart  ...   \n",
       "4       retail         manu                 walmart              walmart  ...   \n",
       "\n",
       "   supplier_abi customer_latitude customer_longitude  customer_zipcode  \\\n",
       "0     400790390          36.36072          -94.22725             72712   \n",
       "1       7528136          36.36072          -94.22725             72712   \n",
       "2        500231          36.36072          -94.22725             72712   \n",
       "3     891493322          36.36072          -94.22725             72712   \n",
       "4     400235297          36.36072          -94.22725             72712   \n",
       "\n",
       "   supplier_latitude  supplier_longitude supplier_zipcode  dist  \\\n",
       "0           40.27525           -76.63997            17033  1595   \n",
       "1           33.77364           -84.38010            30308   942   \n",
       "2           44.86341           -91.45371            54703   972   \n",
       "3           40.75076           -73.98275            10016  1826   \n",
       "4           41.12567           -73.33036            06880  1886   \n",
       "\n",
       "   totalSuppliers   meanSales  \n",
       "0              82  212.806338  \n",
       "1              82  212.806338  \n",
       "2              82  212.806338  \n",
       "3              82  212.806338  \n",
       "4              82  212.806338  \n",
       "\n",
       "[5 rows x 23 columns]"
      ]
     },
     "execution_count": 90,
     "metadata": {},
     "output_type": "execute_result"
    }
   ],
   "source": [
    "c_linksMerge3['suppliers'] = 1\n",
    "\n",
    "\n",
    "suppliers = c_linksMerge3[['year', 'customer_gvkey', 'suppliers']].groupby(['year','customer_gvkey']).sum().\\\n",
    "    reset_index().rename(columns = {'suppliers': 'totalSuppliers'})\n",
    "\n",
    "meanExp   = c_linksMerge3[['year', 'customer_gvkey', 'salecs']].groupby(['year','customer_gvkey'],dropna=False).\\\n",
    "    mean().reset_index().rename(columns = {'salecs': 'meanSales'})\n",
    "\n",
    "c_linksMerge4 = c_linksMerge3.merge(suppliers).drop(columns = {'suppliers'}).merge(meanExp)\n",
    "\n",
    "\n",
    "\n",
    "print(c_linksMerge3.shape,c_linksMerge4.shape)\n",
    "\n",
    "\n",
    "c_linksMerge4.head()"
   ]
  },
  {
   "cell_type": "code",
   "execution_count": 91,
   "metadata": {},
   "outputs": [
    {
     "name": "stdout",
     "output_type": "stream",
     "text": [
      "Find the fraction of firms who have an na transaction value one year, but another non-na [0.75112613]\n"
     ]
    }
   ],
   "source": [
    "withNAs = c_linksMerge3[c_linksMerge3.salecs.isna()].customer_gvkey.drop_duplicates()\n",
    "\n",
    "print(\"Find the fraction of firms who have an na transaction value one year, but another non-na\", \n",
    "      withNAs.isin(c_linksMerge4[~c_linksMerge4.salecs.isna()].customer_gvkey.drop_duplicates()).sum()/withNAs.shape)"
   ]
  },
  {
   "cell_type": "markdown",
   "metadata": {},
   "source": [
    "For each row: if salecs is na, replace with mean sales. If mean sales also na, replace with 1."
   ]
  },
  {
   "cell_type": "code",
   "execution_count": 92,
   "metadata": {},
   "outputs": [
    {
     "name": "stderr",
     "output_type": "stream",
     "text": [
      "/Users/brianreed/opt/anaconda3/lib/python3.7/site-packages/ipykernel_launcher.py:9: SettingWithCopyWarning: \n",
      "A value is trying to be set on a copy of a slice from a DataFrame\n",
      "\n",
      "See the caveats in the documentation: https://pandas.pydata.org/pandas-docs/stable/user_guide/indexing.html#returning-a-view-versus-a-copy\n",
      "  if __name__ == '__main__':\n",
      "/Users/brianreed/opt/anaconda3/lib/python3.7/site-packages/ipykernel_launcher.py:5: SettingWithCopyWarning: \n",
      "A value is trying to be set on a copy of a slice from a DataFrame\n",
      "\n",
      "See the caveats in the documentation: https://pandas.pydata.org/pandas-docs/stable/user_guide/indexing.html#returning-a-view-versus-a-copy\n",
      "  \"\"\"\n"
     ]
    }
   ],
   "source": [
    "for i in range(0,c_linksMerge4.shape[0]):\n",
    "    \n",
    "    # if mean sales is na, replace with 1\n",
    "    if pd.isna(c_linksMerge4.meanSales[i]):\n",
    "        c_linksMerge4.salecs[i] = 1\n",
    "    \n",
    "    # if salecs is na, replace with mean sales\n",
    "    elif pd.isna(c_linksMerge4.salecs[i]):\n",
    "        c_linksMerge4.salecs[i] = c_linksMerge4.meanSales[i]"
   ]
  },
  {
   "cell_type": "code",
   "execution_count": 93,
   "metadata": {},
   "outputs": [
    {
     "name": "stdout",
     "output_type": "stream",
     "text": [
      "(15844, 2) (15844, 2)\n"
     ]
    }
   ],
   "source": [
    "print(c_linksMerge3[['customer_gvkey', 'year']].drop_duplicates().shape,\n",
    "     c_linksMerge4[['customer_gvkey', 'year']].drop_duplicates().shape)"
   ]
  },
  {
   "cell_type": "code",
   "execution_count": 94,
   "metadata": {},
   "outputs": [
    {
     "data": {
      "text/plain": [
       "(44915, 23)"
      ]
     },
     "execution_count": 94,
     "metadata": {},
     "output_type": "execute_result"
    }
   ],
   "source": [
    "c_linksMerge4 = c_linksMerge4[(c_linksMerge4.dist >= 500)]\n",
    "\n",
    "c_linksMerge4.shape"
   ]
  },
  {
   "cell_type": "markdown",
   "metadata": {},
   "source": [
    "Now find the largest supplier for each customer."
   ]
  },
  {
   "cell_type": "code",
   "execution_count": 95,
   "metadata": {},
   "outputs": [
    {
     "name": "stdout",
     "output_type": "stream",
     "text": [
      "(44915, 23)\n",
      "(5653, 23)\n",
      "(14676, 23)\n"
     ]
    }
   ],
   "source": [
    "idx = c_linksMerge4.groupby(['year','customer_gvkey']).salecs.\\\n",
    "    transform(max) == c_linksMerge4.salecs\n",
    "largestSuppliers_more500k = c_linksMerge4[idx].reset_index(drop = True)\n",
    "print(c_linksMerge4.shape)\n",
    "\n",
    "# find companies who only have one other supplier\n",
    "singleSuppliers_more500k = c_linksMerge4[c_linksMerge4.totalSuppliers == 1].reset_index(drop = True)\n",
    "print(singleSuppliers_more500k.shape)\n",
    "\n",
    "# find largest suppliers of different companies\n",
    "largestSuppliers_more500k = largestSuppliers_more500k.append(singleSuppliers_more500k).drop_duplicates()\n",
    "print(largestSuppliers_more500k.shape)\n"
   ]
  },
  {
   "cell_type": "code",
   "execution_count": 96,
   "metadata": {},
   "outputs": [
    {
     "data": {
      "text/plain": [
       "(12674, 2)"
      ]
     },
     "execution_count": 96,
     "metadata": {},
     "output_type": "execute_result"
    }
   ],
   "source": [
    "largestSuppliers_more500k[['year','customer_gvkey']].drop_duplicates().shape"
   ]
  },
  {
   "cell_type": "markdown",
   "metadata": {},
   "source": [
    "There seem to be a number of ties here, maybe from the companies that had only na values. To get around this, just sample one of each observation by company-group."
   ]
  },
  {
   "cell_type": "code",
   "execution_count": 97,
   "metadata": {},
   "outputs": [],
   "source": [
    "randomSample = largestSuppliers_more500k.groupby(['year','customer_gvkey']).\\\n",
    "    apply(lambda x: x.sample(1)).reset_index(drop=True)"
   ]
  },
  {
   "cell_type": "code",
   "execution_count": 98,
   "metadata": {},
   "outputs": [
    {
     "data": {
      "text/html": [
       "<div>\n",
       "<style scoped>\n",
       "    .dataframe tbody tr th:only-of-type {\n",
       "        vertical-align: middle;\n",
       "    }\n",
       "\n",
       "    .dataframe tbody tr th {\n",
       "        vertical-align: top;\n",
       "    }\n",
       "\n",
       "    .dataframe thead th {\n",
       "        text-align: right;\n",
       "    }\n",
       "</style>\n",
       "<table border=\"1\" class=\"dataframe\">\n",
       "  <thead>\n",
       "    <tr style=\"text-align: right;\">\n",
       "      <th></th>\n",
       "      <th>year</th>\n",
       "      <th>supplier_gvkey</th>\n",
       "      <th>customer_gvkey</th>\n",
       "      <th>salecs</th>\n",
       "      <th>firstYear</th>\n",
       "      <th>lastYear</th>\n",
       "      <th>customer_ind</th>\n",
       "      <th>supplier_ind</th>\n",
       "      <th>customer_cstatCompanies</th>\n",
       "      <th>customer_igCompanies</th>\n",
       "      <th>...</th>\n",
       "      <th>supplier_abi</th>\n",
       "      <th>customer_latitude</th>\n",
       "      <th>customer_longitude</th>\n",
       "      <th>customer_zipcode</th>\n",
       "      <th>supplier_latitude</th>\n",
       "      <th>supplier_longitude</th>\n",
       "      <th>supplier_zipcode</th>\n",
       "      <th>dist</th>\n",
       "      <th>totalSuppliers</th>\n",
       "      <th>meanSales</th>\n",
       "    </tr>\n",
       "  </thead>\n",
       "  <tbody>\n",
       "    <tr>\n",
       "      <th>0</th>\n",
       "      <td>1999-01-01</td>\n",
       "      <td>112874.0</td>\n",
       "      <td>1013.0</td>\n",
       "      <td>23.366</td>\n",
       "      <td>2000-01-01</td>\n",
       "      <td>2000-01-01</td>\n",
       "      <td>manu</td>\n",
       "      <td>manu</td>\n",
       "      <td>adc telecommunications</td>\n",
       "      <td>adc telecommunications</td>\n",
       "      <td>...</td>\n",
       "      <td>465227874</td>\n",
       "      <td>44.98311</td>\n",
       "      <td>-93.26507</td>\n",
       "      <td>55440</td>\n",
       "      <td>40.02642</td>\n",
       "      <td>-105.22828</td>\n",
       "      <td>80301</td>\n",
       "      <td>1125</td>\n",
       "      <td>2</td>\n",
       "      <td>14.220000</td>\n",
       "    </tr>\n",
       "    <tr>\n",
       "      <th>1</th>\n",
       "      <td>1999-01-01</td>\n",
       "      <td>1082.0</td>\n",
       "      <td>1038.0</td>\n",
       "      <td>38.220</td>\n",
       "      <td>2000-01-01</td>\n",
       "      <td>2000-01-01</td>\n",
       "      <td>services</td>\n",
       "      <td>services</td>\n",
       "      <td>amc entertainment</td>\n",
       "      <td>amc entertainment</td>\n",
       "      <td>...</td>\n",
       "      <td>5380076</td>\n",
       "      <td>39.10305</td>\n",
       "      <td>-94.58336</td>\n",
       "      <td>64105</td>\n",
       "      <td>33.90487</td>\n",
       "      <td>-84.47675</td>\n",
       "      <td>30339</td>\n",
       "      <td>1072</td>\n",
       "      <td>2</td>\n",
       "      <td>38.220000</td>\n",
       "    </tr>\n",
       "    <tr>\n",
       "      <th>2</th>\n",
       "      <td>1999-01-01</td>\n",
       "      <td>151161.0</td>\n",
       "      <td>1045.0</td>\n",
       "      <td>18.904</td>\n",
       "      <td>2000-01-01</td>\n",
       "      <td>2005-01-01</td>\n",
       "      <td>transportUtilities</td>\n",
       "      <td>manu</td>\n",
       "      <td>american airlines</td>\n",
       "      <td>american airlines</td>\n",
       "      <td>...</td>\n",
       "      <td>173361239</td>\n",
       "      <td>32.88270</td>\n",
       "      <td>-97.03714</td>\n",
       "      <td>75261</td>\n",
       "      <td>34.00618</td>\n",
       "      <td>-118.22375</td>\n",
       "      <td>90058</td>\n",
       "      <td>1970</td>\n",
       "      <td>7</td>\n",
       "      <td>103.650714</td>\n",
       "    </tr>\n",
       "    <tr>\n",
       "      <th>3</th>\n",
       "      <td>1999-01-01</td>\n",
       "      <td>24971.0</td>\n",
       "      <td>1078.0</td>\n",
       "      <td>45.927</td>\n",
       "      <td>2000-01-01</td>\n",
       "      <td>2002-01-01</td>\n",
       "      <td>manu</td>\n",
       "      <td>manu</td>\n",
       "      <td>abbott laboratories</td>\n",
       "      <td>abbott laboratories</td>\n",
       "      <td>...</td>\n",
       "      <td>849323969</td>\n",
       "      <td>42.30222</td>\n",
       "      <td>-87.89119</td>\n",
       "      <td>60064</td>\n",
       "      <td>40.27907</td>\n",
       "      <td>-74.55906</td>\n",
       "      <td>08520</td>\n",
       "      <td>1137</td>\n",
       "      <td>5</td>\n",
       "      <td>13.737600</td>\n",
       "    </tr>\n",
       "    <tr>\n",
       "      <th>4</th>\n",
       "      <td>1999-01-01</td>\n",
       "      <td>8934.0</td>\n",
       "      <td>1161.0</td>\n",
       "      <td>0.802</td>\n",
       "      <td>2000-01-01</td>\n",
       "      <td>2001-01-01</td>\n",
       "      <td>manu</td>\n",
       "      <td>manu</td>\n",
       "      <td>advanced micro devices</td>\n",
       "      <td>advanced micro devices</td>\n",
       "      <td>...</td>\n",
       "      <td>463446112</td>\n",
       "      <td>37.39239</td>\n",
       "      <td>-122.03870</td>\n",
       "      <td>94088</td>\n",
       "      <td>33.85917</td>\n",
       "      <td>-117.89824</td>\n",
       "      <td>92831</td>\n",
       "      <td>542</td>\n",
       "      <td>2</td>\n",
       "      <td>0.802000</td>\n",
       "    </tr>\n",
       "  </tbody>\n",
       "</table>\n",
       "<p>5 rows × 23 columns</p>\n",
       "</div>"
      ],
      "text/plain": [
       "        year  supplier_gvkey  customer_gvkey  salecs  firstYear   lastYear  \\\n",
       "0 1999-01-01        112874.0          1013.0  23.366 2000-01-01 2000-01-01   \n",
       "1 1999-01-01          1082.0          1038.0  38.220 2000-01-01 2000-01-01   \n",
       "2 1999-01-01        151161.0          1045.0  18.904 2000-01-01 2005-01-01   \n",
       "3 1999-01-01         24971.0          1078.0  45.927 2000-01-01 2002-01-01   \n",
       "4 1999-01-01          8934.0          1161.0   0.802 2000-01-01 2001-01-01   \n",
       "\n",
       "         customer_ind supplier_ind customer_cstatCompanies  \\\n",
       "0                manu         manu  adc telecommunications   \n",
       "1            services     services      amc entertainment    \n",
       "2  transportUtilities         manu      american airlines    \n",
       "3                manu         manu     abbott laboratories   \n",
       "4                manu         manu  advanced micro devices   \n",
       "\n",
       "     customer_igCompanies  ...  supplier_abi customer_latitude  \\\n",
       "0  adc telecommunications  ...     465227874          44.98311   \n",
       "1      amc entertainment   ...       5380076          39.10305   \n",
       "2      american airlines   ...     173361239          32.88270   \n",
       "3     abbott laboratories  ...     849323969          42.30222   \n",
       "4  advanced micro devices  ...     463446112          37.39239   \n",
       "\n",
       "  customer_longitude  customer_zipcode  supplier_latitude  supplier_longitude  \\\n",
       "0          -93.26507             55440           40.02642          -105.22828   \n",
       "1          -94.58336             64105           33.90487           -84.47675   \n",
       "2          -97.03714             75261           34.00618          -118.22375   \n",
       "3          -87.89119             60064           40.27907           -74.55906   \n",
       "4         -122.03870             94088           33.85917          -117.89824   \n",
       "\n",
       "  supplier_zipcode  dist  totalSuppliers   meanSales  \n",
       "0            80301  1125               2   14.220000  \n",
       "1            30339  1072               2   38.220000  \n",
       "2            90058  1970               7  103.650714  \n",
       "3            08520  1137               5   13.737600  \n",
       "4            92831   542               2    0.802000  \n",
       "\n",
       "[5 rows x 23 columns]"
      ]
     },
     "execution_count": 98,
     "metadata": {},
     "output_type": "execute_result"
    }
   ],
   "source": [
    "randomSample.head()"
   ]
  },
  {
   "cell_type": "code",
   "execution_count": 99,
   "metadata": {},
   "outputs": [
    {
     "data": {
      "text/plain": [
       "Index(['year', 'supplier_gvkey', 'customer_gvkey', 'salecs', 'firstYear',\n",
       "       'lastYear', 'customer_ind', 'supplier_ind', 'customer_cstatCompanies',\n",
       "       'customer_igCompanies', 'customer_abi', 'supplier_cstatCompanies',\n",
       "       'supplier_igCompanies', 'supplier_abi', 'customer_latitude',\n",
       "       'customer_longitude', 'customer_zipcode', 'supplier_latitude',\n",
       "       'supplier_longitude', 'supplier_zipcode', 'dist', 'totalSuppliers',\n",
       "       'meanSales'],\n",
       "      dtype='object')"
      ]
     },
     "execution_count": 99,
     "metadata": {},
     "output_type": "execute_result"
    }
   ],
   "source": [
    "randomSample.columns"
   ]
  },
  {
   "cell_type": "code",
   "execution_count": 100,
   "metadata": {},
   "outputs": [
    {
     "data": {
      "text/plain": [
       "(12674, 23)"
      ]
     },
     "execution_count": 100,
     "metadata": {},
     "output_type": "execute_result"
    }
   ],
   "source": [
    "randomSample.shape"
   ]
  },
  {
   "cell_type": "markdown",
   "metadata": {},
   "source": [
    "## Merge in supplier weather\n",
    "Get the weather data."
   ]
  },
  {
   "cell_type": "code",
   "execution_count": 101,
   "metadata": {},
   "outputs": [],
   "source": [
    "'''g = pd.read_csv(\"../../data/companyData/weatherByEstablishment.csv\").\\\n",
    "    drop(columns = {\"Unnamed: 0\"})'''\n",
    "\n",
    "\n",
    "allWeather_withLags = pd.read_csv(\"../../data/companyData/allWeather_withLags_allZips.csv\").\\\n",
    "    drop(columns = {\"Unnamed: 0\", 'yearQtr'}).astype({'year':       'category',\n",
    "                           'qtr':        'category',\n",
    "                           'zipcode':    'category'})\n",
    "\n",
    "\n",
    "averages = pd.read_csv(\"../../data/companyData/quarterlyStatsByZip.csv\").\\\n",
    "    drop(columns = {\"Unnamed: 0\"}).rename(columns = {'ZIP': 'zipcode'})\n",
    "averages['qtr'] = averages.quarter.str.slice(1,2).astype('float')\n",
    "averages.drop(columns = {'quarter'}, inplace = True) \n",
    "averages = averages.astype({'qtr':        'category',\n",
    "                           'zipcode':    'category'})\n",
    "\n",
    "\n",
    "allWeather_withLags2 = pd.read_csv(\"../../data/companyData/allWeather_withLags_new.csv\").\\\n",
    "    drop(columns = {\"Unnamed: 0\", 'yearQtr'}).astype({'year':       'category',\n",
    "                           'qtr':        'category',\n",
    "                           'zipcode':    'category'})\n",
    "\n",
    "\n",
    "thunderstorms_withLags = pd.read_csv(\"../../data/companyData/thunderstorms_withLags.csv\").\\\n",
    "    drop(columns = {\"Unnamed: 0\", 'yearQtr'}).astype({'year':       'category',\n",
    "                           'qtr':        'category',\n",
    "                           'zipcode':    'category'})"
   ]
  },
  {
   "cell_type": "code",
   "execution_count": 102,
   "metadata": {
    "scrolled": true
   },
   "outputs": [
    {
     "data": {
      "text/html": [
       "<div>\n",
       "<style scoped>\n",
       "    .dataframe tbody tr th:only-of-type {\n",
       "        vertical-align: middle;\n",
       "    }\n",
       "\n",
       "    .dataframe tbody tr th {\n",
       "        vertical-align: top;\n",
       "    }\n",
       "\n",
       "    .dataframe thead th {\n",
       "        text-align: right;\n",
       "    }\n",
       "</style>\n",
       "<table border=\"1\" class=\"dataframe\">\n",
       "  <thead>\n",
       "    <tr style=\"text-align: right;\">\n",
       "      <th></th>\n",
       "      <th>zipcode</th>\n",
       "      <th>year</th>\n",
       "      <th>qtr</th>\n",
       "      <th>precip_annual_50</th>\n",
       "      <th>precip_annual_95</th>\n",
       "      <th>precip_annual_99</th>\n",
       "      <th>precip_zip_50</th>\n",
       "      <th>precip_zip_95</th>\n",
       "      <th>precip_zip_99</th>\n",
       "      <th>precip_zipQuarter_50</th>\n",
       "      <th>...</th>\n",
       "      <th>lag4_temp_zipQuarter50</th>\n",
       "      <th>lag4_temp_zipQuarter95</th>\n",
       "      <th>lag4_precip_zipQuarter50</th>\n",
       "      <th>lag4_precip_zipQuarter95</th>\n",
       "      <th>lag4_temp_zipWeek50</th>\n",
       "      <th>lag4_temp_zipWeek95</th>\n",
       "      <th>lag4_precip_zipWeek50</th>\n",
       "      <th>lag4_precip_zipWeek95</th>\n",
       "      <th>lag4_days90Plus</th>\n",
       "      <th>lag4_streak90Plus</th>\n",
       "    </tr>\n",
       "  </thead>\n",
       "  <tbody>\n",
       "    <tr>\n",
       "      <th>0</th>\n",
       "      <td>1001</td>\n",
       "      <td>2001</td>\n",
       "      <td>1</td>\n",
       "      <td>12.0</td>\n",
       "      <td>3.0</td>\n",
       "      <td>0.0</td>\n",
       "      <td>35.0</td>\n",
       "      <td>5.0</td>\n",
       "      <td>2.0</td>\n",
       "      <td>35.0</td>\n",
       "      <td>...</td>\n",
       "      <td>1</td>\n",
       "      <td>0</td>\n",
       "      <td>0</td>\n",
       "      <td>0</td>\n",
       "      <td>8</td>\n",
       "      <td>2</td>\n",
       "      <td>8</td>\n",
       "      <td>0</td>\n",
       "      <td>0</td>\n",
       "      <td>0</td>\n",
       "    </tr>\n",
       "    <tr>\n",
       "      <th>1</th>\n",
       "      <td>1001</td>\n",
       "      <td>2002</td>\n",
       "      <td>1</td>\n",
       "      <td>13.0</td>\n",
       "      <td>2.0</td>\n",
       "      <td>0.0</td>\n",
       "      <td>34.0</td>\n",
       "      <td>3.0</td>\n",
       "      <td>0.0</td>\n",
       "      <td>34.0</td>\n",
       "      <td>...</td>\n",
       "      <td>0</td>\n",
       "      <td>0</td>\n",
       "      <td>0</td>\n",
       "      <td>0</td>\n",
       "      <td>5</td>\n",
       "      <td>0</td>\n",
       "      <td>7</td>\n",
       "      <td>2</td>\n",
       "      <td>0</td>\n",
       "      <td>0</td>\n",
       "    </tr>\n",
       "    <tr>\n",
       "      <th>2</th>\n",
       "      <td>1001</td>\n",
       "      <td>2003</td>\n",
       "      <td>1</td>\n",
       "      <td>13.0</td>\n",
       "      <td>4.0</td>\n",
       "      <td>0.0</td>\n",
       "      <td>34.0</td>\n",
       "      <td>7.0</td>\n",
       "      <td>2.0</td>\n",
       "      <td>34.0</td>\n",
       "      <td>...</td>\n",
       "      <td>1</td>\n",
       "      <td>1</td>\n",
       "      <td>0</td>\n",
       "      <td>0</td>\n",
       "      <td>10</td>\n",
       "      <td>3</td>\n",
       "      <td>6</td>\n",
       "      <td>0</td>\n",
       "      <td>0</td>\n",
       "      <td>0</td>\n",
       "    </tr>\n",
       "    <tr>\n",
       "      <th>3</th>\n",
       "      <td>1001</td>\n",
       "      <td>2004</td>\n",
       "      <td>1</td>\n",
       "      <td>8.0</td>\n",
       "      <td>1.0</td>\n",
       "      <td>0.0</td>\n",
       "      <td>34.0</td>\n",
       "      <td>1.0</td>\n",
       "      <td>0.0</td>\n",
       "      <td>34.0</td>\n",
       "      <td>...</td>\n",
       "      <td>0</td>\n",
       "      <td>0</td>\n",
       "      <td>0</td>\n",
       "      <td>0</td>\n",
       "      <td>4</td>\n",
       "      <td>1</td>\n",
       "      <td>6</td>\n",
       "      <td>2</td>\n",
       "      <td>0</td>\n",
       "      <td>0</td>\n",
       "    </tr>\n",
       "    <tr>\n",
       "      <th>4</th>\n",
       "      <td>1001</td>\n",
       "      <td>2005</td>\n",
       "      <td>1</td>\n",
       "      <td>20.0</td>\n",
       "      <td>1.0</td>\n",
       "      <td>1.0</td>\n",
       "      <td>35.0</td>\n",
       "      <td>4.0</td>\n",
       "      <td>1.0</td>\n",
       "      <td>35.0</td>\n",
       "      <td>...</td>\n",
       "      <td>0</td>\n",
       "      <td>0</td>\n",
       "      <td>0</td>\n",
       "      <td>0</td>\n",
       "      <td>5</td>\n",
       "      <td>1</td>\n",
       "      <td>4</td>\n",
       "      <td>1</td>\n",
       "      <td>0</td>\n",
       "      <td>0</td>\n",
       "    </tr>\n",
       "  </tbody>\n",
       "</table>\n",
       "<p>5 rows × 164 columns</p>\n",
       "</div>"
      ],
      "text/plain": [
       "  zipcode  year qtr  precip_annual_50  precip_annual_95  precip_annual_99  \\\n",
       "0    1001  2001   1              12.0               3.0               0.0   \n",
       "1    1001  2002   1              13.0               2.0               0.0   \n",
       "2    1001  2003   1              13.0               4.0               0.0   \n",
       "3    1001  2004   1               8.0               1.0               0.0   \n",
       "4    1001  2005   1              20.0               1.0               1.0   \n",
       "\n",
       "   precip_zip_50  precip_zip_95  precip_zip_99  precip_zipQuarter_50  ...  \\\n",
       "0           35.0            5.0            2.0                  35.0  ...   \n",
       "1           34.0            3.0            0.0                  34.0  ...   \n",
       "2           34.0            7.0            2.0                  34.0  ...   \n",
       "3           34.0            1.0            0.0                  34.0  ...   \n",
       "4           35.0            4.0            1.0                  35.0  ...   \n",
       "\n",
       "   lag4_temp_zipQuarter50  lag4_temp_zipQuarter95  lag4_precip_zipQuarter50  \\\n",
       "0                       1                       0                         0   \n",
       "1                       0                       0                         0   \n",
       "2                       1                       1                         0   \n",
       "3                       0                       0                         0   \n",
       "4                       0                       0                         0   \n",
       "\n",
       "   lag4_precip_zipQuarter95  lag4_temp_zipWeek50  lag4_temp_zipWeek95  \\\n",
       "0                         0                    8                    2   \n",
       "1                         0                    5                    0   \n",
       "2                         0                   10                    3   \n",
       "3                         0                    4                    1   \n",
       "4                         0                    5                    1   \n",
       "\n",
       "   lag4_precip_zipWeek50  lag4_precip_zipWeek95  lag4_days90Plus  \\\n",
       "0                      8                      0                0   \n",
       "1                      7                      2                0   \n",
       "2                      6                      0                0   \n",
       "3                      6                      2                0   \n",
       "4                      4                      1                0   \n",
       "\n",
       "   lag4_streak90Plus  \n",
       "0                  0  \n",
       "1                  0  \n",
       "2                  0  \n",
       "3                  0  \n",
       "4                  0  \n",
       "\n",
       "[5 rows x 164 columns]"
      ]
     },
     "execution_count": 102,
     "metadata": {},
     "output_type": "execute_result"
    }
   ],
   "source": [
    "allSupplierWeather = allWeather_withLags.merge(averages).\\\n",
    "    merge(thunderstorms_withLags).merge(thunderstorms_withLags).merge(allWeather_withLags2)\n",
    "\n",
    "# merge(g).streaks_withLags.\n",
    "\n",
    "allSupplierWeather.head()"
   ]
  },
  {
   "cell_type": "code",
   "execution_count": 103,
   "metadata": {},
   "outputs": [],
   "source": [
    "for colname in allSupplierWeather.columns[3:]:\n",
    "    allSupplierWeather.rename(columns = {colname: 'supplier_' + colname}, inplace = True)\n"
   ]
  },
  {
   "cell_type": "code",
   "execution_count": 104,
   "metadata": {},
   "outputs": [],
   "source": [
    "allSupplierWeather.rename(columns = {'zipcode': 'supplier_zipcode'}, inplace = True)\n",
    "allSupplierWeather['supplier_zipcode']     = allSupplierWeather.supplier_zipcode.astype('str').str.zfill(5)\n"
   ]
  },
  {
   "cell_type": "code",
   "execution_count": 105,
   "metadata": {},
   "outputs": [
    {
     "data": {
      "text/plain": [
       "0"
      ]
     },
     "execution_count": 105,
     "metadata": {},
     "output_type": "execute_result"
    }
   ],
   "source": [
    "(allSupplierWeather.year == 'NA').sum()"
   ]
  },
  {
   "cell_type": "code",
   "execution_count": 106,
   "metadata": {},
   "outputs": [],
   "source": [
    "allSupplierWeather['year'] = allSupplierWeather.year.astype('str').str.slice(0,4).astype('int64')\n",
    "randomSample['year']       = randomSample.year.astype('str').str.slice(0,4).astype('int64')\n",
    "\n"
   ]
  },
  {
   "cell_type": "markdown",
   "metadata": {},
   "source": [
    "Join this in."
   ]
  },
  {
   "cell_type": "code",
   "execution_count": 107,
   "metadata": {},
   "outputs": [
    {
     "name": "stdout",
     "output_type": "stream",
     "text": [
      "Index(['customer_gvkey', 'year', 'qtr', 'companyName', 'curcdq', 'assets',\n",
      "       'cash', 'costGoodsSold', 'totalInv', 'netIncome', 'opInc_afDep',\n",
      "       'opInc_befDep', 'totalRevenue', 'costat', 'priceClose', 'add1',\n",
      "       'addzip', 'city', 'state', 'assetsLast', 'netIncomeLast',\n",
      "       'totalRevenueLast', 'costGoodsSoldLast', 'totalInvLast',\n",
      "       'opInc_afDepLast', 'opInc_befDepLast', 'priceCloseLast', 'cashLast',\n",
      "       'fyearq', 'assetsLagged', 'netIncomeLagged', 'roa_lagged', 'sic2',\n",
      "       'indGroup', 'earliestYear', 'ageTercile', 'sizeTercile',\n",
      "       'profitTercile', 'datacqtr', 'datafqtr', 'fyr', 'DATE'],\n",
      "      dtype='object')\n"
     ]
    }
   ],
   "source": [
    "compustat = pd.read_csv(\"../../data/companyData/compustatChanges_withControls.csv\").\\\n",
    "    drop(columns = ['Unnamed: 0', 'datadate']).rename(columns = {'gvkey': 'customer_gvkey'})\n",
    "print(compustat.columns)"
   ]
  },
  {
   "cell_type": "markdown",
   "metadata": {},
   "source": [
    "We are losing some observations, but it seems like we're losing them because we don't have calendar quarters aligning with firm quarters."
   ]
  },
  {
   "cell_type": "code",
   "execution_count": 108,
   "metadata": {},
   "outputs": [
    {
     "data": {
      "text/plain": [
       "0.7986428909578664"
      ]
     },
     "execution_count": 108,
     "metadata": {},
     "output_type": "execute_result"
    }
   ],
   "source": [
    "randomSample.customer_gvkey.isin(compustat.customer_gvkey).sum()/randomSample.shape[0]"
   ]
  },
  {
   "cell_type": "code",
   "execution_count": 109,
   "metadata": {},
   "outputs": [
    {
     "data": {
      "text/plain": [
       "(12674, 23)"
      ]
     },
     "execution_count": 109,
     "metadata": {},
     "output_type": "execute_result"
    }
   ],
   "source": [
    "randomSample.shape"
   ]
  },
  {
   "cell_type": "code",
   "execution_count": 110,
   "metadata": {},
   "outputs": [
    {
     "name": "stdout",
     "output_type": "stream",
     "text": [
      "(34073, 63)\n"
     ]
    },
    {
     "data": {
      "text/html": [
       "<div>\n",
       "<style scoped>\n",
       "    .dataframe tbody tr th:only-of-type {\n",
       "        vertical-align: middle;\n",
       "    }\n",
       "\n",
       "    .dataframe tbody tr th {\n",
       "        vertical-align: top;\n",
       "    }\n",
       "\n",
       "    .dataframe thead th {\n",
       "        text-align: right;\n",
       "    }\n",
       "</style>\n",
       "<table border=\"1\" class=\"dataframe\">\n",
       "  <thead>\n",
       "    <tr style=\"text-align: right;\">\n",
       "      <th></th>\n",
       "      <th>year</th>\n",
       "      <th>supplier_gvkey</th>\n",
       "      <th>customer_gvkey</th>\n",
       "      <th>salecs</th>\n",
       "      <th>firstYear</th>\n",
       "      <th>lastYear</th>\n",
       "      <th>customer_ind</th>\n",
       "      <th>supplier_ind</th>\n",
       "      <th>customer_cstatCompanies</th>\n",
       "      <th>customer_igCompanies</th>\n",
       "      <th>...</th>\n",
       "      <th>sic2</th>\n",
       "      <th>indGroup</th>\n",
       "      <th>earliestYear</th>\n",
       "      <th>ageTercile</th>\n",
       "      <th>sizeTercile</th>\n",
       "      <th>profitTercile</th>\n",
       "      <th>datacqtr</th>\n",
       "      <th>datafqtr</th>\n",
       "      <th>fyr</th>\n",
       "      <th>DATE</th>\n",
       "    </tr>\n",
       "  </thead>\n",
       "  <tbody>\n",
       "    <tr>\n",
       "      <th>0</th>\n",
       "      <td>2000</td>\n",
       "      <td>1082.0</td>\n",
       "      <td>1038.0</td>\n",
       "      <td>38.220</td>\n",
       "      <td>2000-01-01</td>\n",
       "      <td>2000-01-01</td>\n",
       "      <td>services</td>\n",
       "      <td>services</td>\n",
       "      <td>amc entertainment</td>\n",
       "      <td>amc entertainment</td>\n",
       "      <td>...</td>\n",
       "      <td>78</td>\n",
       "      <td>services</td>\n",
       "      <td>1982</td>\n",
       "      <td>0</td>\n",
       "      <td>2.0</td>\n",
       "      <td>1.0</td>\n",
       "      <td>2000Q1</td>\n",
       "      <td>1999Q4</td>\n",
       "      <td>3</td>\n",
       "      <td>1970-01-01 00:00:00.020000331</td>\n",
       "    </tr>\n",
       "    <tr>\n",
       "      <th>1</th>\n",
       "      <td>2000</td>\n",
       "      <td>1082.0</td>\n",
       "      <td>1038.0</td>\n",
       "      <td>38.220</td>\n",
       "      <td>2000-01-01</td>\n",
       "      <td>2000-01-01</td>\n",
       "      <td>services</td>\n",
       "      <td>services</td>\n",
       "      <td>amc entertainment</td>\n",
       "      <td>amc entertainment</td>\n",
       "      <td>...</td>\n",
       "      <td>78</td>\n",
       "      <td>services</td>\n",
       "      <td>1982</td>\n",
       "      <td>0</td>\n",
       "      <td>2.0</td>\n",
       "      <td>1.0</td>\n",
       "      <td>2000Q2</td>\n",
       "      <td>2000Q1</td>\n",
       "      <td>3</td>\n",
       "      <td>1970-01-01 00:00:00.020000630</td>\n",
       "    </tr>\n",
       "    <tr>\n",
       "      <th>2</th>\n",
       "      <td>2000</td>\n",
       "      <td>1082.0</td>\n",
       "      <td>1038.0</td>\n",
       "      <td>38.220</td>\n",
       "      <td>2000-01-01</td>\n",
       "      <td>2000-01-01</td>\n",
       "      <td>services</td>\n",
       "      <td>services</td>\n",
       "      <td>amc entertainment</td>\n",
       "      <td>amc entertainment</td>\n",
       "      <td>...</td>\n",
       "      <td>78</td>\n",
       "      <td>services</td>\n",
       "      <td>1982</td>\n",
       "      <td>0</td>\n",
       "      <td>2.0</td>\n",
       "      <td>2.0</td>\n",
       "      <td>2000Q3</td>\n",
       "      <td>2000Q2</td>\n",
       "      <td>3</td>\n",
       "      <td>1970-01-01 00:00:00.020000930</td>\n",
       "    </tr>\n",
       "    <tr>\n",
       "      <th>3</th>\n",
       "      <td>2000</td>\n",
       "      <td>1082.0</td>\n",
       "      <td>1038.0</td>\n",
       "      <td>38.220</td>\n",
       "      <td>2000-01-01</td>\n",
       "      <td>2000-01-01</td>\n",
       "      <td>services</td>\n",
       "      <td>services</td>\n",
       "      <td>amc entertainment</td>\n",
       "      <td>amc entertainment</td>\n",
       "      <td>...</td>\n",
       "      <td>78</td>\n",
       "      <td>services</td>\n",
       "      <td>1982</td>\n",
       "      <td>0</td>\n",
       "      <td>2.0</td>\n",
       "      <td>1.0</td>\n",
       "      <td>2000Q4</td>\n",
       "      <td>2000Q3</td>\n",
       "      <td>3</td>\n",
       "      <td>1970-01-01 00:00:00.020001231</td>\n",
       "    </tr>\n",
       "    <tr>\n",
       "      <th>4</th>\n",
       "      <td>2000</td>\n",
       "      <td>151161.0</td>\n",
       "      <td>1045.0</td>\n",
       "      <td>18.904</td>\n",
       "      <td>2000-01-01</td>\n",
       "      <td>2005-01-01</td>\n",
       "      <td>transportUtilities</td>\n",
       "      <td>manu</td>\n",
       "      <td>american airlines</td>\n",
       "      <td>american airlines</td>\n",
       "      <td>...</td>\n",
       "      <td>45</td>\n",
       "      <td>transportUtilities</td>\n",
       "      <td>1963</td>\n",
       "      <td>0</td>\n",
       "      <td>2.0</td>\n",
       "      <td>2.0</td>\n",
       "      <td>2000Q1</td>\n",
       "      <td>2000Q1</td>\n",
       "      <td>12</td>\n",
       "      <td>1970-01-01 00:00:00.020000331</td>\n",
       "    </tr>\n",
       "  </tbody>\n",
       "</table>\n",
       "<p>5 rows × 63 columns</p>\n",
       "</div>"
      ],
      "text/plain": [
       "   year  supplier_gvkey  customer_gvkey  salecs  firstYear   lastYear  \\\n",
       "0  2000          1082.0          1038.0  38.220 2000-01-01 2000-01-01   \n",
       "1  2000          1082.0          1038.0  38.220 2000-01-01 2000-01-01   \n",
       "2  2000          1082.0          1038.0  38.220 2000-01-01 2000-01-01   \n",
       "3  2000          1082.0          1038.0  38.220 2000-01-01 2000-01-01   \n",
       "4  2000        151161.0          1045.0  18.904 2000-01-01 2005-01-01   \n",
       "\n",
       "         customer_ind supplier_ind customer_cstatCompanies  \\\n",
       "0            services     services      amc entertainment    \n",
       "1            services     services      amc entertainment    \n",
       "2            services     services      amc entertainment    \n",
       "3            services     services      amc entertainment    \n",
       "4  transportUtilities         manu      american airlines    \n",
       "\n",
       "  customer_igCompanies  ...  sic2            indGroup earliestYear  \\\n",
       "0   amc entertainment   ...    78            services         1982   \n",
       "1   amc entertainment   ...    78            services         1982   \n",
       "2   amc entertainment   ...    78            services         1982   \n",
       "3   amc entertainment   ...    78            services         1982   \n",
       "4   american airlines   ...    45  transportUtilities         1963   \n",
       "\n",
       "   ageTercile  sizeTercile  profitTercile datacqtr  datafqtr  fyr  \\\n",
       "0           0          2.0            1.0   2000Q1    1999Q4    3   \n",
       "1           0          2.0            1.0   2000Q2    2000Q1    3   \n",
       "2           0          2.0            2.0   2000Q3    2000Q2    3   \n",
       "3           0          2.0            1.0   2000Q4    2000Q3    3   \n",
       "4           0          2.0            2.0   2000Q1    2000Q1   12   \n",
       "\n",
       "                            DATE  \n",
       "0  1970-01-01 00:00:00.020000331  \n",
       "1  1970-01-01 00:00:00.020000630  \n",
       "2  1970-01-01 00:00:00.020000930  \n",
       "3  1970-01-01 00:00:00.020001231  \n",
       "4  1970-01-01 00:00:00.020000331  \n",
       "\n",
       "[5 rows x 63 columns]"
      ]
     },
     "execution_count": 110,
     "metadata": {},
     "output_type": "execute_result"
    }
   ],
   "source": [
    "compustat = randomSample.merge(compustat)\n",
    "print(compustat.shape)\n",
    "\n",
    "\n",
    "compustat.head()"
   ]
  },
  {
   "cell_type": "markdown",
   "metadata": {},
   "source": [
    "See what fraction of all samples we would expect to take."
   ]
  },
  {
   "cell_type": "code",
   "execution_count": 111,
   "metadata": {},
   "outputs": [
    {
     "data": {
      "text/plain": [
       "0.6721043080321919"
      ]
     },
     "execution_count": 111,
     "metadata": {},
     "output_type": "execute_result"
    }
   ],
   "source": [
    "compustat.shape[0]/(randomSample.shape[0]*4)"
   ]
  },
  {
   "cell_type": "code",
   "execution_count": 112,
   "metadata": {},
   "outputs": [
    {
     "data": {
      "text/plain": [
       "(34073, 63)"
      ]
     },
     "execution_count": 112,
     "metadata": {},
     "output_type": "execute_result"
    }
   ],
   "source": [
    "compustat.shape"
   ]
  },
  {
   "cell_type": "code",
   "execution_count": 113,
   "metadata": {},
   "outputs": [],
   "source": [
    "largestSuppliersWithWeather = compustat.merge(allSupplierWeather)"
   ]
  },
  {
   "cell_type": "code",
   "execution_count": 114,
   "metadata": {},
   "outputs": [
    {
     "data": {
      "text/plain": [
       "Index(['year', 'supplier_gvkey', 'customer_gvkey', 'salecs', 'firstYear',\n",
       "       'lastYear', 'customer_ind', 'supplier_ind', 'customer_cstatCompanies',\n",
       "       'customer_igCompanies', 'customer_abi', 'supplier_cstatCompanies',\n",
       "       'supplier_igCompanies', 'supplier_abi', 'customer_latitude',\n",
       "       'customer_longitude', 'customer_zipcode', 'supplier_latitude',\n",
       "       'supplier_longitude', 'supplier_zipcode', 'dist', 'totalSuppliers',\n",
       "       'meanSales', 'qtr', 'companyName', 'curcdq', 'assets', 'cash',\n",
       "       'costGoodsSold', 'totalInv', 'netIncome', 'opInc_afDep', 'opInc_befDep',\n",
       "       'totalRevenue', 'costat', 'priceClose', 'add1', 'addzip', 'city',\n",
       "       'state', 'assetsLast', 'netIncomeLast', 'totalRevenueLast',\n",
       "       'costGoodsSoldLast', 'totalInvLast', 'opInc_afDepLast',\n",
       "       'opInc_befDepLast', 'priceCloseLast', 'cashLast', 'fyearq',\n",
       "       'assetsLagged', 'netIncomeLagged', 'roa_lagged', 'sic2', 'indGroup',\n",
       "       'earliestYear', 'ageTercile', 'sizeTercile', 'profitTercile',\n",
       "       'datacqtr', 'datafqtr', 'fyr', 'DATE', 'supplier_precip_annual_50',\n",
       "       'supplier_precip_annual_95', 'supplier_precip_annual_99',\n",
       "       'supplier_precip_zip_50', 'supplier_precip_zip_95',\n",
       "       'supplier_precip_zip_99', 'supplier_precip_zipQuarter_50',\n",
       "       'supplier_precip_zipQuarter_95', 'supplier_precip_zipQuarter_99',\n",
       "       'supplier_temp_annual_50', 'supplier_temp_annual_95',\n",
       "       'supplier_temp_annual_99', 'supplier_temp_zip_50',\n",
       "       'supplier_temp_zip_95', 'supplier_temp_zip_99',\n",
       "       'supplier_temp_zipQuarter_50', 'supplier_temp_zipQuarter_95',\n",
       "       'supplier_temp_zipQuarter_99', 'supplier_lag1_precip_annual_50',\n",
       "       'supplier_lag1_precip_annual_95', 'supplier_lag1_precip_annual_99',\n",
       "       'supplier_lag1_precip_zip_50', 'supplier_lag1_precip_zip_95',\n",
       "       'supplier_lag1_precip_zip_99', 'supplier_lag1_precip_zipQuarter_50',\n",
       "       'supplier_lag1_precip_zipQuarter_95',\n",
       "       'supplier_lag1_precip_zipQuarter_99', 'supplier_lag1_temp_annual_50',\n",
       "       'supplier_lag1_temp_annual_95', 'supplier_lag1_temp_annual_99',\n",
       "       'supplier_lag1_temp_zip_50', 'supplier_lag1_temp_zip_95',\n",
       "       'supplier_lag1_temp_zip_99', 'supplier_lag1_temp_zipQuarter_50',\n",
       "       'supplier_lag1_temp_zipQuarter_95', 'supplier_lag1_temp_zipQuarter_99',\n",
       "       'supplier_lag2_precip_annual_50'],\n",
       "      dtype='object')"
      ]
     },
     "execution_count": 114,
     "metadata": {},
     "output_type": "execute_result"
    }
   ],
   "source": [
    "largestSuppliersWithWeather.columns[0:100]"
   ]
  },
  {
   "cell_type": "markdown",
   "metadata": {},
   "source": [
    "Now put in the customer hq thing, so we can filter out customer-supplier pairs that are within x miles of each other."
   ]
  },
  {
   "cell_type": "code",
   "execution_count": 115,
   "metadata": {},
   "outputs": [
    {
     "data": {
      "text/plain": [
       "0       2000-01-01\n",
       "1       2006-01-01\n",
       "2       2005-01-01\n",
       "3       2000-01-01\n",
       "4       2006-01-01\n",
       "           ...    \n",
       "30900   2019-01-01\n",
       "30901   2019-01-01\n",
       "30902   2019-01-01\n",
       "30903   2019-01-01\n",
       "30904   2019-01-01\n",
       "Name: lastYear, Length: 30905, dtype: datetime64[ns]"
      ]
     },
     "execution_count": 115,
     "metadata": {},
     "output_type": "execute_result"
    }
   ],
   "source": [
    "largestSuppliersWithWeather.lastYear"
   ]
  },
  {
   "cell_type": "code",
   "execution_count": 116,
   "metadata": {},
   "outputs": [],
   "source": [
    "largestSuppliersWithWeather.rename(columns = {'customer_gvkey': 'gvkey'}, inplace = True)"
   ]
  },
  {
   "cell_type": "code",
   "execution_count": 71,
   "metadata": {},
   "outputs": [],
   "source": [
    "largestSuppliersWithWeather.to_csv(\"../../data/companyData/largestSuppliersWithWeather_more500K.csv\")"
   ]
  },
  {
   "cell_type": "code",
   "execution_count": 81,
   "metadata": {},
   "outputs": [],
   "source": [
    "# largestSuppliersWithWeather.to_csv(\"../../data/companyData/largestSuppliersWithWeather.csv\")"
   ]
  },
  {
   "cell_type": "code",
   "execution_count": null,
   "metadata": {},
   "outputs": [],
   "source": [
    "largestSuppliersWithWeather.shape"
   ]
  },
  {
   "cell_type": "code",
   "execution_count": 63,
   "metadata": {},
   "outputs": [
    {
     "data": {
      "text/html": [
       "<div>\n",
       "<style scoped>\n",
       "    .dataframe tbody tr th:only-of-type {\n",
       "        vertical-align: middle;\n",
       "    }\n",
       "\n",
       "    .dataframe tbody tr th {\n",
       "        vertical-align: top;\n",
       "    }\n",
       "\n",
       "    .dataframe thead th {\n",
       "        text-align: right;\n",
       "    }\n",
       "</style>\n",
       "<table border=\"1\" class=\"dataframe\">\n",
       "  <thead>\n",
       "    <tr style=\"text-align: right;\">\n",
       "      <th></th>\n",
       "      <th>year</th>\n",
       "      <th>supplier_gvkey</th>\n",
       "      <th>gvkey</th>\n",
       "      <th>salecs</th>\n",
       "      <th>firstYear</th>\n",
       "      <th>lastYear</th>\n",
       "      <th>customer_ind</th>\n",
       "      <th>supplier_ind</th>\n",
       "      <th>customer_cstatCompanies</th>\n",
       "      <th>customer_igCompanies</th>\n",
       "      <th>...</th>\n",
       "      <th>supplier_lag4_temp_zipQuarter50</th>\n",
       "      <th>supplier_lag4_temp_zipQuarter95</th>\n",
       "      <th>supplier_lag4_precip_zipQuarter50</th>\n",
       "      <th>supplier_lag4_precip_zipQuarter95</th>\n",
       "      <th>supplier_lag4_temp_zipWeek50</th>\n",
       "      <th>supplier_lag4_temp_zipWeek95</th>\n",
       "      <th>supplier_lag4_precip_zipWeek50</th>\n",
       "      <th>supplier_lag4_precip_zipWeek95</th>\n",
       "      <th>supplier_lag4_days90Plus</th>\n",
       "      <th>supplier_lag4_streak90Plus</th>\n",
       "    </tr>\n",
       "  </thead>\n",
       "  <tbody>\n",
       "    <tr>\n",
       "      <th>0</th>\n",
       "      <td>2001</td>\n",
       "      <td>151161.0</td>\n",
       "      <td>1045.0</td>\n",
       "      <td>16.216</td>\n",
       "      <td>2000-01-01</td>\n",
       "      <td>2005-01-01</td>\n",
       "      <td>transportUtilities</td>\n",
       "      <td>manu</td>\n",
       "      <td>american airlines</td>\n",
       "      <td>american airlines</td>\n",
       "      <td>...</td>\n",
       "      <td>0</td>\n",
       "      <td>0</td>\n",
       "      <td>1</td>\n",
       "      <td>0</td>\n",
       "      <td>6</td>\n",
       "      <td>1</td>\n",
       "      <td>6</td>\n",
       "      <td>0</td>\n",
       "      <td>0</td>\n",
       "      <td>0</td>\n",
       "    </tr>\n",
       "    <tr>\n",
       "      <th>1</th>\n",
       "      <td>2001</td>\n",
       "      <td>151161.0</td>\n",
       "      <td>1045.0</td>\n",
       "      <td>16.216</td>\n",
       "      <td>2000-01-01</td>\n",
       "      <td>2005-01-01</td>\n",
       "      <td>transportUtilities</td>\n",
       "      <td>manu</td>\n",
       "      <td>american airlines</td>\n",
       "      <td>american airlines</td>\n",
       "      <td>...</td>\n",
       "      <td>1</td>\n",
       "      <td>0</td>\n",
       "      <td>1</td>\n",
       "      <td>0</td>\n",
       "      <td>11</td>\n",
       "      <td>1</td>\n",
       "      <td>3</td>\n",
       "      <td>2</td>\n",
       "      <td>1</td>\n",
       "      <td>0</td>\n",
       "    </tr>\n",
       "    <tr>\n",
       "      <th>2</th>\n",
       "      <td>2001</td>\n",
       "      <td>151161.0</td>\n",
       "      <td>1045.0</td>\n",
       "      <td>16.216</td>\n",
       "      <td>2000-01-01</td>\n",
       "      <td>2005-01-01</td>\n",
       "      <td>transportUtilities</td>\n",
       "      <td>manu</td>\n",
       "      <td>american airlines</td>\n",
       "      <td>american airlines</td>\n",
       "      <td>...</td>\n",
       "      <td>0</td>\n",
       "      <td>0</td>\n",
       "      <td>1</td>\n",
       "      <td>0</td>\n",
       "      <td>7</td>\n",
       "      <td>0</td>\n",
       "      <td>2</td>\n",
       "      <td>1</td>\n",
       "      <td>9</td>\n",
       "      <td>0</td>\n",
       "    </tr>\n",
       "    <tr>\n",
       "      <th>3</th>\n",
       "      <td>2001</td>\n",
       "      <td>151161.0</td>\n",
       "      <td>1045.0</td>\n",
       "      <td>16.216</td>\n",
       "      <td>2000-01-01</td>\n",
       "      <td>2005-01-01</td>\n",
       "      <td>transportUtilities</td>\n",
       "      <td>manu</td>\n",
       "      <td>american airlines</td>\n",
       "      <td>american airlines</td>\n",
       "      <td>...</td>\n",
       "      <td>0</td>\n",
       "      <td>0</td>\n",
       "      <td>0</td>\n",
       "      <td>0</td>\n",
       "      <td>5</td>\n",
       "      <td>0</td>\n",
       "      <td>3</td>\n",
       "      <td>1</td>\n",
       "      <td>0</td>\n",
       "      <td>0</td>\n",
       "    </tr>\n",
       "    <tr>\n",
       "      <th>4</th>\n",
       "      <td>2001</td>\n",
       "      <td>24971.0</td>\n",
       "      <td>1078.0</td>\n",
       "      <td>49.600</td>\n",
       "      <td>2000-01-01</td>\n",
       "      <td>2002-01-01</td>\n",
       "      <td>manu</td>\n",
       "      <td>manu</td>\n",
       "      <td>abbott laboratories</td>\n",
       "      <td>abbott laboratories</td>\n",
       "      <td>...</td>\n",
       "      <td>1</td>\n",
       "      <td>0</td>\n",
       "      <td>0</td>\n",
       "      <td>0</td>\n",
       "      <td>9</td>\n",
       "      <td>3</td>\n",
       "      <td>6</td>\n",
       "      <td>0</td>\n",
       "      <td>0</td>\n",
       "      <td>0</td>\n",
       "    </tr>\n",
       "  </tbody>\n",
       "</table>\n",
       "<p>5 rows × 224 columns</p>\n",
       "</div>"
      ],
      "text/plain": [
       "   year  supplier_gvkey   gvkey  salecs  firstYear   lastYear  \\\n",
       "0  2001        151161.0  1045.0  16.216 2000-01-01 2005-01-01   \n",
       "1  2001        151161.0  1045.0  16.216 2000-01-01 2005-01-01   \n",
       "2  2001        151161.0  1045.0  16.216 2000-01-01 2005-01-01   \n",
       "3  2001        151161.0  1045.0  16.216 2000-01-01 2005-01-01   \n",
       "4  2001         24971.0  1078.0  49.600 2000-01-01 2002-01-01   \n",
       "\n",
       "         customer_ind supplier_ind customer_cstatCompanies  \\\n",
       "0  transportUtilities         manu      american airlines    \n",
       "1  transportUtilities         manu      american airlines    \n",
       "2  transportUtilities         manu      american airlines    \n",
       "3  transportUtilities         manu      american airlines    \n",
       "4                manu         manu     abbott laboratories   \n",
       "\n",
       "  customer_igCompanies  ...  supplier_lag4_temp_zipQuarter50  \\\n",
       "0   american airlines   ...                                0   \n",
       "1   american airlines   ...                                1   \n",
       "2   american airlines   ...                                0   \n",
       "3   american airlines   ...                                0   \n",
       "4  abbott laboratories  ...                                1   \n",
       "\n",
       "  supplier_lag4_temp_zipQuarter95 supplier_lag4_precip_zipQuarter50  \\\n",
       "0                               0                                 1   \n",
       "1                               0                                 1   \n",
       "2                               0                                 1   \n",
       "3                               0                                 0   \n",
       "4                               0                                 0   \n",
       "\n",
       "   supplier_lag4_precip_zipQuarter95  supplier_lag4_temp_zipWeek50  \\\n",
       "0                                  0                             6   \n",
       "1                                  0                            11   \n",
       "2                                  0                             7   \n",
       "3                                  0                             5   \n",
       "4                                  0                             9   \n",
       "\n",
       "   supplier_lag4_temp_zipWeek95 supplier_lag4_precip_zipWeek50  \\\n",
       "0                             1                              6   \n",
       "1                             1                              3   \n",
       "2                             0                              2   \n",
       "3                             0                              3   \n",
       "4                             3                              6   \n",
       "\n",
       "   supplier_lag4_precip_zipWeek95  supplier_lag4_days90Plus  \\\n",
       "0                               0                         0   \n",
       "1                               2                         1   \n",
       "2                               1                         9   \n",
       "3                               1                         0   \n",
       "4                               0                         0   \n",
       "\n",
       "  supplier_lag4_streak90Plus  \n",
       "0                          0  \n",
       "1                          0  \n",
       "2                          0  \n",
       "3                          0  \n",
       "4                          0  \n",
       "\n",
       "[5 rows x 224 columns]"
      ]
     },
     "execution_count": 63,
     "metadata": {},
     "output_type": "execute_result"
    }
   ],
   "source": [
    "largestSuppliersWithWeather.head()"
   ]
  },
  {
   "cell_type": "code",
   "execution_count": 65,
   "metadata": {},
   "outputs": [
    {
     "name": "stdout",
     "output_type": "stream",
     "text": [
      "year\n",
      "supplier_gvkey\n",
      "gvkey\n",
      "salecs\n",
      "firstYear\n",
      "lastYear\n",
      "customer_ind\n",
      "supplier_ind\n",
      "customer_cstatCompanies\n",
      "customer_igCompanies\n",
      "customer_abi\n",
      "supplier_cstatCompanies\n",
      "supplier_igCompanies\n",
      "supplier_abi\n",
      "customer_latitude\n",
      "customer_longitude\n",
      "customer_zipcode\n",
      "supplier_latitude\n",
      "supplier_longitude\n",
      "supplier_zipcode\n",
      "dist\n",
      "totalSuppliers\n",
      "meanSales\n",
      "qtr\n",
      "companyName\n",
      "curcdq\n",
      "assets\n",
      "cash\n",
      "costGoodsSold\n",
      "totalInv\n",
      "netIncome\n",
      "opInc_afDep\n",
      "opInc_befDep\n",
      "totalRevenue\n",
      "costat\n",
      "priceClose\n",
      "add1\n",
      "addzip\n",
      "city\n",
      "state\n",
      "assetsLast\n",
      "netIncomeLast\n",
      "totalRevenueLast\n",
      "costGoodsSoldLast\n",
      "totalInvLast\n",
      "opInc_afDepLast\n",
      "opInc_befDepLast\n",
      "priceCloseLast\n",
      "cashLast\n",
      "fyearq\n",
      "assetsLagged\n",
      "netIncomeLagged\n",
      "roa_lagged\n",
      "sic2\n",
      "indGroup\n",
      "earliestYear\n",
      "ageTercile\n",
      "sizeTercile\n",
      "profitTercile\n",
      "datacqtr\n",
      "datafqtr\n",
      "fyr\n",
      "DATE\n",
      "supplier_precip_annual_50\n",
      "supplier_precip_annual_95\n",
      "supplier_precip_annual_99\n",
      "supplier_precip_zip_50\n",
      "supplier_precip_zip_95\n",
      "supplier_precip_zip_99\n",
      "supplier_precip_zipQuarter_50\n",
      "supplier_precip_zipQuarter_95\n",
      "supplier_precip_zipQuarter_99\n",
      "supplier_temp_annual_50\n",
      "supplier_temp_annual_95\n",
      "supplier_temp_annual_99\n",
      "supplier_temp_zip_50\n",
      "supplier_temp_zip_95\n",
      "supplier_temp_zip_99\n",
      "supplier_temp_zipQuarter_50\n",
      "supplier_temp_zipQuarter_95\n",
      "supplier_temp_zipQuarter_99\n",
      "supplier_lag1_precip_annual_50\n",
      "supplier_lag1_precip_annual_95\n",
      "supplier_lag1_precip_annual_99\n",
      "supplier_lag1_precip_zip_50\n",
      "supplier_lag1_precip_zip_95\n",
      "supplier_lag1_precip_zip_99\n",
      "supplier_lag1_precip_zipQuarter_50\n",
      "supplier_lag1_precip_zipQuarter_95\n",
      "supplier_lag1_precip_zipQuarter_99\n",
      "supplier_lag1_temp_annual_50\n",
      "supplier_lag1_temp_annual_95\n",
      "supplier_lag1_temp_annual_99\n",
      "supplier_lag1_temp_zip_50\n",
      "supplier_lag1_temp_zip_95\n",
      "supplier_lag1_temp_zip_99\n",
      "supplier_lag1_temp_zipQuarter_50\n",
      "supplier_lag1_temp_zipQuarter_95\n",
      "supplier_lag1_temp_zipQuarter_99\n",
      "supplier_lag2_precip_annual_50\n",
      "supplier_lag2_precip_annual_95\n",
      "supplier_lag2_precip_annual_99\n",
      "supplier_lag2_precip_zip_50\n",
      "supplier_lag2_precip_zip_95\n",
      "supplier_lag2_precip_zip_99\n",
      "supplier_lag2_precip_zipQuarter_50\n",
      "supplier_lag2_precip_zipQuarter_95\n",
      "supplier_lag2_precip_zipQuarter_99\n",
      "supplier_lag2_temp_annual_50\n",
      "supplier_lag2_temp_annual_95\n",
      "supplier_lag2_temp_annual_99\n",
      "supplier_lag2_temp_zip_50\n",
      "supplier_lag2_temp_zip_95\n",
      "supplier_lag2_temp_zip_99\n",
      "supplier_lag2_temp_zipQuarter_50\n",
      "supplier_lag2_temp_zipQuarter_95\n",
      "supplier_lag2_temp_zipQuarter_99\n",
      "supplier_lag3_precip_annual_50\n",
      "supplier_lag3_precip_annual_95\n",
      "supplier_lag3_precip_annual_99\n",
      "supplier_lag3_precip_zip_50\n",
      "supplier_lag3_precip_zip_95\n",
      "supplier_lag3_precip_zip_99\n",
      "supplier_lag3_precip_zipQuarter_50\n",
      "supplier_lag3_precip_zipQuarter_95\n",
      "supplier_lag3_precip_zipQuarter_99\n",
      "supplier_lag3_temp_annual_50\n",
      "supplier_lag3_temp_annual_95\n",
      "supplier_lag3_temp_annual_99\n",
      "supplier_lag3_temp_zip_50\n",
      "supplier_lag3_temp_zip_95\n",
      "supplier_lag3_temp_zip_99\n",
      "supplier_lag3_temp_zipQuarter_50\n",
      "supplier_lag3_temp_zipQuarter_95\n",
      "supplier_lag3_temp_zipQuarter_99\n",
      "supplier_lag4_precip_annual_50\n",
      "supplier_lag4_precip_annual_95\n",
      "supplier_lag4_precip_annual_99\n",
      "supplier_lag4_precip_zip_50\n",
      "supplier_lag4_precip_zip_95\n",
      "supplier_lag4_precip_zip_99\n",
      "supplier_lag4_precip_zipQuarter_50\n",
      "supplier_lag4_precip_zipQuarter_95\n",
      "supplier_lag4_precip_zipQuarter_99\n",
      "supplier_lag4_temp_annual_50\n",
      "supplier_lag4_temp_annual_95\n",
      "supplier_lag4_temp_annual_99\n",
      "supplier_lag4_temp_zip_50\n",
      "supplier_lag4_temp_zip_95\n",
      "supplier_lag4_temp_zip_99\n",
      "supplier_lag4_temp_zipQuarter_50\n",
      "supplier_lag4_temp_zipQuarter_95\n",
      "supplier_lag4_temp_zipQuarter_99\n",
      "supplier_quarterly_avg_precip\n",
      "supplier_quarterly_median_precip\n",
      "supplier_quarterly_variance_precip\n",
      "supplier_quarterly_avg_temp\n",
      "supplier_quarterly_median_temp\n",
      "supplier_quarterly_variance_temp\n",
      "supplier_propAboveTenThou\n",
      "supplier_propAboveHundredThou\n",
      "supplier_propAboveMilli\n",
      "supplier_lag1_propAboveTenThou\n",
      "supplier_lag1_propAboveHundredThou\n",
      "supplier_lag1_propAboveMilli\n",
      "supplier_lag2_propAboveTenThou\n",
      "supplier_lag2_propAboveHundredThou\n",
      "supplier_lag2_propAboveMilli\n",
      "supplier_lag3_propAboveTenThou\n",
      "supplier_lag3_propAboveHundredThou\n",
      "supplier_lag3_propAboveMilli\n",
      "supplier_lag4_propAboveTenThou\n",
      "supplier_lag4_propAboveHundredThou\n",
      "supplier_lag4_propAboveMilli\n",
      "supplier_temp_zipQuarter50\n",
      "supplier_temp_zipQuarter95\n",
      "supplier_precip_zipQuarter50\n",
      "supplier_precip_zipQuarter95\n",
      "supplier_temp_zipWeek50\n",
      "supplier_temp_zipWeek95\n",
      "supplier_precip_zipWeek50\n",
      "supplier_precip_zipWeek95\n",
      "supplier_days90Plus\n",
      "supplier_streak90Plus\n",
      "supplier_lag1_temp_zipQuarter50\n",
      "supplier_lag1_temp_zipQuarter95\n",
      "supplier_lag1_precip_zipQuarter50\n",
      "supplier_lag1_precip_zipQuarter95\n",
      "supplier_lag1_temp_zipWeek50\n",
      "supplier_lag1_temp_zipWeek95\n",
      "supplier_lag1_precip_zipWeek50\n",
      "supplier_lag1_precip_zipWeek95\n",
      "supplier_lag1_days90Plus\n",
      "supplier_lag1_streak90Plus\n",
      "supplier_lag2_temp_zipQuarter50\n",
      "supplier_lag2_temp_zipQuarter95\n",
      "supplier_lag2_precip_zipQuarter50\n",
      "supplier_lag2_precip_zipQuarter95\n",
      "supplier_lag2_temp_zipWeek50\n",
      "supplier_lag2_temp_zipWeek95\n",
      "supplier_lag2_precip_zipWeek50\n",
      "supplier_lag2_precip_zipWeek95\n",
      "supplier_lag2_days90Plus\n",
      "supplier_lag2_streak90Plus\n",
      "supplier_lag3_temp_zipQuarter50\n",
      "supplier_lag3_temp_zipQuarter95\n",
      "supplier_lag3_precip_zipQuarter50\n",
      "supplier_lag3_precip_zipQuarter95\n",
      "supplier_lag3_temp_zipWeek50\n",
      "supplier_lag3_temp_zipWeek95\n",
      "supplier_lag3_precip_zipWeek50\n",
      "supplier_lag3_precip_zipWeek95\n",
      "supplier_lag3_days90Plus\n",
      "supplier_lag3_streak90Plus\n",
      "supplier_lag4_temp_zipQuarter50\n",
      "supplier_lag4_temp_zipQuarter95\n",
      "supplier_lag4_precip_zipQuarter50\n",
      "supplier_lag4_precip_zipQuarter95\n",
      "supplier_lag4_temp_zipWeek50\n",
      "supplier_lag4_temp_zipWeek95\n",
      "supplier_lag4_precip_zipWeek50\n",
      "supplier_lag4_precip_zipWeek95\n",
      "supplier_lag4_days90Plus\n",
      "supplier_lag4_streak90Plus\n"
     ]
    }
   ],
   "source": [
    "for col in largestSuppliersWithWeather.columns:\n",
    "    print(col)"
   ]
  },
  {
   "cell_type": "code",
   "execution_count": null,
   "metadata": {},
   "outputs": [],
   "source": []
  },
  {
   "cell_type": "markdown",
   "metadata": {},
   "source": [
    "## Sales-Weighted Average\n",
    "If a company doesn't have sales-specific information, then assume equal shares. This doesn't happen for too many of the companies, thankfully."
   ]
  },
  {
   "cell_type": "code",
   "execution_count": null,
   "metadata": {},
   "outputs": [],
   "source": [
    "customerDB = c_links[['year','customer_gvkey','supplier_gvkey','salecs']].\\\n",
    "    merge(custExp).rename(columns = {'customer_gvkey': 'gvkey'}).drop_duplicates()\n",
    "\n",
    "customerDB['salesWeight'] = customerDB.salecs/customerDB.totalExp\n",
    "\n",
    "customerDB.fillna(1, inplace = True)"
   ]
  },
  {
   "cell_type": "markdown",
   "metadata": {},
   "source": [
    "Now merge this with the supplier weather data, and use the sales weights to find a sales-weighted average of the weather conditions for the suppliers."
   ]
  },
  {
   "cell_type": "code",
   "execution_count": null,
   "metadata": {},
   "outputs": [],
   "source": [
    "relevantVars = [x for x in suppliersWithWeather.columns if (('year' in x) | \n",
    "                                                 ('qtr' in x) |\n",
    "                                                 ('gvkey' in x) |\n",
    "                                                 ('_' in x)) & \n",
    "                                                ~('roa_lagged' in x) & \n",
    "                                                ~('yearQtr' in x)]\n",
    "\n",
    "suppliers_toMerge = suppliersWithWeather[relevantVars]\n",
    "\n",
    "\n",
    "for colname in suppliers_toMerge.columns[3:]:\n",
    "    suppliers_toMerge.rename(columns = {colname: 'supplier_' + colname}, inplace = True)\n",
    "\n",
    "    \n",
    "suppliers_toMerge.rename(columns = {'gvkey': 'supplier_gvkey'},inplace = True)    \n"
   ]
  },
  {
   "cell_type": "code",
   "execution_count": null,
   "metadata": {},
   "outputs": [],
   "source": [
    "suppliers_toMerge.head()"
   ]
  },
  {
   "cell_type": "markdown",
   "metadata": {},
   "source": [
    "For each of the supplier weather columns, multiply the variable by the fraction of sales attributable to that relationship."
   ]
  },
  {
   "cell_type": "code",
   "execution_count": null,
   "metadata": {},
   "outputs": [],
   "source": [
    "supplierWeather = customerDB[['year','gvkey','supplier_gvkey','salesWeight']].merge(suppliers_toMerge)\n",
    "\n",
    "for col in supplierWeather.columns[7:]:\n",
    "        supplierWeather[col]   = supplierWeather.salesWeight*supplierWeather[col]\n",
    "        \n",
    "        \n",
    "\n",
    "supplierWeather.drop(columns = {'supplier_gvkey','salesWeight'}, inplace = True)\n",
    "\n",
    "\n",
    "print(supplierWeather.head())\n",
    "\n",
    "\n",
    "\n",
    "# [['year','qtr','gvkey','supplier_tmax_quant_1.0','supplier_precip_quant_1.0']]"
   ]
  },
  {
   "cell_type": "code",
   "execution_count": null,
   "metadata": {},
   "outputs": [],
   "source": [
    "supplierWtdAvgWeather = supplierWeather.groupby(['year','qtr','gvkey']).sum().reset_index().drop_duplicates()"
   ]
  },
  {
   "cell_type": "code",
   "execution_count": null,
   "metadata": {},
   "outputs": [],
   "source": [
    "supplierWtdAvgWeather.gvkey.unique()"
   ]
  },
  {
   "cell_type": "markdown",
   "metadata": {},
   "source": [
    "Merge the supplier weighted average weather data with the customer data that has weather as well."
   ]
  },
  {
   "cell_type": "code",
   "execution_count": null,
   "metadata": {},
   "outputs": [],
   "source": [
    "customersWithWeather.head()"
   ]
  },
  {
   "cell_type": "code",
   "execution_count": null,
   "metadata": {},
   "outputs": [],
   "source": [
    "wtdAvgSuppliers = customersWithWeather.merge(supplierWtdAvgWeather)\n",
    "\n",
    "wtdAvgSuppliers.head()"
   ]
  },
  {
   "cell_type": "code",
   "execution_count": null,
   "metadata": {},
   "outputs": [],
   "source": [
    "wtdAvgSuppliers.shape"
   ]
  },
  {
   "cell_type": "code",
   "execution_count": null,
   "metadata": {},
   "outputs": [],
   "source": [
    "wtdAvgSuppliers.to_csv(\"../../data/companyData/wtdAvgSuppliers.csv\")"
   ]
  },
  {
   "cell_type": "code",
   "execution_count": null,
   "metadata": {},
   "outputs": [],
   "source": [
    "wtdAvgSuppliers.head()"
   ]
  },
  {
   "cell_type": "code",
   "execution_count": null,
   "metadata": {},
   "outputs": [],
   "source": [
    "wtdAvgSuppliers.columns[wtdAvgSuppliers.columns.str.contains('Tercile')]"
   ]
  },
  {
   "cell_type": "code",
   "execution_count": null,
   "metadata": {},
   "outputs": [],
   "source": []
  }
 ],
 "metadata": {
  "kernelspec": {
   "display_name": "Python 3",
   "language": "python",
   "name": "python3"
  },
  "language_info": {
   "codemirror_mode": {
    "name": "ipython",
    "version": 3
   },
   "file_extension": ".py",
   "mimetype": "text/x-python",
   "name": "python",
   "nbconvert_exporter": "python",
   "pygments_lexer": "ipython3",
   "version": "3.7.4"
  }
 },
 "nbformat": 4,
 "nbformat_minor": 2
}
