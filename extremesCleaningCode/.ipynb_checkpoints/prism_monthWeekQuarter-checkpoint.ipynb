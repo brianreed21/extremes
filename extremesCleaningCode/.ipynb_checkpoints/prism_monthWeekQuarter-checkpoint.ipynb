{
 "cells": [
  {
   "cell_type": "code",
   "execution_count": 1,
   "metadata": {},
   "outputs": [
    {
     "name": "stderr",
     "output_type": "stream",
     "text": [
      "/Users/brianreed/opt/anaconda3/lib/python3.7/site-packages/dask/dataframe/utils.py:14: FutureWarning: pandas.util.testing is deprecated. Use the functions in the public API at pandas.testing instead.\n",
      "  import pandas.util.testing as tm\n"
     ]
    }
   ],
   "source": [
    "import pickle as pkl\n",
    "import pandas as pd\n",
    "import matplotlib\n",
    "import os\n",
    "import re\n",
    "\n",
    "import collections\n",
    "import datetime\n",
    "import time\n",
    "\n",
    "import matplotlib.pyplot as plt\n",
    "import seaborn as sns\n",
    "    \n",
    "import geopandas as gpd\n",
    "\n",
    "import numpy as np\n",
    "\n",
    "import rasterio\n",
    "\n",
    "from difflib import get_close_matches\n",
    "\n",
    "from fuzzywuzzy import process\n",
    "from fuzzywuzzy import fuzz\n",
    "\n",
    "import dask.dataframe as dd\n",
    "\n",
    "import gc\n",
    "import sys\n",
    "\n",
    "from multiprocessing import Pool\n",
    "import multiprocessing\n",
    "\n",
    "from dask.diagnostics import ProgressBar"
   ]
  },
  {
   "cell_type": "markdown",
   "metadata": {},
   "source": [
    "# Get Data\n",
    "Get the temperature data for all zipcodes here."
   ]
  },
  {
   "cell_type": "code",
   "execution_count": 2,
   "metadata": {},
   "outputs": [],
   "source": [
    "def getData(weatherType,yearRange1,yearRange2):\n",
    "\n",
    "    if weatherType == \"Tmax\":\n",
    "        weatherVar = \"temperature\"\n",
    "    else: \n",
    "        weatherVar = \"precipitation\"\n",
    "    \n",
    "    year = yearRange1\n",
    "    filename = \"../../../../../../../Volumes/backup2/dissData/prism/zipcode\" + weatherType + str(year) + \".csv\"\n",
    "    data = dd.read_csv(filename, assume_missing=True)[['ZIP','date',weatherVar]]\n",
    "    data['ZIP'] = data.ZIP.astype('int64')\n",
    "\n",
    "    \n",
    "   \n",
    "    years = range(yearRange1 + 1,yearRange2 + 1)\n",
    "    for year in years:\n",
    "        filename = \"../../../../../../../Volumes/backup2/dissData/prism/zipcode\" + weatherType + str(year) + \".csv\"\n",
    "        tempData = dd.read_csv(filename, assume_missing=True)[['ZIP','date',weatherVar]]\n",
    "        tempData['ZIP'] = tempData.ZIP.astype('int64')\n",
    "\n",
    "        # tempData = tempData[tempData.ZIP.isin(relevantZips)]\n",
    "        # tempData = tempData[~(tempData[weatherVar].isna().compute())]\n",
    "        data = data.append(tempData)\n",
    "\n",
    "    data = data[~(data[weatherVar].isna())] # .compute()\n",
    "    \n",
    "    return(data)"
   ]
  },
  {
   "cell_type": "code",
   "execution_count": 39,
   "metadata": {},
   "outputs": [],
   "source": [
    "def getPivotQuants(weatherType, identifiers,weatherData):\n",
    "    start2 = time.time()\n",
    "    quants_overallByZip   = weatherData.groupby(identifiers)[weatherType].quantile(q = quantiles).reset_index().\\\n",
    "        rename(columns=lambda x: re.sub('level_[0-9]$','quartile',x))\n",
    "    # rename(columns = {'level_1': 'quartile'})\n",
    "    \n",
    "    print(\"got grouped\")\n",
    "    print(time.time() - start2)\n",
    "    quants_overallByZip['quartile'] = 'q_' + quants_overallByZip['quartile'].astype(str).str.slice(0,6)\n",
    "\n",
    "    ## \n",
    "\n",
    "    pivot_quants_overallByZip = quants_overallByZip.pivot(index=identifiers, \n",
    "            columns='quartile', values=str(weatherType)).reset_index().\\\n",
    "            rename_axis(None, axis=1)\n",
    "    \n",
    "    pivot_quants_overallByZip['q_0.0'] = -50\n",
    "    pivot_quants_overallByZip['q_1.0'] = 1000\n",
    "    # print(pivot_quants_overallByZip.head())\n",
    "\n",
    "    \n",
    "    # get the quartile list\n",
    "    quartileList = pivot_quants_overallByZip.iloc[:,len(identifiers):].values.tolist()\n",
    "    '''quartileList[0]  = -50\n",
    "    quartileList[-1] = 1000'''\n",
    "    \n",
    "    pivot_quants_overallByZip['quartileList']      = quartileList\n",
    "    pivot_quants_overallByZip['quartileLabelList'] = [list(pivot_quants_overallByZip.columns[2:-1])] * \\\n",
    "                                                                    pivot_quants_overallByZip.shape[0]\n",
    "\n",
    "    pivot_quants_overallByZip = pivot_quants_overallByZip[pivot_quants_overallByZip.\\\n",
    "                                                            columns.drop(list(pivot_quants_overallByZip.filter(regex='q_')))]\n",
    "    print(time.time() - start2)\n",
    "    # pivot_quants_overallByZip.head()\n",
    "\n",
    "    return(pivot_quants_overallByZip)"
   ]
  },
  {
   "cell_type": "code",
   "execution_count": 40,
   "metadata": {},
   "outputs": [],
   "source": [
    "quantiles = [0.0, 0.50, 0.95, 1.0]\n",
    "\n",
    "quant_labels = ['quant_tossThisOne', 'quant_50_95', 'quant_95_100']\n"
   ]
  },
  {
   "cell_type": "markdown",
   "metadata": {},
   "source": [
    "## Run for temp and precip"
   ]
  },
  {
   "cell_type": "code",
   "execution_count": 7,
   "metadata": {},
   "outputs": [
    {
     "name": "stdout",
     "output_type": "stream",
     "text": [
      "got temp\n",
      "got precip\n"
     ]
    }
   ],
   "source": [
    "weatherType = \"Tmax\"\n",
    "weatherData = getData(weatherType, 1981, 1999)\n",
    "\n",
    "print(\"got temp\")\n",
    "\n",
    "\n",
    "weatherType = \"Precip\" # Tmax\n",
    "precipData = getData(weatherType, 1981, 1999)\n",
    "\n",
    "print(\"got precip\")"
   ]
  },
  {
   "cell_type": "code",
   "execution_count": 42,
   "metadata": {},
   "outputs": [],
   "source": [
    "weatherData   = dd.read_csv(\"../../data/companyData/allZipsTemp_8199.csv\").drop(columns = {'Unnamed: 0'})\n",
    "precipData = dd.read_csv(\"../../data/companyData/allZipsPrecip_8199.csv\").drop(columns = {'Unnamed: 0'})\n",
    "\n",
    "with ProgressBar():\n",
    "    precipData    = precipData.repartition(npartitions=225)\n",
    "    weatherData   = weatherData.repartition(npartitions=225)"
   ]
  },
  {
   "cell_type": "code",
   "execution_count": 43,
   "metadata": {},
   "outputs": [
    {
     "name": "stdout",
     "output_type": "stream",
     "text": [
      "ZIP                int64\n",
      "date             float64\n",
      "temperature      float64\n",
      "quarter            int64\n",
      "precipitation    float64\n",
      "dtype: object 10.876799264\n",
      "ZIP                int32\n",
      "date               int32\n",
      "temperature      float32\n",
      "quarter            int64\n",
      "precipitation    float32\n",
      "dtype: object\n"
     ]
    },
    {
     "data": {
      "text/plain": [
       "7.25119952"
      ]
     },
     "execution_count": 43,
     "metadata": {},
     "output_type": "execute_result"
    }
   ],
   "source": [
    "weatherData = weatherData.merge(precipData).compute(workers = 100)\n",
    "\n",
    "print(weatherData.dtypes,sys.getsizeof(weatherData)/1e9)\n",
    "\n",
    "weatherData.ZIP           = weatherData.ZIP.astype('int32')\n",
    "weatherData.date          = weatherData.date.astype('int32')\n",
    "weatherData.temperature   = weatherData.temperature.astype('float32')\n",
    "weatherData.precipitation = weatherData.precipitation.astype('float32')\n",
    "\n",
    "\n",
    "print(weatherData.dtypes)\n",
    "\n",
    "sys.getsizeof(weatherData)/1e9"
   ]
  },
  {
   "cell_type": "markdown",
   "metadata": {},
   "source": [
    "Get the week, month, quarter, and year for everything. The week is a little bit unusual, as it can depend on when Monday falls. But we want something a little bit different. It's referenced here: https://stackoverflow.com/questions/55889766/pandas-datetime-week-not-as-expected"
   ]
  },
  {
   "cell_type": "code",
   "execution_count": 44,
   "metadata": {},
   "outputs": [],
   "source": [
    "weatherData['date'] = pd.to_datetime(weatherData['date'], format='%Y%m%d')\n",
    "weatherData['dayOfYear'] = weatherData.date.dt.dayofyear\n",
    "weatherData['week'] = weatherData.dayOfYear//7"
   ]
  },
  {
   "cell_type": "code",
   "execution_count": 45,
   "metadata": {},
   "outputs": [
    {
     "data": {
      "text/plain": [
       "0"
      ]
     },
     "execution_count": 45,
     "metadata": {},
     "output_type": "execute_result"
    }
   ],
   "source": [
    "weatherData.week.min()"
   ]
  },
  {
   "cell_type": "code",
   "execution_count": 46,
   "metadata": {},
   "outputs": [],
   "source": [
    "weatherData['quarter']  = weatherData['date'].dt.quarter\n",
    "weatherData['year']     = weatherData['date'].dt.year"
   ]
  },
  {
   "cell_type": "code",
   "execution_count": 47,
   "metadata": {},
   "outputs": [
    {
     "data": {
      "text/plain": [
       "1999"
      ]
     },
     "execution_count": 47,
     "metadata": {},
     "output_type": "execute_result"
    }
   ],
   "source": [
    "weatherData.year.max()"
   ]
  },
  {
   "cell_type": "code",
   "execution_count": 48,
   "metadata": {},
   "outputs": [
    {
     "data": {
      "text/plain": [
       "0         1998\n",
       "27513     1999\n",
       "80494     1981\n",
       "127158    1982\n",
       "180528    1983\n",
       "238974    1984\n",
       "292187    1985\n",
       "344748    1986\n",
       "397599    1987\n",
       "450666    1988\n",
       "503649    1989\n",
       "556446    1990\n",
       "609432    1991\n",
       "662785    1992\n",
       "716302    1993\n",
       "769494    1994\n",
       "815599    1995\n",
       "866738    1996\n",
       "928515    1997\n",
       "Name: year, dtype: int64"
      ]
     },
     "execution_count": 48,
     "metadata": {},
     "output_type": "execute_result"
    }
   ],
   "source": [
    "weatherData.year.drop_duplicates()"
   ]
  },
  {
   "cell_type": "code",
   "execution_count": 49,
   "metadata": {},
   "outputs": [
    {
     "data": {
      "text/html": [
       "<div>\n",
       "<style scoped>\n",
       "    .dataframe tbody tr th:only-of-type {\n",
       "        vertical-align: middle;\n",
       "    }\n",
       "\n",
       "    .dataframe tbody tr th {\n",
       "        vertical-align: top;\n",
       "    }\n",
       "\n",
       "    .dataframe thead th {\n",
       "        text-align: right;\n",
       "    }\n",
       "</style>\n",
       "<table border=\"1\" class=\"dataframe\">\n",
       "  <thead>\n",
       "    <tr style=\"text-align: right;\">\n",
       "      <th></th>\n",
       "      <th>ZIP</th>\n",
       "      <th>date</th>\n",
       "      <th>temperature</th>\n",
       "      <th>quarter</th>\n",
       "      <th>precipitation</th>\n",
       "      <th>dayOfYear</th>\n",
       "      <th>week</th>\n",
       "      <th>year</th>\n",
       "    </tr>\n",
       "  </thead>\n",
       "  <tbody>\n",
       "    <tr>\n",
       "      <th>0</th>\n",
       "      <td>70463</td>\n",
       "      <td>1998-05-08</td>\n",
       "      <td>31.167000</td>\n",
       "      <td>2</td>\n",
       "      <td>0.000</td>\n",
       "      <td>128</td>\n",
       "      <td>18</td>\n",
       "      <td>1998</td>\n",
       "    </tr>\n",
       "    <tr>\n",
       "      <th>1</th>\n",
       "      <td>70715</td>\n",
       "      <td>1998-05-08</td>\n",
       "      <td>30.639999</td>\n",
       "      <td>2</td>\n",
       "      <td>0.000</td>\n",
       "      <td>128</td>\n",
       "      <td>18</td>\n",
       "      <td>1998</td>\n",
       "    </tr>\n",
       "    <tr>\n",
       "      <th>2</th>\n",
       "      <td>71118</td>\n",
       "      <td>1998-05-08</td>\n",
       "      <td>30.910999</td>\n",
       "      <td>2</td>\n",
       "      <td>0.000</td>\n",
       "      <td>128</td>\n",
       "      <td>18</td>\n",
       "      <td>1998</td>\n",
       "    </tr>\n",
       "    <tr>\n",
       "      <th>3</th>\n",
       "      <td>71652</td>\n",
       "      <td>1998-05-08</td>\n",
       "      <td>28.966999</td>\n",
       "      <td>2</td>\n",
       "      <td>1.718</td>\n",
       "      <td>128</td>\n",
       "      <td>18</td>\n",
       "      <td>1998</td>\n",
       "    </tr>\n",
       "    <tr>\n",
       "      <th>4</th>\n",
       "      <td>72641</td>\n",
       "      <td>1998-05-08</td>\n",
       "      <td>25.083000</td>\n",
       "      <td>2</td>\n",
       "      <td>0.000</td>\n",
       "      <td>128</td>\n",
       "      <td>18</td>\n",
       "      <td>1998</td>\n",
       "    </tr>\n",
       "  </tbody>\n",
       "</table>\n",
       "</div>"
      ],
      "text/plain": [
       "     ZIP       date  temperature  quarter  precipitation  dayOfYear  week  \\\n",
       "0  70463 1998-05-08    31.167000        2          0.000        128    18   \n",
       "1  70715 1998-05-08    30.639999        2          0.000        128    18   \n",
       "2  71118 1998-05-08    30.910999        2          0.000        128    18   \n",
       "3  71652 1998-05-08    28.966999        2          1.718        128    18   \n",
       "4  72641 1998-05-08    25.083000        2          0.000        128    18   \n",
       "\n",
       "   year  \n",
       "0  1998  \n",
       "1  1998  \n",
       "2  1998  \n",
       "3  1998  \n",
       "4  1998  "
      ]
     },
     "execution_count": 49,
     "metadata": {},
     "output_type": "execute_result"
    }
   ],
   "source": [
    "weatherData.head()"
   ]
  },
  {
   "cell_type": "code",
   "execution_count": 88,
   "metadata": {},
   "outputs": [],
   "source": [
    "weekly    = weatherData.drop(columns = {'date'}).groupby(['ZIP','week','quarter','year']).mean().reset_index()\n",
    "quarterly = weatherData.drop(columns = {'date','week'}).groupby(['ZIP','quarter','year']).mean().reset_index()\n",
    "\n",
    "# mmonthly   = weatherData.drop(columns = {'date','week'}).groupby(['ZIP','month','quarter','year']).mean().reset_index()"
   ]
  },
  {
   "cell_type": "code",
   "execution_count": 52,
   "metadata": {},
   "outputs": [
    {
     "data": {
      "text/html": [
       "<div>\n",
       "<style scoped>\n",
       "    .dataframe tbody tr th:only-of-type {\n",
       "        vertical-align: middle;\n",
       "    }\n",
       "\n",
       "    .dataframe tbody tr th {\n",
       "        vertical-align: top;\n",
       "    }\n",
       "\n",
       "    .dataframe thead th {\n",
       "        text-align: right;\n",
       "    }\n",
       "</style>\n",
       "<table border=\"1\" class=\"dataframe\">\n",
       "  <thead>\n",
       "    <tr style=\"text-align: right;\">\n",
       "      <th></th>\n",
       "      <th>ZIP</th>\n",
       "      <th>week</th>\n",
       "      <th>quarter</th>\n",
       "      <th>year</th>\n",
       "      <th>temperature</th>\n",
       "      <th>precipitation</th>\n",
       "      <th>dayOfYear</th>\n",
       "    </tr>\n",
       "  </thead>\n",
       "  <tbody>\n",
       "    <tr>\n",
       "      <th>0</th>\n",
       "      <td>1001</td>\n",
       "      <td>0</td>\n",
       "      <td>1</td>\n",
       "      <td>1981</td>\n",
       "      <td>-7.465167</td>\n",
       "      <td>0.268833</td>\n",
       "      <td>3.5</td>\n",
       "    </tr>\n",
       "    <tr>\n",
       "      <th>1</th>\n",
       "      <td>1001</td>\n",
       "      <td>0</td>\n",
       "      <td>1</td>\n",
       "      <td>1982</td>\n",
       "      <td>3.875000</td>\n",
       "      <td>13.926667</td>\n",
       "      <td>3.5</td>\n",
       "    </tr>\n",
       "    <tr>\n",
       "      <th>2</th>\n",
       "      <td>1001</td>\n",
       "      <td>0</td>\n",
       "      <td>1</td>\n",
       "      <td>1983</td>\n",
       "      <td>2.708000</td>\n",
       "      <td>2.790833</td>\n",
       "      <td>3.5</td>\n",
       "    </tr>\n",
       "    <tr>\n",
       "      <th>3</th>\n",
       "      <td>1001</td>\n",
       "      <td>0</td>\n",
       "      <td>1</td>\n",
       "      <td>1984</td>\n",
       "      <td>1.857833</td>\n",
       "      <td>0.076333</td>\n",
       "      <td>3.5</td>\n",
       "    </tr>\n",
       "    <tr>\n",
       "      <th>4</th>\n",
       "      <td>1001</td>\n",
       "      <td>0</td>\n",
       "      <td>1</td>\n",
       "      <td>1985</td>\n",
       "      <td>2.270667</td>\n",
       "      <td>1.525667</td>\n",
       "      <td>3.5</td>\n",
       "    </tr>\n",
       "  </tbody>\n",
       "</table>\n",
       "</div>"
      ],
      "text/plain": [
       "    ZIP  week  quarter  year  temperature  precipitation  dayOfYear\n",
       "0  1001     0        1  1981    -7.465167       0.268833        3.5\n",
       "1  1001     0        1  1982     3.875000      13.926667        3.5\n",
       "2  1001     0        1  1983     2.708000       2.790833        3.5\n",
       "3  1001     0        1  1984     1.857833       0.076333        3.5\n",
       "4  1001     0        1  1985     2.270667       1.525667        3.5"
      ]
     },
     "execution_count": 52,
     "metadata": {},
     "output_type": "execute_result"
    }
   ],
   "source": [
    "weekly.head()"
   ]
  },
  {
   "cell_type": "code",
   "execution_count": 89,
   "metadata": {},
   "outputs": [
    {
     "name": "stdout",
     "output_type": "stream",
     "text": [
      "24.835949182510376\n",
      "47.79756498336792\n"
     ]
    }
   ],
   "source": [
    "start = time.time()\n",
    "\n",
    "mediansWeekly    = weekly[['week','ZIP','temperature','precipitation']].groupby(['week','ZIP']).quantile(.5).reset_index()\n",
    "mediansWeekly.rename(columns = {'temperature': 'tempWeek_50',\n",
    "                               'precipitation': 'precWeek_50'}, inplace = True)\n",
    "print(time.time() - start)\n",
    "\n",
    "ninetyFiveWeekly = weekly[['week','ZIP','temperature','precipitation']].groupby(['week','ZIP']).quantile(.95).reset_index()\n",
    "ninetyFiveWeekly.rename(columns = {'temperature': 'tempWeek_95',\n",
    "                               'precipitation': 'precipWeek_95'}, inplace = True)\n",
    "print(time.time() - start)\n",
    "\n",
    "weeklyQuartiles = mediansWeekly.merge(ninetyFiveWeekly)\n",
    "\n"
   ]
  },
  {
   "cell_type": "code",
   "execution_count": 90,
   "metadata": {},
   "outputs": [
    {
     "name": "stdout",
     "output_type": "stream",
     "text": [
      "1.1977589130401611\n",
      "2.3113389015197754\n"
     ]
    }
   ],
   "source": [
    "start = time.time()\n",
    "\n",
    "mediansQuarterly    = quarterly[['quarter','ZIP','temperature','precipitation']].groupby(['quarter','ZIP']).quantile(.5).reset_index()\n",
    "mediansQuarterly.rename(columns = {'temperature': 'tempQuarter_50',\n",
    "                               'precipitation': 'precQuarter_50'}, inplace = True)\n",
    "print(time.time() - start)\n",
    "\n",
    "ninetyFiveQuarterly = quarterly[['quarter','ZIP','temperature','precipitation']].groupby(['quarter','ZIP']).quantile(.95).reset_index()\n",
    "ninetyFiveQuarterly.rename(columns = {'temperature': 'tempQuarter_95',\n",
    "                               'precipitation': 'precQuarter_95'}, inplace = True)\n",
    "print(time.time() - start)\n",
    "\n",
    "\n",
    "quarterlyQuartiles = mediansQuarterly.merge(ninetyFiveQuarterly)\n",
    "\n"
   ]
  },
  {
   "cell_type": "code",
   "execution_count": 92,
   "metadata": {},
   "outputs": [],
   "source": [
    "outfile =  '../../data/companyData/weeklyQuartiles_8199.pkl'\n",
    "with open(outfile, 'wb') as pickle_file:\n",
    "    pkl.dump(weeklyQuartiles, pickle_file)"
   ]
  },
  {
   "cell_type": "code",
   "execution_count": 93,
   "metadata": {},
   "outputs": [
    {
     "data": {
      "text/plain": [
       "\"outfile =  '../../data/companyData/monthlyQuartiles_8199.pkl'\\nwith open(outfile, 'wb') as pickle_file:\\n    pkl.dump(monthlyQuartiles, pickle_file)\""
      ]
     },
     "execution_count": 93,
     "metadata": {},
     "output_type": "execute_result"
    }
   ],
   "source": [
    "'''outfile =  '../../data/companyData/monthlyQuartiles_8199.pkl'\n",
    "with open(outfile, 'wb') as pickle_file:\n",
    "    pkl.dump(monthlyQuartiles, pickle_file)'''"
   ]
  },
  {
   "cell_type": "code",
   "execution_count": 94,
   "metadata": {},
   "outputs": [],
   "source": [
    "outfile =  '../../data/companyData/quarterlyQuartiles_8199.pkl'\n",
    "with open(outfile, 'wb') as pickle_file:\n",
    "    pkl.dump(quarterlyQuartiles, pickle_file)"
   ]
  },
  {
   "cell_type": "code",
   "execution_count": 97,
   "metadata": {},
   "outputs": [
    {
     "data": {
      "text/plain": [
       "445"
      ]
     },
     "execution_count": 97,
     "metadata": {},
     "output_type": "execute_result"
    }
   ],
   "source": [
    "# del temp\n",
    "del weekly\n",
    "# del monthly\n",
    "del quarterly\n",
    "gc.collect()"
   ]
  },
  {
   "cell_type": "code",
   "execution_count": 98,
   "metadata": {},
   "outputs": [
    {
     "data": {
      "text/plain": [
       "20"
      ]
     },
     "execution_count": 98,
     "metadata": {},
     "output_type": "execute_result"
    }
   ],
   "source": [
    "del weatherData\n",
    "gc.collect()"
   ]
  },
  {
   "cell_type": "markdown",
   "metadata": {},
   "source": [
    "# Find Quartiles by Zip"
   ]
  },
  {
   "cell_type": "code",
   "execution_count": 2,
   "metadata": {},
   "outputs": [
    {
     "name": "stdout",
     "output_type": "stream",
     "text": [
      "ZIP                int64\n",
      "date             float64\n",
      "temperature      float64\n",
      "quarter            int64\n",
      "precipitation    float64\n",
      "dtype: object 11.450499872\n",
      "ZIP                int32\n",
      "date             float64\n",
      "temperature      float32\n",
      "quarter            int64\n",
      "precipitation    float32\n",
      "dtype: object\n"
     ]
    },
    {
     "data": {
      "text/plain": [
       "8.587874912"
      ]
     },
     "execution_count": 2,
     "metadata": {},
     "output_type": "execute_result"
    }
   ],
   "source": [
    "recentDecadeWeather   = dd.read_csv(\"../../data/companyData/allZipsTemp_0019.csv\").drop(columns = {'Unnamed: 0'}).reset_index(drop = True)\n",
    "precipData = dd.read_csv(\"../../data/companyData/allZipsPrecip_0019.csv\").drop(columns = {'Unnamed: 0'}).reset_index(drop = True)\n",
    "with ProgressBar():\n",
    "    precipData    = precipData.repartition(npartitions=225)\n",
    "    recentDecadeWeather   = recentDecadeWeather.repartition(npartitions=225)\n",
    "\n",
    "\n",
    "# tempData['precipitation'] = precipData.precipitation\n",
    "recentDecadeWeather = recentDecadeWeather.merge(precipData).compute(workers = 100) # assign(precipitation=precipData.precipitation)\n",
    "# recentDecadeWeather.head()\n",
    "\n",
    "print(recentDecadeWeather.dtypes,sys.getsizeof(recentDecadeWeather)/1e9)\n",
    "\n",
    "recentDecadeWeather.ZIP           = recentDecadeWeather.ZIP.astype('int32')\n",
    "recentDecadeWeather.temperature   = recentDecadeWeather.temperature.astype('float32')\n",
    "recentDecadeWeather.precipitation = recentDecadeWeather.precipitation.astype('float32')\n",
    "\n",
    "\n",
    "print(recentDecadeWeather.dtypes)\n",
    "\n",
    "sys.getsizeof(recentDecadeWeather)/1e9"
   ]
  },
  {
   "cell_type": "code",
   "execution_count": 3,
   "metadata": {},
   "outputs": [],
   "source": [
    "recentDecadeWeather['date'] = pd.to_datetime(recentDecadeWeather['date'], format='%Y%m%d')\n",
    "recentDecadeWeather['dayOfYear'] = recentDecadeWeather.date.dt.dayofyear\n",
    "recentDecadeWeather['week'] = recentDecadeWeather.dayOfYear//7\n",
    "\n",
    "recentDecadeWeather['year']       = pd.to_datetime(recentDecadeWeather['date'], format='%Y%m%d').dt.year\n",
    "recentDecadeWeather['quarter']    = pd.to_datetime(recentDecadeWeather['date'], format='%Y%m%d').dt.quarter\n",
    "# recentDecadeWeather['month']      = dd.to_datetime(recentDecadeWeather['date'], format='%Y%m%d').dt.month"
   ]
  },
  {
   "cell_type": "code",
   "execution_count": 5,
   "metadata": {},
   "outputs": [],
   "source": [
    "file = open('../../data/companyData/weeklyQuartiles_8199.pkl','rb')\n",
    "weeklyQuartiles = pkl.load(file)\n",
    "\n",
    "'''file = open('../../data/companyData/monthlyQuartiles_8199.pkl','rb')\n",
    "monthlyQuartiles = pkl.load(file)'''\n",
    "\n",
    "file = open('../../data/companyData/quarterlyQuartiles_8199.pkl','rb')\n",
    "quarterlyQuartiles = pkl.load(file)"
   ]
  },
  {
   "cell_type": "code",
   "execution_count": 6,
   "metadata": {},
   "outputs": [
    {
     "data": {
      "text/html": [
       "<div>\n",
       "<style scoped>\n",
       "    .dataframe tbody tr th:only-of-type {\n",
       "        vertical-align: middle;\n",
       "    }\n",
       "\n",
       "    .dataframe tbody tr th {\n",
       "        vertical-align: top;\n",
       "    }\n",
       "\n",
       "    .dataframe thead th {\n",
       "        text-align: right;\n",
       "    }\n",
       "</style>\n",
       "<table border=\"1\" class=\"dataframe\">\n",
       "  <thead>\n",
       "    <tr style=\"text-align: right;\">\n",
       "      <th></th>\n",
       "      <th>ZIP</th>\n",
       "      <th>date</th>\n",
       "      <th>temperature</th>\n",
       "      <th>quarter</th>\n",
       "      <th>precipitation</th>\n",
       "      <th>dayOfYear</th>\n",
       "      <th>week</th>\n",
       "      <th>year</th>\n",
       "    </tr>\n",
       "  </thead>\n",
       "  <tbody>\n",
       "    <tr>\n",
       "      <th>0</th>\n",
       "      <td>52626</td>\n",
       "      <td>2019-08-12</td>\n",
       "      <td>29.313000</td>\n",
       "      <td>3</td>\n",
       "      <td>0.362</td>\n",
       "      <td>224</td>\n",
       "      <td>32</td>\n",
       "      <td>2019</td>\n",
       "    </tr>\n",
       "    <tr>\n",
       "      <th>1</th>\n",
       "      <td>53048</td>\n",
       "      <td>2019-08-12</td>\n",
       "      <td>24.110001</td>\n",
       "      <td>3</td>\n",
       "      <td>0.000</td>\n",
       "      <td>224</td>\n",
       "      <td>32</td>\n",
       "      <td>2019</td>\n",
       "    </tr>\n",
       "    <tr>\n",
       "      <th>2</th>\n",
       "      <td>53105</td>\n",
       "      <td>2019-08-12</td>\n",
       "      <td>24.587000</td>\n",
       "      <td>3</td>\n",
       "      <td>0.000</td>\n",
       "      <td>224</td>\n",
       "      <td>32</td>\n",
       "      <td>2019</td>\n",
       "    </tr>\n",
       "    <tr>\n",
       "      <th>3</th>\n",
       "      <td>54443</td>\n",
       "      <td>2019-08-12</td>\n",
       "      <td>23.110001</td>\n",
       "      <td>3</td>\n",
       "      <td>2.620</td>\n",
       "      <td>224</td>\n",
       "      <td>32</td>\n",
       "      <td>2019</td>\n",
       "    </tr>\n",
       "    <tr>\n",
       "      <th>4</th>\n",
       "      <td>55014</td>\n",
       "      <td>2019-08-12</td>\n",
       "      <td>26.896999</td>\n",
       "      <td>3</td>\n",
       "      <td>0.000</td>\n",
       "      <td>224</td>\n",
       "      <td>32</td>\n",
       "      <td>2019</td>\n",
       "    </tr>\n",
       "  </tbody>\n",
       "</table>\n",
       "</div>"
      ],
      "text/plain": [
       "     ZIP       date  temperature  quarter  precipitation  dayOfYear  week  \\\n",
       "0  52626 2019-08-12    29.313000        3          0.362        224    32   \n",
       "1  53048 2019-08-12    24.110001        3          0.000        224    32   \n",
       "2  53105 2019-08-12    24.587000        3          0.000        224    32   \n",
       "3  54443 2019-08-12    23.110001        3          2.620        224    32   \n",
       "4  55014 2019-08-12    26.896999        3          0.000        224    32   \n",
       "\n",
       "   year  \n",
       "0  2019  \n",
       "1  2019  \n",
       "2  2019  \n",
       "3  2019  \n",
       "4  2019  "
      ]
     },
     "execution_count": 6,
     "metadata": {},
     "output_type": "execute_result"
    }
   ],
   "source": [
    "recentDecadeWeather.head()"
   ]
  },
  {
   "cell_type": "code",
   "execution_count": 7,
   "metadata": {},
   "outputs": [
    {
     "data": {
      "text/html": [
       "<div>\n",
       "<style scoped>\n",
       "    .dataframe tbody tr th:only-of-type {\n",
       "        vertical-align: middle;\n",
       "    }\n",
       "\n",
       "    .dataframe tbody tr th {\n",
       "        vertical-align: top;\n",
       "    }\n",
       "\n",
       "    .dataframe thead th {\n",
       "        text-align: right;\n",
       "    }\n",
       "</style>\n",
       "<table border=\"1\" class=\"dataframe\">\n",
       "  <thead>\n",
       "    <tr style=\"text-align: right;\">\n",
       "      <th></th>\n",
       "      <th>quarter</th>\n",
       "      <th>ZIP</th>\n",
       "      <th>tempQuarter_50</th>\n",
       "      <th>precQuarter_50</th>\n",
       "      <th>tempQuarter_95</th>\n",
       "      <th>precQuarter_95</th>\n",
       "    </tr>\n",
       "  </thead>\n",
       "  <tbody>\n",
       "    <tr>\n",
       "      <th>0</th>\n",
       "      <td>1</td>\n",
       "      <td>1001</td>\n",
       "      <td>4.321811</td>\n",
       "      <td>2.985178</td>\n",
       "      <td>6.527353</td>\n",
       "      <td>4.057065</td>\n",
       "    </tr>\n",
       "    <tr>\n",
       "      <th>1</th>\n",
       "      <td>1</td>\n",
       "      <td>1002</td>\n",
       "      <td>3.033165</td>\n",
       "      <td>2.932644</td>\n",
       "      <td>5.151669</td>\n",
       "      <td>3.850850</td>\n",
       "    </tr>\n",
       "    <tr>\n",
       "      <th>2</th>\n",
       "      <td>1</td>\n",
       "      <td>1003</td>\n",
       "      <td>3.912275</td>\n",
       "      <td>2.753545</td>\n",
       "      <td>6.091045</td>\n",
       "      <td>3.701070</td>\n",
       "    </tr>\n",
       "    <tr>\n",
       "      <th>3</th>\n",
       "      <td>1</td>\n",
       "      <td>1005</td>\n",
       "      <td>2.158374</td>\n",
       "      <td>2.896078</td>\n",
       "      <td>3.962982</td>\n",
       "      <td>3.912775</td>\n",
       "    </tr>\n",
       "    <tr>\n",
       "      <th>4</th>\n",
       "      <td>1</td>\n",
       "      <td>1007</td>\n",
       "      <td>3.426022</td>\n",
       "      <td>2.827722</td>\n",
       "      <td>5.537153</td>\n",
       "      <td>3.871607</td>\n",
       "    </tr>\n",
       "  </tbody>\n",
       "</table>\n",
       "</div>"
      ],
      "text/plain": [
       "   quarter   ZIP  tempQuarter_50  precQuarter_50  tempQuarter_95  \\\n",
       "0        1  1001        4.321811        2.985178        6.527353   \n",
       "1        1  1002        3.033165        2.932644        5.151669   \n",
       "2        1  1003        3.912275        2.753545        6.091045   \n",
       "3        1  1005        2.158374        2.896078        3.962982   \n",
       "4        1  1007        3.426022        2.827722        5.537153   \n",
       "\n",
       "   precQuarter_95  \n",
       "0        4.057065  \n",
       "1        3.850850  \n",
       "2        3.701070  \n",
       "3        3.912775  \n",
       "4        3.871607  "
      ]
     },
     "execution_count": 7,
     "metadata": {},
     "output_type": "execute_result"
    }
   ],
   "source": [
    "quarterlyQuartiles.head()"
   ]
  },
  {
   "cell_type": "code",
   "execution_count": 8,
   "metadata": {},
   "outputs": [
    {
     "data": {
      "text/html": [
       "<div>\n",
       "<style scoped>\n",
       "    .dataframe tbody tr th:only-of-type {\n",
       "        vertical-align: middle;\n",
       "    }\n",
       "\n",
       "    .dataframe tbody tr th {\n",
       "        vertical-align: top;\n",
       "    }\n",
       "\n",
       "    .dataframe thead th {\n",
       "        text-align: right;\n",
       "    }\n",
       "</style>\n",
       "<table border=\"1\" class=\"dataframe\">\n",
       "  <thead>\n",
       "    <tr style=\"text-align: right;\">\n",
       "      <th></th>\n",
       "      <th>week</th>\n",
       "      <th>ZIP</th>\n",
       "      <th>tempWeek_50</th>\n",
       "      <th>precWeek_50</th>\n",
       "      <th>tempWeek_95</th>\n",
       "      <th>precipWeek_95</th>\n",
       "    </tr>\n",
       "  </thead>\n",
       "  <tbody>\n",
       "    <tr>\n",
       "      <th>0</th>\n",
       "      <td>0</td>\n",
       "      <td>1001</td>\n",
       "      <td>2.270667</td>\n",
       "      <td>2.034667</td>\n",
       "      <td>6.712183</td>\n",
       "      <td>7.039566</td>\n",
       "    </tr>\n",
       "    <tr>\n",
       "      <th>1</th>\n",
       "      <td>0</td>\n",
       "      <td>1002</td>\n",
       "      <td>0.961500</td>\n",
       "      <td>2.044333</td>\n",
       "      <td>5.698384</td>\n",
       "      <td>5.735150</td>\n",
       "    </tr>\n",
       "    <tr>\n",
       "      <th>2</th>\n",
       "      <td>0</td>\n",
       "      <td>1003</td>\n",
       "      <td>1.839333</td>\n",
       "      <td>1.705667</td>\n",
       "      <td>6.414233</td>\n",
       "      <td>5.837050</td>\n",
       "    </tr>\n",
       "    <tr>\n",
       "      <th>3</th>\n",
       "      <td>0</td>\n",
       "      <td>1005</td>\n",
       "      <td>0.582667</td>\n",
       "      <td>2.541833</td>\n",
       "      <td>5.064484</td>\n",
       "      <td>7.345600</td>\n",
       "    </tr>\n",
       "    <tr>\n",
       "      <th>4</th>\n",
       "      <td>0</td>\n",
       "      <td>1007</td>\n",
       "      <td>1.576333</td>\n",
       "      <td>2.354167</td>\n",
       "      <td>6.041900</td>\n",
       "      <td>5.984550</td>\n",
       "    </tr>\n",
       "  </tbody>\n",
       "</table>\n",
       "</div>"
      ],
      "text/plain": [
       "   week   ZIP  tempWeek_50  precWeek_50  tempWeek_95  precipWeek_95\n",
       "0     0  1001     2.270667     2.034667     6.712183       7.039566\n",
       "1     0  1002     0.961500     2.044333     5.698384       5.735150\n",
       "2     0  1003     1.839333     1.705667     6.414233       5.837050\n",
       "3     0  1005     0.582667     2.541833     5.064484       7.345600\n",
       "4     0  1007     1.576333     2.354167     6.041900       5.984550"
      ]
     },
     "execution_count": 8,
     "metadata": {},
     "output_type": "execute_result"
    }
   ],
   "source": [
    "weeklyQuartiles.head()"
   ]
  },
  {
   "cell_type": "code",
   "execution_count": 9,
   "metadata": {},
   "outputs": [],
   "source": [
    "weeklyLastDec    = recentDecadeWeather.drop(columns = {'date'}).groupby(['ZIP','week','quarter','year']).mean().reset_index()\n",
    "quarterlyLastDec = recentDecadeWeather.drop(columns = {'date','week'}).groupby(['ZIP','quarter','year']).mean().reset_index()"
   ]
  },
  {
   "cell_type": "code",
   "execution_count": 10,
   "metadata": {},
   "outputs": [
    {
     "data": {
      "text/plain": [
       "67"
      ]
     },
     "execution_count": 10,
     "metadata": {},
     "output_type": "execute_result"
    }
   ],
   "source": [
    "del recentDecadeWeather\n",
    "gc.collect()"
   ]
  },
  {
   "cell_type": "code",
   "execution_count": 7,
   "metadata": {},
   "outputs": [
    {
     "data": {
      "text/plain": [
       "32656"
      ]
     },
     "execution_count": 7,
     "metadata": {},
     "output_type": "execute_result"
    }
   ],
   "source": [
    "ZIPs = weeklyQuartiles.ZIP.unique()\n",
    "len(ZIPs)"
   ]
  },
  {
   "cell_type": "code",
   "execution_count": 12,
   "metadata": {},
   "outputs": [
    {
     "name": "stdout",
     "output_type": "stream",
     "text": [
      "(35595040, 7)\n"
     ]
    },
    {
     "data": {
      "text/plain": [
       "(35595040, 11)"
      ]
     },
     "execution_count": 12,
     "metadata": {},
     "output_type": "execute_result"
    }
   ],
   "source": [
    "print(weeklyLastDec.shape)\n",
    "weeklyLastDec = weeklyLastDec.merge(weeklyQuartiles)\n",
    "weeklyLastDec.shape"
   ]
  },
  {
   "cell_type": "code",
   "execution_count": 13,
   "metadata": {},
   "outputs": [
    {
     "name": "stdout",
     "output_type": "stream",
     "text": [
      "(2612480, 6)\n"
     ]
    },
    {
     "data": {
      "text/plain": [
       "(2612480, 10)"
      ]
     },
     "execution_count": 13,
     "metadata": {},
     "output_type": "execute_result"
    }
   ],
   "source": [
    "print(quarterlyLastDec.shape)\n",
    "quarterlyLastDec = quarterlyLastDec.merge(quarterlyQuartiles)\n",
    "quarterlyLastDec.shape"
   ]
  },
  {
   "cell_type": "code",
   "execution_count": 14,
   "metadata": {},
   "outputs": [
    {
     "data": {
      "text/html": [
       "<div>\n",
       "<style scoped>\n",
       "    .dataframe tbody tr th:only-of-type {\n",
       "        vertical-align: middle;\n",
       "    }\n",
       "\n",
       "    .dataframe tbody tr th {\n",
       "        vertical-align: top;\n",
       "    }\n",
       "\n",
       "    .dataframe thead th {\n",
       "        text-align: right;\n",
       "    }\n",
       "</style>\n",
       "<table border=\"1\" class=\"dataframe\">\n",
       "  <thead>\n",
       "    <tr style=\"text-align: right;\">\n",
       "      <th></th>\n",
       "      <th>ZIP</th>\n",
       "      <th>quarter</th>\n",
       "      <th>year</th>\n",
       "      <th>temperature</th>\n",
       "      <th>precipitation</th>\n",
       "      <th>dayOfYear</th>\n",
       "      <th>tempQuarter_50</th>\n",
       "      <th>precQuarter_50</th>\n",
       "      <th>tempQuarter_95</th>\n",
       "      <th>precQuarter_95</th>\n",
       "    </tr>\n",
       "  </thead>\n",
       "  <tbody>\n",
       "    <tr>\n",
       "      <th>0</th>\n",
       "      <td>1001</td>\n",
       "      <td>1</td>\n",
       "      <td>2000</td>\n",
       "      <td>5.348000</td>\n",
       "      <td>2.657242</td>\n",
       "      <td>46.0</td>\n",
       "      <td>4.321811</td>\n",
       "      <td>2.985178</td>\n",
       "      <td>6.527353</td>\n",
       "      <td>4.057065</td>\n",
       "    </tr>\n",
       "    <tr>\n",
       "      <th>1</th>\n",
       "      <td>1001</td>\n",
       "      <td>1</td>\n",
       "      <td>2001</td>\n",
       "      <td>3.113778</td>\n",
       "      <td>2.887744</td>\n",
       "      <td>45.5</td>\n",
       "      <td>4.321811</td>\n",
       "      <td>2.985178</td>\n",
       "      <td>6.527353</td>\n",
       "      <td>4.057065</td>\n",
       "    </tr>\n",
       "    <tr>\n",
       "      <th>2</th>\n",
       "      <td>1001</td>\n",
       "      <td>1</td>\n",
       "      <td>2002</td>\n",
       "      <td>6.893611</td>\n",
       "      <td>2.303844</td>\n",
       "      <td>45.5</td>\n",
       "      <td>4.321811</td>\n",
       "      <td>2.985178</td>\n",
       "      <td>6.527353</td>\n",
       "      <td>4.057065</td>\n",
       "    </tr>\n",
       "    <tr>\n",
       "      <th>3</th>\n",
       "      <td>1001</td>\n",
       "      <td>1</td>\n",
       "      <td>2003</td>\n",
       "      <td>1.947078</td>\n",
       "      <td>2.972100</td>\n",
       "      <td>45.5</td>\n",
       "      <td>4.321811</td>\n",
       "      <td>2.985178</td>\n",
       "      <td>6.527353</td>\n",
       "      <td>4.057065</td>\n",
       "    </tr>\n",
       "    <tr>\n",
       "      <th>4</th>\n",
       "      <td>1001</td>\n",
       "      <td>1</td>\n",
       "      <td>2004</td>\n",
       "      <td>2.729110</td>\n",
       "      <td>1.421110</td>\n",
       "      <td>46.0</td>\n",
       "      <td>4.321811</td>\n",
       "      <td>2.985178</td>\n",
       "      <td>6.527353</td>\n",
       "      <td>4.057065</td>\n",
       "    </tr>\n",
       "  </tbody>\n",
       "</table>\n",
       "</div>"
      ],
      "text/plain": [
       "    ZIP  quarter  year  temperature  precipitation  dayOfYear  tempQuarter_50  \\\n",
       "0  1001        1  2000     5.348000       2.657242       46.0        4.321811   \n",
       "1  1001        1  2001     3.113778       2.887744       45.5        4.321811   \n",
       "2  1001        1  2002     6.893611       2.303844       45.5        4.321811   \n",
       "3  1001        1  2003     1.947078       2.972100       45.5        4.321811   \n",
       "4  1001        1  2004     2.729110       1.421110       46.0        4.321811   \n",
       "\n",
       "   precQuarter_50  tempQuarter_95  precQuarter_95  \n",
       "0        2.985178        6.527353        4.057065  \n",
       "1        2.985178        6.527353        4.057065  \n",
       "2        2.985178        6.527353        4.057065  \n",
       "3        2.985178        6.527353        4.057065  \n",
       "4        2.985178        6.527353        4.057065  "
      ]
     },
     "execution_count": 14,
     "metadata": {},
     "output_type": "execute_result"
    }
   ],
   "source": [
    "quarterlyLastDec.head()"
   ]
  },
  {
   "cell_type": "code",
   "execution_count": 31,
   "metadata": {},
   "outputs": [
    {
     "data": {
      "text/html": [
       "<div>\n",
       "<style scoped>\n",
       "    .dataframe tbody tr th:only-of-type {\n",
       "        vertical-align: middle;\n",
       "    }\n",
       "\n",
       "    .dataframe tbody tr th {\n",
       "        vertical-align: top;\n",
       "    }\n",
       "\n",
       "    .dataframe thead th {\n",
       "        text-align: right;\n",
       "    }\n",
       "</style>\n",
       "<table border=\"1\" class=\"dataframe\">\n",
       "  <thead>\n",
       "    <tr style=\"text-align: right;\">\n",
       "      <th></th>\n",
       "      <th>ZIP</th>\n",
       "      <th>quarter</th>\n",
       "      <th>year</th>\n",
       "      <th>temp_zipWeek50</th>\n",
       "      <th>temp_zipWeek95</th>\n",
       "      <th>precip_zipWeek50</th>\n",
       "      <th>precip_zipWeek95</th>\n",
       "    </tr>\n",
       "  </thead>\n",
       "  <tbody>\n",
       "    <tr>\n",
       "      <th>0</th>\n",
       "      <td>1001</td>\n",
       "      <td>1</td>\n",
       "      <td>2000</td>\n",
       "      <td>8</td>\n",
       "      <td>2</td>\n",
       "      <td>8</td>\n",
       "      <td>0</td>\n",
       "    </tr>\n",
       "    <tr>\n",
       "      <th>1</th>\n",
       "      <td>1001</td>\n",
       "      <td>1</td>\n",
       "      <td>2001</td>\n",
       "      <td>5</td>\n",
       "      <td>0</td>\n",
       "      <td>7</td>\n",
       "      <td>2</td>\n",
       "    </tr>\n",
       "    <tr>\n",
       "      <th>2</th>\n",
       "      <td>1001</td>\n",
       "      <td>1</td>\n",
       "      <td>2002</td>\n",
       "      <td>10</td>\n",
       "      <td>3</td>\n",
       "      <td>6</td>\n",
       "      <td>0</td>\n",
       "    </tr>\n",
       "    <tr>\n",
       "      <th>3</th>\n",
       "      <td>1001</td>\n",
       "      <td>1</td>\n",
       "      <td>2003</td>\n",
       "      <td>4</td>\n",
       "      <td>1</td>\n",
       "      <td>6</td>\n",
       "      <td>2</td>\n",
       "    </tr>\n",
       "    <tr>\n",
       "      <th>4</th>\n",
       "      <td>1001</td>\n",
       "      <td>1</td>\n",
       "      <td>2004</td>\n",
       "      <td>5</td>\n",
       "      <td>1</td>\n",
       "      <td>4</td>\n",
       "      <td>1</td>\n",
       "    </tr>\n",
       "  </tbody>\n",
       "</table>\n",
       "</div>"
      ],
      "text/plain": [
       "    ZIP  quarter  year  temp_zipWeek50  temp_zipWeek95  precip_zipWeek50  \\\n",
       "0  1001        1  2000               8               2                 8   \n",
       "1  1001        1  2001               5               0                 7   \n",
       "2  1001        1  2002              10               3                 6   \n",
       "3  1001        1  2003               4               1                 6   \n",
       "4  1001        1  2004               5               1                 4   \n",
       "\n",
       "   precip_zipWeek95  \n",
       "0                 0  \n",
       "1                 2  \n",
       "2                 0  \n",
       "3                 2  \n",
       "4                 1  "
      ]
     },
     "execution_count": 31,
     "metadata": {},
     "output_type": "execute_result"
    }
   ],
   "source": [
    "weeklyLastDec['temp_zipWeek50'] = 1*(weeklyLastDec.temperature > weeklyLastDec.tempWeek_50)\n",
    "weeklyLastDec['temp_zipWeek95'] = 1*(weeklyLastDec.temperature > weeklyLastDec.tempWeek_95)\n",
    "\n",
    "weeklyLastDec['precip_zipWeek50'] = 1*(weeklyLastDec.precipitation > weeklyLastDec.precWeek_50)\n",
    "weeklyLastDec['precip_zipWeek95'] = 1*(weeklyLastDec.precipitation > weeklyLastDec.precipWeek_95)\n",
    "\n",
    "weeklyLastDec.head()\n",
    "\n",
    "weeklyCounts = weeklyLastDec[['ZIP','quarter','year',\n",
    "                                    'temp_zipWeek50','temp_zipWeek95',\n",
    "                                   'precip_zipWeek50','precip_zipWeek95']].\\\n",
    "                                    groupby(['ZIP','quarter','year']).\\\n",
    "                                    sum().reset_index()\n",
    "\n",
    "weeklyCounts.head()"
   ]
  },
  {
   "cell_type": "code",
   "execution_count": 33,
   "metadata": {},
   "outputs": [
    {
     "data": {
      "text/plain": [
       "count    2.612480e+06\n",
       "mean     1.383345e+00\n",
       "std      1.384789e+00\n",
       "min      0.000000e+00\n",
       "25%      0.000000e+00\n",
       "50%      1.000000e+00\n",
       "75%      2.000000e+00\n",
       "max      1.400000e+01\n",
       "Name: temp_zipWeek95, dtype: float64"
      ]
     },
     "execution_count": 33,
     "metadata": {},
     "output_type": "execute_result"
    }
   ],
   "source": [
    "weeklyCounts.temp_zipWeek95.describe()"
   ]
  },
  {
   "cell_type": "code",
   "execution_count": 23,
   "metadata": {},
   "outputs": [
    {
     "data": {
      "text/html": [
       "<div>\n",
       "<style scoped>\n",
       "    .dataframe tbody tr th:only-of-type {\n",
       "        vertical-align: middle;\n",
       "    }\n",
       "\n",
       "    .dataframe tbody tr th {\n",
       "        vertical-align: top;\n",
       "    }\n",
       "\n",
       "    .dataframe thead th {\n",
       "        text-align: right;\n",
       "    }\n",
       "</style>\n",
       "<table border=\"1\" class=\"dataframe\">\n",
       "  <thead>\n",
       "    <tr style=\"text-align: right;\">\n",
       "      <th></th>\n",
       "      <th>ZIP</th>\n",
       "      <th>quarter</th>\n",
       "      <th>year</th>\n",
       "      <th>temp_zipQuarter50</th>\n",
       "      <th>temp_zipQuarter95</th>\n",
       "      <th>precip_zipQuarter50</th>\n",
       "      <th>precip_zipQuarter95</th>\n",
       "    </tr>\n",
       "  </thead>\n",
       "  <tbody>\n",
       "    <tr>\n",
       "      <th>0</th>\n",
       "      <td>1001</td>\n",
       "      <td>1</td>\n",
       "      <td>2000</td>\n",
       "      <td>1</td>\n",
       "      <td>0</td>\n",
       "      <td>0</td>\n",
       "      <td>0</td>\n",
       "    </tr>\n",
       "    <tr>\n",
       "      <th>1</th>\n",
       "      <td>1001</td>\n",
       "      <td>1</td>\n",
       "      <td>2001</td>\n",
       "      <td>0</td>\n",
       "      <td>0</td>\n",
       "      <td>0</td>\n",
       "      <td>0</td>\n",
       "    </tr>\n",
       "    <tr>\n",
       "      <th>2</th>\n",
       "      <td>1001</td>\n",
       "      <td>1</td>\n",
       "      <td>2002</td>\n",
       "      <td>1</td>\n",
       "      <td>1</td>\n",
       "      <td>0</td>\n",
       "      <td>0</td>\n",
       "    </tr>\n",
       "    <tr>\n",
       "      <th>3</th>\n",
       "      <td>1001</td>\n",
       "      <td>1</td>\n",
       "      <td>2003</td>\n",
       "      <td>0</td>\n",
       "      <td>0</td>\n",
       "      <td>0</td>\n",
       "      <td>0</td>\n",
       "    </tr>\n",
       "    <tr>\n",
       "      <th>4</th>\n",
       "      <td>1001</td>\n",
       "      <td>1</td>\n",
       "      <td>2004</td>\n",
       "      <td>0</td>\n",
       "      <td>0</td>\n",
       "      <td>0</td>\n",
       "      <td>0</td>\n",
       "    </tr>\n",
       "  </tbody>\n",
       "</table>\n",
       "</div>"
      ],
      "text/plain": [
       "    ZIP  quarter  year  temp_zipQuarter50  temp_zipQuarter95  \\\n",
       "0  1001        1  2000                  1                  0   \n",
       "1  1001        1  2001                  0                  0   \n",
       "2  1001        1  2002                  1                  1   \n",
       "3  1001        1  2003                  0                  0   \n",
       "4  1001        1  2004                  0                  0   \n",
       "\n",
       "   precip_zipQuarter50  precip_zipQuarter95  \n",
       "0                    0                    0  \n",
       "1                    0                    0  \n",
       "2                    0                    0  \n",
       "3                    0                    0  \n",
       "4                    0                    0  "
      ]
     },
     "execution_count": 23,
     "metadata": {},
     "output_type": "execute_result"
    }
   ],
   "source": [
    "quarterlyLastDec['temp_zipQuarter50'] = 1*(quarterlyLastDec.temperature > quarterlyLastDec.tempQuarter_50)\n",
    "quarterlyLastDec['temp_zipQuarter95'] = 1*(quarterlyLastDec.temperature > quarterlyLastDec.tempQuarter_95)\n",
    "\n",
    "quarterlyLastDec['precip_zipQuarter50'] = 1*(quarterlyLastDec.precipitation > quarterlyLastDec.precQuarter_50)\n",
    "quarterlyLastDec['precip_zipQuarter95'] = 1*(quarterlyLastDec.precipitation > quarterlyLastDec.precQuarter_95)\n",
    "\n",
    "quarterlyLastDec.head()\n",
    "\n",
    "quarterlyCounts = quarterlyLastDec[['ZIP','quarter','year',\n",
    "                                    'temp_zipQuarter50','temp_zipQuarter95',\n",
    "                                   'precip_zipQuarter50','precip_zipQuarter95']].\\\n",
    "                                    groupby(['ZIP','quarter','year']).\\\n",
    "                                    sum().reset_index()\n",
    "\n",
    "quarterlyCounts.head()"
   ]
  },
  {
   "cell_type": "code",
   "execution_count": 27,
   "metadata": {},
   "outputs": [
    {
     "data": {
      "text/plain": [
       "count    2.612480e+06\n",
       "mean     6.036582e-01\n",
       "std      4.891371e-01\n",
       "min      0.000000e+00\n",
       "25%      0.000000e+00\n",
       "50%      1.000000e+00\n",
       "75%      1.000000e+00\n",
       "max      1.000000e+00\n",
       "Name: temp_zipQuarter50, dtype: float64"
      ]
     },
     "execution_count": 27,
     "metadata": {},
     "output_type": "execute_result"
    }
   ],
   "source": [
    "quarterlyCounts.temp_zipQuarter50.describe()"
   ]
  },
  {
   "cell_type": "code",
   "execution_count": 40,
   "metadata": {},
   "outputs": [],
   "source": [
    "countDataRevised = quarterlyCounts.merge(weeklyCounts)\n",
    "countDataRevised.rename(columns = {'ZIP': 'zipcode'}, inplace = True)"
   ]
  },
  {
   "cell_type": "code",
   "execution_count": 41,
   "metadata": {},
   "outputs": [
    {
     "name": "stdout",
     "output_type": "stream",
     "text": [
      "(2612480, 7) (2612480, 7) (2612480, 11)\n"
     ]
    }
   ],
   "source": [
    "print(quarterlyCounts.shape, weeklyCounts.shape, countDataRevised.shape)"
   ]
  },
  {
   "cell_type": "code",
   "execution_count": 42,
   "metadata": {},
   "outputs": [],
   "source": [
    "countDataRevised.to_csv(\"../../data/companyData/weekMonthQuarter_2000to2019_allZips.csv\")\n"
   ]
  },
  {
   "cell_type": "markdown",
   "metadata": {},
   "source": [
    "Add in the 90+ days so that we're good to go more readily."
   ]
  },
  {
   "cell_type": "code",
   "execution_count": 39,
   "metadata": {},
   "outputs": [
    {
     "data": {
      "text/html": [
       "<div>\n",
       "<style scoped>\n",
       "    .dataframe tbody tr th:only-of-type {\n",
       "        vertical-align: middle;\n",
       "    }\n",
       "\n",
       "    .dataframe tbody tr th {\n",
       "        vertical-align: top;\n",
       "    }\n",
       "\n",
       "    .dataframe thead th {\n",
       "        text-align: right;\n",
       "    }\n",
       "</style>\n",
       "<table border=\"1\" class=\"dataframe\">\n",
       "  <thead>\n",
       "    <tr style=\"text-align: right;\">\n",
       "      <th></th>\n",
       "      <th>zipcode</th>\n",
       "      <th>days90Plus</th>\n",
       "      <th>streak90Plus</th>\n",
       "      <th>year</th>\n",
       "      <th>quarter</th>\n",
       "    </tr>\n",
       "  </thead>\n",
       "  <tbody>\n",
       "    <tr>\n",
       "      <th>0</th>\n",
       "      <td>1001</td>\n",
       "      <td>0</td>\n",
       "      <td>0</td>\n",
       "      <td>2000</td>\n",
       "      <td>1</td>\n",
       "    </tr>\n",
       "    <tr>\n",
       "      <th>1</th>\n",
       "      <td>1001</td>\n",
       "      <td>5</td>\n",
       "      <td>0</td>\n",
       "      <td>2000</td>\n",
       "      <td>2</td>\n",
       "    </tr>\n",
       "    <tr>\n",
       "      <th>2</th>\n",
       "      <td>1001</td>\n",
       "      <td>0</td>\n",
       "      <td>0</td>\n",
       "      <td>2000</td>\n",
       "      <td>3</td>\n",
       "    </tr>\n",
       "    <tr>\n",
       "      <th>3</th>\n",
       "      <td>1001</td>\n",
       "      <td>0</td>\n",
       "      <td>0</td>\n",
       "      <td>2000</td>\n",
       "      <td>4</td>\n",
       "    </tr>\n",
       "    <tr>\n",
       "      <th>4</th>\n",
       "      <td>1001</td>\n",
       "      <td>0</td>\n",
       "      <td>0</td>\n",
       "      <td>2001</td>\n",
       "      <td>1</td>\n",
       "    </tr>\n",
       "    <tr>\n",
       "      <th>...</th>\n",
       "      <td>...</td>\n",
       "      <td>...</td>\n",
       "      <td>...</td>\n",
       "      <td>...</td>\n",
       "      <td>...</td>\n",
       "    </tr>\n",
       "    <tr>\n",
       "      <th>2612475</th>\n",
       "      <td>99403</td>\n",
       "      <td>0</td>\n",
       "      <td>0</td>\n",
       "      <td>2018</td>\n",
       "      <td>4</td>\n",
       "    </tr>\n",
       "    <tr>\n",
       "      <th>2612476</th>\n",
       "      <td>99403</td>\n",
       "      <td>0</td>\n",
       "      <td>0</td>\n",
       "      <td>2019</td>\n",
       "      <td>1</td>\n",
       "    </tr>\n",
       "    <tr>\n",
       "      <th>2612477</th>\n",
       "      <td>99403</td>\n",
       "      <td>0</td>\n",
       "      <td>0</td>\n",
       "      <td>2019</td>\n",
       "      <td>2</td>\n",
       "    </tr>\n",
       "    <tr>\n",
       "      <th>2612478</th>\n",
       "      <td>99403</td>\n",
       "      <td>17</td>\n",
       "      <td>0</td>\n",
       "      <td>2019</td>\n",
       "      <td>3</td>\n",
       "    </tr>\n",
       "    <tr>\n",
       "      <th>2612479</th>\n",
       "      <td>99403</td>\n",
       "      <td>0</td>\n",
       "      <td>0</td>\n",
       "      <td>2019</td>\n",
       "      <td>4</td>\n",
       "    </tr>\n",
       "  </tbody>\n",
       "</table>\n",
       "<p>2612480 rows × 5 columns</p>\n",
       "</div>"
      ],
      "text/plain": [
       "        zipcode  days90Plus  streak90Plus  year quarter\n",
       "0          1001           0             0  2000       1\n",
       "1          1001           5             0  2000       2\n",
       "2          1001           0             0  2000       3\n",
       "3          1001           0             0  2000       4\n",
       "4          1001           0             0  2001       1\n",
       "...         ...         ...           ...   ...     ...\n",
       "2612475   99403           0             0  2018       4\n",
       "2612476   99403           0             0  2019       1\n",
       "2612477   99403           0             0  2019       2\n",
       "2612478   99403          17             0  2019       3\n",
       "2612479   99403           0             0  2019       4\n",
       "\n",
       "[2612480 rows x 5 columns]"
      ]
     },
     "execution_count": 39,
     "metadata": {},
     "output_type": "execute_result"
    }
   ],
   "source": [
    "quarterlyExtremes = pd.read_csv(\"../../data/companyData/heat_above90Quarterly.csv\").drop(columns = 'Unnamed: 0')\n",
    "quarterlyExtremes['year']    = quarterlyExtremes.yearQuarter.str.slice(0,4).astype('int64')\n",
    "quarterlyExtremes['quarter'] = quarterlyExtremes.yearQuarter.str.slice(5,6).astype('int64')\n",
    "\n",
    "quarterlyExtremes.rename(columns = {'extreme': 'days90Plus',\n",
    "                                   'heatWave': 'streak90Plus',\n",
    "                                   'ZIP': 'zipcode'}, \n",
    "                        inplace = True)\n",
    "\n",
    "quarterlyExtremes.drop(columns = 'yearQuarter', inplace = True)\n",
    "\n",
    "quarterlyExtremes.astype({'zipcode': 'category',\n",
    "                          'quarter': 'category',\n",
    "                          'year': 'category'})"
   ]
  },
  {
   "cell_type": "code",
   "execution_count": 43,
   "metadata": {},
   "outputs": [
    {
     "data": {
      "text/html": [
       "<div>\n",
       "<style scoped>\n",
       "    .dataframe tbody tr th:only-of-type {\n",
       "        vertical-align: middle;\n",
       "    }\n",
       "\n",
       "    .dataframe tbody tr th {\n",
       "        vertical-align: top;\n",
       "    }\n",
       "\n",
       "    .dataframe thead th {\n",
       "        text-align: right;\n",
       "    }\n",
       "</style>\n",
       "<table border=\"1\" class=\"dataframe\">\n",
       "  <thead>\n",
       "    <tr style=\"text-align: right;\">\n",
       "      <th></th>\n",
       "      <th>zipcode</th>\n",
       "      <th>quarter</th>\n",
       "      <th>year</th>\n",
       "      <th>temp_zipQuarter50</th>\n",
       "      <th>temp_zipQuarter95</th>\n",
       "      <th>precip_zipQuarter50</th>\n",
       "      <th>precip_zipQuarter95</th>\n",
       "      <th>temp_zipWeek50</th>\n",
       "      <th>temp_zipWeek95</th>\n",
       "      <th>precip_zipWeek50</th>\n",
       "      <th>precip_zipWeek95</th>\n",
       "      <th>days90Plus</th>\n",
       "      <th>streak90Plus</th>\n",
       "    </tr>\n",
       "  </thead>\n",
       "  <tbody>\n",
       "    <tr>\n",
       "      <th>0</th>\n",
       "      <td>1001</td>\n",
       "      <td>1</td>\n",
       "      <td>2000</td>\n",
       "      <td>1</td>\n",
       "      <td>0</td>\n",
       "      <td>0</td>\n",
       "      <td>0</td>\n",
       "      <td>8</td>\n",
       "      <td>2</td>\n",
       "      <td>8</td>\n",
       "      <td>0</td>\n",
       "      <td>0</td>\n",
       "      <td>0</td>\n",
       "    </tr>\n",
       "    <tr>\n",
       "      <th>1</th>\n",
       "      <td>1001</td>\n",
       "      <td>1</td>\n",
       "      <td>2001</td>\n",
       "      <td>0</td>\n",
       "      <td>0</td>\n",
       "      <td>0</td>\n",
       "      <td>0</td>\n",
       "      <td>5</td>\n",
       "      <td>0</td>\n",
       "      <td>7</td>\n",
       "      <td>2</td>\n",
       "      <td>0</td>\n",
       "      <td>0</td>\n",
       "    </tr>\n",
       "    <tr>\n",
       "      <th>2</th>\n",
       "      <td>1001</td>\n",
       "      <td>1</td>\n",
       "      <td>2002</td>\n",
       "      <td>1</td>\n",
       "      <td>1</td>\n",
       "      <td>0</td>\n",
       "      <td>0</td>\n",
       "      <td>10</td>\n",
       "      <td>3</td>\n",
       "      <td>6</td>\n",
       "      <td>0</td>\n",
       "      <td>0</td>\n",
       "      <td>0</td>\n",
       "    </tr>\n",
       "    <tr>\n",
       "      <th>3</th>\n",
       "      <td>1001</td>\n",
       "      <td>1</td>\n",
       "      <td>2003</td>\n",
       "      <td>0</td>\n",
       "      <td>0</td>\n",
       "      <td>0</td>\n",
       "      <td>0</td>\n",
       "      <td>4</td>\n",
       "      <td>1</td>\n",
       "      <td>6</td>\n",
       "      <td>2</td>\n",
       "      <td>0</td>\n",
       "      <td>0</td>\n",
       "    </tr>\n",
       "    <tr>\n",
       "      <th>4</th>\n",
       "      <td>1001</td>\n",
       "      <td>1</td>\n",
       "      <td>2004</td>\n",
       "      <td>0</td>\n",
       "      <td>0</td>\n",
       "      <td>0</td>\n",
       "      <td>0</td>\n",
       "      <td>5</td>\n",
       "      <td>1</td>\n",
       "      <td>4</td>\n",
       "      <td>1</td>\n",
       "      <td>0</td>\n",
       "      <td>0</td>\n",
       "    </tr>\n",
       "  </tbody>\n",
       "</table>\n",
       "</div>"
      ],
      "text/plain": [
       "   zipcode  quarter  year  temp_zipQuarter50  temp_zipQuarter95  \\\n",
       "0     1001        1  2000                  1                  0   \n",
       "1     1001        1  2001                  0                  0   \n",
       "2     1001        1  2002                  1                  1   \n",
       "3     1001        1  2003                  0                  0   \n",
       "4     1001        1  2004                  0                  0   \n",
       "\n",
       "   precip_zipQuarter50  precip_zipQuarter95  temp_zipWeek50  temp_zipWeek95  \\\n",
       "0                    0                    0               8               2   \n",
       "1                    0                    0               5               0   \n",
       "2                    0                    0              10               3   \n",
       "3                    0                    0               4               1   \n",
       "4                    0                    0               5               1   \n",
       "\n",
       "   precip_zipWeek50  precip_zipWeek95  days90Plus  streak90Plus  \n",
       "0                 8                 0           0             0  \n",
       "1                 7                 2           0             0  \n",
       "2                 6                 0           0             0  \n",
       "3                 6                 2           0             0  \n",
       "4                 4                 1           0             0  "
      ]
     },
     "execution_count": 43,
     "metadata": {},
     "output_type": "execute_result"
    }
   ],
   "source": [
    "countDataRevised = countDataRevised.merge(quarterlyExtremes)\n",
    "\n",
    "countDataRevised.head()"
   ]
  },
  {
   "cell_type": "code",
   "execution_count": 44,
   "metadata": {},
   "outputs": [],
   "source": [
    "countDataRevised.to_csv(\"../../data/companyData/latestExtremes.csv\")\n"
   ]
  },
  {
   "cell_type": "code",
   "execution_count": null,
   "metadata": {},
   "outputs": [],
   "source": []
  }
 ],
 "metadata": {
  "kernelspec": {
   "display_name": "Python 3",
   "language": "python",
   "name": "python3"
  },
  "language_info": {
   "codemirror_mode": {
    "name": "ipython",
    "version": 3
   },
   "file_extension": ".py",
   "mimetype": "text/x-python",
   "name": "python",
   "nbconvert_exporter": "python",
   "pygments_lexer": "ipython3",
   "version": "3.7.4"
  }
 },
 "nbformat": 4,
 "nbformat_minor": 2
}
