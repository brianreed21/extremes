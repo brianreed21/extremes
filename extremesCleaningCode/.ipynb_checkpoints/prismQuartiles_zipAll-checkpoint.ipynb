{
 "cells": [
  {
   "cell_type": "code",
   "execution_count": 1,
   "metadata": {},
   "outputs": [
    {
     "name": "stderr",
     "output_type": "stream",
     "text": [
      "/Users/brianreed/opt/anaconda3/lib/python3.7/site-packages/dask/dataframe/utils.py:14: FutureWarning: pandas.util.testing is deprecated. Use the functions in the public API at pandas.testing instead.\n",
      "  import pandas.util.testing as tm\n"
     ]
    }
   ],
   "source": [
    "import pickle as pkl\n",
    "import pandas as pd\n",
    "import matplotlib\n",
    "import os\n",
    "import re\n",
    "\n",
    "import collections\n",
    "import datetime\n",
    "import time\n",
    "\n",
    "import matplotlib.pyplot as plt\n",
    "import seaborn as sns\n",
    "    \n",
    "import geopandas as gpd\n",
    "\n",
    "import numpy as np\n",
    "\n",
    "import rasterio\n",
    "\n",
    "from difflib import get_close_matches\n",
    "\n",
    "from fuzzywuzzy import process\n",
    "from fuzzywuzzy import fuzz\n",
    "\n",
    "import dask.dataframe as dd\n",
    "\n",
    "import gc\n",
    "import sys\n",
    "\n",
    "from multiprocessing import Pool\n",
    "import multiprocessing\n",
    "\n",
    "from dask.diagnostics import ProgressBar\n"
   ]
  },
  {
   "cell_type": "markdown",
   "metadata": {},
   "source": [
    "# Sample"
   ]
  },
  {
   "cell_type": "code",
   "execution_count": 2,
   "metadata": {},
   "outputs": [],
   "source": [
    "def getData(weatherType,yearRange1,yearRange2):\n",
    "\n",
    "    if weatherType == \"Tmax\":\n",
    "        weatherVar = \"temperature\"\n",
    "    else: \n",
    "        weatherVar = \"precipitation\"\n",
    "    \n",
    "    year = yearRange1\n",
    "    filename = \"../../../../../../../Volumes/backup2/dissData/prism/zipcode\" + weatherType + str(year) + \".csv\"\n",
    "    data = dd.read_csv(filename, assume_missing=True)[['ZIP','date',weatherVar]]\n",
    "    data['ZIP'] = data.ZIP.astype('int64')\n",
    "\n",
    "    \n",
    "   \n",
    "    years = range(yearRange1 + 1,yearRange2 + 1)\n",
    "    for year in years:\n",
    "        filename = \"../../../../../../../Volumes/backup2/dissData/prism/zipcode\" + weatherType + str(year) + \".csv\"\n",
    "        tempData = dd.read_csv(filename, assume_missing=True)[['ZIP','date',weatherVar]]\n",
    "        tempData['ZIP'] = tempData.ZIP.astype('int64')\n",
    "\n",
    "        # tempData = tempData[tempData.ZIP.isin(relevantZips)]\n",
    "        # tempData = tempData[~(tempData[weatherVar].isna().compute())]\n",
    "        data = data.append(tempData)\n",
    "\n",
    "    data = data[~(data[weatherVar].isna())] # .compute()\n",
    "    \n",
    "    return(data)\n"
   ]
  },
  {
   "cell_type": "markdown",
   "metadata": {},
   "source": [
    "I think only a few of these quantiles will be relevant. Let's look at 0, 0.9, 0.95, 1.0"
   ]
  },
  {
   "cell_type": "code",
   "execution_count": 3,
   "metadata": {},
   "outputs": [],
   "source": [
    "quantiles = [0.0, 0.05, 0.90, 0.95, 0.9978, 0.9995]\n",
    "\n",
    "# need to account for fact that once a year-quarter is 90 days, not 365\n",
    "'''quant_labels = ['quant_0.05','quant_tossThisOne','quant_0.95',\n",
    "                'quant_1x5Qtrs','quant_1x5Yrs']'''\n",
    "\n",
    "quant_labels = ['1','2','3','4','5']"
   ]
  },
  {
   "cell_type": "markdown",
   "metadata": {},
   "source": [
    "# Precipitation"
   ]
  },
  {
   "cell_type": "code",
   "execution_count": 4,
   "metadata": {},
   "outputs": [],
   "source": [
    "weatherType = \"Precip\" # Tmax\n",
    "precipData = getData(weatherType, 1981, 2008)"
   ]
  },
  {
   "cell_type": "code",
   "execution_count": 5,
   "metadata": {},
   "outputs": [],
   "source": [
    "precipData['quarter']    = dd.to_datetime(precipData['date'], format='%Y%m%d').dt.quarter"
   ]
  },
  {
   "cell_type": "code",
   "execution_count": 6,
   "metadata": {},
   "outputs": [
    {
     "data": {
      "text/plain": [
       "(333972912, 4)"
      ]
     },
     "execution_count": 6,
     "metadata": {},
     "output_type": "execute_result"
    }
   ],
   "source": [
    "precip = precipData.compute(workers = 100)\n",
    "precip.shape"
   ]
  },
  {
   "cell_type": "code",
   "execution_count": 7,
   "metadata": {},
   "outputs": [],
   "source": [
    "precip.to_csv(\"../../data/companyData/allZipsPrecip.csv\")"
   ]
  },
  {
   "cell_type": "code",
   "execution_count": 11,
   "metadata": {},
   "outputs": [
    {
     "data": {
      "text/plain": [
       "470"
      ]
     },
     "execution_count": 11,
     "metadata": {},
     "output_type": "execute_result"
    }
   ],
   "source": [
    "del precip\n",
    "gc.collect()"
   ]
  },
  {
   "cell_type": "markdown",
   "metadata": {},
   "source": [
    "## Temperature"
   ]
  },
  {
   "cell_type": "code",
   "execution_count": 8,
   "metadata": {},
   "outputs": [],
   "source": [
    "weatherType = \"Tmax\"\n",
    "tempData = getData(weatherType, 1981, 2008)"
   ]
  },
  {
   "cell_type": "code",
   "execution_count": 9,
   "metadata": {},
   "outputs": [],
   "source": [
    "tempData['quarter']  = dd.to_datetime(tempData['date'], format='%Y%m%d').dt.quarter"
   ]
  },
  {
   "cell_type": "code",
   "execution_count": 12,
   "metadata": {},
   "outputs": [
    {
     "data": {
      "text/plain": [
       "(333972912, 4)"
      ]
     },
     "execution_count": 12,
     "metadata": {},
     "output_type": "execute_result"
    }
   ],
   "source": [
    "temp = tempData.compute(workers = 100)\n",
    "temp.shape"
   ]
  },
  {
   "cell_type": "code",
   "execution_count": 13,
   "metadata": {},
   "outputs": [],
   "source": [
    "temp.to_csv(\"../../data/companyData/allZipsTemp.csv\")"
   ]
  },
  {
   "cell_type": "code",
   "execution_count": 14,
   "metadata": {},
   "outputs": [
    {
     "data": {
      "text/plain": [
       "40"
      ]
     },
     "execution_count": 14,
     "metadata": {},
     "output_type": "execute_result"
    }
   ],
   "source": [
    "del temp\n",
    "gc.collect()"
   ]
  },
  {
   "cell_type": "markdown",
   "metadata": {},
   "source": [
    "## Merge and save\n",
    "Merge these two and save them as one sv that we can read in and reindex. I think the above approach reads in all files separately so we get a multi-index problem."
   ]
  },
  {
   "cell_type": "code",
   "execution_count": null,
   "metadata": {},
   "outputs": [],
   "source": [
    "temp['precipitation'] = precip.precipitation\n",
    "temp.head()"
   ]
  },
  {
   "cell_type": "code",
   "execution_count": null,
   "metadata": {},
   "outputs": [],
   "source": [
    "temp.to_csv(\"../../data/companyData/allZipsTemp.csv\")"
   ]
  },
  {
   "cell_type": "markdown",
   "metadata": {},
   "source": [
    "# Load all data\n",
    "## Get stats\n",
    "\n",
    "### Describe Climate"
   ]
  },
  {
   "cell_type": "code",
   "execution_count": 81,
   "metadata": {},
   "outputs": [],
   "source": [
    "weatherData   = dd.read_csv(\"../../data/companyData/allZipsTemp.csv\").drop(columns = {'Unnamed: 0'})\n",
    "precipData = dd.read_csv(\"../../data/companyData/allZipsPrecip.csv\").drop(columns = {'Unnamed: 0'})\n",
    "with ProgressBar():\n",
    "    precipData = precipData.repartition(npartitions=225)\n",
    "    weatherData   = tempData.repartition(npartitions=225)\n",
    "# weatherData = tempData.merge(precipData)"
   ]
  },
  {
   "cell_type": "code",
   "execution_count": 82,
   "metadata": {},
   "outputs": [
    {
     "data": {
      "text/html": [
       "<div>\n",
       "<style scoped>\n",
       "    .dataframe tbody tr th:only-of-type {\n",
       "        vertical-align: middle;\n",
       "    }\n",
       "\n",
       "    .dataframe tbody tr th {\n",
       "        vertical-align: top;\n",
       "    }\n",
       "\n",
       "    .dataframe thead th {\n",
       "        text-align: right;\n",
       "    }\n",
       "</style>\n",
       "<table border=\"1\" class=\"dataframe\">\n",
       "  <thead>\n",
       "    <tr style=\"text-align: right;\">\n",
       "      <th></th>\n",
       "      <th>ZIP</th>\n",
       "      <th>date</th>\n",
       "      <th>temperature</th>\n",
       "      <th>quarter</th>\n",
       "      <th>precipitation</th>\n",
       "    </tr>\n",
       "  </thead>\n",
       "  <tbody>\n",
       "    <tr>\n",
       "      <th>0</th>\n",
       "      <td>1001</td>\n",
       "      <td>19810101.0</td>\n",
       "      <td>-5.148</td>\n",
       "      <td>1</td>\n",
       "      <td>0.0</td>\n",
       "    </tr>\n",
       "    <tr>\n",
       "      <th>1</th>\n",
       "      <td>1002</td>\n",
       "      <td>19810101.0</td>\n",
       "      <td>-5.678</td>\n",
       "      <td>1</td>\n",
       "      <td>0.0</td>\n",
       "    </tr>\n",
       "    <tr>\n",
       "      <th>2</th>\n",
       "      <td>1003</td>\n",
       "      <td>19810101.0</td>\n",
       "      <td>-5.460</td>\n",
       "      <td>1</td>\n",
       "      <td>0.0</td>\n",
       "    </tr>\n",
       "    <tr>\n",
       "      <th>3</th>\n",
       "      <td>1005</td>\n",
       "      <td>19810101.0</td>\n",
       "      <td>-6.078</td>\n",
       "      <td>1</td>\n",
       "      <td>0.0</td>\n",
       "    </tr>\n",
       "    <tr>\n",
       "      <th>4</th>\n",
       "      <td>1007</td>\n",
       "      <td>19810101.0</td>\n",
       "      <td>-5.815</td>\n",
       "      <td>1</td>\n",
       "      <td>0.0</td>\n",
       "    </tr>\n",
       "  </tbody>\n",
       "</table>\n",
       "</div>"
      ],
      "text/plain": [
       "    ZIP        date  temperature  quarter  precipitation\n",
       "0  1001  19810101.0       -5.148        1            0.0\n",
       "1  1002  19810101.0       -5.678        1            0.0\n",
       "2  1003  19810101.0       -5.460        1            0.0\n",
       "3  1005  19810101.0       -6.078        1            0.0\n",
       "4  1007  19810101.0       -5.815        1            0.0"
      ]
     },
     "execution_count": 82,
     "metadata": {},
     "output_type": "execute_result"
    }
   ],
   "source": [
    "# tempData['precipitation'] = precipData.precipitation\n",
    "weatherData = weatherData.assign(precipitation=precipData.precipitation)\n",
    "weatherData.head()"
   ]
  },
  {
   "cell_type": "code",
   "execution_count": 52,
   "metadata": {},
   "outputs": [
    {
     "name": "stdout",
     "output_type": "stream",
     "text": [
      "0.00014066696166992188\n"
     ]
    }
   ],
   "source": [
    "start = time.time()\n",
    "\n",
    "# tempData['temp5Days']     = tempData.groupby(by='ZIP').apply(lambda df_g: df_g['temperature'].rolling(5).mean(), meta=('temperature', 'f8'))\n",
    "# precipData['precip5Days']    = precipData.groupby(by='ZIP').apply(lambda df_g: df_g['precipitation'].rolling(5).mean(), meta=('precipitation', 'f8'))\n",
    "# precipData['precipQtrMean']  = precipData.groupby(by='quarter').apply(lambda df_g: df_g['precipitation'].mean(), meta=('precipitation', 'f8'))\n",
    "\n",
    "print(time.time() - start)"
   ]
  },
  {
   "cell_type": "code",
   "execution_count": 95,
   "metadata": {},
   "outputs": [
    {
     "name": "stdout",
     "output_type": "stream",
     "text": [
      "   quarter  quarterly_var_temp  quarterly_var_precip\n",
      "0        1           90.610895             55.668947\n",
      "1        2           56.110724             55.242613\n",
      "2        3           28.900500             56.412663\n",
      "3        4           90.470189             57.189735    quarter  quarterly_avg_temp  quarterly_avg_precip\n",
      "0        1            8.435430              2.614472\n",
      "1        2           22.821419              2.687989\n",
      "2        3           28.293629              2.790931\n",
      "3        4           13.120395              2.766938\n"
     ]
    }
   ],
   "source": [
    "quarterlyAvg = weatherData.groupby('quarter').mean().compute(workers = 100).\\\n",
    "    reset_index()[['quarter','temperature','precipitation']].rename(columns = {'temperature': 'quarterly_avg_temp',\n",
    "                                                                              'precipitation': 'quarterly_avg_precip'})\n",
    "\n",
    "\n",
    "quarterlyVar = weatherData.groupby('quarter').var().compute(workers = 100).\\\n",
    "    reset_index()[['quarter','temperature','precipitation']].rename(columns = {'temperature': 'quarterly_var_temp',\n",
    "                                                                              'precipitation': 'quarterly_var_precip'})\n",
    "print(quarterlyVar,quarterlyAvg)\n",
    "\n",
    "\n",
    "quarterlyStatsOverall = quarterlyVar.merge(quarterlyAvg)"
   ]
  },
  {
   "cell_type": "code",
   "execution_count": 175,
   "metadata": {},
   "outputs": [
    {
     "ename": "AttributeError",
     "evalue": "'Column not found: percentile'",
     "output_type": "error",
     "traceback": [
      "\u001b[0;31m---------------------------------------------------------------------------\u001b[0m",
      "\u001b[0;31mKeyError\u001b[0m                                  Traceback (most recent call last)",
      "\u001b[0;32m~/opt/anaconda3/lib/python3.7/site-packages/dask/dataframe/groupby.py\u001b[0m in \u001b[0;36m__getattr__\u001b[0;34m(self, key)\u001b[0m\n\u001b[1;32m   1703\u001b[0m         \u001b[0;32mtry\u001b[0m\u001b[0;34m:\u001b[0m\u001b[0;34m\u001b[0m\u001b[0;34m\u001b[0m\u001b[0m\n\u001b[0;32m-> 1704\u001b[0;31m             \u001b[0;32mreturn\u001b[0m \u001b[0mself\u001b[0m\u001b[0;34m[\u001b[0m\u001b[0mkey\u001b[0m\u001b[0;34m]\u001b[0m\u001b[0;34m\u001b[0m\u001b[0;34m\u001b[0m\u001b[0m\n\u001b[0m\u001b[1;32m   1705\u001b[0m         \u001b[0;32mexcept\u001b[0m \u001b[0mKeyError\u001b[0m \u001b[0;32mas\u001b[0m \u001b[0me\u001b[0m\u001b[0;34m:\u001b[0m\u001b[0;34m\u001b[0m\u001b[0;34m\u001b[0m\u001b[0m\n",
      "\u001b[0;32m~/opt/anaconda3/lib/python3.7/site-packages/dask/dataframe/groupby.py\u001b[0m in \u001b[0;36m__getitem__\u001b[0;34m(self, key)\u001b[0m\n\u001b[1;32m   1689\u001b[0m         \u001b[0;31m# error is raised from pandas\u001b[0m\u001b[0;34m\u001b[0m\u001b[0;34m\u001b[0m\u001b[0;34m\u001b[0m\u001b[0m\n\u001b[0;32m-> 1690\u001b[0;31m         \u001b[0mg\u001b[0m\u001b[0;34m.\u001b[0m\u001b[0m_meta\u001b[0m \u001b[0;34m=\u001b[0m \u001b[0mg\u001b[0m\u001b[0;34m.\u001b[0m\u001b[0m_meta\u001b[0m\u001b[0;34m[\u001b[0m\u001b[0mkey\u001b[0m\u001b[0;34m]\u001b[0m\u001b[0;34m\u001b[0m\u001b[0;34m\u001b[0m\u001b[0m\n\u001b[0m\u001b[1;32m   1691\u001b[0m         \u001b[0;32mreturn\u001b[0m \u001b[0mg\u001b[0m\u001b[0;34m\u001b[0m\u001b[0;34m\u001b[0m\u001b[0m\n",
      "\u001b[0;32m~/opt/anaconda3/lib/python3.7/site-packages/pandas/core/groupby/generic.py\u001b[0m in \u001b[0;36m__getitem__\u001b[0;34m(self, key)\u001b[0m\n\u001b[1;32m   1537\u001b[0m             )\n\u001b[0;32m-> 1538\u001b[0;31m         \u001b[0;32mreturn\u001b[0m \u001b[0msuper\u001b[0m\u001b[0;34m(\u001b[0m\u001b[0;34m)\u001b[0m\u001b[0;34m.\u001b[0m\u001b[0m__getitem__\u001b[0m\u001b[0;34m(\u001b[0m\u001b[0mkey\u001b[0m\u001b[0;34m)\u001b[0m\u001b[0;34m\u001b[0m\u001b[0;34m\u001b[0m\u001b[0m\n\u001b[0m\u001b[1;32m   1539\u001b[0m \u001b[0;34m\u001b[0m\u001b[0m\n",
      "\u001b[0;32m~/opt/anaconda3/lib/python3.7/site-packages/pandas/core/base.py\u001b[0m in \u001b[0;36m__getitem__\u001b[0;34m(self, key)\u001b[0m\n\u001b[1;32m    231\u001b[0m             \u001b[0;32mif\u001b[0m \u001b[0mkey\u001b[0m \u001b[0;32mnot\u001b[0m \u001b[0;32min\u001b[0m \u001b[0mself\u001b[0m\u001b[0;34m.\u001b[0m\u001b[0mobj\u001b[0m\u001b[0;34m:\u001b[0m\u001b[0;34m\u001b[0m\u001b[0;34m\u001b[0m\u001b[0m\n\u001b[0;32m--> 232\u001b[0;31m                 \u001b[0;32mraise\u001b[0m \u001b[0mKeyError\u001b[0m\u001b[0;34m(\u001b[0m\u001b[0;34mf\"Column not found: {key}\"\u001b[0m\u001b[0;34m)\u001b[0m\u001b[0;34m\u001b[0m\u001b[0;34m\u001b[0m\u001b[0m\n\u001b[0m\u001b[1;32m    233\u001b[0m             \u001b[0msubset\u001b[0m \u001b[0;34m=\u001b[0m \u001b[0mself\u001b[0m\u001b[0;34m.\u001b[0m\u001b[0mobj\u001b[0m\u001b[0;34m[\u001b[0m\u001b[0mkey\u001b[0m\u001b[0;34m]\u001b[0m\u001b[0;34m\u001b[0m\u001b[0;34m\u001b[0m\u001b[0m\n",
      "\u001b[0;31mKeyError\u001b[0m: 'Column not found: percentile'",
      "\nDuring handling of the above exception, another exception occurred:\n",
      "\u001b[0;31mAttributeError\u001b[0m                            Traceback (most recent call last)",
      "\u001b[0;32m<ipython-input-175-6a52640a5090>\u001b[0m in \u001b[0;36m<module>\u001b[0;34m\u001b[0m\n\u001b[0;32m----> 1\u001b[0;31m \u001b[0mweatherData\u001b[0m\u001b[0;34m.\u001b[0m\u001b[0mgroupby\u001b[0m\u001b[0;34m(\u001b[0m\u001b[0;34m[\u001b[0m\u001b[0;34m'ZIP'\u001b[0m\u001b[0;34m,\u001b[0m\u001b[0;34m'quarter'\u001b[0m\u001b[0;34m]\u001b[0m\u001b[0;34m)\u001b[0m\u001b[0;34m.\u001b[0m\u001b[0mpercentile\u001b[0m\u001b[0;34m(\u001b[0m\u001b[0;34m[\u001b[0m\u001b[0;36m0.5\u001b[0m\u001b[0;34m]\u001b[0m\u001b[0;34m)\u001b[0m\u001b[0;34m\u001b[0m\u001b[0;34m\u001b[0m\u001b[0m\n\u001b[0m",
      "\u001b[0;32m~/opt/anaconda3/lib/python3.7/site-packages/dask/dataframe/groupby.py\u001b[0m in \u001b[0;36m__getattr__\u001b[0;34m(self, key)\u001b[0m\n\u001b[1;32m   1704\u001b[0m             \u001b[0;32mreturn\u001b[0m \u001b[0mself\u001b[0m\u001b[0;34m[\u001b[0m\u001b[0mkey\u001b[0m\u001b[0;34m]\u001b[0m\u001b[0;34m\u001b[0m\u001b[0;34m\u001b[0m\u001b[0m\n\u001b[1;32m   1705\u001b[0m         \u001b[0;32mexcept\u001b[0m \u001b[0mKeyError\u001b[0m \u001b[0;32mas\u001b[0m \u001b[0me\u001b[0m\u001b[0;34m:\u001b[0m\u001b[0;34m\u001b[0m\u001b[0;34m\u001b[0m\u001b[0m\n\u001b[0;32m-> 1706\u001b[0;31m             \u001b[0;32mraise\u001b[0m \u001b[0mAttributeError\u001b[0m\u001b[0;34m(\u001b[0m\u001b[0me\u001b[0m\u001b[0;34m)\u001b[0m\u001b[0;34m\u001b[0m\u001b[0;34m\u001b[0m\u001b[0m\n\u001b[0m\u001b[1;32m   1707\u001b[0m \u001b[0;34m\u001b[0m\u001b[0m\n\u001b[1;32m   1708\u001b[0m     \u001b[0;34m@\u001b[0m\u001b[0mderived_from\u001b[0m\u001b[0;34m(\u001b[0m\u001b[0mpd\u001b[0m\u001b[0;34m.\u001b[0m\u001b[0mcore\u001b[0m\u001b[0;34m.\u001b[0m\u001b[0mgroupby\u001b[0m\u001b[0;34m.\u001b[0m\u001b[0mDataFrameGroupBy\u001b[0m\u001b[0;34m)\u001b[0m\u001b[0;34m\u001b[0m\u001b[0;34m\u001b[0m\u001b[0m\n",
      "\u001b[0;31mAttributeError\u001b[0m: 'Column not found: percentile'"
     ]
    }
   ],
   "source": [
    "weatherData.groupby(['ZIP','quarter']).percentile([0.5])"
   ]
  },
  {
   "cell_type": "code",
   "execution_count": 96,
   "metadata": {},
   "outputs": [
    {
     "name": "stdout",
     "output_type": "stream",
     "text": [
      "          ZIP  quarter  quarterly_var_temp  quarterly_var_precip\n",
      "0        1001        1           42.033604             52.755125\n",
      "1        1002        1           41.171977             56.631223\n",
      "2        1003        1           41.356117             56.334398\n",
      "3        1005        1           41.334653             52.233328\n",
      "4        1007        1           41.264102             57.015382\n",
      "...       ...      ...                 ...                   ...\n",
      "130619  99363        4           60.124202             67.076533\n",
      "130620  99371        4           63.550457             64.528976\n",
      "130621  99401        4           52.100346             78.005397\n",
      "130622  99402        4           49.997708             75.491973\n",
      "130623  99403        4           52.217880             69.550950\n",
      "\n",
      "[130624 rows x 4 columns]           ZIP  quarter  quarterly_avg_temp  quarterly_avg_precip\n",
      "0        1001        1            4.253855              2.372867\n",
      "1        1002        1            2.991732              2.418594\n",
      "2        1003        1            3.906219              2.519859\n",
      "3        1005        1            2.107410              2.463722\n",
      "4        1007        1            3.398788              2.501641\n",
      "...       ...      ...                 ...                   ...\n",
      "130619  99363        4           10.325268              2.932007\n",
      "130620  99371        4            9.544321              2.942717\n",
      "130621  99401        4            7.675624              2.926695\n",
      "130622  99402        4            8.183052              2.885631\n",
      "130623  99403        4            9.414129              3.008188\n",
      "\n",
      "[130624 rows x 4 columns]\n"
     ]
    }
   ],
   "source": [
    "quarterlyAvgByZip = weatherData.groupby(['ZIP','quarter']).mean().compute(workers = 100).\\\n",
    "    reset_index()[['ZIP','quarter','temperature','precipitation']].rename(columns = {'temperature': 'quarterly_avg_temp',\n",
    "                                                                              'precipitation': 'quarterly_avg_precip'})\n",
    "\n",
    "\n",
    "quarterlyVarByZip = weatherData.groupby(['ZIP','quarter']).var().compute(workers = 100).\\\n",
    "    reset_index()[['ZIP','quarter','temperature','precipitation']].rename(columns = {'temperature': 'quarterly_var_temp',\n",
    "                                                                              'precipitation': 'quarterly_var_precip'})\n",
    "print(quarterlyVarByZip,quarterlyAvgByZip)\n",
    "\n",
    "\n",
    "quarterlyStatsByZip = quarterlyAvgByZip.merge(quarterlyVarByZip)"
   ]
  },
  {
   "cell_type": "code",
   "execution_count": 97,
   "metadata": {},
   "outputs": [],
   "source": [
    "quarterlyStatsOverall.to_csv(\"../../data/companyData/quarterlyStatsOverall_allZips.csv\")\n",
    "quarterlyStatsByZip.to_csv(\"../../data/companyData/quarterlyStatsByZip_allZips.csv\")"
   ]
  },
  {
   "cell_type": "code",
   "execution_count": 98,
   "metadata": {},
   "outputs": [
    {
     "data": {
      "text/html": [
       "<div>\n",
       "<style scoped>\n",
       "    .dataframe tbody tr th:only-of-type {\n",
       "        vertical-align: middle;\n",
       "    }\n",
       "\n",
       "    .dataframe tbody tr th {\n",
       "        vertical-align: top;\n",
       "    }\n",
       "\n",
       "    .dataframe thead th {\n",
       "        text-align: right;\n",
       "    }\n",
       "</style>\n",
       "<table border=\"1\" class=\"dataframe\">\n",
       "  <thead>\n",
       "    <tr style=\"text-align: right;\">\n",
       "      <th></th>\n",
       "      <th>ZIP</th>\n",
       "      <th>quarter</th>\n",
       "      <th>quarterly_avg_temp</th>\n",
       "      <th>quarterly_avg_precip</th>\n",
       "      <th>quarterly_var_temp</th>\n",
       "      <th>quarterly_var_precip</th>\n",
       "    </tr>\n",
       "  </thead>\n",
       "  <tbody>\n",
       "    <tr>\n",
       "      <th>0</th>\n",
       "      <td>1001</td>\n",
       "      <td>1</td>\n",
       "      <td>4.253855</td>\n",
       "      <td>2.372867</td>\n",
       "      <td>42.033604</td>\n",
       "      <td>52.755125</td>\n",
       "    </tr>\n",
       "    <tr>\n",
       "      <th>1</th>\n",
       "      <td>1002</td>\n",
       "      <td>1</td>\n",
       "      <td>2.991732</td>\n",
       "      <td>2.418594</td>\n",
       "      <td>41.171977</td>\n",
       "      <td>56.631223</td>\n",
       "    </tr>\n",
       "    <tr>\n",
       "      <th>2</th>\n",
       "      <td>1003</td>\n",
       "      <td>1</td>\n",
       "      <td>3.906219</td>\n",
       "      <td>2.519859</td>\n",
       "      <td>41.356117</td>\n",
       "      <td>56.334398</td>\n",
       "    </tr>\n",
       "    <tr>\n",
       "      <th>3</th>\n",
       "      <td>1005</td>\n",
       "      <td>1</td>\n",
       "      <td>2.107410</td>\n",
       "      <td>2.463722</td>\n",
       "      <td>41.334653</td>\n",
       "      <td>52.233328</td>\n",
       "    </tr>\n",
       "    <tr>\n",
       "      <th>4</th>\n",
       "      <td>1007</td>\n",
       "      <td>1</td>\n",
       "      <td>3.398788</td>\n",
       "      <td>2.501641</td>\n",
       "      <td>41.264102</td>\n",
       "      <td>57.015382</td>\n",
       "    </tr>\n",
       "  </tbody>\n",
       "</table>\n",
       "</div>"
      ],
      "text/plain": [
       "    ZIP  quarter  quarterly_avg_temp  quarterly_avg_precip  \\\n",
       "0  1001        1            4.253855              2.372867   \n",
       "1  1002        1            2.991732              2.418594   \n",
       "2  1003        1            3.906219              2.519859   \n",
       "3  1005        1            2.107410              2.463722   \n",
       "4  1007        1            3.398788              2.501641   \n",
       "\n",
       "   quarterly_var_temp  quarterly_var_precip  \n",
       "0           42.033604             52.755125  \n",
       "1           41.171977             56.631223  \n",
       "2           41.356117             56.334398  \n",
       "3           41.334653             52.233328  \n",
       "4           41.264102             57.015382  "
      ]
     },
     "execution_count": 98,
     "metadata": {},
     "output_type": "execute_result"
    }
   ],
   "source": [
    "quarterlyStatsByZip.head()"
   ]
  },
  {
   "cell_type": "code",
   "execution_count": null,
   "metadata": {},
   "outputs": [],
   "source": [
    "del quarterlyStatsByZip\n",
    "gc.collect()"
   ]
  },
  {
   "cell_type": "markdown",
   "metadata": {},
   "source": [
    "### Find Quartiles"
   ]
  },
  {
   "cell_type": "code",
   "execution_count": 112,
   "metadata": {},
   "outputs": [],
   "source": [
    "def getPivotQuantsOverall(weatherType,weatherData):\n",
    "\n",
    "    quants_overall  =  weatherData[weatherType].quantile(q = quantiles).reset_index().\\\n",
    "        rename(columns = {'index': 'quartile'}).compute(workers = 100)    \n",
    "    \n",
    "    quants_overall['quartile'] = 'q_' + quants_overall['quartile'].astype(str).str.slice(0,6)\n",
    "    quants_overall = quants_overall.iloc[:,1:].values.flatten().tolist()\n",
    "\n",
    "    return(quants_overall)"
   ]
  },
  {
   "cell_type": "code",
   "execution_count": 126,
   "metadata": {},
   "outputs": [
    {
     "data": {
      "text/html": [
       "<div>\n",
       "<style scoped>\n",
       "    .dataframe tbody tr th:only-of-type {\n",
       "        vertical-align: middle;\n",
       "    }\n",
       "\n",
       "    .dataframe tbody tr th {\n",
       "        vertical-align: top;\n",
       "    }\n",
       "\n",
       "    .dataframe thead th {\n",
       "        text-align: right;\n",
       "    }\n",
       "</style>\n",
       "<table border=\"1\" class=\"dataframe\">\n",
       "  <thead>\n",
       "    <tr style=\"text-align: right;\">\n",
       "      <th></th>\n",
       "      <th>ZIP</th>\n",
       "      <th>date</th>\n",
       "      <th>temperature</th>\n",
       "      <th>quarter</th>\n",
       "      <th>precipitation</th>\n",
       "    </tr>\n",
       "  </thead>\n",
       "  <tbody>\n",
       "    <tr>\n",
       "      <th>0</th>\n",
       "      <td>1001</td>\n",
       "      <td>19810101.0</td>\n",
       "      <td>-5.148</td>\n",
       "      <td>1</td>\n",
       "      <td>0.0</td>\n",
       "    </tr>\n",
       "    <tr>\n",
       "      <th>1</th>\n",
       "      <td>1002</td>\n",
       "      <td>19810101.0</td>\n",
       "      <td>-5.678</td>\n",
       "      <td>1</td>\n",
       "      <td>0.0</td>\n",
       "    </tr>\n",
       "    <tr>\n",
       "      <th>2</th>\n",
       "      <td>1003</td>\n",
       "      <td>19810101.0</td>\n",
       "      <td>-5.460</td>\n",
       "      <td>1</td>\n",
       "      <td>0.0</td>\n",
       "    </tr>\n",
       "    <tr>\n",
       "      <th>3</th>\n",
       "      <td>1005</td>\n",
       "      <td>19810101.0</td>\n",
       "      <td>-6.078</td>\n",
       "      <td>1</td>\n",
       "      <td>0.0</td>\n",
       "    </tr>\n",
       "    <tr>\n",
       "      <th>4</th>\n",
       "      <td>1007</td>\n",
       "      <td>19810101.0</td>\n",
       "      <td>-5.815</td>\n",
       "      <td>1</td>\n",
       "      <td>0.0</td>\n",
       "    </tr>\n",
       "  </tbody>\n",
       "</table>\n",
       "</div>"
      ],
      "text/plain": [
       "    ZIP        date  temperature  quarter  precipitation\n",
       "0  1001  19810101.0       -5.148        1            0.0\n",
       "1  1002  19810101.0       -5.678        1            0.0\n",
       "2  1003  19810101.0       -5.460        1            0.0\n",
       "3  1005  19810101.0       -6.078        1            0.0\n",
       "4  1007  19810101.0       -5.815        1            0.0"
      ]
     },
     "execution_count": 126,
     "metadata": {},
     "output_type": "execute_result"
    }
   ],
   "source": [
    "weatherData.head()"
   ]
  },
  {
   "cell_type": "code",
   "execution_count": 157,
   "metadata": {},
   "outputs": [
    {
     "data": {
      "text/plain": [
       "['quant_0.05',\n",
       " 'quant_tossThisOne',\n",
       " 'quant_0.95',\n",
       " 'quant_1x5Qtrs',\n",
       " 'quant_1x5Yrs']"
      ]
     },
     "execution_count": 157,
     "metadata": {},
     "output_type": "execute_result"
    }
   ],
   "source": [
    "quantiles\n",
    "quant_labels"
   ]
  },
  {
   "cell_type": "code",
   "execution_count": 197,
   "metadata": {},
   "outputs": [
    {
     "data": {
      "text/plain": [
       "0         -5.148\n",
       "1         -5.678\n",
       "2         -5.460\n",
       "3         -6.078\n",
       "4         -5.815\n",
       "           ...  \n",
       "1045933    6.954\n",
       "1045934    3.349\n",
       "1045935    1.645\n",
       "1045936    2.105\n",
       "1045937    3.796\n",
       "Name: temperature, Length: 333972912, dtype: float64"
      ]
     },
     "execution_count": 197,
     "metadata": {},
     "output_type": "execute_result"
    }
   ],
   "source": [
    "weatherFull.temperature"
   ]
  },
  {
   "cell_type": "code",
   "execution_count": 196,
   "metadata": {},
   "outputs": [
    {
     "name": "stdout",
     "output_type": "stream",
     "text": [
      "    ZIP        date  temperature  quarter  precipitation\n",
      "0  1001  19810101.0       -5.148        1            0.0\n",
      "1  1002  19810101.0       -5.678        1            0.0\n",
      "2  1003  19810101.0       -5.460        1            0.0\n",
      "3  1005  19810101.0       -6.078        1            0.0\n",
      "4  1007  19810101.0       -5.815        1            0.0\n"
     ]
    }
   ],
   "source": [
    "weatherFull = weatherData.compute()\n",
    "print(weatherFull.head())"
   ]
  },
  {
   "cell_type": "code",
   "execution_count": 203,
   "metadata": {},
   "outputs": [],
   "source": [
    "def getPivotQuants(weatherType, identifiers,weatherData):\n",
    "    start2 = time.time()\n",
    "    quants_overallByZip   = weatherData.groupby(identifiers)[weatherType].quantile(q = quantiles).reset_index().\\\n",
    "        rename(columns=lambda x: re.sub('level_[0-9]$','quartile',x))\n",
    "    # rename(columns = {'level_1': 'quartile'})\n",
    "    # print(quants_overallByZip.head())\n",
    "    \n",
    "    print(\"got grouped\")\n",
    "    print(time.time() - start2)\n",
    "    quants_overallByZip['quartile'] = 'q_' + quants_overallByZip['quartile'].astype(str).str.slice(0,6)\n",
    "\n",
    "    ## \n",
    "\n",
    "    pivot_quants_overallByZip = quants_overallByZip.pivot(index=identifiers, \n",
    "            columns='quartile', values=str(weatherType)).reset_index().\\\n",
    "            rename_axis(None, axis=1)\n",
    "\n",
    "    pivot_quants_overallByZip['quartileList']      = pivot_quants_overallByZip.iloc[:,len(identifiers):].values.tolist()\n",
    "    pivot_quants_overallByZip['quartileLabelList'] = [list(pivot_quants_overallByZip.columns[2:-1])] * \\\n",
    "                                                                    pivot_quants_overallByZip.shape[0]\n",
    "\n",
    "    pivot_quants_overallByZip = pivot_quants_overallByZip[pivot_quants_overallByZip.\\\n",
    "                                                            columns.drop(list(pivot_quants_overallByZip.filter(regex='q_')))]\n",
    "    print(time.time() - start2)\n",
    "    # pivot_quants_overallByZip.head()\n",
    "\n",
    "    return(pivot_quants_overallByZip)"
   ]
  },
  {
   "cell_type": "markdown",
   "metadata": {},
   "source": [
    "Now get all the quartile data:\n",
    "    - Overall\n",
    "    - By zip\n",
    "    - Quarterly by zip"
   ]
  },
  {
   "cell_type": "code",
   "execution_count": 176,
   "metadata": {},
   "outputs": [
    {
     "data": {
      "text/plain": [
       "\"temp5DaysQuants   = getPivotQuantsOverall('temp5Days',weatherData)\\nprecip5DaysQuants = getPivotQuantsOverall('precip5Days',weatherData)\""
      ]
     },
     "execution_count": 176,
     "metadata": {},
     "output_type": "execute_result"
    }
   ],
   "source": [
    "###################\n",
    "# OVERALL\n",
    "tempQuants   = getPivotQuantsOverall('temperature',weatherData)\n",
    "precipQuants = getPivotQuantsOverall('precipitation',weatherData)\n",
    "\n",
    "'''temp5DaysQuants   = getPivotQuantsOverall('temp5Days',weatherData)\n",
    "precip5DaysQuants = getPivotQuantsOverall('precip5Days',weatherData)'''\n"
   ]
  },
  {
   "cell_type": "code",
   "execution_count": 204,
   "metadata": {},
   "outputs": [
    {
     "name": "stdout",
     "output_type": "stream",
     "text": [
      "got grouped\n",
      "631.7389612197876\n",
      "632.0849342346191\n",
      "done with temperature\n",
      "632.2959599494934\n",
      "got grouped\n",
      "292.7123990058899\n",
      "292.93355894088745\n",
      "done with precipitation\n",
      "925.3941698074341\n"
     ]
    }
   ],
   "source": [
    "####################\n",
    "# BY ZIP\n",
    "start = time.time()\n",
    "\n",
    "\n",
    "pivot_temperatureQuants_zip = getPivotQuants('temperature',['ZIP'],weatherFull).\\\n",
    "    drop(columns = {'quartileLabelList'})\n",
    "pivot_temperatureQuants_zip.rename(columns = {'quartileList':     'quartileListTemperature_zip'},\n",
    "                                      inplace = True)\n",
    "\n",
    "pivot_temperatureQuants_zip.to_csv('../../data/companyData/pivot_temperatureQuants_zip.csv')\n",
    "\n",
    "print(\"done with temperature\")\n",
    "print(time.time() - start)\n",
    "\n",
    "\n",
    "\n",
    "pivot_precipitationQuants_zip = getPivotQuants('precipitation',['ZIP'],weatherFull).\\\n",
    "    drop(columns = {'quartileLabelList'})\n",
    "pivot_precipitationQuants_zip.rename(columns = {'quartileList':     'quartileListPrecipitation_zip'},\n",
    "                                      inplace = True)\n",
    "\n",
    "pivot_precipitationQuants_zip.to_csv('../../data/companyData/pivot_precipitationQuants_zip.csv')\n",
    "\n",
    "print(\"done with precipitation\")\n",
    "print(time.time() - start)\n",
    "\n",
    "quants_zip = pivot_temperatureQuants_zip.merge(pivot_precipitationQuants_zip)\n",
    "quants_zip.to_csv('../../data/companyData/quants_zip.csv')\n"
   ]
  },
  {
   "cell_type": "code",
   "execution_count": 205,
   "metadata": {},
   "outputs": [
    {
     "name": "stdout",
     "output_type": "stream",
     "text": [
      "got grouped\n",
      "648.972855091095\n",
      "649.9847962856293\n",
      "done with temperature\n",
      "650.8118278980255\n",
      "got grouped\n",
      "312.0215871334076\n",
      "312.9980471134186\n",
      "done with precipitation\n",
      "964.4727628231049\n"
     ]
    }
   ],
   "source": [
    "##########################################\n",
    "# BY ZIP-QUARTER\n",
    "start = time.time()\n",
    "pivot_temperatureQuants_quarterlyByZip = getPivotQuants('temperature',['ZIP','quarter'],weatherFull).\\\n",
    "    drop(columns = {'quartileLabelList'})\n",
    "pivot_temperatureQuants_quarterlyByZip.rename(columns = {'quartileList':     'quartileListTemperature_quarterlyByZip'},\n",
    "                                      inplace = True)\n",
    "pivot_temperatureQuants_quarterlyByZip.to_csv('../../data/companyData/pivot_temperatureQuants_quarterlyByZip.csv')\n",
    "\n",
    "print(\"done with temperature\")\n",
    "print(time.time() - start)\n",
    "\n",
    "pivot_precipitationQuants_quarterlyByZip = getPivotQuants('precipitation',['ZIP','quarter'],weatherFull).\\\n",
    "    drop(columns = {'quartileLabelList'})\n",
    "pivot_precipitationQuants_quarterlyByZip.rename(columns = {'quartileList':     'quartileListPrecipitation_quarterlyByZip'},\n",
    "                                      inplace = True)\n",
    "pivot_precipitationQuants_quarterlyByZip.to_csv('../../data/companyData/pivot_precipitationQuants_quarterlyByZip.csv')\n",
    "\n",
    "\n",
    "print(\"done with precipitation\")\n",
    "print(time.time() - start)\n",
    "\n",
    "quants_quarterlyByZip = pivot_temperatureQuants_quarterlyByZip.merge(pivot_precipitationQuants_quarterlyByZip)\n",
    "quants_quarterlyByZip.to_csv('../../data/companyData/quants_quarterlyByZip.csv')\n",
    "\n"
   ]
  },
  {
   "cell_type": "markdown",
   "metadata": {},
   "source": [
    "Construct a record of all the relevant quantiles by combining all of the above. Rough idea is:\n",
    "    - Start with the zip-quarter data\n",
    "    - Merge in the less-specific quarter information\n",
    "    - For each row, put in the overall quartile information for each row"
   ]
  },
  {
   "cell_type": "code",
   "execution_count": 206,
   "metadata": {},
   "outputs": [
    {
     "data": {
      "text/html": [
       "<div>\n",
       "<style scoped>\n",
       "    .dataframe tbody tr th:only-of-type {\n",
       "        vertical-align: middle;\n",
       "    }\n",
       "\n",
       "    .dataframe tbody tr th {\n",
       "        vertical-align: top;\n",
       "    }\n",
       "\n",
       "    .dataframe thead th {\n",
       "        text-align: right;\n",
       "    }\n",
       "</style>\n",
       "<table border=\"1\" class=\"dataframe\">\n",
       "  <thead>\n",
       "    <tr style=\"text-align: right;\">\n",
       "      <th></th>\n",
       "      <th>ZIP</th>\n",
       "      <th>quarter</th>\n",
       "      <th>quartileListTemperature_quarterlyByZip</th>\n",
       "      <th>quartileListPrecipitation_quarterlyByZip</th>\n",
       "      <th>quartileListTemperature_zip</th>\n",
       "      <th>quartileListPrecipitation_zip</th>\n",
       "      <th>precipitationQuants</th>\n",
       "      <th>temperatureQuants</th>\n",
       "    </tr>\n",
       "  </thead>\n",
       "  <tbody>\n",
       "    <tr>\n",
       "      <th>0</th>\n",
       "      <td>1001</td>\n",
       "      <td>1</td>\n",
       "      <td>[-16.4400005340576, -6.171400165557857, 12.670...</td>\n",
       "      <td>[0.0, 0.0, 7.123299980163575, 13.6725496292113...</td>\n",
       "      <td>[-16.4400005340576, -1.892299997806547, 29.442...</td>\n",
       "      <td>[0.0, 0.0, 8.764499855041514, 15.7616001129149...</td>\n",
       "      <td>[0.0, 0.0, 12.9139995574951, 28.25805445671174...</td>\n",
       "      <td>[-38.8950004577637, 16.3610000610352, 35.25099...</td>\n",
       "    </tr>\n",
       "    <tr>\n",
       "      <th>1</th>\n",
       "      <td>1001</td>\n",
       "      <td>2</td>\n",
       "      <td>[-4.23000001907349, 8.991749811172483, 29.6447...</td>\n",
       "      <td>[0.0, 0.0, 8.873199844360355, 15.4460996627807...</td>\n",
       "      <td>[-16.4400005340576, -1.892299997806547, 29.442...</td>\n",
       "      <td>[0.0, 0.0, 8.764499855041514, 15.7616001129149...</td>\n",
       "      <td>[0.0, 0.0, 12.9139995574951, 28.25805445671174...</td>\n",
       "      <td>[-38.8950004577637, 16.3610000610352, 35.25099...</td>\n",
       "    </tr>\n",
       "    <tr>\n",
       "      <th>2</th>\n",
       "      <td>1001</td>\n",
       "      <td>3</td>\n",
       "      <td>[10.0860004425049, 18.485250473022475, 32.1564...</td>\n",
       "      <td>[0.0, 0.0, 9.89400005340576, 17.36649990081785...</td>\n",
       "      <td>[-16.4400005340576, -1.892299997806547, 29.442...</td>\n",
       "      <td>[0.0, 0.0, 8.764499855041514, 15.7616001129149...</td>\n",
       "      <td>[0.0, 0.0, 12.9139995574951, 28.25805445671174...</td>\n",
       "      <td>[-38.8950004577637, 16.3610000610352, 35.25099...</td>\n",
       "    </tr>\n",
       "    <tr>\n",
       "      <th>3</th>\n",
       "      <td>1001</td>\n",
       "      <td>4</td>\n",
       "      <td>[-13.2650003433228, -1.171749949455265, 20.800...</td>\n",
       "      <td>[0.0, 0.0, 8.884600067138667, 16.7939498901366...</td>\n",
       "      <td>[-16.4400005340576, -1.892299997806547, 29.442...</td>\n",
       "      <td>[0.0, 0.0, 8.764499855041514, 15.7616001129149...</td>\n",
       "      <td>[0.0, 0.0, 12.9139995574951, 28.25805445671174...</td>\n",
       "      <td>[-38.8950004577637, 16.3610000610352, 35.25099...</td>\n",
       "    </tr>\n",
       "    <tr>\n",
       "      <th>4</th>\n",
       "      <td>1002</td>\n",
       "      <td>1</td>\n",
       "      <td>[-18.0459995269775, -7.398400068283082, 11.230...</td>\n",
       "      <td>[0.0, 0.0, 6.826399946212764, 14.2662997722625...</td>\n",
       "      <td>[-18.0459995269775, -3.088499951362608, 28.561...</td>\n",
       "      <td>[0.0, 0.0, 8.711199951171883, 16.0927503585815...</td>\n",
       "      <td>[0.0, 0.0, 12.9139995574951, 28.25805445671174...</td>\n",
       "      <td>[-38.8950004577637, 16.3610000610352, 35.25099...</td>\n",
       "    </tr>\n",
       "  </tbody>\n",
       "</table>\n",
       "</div>"
      ],
      "text/plain": [
       "    ZIP  quarter             quartileListTemperature_quarterlyByZip  \\\n",
       "0  1001        1  [-16.4400005340576, -6.171400165557857, 12.670...   \n",
       "1  1001        2  [-4.23000001907349, 8.991749811172483, 29.6447...   \n",
       "2  1001        3  [10.0860004425049, 18.485250473022475, 32.1564...   \n",
       "3  1001        4  [-13.2650003433228, -1.171749949455265, 20.800...   \n",
       "4  1002        1  [-18.0459995269775, -7.398400068283082, 11.230...   \n",
       "\n",
       "            quartileListPrecipitation_quarterlyByZip  \\\n",
       "0  [0.0, 0.0, 7.123299980163575, 13.6725496292113...   \n",
       "1  [0.0, 0.0, 8.873199844360355, 15.4460996627807...   \n",
       "2  [0.0, 0.0, 9.89400005340576, 17.36649990081785...   \n",
       "3  [0.0, 0.0, 8.884600067138667, 16.7939498901366...   \n",
       "4  [0.0, 0.0, 6.826399946212764, 14.2662997722625...   \n",
       "\n",
       "                         quartileListTemperature_zip  \\\n",
       "0  [-16.4400005340576, -1.892299997806547, 29.442...   \n",
       "1  [-16.4400005340576, -1.892299997806547, 29.442...   \n",
       "2  [-16.4400005340576, -1.892299997806547, 29.442...   \n",
       "3  [-16.4400005340576, -1.892299997806547, 29.442...   \n",
       "4  [-18.0459995269775, -3.088499951362608, 28.561...   \n",
       "\n",
       "                       quartileListPrecipitation_zip  \\\n",
       "0  [0.0, 0.0, 8.764499855041514, 15.7616001129149...   \n",
       "1  [0.0, 0.0, 8.764499855041514, 15.7616001129149...   \n",
       "2  [0.0, 0.0, 8.764499855041514, 15.7616001129149...   \n",
       "3  [0.0, 0.0, 8.764499855041514, 15.7616001129149...   \n",
       "4  [0.0, 0.0, 8.711199951171883, 16.0927503585815...   \n",
       "\n",
       "                                 precipitationQuants  \\\n",
       "0  [0.0, 0.0, 12.9139995574951, 28.25805445671174...   \n",
       "1  [0.0, 0.0, 12.9139995574951, 28.25805445671174...   \n",
       "2  [0.0, 0.0, 12.9139995574951, 28.25805445671174...   \n",
       "3  [0.0, 0.0, 12.9139995574951, 28.25805445671174...   \n",
       "4  [0.0, 0.0, 12.9139995574951, 28.25805445671174...   \n",
       "\n",
       "                                   temperatureQuants  \n",
       "0  [-38.8950004577637, 16.3610000610352, 35.25099...  \n",
       "1  [-38.8950004577637, 16.3610000610352, 35.25099...  \n",
       "2  [-38.8950004577637, 16.3610000610352, 35.25099...  \n",
       "3  [-38.8950004577637, 16.3610000610352, 35.25099...  \n",
       "4  [-38.8950004577637, 16.3610000610352, 35.25099...  "
      ]
     },
     "execution_count": 206,
     "metadata": {},
     "output_type": "execute_result"
    }
   ],
   "source": [
    "quantsAll                 = quants_quarterlyByZip.merge(quants_zip)\n",
    "\n",
    "\n",
    "\n",
    "quantsAll['precipitationQuants'] = [precipQuants for i in quantsAll.index]\n",
    "quantsAll['temperatureQuants']   = [tempQuants   for i in quantsAll.index]\n",
    "\n",
    "\n",
    "\n",
    "quantsAll.head()"
   ]
  },
  {
   "cell_type": "code",
   "execution_count": 207,
   "metadata": {},
   "outputs": [],
   "source": [
    "# relevantZips = allCustomerData.zipcode.append(allSupplierData.zipcode).unique()\n",
    "outfile =  '../../data/companyData/quantsAll_allZips.pkl'\n",
    "with open(outfile, 'wb') as pickle_file:\n",
    "    pkl.dump(quantsAll, pickle_file)"
   ]
  },
  {
   "cell_type": "code",
   "execution_count": 208,
   "metadata": {},
   "outputs": [
    {
     "data": {
      "text/plain": [
       "60"
      ]
     },
     "execution_count": 208,
     "metadata": {},
     "output_type": "execute_result"
    }
   ],
   "source": [
    "del weatherData\n",
    "gc.collect()"
   ]
  },
  {
   "cell_type": "markdown",
   "metadata": {},
   "source": [
    "# Conversion\n",
    "### Convert 2009-2018 data into quartiles"
   ]
  },
  {
   "cell_type": "code",
   "execution_count": 9,
   "metadata": {},
   "outputs": [],
   "source": [
    "file = open('../../data/companyData/quantsAll_allZips.pkl','rb')\n",
    "quantsAll = pkl.load(file)"
   ]
  },
  {
   "cell_type": "code",
   "execution_count": 4,
   "metadata": {},
   "outputs": [],
   "source": [
    "recentDecadeTmax   = getData(\"Tmax\",2009,2019).compute()\n",
    "recentDecadePrecip = getData(\"Precip\",2009,2019).compute()"
   ]
  },
  {
   "cell_type": "code",
   "execution_count": 5,
   "metadata": {},
   "outputs": [
    {
     "data": {
      "text/html": [
       "<div>\n",
       "<style scoped>\n",
       "    .dataframe tbody tr th:only-of-type {\n",
       "        vertical-align: middle;\n",
       "    }\n",
       "\n",
       "    .dataframe tbody tr th {\n",
       "        vertical-align: top;\n",
       "    }\n",
       "\n",
       "    .dataframe thead th {\n",
       "        text-align: right;\n",
       "    }\n",
       "</style>\n",
       "<table border=\"1\" class=\"dataframe\">\n",
       "  <thead>\n",
       "    <tr style=\"text-align: right;\">\n",
       "      <th></th>\n",
       "      <th>ZIP</th>\n",
       "      <th>date</th>\n",
       "      <th>temperature</th>\n",
       "      <th>precipitation</th>\n",
       "    </tr>\n",
       "  </thead>\n",
       "  <tbody>\n",
       "    <tr>\n",
       "      <th>0</th>\n",
       "      <td>1001</td>\n",
       "      <td>20090101.0</td>\n",
       "      <td>-2.941</td>\n",
       "      <td>4.491</td>\n",
       "    </tr>\n",
       "    <tr>\n",
       "      <th>1</th>\n",
       "      <td>1002</td>\n",
       "      <td>20090101.0</td>\n",
       "      <td>-5.151</td>\n",
       "      <td>5.513</td>\n",
       "    </tr>\n",
       "    <tr>\n",
       "      <th>2</th>\n",
       "      <td>1003</td>\n",
       "      <td>20090101.0</td>\n",
       "      <td>-3.510</td>\n",
       "      <td>3.959</td>\n",
       "    </tr>\n",
       "    <tr>\n",
       "      <th>3</th>\n",
       "      <td>1005</td>\n",
       "      <td>20090101.0</td>\n",
       "      <td>-6.177</td>\n",
       "      <td>8.043</td>\n",
       "    </tr>\n",
       "    <tr>\n",
       "      <th>4</th>\n",
       "      <td>1007</td>\n",
       "      <td>20090101.0</td>\n",
       "      <td>-4.147</td>\n",
       "      <td>6.687</td>\n",
       "    </tr>\n",
       "  </tbody>\n",
       "</table>\n",
       "</div>"
      ],
      "text/plain": [
       "    ZIP        date  temperature  precipitation\n",
       "0  1001  20090101.0       -2.941          4.491\n",
       "1  1002  20090101.0       -5.151          5.513\n",
       "2  1003  20090101.0       -3.510          3.959\n",
       "3  1005  20090101.0       -6.177          8.043\n",
       "4  1007  20090101.0       -4.147          6.687"
      ]
     },
     "execution_count": 5,
     "metadata": {},
     "output_type": "execute_result"
    }
   ],
   "source": [
    "recentDecadeWeather = recentDecadeTmax.merge(recentDecadePrecip)\n",
    "recentDecadeWeather.head()"
   ]
  },
  {
   "cell_type": "code",
   "execution_count": 6,
   "metadata": {},
   "outputs": [
    {
     "data": {
      "text/plain": [
       "40"
      ]
     },
     "execution_count": 6,
     "metadata": {},
     "output_type": "execute_result"
    }
   ],
   "source": [
    "del recentDecadePrecip\n",
    "del recentDecadeTmax\n",
    "gc.collect()\n",
    "\n",
    "# recentDecadeWeather[recentDecadeWeather.yearQuarter == '2010q1']"
   ]
  },
  {
   "cell_type": "markdown",
   "metadata": {},
   "source": [
    "Merge the intervals into the recent weather data."
   ]
  },
  {
   "cell_type": "code",
   "execution_count": 240,
   "metadata": {},
   "outputs": [
    {
     "data": {
      "text/plain": [
       "Index(['ZIP', 'date', 'temperature', 'precipitation', 'quarter'], dtype='object')"
      ]
     },
     "execution_count": 240,
     "metadata": {},
     "output_type": "execute_result"
    }
   ],
   "source": [
    "recentDecadeWeather.columns"
   ]
  },
  {
   "cell_type": "code",
   "execution_count": 10,
   "metadata": {},
   "outputs": [
    {
     "data": {
      "text/html": [
       "<div>\n",
       "<style scoped>\n",
       "    .dataframe tbody tr th:only-of-type {\n",
       "        vertical-align: middle;\n",
       "    }\n",
       "\n",
       "    .dataframe tbody tr th {\n",
       "        vertical-align: top;\n",
       "    }\n",
       "\n",
       "    .dataframe thead th {\n",
       "        text-align: right;\n",
       "    }\n",
       "</style>\n",
       "<table border=\"1\" class=\"dataframe\">\n",
       "  <thead>\n",
       "    <tr style=\"text-align: right;\">\n",
       "      <th></th>\n",
       "      <th>ZIP</th>\n",
       "      <th>quarter</th>\n",
       "      <th>quartileListTemperature_quarterlyByZip</th>\n",
       "      <th>quartileListPrecipitation_quarterlyByZip</th>\n",
       "      <th>quartileListTemperature_zip</th>\n",
       "      <th>quartileListPrecipitation_zip</th>\n",
       "      <th>precipitationQuants</th>\n",
       "      <th>temperatureQuants</th>\n",
       "    </tr>\n",
       "  </thead>\n",
       "  <tbody>\n",
       "    <tr>\n",
       "      <th>0</th>\n",
       "      <td>1001</td>\n",
       "      <td>1</td>\n",
       "      <td>[-16.4400005340576, -6.171400165557857, 12.670...</td>\n",
       "      <td>[0.0, 0.0, 7.123299980163575, 13.6725496292113...</td>\n",
       "      <td>[-16.4400005340576, -1.892299997806547, 29.442...</td>\n",
       "      <td>[0.0, 0.0, 8.764499855041514, 15.7616001129149...</td>\n",
       "      <td>[0.0, 0.0, 12.9139995574951, 28.25805445671174...</td>\n",
       "      <td>[-38.8950004577637, 16.3610000610352, 35.25099...</td>\n",
       "    </tr>\n",
       "    <tr>\n",
       "      <th>1</th>\n",
       "      <td>1001</td>\n",
       "      <td>2</td>\n",
       "      <td>[-4.23000001907349, 8.991749811172483, 29.6447...</td>\n",
       "      <td>[0.0, 0.0, 8.873199844360355, 15.4460996627807...</td>\n",
       "      <td>[-16.4400005340576, -1.892299997806547, 29.442...</td>\n",
       "      <td>[0.0, 0.0, 8.764499855041514, 15.7616001129149...</td>\n",
       "      <td>[0.0, 0.0, 12.9139995574951, 28.25805445671174...</td>\n",
       "      <td>[-38.8950004577637, 16.3610000610352, 35.25099...</td>\n",
       "    </tr>\n",
       "    <tr>\n",
       "      <th>2</th>\n",
       "      <td>1001</td>\n",
       "      <td>3</td>\n",
       "      <td>[10.0860004425049, 18.485250473022475, 32.1564...</td>\n",
       "      <td>[0.0, 0.0, 9.89400005340576, 17.36649990081785...</td>\n",
       "      <td>[-16.4400005340576, -1.892299997806547, 29.442...</td>\n",
       "      <td>[0.0, 0.0, 8.764499855041514, 15.7616001129149...</td>\n",
       "      <td>[0.0, 0.0, 12.9139995574951, 28.25805445671174...</td>\n",
       "      <td>[-38.8950004577637, 16.3610000610352, 35.25099...</td>\n",
       "    </tr>\n",
       "    <tr>\n",
       "      <th>3</th>\n",
       "      <td>1001</td>\n",
       "      <td>4</td>\n",
       "      <td>[-13.2650003433228, -1.171749949455265, 20.800...</td>\n",
       "      <td>[0.0, 0.0, 8.884600067138667, 16.7939498901366...</td>\n",
       "      <td>[-16.4400005340576, -1.892299997806547, 29.442...</td>\n",
       "      <td>[0.0, 0.0, 8.764499855041514, 15.7616001129149...</td>\n",
       "      <td>[0.0, 0.0, 12.9139995574951, 28.25805445671174...</td>\n",
       "      <td>[-38.8950004577637, 16.3610000610352, 35.25099...</td>\n",
       "    </tr>\n",
       "    <tr>\n",
       "      <th>4</th>\n",
       "      <td>1002</td>\n",
       "      <td>1</td>\n",
       "      <td>[-18.0459995269775, -7.398400068283082, 11.230...</td>\n",
       "      <td>[0.0, 0.0, 6.826399946212764, 14.2662997722625...</td>\n",
       "      <td>[-18.0459995269775, -3.088499951362608, 28.561...</td>\n",
       "      <td>[0.0, 0.0, 8.711199951171883, 16.0927503585815...</td>\n",
       "      <td>[0.0, 0.0, 12.9139995574951, 28.25805445671174...</td>\n",
       "      <td>[-38.8950004577637, 16.3610000610352, 35.25099...</td>\n",
       "    </tr>\n",
       "  </tbody>\n",
       "</table>\n",
       "</div>"
      ],
      "text/plain": [
       "    ZIP  quarter             quartileListTemperature_quarterlyByZip  \\\n",
       "0  1001        1  [-16.4400005340576, -6.171400165557857, 12.670...   \n",
       "1  1001        2  [-4.23000001907349, 8.991749811172483, 29.6447...   \n",
       "2  1001        3  [10.0860004425049, 18.485250473022475, 32.1564...   \n",
       "3  1001        4  [-13.2650003433228, -1.171749949455265, 20.800...   \n",
       "4  1002        1  [-18.0459995269775, -7.398400068283082, 11.230...   \n",
       "\n",
       "            quartileListPrecipitation_quarterlyByZip  \\\n",
       "0  [0.0, 0.0, 7.123299980163575, 13.6725496292113...   \n",
       "1  [0.0, 0.0, 8.873199844360355, 15.4460996627807...   \n",
       "2  [0.0, 0.0, 9.89400005340576, 17.36649990081785...   \n",
       "3  [0.0, 0.0, 8.884600067138667, 16.7939498901366...   \n",
       "4  [0.0, 0.0, 6.826399946212764, 14.2662997722625...   \n",
       "\n",
       "                         quartileListTemperature_zip  \\\n",
       "0  [-16.4400005340576, -1.892299997806547, 29.442...   \n",
       "1  [-16.4400005340576, -1.892299997806547, 29.442...   \n",
       "2  [-16.4400005340576, -1.892299997806547, 29.442...   \n",
       "3  [-16.4400005340576, -1.892299997806547, 29.442...   \n",
       "4  [-18.0459995269775, -3.088499951362608, 28.561...   \n",
       "\n",
       "                       quartileListPrecipitation_zip  \\\n",
       "0  [0.0, 0.0, 8.764499855041514, 15.7616001129149...   \n",
       "1  [0.0, 0.0, 8.764499855041514, 15.7616001129149...   \n",
       "2  [0.0, 0.0, 8.764499855041514, 15.7616001129149...   \n",
       "3  [0.0, 0.0, 8.764499855041514, 15.7616001129149...   \n",
       "4  [0.0, 0.0, 8.711199951171883, 16.0927503585815...   \n",
       "\n",
       "                                 precipitationQuants  \\\n",
       "0  [0.0, 0.0, 12.9139995574951, 28.25805445671174...   \n",
       "1  [0.0, 0.0, 12.9139995574951, 28.25805445671174...   \n",
       "2  [0.0, 0.0, 12.9139995574951, 28.25805445671174...   \n",
       "3  [0.0, 0.0, 12.9139995574951, 28.25805445671174...   \n",
       "4  [0.0, 0.0, 12.9139995574951, 28.25805445671174...   \n",
       "\n",
       "                                   temperatureQuants  \n",
       "0  [-38.8950004577637, 16.3610000610352, 35.25099...  \n",
       "1  [-38.8950004577637, 16.3610000610352, 35.25099...  \n",
       "2  [-38.8950004577637, 16.3610000610352, 35.25099...  \n",
       "3  [-38.8950004577637, 16.3610000610352, 35.25099...  \n",
       "4  [-38.8950004577637, 16.3610000610352, 35.25099...  "
      ]
     },
     "execution_count": 10,
     "metadata": {},
     "output_type": "execute_result"
    }
   ],
   "source": [
    "quantsAll.head()"
   ]
  },
  {
   "cell_type": "code",
   "execution_count": 11,
   "metadata": {},
   "outputs": [
    {
     "data": {
      "text/plain": [
       "[0.0,\n",
       " 0.0,\n",
       " 12.9139995574951,\n",
       " 28.25805445671174,\n",
       " 89.66024061584802,\n",
       " 151.74903869629478]"
      ]
     },
     "execution_count": 11,
     "metadata": {},
     "output_type": "execute_result"
    }
   ],
   "source": [
    "quantsAll.precipitationQuants[0]"
   ]
  },
  {
   "cell_type": "markdown",
   "metadata": {},
   "source": [
    "## Annual Quants\n",
    "Get the annual quants."
   ]
  },
  {
   "cell_type": "code",
   "execution_count": 245,
   "metadata": {},
   "outputs": [],
   "source": [
    "for i in range(0,len(quant_labels)):\n",
    "    quantsAll.temperatureQuants[0][i]  = quantsAll.temperatureQuants[0][i] + i/10000\n",
    "    \n",
    "    quantsAll.precipitationQuants[0][i]     = quantsAll.precipitationQuants[0][i] + i/10000\n"
   ]
  },
  {
   "cell_type": "code",
   "execution_count": 324,
   "metadata": {},
   "outputs": [
    {
     "data": {
      "text/html": [
       "<div>\n",
       "<style scoped>\n",
       "    .dataframe tbody tr th:only-of-type {\n",
       "        vertical-align: middle;\n",
       "    }\n",
       "\n",
       "    .dataframe tbody tr th {\n",
       "        vertical-align: top;\n",
       "    }\n",
       "\n",
       "    .dataframe thead th {\n",
       "        text-align: right;\n",
       "    }\n",
       "</style>\n",
       "<table border=\"1\" class=\"dataframe\">\n",
       "  <thead>\n",
       "    <tr style=\"text-align: right;\">\n",
       "      <th></th>\n",
       "      <th>ZIP</th>\n",
       "      <th>date</th>\n",
       "      <th>temp_annualQuants</th>\n",
       "      <th>precip_annualQuants</th>\n",
       "    </tr>\n",
       "  </thead>\n",
       "  <tbody>\n",
       "    <tr>\n",
       "      <th>0</th>\n",
       "      <td>1001</td>\n",
       "      <td>20090101.0</td>\n",
       "      <td>1</td>\n",
       "      <td>2</td>\n",
       "    </tr>\n",
       "    <tr>\n",
       "      <th>1</th>\n",
       "      <td>1002</td>\n",
       "      <td>20090101.0</td>\n",
       "      <td>1</td>\n",
       "      <td>2</td>\n",
       "    </tr>\n",
       "    <tr>\n",
       "      <th>2</th>\n",
       "      <td>1003</td>\n",
       "      <td>20090101.0</td>\n",
       "      <td>1</td>\n",
       "      <td>2</td>\n",
       "    </tr>\n",
       "    <tr>\n",
       "      <th>3</th>\n",
       "      <td>1005</td>\n",
       "      <td>20090101.0</td>\n",
       "      <td>1</td>\n",
       "      <td>2</td>\n",
       "    </tr>\n",
       "    <tr>\n",
       "      <th>4</th>\n",
       "      <td>1007</td>\n",
       "      <td>20090101.0</td>\n",
       "      <td>1</td>\n",
       "      <td>2</td>\n",
       "    </tr>\n",
       "  </tbody>\n",
       "</table>\n",
       "</div>"
      ],
      "text/plain": [
       "    ZIP        date temp_annualQuants precip_annualQuants\n",
       "0  1001  20090101.0                 1                   2\n",
       "1  1002  20090101.0                 1                   2\n",
       "2  1003  20090101.0                 1                   2\n",
       "3  1005  20090101.0                 1                   2\n",
       "4  1007  20090101.0                 1                   2"
      ]
     },
     "execution_count": 324,
     "metadata": {},
     "output_type": "execute_result"
    }
   ],
   "source": [
    "annualQuants = recentDecadeWeather[['ZIP','date']]\n",
    "\n",
    "annualQuants['temp_annualQuants'] = pd.cut(recentDecadeWeather.temperature, \n",
    "           bins   = quantsAll.temperatureQuants[0],\n",
    "           labels = quant_labels,include_lowest=True)\n",
    "\n",
    "annualQuants['precip_annualQuants'] = pd.cut(recentDecadeWeather.precipitation, \n",
    "           bins   = quantsAll.precipitationQuants[0],\n",
    "           labels = quant_labels,include_lowest=True)\n",
    "\n",
    "\n",
    "annualQuants.head()"
   ]
  },
  {
   "cell_type": "code",
   "execution_count": 327,
   "metadata": {},
   "outputs": [
    {
     "data": {
      "text/plain": [
       "3.410658876"
      ]
     },
     "execution_count": 327,
     "metadata": {},
     "output_type": "execute_result"
    }
   ],
   "source": [
    "np.sum(annualQuants.memory_usage(deep = True))/1e9"
   ]
  },
  {
   "cell_type": "code",
   "execution_count": 328,
   "metadata": {},
   "outputs": [],
   "source": [
    "annualQuants.to_csv(\"../../data/companyData/annualQuants_allZips.csv\")"
   ]
  },
  {
   "cell_type": "code",
   "execution_count": 329,
   "metadata": {},
   "outputs": [
    {
     "data": {
      "text/plain": [
       "14895"
      ]
     },
     "execution_count": 329,
     "metadata": {},
     "output_type": "execute_result"
    }
   ],
   "source": [
    "del annualQuants\n",
    "gc.collect()"
   ]
  },
  {
   "cell_type": "markdown",
   "metadata": {},
   "source": [
    "Try this with dask. Seems to be taking a while tbh."
   ]
  },
  {
   "cell_type": "code",
   "execution_count": 315,
   "metadata": {},
   "outputs": [
    {
     "data": {
      "text/plain": [
       "0.016797780990600586"
      ]
     },
     "execution_count": 315,
     "metadata": {},
     "output_type": "execute_result"
    }
   ],
   "source": [
    "start = time.time()\n",
    "\n",
    "recentDecadeWeather['temp_annualQuants'] = recentDecadeWeather.temperature.map_partitions(pd.cut, \n",
    "           bins = quantsAll.temperatureQuants[0],\n",
    "           labels = quant_labels,include_lowest=True)\n",
    "\n",
    "recentDecadeWeather['precip_annualQuants'] = recentDecadeWeather.precipitation.map_partitions(pd.cut, \n",
    "           bins = quantsAll.precipitationQuants[0],\n",
    "           labels = quant_labels,include_lowest=True)\n",
    "\n",
    "time.time() - start"
   ]
  },
  {
   "cell_type": "markdown",
   "metadata": {},
   "source": [
    "## Zip Quants\n",
    "Get the quants by zipcode."
   ]
  },
  {
   "cell_type": "markdown",
   "metadata": {},
   "source": [
    "Now do the same but for zips. For some reason the filtering operations are like 10x faster with making the ZIP and quarter out to be categories."
   ]
  },
  {
   "cell_type": "code",
   "execution_count": 12,
   "metadata": {},
   "outputs": [],
   "source": [
    "recentDecadeWeather = recentDecadeWeather.astype({'ZIP': 'category'})"
   ]
  },
  {
   "cell_type": "code",
   "execution_count": 18,
   "metadata": {},
   "outputs": [],
   "source": [
    "def getZipQuarts(zipcode):\n",
    "    \n",
    "    tempData = recentDecadeWeather[recentDecadeWeather.ZIP == zipcode].reset_index()\n",
    "    quantBins = quantsAll[quantsAll.ZIP == zipcode].reset_index()\n",
    "\n",
    "    if tempData.shape[0] > 0:\n",
    "\n",
    "\n",
    "        for i in range(0,len(quantBins.quartileListPrecipitation_zip[0])):\n",
    "                quantBins.quartileListPrecipitation_zip[0][i] = quantBins.quartileListPrecipitation_zip[0][i] + i/10000\n",
    "\n",
    "\n",
    "        tempData['temp_zipQuants'] = pd.cut(tempData.temperature, \n",
    "               bins   = quantBins.quartileListTemperature_zip[0],\n",
    "               labels = quant_labels,include_lowest=True)\n",
    "\n",
    "\n",
    "        tempData['precip_zipQuants'] = pd.cut(tempData.precipitation, \n",
    "               bins   = quantBins.quartileListTemperature_zip[0],\n",
    "               labels = quant_labels,include_lowest=True)        \n",
    "    \n",
    "    \n",
    "    return(tempData[['ZIP','date','temp_zipQuants','precip_zipQuants']])\n",
    "\n",
    "\n"
   ]
  },
  {
   "cell_type": "code",
   "execution_count": 15,
   "metadata": {},
   "outputs": [
    {
     "data": {
      "text/plain": [
       "\"def getZipQuarts(zipcode):\\n    # print(zipcode)\\n    \\n    tempData = recentDecadeWeather[recentDecadeWeather.ZIP == zipcode].reset_index()\\n    quantBins = quantsAll[quantsAll.ZIP == zipcode].reset_index()\\n    \\n    for i in range(0,len(quantBins.quartileListPrecipitation_zip[0])):\\n            quantBins.quartileListPrecipitation_zip[0][i] = quantBins.quartileListPrecipitation_zip[0][i] + i/10000\\n\\n    tempData['temp_zipQuants'] = tempData.temperature.map_partitions(pd.cut, \\n           bins = quantBins.quartileListTemperature_zip[0],\\n           labels = quant_labels,include_lowest=True)\\n\\n    tempData['precip_zipQuants'] = tempData.precipitation.map_partitions(pd.cut, \\n           bins = quantBins.quartileListPrecipitation_zip[0],\\n           labels = quant_labels,include_lowest=True)    \\n    \\n    return(tempData)\""
      ]
     },
     "execution_count": 15,
     "metadata": {},
     "output_type": "execute_result"
    }
   ],
   "source": [
    "\n",
    "# this is the code for dask. it seems unreasonably slow\n",
    "'''def getZipQuarts(zipcode):\n",
    "    # print(zipcode)\n",
    "    \n",
    "    tempData = recentDecadeWeather[recentDecadeWeather.ZIP == zipcode].reset_index()\n",
    "    quantBins = quantsAll[quantsAll.ZIP == zipcode].reset_index()\n",
    "    \n",
    "    for i in range(0,len(quantBins.quartileListPrecipitation_zip[0])):\n",
    "            quantBins.quartileListPrecipitation_zip[0][i] = quantBins.quartileListPrecipitation_zip[0][i] + i/10000\n",
    "\n",
    "    tempData['temp_zipQuants'] = tempData.temperature.map_partitions(pd.cut, \n",
    "           bins = quantBins.quartileListTemperature_zip[0],\n",
    "           labels = quant_labels,include_lowest=True)\n",
    "\n",
    "    tempData['precip_zipQuants'] = tempData.precipitation.map_partitions(pd.cut, \n",
    "           bins = quantBins.quartileListPrecipitation_zip[0],\n",
    "           labels = quant_labels,include_lowest=True)    \n",
    "    \n",
    "    return(tempData)'''"
   ]
  },
  {
   "cell_type": "markdown",
   "metadata": {},
   "source": [
    "Go through with this."
   ]
  },
  {
   "cell_type": "code",
   "execution_count": 16,
   "metadata": {},
   "outputs": [
    {
     "data": {
      "text/plain": [
       "32656"
      ]
     },
     "execution_count": 16,
     "metadata": {},
     "output_type": "execute_result"
    }
   ],
   "source": [
    "ZIPs = quantsAll.ZIP.unique()\n",
    "len(ZIPs)"
   ]
  },
  {
   "cell_type": "code",
   "execution_count": 21,
   "metadata": {},
   "outputs": [
    {
     "name": "stdout",
     "output_type": "stream",
     "text": [
      "251.14784216880798\n"
     ]
    },
    {
     "data": {
      "text/html": [
       "<div>\n",
       "<style scoped>\n",
       "    .dataframe tbody tr th:only-of-type {\n",
       "        vertical-align: middle;\n",
       "    }\n",
       "\n",
       "    .dataframe tbody tr th {\n",
       "        vertical-align: top;\n",
       "    }\n",
       "\n",
       "    .dataframe thead th {\n",
       "        text-align: right;\n",
       "    }\n",
       "</style>\n",
       "<table border=\"1\" class=\"dataframe\">\n",
       "  <thead>\n",
       "    <tr style=\"text-align: right;\">\n",
       "      <th></th>\n",
       "      <th>ZIP</th>\n",
       "      <th>date</th>\n",
       "      <th>temp_zipQuants</th>\n",
       "      <th>precip_zipQuants</th>\n",
       "    </tr>\n",
       "  </thead>\n",
       "  <tbody>\n",
       "    <tr>\n",
       "      <th>0</th>\n",
       "      <td>1001</td>\n",
       "      <td>20090101.0</td>\n",
       "      <td>1</td>\n",
       "      <td>2</td>\n",
       "    </tr>\n",
       "    <tr>\n",
       "      <th>1</th>\n",
       "      <td>1001</td>\n",
       "      <td>20090102.0</td>\n",
       "      <td>1</td>\n",
       "      <td>2</td>\n",
       "    </tr>\n",
       "    <tr>\n",
       "      <th>2</th>\n",
       "      <td>1001</td>\n",
       "      <td>20090103.0</td>\n",
       "      <td>2</td>\n",
       "      <td>2</td>\n",
       "    </tr>\n",
       "    <tr>\n",
       "      <th>3</th>\n",
       "      <td>1001</td>\n",
       "      <td>20090104.0</td>\n",
       "      <td>2</td>\n",
       "      <td>2</td>\n",
       "    </tr>\n",
       "    <tr>\n",
       "      <th>4</th>\n",
       "      <td>1001</td>\n",
       "      <td>20090105.0</td>\n",
       "      <td>2</td>\n",
       "      <td>2</td>\n",
       "    </tr>\n",
       "  </tbody>\n",
       "</table>\n",
       "</div>"
      ],
      "text/plain": [
       "    ZIP        date temp_zipQuants precip_zipQuants\n",
       "0  1001  20090101.0              1                2\n",
       "1  1001  20090102.0              1                2\n",
       "2  1001  20090103.0              2                2\n",
       "3  1001  20090104.0              2                2\n",
       "4  1001  20090105.0              2                2"
      ]
     },
     "execution_count": 21,
     "metadata": {},
     "output_type": "execute_result"
    }
   ],
   "source": [
    "start = time.time()\n",
    "\n",
    "with multiprocessing.Pool() as pool:\n",
    "    zipQuarts = pool.map(getZipQuarts, ZIPs)\n",
    "\n",
    "print(time.time() - start)\n",
    "\n",
    "quantsByZip = pd.concat(zipQuarts)\n",
    "quantsByZip.head()"
   ]
  },
  {
   "cell_type": "code",
   "execution_count": 22,
   "metadata": {},
   "outputs": [],
   "source": [
    "quantsByZip.to_csv(\"../../data/companyData/quantsByZip_allZips.csv\")"
   ]
  },
  {
   "cell_type": "code",
   "execution_count": 23,
   "metadata": {},
   "outputs": [
    {
     "data": {
      "text/plain": [
       "40"
      ]
     },
     "execution_count": 23,
     "metadata": {},
     "output_type": "execute_result"
    }
   ],
   "source": [
    "del quantsByZip\n",
    "gc.collect()"
   ]
  },
  {
   "cell_type": "markdown",
   "metadata": {},
   "source": [
    "## ZIP - Quarters\n",
    "Now do this at a zip-quarter level."
   ]
  },
  {
   "cell_type": "code",
   "execution_count": 39,
   "metadata": {},
   "outputs": [],
   "source": [
    "def getZipQuarterQuarts(zipcode):\n",
    "\n",
    "    weatherByZipByQuarter = pd.DataFrame()\n",
    "\n",
    "    quarters = [1,2,3,4]\n",
    "    \n",
    "\n",
    "    for quarter in quarters:\n",
    "        tempData = recentDecadeWeather[(recentDecadeWeather.ZIP  == zipcode) & \n",
    "                        (recentDecadeWeather.quarter == quarter)].reset_index()\n",
    "        \n",
    "        quantBins = quantsAll[(quantsAll.ZIP == zipcode) & \n",
    "                        (quantsAll.quarter == quarter)].reset_index()\n",
    "\n",
    "        \n",
    "        if tempData.shape[0] > 0:\n",
    "\n",
    "            for i in range(0,len(quantBins.quartileListPrecipitation_quarterlyByZip[0])):\n",
    "                quantBins.quartileListPrecipitation_quarterlyByZip[0][i] = quantBins.quartileListPrecipitation_quarterlyByZip[0][i] + i/10000\n",
    "\n",
    "            tempData['temp_zipQuarterQuants'] = pd.cut(tempData.temperature, \n",
    "                   bins = quantBins.quartileListTemperature_quarterlyByZip[0],\n",
    "                   labels = quant_labels,include_lowest=True)\n",
    "\n",
    "\n",
    "            tempData['precip_zipQuarterQuants'] = pd.cut(tempData.precipitation, \n",
    "                   bins = quantBins.quartileListPrecipitation_quarterlyByZip[0],\n",
    "                   labels = quant_labels,include_lowest=True)\n",
    "\n",
    "\n",
    "            weatherByZipByQuarter = weatherByZipByQuarter.append(tempData)\n",
    "\n",
    "    return(weatherByZipByQuarter[['ZIP','date','temp_zipQuarterQuants','precip_zipQuarterQuants']])"
   ]
  },
  {
   "cell_type": "code",
   "execution_count": 38,
   "metadata": {},
   "outputs": [
    {
     "data": {
      "text/plain": [
       "0            1\n",
       "1            1\n",
       "2            1\n",
       "3            1\n",
       "4            1\n",
       "            ..\n",
       "131179147    4\n",
       "131179148    4\n",
       "131179149    4\n",
       "131179150    4\n",
       "131179151    4\n",
       "Name: quarter, Length: 131179152, dtype: category\n",
       "Categories (4, int64): [1, 2, 3, 4]"
      ]
     },
     "execution_count": 38,
     "metadata": {},
     "output_type": "execute_result"
    }
   ],
   "source": [
    "recentDecadeWeather['quarter']    = dd.to_datetime(recentDecadeWeather['date'], format='%Y%m%d').dt.quarter\n",
    "recentDecadeWeather = recentDecadeWeather.astype({'ZIP': 'category',\n",
    "                                                 'quarter': 'category'})\n",
    "\n",
    "recentDecadeWeather.quarter"
   ]
  },
  {
   "cell_type": "code",
   "execution_count": 43,
   "metadata": {},
   "outputs": [
    {
     "name": "stdout",
     "output_type": "stream",
     "text": [
      "2329.953027009964\n"
     ]
    }
   ],
   "source": [
    "start = time.time()\n",
    "\n",
    "\n",
    "with multiprocessing.Pool() as pool:\n",
    "    zipQuarterQuarts = pool.map(getZipQuarterQuarts, ZIPs)\n",
    "\n",
    "    \n",
    "    \n",
    "weatherByZipQuarter = pd.concat(zipQuarterQuarts)\n",
    "\n",
    "\n",
    "print(time.time() - start)"
   ]
  },
  {
   "cell_type": "code",
   "execution_count": 44,
   "metadata": {},
   "outputs": [
    {
     "data": {
      "text/html": [
       "<div>\n",
       "<style scoped>\n",
       "    .dataframe tbody tr th:only-of-type {\n",
       "        vertical-align: middle;\n",
       "    }\n",
       "\n",
       "    .dataframe tbody tr th {\n",
       "        vertical-align: top;\n",
       "    }\n",
       "\n",
       "    .dataframe thead th {\n",
       "        text-align: right;\n",
       "    }\n",
       "</style>\n",
       "<table border=\"1\" class=\"dataframe\">\n",
       "  <thead>\n",
       "    <tr style=\"text-align: right;\">\n",
       "      <th></th>\n",
       "      <th>ZIP</th>\n",
       "      <th>date</th>\n",
       "      <th>temp_zipQuarterQuants</th>\n",
       "      <th>precip_zipQuarterQuants</th>\n",
       "    </tr>\n",
       "  </thead>\n",
       "  <tbody>\n",
       "    <tr>\n",
       "      <th>0</th>\n",
       "      <td>1001</td>\n",
       "      <td>20090101.0</td>\n",
       "      <td>2</td>\n",
       "      <td>2</td>\n",
       "    </tr>\n",
       "    <tr>\n",
       "      <th>1</th>\n",
       "      <td>1001</td>\n",
       "      <td>20090102.0</td>\n",
       "      <td>1</td>\n",
       "      <td>1</td>\n",
       "    </tr>\n",
       "    <tr>\n",
       "      <th>2</th>\n",
       "      <td>1001</td>\n",
       "      <td>20090103.0</td>\n",
       "      <td>2</td>\n",
       "      <td>2</td>\n",
       "    </tr>\n",
       "    <tr>\n",
       "      <th>3</th>\n",
       "      <td>1001</td>\n",
       "      <td>20090104.0</td>\n",
       "      <td>2</td>\n",
       "      <td>1</td>\n",
       "    </tr>\n",
       "    <tr>\n",
       "      <th>4</th>\n",
       "      <td>1001</td>\n",
       "      <td>20090105.0</td>\n",
       "      <td>2</td>\n",
       "      <td>2</td>\n",
       "    </tr>\n",
       "  </tbody>\n",
       "</table>\n",
       "</div>"
      ],
      "text/plain": [
       "    ZIP        date temp_zipQuarterQuants precip_zipQuarterQuants\n",
       "0  1001  20090101.0                     2                       2\n",
       "1  1001  20090102.0                     1                       1\n",
       "2  1001  20090103.0                     2                       2\n",
       "3  1001  20090104.0                     2                       1\n",
       "4  1001  20090105.0                     2                       2"
      ]
     },
     "execution_count": 44,
     "metadata": {},
     "output_type": "execute_result"
    }
   ],
   "source": [
    "weatherByZipQuarter.head()"
   ]
  },
  {
   "cell_type": "code",
   "execution_count": 45,
   "metadata": {},
   "outputs": [],
   "source": [
    "weatherByZipQuarter.to_csv(\"../../data/companyData/zipQuartsCompd_allZips.csv\")"
   ]
  },
  {
   "cell_type": "code",
   "execution_count": 237,
   "metadata": {},
   "outputs": [],
   "source": [
    "recentDecadeWeather['quarter']    = dd.to_datetime(recentDecadeWeather['date'], format='%Y%m%d').dt.quarter"
   ]
  },
  {
   "cell_type": "code",
   "execution_count": null,
   "metadata": {},
   "outputs": [],
   "source": [
    "'''weatherByZipQuarter['yearQuarter'] = weatherByZipQuarter.date.astype('str').str.slice(0,4) + weatherByZipQuarter.quarter.astype('str')\n",
    "weatherByZip['yearQuarter']        = weatherByZip.date.astype('str').str.slice(0,4) + weatherByZip.quarter.astype('str')'''"
   ]
  },
  {
   "cell_type": "markdown",
   "metadata": {},
   "source": [
    "# See if we can put it all together"
   ]
  },
  {
   "cell_type": "code",
   "execution_count": 3,
   "metadata": {},
   "outputs": [
    {
     "name": "stdout",
     "output_type": "stream",
     "text": [
      "here\n",
      "here\n"
     ]
    }
   ],
   "source": [
    "weatherByZipQuarter = pd.read_csv(\"../../data/companyData/zipQuartsCompd_allZips.csv\").drop(columns = {'Unnamed: 0'})\n",
    "print('here')\n",
    "weatherByZip        = pd.read_csv(\"../../data/companyData/quantsByZip_allZips.csv\").drop(columns = {'Unnamed: 0'})\n",
    "print('here')\n",
    "annualQuants        = pd.read_csv(\"../../data/companyData/annualQuants_allZips.csv\").drop(columns = {'Unnamed: 0'})"
   ]
  },
  {
   "cell_type": "code",
   "execution_count": 8,
   "metadata": {},
   "outputs": [
    {
     "data": {
      "text/plain": [
       "4.197733024"
      ]
     },
     "execution_count": 8,
     "metadata": {},
     "output_type": "execute_result"
    }
   ],
   "source": [
    "sys.getsizeof(weatherByZipQuarter)/1e9"
   ]
  },
  {
   "cell_type": "code",
   "execution_count": 5,
   "metadata": {
    "scrolled": true
   },
   "outputs": [
    {
     "data": {
      "text/plain": [
       "0             1001\n",
       "1             1002\n",
       "2             1003\n",
       "3             1005\n",
       "4             1007\n",
       "             ...  \n",
       "131179147    99363\n",
       "131179148    99371\n",
       "131179149    99401\n",
       "131179150    99402\n",
       "131179151    99403\n",
       "Name: ZIP, Length: 131179152, dtype: int64"
      ]
     },
     "execution_count": 5,
     "metadata": {},
     "output_type": "execute_result"
    }
   ],
   "source": [
    "annualQuants.ZIP"
   ]
  },
  {
   "cell_type": "code",
   "execution_count": 9,
   "metadata": {},
   "outputs": [
    {
     "data": {
      "text/plain": [
       "0"
      ]
     },
     "execution_count": 9,
     "metadata": {},
     "output_type": "execute_result"
    }
   ],
   "source": [
    "allWeather = annualQuants.merge(weatherByZip)# .merge(weatherByZipQuarter)\n",
    "del annualQuants\n",
    "del weatherByZip\n",
    "gc.collect()\n",
    "\n",
    "allWeather = allWeather.merge(weatherByZipQuarter)\n",
    "del weatherByZipQuarter\n",
    "gc.collect()"
   ]
  },
  {
   "cell_type": "code",
   "execution_count": 11,
   "metadata": {},
   "outputs": [],
   "source": [
    "allWeather.to_csv(\"../../data/companyData/allWeather_allZips.csv\")"
   ]
  },
  {
   "cell_type": "code",
   "execution_count": 15,
   "metadata": {},
   "outputs": [],
   "source": [
    "allWeather = pd.read_csv(\"../../data/companyData/allWeather_allZips.csv\").drop(columns = {'Unnamed: 0'})"
   ]
  },
  {
   "cell_type": "code",
   "execution_count": 16,
   "metadata": {},
   "outputs": [
    {
     "data": {
      "text/html": [
       "<div>\n",
       "<style scoped>\n",
       "    .dataframe tbody tr th:only-of-type {\n",
       "        vertical-align: middle;\n",
       "    }\n",
       "\n",
       "    .dataframe tbody tr th {\n",
       "        vertical-align: top;\n",
       "    }\n",
       "\n",
       "    .dataframe thead th {\n",
       "        text-align: right;\n",
       "    }\n",
       "</style>\n",
       "<table border=\"1\" class=\"dataframe\">\n",
       "  <thead>\n",
       "    <tr style=\"text-align: right;\">\n",
       "      <th></th>\n",
       "      <th>ZIP</th>\n",
       "      <th>date</th>\n",
       "      <th>temp_annualQuants</th>\n",
       "      <th>precip_annualQuants</th>\n",
       "      <th>temp_zipQuants</th>\n",
       "      <th>precip_zipQuants</th>\n",
       "      <th>temp_zipQuarterQuants</th>\n",
       "      <th>precip_zipQuarterQuants</th>\n",
       "    </tr>\n",
       "  </thead>\n",
       "  <tbody>\n",
       "    <tr>\n",
       "      <th>0</th>\n",
       "      <td>1001</td>\n",
       "      <td>20090101.0</td>\n",
       "      <td>1.0</td>\n",
       "      <td>2.0</td>\n",
       "      <td>1.0</td>\n",
       "      <td>2.0</td>\n",
       "      <td>2.0</td>\n",
       "      <td>2.0</td>\n",
       "    </tr>\n",
       "    <tr>\n",
       "      <th>1</th>\n",
       "      <td>1002</td>\n",
       "      <td>20090101.0</td>\n",
       "      <td>1.0</td>\n",
       "      <td>2.0</td>\n",
       "      <td>1.0</td>\n",
       "      <td>2.0</td>\n",
       "      <td>2.0</td>\n",
       "      <td>2.0</td>\n",
       "    </tr>\n",
       "    <tr>\n",
       "      <th>2</th>\n",
       "      <td>1003</td>\n",
       "      <td>20090101.0</td>\n",
       "      <td>1.0</td>\n",
       "      <td>2.0</td>\n",
       "      <td>1.0</td>\n",
       "      <td>2.0</td>\n",
       "      <td>2.0</td>\n",
       "      <td>2.0</td>\n",
       "    </tr>\n",
       "    <tr>\n",
       "      <th>3</th>\n",
       "      <td>1005</td>\n",
       "      <td>20090101.0</td>\n",
       "      <td>1.0</td>\n",
       "      <td>2.0</td>\n",
       "      <td>1.0</td>\n",
       "      <td>2.0</td>\n",
       "      <td>2.0</td>\n",
       "      <td>3.0</td>\n",
       "    </tr>\n",
       "    <tr>\n",
       "      <th>4</th>\n",
       "      <td>1007</td>\n",
       "      <td>20090101.0</td>\n",
       "      <td>1.0</td>\n",
       "      <td>2.0</td>\n",
       "      <td>1.0</td>\n",
       "      <td>2.0</td>\n",
       "      <td>2.0</td>\n",
       "      <td>2.0</td>\n",
       "    </tr>\n",
       "  </tbody>\n",
       "</table>\n",
       "</div>"
      ],
      "text/plain": [
       "    ZIP        date  temp_annualQuants  precip_annualQuants  temp_zipQuants  \\\n",
       "0  1001  20090101.0                1.0                  2.0             1.0   \n",
       "1  1002  20090101.0                1.0                  2.0             1.0   \n",
       "2  1003  20090101.0                1.0                  2.0             1.0   \n",
       "3  1005  20090101.0                1.0                  2.0             1.0   \n",
       "4  1007  20090101.0                1.0                  2.0             1.0   \n",
       "\n",
       "   precip_zipQuants  temp_zipQuarterQuants  precip_zipQuarterQuants  \n",
       "0               2.0                    2.0                      2.0  \n",
       "1               2.0                    2.0                      2.0  \n",
       "2               2.0                    2.0                      2.0  \n",
       "3               2.0                    2.0                      3.0  \n",
       "4               2.0                    2.0                      2.0  "
      ]
     },
     "execution_count": 16,
     "metadata": {},
     "output_type": "execute_result"
    }
   ],
   "source": [
    "allWeather.head()"
   ]
  },
  {
   "cell_type": "code",
   "execution_count": 23,
   "metadata": {},
   "outputs": [
    {
     "name": "stdout",
     "output_type": "stream",
     "text": [
      "2.0    76069625\n",
      "1.0    51695904\n",
      "4.0     2378279\n",
      "3.0      990501\n",
      "5.0       42161\n",
      "Name: temp_annualQuants, dtype: int64\n",
      "1.0    82420270\n",
      "2.0    39370976\n",
      "3.0     6563288\n",
      "4.0     2724034\n",
      "5.0       87929\n",
      "Name: precip_annualQuants, dtype: int64\n",
      "2.0    109970552\n",
      "3.0      7195529\n",
      "1.0      6876438\n",
      "4.0      6807416\n",
      "5.0       225250\n",
      "Name: temp_zipQuants, dtype: int64\n",
      "2.0    73907497\n",
      "1.0    46441106\n",
      "4.0      548610\n",
      "3.0      265270\n",
      "5.0      139169\n",
      "Name: precip_zipQuants, dtype: int64\n",
      "2.0    110845928\n",
      "3.0      6924614\n",
      "4.0      6888871\n",
      "1.0      6027852\n",
      "5.0       263491\n",
      "Name: temp_zipQuarterQuants, dtype: int64\n",
      "1.0    82420270\n",
      "2.0    34901196\n",
      "4.0     6856351\n",
      "3.0     6485679\n",
      "5.0      303712\n",
      "Name: precip_zipQuarterQuants, dtype: int64\n"
     ]
    }
   ],
   "source": [
    "for col in allWeather.columns[2:]:\n",
    "    print(allWeather[col].value_counts())"
   ]
  },
  {
   "cell_type": "markdown",
   "metadata": {},
   "source": [
    "------------------"
   ]
  },
  {
   "cell_type": "markdown",
   "metadata": {},
   "source": [
    "## find the lagged counts of quartiles by bin\n",
    "first convert the quartiles to 0/1, 95th percentile +"
   ]
  },
  {
   "cell_type": "code",
   "execution_count": null,
   "metadata": {},
   "outputs": [],
   "source": [
    "allWeather = pd.read_csv(\"../../data/companyData/allWeather_allZips.csv\")[['ZIP','date',\n",
    "                                                                           'temp_annualQuants',\n",
    "                                                                           'precip_annualQuants']]\n",
    "\n",
    "\n",
    "allWeather.loc[allWeather.temp_annualQuants  < 3,   'temp_annualQuants']      = 0\n",
    "allWeather.loc[allWeather.temp_annualQuants >= 3,  'temp_annualQuants']       = 1\n",
    "\n",
    "allWeather.loc[allWeather.precip_annualQuants  < 3, 'precip_annualQuants']    = 0\n",
    "allWeather.loc[allWeather.precip_annualQuants >= 3,'precip_annualQuants']     = 1\n",
    "\n",
    "\n",
    "\n",
    "\n",
    "allWeather['temp_annualLast5'] = allWeather.groupby('ZIP')['temp_annualQuants'].rolling(5).sum().reset_index(drop=True)\n",
    "allWeather.drop(columns = {'temp_annualQuants'},inplace = True)\n",
    "\n",
    "allWeather['precip_annualLast5'] = allWeather.groupby('ZIP')['precip_annualQuants'].rolling(5).sum().reset_index(drop=True)\n",
    "allWeather.drop(columns = {'precip_annualQuants'},inplace = True)\n",
    "\n",
    "\n",
    "\n",
    "allWeather['date'] = pd.to_datetime(allWeather['date'],\n",
    "                                   format = \"%Y%m%d\")\n",
    "\n",
    "allWeather['temp_annualLast5'] = allWeather.\\\n",
    "    groupby('ZIP')['temp_annualQuants'].transform(lambda x: x.rolling(5, 5).sum())\n",
    "\n",
    "allWeather['precip_annualLast5'] = allWeather.\\\n",
    "    groupby('ZIP')['precip_annualQuants'].transform(lambda x: x.rolling(5, 5).sum())\n",
    "\n",
    "\n",
    "allWeather.drop(columns = {'temp_annualQuants',\n",
    "                          'precip_annualQuants'}, inplace = True)\n",
    "\n",
    "\n",
    "\n",
    "allWeather.to_csv(\"../../data/companyData/stockWeather_annual.csv\")\n",
    "\n",
    "\n",
    "allWeather.head()"
   ]
  },
  {
   "cell_type": "code",
   "execution_count": 33,
   "metadata": {},
   "outputs": [
    {
     "data": {
      "text/plain": [
       "0.0    94198589\n",
       "1.0    28472551\n",
       "2.0     6908825\n",
       "3.0     1196782\n",
       "4.0      186320\n",
       "5.0       25272\n",
       "Name: precip_annualLast5, dtype: int64"
      ]
     },
     "execution_count": 33,
     "metadata": {},
     "output_type": "execute_result"
    }
   ],
   "source": [
    "allWeather.precip_annualLast5.value_counts()"
   ]
  },
  {
   "cell_type": "code",
   "execution_count": null,
   "metadata": {},
   "outputs": [],
   "source": [
    "allWeather = pd.read_csv(\"../../data/companyData/allWeather_allZips.csv\")[['ZIP','date',\n",
    "                                                                           'temp_zipQuants',\n",
    "                                                                           'precip_zipQuants']]\n",
    "\n",
    "\n",
    "allWeather.loc[allWeather.temp_zipQuants < 3,  'temp_zipQuants']           = 0\n",
    "allWeather.loc[allWeather.precip_zipQuants < 3,'precip_zipQuants']         = 0\n",
    "\n",
    "allWeather.loc[allWeather.temp_zipQuants >= 3,  'temp_zipQuants']          = 1\n",
    "allWeather.loc[allWeather.precip_zipQuants >= 3,'precip_zipQuants']        = 1\n",
    "\n",
    "\n",
    "\n",
    "allWeather['date'] = pd.to_datetime(allWeather['date'],\n",
    "                                   format = \"%Y%m%d\")\n",
    "\n",
    "allWeather['temp_zipLast5'] = allWeather.\\\n",
    "    groupby('ZIP')['temp_zipQuants'].transform(lambda x: x.rolling(5, 5).sum())\n",
    "\n",
    "allWeather['precip_zipLast5'] = allWeather.\\\n",
    "    groupby('ZIP')['precip_zipQuants'].transform(lambda x: x.rolling(5, 5).sum())\n",
    "\n",
    "\n",
    "allWeather.drop(columns = {'temp_zipQuants',\n",
    "                          'precip_zipQuants'}, inplace = True)\n",
    "\n",
    "\n",
    "\n",
    "\n",
    "allWeather.to_csv(\"../../data/companyData/stockWeather_zipQuants.csv\")\n",
    "\n",
    "\n",
    "allWeather.head()"
   ]
  },
  {
   "cell_type": "code",
   "execution_count": 36,
   "metadata": {},
   "outputs": [
    {
     "data": {
      "text/plain": [
       "0.0    102666420\n",
       "1.0      8854116\n",
       "2.0      6783952\n",
       "3.0      5208727\n",
       "4.0      3829815\n",
       "5.0      3348334\n",
       "Name: temp_zipLast5, dtype: int64"
      ]
     },
     "execution_count": 36,
     "metadata": {},
     "output_type": "execute_result"
    }
   ],
   "source": [
    "allWeather.temp_zipLast5.value_counts()"
   ]
  },
  {
   "cell_type": "code",
   "execution_count": 7,
   "metadata": {},
   "outputs": [
    {
     "data": {
      "text/html": [
       "<div>\n",
       "<style scoped>\n",
       "    .dataframe tbody tr th:only-of-type {\n",
       "        vertical-align: middle;\n",
       "    }\n",
       "\n",
       "    .dataframe tbody tr th {\n",
       "        vertical-align: top;\n",
       "    }\n",
       "\n",
       "    .dataframe thead th {\n",
       "        text-align: right;\n",
       "    }\n",
       "</style>\n",
       "<table border=\"1\" class=\"dataframe\">\n",
       "  <thead>\n",
       "    <tr style=\"text-align: right;\">\n",
       "      <th></th>\n",
       "      <th>ZIP</th>\n",
       "      <th>date</th>\n",
       "      <th>temp_zipQuarterQuants</th>\n",
       "      <th>precip_zipQuarterQuants</th>\n",
       "    </tr>\n",
       "  </thead>\n",
       "  <tbody>\n",
       "    <tr>\n",
       "      <th>0</th>\n",
       "      <td>1001</td>\n",
       "      <td>20090101.0</td>\n",
       "      <td>0.0</td>\n",
       "      <td>0.0</td>\n",
       "    </tr>\n",
       "    <tr>\n",
       "      <th>1</th>\n",
       "      <td>1002</td>\n",
       "      <td>20090101.0</td>\n",
       "      <td>0.0</td>\n",
       "      <td>0.0</td>\n",
       "    </tr>\n",
       "    <tr>\n",
       "      <th>2</th>\n",
       "      <td>1003</td>\n",
       "      <td>20090101.0</td>\n",
       "      <td>0.0</td>\n",
       "      <td>0.0</td>\n",
       "    </tr>\n",
       "    <tr>\n",
       "      <th>3</th>\n",
       "      <td>1005</td>\n",
       "      <td>20090101.0</td>\n",
       "      <td>0.0</td>\n",
       "      <td>1.0</td>\n",
       "    </tr>\n",
       "    <tr>\n",
       "      <th>4</th>\n",
       "      <td>1007</td>\n",
       "      <td>20090101.0</td>\n",
       "      <td>0.0</td>\n",
       "      <td>0.0</td>\n",
       "    </tr>\n",
       "  </tbody>\n",
       "</table>\n",
       "</div>"
      ],
      "text/plain": [
       "    ZIP        date  temp_zipQuarterQuants  precip_zipQuarterQuants\n",
       "0  1001  20090101.0                    0.0                      0.0\n",
       "1  1002  20090101.0                    0.0                      0.0\n",
       "2  1003  20090101.0                    0.0                      0.0\n",
       "3  1005  20090101.0                    0.0                      1.0\n",
       "4  1007  20090101.0                    0.0                      0.0"
      ]
     },
     "execution_count": 7,
     "metadata": {},
     "output_type": "execute_result"
    }
   ],
   "source": [
    "allWeather = pd.read_csv(\"../../data/companyData/allWeather_allZips.csv\")[['ZIP','date',\n",
    "                                                                           'temp_zipQuarterQuants',\n",
    "                                                                           'precip_zipQuarterQuants']]\n",
    "\n",
    "\n",
    "\n",
    "allWeather.loc[allWeather.temp_zipQuarterQuants < 3,  'temp_zipQuarterQuants']   = 0\n",
    "allWeather.loc[allWeather.precip_zipQuarterQuants < 3,'precip_zipQuarterQuants'] = 0\n",
    "\n",
    "\n",
    "\n",
    "allWeather.loc[allWeather.temp_zipQuarterQuants >= 3,  'temp_zipQuarterQuants']   = 1\n",
    "allWeather.loc[allWeather.precip_zipQuarterQuants >= 3,'precip_zipQuarterQuants'] = 1\n",
    "\n",
    "\n",
    "\n",
    "allWeather['date'] = pd.to_datetime(allWeather['date'],\n",
    "                                   format = \"%Y%m%d\")\n",
    "\n",
    "allWeather['temp_zipQuarterLast5'] = allWeather.\\\n",
    "    groupby('ZIP')['temp_zipQuarterQuants'].transform(lambda x: x.rolling(5, 5).sum())\n",
    "\n",
    "allWeather['precip_zipQuarterLast5'] = allWeather.\\\n",
    "    groupby('ZIP')['precip_zipQuarterQuants'].transform(lambda x: x.rolling(5, 5).sum())\n",
    "\n",
    "\n",
    "allWeather.drop(columns = {'temp_zipQuarterQuants',\n",
    "                          'precip_zipQuarterQuants'}, inplace = True)\n",
    "\n",
    "\n",
    "\n",
    "\n",
    "allWeather.to_csv(\"../../data/companyData/stockWeather_zipQuarterQuants.csv\")\n",
    "\n",
    "\n",
    "\n",
    "allWeather.head()"
   ]
  },
  {
   "cell_type": "code",
   "execution_count": null,
   "metadata": {},
   "outputs": [],
   "source": [
    "allWeather.to_csv(\"../../data/companyData/stockWeather_zipQuarterQuants.csv\")\n"
   ]
  },
  {
   "cell_type": "code",
   "execution_count": 16,
   "metadata": {},
   "outputs": [
    {
     "name": "stdout",
     "output_type": "stream",
     "text": [
      "0.0    96691706\n",
      "1.0    14929339\n",
      "2.0     8855482\n",
      "3.0     5019764\n",
      "4.0     2853935\n",
      "5.0     1945594\n",
      "Name: temp_zipQuarterLast5, dtype: int64 0.0    81059130\n",
      "1.0    34390051\n",
      "2.0    11522432\n",
      "3.0     2550993\n",
      "4.0      450817\n",
      "5.0       64305\n",
      "Name: precip_zipQuarterLast5, dtype: int64\n"
     ]
    }
   ],
   "source": [
    "print(allWeather.temp_zipQuarterLast5.value_counts(),\n",
    "      allWeather.precip_zipQuarterLast5.value_counts())"
   ]
  },
  {
   "cell_type": "markdown",
   "metadata": {},
   "source": [
    "----------------------"
   ]
  },
  {
   "cell_type": "markdown",
   "metadata": {},
   "source": [
    "### Now go through the data from 2010 - 2019 and find time spent in each bin"
   ]
  },
  {
   "cell_type": "code",
   "execution_count": 57,
   "metadata": {},
   "outputs": [
    {
     "data": {
      "text/html": [
       "<div>\n",
       "<style scoped>\n",
       "    .dataframe tbody tr th:only-of-type {\n",
       "        vertical-align: middle;\n",
       "    }\n",
       "\n",
       "    .dataframe tbody tr th {\n",
       "        vertical-align: top;\n",
       "    }\n",
       "\n",
       "    .dataframe thead th {\n",
       "        text-align: right;\n",
       "    }\n",
       "</style>\n",
       "<table border=\"1\" class=\"dataframe\">\n",
       "  <thead>\n",
       "    <tr style=\"text-align: right;\">\n",
       "      <th></th>\n",
       "      <th>ZIP</th>\n",
       "      <th>date</th>\n",
       "      <th>temp_annualQuants</th>\n",
       "      <th>precip_annualQuants</th>\n",
       "      <th>temp_zipQuants</th>\n",
       "      <th>precip_zipQuants</th>\n",
       "      <th>temp_zipQuarterQuants</th>\n",
       "      <th>precip_zipQuarterQuants</th>\n",
       "    </tr>\n",
       "  </thead>\n",
       "  <tbody>\n",
       "    <tr>\n",
       "      <th>0</th>\n",
       "      <td>1001</td>\n",
       "      <td>20090101.0</td>\n",
       "      <td>1.0</td>\n",
       "      <td>2.0</td>\n",
       "      <td>1.0</td>\n",
       "      <td>2.0</td>\n",
       "      <td>2.0</td>\n",
       "      <td>2.0</td>\n",
       "    </tr>\n",
       "    <tr>\n",
       "      <th>1</th>\n",
       "      <td>1002</td>\n",
       "      <td>20090101.0</td>\n",
       "      <td>1.0</td>\n",
       "      <td>2.0</td>\n",
       "      <td>1.0</td>\n",
       "      <td>2.0</td>\n",
       "      <td>2.0</td>\n",
       "      <td>2.0</td>\n",
       "    </tr>\n",
       "    <tr>\n",
       "      <th>2</th>\n",
       "      <td>1003</td>\n",
       "      <td>20090101.0</td>\n",
       "      <td>1.0</td>\n",
       "      <td>2.0</td>\n",
       "      <td>1.0</td>\n",
       "      <td>2.0</td>\n",
       "      <td>2.0</td>\n",
       "      <td>2.0</td>\n",
       "    </tr>\n",
       "    <tr>\n",
       "      <th>3</th>\n",
       "      <td>1005</td>\n",
       "      <td>20090101.0</td>\n",
       "      <td>1.0</td>\n",
       "      <td>2.0</td>\n",
       "      <td>1.0</td>\n",
       "      <td>2.0</td>\n",
       "      <td>2.0</td>\n",
       "      <td>3.0</td>\n",
       "    </tr>\n",
       "    <tr>\n",
       "      <th>4</th>\n",
       "      <td>1007</td>\n",
       "      <td>20090101.0</td>\n",
       "      <td>1.0</td>\n",
       "      <td>2.0</td>\n",
       "      <td>1.0</td>\n",
       "      <td>2.0</td>\n",
       "      <td>2.0</td>\n",
       "      <td>2.0</td>\n",
       "    </tr>\n",
       "  </tbody>\n",
       "</table>\n",
       "</div>"
      ],
      "text/plain": [
       "    ZIP        date  temp_annualQuants  precip_annualQuants  temp_zipQuants  \\\n",
       "0  1001  20090101.0                1.0                  2.0             1.0   \n",
       "1  1002  20090101.0                1.0                  2.0             1.0   \n",
       "2  1003  20090101.0                1.0                  2.0             1.0   \n",
       "3  1005  20090101.0                1.0                  2.0             1.0   \n",
       "4  1007  20090101.0                1.0                  2.0             1.0   \n",
       "\n",
       "   precip_zipQuants  temp_zipQuarterQuants  precip_zipQuarterQuants  \n",
       "0               2.0                    2.0                      2.0  \n",
       "1               2.0                    2.0                      2.0  \n",
       "2               2.0                    2.0                      2.0  \n",
       "3               2.0                    2.0                      3.0  \n",
       "4               2.0                    2.0                      2.0  "
      ]
     },
     "execution_count": 57,
     "metadata": {},
     "output_type": "execute_result"
    }
   ],
   "source": [
    "allWeather = pd.read_csv(\"../../data/companyData/allWeather_allZips.csv\").drop(columns = {'Unnamed: 0'})\n",
    "\n",
    "allWeather.head()"
   ]
  },
  {
   "cell_type": "code",
   "execution_count": 11,
   "metadata": {},
   "outputs": [],
   "source": [
    "allWeather['yearQuarter'] = pd.to_datetime(allWeather.date, format='%Y%m%d').dt.year.astype('str') + 'q' + \\\n",
    "    pd.to_datetime(allWeather.date, format='%Y%m%d').dt.quarter.astype('str')\n",
    "\n",
    "# allWeather.drop(columns = {'date', 'Unnamed: 0'}, inplace = True)"
   ]
  },
  {
   "cell_type": "code",
   "execution_count": 5,
   "metadata": {},
   "outputs": [],
   "source": [
    "'''allWeather = allWeather.astype({'yearQuarter': 'category',\n",
    "                               'ZIP': 'category'})'''"
   ]
  },
  {
   "cell_type": "code",
   "execution_count": 12,
   "metadata": {},
   "outputs": [
    {
     "data": {
      "text/html": [
       "<div>\n",
       "<style scoped>\n",
       "    .dataframe tbody tr th:only-of-type {\n",
       "        vertical-align: middle;\n",
       "    }\n",
       "\n",
       "    .dataframe tbody tr th {\n",
       "        vertical-align: top;\n",
       "    }\n",
       "\n",
       "    .dataframe thead th {\n",
       "        text-align: right;\n",
       "    }\n",
       "</style>\n",
       "<table border=\"1\" class=\"dataframe\">\n",
       "  <thead>\n",
       "    <tr style=\"text-align: right;\">\n",
       "      <th></th>\n",
       "      <th>ZIP</th>\n",
       "      <th>temp_annualQuants</th>\n",
       "      <th>precip_annualQuants</th>\n",
       "      <th>temp_zipQuants</th>\n",
       "      <th>precip_zipQuants</th>\n",
       "      <th>temp_zipQuarterQuants</th>\n",
       "      <th>precip_zipQuarterQuants</th>\n",
       "      <th>yearQuarter</th>\n",
       "    </tr>\n",
       "  </thead>\n",
       "  <tbody>\n",
       "    <tr>\n",
       "      <th>0</th>\n",
       "      <td>1001</td>\n",
       "      <td>1.0</td>\n",
       "      <td>2.0</td>\n",
       "      <td>1.0</td>\n",
       "      <td>2.0</td>\n",
       "      <td>2.0</td>\n",
       "      <td>2.0</td>\n",
       "      <td>2009q1</td>\n",
       "    </tr>\n",
       "    <tr>\n",
       "      <th>1</th>\n",
       "      <td>1002</td>\n",
       "      <td>1.0</td>\n",
       "      <td>2.0</td>\n",
       "      <td>1.0</td>\n",
       "      <td>2.0</td>\n",
       "      <td>2.0</td>\n",
       "      <td>2.0</td>\n",
       "      <td>2009q1</td>\n",
       "    </tr>\n",
       "    <tr>\n",
       "      <th>2</th>\n",
       "      <td>1003</td>\n",
       "      <td>1.0</td>\n",
       "      <td>2.0</td>\n",
       "      <td>1.0</td>\n",
       "      <td>2.0</td>\n",
       "      <td>2.0</td>\n",
       "      <td>2.0</td>\n",
       "      <td>2009q1</td>\n",
       "    </tr>\n",
       "    <tr>\n",
       "      <th>3</th>\n",
       "      <td>1005</td>\n",
       "      <td>1.0</td>\n",
       "      <td>2.0</td>\n",
       "      <td>1.0</td>\n",
       "      <td>2.0</td>\n",
       "      <td>2.0</td>\n",
       "      <td>3.0</td>\n",
       "      <td>2009q1</td>\n",
       "    </tr>\n",
       "    <tr>\n",
       "      <th>4</th>\n",
       "      <td>1007</td>\n",
       "      <td>1.0</td>\n",
       "      <td>2.0</td>\n",
       "      <td>1.0</td>\n",
       "      <td>2.0</td>\n",
       "      <td>2.0</td>\n",
       "      <td>2.0</td>\n",
       "      <td>2009q1</td>\n",
       "    </tr>\n",
       "  </tbody>\n",
       "</table>\n",
       "</div>"
      ],
      "text/plain": [
       "    ZIP  temp_annualQuants  precip_annualQuants  temp_zipQuants  \\\n",
       "0  1001                1.0                  2.0             1.0   \n",
       "1  1002                1.0                  2.0             1.0   \n",
       "2  1003                1.0                  2.0             1.0   \n",
       "3  1005                1.0                  2.0             1.0   \n",
       "4  1007                1.0                  2.0             1.0   \n",
       "\n",
       "   precip_zipQuants  temp_zipQuarterQuants  precip_zipQuarterQuants  \\\n",
       "0               2.0                    2.0                      2.0   \n",
       "1               2.0                    2.0                      2.0   \n",
       "2               2.0                    2.0                      2.0   \n",
       "3               2.0                    2.0                      3.0   \n",
       "4               2.0                    2.0                      2.0   \n",
       "\n",
       "  yearQuarter  \n",
       "0      2009q1  \n",
       "1      2009q1  \n",
       "2      2009q1  \n",
       "3      2009q1  \n",
       "4      2009q1  "
      ]
     },
     "execution_count": 12,
     "metadata": {},
     "output_type": "execute_result"
    }
   ],
   "source": [
    "allWeather.head()"
   ]
  },
  {
   "cell_type": "code",
   "execution_count": 13,
   "metadata": {},
   "outputs": [],
   "source": [
    "allWeather.insert(0, 'yearQuarter', allWeather.pop('yearQuarter'))"
   ]
  },
  {
   "cell_type": "code",
   "execution_count": 14,
   "metadata": {},
   "outputs": [],
   "source": [
    "def getCounts(quartType,df):\n",
    "\n",
    "    test = df.groupby(['ZIP','yearQuarter',quartType]).size().reset_index()\n",
    "    test = test.drop_duplicates()\n",
    "    test.columns = ['zip', 'yearQuarter', quartType, 'occurrences']\n",
    "\n",
    "    # print(test.head())\n",
    "\n",
    "\n",
    "    testPivot = test.pivot(index=['zip','yearQuarter'], \n",
    "            columns = quartType, values= 'occurrences').reset_index().\\\n",
    "            rename_axis(None, axis=1)\n",
    "\n",
    "    testPivot = testPivot.fillna(0)\n",
    "\n",
    "    testPivot.columns.values[2:] = [quartType[:-6] + str(x) for x in testPivot.columns.values[2:]]\n",
    "\n",
    "\n",
    "    # print(testPivot.head())\n",
    "    return(testPivot)"
   ]
  },
  {
   "cell_type": "code",
   "execution_count": 25,
   "metadata": {},
   "outputs": [
    {
     "data": {
      "text/plain": [
       "Index(['yearQuarter', 'Unnamed: 0', 'ZIP', 'temp_annualQuants',\n",
       "       'precip_annualQuants', 'temp_zipQuants', 'precip_zipQuants',\n",
       "       'temp_zipQuarterQuants', 'precip_zipQuarterQuants'],\n",
       "      dtype='object')"
      ]
     },
     "execution_count": 25,
     "metadata": {},
     "output_type": "execute_result"
    }
   ],
   "source": [
    "allWeather.columns"
   ]
  },
  {
   "cell_type": "code",
   "execution_count": 16,
   "metadata": {},
   "outputs": [
    {
     "name": "stdout",
     "output_type": "stream",
     "text": [
      "    zip yearQuarter  temp_annual1.0  temp_annual2.0  temp_annual3.0  \\\n",
      "0  1001      2009q1            87.0             3.0             0.0   \n",
      "1  1001      2009q2            24.0            67.0             0.0   \n",
      "2  1001      2009q3             2.0            90.0             0.0   \n",
      "3  1001      2009q4            74.0            18.0             0.0   \n",
      "4  1001      2010q1            84.0             6.0             0.0   \n",
      "\n",
      "   temp_annual4.0  temp_annual5.0  \n",
      "0             0.0             0.0  \n",
      "1             0.0             0.0  \n",
      "2             0.0             0.0  \n",
      "3             0.0             0.0  \n",
      "4             0.0             0.0  \n",
      "precip_annualQuants\n",
      "temp_zipQuants\n",
      "precip_zipQuants\n",
      "temp_zipQuarterQuants\n",
      "precip_zipQuarterQuants\n"
     ]
    }
   ],
   "source": [
    "countData = getCounts(allWeather.columns[2],allWeather)\n",
    "print(countData.head())\n",
    "for quart in allWeather.columns[3:]:\n",
    "    print(quart)\n",
    "    countData = countData.merge(getCounts(quart,allWeather))"
   ]
  },
  {
   "cell_type": "code",
   "execution_count": 57,
   "metadata": {},
   "outputs": [
    {
     "name": "stdout",
     "output_type": "stream",
     "text": [
      "Empty DataFrame\n",
      "Columns: [temp_annual1.0, precip_annual1.0, temp_zip1.0, precip_zip1.0, temp_zipQuarter1.0, zip, yearQuarter, precip_zipQuarter1.0, 2.0, 3.0, 4.0, 5.0]\n",
      "Index: []\n"
     ]
    }
   ],
   "source": [
    "print(countData.head())"
   ]
  },
  {
   "cell_type": "markdown",
   "metadata": {},
   "source": [
    "Reformat the column names so they're consistent."
   ]
  },
  {
   "cell_type": "code",
   "execution_count": null,
   "metadata": {},
   "outputs": [],
   "source": [
    "countData['year'] = countData.yearQuarter.str.slice(0,4)\n",
    "countData['qtr']  = countData.yearQuarter.str.slice(5,6).astype('float')\n",
    "countData['zipcode']  = countData.zip.astype('int64')"
   ]
  },
  {
   "cell_type": "code",
   "execution_count": null,
   "metadata": {},
   "outputs": [],
   "source": [
    "countData.zipcode.min()"
   ]
  },
  {
   "cell_type": "code",
   "execution_count": null,
   "metadata": {},
   "outputs": [],
   "source": [
    "countData.head()"
   ]
  },
  {
   "cell_type": "code",
   "execution_count": 17,
   "metadata": {},
   "outputs": [],
   "source": [
    "countData.to_csv(\"../../data/companyData/allWeatherBins_2009to2019_allZips.csv\")"
   ]
  },
  {
   "cell_type": "code",
   "execution_count": null,
   "metadata": {},
   "outputs": [],
   "source": [
    "len(countData.zipcode.unique())"
   ]
  },
  {
   "cell_type": "code",
   "execution_count": null,
   "metadata": {},
   "outputs": [],
   "source": [
    "countData.columns"
   ]
  },
  {
   "cell_type": "markdown",
   "metadata": {},
   "source": [
    "# Revise this\n",
    "So we have all bins."
   ]
  },
  {
   "cell_type": "code",
   "execution_count": 56,
   "metadata": {},
   "outputs": [
    {
     "data": {
      "text/plain": [
       "Index(['zip', 'yearQuarter', 'temp_annual1.0', 'temp_annual2.0',\n",
       "       'temp_annual3.0', 'temp_annual4.0', 'temp_annual5.0',\n",
       "       'precip_annual1.0', 'precip_annual2.0', 'precip_annual3.0',\n",
       "       'precip_annual4.0', 'precip_annual5.0', 'temp_zip1.0', 'temp_zip2.0',\n",
       "       'temp_zip3.0', 'temp_zip4.0', 'temp_zip5.0', 'precip_zip1.0',\n",
       "       'precip_zip2.0', 'precip_zip3.0', 'precip_zip4.0', 'precip_zip5.0',\n",
       "       'temp_zipQuarter1.0', 'temp_zipQuarter2.0', 'temp_zipQuarter3.0',\n",
       "       'temp_zipQuarter4.0', 'temp_zipQuarter5.0', 'precip_zipQuarter1.0',\n",
       "       'precip_zipQuarter2.0', 'precip_zipQuarter3.0', 'precip_zipQuarter4.0',\n",
       "       'precip_zipQuarter5.0'],\n",
       "      dtype='object')"
      ]
     },
     "execution_count": 56,
     "metadata": {},
     "output_type": "execute_result"
    }
   ],
   "source": [
    "countData                = pd.read_csv(\"../../data/companyData/allWeatherBins_2009to2019_allZips.csv\").drop(columns = 'Unnamed: 0')"
   ]
  },
  {
   "cell_type": "code",
   "execution_count": 50,
   "metadata": {},
   "outputs": [
    {
     "data": {
      "text/html": [
       "<div>\n",
       "<style scoped>\n",
       "    .dataframe tbody tr th:only-of-type {\n",
       "        vertical-align: middle;\n",
       "    }\n",
       "\n",
       "    .dataframe tbody tr th {\n",
       "        vertical-align: top;\n",
       "    }\n",
       "\n",
       "    .dataframe thead th {\n",
       "        text-align: right;\n",
       "    }\n",
       "</style>\n",
       "<table border=\"1\" class=\"dataframe\">\n",
       "  <thead>\n",
       "    <tr style=\"text-align: right;\">\n",
       "      <th></th>\n",
       "      <th>zipcode</th>\n",
       "      <th>year</th>\n",
       "      <th>quarter</th>\n",
       "    </tr>\n",
       "  </thead>\n",
       "  <tbody>\n",
       "    <tr>\n",
       "      <th>0</th>\n",
       "      <td>1001</td>\n",
       "      <td>2009</td>\n",
       "      <td>1</td>\n",
       "    </tr>\n",
       "    <tr>\n",
       "      <th>1</th>\n",
       "      <td>1001</td>\n",
       "      <td>2009</td>\n",
       "      <td>2</td>\n",
       "    </tr>\n",
       "    <tr>\n",
       "      <th>2</th>\n",
       "      <td>1001</td>\n",
       "      <td>2009</td>\n",
       "      <td>3</td>\n",
       "    </tr>\n",
       "    <tr>\n",
       "      <th>3</th>\n",
       "      <td>1001</td>\n",
       "      <td>2009</td>\n",
       "      <td>4</td>\n",
       "    </tr>\n",
       "    <tr>\n",
       "      <th>4</th>\n",
       "      <td>1001</td>\n",
       "      <td>2010</td>\n",
       "      <td>1</td>\n",
       "    </tr>\n",
       "  </tbody>\n",
       "</table>\n",
       "</div>"
      ],
      "text/plain": [
       "   zipcode  year quarter\n",
       "0     1001  2009       1\n",
       "1     1001  2009       2\n",
       "2     1001  2009       3\n",
       "3     1001  2009       4\n",
       "4     1001  2010       1"
      ]
     },
     "execution_count": 50,
     "metadata": {},
     "output_type": "execute_result"
    }
   ],
   "source": [
    "countData                = pd.read_csv(\"../../data/companyData/allWeatherBins_2009to2019_allZips.csv\").drop(columns = 'Unnamed: 0')\n",
    "countData.rename(columns = {'zip': 'zipcode'}, inplace = True)\n",
    "\n",
    "countData['year']    = countData.yearQuarter.str.slice(0,4)\n",
    "countData['quarter'] = countData.yearQuarter.str.slice(5,6)\n",
    "\n",
    "countDataRevised = countData[['zipcode','year','quarter']]\n",
    "\n",
    "countDataRevised.head()\n"
   ]
  },
  {
   "cell_type": "code",
   "execution_count": 51,
   "metadata": {},
   "outputs": [
    {
     "data": {
      "text/plain": [
       "{'3.0': ['3.0', '4.0', '5.0'], '4.0': ['4.0', '5.0'], '5.0': ['5.0']}"
      ]
     },
     "execution_count": 51,
     "metadata": {},
     "output_type": "execute_result"
    }
   ],
   "source": [
    "cdf"
   ]
  },
  {
   "cell_type": "code",
   "execution_count": 52,
   "metadata": {
    "scrolled": true
   },
   "outputs": [
    {
     "name": "stdout",
     "output_type": "stream",
     "text": [
      "precip_annual *************************\n",
      "precip_annual3.0\n",
      "precip_annualquant_0.95 ******\n",
      "precip_annual3.0\n",
      "precip_annual4.0\n",
      "precip_annual5.0\n",
      "precip_annual4.0\n",
      "precip_annualquant_1x5Qtrs ******\n",
      "precip_annual4.0\n",
      "precip_annual5.0\n",
      "precip_annual5.0\n",
      "precip_annualquant_1x5Yrs ******\n",
      "precip_annual5.0\n",
      "precip_zip *************************\n",
      "precip_zip3.0\n",
      "precip_zipquant_0.95 ******\n",
      "precip_zip3.0\n",
      "precip_zip4.0\n",
      "precip_zip5.0\n",
      "precip_zip4.0\n",
      "precip_zipquant_1x5Qtrs ******\n",
      "precip_zip4.0\n",
      "precip_zip5.0\n",
      "precip_zip5.0\n",
      "precip_zipquant_1x5Yrs ******\n",
      "precip_zip5.0\n",
      "precip_zipQuarter *************************\n",
      "precip_zipQuarter3.0\n",
      "precip_zipQuarterquant_0.95 ******\n",
      "precip_zipQuarter3.0\n",
      "precip_zipQuarter4.0\n",
      "precip_zipQuarter5.0\n",
      "precip_zipQuarter4.0\n",
      "precip_zipQuarterquant_1x5Qtrs ******\n",
      "precip_zipQuarter4.0\n",
      "precip_zipQuarter5.0\n",
      "precip_zipQuarter5.0\n",
      "precip_zipQuarterquant_1x5Yrs ******\n",
      "precip_zipQuarter5.0\n",
      "temp_annual *************************\n",
      "temp_annual3.0\n",
      "temp_annualquant_0.95 ******\n",
      "temp_annual3.0\n",
      "temp_annual4.0\n",
      "temp_annual5.0\n",
      "temp_annual4.0\n",
      "temp_annualquant_1x5Qtrs ******\n",
      "temp_annual4.0\n",
      "temp_annual5.0\n",
      "temp_annual5.0\n",
      "temp_annualquant_1x5Yrs ******\n",
      "temp_annual5.0\n",
      "temp_zip *************************\n",
      "temp_zip3.0\n",
      "temp_zipquant_0.95 ******\n",
      "temp_zip3.0\n",
      "temp_zip4.0\n",
      "temp_zip5.0\n",
      "temp_zip4.0\n",
      "temp_zipquant_1x5Qtrs ******\n",
      "temp_zip4.0\n",
      "temp_zip5.0\n",
      "temp_zip5.0\n",
      "temp_zipquant_1x5Yrs ******\n",
      "temp_zip5.0\n",
      "temp_zipQuarter *************************\n",
      "temp_zipQuarter3.0\n",
      "temp_zipQuarterquant_0.95 ******\n",
      "temp_zipQuarter3.0\n",
      "temp_zipQuarter4.0\n",
      "temp_zipQuarter5.0\n",
      "temp_zipQuarter4.0\n",
      "temp_zipQuarterquant_1x5Qtrs ******\n",
      "temp_zipQuarter4.0\n",
      "temp_zipQuarter5.0\n",
      "temp_zipQuarter5.0\n",
      "temp_zipQuarterquant_1x5Yrs ******\n",
      "temp_zipQuarter5.0\n"
     ]
    },
    {
     "name": "stderr",
     "output_type": "stream",
     "text": [
      "/Users/brianreed/opt/anaconda3/lib/python3.7/site-packages/ipykernel_launcher.py:37: SettingWithCopyWarning: \n",
      "A value is trying to be set on a copy of a slice from a DataFrame.\n",
      "Try using .loc[row_indexer,col_indexer] = value instead\n",
      "\n",
      "See the caveats in the documentation: https://pandas.pydata.org/pandas-docs/stable/user_guide/indexing.html#returning-a-view-versus-a-copy\n",
      "/Users/brianreed/opt/anaconda3/lib/python3.7/site-packages/ipykernel_launcher.py:42: SettingWithCopyWarning: \n",
      "A value is trying to be set on a copy of a slice from a DataFrame.\n",
      "Try using .loc[row_indexer,col_indexer] = value instead\n",
      "\n",
      "See the caveats in the documentation: https://pandas.pydata.org/pandas-docs/stable/user_guide/indexing.html#returning-a-view-versus-a-copy\n"
     ]
    }
   ],
   "source": [
    "# need to account for fact that once a year-quarter is 90 days, not 365\n",
    "'''quant_labels = ['quant_0.05','quant_tossThisOne','quant_0.95',\n",
    "                'quant_1x5Qtrs','quant_1x5Yrs']'''\n",
    "\n",
    "cdf = {}\n",
    "\n",
    "\n",
    "cdf['3.0']   = ['3.0','4.0','5.0']\n",
    "cdf['4.0']   = ['4.0','5.0']\n",
    "cdf['5.0']   = ['5.0']\n",
    "\n",
    "'''\n",
    "cdf['0.95']     = ['3.0','4.0','5.0']\n",
    "cdf['1x5Qtrs']   = ['4.0','5.0']\n",
    "cdf['1x5Yrs']   = ['5.0']\n",
    "'''\n",
    "\n",
    "weatherVars = ['precip_','temp_']\n",
    "statVars    = ['annual','zip','zipQuarter']\n",
    "\n",
    "\n",
    "for weatherVar in weatherVars:\n",
    "    for statVar in statVars:\n",
    "        print(weatherVar + statVar, \"*************************\")\n",
    "        \n",
    "        # 0.95\n",
    "        for cutoff in list(cdf.keys()):\n",
    "            varHere = weatherVar + statVar + cutoff\n",
    "            print(varHere)\n",
    "            if (cutoff == '3.0'):\n",
    "                varHereRev = weatherVar + statVar + 'quant_0.95'\n",
    "            if cutoff == '4.0':\n",
    "                varHereRev = weatherVar + statVar + 'quant_1x5Qtrs'\n",
    "            if cutoff == '5.0':\n",
    "                varHereRev = weatherVar + statVar + 'quant_1x5Yrs'       \n",
    "            \n",
    "            countDataRevised[varHereRev] = 0 # countData[varHere]\n",
    "            \n",
    "            print(varHereRev, \"******\")\n",
    "            for greaterThanCutoffs in cdf[cutoff]:\n",
    "                varCDF = weatherVar + statVar + greaterThanCutoffs \n",
    "                countDataRevised[varHereRev] = countDataRevised[varHereRev] + countData[varCDF] \n",
    "                print(weatherVar + statVar + greaterThanCutoffs)\n",
    " "
   ]
  },
  {
   "cell_type": "code",
   "execution_count": 53,
   "metadata": {},
   "outputs": [
    {
     "data": {
      "text/html": [
       "<div>\n",
       "<style scoped>\n",
       "    .dataframe tbody tr th:only-of-type {\n",
       "        vertical-align: middle;\n",
       "    }\n",
       "\n",
       "    .dataframe tbody tr th {\n",
       "        vertical-align: top;\n",
       "    }\n",
       "\n",
       "    .dataframe thead th {\n",
       "        text-align: right;\n",
       "    }\n",
       "</style>\n",
       "<table border=\"1\" class=\"dataframe\">\n",
       "  <thead>\n",
       "    <tr style=\"text-align: right;\">\n",
       "      <th></th>\n",
       "      <th>zipcode</th>\n",
       "      <th>year</th>\n",
       "      <th>quarter</th>\n",
       "      <th>precip_annualquant_0.95</th>\n",
       "      <th>precip_annualquant_1x5Qtrs</th>\n",
       "      <th>precip_annualquant_1x5Yrs</th>\n",
       "      <th>precip_zipquant_0.95</th>\n",
       "      <th>precip_zipquant_1x5Qtrs</th>\n",
       "      <th>precip_zipquant_1x5Yrs</th>\n",
       "      <th>precip_zipQuarterquant_0.95</th>\n",
       "      <th>...</th>\n",
       "      <th>precip_zipQuarterquant_1x5Yrs</th>\n",
       "      <th>temp_annualquant_0.95</th>\n",
       "      <th>temp_annualquant_1x5Qtrs</th>\n",
       "      <th>temp_annualquant_1x5Yrs</th>\n",
       "      <th>temp_zipquant_0.95</th>\n",
       "      <th>temp_zipquant_1x5Qtrs</th>\n",
       "      <th>temp_zipquant_1x5Yrs</th>\n",
       "      <th>temp_zipQuarterquant_0.95</th>\n",
       "      <th>temp_zipQuarterquant_1x5Qtrs</th>\n",
       "      <th>temp_zipQuarterquant_1x5Yrs</th>\n",
       "    </tr>\n",
       "  </thead>\n",
       "  <tbody>\n",
       "    <tr>\n",
       "      <th>0</th>\n",
       "      <td>1001</td>\n",
       "      <td>2009</td>\n",
       "      <td>1</td>\n",
       "      <td>5.0</td>\n",
       "      <td>0.0</td>\n",
       "      <td>0.0</td>\n",
       "      <td>0.0</td>\n",
       "      <td>0.0</td>\n",
       "      <td>0.0</td>\n",
       "      <td>10.0</td>\n",
       "      <td>...</td>\n",
       "      <td>0.0</td>\n",
       "      <td>0.0</td>\n",
       "      <td>0.0</td>\n",
       "      <td>0.0</td>\n",
       "      <td>0.0</td>\n",
       "      <td>0.0</td>\n",
       "      <td>0.0</td>\n",
       "      <td>9.0</td>\n",
       "      <td>4.0</td>\n",
       "      <td>0.0</td>\n",
       "    </tr>\n",
       "    <tr>\n",
       "      <th>1</th>\n",
       "      <td>1001</td>\n",
       "      <td>2009</td>\n",
       "      <td>2</td>\n",
       "      <td>8.0</td>\n",
       "      <td>3.0</td>\n",
       "      <td>0.0</td>\n",
       "      <td>0.0</td>\n",
       "      <td>0.0</td>\n",
       "      <td>0.0</td>\n",
       "      <td>15.0</td>\n",
       "      <td>...</td>\n",
       "      <td>0.0</td>\n",
       "      <td>0.0</td>\n",
       "      <td>0.0</td>\n",
       "      <td>0.0</td>\n",
       "      <td>6.0</td>\n",
       "      <td>4.0</td>\n",
       "      <td>0.0</td>\n",
       "      <td>6.0</td>\n",
       "      <td>3.0</td>\n",
       "      <td>0.0</td>\n",
       "    </tr>\n",
       "    <tr>\n",
       "      <th>2</th>\n",
       "      <td>1001</td>\n",
       "      <td>2009</td>\n",
       "      <td>3</td>\n",
       "      <td>10.0</td>\n",
       "      <td>4.0</td>\n",
       "      <td>0.0</td>\n",
       "      <td>2.0</td>\n",
       "      <td>2.0</td>\n",
       "      <td>0.0</td>\n",
       "      <td>13.0</td>\n",
       "      <td>...</td>\n",
       "      <td>1.0</td>\n",
       "      <td>0.0</td>\n",
       "      <td>0.0</td>\n",
       "      <td>0.0</td>\n",
       "      <td>17.0</td>\n",
       "      <td>9.0</td>\n",
       "      <td>0.0</td>\n",
       "      <td>6.0</td>\n",
       "      <td>1.0</td>\n",
       "      <td>0.0</td>\n",
       "    </tr>\n",
       "    <tr>\n",
       "      <th>3</th>\n",
       "      <td>1001</td>\n",
       "      <td>2009</td>\n",
       "      <td>4</td>\n",
       "      <td>10.0</td>\n",
       "      <td>2.0</td>\n",
       "      <td>0.0</td>\n",
       "      <td>0.0</td>\n",
       "      <td>0.0</td>\n",
       "      <td>0.0</td>\n",
       "      <td>14.0</td>\n",
       "      <td>...</td>\n",
       "      <td>0.0</td>\n",
       "      <td>0.0</td>\n",
       "      <td>0.0</td>\n",
       "      <td>0.0</td>\n",
       "      <td>0.0</td>\n",
       "      <td>0.0</td>\n",
       "      <td>0.0</td>\n",
       "      <td>4.0</td>\n",
       "      <td>1.0</td>\n",
       "      <td>0.0</td>\n",
       "    </tr>\n",
       "    <tr>\n",
       "      <th>4</th>\n",
       "      <td>1001</td>\n",
       "      <td>2010</td>\n",
       "      <td>1</td>\n",
       "      <td>10.0</td>\n",
       "      <td>6.0</td>\n",
       "      <td>0.0</td>\n",
       "      <td>2.0</td>\n",
       "      <td>2.0</td>\n",
       "      <td>0.0</td>\n",
       "      <td>11.0</td>\n",
       "      <td>...</td>\n",
       "      <td>0.0</td>\n",
       "      <td>0.0</td>\n",
       "      <td>0.0</td>\n",
       "      <td>0.0</td>\n",
       "      <td>0.0</td>\n",
       "      <td>0.0</td>\n",
       "      <td>0.0</td>\n",
       "      <td>14.0</td>\n",
       "      <td>7.0</td>\n",
       "      <td>0.0</td>\n",
       "    </tr>\n",
       "  </tbody>\n",
       "</table>\n",
       "<p>5 rows × 21 columns</p>\n",
       "</div>"
      ],
      "text/plain": [
       "   zipcode  year quarter  precip_annualquant_0.95  precip_annualquant_1x5Qtrs  \\\n",
       "0     1001  2009       1                      5.0                         0.0   \n",
       "1     1001  2009       2                      8.0                         3.0   \n",
       "2     1001  2009       3                     10.0                         4.0   \n",
       "3     1001  2009       4                     10.0                         2.0   \n",
       "4     1001  2010       1                     10.0                         6.0   \n",
       "\n",
       "   precip_annualquant_1x5Yrs  precip_zipquant_0.95  precip_zipquant_1x5Qtrs  \\\n",
       "0                        0.0                   0.0                      0.0   \n",
       "1                        0.0                   0.0                      0.0   \n",
       "2                        0.0                   2.0                      2.0   \n",
       "3                        0.0                   0.0                      0.0   \n",
       "4                        0.0                   2.0                      2.0   \n",
       "\n",
       "   precip_zipquant_1x5Yrs  precip_zipQuarterquant_0.95  ...  \\\n",
       "0                     0.0                         10.0  ...   \n",
       "1                     0.0                         15.0  ...   \n",
       "2                     0.0                         13.0  ...   \n",
       "3                     0.0                         14.0  ...   \n",
       "4                     0.0                         11.0  ...   \n",
       "\n",
       "   precip_zipQuarterquant_1x5Yrs  temp_annualquant_0.95  \\\n",
       "0                            0.0                    0.0   \n",
       "1                            0.0                    0.0   \n",
       "2                            1.0                    0.0   \n",
       "3                            0.0                    0.0   \n",
       "4                            0.0                    0.0   \n",
       "\n",
       "   temp_annualquant_1x5Qtrs  temp_annualquant_1x5Yrs  temp_zipquant_0.95  \\\n",
       "0                       0.0                      0.0                 0.0   \n",
       "1                       0.0                      0.0                 6.0   \n",
       "2                       0.0                      0.0                17.0   \n",
       "3                       0.0                      0.0                 0.0   \n",
       "4                       0.0                      0.0                 0.0   \n",
       "\n",
       "   temp_zipquant_1x5Qtrs  temp_zipquant_1x5Yrs  temp_zipQuarterquant_0.95  \\\n",
       "0                    0.0                   0.0                        9.0   \n",
       "1                    4.0                   0.0                        6.0   \n",
       "2                    9.0                   0.0                        6.0   \n",
       "3                    0.0                   0.0                        4.0   \n",
       "4                    0.0                   0.0                       14.0   \n",
       "\n",
       "   temp_zipQuarterquant_1x5Qtrs  temp_zipQuarterquant_1x5Yrs  \n",
       "0                           4.0                          0.0  \n",
       "1                           3.0                          0.0  \n",
       "2                           1.0                          0.0  \n",
       "3                           1.0                          0.0  \n",
       "4                           7.0                          0.0  \n",
       "\n",
       "[5 rows x 21 columns]"
      ]
     },
     "execution_count": 53,
     "metadata": {},
     "output_type": "execute_result"
    }
   ],
   "source": [
    "countDataRevised.head()"
   ]
  },
  {
   "cell_type": "code",
   "execution_count": 54,
   "metadata": {},
   "outputs": [],
   "source": [
    "countDataRevised.to_csv(\"../../data/companyData/revised_allWeatherBins_2009to2019_allZips.csv\")"
   ]
  },
  {
   "cell_type": "code",
   "execution_count": null,
   "metadata": {},
   "outputs": [],
   "source": [
    "countDataRevised = pd.read_csv(\"../../data/companyData/revised_allWeatherBins_2009to2019.csv\")"
   ]
  },
  {
   "cell_type": "code",
   "execution_count": null,
   "metadata": {},
   "outputs": [],
   "source": [
    "countDataRevised['temp5Days_zipquant_0.95'].describe()"
   ]
  },
  {
   "cell_type": "code",
   "execution_count": null,
   "metadata": {},
   "outputs": [],
   "source": []
  }
 ],
 "metadata": {
  "kernelspec": {
   "display_name": "Python 3",
   "language": "python",
   "name": "python3"
  },
  "language_info": {
   "codemirror_mode": {
    "name": "ipython",
    "version": 3
   },
   "file_extension": ".py",
   "mimetype": "text/x-python",
   "name": "python",
   "nbconvert_exporter": "python",
   "pygments_lexer": "ipython3",
   "version": "3.7.4"
  }
 },
 "nbformat": 4,
 "nbformat_minor": 2
}
