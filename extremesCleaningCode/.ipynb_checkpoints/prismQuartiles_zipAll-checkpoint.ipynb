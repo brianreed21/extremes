{
 "cells": [
  {
   "cell_type": "code",
   "execution_count": 74,
   "metadata": {},
   "outputs": [],
   "source": [
    "import pickle as pkl\n",
    "import pandas as pd\n",
    "import matplotlib\n",
    "import os\n",
    "import re\n",
    "\n",
    "import collections\n",
    "import datetime\n",
    "import time\n",
    "\n",
    "import matplotlib.pyplot as plt\n",
    "import seaborn as sns\n",
    "    \n",
    "import geopandas as gpd\n",
    "\n",
    "import numpy as np\n",
    "\n",
    "import rasterio\n",
    "\n",
    "from difflib import get_close_matches\n",
    "\n",
    "from fuzzywuzzy import process\n",
    "from fuzzywuzzy import fuzz\n",
    "\n",
    "import dask.dataframe as dd\n",
    "\n",
    "import gc\n",
    "import sys\n",
    "\n",
    "from multiprocessing import Pool\n",
    "import multiprocessing\n",
    "\n",
    "from dask.diagnostics import ProgressBar\n"
   ]
  },
  {
   "cell_type": "markdown",
   "metadata": {},
   "source": [
    "# Sample"
   ]
  },
  {
   "cell_type": "code",
   "execution_count": 2,
   "metadata": {},
   "outputs": [],
   "source": [
    "def getData(weatherType,yearRange1,yearRange2):\n",
    "\n",
    "    if weatherType == \"Tmax\":\n",
    "        weatherVar = \"temperature\"\n",
    "    else: \n",
    "        weatherVar = \"precipitation\"\n",
    "    \n",
    "    year = yearRange1\n",
    "    filename = \"../../../../../../../Volumes/backup2/dissData/prism/zipcode\" + weatherType + str(year) + \".csv\"\n",
    "    data = dd.read_csv(filename, assume_missing=True)[['ZIP','date',weatherVar]]\n",
    "    data['ZIP'] = data.ZIP.astype('int64')\n",
    "\n",
    "    \n",
    "   \n",
    "    years = range(yearRange1 + 1,yearRange2 + 1)\n",
    "    for year in years:\n",
    "        filename = \"../../../../../../../Volumes/backup2/dissData/prism/zipcode\" + weatherType + str(year) + \".csv\"\n",
    "        tempData = dd.read_csv(filename, assume_missing=True)[['ZIP','date',weatherVar]]\n",
    "        tempData['ZIP'] = tempData.ZIP.astype('int64')\n",
    "\n",
    "        # tempData = tempData[tempData.ZIP.isin(relevantZips)]\n",
    "        # tempData = tempData[~(tempData[weatherVar].isna().compute())]\n",
    "        data = data.append(tempData)\n",
    "\n",
    "    data = data[~(data[weatherVar].isna())] # .compute()\n",
    "    \n",
    "    return(data)\n"
   ]
  },
  {
   "cell_type": "markdown",
   "metadata": {},
   "source": [
    "I think only a few of these quantiles will be relevant. Let's look at 0, 0.9, 0.95, 1.0"
   ]
  },
  {
   "cell_type": "code",
   "execution_count": 3,
   "metadata": {},
   "outputs": [],
   "source": [
    "quantiles = [0.0, 0.05, 0.90, 0.95, 0.9978, 0.9995]\n",
    "\n",
    "# need to account for fact that once a year-quarter is 90 days, not 365\n",
    "quant_labels = ['quant_0.05','quant_tossThisOne','quant_0.95',\n",
    "                'quant_1x5Qtrs','quant_1x5Yrs']"
   ]
  },
  {
   "cell_type": "markdown",
   "metadata": {},
   "source": [
    "# Precipitation"
   ]
  },
  {
   "cell_type": "code",
   "execution_count": 4,
   "metadata": {},
   "outputs": [],
   "source": [
    "weatherType = \"Precip\" # Tmax\n",
    "precipData = getData(weatherType, 1981, 2008)"
   ]
  },
  {
   "cell_type": "code",
   "execution_count": 5,
   "metadata": {},
   "outputs": [],
   "source": [
    "precipData['quarter']    = dd.to_datetime(precipData['date'], format='%Y%m%d').dt.quarter"
   ]
  },
  {
   "cell_type": "code",
   "execution_count": 6,
   "metadata": {},
   "outputs": [
    {
     "data": {
      "text/plain": [
       "(333972912, 4)"
      ]
     },
     "execution_count": 6,
     "metadata": {},
     "output_type": "execute_result"
    }
   ],
   "source": [
    "precip = precipData.compute(workers = 100)\n",
    "precip.shape"
   ]
  },
  {
   "cell_type": "code",
   "execution_count": 7,
   "metadata": {},
   "outputs": [],
   "source": [
    "precip.to_csv(\"../../data/companyData/allZipsPrecip.csv\")"
   ]
  },
  {
   "cell_type": "code",
   "execution_count": 11,
   "metadata": {},
   "outputs": [
    {
     "data": {
      "text/plain": [
       "470"
      ]
     },
     "execution_count": 11,
     "metadata": {},
     "output_type": "execute_result"
    }
   ],
   "source": [
    "del precip\n",
    "gc.collect()"
   ]
  },
  {
   "cell_type": "markdown",
   "metadata": {},
   "source": [
    "## Temperature"
   ]
  },
  {
   "cell_type": "code",
   "execution_count": 8,
   "metadata": {},
   "outputs": [],
   "source": [
    "weatherType = \"Tmax\"\n",
    "tempData = getData(weatherType, 1981, 2008)"
   ]
  },
  {
   "cell_type": "code",
   "execution_count": 9,
   "metadata": {},
   "outputs": [],
   "source": [
    "tempData['quarter']  = dd.to_datetime(tempData['date'], format='%Y%m%d').dt.quarter"
   ]
  },
  {
   "cell_type": "code",
   "execution_count": 12,
   "metadata": {},
   "outputs": [
    {
     "data": {
      "text/plain": [
       "(333972912, 4)"
      ]
     },
     "execution_count": 12,
     "metadata": {},
     "output_type": "execute_result"
    }
   ],
   "source": [
    "temp = tempData.compute(workers = 100)\n",
    "temp.shape"
   ]
  },
  {
   "cell_type": "code",
   "execution_count": 13,
   "metadata": {},
   "outputs": [],
   "source": [
    "temp.to_csv(\"../../data/companyData/allZipsTemp.csv\")"
   ]
  },
  {
   "cell_type": "code",
   "execution_count": 14,
   "metadata": {},
   "outputs": [
    {
     "data": {
      "text/plain": [
       "40"
      ]
     },
     "execution_count": 14,
     "metadata": {},
     "output_type": "execute_result"
    }
   ],
   "source": [
    "del temp\n",
    "gc.collect()"
   ]
  },
  {
   "cell_type": "markdown",
   "metadata": {},
   "source": [
    "## Merge and save\n",
    "Merge these two and save them as one sv that we can read in and reindex. I think the above approach reads in all files separately so we get a multi-index problem."
   ]
  },
  {
   "cell_type": "code",
   "execution_count": null,
   "metadata": {},
   "outputs": [],
   "source": [
    "temp['precipitation'] = precip.precipitation\n",
    "temp.head()"
   ]
  },
  {
   "cell_type": "code",
   "execution_count": null,
   "metadata": {},
   "outputs": [],
   "source": [
    "temp.to_csv(\"../../data/companyData/allZipsTemp.csv\")"
   ]
  },
  {
   "cell_type": "markdown",
   "metadata": {},
   "source": [
    "# Load all data\n",
    "## Get stats\n",
    "\n",
    "### Describe Climate"
   ]
  },
  {
   "cell_type": "code",
   "execution_count": 81,
   "metadata": {},
   "outputs": [],
   "source": [
    "weatherData   = dd.read_csv(\"../../data/companyData/allZipsTemp.csv\").drop(columns = {'Unnamed: 0'})\n",
    "precipData = dd.read_csv(\"../../data/companyData/allZipsPrecip.csv\").drop(columns = {'Unnamed: 0'})\n",
    "with ProgressBar():\n",
    "    precipData = precipData.repartition(npartitions=225)\n",
    "    weatherData   = tempData.repartition(npartitions=225)\n",
    "# weatherData = tempData.merge(precipData)"
   ]
  },
  {
   "cell_type": "code",
   "execution_count": 82,
   "metadata": {},
   "outputs": [
    {
     "data": {
      "text/html": [
       "<div>\n",
       "<style scoped>\n",
       "    .dataframe tbody tr th:only-of-type {\n",
       "        vertical-align: middle;\n",
       "    }\n",
       "\n",
       "    .dataframe tbody tr th {\n",
       "        vertical-align: top;\n",
       "    }\n",
       "\n",
       "    .dataframe thead th {\n",
       "        text-align: right;\n",
       "    }\n",
       "</style>\n",
       "<table border=\"1\" class=\"dataframe\">\n",
       "  <thead>\n",
       "    <tr style=\"text-align: right;\">\n",
       "      <th></th>\n",
       "      <th>ZIP</th>\n",
       "      <th>date</th>\n",
       "      <th>temperature</th>\n",
       "      <th>quarter</th>\n",
       "      <th>precipitation</th>\n",
       "    </tr>\n",
       "  </thead>\n",
       "  <tbody>\n",
       "    <tr>\n",
       "      <th>0</th>\n",
       "      <td>1001</td>\n",
       "      <td>19810101.0</td>\n",
       "      <td>-5.148</td>\n",
       "      <td>1</td>\n",
       "      <td>0.0</td>\n",
       "    </tr>\n",
       "    <tr>\n",
       "      <th>1</th>\n",
       "      <td>1002</td>\n",
       "      <td>19810101.0</td>\n",
       "      <td>-5.678</td>\n",
       "      <td>1</td>\n",
       "      <td>0.0</td>\n",
       "    </tr>\n",
       "    <tr>\n",
       "      <th>2</th>\n",
       "      <td>1003</td>\n",
       "      <td>19810101.0</td>\n",
       "      <td>-5.460</td>\n",
       "      <td>1</td>\n",
       "      <td>0.0</td>\n",
       "    </tr>\n",
       "    <tr>\n",
       "      <th>3</th>\n",
       "      <td>1005</td>\n",
       "      <td>19810101.0</td>\n",
       "      <td>-6.078</td>\n",
       "      <td>1</td>\n",
       "      <td>0.0</td>\n",
       "    </tr>\n",
       "    <tr>\n",
       "      <th>4</th>\n",
       "      <td>1007</td>\n",
       "      <td>19810101.0</td>\n",
       "      <td>-5.815</td>\n",
       "      <td>1</td>\n",
       "      <td>0.0</td>\n",
       "    </tr>\n",
       "  </tbody>\n",
       "</table>\n",
       "</div>"
      ],
      "text/plain": [
       "    ZIP        date  temperature  quarter  precipitation\n",
       "0  1001  19810101.0       -5.148        1            0.0\n",
       "1  1002  19810101.0       -5.678        1            0.0\n",
       "2  1003  19810101.0       -5.460        1            0.0\n",
       "3  1005  19810101.0       -6.078        1            0.0\n",
       "4  1007  19810101.0       -5.815        1            0.0"
      ]
     },
     "execution_count": 82,
     "metadata": {},
     "output_type": "execute_result"
    }
   ],
   "source": [
    "# tempData['precipitation'] = precipData.precipitation\n",
    "weatherData = weatherData.assign(precipitation=precipData.precipitation)\n",
    "weatherData.head()"
   ]
  },
  {
   "cell_type": "code",
   "execution_count": 52,
   "metadata": {},
   "outputs": [
    {
     "name": "stdout",
     "output_type": "stream",
     "text": [
      "0.00014066696166992188\n"
     ]
    }
   ],
   "source": [
    "start = time.time()\n",
    "\n",
    "# tempData['temp5Days']     = tempData.groupby(by='ZIP').apply(lambda df_g: df_g['temperature'].rolling(5).mean(), meta=('temperature', 'f8'))\n",
    "# precipData['precip5Days']    = precipData.groupby(by='ZIP').apply(lambda df_g: df_g['precipitation'].rolling(5).mean(), meta=('precipitation', 'f8'))\n",
    "# precipData['precipQtrMean']  = precipData.groupby(by='quarter').apply(lambda df_g: df_g['precipitation'].mean(), meta=('precipitation', 'f8'))\n",
    "\n",
    "print(time.time() - start)"
   ]
  },
  {
   "cell_type": "code",
   "execution_count": 95,
   "metadata": {},
   "outputs": [
    {
     "name": "stdout",
     "output_type": "stream",
     "text": [
      "   quarter  quarterly_var_temp  quarterly_var_precip\n",
      "0        1           90.610895             55.668947\n",
      "1        2           56.110724             55.242613\n",
      "2        3           28.900500             56.412663\n",
      "3        4           90.470189             57.189735    quarter  quarterly_avg_temp  quarterly_avg_precip\n",
      "0        1            8.435430              2.614472\n",
      "1        2           22.821419              2.687989\n",
      "2        3           28.293629              2.790931\n",
      "3        4           13.120395              2.766938\n"
     ]
    }
   ],
   "source": [
    "quarterlyAvg = weatherData.groupby('quarter').mean().compute(workers = 100).\\\n",
    "    reset_index()[['quarter','temperature','precipitation']].rename(columns = {'temperature': 'quarterly_avg_temp',\n",
    "                                                                              'precipitation': 'quarterly_avg_precip'})\n",
    "\n",
    "\n",
    "quarterlyVar = weatherData.groupby('quarter').var().compute(workers = 100).\\\n",
    "    reset_index()[['quarter','temperature','precipitation']].rename(columns = {'temperature': 'quarterly_var_temp',\n",
    "                                                                              'precipitation': 'quarterly_var_precip'})\n",
    "print(quarterlyVar,quarterlyAvg)\n",
    "\n",
    "\n",
    "quarterlyStatsOverall = quarterlyVar.merge(quarterlyAvg)"
   ]
  },
  {
   "cell_type": "code",
   "execution_count": 175,
   "metadata": {},
   "outputs": [
    {
     "ename": "AttributeError",
     "evalue": "'Column not found: percentile'",
     "output_type": "error",
     "traceback": [
      "\u001b[0;31m---------------------------------------------------------------------------\u001b[0m",
      "\u001b[0;31mKeyError\u001b[0m                                  Traceback (most recent call last)",
      "\u001b[0;32m~/opt/anaconda3/lib/python3.7/site-packages/dask/dataframe/groupby.py\u001b[0m in \u001b[0;36m__getattr__\u001b[0;34m(self, key)\u001b[0m\n\u001b[1;32m   1703\u001b[0m         \u001b[0;32mtry\u001b[0m\u001b[0;34m:\u001b[0m\u001b[0;34m\u001b[0m\u001b[0;34m\u001b[0m\u001b[0m\n\u001b[0;32m-> 1704\u001b[0;31m             \u001b[0;32mreturn\u001b[0m \u001b[0mself\u001b[0m\u001b[0;34m[\u001b[0m\u001b[0mkey\u001b[0m\u001b[0;34m]\u001b[0m\u001b[0;34m\u001b[0m\u001b[0;34m\u001b[0m\u001b[0m\n\u001b[0m\u001b[1;32m   1705\u001b[0m         \u001b[0;32mexcept\u001b[0m \u001b[0mKeyError\u001b[0m \u001b[0;32mas\u001b[0m \u001b[0me\u001b[0m\u001b[0;34m:\u001b[0m\u001b[0;34m\u001b[0m\u001b[0;34m\u001b[0m\u001b[0m\n",
      "\u001b[0;32m~/opt/anaconda3/lib/python3.7/site-packages/dask/dataframe/groupby.py\u001b[0m in \u001b[0;36m__getitem__\u001b[0;34m(self, key)\u001b[0m\n\u001b[1;32m   1689\u001b[0m         \u001b[0;31m# error is raised from pandas\u001b[0m\u001b[0;34m\u001b[0m\u001b[0;34m\u001b[0m\u001b[0;34m\u001b[0m\u001b[0m\n\u001b[0;32m-> 1690\u001b[0;31m         \u001b[0mg\u001b[0m\u001b[0;34m.\u001b[0m\u001b[0m_meta\u001b[0m \u001b[0;34m=\u001b[0m \u001b[0mg\u001b[0m\u001b[0;34m.\u001b[0m\u001b[0m_meta\u001b[0m\u001b[0;34m[\u001b[0m\u001b[0mkey\u001b[0m\u001b[0;34m]\u001b[0m\u001b[0;34m\u001b[0m\u001b[0;34m\u001b[0m\u001b[0m\n\u001b[0m\u001b[1;32m   1691\u001b[0m         \u001b[0;32mreturn\u001b[0m \u001b[0mg\u001b[0m\u001b[0;34m\u001b[0m\u001b[0;34m\u001b[0m\u001b[0m\n",
      "\u001b[0;32m~/opt/anaconda3/lib/python3.7/site-packages/pandas/core/groupby/generic.py\u001b[0m in \u001b[0;36m__getitem__\u001b[0;34m(self, key)\u001b[0m\n\u001b[1;32m   1537\u001b[0m             )\n\u001b[0;32m-> 1538\u001b[0;31m         \u001b[0;32mreturn\u001b[0m \u001b[0msuper\u001b[0m\u001b[0;34m(\u001b[0m\u001b[0;34m)\u001b[0m\u001b[0;34m.\u001b[0m\u001b[0m__getitem__\u001b[0m\u001b[0;34m(\u001b[0m\u001b[0mkey\u001b[0m\u001b[0;34m)\u001b[0m\u001b[0;34m\u001b[0m\u001b[0;34m\u001b[0m\u001b[0m\n\u001b[0m\u001b[1;32m   1539\u001b[0m \u001b[0;34m\u001b[0m\u001b[0m\n",
      "\u001b[0;32m~/opt/anaconda3/lib/python3.7/site-packages/pandas/core/base.py\u001b[0m in \u001b[0;36m__getitem__\u001b[0;34m(self, key)\u001b[0m\n\u001b[1;32m    231\u001b[0m             \u001b[0;32mif\u001b[0m \u001b[0mkey\u001b[0m \u001b[0;32mnot\u001b[0m \u001b[0;32min\u001b[0m \u001b[0mself\u001b[0m\u001b[0;34m.\u001b[0m\u001b[0mobj\u001b[0m\u001b[0;34m:\u001b[0m\u001b[0;34m\u001b[0m\u001b[0;34m\u001b[0m\u001b[0m\n\u001b[0;32m--> 232\u001b[0;31m                 \u001b[0;32mraise\u001b[0m \u001b[0mKeyError\u001b[0m\u001b[0;34m(\u001b[0m\u001b[0;34mf\"Column not found: {key}\"\u001b[0m\u001b[0;34m)\u001b[0m\u001b[0;34m\u001b[0m\u001b[0;34m\u001b[0m\u001b[0m\n\u001b[0m\u001b[1;32m    233\u001b[0m             \u001b[0msubset\u001b[0m \u001b[0;34m=\u001b[0m \u001b[0mself\u001b[0m\u001b[0;34m.\u001b[0m\u001b[0mobj\u001b[0m\u001b[0;34m[\u001b[0m\u001b[0mkey\u001b[0m\u001b[0;34m]\u001b[0m\u001b[0;34m\u001b[0m\u001b[0;34m\u001b[0m\u001b[0m\n",
      "\u001b[0;31mKeyError\u001b[0m: 'Column not found: percentile'",
      "\nDuring handling of the above exception, another exception occurred:\n",
      "\u001b[0;31mAttributeError\u001b[0m                            Traceback (most recent call last)",
      "\u001b[0;32m<ipython-input-175-6a52640a5090>\u001b[0m in \u001b[0;36m<module>\u001b[0;34m\u001b[0m\n\u001b[0;32m----> 1\u001b[0;31m \u001b[0mweatherData\u001b[0m\u001b[0;34m.\u001b[0m\u001b[0mgroupby\u001b[0m\u001b[0;34m(\u001b[0m\u001b[0;34m[\u001b[0m\u001b[0;34m'ZIP'\u001b[0m\u001b[0;34m,\u001b[0m\u001b[0;34m'quarter'\u001b[0m\u001b[0;34m]\u001b[0m\u001b[0;34m)\u001b[0m\u001b[0;34m.\u001b[0m\u001b[0mpercentile\u001b[0m\u001b[0;34m(\u001b[0m\u001b[0;34m[\u001b[0m\u001b[0;36m0.5\u001b[0m\u001b[0;34m]\u001b[0m\u001b[0;34m)\u001b[0m\u001b[0;34m\u001b[0m\u001b[0;34m\u001b[0m\u001b[0m\n\u001b[0m",
      "\u001b[0;32m~/opt/anaconda3/lib/python3.7/site-packages/dask/dataframe/groupby.py\u001b[0m in \u001b[0;36m__getattr__\u001b[0;34m(self, key)\u001b[0m\n\u001b[1;32m   1704\u001b[0m             \u001b[0;32mreturn\u001b[0m \u001b[0mself\u001b[0m\u001b[0;34m[\u001b[0m\u001b[0mkey\u001b[0m\u001b[0;34m]\u001b[0m\u001b[0;34m\u001b[0m\u001b[0;34m\u001b[0m\u001b[0m\n\u001b[1;32m   1705\u001b[0m         \u001b[0;32mexcept\u001b[0m \u001b[0mKeyError\u001b[0m \u001b[0;32mas\u001b[0m \u001b[0me\u001b[0m\u001b[0;34m:\u001b[0m\u001b[0;34m\u001b[0m\u001b[0;34m\u001b[0m\u001b[0m\n\u001b[0;32m-> 1706\u001b[0;31m             \u001b[0;32mraise\u001b[0m \u001b[0mAttributeError\u001b[0m\u001b[0;34m(\u001b[0m\u001b[0me\u001b[0m\u001b[0;34m)\u001b[0m\u001b[0;34m\u001b[0m\u001b[0;34m\u001b[0m\u001b[0m\n\u001b[0m\u001b[1;32m   1707\u001b[0m \u001b[0;34m\u001b[0m\u001b[0m\n\u001b[1;32m   1708\u001b[0m     \u001b[0;34m@\u001b[0m\u001b[0mderived_from\u001b[0m\u001b[0;34m(\u001b[0m\u001b[0mpd\u001b[0m\u001b[0;34m.\u001b[0m\u001b[0mcore\u001b[0m\u001b[0;34m.\u001b[0m\u001b[0mgroupby\u001b[0m\u001b[0;34m.\u001b[0m\u001b[0mDataFrameGroupBy\u001b[0m\u001b[0;34m)\u001b[0m\u001b[0;34m\u001b[0m\u001b[0;34m\u001b[0m\u001b[0m\n",
      "\u001b[0;31mAttributeError\u001b[0m: 'Column not found: percentile'"
     ]
    }
   ],
   "source": [
    "weatherData.groupby(['ZIP','quarter']).percentile([0.5])"
   ]
  },
  {
   "cell_type": "code",
   "execution_count": 96,
   "metadata": {},
   "outputs": [
    {
     "name": "stdout",
     "output_type": "stream",
     "text": [
      "          ZIP  quarter  quarterly_var_temp  quarterly_var_precip\n",
      "0        1001        1           42.033604             52.755125\n",
      "1        1002        1           41.171977             56.631223\n",
      "2        1003        1           41.356117             56.334398\n",
      "3        1005        1           41.334653             52.233328\n",
      "4        1007        1           41.264102             57.015382\n",
      "...       ...      ...                 ...                   ...\n",
      "130619  99363        4           60.124202             67.076533\n",
      "130620  99371        4           63.550457             64.528976\n",
      "130621  99401        4           52.100346             78.005397\n",
      "130622  99402        4           49.997708             75.491973\n",
      "130623  99403        4           52.217880             69.550950\n",
      "\n",
      "[130624 rows x 4 columns]           ZIP  quarter  quarterly_avg_temp  quarterly_avg_precip\n",
      "0        1001        1            4.253855              2.372867\n",
      "1        1002        1            2.991732              2.418594\n",
      "2        1003        1            3.906219              2.519859\n",
      "3        1005        1            2.107410              2.463722\n",
      "4        1007        1            3.398788              2.501641\n",
      "...       ...      ...                 ...                   ...\n",
      "130619  99363        4           10.325268              2.932007\n",
      "130620  99371        4            9.544321              2.942717\n",
      "130621  99401        4            7.675624              2.926695\n",
      "130622  99402        4            8.183052              2.885631\n",
      "130623  99403        4            9.414129              3.008188\n",
      "\n",
      "[130624 rows x 4 columns]\n"
     ]
    }
   ],
   "source": [
    "quarterlyAvgByZip = weatherData.groupby(['ZIP','quarter']).mean().compute(workers = 100).\\\n",
    "    reset_index()[['ZIP','quarter','temperature','precipitation']].rename(columns = {'temperature': 'quarterly_avg_temp',\n",
    "                                                                              'precipitation': 'quarterly_avg_precip'})\n",
    "\n",
    "\n",
    "quarterlyVarByZip = weatherData.groupby(['ZIP','quarter']).var().compute(workers = 100).\\\n",
    "    reset_index()[['ZIP','quarter','temperature','precipitation']].rename(columns = {'temperature': 'quarterly_var_temp',\n",
    "                                                                              'precipitation': 'quarterly_var_precip'})\n",
    "print(quarterlyVarByZip,quarterlyAvgByZip)\n",
    "\n",
    "\n",
    "quarterlyStatsByZip = quarterlyAvgByZip.merge(quarterlyVarByZip)"
   ]
  },
  {
   "cell_type": "code",
   "execution_count": 97,
   "metadata": {},
   "outputs": [],
   "source": [
    "quarterlyStatsOverall.to_csv(\"../../data/companyData/quarterlyStatsOverall_allZips.csv\")\n",
    "quarterlyStatsByZip.to_csv(\"../../data/companyData/quarterlyStatsByZip_allZips.csv\")"
   ]
  },
  {
   "cell_type": "code",
   "execution_count": 98,
   "metadata": {},
   "outputs": [
    {
     "data": {
      "text/html": [
       "<div>\n",
       "<style scoped>\n",
       "    .dataframe tbody tr th:only-of-type {\n",
       "        vertical-align: middle;\n",
       "    }\n",
       "\n",
       "    .dataframe tbody tr th {\n",
       "        vertical-align: top;\n",
       "    }\n",
       "\n",
       "    .dataframe thead th {\n",
       "        text-align: right;\n",
       "    }\n",
       "</style>\n",
       "<table border=\"1\" class=\"dataframe\">\n",
       "  <thead>\n",
       "    <tr style=\"text-align: right;\">\n",
       "      <th></th>\n",
       "      <th>ZIP</th>\n",
       "      <th>quarter</th>\n",
       "      <th>quarterly_avg_temp</th>\n",
       "      <th>quarterly_avg_precip</th>\n",
       "      <th>quarterly_var_temp</th>\n",
       "      <th>quarterly_var_precip</th>\n",
       "    </tr>\n",
       "  </thead>\n",
       "  <tbody>\n",
       "    <tr>\n",
       "      <th>0</th>\n",
       "      <td>1001</td>\n",
       "      <td>1</td>\n",
       "      <td>4.253855</td>\n",
       "      <td>2.372867</td>\n",
       "      <td>42.033604</td>\n",
       "      <td>52.755125</td>\n",
       "    </tr>\n",
       "    <tr>\n",
       "      <th>1</th>\n",
       "      <td>1002</td>\n",
       "      <td>1</td>\n",
       "      <td>2.991732</td>\n",
       "      <td>2.418594</td>\n",
       "      <td>41.171977</td>\n",
       "      <td>56.631223</td>\n",
       "    </tr>\n",
       "    <tr>\n",
       "      <th>2</th>\n",
       "      <td>1003</td>\n",
       "      <td>1</td>\n",
       "      <td>3.906219</td>\n",
       "      <td>2.519859</td>\n",
       "      <td>41.356117</td>\n",
       "      <td>56.334398</td>\n",
       "    </tr>\n",
       "    <tr>\n",
       "      <th>3</th>\n",
       "      <td>1005</td>\n",
       "      <td>1</td>\n",
       "      <td>2.107410</td>\n",
       "      <td>2.463722</td>\n",
       "      <td>41.334653</td>\n",
       "      <td>52.233328</td>\n",
       "    </tr>\n",
       "    <tr>\n",
       "      <th>4</th>\n",
       "      <td>1007</td>\n",
       "      <td>1</td>\n",
       "      <td>3.398788</td>\n",
       "      <td>2.501641</td>\n",
       "      <td>41.264102</td>\n",
       "      <td>57.015382</td>\n",
       "    </tr>\n",
       "  </tbody>\n",
       "</table>\n",
       "</div>"
      ],
      "text/plain": [
       "    ZIP  quarter  quarterly_avg_temp  quarterly_avg_precip  \\\n",
       "0  1001        1            4.253855              2.372867   \n",
       "1  1002        1            2.991732              2.418594   \n",
       "2  1003        1            3.906219              2.519859   \n",
       "3  1005        1            2.107410              2.463722   \n",
       "4  1007        1            3.398788              2.501641   \n",
       "\n",
       "   quarterly_var_temp  quarterly_var_precip  \n",
       "0           42.033604             52.755125  \n",
       "1           41.171977             56.631223  \n",
       "2           41.356117             56.334398  \n",
       "3           41.334653             52.233328  \n",
       "4           41.264102             57.015382  "
      ]
     },
     "execution_count": 98,
     "metadata": {},
     "output_type": "execute_result"
    }
   ],
   "source": [
    "quarterlyStatsByZip.head()"
   ]
  },
  {
   "cell_type": "code",
   "execution_count": null,
   "metadata": {},
   "outputs": [],
   "source": [
    "del quarterlyStatsByZip\n",
    "gc.collect()"
   ]
  },
  {
   "cell_type": "markdown",
   "metadata": {},
   "source": [
    "### Find Quartiles"
   ]
  },
  {
   "cell_type": "code",
   "execution_count": 112,
   "metadata": {},
   "outputs": [],
   "source": [
    "def getPivotQuantsOverall(weatherType,weatherData):\n",
    "\n",
    "    quants_overall  =  weatherData[weatherType].quantile(q = quantiles).reset_index().\\\n",
    "        rename(columns = {'index': 'quartile'}).compute(workers = 100)    \n",
    "    \n",
    "    quants_overall['quartile'] = 'q_' + quants_overall['quartile'].astype(str).str.slice(0,6)\n",
    "    quants_overall = quants_overall.iloc[:,1:].values.flatten().tolist()\n",
    "\n",
    "    return(quants_overall)"
   ]
  },
  {
   "cell_type": "code",
   "execution_count": 126,
   "metadata": {},
   "outputs": [
    {
     "data": {
      "text/html": [
       "<div>\n",
       "<style scoped>\n",
       "    .dataframe tbody tr th:only-of-type {\n",
       "        vertical-align: middle;\n",
       "    }\n",
       "\n",
       "    .dataframe tbody tr th {\n",
       "        vertical-align: top;\n",
       "    }\n",
       "\n",
       "    .dataframe thead th {\n",
       "        text-align: right;\n",
       "    }\n",
       "</style>\n",
       "<table border=\"1\" class=\"dataframe\">\n",
       "  <thead>\n",
       "    <tr style=\"text-align: right;\">\n",
       "      <th></th>\n",
       "      <th>ZIP</th>\n",
       "      <th>date</th>\n",
       "      <th>temperature</th>\n",
       "      <th>quarter</th>\n",
       "      <th>precipitation</th>\n",
       "    </tr>\n",
       "  </thead>\n",
       "  <tbody>\n",
       "    <tr>\n",
       "      <th>0</th>\n",
       "      <td>1001</td>\n",
       "      <td>19810101.0</td>\n",
       "      <td>-5.148</td>\n",
       "      <td>1</td>\n",
       "      <td>0.0</td>\n",
       "    </tr>\n",
       "    <tr>\n",
       "      <th>1</th>\n",
       "      <td>1002</td>\n",
       "      <td>19810101.0</td>\n",
       "      <td>-5.678</td>\n",
       "      <td>1</td>\n",
       "      <td>0.0</td>\n",
       "    </tr>\n",
       "    <tr>\n",
       "      <th>2</th>\n",
       "      <td>1003</td>\n",
       "      <td>19810101.0</td>\n",
       "      <td>-5.460</td>\n",
       "      <td>1</td>\n",
       "      <td>0.0</td>\n",
       "    </tr>\n",
       "    <tr>\n",
       "      <th>3</th>\n",
       "      <td>1005</td>\n",
       "      <td>19810101.0</td>\n",
       "      <td>-6.078</td>\n",
       "      <td>1</td>\n",
       "      <td>0.0</td>\n",
       "    </tr>\n",
       "    <tr>\n",
       "      <th>4</th>\n",
       "      <td>1007</td>\n",
       "      <td>19810101.0</td>\n",
       "      <td>-5.815</td>\n",
       "      <td>1</td>\n",
       "      <td>0.0</td>\n",
       "    </tr>\n",
       "  </tbody>\n",
       "</table>\n",
       "</div>"
      ],
      "text/plain": [
       "    ZIP        date  temperature  quarter  precipitation\n",
       "0  1001  19810101.0       -5.148        1            0.0\n",
       "1  1002  19810101.0       -5.678        1            0.0\n",
       "2  1003  19810101.0       -5.460        1            0.0\n",
       "3  1005  19810101.0       -6.078        1            0.0\n",
       "4  1007  19810101.0       -5.815        1            0.0"
      ]
     },
     "execution_count": 126,
     "metadata": {},
     "output_type": "execute_result"
    }
   ],
   "source": [
    "weatherData.head()"
   ]
  },
  {
   "cell_type": "code",
   "execution_count": 157,
   "metadata": {},
   "outputs": [
    {
     "data": {
      "text/plain": [
       "['quant_0.05',\n",
       " 'quant_tossThisOne',\n",
       " 'quant_0.95',\n",
       " 'quant_1x5Qtrs',\n",
       " 'quant_1x5Yrs']"
      ]
     },
     "execution_count": 157,
     "metadata": {},
     "output_type": "execute_result"
    }
   ],
   "source": [
    "quantiles\n",
    "quant_labels"
   ]
  },
  {
   "cell_type": "code",
   "execution_count": 197,
   "metadata": {},
   "outputs": [
    {
     "data": {
      "text/plain": [
       "0         -5.148\n",
       "1         -5.678\n",
       "2         -5.460\n",
       "3         -6.078\n",
       "4         -5.815\n",
       "           ...  \n",
       "1045933    6.954\n",
       "1045934    3.349\n",
       "1045935    1.645\n",
       "1045936    2.105\n",
       "1045937    3.796\n",
       "Name: temperature, Length: 333972912, dtype: float64"
      ]
     },
     "execution_count": 197,
     "metadata": {},
     "output_type": "execute_result"
    }
   ],
   "source": [
    "weatherFull.temperature"
   ]
  },
  {
   "cell_type": "code",
   "execution_count": 196,
   "metadata": {},
   "outputs": [
    {
     "name": "stdout",
     "output_type": "stream",
     "text": [
      "    ZIP        date  temperature  quarter  precipitation\n",
      "0  1001  19810101.0       -5.148        1            0.0\n",
      "1  1002  19810101.0       -5.678        1            0.0\n",
      "2  1003  19810101.0       -5.460        1            0.0\n",
      "3  1005  19810101.0       -6.078        1            0.0\n",
      "4  1007  19810101.0       -5.815        1            0.0\n"
     ]
    }
   ],
   "source": [
    "weatherFull = weatherData.compute()\n",
    "print(weatherFull.head())"
   ]
  },
  {
   "cell_type": "code",
   "execution_count": 203,
   "metadata": {},
   "outputs": [],
   "source": [
    "def getPivotQuants(weatherType, identifiers,weatherData):\n",
    "    start2 = time.time()\n",
    "    quants_overallByZip   = weatherData.groupby(identifiers)[weatherType].quantile(q = quantiles).reset_index().\\\n",
    "        rename(columns=lambda x: re.sub('level_[0-9]$','quartile',x))\n",
    "    # rename(columns = {'level_1': 'quartile'})\n",
    "    # print(quants_overallByZip.head())\n",
    "    \n",
    "    print(\"got grouped\")\n",
    "    print(time.time() - start2)\n",
    "    quants_overallByZip['quartile'] = 'q_' + quants_overallByZip['quartile'].astype(str).str.slice(0,6)\n",
    "\n",
    "    ## \n",
    "\n",
    "    pivot_quants_overallByZip = quants_overallByZip.pivot(index=identifiers, \n",
    "            columns='quartile', values=str(weatherType)).reset_index().\\\n",
    "            rename_axis(None, axis=1)\n",
    "\n",
    "    pivot_quants_overallByZip['quartileList']      = pivot_quants_overallByZip.iloc[:,len(identifiers):].values.tolist()\n",
    "    pivot_quants_overallByZip['quartileLabelList'] = [list(pivot_quants_overallByZip.columns[2:-1])] * \\\n",
    "                                                                    pivot_quants_overallByZip.shape[0]\n",
    "\n",
    "    pivot_quants_overallByZip = pivot_quants_overallByZip[pivot_quants_overallByZip.\\\n",
    "                                                            columns.drop(list(pivot_quants_overallByZip.filter(regex='q_')))]\n",
    "    print(time.time() - start2)\n",
    "    # pivot_quants_overallByZip.head()\n",
    "\n",
    "    return(pivot_quants_overallByZip)"
   ]
  },
  {
   "cell_type": "markdown",
   "metadata": {},
   "source": [
    "Now get all the quartile data:\n",
    "    - Overall\n",
    "    - By zip\n",
    "    - Quarterly by zip"
   ]
  },
  {
   "cell_type": "code",
   "execution_count": 176,
   "metadata": {},
   "outputs": [
    {
     "data": {
      "text/plain": [
       "\"temp5DaysQuants   = getPivotQuantsOverall('temp5Days',weatherData)\\nprecip5DaysQuants = getPivotQuantsOverall('precip5Days',weatherData)\""
      ]
     },
     "execution_count": 176,
     "metadata": {},
     "output_type": "execute_result"
    }
   ],
   "source": [
    "###################\n",
    "# OVERALL\n",
    "tempQuants   = getPivotQuantsOverall('temperature',weatherData)\n",
    "precipQuants = getPivotQuantsOverall('precipitation',weatherData)\n",
    "\n",
    "'''temp5DaysQuants   = getPivotQuantsOverall('temp5Days',weatherData)\n",
    "precip5DaysQuants = getPivotQuantsOverall('precip5Days',weatherData)'''\n"
   ]
  },
  {
   "cell_type": "code",
   "execution_count": 204,
   "metadata": {},
   "outputs": [
    {
     "name": "stdout",
     "output_type": "stream",
     "text": [
      "got grouped\n",
      "631.7389612197876\n",
      "632.0849342346191\n",
      "done with temperature\n",
      "632.2959599494934\n",
      "got grouped\n",
      "292.7123990058899\n",
      "292.93355894088745\n",
      "done with precipitation\n",
      "925.3941698074341\n"
     ]
    }
   ],
   "source": [
    "####################\n",
    "# BY ZIP\n",
    "start = time.time()\n",
    "\n",
    "\n",
    "pivot_temperatureQuants_zip = getPivotQuants('temperature',['ZIP'],weatherFull).\\\n",
    "    drop(columns = {'quartileLabelList'})\n",
    "pivot_temperatureQuants_zip.rename(columns = {'quartileList':     'quartileListTemperature_zip'},\n",
    "                                      inplace = True)\n",
    "\n",
    "pivot_temperatureQuants_zip.to_csv('../../data/companyData/pivot_temperatureQuants_zip.csv')\n",
    "\n",
    "print(\"done with temperature\")\n",
    "print(time.time() - start)\n",
    "\n",
    "\n",
    "\n",
    "pivot_precipitationQuants_zip = getPivotQuants('precipitation',['ZIP'],weatherFull).\\\n",
    "    drop(columns = {'quartileLabelList'})\n",
    "pivot_precipitationQuants_zip.rename(columns = {'quartileList':     'quartileListPrecipitation_zip'},\n",
    "                                      inplace = True)\n",
    "\n",
    "pivot_precipitationQuants_zip.to_csv('../../data/companyData/pivot_precipitationQuants_zip.csv')\n",
    "\n",
    "print(\"done with precipitation\")\n",
    "print(time.time() - start)\n",
    "\n",
    "quants_zip = pivot_temperatureQuants_zip.merge(pivot_precipitationQuants_zip)\n",
    "quants_zip.to_csv('../../data/companyData/quants_zip.csv')\n"
   ]
  },
  {
   "cell_type": "code",
   "execution_count": 205,
   "metadata": {},
   "outputs": [
    {
     "name": "stdout",
     "output_type": "stream",
     "text": [
      "got grouped\n",
      "648.972855091095\n",
      "649.9847962856293\n",
      "done with temperature\n",
      "650.8118278980255\n",
      "got grouped\n",
      "312.0215871334076\n",
      "312.9980471134186\n",
      "done with precipitation\n",
      "964.4727628231049\n"
     ]
    }
   ],
   "source": [
    "##########################################\n",
    "# BY ZIP-QUARTER\n",
    "start = time.time()\n",
    "pivot_temperatureQuants_quarterlyByZip = getPivotQuants('temperature',['ZIP','quarter'],weatherFull).\\\n",
    "    drop(columns = {'quartileLabelList'})\n",
    "pivot_temperatureQuants_quarterlyByZip.rename(columns = {'quartileList':     'quartileListTemperature_quarterlyByZip'},\n",
    "                                      inplace = True)\n",
    "pivot_temperatureQuants_quarterlyByZip.to_csv('../../data/companyData/pivot_temperatureQuants_quarterlyByZip.csv')\n",
    "\n",
    "print(\"done with temperature\")\n",
    "print(time.time() - start)\n",
    "\n",
    "pivot_precipitationQuants_quarterlyByZip = getPivotQuants('precipitation',['ZIP','quarter'],weatherFull).\\\n",
    "    drop(columns = {'quartileLabelList'})\n",
    "pivot_precipitationQuants_quarterlyByZip.rename(columns = {'quartileList':     'quartileListPrecipitation_quarterlyByZip'},\n",
    "                                      inplace = True)\n",
    "pivot_precipitationQuants_quarterlyByZip.to_csv('../../data/companyData/pivot_precipitationQuants_quarterlyByZip.csv')\n",
    "\n",
    "\n",
    "print(\"done with precipitation\")\n",
    "print(time.time() - start)\n",
    "\n",
    "quants_quarterlyByZip = pivot_temperatureQuants_quarterlyByZip.merge(pivot_precipitationQuants_quarterlyByZip)\n",
    "quants_quarterlyByZip.to_csv('../../data/companyData/quants_quarterlyByZip.csv')\n",
    "\n"
   ]
  },
  {
   "cell_type": "markdown",
   "metadata": {},
   "source": [
    "Construct a record of all the relevant quantiles by combining all of the above. Rough idea is:\n",
    "    - Start with the zip-quarter data\n",
    "    - Merge in the less-specific quarter information\n",
    "    - For each row, put in the overall quartile information for each row"
   ]
  },
  {
   "cell_type": "code",
   "execution_count": 206,
   "metadata": {},
   "outputs": [
    {
     "data": {
      "text/html": [
       "<div>\n",
       "<style scoped>\n",
       "    .dataframe tbody tr th:only-of-type {\n",
       "        vertical-align: middle;\n",
       "    }\n",
       "\n",
       "    .dataframe tbody tr th {\n",
       "        vertical-align: top;\n",
       "    }\n",
       "\n",
       "    .dataframe thead th {\n",
       "        text-align: right;\n",
       "    }\n",
       "</style>\n",
       "<table border=\"1\" class=\"dataframe\">\n",
       "  <thead>\n",
       "    <tr style=\"text-align: right;\">\n",
       "      <th></th>\n",
       "      <th>ZIP</th>\n",
       "      <th>quarter</th>\n",
       "      <th>quartileListTemperature_quarterlyByZip</th>\n",
       "      <th>quartileListPrecipitation_quarterlyByZip</th>\n",
       "      <th>quartileListTemperature_zip</th>\n",
       "      <th>quartileListPrecipitation_zip</th>\n",
       "      <th>precipitationQuants</th>\n",
       "      <th>temperatureQuants</th>\n",
       "    </tr>\n",
       "  </thead>\n",
       "  <tbody>\n",
       "    <tr>\n",
       "      <th>0</th>\n",
       "      <td>1001</td>\n",
       "      <td>1</td>\n",
       "      <td>[-16.4400005340576, -6.171400165557857, 12.670...</td>\n",
       "      <td>[0.0, 0.0, 7.123299980163575, 13.6725496292113...</td>\n",
       "      <td>[-16.4400005340576, -1.892299997806547, 29.442...</td>\n",
       "      <td>[0.0, 0.0, 8.764499855041514, 15.7616001129149...</td>\n",
       "      <td>[0.0, 0.0, 12.9139995574951, 28.25805445671174...</td>\n",
       "      <td>[-38.8950004577637, 16.3610000610352, 35.25099...</td>\n",
       "    </tr>\n",
       "    <tr>\n",
       "      <th>1</th>\n",
       "      <td>1001</td>\n",
       "      <td>2</td>\n",
       "      <td>[-4.23000001907349, 8.991749811172483, 29.6447...</td>\n",
       "      <td>[0.0, 0.0, 8.873199844360355, 15.4460996627807...</td>\n",
       "      <td>[-16.4400005340576, -1.892299997806547, 29.442...</td>\n",
       "      <td>[0.0, 0.0, 8.764499855041514, 15.7616001129149...</td>\n",
       "      <td>[0.0, 0.0, 12.9139995574951, 28.25805445671174...</td>\n",
       "      <td>[-38.8950004577637, 16.3610000610352, 35.25099...</td>\n",
       "    </tr>\n",
       "    <tr>\n",
       "      <th>2</th>\n",
       "      <td>1001</td>\n",
       "      <td>3</td>\n",
       "      <td>[10.0860004425049, 18.485250473022475, 32.1564...</td>\n",
       "      <td>[0.0, 0.0, 9.89400005340576, 17.36649990081785...</td>\n",
       "      <td>[-16.4400005340576, -1.892299997806547, 29.442...</td>\n",
       "      <td>[0.0, 0.0, 8.764499855041514, 15.7616001129149...</td>\n",
       "      <td>[0.0, 0.0, 12.9139995574951, 28.25805445671174...</td>\n",
       "      <td>[-38.8950004577637, 16.3610000610352, 35.25099...</td>\n",
       "    </tr>\n",
       "    <tr>\n",
       "      <th>3</th>\n",
       "      <td>1001</td>\n",
       "      <td>4</td>\n",
       "      <td>[-13.2650003433228, -1.171749949455265, 20.800...</td>\n",
       "      <td>[0.0, 0.0, 8.884600067138667, 16.7939498901366...</td>\n",
       "      <td>[-16.4400005340576, -1.892299997806547, 29.442...</td>\n",
       "      <td>[0.0, 0.0, 8.764499855041514, 15.7616001129149...</td>\n",
       "      <td>[0.0, 0.0, 12.9139995574951, 28.25805445671174...</td>\n",
       "      <td>[-38.8950004577637, 16.3610000610352, 35.25099...</td>\n",
       "    </tr>\n",
       "    <tr>\n",
       "      <th>4</th>\n",
       "      <td>1002</td>\n",
       "      <td>1</td>\n",
       "      <td>[-18.0459995269775, -7.398400068283082, 11.230...</td>\n",
       "      <td>[0.0, 0.0, 6.826399946212764, 14.2662997722625...</td>\n",
       "      <td>[-18.0459995269775, -3.088499951362608, 28.561...</td>\n",
       "      <td>[0.0, 0.0, 8.711199951171883, 16.0927503585815...</td>\n",
       "      <td>[0.0, 0.0, 12.9139995574951, 28.25805445671174...</td>\n",
       "      <td>[-38.8950004577637, 16.3610000610352, 35.25099...</td>\n",
       "    </tr>\n",
       "  </tbody>\n",
       "</table>\n",
       "</div>"
      ],
      "text/plain": [
       "    ZIP  quarter             quartileListTemperature_quarterlyByZip  \\\n",
       "0  1001        1  [-16.4400005340576, -6.171400165557857, 12.670...   \n",
       "1  1001        2  [-4.23000001907349, 8.991749811172483, 29.6447...   \n",
       "2  1001        3  [10.0860004425049, 18.485250473022475, 32.1564...   \n",
       "3  1001        4  [-13.2650003433228, -1.171749949455265, 20.800...   \n",
       "4  1002        1  [-18.0459995269775, -7.398400068283082, 11.230...   \n",
       "\n",
       "            quartileListPrecipitation_quarterlyByZip  \\\n",
       "0  [0.0, 0.0, 7.123299980163575, 13.6725496292113...   \n",
       "1  [0.0, 0.0, 8.873199844360355, 15.4460996627807...   \n",
       "2  [0.0, 0.0, 9.89400005340576, 17.36649990081785...   \n",
       "3  [0.0, 0.0, 8.884600067138667, 16.7939498901366...   \n",
       "4  [0.0, 0.0, 6.826399946212764, 14.2662997722625...   \n",
       "\n",
       "                         quartileListTemperature_zip  \\\n",
       "0  [-16.4400005340576, -1.892299997806547, 29.442...   \n",
       "1  [-16.4400005340576, -1.892299997806547, 29.442...   \n",
       "2  [-16.4400005340576, -1.892299997806547, 29.442...   \n",
       "3  [-16.4400005340576, -1.892299997806547, 29.442...   \n",
       "4  [-18.0459995269775, -3.088499951362608, 28.561...   \n",
       "\n",
       "                       quartileListPrecipitation_zip  \\\n",
       "0  [0.0, 0.0, 8.764499855041514, 15.7616001129149...   \n",
       "1  [0.0, 0.0, 8.764499855041514, 15.7616001129149...   \n",
       "2  [0.0, 0.0, 8.764499855041514, 15.7616001129149...   \n",
       "3  [0.0, 0.0, 8.764499855041514, 15.7616001129149...   \n",
       "4  [0.0, 0.0, 8.711199951171883, 16.0927503585815...   \n",
       "\n",
       "                                 precipitationQuants  \\\n",
       "0  [0.0, 0.0, 12.9139995574951, 28.25805445671174...   \n",
       "1  [0.0, 0.0, 12.9139995574951, 28.25805445671174...   \n",
       "2  [0.0, 0.0, 12.9139995574951, 28.25805445671174...   \n",
       "3  [0.0, 0.0, 12.9139995574951, 28.25805445671174...   \n",
       "4  [0.0, 0.0, 12.9139995574951, 28.25805445671174...   \n",
       "\n",
       "                                   temperatureQuants  \n",
       "0  [-38.8950004577637, 16.3610000610352, 35.25099...  \n",
       "1  [-38.8950004577637, 16.3610000610352, 35.25099...  \n",
       "2  [-38.8950004577637, 16.3610000610352, 35.25099...  \n",
       "3  [-38.8950004577637, 16.3610000610352, 35.25099...  \n",
       "4  [-38.8950004577637, 16.3610000610352, 35.25099...  "
      ]
     },
     "execution_count": 206,
     "metadata": {},
     "output_type": "execute_result"
    }
   ],
   "source": [
    "quantsAll                 = quants_quarterlyByZip.merge(quants_zip)\n",
    "\n",
    "\n",
    "\n",
    "quantsAll['precipitationQuants'] = [precipQuants for i in quantsAll.index]\n",
    "quantsAll['temperatureQuants']   = [tempQuants   for i in quantsAll.index]\n",
    "\n",
    "\n",
    "\n",
    "quantsAll.head()"
   ]
  },
  {
   "cell_type": "code",
   "execution_count": 207,
   "metadata": {},
   "outputs": [],
   "source": [
    "# relevantZips = allCustomerData.zipcode.append(allSupplierData.zipcode).unique()\n",
    "outfile =  '../../data/companyData/quantsAll_allZips.pkl'\n",
    "with open(outfile, 'wb') as pickle_file:\n",
    "    pkl.dump(quantsAll, pickle_file)"
   ]
  },
  {
   "cell_type": "code",
   "execution_count": 208,
   "metadata": {},
   "outputs": [
    {
     "data": {
      "text/plain": [
       "60"
      ]
     },
     "execution_count": 208,
     "metadata": {},
     "output_type": "execute_result"
    }
   ],
   "source": [
    "del weatherData\n",
    "gc.collect()"
   ]
  },
  {
   "cell_type": "markdown",
   "metadata": {},
   "source": [
    "### Convert 2009-2018 data into quartiles"
   ]
  },
  {
   "cell_type": "code",
   "execution_count": 235,
   "metadata": {},
   "outputs": [],
   "source": [
    "recentDecadeTmax   = getData(\"Tmax\",2009,2019)\n",
    "recentDecadePrecip = getData(\"Precip\",2009,2019)"
   ]
  },
  {
   "cell_type": "code",
   "execution_count": 236,
   "metadata": {},
   "outputs": [
    {
     "data": {
      "text/html": [
       "<div>\n",
       "<style scoped>\n",
       "    .dataframe tbody tr th:only-of-type {\n",
       "        vertical-align: middle;\n",
       "    }\n",
       "\n",
       "    .dataframe tbody tr th {\n",
       "        vertical-align: top;\n",
       "    }\n",
       "\n",
       "    .dataframe thead th {\n",
       "        text-align: right;\n",
       "    }\n",
       "</style>\n",
       "<table border=\"1\" class=\"dataframe\">\n",
       "  <thead>\n",
       "    <tr style=\"text-align: right;\">\n",
       "      <th></th>\n",
       "      <th>ZIP</th>\n",
       "      <th>date</th>\n",
       "      <th>temperature</th>\n",
       "      <th>precipitation</th>\n",
       "    </tr>\n",
       "  </thead>\n",
       "  <tbody>\n",
       "    <tr>\n",
       "      <th>0</th>\n",
       "      <td>4255</td>\n",
       "      <td>20151205.0</td>\n",
       "      <td>4.576</td>\n",
       "      <td>0.0</td>\n",
       "    </tr>\n",
       "    <tr>\n",
       "      <th>1</th>\n",
       "      <td>4258</td>\n",
       "      <td>20151205.0</td>\n",
       "      <td>5.761</td>\n",
       "      <td>0.0</td>\n",
       "    </tr>\n",
       "    <tr>\n",
       "      <th>2</th>\n",
       "      <td>4459</td>\n",
       "      <td>20151205.0</td>\n",
       "      <td>1.812</td>\n",
       "      <td>0.0</td>\n",
       "    </tr>\n",
       "    <tr>\n",
       "      <th>3</th>\n",
       "      <td>4611</td>\n",
       "      <td>20151205.0</td>\n",
       "      <td>5.226</td>\n",
       "      <td>0.0</td>\n",
       "    </tr>\n",
       "    <tr>\n",
       "      <th>4</th>\n",
       "      <td>5408</td>\n",
       "      <td>20151205.0</td>\n",
       "      <td>7.123</td>\n",
       "      <td>0.0</td>\n",
       "    </tr>\n",
       "  </tbody>\n",
       "</table>\n",
       "</div>"
      ],
      "text/plain": [
       "    ZIP        date  temperature  precipitation\n",
       "0  4255  20151205.0        4.576            0.0\n",
       "1  4258  20151205.0        5.761            0.0\n",
       "2  4459  20151205.0        1.812            0.0\n",
       "3  4611  20151205.0        5.226            0.0\n",
       "4  5408  20151205.0        7.123            0.0"
      ]
     },
     "execution_count": 236,
     "metadata": {},
     "output_type": "execute_result"
    }
   ],
   "source": [
    "recentDecadeWeather = recentDecadeTmax.merge(recentDecadePrecip)\n",
    "recentDecadeWeather.head()"
   ]
  },
  {
   "cell_type": "code",
   "execution_count": 237,
   "metadata": {},
   "outputs": [],
   "source": [
    "recentDecadeWeather['quarter']    = dd.to_datetime(recentDecadeWeather['date'], format='%Y%m%d').dt.quarter"
   ]
  },
  {
   "cell_type": "code",
   "execution_count": 238,
   "metadata": {},
   "outputs": [
    {
     "data": {
      "text/plain": [
       "67"
      ]
     },
     "execution_count": 238,
     "metadata": {},
     "output_type": "execute_result"
    }
   ],
   "source": [
    "del recentDecadePrecip\n",
    "del recentDecadeTmax\n",
    "gc.collect()\n",
    "\n",
    "# recentDecadeWeather[recentDecadeWeather.yearQuarter == '2010q1']"
   ]
  },
  {
   "cell_type": "markdown",
   "metadata": {},
   "source": [
    "Merge the intervals into the recent weather data."
   ]
  },
  {
   "cell_type": "code",
   "execution_count": 239,
   "metadata": {},
   "outputs": [
    {
     "data": {
      "text/plain": [
       "Index(['ZIP', 'quarter', 'quartileListTemperature_quarterlyByZip',\n",
       "       'quartileListPrecipitation_quarterlyByZip',\n",
       "       'quartileListTemperature_zip', 'quartileListPrecipitation_zip',\n",
       "       'precipitationQuants', 'temperatureQuants'],\n",
       "      dtype='object')"
      ]
     },
     "execution_count": 239,
     "metadata": {},
     "output_type": "execute_result"
    }
   ],
   "source": [
    "quantsAll.columns"
   ]
  },
  {
   "cell_type": "code",
   "execution_count": 240,
   "metadata": {},
   "outputs": [
    {
     "data": {
      "text/plain": [
       "Index(['ZIP', 'date', 'temperature', 'precipitation', 'quarter'], dtype='object')"
      ]
     },
     "execution_count": 240,
     "metadata": {},
     "output_type": "execute_result"
    }
   ],
   "source": [
    "recentDecadeWeather.columns"
   ]
  },
  {
   "cell_type": "code",
   "execution_count": 241,
   "metadata": {},
   "outputs": [
    {
     "data": {
      "text/html": [
       "<div>\n",
       "<style scoped>\n",
       "    .dataframe tbody tr th:only-of-type {\n",
       "        vertical-align: middle;\n",
       "    }\n",
       "\n",
       "    .dataframe tbody tr th {\n",
       "        vertical-align: top;\n",
       "    }\n",
       "\n",
       "    .dataframe thead th {\n",
       "        text-align: right;\n",
       "    }\n",
       "</style>\n",
       "<table border=\"1\" class=\"dataframe\">\n",
       "  <thead>\n",
       "    <tr style=\"text-align: right;\">\n",
       "      <th></th>\n",
       "      <th>ZIP</th>\n",
       "      <th>quarter</th>\n",
       "      <th>quartileListTemperature_quarterlyByZip</th>\n",
       "      <th>quartileListPrecipitation_quarterlyByZip</th>\n",
       "      <th>quartileListTemperature_zip</th>\n",
       "      <th>quartileListPrecipitation_zip</th>\n",
       "      <th>precipitationQuants</th>\n",
       "      <th>temperatureQuants</th>\n",
       "    </tr>\n",
       "  </thead>\n",
       "  <tbody>\n",
       "    <tr>\n",
       "      <th>0</th>\n",
       "      <td>1001</td>\n",
       "      <td>1</td>\n",
       "      <td>[-16.4400005340576, -6.171400165557857, 12.670...</td>\n",
       "      <td>[0.0, 0.0, 7.123299980163575, 13.6725496292113...</td>\n",
       "      <td>[-16.4400005340576, -1.892299997806547, 29.442...</td>\n",
       "      <td>[0.0, 0.0, 8.764499855041514, 15.7616001129149...</td>\n",
       "      <td>[0.0, 0.0, 12.9139995574951, 28.25805445671174...</td>\n",
       "      <td>[-38.8950004577637, 16.3610000610352, 35.25099...</td>\n",
       "    </tr>\n",
       "    <tr>\n",
       "      <th>1</th>\n",
       "      <td>1001</td>\n",
       "      <td>2</td>\n",
       "      <td>[-4.23000001907349, 8.991749811172483, 29.6447...</td>\n",
       "      <td>[0.0, 0.0, 8.873199844360355, 15.4460996627807...</td>\n",
       "      <td>[-16.4400005340576, -1.892299997806547, 29.442...</td>\n",
       "      <td>[0.0, 0.0, 8.764499855041514, 15.7616001129149...</td>\n",
       "      <td>[0.0, 0.0, 12.9139995574951, 28.25805445671174...</td>\n",
       "      <td>[-38.8950004577637, 16.3610000610352, 35.25099...</td>\n",
       "    </tr>\n",
       "    <tr>\n",
       "      <th>2</th>\n",
       "      <td>1001</td>\n",
       "      <td>3</td>\n",
       "      <td>[10.0860004425049, 18.485250473022475, 32.1564...</td>\n",
       "      <td>[0.0, 0.0, 9.89400005340576, 17.36649990081785...</td>\n",
       "      <td>[-16.4400005340576, -1.892299997806547, 29.442...</td>\n",
       "      <td>[0.0, 0.0, 8.764499855041514, 15.7616001129149...</td>\n",
       "      <td>[0.0, 0.0, 12.9139995574951, 28.25805445671174...</td>\n",
       "      <td>[-38.8950004577637, 16.3610000610352, 35.25099...</td>\n",
       "    </tr>\n",
       "    <tr>\n",
       "      <th>3</th>\n",
       "      <td>1001</td>\n",
       "      <td>4</td>\n",
       "      <td>[-13.2650003433228, -1.171749949455265, 20.800...</td>\n",
       "      <td>[0.0, 0.0, 8.884600067138667, 16.7939498901366...</td>\n",
       "      <td>[-16.4400005340576, -1.892299997806547, 29.442...</td>\n",
       "      <td>[0.0, 0.0, 8.764499855041514, 15.7616001129149...</td>\n",
       "      <td>[0.0, 0.0, 12.9139995574951, 28.25805445671174...</td>\n",
       "      <td>[-38.8950004577637, 16.3610000610352, 35.25099...</td>\n",
       "    </tr>\n",
       "    <tr>\n",
       "      <th>4</th>\n",
       "      <td>1002</td>\n",
       "      <td>1</td>\n",
       "      <td>[-18.0459995269775, -7.398400068283082, 11.230...</td>\n",
       "      <td>[0.0, 0.0, 6.826399946212764, 14.2662997722625...</td>\n",
       "      <td>[-18.0459995269775, -3.088499951362608, 28.561...</td>\n",
       "      <td>[0.0, 0.0, 8.711199951171883, 16.0927503585815...</td>\n",
       "      <td>[0.0, 0.0, 12.9139995574951, 28.25805445671174...</td>\n",
       "      <td>[-38.8950004577637, 16.3610000610352, 35.25099...</td>\n",
       "    </tr>\n",
       "  </tbody>\n",
       "</table>\n",
       "</div>"
      ],
      "text/plain": [
       "    ZIP  quarter             quartileListTemperature_quarterlyByZip  \\\n",
       "0  1001        1  [-16.4400005340576, -6.171400165557857, 12.670...   \n",
       "1  1001        2  [-4.23000001907349, 8.991749811172483, 29.6447...   \n",
       "2  1001        3  [10.0860004425049, 18.485250473022475, 32.1564...   \n",
       "3  1001        4  [-13.2650003433228, -1.171749949455265, 20.800...   \n",
       "4  1002        1  [-18.0459995269775, -7.398400068283082, 11.230...   \n",
       "\n",
       "            quartileListPrecipitation_quarterlyByZip  \\\n",
       "0  [0.0, 0.0, 7.123299980163575, 13.6725496292113...   \n",
       "1  [0.0, 0.0, 8.873199844360355, 15.4460996627807...   \n",
       "2  [0.0, 0.0, 9.89400005340576, 17.36649990081785...   \n",
       "3  [0.0, 0.0, 8.884600067138667, 16.7939498901366...   \n",
       "4  [0.0, 0.0, 6.826399946212764, 14.2662997722625...   \n",
       "\n",
       "                         quartileListTemperature_zip  \\\n",
       "0  [-16.4400005340576, -1.892299997806547, 29.442...   \n",
       "1  [-16.4400005340576, -1.892299997806547, 29.442...   \n",
       "2  [-16.4400005340576, -1.892299997806547, 29.442...   \n",
       "3  [-16.4400005340576, -1.892299997806547, 29.442...   \n",
       "4  [-18.0459995269775, -3.088499951362608, 28.561...   \n",
       "\n",
       "                       quartileListPrecipitation_zip  \\\n",
       "0  [0.0, 0.0, 8.764499855041514, 15.7616001129149...   \n",
       "1  [0.0, 0.0, 8.764499855041514, 15.7616001129149...   \n",
       "2  [0.0, 0.0, 8.764499855041514, 15.7616001129149...   \n",
       "3  [0.0, 0.0, 8.764499855041514, 15.7616001129149...   \n",
       "4  [0.0, 0.0, 8.711199951171883, 16.0927503585815...   \n",
       "\n",
       "                                 precipitationQuants  \\\n",
       "0  [0.0, 0.0, 12.9139995574951, 28.25805445671174...   \n",
       "1  [0.0, 0.0, 12.9139995574951, 28.25805445671174...   \n",
       "2  [0.0, 0.0, 12.9139995574951, 28.25805445671174...   \n",
       "3  [0.0, 0.0, 12.9139995574951, 28.25805445671174...   \n",
       "4  [0.0, 0.0, 12.9139995574951, 28.25805445671174...   \n",
       "\n",
       "                                   temperatureQuants  \n",
       "0  [-38.8950004577637, 16.3610000610352, 35.25099...  \n",
       "1  [-38.8950004577637, 16.3610000610352, 35.25099...  \n",
       "2  [-38.8950004577637, 16.3610000610352, 35.25099...  \n",
       "3  [-38.8950004577637, 16.3610000610352, 35.25099...  \n",
       "4  [-38.8950004577637, 16.3610000610352, 35.25099...  "
      ]
     },
     "execution_count": 241,
     "metadata": {},
     "output_type": "execute_result"
    }
   ],
   "source": [
    "quantsAll.head()"
   ]
  },
  {
   "cell_type": "code",
   "execution_count": 243,
   "metadata": {},
   "outputs": [
    {
     "data": {
      "text/plain": [
       "[0.0,\n",
       " 0.0,\n",
       " 12.9139995574951,\n",
       " 28.25805445671174,\n",
       " 89.66024061584802,\n",
       " 151.74903869629478]"
      ]
     },
     "execution_count": 243,
     "metadata": {},
     "output_type": "execute_result"
    }
   ],
   "source": [
    "quantsAll.precipitationQuants[0]"
   ]
  },
  {
   "cell_type": "markdown",
   "metadata": {},
   "source": [
    "Get the annual quants."
   ]
  },
  {
   "cell_type": "code",
   "execution_count": 245,
   "metadata": {},
   "outputs": [],
   "source": [
    "for i in range(0,len(quant_labels)):\n",
    "    quantsAll.temperatureQuants[0][i]  = quantsAll.temperatureQuants[0][i] + i/10000\n",
    "    \n",
    "    quantsAll.precipitationQuants[0][i]     = quantsAll.precipitationQuants[0][i] + i/10000\n"
   ]
  },
  {
   "cell_type": "code",
   "execution_count": 252,
   "metadata": {},
   "outputs": [
    {
     "data": {
      "text/plain": [
       "0.020370960235595703"
      ]
     },
     "execution_count": 252,
     "metadata": {},
     "output_type": "execute_result"
    }
   ],
   "source": [
    "start = time.time()\n",
    "\n",
    "recentDecadeWeather['temp_annualQuants'] = recentDecadeWeather.temperature.map_partitions(pd.cut, \n",
    "           bins = quantsAll.temperatureQuants[0],\n",
    "           labels = quant_labels,include_lowest=True)\n",
    "\n",
    "recentDecadeWeather['precip_annualQuants'] = recentDecadeWeather.precipitation.map_partitions(pd.cut, \n",
    "           bins = quantsAll.precipitationQuants[0],\n",
    "           labels = quant_labels,include_lowest=True)\n",
    "\n",
    "time.time() - start"
   ]
  },
  {
   "cell_type": "markdown",
   "metadata": {},
   "source": [
    "Now do the same but for zips. For some reason the filtering operations are like 10x faster with making the ZIP and quarter out to be categories."
   ]
  },
  {
   "cell_type": "code",
   "execution_count": null,
   "metadata": {},
   "outputs": [],
   "source": [
    "recentDecadeWeather = recentDecadeWeather.astype({'ZIP': 'category', 'quarter': 'category'})"
   ]
  },
  {
   "cell_type": "code",
   "execution_count": 255,
   "metadata": {},
   "outputs": [
    {
     "data": {
      "text/html": [
       "<div>\n",
       "<style scoped>\n",
       "    .dataframe tbody tr th:only-of-type {\n",
       "        vertical-align: middle;\n",
       "    }\n",
       "\n",
       "    .dataframe tbody tr th {\n",
       "        vertical-align: top;\n",
       "    }\n",
       "\n",
       "    .dataframe thead th {\n",
       "        text-align: right;\n",
       "    }\n",
       "</style>\n",
       "<table border=\"1\" class=\"dataframe\">\n",
       "  <thead>\n",
       "    <tr style=\"text-align: right;\">\n",
       "      <th></th>\n",
       "      <th>ZIP</th>\n",
       "      <th>quarter</th>\n",
       "      <th>quartileListTemperature_quarterlyByZip</th>\n",
       "      <th>quartileListPrecipitation_quarterlyByZip</th>\n",
       "      <th>quartileListTemperature_zip</th>\n",
       "      <th>quartileListPrecipitation_zip</th>\n",
       "      <th>precipitationQuants</th>\n",
       "      <th>temperatureQuants</th>\n",
       "    </tr>\n",
       "  </thead>\n",
       "  <tbody>\n",
       "    <tr>\n",
       "      <th>123284</th>\n",
       "      <td>94025</td>\n",
       "      <td>1</td>\n",
       "      <td>[5.94500017166138, 11.04019975662229, 20.50420...</td>\n",
       "      <td>[0.0, 0.0, 8.076000213623043, 16.4664993286132...</td>\n",
       "      <td>[3.07500004768372, 12.3079996109009, 27.574799...</td>\n",
       "      <td>[0.0, 0.0, 8.734200191497802, 16.1083499908447...</td>\n",
       "      <td>[0.0, 0.0001, 12.914199557495099, 28.258354456...</td>\n",
       "      <td>[-38.8950004577637, 16.3611000610352, 35.25119...</td>\n",
       "    </tr>\n",
       "    <tr>\n",
       "      <th>123285</th>\n",
       "      <td>94025</td>\n",
       "      <td>2</td>\n",
       "      <td>[10.2259998321533, 15.585149717330966, 28.3531...</td>\n",
       "      <td>[0.0, 0.0, 7.96350002288818, 14.51049971580507...</td>\n",
       "      <td>[3.07500004768372, 12.3079996109009, 27.574799...</td>\n",
       "      <td>[0.0, 0.0, 8.734200191497802, 16.1083499908447...</td>\n",
       "      <td>[0.0, 0.0001, 12.914199557495099, 28.258354456...</td>\n",
       "      <td>[-38.8950004577637, 16.3611000610352, 35.25119...</td>\n",
       "    </tr>\n",
       "    <tr>\n",
       "      <th>123286</th>\n",
       "      <td>94025</td>\n",
       "      <td>3</td>\n",
       "      <td>[16.7360000610352, 20.64999914169315, 30.44299...</td>\n",
       "      <td>[0.0, 0.0, 10.263199996948257, 18.585449981689...</td>\n",
       "      <td>[3.07500004768372, 12.3079996109009, 27.574799...</td>\n",
       "      <td>[0.0, 0.0, 8.734200191497802, 16.1083499908447...</td>\n",
       "      <td>[0.0, 0.0001, 12.914199557495099, 28.258354456...</td>\n",
       "      <td>[-38.8950004577637, 16.3611000610352, 35.25119...</td>\n",
       "    </tr>\n",
       "    <tr>\n",
       "      <th>123287</th>\n",
       "      <td>94025</td>\n",
       "      <td>4</td>\n",
       "      <td>[3.07500004768372, 11.60374975204465, 24.80200...</td>\n",
       "      <td>[0.0, 0.0, 8.285199928283692, 15.3236502170562...</td>\n",
       "      <td>[3.07500004768372, 12.3079996109009, 27.574799...</td>\n",
       "      <td>[0.0, 0.0, 8.734200191497802, 16.1083499908447...</td>\n",
       "      <td>[0.0, 0.0001, 12.914199557495099, 28.258354456...</td>\n",
       "      <td>[-38.8950004577637, 16.3611000610352, 35.25119...</td>\n",
       "    </tr>\n",
       "  </tbody>\n",
       "</table>\n",
       "</div>"
      ],
      "text/plain": [
       "          ZIP  quarter             quartileListTemperature_quarterlyByZip  \\\n",
       "123284  94025        1  [5.94500017166138, 11.04019975662229, 20.50420...   \n",
       "123285  94025        2  [10.2259998321533, 15.585149717330966, 28.3531...   \n",
       "123286  94025        3  [16.7360000610352, 20.64999914169315, 30.44299...   \n",
       "123287  94025        4  [3.07500004768372, 11.60374975204465, 24.80200...   \n",
       "\n",
       "                 quartileListPrecipitation_quarterlyByZip  \\\n",
       "123284  [0.0, 0.0, 8.076000213623043, 16.4664993286132...   \n",
       "123285  [0.0, 0.0, 7.96350002288818, 14.51049971580507...   \n",
       "123286  [0.0, 0.0, 10.263199996948257, 18.585449981689...   \n",
       "123287  [0.0, 0.0, 8.285199928283692, 15.3236502170562...   \n",
       "\n",
       "                              quartileListTemperature_zip  \\\n",
       "123284  [3.07500004768372, 12.3079996109009, 27.574799...   \n",
       "123285  [3.07500004768372, 12.3079996109009, 27.574799...   \n",
       "123286  [3.07500004768372, 12.3079996109009, 27.574799...   \n",
       "123287  [3.07500004768372, 12.3079996109009, 27.574799...   \n",
       "\n",
       "                            quartileListPrecipitation_zip  \\\n",
       "123284  [0.0, 0.0, 8.734200191497802, 16.1083499908447...   \n",
       "123285  [0.0, 0.0, 8.734200191497802, 16.1083499908447...   \n",
       "123286  [0.0, 0.0, 8.734200191497802, 16.1083499908447...   \n",
       "123287  [0.0, 0.0, 8.734200191497802, 16.1083499908447...   \n",
       "\n",
       "                                      precipitationQuants  \\\n",
       "123284  [0.0, 0.0001, 12.914199557495099, 28.258354456...   \n",
       "123285  [0.0, 0.0001, 12.914199557495099, 28.258354456...   \n",
       "123286  [0.0, 0.0001, 12.914199557495099, 28.258354456...   \n",
       "123287  [0.0, 0.0001, 12.914199557495099, 28.258354456...   \n",
       "\n",
       "                                        temperatureQuants  \n",
       "123284  [-38.8950004577637, 16.3611000610352, 35.25119...  \n",
       "123285  [-38.8950004577637, 16.3611000610352, 35.25119...  \n",
       "123286  [-38.8950004577637, 16.3611000610352, 35.25119...  \n",
       "123287  [-38.8950004577637, 16.3611000610352, 35.25119...  "
      ]
     },
     "execution_count": 255,
     "metadata": {},
     "output_type": "execute_result"
    }
   ],
   "source": [
    "quantsAll[quantsAll.ZIP == 94025]"
   ]
  },
  {
   "cell_type": "code",
   "execution_count": null,
   "metadata": {},
   "outputs": [],
   "source": [
    "quantBins"
   ]
  },
  {
   "cell_type": "code",
   "execution_count": 259,
   "metadata": {},
   "outputs": [],
   "source": [
    "zipcode = 94025\n",
    "\n",
    "tempData = recentDecadeWeather[recentDecadeWeather.ZIP == zipcode].reset_index()\n",
    "quantBins = quantsAll[quantsAll.ZIP == zipcode].reset_index()\n",
    "\n",
    "for i in range(0,len(quantBins.quartileListPrecipitation_zip[0])):\n",
    "        quantBins.quartileListPrecipitation_zip[0][i] = quantBins.quartileListPrecipitation_zip[0][i] + i/10000\n",
    "\n",
    "tempData['temp_zipQuants'] = tempData.temperature.map_partitions(pd.cut, \n",
    "       bins = quantBins.quartileListTemperature_zip[0],\n",
    "       labels = quant_labels,include_lowest=True)\n",
    "\n",
    "tempData['precip_zipQuants'] = tempData.precipitation.map_partitions(pd.cut, \n",
    "       bins = quantBins.quartileListPrecipitation_zip[0],\n",
    "       labels = quant_labels,include_lowest=True)"
   ]
  },
  {
   "cell_type": "code",
   "execution_count": 284,
   "metadata": {},
   "outputs": [],
   "source": [
    "def getZipQuarts(zipcode):\n",
    "    # print(zipcode)\n",
    "    \n",
    "    tempData = recentDecadeWeather[recentDecadeWeather.ZIP == zipcode].reset_index()\n",
    "    quantBins = quantsAll[quantsAll.ZIP == zipcode].reset_index()\n",
    "    \n",
    "    for i in range(0,len(quantBins.quartileListPrecipitation_zip[0])):\n",
    "            quantBins.quartileListPrecipitation_zip[0][i] = quantBins.quartileListPrecipitation_zip[0][i] + i/10000\n",
    "\n",
    "    tempData['temp_zipQuants'] = tempData.temperature.map_partitions(pd.cut, \n",
    "           bins = quantBins.quartileListTemperature_zip[0],\n",
    "           labels = quant_labels,include_lowest=True)\n",
    "\n",
    "    tempData['precip_zipQuants'] = tempData.precipitation.map_partitions(pd.cut, \n",
    "           bins = quantBins.quartileListPrecipitation_zip[0],\n",
    "           labels = quant_labels,include_lowest=True)    \n",
    "    \n",
    "    return(tempData)"
   ]
  },
  {
   "cell_type": "code",
   "execution_count": null,
   "metadata": {},
   "outputs": [],
   "source": [
    "def getZipQuarterQuarts(zipcode):\n",
    "\n",
    "    weatherByZipByQuarter = pd.DataFrame()\n",
    "\n",
    "    quarters = recentDecadeWeather.quarter.unique()\n",
    "    \n",
    "\n",
    "    for quarter in quarters:\n",
    "        tempData = recentDecadeWeather[(recentDecadeWeather.ZIP  == zipcode) & \n",
    "                        (recentDecadeWeather.quarter == quarter)].reset_index()\n",
    "        if tempData.shape[0] > 0:\n",
    "\n",
    "            for i in range(0,len(tempData.quartileListPrecipitation_quarterlyByZip[0])):\n",
    "                tempData.quartileListPrecipitation_quarterlyByZip[0][i] = tempData.quartileListPrecipitation_quarterlyByZip[0][i] + i/10000\n",
    "                tempData.quartileListTemperature_quarterlyByZip[0][i] = tempData.quartileListTemperature_quarterlyByZip[0][i] + i/10000\n",
    "\n",
    "\n",
    "            tempData['temp_zipQuarterQuants'] = pd.cut(tempData.temperature, \n",
    "                   bins = tempData.quartileListTemperature_quarterlyByZip[0],\n",
    "                   labels = quant_labels,include_lowest=True)\n",
    "\n",
    "\n",
    "            tempData['precip_zipQuarterQuants'] = pd.cut(tempData.precipitation, \n",
    "                   bins = tempData.quartileListPrecipitation_quarterlyByZip[0],\n",
    "                   labels = quant_labels,include_lowest=True)\n",
    "\n",
    "\n",
    "            weatherByZipByQuarter = weatherByZipByQuarter.append(tempData)\n",
    "\n",
    "    return(weatherByZipByQuarter)"
   ]
  },
  {
   "cell_type": "code",
   "execution_count": 262,
   "metadata": {},
   "outputs": [
    {
     "data": {
      "text/plain": [
       "32656"
      ]
     },
     "execution_count": 262,
     "metadata": {},
     "output_type": "execute_result"
    }
   ],
   "source": [
    "ZIPs = quantsAll.ZIP.unique()\n",
    "len(ZIPs)"
   ]
  },
  {
   "cell_type": "code",
   "execution_count": 281,
   "metadata": {},
   "outputs": [
    {
     "name": "stdout",
     "output_type": "stream",
     "text": [
      "[0.0, 0.0, 9.668099689483652, 17.637650159454342, 55.247680297088536, 85.42371673202545]\n"
     ]
    }
   ],
   "source": [
    "zipcode = 97014\n",
    "\n",
    "tempData = recentDecadeWeather[recentDecadeWeather.ZIP == zipcode].reset_index()\n",
    "quantBins = quantsAll[quantsAll.ZIP == zipcode].reset_index()\n",
    "print(quantBins.quartileListPrecipitation_zip[0])\n",
    "\n",
    "\n",
    "for i in range(0,len(quantBins.quartileListPrecipitation_zip[0])):\n",
    "            quantBins.quartileListPrecipitation_zip[0][i] = quantBins.quartileListPrecipitation_zip[0][i] + i/10000\n",
    "\n",
    "tempData['temp_zipQuants'] = tempData.temperature.map_partitions(pd.cut, \n",
    "       bins = quantBins.quartileListTemperature_zip[0],\n",
    "       labels = quant_labels,include_lowest=True)\n",
    "\n",
    "tempData['precip_zipQuants'] = tempData.precipitation.map_partitions(pd.cut, \n",
    "       bins = quantBins.quartileListPrecipitation_zip[0],\n",
    "       labels = quant_labels,include_lowest=True)   \n"
   ]
  },
  {
   "cell_type": "code",
   "execution_count": 301,
   "metadata": {},
   "outputs": [
    {
     "name": "stdout",
     "output_type": "stream",
     "text": [
      "1.2387702465057373\n",
      "1.240393877029419\n"
     ]
    }
   ],
   "source": [
    "start = time.time()\n",
    "\n",
    "\n",
    "\n",
    "\n",
    "with multiprocessing.Pool() as pool:\n",
    "    zipQuarts = pool.map(getZipQuarts, ZIPs[0:50])\n",
    "\n",
    "print(time.time() - start)\n",
    "    \n",
    "# weatherByZip = pd.concat(zipQuarts)\n",
    "\n",
    "\n",
    "print(time.time() - start)"
   ]
  },
  {
   "cell_type": "code",
   "execution_count": null,
   "metadata": {},
   "outputs": [],
   "source": [
    "start = time.time()\n",
    "allZipQuarts = dd.concat(zipQuarts)\n",
    "zipQuartsCompd = allZipQuarts.compute(workers = 100)\n",
    "print(time.time() - start)"
   ]
  },
  {
   "cell_type": "code",
   "execution_count": 300,
   "metadata": {},
   "outputs": [
    {
     "data": {
      "text/html": [
       "<div>\n",
       "<style scoped>\n",
       "    .dataframe tbody tr th:only-of-type {\n",
       "        vertical-align: middle;\n",
       "    }\n",
       "\n",
       "    .dataframe tbody tr th {\n",
       "        vertical-align: top;\n",
       "    }\n",
       "\n",
       "    .dataframe thead th {\n",
       "        text-align: right;\n",
       "    }\n",
       "</style>\n",
       "<table border=\"1\" class=\"dataframe\">\n",
       "  <thead>\n",
       "    <tr style=\"text-align: right;\">\n",
       "      <th></th>\n",
       "      <th>index</th>\n",
       "      <th>ZIP</th>\n",
       "      <th>date</th>\n",
       "      <th>temperature</th>\n",
       "      <th>precipitation</th>\n",
       "      <th>quarter</th>\n",
       "      <th>temp_annualQuants</th>\n",
       "      <th>precip_annualQuants</th>\n",
       "      <th>temp_zipQuants</th>\n",
       "      <th>precip_zipQuants</th>\n",
       "    </tr>\n",
       "  </thead>\n",
       "  <tbody>\n",
       "    <tr>\n",
       "      <th>0</th>\n",
       "      <td>3932</td>\n",
       "      <td>1001</td>\n",
       "      <td>20090101.0</td>\n",
       "      <td>-2.941</td>\n",
       "      <td>4.491000</td>\n",
       "      <td>1</td>\n",
       "      <td>quant_0.05</td>\n",
       "      <td>quant_tossThisOne</td>\n",
       "      <td>quant_0.05</td>\n",
       "      <td>quant_tossThisOne</td>\n",
       "    </tr>\n",
       "    <tr>\n",
       "      <th>0</th>\n",
       "      <td>4052</td>\n",
       "      <td>1001</td>\n",
       "      <td>20090102.0</td>\n",
       "      <td>-7.090</td>\n",
       "      <td>0.000000</td>\n",
       "      <td>1</td>\n",
       "      <td>quant_0.05</td>\n",
       "      <td>quant_0.05</td>\n",
       "      <td>quant_0.05</td>\n",
       "      <td>quant_0.05</td>\n",
       "    </tr>\n",
       "    <tr>\n",
       "      <th>0</th>\n",
       "      <td>4298</td>\n",
       "      <td>1001</td>\n",
       "      <td>20090103.0</td>\n",
       "      <td>-0.701</td>\n",
       "      <td>0.263000</td>\n",
       "      <td>1</td>\n",
       "      <td>quant_0.05</td>\n",
       "      <td>quant_tossThisOne</td>\n",
       "      <td>quant_tossThisOne</td>\n",
       "      <td>quant_tossThisOne</td>\n",
       "    </tr>\n",
       "    <tr>\n",
       "      <th>0</th>\n",
       "      <td>4470</td>\n",
       "      <td>1001</td>\n",
       "      <td>20090104.0</td>\n",
       "      <td>0.804</td>\n",
       "      <td>0.000000</td>\n",
       "      <td>1</td>\n",
       "      <td>quant_0.05</td>\n",
       "      <td>quant_0.05</td>\n",
       "      <td>quant_tossThisOne</td>\n",
       "      <td>quant_0.05</td>\n",
       "    </tr>\n",
       "    <tr>\n",
       "      <th>1</th>\n",
       "      <td>4751</td>\n",
       "      <td>1001</td>\n",
       "      <td>20090105.0</td>\n",
       "      <td>1.763</td>\n",
       "      <td>0.731000</td>\n",
       "      <td>1</td>\n",
       "      <td>quant_0.05</td>\n",
       "      <td>quant_tossThisOne</td>\n",
       "      <td>quant_tossThisOne</td>\n",
       "      <td>quant_tossThisOne</td>\n",
       "    </tr>\n",
       "    <tr>\n",
       "      <th>...</th>\n",
       "      <td>...</td>\n",
       "      <td>...</td>\n",
       "      <td>...</td>\n",
       "      <td>...</td>\n",
       "      <td>...</td>\n",
       "      <td>...</td>\n",
       "      <td>...</td>\n",
       "      <td>...</td>\n",
       "      <td>...</td>\n",
       "      <td>...</td>\n",
       "    </tr>\n",
       "    <tr>\n",
       "      <th>23</th>\n",
       "      <td>701266</td>\n",
       "      <td>1001</td>\n",
       "      <td>20191227.0</td>\n",
       "      <td>3.783</td>\n",
       "      <td>0.000000</td>\n",
       "      <td>4</td>\n",
       "      <td>quant_0.05</td>\n",
       "      <td>quant_0.05</td>\n",
       "      <td>quant_tossThisOne</td>\n",
       "      <td>quant_0.05</td>\n",
       "    </tr>\n",
       "    <tr>\n",
       "      <th>20</th>\n",
       "      <td>675989</td>\n",
       "      <td>1001</td>\n",
       "      <td>20191228.0</td>\n",
       "      <td>9.824</td>\n",
       "      <td>0.000000</td>\n",
       "      <td>4</td>\n",
       "      <td>quant_0.05</td>\n",
       "      <td>quant_0.05</td>\n",
       "      <td>quant_tossThisOne</td>\n",
       "      <td>quant_0.05</td>\n",
       "    </tr>\n",
       "    <tr>\n",
       "      <th>16</th>\n",
       "      <td>676937</td>\n",
       "      <td>1001</td>\n",
       "      <td>20191229.0</td>\n",
       "      <td>7.894</td>\n",
       "      <td>0.000000</td>\n",
       "      <td>4</td>\n",
       "      <td>quant_0.05</td>\n",
       "      <td>quant_0.05</td>\n",
       "      <td>quant_tossThisOne</td>\n",
       "      <td>quant_0.05</td>\n",
       "    </tr>\n",
       "    <tr>\n",
       "      <th>21</th>\n",
       "      <td>677513</td>\n",
       "      <td>1001</td>\n",
       "      <td>20191230.0</td>\n",
       "      <td>5.229</td>\n",
       "      <td>20.445000</td>\n",
       "      <td>4</td>\n",
       "      <td>quant_0.05</td>\n",
       "      <td>quant_0.95</td>\n",
       "      <td>quant_tossThisOne</td>\n",
       "      <td>quant_1x5Qtrs</td>\n",
       "    </tr>\n",
       "    <tr>\n",
       "      <th>22</th>\n",
       "      <td>678146</td>\n",
       "      <td>1001</td>\n",
       "      <td>20191231.0</td>\n",
       "      <td>2.432</td>\n",
       "      <td>30.672001</td>\n",
       "      <td>4</td>\n",
       "      <td>quant_0.05</td>\n",
       "      <td>quant_1x5Qtrs</td>\n",
       "      <td>quant_tossThisOne</td>\n",
       "      <td>quant_1x5Qtrs</td>\n",
       "    </tr>\n",
       "  </tbody>\n",
       "</table>\n",
       "<p>4017 rows × 10 columns</p>\n",
       "</div>"
      ],
      "text/plain": [
       "     index   ZIP        date  temperature  precipitation  quarter  \\\n",
       "0     3932  1001  20090101.0       -2.941       4.491000        1   \n",
       "0     4052  1001  20090102.0       -7.090       0.000000        1   \n",
       "0     4298  1001  20090103.0       -0.701       0.263000        1   \n",
       "0     4470  1001  20090104.0        0.804       0.000000        1   \n",
       "1     4751  1001  20090105.0        1.763       0.731000        1   \n",
       "..     ...   ...         ...          ...            ...      ...   \n",
       "23  701266  1001  20191227.0        3.783       0.000000        4   \n",
       "20  675989  1001  20191228.0        9.824       0.000000        4   \n",
       "16  676937  1001  20191229.0        7.894       0.000000        4   \n",
       "21  677513  1001  20191230.0        5.229      20.445000        4   \n",
       "22  678146  1001  20191231.0        2.432      30.672001        4   \n",
       "\n",
       "   temp_annualQuants precip_annualQuants     temp_zipQuants   precip_zipQuants  \n",
       "0         quant_0.05   quant_tossThisOne         quant_0.05  quant_tossThisOne  \n",
       "0         quant_0.05          quant_0.05         quant_0.05         quant_0.05  \n",
       "0         quant_0.05   quant_tossThisOne  quant_tossThisOne  quant_tossThisOne  \n",
       "0         quant_0.05          quant_0.05  quant_tossThisOne         quant_0.05  \n",
       "1         quant_0.05   quant_tossThisOne  quant_tossThisOne  quant_tossThisOne  \n",
       "..               ...                 ...                ...                ...  \n",
       "23        quant_0.05          quant_0.05  quant_tossThisOne         quant_0.05  \n",
       "20        quant_0.05          quant_0.05  quant_tossThisOne         quant_0.05  \n",
       "16        quant_0.05          quant_0.05  quant_tossThisOne         quant_0.05  \n",
       "21        quant_0.05          quant_0.95  quant_tossThisOne      quant_1x5Qtrs  \n",
       "22        quant_0.05       quant_1x5Qtrs  quant_tossThisOne      quant_1x5Qtrs  \n",
       "\n",
       "[4017 rows x 10 columns]"
      ]
     },
     "execution_count": 300,
     "metadata": {},
     "output_type": "execute_result"
    }
   ],
   "source": [
    "zipQuartsCompd[zipQuartsCompd.ZIP == 1001].sort_values(by=['date'])"
   ]
  },
  {
   "cell_type": "code",
   "execution_count": null,
   "metadata": {},
   "outputs": [],
   "source": [
    "start = time.time()\n",
    "\n",
    "\n",
    "\n",
    "with multiprocessing.Pool() as pool:\n",
    "    zipQuarterQuarts = pool.map(getZipQuarterQuarts, ZIPs)\n",
    "\n",
    "    \n",
    "    \n",
    "weatherByZipQuarter = pd.concat(zipQuarterQuarts)\n",
    "\n",
    "\n",
    "print(time.time() - start)"
   ]
  },
  {
   "cell_type": "code",
   "execution_count": null,
   "metadata": {},
   "outputs": [],
   "source": [
    "'''weatherByZipQuarter['yearQuarter'] = weatherByZipQuarter.date.astype('str').str.slice(0,4) + weatherByZipQuarter.quarter.astype('str')\n",
    "weatherByZip['yearQuarter']        = weatherByZip.date.astype('str').str.slice(0,4) + weatherByZip.quarter.astype('str')'''"
   ]
  },
  {
   "cell_type": "code",
   "execution_count": null,
   "metadata": {},
   "outputs": [],
   "source": []
  },
  {
   "cell_type": "code",
   "execution_count": null,
   "metadata": {},
   "outputs": [],
   "source": [
    "pt1 = weatherByZip[['ZIP','date','quarter','yearQuarter',\n",
    "              'temp_annualQuants',\n",
    "              'precip_annualQuants',\n",
    "              'temp_zipQuants', \n",
    "              'precip_zipQuants']]\n",
    "\n",
    "pt2 = weatherByZipQuarter[['ZIP','date','quarter','yearQuarter',\n",
    "                           'temp_zipQuarterQuants', \n",
    "                           'precip_zipQuarterQuants']]\n",
    "\n",
    "\n",
    "outfile =  '../../data/companyData/pt1_allZips.pkl'\n",
    "with open(outfile, 'wb') as pickle_file:\n",
    "    pkl.dump(pt1, pickle_file)\n",
    "    \n",
    "outfile =  '../../data/companyData/pt2_allZips.pkl'\n",
    "with open(outfile, 'wb') as pickle_file:\n",
    "    pkl.dump(pt2, pickle_file)\n",
    "\n",
    "\n"
   ]
  },
  {
   "cell_type": "code",
   "execution_count": null,
   "metadata": {},
   "outputs": [],
   "source": [
    "allQuarts = pt1.merge(pt2)"
   ]
  },
  {
   "cell_type": "code",
   "execution_count": null,
   "metadata": {},
   "outputs": [],
   "source": [
    "allQuarts.head()"
   ]
  },
  {
   "cell_type": "markdown",
   "metadata": {},
   "source": [
    "------------------"
   ]
  },
  {
   "cell_type": "markdown",
   "metadata": {},
   "source": [
    "### Now go through the data from 2010 - 2019 and find time spent in each bin"
   ]
  },
  {
   "cell_type": "code",
   "execution_count": null,
   "metadata": {},
   "outputs": [],
   "source": [
    "def getCounts(quartType,df):\n",
    "\n",
    "    test = df.groupby(['ZIP','yearQuarter',quartType]).size().reset_index()\n",
    "    test = test.drop_duplicates()\n",
    "    test.columns = ['zip', 'yearQuarter', quartType, 'occurrences']\n",
    "\n",
    "    # print(test.head())\n",
    "\n",
    "\n",
    "    testPivot = test.pivot(index=['zip','yearQuarter'], \n",
    "            columns = quartType, values= 'occurrences').reset_index().\\\n",
    "            rename_axis(None, axis=1)\n",
    "\n",
    "    testPivot.columns.values[2:] = quartType[:-6] + testPivot.columns.values[2:]\n",
    "\n",
    "    # print(testPivot.head())\n",
    "    return(testPivot)"
   ]
  },
  {
   "cell_type": "code",
   "execution_count": null,
   "metadata": {},
   "outputs": [],
   "source": [
    "allQuarts"
   ]
  },
  {
   "cell_type": "code",
   "execution_count": null,
   "metadata": {},
   "outputs": [],
   "source": [
    "countData = getCounts(allQuarts.columns[4],allQuarts)\n",
    "\n",
    "for quart in allQuarts.columns[5:]:\n",
    "    print(quart)\n",
    "    countData = countData.merge(getCounts(quart,allQuarts))"
   ]
  },
  {
   "cell_type": "code",
   "execution_count": null,
   "metadata": {},
   "outputs": [],
   "source": [
    "print(countData.columns)"
   ]
  },
  {
   "cell_type": "markdown",
   "metadata": {},
   "source": [
    "Reformat the column names so they're consistent."
   ]
  },
  {
   "cell_type": "code",
   "execution_count": null,
   "metadata": {},
   "outputs": [],
   "source": [
    "countData['year'] = countData.yearQuarter.str.slice(0,4)\n",
    "countData['qtr']  = countData.yearQuarter.str.slice(5,6).astype('float')\n",
    "countData['zipcode']  = countData.zip.astype('int64')"
   ]
  },
  {
   "cell_type": "code",
   "execution_count": null,
   "metadata": {},
   "outputs": [],
   "source": [
    "countData.zipcode.min()"
   ]
  },
  {
   "cell_type": "code",
   "execution_count": null,
   "metadata": {},
   "outputs": [],
   "source": [
    "countData.head()"
   ]
  },
  {
   "cell_type": "code",
   "execution_count": null,
   "metadata": {},
   "outputs": [],
   "source": [
    "countData.to_csv(\"../../data/companyData/allWeatherBins_2009to2019_allZips.csv\")"
   ]
  },
  {
   "cell_type": "code",
   "execution_count": null,
   "metadata": {},
   "outputs": [],
   "source": [
    "len(countData.zipcode.unique())"
   ]
  },
  {
   "cell_type": "code",
   "execution_count": null,
   "metadata": {},
   "outputs": [],
   "source": [
    "countData.columns"
   ]
  },
  {
   "cell_type": "code",
   "execution_count": null,
   "metadata": {},
   "outputs": [],
   "source": [
    "'''countData = pd.read_csv(\"../../data/companyData/allWeatherBins_2009to2019.csv\").drop(columns = 'Unnamed: 0')\n",
    "\n",
    "countData.head()'''\n",
    "\n",
    "countDataRevised = countData[['zipcode','year','qtr']]\n"
   ]
  },
  {
   "cell_type": "code",
   "execution_count": null,
   "metadata": {},
   "outputs": [],
   "source": [
    "\n",
    "cdf = {}\n",
    "\n",
    "\n",
    "cdf['0.95']     = ['1xQtr','1xYr','1x5Qtrs','1x10Qtrs','1x5Yrs','1x10Yrs','1.0']\n",
    "cdf['1xQtr']    = ['1xYr','1x5Qtrs','1x10Qtrs','1x5Yrs','1x10Yrs','1.0']\n",
    "cdf['1xYr']     = ['1x5Qtrs','1x10Qtrs','1x5Yrs','1x10Yrs','1.0']\n",
    "cdf['1x5Qtrs']  = ['1x10Qtrs','1x5Yrs','1x10Yrs','1.0']\n",
    "cdf['1x10Qtrs'] = ['1x5Yrs','1x10Yrs','1.0']\n",
    "cdf['1x5Yrs']   = ['1x10Yrs','1.0']\n",
    "cdf['1x10Yrs']  = ['1.0']\n",
    "\n",
    "\n",
    "weatherVars = ['precip_','temp_','precip5Days_','temp5Days_']\n",
    "statVars    = ['annualquant_','zipquant_','zipQuarterquant_']\n",
    "\n",
    "\n",
    "for weatherVar in weatherVars:\n",
    "    for statVar in statVars:\n",
    "        print(weatherVar + statVar, \"*************************\")\n",
    "        \n",
    "        # 0.95\n",
    "        for cutoff in list(cdf.keys()):\n",
    "            \n",
    "            varHere = weatherVar + statVar + cutoff\n",
    "            countDataRevised[varHere] = countData[varHere]\n",
    "            print(cutoff, \"******\")\n",
    "            for greaterThanCutoffs in cdf[cutoff]:\n",
    "                varCDF = weatherVar + statVar + greaterThanCutoffs \n",
    "                countDataRevised[varHere] = countDataRevised[varHere] + countData[varCDF] \n",
    "                print(weatherVar + statVar + greaterThanCutoffs)\n",
    " "
   ]
  },
  {
   "cell_type": "code",
   "execution_count": null,
   "metadata": {},
   "outputs": [],
   "source": [
    "countDataRevised['temp_annualquant_0.95']"
   ]
  },
  {
   "cell_type": "code",
   "execution_count": null,
   "metadata": {},
   "outputs": [],
   "source": [
    "countData['temp_annualquant_0.95']"
   ]
  },
  {
   "cell_type": "code",
   "execution_count": null,
   "metadata": {},
   "outputs": [],
   "source": [
    "countDataRevised.to_csv(\"../../data/companyData/revised_allWeatherBins_2009to2019_allZips.csv\")"
   ]
  },
  {
   "cell_type": "code",
   "execution_count": null,
   "metadata": {},
   "outputs": [],
   "source": [
    "countDataRevised = pd.read_csv(\"../../data/companyData/revised_allWeatherBins_2009to2019.csv\")"
   ]
  },
  {
   "cell_type": "code",
   "execution_count": null,
   "metadata": {},
   "outputs": [],
   "source": [
    "countDataRevised['temp5Days_zipquant_0.95'].describe()"
   ]
  },
  {
   "cell_type": "code",
   "execution_count": null,
   "metadata": {},
   "outputs": [],
   "source": []
  }
 ],
 "metadata": {
  "kernelspec": {
   "display_name": "Python 3",
   "language": "python",
   "name": "python3"
  },
  "language_info": {
   "codemirror_mode": {
    "name": "ipython",
    "version": 3
   },
   "file_extension": ".py",
   "mimetype": "text/x-python",
   "name": "python",
   "nbconvert_exporter": "python",
   "pygments_lexer": "ipython3",
   "version": "3.7.4"
  }
 },
 "nbformat": 4,
 "nbformat_minor": 2
}
