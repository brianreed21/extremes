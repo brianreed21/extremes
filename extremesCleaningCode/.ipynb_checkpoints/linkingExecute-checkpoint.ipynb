{
 "cells": [
  {
   "cell_type": "code",
   "execution_count": 48,
   "metadata": {},
   "outputs": [],
   "source": [
    "import pickle as pkl\n",
    "import pandas as pd\n",
    "import matplotlib\n",
    "import os\n",
    "import re\n",
    "\n",
    "import collections\n",
    "import datetime\n",
    "import time\n",
    "\n",
    "import geopandas as gpd\n",
    "\n",
    "import numpy as np\n",
    "\n",
    "import rasterio\n",
    "\n",
    "import spacy\n",
    "  \n",
    "nlp = spacy.load('en_core_web_lg')\n",
    "from sklearn.metrics.pairwise import cosine_similarity\n",
    "\n",
    "import itertools"
   ]
  },
  {
   "cell_type": "markdown",
   "metadata": {},
   "source": [
    "# Get Data\n",
    "\n",
    "## Changes from year to year"
   ]
  },
  {
   "cell_type": "code",
   "execution_count": 49,
   "metadata": {},
   "outputs": [
    {
     "data": {
      "text/html": [
       "<div>\n",
       "<style scoped>\n",
       "    .dataframe tbody tr th:only-of-type {\n",
       "        vertical-align: middle;\n",
       "    }\n",
       "\n",
       "    .dataframe tbody tr th {\n",
       "        vertical-align: top;\n",
       "    }\n",
       "\n",
       "    .dataframe thead th {\n",
       "        text-align: right;\n",
       "    }\n",
       "</style>\n",
       "<table border=\"1\" class=\"dataframe\">\n",
       "  <thead>\n",
       "    <tr style=\"text-align: right;\">\n",
       "      <th></th>\n",
       "      <th>year</th>\n",
       "      <th>qtr</th>\n",
       "      <th>gvkey</th>\n",
       "      <th>companyName</th>\n",
       "      <th>tic</th>\n",
       "      <th>naics</th>\n",
       "      <th>curcdq</th>\n",
       "      <th>incomeChange</th>\n",
       "      <th>revenueChange</th>\n",
       "      <th>revenueChangeAbsolute</th>\n",
       "      <th>costChange</th>\n",
       "      <th>inventoryChange</th>\n",
       "    </tr>\n",
       "  </thead>\n",
       "  <tbody>\n",
       "    <tr>\n",
       "      <th>0</th>\n",
       "      <td>2010</td>\n",
       "      <td>1.0</td>\n",
       "      <td>1004</td>\n",
       "      <td>AAR CORP</td>\n",
       "      <td>AIR</td>\n",
       "      <td>423860.0</td>\n",
       "      <td>USD</td>\n",
       "      <td>0.213983</td>\n",
       "      <td>0.200565</td>\n",
       "      <td>81.107</td>\n",
       "      <td>0.178258</td>\n",
       "      <td>0.055631</td>\n",
       "    </tr>\n",
       "    <tr>\n",
       "      <th>1</th>\n",
       "      <td>2010</td>\n",
       "      <td>2.0</td>\n",
       "      <td>1004</td>\n",
       "      <td>AAR CORP</td>\n",
       "      <td>AIR</td>\n",
       "      <td>423860.0</td>\n",
       "      <td>USD</td>\n",
       "      <td>0.045617</td>\n",
       "      <td>0.059577</td>\n",
       "      <td>27.099</td>\n",
       "      <td>0.017636</td>\n",
       "      <td>0.086776</td>\n",
       "    </tr>\n",
       "    <tr>\n",
       "      <th>2</th>\n",
       "      <td>2010</td>\n",
       "      <td>3.0</td>\n",
       "      <td>1004</td>\n",
       "      <td>AAR CORP</td>\n",
       "      <td>AIR</td>\n",
       "      <td>423860.0</td>\n",
       "      <td>USD</td>\n",
       "      <td>0.153198</td>\n",
       "      <td>0.166276</td>\n",
       "      <td>76.160</td>\n",
       "      <td>0.129456</td>\n",
       "      <td>0.169270</td>\n",
       "    </tr>\n",
       "    <tr>\n",
       "      <th>3</th>\n",
       "      <td>2010</td>\n",
       "      <td>4.0</td>\n",
       "      <td>1004</td>\n",
       "      <td>AAR CORP</td>\n",
       "      <td>AIR</td>\n",
       "      <td>423860.0</td>\n",
       "      <td>USD</td>\n",
       "      <td>-0.398739</td>\n",
       "      <td>0.174283</td>\n",
       "      <td>85.020</td>\n",
       "      <td>0.136013</td>\n",
       "      <td>0.182304</td>\n",
       "    </tr>\n",
       "    <tr>\n",
       "      <th>4</th>\n",
       "      <td>2011</td>\n",
       "      <td>1.0</td>\n",
       "      <td>1004</td>\n",
       "      <td>AAR CORP</td>\n",
       "      <td>AIR</td>\n",
       "      <td>423860.0</td>\n",
       "      <td>USD</td>\n",
       "      <td>0.096386</td>\n",
       "      <td>0.133883</td>\n",
       "      <td>65.000</td>\n",
       "      <td>0.101523</td>\n",
       "      <td>0.104150</td>\n",
       "    </tr>\n",
       "  </tbody>\n",
       "</table>\n",
       "</div>"
      ],
      "text/plain": [
       "   year  qtr  gvkey companyName  tic     naics curcdq  incomeChange  \\\n",
       "0  2010  1.0   1004    AAR CORP  AIR  423860.0    USD      0.213983   \n",
       "1  2010  2.0   1004    AAR CORP  AIR  423860.0    USD      0.045617   \n",
       "2  2010  3.0   1004    AAR CORP  AIR  423860.0    USD      0.153198   \n",
       "3  2010  4.0   1004    AAR CORP  AIR  423860.0    USD     -0.398739   \n",
       "4  2011  1.0   1004    AAR CORP  AIR  423860.0    USD      0.096386   \n",
       "\n",
       "   revenueChange  revenueChangeAbsolute  costChange  inventoryChange  \n",
       "0       0.200565                 81.107    0.178258         0.055631  \n",
       "1       0.059577                 27.099    0.017636         0.086776  \n",
       "2       0.166276                 76.160    0.129456         0.169270  \n",
       "3       0.174283                 85.020    0.136013         0.182304  \n",
       "4       0.133883                 65.000    0.101523         0.104150  "
      ]
     },
     "execution_count": 49,
     "metadata": {},
     "output_type": "execute_result"
    }
   ],
   "source": [
    "changes = pd.read_csv(\"../../data/companyData/compustatChanges_2010s.csv\").drop(columns = ['Unnamed: 0'])\n",
    "\n",
    "changes.head()"
   ]
  },
  {
   "cell_type": "code",
   "execution_count": 50,
   "metadata": {},
   "outputs": [],
   "source": [
    "industries = changes[['gvkey','naics']].drop_duplicates()\n",
    "industries['naics'] = industries.naics.astype('str').str.slice(0,2)"
   ]
  },
  {
   "cell_type": "markdown",
   "metadata": {},
   "source": [
    "## SC Linking Table for 2010s"
   ]
  },
  {
   "cell_type": "code",
   "execution_count": 51,
   "metadata": {},
   "outputs": [
    {
     "name": "stdout",
     "output_type": "stream",
     "text": [
      "(34473, 4)\n"
     ]
    },
    {
     "data": {
      "text/html": [
       "<div>\n",
       "<style scoped>\n",
       "    .dataframe tbody tr th:only-of-type {\n",
       "        vertical-align: middle;\n",
       "    }\n",
       "\n",
       "    .dataframe tbody tr th {\n",
       "        vertical-align: top;\n",
       "    }\n",
       "\n",
       "    .dataframe thead th {\n",
       "        text-align: right;\n",
       "    }\n",
       "</style>\n",
       "<table border=\"1\" class=\"dataframe\">\n",
       "  <thead>\n",
       "    <tr style=\"text-align: right;\">\n",
       "      <th></th>\n",
       "      <th>year</th>\n",
       "      <th>supplier_gvkey</th>\n",
       "      <th>customer_gvkey</th>\n",
       "      <th>salecs</th>\n",
       "    </tr>\n",
       "  </thead>\n",
       "  <tbody>\n",
       "    <tr>\n",
       "      <th>80</th>\n",
       "      <td>2010</td>\n",
       "      <td>1013</td>\n",
       "      <td>9899</td>\n",
       "      <td>300.000</td>\n",
       "    </tr>\n",
       "    <tr>\n",
       "      <th>81</th>\n",
       "      <td>2010</td>\n",
       "      <td>1013</td>\n",
       "      <td>2136</td>\n",
       "      <td>146.000</td>\n",
       "    </tr>\n",
       "    <tr>\n",
       "      <th>281</th>\n",
       "      <td>2016</td>\n",
       "      <td>1094</td>\n",
       "      <td>31673</td>\n",
       "      <td>78.193</td>\n",
       "    </tr>\n",
       "    <tr>\n",
       "      <th>282</th>\n",
       "      <td>2017</td>\n",
       "      <td>1094</td>\n",
       "      <td>31673</td>\n",
       "      <td>76.598</td>\n",
       "    </tr>\n",
       "    <tr>\n",
       "      <th>283</th>\n",
       "      <td>2017</td>\n",
       "      <td>1094</td>\n",
       "      <td>7171</td>\n",
       "      <td>70.215</td>\n",
       "    </tr>\n",
       "  </tbody>\n",
       "</table>\n",
       "</div>"
      ],
      "text/plain": [
       "     year  supplier_gvkey  customer_gvkey   salecs\n",
       "80   2010            1013            9899  300.000\n",
       "81   2010            1013            2136  146.000\n",
       "281  2016            1094           31673   78.193\n",
       "282  2017            1094           31673   76.598\n",
       "283  2017            1094            7171   70.215"
      ]
     },
     "execution_count": 51,
     "metadata": {},
     "output_type": "execute_result"
    }
   ],
   "source": [
    "c_links = pd.read_csv(\"../../data/companyData/compustatSCLinked.csv\")\n",
    "\n",
    "c_links['year'] = c_links.srcdate.astype('str').str.slice(0,4).astype('int64')\n",
    "\n",
    "c_links = c_links[c_links.year > 2009][['year','gvkey','cgvkey','salecs']].\\\n",
    "    rename(columns = {'cgvkey': 'customer_gvkey','gvkey': 'supplier_gvkey'})\n",
    "\n",
    "\n",
    "print(c_links.shape)\n",
    "\n",
    "c_links.head()"
   ]
  },
  {
   "cell_type": "code",
   "execution_count": 52,
   "metadata": {},
   "outputs": [
    {
     "data": {
      "text/html": [
       "<div>\n",
       "<style scoped>\n",
       "    .dataframe tbody tr th:only-of-type {\n",
       "        vertical-align: middle;\n",
       "    }\n",
       "\n",
       "    .dataframe tbody tr th {\n",
       "        vertical-align: top;\n",
       "    }\n",
       "\n",
       "    .dataframe thead th {\n",
       "        text-align: right;\n",
       "    }\n",
       "</style>\n",
       "<table border=\"1\" class=\"dataframe\">\n",
       "  <thead>\n",
       "    <tr style=\"text-align: right;\">\n",
       "      <th></th>\n",
       "      <th>year</th>\n",
       "      <th>supplier_gvkey</th>\n",
       "      <th>customer_gvkey</th>\n",
       "      <th>salecs</th>\n",
       "      <th>customer_naics</th>\n",
       "      <th>supplier_naics</th>\n",
       "    </tr>\n",
       "  </thead>\n",
       "  <tbody>\n",
       "    <tr>\n",
       "      <th>0</th>\n",
       "      <td>2010</td>\n",
       "      <td>2497</td>\n",
       "      <td>9899</td>\n",
       "      <td>461.600</td>\n",
       "      <td>51</td>\n",
       "      <td>23</td>\n",
       "    </tr>\n",
       "    <tr>\n",
       "      <th>1</th>\n",
       "      <td>2011</td>\n",
       "      <td>2497</td>\n",
       "      <td>9899</td>\n",
       "      <td>692.065</td>\n",
       "      <td>51</td>\n",
       "      <td>23</td>\n",
       "    </tr>\n",
       "    <tr>\n",
       "      <th>2</th>\n",
       "      <td>2012</td>\n",
       "      <td>2497</td>\n",
       "      <td>9899</td>\n",
       "      <td>670.822</td>\n",
       "      <td>51</td>\n",
       "      <td>23</td>\n",
       "    </tr>\n",
       "    <tr>\n",
       "      <th>3</th>\n",
       "      <td>2013</td>\n",
       "      <td>2497</td>\n",
       "      <td>9899</td>\n",
       "      <td>778.462</td>\n",
       "      <td>51</td>\n",
       "      <td>23</td>\n",
       "    </tr>\n",
       "    <tr>\n",
       "      <th>4</th>\n",
       "      <td>2014</td>\n",
       "      <td>2497</td>\n",
       "      <td>9899</td>\n",
       "      <td>968.479</td>\n",
       "      <td>51</td>\n",
       "      <td>23</td>\n",
       "    </tr>\n",
       "  </tbody>\n",
       "</table>\n",
       "</div>"
      ],
      "text/plain": [
       "   year  supplier_gvkey  customer_gvkey   salecs customer_naics supplier_naics\n",
       "0  2010            2497            9899  461.600             51             23\n",
       "1  2011            2497            9899  692.065             51             23\n",
       "2  2012            2497            9899  670.822             51             23\n",
       "3  2013            2497            9899  778.462             51             23\n",
       "4  2014            2497            9899  968.479             51             23"
      ]
     },
     "execution_count": 52,
     "metadata": {},
     "output_type": "execute_result"
    }
   ],
   "source": [
    "industries.columns = ['customer_gvkey','customer_naics']\n",
    "\n",
    "c_links = c_links.merge(industries)\n",
    "\n",
    "industries.columns = ['supplier_gvkey','supplier_naics']\n",
    "\n",
    "c_links = c_links.merge(industries)\n",
    "c_links.head()"
   ]
  },
  {
   "cell_type": "code",
   "execution_count": 53,
   "metadata": {},
   "outputs": [
    {
     "data": {
      "text/plain": [
       "(31778, 6)"
      ]
     },
     "execution_count": 53,
     "metadata": {},
     "output_type": "execute_result"
    }
   ],
   "source": [
    "c_links.shape"
   ]
  },
  {
   "cell_type": "markdown",
   "metadata": {},
   "source": [
    "Now see if it's common to have one in and one out of the industries of interest."
   ]
  },
  {
   "cell_type": "code",
   "execution_count": 43,
   "metadata": {},
   "outputs": [],
   "source": [
    "ofInterest = ['11','21','22','23','31','32','33','42','44','45','48','49']\n",
    "\n",
    "c_linksCut = c_links[~(c_links.customer_naics.isin(ofInterest) & c_links.supplier_naics.isin(ofInterest))]"
   ]
  },
  {
   "cell_type": "code",
   "execution_count": 45,
   "metadata": {},
   "outputs": [
    {
     "name": "stderr",
     "output_type": "stream",
     "text": [
      "/Users/brianreed/opt/anaconda3/lib/python3.7/site-packages/ipykernel_launcher.py:1: SettingWithCopyWarning: \n",
      "A value is trying to be set on a copy of a slice from a DataFrame.\n",
      "Try using .loc[row_indexer,col_indexer] = value instead\n",
      "\n",
      "See the caveats in the documentation: https://pandas.pydata.org/pandas-docs/stable/user_guide/indexing.html#returning-a-view-versus-a-copy\n",
      "  \"\"\"Entry point for launching an IPython kernel.\n"
     ]
    },
    {
     "data": {
      "text/plain": [
       "44_53    2094\n",
       "45_53    1175\n",
       "51_51    1119\n",
       "51_53     870\n",
       "52_53     658\n",
       "51_33     541\n",
       "32_53     513\n",
       "33_53     498\n",
       "33_51     465\n",
       "62_53     285\n",
       "Name: relat, dtype: int64"
      ]
     },
     "execution_count": 45,
     "metadata": {},
     "output_type": "execute_result"
    }
   ],
   "source": [
    "c_linksCut['relat'] = c_linksCut.customer_naics + \"_\" + c_linksCut.supplier_naics\n",
    "c_linksCut.relat.value_counts()[0:10]"
   ]
  },
  {
   "cell_type": "code",
   "execution_count": 47,
   "metadata": {},
   "outputs": [
    {
     "data": {
      "text/plain": [
       "53    7204\n",
       "51    2651\n",
       "33     969\n",
       "54     892\n",
       "56     556\n",
       "52     459\n",
       "32     188\n",
       "61     156\n",
       "62     123\n",
       "23     112\n",
       "Name: supplier_naics, dtype: int64"
      ]
     },
     "execution_count": 47,
     "metadata": {},
     "output_type": "execute_result"
    }
   ],
   "source": [
    "c_linksCut.supplier_naics.value_counts()[0:10]"
   ]
  },
  {
   "cell_type": "markdown",
   "metadata": {},
   "source": [
    "## Compustat and ABI Linking"
   ]
  },
  {
   "cell_type": "code",
   "execution_count": 54,
   "metadata": {},
   "outputs": [
    {
     "data": {
      "text/html": [
       "<div>\n",
       "<style scoped>\n",
       "    .dataframe tbody tr th:only-of-type {\n",
       "        vertical-align: middle;\n",
       "    }\n",
       "\n",
       "    .dataframe tbody tr th {\n",
       "        vertical-align: top;\n",
       "    }\n",
       "\n",
       "    .dataframe thead th {\n",
       "        text-align: right;\n",
       "    }\n",
       "</style>\n",
       "<table border=\"1\" class=\"dataframe\">\n",
       "  <thead>\n",
       "    <tr style=\"text-align: right;\">\n",
       "      <th></th>\n",
       "      <th>cstatCompanies</th>\n",
       "      <th>igCompanies</th>\n",
       "      <th>delete</th>\n",
       "      <th>gvkey</th>\n",
       "      <th>abi</th>\n",
       "    </tr>\n",
       "  </thead>\n",
       "  <tbody>\n",
       "    <tr>\n",
       "      <th>0</th>\n",
       "      <td>american software</td>\n",
       "      <td>american software</td>\n",
       "      <td>NaN</td>\n",
       "      <td>1562</td>\n",
       "      <td>4378204</td>\n",
       "    </tr>\n",
       "    <tr>\n",
       "      <th>1</th>\n",
       "      <td>apco oil and gas</td>\n",
       "      <td>apco oil   gas</td>\n",
       "      <td>NaN</td>\n",
       "      <td>1682</td>\n",
       "      <td>544813678</td>\n",
       "    </tr>\n",
       "    <tr>\n",
       "      <th>2</th>\n",
       "      <td>constellation energy grp</td>\n",
       "      <td>constellation energy</td>\n",
       "      <td>NaN</td>\n",
       "      <td>1995</td>\n",
       "      <td>506384064</td>\n",
       "    </tr>\n",
       "    <tr>\n",
       "      <th>3</th>\n",
       "      <td>central natural res</td>\n",
       "      <td>central natural resources</td>\n",
       "      <td>NaN</td>\n",
       "      <td>2852</td>\n",
       "      <td>312712631</td>\n",
       "    </tr>\n",
       "    <tr>\n",
       "      <th>4</th>\n",
       "      <td>cracker barrel old ctry stor</td>\n",
       "      <td>cracker barrel olduntry str</td>\n",
       "      <td>NaN</td>\n",
       "      <td>3570</td>\n",
       "      <td>852053057</td>\n",
       "    </tr>\n",
       "  </tbody>\n",
       "</table>\n",
       "</div>"
      ],
      "text/plain": [
       "                 cstatCompanies                  igCompanies  delete  gvkey  \\\n",
       "0            american software             american software     NaN   1562   \n",
       "1              apco oil and gas               apco oil   gas     NaN   1682   \n",
       "2      constellation energy grp        constellation energy      NaN   1995   \n",
       "3           central natural res    central natural resources     NaN   2852   \n",
       "4  cracker barrel old ctry stor  cracker barrel olduntry str     NaN   3570   \n",
       "\n",
       "         abi  \n",
       "0    4378204  \n",
       "1  544813678  \n",
       "2  506384064  \n",
       "3  312712631  \n",
       "4  852053057  "
      ]
     },
     "execution_count": 54,
     "metadata": {},
     "output_type": "execute_result"
    }
   ],
   "source": [
    "gvKey_abiLinkingTable = pd.read_csv('../../data/companyData/linkingTable.csv').drop(columns = ['Unnamed: 0'])\n",
    "\n",
    "\n",
    "base_columns = gvKey_abiLinkingTable.columns \n",
    "customer_columns = \"customer_\" + base_columns\n",
    "supplier_columns = \"supplier_\" + base_columns\n",
    "\n",
    "\n",
    "gvKey_abiLinkingTable.head()"
   ]
  },
  {
   "cell_type": "code",
   "execution_count": 55,
   "metadata": {},
   "outputs": [],
   "source": [
    "hasMatch = gvKey_abiLinkingTable.gvkey.unique()"
   ]
  },
  {
   "cell_type": "code",
   "execution_count": 56,
   "metadata": {},
   "outputs": [
    {
     "data": {
      "text/plain": [
       "29402"
      ]
     },
     "execution_count": 56,
     "metadata": {},
     "output_type": "execute_result"
    }
   ],
   "source": [
    "sum(c_links.supplier_gvkey.isin(hasMatch) | c_links.customer_gvkey.isin(hasMatch))"
   ]
  },
  {
   "cell_type": "code",
   "execution_count": null,
   "metadata": {},
   "outputs": [],
   "source": []
  },
  {
   "cell_type": "markdown",
   "metadata": {},
   "source": [
    "# Merge"
   ]
  },
  {
   "cell_type": "code",
   "execution_count": 57,
   "metadata": {},
   "outputs": [
    {
     "name": "stdout",
     "output_type": "stream",
     "text": [
      "(31778, 6)\n",
      "(31778, 6) (24214, 10)\n",
      "(31778, 6)\n",
      "(31778, 6) (20496, 14)\n"
     ]
    }
   ],
   "source": [
    "\n",
    "#########################\n",
    "# merge in customer information\n",
    "gvKey_abiLinkingTable.columns = customer_columns\n",
    "\n",
    "print(c_links.shape)\n",
    "c_linksMerge1 = c_links.merge(gvKey_abiLinkingTable, on ='customer_gvkey')\n",
    "print(c_links.shape,c_linksMerge1.shape)\n",
    "\n",
    "\n",
    "\n",
    "#########################\n",
    "# and merge in supplier \n",
    "gvKey_abiLinkingTable.columns = supplier_columns\n",
    "\n",
    "print(c_links.shape)\n",
    "c_linksMerge2 = c_linksMerge1.merge(gvKey_abiLinkingTable, on ='supplier_gvkey')\n",
    "print(c_links.shape,c_linksMerge2.shape)"
   ]
  },
  {
   "cell_type": "code",
   "execution_count": 58,
   "metadata": {},
   "outputs": [],
   "source": [
    "c_linksMerge2.to_csv(\"../../data/companyData/clinks_IG_selected.csv\")"
   ]
  },
  {
   "cell_type": "code",
   "execution_count": 59,
   "metadata": {},
   "outputs": [
    {
     "data": {
      "text/html": [
       "<div>\n",
       "<style scoped>\n",
       "    .dataframe tbody tr th:only-of-type {\n",
       "        vertical-align: middle;\n",
       "    }\n",
       "\n",
       "    .dataframe tbody tr th {\n",
       "        vertical-align: top;\n",
       "    }\n",
       "\n",
       "    .dataframe thead th {\n",
       "        text-align: right;\n",
       "    }\n",
       "</style>\n",
       "<table border=\"1\" class=\"dataframe\">\n",
       "  <thead>\n",
       "    <tr style=\"text-align: right;\">\n",
       "      <th></th>\n",
       "      <th>supplier_cstatCompanies</th>\n",
       "      <th>supplier_igCompanies</th>\n",
       "      <th>supplier_delete</th>\n",
       "      <th>supplier_gvkey</th>\n",
       "      <th>supplier_abi</th>\n",
       "    </tr>\n",
       "  </thead>\n",
       "  <tbody>\n",
       "    <tr>\n",
       "      <th>0</th>\n",
       "      <td>american software</td>\n",
       "      <td>american software</td>\n",
       "      <td>NaN</td>\n",
       "      <td>1562</td>\n",
       "      <td>4378204</td>\n",
       "    </tr>\n",
       "    <tr>\n",
       "      <th>1</th>\n",
       "      <td>apco oil and gas</td>\n",
       "      <td>apco oil   gas</td>\n",
       "      <td>NaN</td>\n",
       "      <td>1682</td>\n",
       "      <td>544813678</td>\n",
       "    </tr>\n",
       "    <tr>\n",
       "      <th>2</th>\n",
       "      <td>constellation energy grp</td>\n",
       "      <td>constellation energy</td>\n",
       "      <td>NaN</td>\n",
       "      <td>1995</td>\n",
       "      <td>506384064</td>\n",
       "    </tr>\n",
       "    <tr>\n",
       "      <th>3</th>\n",
       "      <td>central natural res</td>\n",
       "      <td>central natural resources</td>\n",
       "      <td>NaN</td>\n",
       "      <td>2852</td>\n",
       "      <td>312712631</td>\n",
       "    </tr>\n",
       "    <tr>\n",
       "      <th>4</th>\n",
       "      <td>cracker barrel old ctry stor</td>\n",
       "      <td>cracker barrel olduntry str</td>\n",
       "      <td>NaN</td>\n",
       "      <td>3570</td>\n",
       "      <td>852053057</td>\n",
       "    </tr>\n",
       "    <tr>\n",
       "      <th>...</th>\n",
       "      <td>...</td>\n",
       "      <td>...</td>\n",
       "      <td>...</td>\n",
       "      <td>...</td>\n",
       "      <td>...</td>\n",
       "    </tr>\n",
       "    <tr>\n",
       "      <th>2654</th>\n",
       "      <td>cdti advanced materials</td>\n",
       "      <td>cdti advanced materials</td>\n",
       "      <td>NaN</td>\n",
       "      <td>282553</td>\n",
       "      <td>967328568</td>\n",
       "    </tr>\n",
       "    <tr>\n",
       "      <th>2655</th>\n",
       "      <td>futurefuel</td>\n",
       "      <td>futurefuel</td>\n",
       "      <td>NaN</td>\n",
       "      <td>287462</td>\n",
       "      <td>679546432</td>\n",
       "    </tr>\n",
       "    <tr>\n",
       "      <th>2656</th>\n",
       "      <td>lyondellbasell industries nv</td>\n",
       "      <td>lyondellbasell industries nv</td>\n",
       "      <td>NaN</td>\n",
       "      <td>294524</td>\n",
       "      <td>200051589</td>\n",
       "    </tr>\n",
       "    <tr>\n",
       "      <th>2657</th>\n",
       "      <td>doriang</td>\n",
       "      <td>doriang</td>\n",
       "      <td>NaN</td>\n",
       "      <td>317264</td>\n",
       "      <td>435494175</td>\n",
       "    </tr>\n",
       "    <tr>\n",
       "      <th>2658</th>\n",
       "      <td>arcosa</td>\n",
       "      <td>arcosa</td>\n",
       "      <td>NaN</td>\n",
       "      <td>328795</td>\n",
       "      <td>739118540</td>\n",
       "    </tr>\n",
       "  </tbody>\n",
       "</table>\n",
       "<p>2659 rows × 5 columns</p>\n",
       "</div>"
      ],
      "text/plain": [
       "           supplier_cstatCompanies          supplier_igCompanies  \\\n",
       "0               american software              american software   \n",
       "1                 apco oil and gas                apco oil   gas   \n",
       "2         constellation energy grp         constellation energy    \n",
       "3              central natural res     central natural resources   \n",
       "4     cracker barrel old ctry stor   cracker barrel olduntry str   \n",
       "...                            ...                           ...   \n",
       "2654       cdti advanced materials       cdti advanced materials   \n",
       "2655                    futurefuel                    futurefuel   \n",
       "2656  lyondellbasell industries nv  lyondellbasell industries nv   \n",
       "2657                       doriang                       doriang   \n",
       "2658                        arcosa                        arcosa   \n",
       "\n",
       "      supplier_delete  supplier_gvkey  supplier_abi  \n",
       "0                 NaN            1562       4378204  \n",
       "1                 NaN            1682     544813678  \n",
       "2                 NaN            1995     506384064  \n",
       "3                 NaN            2852     312712631  \n",
       "4                 NaN            3570     852053057  \n",
       "...               ...             ...           ...  \n",
       "2654              NaN          282553     967328568  \n",
       "2655              NaN          287462     679546432  \n",
       "2656              NaN          294524     200051589  \n",
       "2657              NaN          317264     435494175  \n",
       "2658              NaN          328795     739118540  \n",
       "\n",
       "[2659 rows x 5 columns]"
      ]
     },
     "execution_count": 59,
     "metadata": {},
     "output_type": "execute_result"
    }
   ],
   "source": [
    "gvKey_abiLinkingTable"
   ]
  },
  {
   "cell_type": "markdown",
   "metadata": {},
   "source": [
    "This is probably because: (1) companies are not in North America, or (2) companies are not in the physical goods industries we're interested in. We can verify this though: look at c_links where both the customer and supplier are in the dataset of interest."
   ]
  },
  {
   "cell_type": "code",
   "execution_count": 63,
   "metadata": {},
   "outputs": [
    {
     "name": "stdout",
     "output_type": "stream",
     "text": [
      "Percent of firms with a match:  0.8772095013909694\n"
     ]
    }
   ],
   "source": [
    "chq     = pd.read_csv(\"../../data/chq.csv\",dtype={'cstatZipcode': 'object'}).drop(columns = {'Unnamed: 0'})\n",
    "\n",
    "c_linkTest = c_links[c_links.customer_gvkey.isin(chq.gvkey.unique()) & \\\n",
    "                     c_links.supplier_gvkey.isin(chq.gvkey.unique())]\n",
    "\n",
    "print(\"Percent of firms with a match: \", c_linksMerge2.shape[0]/c_linkTest.shape[0])"
   ]
  },
  {
   "cell_type": "markdown",
   "metadata": {},
   "source": [
    "It's entirely possible that we have too small of a sample from the 2010s alone. Let's just try it though and see how it goes.\n",
    "\n",
    "First, make a sample with the companies on three years of either side of when it reports another customer."
   ]
  },
  {
   "cell_type": "code",
   "execution_count": 64,
   "metadata": {},
   "outputs": [],
   "source": [
    "scTableCustomers = c_linksMerge2.copy()[['year','customer_gvkey','customer_abi']].drop_duplicates()\n",
    "scTableSuppliers = c_linksMerge2.copy()[['year','supplier_gvkey','supplier_abi']].drop_duplicates()"
   ]
  },
  {
   "cell_type": "code",
   "execution_count": 70,
   "metadata": {},
   "outputs": [
    {
     "data": {
      "text/html": [
       "<div>\n",
       "<style scoped>\n",
       "    .dataframe tbody tr th:only-of-type {\n",
       "        vertical-align: middle;\n",
       "    }\n",
       "\n",
       "    .dataframe tbody tr th {\n",
       "        vertical-align: top;\n",
       "    }\n",
       "\n",
       "    .dataframe thead th {\n",
       "        text-align: right;\n",
       "    }\n",
       "</style>\n",
       "<table border=\"1\" class=\"dataframe\">\n",
       "  <thead>\n",
       "    <tr style=\"text-align: right;\">\n",
       "      <th></th>\n",
       "      <th>year</th>\n",
       "      <th>customer_gvkey</th>\n",
       "      <th>customer_abi</th>\n",
       "    </tr>\n",
       "  </thead>\n",
       "  <tbody>\n",
       "    <tr>\n",
       "      <th>0</th>\n",
       "      <td>2010</td>\n",
       "      <td>9899</td>\n",
       "      <td>460637358</td>\n",
       "    </tr>\n",
       "    <tr>\n",
       "      <th>1</th>\n",
       "      <td>2011</td>\n",
       "      <td>9899</td>\n",
       "      <td>460637358</td>\n",
       "    </tr>\n",
       "    <tr>\n",
       "      <th>2</th>\n",
       "      <td>2012</td>\n",
       "      <td>9899</td>\n",
       "      <td>460637358</td>\n",
       "    </tr>\n",
       "    <tr>\n",
       "      <th>3</th>\n",
       "      <td>2013</td>\n",
       "      <td>9899</td>\n",
       "      <td>460637358</td>\n",
       "    </tr>\n",
       "    <tr>\n",
       "      <th>4</th>\n",
       "      <td>2014</td>\n",
       "      <td>9899</td>\n",
       "      <td>460637358</td>\n",
       "    </tr>\n",
       "  </tbody>\n",
       "</table>\n",
       "</div>"
      ],
      "text/plain": [
       "   year  customer_gvkey  customer_abi\n",
       "0  2010            9899     460637358\n",
       "1  2011            9899     460637358\n",
       "2  2012            9899     460637358\n",
       "3  2013            9899     460637358\n",
       "4  2014            9899     460637358"
      ]
     },
     "execution_count": 70,
     "metadata": {},
     "output_type": "execute_result"
    }
   ],
   "source": [
    "scTableCustomers.head()"
   ]
  },
  {
   "cell_type": "code",
   "execution_count": 71,
   "metadata": {},
   "outputs": [],
   "source": [
    "def makeThreeEitherSide(df): \n",
    "    yrPlus1 = df.copy(); yrPlus1['year'] += 1\n",
    "    yrPlus2 = df.copy(); yrPlus2['year'] += 1\n",
    "    yrPlus3 = df.copy(); yrPlus3['year'] += 1\n",
    "    \n",
    "    yrMinus1 = df.copy(); yrMinus1['year'] -= 1\n",
    "    yrMinus2 = df.copy(); yrMinus2['year'] -= 1\n",
    "    yrMinus3 = df.copy(); yrMinus3['year'] -= 1\n",
    "    \n",
    "    all = pd.concat([yrPlus1,yrPlus2,yrPlus3,yrMinus1,yrMinus2,yrMinus3])\n",
    "    \n",
    "    return(all)"
   ]
  },
  {
   "cell_type": "code",
   "execution_count": 72,
   "metadata": {},
   "outputs": [],
   "source": [
    "allCustomerData = makeThreeEitherSide(scTableCustomers)\n",
    "allCustomerData.columns = ['year','gvkey','abi']\n",
    "\n",
    "\n",
    "allSupplierData = makeThreeEitherSide(scTableSuppliers)\n",
    "allSupplierData.columns = ['year','gvkey','abi']"
   ]
  },
  {
   "cell_type": "code",
   "execution_count": 73,
   "metadata": {},
   "outputs": [
    {
     "data": {
      "text/plain": [
       "0        2011\n",
       "1        2012\n",
       "2        2013\n",
       "3        2014\n",
       "4        2015\n",
       "         ... \n",
       "20491    2014\n",
       "20492    2015\n",
       "20493    2016\n",
       "20494    2017\n",
       "20495    2018\n",
       "Name: year, Length: 51912, dtype: int64"
      ]
     },
     "execution_count": 73,
     "metadata": {},
     "output_type": "execute_result"
    }
   ],
   "source": [
    "allSupplierData.year"
   ]
  },
  {
   "cell_type": "code",
   "execution_count": 74,
   "metadata": {},
   "outputs": [],
   "source": [
    "allAbi = allCustomerData.abi.append(allSupplierData.abi).drop_duplicates()"
   ]
  },
  {
   "cell_type": "code",
   "execution_count": 75,
   "metadata": {},
   "outputs": [],
   "source": [
    "hqsOnly = pd.read_csv(\"../../data/ig2010s_uniqueHQs.csv\").drop(columns = {'Unnamed: 0'})"
   ]
  },
  {
   "cell_type": "code",
   "execution_count": 76,
   "metadata": {},
   "outputs": [
    {
     "data": {
      "text/html": [
       "<div>\n",
       "<style scoped>\n",
       "    .dataframe tbody tr th:only-of-type {\n",
       "        vertical-align: middle;\n",
       "    }\n",
       "\n",
       "    .dataframe tbody tr th {\n",
       "        vertical-align: top;\n",
       "    }\n",
       "\n",
       "    .dataframe thead th {\n",
       "        text-align: right;\n",
       "    }\n",
       "</style>\n",
       "<table border=\"1\" class=\"dataframe\">\n",
       "  <thead>\n",
       "    <tr style=\"text-align: right;\">\n",
       "      <th></th>\n",
       "      <th>abi</th>\n",
       "      <th>company</th>\n",
       "    </tr>\n",
       "  </thead>\n",
       "  <tbody>\n",
       "    <tr>\n",
       "      <th>0</th>\n",
       "      <td>7609</td>\n",
       "      <td>SOLITRON DEVICES INC</td>\n",
       "    </tr>\n",
       "    <tr>\n",
       "      <th>1</th>\n",
       "      <td>21311</td>\n",
       "      <td>WESTERN STATES ENVELOPE &amp; LBL</td>\n",
       "    </tr>\n",
       "    <tr>\n",
       "      <th>2</th>\n",
       "      <td>29603</td>\n",
       "      <td>THIELE KAOLIN CO</td>\n",
       "    </tr>\n",
       "    <tr>\n",
       "      <th>3</th>\n",
       "      <td>71340</td>\n",
       "      <td>TRI STAFF GROUP</td>\n",
       "    </tr>\n",
       "    <tr>\n",
       "      <th>4</th>\n",
       "      <td>77743</td>\n",
       "      <td>NATIONAL TECHNICAL SYSTEMS INC</td>\n",
       "    </tr>\n",
       "  </tbody>\n",
       "</table>\n",
       "</div>"
      ],
      "text/plain": [
       "     abi                         company\n",
       "0   7609            SOLITRON DEVICES INC\n",
       "1  21311   WESTERN STATES ENVELOPE & LBL\n",
       "2  29603                THIELE KAOLIN CO\n",
       "3  71340                 TRI STAFF GROUP\n",
       "4  77743  NATIONAL TECHNICAL SYSTEMS INC"
      ]
     },
     "execution_count": 76,
     "metadata": {},
     "output_type": "execute_result"
    }
   ],
   "source": [
    "hqsOnly.head()"
   ]
  },
  {
   "cell_type": "code",
   "execution_count": 77,
   "metadata": {},
   "outputs": [],
   "source": [
    "hq = pd.read_csv(\"../../data/ig2010s_uniqueHQs_multLocations.csv\").\\\n",
    "    drop(columns = {'Unnamed: 0'}).\\\n",
    "    rename(columns = {'archive_version_year': 'year'})\n",
    "\n",
    "hq['year'] = hq.year.astype('int64')\n",
    "\n",
    "hqRelevant = hq[hq.abi.isin(allAbi)]"
   ]
  },
  {
   "cell_type": "code",
   "execution_count": 78,
   "metadata": {},
   "outputs": [
    {
     "data": {
      "text/html": [
       "<div>\n",
       "<style scoped>\n",
       "    .dataframe tbody tr th:only-of-type {\n",
       "        vertical-align: middle;\n",
       "    }\n",
       "\n",
       "    .dataframe tbody tr th {\n",
       "        vertical-align: top;\n",
       "    }\n",
       "\n",
       "    .dataframe thead th {\n",
       "        text-align: right;\n",
       "    }\n",
       "</style>\n",
       "<table border=\"1\" class=\"dataframe\">\n",
       "  <thead>\n",
       "    <tr style=\"text-align: right;\">\n",
       "      <th></th>\n",
       "      <th>abi</th>\n",
       "      <th>ticker</th>\n",
       "      <th>company</th>\n",
       "      <th>year</th>\n",
       "      <th>state</th>\n",
       "      <th>city</th>\n",
       "      <th>address_line_1</th>\n",
       "      <th>zipcode</th>\n",
       "      <th>latitude</th>\n",
       "      <th>longitude</th>\n",
       "    </tr>\n",
       "  </thead>\n",
       "  <tbody>\n",
       "  </tbody>\n",
       "</table>\n",
       "</div>"
      ],
      "text/plain": [
       "Empty DataFrame\n",
       "Columns: [abi, ticker, company, year, state, city, address_line_1, zipcode, latitude, longitude]\n",
       "Index: []"
      ]
     },
     "execution_count": 78,
     "metadata": {},
     "output_type": "execute_result"
    }
   ],
   "source": [
    "hqRelevant[hqRelevant.abi == 71340]"
   ]
  },
  {
   "cell_type": "code",
   "execution_count": 79,
   "metadata": {},
   "outputs": [],
   "source": [
    "allSupplierData = allSupplierData.merge(hqRelevant).drop_duplicates()\n",
    "allCustomerData = allCustomerData.merge(hqRelevant).drop_duplicates()"
   ]
  },
  {
   "cell_type": "code",
   "execution_count": 81,
   "metadata": {},
   "outputs": [
    {
     "data": {
      "text/html": [
       "<div>\n",
       "<style scoped>\n",
       "    .dataframe tbody tr th:only-of-type {\n",
       "        vertical-align: middle;\n",
       "    }\n",
       "\n",
       "    .dataframe tbody tr th {\n",
       "        vertical-align: top;\n",
       "    }\n",
       "\n",
       "    .dataframe thead th {\n",
       "        text-align: right;\n",
       "    }\n",
       "</style>\n",
       "<table border=\"1\" class=\"dataframe\">\n",
       "  <thead>\n",
       "    <tr style=\"text-align: right;\">\n",
       "      <th></th>\n",
       "      <th>year</th>\n",
       "      <th>gvkey</th>\n",
       "      <th>abi</th>\n",
       "      <th>ticker</th>\n",
       "      <th>company</th>\n",
       "      <th>state</th>\n",
       "      <th>city</th>\n",
       "      <th>address_line_1</th>\n",
       "      <th>zipcode</th>\n",
       "      <th>latitude</th>\n",
       "      <th>longitude</th>\n",
       "    </tr>\n",
       "  </thead>\n",
       "  <tbody>\n",
       "    <tr>\n",
       "      <th>0</th>\n",
       "      <td>2011</td>\n",
       "      <td>2497</td>\n",
       "      <td>482985413</td>\n",
       "      <td>MTZ</td>\n",
       "      <td>MAS TEC INC</td>\n",
       "      <td>FL</td>\n",
       "      <td>CORAL GABLES</td>\n",
       "      <td>800 S DOUGLAS RD # 12</td>\n",
       "      <td>33134</td>\n",
       "      <td>25.76390</td>\n",
       "      <td>-80.25634</td>\n",
       "    </tr>\n",
       "    <tr>\n",
       "      <th>6</th>\n",
       "      <td>2012</td>\n",
       "      <td>2497</td>\n",
       "      <td>482985413</td>\n",
       "      <td>MTZ</td>\n",
       "      <td>MAS TEC INC</td>\n",
       "      <td>FL</td>\n",
       "      <td>CORAL GABLES</td>\n",
       "      <td>800 S DOUGLAS RD # 12</td>\n",
       "      <td>33134</td>\n",
       "      <td>25.76390</td>\n",
       "      <td>-80.25634</td>\n",
       "    </tr>\n",
       "    <tr>\n",
       "      <th>12</th>\n",
       "      <td>2013</td>\n",
       "      <td>2497</td>\n",
       "      <td>482985413</td>\n",
       "      <td>MTZ</td>\n",
       "      <td>MAS TEC INC</td>\n",
       "      <td>FL</td>\n",
       "      <td>CORAL GABLES</td>\n",
       "      <td>800 S DOUGLAS RD # 1200</td>\n",
       "      <td>33134</td>\n",
       "      <td>25.76375</td>\n",
       "      <td>-80.25635</td>\n",
       "    </tr>\n",
       "    <tr>\n",
       "      <th>18</th>\n",
       "      <td>2014</td>\n",
       "      <td>2497</td>\n",
       "      <td>482985413</td>\n",
       "      <td>MTZ</td>\n",
       "      <td>MAS TEC INC</td>\n",
       "      <td>FL</td>\n",
       "      <td>CORAL GABLES</td>\n",
       "      <td>800 S DOUGLAS RD # 1200</td>\n",
       "      <td>33134</td>\n",
       "      <td>25.76390</td>\n",
       "      <td>-80.25634</td>\n",
       "    </tr>\n",
       "    <tr>\n",
       "      <th>24</th>\n",
       "      <td>2015</td>\n",
       "      <td>2497</td>\n",
       "      <td>482985413</td>\n",
       "      <td>MTZ</td>\n",
       "      <td>MAS TEC INC</td>\n",
       "      <td>FL</td>\n",
       "      <td>CORAL GABLES</td>\n",
       "      <td>800 S DOUGLAS RD # 1200</td>\n",
       "      <td>33134</td>\n",
       "      <td>25.76375</td>\n",
       "      <td>-80.25635</td>\n",
       "    </tr>\n",
       "  </tbody>\n",
       "</table>\n",
       "</div>"
      ],
      "text/plain": [
       "    year  gvkey        abi ticker      company state          city  \\\n",
       "0   2011   2497  482985413    MTZ  MAS TEC INC    FL  CORAL GABLES   \n",
       "6   2012   2497  482985413    MTZ  MAS TEC INC    FL  CORAL GABLES   \n",
       "12  2013   2497  482985413    MTZ  MAS TEC INC    FL  CORAL GABLES   \n",
       "18  2014   2497  482985413    MTZ  MAS TEC INC    FL  CORAL GABLES   \n",
       "24  2015   2497  482985413    MTZ  MAS TEC INC    FL  CORAL GABLES   \n",
       "\n",
       "             address_line_1  zipcode  latitude  longitude  \n",
       "0     800 S DOUGLAS RD # 12    33134  25.76390  -80.25634  \n",
       "6     800 S DOUGLAS RD # 12    33134  25.76390  -80.25634  \n",
       "12  800 S DOUGLAS RD # 1200    33134  25.76375  -80.25635  \n",
       "18  800 S DOUGLAS RD # 1200    33134  25.76390  -80.25634  \n",
       "24  800 S DOUGLAS RD # 1200    33134  25.76375  -80.25635  "
      ]
     },
     "execution_count": 81,
     "metadata": {},
     "output_type": "execute_result"
    }
   ],
   "source": [
    "allSupplierData.head()"
   ]
  },
  {
   "cell_type": "code",
   "execution_count": 326,
   "metadata": {},
   "outputs": [],
   "source": [
    "allCustomerData.to_csv(\"../../data/companyData/allCustomerData.csv\")\n",
    "allSupplierData.to_csv(\"../../data/companyData/allSupplierData.csv\")"
   ]
  },
  {
   "cell_type": "code",
   "execution_count": 80,
   "metadata": {},
   "outputs": [
    {
     "data": {
      "text/plain": [
       "(9592, 11)"
      ]
     },
     "execution_count": 80,
     "metadata": {},
     "output_type": "execute_result"
    }
   ],
   "source": [
    "allSupplierData.shape"
   ]
  },
  {
   "cell_type": "code",
   "execution_count": 335,
   "metadata": {},
   "outputs": [],
   "source": [
    "hqsOnly = pd.read_csv(\"../../data/ig2010s_uniqueHQs.csv\")"
   ]
  }
 ],
 "metadata": {
  "kernelspec": {
   "display_name": "Python 3",
   "language": "python",
   "name": "python3"
  },
  "language_info": {
   "codemirror_mode": {
    "name": "ipython",
    "version": 3
   },
   "file_extension": ".py",
   "mimetype": "text/x-python",
   "name": "python",
   "nbconvert_exporter": "python",
   "pygments_lexer": "ipython3",
   "version": "3.7.4"
  }
 },
 "nbformat": 4,
 "nbformat_minor": 2
}
