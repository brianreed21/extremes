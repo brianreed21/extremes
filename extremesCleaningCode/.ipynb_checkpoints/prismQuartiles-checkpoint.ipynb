{
 "cells": [
  {
   "cell_type": "code",
   "execution_count": 2,
   "metadata": {},
   "outputs": [
    {
     "name": "stderr",
     "output_type": "stream",
     "text": [
      "/Users/brianreed/opt/anaconda3/lib/python3.7/site-packages/dask/dataframe/utils.py:14: FutureWarning: pandas.util.testing is deprecated. Use the functions in the public API at pandas.testing instead.\n",
      "  import pandas.util.testing as tm\n"
     ]
    }
   ],
   "source": [
    "import pickle\n",
    "import pandas as pd\n",
    "import matplotlib\n",
    "import os\n",
    "import re\n",
    "\n",
    "import collections\n",
    "import datetime\n",
    "import time\n",
    "\n",
    "import geopandas as gpd\n",
    "\n",
    "import numpy as np\n",
    "\n",
    "import rasterio\n",
    "\n",
    "from difflib import get_close_matches\n",
    "\n",
    "from fuzzywuzzy import process\n",
    "from fuzzywuzzy import fuzz\n",
    "\n",
    "import dask.dataframe as dd\n",
    "\n",
    "import gc\n"
   ]
  },
  {
   "cell_type": "markdown",
   "metadata": {},
   "source": [
    "# Sample"
   ]
  },
  {
   "cell_type": "code",
   "execution_count": 2,
   "metadata": {},
   "outputs": [],
   "source": [
    "def getData(weatherType,yearRange1,yearRange2):\n",
    "\n",
    "    if weatherType == \"Tmax\":\n",
    "        weatherVar = \"temperature\"\n",
    "    else: \n",
    "        weatherVar = \"precipitation\"\n",
    "    \n",
    "    year = yearRange1\n",
    "    filename = \"../../../../../../../Volumes/backup2/dissData/prism/zipcode\" + weatherType + str(year) + \".csv\"\n",
    "    data = dd.read_csv(filename, assume_missing=True)[['ZIP','date',weatherVar]]\n",
    "    # data = data[~(data[weatherVar].isna().compute())]\n",
    "\n",
    "    years = range(yearRange1 + 1,yearRange2 + 1)\n",
    "    for year in years:\n",
    "        filename = \"../../../../../../../Volumes/backup2/dissData/prism/zipcode\" + weatherType + str(year) + \".csv\"\n",
    "        tempData = dd.read_csv(filename, assume_missing=True)[['ZIP','date',weatherVar]]\n",
    "        # tempData = tempData[~(tempData[weatherVar].isna().compute())]\n",
    "        data = data.append(tempData)\n",
    "\n",
    "    data = data[~(data[weatherVar].isna())].compute()\n",
    "    \n",
    "    return(data)\n"
   ]
  },
  {
   "cell_type": "code",
   "execution_count": 3,
   "metadata": {},
   "outputs": [
    {
     "name": "stdout",
     "output_type": "stream",
     "text": [
      "['quant_0.0', 'quant_0.05', 'quant_0.1', 'quant_0.15', 'quant_0.2', 'quant_0.25', 'quant_0.30', 'quant_0.35', 'quant_0.4', 'quant_0.45', 'quant_0.5', 'quant_0.55', 'quant_0.60', 'quant_0.65', 'quant_0.70', 'quant_0.75', 'quant_0.8', 'quant_0.85', 'quant_0.9', 'quant_0.95', 'quant_1.0']\n"
     ]
    }
   ],
   "source": [
    "numberQuants    = 20\n",
    "\n",
    "quantiles       = np.arange(0.0, 1.05, 1/numberQuants)\n",
    "\n",
    "quant_labels   = ['quant_' + str(n)[0:4] for n in quantiles]\n",
    "\n",
    "print(quant_labels)"
   ]
  },
  {
   "cell_type": "code",
   "execution_count": 4,
   "metadata": {},
   "outputs": [
    {
     "data": {
      "text/plain": [
       "21"
      ]
     },
     "execution_count": 4,
     "metadata": {},
     "output_type": "execute_result"
    }
   ],
   "source": [
    "len(quantiles)"
   ]
  },
  {
   "cell_type": "markdown",
   "metadata": {},
   "source": [
    "## Precipitation"
   ]
  },
  {
   "cell_type": "code",
   "execution_count": 18,
   "metadata": {},
   "outputs": [
    {
     "name": "stdout",
     "output_type": "stream",
     "text": [
      "391.6979730129242\n"
     ]
    }
   ],
   "source": [
    "start = time.time()\n",
    "weatherType = \"Precip\" # Tmax\n",
    "data = getData(weatherType,1981,2009)\n",
    "\n",
    "precipQuants = data.precipitation.quantile(q = quantiles)\n",
    "\n",
    "print(time.time() - start)"
   ]
  },
  {
   "cell_type": "code",
   "execution_count": 28,
   "metadata": {},
   "outputs": [
    {
     "data": {
      "text/plain": [
       "'del data\\ngc.collect()'"
      ]
     },
     "execution_count": 28,
     "metadata": {},
     "output_type": "execute_result"
    }
   ],
   "source": [
    "filename = '../../../../../../../Volumes/backup2/dissData/prism/precipQuants_1981.2009.txt'\n",
    "'''with open(filename, 'wb') as handle:\n",
    "    pickle.dump(precipQuants, handle)'''\n",
    "    \n",
    "with open(filename, 'w') as f:\n",
    "    f.write(str(precipQuants.values))\n",
    "    \n",
    "del data\n",
    "gc.collect()"
   ]
  },
  {
   "cell_type": "markdown",
   "metadata": {},
   "source": [
    "## Temperature"
   ]
  },
  {
   "cell_type": "code",
   "execution_count": 30,
   "metadata": {},
   "outputs": [
    {
     "name": "stdout",
     "output_type": "stream",
     "text": [
      "441.40456891059875\n"
     ]
    }
   ],
   "source": [
    "start = time.time()\n",
    "weatherType = \"Tmax\"\n",
    "data = getData(weatherType, 1981, 2009)\n",
    "\n",
    "tmaxQuants = data.temperature.quantile(q = quantiles) # following is no longer nec bc we call compute for nas: .compute()\n",
    "\n",
    "print(time.time() - start)"
   ]
  },
  {
   "cell_type": "code",
   "execution_count": 32,
   "metadata": {},
   "outputs": [
    {
     "data": {
      "text/plain": [
       "40"
      ]
     },
     "execution_count": 32,
     "metadata": {},
     "output_type": "execute_result"
    }
   ],
   "source": [
    "filename = '../../../../../../../Volumes/backup2/dissData/prism/tmaxQuants_1981.2009.pkl'\n",
    "with open(filename, 'wb') as handle:\n",
    "    pickle.dump(tmaxQuants, handle)\n",
    "    \n",
    "del data\n",
    "gc.collect()"
   ]
  },
  {
   "cell_type": "code",
   "execution_count": 31,
   "metadata": {},
   "outputs": [
    {
     "name": "stdout",
     "output_type": "stream",
     "text": [
      "0.00   -38.895000\n",
      "0.05    -1.734000\n",
      "0.10     2.060000\n",
      "0.15     4.959000\n",
      "0.20     7.602000\n",
      "0.25    10.040000\n",
      "0.30    12.285000\n",
      "0.35    14.333000\n",
      "0.40    16.306999\n",
      "0.45    18.128000\n",
      "0.50    19.885000\n",
      "0.55    21.558001\n",
      "0.60    23.098000\n",
      "0.65    24.556000\n",
      "0.70    25.972000\n",
      "0.75    27.301001\n",
      "0.80    28.607000\n",
      "0.85    30.004999\n",
      "0.90    31.600000\n",
      "0.95    33.539001\n",
      "1.00    51.479000\n",
      "Name: temperature, dtype: float64\n"
     ]
    }
   ],
   "source": [
    "print(tmaxQuants)"
   ]
  },
  {
   "cell_type": "markdown",
   "metadata": {},
   "source": [
    "## Now go through the data from 2010 - 2019 and find time spent in each bin"
   ]
  },
  {
   "cell_type": "code",
   "execution_count": 73,
   "metadata": {},
   "outputs": [
    {
     "data": {
      "text/plain": [
       "['quant_0.0',\n",
       " 'quant_0.05',\n",
       " 'quant_0.1',\n",
       " 'quant_0.15',\n",
       " 'quant_0.2',\n",
       " 'quant_0.25',\n",
       " 'quant_0.30',\n",
       " 'quant_0.35',\n",
       " 'quant_0.4',\n",
       " 'quant_0.45',\n",
       " 'quant_0.5',\n",
       " 'quant_0.55',\n",
       " 'quant_0.60',\n",
       " 'quant_0.65',\n",
       " 'quant_0.70',\n",
       " 'quant_0.75',\n",
       " 'quant_0.8',\n",
       " 'quant_0.85',\n",
       " 'quant_0.9',\n",
       " 'quant_0.95',\n",
       " 'quant_1.0']"
      ]
     },
     "execution_count": 73,
     "metadata": {},
     "output_type": "execute_result"
    }
   ],
   "source": [
    "quant_labels"
   ]
  },
  {
   "cell_type": "code",
   "execution_count": 74,
   "metadata": {},
   "outputs": [],
   "source": [
    "def findQuarterlyQuants(weatherType, quartileList, df, quant_labels):\n",
    "    \n",
    "    weatherCut = weatherType + \"Cut\"\n",
    "    weatherCutLabels = weatherCut + 'labels'\n",
    "    \n",
    "    df[weatherCutLabels] = pd.Series(pd.cut(df[weatherType],\n",
    "                                      bins = list(quartileList),\n",
    "                                     labels = quant_labels[1:], duplicates = 'drop'))\n",
    "    \n",
    "    df[weatherCut] = pd.Series(pd.cut(df[weatherType],\n",
    "                                      bins = list(quartileList)))\n",
    "    \n",
    "    df['month'] = df.date.astype(str).str.slice(4,6)\n",
    "\n",
    "    df['quarter'] = 'q1'\n",
    "\n",
    "    df.loc[df['month'].isin(['04','05','06']), 'quarter'] = 'q2'\n",
    "    df.loc[df['month'].isin(['07','08','09']), 'quarter'] = 'q3'\n",
    "    df.loc[df['month'].isin(['10','11','12']), 'quarter'] = 'q4'\n",
    "\n",
    "    df['yearQuarter'] = df.date.astype(str).str.slice(0,4) + df.quarter\n",
    "\n",
    "    occurrences = weatherType + \"Occurences\" \n",
    "\n",
    "    summaryDF = df.groupby(['ZIP','yearQuarter',weatherCutLabels]).size().reset_index()\n",
    "    summaryDF.columns = ['zip','yearQuarter',weatherCutLabels,occurrences]\n",
    "    \n",
    "    '''\n",
    "    summaryDF = df.groupby(['ZIP','yearQuarter',weatherCut]).size().reset_index()\n",
    "    summaryDF.columns = ['zip','yearQuarter',weatherCut,occurrences]\n",
    "    '''\n",
    "    \n",
    "    return(summaryDF)"
   ]
  },
  {
   "cell_type": "code",
   "execution_count": 36,
   "metadata": {},
   "outputs": [
    {
     "name": "stdout",
     "output_type": "stream",
     "text": [
      "208.32539987564087\n",
      "      zip yearQuarter temperatureCutlabels  temperatureOccurences\n",
      "0  1001.0      2010q1           quant_0.05                      8\n",
      "1  1001.0      2010q1            quant_0.1                     20\n",
      "2  1001.0      2010q1           quant_0.15                     21\n",
      "3  1001.0      2010q1            quant_0.2                     12\n",
      "4  1001.0      2010q1           quant_0.25                     10\n",
      "589.3121449947357\n"
     ]
    }
   ],
   "source": [
    "start = time.time()\n",
    "recentDecadeTemps = getData(\"Tmax\",2010,2019)\n",
    "print(time.time() - start)\n",
    "\n",
    "tempQuarterlyBins = findQuarterlyQuants(weatherType = 'temperature', quartileList = tmaxQuants, df = recentDecadeTemps)\n",
    "print(tempQuarterlyBins.head())\n",
    "\n",
    "print(time.time() - start)\n",
    "\n",
    "tempQuarterlyBinsPivot = tempQuarterlyBins.pivot(index=['zip','yearQuarter'], columns='temperatureCutlabels', \n",
    "                            values='temperatureOccurences').reset_index(drop = True).reset_index().rename_axis(None, axis=1)\n",
    "\n",
    "tempQuarterlyBinsPivot.to_csv(\"../../../../../../../Volumes/backup2/dissData/prism/tempQuarterlyBins_2010.2019.csv\")"
   ]
  },
  {
   "cell_type": "code",
   "execution_count": 104,
   "metadata": {},
   "outputs": [
    {
     "data": {
      "text/plain": [
       "213"
      ]
     },
     "execution_count": 104,
     "metadata": {},
     "output_type": "execute_result"
    }
   ],
   "source": [
    "del tempQuarterlyBins\n",
    "del recentDecadeTemps\n",
    "\n",
    "gc.collect()"
   ]
  },
  {
   "cell_type": "markdown",
   "metadata": {},
   "source": [
    "Many of the precipitation quartiles are duplicated. Let's make sure we just have the unique values."
   ]
  },
  {
   "cell_type": "code",
   "execution_count": 102,
   "metadata": {},
   "outputs": [
    {
     "name": "stdout",
     "output_type": "stream",
     "text": [
      "[0.0, 0.025000000372529, 0.606000006198883, 1.40600001811981, 2.7269999980926505, 4.89900016784668, 8.55900001525879, 15.878999710083, 609.763000488281] ['quant_0.0', 'quant_0.65', 'quant_0.70', 'quant_0.75', 'quant_0.8', 'quant_0.85', 'quant_0.9', 'quant_0.95', 'quant_1.0']\n"
     ]
    }
   ],
   "source": [
    "unique_indices = [list(precipQuants).index(i) for i in precipQuants.unique()]\n",
    "quant_labels_subset = [quant_labels[i] for i in unique_indices]\n",
    "precipQuants_subset = [list(precipQuants)[i] for i in unique_indices]\n",
    "\n",
    "print(precipQuants_subset,quant_labels_subset)"
   ]
  },
  {
   "cell_type": "code",
   "execution_count": 126,
   "metadata": {},
   "outputs": [
    {
     "data": {
      "text/plain": [
       "['quant_0.0',\n",
       " 'quant_0.65',\n",
       " 'quant_0.70',\n",
       " 'quant_0.75',\n",
       " 'quant_0.8',\n",
       " 'quant_0.85',\n",
       " 'quant_0.9',\n",
       " 'quant_0.95',\n",
       " 'quant_1.0']"
      ]
     },
     "execution_count": 126,
     "metadata": {},
     "output_type": "execute_result"
    }
   ],
   "source": [
    "quant_labels_subset"
   ]
  },
  {
   "cell_type": "code",
   "execution_count": 106,
   "metadata": {},
   "outputs": [
    {
     "name": "stdout",
     "output_type": "stream",
     "text": [
      "194.62134504318237\n"
     ]
    }
   ],
   "source": [
    "start = time.time()\n",
    "recentDecadePrecip = getData(\"Precip\",2010,2019)\n",
    "print(time.time() - start)"
   ]
  },
  {
   "cell_type": "code",
   "execution_count": 150,
   "metadata": {},
   "outputs": [],
   "source": [
    "precipQuarterlyBins = findQuarterlyQuants(weatherType = 'precipitation', quartileList = precipQuants_subset, \n",
    "                                          df = recentDecadePrecip, quant_labels = quant_labels_subset)\n",
    "print(precipQuarterlyBins.head())\n",
    "\n",
    "print(time.time() - start)\n",
    "\n",
    "precipQuarterlyBinsPivot = precipQuarterlyBins.pivot(index=['zip','yearQuarter'], \n",
    "        columns='precipitationCutlabels', values='precipitationOccurences').reset_index().\\\n",
    "        rename_axis(None, axis=1)\n",
    "\n",
    "precipQuarterlyBinsPivot.columns.values[2:] = 'precip_' + precipQuarterlyBinsPivot.columns.values[2:]\n",
    "\n",
    "\n",
    "\n",
    "precipQuarterlyBinsPivot.to_csv(\"../../../../../../../Volumes/backup2/dissData/prism/precipQuarterlyBins_2010.2019.csv\")"
   ]
  },
  {
   "cell_type": "code",
   "execution_count": 2,
   "metadata": {},
   "outputs": [],
   "source": [
    "test = pd.read_csv(\"../../../../../../../Volumes/backup2/dissData/prism/tempQuarterlyBins_2010.2019.csv\").drop(columns = {\"Unnamed: 0\"})\n",
    "test = test.rename_axis(None, axis = 1)"
   ]
  },
  {
   "cell_type": "code",
   "execution_count": 3,
   "metadata": {},
   "outputs": [
    {
     "data": {
      "text/html": [
       "<div>\n",
       "<style scoped>\n",
       "    .dataframe tbody tr th:only-of-type {\n",
       "        vertical-align: middle;\n",
       "    }\n",
       "\n",
       "    .dataframe tbody tr th {\n",
       "        vertical-align: top;\n",
       "    }\n",
       "\n",
       "    .dataframe thead th {\n",
       "        text-align: right;\n",
       "    }\n",
       "</style>\n",
       "<table border=\"1\" class=\"dataframe\">\n",
       "  <thead>\n",
       "    <tr style=\"text-align: right;\">\n",
       "      <th></th>\n",
       "      <th>zip</th>\n",
       "      <th>yearQuarter</th>\n",
       "      <th>quant_0.05</th>\n",
       "      <th>quant_0.1</th>\n",
       "      <th>quant_0.15</th>\n",
       "      <th>quant_0.2</th>\n",
       "      <th>quant_0.25</th>\n",
       "      <th>quant_0.30</th>\n",
       "      <th>quant_0.35</th>\n",
       "      <th>quant_0.4</th>\n",
       "      <th>...</th>\n",
       "      <th>quant_0.55</th>\n",
       "      <th>quant_0.60</th>\n",
       "      <th>quant_0.65</th>\n",
       "      <th>quant_0.70</th>\n",
       "      <th>quant_0.75</th>\n",
       "      <th>quant_0.8</th>\n",
       "      <th>quant_0.85</th>\n",
       "      <th>quant_0.9</th>\n",
       "      <th>quant_0.95</th>\n",
       "      <th>quant_1.0</th>\n",
       "    </tr>\n",
       "  </thead>\n",
       "  <tbody>\n",
       "    <tr>\n",
       "      <th>0</th>\n",
       "      <td>1001.0</td>\n",
       "      <td>2010q1</td>\n",
       "      <td>8</td>\n",
       "      <td>20</td>\n",
       "      <td>21</td>\n",
       "      <td>12</td>\n",
       "      <td>10</td>\n",
       "      <td>5</td>\n",
       "      <td>5</td>\n",
       "      <td>2</td>\n",
       "      <td>...</td>\n",
       "      <td>1</td>\n",
       "      <td>2</td>\n",
       "      <td>0</td>\n",
       "      <td>0</td>\n",
       "      <td>0</td>\n",
       "      <td>0</td>\n",
       "      <td>0</td>\n",
       "      <td>0</td>\n",
       "      <td>0</td>\n",
       "      <td>0</td>\n",
       "    </tr>\n",
       "    <tr>\n",
       "      <th>1</th>\n",
       "      <td>1001.0</td>\n",
       "      <td>2010q2</td>\n",
       "      <td>0</td>\n",
       "      <td>0</td>\n",
       "      <td>0</td>\n",
       "      <td>0</td>\n",
       "      <td>2</td>\n",
       "      <td>5</td>\n",
       "      <td>4</td>\n",
       "      <td>5</td>\n",
       "      <td>...</td>\n",
       "      <td>9</td>\n",
       "      <td>9</td>\n",
       "      <td>5</td>\n",
       "      <td>8</td>\n",
       "      <td>5</td>\n",
       "      <td>10</td>\n",
       "      <td>6</td>\n",
       "      <td>7</td>\n",
       "      <td>6</td>\n",
       "      <td>1</td>\n",
       "    </tr>\n",
       "    <tr>\n",
       "      <th>2</th>\n",
       "      <td>1001.0</td>\n",
       "      <td>2010q3</td>\n",
       "      <td>0</td>\n",
       "      <td>0</td>\n",
       "      <td>0</td>\n",
       "      <td>0</td>\n",
       "      <td>0</td>\n",
       "      <td>0</td>\n",
       "      <td>0</td>\n",
       "      <td>0</td>\n",
       "      <td>...</td>\n",
       "      <td>6</td>\n",
       "      <td>6</td>\n",
       "      <td>5</td>\n",
       "      <td>5</td>\n",
       "      <td>10</td>\n",
       "      <td>10</td>\n",
       "      <td>7</td>\n",
       "      <td>14</td>\n",
       "      <td>15</td>\n",
       "      <td>12</td>\n",
       "    </tr>\n",
       "    <tr>\n",
       "      <th>3</th>\n",
       "      <td>1001.0</td>\n",
       "      <td>2010q4</td>\n",
       "      <td>6</td>\n",
       "      <td>11</td>\n",
       "      <td>8</td>\n",
       "      <td>7</td>\n",
       "      <td>9</td>\n",
       "      <td>10</td>\n",
       "      <td>11</td>\n",
       "      <td>10</td>\n",
       "      <td>...</td>\n",
       "      <td>1</td>\n",
       "      <td>2</td>\n",
       "      <td>3</td>\n",
       "      <td>1</td>\n",
       "      <td>0</td>\n",
       "      <td>0</td>\n",
       "      <td>0</td>\n",
       "      <td>0</td>\n",
       "      <td>0</td>\n",
       "      <td>0</td>\n",
       "    </tr>\n",
       "    <tr>\n",
       "      <th>4</th>\n",
       "      <td>1001.0</td>\n",
       "      <td>2011q1</td>\n",
       "      <td>17</td>\n",
       "      <td>21</td>\n",
       "      <td>21</td>\n",
       "      <td>13</td>\n",
       "      <td>8</td>\n",
       "      <td>4</td>\n",
       "      <td>3</td>\n",
       "      <td>1</td>\n",
       "      <td>...</td>\n",
       "      <td>1</td>\n",
       "      <td>0</td>\n",
       "      <td>0</td>\n",
       "      <td>0</td>\n",
       "      <td>0</td>\n",
       "      <td>0</td>\n",
       "      <td>0</td>\n",
       "      <td>0</td>\n",
       "      <td>0</td>\n",
       "      <td>0</td>\n",
       "    </tr>\n",
       "  </tbody>\n",
       "</table>\n",
       "<p>5 rows × 22 columns</p>\n",
       "</div>"
      ],
      "text/plain": [
       "      zip yearQuarter  quant_0.05  quant_0.1  quant_0.15  quant_0.2  \\\n",
       "0  1001.0      2010q1           8         20          21         12   \n",
       "1  1001.0      2010q2           0          0           0          0   \n",
       "2  1001.0      2010q3           0          0           0          0   \n",
       "3  1001.0      2010q4           6         11           8          7   \n",
       "4  1001.0      2011q1          17         21          21         13   \n",
       "\n",
       "   quant_0.25  quant_0.30  quant_0.35  quant_0.4  ...  quant_0.55  quant_0.60  \\\n",
       "0          10           5           5          2  ...           1           2   \n",
       "1           2           5           4          5  ...           9           9   \n",
       "2           0           0           0          0  ...           6           6   \n",
       "3           9          10          11         10  ...           1           2   \n",
       "4           8           4           3          1  ...           1           0   \n",
       "\n",
       "   quant_0.65  quant_0.70  quant_0.75  quant_0.8  quant_0.85  quant_0.9  \\\n",
       "0           0           0           0          0           0          0   \n",
       "1           5           8           5         10           6          7   \n",
       "2           5           5          10         10           7         14   \n",
       "3           3           1           0          0           0          0   \n",
       "4           0           0           0          0           0          0   \n",
       "\n",
       "   quant_0.95  quant_1.0  \n",
       "0           0          0  \n",
       "1           6          1  \n",
       "2          15         12  \n",
       "3           0          0  \n",
       "4           0          0  \n",
       "\n",
       "[5 rows x 22 columns]"
      ]
     },
     "execution_count": 3,
     "metadata": {},
     "output_type": "execute_result"
    }
   ],
   "source": [
    "test.head()"
   ]
  },
  {
   "cell_type": "code",
   "execution_count": 4,
   "metadata": {},
   "outputs": [],
   "source": [
    "test.columns.values[2:] = 'tmax_' + test.columns.values[2:]\n"
   ]
  },
  {
   "cell_type": "code",
   "execution_count": 6,
   "metadata": {},
   "outputs": [],
   "source": [
    "test.to_csv(\"../../../../../../../Volumes/backup2/dissData/prism/tempQuarterlyBins_2010.2019.csv\")"
   ]
  },
  {
   "cell_type": "code",
   "execution_count": null,
   "metadata": {},
   "outputs": [],
   "source": [
    "test.head()"
   ]
  },
  {
   "cell_type": "code",
   "execution_count": 3,
   "metadata": {},
   "outputs": [],
   "source": [
    "tmax   = pd.read_csv(\"../../../../../../../Volumes/backup2/dissData/prism/tempQuarterlyBins_2010.2019.csv\").drop(columns = {\"Unnamed: 0\"})\n",
    "precip = pd.read_csv(\"../../../../../../../Volumes/backup2/dissData/prism/precipQuarterlyBins_2010.2019.csv\").drop(columns = {\"Unnamed: 0\"})"
   ]
  },
  {
   "cell_type": "code",
   "execution_count": 4,
   "metadata": {},
   "outputs": [],
   "source": [
    "allWeather = tmax.merge(precip)"
   ]
  },
  {
   "cell_type": "code",
   "execution_count": 14,
   "metadata": {},
   "outputs": [
    {
     "data": {
      "text/html": [
       "<div>\n",
       "<style scoped>\n",
       "    .dataframe tbody tr th:only-of-type {\n",
       "        vertical-align: middle;\n",
       "    }\n",
       "\n",
       "    .dataframe tbody tr th {\n",
       "        vertical-align: top;\n",
       "    }\n",
       "\n",
       "    .dataframe thead th {\n",
       "        text-align: right;\n",
       "    }\n",
       "</style>\n",
       "<table border=\"1\" class=\"dataframe\">\n",
       "  <thead>\n",
       "    <tr style=\"text-align: right;\">\n",
       "      <th></th>\n",
       "      <th>zip</th>\n",
       "      <th>yearQuarter</th>\n",
       "      <th>tmax_quant_0.05</th>\n",
       "      <th>tmax_quant_0.1</th>\n",
       "      <th>tmax_quant_0.15</th>\n",
       "      <th>tmax_quant_0.2</th>\n",
       "      <th>tmax_quant_0.25</th>\n",
       "      <th>tmax_quant_0.30</th>\n",
       "      <th>tmax_quant_0.35</th>\n",
       "      <th>tmax_quant_0.4</th>\n",
       "      <th>...</th>\n",
       "      <th>precip_quant_0.65</th>\n",
       "      <th>precip_quant_0.70</th>\n",
       "      <th>precip_quant_0.75</th>\n",
       "      <th>precip_quant_0.8</th>\n",
       "      <th>precip_quant_0.85</th>\n",
       "      <th>precip_quant_0.9</th>\n",
       "      <th>precip_quant_0.95</th>\n",
       "      <th>precip_quant_1.0</th>\n",
       "      <th>year</th>\n",
       "      <th>qtr</th>\n",
       "    </tr>\n",
       "  </thead>\n",
       "  <tbody>\n",
       "    <tr>\n",
       "      <th>0</th>\n",
       "      <td>1001.0</td>\n",
       "      <td>2010q1</td>\n",
       "      <td>8</td>\n",
       "      <td>20</td>\n",
       "      <td>21</td>\n",
       "      <td>12</td>\n",
       "      <td>10</td>\n",
       "      <td>5</td>\n",
       "      <td>5</td>\n",
       "      <td>2</td>\n",
       "      <td>...</td>\n",
       "      <td>1</td>\n",
       "      <td>4</td>\n",
       "      <td>3</td>\n",
       "      <td>4</td>\n",
       "      <td>10</td>\n",
       "      <td>3</td>\n",
       "      <td>1</td>\n",
       "      <td>9</td>\n",
       "      <td>2010</td>\n",
       "      <td></td>\n",
       "    </tr>\n",
       "    <tr>\n",
       "      <th>1</th>\n",
       "      <td>1001.0</td>\n",
       "      <td>2010q2</td>\n",
       "      <td>0</td>\n",
       "      <td>0</td>\n",
       "      <td>0</td>\n",
       "      <td>0</td>\n",
       "      <td>2</td>\n",
       "      <td>5</td>\n",
       "      <td>4</td>\n",
       "      <td>5</td>\n",
       "      <td>...</td>\n",
       "      <td>1</td>\n",
       "      <td>7</td>\n",
       "      <td>6</td>\n",
       "      <td>8</td>\n",
       "      <td>4</td>\n",
       "      <td>7</td>\n",
       "      <td>6</td>\n",
       "      <td>2</td>\n",
       "      <td>2010</td>\n",
       "      <td></td>\n",
       "    </tr>\n",
       "    <tr>\n",
       "      <th>2</th>\n",
       "      <td>1001.0</td>\n",
       "      <td>2010q3</td>\n",
       "      <td>0</td>\n",
       "      <td>0</td>\n",
       "      <td>0</td>\n",
       "      <td>0</td>\n",
       "      <td>0</td>\n",
       "      <td>0</td>\n",
       "      <td>0</td>\n",
       "      <td>0</td>\n",
       "      <td>...</td>\n",
       "      <td>2</td>\n",
       "      <td>4</td>\n",
       "      <td>2</td>\n",
       "      <td>5</td>\n",
       "      <td>7</td>\n",
       "      <td>3</td>\n",
       "      <td>3</td>\n",
       "      <td>3</td>\n",
       "      <td>2010</td>\n",
       "      <td></td>\n",
       "    </tr>\n",
       "    <tr>\n",
       "      <th>3</th>\n",
       "      <td>1001.0</td>\n",
       "      <td>2010q4</td>\n",
       "      <td>6</td>\n",
       "      <td>11</td>\n",
       "      <td>8</td>\n",
       "      <td>7</td>\n",
       "      <td>9</td>\n",
       "      <td>10</td>\n",
       "      <td>11</td>\n",
       "      <td>10</td>\n",
       "      <td>...</td>\n",
       "      <td>0</td>\n",
       "      <td>2</td>\n",
       "      <td>5</td>\n",
       "      <td>8</td>\n",
       "      <td>3</td>\n",
       "      <td>2</td>\n",
       "      <td>3</td>\n",
       "      <td>8</td>\n",
       "      <td>2010</td>\n",
       "      <td></td>\n",
       "    </tr>\n",
       "    <tr>\n",
       "      <th>4</th>\n",
       "      <td>1001.0</td>\n",
       "      <td>2011q1</td>\n",
       "      <td>17</td>\n",
       "      <td>21</td>\n",
       "      <td>21</td>\n",
       "      <td>13</td>\n",
       "      <td>8</td>\n",
       "      <td>4</td>\n",
       "      <td>3</td>\n",
       "      <td>1</td>\n",
       "      <td>...</td>\n",
       "      <td>0</td>\n",
       "      <td>2</td>\n",
       "      <td>7</td>\n",
       "      <td>7</td>\n",
       "      <td>1</td>\n",
       "      <td>9</td>\n",
       "      <td>5</td>\n",
       "      <td>6</td>\n",
       "      <td>2011</td>\n",
       "      <td></td>\n",
       "    </tr>\n",
       "  </tbody>\n",
       "</table>\n",
       "<p>5 rows × 32 columns</p>\n",
       "</div>"
      ],
      "text/plain": [
       "      zip yearQuarter  tmax_quant_0.05  tmax_quant_0.1  tmax_quant_0.15  \\\n",
       "0  1001.0      2010q1                8              20               21   \n",
       "1  1001.0      2010q2                0               0                0   \n",
       "2  1001.0      2010q3                0               0                0   \n",
       "3  1001.0      2010q4                6              11                8   \n",
       "4  1001.0      2011q1               17              21               21   \n",
       "\n",
       "   tmax_quant_0.2  tmax_quant_0.25  tmax_quant_0.30  tmax_quant_0.35  \\\n",
       "0              12               10                5                5   \n",
       "1               0                2                5                4   \n",
       "2               0                0                0                0   \n",
       "3               7                9               10               11   \n",
       "4              13                8                4                3   \n",
       "\n",
       "   tmax_quant_0.4  ...  precip_quant_0.65  precip_quant_0.70  \\\n",
       "0               2  ...                  1                  4   \n",
       "1               5  ...                  1                  7   \n",
       "2               0  ...                  2                  4   \n",
       "3              10  ...                  0                  2   \n",
       "4               1  ...                  0                  2   \n",
       "\n",
       "   precip_quant_0.75  precip_quant_0.8  precip_quant_0.85  precip_quant_0.9  \\\n",
       "0                  3                 4                 10                 3   \n",
       "1                  6                 8                  4                 7   \n",
       "2                  2                 5                  7                 3   \n",
       "3                  5                 8                  3                 2   \n",
       "4                  7                 7                  1                 9   \n",
       "\n",
       "   precip_quant_0.95  precip_quant_1.0  year  qtr  \n",
       "0                  1                 9  2010       \n",
       "1                  6                 2  2010       \n",
       "2                  3                 3  2010       \n",
       "3                  3                 8  2010       \n",
       "4                  5                 6  2011       \n",
       "\n",
       "[5 rows x 32 columns]"
      ]
     },
     "execution_count": 14,
     "metadata": {},
     "output_type": "execute_result"
    }
   ],
   "source": [
    "allWeather.head()"
   ]
  },
  {
   "cell_type": "code",
   "execution_count": 22,
   "metadata": {},
   "outputs": [],
   "source": [
    "allWeather['year'] = allWeather.yearQuarter.str.slice(0,4)\n",
    "allWeather['qtr']  = allWeather.yearQuarter.str.slice(5,6).astype('float')"
   ]
  },
  {
   "cell_type": "code",
   "execution_count": 23,
   "metadata": {},
   "outputs": [
    {
     "data": {
      "text/plain": [
       "0          1.0\n",
       "1          2.0\n",
       "2          3.0\n",
       "3          4.0\n",
       "4          1.0\n",
       "          ... \n",
       "1306235    4.0\n",
       "1306236    1.0\n",
       "1306237    2.0\n",
       "1306238    3.0\n",
       "1306239    4.0\n",
       "Name: qtr, Length: 1306240, dtype: float64"
      ]
     },
     "execution_count": 23,
     "metadata": {},
     "output_type": "execute_result"
    }
   ],
   "source": [
    "allWeather.qtr"
   ]
  },
  {
   "cell_type": "code",
   "execution_count": null,
   "metadata": {},
   "outputs": [],
   "source": [
    "allWeather.to_csv(\"../../../../../../../Volumes/backup2/dissData/prism/allWeatherBins_2010.2019.csv\")"
   ]
  }
 ],
 "metadata": {
  "kernelspec": {
   "display_name": "Python 3",
   "language": "python",
   "name": "python3"
  },
  "language_info": {
   "codemirror_mode": {
    "name": "ipython",
    "version": 3
   },
   "file_extension": ".py",
   "mimetype": "text/x-python",
   "name": "python",
   "nbconvert_exporter": "python",
   "pygments_lexer": "ipython3",
   "version": "3.7.4"
  }
 },
 "nbformat": 4,
 "nbformat_minor": 2
}
