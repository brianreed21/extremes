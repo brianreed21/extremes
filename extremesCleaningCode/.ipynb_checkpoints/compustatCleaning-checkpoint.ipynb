{
 "cells": [
  {
   "cell_type": "markdown",
   "metadata": {},
   "source": [
    "# Cleaning File\n",
    "Get the basic company information here."
   ]
  },
  {
   "cell_type": "code",
   "execution_count": 8,
   "metadata": {},
   "outputs": [],
   "source": [
    "import pickle\n",
    "import pandas as pd\n",
    "import matplotlib\n",
    "import os\n",
    "import re\n",
    "\n",
    "import collections\n",
    "import datetime\n",
    "import time\n",
    "\n",
    "import geopandas as gpd\n",
    "\n",
    "import numpy as np\n",
    "\n",
    "from difflib import get_close_matches\n",
    "\n",
    "from fuzzywuzzy import process\n",
    "from fuzzywuzzy import fuzz"
   ]
  },
  {
   "cell_type": "code",
   "execution_count": 9,
   "metadata": {},
   "outputs": [
    {
     "data": {
      "text/html": [
       "<div>\n",
       "<style scoped>\n",
       "    .dataframe tbody tr th:only-of-type {\n",
       "        vertical-align: middle;\n",
       "    }\n",
       "\n",
       "    .dataframe tbody tr th {\n",
       "        vertical-align: top;\n",
       "    }\n",
       "\n",
       "    .dataframe thead th {\n",
       "        text-align: right;\n",
       "    }\n",
       "</style>\n",
       "<table border=\"1\" class=\"dataframe\">\n",
       "  <thead>\n",
       "    <tr style=\"text-align: right;\">\n",
       "      <th></th>\n",
       "      <th>inflator</th>\n",
       "      <th>year</th>\n",
       "      <th>qtr</th>\n",
       "    </tr>\n",
       "  </thead>\n",
       "  <tbody>\n",
       "    <tr>\n",
       "      <th>291</th>\n",
       "      <td>1.012932</td>\n",
       "      <td>2019</td>\n",
       "      <td>4.0</td>\n",
       "    </tr>\n",
       "    <tr>\n",
       "      <th>292</th>\n",
       "      <td>1.009643</td>\n",
       "      <td>2020</td>\n",
       "      <td>1.0</td>\n",
       "    </tr>\n",
       "    <tr>\n",
       "      <th>293</th>\n",
       "      <td>1.014000</td>\n",
       "      <td>2020</td>\n",
       "      <td>2.0</td>\n",
       "    </tr>\n",
       "    <tr>\n",
       "      <th>294</th>\n",
       "      <td>1.004838</td>\n",
       "      <td>2020</td>\n",
       "      <td>3.0</td>\n",
       "    </tr>\n",
       "    <tr>\n",
       "      <th>295</th>\n",
       "      <td>1.000000</td>\n",
       "      <td>2020</td>\n",
       "      <td>4.0</td>\n",
       "    </tr>\n",
       "  </tbody>\n",
       "</table>\n",
       "</div>"
      ],
      "text/plain": [
       "     inflator  year  qtr\n",
       "291  1.012932  2019  4.0\n",
       "292  1.009643  2020  1.0\n",
       "293  1.014000  2020  2.0\n",
       "294  1.004838  2020  3.0\n",
       "295  1.000000  2020  4.0"
      ]
     },
     "execution_count": 9,
     "metadata": {},
     "output_type": "execute_result"
    }
   ],
   "source": [
    "defl            = pd.read_csv(\"../GDPDEF.csv\")\n",
    "defl['DATE']    = pd.to_datetime(defl['DATE'])\n",
    "defl['year']    = defl['DATE'].dt.year\n",
    "\n",
    "# for some reason the years are messed up but they take anything after 1971 to be in the 2000s\n",
    "\n",
    "defl.loc[(defl.year > 2020), 'year'] = defl.year - 100\n",
    "defl['qtr'] = defl['DATE'].dt.quarter.astype('float64')\n",
    "defl.drop(columns = {'DATE','GDPDEF'},inplace = True)\n",
    "defl.tail()"
   ]
  },
  {
   "cell_type": "code",
   "execution_count": 3,
   "metadata": {},
   "outputs": [
    {
     "name": "stderr",
     "output_type": "stream",
     "text": [
      "/Users/brianreed/opt/anaconda3/lib/python3.7/site-packages/IPython/core/interactiveshell.py:3326: DtypeWarning: Columns (21) have mixed types.Specify dtype option on import or set low_memory=False.\n",
      "  exec(code_obj, self.user_global_ns, self.user_ns)\n"
     ]
    },
    {
     "data": {
      "text/html": [
       "<div>\n",
       "<style scoped>\n",
       "    .dataframe tbody tr th:only-of-type {\n",
       "        vertical-align: middle;\n",
       "    }\n",
       "\n",
       "    .dataframe tbody tr th {\n",
       "        vertical-align: top;\n",
       "    }\n",
       "\n",
       "    .dataframe thead th {\n",
       "        text-align: right;\n",
       "    }\n",
       "</style>\n",
       "<table border=\"1\" class=\"dataframe\">\n",
       "  <thead>\n",
       "    <tr style=\"text-align: right;\">\n",
       "      <th></th>\n",
       "      <th>gvkey</th>\n",
       "      <th>datadate</th>\n",
       "      <th>year</th>\n",
       "      <th>qtr</th>\n",
       "      <th>indfmt</th>\n",
       "      <th>consol</th>\n",
       "      <th>popsrc</th>\n",
       "      <th>datafmt</th>\n",
       "      <th>tic</th>\n",
       "      <th>companyName</th>\n",
       "      <th>...</th>\n",
       "      <th>totalRevenue</th>\n",
       "      <th>cik</th>\n",
       "      <th>costat</th>\n",
       "      <th>add1</th>\n",
       "      <th>add2</th>\n",
       "      <th>addzip</th>\n",
       "      <th>city</th>\n",
       "      <th>sic</th>\n",
       "      <th>state</th>\n",
       "      <th>inflator</th>\n",
       "    </tr>\n",
       "  </thead>\n",
       "  <tbody>\n",
       "    <tr>\n",
       "      <th>0</th>\n",
       "      <td>1004</td>\n",
       "      <td>20000229</td>\n",
       "      <td>1999</td>\n",
       "      <td>3.0</td>\n",
       "      <td>INDL</td>\n",
       "      <td>C</td>\n",
       "      <td>D</td>\n",
       "      <td>STD</td>\n",
       "      <td>AIR</td>\n",
       "      <td>AAR CORP</td>\n",
       "      <td>...</td>\n",
       "      <td>272.331</td>\n",
       "      <td>1750.0</td>\n",
       "      <td>A</td>\n",
       "      <td>One AAR Place, 1100 North Wood Dale Road</td>\n",
       "      <td>NaN</td>\n",
       "      <td>60191</td>\n",
       "      <td>Wood Dale</td>\n",
       "      <td>5080.0</td>\n",
       "      <td>IL</td>\n",
       "      <td>1.49803</td>\n",
       "    </tr>\n",
       "    <tr>\n",
       "      <th>1</th>\n",
       "      <td>1082</td>\n",
       "      <td>20000131</td>\n",
       "      <td>1999</td>\n",
       "      <td>3.0</td>\n",
       "      <td>INDL</td>\n",
       "      <td>C</td>\n",
       "      <td>D</td>\n",
       "      <td>STD</td>\n",
       "      <td>SERV.1</td>\n",
       "      <td>SERVIDYNE INC</td>\n",
       "      <td>...</td>\n",
       "      <td>30.087</td>\n",
       "      <td>1923.0</td>\n",
       "      <td>I</td>\n",
       "      <td>1945 The Exchange, Suite 325</td>\n",
       "      <td>NaN</td>\n",
       "      <td>30339-2029</td>\n",
       "      <td>Atlanta</td>\n",
       "      <td>8700.0</td>\n",
       "      <td>GA</td>\n",
       "      <td>1.49803</td>\n",
       "    </tr>\n",
       "    <tr>\n",
       "      <th>2</th>\n",
       "      <td>1244</td>\n",
       "      <td>20000229</td>\n",
       "      <td>1999</td>\n",
       "      <td>3.0</td>\n",
       "      <td>INDL</td>\n",
       "      <td>C</td>\n",
       "      <td>D</td>\n",
       "      <td>STD</td>\n",
       "      <td>ALCD.</td>\n",
       "      <td>ALCIDE CORP</td>\n",
       "      <td>...</td>\n",
       "      <td>2.875</td>\n",
       "      <td>708484.0</td>\n",
       "      <td>I</td>\n",
       "      <td>8561 154th Avenue North East</td>\n",
       "      <td>NaN</td>\n",
       "      <td>98052</td>\n",
       "      <td>Redmond</td>\n",
       "      <td>2870.0</td>\n",
       "      <td>WA</td>\n",
       "      <td>1.49803</td>\n",
       "    </tr>\n",
       "    <tr>\n",
       "      <th>3</th>\n",
       "      <td>1258</td>\n",
       "      <td>20000229</td>\n",
       "      <td>1999</td>\n",
       "      <td>3.0</td>\n",
       "      <td>INDL</td>\n",
       "      <td>C</td>\n",
       "      <td>D</td>\n",
       "      <td>STD</td>\n",
       "      <td>CGYNQ</td>\n",
       "      <td>CAPCO ENERGY INC</td>\n",
       "      <td>...</td>\n",
       "      <td>3.449</td>\n",
       "      <td>354767.0</td>\n",
       "      <td>I</td>\n",
       "      <td>1800 West Loop South, Suite 1950</td>\n",
       "      <td>NaN</td>\n",
       "      <td>77027</td>\n",
       "      <td>Houston</td>\n",
       "      <td>1311.0</td>\n",
       "      <td>TX</td>\n",
       "      <td>1.49803</td>\n",
       "    </tr>\n",
       "    <tr>\n",
       "      <th>4</th>\n",
       "      <td>1331</td>\n",
       "      <td>20000131</td>\n",
       "      <td>1999</td>\n",
       "      <td>3.0</td>\n",
       "      <td>INDL</td>\n",
       "      <td>C</td>\n",
       "      <td>D</td>\n",
       "      <td>STD</td>\n",
       "      <td>APNI</td>\n",
       "      <td>ALPINE GROUP INC</td>\n",
       "      <td>...</td>\n",
       "      <td>NaN</td>\n",
       "      <td>4164.0</td>\n",
       "      <td>I</td>\n",
       "      <td>One Meadowlands Plaza</td>\n",
       "      <td>NaN</td>\n",
       "      <td>07073</td>\n",
       "      <td>East Rutherford</td>\n",
       "      <td>3357.0</td>\n",
       "      <td>NJ</td>\n",
       "      <td>1.49803</td>\n",
       "    </tr>\n",
       "  </tbody>\n",
       "</table>\n",
       "<p>5 rows × 27 columns</p>\n",
       "</div>"
      ],
      "text/plain": [
       "   gvkey  datadate  year  qtr indfmt consol popsrc datafmt     tic  \\\n",
       "0   1004  20000229  1999  3.0   INDL      C      D     STD     AIR   \n",
       "1   1082  20000131  1999  3.0   INDL      C      D     STD  SERV.1   \n",
       "2   1244  20000229  1999  3.0   INDL      C      D     STD   ALCD.   \n",
       "3   1258  20000229  1999  3.0   INDL      C      D     STD   CGYNQ   \n",
       "4   1331  20000131  1999  3.0   INDL      C      D     STD    APNI   \n",
       "\n",
       "        companyName  ... totalRevenue       cik costat  \\\n",
       "0          AAR CORP  ...      272.331    1750.0      A   \n",
       "1     SERVIDYNE INC  ...       30.087    1923.0      I   \n",
       "2       ALCIDE CORP  ...        2.875  708484.0      I   \n",
       "3  CAPCO ENERGY INC  ...        3.449  354767.0      I   \n",
       "4  ALPINE GROUP INC  ...          NaN    4164.0      I   \n",
       "\n",
       "                                       add1  add2      addzip  \\\n",
       "0  One AAR Place, 1100 North Wood Dale Road   NaN       60191   \n",
       "1              1945 The Exchange, Suite 325   NaN  30339-2029   \n",
       "2              8561 154th Avenue North East   NaN       98052   \n",
       "3          1800 West Loop South, Suite 1950   NaN       77027   \n",
       "4                     One Meadowlands Plaza   NaN       07073   \n",
       "\n",
       "              city     sic  state inflator  \n",
       "0        Wood Dale  5080.0     IL  1.49803  \n",
       "1          Atlanta  8700.0     GA  1.49803  \n",
       "2          Redmond  2870.0     WA  1.49803  \n",
       "3          Houston  1311.0     TX  1.49803  \n",
       "4  East Rutherford  3357.0     NJ  1.49803  \n",
       "\n",
       "[5 rows x 27 columns]"
      ]
     },
     "execution_count": 3,
     "metadata": {},
     "output_type": "execute_result"
    }
   ],
   "source": [
    "file = \"../../data/companyData/compustat2000s.csv\"\n",
    "compustat = pd.read_csv(file, encoding = 'unicode_escape')\n",
    "\n",
    "# rename to clean this up a little bit\n",
    "compustat.rename(columns = {'fyearq':'year',\n",
    "                            'fqtr':  'qtr',\n",
    "                            'chq':   'cash', \n",
    "                            'conm':  'companyName',\n",
    "                            'atq':   'assets',\n",
    "                            'niq':   'netIncome',\n",
    "                            'revtq': 'totalRevenue',\n",
    "                            'cogsq': 'costGoodsSold',\n",
    "                            'invtq': 'totalInv'\n",
    "                           },\n",
    "                 inplace = True)\n",
    "\n",
    "\n",
    "# and merge in the deflators\n",
    "compustat = compustat.merge(defl)\n",
    "compustat.head()"
   ]
  },
  {
   "cell_type": "code",
   "execution_count": 4,
   "metadata": {},
   "outputs": [
    {
     "data": {
      "text/plain": [
       "(954139, 27)"
      ]
     },
     "execution_count": 4,
     "metadata": {},
     "output_type": "execute_result"
    }
   ],
   "source": [
    "compustat.columns\n",
    "\n",
    "sum(compustat.datacqtr != compustat.datafqtr)\n",
    "compustat.shape"
   ]
  },
  {
   "cell_type": "code",
   "execution_count": 5,
   "metadata": {},
   "outputs": [
    {
     "data": {
      "text/plain": [
       "Index(['gvkey', 'datadate', 'year', 'qtr', 'indfmt', 'consol', 'popsrc',\n",
       "       'datafmt', 'tic', 'companyName', 'curcdq', 'datacqtr', 'datafqtr',\n",
       "       'assets', 'costGoodsSold', 'totalInv', 'netIncome', 'totalRevenue',\n",
       "       'cik', 'costat', 'add1', 'add2', 'addzip', 'city', 'sic', 'state',\n",
       "       'inflator'],\n",
       "      dtype='object')"
      ]
     },
     "execution_count": 5,
     "metadata": {},
     "output_type": "execute_result"
    }
   ],
   "source": [
    "toDeflate = ['assets','costGoodsSold', 'totalInv', 'netIncome', 'totalRevenue']\n",
    "\n",
    "\n",
    "for col in toDeflate:\n",
    "    compustat[col] = compustat[col]*compustat.inflator\n",
    "\n",
    "    \n",
    "    \n",
    "compustat.columns"
   ]
  },
  {
   "cell_type": "code",
   "execution_count": 6,
   "metadata": {},
   "outputs": [
    {
     "data": {
      "text/plain": [
       "Index(['gvkey', 'datadate', 'year', 'qtr', 'companyName', 'curcdq', 'assets',\n",
       "       'costGoodsSold', 'totalInv', 'netIncome', 'totalRevenue', 'cik',\n",
       "       'costat', 'add1', 'add2', 'addzip', 'city', 'sic', 'state'],\n",
       "      dtype='object')"
      ]
     },
     "execution_count": 6,
     "metadata": {},
     "output_type": "execute_result"
    }
   ],
   "source": [
    "compustat.drop(columns=['indfmt','consol','popsrc','datafmt','tic','datacqtr','datafqtr','inflator'], inplace = True)\n",
    "\n",
    "\n",
    "compustat.columns"
   ]
  },
  {
   "cell_type": "code",
   "execution_count": null,
   "metadata": {},
   "outputs": [],
   "source": [
    "compustatAddresses = compustat[['year','gvkey','companyName','add1','city','state','addzip']]\n",
    "compustatAddresses.to_csv(\"../../data/companyData/compustatAddresses.csv\")"
   ]
  },
  {
   "cell_type": "code",
   "execution_count": 7,
   "metadata": {},
   "outputs": [
    {
     "name": "stdout",
     "output_type": "stream",
     "text": [
      "Index(['gvkey', 'datadate', 'year', 'qtr', 'companyName', 'curcdq',\n",
      "       'assetsLast', 'costGoodsSoldLast', 'totalInvLast', 'netIncomeLast',\n",
      "       'totalRevenueLast', 'cik', 'costat', 'add1', 'add2', 'addzip', 'city',\n",
      "       'sic', 'state'],\n",
      "      dtype='object')\n"
     ]
    }
   ],
   "source": [
    "compustatLast = compustat.copy()\n",
    "\n",
    "compustatLast['year'] += 1\n",
    "compustatLast.rename(columns = {'assets': 'assetsLast',\n",
    "                                'netIncome':'netIncomeLast',\n",
    "                                'totalRevenue':'totalRevenueLast',\n",
    "                                'costGoodsSold':'costGoodsSoldLast',\n",
    "                                'totalInv':'totalInvLast'\n",
    "                           }, inplace = True)\n",
    "\n",
    "print(compustatLast.columns)\n",
    "compustatLast = compustatLast[['gvkey','year','qtr','assetsLast','netIncomeLast','totalRevenueLast','costGoodsSoldLast','totalInvLast']]"
   ]
  },
  {
   "cell_type": "code",
   "execution_count": 8,
   "metadata": {},
   "outputs": [
    {
     "data": {
      "text/html": [
       "<div>\n",
       "<style scoped>\n",
       "    .dataframe tbody tr th:only-of-type {\n",
       "        vertical-align: middle;\n",
       "    }\n",
       "\n",
       "    .dataframe tbody tr th {\n",
       "        vertical-align: top;\n",
       "    }\n",
       "\n",
       "    .dataframe thead th {\n",
       "        text-align: right;\n",
       "    }\n",
       "</style>\n",
       "<table border=\"1\" class=\"dataframe\">\n",
       "  <thead>\n",
       "    <tr style=\"text-align: right;\">\n",
       "      <th></th>\n",
       "      <th>gvkey</th>\n",
       "      <th>year</th>\n",
       "      <th>qtr</th>\n",
       "      <th>assetsLast</th>\n",
       "      <th>netIncomeLast</th>\n",
       "      <th>totalRevenueLast</th>\n",
       "      <th>costGoodsSoldLast</th>\n",
       "      <th>totalInvLast</th>\n",
       "    </tr>\n",
       "  </thead>\n",
       "  <tbody>\n",
       "    <tr>\n",
       "      <th>0</th>\n",
       "      <td>1004</td>\n",
       "      <td>2000</td>\n",
       "      <td>3.0</td>\n",
       "      <td>1129.147545</td>\n",
       "      <td>16.410918</td>\n",
       "      <td>407.959987</td>\n",
       "      <td>333.569319</td>\n",
       "      <td>477.771178</td>\n",
       "    </tr>\n",
       "    <tr>\n",
       "      <th>1</th>\n",
       "      <td>1082</td>\n",
       "      <td>2000</td>\n",
       "      <td>3.0</td>\n",
       "      <td>165.794462</td>\n",
       "      <td>-4.557007</td>\n",
       "      <td>45.071226</td>\n",
       "      <td>39.497057</td>\n",
       "      <td>17.258803</td>\n",
       "    </tr>\n",
       "    <tr>\n",
       "      <th>2</th>\n",
       "      <td>1244</td>\n",
       "      <td>2000</td>\n",
       "      <td>3.0</td>\n",
       "      <td>21.983589</td>\n",
       "      <td>-0.086886</td>\n",
       "      <td>4.306836</td>\n",
       "      <td>2.067281</td>\n",
       "      <td>2.405836</td>\n",
       "    </tr>\n",
       "    <tr>\n",
       "      <th>3</th>\n",
       "      <td>1258</td>\n",
       "      <td>2000</td>\n",
       "      <td>3.0</td>\n",
       "      <td>41.520895</td>\n",
       "      <td>-0.172273</td>\n",
       "      <td>5.166705</td>\n",
       "      <td>3.947309</td>\n",
       "      <td>1.427623</td>\n",
       "    </tr>\n",
       "    <tr>\n",
       "      <th>4</th>\n",
       "      <td>1331</td>\n",
       "      <td>2000</td>\n",
       "      <td>3.0</td>\n",
       "      <td>NaN</td>\n",
       "      <td>NaN</td>\n",
       "      <td>NaN</td>\n",
       "      <td>NaN</td>\n",
       "      <td>NaN</td>\n",
       "    </tr>\n",
       "  </tbody>\n",
       "</table>\n",
       "</div>"
      ],
      "text/plain": [
       "   gvkey  year  qtr   assetsLast  netIncomeLast  totalRevenueLast  \\\n",
       "0   1004  2000  3.0  1129.147545      16.410918        407.959987   \n",
       "1   1082  2000  3.0   165.794462      -4.557007         45.071226   \n",
       "2   1244  2000  3.0    21.983589      -0.086886          4.306836   \n",
       "3   1258  2000  3.0    41.520895      -0.172273          5.166705   \n",
       "4   1331  2000  3.0          NaN            NaN               NaN   \n",
       "\n",
       "   costGoodsSoldLast  totalInvLast  \n",
       "0         333.569319    477.771178  \n",
       "1          39.497057     17.258803  \n",
       "2           2.067281      2.405836  \n",
       "3           3.947309      1.427623  \n",
       "4                NaN           NaN  "
      ]
     },
     "execution_count": 8,
     "metadata": {},
     "output_type": "execute_result"
    }
   ],
   "source": [
    "compustatLast.head()"
   ]
  },
  {
   "cell_type": "code",
   "execution_count": 9,
   "metadata": {},
   "outputs": [
    {
     "name": "stdout",
     "output_type": "stream",
     "text": [
      "(844368, 24)\n"
     ]
    }
   ],
   "source": [
    "compustatChanges = compustat.merge(compustatLast)\n",
    "print(compustatChanges.shape)"
   ]
  },
  {
   "cell_type": "code",
   "execution_count": 10,
   "metadata": {},
   "outputs": [
    {
     "name": "stdout",
     "output_type": "stream",
     "text": [
      "   gvkey  datadate  year  qtr       companyName curcdq       assets  \\\n",
      "0   1004  20010228  2000  3.0          AAR CORP    USD  1103.576060   \n",
      "1   1082  20010131  2000  3.0     SERVIDYNE INC    USD   142.468608   \n",
      "2   1244  20010228  2000  3.0       ALCIDE CORP    USD    26.821801   \n",
      "3   1258  20000930  2000  3.0  CAPCO ENERGY INC    USD    27.887771   \n",
      "4   1331  20000930  2000  3.0  ALPINE GROUP INC    USD  3147.016204   \n",
      "\n",
      "   costGoodsSold    totalInv  netIncome  ...   assetsLast  netIncomeLast  \\\n",
      "0     233.280794  518.332064   7.878529  ...  1129.147545      16.410918   \n",
      "1      35.067351    2.601318  -1.149318  ...   165.794462      -4.557007   \n",
      "2       2.238684    4.399869   0.367021  ...    21.983589      -0.086886   \n",
      "3       0.141837    0.000000   0.093583  ...    41.520895      -0.172273   \n",
      "4     608.468696  427.227430  -4.432038  ...          NaN            NaN   \n",
      "\n",
      "  totalRevenueLast costGoodsSoldLast totalInvLast incomeChange revenueChange  \\\n",
      "0       407.959987        333.569319   477.771178    -0.519921     -0.282893   \n",
      "1        45.071226         39.497057    17.258803    -0.747791     -0.110938   \n",
      "2         4.306836          2.067281     2.405836    -5.224184      0.412044   \n",
      "3         5.166705          3.947309     1.427623    -1.543224     -0.895286   \n",
      "4              NaN               NaN          NaN          NaN           NaN   \n",
      "\n",
      "   costChange inventoryChange   assetsPrev  \n",
      "0   -0.300653        0.084896  1129.147545  \n",
      "1   -0.112153       -0.849276   165.794462  \n",
      "2    0.082912        0.828832    21.983589  \n",
      "3   -0.964067       -1.000000    41.520895  \n",
      "4         NaN             NaN          NaN  \n",
      "\n",
      "[5 rows x 29 columns]\n"
     ]
    },
    {
     "data": {
      "text/plain": [
       "\"compustatChanges = compustatChanges[['year', 'qtr', 'gvkey', 'companyName', \\n                                     'tic', 'curcdq','salesChange','incomeChange','revenueChange',\\n                                     'costChange','inventoryChange']]\\n\""
      ]
     },
     "execution_count": 10,
     "metadata": {},
     "output_type": "execute_result"
    }
   ],
   "source": [
    "compustatChanges['incomeChange']    = (compustatChanges.netIncome - compustatChanges.netIncomeLast)/compustatChanges.netIncomeLast\n",
    "\n",
    "compustatChanges['revenueChange']   = (compustatChanges.totalRevenue - compustatChanges.totalRevenueLast)/compustatChanges.totalRevenueLast\n",
    "\n",
    "compustatChanges['costChange']      = (compustatChanges.costGoodsSold - compustatChanges.costGoodsSoldLast)/compustatChanges.costGoodsSoldLast\n",
    "\n",
    "compustatChanges['inventoryChange'] = (compustatChanges.totalInv - compustatChanges.totalInvLast)/compustatChanges.totalInvLast\n",
    "\n",
    "compustatChanges['assetsPrev']      = compustatChanges.assetsLast\n",
    "\n",
    "\n",
    "print(compustatChanges.head())\n",
    "\n",
    "\n",
    "'''compustatChanges = compustatChanges[['year', 'qtr', 'gvkey', 'companyName', \n",
    "                                     'tic', 'curcdq','salesChange','incomeChange','revenueChange',\n",
    "                                     'costChange','inventoryChange']]\n",
    "'''"
   ]
  },
  {
   "cell_type": "code",
   "execution_count": 11,
   "metadata": {},
   "outputs": [],
   "source": [
    "compustatChanges.to_csv(\"../../data/companyData/compustatChanges_all.csv\")"
   ]
  },
  {
   "cell_type": "code",
   "execution_count": 12,
   "metadata": {},
   "outputs": [
    {
     "data": {
      "text/html": [
       "<div>\n",
       "<style scoped>\n",
       "    .dataframe tbody tr th:only-of-type {\n",
       "        vertical-align: middle;\n",
       "    }\n",
       "\n",
       "    .dataframe tbody tr th {\n",
       "        vertical-align: top;\n",
       "    }\n",
       "\n",
       "    .dataframe thead th {\n",
       "        text-align: right;\n",
       "    }\n",
       "</style>\n",
       "<table border=\"1\" class=\"dataframe\">\n",
       "  <thead>\n",
       "    <tr style=\"text-align: right;\">\n",
       "      <th></th>\n",
       "      <th>gvkey</th>\n",
       "      <th>datadate</th>\n",
       "      <th>year</th>\n",
       "      <th>qtr</th>\n",
       "      <th>companyName</th>\n",
       "      <th>curcdq</th>\n",
       "      <th>assets</th>\n",
       "      <th>costGoodsSold</th>\n",
       "      <th>totalInv</th>\n",
       "      <th>netIncome</th>\n",
       "      <th>...</th>\n",
       "      <th>assetsLast</th>\n",
       "      <th>netIncomeLast</th>\n",
       "      <th>totalRevenueLast</th>\n",
       "      <th>costGoodsSoldLast</th>\n",
       "      <th>totalInvLast</th>\n",
       "      <th>incomeChange</th>\n",
       "      <th>revenueChange</th>\n",
       "      <th>costChange</th>\n",
       "      <th>inventoryChange</th>\n",
       "      <th>assetsPrev</th>\n",
       "    </tr>\n",
       "  </thead>\n",
       "  <tbody>\n",
       "    <tr>\n",
       "      <th>0</th>\n",
       "      <td>1004</td>\n",
       "      <td>20010228</td>\n",
       "      <td>2000</td>\n",
       "      <td>3.0</td>\n",
       "      <td>AAR CORP</td>\n",
       "      <td>USD</td>\n",
       "      <td>1103.576060</td>\n",
       "      <td>233.280794</td>\n",
       "      <td>518.332064</td>\n",
       "      <td>7.878529</td>\n",
       "      <td>...</td>\n",
       "      <td>1129.147545</td>\n",
       "      <td>16.410918</td>\n",
       "      <td>407.959987</td>\n",
       "      <td>333.569319</td>\n",
       "      <td>477.771178</td>\n",
       "      <td>-0.519921</td>\n",
       "      <td>-0.282893</td>\n",
       "      <td>-0.300653</td>\n",
       "      <td>0.084896</td>\n",
       "      <td>1129.147545</td>\n",
       "    </tr>\n",
       "    <tr>\n",
       "      <th>1</th>\n",
       "      <td>1082</td>\n",
       "      <td>20010131</td>\n",
       "      <td>2000</td>\n",
       "      <td>3.0</td>\n",
       "      <td>SERVIDYNE INC</td>\n",
       "      <td>USD</td>\n",
       "      <td>142.468608</td>\n",
       "      <td>35.067351</td>\n",
       "      <td>2.601318</td>\n",
       "      <td>-1.149318</td>\n",
       "      <td>...</td>\n",
       "      <td>165.794462</td>\n",
       "      <td>-4.557007</td>\n",
       "      <td>45.071226</td>\n",
       "      <td>39.497057</td>\n",
       "      <td>17.258803</td>\n",
       "      <td>-0.747791</td>\n",
       "      <td>-0.110938</td>\n",
       "      <td>-0.112153</td>\n",
       "      <td>-0.849276</td>\n",
       "      <td>165.794462</td>\n",
       "    </tr>\n",
       "    <tr>\n",
       "      <th>2</th>\n",
       "      <td>1244</td>\n",
       "      <td>20010228</td>\n",
       "      <td>2000</td>\n",
       "      <td>3.0</td>\n",
       "      <td>ALCIDE CORP</td>\n",
       "      <td>USD</td>\n",
       "      <td>26.821801</td>\n",
       "      <td>2.238684</td>\n",
       "      <td>4.399869</td>\n",
       "      <td>0.367021</td>\n",
       "      <td>...</td>\n",
       "      <td>21.983589</td>\n",
       "      <td>-0.086886</td>\n",
       "      <td>4.306836</td>\n",
       "      <td>2.067281</td>\n",
       "      <td>2.405836</td>\n",
       "      <td>-5.224184</td>\n",
       "      <td>0.412044</td>\n",
       "      <td>0.082912</td>\n",
       "      <td>0.828832</td>\n",
       "      <td>21.983589</td>\n",
       "    </tr>\n",
       "    <tr>\n",
       "      <th>3</th>\n",
       "      <td>1258</td>\n",
       "      <td>20000930</td>\n",
       "      <td>2000</td>\n",
       "      <td>3.0</td>\n",
       "      <td>CAPCO ENERGY INC</td>\n",
       "      <td>USD</td>\n",
       "      <td>27.887771</td>\n",
       "      <td>0.141837</td>\n",
       "      <td>0.000000</td>\n",
       "      <td>0.093583</td>\n",
       "      <td>...</td>\n",
       "      <td>41.520895</td>\n",
       "      <td>-0.172273</td>\n",
       "      <td>5.166705</td>\n",
       "      <td>3.947309</td>\n",
       "      <td>1.427623</td>\n",
       "      <td>-1.543224</td>\n",
       "      <td>-0.895286</td>\n",
       "      <td>-0.964067</td>\n",
       "      <td>-1.000000</td>\n",
       "      <td>41.520895</td>\n",
       "    </tr>\n",
       "    <tr>\n",
       "      <th>4</th>\n",
       "      <td>1331</td>\n",
       "      <td>20000930</td>\n",
       "      <td>2000</td>\n",
       "      <td>3.0</td>\n",
       "      <td>ALPINE GROUP INC</td>\n",
       "      <td>USD</td>\n",
       "      <td>3147.016204</td>\n",
       "      <td>608.468696</td>\n",
       "      <td>427.227430</td>\n",
       "      <td>-4.432038</td>\n",
       "      <td>...</td>\n",
       "      <td>NaN</td>\n",
       "      <td>NaN</td>\n",
       "      <td>NaN</td>\n",
       "      <td>NaN</td>\n",
       "      <td>NaN</td>\n",
       "      <td>NaN</td>\n",
       "      <td>NaN</td>\n",
       "      <td>NaN</td>\n",
       "      <td>NaN</td>\n",
       "      <td>NaN</td>\n",
       "    </tr>\n",
       "  </tbody>\n",
       "</table>\n",
       "<p>5 rows × 29 columns</p>\n",
       "</div>"
      ],
      "text/plain": [
       "   gvkey  datadate  year  qtr       companyName curcdq       assets  \\\n",
       "0   1004  20010228  2000  3.0          AAR CORP    USD  1103.576060   \n",
       "1   1082  20010131  2000  3.0     SERVIDYNE INC    USD   142.468608   \n",
       "2   1244  20010228  2000  3.0       ALCIDE CORP    USD    26.821801   \n",
       "3   1258  20000930  2000  3.0  CAPCO ENERGY INC    USD    27.887771   \n",
       "4   1331  20000930  2000  3.0  ALPINE GROUP INC    USD  3147.016204   \n",
       "\n",
       "   costGoodsSold    totalInv  netIncome  ...   assetsLast  netIncomeLast  \\\n",
       "0     233.280794  518.332064   7.878529  ...  1129.147545      16.410918   \n",
       "1      35.067351    2.601318  -1.149318  ...   165.794462      -4.557007   \n",
       "2       2.238684    4.399869   0.367021  ...    21.983589      -0.086886   \n",
       "3       0.141837    0.000000   0.093583  ...    41.520895      -0.172273   \n",
       "4     608.468696  427.227430  -4.432038  ...          NaN            NaN   \n",
       "\n",
       "  totalRevenueLast costGoodsSoldLast totalInvLast incomeChange revenueChange  \\\n",
       "0       407.959987        333.569319   477.771178    -0.519921     -0.282893   \n",
       "1        45.071226         39.497057    17.258803    -0.747791     -0.110938   \n",
       "2         4.306836          2.067281     2.405836    -5.224184      0.412044   \n",
       "3         5.166705          3.947309     1.427623    -1.543224     -0.895286   \n",
       "4              NaN               NaN          NaN          NaN           NaN   \n",
       "\n",
       "   costChange inventoryChange   assetsPrev  \n",
       "0   -0.300653        0.084896  1129.147545  \n",
       "1   -0.112153       -0.849276   165.794462  \n",
       "2    0.082912        0.828832    21.983589  \n",
       "3   -0.964067       -1.000000    41.520895  \n",
       "4         NaN             NaN          NaN  \n",
       "\n",
       "[5 rows x 29 columns]"
      ]
     },
     "execution_count": 12,
     "metadata": {},
     "output_type": "execute_result"
    }
   ],
   "source": [
    "compustatChanges.head()"
   ]
  },
  {
   "cell_type": "markdown",
   "metadata": {},
   "source": [
    "### Company-level controls"
   ]
  },
  {
   "cell_type": "code",
   "execution_count": 4,
   "metadata": {},
   "outputs": [
    {
     "data": {
      "text/html": [
       "<div>\n",
       "<style scoped>\n",
       "    .dataframe tbody tr th:only-of-type {\n",
       "        vertical-align: middle;\n",
       "    }\n",
       "\n",
       "    .dataframe tbody tr th {\n",
       "        vertical-align: top;\n",
       "    }\n",
       "\n",
       "    .dataframe thead th {\n",
       "        text-align: right;\n",
       "    }\n",
       "</style>\n",
       "<table border=\"1\" class=\"dataframe\">\n",
       "  <thead>\n",
       "    <tr style=\"text-align: right;\">\n",
       "      <th></th>\n",
       "      <th>gvkey</th>\n",
       "      <th>datadate</th>\n",
       "      <th>fyearq</th>\n",
       "      <th>fqtr</th>\n",
       "      <th>indfmt</th>\n",
       "      <th>consol</th>\n",
       "      <th>popsrc</th>\n",
       "      <th>datafmt</th>\n",
       "      <th>tic</th>\n",
       "      <th>curcdq</th>\n",
       "      <th>datacqtr</th>\n",
       "      <th>datafqtr</th>\n",
       "      <th>atq</th>\n",
       "      <th>niq</th>\n",
       "      <th>costat</th>\n",
       "      <th>prccq</th>\n",
       "      <th>naics</th>\n",
       "      <th>sic</th>\n",
       "    </tr>\n",
       "  </thead>\n",
       "  <tbody>\n",
       "    <tr>\n",
       "      <th>0</th>\n",
       "      <td>1000</td>\n",
       "      <td>19660331</td>\n",
       "      <td>1966</td>\n",
       "      <td>1.0</td>\n",
       "      <td>INDL</td>\n",
       "      <td>C</td>\n",
       "      <td>D</td>\n",
       "      <td>STD</td>\n",
       "      <td>AE.2</td>\n",
       "      <td>USD</td>\n",
       "      <td>1966Q1</td>\n",
       "      <td>1966Q1</td>\n",
       "      <td>NaN</td>\n",
       "      <td>NaN</td>\n",
       "      <td>I</td>\n",
       "      <td>NaN</td>\n",
       "      <td>NaN</td>\n",
       "      <td>3089.0</td>\n",
       "    </tr>\n",
       "    <tr>\n",
       "      <th>1</th>\n",
       "      <td>1000</td>\n",
       "      <td>19660630</td>\n",
       "      <td>1966</td>\n",
       "      <td>2.0</td>\n",
       "      <td>INDL</td>\n",
       "      <td>C</td>\n",
       "      <td>D</td>\n",
       "      <td>STD</td>\n",
       "      <td>AE.2</td>\n",
       "      <td>USD</td>\n",
       "      <td>1966Q2</td>\n",
       "      <td>1966Q2</td>\n",
       "      <td>NaN</td>\n",
       "      <td>NaN</td>\n",
       "      <td>I</td>\n",
       "      <td>NaN</td>\n",
       "      <td>NaN</td>\n",
       "      <td>3089.0</td>\n",
       "    </tr>\n",
       "    <tr>\n",
       "      <th>2</th>\n",
       "      <td>1000</td>\n",
       "      <td>19660930</td>\n",
       "      <td>1966</td>\n",
       "      <td>3.0</td>\n",
       "      <td>INDL</td>\n",
       "      <td>C</td>\n",
       "      <td>D</td>\n",
       "      <td>STD</td>\n",
       "      <td>AE.2</td>\n",
       "      <td>USD</td>\n",
       "      <td>1966Q3</td>\n",
       "      <td>1966Q3</td>\n",
       "      <td>NaN</td>\n",
       "      <td>NaN</td>\n",
       "      <td>I</td>\n",
       "      <td>NaN</td>\n",
       "      <td>NaN</td>\n",
       "      <td>3089.0</td>\n",
       "    </tr>\n",
       "    <tr>\n",
       "      <th>3</th>\n",
       "      <td>1000</td>\n",
       "      <td>19661231</td>\n",
       "      <td>1966</td>\n",
       "      <td>4.0</td>\n",
       "      <td>INDL</td>\n",
       "      <td>C</td>\n",
       "      <td>D</td>\n",
       "      <td>STD</td>\n",
       "      <td>AE.2</td>\n",
       "      <td>USD</td>\n",
       "      <td>1966Q4</td>\n",
       "      <td>1966Q4</td>\n",
       "      <td>NaN</td>\n",
       "      <td>0.164</td>\n",
       "      <td>I</td>\n",
       "      <td>NaN</td>\n",
       "      <td>NaN</td>\n",
       "      <td>3089.0</td>\n",
       "    </tr>\n",
       "    <tr>\n",
       "      <th>4</th>\n",
       "      <td>1000</td>\n",
       "      <td>19670331</td>\n",
       "      <td>1967</td>\n",
       "      <td>1.0</td>\n",
       "      <td>INDL</td>\n",
       "      <td>C</td>\n",
       "      <td>D</td>\n",
       "      <td>STD</td>\n",
       "      <td>AE.2</td>\n",
       "      <td>USD</td>\n",
       "      <td>1967Q1</td>\n",
       "      <td>1967Q1</td>\n",
       "      <td>NaN</td>\n",
       "      <td>NaN</td>\n",
       "      <td>I</td>\n",
       "      <td>NaN</td>\n",
       "      <td>NaN</td>\n",
       "      <td>3089.0</td>\n",
       "    </tr>\n",
       "  </tbody>\n",
       "</table>\n",
       "</div>"
      ],
      "text/plain": [
       "   gvkey  datadate  fyearq  fqtr indfmt consol popsrc datafmt   tic curcdq  \\\n",
       "0   1000  19660331    1966   1.0   INDL      C      D     STD  AE.2    USD   \n",
       "1   1000  19660630    1966   2.0   INDL      C      D     STD  AE.2    USD   \n",
       "2   1000  19660930    1966   3.0   INDL      C      D     STD  AE.2    USD   \n",
       "3   1000  19661231    1966   4.0   INDL      C      D     STD  AE.2    USD   \n",
       "4   1000  19670331    1967   1.0   INDL      C      D     STD  AE.2    USD   \n",
       "\n",
       "  datacqtr datafqtr  atq    niq costat  prccq  naics     sic  \n",
       "0   1966Q1   1966Q1  NaN    NaN      I    NaN    NaN  3089.0  \n",
       "1   1966Q2   1966Q2  NaN    NaN      I    NaN    NaN  3089.0  \n",
       "2   1966Q3   1966Q3  NaN    NaN      I    NaN    NaN  3089.0  \n",
       "3   1966Q4   1966Q4  NaN  0.164      I    NaN    NaN  3089.0  \n",
       "4   1967Q1   1967Q1  NaN    NaN      I    NaN    NaN  3089.0  "
      ]
     },
     "execution_count": 4,
     "metadata": {},
     "output_type": "execute_result"
    }
   ],
   "source": [
    "file = \"../../data/companyData/compustatControls.csv\"\n",
    "compustatControls = pd.read_csv(file, encoding = 'unicode_escape')\n",
    "compustatControls.head()"
   ]
  },
  {
   "cell_type": "code",
   "execution_count": 5,
   "metadata": {},
   "outputs": [
    {
     "data": {
      "text/html": [
       "<div>\n",
       "<style scoped>\n",
       "    .dataframe tbody tr th:only-of-type {\n",
       "        vertical-align: middle;\n",
       "    }\n",
       "\n",
       "    .dataframe tbody tr th {\n",
       "        vertical-align: top;\n",
       "    }\n",
       "\n",
       "    .dataframe thead th {\n",
       "        text-align: right;\n",
       "    }\n",
       "</style>\n",
       "<table border=\"1\" class=\"dataframe\">\n",
       "  <thead>\n",
       "    <tr style=\"text-align: right;\">\n",
       "      <th></th>\n",
       "      <th>gvkey</th>\n",
       "      <th>earliestYear</th>\n",
       "    </tr>\n",
       "  </thead>\n",
       "  <tbody>\n",
       "    <tr>\n",
       "      <th>0</th>\n",
       "      <td>1000</td>\n",
       "      <td>1966</td>\n",
       "    </tr>\n",
       "    <tr>\n",
       "      <th>1</th>\n",
       "      <td>1001</td>\n",
       "      <td>1983</td>\n",
       "    </tr>\n",
       "    <tr>\n",
       "      <th>2</th>\n",
       "      <td>1003</td>\n",
       "      <td>1982</td>\n",
       "    </tr>\n",
       "    <tr>\n",
       "      <th>3</th>\n",
       "      <td>1004</td>\n",
       "      <td>1968</td>\n",
       "    </tr>\n",
       "    <tr>\n",
       "      <th>4</th>\n",
       "      <td>1005</td>\n",
       "      <td>1978</td>\n",
       "    </tr>\n",
       "  </tbody>\n",
       "</table>\n",
       "</div>"
      ],
      "text/plain": [
       "   gvkey  earliestYear\n",
       "0   1000          1966\n",
       "1   1001          1983\n",
       "2   1003          1982\n",
       "3   1004          1968\n",
       "4   1005          1978"
      ]
     },
     "execution_count": 5,
     "metadata": {},
     "output_type": "execute_result"
    }
   ],
   "source": [
    "earliestYear = compustatControls.groupby('gvkey')['fyearq'].min().reset_index().\\\n",
    "    rename(columns = {'fyearq': 'earliestYear'})\n",
    "earliestYear.head()"
   ]
  },
  {
   "cell_type": "markdown",
   "metadata": {},
   "source": [
    "---------------------------------------"
   ]
  },
  {
   "cell_type": "code",
   "execution_count": 6,
   "metadata": {},
   "outputs": [],
   "source": [
    "otherControls = compustatControls[['gvkey','fyearq','fqtr','sic','naics','atq','niq']]"
   ]
  },
  {
   "cell_type": "code",
   "execution_count": 10,
   "metadata": {},
   "outputs": [
    {
     "data": {
      "text/html": [
       "<div>\n",
       "<style scoped>\n",
       "    .dataframe tbody tr th:only-of-type {\n",
       "        vertical-align: middle;\n",
       "    }\n",
       "\n",
       "    .dataframe tbody tr th {\n",
       "        vertical-align: top;\n",
       "    }\n",
       "\n",
       "    .dataframe thead th {\n",
       "        text-align: right;\n",
       "    }\n",
       "</style>\n",
       "<table border=\"1\" class=\"dataframe\">\n",
       "  <thead>\n",
       "    <tr style=\"text-align: right;\">\n",
       "      <th></th>\n",
       "      <th>gvkey</th>\n",
       "      <th>fyearq</th>\n",
       "      <th>fqtr</th>\n",
       "      <th>sic</th>\n",
       "      <th>naics</th>\n",
       "      <th>atq</th>\n",
       "      <th>niq</th>\n",
       "      <th>inflator</th>\n",
       "    </tr>\n",
       "  </thead>\n",
       "  <tbody>\n",
       "    <tr>\n",
       "      <th>0</th>\n",
       "      <td>1000</td>\n",
       "      <td>1966</td>\n",
       "      <td>1.0</td>\n",
       "      <td>3089.0</td>\n",
       "      <td>NaN</td>\n",
       "      <td>NaN</td>\n",
       "      <td>NaN</td>\n",
       "      <td>6.341516</td>\n",
       "    </tr>\n",
       "    <tr>\n",
       "      <th>1</th>\n",
       "      <td>1010</td>\n",
       "      <td>1966</td>\n",
       "      <td>1.0</td>\n",
       "      <td>3743.0</td>\n",
       "      <td>336510.0</td>\n",
       "      <td>NaN</td>\n",
       "      <td>43.306214</td>\n",
       "      <td>6.341516</td>\n",
       "    </tr>\n",
       "    <tr>\n",
       "      <th>2</th>\n",
       "      <td>1040</td>\n",
       "      <td>1966</td>\n",
       "      <td>1.0</td>\n",
       "      <td>3949.0</td>\n",
       "      <td>339920.0</td>\n",
       "      <td>NaN</td>\n",
       "      <td>42.830600</td>\n",
       "      <td>6.341516</td>\n",
       "    </tr>\n",
       "    <tr>\n",
       "      <th>3</th>\n",
       "      <td>1043</td>\n",
       "      <td>1966</td>\n",
       "      <td>1.0</td>\n",
       "      <td>5040.0</td>\n",
       "      <td>421410.0</td>\n",
       "      <td>NaN</td>\n",
       "      <td>29.507075</td>\n",
       "      <td>6.341516</td>\n",
       "    </tr>\n",
       "    <tr>\n",
       "      <th>4</th>\n",
       "      <td>1044</td>\n",
       "      <td>1966</td>\n",
       "      <td>1.0</td>\n",
       "      <td>2011.0</td>\n",
       "      <td>NaN</td>\n",
       "      <td>NaN</td>\n",
       "      <td>NaN</td>\n",
       "      <td>6.341516</td>\n",
       "    </tr>\n",
       "  </tbody>\n",
       "</table>\n",
       "</div>"
      ],
      "text/plain": [
       "   gvkey  fyearq  fqtr     sic     naics  atq        niq  inflator\n",
       "0   1000    1966   1.0  3089.0       NaN  NaN        NaN  6.341516\n",
       "1   1010    1966   1.0  3743.0  336510.0  NaN  43.306214  6.341516\n",
       "2   1040    1966   1.0  3949.0  339920.0  NaN  42.830600  6.341516\n",
       "3   1043    1966   1.0  5040.0  421410.0  NaN  29.507075  6.341516\n",
       "4   1044    1966   1.0  2011.0       NaN  NaN        NaN  6.341516"
      ]
     },
     "execution_count": 10,
     "metadata": {},
     "output_type": "execute_result"
    }
   ],
   "source": [
    "defl.rename(columns = {'year': 'fyearq', 'qtr': 'fqtr'}, inplace = True)\n",
    "defl.head()\n",
    "\n",
    "\n",
    "otherControls = otherControls.merge(defl)\n",
    "\n",
    "\n",
    "toDeflate = ['atq','niq']\n",
    "\n",
    "\n",
    "for col in toDeflate:\n",
    "    otherControls[col] = otherControls[col]*otherControls.inflator\n",
    "\n",
    "otherControls.head()"
   ]
  },
  {
   "cell_type": "code",
   "execution_count": 11,
   "metadata": {},
   "outputs": [],
   "source": [
    "otherControls['roa'] = otherControls['niq']/otherControls['atq']\n",
    "\n",
    "otherControls.rename(columns = {'niq': 'netIncome',\n",
    "                               'atq':  'assets'},inplace = True)\n"
   ]
  },
  {
   "cell_type": "code",
   "execution_count": 18,
   "metadata": {},
   "outputs": [
    {
     "name": "stdout",
     "output_type": "stream",
     "text": [
      "   gvkey  fyearq  fqtr     sic     naics  assets  netIncome  inflator  roa  \\\n",
      "0   1000    1966   1.0  3089.0       NaN     NaN        NaN  6.341516  NaN   \n",
      "1   1010    1966   1.0  3743.0  336510.0     NaN  43.306214  6.341516  NaN   \n",
      "2   1040    1966   1.0  3949.0  339920.0     NaN  42.830600  6.341516  NaN   \n",
      "3   1043    1966   1.0  5040.0  421410.0     NaN  29.507075  6.341516  NaN   \n",
      "4   1044    1966   1.0  2011.0       NaN     NaN        NaN  6.341516  NaN   \n",
      "\n",
      "   famafrench  \n",
      "0        15.0  \n",
      "1        26.0  \n",
      "2         6.0  \n",
      "3        42.0  \n",
      "4         2.0  \n"
     ]
    }
   ],
   "source": [
    "otherControls.loc[(otherControls.sic >=100) & (otherControls.sic <= 799), 'famafrench'] = 1\n",
    "otherControls.loc[(otherControls.sic >=910) & (otherControls.sic <= 919), 'famafrench'] = 1\n",
    "otherControls.loc[(otherControls.sic == 2048), 'famafrench'] = 1\n",
    "\n",
    "otherControls.loc[(otherControls.sic >=2000) & (otherControls.sic <= 2046), 'famafrench'] = 2\n",
    "otherControls.loc[(otherControls.sic >=2050) & (otherControls.sic <= 2063), 'famafrench'] = 2\n",
    "otherControls.loc[(otherControls.sic >=2070) & (otherControls.sic <= 2079), 'famafrench'] = 2\n",
    "otherControls.loc[(otherControls.sic >=2090) & (otherControls.sic <= 2092), 'famafrench'] = 2\n",
    "otherControls.loc[(otherControls.sic == 2095), 'famafrench'] = 2\n",
    "otherControls.loc[(otherControls.sic >=2098) & (otherControls.sic <= 2099), 'famafrench'] = 2\n",
    "\n",
    "otherControls.loc[(otherControls.sic >=2064) & (otherControls.sic <= 2068), 'famafrench'] = 3\n",
    "otherControls.loc[(otherControls.sic >=2086) & (otherControls.sic <= 2087), 'famafrench'] = 3\n",
    "otherControls.loc[(otherControls.sic >=2096) & (otherControls.sic <= 2097), 'famafrench'] = 3\n",
    "\n",
    "otherControls.loc[(otherControls.sic ==2080), 'famafrench'] = 4\n",
    "otherControls.loc[(otherControls.sic >=2082) & (otherControls.sic <= 2085), 'famafrench'] = 4\n",
    "\n",
    "otherControls.loc[(otherControls.sic >=2100) & (otherControls.sic <= 2199), 'famafrench'] = 5\n",
    "\n",
    "otherControls.loc[(otherControls.sic >=920)  & (otherControls.sic <= 999), 'famafrench']  = 6\n",
    "otherControls.loc[(otherControls.sic >=3650) & (otherControls.sic<= 3652), 'famafrench']  = 6\n",
    "otherControls.loc[(otherControls.sic ==3732), 'famafrench']  = 6\n",
    "otherControls.loc[(otherControls.sic >=3930)  & (otherControls.sic<= 3931), 'famafrench']  = 6\n",
    "otherControls.loc[(otherControls.sic >=3940)  & (otherControls.sic<= 3949), 'famafrench']  = 6\n",
    "\n",
    "otherControls.loc[(otherControls.sic >=7800)  & (otherControls.sic<= 7829), 'famafrench']  = 7\n",
    "otherControls.loc[(otherControls.sic >=7830)  & (otherControls.sic<= 7833), 'famafrench']  = 7\n",
    "otherControls.loc[(otherControls.sic >=7840)  & (otherControls.sic<= 7841), 'famafrench']  = 7\n",
    "otherControls.loc[(otherControls.sic ==7900), 'famafrench']  = 7\n",
    "otherControls.loc[(otherControls.sic >=7910)  & (otherControls.sic<= 7911), 'famafrench']  = 7\n",
    "otherControls.loc[(otherControls.sic >=7920)  & (otherControls.sic<= 7929), 'famafrench']  = 7\n",
    "otherControls.loc[(otherControls.sic >=7930)  & (otherControls.sic<= 7933), 'famafrench']  = 7\n",
    "otherControls.loc[(otherControls.sic >=7940)  & (otherControls.sic<= 7949), 'famafrench']  = 7\n",
    "otherControls.loc[(otherControls.sic ==7980), 'famafrench']  = 7\n",
    "otherControls.loc[(otherControls.sic >=7990)  & (otherControls.sic<= 7999), 'famafrench']  = 7\n",
    "\n",
    "otherControls.loc[(otherControls.sic >=2700)  & (otherControls.sic<= 2749), 'famafrench']  = 8\n",
    "otherControls.loc[(otherControls.sic >=2770)  & (otherControls.sic<= 2771), 'famafrench']  = 8\n",
    "otherControls.loc[(otherControls.sic >=2780)  & (otherControls.sic<= 2799), 'famafrench']  = 8\n",
    "\n",
    "otherControls.loc[(otherControls.sic ==2047), 'famafrench']  = 9\n",
    "otherControls.loc[(otherControls.sic >=2391)  & (otherControls.sic<= 2392), 'famafrench']  = 9\n",
    "otherControls.loc[(otherControls.sic >=2510)  & (otherControls.sic<= 2519), 'famafrench']  = 9\n",
    "otherControls.loc[(otherControls.sic >=2590)  & (otherControls.sic<= 2599), 'famafrench']  = 9\n",
    "otherControls.loc[(otherControls.sic >=2840)  & (otherControls.sic<= 2844), 'famafrench']  = 9\n",
    "otherControls.loc[(otherControls.sic >=3160)  & (otherControls.sic<= 3161), 'famafrench']  = 9\n",
    "otherControls.loc[(otherControls.sic >=3170)  & (otherControls.sic<= 3172), 'famafrench']  = 9\n",
    "otherControls.loc[(otherControls.sic >=3190)  & (otherControls.sic<= 3199), 'famafrench']  = 9\n",
    "otherControls.loc[(otherControls.sic >=3229)  & (otherControls.sic<= 3229), 'famafrench']  = 9\n",
    "otherControls.loc[(otherControls.sic ==3260), 'famafrench']  = 9\n",
    "otherControls.loc[(otherControls.sic >=3262)  & (otherControls.sic<= 3263), 'famafrench']  = 9\n",
    "otherControls.loc[(otherControls.sic ==3269), 'famafrench']  = 9\n",
    "otherControls.loc[(otherControls.sic >=3630)  & (otherControls.sic<= 3639), 'famafrench']  = 9\n",
    "otherControls.loc[(otherControls.sic >=3750)  & (otherControls.sic<= 3751), 'famafrench']  = 9\n",
    "otherControls.loc[(otherControls.sic ==3800), 'famafrench']  = 9\n",
    "otherControls.loc[(otherControls.sic>=3860) & (otherControls.sic<=3861), 'famafrench']  = 9\n",
    "otherControls.loc[(otherControls.sic>=3870) & (otherControls.sic<=3873), 'famafrench']  = 9\n",
    "otherControls.loc[(otherControls.sic>=3910) & (otherControls.sic<=3911), 'famafrench']  = 9\n",
    "otherControls.loc[(otherControls.sic==3914) & (otherControls.sic<=3915), 'famafrench']  = 9\n",
    "otherControls.loc[(otherControls.sic>=3960) & (otherControls.sic<=3962), 'famafrench']  = 9\n",
    "otherControls.loc[(otherControls.sic==3991), 'famafrench']  = 9\n",
    "otherControls.loc[(otherControls.sic==3995), 'famafrench']  = 9\n",
    "\n",
    "otherControls.loc[(otherControls.sic>=2300) & (otherControls.sic<=2390), 'famafrench']  = 10\n",
    "otherControls.loc[(otherControls.sic>=3020) & (otherControls.sic<=3021), 'famafrench']  = 10\n",
    "otherControls.loc[(otherControls.sic>=3100) & (otherControls.sic<=3111), 'famafrench']  = 10\n",
    "otherControls.loc[(otherControls.sic>=3130) & (otherControls.sic<=3131), 'famafrench']  = 10\n",
    "otherControls.loc[(otherControls.sic>=3140) & (otherControls.sic<=3149), 'famafrench']  = 10\n",
    "otherControls.loc[(otherControls.sic>=3150) & (otherControls.sic<=3151), 'famafrench']  = 10\n",
    "otherControls.loc[(otherControls.sic>=3963) & (otherControls.sic<=3965), 'famafrench']  = 10\n",
    "\n",
    "otherControls.loc[(otherControls.sic>=8000) & (otherControls.sic<=8099), 'famafrench']  = 11\n",
    "\n",
    "otherControls.loc[(otherControls.sic==3693), 'famafrench']  = 12\n",
    "otherControls.loc[(otherControls.sic>=3840) & (otherControls.sic<=3851), 'famafrench']  = 12\n",
    "\n",
    "otherControls.loc[(otherControls.sic>=2830) & (otherControls.sic<=2831), 'famafrench']  = 13\n",
    "otherControls.loc[(otherControls.sic>=2833) & (otherControls.sic<=2836), 'famafrench']  = 13\n",
    "\n",
    "otherControls.loc[(otherControls.sic>=2800) & (otherControls.sic<=2829), 'famafrench']  = 14\n",
    "otherControls.loc[(otherControls.sic>=2850) & (otherControls.sic<=2879), 'famafrench']  = 14\n",
    "otherControls.loc[(otherControls.sic>=2890) & (otherControls.sic<=2899), 'famafrench']  = 14\n",
    "\n",
    "# otherControls.loc[(otherControls.sic==3000), 'famafrench']  = 15\n",
    "otherControls.loc[(otherControls.sic==3031), 'famafrench']  = 15\n",
    "otherControls.loc[(otherControls.sic==3041), 'famafrench']  = 15\n",
    "otherControls.loc[(otherControls.sic>=3050) & (otherControls.sic<=3053), 'famafrench']  = 15\n",
    "otherControls.loc[(otherControls.sic>=3060) & (otherControls.sic<=3099), 'famafrench']  = 15\n",
    "\n",
    "otherControls.loc[(otherControls.sic>=2200) & (otherControls.sic<=2284), 'famafrench']  = 16\n",
    "otherControls.loc[(otherControls.sic>=2290) & (otherControls.sic<=2295), 'famafrench']  = 16\n",
    "otherControls.loc[(otherControls.sic>=2297) & (otherControls.sic<=2299), 'famafrench']  = 16\n",
    "otherControls.loc[(otherControls.sic>=2393) & (otherControls.sic<=2395), 'famafrench']  = 16\n",
    "otherControls.loc[(otherControls.sic>=2397) & (otherControls.sic<=2399), 'famafrench']  = 16\n",
    "\n",
    "otherControls.loc[(otherControls.sic>=800)  & (otherControls.sic<=899), 'famafrench']  = 17\n",
    "otherControls.loc[(otherControls.sic>=2400) & (otherControls.sic<=2439), 'famafrench']  = 17\n",
    "otherControls.loc[(otherControls.sic>=2450) & (otherControls.sic<=2459), 'famafrench']  = 17\n",
    "otherControls.loc[(otherControls.sic>=2490) & (otherControls.sic<=2499), 'famafrench']  = 17\n",
    "otherControls.loc[(otherControls.sic>=2660) & (otherControls.sic<=2661), 'famafrench']  = 17\n",
    "otherControls.loc[(otherControls.sic>=2950) & (otherControls.sic<=2952), 'famafrench']  = 17\n",
    "otherControls.loc[(otherControls.sic==3200), 'famafrench']  = 17\n",
    "otherControls.loc[(otherControls.sic>=3210) & (otherControls.sic<=3211), 'famafrench']  = 17\n",
    "otherControls.loc[(otherControls.sic>=3240) & (otherControls.sic<=3241), 'famafrench']  = 17\n",
    "otherControls.loc[(otherControls.sic>=3250) & (otherControls.sic<=3259), 'famafrench']  = 17\n",
    "otherControls.loc[(otherControls.sic==3261), 'famafrench']  = 17\n",
    "otherControls.loc[(otherControls.sic==3264), 'famafrench']  = 17\n",
    "otherControls.loc[(otherControls.sic>=3270) & (otherControls.sic<=3275), 'famafrench']  = 17\n",
    "otherControls.loc[(otherControls.sic>=3280) & (otherControls.sic<=3281), 'famafrench']  = 17\n",
    "otherControls.loc[(otherControls.sic>=3290) & (otherControls.sic<=3293), 'famafrench']  = 17\n",
    "otherControls.loc[(otherControls.sic>=3295) & (otherControls.sic<=3299), 'famafrench']  = 17\n",
    "otherControls.loc[(otherControls.sic>=3420) & (otherControls.sic<=3433), 'famafrench']  = 17\n",
    "otherControls.loc[(otherControls.sic>=3440) & (otherControls.sic<=3442), 'famafrench']  = 17\n",
    "otherControls.loc[(otherControls.sic==3446), 'famafrench']  = 17\n",
    "otherControls.loc[(otherControls.sic>=3448) & (otherControls.sic<=3452), 'famafrench']  = 17\n",
    "otherControls.loc[(otherControls.sic>=3490) & (otherControls.sic<=3499), 'famafrench']  = 17\n",
    "otherControls.loc[(otherControls.sic==3996), 'famafrench']  = 17\n",
    "\n",
    "otherControls.loc[(otherControls.sic>=1500) & (otherControls.sic<=1511), 'famafrench']  = 18\n",
    "otherControls.loc[(otherControls.sic>=1520) & (otherControls.sic<=1549), 'famafrench']  = 18\n",
    "otherControls.loc[(otherControls.sic>=1600) & (otherControls.sic<=1699), 'famafrench']  = 18\n",
    "otherControls.loc[(otherControls.sic>=1700) & (otherControls.sic<=1799), 'famafrench']  = 18\n",
    "\n",
    "otherControls.loc[(otherControls.sic==3300), 'famafrench']  = 19\n",
    "otherControls.loc[(otherControls.sic>=3310) & (otherControls.sic<=3317), 'famafrench']  = 19\n",
    "otherControls.loc[(otherControls.sic>=3320) & (otherControls.sic<=3325), 'famafrench']  = 19\n",
    "otherControls.loc[(otherControls.sic>=3330) & (otherControls.sic<=3339), 'famafrench']  = 19\n",
    "otherControls.loc[(otherControls.sic>=3340) & (otherControls.sic<=3341), 'famafrench']  = 19\n",
    "otherControls.loc[(otherControls.sic>=3350) & (otherControls.sic<=3357), 'famafrench']  = 19\n",
    "otherControls.loc[(otherControls.sic>=3360) & (otherControls.sic<=3369), 'famafrench']  = 19\n",
    "otherControls.loc[(otherControls.sic>=3370) & (otherControls.sic<=3379), 'famafrench']  = 19\n",
    "otherControls.loc[(otherControls.sic>=3390) & (otherControls.sic<=3399), 'famafrench']  = 19\n",
    "\n",
    "otherControls.loc[(otherControls.sic==3400), 'famafrench']  = 20\n",
    "otherControls.loc[(otherControls.sic>=3443) & (otherControls.sic<=3444), 'famafrench']  = 20\n",
    "otherControls.loc[(otherControls.sic>=3460) & (otherControls.sic<=3479), 'famafrench']  = 20\n",
    "\n",
    "otherControls.loc[(otherControls.sic>=3510) & (otherControls.sic<=3536), 'famafrench']  = 21\n",
    "otherControls.loc[(otherControls.sic==3538), 'famafrench']  = 21\n",
    "otherControls.loc[(otherControls.sic>=3540) & (otherControls.sic<=3569), 'famafrench']  = 21\n",
    "otherControls.loc[(otherControls.sic>=3580) & (otherControls.sic<=3582), 'famafrench']  = 21\n",
    "otherControls.loc[(otherControls.sic>=3585) & (otherControls.sic<=3586), 'famafrench']  = 21\n",
    "otherControls.loc[(otherControls.sic>=3589) & (otherControls.sic<=3599), 'famafrench']  = 21\n",
    "\n",
    "otherControls.loc[(otherControls.sic>=3600), 'famafrench']  = 22\n",
    "otherControls.loc[(otherControls.sic>=3610) & (otherControls.sic<=3613), 'famafrench']  = 22\n",
    "otherControls.loc[(otherControls.sic>=3620) & (otherControls.sic<=3621), 'famafrench']  = 22\n",
    "otherControls.loc[(otherControls.sic>=3623) & (otherControls.sic<=3629), 'famafrench']  = 22\n",
    "otherControls.loc[(otherControls.sic>=3640) & (otherControls.sic<=3646), 'famafrench']  = 22\n",
    "otherControls.loc[(otherControls.sic>=3648) & (otherControls.sic<=3649), 'famafrench']  = 22\n",
    "otherControls.loc[(otherControls.sic==3660), 'famafrench']  = 22\n",
    "otherControls.loc[(otherControls.sic>=3690) & (otherControls.sic<=3692), 'famafrench']  = 22\n",
    "otherControls.loc[(otherControls.sic==3699), 'famafrench']  = 22\n",
    "\n",
    "otherControls.loc[(otherControls.sic==2296), 'famafrench']  = 23\n",
    "otherControls.loc[(otherControls.sic==2396), 'famafrench']  = 23\n",
    "otherControls.loc[(otherControls.sic>=3010) & (otherControls.sic<=3011), 'famafrench']  = 23\n",
    "otherControls.loc[(otherControls.sic==3537), 'famafrench']  = 23\n",
    "otherControls.loc[(otherControls.sic==3647), 'famafrench']  = 23\n",
    "otherControls.loc[(otherControls.sic==3694), 'famafrench']  = 23\n",
    "otherControls.loc[(otherControls.sic==3700), 'famafrench']  = 23\n",
    "otherControls.loc[(otherControls.sic==3710), 'famafrench']  = 23\n",
    "otherControls.loc[(otherControls.sic==3711), 'famafrench']  = 23\n",
    "otherControls.loc[(otherControls.sic>=3713) & (otherControls.sic<=3716), 'famafrench']  = 23\n",
    "otherControls.loc[(otherControls.sic>=3790) & (otherControls.sic<=3792), 'famafrench']  = 23\n",
    "otherControls.loc[(otherControls.sic==3799), 'famafrench']  = 23\n",
    "\n",
    "otherControls.loc[(otherControls.sic>=3720) & (otherControls.sic<=3721), 'famafrench']  = 24\n",
    "otherControls.loc[(otherControls.sic>=3723) & (otherControls.sic<=3725), 'famafrench']  = 24\n",
    "otherControls.loc[(otherControls.sic>=3728) & (otherControls.sic<=3729), 'famafrench']  = 24\n",
    "\n",
    "otherControls.loc[(otherControls.sic>=3730) & (otherControls.sic<=3731), 'famafrench']  = 25\n",
    "otherControls.loc[(otherControls.sic>=3740) & (otherControls.sic<=3743), 'famafrench']  = 25\n",
    "\n",
    "otherControls.loc[(otherControls.sic>=3760) & (otherControls.sic<=3769), 'famafrench']  = 26\n",
    "otherControls.loc[(otherControls.sic==3795), 'famafrench']  = 26\n",
    "otherControls.loc[(otherControls.sic>=3480) & (otherControls.sic<=3489), 'famafrench']  = 26\n",
    "\n",
    "otherControls.loc[(otherControls.sic>=1040) & (otherControls.sic<=1049), 'famafrench']  = 27\n",
    "\n",
    "otherControls.loc[(otherControls.sic>=1000) & (otherControls.sic<=1039), 'famafrench']  = 28\n",
    "otherControls.loc[(otherControls.sic>=1050) & (otherControls.sic<=1119), 'famafrench']  = 28\n",
    "otherControls.loc[(otherControls.sic>=1400) & (otherControls.sic<=1499), 'famafrench']  = 28\n",
    "\n",
    "otherControls.loc[(otherControls.sic>=1200) & (otherControls.sic<=1299), 'famafrench']  = 29\n",
    "\n",
    "otherControls.loc[(otherControls.sic==1300), 'famafrench']  = 30\n",
    "otherControls.loc[(otherControls.sic>=1310) & (otherControls.sic<=1339), 'famafrench']  = 30\n",
    "otherControls.loc[(otherControls.sic>=1370) & (otherControls.sic<=1382), 'famafrench']  = 30\n",
    "otherControls.loc[(otherControls.sic==1389), 'famafrench']  = 30\n",
    "otherControls.loc[(otherControls.sic>=2900) & (otherControls.sic<=2912), 'famafrench']  = 30\n",
    "otherControls.loc[(otherControls.sic>=2990) & (otherControls.sic<=2999), 'famafrench']  = 30\n",
    "\n",
    "otherControls.loc[(otherControls.sic==4900), 'famafrench']  = 31\n",
    "otherControls.loc[(otherControls.sic>=4910) & (otherControls.sic<=4911), 'famafrench']  = 31\n",
    "otherControls.loc[(otherControls.sic>=4920) & (otherControls.sic<=4925), 'famafrench']  = 31\n",
    "otherControls.loc[(otherControls.sic>=4930) & (otherControls.sic<=4932), 'famafrench']  = 31\n",
    "otherControls.loc[(otherControls.sic==4939), 'famafrench']  = 31\n",
    "otherControls.loc[(otherControls.sic>=4940) & (otherControls.sic<=4942), 'famafrench']  = 31\n",
    "\n",
    "otherControls.loc[(otherControls.sic==4800), 'famafrench']  = 32\n",
    "otherControls.loc[(otherControls.sic>=4810) & (otherControls.sic<=4813), 'famafrench']  = 32\n",
    "otherControls.loc[(otherControls.sic>=4820) & (otherControls.sic<=4822), 'famafrench']  = 32\n",
    "otherControls.loc[(otherControls.sic>=4830) & (otherControls.sic<=4841), 'famafrench']  = 32\n",
    "otherControls.loc[(otherControls.sic>=4880) & (otherControls.sic<=4892), 'famafrench']  = 32\n",
    "otherControls.loc[(otherControls.sic==4899), 'famafrench']  = 32\n",
    "\n",
    "otherControls.loc[(otherControls.sic>=7020) & (otherControls.sic<=7021), 'famafrench']  = 33\n",
    "otherControls.loc[(otherControls.sic>=7030) & (otherControls.sic<=7033), 'famafrench']  = 33\n",
    "otherControls.loc[(otherControls.sic==7200), 'famafrench']  = 33\n",
    "otherControls.loc[(otherControls.sic>=7210) & (otherControls.sic<=7212), 'famafrench']  = 33\n",
    "otherControls.loc[(otherControls.sic>=7214) & (otherControls.sic<=7217), 'famafrench']  = 33\n",
    "otherControls.loc[(otherControls.sic==7219) & (otherControls.sic<=7221), 'famafrench']  = 33\n",
    "otherControls.loc[(otherControls.sic==7230) & (otherControls.sic<=7231), 'famafrench']  = 33\n",
    "otherControls.loc[(otherControls.sic==7240) & (otherControls.sic<=7241), 'famafrench']  = 33\n",
    "otherControls.loc[(otherControls.sic==7250) & (otherControls.sic<=7251), 'famafrench']  = 33\n",
    "otherControls.loc[(otherControls.sic==7260) & (otherControls.sic<=7299), 'famafrench']  = 33\n",
    "otherControls.loc[(otherControls.sic==7395), 'famafrench']  = 33\n",
    "otherControls.loc[(otherControls.sic==7500), 'famafrench']  = 33\n",
    "otherControls.loc[(otherControls.sic>=7520) & (otherControls.sic<=7549), 'famafrench']  = 33\n",
    "otherControls.loc[(otherControls.sic==7600), 'famafrench']  = 33\n",
    "otherControls.loc[(otherControls.sic==7620), 'famafrench']  = 33\n",
    "otherControls.loc[(otherControls.sic==7622), 'famafrench']  = 33\n",
    "otherControls.loc[(otherControls.sic==7623), 'famafrench']  = 33\n",
    "otherControls.loc[(otherControls.sic>=7629) & (otherControls.sic<=7631), 'famafrench']  = 33\n",
    "otherControls.loc[(otherControls.sic>=7640) & (otherControls.sic<=7641), 'famafrench']  = 33\n",
    "otherControls.loc[(otherControls.sic>=7690) & (otherControls.sic<=7699), 'famafrench']  = 33\n",
    "otherControls.loc[(otherControls.sic>=8100) & (otherControls.sic<=8199), 'famafrench']  = 33\n",
    "otherControls.loc[(otherControls.sic>=8200) & (otherControls.sic<=8299), 'famafrench']  = 33\n",
    "otherControls.loc[(otherControls.sic>=8300) & (otherControls.sic<=8399), 'famafrench']  = 33\n",
    "otherControls.loc[(otherControls.sic>=8400) & (otherControls.sic<=8499), 'famafrench']  = 33\n",
    "otherControls.loc[(otherControls.sic>=8600) & (otherControls.sic<=8699), 'famafrench']  = 33\n",
    "otherControls.loc[(otherControls.sic>=8800) & (otherControls.sic<=8899), 'famafrench']  = 33\n",
    "otherControls.loc[(otherControls.sic>=7510) & (otherControls.sic<=7515), 'famafrench']  = 33\n",
    "\n",
    "otherControls.loc[(otherControls.sic>=2750) & (otherControls.sic<=2759), 'famafrench']  = 34\n",
    "otherControls.loc[(otherControls.sic==3993), 'famafrench']  = 34\n",
    "otherControls.loc[(otherControls.sic==7218), 'famafrench']  = 34\n",
    "otherControls.loc[(otherControls.sic==7300), 'famafrench']  = 34\n",
    "otherControls.loc[(otherControls.sic>=7310) & (otherControls.sic<=7342), 'famafrench']  = 34\n",
    "otherControls.loc[(otherControls.sic>=7349) & (otherControls.sic<=7353), 'famafrench']  = 34\n",
    "otherControls.loc[(otherControls.sic>=7359) & (otherControls.sic<=7372), 'famafrench']  = 34\n",
    "otherControls.loc[(otherControls.sic>=7374) & (otherControls.sic<=7385), 'famafrench']  = 34\n",
    "otherControls.loc[(otherControls.sic>=7389) & (otherControls.sic<=7394), 'famafrench']  = 34\n",
    "otherControls.loc[(otherControls.sic>=7396) & (otherControls.sic<=7397), 'famafrench']  = 34\n",
    "otherControls.loc[(otherControls.sic==7399), 'famafrench']  = 34\n",
    "otherControls.loc[(otherControls.sic==7519), 'famafrench']  = 34\n",
    "otherControls.loc[(otherControls.sic==8700), 'famafrench']  = 34\n",
    "otherControls.loc[(otherControls.sic>=8710) & (otherControls.sic<=8713), 'famafrench']  = 34\n",
    "otherControls.loc[(otherControls.sic>=8720) & (otherControls.sic<=8721), 'famafrench']  = 34\n",
    "otherControls.loc[(otherControls.sic>=8730) & (otherControls.sic<=8734), 'famafrench']  = 34\n",
    "otherControls.loc[(otherControls.sic>=8740) & (otherControls.sic<=8748), 'famafrench']  = 34\n",
    "otherControls.loc[(otherControls.sic>=8900) & (otherControls.sic<=8910), 'famafrench']  = 34\n",
    "otherControls.loc[(otherControls.sic>=8920) & (otherControls.sic<=8999), 'famafrench']  = 34\n",
    "otherControls.loc[(otherControls.sic>=4220) & (otherControls.sic<=4229), 'famafrench']  = 34\n",
    "\n",
    "otherControls.loc[(otherControls.sic>=3570) & (otherControls.sic<=3579), 'famafrench']  = 35\n",
    "otherControls.loc[(otherControls.sic>=3680) & (otherControls.sic<=3689), 'famafrench']  = 35\n",
    "otherControls.loc[(otherControls.sic==3695), 'famafrench']  = 35\n",
    "otherControls.loc[(otherControls.sic==7373), 'famafrench']  = 35\n",
    "\n",
    "otherControls.loc[(otherControls.sic==3622), 'famafrench']  = 36\n",
    "otherControls.loc[(otherControls.sic>=3661) & (otherControls.sic<=3666), 'famafrench']  = 36\n",
    "otherControls.loc[(otherControls.sic>=3669) & (otherControls.sic<=3679), 'famafrench']  = 36\n",
    "otherControls.loc[(otherControls.sic==3810), 'famafrench']  = 36\n",
    "otherControls.loc[(otherControls.sic==3812), 'famafrench']  = 36\n",
    "\n",
    "otherControls.loc[(otherControls.sic==3811), 'famafrench']  = 37\n",
    "otherControls.loc[(otherControls.sic>=3820) & (otherControls.sic<=3827), 'famafrench']  = 37\n",
    "otherControls.loc[(otherControls.sic>=3829) & (otherControls.sic<=3839), 'famafrench']  = 37\n",
    "\n",
    "otherControls.loc[(otherControls.sic>=2520) & (otherControls.sic<=2549), 'famafrench']  = 38\n",
    "otherControls.loc[(otherControls.sic>=2600) & (otherControls.sic<=2639), 'famafrench']  = 38\n",
    "otherControls.loc[(otherControls.sic>=2670) & (otherControls.sic<=2699), 'famafrench']  = 38\n",
    "otherControls.loc[(otherControls.sic>=2760) & (otherControls.sic<=2761), 'famafrench']  = 38\n",
    "otherControls.loc[(otherControls.sic>=3950) & (otherControls.sic<=3955), 'famafrench']  = 38\n",
    "\n",
    "otherControls.loc[(otherControls.sic>=2440) & (otherControls.sic<=2449), 'famafrench']  = 39\n",
    "otherControls.loc[(otherControls.sic>=2640) & (otherControls.sic<=2659), 'famafrench']  = 39\n",
    "otherControls.loc[(otherControls.sic>=3220) & (otherControls.sic<=3221), 'famafrench']  = 39\n",
    "otherControls.loc[(otherControls.sic>=3410) & (otherControls.sic<=3412), 'famafrench']  = 39\n",
    "\n",
    "otherControls.loc[(otherControls.sic>=4000) & (otherControls.sic<=4013), 'famafrench']  = 40\n",
    "otherControls.loc[(otherControls.sic>=4040) & (otherControls.sic<=4049), 'famafrench']  = 40\n",
    "otherControls.loc[(otherControls.sic==4100), 'famafrench']  = 40\n",
    "otherControls.loc[(otherControls.sic>=4110) & (otherControls.sic<=4121), 'famafrench']  = 40\n",
    "otherControls.loc[(otherControls.sic>=4130) & (otherControls.sic<=4131), 'famafrench']  = 40\n",
    "otherControls.loc[(otherControls.sic>=4140) & (otherControls.sic<=4142), 'famafrench']  = 40\n",
    "otherControls.loc[(otherControls.sic>=4150) & (otherControls.sic<=4151), 'famafrench']  = 40\n",
    "otherControls.loc[(otherControls.sic>=4170) & (otherControls.sic<=4173), 'famafrench']  = 40\n",
    "otherControls.loc[(otherControls.sic>=4190) & (otherControls.sic<=4200), 'famafrench']  = 40\n",
    "otherControls.loc[(otherControls.sic>=4210) & (otherControls.sic<=4219), 'famafrench']  = 40\n",
    "otherControls.loc[(otherControls.sic>=4230) & (otherControls.sic<=4231), 'famafrench']  = 40\n",
    "otherControls.loc[(otherControls.sic>=4240) & (otherControls.sic<=4249), 'famafrench']  = 40\n",
    "otherControls.loc[(otherControls.sic>=4400) & (otherControls.sic<=4700), 'famafrench']  = 40\n",
    "otherControls.loc[(otherControls.sic>=4710) & (otherControls.sic<=4712), 'famafrench']  = 40\n",
    "otherControls.loc[(otherControls.sic>=4720) & (otherControls.sic<=4749), 'famafrench']  = 40\n",
    "otherControls.loc[(otherControls.sic==4780), 'famafrench']  = 40\n",
    "otherControls.loc[(otherControls.sic>=4782) & (otherControls.sic<=4785), 'famafrench']  = 40\n",
    "otherControls.loc[(otherControls.sic==4789), 'famafrench']  = 40\n",
    "\n",
    "otherControls.loc[(otherControls.sic==5000), 'famafrench']  = 41\n",
    "otherControls.loc[(otherControls.sic>=5010) & (otherControls.sic<=5015), 'famafrench']  = 41\n",
    "otherControls.loc[(otherControls.sic>=5020) & (otherControls.sic<=5023), 'famafrench']  = 41\n",
    "otherControls.loc[(otherControls.sic>=5030) & (otherControls.sic<=5060), 'famafrench']  = 41\n",
    "otherControls.loc[(otherControls.sic>=5063) & (otherControls.sic<=5065), 'famafrench']  = 41\n",
    "otherControls.loc[(otherControls.sic>=5070) & (otherControls.sic<=5078), 'famafrench']  = 41\n",
    "otherControls.loc[(otherControls.sic>=5080) & (otherControls.sic<=5088), 'famafrench']  = 41\n",
    "otherControls.loc[(otherControls.sic>=5090) & (otherControls.sic<=5094), 'famafrench']  = 41\n",
    "otherControls.loc[(otherControls.sic==5099), 'famafrench']  = 41\n",
    "otherControls.loc[(otherControls.sic==5100), 'famafrench']  = 41\n",
    "otherControls.loc[(otherControls.sic>=5110) & (otherControls.sic<=5113), 'famafrench']  = 41\n",
    "otherControls.loc[(otherControls.sic>=5120) & (otherControls.sic<=5122), 'famafrench']  = 41\n",
    "otherControls.loc[(otherControls.sic>=5130) & (otherControls.sic<=5172), 'famafrench']  = 41\n",
    "otherControls.loc[(otherControls.sic>=5180) & (otherControls.sic<=5182), 'famafrench']  = 41\n",
    "otherControls.loc[(otherControls.sic>=5190) & (otherControls.sic<=5199), 'famafrench']  = 41\n",
    "\n",
    "otherControls.loc[(otherControls.sic==5200), 'famafrench']  = 42\n",
    "otherControls.loc[(otherControls.sic>=5210) & (otherControls.sic<=5231), 'famafrench']  = 42\n",
    "otherControls.loc[(otherControls.sic>=5250) & (otherControls.sic<=5251), 'famafrench']  = 42\n",
    "otherControls.loc[(otherControls.sic>=5260) & (otherControls.sic<=5261), 'famafrench']  = 42\n",
    "otherControls.loc[(otherControls.sic>=5270) & (otherControls.sic<=5271), 'famafrench']  = 42\n",
    "otherControls.loc[(otherControls.sic>=5300), 'famafrench']  = 42\n",
    "otherControls.loc[(otherControls.sic>=5310) & (otherControls.sic<=5311), 'famafrench']  = 42\n",
    "otherControls.loc[(otherControls.sic==5320), 'famafrench']  = 42\n",
    "otherControls.loc[(otherControls.sic>=5330) & (otherControls.sic<=5331), 'famafrench']  = 42\n",
    "otherControls.loc[(otherControls.sic==5334), 'famafrench']  = 42\n",
    "otherControls.loc[(otherControls.sic>=5340) & (otherControls.sic<=5349), 'famafrench']  = 42\n",
    "otherControls.loc[(otherControls.sic>=5390) & (otherControls.sic<=5400), 'famafrench']  = 42\n",
    "otherControls.loc[(otherControls.sic>=5410) & (otherControls.sic<=5412), 'famafrench']  = 42\n",
    "otherControls.loc[(otherControls.sic>=5420) & (otherControls.sic<=5469), 'famafrench']  = 42\n",
    "otherControls.loc[(otherControls.sic>=5490) & (otherControls.sic<=5500), 'famafrench']  = 42\n",
    "otherControls.loc[(otherControls.sic>=5510) & (otherControls.sic<=5579), 'famafrench']  = 42\n",
    "otherControls.loc[(otherControls.sic>=5590) & (otherControls.sic<=5700), 'famafrench']  = 42\n",
    "otherControls.loc[(otherControls.sic>=5710) & (otherControls.sic<=5722), 'famafrench']  = 42\n",
    "otherControls.loc[(otherControls.sic>=5730) & (otherControls.sic<=5736), 'famafrench']  = 42\n",
    "otherControls.loc[(otherControls.sic>=5750) & (otherControls.sic<=5799), 'famafrench']  = 42\n",
    "otherControls.loc[(otherControls.sic==5900), 'famafrench']  = 42\n",
    "otherControls.loc[(otherControls.sic>=5910) & (otherControls.sic<=5912), 'famafrench']  = 42\n",
    "otherControls.loc[(otherControls.sic>=5920) & (otherControls.sic<=5932), 'famafrench']  = 42\n",
    "otherControls.loc[(otherControls.sic>=5940) & (otherControls.sic<=5990), 'famafrench']  = 42\n",
    "otherControls.loc[(otherControls.sic>=5992) & (otherControls.sic<=5995), 'famafrench']  = 42\n",
    "otherControls.loc[(otherControls.sic==5999), 'famafrench']  = 42\n",
    "\n",
    "\n",
    "otherControls.loc[(otherControls.sic>=5800) & (otherControls.sic<=5819), 'famafrench']  = 43\n",
    "otherControls.loc[(otherControls.sic>=5820) & (otherControls.sic<=5829), 'famafrench']  = 43\n",
    "otherControls.loc[(otherControls.sic>=5890) & (otherControls.sic<=7000), 'famafrench']  = 43\n",
    "otherControls.loc[(otherControls.sic>=7010) & (otherControls.sic<=7019), 'famafrench']  = 43\n",
    "otherControls.loc[(otherControls.sic>=7040) & (otherControls.sic<=7049), 'famafrench']  = 43\n",
    "otherControls.loc[(otherControls.sic==7213), 'famafrench']  = 43\n",
    "\n",
    "otherControls.loc[(otherControls.sic==6000), 'famafrench']  = 44\n",
    "otherControls.loc[(otherControls.sic>=6010) & (otherControls.sic<=6036), 'famafrench']  = 44\n",
    "otherControls.loc[(otherControls.sic>=6040) & (otherControls.sic<=6062), 'famafrench']  = 44\n",
    "otherControls.loc[(otherControls.sic>=6080) & (otherControls.sic<=6082), 'famafrench']  = 44\n",
    "otherControls.loc[(otherControls.sic>=6090) & (otherControls.sic<=6100), 'famafrench']  = 44\n",
    "otherControls.loc[(otherControls.sic>=6110) & (otherControls.sic<=6113), 'famafrench']  = 44\n",
    "otherControls.loc[(otherControls.sic>=6120) & (otherControls.sic<=6179), 'famafrench']  = 44\n",
    "otherControls.loc[(otherControls.sic>=6190) & (otherControls.sic<=6199), 'famafrench']  = 44\n",
    "\n",
    "otherControls.loc[(otherControls.sic==6300), 'famafrench']  = 45\n",
    "otherControls.loc[(otherControls.sic>=6310) & (otherControls.sic<=6331), 'famafrench']  = 45\n",
    "otherControls.loc[(otherControls.sic>=6350) & (otherControls.sic<=6351), 'famafrench']  = 45\n",
    "otherControls.loc[(otherControls.sic>=6360) & (otherControls.sic<=6361), 'famafrench']  = 45\n",
    "otherControls.loc[(otherControls.sic>=6370) & (otherControls.sic<=6379), 'famafrench']  = 45\n",
    "otherControls.loc[(otherControls.sic>=6390) & (otherControls.sic<=6399), 'famafrench']  = 45\n",
    "otherControls.loc[(otherControls.sic>=6400) & (otherControls.sic<=6411), 'famafrench']  = 45\n",
    "\n",
    "otherControls.loc[(otherControls.sic==6500), 'famafrench']  = 47\n",
    "otherControls.loc[(otherControls.sic==6510), 'famafrench']  = 47\n",
    "otherControls.loc[(otherControls.sic>=6512) & (otherControls.sic<=6515), 'famafrench']  = 46\n",
    "otherControls.loc[(otherControls.sic>=6517) & (otherControls.sic<=6532), 'famafrench']  = 46\n",
    "otherControls.loc[(otherControls.sic>=6540) & (otherControls.sic<=6541), 'famafrench']  = 46\n",
    "otherControls.loc[(otherControls.sic>=6550) & (otherControls.sic<=6553), 'famafrench']  = 46\n",
    "otherControls.loc[(otherControls.sic>=6590) & (otherControls.sic<=6599), 'famafrench']  = 46\n",
    "otherControls.loc[(otherControls.sic>=6610) & (otherControls.sic<=6611), 'famafrench']  = 46\n",
    "\n",
    "otherControls.loc[(otherControls.sic>=6200) & (otherControls.sic<=6299), 'famafrench']  = 47\n",
    "otherControls.loc[(otherControls.sic==6700), 'famafrench']  = 47\n",
    "otherControls.loc[(otherControls.sic>=6710) & (otherControls.sic<=6726), 'famafrench']  = 47\n",
    "otherControls.loc[(otherControls.sic>=6730) & (otherControls.sic<=6733), 'famafrench']  = 47\n",
    "otherControls.loc[(otherControls.sic>=6740) & (otherControls.sic<=6779), 'famafrench']  = 47\n",
    "otherControls.loc[(otherControls.sic>=6790) & (otherControls.sic<=6795), 'famafrench']  = 47\n",
    "otherControls.loc[(otherControls.sic>=6798) & (otherControls.sic<=6799), 'famafrench']  = 47\n",
    "\n",
    "otherControls.loc[(otherControls.sic>=4950) & (otherControls.sic<=4961), 'famafrench']  = 48\n",
    "otherControls.loc[(otherControls.sic>=4970) & (otherControls.sic<=4971), 'famafrench']  = 48\n",
    "otherControls.loc[(otherControls.sic>=4990) & (otherControls.sic<=4991), 'famafrench']  = 48\n",
    "\n",
    "print(otherControls.head())"
   ]
  },
  {
   "cell_type": "code",
   "execution_count": 19,
   "metadata": {},
   "outputs": [
    {
     "data": {
      "text/html": [
       "<div>\n",
       "<style scoped>\n",
       "    .dataframe tbody tr th:only-of-type {\n",
       "        vertical-align: middle;\n",
       "    }\n",
       "\n",
       "    .dataframe tbody tr th {\n",
       "        vertical-align: top;\n",
       "    }\n",
       "\n",
       "    .dataframe thead th {\n",
       "        text-align: right;\n",
       "    }\n",
       "</style>\n",
       "<table border=\"1\" class=\"dataframe\">\n",
       "  <thead>\n",
       "    <tr style=\"text-align: right;\">\n",
       "      <th></th>\n",
       "      <th>gvkey</th>\n",
       "      <th>fyearq</th>\n",
       "      <th>fqtr</th>\n",
       "      <th>assetsLagged</th>\n",
       "      <th>netIncomeLagged</th>\n",
       "      <th>roa_lagged</th>\n",
       "      <th>famafrench</th>\n",
       "      <th>year_toMatchOn</th>\n",
       "      <th>earliestYear</th>\n",
       "    </tr>\n",
       "  </thead>\n",
       "  <tbody>\n",
       "    <tr>\n",
       "      <th>0</th>\n",
       "      <td>1000</td>\n",
       "      <td>1966</td>\n",
       "      <td>1.0</td>\n",
       "      <td>NaN</td>\n",
       "      <td>NaN</td>\n",
       "      <td>NaN</td>\n",
       "      <td>15.0</td>\n",
       "      <td>1968</td>\n",
       "      <td>1966</td>\n",
       "    </tr>\n",
       "    <tr>\n",
       "      <th>1</th>\n",
       "      <td>1000</td>\n",
       "      <td>1966</td>\n",
       "      <td>2.0</td>\n",
       "      <td>NaN</td>\n",
       "      <td>NaN</td>\n",
       "      <td>NaN</td>\n",
       "      <td>15.0</td>\n",
       "      <td>1968</td>\n",
       "      <td>1966</td>\n",
       "    </tr>\n",
       "    <tr>\n",
       "      <th>2</th>\n",
       "      <td>1000</td>\n",
       "      <td>1966</td>\n",
       "      <td>3.0</td>\n",
       "      <td>NaN</td>\n",
       "      <td>NaN</td>\n",
       "      <td>NaN</td>\n",
       "      <td>15.0</td>\n",
       "      <td>1968</td>\n",
       "      <td>1966</td>\n",
       "    </tr>\n",
       "    <tr>\n",
       "      <th>3</th>\n",
       "      <td>1000</td>\n",
       "      <td>1966</td>\n",
       "      <td>4.0</td>\n",
       "      <td>NaN</td>\n",
       "      <td>1.013227</td>\n",
       "      <td>NaN</td>\n",
       "      <td>15.0</td>\n",
       "      <td>1968</td>\n",
       "      <td>1966</td>\n",
       "    </tr>\n",
       "    <tr>\n",
       "      <th>4</th>\n",
       "      <td>1000</td>\n",
       "      <td>1967</td>\n",
       "      <td>1.0</td>\n",
       "      <td>NaN</td>\n",
       "      <td>NaN</td>\n",
       "      <td>NaN</td>\n",
       "      <td>15.0</td>\n",
       "      <td>1969</td>\n",
       "      <td>1966</td>\n",
       "    </tr>\n",
       "  </tbody>\n",
       "</table>\n",
       "</div>"
      ],
      "text/plain": [
       "   gvkey  fyearq  fqtr  assetsLagged  netIncomeLagged  roa_lagged  famafrench  \\\n",
       "0   1000    1966   1.0           NaN              NaN         NaN        15.0   \n",
       "1   1000    1966   2.0           NaN              NaN         NaN        15.0   \n",
       "2   1000    1966   3.0           NaN              NaN         NaN        15.0   \n",
       "3   1000    1966   4.0           NaN         1.013227         NaN        15.0   \n",
       "4   1000    1967   1.0           NaN              NaN         NaN        15.0   \n",
       "\n",
       "   year_toMatchOn  earliestYear  \n",
       "0            1968          1966  \n",
       "1            1968          1966  \n",
       "2            1968          1966  \n",
       "3            1968          1966  \n",
       "4            1969          1966  "
      ]
     },
     "execution_count": 19,
     "metadata": {},
     "output_type": "execute_result"
    }
   ],
   "source": [
    "otherControls = otherControls[['gvkey','fyearq','fqtr','assets','netIncome','roa','famafrench']]\n",
    "\n",
    "otherControls.rename(columns = {'assets': 'assetsLagged', 'netIncome': 'netIncomeLagged', 'roa': 'roa_lagged'}, \n",
    "                    inplace = True)\n",
    "\n",
    "otherControls['year_toMatchOn'] = otherControls['fyearq'] + 2 \n",
    "\n",
    "otherControls = otherControls.merge(earliestYear)\n",
    "\n",
    "otherControls.head()"
   ]
  },
  {
   "cell_type": "code",
   "execution_count": 20,
   "metadata": {},
   "outputs": [
    {
     "data": {
      "text/plain": [
       "0.0    300846\n",
       "2.0    300845\n",
       "1.0    300845\n",
       "Name: profitTercile, dtype: int64"
      ]
     },
     "execution_count": 20,
     "metadata": {},
     "output_type": "execute_result"
    }
   ],
   "source": [
    "otherControls = otherControls[otherControls.year_toMatchOn > 1997]\n",
    "\n",
    "otherControls['ageTercile']  = pd.qcut(otherControls['earliestYear'], 3, labels=False)\n",
    "otherControls['sizeTercile'] = pd.qcut(otherControls['assetsLagged'], 3, labels=False)\n",
    "otherControls['profitTercile'] = pd.qcut(otherControls['roa_lagged'], 3, labels=False)\n",
    "\n",
    "otherControls.profitTercile.value_counts()"
   ]
  },
  {
   "cell_type": "code",
   "execution_count": 21,
   "metadata": {},
   "outputs": [
    {
     "data": {
      "text/plain": [
       "2020"
      ]
     },
     "execution_count": 21,
     "metadata": {},
     "output_type": "execute_result"
    }
   ],
   "source": [
    "otherControls.earliestYear.max()"
   ]
  },
  {
   "cell_type": "code",
   "execution_count": 22,
   "metadata": {},
   "outputs": [],
   "source": [
    "otherControls.to_csv('../../data/companyData/otherControls.csv')"
   ]
  },
  {
   "cell_type": "markdown",
   "metadata": {},
   "source": [
    "# Location Data\n",
    "This is not our final source of data. We use it as a complementary source to match the companies, as many of the ompanies have similar address names in IG and CStat, especially at the end of the data (the last address in IG should match with the CStat address, as the cstat addresses are not updated)."
   ]
  },
  {
   "cell_type": "code",
   "execution_count": null,
   "metadata": {},
   "outputs": [],
   "source": [
    "file = \"../../data/cstatLocations.csv\"\n",
    "locations = pd.read_csv(file)[['fyear','gvkey','addzip','state']]\n",
    "\n",
    "\n",
    "locations = locations[~locations.fyear.isna()]\n",
    "locations = locations[~locations.addzip.isna()]\n",
    "print(locations.shape)\n",
    "\n",
    "locations.rename(columns = {'fyear': 'year'},inplace = True)\n",
    "locations.reset_index(inplace = True,drop= True)\n",
    "locations['year'] = locations['year'].astype('int64')\n",
    "locations.drop_duplicates(inplace = True)"
   ]
  },
  {
   "cell_type": "code",
   "execution_count": null,
   "metadata": {},
   "outputs": [],
   "source": [
    "locations.shape"
   ]
  },
  {
   "cell_type": "code",
   "execution_count": null,
   "metadata": {},
   "outputs": [],
   "source": [
    "compustatChanges.head()"
   ]
  },
  {
   "cell_type": "code",
   "execution_count": null,
   "metadata": {},
   "outputs": [],
   "source": [
    "companyHQ = compustatChanges.merge(locations,how='left')"
   ]
  },
  {
   "cell_type": "code",
   "execution_count": null,
   "metadata": {},
   "outputs": [],
   "source": [
    "companyHQ = companyHQ[~companyHQ.addzip.isna()]"
   ]
  },
  {
   "cell_type": "code",
   "execution_count": null,
   "metadata": {},
   "outputs": [],
   "source": [
    "sum(companyHQ.addzip.isna())"
   ]
  },
  {
   "cell_type": "markdown",
   "metadata": {},
   "source": [
    "Merge the zip code information with the change information."
   ]
  },
  {
   "cell_type": "code",
   "execution_count": null,
   "metadata": {},
   "outputs": [],
   "source": [
    "zipFile = \"../../data/zipLatLong.csv\"\n",
    "zips = pd.read_csv(zipFile)\n",
    "'''[['ZIP','LAT','LNG']].rename(columns = {'ZIP': 'addzip'})\n",
    "zips['addzip'] = zips.addzip.astype('object')'''\n",
    "\n",
    "zips = zips['ZIP,LAT,LNG'].str.split(',', expand=True)\n",
    "\n",
    "zips.columns = ['addzip','latitude','longitude']\n",
    "\n",
    "print(zips.head())"
   ]
  },
  {
   "cell_type": "code",
   "execution_count": null,
   "metadata": {},
   "outputs": [],
   "source": [
    "companyHQZips = companyHQ.merge(zips)\n",
    "print(companyHQZips.head(),companyHQZips.shape)"
   ]
  },
  {
   "cell_type": "code",
   "execution_count": null,
   "metadata": {},
   "outputs": [],
   "source": [
    "companyHQZips = companyHQZips.drop_duplicates()"
   ]
  },
  {
   "cell_type": "code",
   "execution_count": null,
   "metadata": {},
   "outputs": [],
   "source": [
    "companyHQZips.to_csv(\"../../data/companyHQZips.csv\")"
   ]
  },
  {
   "cell_type": "markdown",
   "metadata": {},
   "source": [
    "-------------------"
   ]
  },
  {
   "cell_type": "markdown",
   "metadata": {},
   "source": [
    "# Segments Data"
   ]
  },
  {
   "cell_type": "code",
   "execution_count": null,
   "metadata": {},
   "outputs": [],
   "source": [
    "import datetime"
   ]
  },
  {
   "cell_type": "code",
   "execution_count": 9,
   "metadata": {},
   "outputs": [
    {
     "data": {
      "text/html": [
       "<div>\n",
       "<style scoped>\n",
       "    .dataframe tbody tr th:only-of-type {\n",
       "        vertical-align: middle;\n",
       "    }\n",
       "\n",
       "    .dataframe tbody tr th {\n",
       "        vertical-align: top;\n",
       "    }\n",
       "\n",
       "    .dataframe thead th {\n",
       "        text-align: right;\n",
       "    }\n",
       "</style>\n",
       "<table border=\"1\" class=\"dataframe\">\n",
       "  <thead>\n",
       "    <tr style=\"text-align: right;\">\n",
       "      <th></th>\n",
       "      <th>gvkey</th>\n",
       "      <th>cid</th>\n",
       "      <th>cnms</th>\n",
       "      <th>ctype</th>\n",
       "      <th>gareac</th>\n",
       "      <th>gareat</th>\n",
       "      <th>salecs</th>\n",
       "      <th>sid</th>\n",
       "      <th>stype</th>\n",
       "      <th>srcdate</th>\n",
       "      <th>conm</th>\n",
       "      <th>tic</th>\n",
       "      <th>cusip</th>\n",
       "      <th>cik</th>\n",
       "      <th>sic</th>\n",
       "      <th>naics</th>\n",
       "    </tr>\n",
       "  </thead>\n",
       "  <tbody>\n",
       "    <tr>\n",
       "      <th>0</th>\n",
       "      <td>1004</td>\n",
       "      <td>5</td>\n",
       "      <td>Not Reported</td>\n",
       "      <td>COMPANY</td>\n",
       "      <td>NaN</td>\n",
       "      <td>NaN</td>\n",
       "      <td>135.1</td>\n",
       "      <td>7</td>\n",
       "      <td>BUSSEG</td>\n",
       "      <td>19990531</td>\n",
       "      <td>AAR CORP</td>\n",
       "      <td>AIR</td>\n",
       "      <td>361105</td>\n",
       "      <td>1750.0</td>\n",
       "      <td>5080.0</td>\n",
       "      <td>423860.0</td>\n",
       "    </tr>\n",
       "    <tr>\n",
       "      <th>1</th>\n",
       "      <td>1004</td>\n",
       "      <td>7</td>\n",
       "      <td>Not Reported</td>\n",
       "      <td>COMPANY</td>\n",
       "      <td>NaN</td>\n",
       "      <td>NaN</td>\n",
       "      <td>114.0</td>\n",
       "      <td>0</td>\n",
       "      <td>BUSSEG</td>\n",
       "      <td>20000531</td>\n",
       "      <td>AAR CORP</td>\n",
       "      <td>AIR</td>\n",
       "      <td>361105</td>\n",
       "      <td>1750.0</td>\n",
       "      <td>5080.0</td>\n",
       "      <td>423860.0</td>\n",
       "    </tr>\n",
       "    <tr>\n",
       "      <th>2</th>\n",
       "      <td>1004</td>\n",
       "      <td>7</td>\n",
       "      <td>Not Reported</td>\n",
       "      <td>COMPANY</td>\n",
       "      <td>NaN</td>\n",
       "      <td>NaN</td>\n",
       "      <td>57.4</td>\n",
       "      <td>0</td>\n",
       "      <td>BUSSEG</td>\n",
       "      <td>20010531</td>\n",
       "      <td>AAR CORP</td>\n",
       "      <td>AIR</td>\n",
       "      <td>361105</td>\n",
       "      <td>1750.0</td>\n",
       "      <td>5080.0</td>\n",
       "      <td>423860.0</td>\n",
       "    </tr>\n",
       "    <tr>\n",
       "      <th>3</th>\n",
       "      <td>1004</td>\n",
       "      <td>21</td>\n",
       "      <td>Not Reported</td>\n",
       "      <td>COMPANY</td>\n",
       "      <td>NaN</td>\n",
       "      <td>NaN</td>\n",
       "      <td>NaN</td>\n",
       "      <td>0</td>\n",
       "      <td>BUSSEG</td>\n",
       "      <td>20130531</td>\n",
       "      <td>AAR CORP</td>\n",
       "      <td>AIR</td>\n",
       "      <td>361105</td>\n",
       "      <td>1750.0</td>\n",
       "      <td>5080.0</td>\n",
       "      <td>423860.0</td>\n",
       "    </tr>\n",
       "    <tr>\n",
       "      <th>4</th>\n",
       "      <td>1004</td>\n",
       "      <td>21</td>\n",
       "      <td>Not Reported</td>\n",
       "      <td>COMPANY</td>\n",
       "      <td>NaN</td>\n",
       "      <td>NaN</td>\n",
       "      <td>NaN</td>\n",
       "      <td>0</td>\n",
       "      <td>BUSSEG</td>\n",
       "      <td>20140531</td>\n",
       "      <td>AAR CORP</td>\n",
       "      <td>AIR</td>\n",
       "      <td>361105</td>\n",
       "      <td>1750.0</td>\n",
       "      <td>5080.0</td>\n",
       "      <td>423860.0</td>\n",
       "    </tr>\n",
       "  </tbody>\n",
       "</table>\n",
       "</div>"
      ],
      "text/plain": [
       "   gvkey  cid          cnms    ctype gareac gareat  salecs  sid   stype  \\\n",
       "0   1004    5  Not Reported  COMPANY    NaN    NaN   135.1    7  BUSSEG   \n",
       "1   1004    7  Not Reported  COMPANY    NaN    NaN   114.0    0  BUSSEG   \n",
       "2   1004    7  Not Reported  COMPANY    NaN    NaN    57.4    0  BUSSEG   \n",
       "3   1004   21  Not Reported  COMPANY    NaN    NaN     NaN    0  BUSSEG   \n",
       "4   1004   21  Not Reported  COMPANY    NaN    NaN     NaN    0  BUSSEG   \n",
       "\n",
       "    srcdate      conm  tic   cusip     cik     sic     naics  \n",
       "0  19990531  AAR CORP  AIR  361105  1750.0  5080.0  423860.0  \n",
       "1  20000531  AAR CORP  AIR  361105  1750.0  5080.0  423860.0  \n",
       "2  20010531  AAR CORP  AIR  361105  1750.0  5080.0  423860.0  \n",
       "3  20130531  AAR CORP  AIR  361105  1750.0  5080.0  423860.0  \n",
       "4  20140531  AAR CORP  AIR  361105  1750.0  5080.0  423860.0  "
      ]
     },
     "execution_count": 9,
     "metadata": {},
     "output_type": "execute_result"
    }
   ],
   "source": [
    "file = \"../../data/companyData/compustatSegments.csv\"\n",
    "segments = pd.read_csv(file)\n",
    "segments.head()"
   ]
  },
  {
   "cell_type": "code",
   "execution_count": null,
   "metadata": {},
   "outputs": [],
   "source": [
    "segments['srcdate'] = pd.DatetimeIndex(pd.to_datetime(segments['srcdate'], format='%Y%m%d'))\n",
    "segments['year']    = pd.DatetimeIndex(pd.to_datetime(segments['srcdate'], format='%Y%m%d')).year"
   ]
  },
  {
   "cell_type": "code",
   "execution_count": null,
   "metadata": {},
   "outputs": [],
   "source": [
    "segments.head()\n",
    "relats = segments[segments.ctype == 'COMPANY']\n",
    "relats['customerCleaned'] = relats.cnms.str.lower()\n",
    "print(relats.shape)\n",
    "\n",
    "relats = relats[relats.customerCleaned != 'not reported'] \n",
    "print(relats.shape)\n",
    "\n",
    "relats = relats[~relats['customerCleaned'].str.contains('customers',na = True)] \n",
    "print(relats.shape)\n",
    "\n",
    "relats = relats[['year','gvkey','conm','customerCleaned','salecs']].drop_duplicates()"
   ]
  },
  {
   "cell_type": "markdown",
   "metadata": {},
   "source": [
    "There is a linked version of Compustat that has company names merged in.\n",
    "\n",
    "It seems like it has maybe an incomplete representation of the companies in it, but it's not too too bad of the company-company sales here."
   ]
  },
  {
   "cell_type": "code",
   "execution_count": null,
   "metadata": {},
   "outputs": [],
   "source": [
    "relats.head()"
   ]
  },
  {
   "cell_type": "code",
   "execution_count": null,
   "metadata": {},
   "outputs": [],
   "source": [
    "file = \"../../data/companyData/compustatSCLinked.csv\"\n",
    "linked = pd.read_csv(file)\n",
    "\n",
    "linked['year'] = pd.DatetimeIndex(pd.to_datetime(linked['srcdate'], format='%Y%m%d')).year"
   ]
  },
  {
   "cell_type": "code",
   "execution_count": null,
   "metadata": {},
   "outputs": [],
   "source": [
    "linked.salecs.sum()/relats.salecs.sum()\n",
    "\n",
    "# [['cnms','srcdate','conm']].drop_duplicates().shape"
   ]
  },
  {
   "cell_type": "code",
   "execution_count": null,
   "metadata": {},
   "outputs": [],
   "source": [
    "linked.head()"
   ]
  },
  {
   "cell_type": "code",
   "execution_count": null,
   "metadata": {},
   "outputs": [],
   "source": [
    "customers = linked[['year','cgvkey']].drop_duplicatzipes().rename(columns = {'cgvkey': 'gvkey'})\n",
    "suppliers = linked[['year', 'gvkey']].drop_duplicates()"
   ]
  },
  {
   "cell_type": "code",
   "execution_count": null,
   "metadata": {},
   "outputs": [],
   "source": [
    "len(linked[['gvkey']].drop_duplicates())"
   ]
  },
  {
   "cell_type": "code",
   "execution_count": null,
   "metadata": {},
   "outputs": [],
   "source": [
    "def gatherData(df): \n",
    "    df['yearPlus1']  = df['year'] + 1\n",
    "    df['yearPlus2']  = df['year'] + 2\n",
    "    df['yearPlus3']  = df['year'] + 3\n",
    "\n",
    "    df['yearMinus1'] = df['year'] - 1\n",
    "    df['yearMinus2'] = df['year'] - 2\n",
    "    df['yearMinus3'] = df['year'] - 3\n",
    "    \n",
    "    dfMelted = pd.melt(df,id_vars=['year','gvkey'], var_name='variation', value_name='vyear').\\\n",
    "        drop(['variation','year'], axis = 1).rename(columns = {'vyear': 'year'}).drop_duplicates()\n",
    "\n",
    "    return(dfMelted)"
   ]
  },
  {
   "cell_type": "code",
   "execution_count": null,
   "metadata": {},
   "outputs": [],
   "source": [
    "suppDF = gatherData(suppliers)"
   ]
  },
  {
   "cell_type": "code",
   "execution_count": null,
   "metadata": {},
   "outputs": [],
   "source": [
    "custDF = gatherData(customers)"
   ]
  },
  {
   "cell_type": "code",
   "execution_count": null,
   "metadata": {},
   "outputs": [],
   "source": [
    "print(suppDF.head())\n",
    "print(suppDF.shape)\n",
    "\n",
    "print(custDF.head())\n",
    "print(custDF.shape)"
   ]
  },
  {
   "cell_type": "code",
   "execution_count": null,
   "metadata": {},
   "outputs": [],
   "source": [
    "allCompanies = suppDF.append(custDF).drop_duplicates()"
   ]
  },
  {
   "cell_type": "code",
   "execution_count": null,
   "metadata": {},
   "outputs": [],
   "source": [
    "allCompanies.head()"
   ]
  },
  {
   "cell_type": "code",
   "execution_count": null,
   "metadata": {},
   "outputs": [],
   "source": [
    "allCompanies.to_csv('../../data/companyData/allCompanyKeys.csv')"
   ]
  },
  {
   "cell_type": "markdown",
   "metadata": {},
   "source": [
    "## Merge in some of the data"
   ]
  },
  {
   "cell_type": "markdown",
   "metadata": {},
   "source": [
    "Now let's try merging in the other dataframes."
   ]
  },
  {
   "cell_type": "code",
   "execution_count": null,
   "metadata": {},
   "outputs": [],
   "source": [
    "def mergeCompChanges(test):\n",
    "    test = test.merge(compustatChanges, how = 'left')\n",
    "\n",
    "    test.replace([np.inf, -np.inf], np.nan, inplace=True)\n",
    "\n",
    "    test = test.dropna(subset = ['salesChange','incomeChange','revenueChange','costChange','inventoryChange'])\n",
    "\n",
    "    return(test)"
   ]
  },
  {
   "cell_type": "code",
   "execution_count": null,
   "metadata": {},
   "outputs": [],
   "source": [
    "suppChanges = mergeCompChanges(suppDF)\n",
    "custChanges = mergeCompChanges(custDF)"
   ]
  },
  {
   "cell_type": "code",
   "execution_count": null,
   "metadata": {},
   "outputs": [],
   "source": [
    "custChanges.salesChange.describe()"
   ]
  },
  {
   "cell_type": "markdown",
   "metadata": {},
   "source": [
    "We also need to merge in the Infogroup data here."
   ]
  },
  {
   "cell_type": "markdown",
   "metadata": {},
   "source": [
    "# Clean the company information up"
   ]
  },
  {
   "cell_type": "code",
   "execution_count": null,
   "metadata": {},
   "outputs": [],
   "source": [
    "def cleanText(text):\n",
    "    text = text.\\\n",
    "    replace(\" CORP\",\"\").replace(\" CO\",\"\").replace(\" INC\",\"\").\\\n",
    "    replace(\" LTD\",\"\").replace(\" -CL A\",\"\").\\\n",
    "    replace(\" -LP\",\"\").replace(\" LP\",\"\").\\\n",
    "    replace(\"-OLD\",\"\").replace(\" LLC\",\"\").\\\n",
    "    replace(\" -CL B\",\"\").replace(\" -CL i\",\"\").replace(\" -CL\",\"\").\\\n",
    "    replace(\"-REDH\",\"\").replace(\" CP\",\"\").\\\n",
    "    replace(\"-ADR\",\"\").replace(\" PLC\",\"\").lower()\n",
    "    \n",
    "    \n",
    "    return text"
   ]
  },
  {
   "cell_type": "markdown",
   "metadata": {},
   "source": [
    "### Merge in Infogroup data\n",
    "Let's use the gvkey as the unit of analysis."
   ]
  },
  {
   "cell_type": "code",
   "execution_count": null,
   "metadata": {},
   "outputs": [],
   "source": [
    "hq = pd.read_csv('../../data/companyData/hqPublicAll.csv').drop([\"Unnamed: 0\"], axis = 1).\\\n",
    "    rename(columns = {'archive_version_year': 'year',\n",
    "                     'company': 'companyName',\n",
    "                     'ticker': 'tic'})\n",
    "\n",
    "# 'ticker': 'tic',\n",
    "\n",
    "hq['year'] = hq.year.astype('int64')\n",
    "\n",
    "hq.head()"
   ]
  },
  {
   "cell_type": "code",
   "execution_count": null,
   "metadata": {},
   "outputs": [],
   "source": [
    "hq['companyNameClean'] = hq.companyName.apply(cleanText).apply(cleanText).apply(cleanText)"
   ]
  },
  {
   "cell_type": "code",
   "execution_count": null,
   "metadata": {},
   "outputs": [],
   "source": [
    "hq.companyNameClean.head()"
   ]
  },
  {
   "cell_type": "code",
   "execution_count": null,
   "metadata": {},
   "outputs": [],
   "source": [
    "ig_unique = hq[['tic','companyNameClean']].drop_duplicates()\n",
    "ig_unique.shape"
   ]
  },
  {
   "cell_type": "code",
   "execution_count": null,
   "metadata": {},
   "outputs": [],
   "source": [
    "compIDs = suppChanges.append(custChanges)[['companyName','tic','gvkey']].drop_duplicates().reset_index().\\\n",
    "    drop(['index'],axis = 1)\n",
    "compIDs.shape"
   ]
  },
  {
   "cell_type": "code",
   "execution_count": null,
   "metadata": {},
   "outputs": [],
   "source": [
    "compIDs['companyNameClean'] = compIDs.companyName.apply(cleanText)"
   ]
  },
  {
   "cell_type": "markdown",
   "metadata": {},
   "source": [
    "Look for compustat IDs that match infogroup IDs. First off, look to see if company name or tic is in infogroup names or tickers."
   ]
  },
  {
   "cell_type": "code",
   "execution_count": null,
   "metadata": {},
   "outputs": [],
   "source": [
    "compIDs.head()"
   ]
  },
  {
   "cell_type": "code",
   "execution_count": null,
   "metadata": {},
   "outputs": [],
   "source": [
    "compIDs['hasMatch'] = (compIDs.companyNameClean.isin(ig_unique.companyNameClean) | compIDs.tic.isin(ig_unique.tic))\n",
    "compIDsNeedsMatch   = compIDs[~compIDs.hasMatch]\n",
    "compIDsNeedsMatch.shape"
   ]
  },
  {
   "cell_type": "code",
   "execution_count": null,
   "metadata": {},
   "outputs": [],
   "source": [
    "compIDs.companyNameClean"
   ]
  },
  {
   "cell_type": "code",
   "execution_count": null,
   "metadata": {},
   "outputs": [],
   "source": [
    "def closestName(text):\n",
    "    matchOrder = process.extract(text, ig_unique.companyNameClean, \n",
    "                               scorer=fuzz.token_sort_ratio)\n",
    "    return(matchOrder)\n"
   ]
  },
  {
   "cell_type": "code",
   "execution_count": null,
   "metadata": {},
   "outputs": [],
   "source": [
    "start = time.time()\n",
    "closestNames = compIDsNeedsMatch.companyNameClean[0:50].apply(closestName)\n",
    "\n",
    "time.time() - start"
   ]
  },
  {
   "cell_type": "code",
   "execution_count": null,
   "metadata": {},
   "outputs": [],
   "source": [
    "compIDsNeedsMatch.companyNameClean[0:50]"
   ]
  },
  {
   "cell_type": "code",
   "execution_count": null,
   "metadata": {},
   "outputs": [],
   "source": [
    "closestNames"
   ]
  },
  {
   "cell_type": "code",
   "execution_count": null,
   "metadata": {},
   "outputs": [],
   "source": [
    "compIDsNeedsMatch.to_csv('../../data/companyData/matchesNeeded.csv')"
   ]
  },
  {
   "cell_type": "code",
   "execution_count": null,
   "metadata": {},
   "outputs": [],
   "source": [
    "closestNames.to_csv('../../data/companyData/closestNames.csv')"
   ]
  },
  {
   "cell_type": "markdown",
   "metadata": {},
   "source": [
    "# Stock price data"
   ]
  },
  {
   "cell_type": "code",
   "execution_count": null,
   "metadata": {},
   "outputs": [],
   "source": [
    "file = \"../../data/crsp_raw.csv\"\n",
    "raw = pd.read_csv(file, encoding = 'unicode_escape')"
   ]
  },
  {
   "cell_type": "code",
   "execution_count": null,
   "metadata": {},
   "outputs": [],
   "source": [
    "raw.head()"
   ]
  },
  {
   "cell_type": "markdown",
   "metadata": {},
   "source": [
    "Let's follow Evan's crsp cleaning and linking process.\n",
    "\n",
    "1. Drop firms not traded on NYSE or NASDAQ."
   ]
  },
  {
   "cell_type": "code",
   "execution_count": null,
   "metadata": {},
   "outputs": [],
   "source": [
    "other_exch = raw[ (raw['PRIMEXCH'] != 'Q') & (raw['PRIMEXCH'] != 'N') ].index\n",
    "raw.drop(other_exch, inplace=True)\n",
    "raw.shape"
   ]
  },
  {
   "cell_type": "markdown",
   "metadata": {},
   "source": [
    "2. Drop entries with missing return or volume information."
   ]
  },
  {
   "cell_type": "code",
   "execution_count": null,
   "metadata": {},
   "outputs": [],
   "source": [
    "raw.dropna(subset=['VOL', 'RET','date'],inplace=True)\n",
    "raw['VOL'] = raw['VOL'].astype('int')\n",
    "raw.drop(raw[raw['RET']=='C'].index,inplace=True)\n",
    "raw['RET'] = raw['RET'].astype('float')\n",
    "raw['date'] = raw['date'].astype('int')"
   ]
  },
  {
   "cell_type": "markdown",
   "metadata": {},
   "source": [
    "3. Drop tickers with average daily trading volume less than 100K shares."
   ]
  },
  {
   "cell_type": "code",
   "execution_count": null,
   "metadata": {},
   "outputs": [],
   "source": [
    "adv = raw[['VOL','TICKER']].groupby(['TICKER']).mean()\n",
    "low_vol = adv.drop(adv[adv['VOL']>=100000].index)\n",
    "low_vol_index = raw[raw['TICKER'].isin(low_vol.index)].index\n",
    "raw.drop(low_vol_index,inplace=True)\n",
    "raw.shape"
   ]
  },
  {
   "cell_type": "markdown",
   "metadata": {},
   "source": [
    "4. Drop tickers that traded for less than 20% of the period"
   ]
  },
  {
   "cell_type": "code",
   "execution_count": null,
   "metadata": {},
   "outputs": [],
   "source": [
    "ndays = len(raw.date.unique())\n",
    "obs = raw['TICKER'].value_counts()\n",
    "rare_obs = obs[obs<0.2*ndays]\n",
    "rare_index = raw[raw['TICKER'].isin(rare_obs.index)].index\n",
    "raw.drop(rare_index,inplace=True)\n",
    "raw.shape"
   ]
  },
  {
   "cell_type": "code",
   "execution_count": null,
   "metadata": {},
   "outputs": [],
   "source": [
    "raw = raw.drop_duplicates()"
   ]
  },
  {
   "cell_type": "code",
   "execution_count": null,
   "metadata": {},
   "outputs": [],
   "source": [
    "raw.shape"
   ]
  },
  {
   "cell_type": "markdown",
   "metadata": {},
   "source": [
    "Merge in GVKEY information for linking with compustat.\n",
    "\n",
    "gv_cik will come in hand with another merge maybe; but to get to compustat, looks like we just need gvkey - permco."
   ]
  },
  {
   "cell_type": "markdown",
   "metadata": {},
   "source": [
    "Some of the keys seem to be used twice. Let's see if they're re-used when a company has gone out of business."
   ]
  },
  {
   "cell_type": "code",
   "execution_count": null,
   "metadata": {},
   "outputs": [],
   "source": [
    "# gv_cik = pd.read_csv(\"data/cik_gvkey.csv\",dtype={'cik':str})[['cik','gvkey']]\n",
    "gv_permco = pd.read_csv(\"../../data/cik_permco.csv\",dtype={'cik':str})\n",
    "# [['gvkey','LPERMCO']].rename(columns = {'LPERMCO': 'PERMCO'}).drop_duplicates()\n",
    "\n",
    "gv_permco.loc[gv_permco.LINKENDDT == 'E', 'LINKENDDT'] = '20210101'\n",
    "gv_permco['existsCurrently'] = pd.DatetimeIndex(pd.to_datetime(gv_permco.LINKENDDT.astype(str), format='%Y%m%d')).year\n",
    "\n",
    "gv_permco = gv_permco[gv_permco.existsCurrently > 2010]\n",
    "print(gv_permco.shape)\n",
    "print(gv_permco.head())\n",
    "\n",
    "gv_permco = gv_permco[['gvkey','LPERMCO','conm']].rename(columns = {'LPERMCO': 'PERMCO'}).drop_duplicates()"
   ]
  },
  {
   "cell_type": "code",
   "execution_count": null,
   "metadata": {},
   "outputs": [],
   "source": [
    "for company in gv_permco[gv_permco.PERMCO.duplicated()].conm:\n",
    "    print(company)"
   ]
  },
  {
   "cell_type": "markdown",
   "metadata": {},
   "source": [
    "Drop the duplicated entries. We may want to revisit this later on."
   ]
  },
  {
   "cell_type": "code",
   "execution_count": null,
   "metadata": {},
   "outputs": [],
   "source": [
    "gv_permco = gv_permco[~gv_permco.PERMCO.isin(list(gv_permco.PERMCO[gv_permco.PERMCO.duplicated()]))]"
   ]
  },
  {
   "cell_type": "markdown",
   "metadata": {},
   "source": [
    "Now just merge the raw return information with this company information so we can link everything."
   ]
  },
  {
   "cell_type": "code",
   "execution_count": null,
   "metadata": {},
   "outputs": [],
   "source": [
    "rawMergeable = pd.merge(raw,gv_permco,on='PERMCO',how = 'left')\n",
    "rawMergeable.shape"
   ]
  },
  {
   "cell_type": "code",
   "execution_count": null,
   "metadata": {},
   "outputs": [],
   "source": [
    "raw.head()"
   ]
  },
  {
   "cell_type": "code",
   "execution_count": null,
   "metadata": {},
   "outputs": [],
   "source": [
    "rawMergeable = rawMergeable.drop(['RETX'],axis = 1)\n",
    "rawMergeable['date'] = pd.to_datetime(rawMergeable['date'].astype(str), format='%Y%m%d')\n",
    "rawMergeable['year'] = pd.DatetimeIndex(rawMergeable['date']).year\n",
    "rawMergeable.head()"
   ]
  },
  {
   "cell_type": "code",
   "execution_count": null,
   "metadata": {},
   "outputs": [],
   "source": [
    "outfile =  '../../data/stockReturns.pkl'\n",
    "with open(outfile, 'wb') as pickle_file:\n",
    "    pickle.dump(rawMergeable, pickle_file)"
   ]
  },
  {
   "cell_type": "markdown",
   "metadata": {},
   "source": [
    "----------------------------------------------"
   ]
  },
  {
   "cell_type": "code",
   "execution_count": null,
   "metadata": {},
   "outputs": [],
   "source": [
    "rawMergeable.year.value_counts()"
   ]
  },
  {
   "cell_type": "code",
   "execution_count": null,
   "metadata": {},
   "outputs": [],
   "source": [
    "crsp2010s = crsp[['date','year','PERMNO','COMNAM','PRC']]"
   ]
  },
  {
   "cell_type": "code",
   "execution_count": null,
   "metadata": {},
   "outputs": [],
   "source": [
    "sum(crsp.RET == crsp.RETX)"
   ]
  }
 ],
 "metadata": {
  "kernelspec": {
   "display_name": "Python 3",
   "language": "python",
   "name": "python3"
  },
  "language_info": {
   "codemirror_mode": {
    "name": "ipython",
    "version": 3
   },
   "file_extension": ".py",
   "mimetype": "text/x-python",
   "name": "python",
   "nbconvert_exporter": "python",
   "pygments_lexer": "ipython3",
   "version": "3.7.4"
  }
 },
 "nbformat": 4,
 "nbformat_minor": 2
}
