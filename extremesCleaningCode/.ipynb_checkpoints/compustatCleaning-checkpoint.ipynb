{
 "cells": [
  {
   "cell_type": "markdown",
   "metadata": {},
   "source": [
    "# Cleaning File\n",
    "Get the basic company information here."
   ]
  },
  {
   "cell_type": "code",
   "execution_count": 3,
   "metadata": {},
   "outputs": [],
   "source": [
    "import pickle\n",
    "import pandas as pd\n",
    "import matplotlib\n",
    "import os\n",
    "import re\n",
    "\n",
    "import collections\n",
    "import datetime\n",
    "import time\n",
    "\n",
    "import geopandas as gpd\n",
    "\n",
    "import numpy as np\n",
    "\n",
    "from difflib import get_close_matches\n",
    "\n",
    "from fuzzywuzzy import process\n",
    "from fuzzywuzzy import fuzz"
   ]
  },
  {
   "cell_type": "code",
   "execution_count": 17,
   "metadata": {},
   "outputs": [],
   "source": [
    "file = \"../../data/compustat_2010s.csv\"\n",
    "compustat = pd.read_csv(file, encoding = 'unicode_escape')"
   ]
  },
  {
   "cell_type": "code",
   "execution_count": 487,
   "metadata": {},
   "outputs": [
    {
     "data": {
      "text/html": [
       "<div>\n",
       "<style scoped>\n",
       "    .dataframe tbody tr th:only-of-type {\n",
       "        vertical-align: middle;\n",
       "    }\n",
       "\n",
       "    .dataframe tbody tr th {\n",
       "        vertical-align: top;\n",
       "    }\n",
       "\n",
       "    .dataframe thead th {\n",
       "        text-align: right;\n",
       "    }\n",
       "</style>\n",
       "<table border=\"1\" class=\"dataframe\">\n",
       "  <thead>\n",
       "    <tr style=\"text-align: right;\">\n",
       "      <th></th>\n",
       "      <th>year</th>\n",
       "      <th>qtr</th>\n",
       "      <th>gvkey</th>\n",
       "      <th>companyName</th>\n",
       "      <th>tic</th>\n",
       "      <th>curcdq</th>\n",
       "      <th>netIncome</th>\n",
       "      <th>totalRevenue</th>\n",
       "      <th>costGoodsSold</th>\n",
       "      <th>totalInv</th>\n",
       "      <th>sales</th>\n",
       "    </tr>\n",
       "  </thead>\n",
       "  <tbody>\n",
       "    <tr>\n",
       "      <th>0</th>\n",
       "      <td>1975</td>\n",
       "      <td>1.0</td>\n",
       "      <td>1000</td>\n",
       "      <td>A &amp; E PLASTIK PAK INC</td>\n",
       "      <td>AE.2</td>\n",
       "      <td>USD</td>\n",
       "      <td>0.190</td>\n",
       "      <td>11.295</td>\n",
       "      <td>NaN</td>\n",
       "      <td>NaN</td>\n",
       "      <td>11.295</td>\n",
       "    </tr>\n",
       "    <tr>\n",
       "      <th>1</th>\n",
       "      <td>1975</td>\n",
       "      <td>2.0</td>\n",
       "      <td>1000</td>\n",
       "      <td>A &amp; E PLASTIK PAK INC</td>\n",
       "      <td>AE.2</td>\n",
       "      <td>USD</td>\n",
       "      <td>0.875</td>\n",
       "      <td>14.441</td>\n",
       "      <td>NaN</td>\n",
       "      <td>NaN</td>\n",
       "      <td>14.441</td>\n",
       "    </tr>\n",
       "    <tr>\n",
       "      <th>2</th>\n",
       "      <td>1975</td>\n",
       "      <td>3.0</td>\n",
       "      <td>1000</td>\n",
       "      <td>A &amp; E PLASTIK PAK INC</td>\n",
       "      <td>AE.2</td>\n",
       "      <td>USD</td>\n",
       "      <td>0.613</td>\n",
       "      <td>13.122</td>\n",
       "      <td>NaN</td>\n",
       "      <td>NaN</td>\n",
       "      <td>13.122</td>\n",
       "    </tr>\n",
       "    <tr>\n",
       "      <th>3</th>\n",
       "      <td>1975</td>\n",
       "      <td>4.0</td>\n",
       "      <td>1000</td>\n",
       "      <td>A &amp; E PLASTIK PAK INC</td>\n",
       "      <td>AE.2</td>\n",
       "      <td>USD</td>\n",
       "      <td>0.606</td>\n",
       "      <td>12.334</td>\n",
       "      <td>35.237</td>\n",
       "      <td>6.227</td>\n",
       "      <td>12.334</td>\n",
       "    </tr>\n",
       "    <tr>\n",
       "      <th>4</th>\n",
       "      <td>1976</td>\n",
       "      <td>1.0</td>\n",
       "      <td>1000</td>\n",
       "      <td>A &amp; E PLASTIK PAK INC</td>\n",
       "      <td>AE.2</td>\n",
       "      <td>USD</td>\n",
       "      <td>0.726</td>\n",
       "      <td>16.226</td>\n",
       "      <td>11.138</td>\n",
       "      <td>6.369</td>\n",
       "      <td>16.226</td>\n",
       "    </tr>\n",
       "  </tbody>\n",
       "</table>\n",
       "</div>"
      ],
      "text/plain": [
       "   year  qtr  gvkey            companyName   tic curcdq  netIncome  \\\n",
       "0  1975  1.0   1000  A & E PLASTIK PAK INC  AE.2    USD      0.190   \n",
       "1  1975  2.0   1000  A & E PLASTIK PAK INC  AE.2    USD      0.875   \n",
       "2  1975  3.0   1000  A & E PLASTIK PAK INC  AE.2    USD      0.613   \n",
       "3  1975  4.0   1000  A & E PLASTIK PAK INC  AE.2    USD      0.606   \n",
       "4  1976  1.0   1000  A & E PLASTIK PAK INC  AE.2    USD      0.726   \n",
       "\n",
       "   totalRevenue  costGoodsSold  totalInv   sales  \n",
       "0        11.295            NaN       NaN  11.295  \n",
       "1        14.441            NaN       NaN  14.441  \n",
       "2        13.122            NaN       NaN  13.122  \n",
       "3        12.334         35.237     6.227  12.334  \n",
       "4        16.226         11.138     6.369  16.226  "
      ]
     },
     "execution_count": 487,
     "metadata": {},
     "output_type": "execute_result"
    }
   ],
   "source": [
    "compustat.head()"
   ]
  },
  {
   "cell_type": "code",
   "execution_count": 2,
   "metadata": {},
   "outputs": [],
   "source": [
    "file = \"../../data/companyData/compustatAll.csv\"\n",
    "compustat = pd.read_csv(file, encoding = 'unicode_escape')"
   ]
  },
  {
   "cell_type": "markdown",
   "metadata": {},
   "source": [
    "Seems like we've forgotten the naics code here."
   ]
  },
  {
   "cell_type": "code",
   "execution_count": 3,
   "metadata": {},
   "outputs": [
    {
     "data": {
      "text/plain": [
       "Index(['gvkey', 'datadate', 'fyearq', 'fqtr', 'indfmt', 'consol', 'popsrc',\n",
       "       'datafmt', 'tic', 'cusip', 'conm', 'curcdq', 'curncdq', 'currtrq',\n",
       "       'datacqtr', 'datafqtr', 'cogsq', 'invtq', 'niq', 'revtq', 'saleq',\n",
       "       'cik', 'costat'],\n",
       "      dtype='object')"
      ]
     },
     "execution_count": 3,
     "metadata": {},
     "output_type": "execute_result"
    }
   ],
   "source": [
    "compustat.columns"
   ]
  },
  {
   "cell_type": "code",
   "execution_count": 4,
   "metadata": {
    "scrolled": true
   },
   "outputs": [
    {
     "data": {
      "text/html": [
       "<div>\n",
       "<style scoped>\n",
       "    .dataframe tbody tr th:only-of-type {\n",
       "        vertical-align: middle;\n",
       "    }\n",
       "\n",
       "    .dataframe tbody tr th {\n",
       "        vertical-align: top;\n",
       "    }\n",
       "\n",
       "    .dataframe thead th {\n",
       "        text-align: right;\n",
       "    }\n",
       "</style>\n",
       "<table border=\"1\" class=\"dataframe\">\n",
       "  <thead>\n",
       "    <tr style=\"text-align: right;\">\n",
       "      <th></th>\n",
       "      <th>fyearq</th>\n",
       "      <th>fqtr</th>\n",
       "      <th>gvkey</th>\n",
       "      <th>conm</th>\n",
       "      <th>tic</th>\n",
       "      <th>curcdq</th>\n",
       "      <th>niq</th>\n",
       "      <th>revtq</th>\n",
       "      <th>cogsq</th>\n",
       "      <th>invtq</th>\n",
       "      <th>saleq</th>\n",
       "    </tr>\n",
       "  </thead>\n",
       "  <tbody>\n",
       "    <tr>\n",
       "      <th>0</th>\n",
       "      <td>1975</td>\n",
       "      <td>1.0</td>\n",
       "      <td>1000</td>\n",
       "      <td>A &amp; E PLASTIK PAK INC</td>\n",
       "      <td>AE.2</td>\n",
       "      <td>USD</td>\n",
       "      <td>0.190</td>\n",
       "      <td>11.295</td>\n",
       "      <td>NaN</td>\n",
       "      <td>NaN</td>\n",
       "      <td>11.295</td>\n",
       "    </tr>\n",
       "    <tr>\n",
       "      <th>1</th>\n",
       "      <td>1975</td>\n",
       "      <td>2.0</td>\n",
       "      <td>1000</td>\n",
       "      <td>A &amp; E PLASTIK PAK INC</td>\n",
       "      <td>AE.2</td>\n",
       "      <td>USD</td>\n",
       "      <td>0.875</td>\n",
       "      <td>14.441</td>\n",
       "      <td>NaN</td>\n",
       "      <td>NaN</td>\n",
       "      <td>14.441</td>\n",
       "    </tr>\n",
       "    <tr>\n",
       "      <th>2</th>\n",
       "      <td>1975</td>\n",
       "      <td>3.0</td>\n",
       "      <td>1000</td>\n",
       "      <td>A &amp; E PLASTIK PAK INC</td>\n",
       "      <td>AE.2</td>\n",
       "      <td>USD</td>\n",
       "      <td>0.613</td>\n",
       "      <td>13.122</td>\n",
       "      <td>NaN</td>\n",
       "      <td>NaN</td>\n",
       "      <td>13.122</td>\n",
       "    </tr>\n",
       "    <tr>\n",
       "      <th>3</th>\n",
       "      <td>1975</td>\n",
       "      <td>4.0</td>\n",
       "      <td>1000</td>\n",
       "      <td>A &amp; E PLASTIK PAK INC</td>\n",
       "      <td>AE.2</td>\n",
       "      <td>USD</td>\n",
       "      <td>0.606</td>\n",
       "      <td>12.334</td>\n",
       "      <td>35.237</td>\n",
       "      <td>6.227</td>\n",
       "      <td>12.334</td>\n",
       "    </tr>\n",
       "    <tr>\n",
       "      <th>4</th>\n",
       "      <td>1976</td>\n",
       "      <td>1.0</td>\n",
       "      <td>1000</td>\n",
       "      <td>A &amp; E PLASTIK PAK INC</td>\n",
       "      <td>AE.2</td>\n",
       "      <td>USD</td>\n",
       "      <td>0.726</td>\n",
       "      <td>16.226</td>\n",
       "      <td>11.138</td>\n",
       "      <td>6.369</td>\n",
       "      <td>16.226</td>\n",
       "    </tr>\n",
       "  </tbody>\n",
       "</table>\n",
       "</div>"
      ],
      "text/plain": [
       "   fyearq  fqtr  gvkey                   conm   tic curcdq    niq   revtq  \\\n",
       "0    1975   1.0   1000  A & E PLASTIK PAK INC  AE.2    USD  0.190  11.295   \n",
       "1    1975   2.0   1000  A & E PLASTIK PAK INC  AE.2    USD  0.875  14.441   \n",
       "2    1975   3.0   1000  A & E PLASTIK PAK INC  AE.2    USD  0.613  13.122   \n",
       "3    1975   4.0   1000  A & E PLASTIK PAK INC  AE.2    USD  0.606  12.334   \n",
       "4    1976   1.0   1000  A & E PLASTIK PAK INC  AE.2    USD  0.726  16.226   \n",
       "\n",
       "    cogsq  invtq   saleq  \n",
       "0     NaN    NaN  11.295  \n",
       "1     NaN    NaN  14.441  \n",
       "2     NaN    NaN  13.122  \n",
       "3  35.237  6.227  12.334  \n",
       "4  11.138  6.369  16.226  "
      ]
     },
     "execution_count": 4,
     "metadata": {},
     "output_type": "execute_result"
    }
   ],
   "source": [
    "'''compustat = compustat[(compustat.fyearq > 2009) & (compustat.fyearq < 2020)].reset_index()[['fyearq', 'fqtr', 'gvkey', 'conm', 'tic', 'naics','curcdq',\n",
    "           'niq', 'revtq', 'cogsq', 'invtq']]'''\n",
    "\n",
    "compustat = compustat[['fyearq', 'fqtr', 'gvkey', 'conm', 'tic','curcdq',\n",
    "           'niq', 'revtq', 'cogsq', 'invtq','saleq']]\n",
    "compustat.head()"
   ]
  },
  {
   "cell_type": "code",
   "execution_count": 5,
   "metadata": {},
   "outputs": [],
   "source": [
    "compustat.rename(columns = {'fyearq':'year',\n",
    "                            'fqtr':  'qtr',\n",
    "                            'chq':   'cash', \n",
    "                            'conm':  'companyName',\n",
    "                            'niq':   'netIncome',\n",
    "                            'revtq': 'totalRevenue',\n",
    "                            'cogsq': 'costGoodsSold',\n",
    "                            'invtq': 'totalInv',\n",
    "                            'saleq': 'sales'\n",
    "                           },\n",
    "                 inplace = True)"
   ]
  },
  {
   "cell_type": "code",
   "execution_count": 6,
   "metadata": {},
   "outputs": [
    {
     "data": {
      "text/html": [
       "<div>\n",
       "<style scoped>\n",
       "    .dataframe tbody tr th:only-of-type {\n",
       "        vertical-align: middle;\n",
       "    }\n",
       "\n",
       "    .dataframe tbody tr th {\n",
       "        vertical-align: top;\n",
       "    }\n",
       "\n",
       "    .dataframe thead th {\n",
       "        text-align: right;\n",
       "    }\n",
       "</style>\n",
       "<table border=\"1\" class=\"dataframe\">\n",
       "  <thead>\n",
       "    <tr style=\"text-align: right;\">\n",
       "      <th></th>\n",
       "      <th>year</th>\n",
       "      <th>qtr</th>\n",
       "      <th>gvkey</th>\n",
       "      <th>companyName</th>\n",
       "      <th>tic</th>\n",
       "      <th>curcdq</th>\n",
       "      <th>netIncome</th>\n",
       "      <th>totalRevenue</th>\n",
       "      <th>costGoodsSold</th>\n",
       "      <th>totalInv</th>\n",
       "      <th>sales</th>\n",
       "    </tr>\n",
       "  </thead>\n",
       "  <tbody>\n",
       "    <tr>\n",
       "      <th>0</th>\n",
       "      <td>1975</td>\n",
       "      <td>1.0</td>\n",
       "      <td>1000</td>\n",
       "      <td>A &amp; E PLASTIK PAK INC</td>\n",
       "      <td>AE.2</td>\n",
       "      <td>USD</td>\n",
       "      <td>0.190</td>\n",
       "      <td>11.295</td>\n",
       "      <td>NaN</td>\n",
       "      <td>NaN</td>\n",
       "      <td>11.295</td>\n",
       "    </tr>\n",
       "    <tr>\n",
       "      <th>1</th>\n",
       "      <td>1975</td>\n",
       "      <td>2.0</td>\n",
       "      <td>1000</td>\n",
       "      <td>A &amp; E PLASTIK PAK INC</td>\n",
       "      <td>AE.2</td>\n",
       "      <td>USD</td>\n",
       "      <td>0.875</td>\n",
       "      <td>14.441</td>\n",
       "      <td>NaN</td>\n",
       "      <td>NaN</td>\n",
       "      <td>14.441</td>\n",
       "    </tr>\n",
       "    <tr>\n",
       "      <th>2</th>\n",
       "      <td>1975</td>\n",
       "      <td>3.0</td>\n",
       "      <td>1000</td>\n",
       "      <td>A &amp; E PLASTIK PAK INC</td>\n",
       "      <td>AE.2</td>\n",
       "      <td>USD</td>\n",
       "      <td>0.613</td>\n",
       "      <td>13.122</td>\n",
       "      <td>NaN</td>\n",
       "      <td>NaN</td>\n",
       "      <td>13.122</td>\n",
       "    </tr>\n",
       "    <tr>\n",
       "      <th>3</th>\n",
       "      <td>1975</td>\n",
       "      <td>4.0</td>\n",
       "      <td>1000</td>\n",
       "      <td>A &amp; E PLASTIK PAK INC</td>\n",
       "      <td>AE.2</td>\n",
       "      <td>USD</td>\n",
       "      <td>0.606</td>\n",
       "      <td>12.334</td>\n",
       "      <td>35.237</td>\n",
       "      <td>6.227</td>\n",
       "      <td>12.334</td>\n",
       "    </tr>\n",
       "    <tr>\n",
       "      <th>4</th>\n",
       "      <td>1976</td>\n",
       "      <td>1.0</td>\n",
       "      <td>1000</td>\n",
       "      <td>A &amp; E PLASTIK PAK INC</td>\n",
       "      <td>AE.2</td>\n",
       "      <td>USD</td>\n",
       "      <td>0.726</td>\n",
       "      <td>16.226</td>\n",
       "      <td>11.138</td>\n",
       "      <td>6.369</td>\n",
       "      <td>16.226</td>\n",
       "    </tr>\n",
       "  </tbody>\n",
       "</table>\n",
       "</div>"
      ],
      "text/plain": [
       "   year  qtr  gvkey            companyName   tic curcdq  netIncome  \\\n",
       "0  1975  1.0   1000  A & E PLASTIK PAK INC  AE.2    USD      0.190   \n",
       "1  1975  2.0   1000  A & E PLASTIK PAK INC  AE.2    USD      0.875   \n",
       "2  1975  3.0   1000  A & E PLASTIK PAK INC  AE.2    USD      0.613   \n",
       "3  1975  4.0   1000  A & E PLASTIK PAK INC  AE.2    USD      0.606   \n",
       "4  1976  1.0   1000  A & E PLASTIK PAK INC  AE.2    USD      0.726   \n",
       "\n",
       "   totalRevenue  costGoodsSold  totalInv   sales  \n",
       "0        11.295            NaN       NaN  11.295  \n",
       "1        14.441            NaN       NaN  14.441  \n",
       "2        13.122            NaN       NaN  13.122  \n",
       "3        12.334         35.237     6.227  12.334  \n",
       "4        16.226         11.138     6.369  16.226  "
      ]
     },
     "execution_count": 6,
     "metadata": {},
     "output_type": "execute_result"
    }
   ],
   "source": [
    "compustat.head()"
   ]
  },
  {
   "cell_type": "code",
   "execution_count": 7,
   "metadata": {},
   "outputs": [
    {
     "data": {
      "text/plain": [
       "USD    1144411\n",
       "CAD      93998\n",
       "Name: curcdq, dtype: int64"
      ]
     },
     "execution_count": 7,
     "metadata": {},
     "output_type": "execute_result"
    }
   ],
   "source": [
    "compustat.curcdq.value_counts()"
   ]
  },
  {
   "cell_type": "code",
   "execution_count": 8,
   "metadata": {},
   "outputs": [],
   "source": [
    "compustatNext = compustat.copy()\n",
    "\n",
    "compustatNext['year'] -= 1\n",
    "compustatNext.rename(columns = {'sales':'salesNext',\n",
    "                                'netIncome':'netIncomeNext',\n",
    "                               'totalRevenue':'totalRevenueNext',\n",
    "                               'costGoodsSold':'costGoodsSoldNext',\n",
    "                               'totalInv':'totalInvNext'\n",
    "                           },\n",
    "                 inplace = True)"
   ]
  },
  {
   "cell_type": "code",
   "execution_count": 9,
   "metadata": {},
   "outputs": [
    {
     "data": {
      "text/html": [
       "<div>\n",
       "<style scoped>\n",
       "    .dataframe tbody tr th:only-of-type {\n",
       "        vertical-align: middle;\n",
       "    }\n",
       "\n",
       "    .dataframe tbody tr th {\n",
       "        vertical-align: top;\n",
       "    }\n",
       "\n",
       "    .dataframe thead th {\n",
       "        text-align: right;\n",
       "    }\n",
       "</style>\n",
       "<table border=\"1\" class=\"dataframe\">\n",
       "  <thead>\n",
       "    <tr style=\"text-align: right;\">\n",
       "      <th></th>\n",
       "      <th>year</th>\n",
       "      <th>qtr</th>\n",
       "      <th>gvkey</th>\n",
       "      <th>companyName</th>\n",
       "      <th>tic</th>\n",
       "      <th>curcdq</th>\n",
       "      <th>netIncomeNext</th>\n",
       "      <th>totalRevenueNext</th>\n",
       "      <th>costGoodsSoldNext</th>\n",
       "      <th>totalInvNext</th>\n",
       "      <th>salesNext</th>\n",
       "    </tr>\n",
       "  </thead>\n",
       "  <tbody>\n",
       "    <tr>\n",
       "      <th>0</th>\n",
       "      <td>1974</td>\n",
       "      <td>1.0</td>\n",
       "      <td>1000</td>\n",
       "      <td>A &amp; E PLASTIK PAK INC</td>\n",
       "      <td>AE.2</td>\n",
       "      <td>USD</td>\n",
       "      <td>0.190</td>\n",
       "      <td>11.295</td>\n",
       "      <td>NaN</td>\n",
       "      <td>NaN</td>\n",
       "      <td>11.295</td>\n",
       "    </tr>\n",
       "    <tr>\n",
       "      <th>1</th>\n",
       "      <td>1974</td>\n",
       "      <td>2.0</td>\n",
       "      <td>1000</td>\n",
       "      <td>A &amp; E PLASTIK PAK INC</td>\n",
       "      <td>AE.2</td>\n",
       "      <td>USD</td>\n",
       "      <td>0.875</td>\n",
       "      <td>14.441</td>\n",
       "      <td>NaN</td>\n",
       "      <td>NaN</td>\n",
       "      <td>14.441</td>\n",
       "    </tr>\n",
       "    <tr>\n",
       "      <th>2</th>\n",
       "      <td>1974</td>\n",
       "      <td>3.0</td>\n",
       "      <td>1000</td>\n",
       "      <td>A &amp; E PLASTIK PAK INC</td>\n",
       "      <td>AE.2</td>\n",
       "      <td>USD</td>\n",
       "      <td>0.613</td>\n",
       "      <td>13.122</td>\n",
       "      <td>NaN</td>\n",
       "      <td>NaN</td>\n",
       "      <td>13.122</td>\n",
       "    </tr>\n",
       "    <tr>\n",
       "      <th>3</th>\n",
       "      <td>1974</td>\n",
       "      <td>4.0</td>\n",
       "      <td>1000</td>\n",
       "      <td>A &amp; E PLASTIK PAK INC</td>\n",
       "      <td>AE.2</td>\n",
       "      <td>USD</td>\n",
       "      <td>0.606</td>\n",
       "      <td>12.334</td>\n",
       "      <td>35.237</td>\n",
       "      <td>6.227</td>\n",
       "      <td>12.334</td>\n",
       "    </tr>\n",
       "    <tr>\n",
       "      <th>4</th>\n",
       "      <td>1975</td>\n",
       "      <td>1.0</td>\n",
       "      <td>1000</td>\n",
       "      <td>A &amp; E PLASTIK PAK INC</td>\n",
       "      <td>AE.2</td>\n",
       "      <td>USD</td>\n",
       "      <td>0.726</td>\n",
       "      <td>16.226</td>\n",
       "      <td>11.138</td>\n",
       "      <td>6.369</td>\n",
       "      <td>16.226</td>\n",
       "    </tr>\n",
       "  </tbody>\n",
       "</table>\n",
       "</div>"
      ],
      "text/plain": [
       "   year  qtr  gvkey            companyName   tic curcdq  netIncomeNext  \\\n",
       "0  1974  1.0   1000  A & E PLASTIK PAK INC  AE.2    USD          0.190   \n",
       "1  1974  2.0   1000  A & E PLASTIK PAK INC  AE.2    USD          0.875   \n",
       "2  1974  3.0   1000  A & E PLASTIK PAK INC  AE.2    USD          0.613   \n",
       "3  1974  4.0   1000  A & E PLASTIK PAK INC  AE.2    USD          0.606   \n",
       "4  1975  1.0   1000  A & E PLASTIK PAK INC  AE.2    USD          0.726   \n",
       "\n",
       "   totalRevenueNext  costGoodsSoldNext  totalInvNext  salesNext  \n",
       "0            11.295                NaN           NaN     11.295  \n",
       "1            14.441                NaN           NaN     14.441  \n",
       "2            13.122                NaN           NaN     13.122  \n",
       "3            12.334             35.237         6.227     12.334  \n",
       "4            16.226             11.138         6.369     16.226  "
      ]
     },
     "execution_count": 9,
     "metadata": {},
     "output_type": "execute_result"
    }
   ],
   "source": [
    "compustatNext.head()"
   ]
  },
  {
   "cell_type": "code",
   "execution_count": 10,
   "metadata": {},
   "outputs": [],
   "source": [
    "compustatChanges = compustat.merge(compustatNext)"
   ]
  },
  {
   "cell_type": "code",
   "execution_count": 11,
   "metadata": {},
   "outputs": [],
   "source": [
    "compustatChanges['salesChange'] = (compustatChanges.salesNext - compustatChanges.sales)/compustatChanges.sales\n",
    "\n",
    "compustatChanges['incomeChange'] = (compustatChanges.netIncomeNext - compustatChanges.netIncome)/compustatChanges.netIncome\n",
    "\n",
    "compustatChanges['revenueChange'] = (compustatChanges.totalRevenueNext - compustatChanges.totalRevenue)/compustatChanges.totalRevenue\n",
    "\n",
    "compustatChanges['revenueChangeAbsolute'] = (compustatChanges.totalRevenueNext - compustatChanges.totalRevenue)\n",
    "\n",
    "compustatChanges['costChange'] = (compustatChanges.costGoodsSoldNext - compustatChanges.costGoodsSold)/compustatChanges.costGoodsSold\n",
    "\n",
    "compustatChanges['inventoryChange'] = (compustatChanges.totalInvNext - compustatChanges.totalInv)/compustatChanges.totalInv\n",
    "\n",
    "compustatChanges = compustatChanges[['year', 'qtr', 'gvkey', 'companyName', \n",
    "                                     'tic', 'curcdq','salesChange','incomeChange','revenueChange',\n",
    "                                     'revenueChangeAbsolute','costChange','inventoryChange']]\n"
   ]
  },
  {
   "cell_type": "code",
   "execution_count": 12,
   "metadata": {},
   "outputs": [],
   "source": [
    "compustatChanges.to_csv(\"../../data/compustatChanges_all.csv\")"
   ]
  },
  {
   "cell_type": "code",
   "execution_count": 13,
   "metadata": {},
   "outputs": [
    {
     "data": {
      "text/plain": [
       "83.0"
      ]
     },
     "execution_count": 13,
     "metadata": {},
     "output_type": "execute_result"
    }
   ],
   "source": [
    "83000*1000000/1e9"
   ]
  },
  {
   "cell_type": "code",
   "execution_count": 14,
   "metadata": {},
   "outputs": [
    {
     "data": {
      "text/plain": [
       "199461.21961632976"
      ]
     },
     "execution_count": 14,
     "metadata": {},
     "output_type": "execute_result"
    }
   ],
   "source": [
    "compustatChanges.shape[0]*0.002*4.5*compustatChanges.revenueChangeAbsolute.mean()"
   ]
  },
  {
   "cell_type": "code",
   "execution_count": 15,
   "metadata": {},
   "outputs": [
    {
     "data": {
      "text/html": [
       "<div>\n",
       "<style scoped>\n",
       "    .dataframe tbody tr th:only-of-type {\n",
       "        vertical-align: middle;\n",
       "    }\n",
       "\n",
       "    .dataframe tbody tr th {\n",
       "        vertical-align: top;\n",
       "    }\n",
       "\n",
       "    .dataframe thead th {\n",
       "        text-align: right;\n",
       "    }\n",
       "</style>\n",
       "<table border=\"1\" class=\"dataframe\">\n",
       "  <thead>\n",
       "    <tr style=\"text-align: right;\">\n",
       "      <th></th>\n",
       "      <th>year</th>\n",
       "      <th>qtr</th>\n",
       "      <th>gvkey</th>\n",
       "      <th>companyName</th>\n",
       "      <th>tic</th>\n",
       "      <th>curcdq</th>\n",
       "      <th>salesChange</th>\n",
       "      <th>incomeChange</th>\n",
       "      <th>revenueChange</th>\n",
       "      <th>revenueChangeAbsolute</th>\n",
       "      <th>costChange</th>\n",
       "      <th>inventoryChange</th>\n",
       "    </tr>\n",
       "  </thead>\n",
       "  <tbody>\n",
       "    <tr>\n",
       "      <th>0</th>\n",
       "      <td>1975</td>\n",
       "      <td>1.0</td>\n",
       "      <td>1000</td>\n",
       "      <td>A &amp; E PLASTIK PAK INC</td>\n",
       "      <td>AE.2</td>\n",
       "      <td>USD</td>\n",
       "      <td>0.436565</td>\n",
       "      <td>2.821053</td>\n",
       "      <td>0.436565</td>\n",
       "      <td>4.931</td>\n",
       "      <td>NaN</td>\n",
       "      <td>NaN</td>\n",
       "    </tr>\n",
       "    <tr>\n",
       "      <th>1</th>\n",
       "      <td>1975</td>\n",
       "      <td>2.0</td>\n",
       "      <td>1000</td>\n",
       "      <td>A &amp; E PLASTIK PAK INC</td>\n",
       "      <td>AE.2</td>\n",
       "      <td>USD</td>\n",
       "      <td>0.359809</td>\n",
       "      <td>0.832000</td>\n",
       "      <td>0.359809</td>\n",
       "      <td>5.196</td>\n",
       "      <td>NaN</td>\n",
       "      <td>NaN</td>\n",
       "    </tr>\n",
       "    <tr>\n",
       "      <th>2</th>\n",
       "      <td>1975</td>\n",
       "      <td>3.0</td>\n",
       "      <td>1000</td>\n",
       "      <td>A &amp; E PLASTIK PAK INC</td>\n",
       "      <td>AE.2</td>\n",
       "      <td>USD</td>\n",
       "      <td>0.122771</td>\n",
       "      <td>-0.084829</td>\n",
       "      <td>0.122771</td>\n",
       "      <td>1.611</td>\n",
       "      <td>NaN</td>\n",
       "      <td>NaN</td>\n",
       "    </tr>\n",
       "    <tr>\n",
       "      <th>3</th>\n",
       "      <td>1975</td>\n",
       "      <td>4.0</td>\n",
       "      <td>1000</td>\n",
       "      <td>A &amp; E PLASTIK PAK INC</td>\n",
       "      <td>AE.2</td>\n",
       "      <td>USD</td>\n",
       "      <td>0.282471</td>\n",
       "      <td>-0.102310</td>\n",
       "      <td>0.282471</td>\n",
       "      <td>3.484</td>\n",
       "      <td>-0.658484</td>\n",
       "      <td>0.592902</td>\n",
       "    </tr>\n",
       "    <tr>\n",
       "      <th>4</th>\n",
       "      <td>1976</td>\n",
       "      <td>1.0</td>\n",
       "      <td>1000</td>\n",
       "      <td>A &amp; E PLASTIK PAK INC</td>\n",
       "      <td>AE.2</td>\n",
       "      <td>USD</td>\n",
       "      <td>0.110194</td>\n",
       "      <td>-0.224518</td>\n",
       "      <td>0.110194</td>\n",
       "      <td>1.788</td>\n",
       "      <td>0.185671</td>\n",
       "      <td>0.822107</td>\n",
       "    </tr>\n",
       "  </tbody>\n",
       "</table>\n",
       "</div>"
      ],
      "text/plain": [
       "   year  qtr  gvkey            companyName   tic curcdq  salesChange  \\\n",
       "0  1975  1.0   1000  A & E PLASTIK PAK INC  AE.2    USD     0.436565   \n",
       "1  1975  2.0   1000  A & E PLASTIK PAK INC  AE.2    USD     0.359809   \n",
       "2  1975  3.0   1000  A & E PLASTIK PAK INC  AE.2    USD     0.122771   \n",
       "3  1975  4.0   1000  A & E PLASTIK PAK INC  AE.2    USD     0.282471   \n",
       "4  1976  1.0   1000  A & E PLASTIK PAK INC  AE.2    USD     0.110194   \n",
       "\n",
       "   incomeChange  revenueChange  revenueChangeAbsolute  costChange  \\\n",
       "0      2.821053       0.436565                  4.931         NaN   \n",
       "1      0.832000       0.359809                  5.196         NaN   \n",
       "2     -0.084829       0.122771                  1.611         NaN   \n",
       "3     -0.102310       0.282471                  3.484   -0.658484   \n",
       "4     -0.224518       0.110194                  1.788    0.185671   \n",
       "\n",
       "   inventoryChange  \n",
       "0              NaN  \n",
       "1              NaN  \n",
       "2              NaN  \n",
       "3         0.592902  \n",
       "4         0.822107  "
      ]
     },
     "execution_count": 15,
     "metadata": {},
     "output_type": "execute_result"
    }
   ],
   "source": [
    "compustatChanges.head()"
   ]
  },
  {
   "cell_type": "code",
   "execution_count": 16,
   "metadata": {},
   "outputs": [
    {
     "data": {
      "text/plain": [
       "0          1975\n",
       "1          1975\n",
       "2          1975\n",
       "3          1975\n",
       "4          1976\n",
       "           ... \n",
       "1117251    2008\n",
       "1117252    2008\n",
       "1117253    2008\n",
       "1117254    2008\n",
       "1117255    2008\n",
       "Name: year, Length: 1117256, dtype: int64"
      ]
     },
     "execution_count": 16,
     "metadata": {},
     "output_type": "execute_result"
    }
   ],
   "source": [
    "compustatChanges.year"
   ]
  },
  {
   "cell_type": "markdown",
   "metadata": {},
   "source": [
    "---------------------------------------"
   ]
  },
  {
   "cell_type": "markdown",
   "metadata": {},
   "source": [
    "# Location Data"
   ]
  },
  {
   "cell_type": "code",
   "execution_count": 17,
   "metadata": {},
   "outputs": [
    {
     "name": "stdout",
     "output_type": "stream",
     "text": [
      "(505365, 4)\n"
     ]
    }
   ],
   "source": [
    "file = \"../../data/cstatLocations.csv\"\n",
    "locations = pd.read_csv(file)[['fyear','gvkey','addzip','state']]\n",
    "\n",
    "\n",
    "locations = locations[~locations.fyear.isna()]\n",
    "locations = locations[~locations.addzip.isna()]\n",
    "print(locations.shape)\n",
    "\n",
    "locations.rename(columns = {'fyear': 'year'},inplace = True)\n",
    "locations.reset_index(inplace = True,drop= True)\n",
    "locations['year'] = locations['year'].astype('int64')\n",
    "locations.drop_duplicates(inplace = True)"
   ]
  },
  {
   "cell_type": "code",
   "execution_count": 18,
   "metadata": {},
   "outputs": [
    {
     "data": {
      "text/plain": [
       "(463725, 4)"
      ]
     },
     "execution_count": 18,
     "metadata": {},
     "output_type": "execute_result"
    }
   ],
   "source": [
    "locations.shape"
   ]
  },
  {
   "cell_type": "code",
   "execution_count": 19,
   "metadata": {},
   "outputs": [
    {
     "data": {
      "text/html": [
       "<div>\n",
       "<style scoped>\n",
       "    .dataframe tbody tr th:only-of-type {\n",
       "        vertical-align: middle;\n",
       "    }\n",
       "\n",
       "    .dataframe tbody tr th {\n",
       "        vertical-align: top;\n",
       "    }\n",
       "\n",
       "    .dataframe thead th {\n",
       "        text-align: right;\n",
       "    }\n",
       "</style>\n",
       "<table border=\"1\" class=\"dataframe\">\n",
       "  <thead>\n",
       "    <tr style=\"text-align: right;\">\n",
       "      <th></th>\n",
       "      <th>year</th>\n",
       "      <th>qtr</th>\n",
       "      <th>gvkey</th>\n",
       "      <th>companyName</th>\n",
       "      <th>tic</th>\n",
       "      <th>curcdq</th>\n",
       "      <th>salesChange</th>\n",
       "      <th>incomeChange</th>\n",
       "      <th>revenueChange</th>\n",
       "      <th>revenueChangeAbsolute</th>\n",
       "      <th>costChange</th>\n",
       "      <th>inventoryChange</th>\n",
       "    </tr>\n",
       "  </thead>\n",
       "  <tbody>\n",
       "    <tr>\n",
       "      <th>0</th>\n",
       "      <td>1975</td>\n",
       "      <td>1.0</td>\n",
       "      <td>1000</td>\n",
       "      <td>A &amp; E PLASTIK PAK INC</td>\n",
       "      <td>AE.2</td>\n",
       "      <td>USD</td>\n",
       "      <td>0.436565</td>\n",
       "      <td>2.821053</td>\n",
       "      <td>0.436565</td>\n",
       "      <td>4.931</td>\n",
       "      <td>NaN</td>\n",
       "      <td>NaN</td>\n",
       "    </tr>\n",
       "    <tr>\n",
       "      <th>1</th>\n",
       "      <td>1975</td>\n",
       "      <td>2.0</td>\n",
       "      <td>1000</td>\n",
       "      <td>A &amp; E PLASTIK PAK INC</td>\n",
       "      <td>AE.2</td>\n",
       "      <td>USD</td>\n",
       "      <td>0.359809</td>\n",
       "      <td>0.832000</td>\n",
       "      <td>0.359809</td>\n",
       "      <td>5.196</td>\n",
       "      <td>NaN</td>\n",
       "      <td>NaN</td>\n",
       "    </tr>\n",
       "    <tr>\n",
       "      <th>2</th>\n",
       "      <td>1975</td>\n",
       "      <td>3.0</td>\n",
       "      <td>1000</td>\n",
       "      <td>A &amp; E PLASTIK PAK INC</td>\n",
       "      <td>AE.2</td>\n",
       "      <td>USD</td>\n",
       "      <td>0.122771</td>\n",
       "      <td>-0.084829</td>\n",
       "      <td>0.122771</td>\n",
       "      <td>1.611</td>\n",
       "      <td>NaN</td>\n",
       "      <td>NaN</td>\n",
       "    </tr>\n",
       "    <tr>\n",
       "      <th>3</th>\n",
       "      <td>1975</td>\n",
       "      <td>4.0</td>\n",
       "      <td>1000</td>\n",
       "      <td>A &amp; E PLASTIK PAK INC</td>\n",
       "      <td>AE.2</td>\n",
       "      <td>USD</td>\n",
       "      <td>0.282471</td>\n",
       "      <td>-0.102310</td>\n",
       "      <td>0.282471</td>\n",
       "      <td>3.484</td>\n",
       "      <td>-0.658484</td>\n",
       "      <td>0.592902</td>\n",
       "    </tr>\n",
       "    <tr>\n",
       "      <th>4</th>\n",
       "      <td>1976</td>\n",
       "      <td>1.0</td>\n",
       "      <td>1000</td>\n",
       "      <td>A &amp; E PLASTIK PAK INC</td>\n",
       "      <td>AE.2</td>\n",
       "      <td>USD</td>\n",
       "      <td>0.110194</td>\n",
       "      <td>-0.224518</td>\n",
       "      <td>0.110194</td>\n",
       "      <td>1.788</td>\n",
       "      <td>0.185671</td>\n",
       "      <td>0.822107</td>\n",
       "    </tr>\n",
       "  </tbody>\n",
       "</table>\n",
       "</div>"
      ],
      "text/plain": [
       "   year  qtr  gvkey            companyName   tic curcdq  salesChange  \\\n",
       "0  1975  1.0   1000  A & E PLASTIK PAK INC  AE.2    USD     0.436565   \n",
       "1  1975  2.0   1000  A & E PLASTIK PAK INC  AE.2    USD     0.359809   \n",
       "2  1975  3.0   1000  A & E PLASTIK PAK INC  AE.2    USD     0.122771   \n",
       "3  1975  4.0   1000  A & E PLASTIK PAK INC  AE.2    USD     0.282471   \n",
       "4  1976  1.0   1000  A & E PLASTIK PAK INC  AE.2    USD     0.110194   \n",
       "\n",
       "   incomeChange  revenueChange  revenueChangeAbsolute  costChange  \\\n",
       "0      2.821053       0.436565                  4.931         NaN   \n",
       "1      0.832000       0.359809                  5.196         NaN   \n",
       "2     -0.084829       0.122771                  1.611         NaN   \n",
       "3     -0.102310       0.282471                  3.484   -0.658484   \n",
       "4     -0.224518       0.110194                  1.788    0.185671   \n",
       "\n",
       "   inventoryChange  \n",
       "0              NaN  \n",
       "1              NaN  \n",
       "2              NaN  \n",
       "3         0.592902  \n",
       "4         0.822107  "
      ]
     },
     "execution_count": 19,
     "metadata": {},
     "output_type": "execute_result"
    }
   ],
   "source": [
    "compustatChanges.head()"
   ]
  },
  {
   "cell_type": "code",
   "execution_count": 20,
   "metadata": {},
   "outputs": [],
   "source": [
    "companyHQ = compustatChanges.merge(locations,how='left')"
   ]
  },
  {
   "cell_type": "code",
   "execution_count": 21,
   "metadata": {},
   "outputs": [],
   "source": [
    "companyHQ = companyHQ[~companyHQ.addzip.isna()]"
   ]
  },
  {
   "cell_type": "code",
   "execution_count": 22,
   "metadata": {},
   "outputs": [
    {
     "data": {
      "text/plain": [
       "0"
      ]
     },
     "execution_count": 22,
     "metadata": {},
     "output_type": "execute_result"
    }
   ],
   "source": [
    "sum(companyHQ.addzip.isna())"
   ]
  },
  {
   "cell_type": "markdown",
   "metadata": {},
   "source": [
    "Merge the zip code information with the change information."
   ]
  },
  {
   "cell_type": "code",
   "execution_count": 23,
   "metadata": {},
   "outputs": [
    {
     "name": "stdout",
     "output_type": "stream",
     "text": [
      "  addzip   latitude    longitude\n",
      "0  00601  18.180555   -66.749961\n",
      "1  00602  18.361945   -67.175597\n",
      "2  00603  18.455183   -67.119887\n",
      "3  00606  18.158345   -66.932911\n",
      "4  00610  18.295366   -67.125135\n"
     ]
    }
   ],
   "source": [
    "zipFile = \"../../data/zipLatLong.csv\"\n",
    "zips = pd.read_csv(zipFile)\n",
    "'''[['ZIP','LAT','LNG']].rename(columns = {'ZIP': 'addzip'})\n",
    "zips['addzip'] = zips.addzip.astype('object')'''\n",
    "\n",
    "zips = zips['ZIP,LAT,LNG'].str.split(',', expand=True)\n",
    "\n",
    "zips.columns = ['addzip','latitude','longitude']\n",
    "\n",
    "print(zips.head())"
   ]
  },
  {
   "cell_type": "code",
   "execution_count": 24,
   "metadata": {},
   "outputs": [
    {
     "name": "stdout",
     "output_type": "stream",
     "text": [
      "   year  qtr  gvkey              companyName    tic curcdq  salesChange  \\\n",
      "0  1983  1.0   1001  A & M FOOD SERVICES INC  AMFD.    USD     0.307458   \n",
      "1  1983  2.0   1001  A & M FOOD SERVICES INC  AMFD.    USD     0.290152   \n",
      "2  1983  3.0   1001  A & M FOOD SERVICES INC  AMFD.    USD     0.249496   \n",
      "3  1983  4.0   1001  A & M FOOD SERVICES INC  AMFD.    USD     0.219202   \n",
      "4  1984  1.0   1001  A & M FOOD SERVICES INC  AMFD.    USD     0.222412   \n",
      "\n",
      "   incomeChange  revenueChange  revenueChangeAbsolute  costChange  \\\n",
      "0      2.671429       0.307458                  1.513    0.246423   \n",
      "1     -0.059735       0.290152                  1.700    0.316305   \n",
      "2      0.107143       0.249496                  1.609    0.271394   \n",
      "3     -0.787149       0.219202                  1.790    0.349032   \n",
      "4      0.136187       0.222412                  1.431    0.308036   \n",
      "\n",
      "   inventoryChange addzip state   latitude    longitude  \n",
      "0              NaN  94104    OK  37.791409  -122.402130  \n",
      "1              NaN  94104    OK  37.791409  -122.402130  \n",
      "2         0.547297  94104    OK  37.791409  -122.402130  \n",
      "3         0.554180  94104    OK  37.791409  -122.402130  \n",
      "4         0.266667  94104    OK  37.791409  -122.402130   (775826, 16)\n"
     ]
    }
   ],
   "source": [
    "companyHQZips = companyHQ.merge(zips)\n",
    "print(companyHQZips.head(),companyHQZips.shape)"
   ]
  },
  {
   "cell_type": "code",
   "execution_count": 28,
   "metadata": {},
   "outputs": [],
   "source": [
    "companyHQZips = companyHQZips.drop_duplicates()"
   ]
  },
  {
   "cell_type": "code",
   "execution_count": 29,
   "metadata": {},
   "outputs": [],
   "source": [
    "companyHQZips.to_csv(\"../../data/companyHQZips.csv\")"
   ]
  },
  {
   "cell_type": "markdown",
   "metadata": {},
   "source": [
    "-------------------"
   ]
  },
  {
   "cell_type": "markdown",
   "metadata": {},
   "source": [
    "# Segments Data"
   ]
  },
  {
   "cell_type": "code",
   "execution_count": 4,
   "metadata": {},
   "outputs": [],
   "source": [
    "import datetime"
   ]
  },
  {
   "cell_type": "code",
   "execution_count": 5,
   "metadata": {},
   "outputs": [],
   "source": [
    "file = \"../../data/companyData/compustatSegments.csv\"\n",
    "segments = pd.read_csv(file)"
   ]
  },
  {
   "cell_type": "code",
   "execution_count": 6,
   "metadata": {},
   "outputs": [],
   "source": [
    "segments['srcdate'] = pd.DatetimeIndex(pd.to_datetime(segments['srcdate'], format='%Y%m%d'))\n",
    "segments['year']    = pd.DatetimeIndex(pd.to_datetime(segments['srcdate'], format='%Y%m%d')).year"
   ]
  },
  {
   "cell_type": "code",
   "execution_count": 8,
   "metadata": {},
   "outputs": [
    {
     "name": "stderr",
     "output_type": "stream",
     "text": [
      "/Users/brianreed/opt/anaconda3/lib/python3.7/site-packages/ipykernel_launcher.py:3: SettingWithCopyWarning: \n",
      "A value is trying to be set on a copy of a slice from a DataFrame.\n",
      "Try using .loc[row_indexer,col_indexer] = value instead\n",
      "\n",
      "See the caveats in the documentation: https://pandas.pydata.org/pandas-docs/stable/user_guide/indexing.html#returning-a-view-versus-a-copy\n",
      "  This is separate from the ipykernel package so we can avoid doing imports until\n"
     ]
    },
    {
     "name": "stdout",
     "output_type": "stream",
     "text": [
      "(328050, 18)\n",
      "(238234, 18)\n",
      "(199280, 18)\n"
     ]
    }
   ],
   "source": [
    "segments.head()\n",
    "relats = segments[segments.ctype == 'COMPANY']\n",
    "relats['customerCleaned'] = relats.cnms.str.lower()\n",
    "print(relats.shape)\n",
    "\n",
    "relats = relats[relats.customerCleaned != 'not reported'] \n",
    "print(relats.shape)\n",
    "\n",
    "relats = relats[~relats['customerCleaned'].str.contains('customers',na = True)] \n",
    "print(relats.shape)\n",
    "\n",
    "relats = relats[['year','gvkey','conm','customerCleaned','salecs']].drop_duplicates()"
   ]
  },
  {
   "cell_type": "markdown",
   "metadata": {},
   "source": [
    "There is a linked version of Compustat that has company names merged in.\n",
    "\n",
    "It seems like it has maybe an incomplete representation of the companies in it, but it's not too too bad of the company-company sales here."
   ]
  },
  {
   "cell_type": "code",
   "execution_count": 9,
   "metadata": {},
   "outputs": [
    {
     "data": {
      "text/html": [
       "<div>\n",
       "<style scoped>\n",
       "    .dataframe tbody tr th:only-of-type {\n",
       "        vertical-align: middle;\n",
       "    }\n",
       "\n",
       "    .dataframe tbody tr th {\n",
       "        vertical-align: top;\n",
       "    }\n",
       "\n",
       "    .dataframe thead th {\n",
       "        text-align: right;\n",
       "    }\n",
       "</style>\n",
       "<table border=\"1\" class=\"dataframe\">\n",
       "  <thead>\n",
       "    <tr style=\"text-align: right;\">\n",
       "      <th></th>\n",
       "      <th>year</th>\n",
       "      <th>gvkey</th>\n",
       "      <th>conm</th>\n",
       "      <th>customerCleaned</th>\n",
       "      <th>salecs</th>\n",
       "    </tr>\n",
       "  </thead>\n",
       "  <tbody>\n",
       "    <tr>\n",
       "      <th>8</th>\n",
       "      <td>1978</td>\n",
       "      <td>1005</td>\n",
       "      <td>A.B.A. INDUSTRIES INC</td>\n",
       "      <td>utd techs</td>\n",
       "      <td>4.100</td>\n",
       "    </tr>\n",
       "    <tr>\n",
       "      <th>9</th>\n",
       "      <td>1979</td>\n",
       "      <td>1005</td>\n",
       "      <td>A.B.A. INDUSTRIES INC</td>\n",
       "      <td>raytheon</td>\n",
       "      <td>2.377</td>\n",
       "    </tr>\n",
       "    <tr>\n",
       "      <th>10</th>\n",
       "      <td>1979</td>\n",
       "      <td>1005</td>\n",
       "      <td>A.B.A. INDUSTRIES INC</td>\n",
       "      <td>utd techs</td>\n",
       "      <td>7.454</td>\n",
       "    </tr>\n",
       "    <tr>\n",
       "      <th>11</th>\n",
       "      <td>1979</td>\n",
       "      <td>1005</td>\n",
       "      <td>A.B.A. INDUSTRIES INC</td>\n",
       "      <td>dage corp</td>\n",
       "      <td>0.102</td>\n",
       "    </tr>\n",
       "    <tr>\n",
       "      <th>12</th>\n",
       "      <td>1980</td>\n",
       "      <td>1005</td>\n",
       "      <td>A.B.A. INDUSTRIES INC</td>\n",
       "      <td>raytheon</td>\n",
       "      <td>2.292</td>\n",
       "    </tr>\n",
       "  </tbody>\n",
       "</table>\n",
       "</div>"
      ],
      "text/plain": [
       "    year  gvkey                   conm customerCleaned  salecs\n",
       "8   1978   1005  A.B.A. INDUSTRIES INC       utd techs   4.100\n",
       "9   1979   1005  A.B.A. INDUSTRIES INC        raytheon   2.377\n",
       "10  1979   1005  A.B.A. INDUSTRIES INC       utd techs   7.454\n",
       "11  1979   1005  A.B.A. INDUSTRIES INC       dage corp   0.102\n",
       "12  1980   1005  A.B.A. INDUSTRIES INC        raytheon   2.292"
      ]
     },
     "execution_count": 9,
     "metadata": {},
     "output_type": "execute_result"
    }
   ],
   "source": [
    "relats.head()"
   ]
  },
  {
   "cell_type": "code",
   "execution_count": 10,
   "metadata": {},
   "outputs": [],
   "source": [
    "file = \"../../data/companyData/compustatSCLinked.csv\"\n",
    "linked = pd.read_csv(file)\n",
    "\n",
    "linked['year'] = pd.DatetimeIndex(pd.to_datetime(linked['srcdate'], format='%Y%m%d')).year"
   ]
  },
  {
   "cell_type": "code",
   "execution_count": 11,
   "metadata": {},
   "outputs": [
    {
     "data": {
      "text/plain": [
       "0.8069344330267202"
      ]
     },
     "execution_count": 11,
     "metadata": {},
     "output_type": "execute_result"
    }
   ],
   "source": [
    "linked.salecs.sum()/relats.salecs.sum()\n",
    "\n",
    "# [['cnms','srcdate','conm']].drop_duplicates().shape"
   ]
  },
  {
   "cell_type": "code",
   "execution_count": 12,
   "metadata": {},
   "outputs": [
    {
     "data": {
      "text/html": [
       "<div>\n",
       "<style scoped>\n",
       "    .dataframe tbody tr th:only-of-type {\n",
       "        vertical-align: middle;\n",
       "    }\n",
       "\n",
       "    .dataframe tbody tr th {\n",
       "        vertical-align: top;\n",
       "    }\n",
       "\n",
       "    .dataframe thead th {\n",
       "        text-align: right;\n",
       "    }\n",
       "</style>\n",
       "<table border=\"1\" class=\"dataframe\">\n",
       "  <thead>\n",
       "    <tr style=\"text-align: right;\">\n",
       "      <th></th>\n",
       "      <th>gvkey</th>\n",
       "      <th>conm</th>\n",
       "      <th>cgvkey</th>\n",
       "      <th>cconm</th>\n",
       "      <th>cnms</th>\n",
       "      <th>srcdate</th>\n",
       "      <th>cid</th>\n",
       "      <th>sid</th>\n",
       "      <th>ctype</th>\n",
       "      <th>salecs</th>\n",
       "      <th>scusip</th>\n",
       "      <th>stic</th>\n",
       "      <th>ccusip</th>\n",
       "      <th>ctic</th>\n",
       "      <th>year</th>\n",
       "    </tr>\n",
       "  </thead>\n",
       "  <tbody>\n",
       "    <tr>\n",
       "      <th>0</th>\n",
       "      <td>1005</td>\n",
       "      <td>A.B.A. INDUSTRIES INC</td>\n",
       "      <td>10983</td>\n",
       "      <td>UNITED TECHNOLOGIES CORP</td>\n",
       "      <td>UTD TECHS</td>\n",
       "      <td>19781031</td>\n",
       "      <td>101</td>\n",
       "      <td>1</td>\n",
       "      <td>COMPANY</td>\n",
       "      <td>4.100</td>\n",
       "      <td>000370106</td>\n",
       "      <td>ABA.2</td>\n",
       "      <td>75513E101</td>\n",
       "      <td>RTX</td>\n",
       "      <td>1978</td>\n",
       "    </tr>\n",
       "    <tr>\n",
       "      <th>1</th>\n",
       "      <td>1005</td>\n",
       "      <td>A.B.A. INDUSTRIES INC</td>\n",
       "      <td>10983</td>\n",
       "      <td>UNITED TECHNOLOGIES CORP</td>\n",
       "      <td>UTD TECHS</td>\n",
       "      <td>19791031</td>\n",
       "      <td>101</td>\n",
       "      <td>1</td>\n",
       "      <td>COMPANY</td>\n",
       "      <td>7.454</td>\n",
       "      <td>000370106</td>\n",
       "      <td>ABA.2</td>\n",
       "      <td>75513E101</td>\n",
       "      <td>RTX</td>\n",
       "      <td>1979</td>\n",
       "    </tr>\n",
       "    <tr>\n",
       "      <th>2</th>\n",
       "      <td>1005</td>\n",
       "      <td>A.B.A. INDUSTRIES INC</td>\n",
       "      <td>8972</td>\n",
       "      <td>RAYTHEON CO</td>\n",
       "      <td>RAYTHEON</td>\n",
       "      <td>19791031</td>\n",
       "      <td>201</td>\n",
       "      <td>2</td>\n",
       "      <td>COMPANY</td>\n",
       "      <td>2.377</td>\n",
       "      <td>000370106</td>\n",
       "      <td>ABA.2</td>\n",
       "      <td>755111507</td>\n",
       "      <td>RTN</td>\n",
       "      <td>1979</td>\n",
       "    </tr>\n",
       "    <tr>\n",
       "      <th>3</th>\n",
       "      <td>1005</td>\n",
       "      <td>A.B.A. INDUSTRIES INC</td>\n",
       "      <td>8972</td>\n",
       "      <td>RAYTHEON CO</td>\n",
       "      <td>RAYTHEON</td>\n",
       "      <td>19801031</td>\n",
       "      <td>201</td>\n",
       "      <td>2</td>\n",
       "      <td>COMPANY</td>\n",
       "      <td>2.292</td>\n",
       "      <td>000370106</td>\n",
       "      <td>ABA.2</td>\n",
       "      <td>755111507</td>\n",
       "      <td>RTN</td>\n",
       "      <td>1980</td>\n",
       "    </tr>\n",
       "    <tr>\n",
       "      <th>4</th>\n",
       "      <td>1005</td>\n",
       "      <td>A.B.A. INDUSTRIES INC</td>\n",
       "      <td>10983</td>\n",
       "      <td>UNITED TECHNOLOGIES CORP</td>\n",
       "      <td>UTD TECHS</td>\n",
       "      <td>19801031</td>\n",
       "      <td>101</td>\n",
       "      <td>1</td>\n",
       "      <td>COMPANY</td>\n",
       "      <td>9.563</td>\n",
       "      <td>000370106</td>\n",
       "      <td>ABA.2</td>\n",
       "      <td>75513E101</td>\n",
       "      <td>RTX</td>\n",
       "      <td>1980</td>\n",
       "    </tr>\n",
       "  </tbody>\n",
       "</table>\n",
       "</div>"
      ],
      "text/plain": [
       "   gvkey                   conm  cgvkey                     cconm       cnms  \\\n",
       "0   1005  A.B.A. INDUSTRIES INC   10983  UNITED TECHNOLOGIES CORP  UTD TECHS   \n",
       "1   1005  A.B.A. INDUSTRIES INC   10983  UNITED TECHNOLOGIES CORP  UTD TECHS   \n",
       "2   1005  A.B.A. INDUSTRIES INC    8972               RAYTHEON CO   RAYTHEON   \n",
       "3   1005  A.B.A. INDUSTRIES INC    8972               RAYTHEON CO   RAYTHEON   \n",
       "4   1005  A.B.A. INDUSTRIES INC   10983  UNITED TECHNOLOGIES CORP  UTD TECHS   \n",
       "\n",
       "    srcdate  cid  sid    ctype  salecs     scusip   stic     ccusip ctic  year  \n",
       "0  19781031  101    1  COMPANY   4.100  000370106  ABA.2  75513E101  RTX  1978  \n",
       "1  19791031  101    1  COMPANY   7.454  000370106  ABA.2  75513E101  RTX  1979  \n",
       "2  19791031  201    2  COMPANY   2.377  000370106  ABA.2  755111507  RTN  1979  \n",
       "3  19801031  201    2  COMPANY   2.292  000370106  ABA.2  755111507  RTN  1980  \n",
       "4  19801031  101    1  COMPANY   9.563  000370106  ABA.2  75513E101  RTX  1980  "
      ]
     },
     "execution_count": 12,
     "metadata": {},
     "output_type": "execute_result"
    }
   ],
   "source": [
    "linked.head()"
   ]
  },
  {
   "cell_type": "code",
   "execution_count": 353,
   "metadata": {},
   "outputs": [],
   "source": [
    "customers = linked[['year','cgvkey']].drop_duplicatzipes().rename(columns = {'cgvkey': 'gvkey'})\n",
    "suppliers = linked[['year', 'gvkey']].drop_duplicates()"
   ]
  },
  {
   "cell_type": "code",
   "execution_count": 16,
   "metadata": {},
   "outputs": [
    {
     "data": {
      "text/plain": [
       "9398"
      ]
     },
     "execution_count": 16,
     "metadata": {},
     "output_type": "execute_result"
    }
   ],
   "source": [
    "len(linked[['gvkey']].drop_duplicates())"
   ]
  },
  {
   "cell_type": "code",
   "execution_count": 356,
   "metadata": {},
   "outputs": [],
   "source": [
    "def gatherData(df): \n",
    "    df['yearPlus1']  = df['year'] + 1\n",
    "    df['yearPlus2']  = df['year'] + 2\n",
    "    df['yearPlus3']  = df['year'] + 3\n",
    "\n",
    "    df['yearMinus1'] = df['year'] - 1\n",
    "    df['yearMinus2'] = df['year'] - 2\n",
    "    df['yearMinus3'] = df['year'] - 3\n",
    "    \n",
    "    dfMelted = pd.melt(df,id_vars=['year','gvkey'], var_name='variation', value_name='vyear').\\\n",
    "        drop(['variation','year'], axis = 1).rename(columns = {'vyear': 'year'}).drop_duplicates()\n",
    "\n",
    "    return(dfMelted)"
   ]
  },
  {
   "cell_type": "code",
   "execution_count": 357,
   "metadata": {},
   "outputs": [],
   "source": [
    "suppDF = gatherData(suppliers)"
   ]
  },
  {
   "cell_type": "code",
   "execution_count": 358,
   "metadata": {},
   "outputs": [],
   "source": [
    "custDF = gatherData(customers)"
   ]
  },
  {
   "cell_type": "code",
   "execution_count": 359,
   "metadata": {},
   "outputs": [
    {
     "name": "stdout",
     "output_type": "stream",
     "text": [
      "   gvkey  year\n",
      "0   1005  1979\n",
      "1   1005  1980\n",
      "2   1005  1981\n",
      "3   1005  1982\n",
      "4   1009  1982\n",
      "(124550, 2)\n",
      "   gvkey  year\n",
      "0  10983  1979\n",
      "1  10983  1980\n",
      "2   8972  1980\n",
      "3   8972  1981\n",
      "4  10983  1981\n",
      "(76908, 2)\n"
     ]
    }
   ],
   "source": [
    "print(suppDF.head())\n",
    "print(suppDF.shape)\n",
    "\n",
    "print(custDF.head())\n",
    "print(custDF.shape)"
   ]
  },
  {
   "cell_type": "code",
   "execution_count": 360,
   "metadata": {},
   "outputs": [],
   "source": [
    "allCompanies = suppDF.append(custDF).drop_duplicates()"
   ]
  },
  {
   "cell_type": "code",
   "execution_count": 361,
   "metadata": {},
   "outputs": [
    {
     "data": {
      "text/html": [
       "<div>\n",
       "<style scoped>\n",
       "    .dataframe tbody tr th:only-of-type {\n",
       "        vertical-align: middle;\n",
       "    }\n",
       "\n",
       "    .dataframe tbody tr th {\n",
       "        vertical-align: top;\n",
       "    }\n",
       "\n",
       "    .dataframe thead th {\n",
       "        text-align: right;\n",
       "    }\n",
       "</style>\n",
       "<table border=\"1\" class=\"dataframe\">\n",
       "  <thead>\n",
       "    <tr style=\"text-align: right;\">\n",
       "      <th></th>\n",
       "      <th>gvkey</th>\n",
       "      <th>year</th>\n",
       "    </tr>\n",
       "  </thead>\n",
       "  <tbody>\n",
       "    <tr>\n",
       "      <th>0</th>\n",
       "      <td>1005</td>\n",
       "      <td>1979</td>\n",
       "    </tr>\n",
       "    <tr>\n",
       "      <th>1</th>\n",
       "      <td>1005</td>\n",
       "      <td>1980</td>\n",
       "    </tr>\n",
       "    <tr>\n",
       "      <th>2</th>\n",
       "      <td>1005</td>\n",
       "      <td>1981</td>\n",
       "    </tr>\n",
       "    <tr>\n",
       "      <th>3</th>\n",
       "      <td>1005</td>\n",
       "      <td>1982</td>\n",
       "    </tr>\n",
       "    <tr>\n",
       "      <th>4</th>\n",
       "      <td>1009</td>\n",
       "      <td>1982</td>\n",
       "    </tr>\n",
       "  </tbody>\n",
       "</table>\n",
       "</div>"
      ],
      "text/plain": [
       "   gvkey  year\n",
       "0   1005  1979\n",
       "1   1005  1980\n",
       "2   1005  1981\n",
       "3   1005  1982\n",
       "4   1009  1982"
      ]
     },
     "execution_count": 361,
     "metadata": {},
     "output_type": "execute_result"
    }
   ],
   "source": [
    "allCompanies.head()"
   ]
  },
  {
   "cell_type": "code",
   "execution_count": 362,
   "metadata": {},
   "outputs": [],
   "source": [
    "allCompanies.to_csv('../../data/companyData/allCompanyKeys.csv')"
   ]
  },
  {
   "cell_type": "markdown",
   "metadata": {},
   "source": [
    "## Merge in some of the data"
   ]
  },
  {
   "cell_type": "markdown",
   "metadata": {},
   "source": [
    "Now let's try merging in the other dataframes."
   ]
  },
  {
   "cell_type": "code",
   "execution_count": 375,
   "metadata": {},
   "outputs": [],
   "source": [
    "def mergeCompChanges(test):\n",
    "    test = test.merge(compustatChanges, how = 'left')\n",
    "\n",
    "    test.replace([np.inf, -np.inf], np.nan, inplace=True)\n",
    "\n",
    "    test = test.dropna(subset = ['salesChange','incomeChange','revenueChange','costChange','inventoryChange'])\n",
    "\n",
    "    return(test)"
   ]
  },
  {
   "cell_type": "code",
   "execution_count": 376,
   "metadata": {},
   "outputs": [],
   "source": [
    "suppChanges = mergeCompChanges(suppDF)\n",
    "custChanges = mergeCompChanges(custDF)"
   ]
  },
  {
   "cell_type": "code",
   "execution_count": 377,
   "metadata": {},
   "outputs": [
    {
     "data": {
      "text/plain": [
       "count    124262.000000\n",
       "mean          0.236644\n",
       "std           9.549978\n",
       "min         -97.571429\n",
       "25%          -0.023890\n",
       "50%           0.077702\n",
       "75%           0.203988\n",
       "max        2677.555556\n",
       "Name: salesChange, dtype: float64"
      ]
     },
     "execution_count": 377,
     "metadata": {},
     "output_type": "execute_result"
    }
   ],
   "source": [
    "custChanges.salesChange.describe()"
   ]
  },
  {
   "cell_type": "markdown",
   "metadata": {},
   "source": [
    "We also need to merge in the Infogroup data here."
   ]
  },
  {
   "cell_type": "markdown",
   "metadata": {},
   "source": [
    "# Clean the company information up"
   ]
  },
  {
   "cell_type": "code",
   "execution_count": 462,
   "metadata": {},
   "outputs": [],
   "source": [
    "def cleanText(text):\n",
    "    text = text.\\\n",
    "    replace(\" CORP\",\"\").replace(\" CO\",\"\").replace(\" INC\",\"\").\\\n",
    "    replace(\" LTD\",\"\").replace(\" -CL A\",\"\").\\\n",
    "    replace(\" -LP\",\"\").replace(\" LP\",\"\").\\\n",
    "    replace(\"-OLD\",\"\").replace(\" LLC\",\"\").\\\n",
    "    replace(\" -CL B\",\"\").replace(\" -CL i\",\"\").replace(\" -CL\",\"\").\\\n",
    "    replace(\"-REDH\",\"\").replace(\" CP\",\"\").\\\n",
    "    replace(\"-ADR\",\"\").replace(\" PLC\",\"\").lower()\n",
    "    \n",
    "    \n",
    "    return text"
   ]
  },
  {
   "cell_type": "markdown",
   "metadata": {},
   "source": [
    "### Merge in Infogroup data\n",
    "Let's use the gvkey as the unit of analysis."
   ]
  },
  {
   "cell_type": "code",
   "execution_count": 369,
   "metadata": {},
   "outputs": [
    {
     "data": {
      "text/html": [
       "<div>\n",
       "<style scoped>\n",
       "    .dataframe tbody tr th:only-of-type {\n",
       "        vertical-align: middle;\n",
       "    }\n",
       "\n",
       "    .dataframe tbody tr th {\n",
       "        vertical-align: top;\n",
       "    }\n",
       "\n",
       "    .dataframe thead th {\n",
       "        text-align: right;\n",
       "    }\n",
       "</style>\n",
       "<table border=\"1\" class=\"dataframe\">\n",
       "  <thead>\n",
       "    <tr style=\"text-align: right;\">\n",
       "      <th></th>\n",
       "      <th>tic</th>\n",
       "      <th>year</th>\n",
       "      <th>companyName</th>\n",
       "      <th>city</th>\n",
       "      <th>state</th>\n",
       "      <th>zipcode</th>\n",
       "      <th>latitude</th>\n",
       "      <th>longitude</th>\n",
       "      <th>business_status_code</th>\n",
       "    </tr>\n",
       "  </thead>\n",
       "  <tbody>\n",
       "    <tr>\n",
       "      <th>0</th>\n",
       "      <td>SODI</td>\n",
       "      <td>1997</td>\n",
       "      <td>SOLITRON DEVICES INC</td>\n",
       "      <td>WEST PALM BEACH</td>\n",
       "      <td>FL</td>\n",
       "      <td>33407</td>\n",
       "      <td>26.74120</td>\n",
       "      <td>-80.0669</td>\n",
       "      <td>1.0</td>\n",
       "    </tr>\n",
       "    <tr>\n",
       "      <th>1</th>\n",
       "      <td>AOI</td>\n",
       "      <td>1997</td>\n",
       "      <td>DIMON INC</td>\n",
       "      <td>DANVILLE</td>\n",
       "      <td>VA</td>\n",
       "      <td>24541</td>\n",
       "      <td>36.58674</td>\n",
       "      <td>-79.3870</td>\n",
       "      <td>1.0</td>\n",
       "    </tr>\n",
       "    <tr>\n",
       "      <th>2</th>\n",
       "      <td>TNLX</td>\n",
       "      <td>1997</td>\n",
       "      <td>TRANS LUX CORP</td>\n",
       "      <td>NORWALK</td>\n",
       "      <td>CT</td>\n",
       "      <td>6854</td>\n",
       "      <td>41.09786</td>\n",
       "      <td>-73.4516</td>\n",
       "      <td>1.0</td>\n",
       "    </tr>\n",
       "    <tr>\n",
       "      <th>3</th>\n",
       "      <td>LDR</td>\n",
       "      <td>1997</td>\n",
       "      <td>LANDAUER INC</td>\n",
       "      <td>GLENWOOD</td>\n",
       "      <td>IL</td>\n",
       "      <td>60425</td>\n",
       "      <td>41.54288</td>\n",
       "      <td>-87.6260</td>\n",
       "      <td>1.0</td>\n",
       "    </tr>\n",
       "    <tr>\n",
       "      <th>4</th>\n",
       "      <td>SIF</td>\n",
       "      <td>1997</td>\n",
       "      <td>SIFCO INDUSTRIES INC</td>\n",
       "      <td>CLEVELAND</td>\n",
       "      <td>OH</td>\n",
       "      <td>44103</td>\n",
       "      <td>41.52586</td>\n",
       "      <td>-81.6471</td>\n",
       "      <td>1.0</td>\n",
       "    </tr>\n",
       "  </tbody>\n",
       "</table>\n",
       "</div>"
      ],
      "text/plain": [
       "    tic  year           companyName             city state  zipcode  latitude  \\\n",
       "0  SODI  1997  SOLITRON DEVICES INC  WEST PALM BEACH    FL    33407  26.74120   \n",
       "1   AOI  1997             DIMON INC         DANVILLE    VA    24541  36.58674   \n",
       "2  TNLX  1997        TRANS LUX CORP          NORWALK    CT     6854  41.09786   \n",
       "3   LDR  1997          LANDAUER INC         GLENWOOD    IL    60425  41.54288   \n",
       "4   SIF  1997  SIFCO INDUSTRIES INC        CLEVELAND    OH    44103  41.52586   \n",
       "\n",
       "   longitude  business_status_code  \n",
       "0   -80.0669                   1.0  \n",
       "1   -79.3870                   1.0  \n",
       "2   -73.4516                   1.0  \n",
       "3   -87.6260                   1.0  \n",
       "4   -81.6471                   1.0  "
      ]
     },
     "execution_count": 369,
     "metadata": {},
     "output_type": "execute_result"
    }
   ],
   "source": [
    "hq = pd.read_csv('../../data/companyData/hqPublicAll.csv').drop([\"Unnamed: 0\"], axis = 1).\\\n",
    "    rename(columns = {'archive_version_year': 'year',\n",
    "                     'company': 'companyName',\n",
    "                     'ticker': 'tic'})\n",
    "\n",
    "# 'ticker': 'tic',\n",
    "\n",
    "hq['year'] = hq.year.astype('int64')\n",
    "\n",
    "hq.head()"
   ]
  },
  {
   "cell_type": "code",
   "execution_count": 466,
   "metadata": {},
   "outputs": [],
   "source": [
    "hq['companyNameClean'] = hq.companyName.apply(cleanText).apply(cleanText).apply(cleanText)"
   ]
  },
  {
   "cell_type": "code",
   "execution_count": 467,
   "metadata": {},
   "outputs": [
    {
     "data": {
      "text/plain": [
       "0    solitron devices\n",
       "1               dimon\n",
       "2           trans lux\n",
       "3            landauer\n",
       "4    sifco industries\n",
       "Name: companyNameClean, dtype: object"
      ]
     },
     "execution_count": 467,
     "metadata": {},
     "output_type": "execute_result"
    }
   ],
   "source": [
    "hq.companyNameClean.head()"
   ]
  },
  {
   "cell_type": "code",
   "execution_count": 468,
   "metadata": {},
   "outputs": [
    {
     "data": {
      "text/plain": [
       "(11927, 2)"
      ]
     },
     "execution_count": 468,
     "metadata": {},
     "output_type": "execute_result"
    }
   ],
   "source": [
    "ig_unique = hq[['tic','companyNameClean']].drop_duplicates()\n",
    "ig_unique.shape"
   ]
  },
  {
   "cell_type": "code",
   "execution_count": 469,
   "metadata": {},
   "outputs": [
    {
     "data": {
      "text/plain": [
       "(8656, 3)"
      ]
     },
     "execution_count": 469,
     "metadata": {},
     "output_type": "execute_result"
    }
   ],
   "source": [
    "compIDs = suppChanges.append(custChanges)[['companyName','tic','gvkey']].drop_duplicates().reset_index().\\\n",
    "    drop(['index'],axis = 1)\n",
    "compIDs.shape"
   ]
  },
  {
   "cell_type": "code",
   "execution_count": 475,
   "metadata": {},
   "outputs": [],
   "source": [
    "compIDs['companyNameClean'] = compIDs.companyName.apply(cleanText)"
   ]
  },
  {
   "cell_type": "markdown",
   "metadata": {},
   "source": [
    "Look for compustat IDs that match infogroup IDs. First off, look to see if company name or tic is in infogroup names or tickers."
   ]
  },
  {
   "cell_type": "code",
   "execution_count": 478,
   "metadata": {},
   "outputs": [
    {
     "data": {
      "text/html": [
       "<div>\n",
       "<style scoped>\n",
       "    .dataframe tbody tr th:only-of-type {\n",
       "        vertical-align: middle;\n",
       "    }\n",
       "\n",
       "    .dataframe tbody tr th {\n",
       "        vertical-align: top;\n",
       "    }\n",
       "\n",
       "    .dataframe thead th {\n",
       "        text-align: right;\n",
       "    }\n",
       "</style>\n",
       "<table border=\"1\" class=\"dataframe\">\n",
       "  <thead>\n",
       "    <tr style=\"text-align: right;\">\n",
       "      <th></th>\n",
       "      <th>companyName</th>\n",
       "      <th>tic</th>\n",
       "      <th>gvkey</th>\n",
       "      <th>companyNameClean</th>\n",
       "    </tr>\n",
       "  </thead>\n",
       "  <tbody>\n",
       "    <tr>\n",
       "      <th>0</th>\n",
       "      <td>A.B.A. INDUSTRIES INC</td>\n",
       "      <td>ABA.2</td>\n",
       "      <td>1005</td>\n",
       "      <td>a.b.a. industries</td>\n",
       "    </tr>\n",
       "    <tr>\n",
       "      <th>1</th>\n",
       "      <td>ABS INDUSTRIES INC</td>\n",
       "      <td>ABSI.1</td>\n",
       "      <td>1009</td>\n",
       "      <td>abs industries</td>\n",
       "    </tr>\n",
       "    <tr>\n",
       "      <th>2</th>\n",
       "      <td>ACS INDUSTRIES INC</td>\n",
       "      <td>6927B</td>\n",
       "      <td>1012</td>\n",
       "      <td>acs industries</td>\n",
       "    </tr>\n",
       "    <tr>\n",
       "      <th>3</th>\n",
       "      <td>ADC TELECOMMUNICATIONS INC</td>\n",
       "      <td>ADCT.1</td>\n",
       "      <td>1013</td>\n",
       "      <td>adc telecommunications</td>\n",
       "    </tr>\n",
       "    <tr>\n",
       "      <th>4</th>\n",
       "      <td>AFP IMAGING CORP</td>\n",
       "      <td>IWKS</td>\n",
       "      <td>1021</td>\n",
       "      <td>afp imaging</td>\n",
       "    </tr>\n",
       "  </tbody>\n",
       "</table>\n",
       "</div>"
      ],
      "text/plain": [
       "                  companyName     tic  gvkey        companyNameClean\n",
       "0       A.B.A. INDUSTRIES INC   ABA.2   1005       a.b.a. industries\n",
       "1          ABS INDUSTRIES INC  ABSI.1   1009          abs industries\n",
       "2          ACS INDUSTRIES INC   6927B   1012          acs industries\n",
       "3  ADC TELECOMMUNICATIONS INC  ADCT.1   1013  adc telecommunications\n",
       "4            AFP IMAGING CORP    IWKS   1021             afp imaging"
      ]
     },
     "execution_count": 478,
     "metadata": {},
     "output_type": "execute_result"
    }
   ],
   "source": [
    "compIDs.head()"
   ]
  },
  {
   "cell_type": "code",
   "execution_count": 480,
   "metadata": {},
   "outputs": [
    {
     "data": {
      "text/plain": [
       "(6897, 5)"
      ]
     },
     "execution_count": 480,
     "metadata": {},
     "output_type": "execute_result"
    }
   ],
   "source": [
    "compIDs['hasMatch'] = (compIDs.companyNameClean.isin(ig_unique.companyNameClean) | compIDs.tic.isin(ig_unique.tic))\n",
    "compIDsNeedsMatch   = compIDs[~compIDs.hasMatch]\n",
    "compIDsNeedsMatch.shape"
   ]
  },
  {
   "cell_type": "code",
   "execution_count": 477,
   "metadata": {},
   "outputs": [
    {
     "data": {
      "text/plain": [
       "0            a.b.a. industries\n",
       "1               abs industries\n",
       "2               acs industries\n",
       "3       adc telecommunications\n",
       "4                  afp imaging\n",
       "                 ...          \n",
       "8651               ternium sa \n",
       "8652                 gerdau sa\n",
       "8653        warner music group\n",
       "8654               citi trends\n",
       "8655               indosat tbk\n",
       "Name: companyNameClean, Length: 8656, dtype: object"
      ]
     },
     "execution_count": 477,
     "metadata": {},
     "output_type": "execute_result"
    }
   ],
   "source": [
    "compIDs.companyNameClean"
   ]
  },
  {
   "cell_type": "code",
   "execution_count": 483,
   "metadata": {},
   "outputs": [],
   "source": [
    "def closestName(text):\n",
    "    matchOrder = process.extract(text, ig_unique.companyNameClean, \n",
    "                               scorer=fuzz.token_sort_ratio)\n",
    "    return(matchOrder)\n"
   ]
  },
  {
   "cell_type": "code",
   "execution_count": 484,
   "metadata": {},
   "outputs": [
    {
     "data": {
      "text/plain": [
       "3.9796371459960938"
      ]
     },
     "execution_count": 484,
     "metadata": {},
     "output_type": "execute_result"
    }
   ],
   "source": [
    "start = time.time()\n",
    "closestNames = compIDsNeedsMatch.companyNameClean[0:50].apply(closestName)\n",
    "\n",
    "time.time() - start"
   ]
  },
  {
   "cell_type": "code",
   "execution_count": 486,
   "metadata": {},
   "outputs": [
    {
     "data": {
      "text/plain": [
       "0             a.b.a. industries\n",
       "1                abs industries\n",
       "2                acs industries\n",
       "3        adc telecommunications\n",
       "5                    agsmputers\n",
       "6                aim telephones\n",
       "7                     akf foods\n",
       "8                ammmunications\n",
       "9                 amc investors\n",
       "10                 ams/realstar\n",
       "11                 anr pipeline\n",
       "12              apf electronics\n",
       "14                 ast research\n",
       "15                     aeroflex\n",
       "16                          apl\n",
       "17                         at&e\n",
       "19            awmputer systems \n",
       "20                    servidyne\n",
       "21                      aca joe\n",
       "22                      ametech\n",
       "23                       access\n",
       "24                   acco world\n",
       "26                       acmat \n",
       "27               acme-cleveland\n",
       "28                acme electric\n",
       "29      acme precision products\n",
       "31                  acro energy\n",
       "32           princeton holdings\n",
       "35                     actmedia\n",
       "36            adac laboratories\n",
       "38                 adams-millis\n",
       "41       advanced logic systems\n",
       "42              adobe oil & gas\n",
       "43             advance circuits\n",
       "44                 advance ross\n",
       "45    advancedmputer techniques\n",
       "46    advanced energy resources\n",
       "47                        aegis\n",
       "48     aero systems engineering\n",
       "49                      aeronca\n",
       "51                       b-fast\n",
       "52                    aerosonic\n",
       "53    affiliated hospital prods\n",
       "54                         idna\n",
       "57                     airborne\n",
       "58    aircraft instrument & dev\n",
       "59         alabama by-products \n",
       "60                       alamco\n",
       "63              alba-waldensian\n",
       "64               alberto-culver\n",
       "Name: companyNameClean, dtype: object"
      ]
     },
     "execution_count": 486,
     "metadata": {},
     "output_type": "execute_result"
    }
   ],
   "source": [
    "compIDsNeedsMatch.companyNameClean[0:50]"
   ]
  },
  {
   "cell_type": "code",
   "execution_count": 485,
   "metadata": {},
   "outputs": [
    {
     "data": {
      "text/plain": [
       "0     [(abm industries, 87, 332), (be industries, 83...\n",
       "1     [(abm industries, 93, 332), (be industries, 89...\n",
       "2     [(css industries, 93, 572), (astec industries,...\n",
       "3     [(comtech telecommunications, 83, 1271), (shen...\n",
       "5     [(teramputer, 70, 1765), (applemputer, 67, 601...\n",
       "6     [(telephone & data systems, 67, 219), (api ele...\n",
       "7     [(dean foods, 74, 14762), (b & g foods, 67, 16...\n",
       "8     [(mrvmmunications, 90, 880), (mjdmmunications,...\n",
       "9     [(gamco investors, 93, 28356), (investors banc...\n",
       "10    [(lam research, 67, 1894), (james riveral, 64,...\n",
       "11    [(tc pipelines, 67, 21117), (priceline group, ...\n",
       "12    [(api electronics, 93, 43783), (arrow electron...\n",
       "14    [(lam research, 83, 1894), (national research,...\n",
       "15    [(aeropostale, 63, 15094), (flex energy, 63, 5...\n",
       "16    [(apple, 75, 29129), (ual, 67, 555), (gap, 67,...\n",
       "17    [(at&t, 75, 38602), (at & t, 75, 85498), (red ...\n",
       "19    [(amtech systems, 80, 619), (aura systems, 79,...\n",
       "20    [(teradyne, 71, 641), (trimedyne, 67, 949), (v...\n",
       "21    [(achaogen, 67, 66977), (eat at joe's, 63, 229...\n",
       "22    [(amtech, 92, 1006), (megatech, 80, 1585), (am...\n",
       "23    [(avesis, 67, 188), (aes, 67, 751), (arcbest, ...\n",
       "24    [(worlds.com, 80, 34900), (major world, 76, 97...\n",
       "26    [(acmat, 100, 1803), (cato, 67, 1101), (comcas...\n",
       "27    [(cleveland biolabs, 71, 89274), (cleveland bi...\n",
       "28    [(electric car, 80, 45097), (electric city, 77...\n",
       "29    [(e-com products group, 70, 84620), (emergency...\n",
       "31    [(abco energy, 91, 77334), (acorn energy, 87, ...\n",
       "32    [(pico holdings, 84, 1345), (seto holdings, 77...\n",
       "35    [(ascent media, 80, 45090), (amedica, 80, 4712...\n",
       "36    [(bond laboratories, 82, 33329), (idexx labora...\n",
       "38    [(adma biologics, 62, 59017), (adamis pharmace...\n",
       "41    [(advanced polymer systems, 78, 182), (advance...\n",
       "42    [(cabot oil & gas, 77, 131), (aztec oil & gas,...\n",
       "43    [(cdti advanced materials, 67, 93522), (advanc...\n",
       "44    [(signal advance, 69, 70808), (advance holding...\n",
       "45    [(gt advanced technologies, 73, 55465), (advan...\n",
       "46    [(adams resources & energy, 85, 124), (advance...\n",
       "47    [(regis, 80, 592), (aes, 75, 751), (avesis, 73...\n",
       "48    [(image sensing systems, 71, 1087), (american ...\n",
       "49    [(arconic, 71, 82590), (aetna, 67, 97), (ameri...\n",
       "51    [(l b foster, 62, 474), (banc first, 62, 1869)...\n",
       "52    [(arconic, 75, 82590), (sonic, 71, 1789), (har...\n",
       "53    [(affiliated managers group, 64, 3377), (diamo...\n",
       "54    [(dana, 75, 423), (cigna, 67, 464), (didax, 67...\n",
       "57    [(carbonite, 71, 55382), (liz claiborne, 67, 5...\n",
       "58    [(horiba instruments, 63, 3155), (general airc...\n",
       "59    [(playtex products, 69, 894), (lawson products...\n",
       "60    [(alico, 73, 286), (aflac, 73, 914), (alcoa, 7...\n",
       "63    [(lending club, 59, 64214), (valentine beauty,...\n",
       "64    [(secure alert, 69, 42472), (aero century, 62,...\n",
       "Name: companyNameClean, dtype: object"
      ]
     },
     "execution_count": 485,
     "metadata": {},
     "output_type": "execute_result"
    }
   ],
   "source": [
    "closestNames"
   ]
  },
  {
   "cell_type": "code",
   "execution_count": 455,
   "metadata": {},
   "outputs": [],
   "source": [
    "compIDsNeedsMatch.to_csv('../../data/companyData/matchesNeeded.csv')"
   ]
  },
  {
   "cell_type": "code",
   "execution_count": 454,
   "metadata": {},
   "outputs": [],
   "source": [
    "closestNames.to_csv('../../data/companyData/closestNames.csv')"
   ]
  },
  {
   "cell_type": "markdown",
   "metadata": {},
   "source": [
    "# Stock price data"
   ]
  },
  {
   "cell_type": "code",
   "execution_count": 67,
   "metadata": {},
   "outputs": [
    {
     "name": "stderr",
     "output_type": "stream",
     "text": [
      "/Users/brianreed/opt/anaconda3/lib/python3.7/site-packages/IPython/core/interactiveshell.py:3326: DtypeWarning: Columns (3,11,12) have mixed types.Specify dtype option on import or set low_memory=False.\n",
      "  exec(code_obj, self.user_global_ns, self.user_ns)\n"
     ]
    }
   ],
   "source": [
    "file = \"data/crsp_raw.csv\"\n",
    "raw = pd.read_csv(file, encoding = 'unicode_escape')"
   ]
  },
  {
   "cell_type": "code",
   "execution_count": 68,
   "metadata": {},
   "outputs": [
    {
     "data": {
      "text/html": [
       "<div>\n",
       "<style scoped>\n",
       "    .dataframe tbody tr th:only-of-type {\n",
       "        vertical-align: middle;\n",
       "    }\n",
       "\n",
       "    .dataframe tbody tr th {\n",
       "        vertical-align: top;\n",
       "    }\n",
       "\n",
       "    .dataframe thead th {\n",
       "        text-align: right;\n",
       "    }\n",
       "</style>\n",
       "<table border=\"1\" class=\"dataframe\">\n",
       "  <thead>\n",
       "    <tr style=\"text-align: right;\">\n",
       "      <th></th>\n",
       "      <th>PERMNO</th>\n",
       "      <th>date</th>\n",
       "      <th>EXCHCD</th>\n",
       "      <th>SICCD</th>\n",
       "      <th>TICKER</th>\n",
       "      <th>COMNAM</th>\n",
       "      <th>NAICS</th>\n",
       "      <th>PRIMEXCH</th>\n",
       "      <th>PERMCO</th>\n",
       "      <th>PRC</th>\n",
       "      <th>VOL</th>\n",
       "      <th>RET</th>\n",
       "      <th>RETX</th>\n",
       "    </tr>\n",
       "  </thead>\n",
       "  <tbody>\n",
       "    <tr>\n",
       "      <th>0</th>\n",
       "      <td>15580</td>\n",
       "      <td>20000103</td>\n",
       "      <td>3.0</td>\n",
       "      <td>6320.0</td>\n",
       "      <td>AAME</td>\n",
       "      <td>ATLANTIC AMERICAN CORP</td>\n",
       "      <td>NaN</td>\n",
       "      <td>Q</td>\n",
       "      <td>5</td>\n",
       "      <td>2.3125</td>\n",
       "      <td>5221.0</td>\n",
       "      <td>0.000000</td>\n",
       "      <td>0.000000</td>\n",
       "    </tr>\n",
       "    <tr>\n",
       "      <th>1</th>\n",
       "      <td>15580</td>\n",
       "      <td>20000104</td>\n",
       "      <td>3.0</td>\n",
       "      <td>6320.0</td>\n",
       "      <td>AAME</td>\n",
       "      <td>ATLANTIC AMERICAN CORP</td>\n",
       "      <td>NaN</td>\n",
       "      <td>Q</td>\n",
       "      <td>5</td>\n",
       "      <td>2.3750</td>\n",
       "      <td>100.0</td>\n",
       "      <td>0.027027</td>\n",
       "      <td>0.027027</td>\n",
       "    </tr>\n",
       "    <tr>\n",
       "      <th>2</th>\n",
       "      <td>15580</td>\n",
       "      <td>20000105</td>\n",
       "      <td>3.0</td>\n",
       "      <td>6320.0</td>\n",
       "      <td>AAME</td>\n",
       "      <td>ATLANTIC AMERICAN CORP</td>\n",
       "      <td>NaN</td>\n",
       "      <td>Q</td>\n",
       "      <td>5</td>\n",
       "      <td>2.4375</td>\n",
       "      <td>7985.0</td>\n",
       "      <td>0.026316</td>\n",
       "      <td>0.026316</td>\n",
       "    </tr>\n",
       "    <tr>\n",
       "      <th>3</th>\n",
       "      <td>15580</td>\n",
       "      <td>20000106</td>\n",
       "      <td>3.0</td>\n",
       "      <td>6320.0</td>\n",
       "      <td>AAME</td>\n",
       "      <td>ATLANTIC AMERICAN CORP</td>\n",
       "      <td>NaN</td>\n",
       "      <td>Q</td>\n",
       "      <td>5</td>\n",
       "      <td>2.3125</td>\n",
       "      <td>500.0</td>\n",
       "      <td>-0.051282</td>\n",
       "      <td>-0.051282</td>\n",
       "    </tr>\n",
       "    <tr>\n",
       "      <th>4</th>\n",
       "      <td>15580</td>\n",
       "      <td>20000107</td>\n",
       "      <td>3.0</td>\n",
       "      <td>6320.0</td>\n",
       "      <td>AAME</td>\n",
       "      <td>ATLANTIC AMERICAN CORP</td>\n",
       "      <td>NaN</td>\n",
       "      <td>Q</td>\n",
       "      <td>5</td>\n",
       "      <td>2.3750</td>\n",
       "      <td>4530.0</td>\n",
       "      <td>0.027027</td>\n",
       "      <td>0.027027</td>\n",
       "    </tr>\n",
       "  </tbody>\n",
       "</table>\n",
       "</div>"
      ],
      "text/plain": [
       "   PERMNO      date  EXCHCD   SICCD TICKER                  COMNAM  NAICS  \\\n",
       "0   15580  20000103     3.0  6320.0   AAME  ATLANTIC AMERICAN CORP    NaN   \n",
       "1   15580  20000104     3.0  6320.0   AAME  ATLANTIC AMERICAN CORP    NaN   \n",
       "2   15580  20000105     3.0  6320.0   AAME  ATLANTIC AMERICAN CORP    NaN   \n",
       "3   15580  20000106     3.0  6320.0   AAME  ATLANTIC AMERICAN CORP    NaN   \n",
       "4   15580  20000107     3.0  6320.0   AAME  ATLANTIC AMERICAN CORP    NaN   \n",
       "\n",
       "  PRIMEXCH  PERMCO     PRC     VOL        RET       RETX  \n",
       "0        Q       5  2.3125  5221.0   0.000000   0.000000  \n",
       "1        Q       5  2.3750   100.0   0.027027   0.027027  \n",
       "2        Q       5  2.4375  7985.0   0.026316   0.026316  \n",
       "3        Q       5  2.3125   500.0  -0.051282  -0.051282  \n",
       "4        Q       5  2.3750  4530.0   0.027027   0.027027  "
      ]
     },
     "execution_count": 68,
     "metadata": {},
     "output_type": "execute_result"
    }
   ],
   "source": [
    "raw.head()"
   ]
  },
  {
   "cell_type": "markdown",
   "metadata": {},
   "source": [
    "Let's follow Evan's crsp cleaning and linking process.\n",
    "\n",
    "1. Drop firms not traded on NYSE or NASDAQ."
   ]
  },
  {
   "cell_type": "code",
   "execution_count": 69,
   "metadata": {},
   "outputs": [
    {
     "data": {
      "text/plain": [
       "(22272108, 13)"
      ]
     },
     "execution_count": 69,
     "metadata": {},
     "output_type": "execute_result"
    }
   ],
   "source": [
    "other_exch = crsp[ (raw['PRIMEXCH'] != 'Q') & (raw['PRIMEXCH'] != 'N') ].index\n",
    "raw.drop(other_exch, inplace=True)\n",
    "raw.shape"
   ]
  },
  {
   "cell_type": "markdown",
   "metadata": {},
   "source": [
    "2. Drop entries with missing return or volume information."
   ]
  },
  {
   "cell_type": "code",
   "execution_count": 70,
   "metadata": {},
   "outputs": [],
   "source": [
    "raw.dropna(subset=['VOL', 'RET','date'],inplace=True)\n",
    "raw['VOL'] = raw['VOL'].astype('int')\n",
    "raw.drop(raw[raw['RET']=='C'].index,inplace=True)\n",
    "raw['RET'] = raw['RET'].astype('float')\n",
    "raw['date'] = raw['date'].astype('int')"
   ]
  },
  {
   "cell_type": "markdown",
   "metadata": {},
   "source": [
    "3. Drop tickers with average daily trading volume less than 100K shares."
   ]
  },
  {
   "cell_type": "code",
   "execution_count": 71,
   "metadata": {},
   "outputs": [
    {
     "data": {
      "text/plain": [
       "(15589271, 13)"
      ]
     },
     "execution_count": 71,
     "metadata": {},
     "output_type": "execute_result"
    }
   ],
   "source": [
    "adv = raw[['VOL','TICKER']].groupby(['TICKER']).mean()\n",
    "low_vol = adv.drop(adv[adv['VOL']>=100000].index)\n",
    "low_vol_index = raw[raw['TICKER'].isin(low_vol.index)].index\n",
    "raw.drop(low_vol_index,inplace=True)\n",
    "raw.shape"
   ]
  },
  {
   "cell_type": "markdown",
   "metadata": {},
   "source": [
    "4. Drop tickers that traded for less than 20% of the period"
   ]
  },
  {
   "cell_type": "code",
   "execution_count": 72,
   "metadata": {},
   "outputs": [
    {
     "data": {
      "text/plain": [
       "(14471739, 13)"
      ]
     },
     "execution_count": 72,
     "metadata": {},
     "output_type": "execute_result"
    }
   ],
   "source": [
    "ndays = len(raw.date.unique())\n",
    "obs = raw['TICKER'].value_counts()\n",
    "rare_obs = obs[obs<0.2*ndays]\n",
    "rare_index = raw[raw['TICKER'].isin(rare_obs.index)].index\n",
    "raw.drop(rare_index,inplace=True)\n",
    "raw.shape"
   ]
  },
  {
   "cell_type": "code",
   "execution_count": 108,
   "metadata": {},
   "outputs": [],
   "source": [
    "raw = raw.drop_duplicates()"
   ]
  },
  {
   "cell_type": "code",
   "execution_count": 109,
   "metadata": {},
   "outputs": [
    {
     "data": {
      "text/plain": [
       "(14471739, 13)"
      ]
     },
     "execution_count": 109,
     "metadata": {},
     "output_type": "execute_result"
    }
   ],
   "source": [
    "raw.shape"
   ]
  },
  {
   "cell_type": "markdown",
   "metadata": {},
   "source": [
    "Merge in GVKEY information for linking with compustat.\n",
    "\n",
    "gv_cik will come in hand with another merge maybe; but to get to compustat, looks like we just need gvkey - permco."
   ]
  },
  {
   "cell_type": "markdown",
   "metadata": {},
   "source": [
    "Some of the keys seem to be used twice. Let's see if they're re-used when a company has gone out of business."
   ]
  },
  {
   "cell_type": "code",
   "execution_count": 174,
   "metadata": {},
   "outputs": [
    {
     "name": "stdout",
     "output_type": "stream",
     "text": [
      "(8681, 11)\n",
      "    gvkey                          conm         cik LINKPRIM LIID LINKTYPE  \\\n",
      "4    1004                      AAR CORP  0000001750        P   01       LU   \n",
      "48   1045   AMERICAN AIRLINES GROUP INC  0000006201        P   04       LC   \n",
      "49   1045   AMERICAN AIRLINES GROUP INC  0000006201        P   01       LC   \n",
      "54   1050       CECO ENVIRONMENTAL CORP  0000003197        P   01       LC   \n",
      "66   1062  ASA GOLD AND PRECIOUS METALS  0001230869        P   01       LU   \n",
      "\n",
      "    LPERMNO  LPERMCO    LINKDT LINKENDDT  existsCurrently  \n",
      "4     54594    20000  19720424  20210101             2021  \n",
      "48    21020    20010  20131209  20210101             2021  \n",
      "49    21020    20010  19620131  20120104             2012  \n",
      "54    11499      176  19801128  20210101             2021  \n",
      "66    26649    20015  19650129  20210101             2021  \n"
     ]
    }
   ],
   "source": [
    "# gv_cik = pd.read_csv(\"data/cik_gvkey.csv\",dtype={'cik':str})[['cik','gvkey']]\n",
    "gv_permco = pd.read_csv(\"data/cik_permco.csv\",dtype={'cik':str})\n",
    "# [['gvkey','LPERMCO']].rename(columns = {'LPERMCO': 'PERMCO'}).drop_duplicates()\n",
    "\n",
    "gv_permco.loc[gv_permco.LINKENDDT == 'E', 'LINKENDDT'] = '20210101'\n",
    "gv_permco['existsCurrently'] = pd.DatetimeIndex(pd.to_datetime(gv_permco.LINKENDDT.astype(str), format='%Y%m%d')).year\n",
    "\n",
    "gv_permco = gv_permco[gv_permco.existsCurrently > 2010]\n",
    "print(gv_permco.shape)\n",
    "print(gv_permco.head())\n",
    "\n",
    "gv_permco = gv_permco[['gvkey','LPERMCO','conm']].rename(columns = {'LPERMCO': 'PERMCO'}).drop_duplicates()"
   ]
  },
  {
   "cell_type": "code",
   "execution_count": 164,
   "metadata": {},
   "outputs": [
    {
     "name": "stdout",
     "output_type": "stream",
     "text": [
      "TYCO INTERNATIONAL PLC\n",
      "TGC INDUSTRIES INC\n",
      "GCI LIBERTY INC\n",
      "TCF FINANCIAL CORP\n",
      "BAY BANCORP INC\n",
      "DOCUMENT SECURITY SYS INC\n",
      "SPHERIX INC\n",
      "STARWOOD WAYPOINT RES TR\n",
      "ARC WIRELESS SOLUTIONS INC\n",
      "GLORI ENERGY INC\n",
      "SLM CORP\n",
      "TOBIRA THERAPEUTICS INC\n",
      "YUMA ENERGY INC -OLD\n",
      "PANGAEA LOGISTICS SOLUTIONS\n",
      "EARTHSTONE ENERGY INC\n",
      "BLUE BIRD CORP\n",
      "ZAIS GROUP HLDGS INC\n",
      "GP INVESTMENTS ACQUISITION\n",
      "LINDBLAD EXPEDITIONS HLDGS\n",
      "BMC STOCK HOLDINGS INC\n",
      "PULMATRIX INC\n",
      "HENNESSY CAPITL ACQ CORP II\n",
      "AKARI THERAPEUTICS PLC -ADR\n",
      "PLX PHARMA INC\n",
      "WINS FINANCE HOLDINGS INC\n",
      "HERC HOLDINGS INC\n",
      "ABILITY INC\n",
      "CENTRIC BRANDS INC\n",
      "EIGER BIOPHARMACEUTICALS INC\n",
      "LIBERTY MEDIA BRAVES GROUP\n",
      "ROAN HOLDINGS GROUP CO LTD\n",
      "CARDCONNECT CORP\n",
      "ARCONIC INC\n",
      "STONE ENERGY CORP\n",
      "YUMA ENERGY INC\n",
      "KALVISTA PHARMACEUTICALS\n",
      "PRIORITY TECHNLGY HLDNGS INC\n",
      "MICROBOT MEDICAL INC\n",
      "PMC COMMERCIAL TRUST-OLD\n",
      "INSPIRED ENTERTAINMENT\n",
      "WESTROCK CO\n",
      "TELLURIAN INC\n",
      "MIRAGEN THERAPEUTICS INC\n",
      "BMB MUNAI INC -OLD\n",
      "MEDIA GENERAL INC\n",
      "ROSEHILL RESOURCES INC\n",
      "NOVUS THERAPEUTICS INC\n",
      "CONSTELLATION ALPHA CAP CRP\n",
      "EXELA TECHNOLOGIES INC\n",
      "CISION LTD\n",
      "BAKER HUGHES CO\n",
      "DARE BIOSCIENCE INC\n",
      "NEXTDECADE CORP\n",
      "ALPINE IMMUNE SCIENCES INC\n",
      "STARZ\n",
      "JAGUAR HEALTH INC\n",
      "BORQS TECHNOLOGIES INC\n",
      "SYNLOGIC INC\n",
      "ARCTURUS THERAPEUTICS INC\n",
      "WILLSCOT CORP\n",
      "ROCKET PHARMACEUTICALS INC\n",
      "INNOVATE BIOPHRMCEUTICLS INC\n",
      "PURPLE INNOVATION INC\n",
      "TMSR HOLDING CO LTD\n",
      "VAXART INC\n",
      "INFRASTRUCTR & ENRGY ALT INC\n",
      "NRC GROUP HOLDINGS CORP\n",
      "SKYLINE CHAMPION CORP\n",
      "LIQUID MEDIA GROUP LTD\n",
      "COMSTOCK RESOURCES INC\n",
      "HF FOODS GROUP INC\n",
      "FALCON MINERALS CORP\n",
      "VERRA MOBILITY CORP\n",
      "US WELL SERVICES INC\n",
      "ALTUS MIDSTREAM COMPANY\n",
      "WAITR HOLDINGS INC\n",
      "MILLENDO THERAPEUTICS INC\n",
      "ORGANOGENESIS HOLDINGS INC\n",
      "REEBONZ HOLDING LTD\n",
      "PHUNWARE INC\n",
      "SCWORX CORP\n",
      "BIOCERES CROP SOLUTIONS CORP\n",
      "ENLIVEX THERAPEUTICS LTD\n",
      "AKERNA CORP\n",
      "IMPAX LABORATORIES INC\n",
      "MAST THERAPEUTICS\n",
      "COGENTIX MEDICAL INC\n",
      "AMB PROPERTY CORP\n",
      "SEVION THERAPEUTICS INC\n",
      "BIOSANTE PHARMACEUTICALS-OLD\n",
      "YADKIN FINANCIAL CORP\n",
      "OPEXA THERAPEUTICS INC\n",
      "ONTO INNOVATION INC\n",
      "WPCS INTERNATIONAL INC\n",
      "EON COMMUNICATIONS CORP\n",
      "TRANSGENOMIC INC\n",
      "TELIK INC -OLD\n",
      "ZHONE TECHNOLOGIES INC\n",
      "SUNOCO LOGISTICS PARTNERS LP\n",
      "ALCON INC- OLD\n",
      "PROGRESSIVE WASTE SOLUTIONS\n",
      "NILE THERAPEUTICS INC\n",
      "ALAMOS GOLD INC -OLD\n",
      "THRESHOLD PHARMACEUTICALS\n",
      "METROPCS COMMUNICATIONS INC\n",
      "GRAMERCY PROPERTY TRUST\n",
      "LIBERTY GLOBAL PLC\n",
      "OHR PHARMACEUTICAL INC\n",
      "ZALICUS INC\n",
      "EPICEPT CORP-OLD\n",
      "SYNTA PHARMACEUTICALS CORP\n",
      "IHS MARKIT LTD\n",
      "TARGACEPT INC\n",
      "VIRTUS TOTAL RETURN FUND INC\n",
      "DSW INC-OLD\n",
      "PHARMATHENE INC\n",
      "FIDELITY NATL FINL FNF GROUP\n",
      "LPATH INC\n",
      "ROI ACQUISITION CORP\n",
      "MERUS LABS INTERNATIONAL INC\n",
      "USA COMPRESSION PRTNRS -OLD\n",
      "ZAZA ENERGY CORP\n",
      "BLUE DOLPHIN ENERGY CO\n",
      "CIS ACQUISITION LTD\n",
      "QURATE RETAIL INC\n",
      "CONVERTED ORGANICS INC -OLD\n",
      "PVR PARTNERS LP\n",
      "SKILLED HEALTHCARE GROUP INC\n",
      "BIOFUEL ENERGY CORP\n",
      "BIODEL INC\n",
      "GASTAR EXPLORATION INC\n",
      "GALENA BIOPHARMA INC\n",
      "FINTECH ACQUISITION CP II\n",
      "ONCOGENEX PHARMACEUTICALS\n",
      "TRANSCEPT PHARMACEUTICALS\n",
      "READY CAPITAL CORP\n",
      "ENERJEX RESOURCES INC\n",
      "COLONY CAPITAL INC\n",
      "LIBERTY MEDIA STARZ GROUP\n",
      "LIBERTY MEDIA STARZ GROUP\n",
      "VRINGO INC  -OLD\n",
      "ACCESS MIDSTREAM PARTNERS LP\n",
      "KINGTONE WIRELESS  -ADR -OLD\n",
      "STELLAR BIOTECHNOLOGIES INC\n",
      "TORNIER NV\n",
      "SWIFT TRANSPORTATION CO\n",
      "CAZADOR ACQUISITION CORP LTD\n",
      "PARAMETRIC SOUND CORP-OLD\n",
      "TRANZYME INC\n",
      "TEUCRIUM NATURAL GAS FUND\n",
      "TEUCRIUM CRUDE OIL FUND\n",
      "AMERICAN MIDSTREAM PRT -OLD\n",
      "TRIO MERGER CORP\n",
      "CHINA GROWTH EQUITY INVSTMNT\n",
      "RENNOVA HEALTH INC\n",
      "INERGY MIDSTREAM -LP\n",
      "WESTWOOD ONE INC\n",
      "SYNAGEVA BIOPHARMA CORP\n",
      "AMPLIFY ENERGY CORP\n",
      "MELINTA THERAPEUTICS INC\n",
      "AVIRAGEN THERAPEUTICS INC\n",
      "TRI POINTE GROUP INC\n",
      "STARTEK INC\n"
     ]
    }
   ],
   "source": [
    "for company in gv_permco[gv_permco.PERMCO.duplicated()].conm:\n",
    "    print(company)"
   ]
  },
  {
   "cell_type": "markdown",
   "metadata": {},
   "source": [
    "Drop the duplicated entries. We may want to revisit this later on."
   ]
  },
  {
   "cell_type": "code",
   "execution_count": 175,
   "metadata": {},
   "outputs": [],
   "source": [
    "gv_permco = gv_permco[~gv_permco.PERMCO.isin(list(gv_permco.PERMCO[gv_permco.PERMCO.duplicated()]))]"
   ]
  },
  {
   "cell_type": "markdown",
   "metadata": {},
   "source": [
    "Now just merge the raw return information with this company information so we can link everything."
   ]
  },
  {
   "cell_type": "code",
   "execution_count": 176,
   "metadata": {},
   "outputs": [
    {
     "data": {
      "text/plain": [
       "(14471739, 15)"
      ]
     },
     "execution_count": 176,
     "metadata": {},
     "output_type": "execute_result"
    }
   ],
   "source": [
    "rawMergeable = pd.merge(raw,gv_permco,on='PERMCO',how = 'left')\n",
    "rawMergeable.shape"
   ]
  },
  {
   "cell_type": "code",
   "execution_count": 148,
   "metadata": {},
   "outputs": [
    {
     "data": {
      "text/html": [
       "<div>\n",
       "<style scoped>\n",
       "    .dataframe tbody tr th:only-of-type {\n",
       "        vertical-align: middle;\n",
       "    }\n",
       "\n",
       "    .dataframe tbody tr th {\n",
       "        vertical-align: top;\n",
       "    }\n",
       "\n",
       "    .dataframe thead th {\n",
       "        text-align: right;\n",
       "    }\n",
       "</style>\n",
       "<table border=\"1\" class=\"dataframe\">\n",
       "  <thead>\n",
       "    <tr style=\"text-align: right;\">\n",
       "      <th></th>\n",
       "      <th>PERMNO</th>\n",
       "      <th>date</th>\n",
       "      <th>EXCHCD</th>\n",
       "      <th>SICCD</th>\n",
       "      <th>TICKER</th>\n",
       "      <th>COMNAM</th>\n",
       "      <th>NAICS</th>\n",
       "      <th>PRIMEXCH</th>\n",
       "      <th>PERMCO</th>\n",
       "      <th>PRC</th>\n",
       "      <th>VOL</th>\n",
       "      <th>RET</th>\n",
       "      <th>RETX</th>\n",
       "    </tr>\n",
       "  </thead>\n",
       "  <tbody>\n",
       "    <tr>\n",
       "      <th>5031</th>\n",
       "      <td>14593</td>\n",
       "      <td>20000103</td>\n",
       "      <td>3.0</td>\n",
       "      <td>3573.0</td>\n",
       "      <td>AAPL</td>\n",
       "      <td>APPLE COMPUTER INC</td>\n",
       "      <td>NaN</td>\n",
       "      <td>Q</td>\n",
       "      <td>7</td>\n",
       "      <td>111.9375</td>\n",
       "      <td>4833736</td>\n",
       "      <td>0.088754</td>\n",
       "      <td>0.088754</td>\n",
       "    </tr>\n",
       "    <tr>\n",
       "      <th>5032</th>\n",
       "      <td>14593</td>\n",
       "      <td>20000104</td>\n",
       "      <td>3.0</td>\n",
       "      <td>3573.0</td>\n",
       "      <td>AAPL</td>\n",
       "      <td>APPLE COMPUTER INC</td>\n",
       "      <td>NaN</td>\n",
       "      <td>Q</td>\n",
       "      <td>7</td>\n",
       "      <td>102.5000</td>\n",
       "      <td>4646120</td>\n",
       "      <td>-0.084310</td>\n",
       "      <td>-0.084310</td>\n",
       "    </tr>\n",
       "    <tr>\n",
       "      <th>5033</th>\n",
       "      <td>14593</td>\n",
       "      <td>20000105</td>\n",
       "      <td>3.0</td>\n",
       "      <td>3573.0</td>\n",
       "      <td>AAPL</td>\n",
       "      <td>APPLE COMPUTER INC</td>\n",
       "      <td>NaN</td>\n",
       "      <td>Q</td>\n",
       "      <td>7</td>\n",
       "      <td>104.0000</td>\n",
       "      <td>7060334</td>\n",
       "      <td>0.014634</td>\n",
       "      <td>0.014634</td>\n",
       "    </tr>\n",
       "    <tr>\n",
       "      <th>5034</th>\n",
       "      <td>14593</td>\n",
       "      <td>20000106</td>\n",
       "      <td>3.0</td>\n",
       "      <td>3573.0</td>\n",
       "      <td>AAPL</td>\n",
       "      <td>APPLE COMPUTER INC</td>\n",
       "      <td>NaN</td>\n",
       "      <td>Q</td>\n",
       "      <td>7</td>\n",
       "      <td>95.0000</td>\n",
       "      <td>6917851</td>\n",
       "      <td>-0.086538</td>\n",
       "      <td>-0.086538</td>\n",
       "    </tr>\n",
       "    <tr>\n",
       "      <th>5035</th>\n",
       "      <td>14593</td>\n",
       "      <td>20000107</td>\n",
       "      <td>3.0</td>\n",
       "      <td>3573.0</td>\n",
       "      <td>AAPL</td>\n",
       "      <td>APPLE COMPUTER INC</td>\n",
       "      <td>NaN</td>\n",
       "      <td>Q</td>\n",
       "      <td>7</td>\n",
       "      <td>99.5000</td>\n",
       "      <td>4180715</td>\n",
       "      <td>0.047368</td>\n",
       "      <td>0.047368</td>\n",
       "    </tr>\n",
       "  </tbody>\n",
       "</table>\n",
       "</div>"
      ],
      "text/plain": [
       "      PERMNO      date  EXCHCD   SICCD TICKER              COMNAM  NAICS  \\\n",
       "5031   14593  20000103     3.0  3573.0   AAPL  APPLE COMPUTER INC    NaN   \n",
       "5032   14593  20000104     3.0  3573.0   AAPL  APPLE COMPUTER INC    NaN   \n",
       "5033   14593  20000105     3.0  3573.0   AAPL  APPLE COMPUTER INC    NaN   \n",
       "5034   14593  20000106     3.0  3573.0   AAPL  APPLE COMPUTER INC    NaN   \n",
       "5035   14593  20000107     3.0  3573.0   AAPL  APPLE COMPUTER INC    NaN   \n",
       "\n",
       "     PRIMEXCH  PERMCO       PRC      VOL       RET       RETX  \n",
       "5031        Q       7  111.9375  4833736  0.088754   0.088754  \n",
       "5032        Q       7  102.5000  4646120 -0.084310  -0.084310  \n",
       "5033        Q       7  104.0000  7060334  0.014634   0.014634  \n",
       "5034        Q       7   95.0000  6917851 -0.086538  -0.086538  \n",
       "5035        Q       7   99.5000  4180715  0.047368   0.047368  "
      ]
     },
     "execution_count": 148,
     "metadata": {},
     "output_type": "execute_result"
    }
   ],
   "source": [
    "raw.head()"
   ]
  },
  {
   "cell_type": "code",
   "execution_count": 180,
   "metadata": {},
   "outputs": [
    {
     "data": {
      "text/html": [
       "<div>\n",
       "<style scoped>\n",
       "    .dataframe tbody tr th:only-of-type {\n",
       "        vertical-align: middle;\n",
       "    }\n",
       "\n",
       "    .dataframe tbody tr th {\n",
       "        vertical-align: top;\n",
       "    }\n",
       "\n",
       "    .dataframe thead th {\n",
       "        text-align: right;\n",
       "    }\n",
       "</style>\n",
       "<table border=\"1\" class=\"dataframe\">\n",
       "  <thead>\n",
       "    <tr style=\"text-align: right;\">\n",
       "      <th></th>\n",
       "      <th>PERMNO</th>\n",
       "      <th>date</th>\n",
       "      <th>EXCHCD</th>\n",
       "      <th>SICCD</th>\n",
       "      <th>TICKER</th>\n",
       "      <th>COMNAM</th>\n",
       "      <th>NAICS</th>\n",
       "      <th>PRIMEXCH</th>\n",
       "      <th>PERMCO</th>\n",
       "      <th>PRC</th>\n",
       "      <th>VOL</th>\n",
       "      <th>RET</th>\n",
       "      <th>gvkey</th>\n",
       "      <th>conm</th>\n",
       "      <th>year</th>\n",
       "    </tr>\n",
       "  </thead>\n",
       "  <tbody>\n",
       "    <tr>\n",
       "      <th>0</th>\n",
       "      <td>14593</td>\n",
       "      <td>2000-01-03</td>\n",
       "      <td>3.0</td>\n",
       "      <td>3573.0</td>\n",
       "      <td>AAPL</td>\n",
       "      <td>APPLE COMPUTER INC</td>\n",
       "      <td>NaN</td>\n",
       "      <td>Q</td>\n",
       "      <td>7</td>\n",
       "      <td>111.9375</td>\n",
       "      <td>4833736</td>\n",
       "      <td>0.088754</td>\n",
       "      <td>1690.0</td>\n",
       "      <td>APPLE INC</td>\n",
       "      <td>2000</td>\n",
       "    </tr>\n",
       "    <tr>\n",
       "      <th>1</th>\n",
       "      <td>14593</td>\n",
       "      <td>2000-01-04</td>\n",
       "      <td>3.0</td>\n",
       "      <td>3573.0</td>\n",
       "      <td>AAPL</td>\n",
       "      <td>APPLE COMPUTER INC</td>\n",
       "      <td>NaN</td>\n",
       "      <td>Q</td>\n",
       "      <td>7</td>\n",
       "      <td>102.5000</td>\n",
       "      <td>4646120</td>\n",
       "      <td>-0.084310</td>\n",
       "      <td>1690.0</td>\n",
       "      <td>APPLE INC</td>\n",
       "      <td>2000</td>\n",
       "    </tr>\n",
       "    <tr>\n",
       "      <th>2</th>\n",
       "      <td>14593</td>\n",
       "      <td>2000-01-05</td>\n",
       "      <td>3.0</td>\n",
       "      <td>3573.0</td>\n",
       "      <td>AAPL</td>\n",
       "      <td>APPLE COMPUTER INC</td>\n",
       "      <td>NaN</td>\n",
       "      <td>Q</td>\n",
       "      <td>7</td>\n",
       "      <td>104.0000</td>\n",
       "      <td>7060334</td>\n",
       "      <td>0.014634</td>\n",
       "      <td>1690.0</td>\n",
       "      <td>APPLE INC</td>\n",
       "      <td>2000</td>\n",
       "    </tr>\n",
       "    <tr>\n",
       "      <th>3</th>\n",
       "      <td>14593</td>\n",
       "      <td>2000-01-06</td>\n",
       "      <td>3.0</td>\n",
       "      <td>3573.0</td>\n",
       "      <td>AAPL</td>\n",
       "      <td>APPLE COMPUTER INC</td>\n",
       "      <td>NaN</td>\n",
       "      <td>Q</td>\n",
       "      <td>7</td>\n",
       "      <td>95.0000</td>\n",
       "      <td>6917851</td>\n",
       "      <td>-0.086538</td>\n",
       "      <td>1690.0</td>\n",
       "      <td>APPLE INC</td>\n",
       "      <td>2000</td>\n",
       "    </tr>\n",
       "    <tr>\n",
       "      <th>4</th>\n",
       "      <td>14593</td>\n",
       "      <td>2000-01-07</td>\n",
       "      <td>3.0</td>\n",
       "      <td>3573.0</td>\n",
       "      <td>AAPL</td>\n",
       "      <td>APPLE COMPUTER INC</td>\n",
       "      <td>NaN</td>\n",
       "      <td>Q</td>\n",
       "      <td>7</td>\n",
       "      <td>99.5000</td>\n",
       "      <td>4180715</td>\n",
       "      <td>0.047368</td>\n",
       "      <td>1690.0</td>\n",
       "      <td>APPLE INC</td>\n",
       "      <td>2000</td>\n",
       "    </tr>\n",
       "  </tbody>\n",
       "</table>\n",
       "</div>"
      ],
      "text/plain": [
       "   PERMNO       date  EXCHCD   SICCD TICKER              COMNAM  NAICS  \\\n",
       "0   14593 2000-01-03     3.0  3573.0   AAPL  APPLE COMPUTER INC    NaN   \n",
       "1   14593 2000-01-04     3.0  3573.0   AAPL  APPLE COMPUTER INC    NaN   \n",
       "2   14593 2000-01-05     3.0  3573.0   AAPL  APPLE COMPUTER INC    NaN   \n",
       "3   14593 2000-01-06     3.0  3573.0   AAPL  APPLE COMPUTER INC    NaN   \n",
       "4   14593 2000-01-07     3.0  3573.0   AAPL  APPLE COMPUTER INC    NaN   \n",
       "\n",
       "  PRIMEXCH  PERMCO       PRC      VOL       RET   gvkey       conm  year  \n",
       "0        Q       7  111.9375  4833736  0.088754  1690.0  APPLE INC  2000  \n",
       "1        Q       7  102.5000  4646120 -0.084310  1690.0  APPLE INC  2000  \n",
       "2        Q       7  104.0000  7060334  0.014634  1690.0  APPLE INC  2000  \n",
       "3        Q       7   95.0000  6917851 -0.086538  1690.0  APPLE INC  2000  \n",
       "4        Q       7   99.5000  4180715  0.047368  1690.0  APPLE INC  2000  "
      ]
     },
     "execution_count": 180,
     "metadata": {},
     "output_type": "execute_result"
    }
   ],
   "source": [
    "rawMergeable = rawMergeable.drop(['RETX'],axis = 1)\n",
    "rawMergeable['date'] = pd.to_datetime(rawMergeable['date'].astype(str), format='%Y%m%d')\n",
    "rawMergeable['year'] = pd.DatetimeIndex(rawMergeable['date']).year\n",
    "rawMergeable.head()"
   ]
  },
  {
   "cell_type": "code",
   "execution_count": 181,
   "metadata": {},
   "outputs": [],
   "source": [
    "outfile =  'data/stockReturns.pkl'\n",
    "with open(outfile, 'wb') as pickle_file:\n",
    "    pickle.dump(rawMergeable, pickle_file)"
   ]
  },
  {
   "cell_type": "markdown",
   "metadata": {},
   "source": [
    "----------------------------------------------"
   ]
  },
  {
   "cell_type": "code",
   "execution_count": 64,
   "metadata": {},
   "outputs": [
    {
     "data": {
      "text/plain": [
       "(24600859, 14)"
      ]
     },
     "execution_count": 64,
     "metadata": {},
     "output_type": "execute_result"
    }
   ],
   "source": [
    "crsp2010s = crsp[['date','year','PERMNO','COMNAM','PRC']]"
   ]
  },
  {
   "cell_type": "code",
   "execution_count": 65,
   "metadata": {},
   "outputs": [
    {
     "data": {
      "text/plain": [
       "24436450"
      ]
     },
     "execution_count": 65,
     "metadata": {},
     "output_type": "execute_result"
    }
   ],
   "source": [
    "sum(crsp.RET == crsp.RETX)"
   ]
  }
 ],
 "metadata": {
  "kernelspec": {
   "display_name": "Python 3",
   "language": "python",
   "name": "python3"
  },
  "language_info": {
   "codemirror_mode": {
    "name": "ipython",
    "version": 3
   },
   "file_extension": ".py",
   "mimetype": "text/x-python",
   "name": "python",
   "nbconvert_exporter": "python",
   "pygments_lexer": "ipython3",
   "version": "3.7.4"
  }
 },
 "nbformat": 4,
 "nbformat_minor": 2
}
