{
 "cells": [
  {
   "cell_type": "code",
   "execution_count": 1,
   "metadata": {},
   "outputs": [
    {
     "name": "stderr",
     "output_type": "stream",
     "text": [
      "/Users/brianreed/opt/anaconda3/lib/python3.7/site-packages/dask/dataframe/utils.py:14: FutureWarning: pandas.util.testing is deprecated. Use the functions in the public API at pandas.testing instead.\n",
      "  import pandas.util.testing as tm\n"
     ]
    }
   ],
   "source": [
    "import pickle as pkl\n",
    "import pandas as pd\n",
    "import matplotlib\n",
    "import os\n",
    "import re\n",
    "\n",
    "import collections\n",
    "import datetime\n",
    "import time\n",
    "\n",
    "import matplotlib.pyplot as plt\n",
    "import seaborn as sns\n",
    "    \n",
    "import geopandas as gpd\n",
    "\n",
    "import numpy as np\n",
    "\n",
    "import rasterio\n",
    "\n",
    "from difflib import get_close_matches\n",
    "\n",
    "from fuzzywuzzy import process\n",
    "from fuzzywuzzy import fuzz\n",
    "\n",
    "import dask.dataframe as dd\n",
    "\n",
    "import gc\n",
    "import sys\n",
    "\n",
    "from multiprocessing import Pool\n",
    "import multiprocessing\n",
    "\n",
    "from dask.diagnostics import ProgressBar"
   ]
  },
  {
   "cell_type": "code",
   "execution_count": null,
   "metadata": {},
   "outputs": [],
   "source": []
  },
  {
   "cell_type": "code",
   "execution_count": 2,
   "metadata": {},
   "outputs": [],
   "source": [
    "def getData(weatherType,yearRange1,yearRange2):\n",
    "\n",
    "    if weatherType == \"Tmax\":\n",
    "        weatherVar = \"temperature\"\n",
    "    else: \n",
    "        weatherVar = \"precipitation\"\n",
    "    \n",
    "    year = yearRange1\n",
    "    filename = \"../../../../../../../Volumes/backup2/dissData/prism/zipcode\" + weatherType + str(year) + \".csv\"\n",
    "    data = dd.read_csv(filename, assume_missing=True)[['ZIP','date',weatherVar]]\n",
    "    data['ZIP'] = data.ZIP.astype('int64')\n",
    "\n",
    "    \n",
    "   \n",
    "    years = range(yearRange1 + 1,yearRange2 + 1)\n",
    "    for year in years:\n",
    "        filename = \"../../../../../../../Volumes/backup2/dissData/prism/zipcode\" + weatherType + str(year) + \".csv\"\n",
    "        tempData = dd.read_csv(filename, assume_missing=True)[['ZIP','date',weatherVar]]\n",
    "        tempData['ZIP'] = tempData.ZIP.astype('int64')\n",
    "\n",
    "        # tempData = tempData[tempData.ZIP.isin(relevantZips)]\n",
    "        # tempData = tempData[~(tempData[weatherVar].isna().compute())]\n",
    "        data = data.append(tempData)\n",
    "\n",
    "    data = data[~(data[weatherVar].isna())] # .compute()\n",
    "    \n",
    "    return(data)"
   ]
  },
  {
   "cell_type": "code",
   "execution_count": null,
   "metadata": {},
   "outputs": [],
   "source": []
  },
  {
   "cell_type": "code",
   "execution_count": null,
   "metadata": {},
   "outputs": [],
   "source": []
  }
 ],
 "metadata": {
  "kernelspec": {
   "display_name": "Python 3",
   "language": "python",
   "name": "python3"
  },
  "language_info": {
   "codemirror_mode": {
    "name": "ipython",
    "version": 3
   },
   "file_extension": ".py",
   "mimetype": "text/x-python",
   "name": "python",
   "nbconvert_exporter": "python",
   "pygments_lexer": "ipython3",
   "version": "3.7.4"
  }
 },
 "nbformat": 4,
 "nbformat_minor": 2
}
