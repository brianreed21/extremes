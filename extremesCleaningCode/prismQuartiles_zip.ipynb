{
 "cells": [
  {
   "cell_type": "code",
   "execution_count": 29,
   "metadata": {},
   "outputs": [],
   "source": [
    "import pickle as pkl\n",
    "import pandas as pd\n",
    "import matplotlib\n",
    "import os\n",
    "import re\n",
    "\n",
    "import collections\n",
    "import datetime\n",
    "import time\n",
    "\n",
    "import matplotlib.pyplot as plt\n",
    "import seaborn as sns\n",
    "    \n",
    "import geopandas as gpd\n",
    "\n",
    "import numpy as np\n",
    "\n",
    "import rasterio\n",
    "\n",
    "from difflib import get_close_matches\n",
    "\n",
    "from fuzzywuzzy import process\n",
    "from fuzzywuzzy import fuzz\n",
    "\n",
    "import dask.dataframe as dd\n",
    "\n",
    "import gc\n",
    "import sys\n",
    "\n",
    "from multiprocessing import Pool\n",
    "import multiprocessing\n"
   ]
  },
  {
   "cell_type": "markdown",
   "metadata": {},
   "source": [
    "# Sample"
   ]
  },
  {
   "cell_type": "code",
   "execution_count": 3,
   "metadata": {},
   "outputs": [
    {
     "data": {
      "text/plain": [
       "4538"
      ]
     },
     "execution_count": 3,
     "metadata": {},
     "output_type": "execute_result"
    }
   ],
   "source": [
    "callLocation = '../../data/companyData/relevantZips.pkl'\n",
    "file   = open(callLocation,\"rb\")\n",
    "relevantZips = list(pkl.load(file))\n",
    "\n",
    "len(relevantZips)"
   ]
  },
  {
   "cell_type": "code",
   "execution_count": 4,
   "metadata": {},
   "outputs": [],
   "source": [
    "def getData(weatherType,yearRange1,yearRange2):\n",
    "\n",
    "    if weatherType == \"Tmax\":\n",
    "        weatherVar = \"temperature\"\n",
    "    else: \n",
    "        weatherVar = \"precipitation\"\n",
    "    \n",
    "    year = yearRange1\n",
    "    filename = \"../../../../../../../Volumes/backup2/dissData/prism/zipcode\" + weatherType + str(year) + \".csv\"\n",
    "    data = dd.read_csv(filename, assume_missing=True)[['ZIP','date',weatherVar]]\n",
    "    data['ZIP'] = data.ZIP.astype('int64')\n",
    "\n",
    "    \n",
    "    callLocation = '../../data/companyData/relevantZips.pkl'\n",
    "    file   = open(callLocation,\"rb\")\n",
    "    relevantZips = list(pkl.load(file))\n",
    "    \n",
    "    \n",
    "    data = data[data.ZIP.isin(relevantZips)]\n",
    "    \n",
    "    # data = data[~(data[weatherVar].isna().compute())]\n",
    "\n",
    "    years = range(yearRange1 + 1,yearRange2 + 1)\n",
    "    for year in years:\n",
    "        filename = \"../../../../../../../Volumes/backup2/dissData/prism/zipcode\" + weatherType + str(year) + \".csv\"\n",
    "        tempData = dd.read_csv(filename, assume_missing=True)[['ZIP','date',weatherVar]]\n",
    "        tempData['ZIP'] = tempData.ZIP.astype('int64')\n",
    "\n",
    "        tempData = tempData[tempData.ZIP.isin(relevantZips)]\n",
    "        # tempData = tempData[~(tempData[weatherVar].isna().compute())]\n",
    "        data = data.append(tempData)\n",
    "\n",
    "    data = data[~(data[weatherVar].isna())].compute()\n",
    "    \n",
    "    return(data)\n"
   ]
  },
  {
   "cell_type": "markdown",
   "metadata": {},
   "source": [
    "I think only a few of these quantiles will be relevant. Let's look at 0, 0.9, 0.95, 1.0"
   ]
  },
  {
   "cell_type": "code",
   "execution_count": 5,
   "metadata": {},
   "outputs": [],
   "source": [
    "quantiles = [0.0, 0.05, 0.90, 0.95, 0.9888, 0.9973, 0.9978, 0.9989, 0.9995,  0.9997, 1.0]\n",
    "\n",
    "# need to account for fact that once a year-quarter is 90 days, not 365\n",
    "quant_labels = ['quant_0.05','quant_tossThisOne','quant_0.95','quant_1xQtr','quant_1xYr',\n",
    "                'quant_1x5Qtrs','quant_1x10Qtrs','quant_1x5Yrs','quant_1x10Yrs','quant_1.0']"
   ]
  },
  {
   "cell_type": "markdown",
   "metadata": {},
   "source": [
    "# Precipitation"
   ]
  },
  {
   "cell_type": "code",
   "execution_count": 6,
   "metadata": {},
   "outputs": [],
   "source": [
    "weatherType = \"Precip\" # Tmax\n",
    "precipData = getData(weatherType, 1981, 2008)"
   ]
  },
  {
   "cell_type": "code",
   "execution_count": 7,
   "metadata": {},
   "outputs": [
    {
     "name": "stdout",
     "output_type": "stream",
     "text": [
      "1372.217984\n"
     ]
    }
   ],
   "source": [
    "print(sys.getsizeof(precipData)/1e6)"
   ]
  },
  {
   "cell_type": "code",
   "execution_count": 8,
   "metadata": {},
   "outputs": [
    {
     "data": {
      "text/plain": [
       "4193"
      ]
     },
     "execution_count": 8,
     "metadata": {},
     "output_type": "execute_result"
    }
   ],
   "source": [
    "len(precipData.ZIP.unique())"
   ]
  },
  {
   "cell_type": "markdown",
   "metadata": {},
   "source": [
    "## Temperature"
   ]
  },
  {
   "cell_type": "code",
   "execution_count": 9,
   "metadata": {},
   "outputs": [],
   "source": [
    "weatherType = \"Tmax\"\n",
    "tempData = getData(weatherType, 1981, 2008)"
   ]
  },
  {
   "cell_type": "code",
   "execution_count": 10,
   "metadata": {},
   "outputs": [
    {
     "name": "stdout",
     "output_type": "stream",
     "text": [
      "1372.217984\n"
     ]
    }
   ],
   "source": [
    "print(sys.getsizeof(tempData)/1e6)"
   ]
  },
  {
   "cell_type": "code",
   "execution_count": 15,
   "metadata": {},
   "outputs": [],
   "source": [
    "precipData2 = getData(\"Precip\", 2009, 2019)\n",
    "tempData2   = getData(\"Tmax\",   2009, 2019)"
   ]
  },
  {
   "cell_type": "code",
   "execution_count": 19,
   "metadata": {},
   "outputs": [
    {
     "data": {
      "text/html": [
       "<div>\n",
       "<style scoped>\n",
       "    .dataframe tbody tr th:only-of-type {\n",
       "        vertical-align: middle;\n",
       "    }\n",
       "\n",
       "    .dataframe tbody tr th {\n",
       "        vertical-align: top;\n",
       "    }\n",
       "\n",
       "    .dataframe thead th {\n",
       "        text-align: right;\n",
       "    }\n",
       "</style>\n",
       "<table border=\"1\" class=\"dataframe\">\n",
       "  <thead>\n",
       "    <tr style=\"text-align: right;\">\n",
       "      <th></th>\n",
       "      <th>ZIP</th>\n",
       "      <th>date</th>\n",
       "      <th>temperature</th>\n",
       "      <th>precipitation</th>\n",
       "    </tr>\n",
       "  </thead>\n",
       "  <tbody>\n",
       "    <tr>\n",
       "      <th>0</th>\n",
       "      <td>1001</td>\n",
       "      <td>20090101.0</td>\n",
       "      <td>-2.941</td>\n",
       "      <td>4.491</td>\n",
       "    </tr>\n",
       "    <tr>\n",
       "      <th>1</th>\n",
       "      <td>1013</td>\n",
       "      <td>20090101.0</td>\n",
       "      <td>-3.683</td>\n",
       "      <td>4.403</td>\n",
       "    </tr>\n",
       "    <tr>\n",
       "      <th>2</th>\n",
       "      <td>1085</td>\n",
       "      <td>20090101.0</td>\n",
       "      <td>-4.804</td>\n",
       "      <td>4.008</td>\n",
       "    </tr>\n",
       "    <tr>\n",
       "      <th>3</th>\n",
       "      <td>1089</td>\n",
       "      <td>20090101.0</td>\n",
       "      <td>-3.892</td>\n",
       "      <td>3.613</td>\n",
       "    </tr>\n",
       "    <tr>\n",
       "      <th>4</th>\n",
       "      <td>1095</td>\n",
       "      <td>20090101.0</td>\n",
       "      <td>-4.128</td>\n",
       "      <td>5.737</td>\n",
       "    </tr>\n",
       "  </tbody>\n",
       "</table>\n",
       "</div>"
      ],
      "text/plain": [
       "    ZIP        date  temperature  precipitation\n",
       "0  1001  20090101.0       -2.941          4.491\n",
       "1  1013  20090101.0       -3.683          4.403\n",
       "2  1085  20090101.0       -4.804          4.008\n",
       "3  1089  20090101.0       -3.892          3.613\n",
       "4  1095  20090101.0       -4.128          5.737"
      ]
     },
     "execution_count": 19,
     "metadata": {},
     "output_type": "execute_result"
    }
   ],
   "source": [
    "weatherData2 = tempData2.merge(precipData2)\n",
    "weatherData2.head()"
   ]
  },
  {
   "cell_type": "code",
   "execution_count": 37,
   "metadata": {},
   "outputs": [
    {
     "data": {
      "text/plain": [
       "Text(0, 0.5, 'Density')"
      ]
     },
     "execution_count": 37,
     "metadata": {},
     "output_type": "execute_result"
    },
    {
     "data": {
      "image/png": "[encoded data removed]",
      "text/plain": [
       "<Figure size 1080x576 with 1 Axes>"
      ]
     },
     "metadata": {},
     "output_type": "display_data"
    }
   ],
   "source": [
    "sns.set(rc = {'figure.figsize':(15,8)})\n",
    "\n",
    "# Draw the density plot\n",
    "sns.distplot(weatherData['precipitation'], hist = False, kde = True,\n",
    "             kde_kws = {'linewidth': 1,'shade': True},\n",
    "             label = '1981-2008')\n",
    "\n",
    "sns.distplot(weatherData2['precipitation'], hist = False, kde = True,\n",
    "             kde_kws = {'linewidth': 1,'shade': True},\n",
    "             label = '2009-2019')\n",
    "    \n",
    "# Plot formatting\n",
    "plt.legend(prop={'size': 16}, title = 'Time Period')\n",
    "plt.title('Density Plot - Daily Rainfall')\n",
    "plt.xlabel('Precipitation (mm rain equivalent))')\n",
    "plt.ylabel('Density')"
   ]
  },
  {
   "cell_type": "code",
   "execution_count": 38,
   "metadata": {},
   "outputs": [
    {
     "data": {
      "text/plain": [
       "Text(0, 0.5, 'Density')"
      ]
     },
     "execution_count": 38,
     "metadata": {},
     "output_type": "execute_result"
    },
    {
     "data": {
      "image/png": "[encoded data removed]",
      "text/plain": [
       "<Figure size 1080x576 with 1 Axes>"
      ]
     },
     "metadata": {},
     "output_type": "display_data"
    }
   ],
   "source": [
    "sns.set(rc = {'figure.figsize':(15,8)})\n",
    "\n",
    "# Draw the density plot\n",
    "sns.distplot(weatherData['temperature'], hist = False, kde = True,\n",
    "             kde_kws = {'linewidth': 1,'shade': True},\n",
    "             label = '1981-2008')\n",
    "\n",
    "sns.distplot(weatherData2['temperature'], hist = False, kde = True,\n",
    "             kde_kws = {'linewidth': 1,'shade': True},\n",
    "             label = '2009-2019')\n",
    "    \n",
    "# Plot formatting\n",
    "plt.legend(prop={'size': 16}, title = 'Time Period')\n",
    "plt.title('Density Plot - Daily Max Temp')\n",
    "plt.xlabel('Temperature (deg C))')\n",
    "plt.ylabel('Density')"
   ]
  },
  {
   "cell_type": "code",
   "execution_count": 46,
   "metadata": {},
   "outputs": [
    {
     "name": "stdout",
     "output_type": "stream",
     "text": [
      "16.0580005645752 17.2900009155273\n"
     ]
    }
   ],
   "source": [
    "print(weatherData['precipitation'].quantile(.95), weatherData2['precipitation'].quantile(.95))"
   ]
  },
  {
   "cell_type": "code",
   "execution_count": 47,
   "metadata": {},
   "outputs": [
    {
     "name": "stdout",
     "output_type": "stream",
     "text": [
      "33.5940017700195 33.8059997558594\n"
     ]
    }
   ],
   "source": [
    "print(weatherData['temperature'].quantile(.95), weatherData2['temperature'].quantile(.95))"
   ]
  },
  {
   "cell_type": "markdown",
   "metadata": {},
   "source": [
    "## Get stats\n",
    "\n",
    "### Describe Climate"
   ]
  },
  {
   "cell_type": "code",
   "execution_count": 51,
   "metadata": {},
   "outputs": [
    {
     "data": {
      "text/html": [
       "<div>\n",
       "<style scoped>\n",
       "    .dataframe tbody tr th:only-of-type {\n",
       "        vertical-align: middle;\n",
       "    }\n",
       "\n",
       "    .dataframe tbody tr th {\n",
       "        vertical-align: top;\n",
       "    }\n",
       "\n",
       "    .dataframe thead th {\n",
       "        text-align: right;\n",
       "    }\n",
       "</style>\n",
       "<table border=\"1\" class=\"dataframe\">\n",
       "  <thead>\n",
       "    <tr style=\"text-align: right;\">\n",
       "      <th></th>\n",
       "      <th>ZIP</th>\n",
       "      <th>date</th>\n",
       "      <th>temperature</th>\n",
       "      <th>precipitation</th>\n",
       "      <th>month</th>\n",
       "      <th>year</th>\n",
       "      <th>quarter</th>\n",
       "      <th>temp5Days</th>\n",
       "      <th>precip5Days</th>\n",
       "    </tr>\n",
       "  </thead>\n",
       "  <tbody>\n",
       "    <tr>\n",
       "      <th>0</th>\n",
       "      <td>1001</td>\n",
       "      <td>19810101.0</td>\n",
       "      <td>-5.148</td>\n",
       "      <td>0.0</td>\n",
       "      <td>01</td>\n",
       "      <td>1981</td>\n",
       "      <td>q1</td>\n",
       "      <td>NaN</td>\n",
       "      <td>NaN</td>\n",
       "    </tr>\n",
       "    <tr>\n",
       "      <th>1</th>\n",
       "      <td>1013</td>\n",
       "      <td>19810101.0</td>\n",
       "      <td>-5.249</td>\n",
       "      <td>0.0</td>\n",
       "      <td>01</td>\n",
       "      <td>1981</td>\n",
       "      <td>q1</td>\n",
       "      <td>NaN</td>\n",
       "      <td>NaN</td>\n",
       "    </tr>\n",
       "    <tr>\n",
       "      <th>2</th>\n",
       "      <td>1085</td>\n",
       "      <td>19810101.0</td>\n",
       "      <td>-5.579</td>\n",
       "      <td>0.0</td>\n",
       "      <td>01</td>\n",
       "      <td>1981</td>\n",
       "      <td>q1</td>\n",
       "      <td>NaN</td>\n",
       "      <td>NaN</td>\n",
       "    </tr>\n",
       "    <tr>\n",
       "      <th>3</th>\n",
       "      <td>1089</td>\n",
       "      <td>19810101.0</td>\n",
       "      <td>-5.378</td>\n",
       "      <td>0.0</td>\n",
       "      <td>01</td>\n",
       "      <td>1981</td>\n",
       "      <td>q1</td>\n",
       "      <td>NaN</td>\n",
       "      <td>NaN</td>\n",
       "    </tr>\n",
       "    <tr>\n",
       "      <th>4</th>\n",
       "      <td>1095</td>\n",
       "      <td>19810101.0</td>\n",
       "      <td>-5.814</td>\n",
       "      <td>0.0</td>\n",
       "      <td>01</td>\n",
       "      <td>1981</td>\n",
       "      <td>q1</td>\n",
       "      <td>-8.1044</td>\n",
       "      <td>1.613</td>\n",
       "    </tr>\n",
       "  </tbody>\n",
       "</table>\n",
       "</div>"
      ],
      "text/plain": [
       "    ZIP        date  temperature  precipitation month  year quarter  \\\n",
       "0  1001  19810101.0       -5.148            0.0    01  1981      q1   \n",
       "1  1013  19810101.0       -5.249            0.0    01  1981      q1   \n",
       "2  1085  19810101.0       -5.579            0.0    01  1981      q1   \n",
       "3  1089  19810101.0       -5.378            0.0    01  1981      q1   \n",
       "4  1095  19810101.0       -5.814            0.0    01  1981      q1   \n",
       "\n",
       "   temp5Days  precip5Days  \n",
       "0        NaN          NaN  \n",
       "1        NaN          NaN  \n",
       "2        NaN          NaN  \n",
       "3        NaN          NaN  \n",
       "4    -8.1044        1.613  "
      ]
     },
     "execution_count": 51,
     "metadata": {},
     "output_type": "execute_result"
    }
   ],
   "source": [
    "weatherData = tempData.merge(precipData)\n",
    "weatherData['month'] = weatherData.date.astype('str').str.slice(4,6)\n",
    "weatherData['year'] = weatherData.date.astype('str').str.slice(0,4)\n",
    "\n",
    "weatherData['quarter'] = 'q1'\n",
    "\n",
    "weatherData.loc[weatherData['month'].isin(['04','05','06']), 'quarter'] = 'q2'\n",
    "weatherData.loc[weatherData['month'].isin(['07','08','09']), 'quarter'] = 'q3'\n",
    "weatherData.loc[weatherData['month'].isin(['10','11','12']), 'quarter'] = 'q4'\n",
    " \n",
    "weatherData['temp5Days']   = weatherData.groupby('ZIP').rolling(5)['temperature'].mean().reset_index(drop=True)\n",
    "weatherData['precip5Days'] = weatherData.groupby('ZIP').rolling(5)['precipitation'].sum().reset_index(drop=True)\n",
    "    \n",
    "print(weatherData.shape,tempData.shape,precipData.shape)\n",
    "\n",
    "\n",
    "weatherData.head()"
   ]
  },
  {
   "cell_type": "code",
   "execution_count": 49,
   "metadata": {},
   "outputs": [
    {
     "ename": "NameError",
     "evalue": "name 'tempData' is not defined",
     "output_type": "error",
     "traceback": [
      "\u001b[0;31m---------------------------------------------------------------------------\u001b[0m",
      "\u001b[0;31mNameError\u001b[0m                                 Traceback (most recent call last)",
      "\u001b[0;32m<ipython-input-49-e121f2116365>\u001b[0m in \u001b[0;36m<module>\u001b[0;34m\u001b[0m\n\u001b[0;32m----> 1\u001b[0;31m \u001b[0;32mdel\u001b[0m \u001b[0mtempData\u001b[0m\u001b[0;34m\u001b[0m\u001b[0;34m\u001b[0m\u001b[0m\n\u001b[0m\u001b[1;32m      2\u001b[0m \u001b[0;32mdel\u001b[0m \u001b[0mprecipData\u001b[0m\u001b[0;34m\u001b[0m\u001b[0;34m\u001b[0m\u001b[0m\n\u001b[1;32m      3\u001b[0m \u001b[0mgc\u001b[0m\u001b[0;34m.\u001b[0m\u001b[0mcollect\u001b[0m\u001b[0;34m(\u001b[0m\u001b[0;34m)\u001b[0m\u001b[0;34m\u001b[0m\u001b[0;34m\u001b[0m\u001b[0m\n",
      "\u001b[0;31mNameError\u001b[0m: name 'tempData' is not defined"
     ]
    }
   ],
   "source": [
    "del tempData\n",
    "del precipData\n",
    "gc.collect()"
   ]
  },
  {
   "cell_type": "code",
   "execution_count": 52,
   "metadata": {},
   "outputs": [
    {
     "data": {
      "text/plain": [
       "4193"
      ]
     },
     "execution_count": 52,
     "metadata": {},
     "output_type": "execute_result"
    }
   ],
   "source": [
    "len(weatherData.ZIP.unique())"
   ]
  },
  {
   "cell_type": "markdown",
   "metadata": {},
   "source": [
    "Get the quarterly stats."
   ]
  },
  {
   "cell_type": "code",
   "execution_count": null,
   "metadata": {},
   "outputs": [],
   "source": [
    "quarterlyStatsOverall = weatherData.drop(columns = {'date'}).\\\n",
    "    groupby(['quarter']).\\\n",
    "    agg(quarterly_avg_precip = ('precipitation',\"mean\"),\n",
    "       quarterly_median_precip = ('precipitation',\"median\"),\n",
    "       quarterly_variance_precip = ('precipitation',\"var\"),\n",
    "       quarterly_avg_temp = ('temperature',\"mean\"),\n",
    "       quarterly_median_temp = ('temperature',\"median\"),\n",
    "       quarterly_variance_temp = ('temperature',\"var\")\n",
    "       ).reset_index()\n",
    "\n",
    "quarterlyStatsByZip = weatherData.drop(columns = {'date'}).\\\n",
    "    groupby(['ZIP','quarter']).\\\n",
    "    agg(quarterly_avg_precip = ('precipitation',\"mean\"),\n",
    "       quarterly_median_precip = ('precipitation',\"median\"),\n",
    "       quarterly_variance_precip = ('precipitation',\"var\"),\n",
    "       quarterly_avg_temp = ('temperature',\"mean\"),\n",
    "       quarterly_median_temp = ('temperature',\"median\"),\n",
    "       quarterly_variance_temp = ('temperature',\"var\")\n",
    "       ).reset_index()\n",
    "\n",
    "'''\n",
    "precipQuantsOverall = precipData.groupby(['month']).precipitation.quantile(q = quantiles).\\\n",
    "    reset_index().rename(columns = {'level_1': 'quantile'})\n",
    "'''\n"
   ]
  },
  {
   "cell_type": "code",
   "execution_count": null,
   "metadata": {},
   "outputs": [],
   "source": [
    "quarterlyStatsByZip.to_csv(\"../../data/companyData/quarterlyStatsByZip.csv\")"
   ]
  },
  {
   "cell_type": "markdown",
   "metadata": {},
   "source": [
    "And the annual ones."
   ]
  },
  {
   "cell_type": "code",
   "execution_count": null,
   "metadata": {},
   "outputs": [],
   "source": [
    "annualStatsOverall = weatherData.drop(columns = {'date'}).\\\n",
    "    groupby(['year']).\\\n",
    "    agg(annual_avg_precip = ('precipitation',\"mean\"),\n",
    "       annual_median_precip = ('precipitation',\"median\"),\n",
    "       annual_variance_precip = ('precipitation',\"var\"),\n",
    "       annual_avg_temp = ('temperature',\"mean\"),\n",
    "       annual_median_temp = ('temperature',\"median\"),\n",
    "       annual_variance_temp = ('temperature',\"var\")\n",
    "       ).reset_index()\n",
    "\n",
    "annualStatsByZip = weatherData.drop(columns = {'date'}).\\\n",
    "    groupby(['ZIP','year']).\\\n",
    "    agg(annual_avg_precip = ('precipitation',\"mean\"),\n",
    "       annual_median_precip = ('precipitation',\"median\"),\n",
    "       annual_variance_precip = ('precipitation',\"var\"),\n",
    "       annual_avg_temp = ('temperature',\"mean\"),\n",
    "       annual_median_temp = ('temperature',\"median\"),\n",
    "       annual_variance_temp = ('temperature',\"var\")\n",
    "       ).reset_index()\n",
    "annualStatsByZip.head()"
   ]
  },
  {
   "cell_type": "code",
   "execution_count": null,
   "metadata": {},
   "outputs": [],
   "source": [
    "quarterlyStatsByZip.head()"
   ]
  },
  {
   "cell_type": "code",
   "execution_count": null,
   "metadata": {},
   "outputs": [],
   "source": [
    "del quarterlyStatsByZip\n",
    "del annualStatsByZip\n",
    "gc.collect()"
   ]
  },
  {
   "cell_type": "markdown",
   "metadata": {},
   "source": [
    "### Find Quartiles"
   ]
  },
  {
   "cell_type": "code",
   "execution_count": 53,
   "metadata": {},
   "outputs": [],
   "source": [
    "def getPivotQuantsOverall(weatherType,weatherData):\n",
    "\n",
    "    quants_overall  =  weatherData[weatherType].quantile(q = quantiles).reset_index().\\\n",
    "        rename(columns = {'index': 'quartile'})    \n",
    "    \n",
    "    quants_overall['quartile'] = 'q_' + quants_overall['quartile'].astype(str).str.slice(0,6)\n",
    "    quants_overall = quants_overall.iloc[:,1:].values.flatten().tolist()\n",
    "\n",
    "    return(quants_overall)"
   ]
  },
  {
   "cell_type": "code",
   "execution_count": 54,
   "metadata": {},
   "outputs": [],
   "source": [
    "def getPivotQuants(weatherType, identifiers,weatherData):\n",
    "\n",
    "    quants_overallByZip   = weatherData.groupby(identifiers)[weatherType].quantile(q = quantiles).reset_index().\\\n",
    "        rename(columns=lambda x: re.sub('level_[0-9]$','quartile',x))\n",
    "    # rename(columns = {'level_1': 'quartile'})\n",
    "    # print(quants_overallByZip.head())\n",
    "    \n",
    "    quants_overallByZip['quartile'] = 'q_' + quants_overallByZip['quartile'].astype(str).str.slice(0,6)\n",
    "\n",
    "    ## \n",
    "\n",
    "    pivot_quants_overallByZip = quants_overallByZip.pivot(index=identifiers, \n",
    "            columns='quartile', values=str(weatherType)).reset_index().\\\n",
    "            rename_axis(None, axis=1)\n",
    "\n",
    "    pivot_quants_overallByZip['quartileList']      = pivot_quants_overallByZip.iloc[:,len(identifiers):].values.tolist()\n",
    "    pivot_quants_overallByZip['quartileLabelList'] = [list(pivot_quants_overallByZip.columns[2:-1])] * \\\n",
    "                                                                    pivot_quants_overallByZip.shape[0]\n",
    "\n",
    "    pivot_quants_overallByZip = pivot_quants_overallByZip[pivot_quants_overallByZip.\\\n",
    "                                                            columns.drop(list(pivot_quants_overallByZip.filter(regex='q_')))]\n",
    "\n",
    "    # pivot_quants_overallByZip.head()\n",
    "\n",
    "    return(pivot_quants_overallByZip)"
   ]
  },
  {
   "cell_type": "code",
   "execution_count": 55,
   "metadata": {},
   "outputs": [],
   "source": [
    "def getQuartCounts(df, weatherType):\n",
    "    weatherCut = weatherType + \"Cut\"\n",
    "    weatherCutLabels = weatherCut + 'labels'\n",
    "    \n",
    "    df['month'] = df.date.astype(str).str.slice(4,6)\n",
    "    \n",
    "    df['quarter'] = 'q1'\n",
    "\n",
    "    df.loc[df['month'].isin(['04','05','06']), 'quarter'] = 'q2'\n",
    "    df.loc[df['month'].isin(['07','08','09']), 'quarter'] = 'q3'\n",
    "    df.loc[df['month'].isin(['10','11','12']), 'quarter'] = 'q4'\n",
    "\n",
    "    df['yearQuarter'] = df.date.astype(str).str.slice(0,4) + df.quarter\n",
    "\n",
    "    occurrences = weatherType + \"Occurrences\" \n",
    "\n",
    "    summaryDF = df.groupby(['ZIP','yearQuarter',weatherCutLabels]).size().reset_index()\n",
    "    summaryDF.columns = ['zip','yearQuarter',weatherCutLabels,occurrences]\n",
    "    \n",
    "    return(summaryDF)"
   ]
  },
  {
   "cell_type": "markdown",
   "metadata": {},
   "source": [
    "Now get all the quartile data:\n",
    "    - Overall\n",
    "    - By zip\n",
    "    - Quarterly by zip"
   ]
  },
  {
   "cell_type": "code",
   "execution_count": 57,
   "metadata": {},
   "outputs": [
    {
     "data": {
      "text/plain": [
       "[-34.1430015563965,\n",
       " 0.0410000011324883,\n",
       " 31.7670001983643,\n",
       " 33.5940017700195,\n",
       " 37.1129989624023,\n",
       " 40.4129981994629,\n",
       " 40.8310012817383,\n",
       " 42.0229988098145,\n",
       " 43.1110000610352,\n",
       " 43.7060012817383,\n",
       " 49.6259994506836]"
      ]
     },
     "execution_count": 57,
     "metadata": {},
     "output_type": "execute_result"
    }
   ],
   "source": [
    "tempQuants   = getPivotQuantsOverall('temperature',weatherData)\n",
    "tempQuants"
   ]
  },
  {
   "cell_type": "code",
   "execution_count": 59,
   "metadata": {},
   "outputs": [
    {
     "data": {
      "text/plain": [
       "['quant_0.05',\n",
       " 'quant_tossThisOne',\n",
       " 'quant_0.95',\n",
       " 'quant_1xQtr',\n",
       " 'quant_1xYr',\n",
       " 'quant_1x5Qtrs',\n",
       " 'quant_1x10Qtrs',\n",
       " 'quant_1x5Yrs',\n",
       " 'quant_1x10Yrs',\n",
       " 'quant_1.0']"
      ]
     },
     "execution_count": 59,
     "metadata": {},
     "output_type": "execute_result"
    }
   ],
   "source": [
    "quant_labels"
   ]
  },
  {
   "cell_type": "code",
   "execution_count": 58,
   "metadata": {},
   "outputs": [
    {
     "data": {
      "text/plain": [
       "[-30.0440006256104,\n",
       " -0.129999995231628,\n",
       " 32.0029983520508,\n",
       " 33.8059997558594,\n",
       " 37.4669990539551,\n",
       " 40.5970001220703,\n",
       " 40.9780006408691,\n",
       " 42.0839996337891,\n",
       " 43.1720008850098,\n",
       " 43.78401638793834,\n",
       " 48.8460006713867]"
      ]
     },
     "execution_count": 58,
     "metadata": {},
     "output_type": "execute_result"
    }
   ],
   "source": [
    "tempQuants2   = getPivotQuantsOverall('temperature',weatherData2)\n",
    "tempQuants2"
   ]
  },
  {
   "cell_type": "code",
   "execution_count": null,
   "metadata": {},
   "outputs": [],
   "source": [
    "###################\n",
    "# OVERALL\n",
    "tempQuants   = getPivotQuantsOverall('temperature',weatherData)\n",
    "precipQuants = getPivotQuantsOverall('precipitation',weatherData)\n",
    "\n",
    "temp5DaysQuants   = getPivotQuantsOverall('temp5Days',weatherData)\n",
    "precip5DaysQuants = getPivotQuantsOverall('precip5Days',weatherData)\n",
    "\n",
    "\n",
    "\n",
    "####################\n",
    "# BY ZIP\n",
    "pivot_temperatureQuants_zip = getPivotQuants('temperature',['ZIP'],weatherData).\\\n",
    "    drop(columns = {'quartileLabelList'})\n",
    "pivot_temperatureQuants_zip.rename(columns = {'quartileList':     'quartileListTemperature_zip'},\n",
    "                                      inplace = True)\n",
    "\n",
    "pivot_temp5DaysQuants_zip = getPivotQuants('temp5Days',['ZIP'],weatherData).\\\n",
    "    drop(columns = {'quartileLabelList'})\n",
    "pivot_temp5DaysQuants_zip.rename(columns = {'quartileList':     'quartileListTemp5Days_zip'},\n",
    "                                      inplace = True)\n",
    "\n",
    "\n",
    "\n",
    "pivot_precipitationQuants_zip = getPivotQuants('precipitation',['ZIP'],weatherData).\\\n",
    "    drop(columns = {'quartileLabelList'})\n",
    "pivot_precipitationQuants_zip.rename(columns = {'quartileList':     'quartileListPrecipitation_zip'},\n",
    "                                      inplace = True)\n",
    "\n",
    "pivot_precip5DaysQuants_zip = getPivotQuants('precip5Days',['ZIP'],weatherData).\\\n",
    "    drop(columns = {'quartileLabelList'})\n",
    "pivot_precip5DaysQuants_zip.rename(columns = {'quartileList':     'quartileListPrecip5Days_zip'},\n",
    "                                      inplace = True)\n",
    "\n",
    "\n",
    "quants_zip = pivot_temperatureQuants_zip.merge(pivot_precipitationQuants_zip).merge(pivot_temp5DaysQuants_zip).merge(pivot_precip5DaysQuants_zip)\n",
    "\n",
    "\n",
    "\n",
    "##########################################\n",
    "# BY ZIP-QUARTER\n",
    "pivot_temperatureQuants_quarterlyByZip = getPivotQuants('temperature',['ZIP','quarter'],weatherData).\\\n",
    "    drop(columns = {'quartileLabelList'})\n",
    "pivot_temperatureQuants_quarterlyByZip.rename(columns = {'quartileList':     'quartileListTemperature_quarterlyByZip'},\n",
    "                                      inplace = True)\n",
    "pivot_temp5DaysQuants_quarterlyByZip = getPivotQuants('temp5Days',['ZIP','quarter'],weatherData).\\\n",
    "    drop(columns = {'quartileLabelList'})\n",
    "pivot_temp5DaysQuants_quarterlyByZip.rename(columns = {'quartileList':     'quartileListTemp5Days_quarterlyByZip'},\n",
    "                                      inplace = True)\n",
    "\n",
    "\n",
    "\n",
    "pivot_precipitationQuants_quarterlyByZip = getPivotQuants('precipitation',['ZIP','quarter'],weatherData).\\\n",
    "    drop(columns = {'quartileLabelList'})\n",
    "pivot_precipitationQuants_quarterlyByZip.rename(columns = {'quartileList':     'quartileListPrecipitation_quarterlyByZip'},\n",
    "                                      inplace = True)\n",
    "pivot_precip5DaysQuants_quarterlyByZip = getPivotQuants('precip5Days',['ZIP','quarter'],weatherData).\\\n",
    "    drop(columns = {'quartileLabelList'})\n",
    "pivot_precip5DaysQuants_quarterlyByZip.rename(columns = {'quartileList':     'quartileListPrecip5Days_quarterlyByZip'},\n",
    "                                      inplace = True)\n",
    "\n",
    "\n",
    "quants_quarterlyByZip = pivot_temperatureQuants_quarterlyByZip.merge(pivot_precipitationQuants_quarterlyByZip).merge(pivot_temp5DaysQuants_quarterlyByZip).merge(pivot_precip5DaysQuants_quarterlyByZip)\n",
    "\n"
   ]
  },
  {
   "cell_type": "markdown",
   "metadata": {},
   "source": [
    "Construct a record of all the relevant quantiles by combining all of the above. Rough idea is:\n",
    "    - Start with the zip-quarter data\n",
    "    - Merge in the less-specific quarter information\n",
    "    - For each row, put in the overall quartile information for each row"
   ]
  },
  {
   "cell_type": "code",
   "execution_count": null,
   "metadata": {},
   "outputs": [],
   "source": [
    "quantsAll                 = quants_quarterlyByZip.merge(quants_zip)\n",
    "\n",
    "\n",
    "\n",
    "quantsAll['precipitationQuants'] = [precipQuants for i in quantsAll.index]\n",
    "quantsAll['temperatureQuants']   = [tempQuants   for i in quantsAll.index]\n",
    "\n",
    "\n",
    "\n",
    "quantsAll['precip5DaysQuants']   = [precip5DaysQuants for i in quantsAll.index]\n",
    "quantsAll['temp5DaysQuants']     = [temp5DaysQuants   for i in quantsAll.index]\n",
    "\n",
    "\n",
    "\n",
    "quantsAll.head()"
   ]
  },
  {
   "cell_type": "code",
   "execution_count": null,
   "metadata": {},
   "outputs": [],
   "source": [
    "# relevantZips = allCustomerData.zipcode.append(allSupplierData.zipcode).unique()\n",
    "outfile =  '../../data/companyData/quantsAll.pkl'\n",
    "with open(outfile, 'wb') as pickle_file:\n",
    "    pkl.dump(quantsAll, pickle_file)"
   ]
  },
  {
   "cell_type": "code",
   "execution_count": null,
   "metadata": {},
   "outputs": [],
   "source": [
    "del weatherData\n",
    "gc.collect()"
   ]
  },
  {
   "cell_type": "markdown",
   "metadata": {},
   "source": [
    "### Convert 2009-2018 data into quartiles"
   ]
  },
  {
   "cell_type": "code",
   "execution_count": null,
   "metadata": {},
   "outputs": [],
   "source": [
    "recentDecadeTmax   = getData(\"Tmax\",2009,2019)\n",
    "recentDecadePrecip = getData(\"Precip\",2009,2019)"
   ]
  },
  {
   "cell_type": "code",
   "execution_count": null,
   "metadata": {},
   "outputs": [],
   "source": [
    "recentDecadeWeather = recentDecadeTmax.merge(recentDecadePrecip)\n",
    "recentDecadeWeather.head()"
   ]
  },
  {
   "cell_type": "code",
   "execution_count": null,
   "metadata": {},
   "outputs": [],
   "source": [
    "recentDecadeWeather['month'] = recentDecadeWeather.date.astype(str).str.slice(4,6)\n",
    "\n",
    "recentDecadeWeather['quarter'] = 'q1'\n",
    "\n",
    "recentDecadeWeather.loc[recentDecadeWeather['month'].isin(['04','05','06']), 'quarter'] = 'q2'\n",
    "recentDecadeWeather.loc[recentDecadeWeather['month'].isin(['07','08','09']), 'quarter'] = 'q3'\n",
    "recentDecadeWeather.loc[recentDecadeWeather['month'].isin(['10','11','12']), 'quarter'] = 'q4'\n",
    "\n",
    "recentDecadeWeather['yearQuarter'] = recentDecadeWeather.date.astype(str).str.slice(0,4) + recentDecadeWeather.quarter\n",
    "recentDecadeWeather.head()"
   ]
  },
  {
   "cell_type": "code",
   "execution_count": null,
   "metadata": {},
   "outputs": [],
   "source": [
    "recentDecadeWeather['temp5Days']   = recentDecadeWeather.groupby('ZIP').rolling(5)['temperature'].mean().reset_index(drop=True)\n",
    "recentDecadeWeather['precip5Days'] = recentDecadeWeather.groupby('ZIP').rolling(5)['precipitation'].sum().reset_index(drop=True)"
   ]
  },
  {
   "cell_type": "code",
   "execution_count": null,
   "metadata": {},
   "outputs": [],
   "source": [
    "del recentDecadePrecip\n",
    "del recentDecadeTmax\n",
    "gc.collect()\n",
    "\n",
    "recentDecadeWeather[recentDecadeWeather.yearQuarter == '2010q1']"
   ]
  },
  {
   "cell_type": "markdown",
   "metadata": {},
   "source": [
    "Merge the intervals into the recent weather data."
   ]
  },
  {
   "cell_type": "code",
   "execution_count": null,
   "metadata": {},
   "outputs": [],
   "source": [
    "quantsAll.columns"
   ]
  },
  {
   "cell_type": "code",
   "execution_count": null,
   "metadata": {},
   "outputs": [],
   "source": [
    "recentDecadeWeather.columns"
   ]
  },
  {
   "cell_type": "code",
   "execution_count": null,
   "metadata": {},
   "outputs": [],
   "source": [
    "recentDecadeWeather = recentDecadeWeather.merge(quantsAll)\n",
    "\n",
    "recentDecadeWeather.head()"
   ]
  },
  {
   "cell_type": "markdown",
   "metadata": {},
   "source": [
    "Get the annual quants."
   ]
  },
  {
   "cell_type": "code",
   "execution_count": null,
   "metadata": {},
   "outputs": [],
   "source": [
    "recentDecadeWeather.temperatureQuants[0]"
   ]
  },
  {
   "cell_type": "code",
   "execution_count": null,
   "metadata": {},
   "outputs": [],
   "source": [
    "for i in range(0,len(recentDecadeWeather.temp_annualQuants[0])):\n",
    "    recentDecadeWeather.temperatureQuants[0][i]   = recentDecadeWeather.temperatureQuants[0][i] + i/10000\n",
    "    recentDecadeWeather.temp5DaysQuants[0][i]     = recentDecadeWeather.temp5DaysQuants[0][i] + i/10000\n",
    "    \n",
    "    recentDecadeWeather.precipitationQuants[0][i] = recentDecadeWeather.precipitationQuants[0][i] + i/10000\n",
    "    recentDecadeWeather.precip5DaysQuants[0][i]   = recentDecadeWeather.precip5DaysQuants[0][i] + i/10000\n"
   ]
  },
  {
   "cell_type": "code",
   "execution_count": null,
   "metadata": {},
   "outputs": [],
   "source": [
    "recentDecadeWeather['temp_annualQuants'] = pd.cut(recentDecadeWeather.temperature, \n",
    "           bins = recentDecadeWeather.temperatureQuants[0],\n",
    "           labels = quant_labels,include_lowest=True)\n",
    "recentDecadeWeather['temp5Days_annualQuants'] = pd.cut(recentDecadeWeather.temp5Days, \n",
    "           bins = recentDecadeWeather.temp5DaysQuants[0],\n",
    "           labels = quant_labels,include_lowest=True)\n",
    "\n",
    "recentDecadeWeather['precip_annualQuants'] = pd.cut(recentDecadeWeather.precipitation, \n",
    "           bins = recentDecadeWeather.precipitationQuants[0],\n",
    "           labels = quant_labels,include_lowest=True)\n",
    "\n",
    "recentDecadeWeather['precip5Days_annualQuants'] = pd.cut(recentDecadeWeather.precip5Days, \n",
    "           bins = recentDecadeWeather.precip5DaysQuants[0],\n",
    "           labels = quant_labels,include_lowest=True)\n",
    "\n",
    "recentDecadeWeather.head()\n"
   ]
  },
  {
   "cell_type": "markdown",
   "metadata": {},
   "source": [
    "Now do the same but for zips. For some reason the filtering operations are like 10x faster with making the ZIP and quarter out to be categories."
   ]
  },
  {
   "cell_type": "code",
   "execution_count": null,
   "metadata": {},
   "outputs": [],
   "source": [
    "recentDecadeWeather = recentDecadeWeather.astype({'ZIP': 'category', 'quarter': 'category'})"
   ]
  },
  {
   "cell_type": "code",
   "execution_count": null,
   "metadata": {},
   "outputs": [],
   "source": [
    "def getZipQuarts(zipcode):\n",
    "    \n",
    "    tempData = recentDecadeWeather[recentDecadeWeather.ZIP == zipcode].reset_index()\n",
    "    \n",
    "    if tempData.shape[0] > 0:\n",
    "\n",
    "\n",
    "        for i in range(0,len(tempData.quartileListPrecip5Days_zip[0])):\n",
    "                tempData.quartileListPrecipitation_zip[0][i] = tempData.quartileListPrecipitation_zip[0][i] + i/10000\n",
    "                tempData.quartileListPrecip5Days_zip[0][i]   = tempData.quartileListPrecip5Days_zip[0][i] + i/10000\n",
    "\n",
    "\n",
    "        tempData['temp_zipQuants'] = pd.cut(tempData.temperature, \n",
    "               bins = tempData.quartileListTemperature_zip[0],\n",
    "               labels = quant_labels,include_lowest=True)\n",
    "        tempData['temp5Days_zipQuants'] = pd.cut(tempData.temp5Days, \n",
    "               bins = tempData.quartileListTemp5Days_zip[0],\n",
    "               labels = quant_labels,include_lowest=True)\n",
    "\n",
    "\n",
    "        tempData['precip_zipQuants'] = pd.cut(tempData.precipitation, \n",
    "               bins = tempData.quartileListPrecipitation_zip[0],\n",
    "               labels = quant_labels,include_lowest=True)\n",
    "\n",
    "        tempData['precip5Days_zipQuants'] = pd.cut(tempData.precip5Days, \n",
    "               bins = tempData.quartileListPrecip5Days_zip[0], \n",
    "               labels = quant_labels,include_lowest=True)\n",
    "        \n",
    "    \n",
    "    \n",
    "    return(tempData)"
   ]
  },
  {
   "cell_type": "code",
   "execution_count": null,
   "metadata": {},
   "outputs": [],
   "source": [
    "def getZipQuarterQuarts(zipcode):\n",
    "\n",
    "    weatherByZipByQuarter = pd.DataFrame()\n",
    "\n",
    "    quarters = recentDecadeWeather.quarter.unique()\n",
    "    \n",
    "\n",
    "    for quarter in quarters:\n",
    "        tempData = recentDecadeWeather[(recentDecadeWeather.ZIP  == zipcode) & \n",
    "                        (recentDecadeWeather.quarter == quarter)].reset_index()\n",
    "        if tempData.shape[0] > 0:\n",
    "\n",
    "            for i in range(0,len(tempData.quartileListPrecip5Days_quarterlyByZip[0])):\n",
    "                tempData.quartileListPrecipitation_quarterlyByZip[0][i] = tempData.quartileListPrecipitation_quarterlyByZip[0][i] + i/10000\n",
    "                tempData.quartileListPrecip5Days_quarterlyByZip[0][i]   = tempData.quartileListPrecip5Days_quarterlyByZip[0][i] + i/10000\n",
    "                tempData.quartileListTemperature_quarterlyByZip[0][i] = tempData.quartileListTemperature_quarterlyByZip[0][i] + i/10000\n",
    "                tempData.quartileListTemp5Days_quarterlyByZip[0][i]   = tempData.quartileListTemp5Days_quarterlyByZip[0][i] + i/10000\n",
    "\n",
    "\n",
    "            tempData['temp_zipQuarterQuants'] = pd.cut(tempData.temperature, \n",
    "                   bins = tempData.quartileListTemperature_quarterlyByZip[0],\n",
    "                   labels = quant_labels,include_lowest=True)\n",
    "            tempData['temp5Days_zipQuarterQuants'] = pd.cut(tempData.temp5Days, \n",
    "                   bins = tempData.quartileListTemp5Days_quarterlyByZip[0],\n",
    "                   labels = quant_labels,include_lowest=True)\n",
    "\n",
    "\n",
    "            tempData['precip_zipQuarterQuants'] = pd.cut(tempData.precipitation, \n",
    "                   bins = tempData.quartileListPrecipitation_quarterlyByZip[0],\n",
    "                   labels = quant_labels,include_lowest=True)\n",
    "            tempData['precip5Days_zipQuarterQuants'] = pd.cut(tempData.precip5Days, \n",
    "                   bins = tempData.quartileListPrecip5Days_quarterlyByZip[0], \n",
    "                   labels = quant_labels,include_lowest=True) # \n",
    "\n",
    "\n",
    "            weatherByZipByQuarter = weatherByZipByQuarter.append(tempData)\n",
    "\n",
    "    return(weatherByZipByQuarter)"
   ]
  },
  {
   "cell_type": "code",
   "execution_count": null,
   "metadata": {},
   "outputs": [],
   "source": [
    "ZIPs = recentDecadeWeather.ZIP.unique()\n",
    "len(ZIPs)"
   ]
  },
  {
   "cell_type": "code",
   "execution_count": null,
   "metadata": {},
   "outputs": [],
   "source": [
    "start = time.time()\n",
    "\n",
    "\n",
    "\n",
    "\n",
    "with multiprocessing.Pool() as pool:\n",
    "    zipQuarts = pool.map(getZipQuarts, ZIPs)\n",
    "\n",
    "    \n",
    "    \n",
    "weatherByZip = pd.concat(zipQuarts)\n",
    "\n",
    "\n",
    "print(time.time() - start)"
   ]
  },
  {
   "cell_type": "code",
   "execution_count": null,
   "metadata": {},
   "outputs": [],
   "source": [
    "start = time.time()\n",
    "\n",
    "\n",
    "\n",
    "with multiprocessing.Pool() as pool:\n",
    "    zipQuarterQuarts = pool.map(getZipQuarterQuarts, ZIPs)\n",
    "\n",
    "    \n",
    "    \n",
    "weatherByZipQuarter = pd.concat(zipQuarterQuarts)\n",
    "\n",
    "\n",
    "print(time.time() - start)"
   ]
  },
  {
   "cell_type": "code",
   "execution_count": null,
   "metadata": {},
   "outputs": [],
   "source": [
    "weatherByZipQuarter['yearQuarter'] = weatherByZipQuarter.date.astype('str').str.slice(0,4) + weatherByZipQuarter.quarter.astype('str')\n",
    "weatherByZip['yearQuarter']        = weatherByZip.date.astype('str').str.slice(0,4) + weatherByZip.quarter.astype('str')"
   ]
  },
  {
   "cell_type": "code",
   "execution_count": null,
   "metadata": {},
   "outputs": [],
   "source": []
  },
  {
   "cell_type": "code",
   "execution_count": null,
   "metadata": {},
   "outputs": [],
   "source": [
    "pt1 = weatherByZip[['ZIP','date','quarter','yearQuarter',\n",
    "              'temp_annualQuants', 'temp5Days_annualQuants',\n",
    "              'precip_annualQuants', 'precip5Days_annualQuants', \n",
    "              'temp_zipQuants', 'temp5Days_zipQuants',\n",
    "              'precip_zipQuants', 'precip5Days_zipQuants']]\n",
    "\n",
    "pt2 = weatherByZipQuarter[['ZIP','date','quarter','yearQuarter',\n",
    "                           'temp_zipQuarterQuants','temp5Days_zipQuarterQuants', \n",
    "                     'precip_zipQuarterQuants','precip5Days_zipQuarterQuants']]\n",
    "\n",
    "\n",
    "outfile =  '../../data/companyData/pt1.pkl'\n",
    "with open(outfile, 'wb') as pickle_file:\n",
    "    pkl.dump(pt1, pickle_file)\n",
    "    \n",
    "outfile =  '../../data/companyData/pt2.pkl'\n",
    "with open(outfile, 'wb') as pickle_file:\n",
    "    pkl.dump(pt2, pickle_file)\n",
    "\n",
    "\n"
   ]
  },
  {
   "cell_type": "code",
   "execution_count": null,
   "metadata": {},
   "outputs": [],
   "source": [
    "allQuarts = pt1.merge(pt2)"
   ]
  },
  {
   "cell_type": "code",
   "execution_count": null,
   "metadata": {},
   "outputs": [],
   "source": [
    "allQuarts.head()"
   ]
  },
  {
   "cell_type": "markdown",
   "metadata": {},
   "source": [
    "------------------"
   ]
  },
  {
   "cell_type": "markdown",
   "metadata": {},
   "source": [
    "### Now go through the data from 2010 - 2019 and find time spent in each bin"
   ]
  },
  {
   "cell_type": "code",
   "execution_count": null,
   "metadata": {},
   "outputs": [],
   "source": [
    "def getCounts(quartType,df):\n",
    "\n",
    "    test = df.groupby(['ZIP','yearQuarter',quartType]).size().reset_index()\n",
    "    test = test.drop_duplicates()\n",
    "    test.columns = ['zip', 'yearQuarter', quartType, 'occurrences']\n",
    "\n",
    "    # print(test.head())\n",
    "\n",
    "\n",
    "    testPivot = test.pivot(index=['zip','yearQuarter'], \n",
    "            columns = quartType, values= 'occurrences').reset_index().\\\n",
    "            rename_axis(None, axis=1)\n",
    "\n",
    "    testPivot.columns.values[2:] = quartType[:-6] + testPivot.columns.values[2:]\n",
    "\n",
    "    # print(testPivot.head())\n",
    "    return(testPivot)"
   ]
  },
  {
   "cell_type": "code",
   "execution_count": null,
   "metadata": {},
   "outputs": [],
   "source": [
    "allQuarts"
   ]
  },
  {
   "cell_type": "code",
   "execution_count": null,
   "metadata": {},
   "outputs": [],
   "source": [
    "countData = getCounts(allQuarts.columns[4],allQuarts)\n",
    "\n",
    "for quart in allQuarts.columns[5:]:\n",
    "    print(quart)\n",
    "    countData = countData.merge(getCounts(quart,allQuarts))"
   ]
  },
  {
   "cell_type": "code",
   "execution_count": null,
   "metadata": {},
   "outputs": [],
   "source": [
    "print(countData.columns)"
   ]
  },
  {
   "cell_type": "markdown",
   "metadata": {},
   "source": [
    "Reformat the column names so they're consistent."
   ]
  },
  {
   "cell_type": "code",
   "execution_count": null,
   "metadata": {},
   "outputs": [],
   "source": [
    "countData['year'] = countData.yearQuarter.str.slice(0,4)\n",
    "countData['qtr']  = countData.yearQuarter.str.slice(5,6).astype('float')\n",
    "countData['zipcode']  = countData.zip.astype('int64')"
   ]
  },
  {
   "cell_type": "code",
   "execution_count": null,
   "metadata": {},
   "outputs": [],
   "source": [
    "countData.zipcode.min()"
   ]
  },
  {
   "cell_type": "code",
   "execution_count": null,
   "metadata": {},
   "outputs": [],
   "source": [
    "countData.head()"
   ]
  },
  {
   "cell_type": "code",
   "execution_count": null,
   "metadata": {},
   "outputs": [],
   "source": [
    "countData.to_csv(\"../../data/companyData/allWeatherBins_2009to2019.csv\")"
   ]
  },
  {
   "cell_type": "code",
   "execution_count": null,
   "metadata": {},
   "outputs": [],
   "source": [
    "len(countData.zipcode.unique())"
   ]
  },
  {
   "cell_type": "code",
   "execution_count": null,
   "metadata": {},
   "outputs": [],
   "source": [
    "countData.columns"
   ]
  },
  {
   "cell_type": "code",
   "execution_count": null,
   "metadata": {},
   "outputs": [],
   "source": [
    "'''countData = pd.read_csv(\"../../data/companyData/allWeatherBins_2009to2019.csv\").drop(columns = 'Unnamed: 0')\n",
    "\n",
    "countData.head()'''\n",
    "\n",
    "countDataRevised = countData[['zipcode','year','qtr']]\n"
   ]
  },
  {
   "cell_type": "code",
   "execution_count": null,
   "metadata": {},
   "outputs": [],
   "source": [
    "\n",
    "cdf = {}\n",
    "\n",
    "\n",
    "cdf['0.95']     = ['1xQtr','1xYr','1x5Qtrs','1x10Qtrs','1x5Yrs','1x10Yrs','1.0']\n",
    "cdf['1xQtr']    = ['1xYr','1x5Qtrs','1x10Qtrs','1x5Yrs','1x10Yrs','1.0']\n",
    "cdf['1xYr']     = ['1x5Qtrs','1x10Qtrs','1x5Yrs','1x10Yrs','1.0']\n",
    "cdf['1x5Qtrs']  = ['1x10Qtrs','1x5Yrs','1x10Yrs','1.0']\n",
    "cdf['1x10Qtrs'] = ['1x5Yrs','1x10Yrs','1.0']\n",
    "cdf['1x5Yrs']   = ['1x10Yrs','1.0']\n",
    "cdf['1x10Yrs']  = ['1.0']\n",
    "\n",
    "\n",
    "weatherVars = ['precip_','temp_','precip5Days_','temp5Days_']\n",
    "statVars    = ['annualquant_','zipquant_','zipQuarterquant_']\n",
    "\n",
    "\n",
    "for weatherVar in weatherVars:\n",
    "    for statVar in statVars:\n",
    "        print(weatherVar + statVar, \"*************************\")\n",
    "        \n",
    "        # 0.95\n",
    "        for cutoff in list(cdf.keys()):\n",
    "            \n",
    "            varHere = weatherVar + statVar + cutoff\n",
    "            countDataRevised[varHere] = countData[varHere]\n",
    "            print(cutoff, \"******\")\n",
    "            for greaterThanCutoffs in cdf[cutoff]:\n",
    "                varCDF = weatherVar + statVar + greaterThanCutoffs \n",
    "                countDataRevised[varHere] = countDataRevised[varHere] + countData[varCDF] \n",
    "                print(weatherVar + statVar + greaterThanCutoffs)\n",
    " "
   ]
  },
  {
   "cell_type": "code",
   "execution_count": null,
   "metadata": {},
   "outputs": [],
   "source": [
    "countDataRevised['temp_annualquant_0.95']"
   ]
  },
  {
   "cell_type": "code",
   "execution_count": null,
   "metadata": {},
   "outputs": [],
   "source": [
    "countData['temp_annualquant_0.95']"
   ]
  },
  {
   "cell_type": "code",
   "execution_count": null,
   "metadata": {},
   "outputs": [],
   "source": [
    "countDataRevised.to_csv(\"../../data/companyData/revised_allWeatherBins_2009to2019.csv\")"
   ]
  },
  {
   "cell_type": "code",
   "execution_count": null,
   "metadata": {},
   "outputs": [],
   "source": [
    "countDataRevised = pd.read_csv(\"../../data/companyData/revised_allWeatherBins_2009to2019.csv\")"
   ]
  },
  {
   "cell_type": "code",
   "execution_count": null,
   "metadata": {},
   "outputs": [],
   "source": [
    "countDataRevised['temp5Days_zipquant_0.95'].describe()"
   ]
  },
  {
   "cell_type": "code",
   "execution_count": null,
   "metadata": {},
   "outputs": [],
   "source": []
  }
 ],
 "metadata": {
  "kernelspec": {
   "display_name": "Python 3",
   "language": "python",
   "name": "python3"
  },
  "language_info": {
   "codemirror_mode": {
    "name": "ipython",
    "version": 3
   },
   "file_extension": ".py",
   "mimetype": "text/x-python",
   "name": "python",
   "nbconvert_exporter": "python",
   "pygments_lexer": "ipython3",
   "version": "3.7.4"
  }
 },
 "nbformat": 4,
 "nbformat_minor": 2
}
