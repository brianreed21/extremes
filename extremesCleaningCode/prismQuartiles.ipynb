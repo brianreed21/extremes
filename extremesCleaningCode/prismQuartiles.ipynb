{
 "cells": [
  {
   "cell_type": "code",
   "execution_count": null,
   "metadata": {},
   "outputs": [],
   "source": [
    "import pickle as pkl\n",
    "import pandas as pd\n",
    "import matplotlib\n",
    "import os\n",
    "import re\n",
    "\n",
    "import collections\n",
    "import datetime\n",
    "import time\n",
    " \n",
    "import geopandas as gpd\n",
    "\n",
    "import numpy as np\n",
    "\n",
    "import rasterio\n",
    "\n",
    "from difflib import get_close_matches\n",
    "\n",
    "from fuzzywuzzy import process\n",
    "from fuzzywuzzy import fuzz\n",
    "\n",
    "import dask.dataframe as dd\n",
    "\n",
    "import gc\n",
    "import sys\n"
   ]
  },
  {
   "cell_type": "markdown",
   "metadata": {},
   "source": [
    "# Sample"
   ]
  },
  {
   "cell_type": "code",
   "execution_count": null,
   "metadata": {},
   "outputs": [],
   "source": [
    "def getData(weatherType,yearRange1,yearRange2):\n",
    "\n",
    "    if weatherType == \"Tmax\":\n",
    "        weatherVar = \"temperature\"\n",
    "    else: \n",
    "        weatherVar = \"precipitation\"\n",
    "    \n",
    "    year = yearRange1\n",
    "    filename = \"../../../../../../../Volumes/backup2/dissData/prism/zipcode\" + weatherType + str(year) + \".csv\"\n",
    "    data = dd.read_csv(filename, assume_missing=True)[['ZIP','date',weatherVar]]\n",
    "    \n",
    "    \n",
    "    callLocation = '../../data/companyData/relevantZips.pkl'\n",
    "\n",
    "    file   = open(callLocation,\"rb\")\n",
    "\n",
    "    relevantZips = list(pkl.load(file))\n",
    "    len(relevantZips)\n",
    "    \n",
    "    data = data[data.ZIP.isin(relevantZips)]\n",
    "    \n",
    "    # data = data[~(data[weatherVar].isna().compute())]\n",
    "\n",
    "    years = range(yearRange1 + 1,yearRange2 + 1)\n",
    "    for year in years:\n",
    "        filename = \"../../../../../../../Volumes/backup2/dissData/prism/zipcode\" + weatherType + str(year) + \".csv\"\n",
    "        tempData = dd.read_csv(filename, assume_missing=True)[['ZIP','date',weatherVar]]\n",
    "        tempData = tempData[tempData.ZIP.isin(relevantZips)]\n",
    "        # tempData = tempData[~(tempData[weatherVar].isna().compute())]\n",
    "        data = data.append(tempData)\n",
    "\n",
    "    data = data[~(data[weatherVar].isna())].compute()\n",
    "    \n",
    "    return(data)\n"
   ]
  },
  {
   "cell_type": "code",
   "execution_count": null,
   "metadata": {},
   "outputs": [],
   "source": [
    "'''numberQuants    = 20\n",
    "\n",
    "quantiles       = np.arange(0.0, 1.05, 1/numberQuants)\n",
    "\n",
    "quant_labels   = ['quant_' + str(n)[0:4] for n in quantiles]\n",
    "'''\n",
    "print(quant_labels)"
   ]
  },
  {
   "cell_type": "code",
   "execution_count": null,
   "metadata": {},
   "outputs": [],
   "source": [
    "len(quantiles)"
   ]
  },
  {
   "cell_type": "markdown",
   "metadata": {},
   "source": [
    "I think only a few of these quantiles will be relevant. Let's look at 0, 0.9, 0.95, 1.0"
   ]
  },
  {
   "cell_type": "code",
   "execution_count": null,
   "metadata": {},
   "outputs": [],
   "source": [
    "quantiles = [0.0, 0.05, 0.90, 0.95, 1.0]\n",
    "\n",
    "quant_labels = ['quant_0.05','quant_tossThisOne','quant_0.95','quant_1.0']"
   ]
  },
  {
   "cell_type": "markdown",
   "metadata": {},
   "source": [
    "# Precipitation"
   ]
  },
  {
   "cell_type": "code",
   "execution_count": null,
   "metadata": {},
   "outputs": [],
   "source": [
    "weatherType = \"Precip\" # Tmax\n",
    "precipData = getData(weatherType, 1981, 2009)"
   ]
  },
  {
   "cell_type": "code",
   "execution_count": null,
   "metadata": {},
   "outputs": [],
   "source": [
    "print(sys.getsizeof(precipData)/1e6)"
   ]
  },
  {
   "cell_type": "markdown",
   "metadata": {},
   "source": [
    "## Temperature"
   ]
  },
  {
   "cell_type": "code",
   "execution_count": null,
   "metadata": {},
   "outputs": [],
   "source": [
    "weatherType = \"Tmax\"\n",
    "tempData = getData(weatherType, 1981, 2009)"
   ]
  },
  {
   "cell_type": "code",
   "execution_count": null,
   "metadata": {},
   "outputs": [],
   "source": [
    "print(sys.getsizeof(tempData)/1e6)"
   ]
  },
  {
   "cell_type": "markdown",
   "metadata": {},
   "source": [
    "## Get stats\n",
    "\n",
    "### Describe Climate"
   ]
  },
  {
   "cell_type": "code",
   "execution_count": null,
   "metadata": {},
   "outputs": [],
   "source": [
    "weatherData = tempData.merge(precipData)\n",
    "weatherData['month'] = weatherData.date.astype('str').str.slice(4,6)\n",
    "weatherData['year'] = weatherData.date.astype('str').str.slice(0,4)\n",
    "\n",
    "weatherData['quarter'] = 'q1'\n",
    "\n",
    "weatherData.loc[weatherData['month'].isin(['04','05','06']), 'quarter'] = 'q2'\n",
    "weatherData.loc[weatherData['month'].isin(['07','08','09']), 'quarter'] = 'q3'\n",
    "weatherData.loc[weatherData['month'].isin(['10','11','12']), 'quarter'] = 'q4'\n",
    "    \n",
    "    \n",
    "print(weatherData.shape,tempData.shape,precipData.shape)\n",
    "\n",
    "\n",
    "weatherData.head()"
   ]
  },
  {
   "cell_type": "markdown",
   "metadata": {},
   "source": [
    "Get the quarterly stats."
   ]
  },
  {
   "cell_type": "code",
   "execution_count": null,
   "metadata": {},
   "outputs": [],
   "source": [
    "quarterlyStatsOverall = weatherData.drop(columns = {'date'}).\\\n",
    "    groupby(['quarter']).\\\n",
    "    agg(quarterly_avg_precip = ('precipitation',\"mean\"),\n",
    "       quarterly_median_precip = ('precipitation',\"median\"),\n",
    "       quarterly_variance_precip = ('precipitation',\"var\"),\n",
    "       quarterly_avg_temp = ('temperature',\"mean\"),\n",
    "       quarterly_median_temp = ('temperature',\"median\"),\n",
    "       quarterly_variance_temp = ('temperature',\"var\")\n",
    "       ).reset_index()\n",
    "\n",
    "quarterlyStatsByZip = weatherData.drop(columns = {'date'}).\\\n",
    "    groupby(['ZIP','quarter']).\\\n",
    "    agg(quarterly_avg_precip = ('precipitation',\"mean\"),\n",
    "       quarterly_median_precip = ('precipitation',\"median\"),\n",
    "       quarterly_variance_precip = ('precipitation',\"var\"),\n",
    "       quarterly_avg_temp = ('temperature',\"mean\"),\n",
    "       quarterly_median_temp = ('temperature',\"median\"),\n",
    "       quarterly_variance_temp = ('temperature',\"var\")\n",
    "       ).reset_index()\n",
    "\n",
    "'''precipQuantsOverall = precipData.groupby(['month']).precipitation.quantile(q = quantiles).\\\n",
    "    reset_index().rename(columns = {'level_1': 'quantile'})'''\n"
   ]
  },
  {
   "cell_type": "code",
   "execution_count": null,
   "metadata": {},
   "outputs": [],
   "source": [
    "quarterlyStatsByZip.to_csv(\"../../data/companyData/quarterlyStatsByZip.csv\")"
   ]
  },
  {
   "cell_type": "markdown",
   "metadata": {},
   "source": [
    "And the annual ones."
   ]
  },
  {
   "cell_type": "code",
   "execution_count": null,
   "metadata": {},
   "outputs": [],
   "source": [
    "annualStatsOverall = weatherData.drop(columns = {'date'}).\\\n",
    "    groupby(['year']).\\\n",
    "    agg(annual_avg_precip = ('precipitation',\"mean\"),\n",
    "       annual_median_precip = ('precipitation',\"median\"),\n",
    "       annual_variance_precip = ('precipitation',\"var\"),\n",
    "       annual_avg_temp = ('temperature',\"mean\"),\n",
    "       annual_median_temp = ('temperature',\"median\"),\n",
    "       annual_variance_temp = ('temperature',\"var\")\n",
    "       ).reset_index()\n",
    "\n",
    "annualStatsByZip = weatherData.drop(columns = {'date'}).\\\n",
    "    groupby(['ZIP','year']).\\\n",
    "    agg(annual_avg_precip = ('precipitation',\"mean\"),\n",
    "       annual_median_precip = ('precipitation',\"median\"),\n",
    "       annual_variance_precip = ('precipitation',\"var\"),\n",
    "       annual_avg_temp = ('temperature',\"mean\"),\n",
    "       annual_median_temp = ('temperature',\"median\"),\n",
    "       annual_variance_temp = ('temperature',\"var\")\n",
    "       ).reset_index()\n",
    "annualStatsByZip.head()"
   ]
  },
  {
   "cell_type": "code",
   "execution_count": null,
   "metadata": {},
   "outputs": [],
   "source": [
    "quarterlyStatsByZip.head()"
   ]
  },
  {
   "cell_type": "markdown",
   "metadata": {},
   "source": [
    "### Find Quartiles"
   ]
  },
  {
   "cell_type": "code",
   "execution_count": null,
   "metadata": {},
   "outputs": [],
   "source": [
    "quants_overall = getPivotQuantsOverall('temperature',weatherData)\n",
    "\n",
    "quants_overall"
   ]
  },
  {
   "cell_type": "code",
   "execution_count": null,
   "metadata": {},
   "outputs": [],
   "source": [
    "def getPivotQuantsOverall(weatherType,weatherData):\n",
    "\n",
    "    quants_overall  =  weatherData[weatherType].quantile(q = quantiles).reset_index().\\\n",
    "        rename(columns = {'index': 'quartile'})    \n",
    "    \n",
    "    quants_overall['quartile'] = 'q_' + quants_overall['quartile'].astype(str).str.slice(0,4)\n",
    "    quants_overall = quants_overall.iloc[:,1:].values.flatten().tolist()\n",
    "\n",
    "    return(quants_overall)"
   ]
  },
  {
   "cell_type": "code",
   "execution_count": null,
   "metadata": {},
   "outputs": [],
   "source": [
    "def getPivotQuants(weatherType, identifiers,weatherData):\n",
    "\n",
    "    quants_overallByZip   = weatherData.groupby(identifiers)[weatherType].quantile(q = quantiles).reset_index().\\\n",
    "        rename(columns=lambda x: re.sub('level_[0-9]$','quartile',x))\n",
    "    # rename(columns = {'level_1': 'quartile'})\n",
    "    # print(quants_overallByZip.head())\n",
    "    \n",
    "    quants_overallByZip['quartile'] = 'q_' + quants_overallByZip['quartile'].astype(str).str.slice(0,4)\n",
    "    quants_overallByZip.head()\n",
    "\n",
    "    ## \n",
    "\n",
    "    pivot_quants_overallByZip = quants_overallByZip.pivot(index=identifiers, \n",
    "            columns='quartile', values=str(weatherType)).reset_index().\\\n",
    "            rename_axis(None, axis=1)\n",
    "\n",
    "    pivot_quants_overallByZip['quartileList']      = pivot_quants_overallByZip.iloc[:,len(identifiers):].values.tolist()\n",
    "    pivot_quants_overallByZip['quartileLabelList'] = [list(pivot_quants_overallByZip.columns[2:-1])] * \\\n",
    "                                                                    pivot_quants_overallByZip.shape[0]\n",
    "\n",
    "    pivot_quants_overallByZip = pivot_quants_overallByZip[pivot_quants_overallByZip.\\\n",
    "                                                            columns.drop(list(pivot_quants_overallByZip.filter(regex='q_')))]\n",
    "\n",
    "    # pivot_quants_overallByZip.head()\n",
    "\n",
    "    return(pivot_quants_overallByZip)"
   ]
  },
  {
   "cell_type": "code",
   "execution_count": null,
   "metadata": {},
   "outputs": [],
   "source": [
    "def getQuartCounts(df, weatherType):\n",
    "    weatherCut = weatherType + \"Cut\"\n",
    "    weatherCutLabels = weatherCut + 'labels'\n",
    "    \n",
    "    df['month'] = df.date.astype(str).str.slice(4,6)\n",
    "    \n",
    "    df['quarter'] = 'q1'\n",
    "\n",
    "    df.loc[df['month'].isin(['04','05','06']), 'quarter'] = 'q2'\n",
    "    df.loc[df['month'].isin(['07','08','09']), 'quarter'] = 'q3'\n",
    "    df.loc[df['month'].isin(['10','11','12']), 'quarter'] = 'q4'\n",
    "\n",
    "    df['yearQuarter'] = df.date.astype(str).str.slice(0,4) + df.quarter\n",
    "\n",
    "    occurrences = weatherType + \"Occurrences\" \n",
    "\n",
    "    summaryDF = df.groupby(['ZIP','yearQuarter',weatherCutLabels]).size().reset_index()\n",
    "    summaryDF.columns = ['zip','yearQuarter',weatherCutLabels,occurrences]\n",
    "    \n",
    "    return(summaryDF)"
   ]
  },
  {
   "cell_type": "markdown",
   "metadata": {},
   "source": [
    "### Convert 2009-2018 data into quartiles"
   ]
  },
  {
   "cell_type": "code",
   "execution_count": null,
   "metadata": {},
   "outputs": [],
   "source": [
    "'''recentDecadeTmax   = getData(\"Tmax\",2009,2018)\n",
    "recentDecadePrecip = getData(\"Precip\",2009,2018)'''\n"
   ]
  },
  {
   "cell_type": "code",
   "execution_count": null,
   "metadata": {},
   "outputs": [],
   "source": [
    "recentDecadeWeather = recentDecadeTmax.merge(recentDecadePrecip)\n",
    "recentDecadeWeather.head()"
   ]
  },
  {
   "cell_type": "code",
   "execution_count": null,
   "metadata": {},
   "outputs": [],
   "source": [
    "recentDecadeWeather['month'] = recentDecadeWeather.date.astype(str).str.slice(4,6)\n",
    "\n",
    "recentDecadeWeather['quarter'] = 'q1'\n",
    "\n",
    "recentDecadeWeather.loc[recentDecadeWeather['month'].isin(['04','05','06']), 'quarter'] = 'q2'\n",
    "recentDecadeWeather.loc[recentDecadeWeather['month'].isin(['07','08','09']), 'quarter'] = 'q3'\n",
    "recentDecadeWeather.loc[recentDecadeWeather['month'].isin(['10','11','12']), 'quarter'] = 'q4'\n",
    "\n",
    "recentDecadeWeather['yearQuarter'] = recentDecadeWeather.date.astype(str).str.slice(0,4) + recentDecadeWeather.quarter\n",
    "recentDecadeWeather.head()"
   ]
  },
  {
   "cell_type": "code",
   "execution_count": null,
   "metadata": {},
   "outputs": [],
   "source": [
    "recentDecadeWeather[recentDecadeWeather.yearQuarter == '2009q1']"
   ]
  },
  {
   "cell_type": "markdown",
   "metadata": {},
   "source": [
    "Now get all the quartile data:\n",
    "    - Overall\n",
    "    - Monthly\n",
    "    - By zip\n",
    "    - Monthly by zip"
   ]
  },
  {
   "cell_type": "code",
   "execution_count": null,
   "metadata": {},
   "outputs": [],
   "source": [
    "tempQuants   = getPivotQuantsOverall('temperature',weatherData)\n",
    "precipQuants = getPivotQuantsOverall('precipitation',weatherData)\n",
    "\n",
    "###################\n",
    "\n",
    "pivot_temperatureQuants_monthly = getPivotQuants('temperature',['month'],weatherData).\\\n",
    "    drop(columns = {'quartileLabelList'})\n",
    "pivot_temperatureQuants_monthly.rename(columns = {'quartileList':     'quartileListTemperature_monthly'},\n",
    "                                      inplace = True)\n",
    "\n",
    "pivot_precipitationQuants_monthly = getPivotQuants('precipitation',['month'],weatherData)\n",
    "pivot_precipitationQuants_monthly.rename(columns = {'quartileList':     'quartileListPrecipitation_monthly'},\n",
    "                                      inplace = True)\n",
    "\n",
    "quants_monthly = pivot_temperatureQuants_monthly.merge(pivot_precipitationQuants_monthly).\\\n",
    "    drop(columns = {'quartileLabelList'})\n",
    "\n",
    "\n",
    "####################\n",
    "pivot_temperatureQuants_zip = getPivotQuants('temperature',['ZIP'],weatherData).\\\n",
    "    drop(columns = {'quartileLabelList'})\n",
    "pivot_temperatureQuants_zip.rename(columns = {'quartileList':     'quartileListTemperature_zip'},\n",
    "                                      inplace = True)\n",
    "\n",
    "pivot_precipitationQuants_zip = getPivotQuants('precipitation',['ZIP'],weatherData).\\\n",
    "    drop(columns = {'quartileLabelList'})\n",
    "pivot_precipitationQuants_zip.rename(columns = {'quartileList':     'quartileListPrecipitation_zip'},\n",
    "                                      inplace = True)\n",
    "\n",
    "quants_zip = pivot_temperatureQuants_zip.merge(pivot_precipitationQuants_zip)\n",
    "\n",
    "\n",
    "####################\n",
    "\n",
    "pivot_temperatureQuants_monthlyByZip = getPivotQuants('temperature',['ZIP','month'],weatherData).\\\n",
    "    drop(columns = {'quartileLabelList'})\n",
    "pivot_temperatureQuants_monthlyByZip.rename(columns = {'quartileList':     'quartileListTemperature_monthlyByZip'},\n",
    "                                      inplace = True)\n",
    "\n",
    "pivot_precipitationQuants_monthlyByZip = getPivotQuants('precipitation',['ZIP','month'],weatherData).\\\n",
    "    drop(columns = {'quartileLabelList'})\n",
    "pivot_precipitationQuants_monthlyByZip.rename(columns = {'quartileList':     'quartileListPrecipitation_monthlyByZip'},\n",
    "                                      inplace = True)\n",
    "\n",
    "quants_monthlyByZip = pivot_temperatureQuants_monthlyByZip.merge(pivot_precipitationQuants_monthlyByZip)\n",
    "\n"
   ]
  },
  {
   "cell_type": "code",
   "execution_count": null,
   "metadata": {},
   "outputs": [],
   "source": [
    "quantsAll                 = quants_monthlyByZip.merge(quants_zip).merge(quants_monthly)\n",
    "\n",
    "quantsAll['precipitationQuants'] = [precipQuants for i in quantsAll.index]\n",
    "quantsAll['temperatureQuants']   = [tempQuants   for i in quantsAll.index]\n",
    "\n",
    "\n",
    "quantsAll.head()"
   ]
  },
  {
   "cell_type": "markdown",
   "metadata": {},
   "source": [
    "Merge the intervals into the recent weather data."
   ]
  },
  {
   "cell_type": "code",
   "execution_count": null,
   "metadata": {},
   "outputs": [],
   "source": [
    "recentDecadeWeather = recentDecadeWeather.merge(quantsAll)\n",
    "\n",
    "recentDecadeWeather.head()"
   ]
  },
  {
   "cell_type": "code",
   "execution_count": null,
   "metadata": {},
   "outputs": [],
   "source": []
  },
  {
   "cell_type": "code",
   "execution_count": null,
   "metadata": {},
   "outputs": [],
   "source": [
    "recentDecadeWeather['temp_annualQuants'] = pd.cut(recentDecadeWeather.temperature, \n",
    "           bins = recentDecadeWeather.tempQuants[0],\n",
    "           labels = quant_labels)\n",
    "\n",
    "recentDecadeWeather['precip_annualQuants'] = pd.cut(recentDecadeWeather.precipitation, \n",
    "           bins = recentDecadeWeather.precipQuants[0][1:],\n",
    "           labels = quant_labels[1:])\n",
    "\n",
    "recentDecadeWeather.head()"
   ]
  },
  {
   "cell_type": "code",
   "execution_count": null,
   "metadata": {},
   "outputs": [],
   "source": [
    "months = recentDecadeWeather.month.unique()\n",
    "\n",
    "weatherByMonth = pd.DataFrame()\n",
    "\n",
    "for month in months: \n",
    "    print(month)\n",
    "    tempData = recentDecadeWeather[recentDecadeWeather.month == month].reset_index()\n",
    "    \n",
    "    \n",
    "    tempData['temp_monthlyQuants'] = pd.cut(tempData.temperature, \n",
    "           bins = tempData.quartileListTemp_monthly[0],\n",
    "           labels = quant_labels)\n",
    "    \n",
    "\n",
    "    tempData['precip_monthlyQuants'] = pd.cut(tempData.precipitation, \n",
    "           bins = tempData.quartileListPrecip_monthly[0][1:],\n",
    "           labels = quant_labels[1:])\n",
    "    \n",
    "    weatherByMonth = weatherByMonth.append(tempData)"
   ]
  },
  {
   "cell_type": "code",
   "execution_count": null,
   "metadata": {},
   "outputs": [],
   "source": []
  },
  {
   "cell_type": "code",
   "execution_count": null,
   "metadata": {},
   "outputs": [],
   "source": [
    "def getQuarts(row):\n",
    "    \n",
    "    row[weatherCutLabels] = pd.cut([row[weatherType]], \n",
    "           bins = row.quartileList,\n",
    "           labels = row.quartileLabelList)[0]\n",
    "\n",
    "    '''row[weatherCut] = pd.cut([row[weatherType]], \n",
    "           bins = row.quartileList)[0]'''    \n",
    "    return(row)\n",
    "\n",
    "\n",
    "def getQuartType(data, weatherType):\n",
    "    weatherCut = weatherType + \"Cut\"\n",
    "    weatherCutLabels = weatherCut + 'labels'\n",
    "    \n",
    "    test1 = data.apply(getQuarts, axis=1)\n",
    "    return(test1)"
   ]
  },
  {
   "cell_type": "code",
   "execution_count": null,
   "metadata": {},
   "outputs": [],
   "source": [
    "weatherByZip = pd.DataFrame()\n",
    "\n",
    "ZIPs = weatherByMonth.ZIP.unique()\n",
    "\n",
    "\n",
    "for zipcode in ZIPs: \n",
    "    print(zipcode)\n",
    "    tempData = weatherByMonth[weatherByMonth.ZIP == zipcode].reset_index()\n",
    "    \n",
    "    \n",
    "    tempData['temp_zipQuants'] = pd.cut(tempData.temperature, \n",
    "           bins = tempData.quartileListTemp_monthly[0],\n",
    "           labels = quant_labels)\n",
    "    \n",
    "\n",
    "    tempData['precip_zipQuants'] = pd.cut(tempData.precipitation, \n",
    "           bins = tempData.quartileListPrecip_monthly[0][1:],\n",
    "           labels = quant_labels[1:])\n",
    "    \n",
    "    weatherByZip = weatherByZip.append(tempData)"
   ]
  },
  {
   "cell_type": "markdown",
   "metadata": {},
   "source": [
    "This one takes a while so didn't wait for it to finish."
   ]
  },
  {
   "cell_type": "code",
   "execution_count": null,
   "metadata": {},
   "outputs": [],
   "source": [
    "weatherByZipByMonth = pd.DataFrame()\n",
    "\n",
    "\n",
    "ZIPs   = weatherByZip.ZIP.unique()\n",
    "months = weatherByZip.month.unique()\n",
    "\n",
    "\n",
    "for zipcode in ZIPs:\n",
    "    for month in months:\n",
    "\n",
    "\n",
    "        tempData = weatherByZip[(weatherByZip.ZIP  == zipcode) & \n",
    "                                (weatherByZip.month == month)].reset_index()\n",
    "\n",
    "\n",
    "        tempData['temp_zipMonthQuants'] = pd.cut(tempData.temperature, \n",
    "               bins = tempData.quartileListTemp_monthlyByZip[0],\n",
    "               labels = quant_labels)\n",
    "\n",
    "\n",
    "        tempData['precip_zipMonthQuants'] = pd.cut(tempData.precipitation, \n",
    "               bins = tempData.quartileListPrecip_monthlyByZip[0][1:],\n",
    "               labels = quant_labels[1:])\n",
    "\n",
    "\n",
    "\n",
    "        weatherByZipByMonth = weatherByZipByMonth.append(tempData)"
   ]
  },
  {
   "cell_type": "code",
   "execution_count": null,
   "metadata": {},
   "outputs": [],
   "source": [
    "weatherByZipByMonth[(weatherByZipByMonth.ZIP == 1238.0) & (weatherByZipByMonth.yearQuarter == '2009q2')]"
   ]
  },
  {
   "cell_type": "code",
   "execution_count": null,
   "metadata": {},
   "outputs": [],
   "source": [
    "weatherByZipByMonth.head()"
   ]
  },
  {
   "cell_type": "code",
   "execution_count": null,
   "metadata": {},
   "outputs": [],
   "source": [
    "allQuarts = weatherByZip[['ZIP', 'date', 'quarter', 'yearQuarter',\n",
    "                          'temp_annualQuants',   'precip_annualQuants',\n",
    "                          'temp_monthlyQuants',  'precip_monthlyQuants', \n",
    "                          'temp_zipQuants',      'precip_zipQuants']]\n",
    "\n",
    "allQuarts.head()"
   ]
  },
  {
   "cell_type": "code",
   "execution_count": null,
   "metadata": {},
   "outputs": [],
   "source": [
    "allQuarts[allQuarts.yearQuarter == '2009q2']"
   ]
  },
  {
   "cell_type": "markdown",
   "metadata": {},
   "source": [
    "------------------"
   ]
  },
  {
   "cell_type": "markdown",
   "metadata": {},
   "source": [
    "## Now go through the data from 2010 - 2019 and find time spent in each bin"
   ]
  },
  {
   "cell_type": "code",
   "execution_count": null,
   "metadata": {},
   "outputs": [],
   "source": [
    "def getCounts(quartType,df):\n",
    "\n",
    "    test = df.groupby(['ZIP','yearQuarter',quartType]).size().reset_index()\n",
    "    test = test.drop_duplicates()\n",
    "    test.columns = ['zip', 'yearQuarter', quartType, 'occurrences']\n",
    "\n",
    "    # print(test.head())\n",
    "\n",
    "\n",
    "    testPivot = test.pivot(index=['zip','yearQuarter'], \n",
    "            columns = quartType, values= 'occurrences').reset_index().\\\n",
    "            rename_axis(None, axis=1)\n",
    "\n",
    "    testPivot.columns.values[2:] = quartType[:-6] + testPivot.columns.values[2:]\n",
    "\n",
    "    # print(testPivot.head())\n",
    "    return(testPivot)"
   ]
  },
  {
   "cell_type": "code",
   "execution_count": null,
   "metadata": {},
   "outputs": [],
   "source": [
    "countData = getCounts(allQuarts.columns[4],allQuarts)\n",
    "\n",
    "for quart in allQuarts.columns[5:]:\n",
    "    print(quart)\n",
    "    countData = countData.merge(getCounts(quart,allQuarts))"
   ]
  },
  {
   "cell_type": "code",
   "execution_count": null,
   "metadata": {},
   "outputs": [],
   "source": [
    "print(countData.columns)\n",
    "\n"
   ]
  },
  {
   "cell_type": "markdown",
   "metadata": {},
   "source": [
    "Reformat the column names so they're consistent."
   ]
  },
  {
   "cell_type": "code",
   "execution_count": null,
   "metadata": {},
   "outputs": [],
   "source": [
    "countData['year'] = countData.yearQuarter.str.slice(0,4)\n",
    "countData['qtr']  = countData.yearQuarter.str.slice(5,6).astype('float')\n",
    "countData['zipcode']  = countData.zip.astype('int64')"
   ]
  },
  {
   "cell_type": "code",
   "execution_count": null,
   "metadata": {},
   "outputs": [],
   "source": [
    "countData.zipcode.min()"
   ]
  },
  {
   "cell_type": "code",
   "execution_count": null,
   "metadata": {},
   "outputs": [],
   "source": [
    "countData.to_csv(\"../../data/companyData/allWeatherBins_2009to2018.csv\")"
   ]
  },
  {
   "cell_type": "code",
   "execution_count": null,
   "metadata": {},
   "outputs": [],
   "source": []
  }
 ],
 "metadata": {
  "kernelspec": {
   "display_name": "Python 3",
   "language": "python",
   "name": "python3"
  },
  "language_info": {
   "codemirror_mode": {
    "name": "ipython",
    "version": 3
   },
   "file_extension": ".py",
   "mimetype": "text/x-python",
   "name": "python",
   "nbconvert_exporter": "python",
   "pygments_lexer": "ipython3",
   "version": "3.7.4"
  }
 },
 "nbformat": 4,
 "nbformat_minor": 2
}
