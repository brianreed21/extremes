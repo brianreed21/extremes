{
 "cells": [
  {
   "cell_type": "code",
   "execution_count": 1,
   "metadata": {},
   "outputs": [
    {
     "name": "stderr",
     "output_type": "stream",
     "text": [
      "/Users/brianreed/opt/anaconda3/lib/python3.7/site-packages/dask/dataframe/utils.py:14: FutureWarning: pandas.util.testing is deprecated. Use the functions in the public API at pandas.testing instead.\n",
      "  import pandas.util.testing as tm\n"
     ]
    }
   ],
   "source": [
    "import pickle\n",
    "import pandas as pd\n",
    "import matplotlib\n",
    "import os\n",
    "import re\n",
    "\n",
    "import collections\n",
    "import datetime\n",
    "import time\n",
    "\n",
    "import geopandas as gpd\n",
    "\n",
    "import numpy as np\n",
    "\n",
    "import rasterio\n",
    "\n",
    "from difflib import get_close_matches\n",
    "\n",
    "from fuzzywuzzy import process\n",
    "from fuzzywuzzy import fuzz\n",
    "\n",
    "import dask.dataframe as dd"
   ]
  },
  {
   "cell_type": "markdown",
   "metadata": {},
   "source": [
    "# Sample"
   ]
  },
  {
   "cell_type": "code",
   "execution_count": 2,
   "metadata": {},
   "outputs": [],
   "source": [
    "def getData(weatherType,yearRange1,yearRange2):\n",
    "\n",
    "    if weatherType == \"Tmax\":\n",
    "        weatherVar = \"temperature\"\n",
    "    else: \n",
    "        weatherVar = \"precipitation\"\n",
    "    \n",
    "    year = yearRange1\n",
    "    filename = \"../../../../../../../Volumes/backup2/dissData/prism/zipcode\" + weatherType + str(year) + \".csv\"\n",
    "    data = dd.read_csv(filename, assume_missing=True)[['ZIP','date',weatherVar]]\n",
    "    # data = data[~(data[weatherVar].isna().compute())]\n",
    "\n",
    "    years = range(yearRange1 + 1,yearRange2 + 1)\n",
    "    for year in years:\n",
    "        filename = \"../../../../../../../Volumes/backup2/dissData/prism/zipcode\" + weatherType + str(year) + \".csv\"\n",
    "        tempData = dd.read_csv(filename, assume_missing=True)[['ZIP','date',weatherVar]]\n",
    "        # tempData = tempData[~(tempData[weatherVar].isna().compute())]\n",
    "        data = data.append(tempData)\n",
    "\n",
    "    data = data[~(data[weatherVar].isna())].compute()\n",
    "    \n",
    "    return(data)\n"
   ]
  },
  {
   "cell_type": "code",
   "execution_count": 65,
   "metadata": {},
   "outputs": [
    {
     "name": "stdout",
     "output_type": "stream",
     "text": [
      "['quant_0.0', 'quant_0.05', 'quant_0.1', 'quant_0.15', 'quant_0.2', 'quant_0.25', 'quant_0.30', 'quant_0.35', 'quant_0.4', 'quant_0.45', 'quant_0.5', 'quant_0.55', 'quant_0.60', 'quant_0.65', 'quant_0.70', 'quant_0.75', 'quant_0.8', 'quant_0.85', 'quant_0.9', 'quant_0.95', 'quant_1.0']\n"
     ]
    }
   ],
   "source": [
    "numberQuants    = 20\n",
    "\n",
    "quantiles       = np.arange(0.0, 1.05, 1/numberQuants)\n",
    "\n",
    "quant_labels   = ['quant_' + str(n)[0:4] for n in quantiles]\n",
    "\n",
    "print(quant_labels)"
   ]
  },
  {
   "cell_type": "code",
   "execution_count": 66,
   "metadata": {},
   "outputs": [
    {
     "data": {
      "text/plain": [
       "21"
      ]
     },
     "execution_count": 66,
     "metadata": {},
     "output_type": "execute_result"
    }
   ],
   "source": [
    "len(quantiles)"
   ]
  },
  {
   "cell_type": "markdown",
   "metadata": {},
   "source": [
    "## Precipitation"
   ]
  },
  {
   "cell_type": "code",
   "execution_count": null,
   "metadata": {},
   "outputs": [],
   "source": [
    "start = time.time()\n",
    "weatherType = \"Precip\" # Tmax\n",
    "data = getData(weatherType,1981,2019)\n",
    "\n",
    "precipQuants2 = data.precipitation.quantile(q = quantiles).compute()\n",
    "\n",
    "print(time.time() - start)"
   ]
  },
  {
   "cell_type": "code",
   "execution_count": null,
   "metadata": {},
   "outputs": [],
   "source": [
    "precipQuants"
   ]
  },
  {
   "cell_type": "markdown",
   "metadata": {},
   "source": [
    "## Temperature"
   ]
  },
  {
   "cell_type": "code",
   "execution_count": 4,
   "metadata": {},
   "outputs": [
    {
     "ename": "AttributeError",
     "evalue": "'Series' object has no attribute 'compute'",
     "output_type": "error",
     "traceback": [
      "\u001b[0;31m---------------------------------------------------------------------------\u001b[0m",
      "\u001b[0;31mAttributeError\u001b[0m                            Traceback (most recent call last)",
      "\u001b[0;32m<ipython-input-4-2a79286fb69f>\u001b[0m in \u001b[0;36m<module>\u001b[0;34m\u001b[0m\n\u001b[1;32m      3\u001b[0m \u001b[0mdata\u001b[0m \u001b[0;34m=\u001b[0m \u001b[0mgetData\u001b[0m\u001b[0;34m(\u001b[0m\u001b[0mweatherType\u001b[0m\u001b[0;34m,\u001b[0m \u001b[0;36m1981\u001b[0m\u001b[0;34m,\u001b[0m \u001b[0;36m1982\u001b[0m\u001b[0;34m)\u001b[0m\u001b[0;34m\u001b[0m\u001b[0;34m\u001b[0m\u001b[0m\n\u001b[1;32m      4\u001b[0m \u001b[0;34m\u001b[0m\u001b[0m\n\u001b[0;32m----> 5\u001b[0;31m \u001b[0mtmaxQuants\u001b[0m \u001b[0;34m=\u001b[0m \u001b[0mdata\u001b[0m\u001b[0;34m.\u001b[0m\u001b[0mtemperature\u001b[0m\u001b[0;34m.\u001b[0m\u001b[0mquantile\u001b[0m\u001b[0;34m(\u001b[0m\u001b[0mq\u001b[0m \u001b[0;34m=\u001b[0m \u001b[0mquantiles\u001b[0m\u001b[0;34m)\u001b[0m\u001b[0;34m.\u001b[0m\u001b[0mcompute\u001b[0m\u001b[0;34m(\u001b[0m\u001b[0;34m)\u001b[0m\u001b[0;34m\u001b[0m\u001b[0;34m\u001b[0m\u001b[0m\n\u001b[0m\u001b[1;32m      6\u001b[0m \u001b[0;34m\u001b[0m\u001b[0m\n\u001b[1;32m      7\u001b[0m \u001b[0mprint\u001b[0m\u001b[0;34m(\u001b[0m\u001b[0mtime\u001b[0m\u001b[0;34m.\u001b[0m\u001b[0mtime\u001b[0m\u001b[0;34m(\u001b[0m\u001b[0;34m)\u001b[0m \u001b[0;34m-\u001b[0m \u001b[0mstart\u001b[0m\u001b[0;34m)\u001b[0m\u001b[0;34m\u001b[0m\u001b[0;34m\u001b[0m\u001b[0m\n",
      "\u001b[0;32m~/opt/anaconda3/lib/python3.7/site-packages/pandas/core/generic.py\u001b[0m in \u001b[0;36m__getattr__\u001b[0;34m(self, name)\u001b[0m\n\u001b[1;32m   5485\u001b[0m         ):\n\u001b[1;32m   5486\u001b[0m             \u001b[0;32mreturn\u001b[0m \u001b[0mself\u001b[0m\u001b[0;34m[\u001b[0m\u001b[0mname\u001b[0m\u001b[0;34m]\u001b[0m\u001b[0;34m\u001b[0m\u001b[0;34m\u001b[0m\u001b[0m\n\u001b[0;32m-> 5487\u001b[0;31m         \u001b[0;32mreturn\u001b[0m \u001b[0mobject\u001b[0m\u001b[0;34m.\u001b[0m\u001b[0m__getattribute__\u001b[0m\u001b[0;34m(\u001b[0m\u001b[0mself\u001b[0m\u001b[0;34m,\u001b[0m \u001b[0mname\u001b[0m\u001b[0;34m)\u001b[0m\u001b[0;34m\u001b[0m\u001b[0;34m\u001b[0m\u001b[0m\n\u001b[0m\u001b[1;32m   5488\u001b[0m \u001b[0;34m\u001b[0m\u001b[0m\n\u001b[1;32m   5489\u001b[0m     \u001b[0;32mdef\u001b[0m \u001b[0m__setattr__\u001b[0m\u001b[0;34m(\u001b[0m\u001b[0mself\u001b[0m\u001b[0;34m,\u001b[0m \u001b[0mname\u001b[0m\u001b[0;34m:\u001b[0m \u001b[0mstr\u001b[0m\u001b[0;34m,\u001b[0m \u001b[0mvalue\u001b[0m\u001b[0;34m)\u001b[0m \u001b[0;34m->\u001b[0m \u001b[0;32mNone\u001b[0m\u001b[0;34m:\u001b[0m\u001b[0;34m\u001b[0m\u001b[0;34m\u001b[0m\u001b[0m\n",
      "\u001b[0;31mAttributeError\u001b[0m: 'Series' object has no attribute 'compute'"
     ]
    }
   ],
   "source": [
    "start = time.time()\n",
    "weatherType = \"Tmax\"\n",
    "data = getData(weatherType, 1981, 1982)\n",
    "\n",
    "tmaxQuants = data.temperature.quantile(q = quantiles).compute()\n",
    "\n",
    "print(time.time() - start)"
   ]
  },
  {
   "cell_type": "code",
   "execution_count": 68,
   "metadata": {},
   "outputs": [
    {
     "data": {
      "text/plain": [
       "\"quantiles       = np.arange(0.0, 1.0, 1/numberQuants)\\n\\nquant_labels   = ['quant_' + str(n)[0:4] for n in quantiles]\\n\\nprint(quant_labels)\""
      ]
     },
     "execution_count": 68,
     "metadata": {},
     "output_type": "execute_result"
    }
   ],
   "source": [
    "tmaxQuants = data.temperature.quantile(q = quantiles)\n",
    "\n",
    "'''quantiles       = np.arange(0.0, 1.0, 1/numberQuants)\n",
    "\n",
    "quant_labels   = ['quant_' + str(n)[0:4] for n in quantiles]\n",
    "\n",
    "print(quant_labels)'''"
   ]
  },
  {
   "cell_type": "code",
   "execution_count": 69,
   "metadata": {},
   "outputs": [
    {
     "name": "stdout",
     "output_type": "stream",
     "text": [
      "0.00   -31.191000\n",
      "0.05    -2.358000\n",
      "0.10     1.756000\n",
      "0.15     4.656000\n",
      "0.20     7.496000\n",
      "0.25    10.128000\n",
      "0.30    12.459000\n",
      "0.35    14.553000\n",
      "0.40    16.443001\n",
      "0.45    18.141001\n",
      "0.50    19.778000\n",
      "0.55    21.350000\n",
      "0.60    22.841999\n",
      "0.65    24.275000\n",
      "0.70    25.673000\n",
      "0.75    26.955999\n",
      "0.80    28.231001\n",
      "0.85    29.552000\n",
      "0.90    31.174999\n",
      "0.95    33.216999\n",
      "1.00    49.234001\n",
      "Name: temperature, dtype: float64\n"
     ]
    }
   ],
   "source": [
    "print(tmaxQuants)"
   ]
  },
  {
   "cell_type": "code",
   "execution_count": 70,
   "metadata": {},
   "outputs": [
    {
     "data": {
      "text/plain": [
       "-2.35800004005432"
      ]
     },
     "execution_count": 70,
     "metadata": {},
     "output_type": "execute_result"
    }
   ],
   "source": [
    "data.temperature.quantile(0.05)"
   ]
  },
  {
   "cell_type": "markdown",
   "metadata": {},
   "source": [
    "## Now go through the data from 2010 - 2019 and find time spent in each bin"
   ]
  },
  {
   "cell_type": "code",
   "execution_count": 44,
   "metadata": {},
   "outputs": [
    {
     "data": {
      "text/plain": [
       "[-31.1909999847412,\n",
       " -2.65300011634827,\n",
       " 1.46300005912781,\n",
       " 4.24200010299683,\n",
       " 6.98000001907349,\n",
       " 9.51700019836426,\n",
       " 11.8280000686646,\n",
       " 13.8809995651245,\n",
       " 15.7519998550415,\n",
       " 17.4360008239746,\n",
       " 19.0030002593994,\n",
       " 20.548999786377,\n",
       " 21.992000579834,\n",
       " 23.3929996490479,\n",
       " 24.75,\n",
       " 26.0480003356934,\n",
       " 27.253999710083,\n",
       " 28.4769992828369,\n",
       " 29.7600002288818,\n",
       " 31.3500003814697,\n",
       " 33.3370018005371]"
      ]
     },
     "execution_count": 44,
     "metadata": {},
     "output_type": "execute_result"
    }
   ],
   "source": [
    "list(tmaxQuants)"
   ]
  },
  {
   "cell_type": "code",
   "execution_count": 9,
   "metadata": {},
   "outputs": [
    {
     "name": "stdout",
     "output_type": "stream",
     "text": [
      "59.81600832939148\n"
     ]
    },
    {
     "data": {
      "text/html": [
       "<div>\n",
       "<style scoped>\n",
       "    .dataframe tbody tr th:only-of-type {\n",
       "        vertical-align: middle;\n",
       "    }\n",
       "\n",
       "    .dataframe tbody tr th {\n",
       "        vertical-align: top;\n",
       "    }\n",
       "\n",
       "    .dataframe thead th {\n",
       "        text-align: right;\n",
       "    }\n",
       "</style>\n",
       "<table border=\"1\" class=\"dataframe\">\n",
       "  <thead>\n",
       "    <tr style=\"text-align: right;\">\n",
       "      <th></th>\n",
       "      <th>ZIP</th>\n",
       "      <th>date</th>\n",
       "      <th>temperature</th>\n",
       "    </tr>\n",
       "  </thead>\n",
       "  <tbody>\n",
       "    <tr>\n",
       "      <th>142</th>\n",
       "      <td>1001.0</td>\n",
       "      <td>20100101.0</td>\n",
       "      <td>-0.760</td>\n",
       "    </tr>\n",
       "    <tr>\n",
       "      <th>143</th>\n",
       "      <td>1002.0</td>\n",
       "      <td>20100101.0</td>\n",
       "      <td>-2.157</td>\n",
       "    </tr>\n",
       "    <tr>\n",
       "      <th>144</th>\n",
       "      <td>1003.0</td>\n",
       "      <td>20100101.0</td>\n",
       "      <td>-1.203</td>\n",
       "    </tr>\n",
       "    <tr>\n",
       "      <th>145</th>\n",
       "      <td>1005.0</td>\n",
       "      <td>20100101.0</td>\n",
       "      <td>-2.705</td>\n",
       "    </tr>\n",
       "    <tr>\n",
       "      <th>146</th>\n",
       "      <td>1007.0</td>\n",
       "      <td>20100101.0</td>\n",
       "      <td>-1.634</td>\n",
       "    </tr>\n",
       "  </tbody>\n",
       "</table>\n",
       "</div>"
      ],
      "text/plain": [
       "        ZIP        date  temperature\n",
       "142  1001.0  20100101.0       -0.760\n",
       "143  1002.0  20100101.0       -2.157\n",
       "144  1003.0  20100101.0       -1.203\n",
       "145  1005.0  20100101.0       -2.705\n",
       "146  1007.0  20100101.0       -1.634"
      ]
     },
     "execution_count": 9,
     "metadata": {},
     "output_type": "execute_result"
    }
   ],
   "source": [
    "start = time.time()\n",
    "recentDecadeTemps = getData(\"Tmax\",2010,2011)\n",
    "print(time.time() - start)\n",
    "\n",
    "recentDecadeTemps.head()"
   ]
  },
  {
   "cell_type": "code",
   "execution_count": null,
   "metadata": {},
   "outputs": [],
   "source": []
  },
  {
   "cell_type": "code",
   "execution_count": 49,
   "metadata": {
    "scrolled": true
   },
   "outputs": [
    {
     "data": {
      "text/plain": [
       "['quant_0.0',\n",
       " 'quant_0.04',\n",
       " 'quant_0.09',\n",
       " 'quant_0.14',\n",
       " 'quant_0.19',\n",
       " 'quant_0.23',\n",
       " 'quant_0.28',\n",
       " 'quant_0.33',\n",
       " 'quant_0.38',\n",
       " 'quant_0.42',\n",
       " 'quant_0.47',\n",
       " 'quant_0.52',\n",
       " 'quant_0.57',\n",
       " 'quant_0.61',\n",
       " 'quant_0.66',\n",
       " 'quant_0.71',\n",
       " 'quant_0.76',\n",
       " 'quant_0.80',\n",
       " 'quant_0.85',\n",
       " 'quant_0.90',\n",
       " 'quant_0.95']"
      ]
     },
     "execution_count": 49,
     "metadata": {},
     "output_type": "execute_result"
    }
   ],
   "source": [
    "quant_labels"
   ]
  },
  {
   "cell_type": "code",
   "execution_count": 72,
   "metadata": {},
   "outputs": [],
   "source": [
    "def findQuarterlyQuants(weatherType, quartileList, df):\n",
    "    \n",
    "    weatherCut = weatherType + \"Cut\"\n",
    "    weatherCutLabels = weatherCut + 'labels'\n",
    "    \n",
    "    df[weatherCutLabels] = pd.Series(pd.cut(df[weatherType],\n",
    "                                      bins = list(quartileList),\n",
    "                                     labels = quant_labels[1:]))\n",
    "    \n",
    "    df[weatherCut] = pd.Series(pd.cut(df[weatherType],\n",
    "                                      bins = list(quartileList)))\n",
    "    \n",
    "    df['month'] = df.date.astype(str).str.slice(4,6)\n",
    "\n",
    "    df['quarter'] = 'q1'\n",
    "\n",
    "    df.loc[df['month'].isin(['04','05','06']), 'quarter'] = 'q2'\n",
    "    df.loc[df['month'].isin(['07','08','09']), 'quarter'] = 'q3'\n",
    "    df.loc[df['month'].isin(['10','11','12']), 'quarter'] = 'q4'\n",
    "\n",
    "    df['yearQuarter'] = df.date.astype(str).str.slice(0,4) + df.quarter\n",
    "\n",
    "    occurrences = weatherType + \"Occurences\" \n",
    "\n",
    "    '''summaryDF = df.groupby(['ZIP','yearQuarter',weatherCutLabels]).size().reset_index()\n",
    "    summaryDF.columns = ['zip','yearQuarter',weatherCutLabels,occurrences]'''\n",
    "    \n",
    "    summaryDF = df.groupby(['ZIP','yearQuarter',weatherCut]).size().reset_index()\n",
    "    summaryDF.columns = ['zip','yearQuarter',weatherCut,occurrences]\n",
    "    \n",
    "    return(summaryDF)"
   ]
  },
  {
   "cell_type": "code",
   "execution_count": 71,
   "metadata": {},
   "outputs": [
    {
     "data": {
      "text/html": [
       "<div>\n",
       "<style scoped>\n",
       "    .dataframe tbody tr th:only-of-type {\n",
       "        vertical-align: middle;\n",
       "    }\n",
       "\n",
       "    .dataframe tbody tr th {\n",
       "        vertical-align: top;\n",
       "    }\n",
       "\n",
       "    .dataframe thead th {\n",
       "        text-align: right;\n",
       "    }\n",
       "</style>\n",
       "<table border=\"1\" class=\"dataframe\">\n",
       "  <thead>\n",
       "    <tr style=\"text-align: right;\">\n",
       "      <th></th>\n",
       "      <th>zip</th>\n",
       "      <th>yearQuarter</th>\n",
       "      <th>temperatureCutlabels</th>\n",
       "      <th>temperatureOccurences</th>\n",
       "    </tr>\n",
       "  </thead>\n",
       "  <tbody>\n",
       "    <tr>\n",
       "      <th>0</th>\n",
       "      <td>1001.0</td>\n",
       "      <td>2010q1</td>\n",
       "      <td>quant_0.05</td>\n",
       "      <td>7</td>\n",
       "    </tr>\n",
       "    <tr>\n",
       "      <th>1</th>\n",
       "      <td>1001.0</td>\n",
       "      <td>2010q1</td>\n",
       "      <td>quant_0.1</td>\n",
       "      <td>20</td>\n",
       "    </tr>\n",
       "    <tr>\n",
       "      <th>2</th>\n",
       "      <td>1001.0</td>\n",
       "      <td>2010q1</td>\n",
       "      <td>quant_0.15</td>\n",
       "      <td>22</td>\n",
       "    </tr>\n",
       "    <tr>\n",
       "      <th>3</th>\n",
       "      <td>1001.0</td>\n",
       "      <td>2010q1</td>\n",
       "      <td>quant_0.2</td>\n",
       "      <td>11</td>\n",
       "    </tr>\n",
       "    <tr>\n",
       "      <th>4</th>\n",
       "      <td>1001.0</td>\n",
       "      <td>2010q1</td>\n",
       "      <td>quant_0.25</td>\n",
       "      <td>11</td>\n",
       "    </tr>\n",
       "    <tr>\n",
       "      <th>5</th>\n",
       "      <td>1001.0</td>\n",
       "      <td>2010q1</td>\n",
       "      <td>quant_0.30</td>\n",
       "      <td>5</td>\n",
       "    </tr>\n",
       "    <tr>\n",
       "      <th>6</th>\n",
       "      <td>1001.0</td>\n",
       "      <td>2010q1</td>\n",
       "      <td>quant_0.35</td>\n",
       "      <td>6</td>\n",
       "    </tr>\n",
       "    <tr>\n",
       "      <th>7</th>\n",
       "      <td>1001.0</td>\n",
       "      <td>2010q1</td>\n",
       "      <td>quant_0.4</td>\n",
       "      <td>2</td>\n",
       "    </tr>\n",
       "    <tr>\n",
       "      <th>8</th>\n",
       "      <td>1001.0</td>\n",
       "      <td>2010q1</td>\n",
       "      <td>quant_0.45</td>\n",
       "      <td>1</td>\n",
       "    </tr>\n",
       "    <tr>\n",
       "      <th>9</th>\n",
       "      <td>1001.0</td>\n",
       "      <td>2010q1</td>\n",
       "      <td>quant_0.5</td>\n",
       "      <td>1</td>\n",
       "    </tr>\n",
       "    <tr>\n",
       "      <th>10</th>\n",
       "      <td>1001.0</td>\n",
       "      <td>2010q1</td>\n",
       "      <td>quant_0.55</td>\n",
       "      <td>2</td>\n",
       "    </tr>\n",
       "    <tr>\n",
       "      <th>11</th>\n",
       "      <td>1001.0</td>\n",
       "      <td>2010q1</td>\n",
       "      <td>quant_0.60</td>\n",
       "      <td>2</td>\n",
       "    </tr>\n",
       "    <tr>\n",
       "      <th>12</th>\n",
       "      <td>1001.0</td>\n",
       "      <td>2010q1</td>\n",
       "      <td>quant_0.65</td>\n",
       "      <td>0</td>\n",
       "    </tr>\n",
       "    <tr>\n",
       "      <th>13</th>\n",
       "      <td>1001.0</td>\n",
       "      <td>2010q1</td>\n",
       "      <td>quant_0.70</td>\n",
       "      <td>0</td>\n",
       "    </tr>\n",
       "    <tr>\n",
       "      <th>14</th>\n",
       "      <td>1001.0</td>\n",
       "      <td>2010q1</td>\n",
       "      <td>quant_0.75</td>\n",
       "      <td>0</td>\n",
       "    </tr>\n",
       "    <tr>\n",
       "      <th>15</th>\n",
       "      <td>1001.0</td>\n",
       "      <td>2010q1</td>\n",
       "      <td>quant_0.8</td>\n",
       "      <td>0</td>\n",
       "    </tr>\n",
       "    <tr>\n",
       "      <th>16</th>\n",
       "      <td>1001.0</td>\n",
       "      <td>2010q1</td>\n",
       "      <td>quant_0.85</td>\n",
       "      <td>0</td>\n",
       "    </tr>\n",
       "    <tr>\n",
       "      <th>17</th>\n",
       "      <td>1001.0</td>\n",
       "      <td>2010q1</td>\n",
       "      <td>quant_0.9</td>\n",
       "      <td>0</td>\n",
       "    </tr>\n",
       "    <tr>\n",
       "      <th>18</th>\n",
       "      <td>1001.0</td>\n",
       "      <td>2010q1</td>\n",
       "      <td>quant_0.95</td>\n",
       "      <td>0</td>\n",
       "    </tr>\n",
       "    <tr>\n",
       "      <th>19</th>\n",
       "      <td>1001.0</td>\n",
       "      <td>2010q1</td>\n",
       "      <td>quant_1.0</td>\n",
       "      <td>0</td>\n",
       "    </tr>\n",
       "    <tr>\n",
       "      <th>20</th>\n",
       "      <td>1001.0</td>\n",
       "      <td>2010q2</td>\n",
       "      <td>quant_0.05</td>\n",
       "      <td>0</td>\n",
       "    </tr>\n",
       "    <tr>\n",
       "      <th>21</th>\n",
       "      <td>1001.0</td>\n",
       "      <td>2010q2</td>\n",
       "      <td>quant_0.1</td>\n",
       "      <td>0</td>\n",
       "    </tr>\n",
       "    <tr>\n",
       "      <th>22</th>\n",
       "      <td>1001.0</td>\n",
       "      <td>2010q2</td>\n",
       "      <td>quant_0.15</td>\n",
       "      <td>0</td>\n",
       "    </tr>\n",
       "    <tr>\n",
       "      <th>23</th>\n",
       "      <td>1001.0</td>\n",
       "      <td>2010q2</td>\n",
       "      <td>quant_0.2</td>\n",
       "      <td>0</td>\n",
       "    </tr>\n",
       "    <tr>\n",
       "      <th>24</th>\n",
       "      <td>1001.0</td>\n",
       "      <td>2010q2</td>\n",
       "      <td>quant_0.25</td>\n",
       "      <td>2</td>\n",
       "    </tr>\n",
       "  </tbody>\n",
       "</table>\n",
       "</div>"
      ],
      "text/plain": [
       "       zip yearQuarter temperatureCutlabels  temperatureOccurences\n",
       "0   1001.0      2010q1           quant_0.05                      7\n",
       "1   1001.0      2010q1            quant_0.1                     20\n",
       "2   1001.0      2010q1           quant_0.15                     22\n",
       "3   1001.0      2010q1            quant_0.2                     11\n",
       "4   1001.0      2010q1           quant_0.25                     11\n",
       "5   1001.0      2010q1           quant_0.30                      5\n",
       "6   1001.0      2010q1           quant_0.35                      6\n",
       "7   1001.0      2010q1            quant_0.4                      2\n",
       "8   1001.0      2010q1           quant_0.45                      1\n",
       "9   1001.0      2010q1            quant_0.5                      1\n",
       "10  1001.0      2010q1           quant_0.55                      2\n",
       "11  1001.0      2010q1           quant_0.60                      2\n",
       "12  1001.0      2010q1           quant_0.65                      0\n",
       "13  1001.0      2010q1           quant_0.70                      0\n",
       "14  1001.0      2010q1           quant_0.75                      0\n",
       "15  1001.0      2010q1            quant_0.8                      0\n",
       "16  1001.0      2010q1           quant_0.85                      0\n",
       "17  1001.0      2010q1            quant_0.9                      0\n",
       "18  1001.0      2010q1           quant_0.95                      0\n",
       "19  1001.0      2010q1            quant_1.0                      0\n",
       "20  1001.0      2010q2           quant_0.05                      0\n",
       "21  1001.0      2010q2            quant_0.1                      0\n",
       "22  1001.0      2010q2           quant_0.15                      0\n",
       "23  1001.0      2010q2            quant_0.2                      0\n",
       "24  1001.0      2010q2           quant_0.25                      2"
      ]
     },
     "execution_count": 71,
     "metadata": {},
     "output_type": "execute_result"
    }
   ],
   "source": [
    "test = findQuarterlyQuants(weatherType = 'temperature', quartileList = tmaxQuants, df = recentDecadeTemps)\n",
    "test[0:25]"
   ]
  },
  {
   "cell_type": "code",
   "execution_count": 73,
   "metadata": {},
   "outputs": [
    {
     "data": {
      "text/html": [
       "<div>\n",
       "<style scoped>\n",
       "    .dataframe tbody tr th:only-of-type {\n",
       "        vertical-align: middle;\n",
       "    }\n",
       "\n",
       "    .dataframe tbody tr th {\n",
       "        vertical-align: top;\n",
       "    }\n",
       "\n",
       "    .dataframe thead th {\n",
       "        text-align: right;\n",
       "    }\n",
       "</style>\n",
       "<table border=\"1\" class=\"dataframe\">\n",
       "  <thead>\n",
       "    <tr style=\"text-align: right;\">\n",
       "      <th></th>\n",
       "      <th>zip</th>\n",
       "      <th>yearQuarter</th>\n",
       "      <th>temperatureCut</th>\n",
       "      <th>temperatureOccurences</th>\n",
       "    </tr>\n",
       "  </thead>\n",
       "  <tbody>\n",
       "    <tr>\n",
       "      <th>0</th>\n",
       "      <td>1001.0</td>\n",
       "      <td>2010q1</td>\n",
       "      <td>(-31.191, -2.358]</td>\n",
       "      <td>7</td>\n",
       "    </tr>\n",
       "    <tr>\n",
       "      <th>1</th>\n",
       "      <td>1001.0</td>\n",
       "      <td>2010q1</td>\n",
       "      <td>(-2.358, 1.756]</td>\n",
       "      <td>20</td>\n",
       "    </tr>\n",
       "    <tr>\n",
       "      <th>2</th>\n",
       "      <td>1001.0</td>\n",
       "      <td>2010q1</td>\n",
       "      <td>(1.756, 4.656]</td>\n",
       "      <td>22</td>\n",
       "    </tr>\n",
       "    <tr>\n",
       "      <th>3</th>\n",
       "      <td>1001.0</td>\n",
       "      <td>2010q1</td>\n",
       "      <td>(4.656, 7.496]</td>\n",
       "      <td>11</td>\n",
       "    </tr>\n",
       "    <tr>\n",
       "      <th>4</th>\n",
       "      <td>1001.0</td>\n",
       "      <td>2010q1</td>\n",
       "      <td>(7.496, 10.128]</td>\n",
       "      <td>11</td>\n",
       "    </tr>\n",
       "    <tr>\n",
       "      <th>5</th>\n",
       "      <td>1001.0</td>\n",
       "      <td>2010q1</td>\n",
       "      <td>(10.128, 12.459]</td>\n",
       "      <td>5</td>\n",
       "    </tr>\n",
       "    <tr>\n",
       "      <th>6</th>\n",
       "      <td>1001.0</td>\n",
       "      <td>2010q1</td>\n",
       "      <td>(12.459, 14.553]</td>\n",
       "      <td>6</td>\n",
       "    </tr>\n",
       "    <tr>\n",
       "      <th>7</th>\n",
       "      <td>1001.0</td>\n",
       "      <td>2010q1</td>\n",
       "      <td>(14.553, 16.443]</td>\n",
       "      <td>2</td>\n",
       "    </tr>\n",
       "    <tr>\n",
       "      <th>8</th>\n",
       "      <td>1001.0</td>\n",
       "      <td>2010q1</td>\n",
       "      <td>(16.443, 18.141]</td>\n",
       "      <td>1</td>\n",
       "    </tr>\n",
       "    <tr>\n",
       "      <th>9</th>\n",
       "      <td>1001.0</td>\n",
       "      <td>2010q1</td>\n",
       "      <td>(18.141, 19.778]</td>\n",
       "      <td>1</td>\n",
       "    </tr>\n",
       "    <tr>\n",
       "      <th>10</th>\n",
       "      <td>1001.0</td>\n",
       "      <td>2010q1</td>\n",
       "      <td>(19.778, 21.35]</td>\n",
       "      <td>2</td>\n",
       "    </tr>\n",
       "    <tr>\n",
       "      <th>11</th>\n",
       "      <td>1001.0</td>\n",
       "      <td>2010q1</td>\n",
       "      <td>(21.35, 22.842]</td>\n",
       "      <td>2</td>\n",
       "    </tr>\n",
       "    <tr>\n",
       "      <th>12</th>\n",
       "      <td>1001.0</td>\n",
       "      <td>2010q1</td>\n",
       "      <td>(22.842, 24.275]</td>\n",
       "      <td>0</td>\n",
       "    </tr>\n",
       "    <tr>\n",
       "      <th>13</th>\n",
       "      <td>1001.0</td>\n",
       "      <td>2010q1</td>\n",
       "      <td>(24.275, 25.673]</td>\n",
       "      <td>0</td>\n",
       "    </tr>\n",
       "    <tr>\n",
       "      <th>14</th>\n",
       "      <td>1001.0</td>\n",
       "      <td>2010q1</td>\n",
       "      <td>(25.673, 26.956]</td>\n",
       "      <td>0</td>\n",
       "    </tr>\n",
       "    <tr>\n",
       "      <th>15</th>\n",
       "      <td>1001.0</td>\n",
       "      <td>2010q1</td>\n",
       "      <td>(26.956, 28.231]</td>\n",
       "      <td>0</td>\n",
       "    </tr>\n",
       "    <tr>\n",
       "      <th>16</th>\n",
       "      <td>1001.0</td>\n",
       "      <td>2010q1</td>\n",
       "      <td>(28.231, 29.552]</td>\n",
       "      <td>0</td>\n",
       "    </tr>\n",
       "    <tr>\n",
       "      <th>17</th>\n",
       "      <td>1001.0</td>\n",
       "      <td>2010q1</td>\n",
       "      <td>(29.552, 31.175]</td>\n",
       "      <td>0</td>\n",
       "    </tr>\n",
       "    <tr>\n",
       "      <th>18</th>\n",
       "      <td>1001.0</td>\n",
       "      <td>2010q1</td>\n",
       "      <td>(31.175, 33.217]</td>\n",
       "      <td>0</td>\n",
       "    </tr>\n",
       "    <tr>\n",
       "      <th>19</th>\n",
       "      <td>1001.0</td>\n",
       "      <td>2010q1</td>\n",
       "      <td>(33.217, 49.234]</td>\n",
       "      <td>0</td>\n",
       "    </tr>\n",
       "  </tbody>\n",
       "</table>\n",
       "</div>"
      ],
      "text/plain": [
       "       zip yearQuarter     temperatureCut  temperatureOccurences\n",
       "0   1001.0      2010q1  (-31.191, -2.358]                      7\n",
       "1   1001.0      2010q1    (-2.358, 1.756]                     20\n",
       "2   1001.0      2010q1     (1.756, 4.656]                     22\n",
       "3   1001.0      2010q1     (4.656, 7.496]                     11\n",
       "4   1001.0      2010q1    (7.496, 10.128]                     11\n",
       "5   1001.0      2010q1   (10.128, 12.459]                      5\n",
       "6   1001.0      2010q1   (12.459, 14.553]                      6\n",
       "7   1001.0      2010q1   (14.553, 16.443]                      2\n",
       "8   1001.0      2010q1   (16.443, 18.141]                      1\n",
       "9   1001.0      2010q1   (18.141, 19.778]                      1\n",
       "10  1001.0      2010q1    (19.778, 21.35]                      2\n",
       "11  1001.0      2010q1    (21.35, 22.842]                      2\n",
       "12  1001.0      2010q1   (22.842, 24.275]                      0\n",
       "13  1001.0      2010q1   (24.275, 25.673]                      0\n",
       "14  1001.0      2010q1   (25.673, 26.956]                      0\n",
       "15  1001.0      2010q1   (26.956, 28.231]                      0\n",
       "16  1001.0      2010q1   (28.231, 29.552]                      0\n",
       "17  1001.0      2010q1   (29.552, 31.175]                      0\n",
       "18  1001.0      2010q1   (31.175, 33.217]                      0\n",
       "19  1001.0      2010q1   (33.217, 49.234]                      0"
      ]
     },
     "execution_count": 73,
     "metadata": {},
     "output_type": "execute_result"
    }
   ],
   "source": [
    "test = findQuarterlyQuants(weatherType = 'temperature', quartileList = tmaxQuants, df = recentDecadeTemps)\n",
    "test[0:20]"
   ]
  },
  {
   "cell_type": "code",
   "execution_count": null,
   "metadata": {},
   "outputs": [],
   "source": [
    "summaryDF.tempCut.value_counts()"
   ]
  },
  {
   "cell_type": "code",
   "execution_count": null,
   "metadata": {},
   "outputs": [],
   "source": [
    "summaryDF.to_csv(\"../../../../../../../Volumes/backup2/dissData/prism/test.csv\")"
   ]
  },
  {
   "cell_type": "code",
   "execution_count": null,
   "metadata": {},
   "outputs": [],
   "source": []
  }
 ],
 "metadata": {
  "kernelspec": {
   "display_name": "Python 3",
   "language": "python",
   "name": "python3"
  },
  "language_info": {
   "codemirror_mode": {
    "name": "ipython",
    "version": 3
   },
   "file_extension": ".py",
   "mimetype": "text/x-python",
   "name": "python",
   "nbconvert_exporter": "python",
   "pygments_lexer": "ipython3",
   "version": "3.7.4"
  }
 },
 "nbformat": 4,
 "nbformat_minor": 2
}
