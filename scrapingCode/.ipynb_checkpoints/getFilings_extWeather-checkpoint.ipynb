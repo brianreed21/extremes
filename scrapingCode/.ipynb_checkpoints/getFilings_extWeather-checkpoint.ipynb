{
 "cells": [
  {
   "cell_type": "code",
   "execution_count": 127,
   "metadata": {},
   "outputs": [],
   "source": [
    "import pandas as pd\n",
    "import numpy as np\n",
    "import spacy\n",
    "import pickle as pkl\n",
    "# import en_core_web_md\n",
    "# nlp = en_core_web_md.load()\n",
    "\n",
    "from nltk import sent_tokenize, word_tokenize, pos_tag\n",
    "\n",
    "import matplotlib.pyplot as plt\n",
    "\n",
    "import nltk\n",
    "# nltk.download('words')\n",
    "from nltk.corpus import stopwords, words\n",
    "from nltk.stem import PorterStemmer\n",
    "# nltk.download('averaged_perceptron_tagger')\n",
    "\n",
    "import time\n",
    "import datetime\n",
    "\n",
    "nlp = spacy.load('en_core_web_lg')\n",
    "\n",
    "from multiprocessing import Pool\n",
    "import multiprocessing\n",
    "\n",
    "import re\n",
    "import os\n",
    "\n",
    "from Levenshtein import distance as levenshtein_distance\n",
    "\n",
    "import gc\n",
    "import dask\n",
    "\n",
    "from sklearn.metrics.pairwise import cosine_similarity\n",
    "\n",
    "import itertools \n",
    "from itertools import product\n",
    "\n",
    "import matplotlib.dates as dates\n"
   ]
  },
  {
   "cell_type": "markdown",
   "metadata": {},
   "source": [
    "# Make the file structure"
   ]
  },
  {
   "cell_type": "code",
   "execution_count": null,
   "metadata": {},
   "outputs": [],
   "source": [
    "os.getcwd()"
   ]
  },
  {
   "cell_type": "code",
   "execution_count": null,
   "metadata": {},
   "outputs": [],
   "source": [
    "relevantItems         = pd.read_csv(\"../../data/filings/wrds/relevantItems.csv\")\n",
    "\n",
    "# \"../../../../../../../Volumes/backup2/dissData/\"\n",
    "\n",
    "relevantItems['year'] = relevantItems.fdate.astype('str').str.slice(0,4)\n",
    "\n",
    "relevantItems['accession_number'] = relevantItems['fname'].str.split('/').str.get(3).str.split('.').str.get(0)\n",
    "relevantItems['folder'] = relevantItems['fname'].str.split('/').str.get(2)\n",
    "relevantItems.head()"
   ]
  },
  {
   "cell_type": "code",
   "execution_count": null,
   "metadata": {},
   "outputs": [],
   "source": [
    "with open(\"../../data/filings/wrds/fileList_relevantItems.txt\") as file:\n",
    "    fileList = list(file)\n",
    "    \n",
    "files = [sub.replace('\\n', '') for sub in fileList]\n",
    "files = pd.DataFrame([sub.replace('../../../',\n",
    "            '../../data/filings/8k/allRelevantItems/scratch/stanford/brianr21/8k/relevantItems/') for sub in files])\n",
    "\n",
    "files.columns = ['mbpFileName']\n",
    "\n",
    "files['accession_number'] = files['mbpFileName'].str.split('/').str.get(16).str.split('.').str.get(0)\n",
    "files['folder'] = files['mbpFileName'].str.split('/').str.get(15)\n",
    "\n",
    "\n",
    "files.head()"
   ]
  },
  {
   "cell_type": "code",
   "execution_count": null,
   "metadata": {
    "scrolled": true
   },
   "outputs": [],
   "source": [
    "relevantItems   = relevantItems[relevantItems['accession_number'].isin(files.accession_number)]\n",
    "\n",
    "fileNamesByYear = files.merge(relevantItems,how = 'left').drop_duplicates()\n",
    "\n",
    "print(fileNamesByYear.shape)\n",
    "\n",
    "print(fileNamesByYear.head())"
   ]
  },
  {
   "cell_type": "code",
   "execution_count": null,
   "metadata": {},
   "outputs": [],
   "source": [
    "fileNamesByYear.year.value_counts()"
   ]
  },
  {
   "cell_type": "code",
   "execution_count": null,
   "metadata": {},
   "outputs": [],
   "source": [
    "def getText(filename):\n",
    "    with open(filename) as f:\n",
    "        contents = f.read()\n",
    "        \n",
    "    return(contents)"
   ]
  },
  {
   "cell_type": "markdown",
   "metadata": {},
   "source": [
    "The following does the initial cleaning."
   ]
  },
  {
   "cell_type": "code",
   "execution_count": null,
   "metadata": {},
   "outputs": [],
   "source": [
    "''' for year in range(2008,2019):\n",
    "    print(year)\n",
    "    \n",
    "    \n",
    "    start = time.time()\n",
    "    tempFiles = fileNamesByYear[fileNamesByYear.year == str(year)]\n",
    "    \n",
    "    \n",
    "    print(tempFiles.head())\n",
    "    tempFiles['text'] = tempFiles.mbpFileName.apply(getText)\n",
    "\n",
    "    fileName = 'cleanedFilings_' + str(year) + '.csv'\n",
    "    tempFiles[['fdate','cik','nitem','text']].to_csv('../../data/filings/8k/' + fileName)\n",
    "\n",
    "\n",
    "    print(time.time() - start) '''"
   ]
  },
  {
   "cell_type": "code",
   "execution_count": null,
   "metadata": {},
   "outputs": [],
   "source": [
    "os.getcwd()"
   ]
  },
  {
   "cell_type": "markdown",
   "metadata": {},
   "source": [
    "## Check Word Types"
   ]
  },
  {
   "cell_type": "code",
   "execution_count": 5,
   "metadata": {},
   "outputs": [],
   "source": [
    "def checkText_wordList(wordText):\n",
    "    word = wordText[0]\n",
    "    text = wordText[1]\n",
    "    \n",
    "    matchQ = re.search(rf\"\\b(?=\\w){word}\\b(?!\\w)\",text,re.IGNORECASE)\n",
    "    \n",
    "    \n",
    "    return bool(matchQ)\n",
    "\n"
   ]
  },
  {
   "cell_type": "code",
   "execution_count": 6,
   "metadata": {},
   "outputs": [],
   "source": [
    "def findTense(sent):\n",
    "    text = word_tokenize(sent)\n",
    "    tagged = pos_tag(text)\n",
    "\n",
    "    tense = {}\n",
    "    tense[\"future\"] = len([word for word in tagged if word[1] in [\"MD\",\"VBF\"]])\n",
    "    tense[\"present\"] = len([word for word in tagged if word[1] in [\"VBP\", \"VBZ\",\"VBG\"]])\n",
    "    tense[\"past\"] = len([word for word in tagged if word[1] in [\"VBD\", \"VBN\"]]) \n",
    "\n",
    "    tenseCounts = [tense[\"future\"], tense[\"present\"], tense[\"past\"]]\n",
    "    tenseTypes  = ['future', 'present', 'past']\n",
    "\n",
    "    maxType     = np.argmax(tenseCounts)\n",
    "\n",
    "    percPast    = tense['past'] / (tense['future'] + tense['present'] + tense['past'] + 0.0001)\n",
    "\n",
    "    return(tenseTypes[maxType],tenseCounts, percPast)\n"
   ]
  },
  {
   "cell_type": "code",
   "execution_count": 7,
   "metadata": {},
   "outputs": [],
   "source": [
    "def checkMentions(word, df):\n",
    "    word = [word]\n",
    "    \n",
    "    termList = list(product(word, df.text))\n",
    "\n",
    "    with multiprocessing.Pool() as pool:\n",
    "        termMentions = pool.map(checkText_wordList,termList)\n",
    "    \n",
    "    print(sum(termMentions)/len(termMentions))    \n",
    "\n",
    "    return(termMentions)\n",
    "    "
   ]
  },
  {
   "cell_type": "code",
   "execution_count": 8,
   "metadata": {},
   "outputs": [],
   "source": [
    "def explodeSents(df):\n",
    "    with multiprocessing.Pool() as pool:\n",
    "        df['textSent'] = pool.map(sent_tokenize,df.text)\n",
    "        \n",
    "    df.drop(['text'], axis=1,inplace = True)\n",
    "    df         = df.explode('textSent').reset_index()\n",
    "    df.rename(columns = {'textSent': 'text'}, inplace = True)\n",
    "    return(df)"
   ]
  },
  {
   "cell_type": "markdown",
   "metadata": {},
   "source": [
    "Let's play around with different filters and words here. \n",
    "\n",
    "Define a keyword, or several, of interest, then filter the df based on which filings contain that keyword.\n",
    "\n",
    "For now we'll sort to unique cik-date combinations. We can in the future look at unique accession numbers."
   ]
  },
  {
   "cell_type": "code",
   "execution_count": 9,
   "metadata": {},
   "outputs": [
    {
     "name": "stdout",
     "output_type": "stream",
     "text": [
      "2009\n",
      "0.001081165778752742\n",
      "0.007536822312754622\n",
      "done with 1\n",
      "0.0003376069766685106\n",
      "0.002652045166118903\n",
      "done with 2\n",
      "done with 3\n",
      "done with 4\n",
      "(51, 2) (55432, 2)\n",
      "2010\n",
      "0.0017332987753515194\n",
      "0.010059612518628911\n",
      "done with 1\n",
      "0.0004168948400431027\n",
      "0.0029571269586108214\n",
      "done with 2\n",
      "done with 3\n",
      "done with 4\n",
      "(174, 2) (108899, 2)\n",
      "2011\n",
      "0.002634232007544961\n",
      "0.012162997170639695\n",
      "done with 1\n",
      "0.0005959146738470706\n",
      "0.0031285520376971208\n",
      "done with 2\n",
      "done with 3\n",
      "done with 4\n",
      "(363, 2) (161877, 2)\n",
      "2012\n",
      "0.0016872982137352563\n",
      "0.010448269708129856\n",
      "done with 1\n",
      "0.00033900639344870145\n",
      "0.0023412629047550944\n",
      "done with 2\n",
      "done with 3\n",
      "done with 4\n",
      "(476, 2) (214521, 2)\n",
      "2013\n",
      "0.0013737836290784202\n",
      "0.012609371166898356\n",
      "done with 1\n",
      "0.00023281457470405686\n",
      "0.0025839859390230486\n",
      "done with 2\n",
      "done with 3\n",
      "done with 4\n",
      "(553, 2) (266534, 2)\n"
     ]
    }
   ],
   "source": [
    "### \n",
    "# This cell will filter the filings down to ones that mention occurrence of severe weather in the past tense.\n",
    "# We'll do this in a few separate steps.\n",
    "\n",
    "extremeSevereFiles = pd.DataFrame()\n",
    "futureRiskFiles    = pd.DataFrame()\n",
    "for year in range(2009,2014):\n",
    "    print(year)\n",
    "\n",
    "\n",
    "    ##################\n",
    "    # 1. Filter the filings down to ones that mention extreme or severe weather\n",
    "    fileName = '../../data/filings/8k/cleanedFilings_' + str(year) + '.csv'\n",
    "\n",
    "    tempFiles = pd.read_csv(fileName).drop(columns = {'Unnamed: 0'})  \n",
    "\n",
    "    tempFiles['extremeWeather'] = checkMentions('extreme weather',tempFiles)\n",
    "    tempFiles['severeWeather'] = checkMentions('severe weather',tempFiles)\n",
    "\n",
    "    # don't currently have the accession number so we'll filter on a company-date combination\n",
    "    tempFiles['companyDay'] = tempFiles.cik.astype('str') + '_' + tempFiles.fdate.astype('str')\n",
    "\n",
    "\n",
    "    tempFiles['weatherKey'] = tempFiles.extremeWeather | tempFiles.severeWeather\n",
    "    hasTerm = tempFiles[tempFiles['weatherKey']].reset_index(drop = True)\n",
    "\n",
    "    print('done with 1')\n",
    "\n",
    "\n",
    "\n",
    "    ##################\n",
    "    # 2. Explode the filings that mention extreme or severe weather so we can process the individual  \n",
    "    hasTerm = explodeSents(hasTerm)\n",
    "    extremeSent  = checkMentions('extreme weather',hasTerm)\n",
    "    severeSent   = checkMentions('severe weather',hasTerm)\n",
    "\n",
    "    weatherSent = np.max([extremeSent,severeSent], axis = 0)\n",
    "\n",
    "\n",
    "    sentHasTerm = hasTerm[weatherSent]\n",
    "\n",
    "\n",
    "    sentHasTerm = sentHasTerm[['fdate', 'cik', 'nitem','text']].drop_duplicates().reset_index(drop = True)\n",
    "\n",
    "\n",
    "    print('done with 2')\n",
    "\n",
    "\n",
    "\n",
    "\n",
    "    ###################\n",
    "    # 3. Filter down to mentions in the past tense\n",
    "    with multiprocessing.Pool() as pool:\n",
    "        vals = pool.map(findTense,sentHasTerm.text)\n",
    "\n",
    "\n",
    "    sentHasTerm['vals'] = vals\n",
    "    sentHasTerm[['tense','tenseCounts','percPast']] = pd.DataFrame(sentHasTerm['vals'].tolist(), index= sentHasTerm.index)\n",
    "\n",
    "\n",
    "    past = sentHasTerm[(sentHasTerm.tense == 'past') & (sentHasTerm.percPast > 0.51)].reset_index()\n",
    "    pastFilter = past[['fdate','cik']].drop_duplicates()\n",
    "    pastFilter['companyDay'] = pastFilter.cik.astype('str') + '_' + pastFilter.fdate.astype('str')\n",
    "\n",
    "\n",
    "    print('done with 3')\n",
    "\n",
    "\n",
    "\n",
    "\n",
    "    ###################\n",
    "    # 4. Use those to filter down the full file\n",
    "    extremeSevereFiles = extremeSevereFiles.append(tempFiles[tempFiles.companyDay.isin(pastFilter.companyDay)][['fdate','cik']].drop_duplicates())\n",
    "    futureRiskFiles    = futureRiskFiles.append(tempFiles[~tempFiles.companyDay.isin(pastFilter.companyDay)][['fdate','cik']].drop_duplicates())\n",
    "    \n",
    "    \n",
    "    \n",
    "    print('done with 4')\n",
    "\n",
    "    print(extremeSevereFiles.shape,futureRiskFiles.shape)"
   ]
  },
  {
   "cell_type": "code",
   "execution_count": 10,
   "metadata": {},
   "outputs": [],
   "source": [
    "extremeSevereFiles.to_csv('pastRiskFiles.csv')\n",
    "futureRiskFiles.to_csv('futureRiskFiles.csv')"
   ]
  },
  {
   "cell_type": "code",
   "execution_count": null,
   "metadata": {},
   "outputs": [],
   "source": [
    "futureRiskFiles = pd.read_csv('futureRiskFiles.csv').drop(columns = 'Unnamed: 0')\n",
    "extremeSevereFiles = pd.read_csv('pastRiskFiles.csv').drop(columns = 'Unnamed: 0')"
   ]
  },
  {
   "cell_type": "code",
   "execution_count": 11,
   "metadata": {},
   "outputs": [
    {
     "name": "stdout",
     "output_type": "stream",
     "text": [
      "(266534, 2)\n"
     ]
    }
   ],
   "source": [
    "print(futureRiskFiles.shape)"
   ]
  },
  {
   "cell_type": "code",
   "execution_count": 12,
   "metadata": {},
   "outputs": [
    {
     "data": {
      "text/html": [
       "<div>\n",
       "<style scoped>\n",
       "    .dataframe tbody tr th:only-of-type {\n",
       "        vertical-align: middle;\n",
       "    }\n",
       "\n",
       "    .dataframe tbody tr th {\n",
       "        vertical-align: top;\n",
       "    }\n",
       "\n",
       "    .dataframe thead th {\n",
       "        text-align: right;\n",
       "    }\n",
       "</style>\n",
       "<table border=\"1\" class=\"dataframe\">\n",
       "  <thead>\n",
       "    <tr style=\"text-align: right;\">\n",
       "      <th></th>\n",
       "      <th>year</th>\n",
       "      <th>cik</th>\n",
       "      <th>factor</th>\n",
       "    </tr>\n",
       "  </thead>\n",
       "  <tbody>\n",
       "    <tr>\n",
       "      <th>0</th>\n",
       "      <td>2009</td>\n",
       "      <td>55432</td>\n",
       "      <td>1.000000</td>\n",
       "    </tr>\n",
       "    <tr>\n",
       "      <th>1</th>\n",
       "      <td>2010</td>\n",
       "      <td>53467</td>\n",
       "      <td>0.964551</td>\n",
       "    </tr>\n",
       "    <tr>\n",
       "      <th>2</th>\n",
       "      <td>2011</td>\n",
       "      <td>52978</td>\n",
       "      <td>0.955730</td>\n",
       "    </tr>\n",
       "    <tr>\n",
       "      <th>3</th>\n",
       "      <td>2012</td>\n",
       "      <td>52644</td>\n",
       "      <td>0.949704</td>\n",
       "    </tr>\n",
       "    <tr>\n",
       "      <th>4</th>\n",
       "      <td>2013</td>\n",
       "      <td>52013</td>\n",
       "      <td>0.938321</td>\n",
       "    </tr>\n",
       "  </tbody>\n",
       "</table>\n",
       "</div>"
      ],
      "text/plain": [
       "   year    cik    factor\n",
       "0  2009  55432  1.000000\n",
       "1  2010  53467  0.964551\n",
       "2  2011  52978  0.955730\n",
       "3  2012  52644  0.949704\n",
       "4  2013  52013  0.938321"
      ]
     },
     "execution_count": 12,
     "metadata": {},
     "output_type": "execute_result"
    }
   ],
   "source": [
    "futureRiskFiles['year'] = futureRiskFiles.fdate.astype('str').str.slice(0, 4)\n",
    "scaleFactors            = futureRiskFiles.groupby('year')['cik'].count().reset_index()\n",
    "\n",
    "scaleFactors['factor']  = scaleFactors.cik / scaleFactors.cik[0]\n",
    "\n",
    "scaleFactors.head()"
   ]
  },
  {
   "cell_type": "code",
   "execution_count": 18,
   "metadata": {},
   "outputs": [
    {
     "name": "stdout",
     "output_type": "stream",
     "text": [
      "(266534, 4) (553, 3)\n"
     ]
    }
   ],
   "source": [
    "pastSevere = extremeSevereFiles\n",
    "futureRisk = futureRiskFiles\n",
    "\n",
    "\n",
    "pastSevere['date_time'] = pd.to_datetime(pastSevere.fdate, format='%Y%m%d')  \n",
    "futureRisk['date_time'] = pd.to_datetime(futureRisk.fdate, format='%Y%m%d')  \n",
    "\n",
    "\n",
    "print(futureRisk.shape,pastSevere.shape)\n"
   ]
  },
  {
   "cell_type": "code",
   "execution_count": 21,
   "metadata": {},
   "outputs": [
    {
     "data": {
      "text/plain": [
       "<matplotlib.axes._subplots.AxesSubplot at 0x7fc2f86d4e50>"
      ]
     },
     "execution_count": 21,
     "metadata": {},
     "output_type": "execute_result"
    },
    {
     "data": {
      "image/png": "[encoded data removed]",
      "text/plain": [
       "<Figure size 432x288 with 1 Axes>"
      ]
     },
     "metadata": {
      "needs_background": "light"
     },
     "output_type": "display_data"
    }
   ],
   "source": [
    "futureRisk.date_time.value_counts().plot()"
   ]
  },
  {
   "cell_type": "markdown",
   "metadata": {},
   "source": [
    "Make a preliminary plot of the counts here. First make a sequence of every day over the time period of interest. Then merge in the counts of filings on those days, make some smoothed plots, and call it a day."
   ]
  },
  {
   "cell_type": "code",
   "execution_count": null,
   "metadata": {},
   "outputs": [],
   "source": [
    "start = datetime.datetime.strptime(\"20090101\", '%Y%m%d')\n",
    "end   = datetime.datetime.strptime(\"20181231\",   '%Y%m%d')\n",
    "dates = [start + datetime.timedelta(days=x) for x in range(0, (end-start).days)]\n",
    "\n",
    "\n",
    "allDays = pd.DataFrame(dates)\n",
    "allDays.columns = ['date_time']\n",
    "\n",
    "\n",
    "filingCounts = pastSevere[['date_time']].value_counts().reset_index()\n",
    "filingCounts.columns = ['date_time','countsPast']\n",
    "\n",
    "futureCounts = futureRisk[['date_time']].value_counts().reset_index()\n",
    "futureCounts.columns = ['date_time','countsFuture']\n",
    "\n",
    "allDays = allDays.merge(filingCounts,how = 'left').merge(futureCounts,how = 'left')\n",
    "\n",
    "# scale these by number of companies in the year\n",
    "allDays['year'] = allDays.date_time.astype('str').str.slice(0,4)\n",
    "allDays = allDays.merge(scaleFactors)\n",
    "allDays['countsFuture'] = allDays['countsFuture']* 1/allDays.factor\n",
    "allDays['countsPast']   = allDays['countsPast']  * 1/allDays.factor\n",
    "\n",
    "allDays = allDays.fillna(0)\n",
    "\n",
    "\n",
    "window = 7\n",
    "smoothedFutureCounts1       = allDays.countsFuture.rolling(1, win_type='triang').mean()\n",
    "smoothedFutureCountsRolling = allDays.countsFuture.rolling(window, win_type='triang').mean()\n",
    "\n",
    "\n",
    "smoothedPastCounts1         = allDays.countsPast.rolling(1, win_type='triang').mean()\n",
    "smoothedPastCountsRolling   = allDays.countsPast.rolling(window, win_type='triang').mean()\n",
    "\n",
    "\n",
    "allDays['smoothedPast']  = smoothedPastCounts\n",
    "allDays['smoothedFuture']  = smoothedFutureCounts\n",
    "\n",
    "\n",
    "allDays.head()"
   ]
  },
  {
   "cell_type": "code",
   "execution_count": 164,
   "metadata": {},
   "outputs": [
    {
     "data": {
      "image/png": "[encoded data removed]",
      "text/plain": [
       "<Figure size 1440x864 with 1 Axes>"
      ]
     },
     "metadata": {
      "needs_background": "light"
     },
     "output_type": "display_data"
    }
   ],
   "source": [
    "titleSize = 36\n",
    "labelSize = 24\n",
    "tickSize  = 18\n",
    "\n",
    "\n",
    "\n",
    "futureCounts1        = smoothedFutureCounts1[~smoothedFutureCountsRolling.isna()]\n",
    "futureCountsRolling  = smoothedFutureCountsRolling[~smoothedFutureCountsRolling.isna()]\n",
    "\n",
    "pastCounts1        = smoothedPastCounts1[~smoothedPastCountsRolling.isna()]\n",
    "pastCountsRolling  = smoothedPastCountsRolling[~smoothedPastCountsRolling.isna()]\n",
    "\n",
    "datesOfInterest          = allDays.date_time[~smoothedFutureCountsRolling.isna()]\n",
    "\n",
    "\n",
    "\n",
    "########################################################################################\n",
    "\n",
    "# misc formatting \n",
    "fig = plt.gcf()\n",
    "fig.set_size_inches(20, 12)\n",
    "\n",
    "\n",
    "##########################\n",
    "# future - points and line\n",
    "'''plt.scatter(datesOfInterest, futureCounts1, color='blue', s=10, label=\"Daily Count\", alpha=0.15)\n",
    "# plt.scatter(datesOfInterest, futureCountsRolling, color='red',       s=20, label=\"All\", alpha=0.55)\n",
    "\n",
    "# with trend\n",
    "x_num = dates.date2num(datesOfInterest)\n",
    "trendFuture = np.polyfit(x_num, futureCounts1, 1)\n",
    "fitFuture = np.poly1d(trendFuture)\n",
    "plt.plot(x_num, fitFuture(x_num), color = \"black\", alpha=1, label = \"Trend\")\n",
    "\n",
    "'''\n",
    "##########################\n",
    "# past - points and line\n",
    "plt.scatter(datesOfInterest, pastCounts1,       color='lightblue', s=10, label=\"All\",alpha = 0.55) #, alpha=0.5)\n",
    "#plt.scatter(datesOfInterest, pastCountsRolling, color='blue',      s=10, label=\"7-Day Rolling Average\",alpha = 0.55)#, alpha=0.5)\n",
    "x_num     = dates.date2num(datesOfInterest)\n",
    "trendPast = np.polyfit(x_num, pastCounts1, 1)\n",
    "fitPast   = np.poly1d(trendPast)\n",
    "plt.plot(x_num, fitPast(x_num), color = \"black\", alpha=1, label = \"Trend\")\n",
    "\n",
    "\n",
    "plt.xlabel(\"Date\",fontsize=labelSize)\n",
    "plt.xticks(fontsize = tickSize)\n",
    "\n",
    "plt.ylabel(\"# Companies Filing on Date\",fontsize=labelSize)\n",
    "plt.yticks(fontsize = tickSize)\n",
    "\n",
    "\n",
    "\n",
    "######################################################################\n",
    "# put everything together\n",
    "plt.title(\"8-K Filings with Extreme Weather Mention, Future Tense \",fontsize=titleSize)\n",
    "# plt.ylim(top=500,bottom= 0)\n",
    "\n",
    "\n",
    "plt.legend(fontsize=16,scatterpoints=10)\n",
    "\n",
    "plt.show()\n"
   ]
  },
  {
   "cell_type": "markdown",
   "metadata": {},
   "source": [
    "The below allows us to go a little bit deeper into what is actually in the sentences."
   ]
  },
  {
   "cell_type": "code",
   "execution_count": null,
   "metadata": {},
   "outputs": [],
   "source": [
    "tempFiles['rain'] = checkMentions('rain',tempFiles)\n",
    "tempFiles['extremeHeat'] = checkMentions('extreme heat',tempFiles)\n",
    "tempFiles['heatWave'] = checkMentions('heat wave',tempFiles)\n",
    "tempFiles['flood'] = checkMentions('flood',tempFiles)\n",
    "tempFiles['extremeWeather'] = checkMentions('extreme weather',tempFiles)\n",
    "tempFiles['severeWeather'] = checkMentions('severe weather',tempFiles)\n",
    "\n",
    "print(tempFiles.shape)\n",
    "tempFiles['weatherKey'] = tempFiles.rain | tempFiles.extremeHeat | tempFiles.heatWave | tempFiles.flood | tempFiles.extremeWeather | tempFiles.severeWeather\n",
    "hasTerm = tempFiles[tempFiles['weatherKey']]\n",
    "print(hasTerm.shape)"
   ]
  },
  {
   "cell_type": "markdown",
   "metadata": {},
   "source": [
    "## Check Sentences\n",
    "Now, go from the full text of the filings to specific sentences within it, to look at how the terms are being used."
   ]
  },
  {
   "cell_type": "code",
   "execution_count": null,
   "metadata": {},
   "outputs": [],
   "source": [
    "hasTerm = explodeSents(hasTerm)\n",
    "print(tempFiles.shape,hasTerm.shape)"
   ]
  },
  {
   "cell_type": "markdown",
   "metadata": {},
   "source": [
    "Now filter the sentences down."
   ]
  },
  {
   "cell_type": "code",
   "execution_count": null,
   "metadata": {},
   "outputs": [],
   "source": [
    "np.max([rainSent,heatSent],axis = 0)"
   ]
  },
  {
   "cell_type": "code",
   "execution_count": null,
   "metadata": {},
   "outputs": [],
   "source": [
    "rainSent     = checkMentions('rain',hasTerm)\n",
    "heatSent     = checkMentions('extreme heat',hasTerm)\n",
    "heatwaveSent = checkMentions('heat wave',hasTerm)\n",
    "floodSent    = checkMentions('flood',hasTerm)\n",
    "extremeSent  = checkMentions('extreme weather',hasTerm)\n",
    "severeSent   = checkMentions('severe weather',hasTerm)\n",
    "\n",
    "\n",
    "weatherSent = np.max([rainSent,heatSent,floodSent,heatwaveSent,extremeSent,severeSent], axis = 0)\n",
    "\n",
    "\n",
    "sentHasTerm = hasTerm[weatherSent]\n",
    "\n",
    "\n",
    "sentHasTerm = sentHasTerm[['fdate', 'form', 'nitem','year','text']].drop_duplicates().reset_index()\n",
    "\n",
    "\n",
    "print(sentHasTerm.shape)\n",
    "\n",
    "\n",
    "sentHasTerm.head()"
   ]
  },
  {
   "cell_type": "markdown",
   "metadata": {},
   "source": [
    "Tokenize the sentence and try to get at the tense of it."
   ]
  },
  {
   "cell_type": "code",
   "execution_count": null,
   "metadata": {},
   "outputs": [],
   "source": [
    "with multiprocessing.Pool() as pool:\n",
    "    vals = pool.map(findTense,sentHasTerm.text)\n",
    "\n",
    "    \n",
    "sentHasTerm['vals'] = vals\n",
    "sentHasTerm[['tense','tenseCounts','percPast']] = pd.DataFrame(sentHasTerm['vals'].tolist(), index= sentHasTerm.index)\n",
    "\n",
    "past = sentHasTerm[(sentHasTerm.tense == 'past') & (sentHasTerm.percPast > 0.67)].reset_index()"
   ]
  },
  {
   "cell_type": "code",
   "execution_count": null,
   "metadata": {},
   "outputs": [],
   "source": [
    "sentHasTerm.tense.value_counts()"
   ]
  },
  {
   "cell_type": "code",
   "execution_count": null,
   "metadata": {},
   "outputs": [],
   "source": [
    "for row in range(0,past.shape[0]):\n",
    "    print(past.nitem[row],past.tenseCounts[row], ':  ', past.text[row],\"*********************************************************************************************************************************************************************************************\")\n",
    "    \n",
    "    \n",
    "    \n",
    "    "
   ]
  },
  {
   "cell_type": "code",
   "execution_count": null,
   "metadata": {},
   "outputs": [],
   "source": [
    "hasTerm[0:100].to_csv('sampleSents.csv')"
   ]
  },
  {
   "cell_type": "markdown",
   "metadata": {},
   "source": [
    "##  Do some initial scraping"
   ]
  },
  {
   "cell_type": "code",
   "execution_count": null,
   "metadata": {},
   "outputs": [],
   "source": [
    "os.getcwd()"
   ]
  },
  {
   "cell_type": "markdown",
   "metadata": {},
   "source": [
    "### Read in the file structure"
   ]
  },
  {
   "cell_type": "code",
   "execution_count": null,
   "metadata": {},
   "outputs": [],
   "source": [
    "os.getcwd()"
   ]
  },
  {
   "cell_type": "code",
   "execution_count": null,
   "metadata": {},
   "outputs": [],
   "source": [
    "with open(\"../fileStructure.txt\") as file:\n",
    "    fileList = list(file)"
   ]
  },
  {
   "cell_type": "code",
   "execution_count": null,
   "metadata": {},
   "outputs": [],
   "source": [
    "files = [sub.replace('\\n', '') for sub in fileList][590:]"
   ]
  },
  {
   "cell_type": "code",
   "execution_count": null,
   "metadata": {},
   "outputs": [],
   "source": [
    "from itertools import groupby\n",
    "i = (list(g) for _, g in groupby(files, key=''.__ne__))\n",
    "zippedFiles = [a + b for a, b in zip(i, i)]"
   ]
  },
  {
   "cell_type": "code",
   "execution_count": null,
   "metadata": {},
   "outputs": [],
   "source": [
    "len(zippedFiles)"
   ]
  },
  {
   "cell_type": "code",
   "execution_count": null,
   "metadata": {},
   "outputs": [],
   "source": [
    "fileList = []\n",
    "start = time.time()\n",
    "\n",
    "for i in range(0, len(zippedFiles)):\n",
    "    base      = zippedFiles[i][0][:-1]\n",
    "    fileNames = zippedFiles[i][1:-1]\n",
    "\n",
    "    fullStructure = [base + '/' + s for s in fileNames]\n",
    "    \n",
    "    fileList.append(fullStructure)\n",
    "\n",
    "time.time() - start"
   ]
  },
  {
   "cell_type": "code",
   "execution_count": null,
   "metadata": {},
   "outputs": [],
   "source": [
    "allFiles = [item for sublist in fileList for item in sublist]\n",
    "len(allFiles)"
   ]
  },
  {
   "cell_type": "code",
   "execution_count": null,
   "metadata": {},
   "outputs": [],
   "source": [
    "allFilesDF.fileDirectory[0:5].str.split('/').str.get(6:8).str.split('.').str.get(0)"
   ]
  },
  {
   "cell_type": "code",
   "execution_count": null,
   "metadata": {},
   "outputs": [],
   "source": [
    "allFilesDF                     = pd.DataFrame(allFiles)\n",
    "allFilesDF.columns             = ['fileDirectory']\n",
    "allFilesDF['accession_number'] = allFilesDF.fileDirectory.str.split('/').str.get(8).str.split('.').str.get(0)"
   ]
  },
  {
   "cell_type": "code",
   "execution_count": null,
   "metadata": {},
   "outputs": [],
   "source": [
    "with open('allFiles_wrdsSEC.pkl', 'wb') as f:\n",
    "   pkl.dump(allFilesDF, f)\n"
   ]
  },
  {
   "cell_type": "code",
   "execution_count": null,
   "metadata": {},
   "outputs": [],
   "source": [
    "allFilesDF.head()"
   ]
  },
  {
   "cell_type": "markdown",
   "metadata": {},
   "source": [
    "# Make filings list"
   ]
  },
  {
   "cell_type": "markdown",
   "metadata": {},
   "source": [
    "## Track filings\n",
    "See which filings actually mentioned the words they purport to"
   ]
  },
  {
   "cell_type": "code",
   "execution_count": null,
   "metadata": {},
   "outputs": [],
   "source": [
    "relevantItems = pd.read_csv(\"../data/filings/wrds/relevantItems.csv\")"
   ]
  },
  {
   "cell_type": "code",
   "execution_count": null,
   "metadata": {},
   "outputs": [],
   "source": [
    "relevantItems['accession_number'] = relevantItems['fname'].str.split('/').str.get(3).str.split('.').str.get(0)"
   ]
  },
  {
   "cell_type": "code",
   "execution_count": null,
   "metadata": {},
   "outputs": [],
   "source": [
    "relevantItems.tail()"
   ]
  },
  {
   "cell_type": "code",
   "execution_count": null,
   "metadata": {},
   "outputs": [],
   "source": [
    "allFilesDF_filtered = allFilesDF[allFilesDF.accession_number.isin(relevantItems.accession_number)]"
   ]
  },
  {
   "cell_type": "code",
   "execution_count": null,
   "metadata": {},
   "outputs": [],
   "source": [
    "getFileNames = relevantItems[['cik','fdate','form','nitem', \\\n",
    "               'item','accession_number']].merge(allFilesDF_filtered,how = 'left')\n",
    "\n",
    "getFileNames.head()"
   ]
  },
  {
   "cell_type": "code",
   "execution_count": null,
   "metadata": {},
   "outputs": [],
   "source": [
    "getFileNames.shape"
   ]
  },
  {
   "cell_type": "code",
   "execution_count": null,
   "metadata": {},
   "outputs": [],
   "source": [
    "fileList = getFileNames.fileDirectory\n",
    "fileList\n",
    "\n",
    "\n",
    "textfile = open('../data/filings/wrds/fileList_relevantItems.txt', \"w\")\n",
    "    \n",
    "for element in list(fileList):\n",
    "    textfile.write(element + \"\\n\")\n",
    "\n",
    "    \n",
    "textfile.close()"
   ]
  },
  {
   "cell_type": "markdown",
   "metadata": {},
   "source": [
    "# Make files\n",
    "We'll make two distinct files here. \n",
    "1.  One is going to have all of the relevant items that contain one of the main climate words.\n",
    "2. One is going to have all types of the relevant items.\n",
    "\n",
    "\n",
    "The second one will allow us to use different text search capabilities within Python. I'm not 100\\% sure how WRDS manages the search feature but it doesn't seem entirely great.\n",
    "\n",
    "\n",
    "## Extreme Weather\n"
   ]
  },
  {
   "cell_type": "code",
   "execution_count": null,
   "metadata": {},
   "outputs": [],
   "source": [
    "accessionNumbers = list(relevantItems.accession_number.unique())"
   ]
  },
  {
   "cell_type": "code",
   "execution_count": null,
   "metadata": {},
   "outputs": [],
   "source": [
    "rain           = pd.read_csv(\"../data/filings/wrds/rainMentions.csv\")\n",
    "rain['weatherType'] = 'rain'\n",
    "heat           = pd.read_csv(\"../data/filings/wrds/heatMentions.csv\")\n",
    "heat['weatherType'] = 'heat'\n",
    "storm          = pd.read_csv(\"../data/filings/wrds/stormMentions.csv\")\n",
    "storm['weatherType'] = 'storm'\n",
    "flood          = pd.read_csv(\"../data/filings/wrds/floodMentions.csv\")\n",
    "flood['weatherType'] = 'flood'\n",
    "snow           = pd.read_csv(\"../data/filings/wrds/snowMentions.csv\")\n",
    "snow['weatherType'] = 'snow'\n",
    "sevWeath       = pd.read_csv(\"../data/filings/wrds/severeWeather.csv\")\n",
    "sevWeath['weatherType'] = 'sevWeath'\n",
    "extWeath       = pd.read_csv(\"../data/filings/wrds/extremeWeather.csv\")\n",
    "extWeath['weatherType'] = 'extWeath'"
   ]
  },
  {
   "cell_type": "code",
   "execution_count": null,
   "metadata": {},
   "outputs": [],
   "source": [
    "def checkRain(strs):\n",
    "    matchQ = re.search(r'\\brain\\b',strs,re.IGNORECASE)\n",
    "    return(matchQ is not None)\n",
    "def checkHeat(strs):\n",
    "    matchQ = re.search(r'\\bheat\\b',strs,re.IGNORECASE)\n",
    "    return(matchQ is not None)\n",
    "def checkStorm(strs):\n",
    "    matchQ = re.search(r'\\bstorm\\b',strs,re.IGNORECASE)\n",
    "    return(matchQ is not None)\n",
    "def checkFlood(strs):\n",
    "    matchQ = re.search(r'\\bflood\\b',strs,re.IGNORECASE)\n",
    "    return(matchQ is not None)\n",
    "def checkSnow(strs):\n",
    "    matchQ = re.search(r'\\bsnow\\b',strs,re.IGNORECASE)\n",
    "    return(matchQ is not None)\n",
    "def checkSevWeath(strs):\n",
    "    matchQ = re.search(r'\\bsevere weather\\b',strs,re.IGNORECASE)\n",
    "    return(matchQ is not None)\n",
    "def checkExtWeath(strs):\n",
    "    matchQ = re.search(r'\\bextreme weather\\b',strs,re.IGNORECASE)\n",
    "    return(matchQ is not None)"
   ]
  },
  {
   "cell_type": "code",
   "execution_count": null,
   "metadata": {},
   "outputs": [],
   "source": [
    "print(rain.shape)\n",
    "rain = rain[rain.text_match.apply(checkRain)]\n",
    "print(rain.shape,'***************')\n",
    "\n",
    "print(heat.shape)\n",
    "heat = heat[heat.text_match.apply(checkHeat)]\n",
    "print(heat.shape,'***************')\n",
    "\n",
    "print(storm.shape)\n",
    "storm = storm[storm.text_match.apply(checkStorm)]\n",
    "print(storm.shape,'***************')\n",
    "\n",
    "print(flood.shape)\n",
    "flood = flood[flood.text_match.apply(checkFlood)]\n",
    "print(flood.shape,'***************')\n",
    "\n",
    "print(snow.shape)\n",
    "snow = snow[snow.text_match.apply(checkSnow)]\n",
    "print(snow.shape,'***************')\n",
    "\n",
    "print(sevWeath.shape)\n",
    "sevWeath = sevWeath[sevWeath.text_match.apply(checkSevWeath)]\n",
    "print(sevWeath.shape,'***************')\n",
    "\n",
    "print(extWeath.shape)\n",
    "extWeath = extWeath[extWeath.text_match.apply(checkExtWeath)]\n",
    "print(extWeath.shape,'***************')\n",
    "\n"
   ]
  },
  {
   "cell_type": "code",
   "execution_count": null,
   "metadata": {},
   "outputs": [],
   "source": [
    "weatherMentions = rain.append(heat).append(storm).append(flood).append(snow).append(sevWeath).append(extWeath)\n",
    "# weatherMentions = sevWeath.append(extWeath)\n",
    "\n",
    "weatherMentions = weatherMentions[['filed_as_of_date', 'filer_central_index_key', \n",
    "                                   'accession_number','weatherType','id',\n",
    "                                  'text_match']].drop_duplicates()\n",
    "sum(weatherMentions.accession_number.isin(accessionNumbers))\n",
    "\n",
    "weatherMentions = weatherMentions.merge(relevantItems[['accession_number','nitem']])\n",
    "\n",
    "weatherMentions.head()"
   ]
  },
  {
   "cell_type": "code",
   "execution_count": null,
   "metadata": {},
   "outputs": [],
   "source": [
    "checkReports = weatherMentions.groupby(['weatherType','nitem']).size().reset_index()\n",
    "checkReports.columns = ['weatherType', 'nitem', 'count']\n",
    "checkReports.sort_values(by=['nitem'],ascending = False)"
   ]
  },
  {
   "cell_type": "code",
   "execution_count": null,
   "metadata": {},
   "outputs": [],
   "source": [
    "for test in weatherMentions[weatherMentions.nitem.isin([2.06])].text_match:\n",
    "    print(test)"
   ]
  },
  {
   "cell_type": "code",
   "execution_count": null,
   "metadata": {},
   "outputs": [],
   "source": [
    "weatherMentions.to_csv(\"../data/filings/wrds/filingsByType.csv\")"
   ]
  },
  {
   "cell_type": "code",
   "execution_count": null,
   "metadata": {},
   "outputs": [],
   "source": [
    "weatherMentions.id.unique()"
   ]
  },
  {
   "cell_type": "code",
   "execution_count": null,
   "metadata": {},
   "outputs": [],
   "source": [
    "fileList = '../../../wrds/sec/wrds_clean_filings/' + weatherMentions.id.unique()\n",
    "fileList\n",
    "\n",
    "\n",
    "textfile = open('../data/filings/wrds/fileList.txt', \"w\")\n",
    "    \n",
    "for element in list(fileList):\n",
    "    textfile.write(element + \"\\n\")\n",
    "\n",
    "    \n",
    "textfile.close()"
   ]
  },
  {
   "cell_type": "markdown",
   "metadata": {},
   "source": [
    "## All Relevant Filings"
   ]
  },
  {
   "cell_type": "code",
   "execution_count": null,
   "metadata": {},
   "outputs": [],
   "source": [
    "relevantItems.head()"
   ]
  },
  {
   "cell_type": "code",
   "execution_count": null,
   "metadata": {},
   "outputs": [],
   "source": [
    "fileList = '../../../wrds/sec/wrds_clean_filings/*' + relevantItems.accession_number.unique() + '.txt'\n",
    "fileList\n",
    "\n",
    "\n",
    "textfile = open('../data/filings/wrds/fileList_allItems.txt', \"w\")\n",
    "    \n",
    "for element in list(fileList):\n",
    "    textfile.write(element + \"\\n\")\n",
    "\n",
    "    \n",
    "textfile.close()"
   ]
  },
  {
   "cell_type": "code",
   "execution_count": null,
   "metadata": {},
   "outputs": [],
   "source": [
    "fileList"
   ]
  },
  {
   "cell_type": "code",
   "execution_count": null,
   "metadata": {},
   "outputs": [],
   "source": [
    "for filename in os.listdir('../../../wrds/sec/wrds_clean_filings/'):\n",
    "    print(filename)"
   ]
  },
  {
   "cell_type": "code",
   "execution_count": null,
   "metadata": {},
   "outputs": [],
   "source": []
  }
 ],
 "metadata": {
  "kernelspec": {
   "display_name": "Python 3",
   "language": "python",
   "name": "python3"
  },
  "language_info": {
   "codemirror_mode": {
    "name": "ipython",
    "version": 3
   },
   "file_extension": ".py",
   "mimetype": "text/x-python",
   "name": "python",
   "nbconvert_exporter": "python",
   "pygments_lexer": "ipython3",
   "version": "3.7.4"
  }
 },
 "nbformat": 4,
 "nbformat_minor": 2
}
