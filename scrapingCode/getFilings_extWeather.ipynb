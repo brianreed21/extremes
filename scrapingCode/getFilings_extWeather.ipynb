{
 "cells": [
  {
   "cell_type": "code",
   "execution_count": 2,
   "metadata": {},
   "outputs": [],
   "source": [
    "import pandas as pd\n",
    "import numpy as np\n",
    "import spacy\n",
    "import pickle as pkl\n",
    "# import en_core_web_md\n",
    "# nlp = en_core_web_md.load()\n",
    "\n",
    "from nltk import sent_tokenize, word_tokenize, pos_tag\n",
    "\n",
    "import matplotlib.pyplot as plt\n",
    "\n",
    "import nltk\n",
    "# nltk.download('words')\n",
    "from nltk.corpus import stopwords, words\n",
    "from nltk.stem import PorterStemmer\n",
    "# nltk.download('averaged_perceptron_tagger')\n",
    "\n",
    "import time\n",
    "import datetime\n",
    "\n",
    "nlp = spacy.load('en_core_web_lg')\n",
    "\n",
    "from multiprocessing import Pool\n",
    "import multiprocessing\n",
    "\n",
    "import re\n",
    "import os\n",
    "\n",
    "from Levenshtein import distance as levenshtein_distance\n",
    "\n",
    "import gc\n",
    "import dask\n",
    "\n",
    "from sklearn.metrics.pairwise import cosine_similarity\n",
    "\n",
    "import itertools \n",
    "from itertools import product\n",
    "\n",
    "import matplotlib.dates as dates\n"
   ]
  },
  {
   "cell_type": "code",
   "execution_count": 3,
   "metadata": {},
   "outputs": [],
   "source": [
    "import matplotlib.dates as dates\n"
   ]
  },
  {
   "cell_type": "markdown",
   "metadata": {},
   "source": [
    "# Make the file structure"
   ]
  },
  {
   "cell_type": "code",
   "execution_count": null,
   "metadata": {},
   "outputs": [],
   "source": [
    "os.getcwd()"
   ]
  },
  {
   "cell_type": "code",
   "execution_count": null,
   "metadata": {},
   "outputs": [],
   "source": [
    "relevantItems         = pd.read_csv(\"../../data/filings/wrds/relevantItems.csv\")\n",
    "\n",
    "# \"../../../../../../../Volumes/backup2/dissData/\"\n",
    "\n",
    "relevantItems['year'] = relevantItems.fdate.astype('str').str.slice(0,4)\n",
    "\n",
    "relevantItems['accession_number'] = relevantItems['fname'].str.split('/').str.get(3).str.split('.').str.get(0)\n",
    "relevantItems['folder'] = relevantItems['fname'].str.split('/').str.get(2)\n",
    "relevantItems.head()"
   ]
  },
  {
   "cell_type": "code",
   "execution_count": null,
   "metadata": {},
   "outputs": [],
   "source": [
    "with open(\"../../data/filings/wrds/fileList_relevantItems.txt\") as file:\n",
    "    fileList = list(file)\n",
    "    \n",
    "files = [sub.replace('\\n', '') for sub in fileList]\n",
    "files = pd.DataFrame([sub.replace('../../../',\n",
    "            '../../data/filings/8k/allRelevantItems/scratch/stanford/brianr21/8k/relevantItems/') for sub in files])\n",
    "\n",
    "files.columns = ['mbpFileName']\n",
    "\n",
    "files['accession_number'] = files['mbpFileName'].str.split('/').str.get(16).str.split('.').str.get(0)\n",
    "files['folder'] = files['mbpFileName'].str.split('/').str.get(15)\n",
    "\n",
    "\n",
    "files.head()"
   ]
  },
  {
   "cell_type": "code",
   "execution_count": null,
   "metadata": {
    "scrolled": true
   },
   "outputs": [],
   "source": [
    "relevantItems   = relevantItems[relevantItems['accession_number'].isin(files.accession_number)]\n",
    "\n",
    "fileNamesByYear = files.merge(relevantItems,how = 'left').drop_duplicates()\n",
    "\n",
    "print(fileNamesByYear.shape)\n",
    "\n",
    "print(fileNamesByYear.head())"
   ]
  },
  {
   "cell_type": "code",
   "execution_count": null,
   "metadata": {},
   "outputs": [],
   "source": [
    "fileNamesByYear.year.value_counts()"
   ]
  },
  {
   "cell_type": "code",
   "execution_count": null,
   "metadata": {},
   "outputs": [],
   "source": [
    "def getText(filename):\n",
    "    with open(filename) as f:\n",
    "        contents = f.read()\n",
    "        \n",
    "    return(contents)"
   ]
  },
  {
   "cell_type": "markdown",
   "metadata": {},
   "source": [
    "The following does the initial cleaning."
   ]
  },
  {
   "cell_type": "code",
   "execution_count": null,
   "metadata": {},
   "outputs": [],
   "source": [
    "''' for year in range(2008,2019):\n",
    "    print(year)\n",
    "    \n",
    "    \n",
    "    start = time.time()\n",
    "    tempFiles = fileNamesByYear[fileNamesByYear.year == str(year)]\n",
    "    \n",
    "    \n",
    "    print(tempFiles.head())\n",
    "    tempFiles['text'] = tempFiles.mbpFileName.apply(getText)\n",
    "\n",
    "    fileName = 'cleanedFilings_' + str(year) + '.csv'\n",
    "    tempFiles[['fdate','cik','nitem','text']].to_csv('../../data/filings/8k/' + fileName)\n",
    "\n",
    "\n",
    "    print(time.time() - start) '''"
   ]
  },
  {
   "cell_type": "code",
   "execution_count": null,
   "metadata": {},
   "outputs": [],
   "source": [
    "os.getcwd()"
   ]
  },
  {
   "cell_type": "markdown",
   "metadata": {},
   "source": [
    "## Check Word Types"
   ]
  },
  {
   "cell_type": "code",
   "execution_count": 4,
   "metadata": {},
   "outputs": [],
   "source": [
    "def checkText_wordList(wordText):\n",
    "    word = wordText[0]\n",
    "    text = wordText[1]\n",
    "    \n",
    "    matchQ = re.search(rf\"\\b(?=\\w){word}\\b(?!\\w)\",text,re.IGNORECASE)\n",
    "    \n",
    "    \n",
    "    return bool(matchQ)\n",
    "\n"
   ]
  },
  {
   "cell_type": "code",
   "execution_count": 5,
   "metadata": {},
   "outputs": [],
   "source": [
    "def findTense(sent):\n",
    "    text = word_tokenize(sent)\n",
    "    tagged = pos_tag(text)\n",
    "\n",
    "    tense = {}\n",
    "    tense[\"future\"] = len([word for word in tagged if word[1] in [\"MD\",\"VBF\"]])\n",
    "    tense[\"present\"] = len([word for word in tagged if word[1] in [\"VBP\", \"VBZ\",\"VBG\"]])\n",
    "    tense[\"past\"] = len([word for word in tagged if word[1] in [\"VBD\", \"VBN\"]]) \n",
    "\n",
    "    tenseCounts = [tense[\"future\"], tense[\"present\"], tense[\"past\"]]\n",
    "    tenseTypes  = ['future', 'present', 'past']\n",
    "\n",
    "    maxType     = np.argmax(tenseCounts)\n",
    "\n",
    "    percPast    = tense['past'] / (tense['future'] + tense['present'] + tense['past'] + 0.0001)\n",
    "\n",
    "    return(tenseTypes[maxType],tenseCounts, percPast)\n"
   ]
  },
  {
   "cell_type": "code",
   "execution_count": 6,
   "metadata": {},
   "outputs": [],
   "source": [
    "def checkMentions(word, df):\n",
    "    word = [word]\n",
    "    \n",
    "    termList = list(product(word, df.text))\n",
    "\n",
    "    with multiprocessing.Pool() as pool:\n",
    "        termMentions = pool.map(checkText_wordList,termList)\n",
    "    \n",
    "    print(sum(termMentions)/len(termMentions))    \n",
    "\n",
    "    return(termMentions)\n",
    "    "
   ]
  },
  {
   "cell_type": "code",
   "execution_count": 7,
   "metadata": {},
   "outputs": [],
   "source": [
    "def explodeSents(df):\n",
    "    with multiprocessing.Pool() as pool:\n",
    "        df['textSent'] = pool.map(sent_tokenize,df.text)\n",
    "        \n",
    "    df.drop(['text'], axis=1,inplace = True)\n",
    "    df         = df.explode('textSent').reset_index()\n",
    "    df.rename(columns = {'textSent': 'text'}, inplace = True)\n",
    "    return(df)"
   ]
  },
  {
   "cell_type": "markdown",
   "metadata": {},
   "source": [
    "Let's play around with different filters and words here. \n",
    "\n",
    "Define a keyword, or several, of interest, then filter the df based on which filings contain that keyword.\n",
    "\n",
    "For now we'll sort to unique cik-date combinations. We can in the future look at unique accession numbers."
   ]
  },
  {
   "cell_type": "code",
   "execution_count": 8,
   "metadata": {},
   "outputs": [
    {
     "name": "stdout",
     "output_type": "stream",
     "text": [
      "2009\n",
      "0.001081165778752742\n",
      "0.007536822312754622\n",
      "64.96533393859863\n",
      "done with 1\n",
      "0.0003376069766685106\n",
      "0.002652045166118903\n",
      "68.61042213439941\n",
      "done with 2\n",
      "69.5421290397644\n",
      "done with 3\n",
      "69.59499907493591\n",
      "done with 4\n",
      "(57, 3) (393, 2)\n",
      "2010\n",
      "0.0017332987753515194\n",
      "0.010059612518628911\n",
      "140.78463912010193\n",
      "done with 1\n",
      "0.0004168948400431027\n",
      "0.0029571269586108214\n",
      "145.08673310279846\n",
      "done with 2\n",
      "146.0235571861267\n",
      "done with 3\n",
      "146.08635210990906\n",
      "done with 4\n",
      "(187, 3) (857, 2)\n",
      "2011\n",
      "0.002634232007544961\n",
      "0.012162997170639695\n",
      "221.04193925857544\n",
      "done with 1\n",
      "0.0005959146738470706\n",
      "0.0031285520376971208\n",
      "226.81085014343262\n",
      "done with 2\n",
      "228.3203251361847\n",
      "done with 3\n",
      "228.4079921245575\n",
      "done with 4\n",
      "(384, 3) (1401, 2)\n",
      "2012\n",
      "0.0016872982137352563\n",
      "0.010448269708129856\n",
      "311.87439012527466\n",
      "done with 1\n",
      "0.00033900639344870145\n",
      "0.0023412629047550944\n",
      "318.094544172287\n",
      "done with 2\n",
      "319.5816249847412\n",
      "done with 3\n",
      "319.6994640827179\n",
      "done with 4\n",
      "(507, 3) (1882, 2)\n",
      "2013\n",
      "0.0013737836290784202\n",
      "0.012609371166898356\n",
      "409.8158540725708\n",
      "done with 1\n",
      "0.00023281457470405686\n",
      "0.0025839859390230486\n",
      "415.5864109992981\n",
      "done with 2\n",
      "417.1683030128479\n",
      "done with 3\n",
      "417.2368769645691\n",
      "done with 4\n",
      "(587, 3) (2475, 2)\n",
      "2014\n",
      "0.005025288024948697\n",
      "0.020133469064585453\n",
      "520.8401582241058\n",
      "done with 1\n",
      "0.0006949173013402976\n",
      "0.003010724832003305\n",
      "531.3992738723755\n",
      "done with 2\n",
      "533.8627350330353\n",
      "done with 3\n",
      "534.0058360099792\n",
      "done with 4\n",
      "(989, 3) (3265, 2)\n",
      "2015\n",
      "0.003586487665390394\n",
      "0.013715892017641642\n",
      "634.9872810840607\n",
      "done with 1\n",
      "0.0004687165936638288\n",
      "0.0014870102459802756\n",
      "648.9776010513306\n",
      "done with 2\n",
      "651.124947309494\n",
      "done with 3\n",
      "651.2437980175018\n",
      "done with 4\n",
      "(1141, 3) (3931, 2)\n",
      "2016\n",
      "0.002803942309306738\n",
      "0.013952551251699995\n",
      "766.818724155426\n",
      "done with 1\n",
      "0.0003207239267422314\n",
      "0.0013074722530794411\n",
      "779.2789571285248\n",
      "done with 2\n",
      "781.550332069397\n",
      "done with 3\n",
      "781.6718871593475\n",
      "done with 4\n",
      "(1246, 3) (4630, 2)\n",
      "2017\n",
      "0.002730109204368175\n",
      "0.014701892423523029\n",
      "903.0645461082458\n",
      "done with 1\n",
      "0.0003209484640949867\n",
      "0.0019642747529310662\n",
      "914.7447850704193\n",
      "done with 2\n",
      "916.8496820926666\n",
      "done with 3\n",
      "916.9414162635803\n",
      "done with 4\n",
      "(1386, 3) (5276, 2)\n",
      "2018\n",
      "0.005297896682214204\n",
      "0.013781571768019009\n",
      "1034.34334731102\n",
      "done with 1\n",
      "0.0007782592662767221\n",
      "0.00202714128257942\n",
      "1048.5742111206055\n",
      "done with 2\n",
      "1050.9478631019592\n",
      "done with 3\n",
      "1051.022271156311\n",
      "done with 4\n",
      "(1493, 3) (6013, 2)\n"
     ]
    }
   ],
   "source": [
    "### \n",
    "# This cell will filter the filings down to ones that mention occurrence of severe weather in the past tense.\n",
    "# We'll do this in a few separate steps.\n",
    "start = time.time()\n",
    "extremeSevereFiles = pd.DataFrame()\n",
    "futureRiskFiles    = pd.DataFrame()\n",
    "for year in range(2009,2019):\n",
    "    print(year)\n",
    "\n",
    "\n",
    "    ##################\n",
    "    # 1. Filter the filings down to ones that mention extreme or severe weather\n",
    "    fileName = '../../data/filings/8k/cleanedFilings_' + str(year) + '.csv'\n",
    "\n",
    "    tempFiles = pd.read_csv(fileName).drop(columns = {'Unnamed: 0'})  \n",
    "\n",
    "    tempFiles['extremeWeather'] = checkMentions('extreme weather',tempFiles)\n",
    "    tempFiles['severeWeather'] = checkMentions('severe weather',tempFiles)\n",
    "\n",
    "    # don't currently have the accession number so we'll filter on a company-date combination\n",
    "    tempFiles['companyDay'] = tempFiles.cik.astype('str') + '_' + tempFiles.fdate.astype('str')\n",
    "\n",
    "\n",
    "    tempFiles['weatherKey'] = tempFiles.extremeWeather | tempFiles.severeWeather\n",
    "    hasTerm = tempFiles[tempFiles['weatherKey']].reset_index(drop = True)\n",
    "\n",
    "    print(time.time() - start)\n",
    "    print('done with 1')\n",
    "\n",
    "\n",
    "    ##################\n",
    "    # 2. Explode the filings that mention extreme or severe weather so we can process the individual  \n",
    "    hasTerm = explodeSents(hasTerm)\n",
    "    extremeSent  = checkMentions('extreme weather',hasTerm)\n",
    "    severeSent   = checkMentions('severe weather',hasTerm)\n",
    "\n",
    "    weatherSent = np.max([extremeSent,severeSent], axis = 0)\n",
    "\n",
    "\n",
    "    sentHasTerm = hasTerm[weatherSent]\n",
    "\n",
    "\n",
    "    sentHasTerm = sentHasTerm[['fdate', 'cik', 'nitem','text']].drop_duplicates().reset_index(drop = True)\n",
    "\n",
    "    print(time.time() - start)\n",
    "    print('done with 2')\n",
    "\n",
    "\n",
    "\n",
    "\n",
    "    ###################\n",
    "    # 3. Filter down to mentions in the past tense\n",
    "    with multiprocessing.Pool() as pool:\n",
    "        vals = pool.map(findTense,sentHasTerm.text)\n",
    "\n",
    "\n",
    "    sentHasTerm['vals'] = vals\n",
    "    sentHasTerm[['tense','tenseCounts','percPast']] = pd.DataFrame(sentHasTerm['vals'].tolist(), index= sentHasTerm.index)\n",
    "\n",
    "\n",
    "    past = sentHasTerm[(sentHasTerm.tense == 'past') & (sentHasTerm.percPast > 0.51)].reset_index()\n",
    "    pastFilter = past[['fdate','cik']].drop_duplicates()\n",
    "    pastFilter['companyDay'] = pastFilter.cik.astype('str') + '_' + pastFilter.fdate.astype('str')\n",
    "\n",
    "    print(time.time() - start)\n",
    "    print('done with 3')\n",
    "\n",
    "\n",
    "\n",
    "\n",
    "    ###################\n",
    "    # 4. Use those to filter down the full file\n",
    "    extremeSevereFiles = extremeSevereFiles.append(tempFiles[tempFiles.companyDay.isin(pastFilter.companyDay)][['fdate','cik','text']].drop_duplicates())\n",
    "    futureRiskFiles    = futureRiskFiles.append(tempFiles[~tempFiles.companyDay.isin(pastFilter.companyDay) & \n",
    "                                                         (tempFiles.extremeWeather | tempFiles.severeWeather)][['fdate','cik']].drop_duplicates())\n",
    "    \n",
    "    \n",
    "    print(time.time() - start)\n",
    "    print('done with 4')\n",
    "\n",
    "    print(extremeSevereFiles.shape,futureRiskFiles.shape)"
   ]
  },
  {
   "cell_type": "code",
   "execution_count": 9,
   "metadata": {},
   "outputs": [],
   "source": [
    "extremeSevereFiles.to_csv('pastRiskFiles.csv')\n",
    "futureRiskFiles.to_csv('real_futureRiskFiles.csv')"
   ]
  },
  {
   "cell_type": "code",
   "execution_count": 10,
   "metadata": {},
   "outputs": [
    {
     "name": "stdout",
     "output_type": "stream",
     "text": [
      "         fdate    cik\n",
      "1428  20090407  18230\n",
      "1735  20090713  20286\n",
      "2242  20090504  25475\n",
      "2247  20090810  25475\n",
      "3680  20090206  41023 (7414, 2) 0.11156372100756505\n"
     ]
    }
   ],
   "source": [
    "allCos = extremeSevereFiles.append(futureRiskFiles)[['fdate','cik']].drop_duplicates()\n",
    "\n",
    "print(allCos.head(), allCos.shape, len(allCos.cik.unique())/12029)"
   ]
  },
  {
   "cell_type": "code",
   "execution_count": 96,
   "metadata": {},
   "outputs": [
    {
     "data": {
      "text/html": [
       "<div>\n",
       "<style scoped>\n",
       "    .dataframe tbody tr th:only-of-type {\n",
       "        vertical-align: middle;\n",
       "    }\n",
       "\n",
       "    .dataframe tbody tr th {\n",
       "        vertical-align: top;\n",
       "    }\n",
       "\n",
       "    .dataframe thead th {\n",
       "        text-align: right;\n",
       "    }\n",
       "</style>\n",
       "<table border=\"1\" class=\"dataframe\">\n",
       "  <thead>\n",
       "    <tr style=\"text-align: right;\">\n",
       "      <th></th>\n",
       "      <th>fdate</th>\n",
       "      <th>cik</th>\n",
       "      <th>date_time</th>\n",
       "    </tr>\n",
       "  </thead>\n",
       "  <tbody>\n",
       "    <tr>\n",
       "      <th>56594</th>\n",
       "      <td>20181105</td>\n",
       "      <td>1735184</td>\n",
       "      <td>2018-11-05</td>\n",
       "    </tr>\n",
       "    <tr>\n",
       "      <th>56630</th>\n",
       "      <td>20180807</td>\n",
       "      <td>1736946</td>\n",
       "      <td>2018-08-07</td>\n",
       "    </tr>\n",
       "    <tr>\n",
       "      <th>56676</th>\n",
       "      <td>20181018</td>\n",
       "      <td>1739445</td>\n",
       "      <td>2018-10-18</td>\n",
       "    </tr>\n",
       "    <tr>\n",
       "      <th>56677</th>\n",
       "      <td>20181101</td>\n",
       "      <td>1739445</td>\n",
       "      <td>2018-11-01</td>\n",
       "    </tr>\n",
       "    <tr>\n",
       "      <th>56776</th>\n",
       "      <td>20181113</td>\n",
       "      <td>1747009</td>\n",
       "      <td>2018-11-13</td>\n",
       "    </tr>\n",
       "  </tbody>\n",
       "</table>\n",
       "</div>"
      ],
      "text/plain": [
       "          fdate      cik  date_time\n",
       "56594  20181105  1735184 2018-11-05\n",
       "56630  20180807  1736946 2018-08-07\n",
       "56676  20181018  1739445 2018-10-18\n",
       "56677  20181101  1739445 2018-11-01\n",
       "56776  20181113  1747009 2018-11-13"
      ]
     },
     "execution_count": 96,
     "metadata": {},
     "output_type": "execute_result"
    }
   ],
   "source": [
    "allCos.tail()"
   ]
  },
  {
   "cell_type": "code",
   "execution_count": 98,
   "metadata": {},
   "outputs": [
    {
     "data": {
      "text/plain": [
       "(266534, 2)"
      ]
     },
     "execution_count": 98,
     "metadata": {},
     "output_type": "execute_result"
    }
   ],
   "source": [
    "allFiles = pd.read_csv('futureRiskFiles.csv').drop(columns = 'Unnamed: 0')\n",
    "len(allFiles.cik.unique())\n",
    "allFiles.shape"
   ]
  },
  {
   "cell_type": "code",
   "execution_count": 100,
   "metadata": {},
   "outputs": [
    {
     "data": {
      "text/html": [
       "<div>\n",
       "<style scoped>\n",
       "    .dataframe tbody tr th:only-of-type {\n",
       "        vertical-align: middle;\n",
       "    }\n",
       "\n",
       "    .dataframe tbody tr th {\n",
       "        vertical-align: top;\n",
       "    }\n",
       "\n",
       "    .dataframe thead th {\n",
       "        text-align: right;\n",
       "    }\n",
       "</style>\n",
       "<table border=\"1\" class=\"dataframe\">\n",
       "  <thead>\n",
       "    <tr style=\"text-align: right;\">\n",
       "      <th></th>\n",
       "      <th>fdate</th>\n",
       "      <th>cik</th>\n",
       "    </tr>\n",
       "  </thead>\n",
       "  <tbody>\n",
       "    <tr>\n",
       "      <th>266529</th>\n",
       "      <td>20131125</td>\n",
       "      <td>1592290</td>\n",
       "    </tr>\n",
       "    <tr>\n",
       "      <th>266530</th>\n",
       "      <td>20131126</td>\n",
       "      <td>1592290</td>\n",
       "    </tr>\n",
       "    <tr>\n",
       "      <th>266531</th>\n",
       "      <td>20131121</td>\n",
       "      <td>1592291</td>\n",
       "    </tr>\n",
       "    <tr>\n",
       "      <th>266532</th>\n",
       "      <td>20131126</td>\n",
       "      <td>1592291</td>\n",
       "    </tr>\n",
       "    <tr>\n",
       "      <th>266533</th>\n",
       "      <td>20131230</td>\n",
       "      <td>1593269</td>\n",
       "    </tr>\n",
       "  </tbody>\n",
       "</table>\n",
       "</div>"
      ],
      "text/plain": [
       "           fdate      cik\n",
       "266529  20131125  1592290\n",
       "266530  20131126  1592290\n",
       "266531  20131121  1592291\n",
       "266532  20131126  1592291\n",
       "266533  20131230  1593269"
      ]
     },
     "execution_count": 100,
     "metadata": {},
     "output_type": "execute_result"
    }
   ],
   "source": [
    "allFiles.tail()"
   ]
  },
  {
   "cell_type": "code",
   "execution_count": 97,
   "metadata": {},
   "outputs": [
    {
     "data": {
      "text/html": [
       "<div>\n",
       "<style scoped>\n",
       "    .dataframe tbody tr th:only-of-type {\n",
       "        vertical-align: middle;\n",
       "    }\n",
       "\n",
       "    .dataframe tbody tr th {\n",
       "        vertical-align: top;\n",
       "    }\n",
       "\n",
       "    .dataframe thead th {\n",
       "        text-align: right;\n",
       "    }\n",
       "</style>\n",
       "<table border=\"1\" class=\"dataframe\">\n",
       "  <thead>\n",
       "    <tr style=\"text-align: right;\">\n",
       "      <th></th>\n",
       "      <th>year</th>\n",
       "      <th>cik</th>\n",
       "      <th>factor</th>\n",
       "    </tr>\n",
       "  </thead>\n",
       "  <tbody>\n",
       "    <tr>\n",
       "      <th>0</th>\n",
       "      <td>2009</td>\n",
       "      <td>55432</td>\n",
       "      <td>1.000000</td>\n",
       "    </tr>\n",
       "    <tr>\n",
       "      <th>1</th>\n",
       "      <td>2010</td>\n",
       "      <td>53467</td>\n",
       "      <td>0.964551</td>\n",
       "    </tr>\n",
       "    <tr>\n",
       "      <th>2</th>\n",
       "      <td>2011</td>\n",
       "      <td>52978</td>\n",
       "      <td>0.955730</td>\n",
       "    </tr>\n",
       "    <tr>\n",
       "      <th>3</th>\n",
       "      <td>2012</td>\n",
       "      <td>52644</td>\n",
       "      <td>0.949704</td>\n",
       "    </tr>\n",
       "    <tr>\n",
       "      <th>4</th>\n",
       "      <td>2013</td>\n",
       "      <td>52013</td>\n",
       "      <td>0.938321</td>\n",
       "    </tr>\n",
       "  </tbody>\n",
       "</table>\n",
       "</div>"
      ],
      "text/plain": [
       "   year    cik    factor\n",
       "0  2009  55432  1.000000\n",
       "1  2010  53467  0.964551\n",
       "2  2011  52978  0.955730\n",
       "3  2012  52644  0.949704\n",
       "4  2013  52013  0.938321"
      ]
     },
     "execution_count": 97,
     "metadata": {},
     "output_type": "execute_result"
    }
   ],
   "source": [
    "allFiles['year'] = allFiles.fdate.astype('str').str.slice(0, 4)\n",
    "scaleFactors     = allFiles.groupby('year')['cik'].count().reset_index()\n",
    "\n",
    "scaleFactors['factor']  = scaleFactors.cik / scaleFactors.cik[0]\n",
    "\n",
    "scaleFactors"
   ]
  },
  {
   "cell_type": "code",
   "execution_count": 14,
   "metadata": {},
   "outputs": [
    {
     "name": "stdout",
     "output_type": "stream",
     "text": [
      "(7414, 3) (1493, 4)\n"
     ]
    }
   ],
   "source": [
    "pastSevere = extremeSevereFiles\n",
    "allRisk    = allCos\n",
    "\n",
    "\n",
    "pastSevere['date_time'] = pd.to_datetime(pastSevere.fdate, format='%Y%m%d')  \n",
    "allRisk['date_time']    = pd.to_datetime(allRisk.fdate, format='%Y%m%d')  \n",
    "\n",
    "\n",
    "print(allRisk.shape,pastSevere.shape)\n"
   ]
  },
  {
   "cell_type": "code",
   "execution_count": 88,
   "metadata": {},
   "outputs": [
    {
     "data": {
      "text/plain": [
       "0.051043311996009644"
      ]
     },
     "execution_count": 88,
     "metadata": {},
     "output_type": "execute_result"
    }
   ],
   "source": [
    "len(pastSevere.cik.unique())/12029"
   ]
  },
  {
   "cell_type": "code",
   "execution_count": 60,
   "metadata": {},
   "outputs": [
    {
     "data": {
      "text/plain": [
       "<module 'matplotlib.dates' from '/Users/brianreed/opt/anaconda3/lib/python3.7/site-packages/matplotlib/dates.py'>"
      ]
     },
     "execution_count": 60,
     "metadata": {},
     "output_type": "execute_result"
    }
   ],
   "source": [
    "dates"
   ]
  },
  {
   "cell_type": "markdown",
   "metadata": {},
   "source": [
    "Make a preliminary plot of the counts here. First make a sequence of every day over the time period of interest. Then merge in the counts of filings on those days, make some smoothed plots, and call it a day."
   ]
  },
  {
   "cell_type": "code",
   "execution_count": 107,
   "metadata": {},
   "outputs": [],
   "source": [
    "start = datetime.datetime.strptime(\"20090101\", '%Y%m%d')\n",
    "end   = datetime.datetime.strptime(\"20181231\",   '%Y%m%d')\n",
    "dates = [start + datetime.timedelta(days=x) for x in range(0, (end-start).days)]\n",
    "\n",
    "\n",
    "allDays = pd.DataFrame(dates)\n",
    "allDays.columns = ['date_time']\n",
    "\n",
    "\n",
    "filingCounts = pastSevere[['date_time']].value_counts().reset_index()\n",
    "filingCounts.columns = ['date_time','countsPast']\n",
    "\n",
    "allCounts = allRisk[['date_time']].value_counts().reset_index()\n",
    "allCounts.columns = ['date_time','countsAll']\n",
    "\n",
    "allDays = allDays.merge(filingCounts,how = 'left').merge(allCounts,how = 'left')\n",
    "\n",
    "# scale these by number of companies in the year\n",
    "allDays['year'] = allDays.date_time.astype('str').str.slice(0,4)\n",
    "'''allDays = allDays.merge(scaleFactors[['year','factor']])\n",
    "allDays['countsAll']    = allDays['countsAll']* 1/allDays.factor\n",
    "allDays['countsPast']   = allDays['countsPast']  * 1/allDays.factor\n",
    "'''\n",
    "allDays = allDays.fillna(0)\n",
    "\n",
    "\n",
    "window = 90\n",
    "smoothedAllCounts1       = allDays.countsAll.rolling(1, win_type='triang').mean()\n",
    "smoothedAllCountsRolling = allDays.countsAll.rolling(window, win_type='triang').mean()\n",
    "\n",
    "\n",
    "smoothedPastCounts1         = allDays.countsPast.rolling(1, win_type='triang').mean()\n",
    "smoothedPastCountsRolling   = allDays.countsPast.rolling(window, win_type='triang').mean()\n",
    "\n",
    "\n",
    "# allDays['smoothedPast']  = smoothedPastCounts\n",
    "# allDays['smoothedFuture']  = smoothedFutureCounts\n"
   ]
  },
  {
   "cell_type": "code",
   "execution_count": 108,
   "metadata": {},
   "outputs": [
    {
     "data": {
      "text/html": [
       "<div>\n",
       "<style scoped>\n",
       "    .dataframe tbody tr th:only-of-type {\n",
       "        vertical-align: middle;\n",
       "    }\n",
       "\n",
       "    .dataframe tbody tr th {\n",
       "        vertical-align: top;\n",
       "    }\n",
       "\n",
       "    .dataframe thead th {\n",
       "        text-align: right;\n",
       "    }\n",
       "</style>\n",
       "<table border=\"1\" class=\"dataframe\">\n",
       "  <thead>\n",
       "    <tr style=\"text-align: right;\">\n",
       "      <th></th>\n",
       "      <th>date_time</th>\n",
       "      <th>countsPast</th>\n",
       "      <th>countsAll</th>\n",
       "      <th>year</th>\n",
       "    </tr>\n",
       "  </thead>\n",
       "  <tbody>\n",
       "    <tr>\n",
       "      <th>0</th>\n",
       "      <td>2009-01-01</td>\n",
       "      <td>0.0</td>\n",
       "      <td>0.0</td>\n",
       "      <td>2009</td>\n",
       "    </tr>\n",
       "    <tr>\n",
       "      <th>1</th>\n",
       "      <td>2009-01-02</td>\n",
       "      <td>0.0</td>\n",
       "      <td>0.0</td>\n",
       "      <td>2009</td>\n",
       "    </tr>\n",
       "    <tr>\n",
       "      <th>2</th>\n",
       "      <td>2009-01-03</td>\n",
       "      <td>0.0</td>\n",
       "      <td>0.0</td>\n",
       "      <td>2009</td>\n",
       "    </tr>\n",
       "    <tr>\n",
       "      <th>3</th>\n",
       "      <td>2009-01-04</td>\n",
       "      <td>0.0</td>\n",
       "      <td>0.0</td>\n",
       "      <td>2009</td>\n",
       "    </tr>\n",
       "    <tr>\n",
       "      <th>4</th>\n",
       "      <td>2009-01-05</td>\n",
       "      <td>0.0</td>\n",
       "      <td>0.0</td>\n",
       "      <td>2009</td>\n",
       "    </tr>\n",
       "    <tr>\n",
       "      <th>...</th>\n",
       "      <td>...</td>\n",
       "      <td>...</td>\n",
       "      <td>...</td>\n",
       "      <td>...</td>\n",
       "    </tr>\n",
       "    <tr>\n",
       "      <th>3646</th>\n",
       "      <td>2018-12-26</td>\n",
       "      <td>0.0</td>\n",
       "      <td>0.0</td>\n",
       "      <td>2018</td>\n",
       "    </tr>\n",
       "    <tr>\n",
       "      <th>3647</th>\n",
       "      <td>2018-12-27</td>\n",
       "      <td>0.0</td>\n",
       "      <td>1.0</td>\n",
       "      <td>2018</td>\n",
       "    </tr>\n",
       "    <tr>\n",
       "      <th>3648</th>\n",
       "      <td>2018-12-28</td>\n",
       "      <td>0.0</td>\n",
       "      <td>1.0</td>\n",
       "      <td>2018</td>\n",
       "    </tr>\n",
       "    <tr>\n",
       "      <th>3649</th>\n",
       "      <td>2018-12-29</td>\n",
       "      <td>0.0</td>\n",
       "      <td>0.0</td>\n",
       "      <td>2018</td>\n",
       "    </tr>\n",
       "    <tr>\n",
       "      <th>3650</th>\n",
       "      <td>2018-12-30</td>\n",
       "      <td>0.0</td>\n",
       "      <td>0.0</td>\n",
       "      <td>2018</td>\n",
       "    </tr>\n",
       "  </tbody>\n",
       "</table>\n",
       "<p>3651 rows × 4 columns</p>\n",
       "</div>"
      ],
      "text/plain": [
       "      date_time  countsPast  countsAll  year\n",
       "0    2009-01-01         0.0        0.0  2009\n",
       "1    2009-01-02         0.0        0.0  2009\n",
       "2    2009-01-03         0.0        0.0  2009\n",
       "3    2009-01-04         0.0        0.0  2009\n",
       "4    2009-01-05         0.0        0.0  2009\n",
       "...         ...         ...        ...   ...\n",
       "3646 2018-12-26         0.0        0.0  2018\n",
       "3647 2018-12-27         0.0        1.0  2018\n",
       "3648 2018-12-28         0.0        1.0  2018\n",
       "3649 2018-12-29         0.0        0.0  2018\n",
       "3650 2018-12-30         0.0        0.0  2018\n",
       "\n",
       "[3651 rows x 4 columns]"
      ]
     },
     "execution_count": 108,
     "metadata": {},
     "output_type": "execute_result"
    }
   ],
   "source": [
    "allDays"
   ]
  },
  {
   "cell_type": "code",
   "execution_count": 113,
   "metadata": {},
   "outputs": [
    {
     "data": {
      "image/png": "[encoded data removed]",
      "text/plain": [
       "<Figure size 1440x720 with 1 Axes>"
      ]
     },
     "metadata": {
      "needs_background": "light"
     },
     "output_type": "display_data"
    }
   ],
   "source": [
    "import matplotlib.dates as dates\n",
    "\n",
    "\n",
    "titleSize = 36\n",
    "labelSize = 24\n",
    "tickSize  = 18\n",
    "\n",
    "\n",
    "\n",
    "allCounts1        = smoothedAllCounts1[~smoothedAllCountsRolling.isna()]\n",
    "allCountsRolling  = smoothedAllCountsRolling[~smoothedAllCountsRolling.isna()]\n",
    "\n",
    "pastCounts1        = smoothedPastCounts1[~smoothedPastCountsRolling.isna()]\n",
    "pastCountsRolling  = smoothedPastCountsRolling[~smoothedPastCountsRolling.isna()]\n",
    "\n",
    "datesOfInterest    = allDays.date_time[~smoothedAllCountsRolling.isna()]\n",
    "x_num     = dates.date2num(datesOfInterest)\n",
    "\n",
    "\n",
    "\n",
    "\n",
    "\n",
    "########################################################################################\n",
    "\n",
    "# misc formatting \n",
    "fig = plt.gcf()\n",
    "fig.set_size_inches(20, 10)\n",
    "\n",
    "\n",
    "\n",
    "\n",
    "##########################\n",
    "# future - points and line\n",
    "\n",
    "# plt.scatter(datesOfInterest, allCounts1, color='green', s=10, label=\"Daily Count\", alpha=0.15)\n",
    "plt.scatter(datesOfInterest, allCountsRolling, color='green', s=2.5, \n",
    "            label=\"All Mentions, 90-Day Rolling Average\",alpha = 0.1)\n",
    "\n",
    "# with trend\n",
    "trendAll = np.polyfit(x_num, allCounts1, 1)\n",
    "fitAll   = np.poly1d(trendAll)\n",
    "plt.plot(x_num, fitAll(x_num), color = \"green\", label = \"All Mentions, Trend\", linewidth = 2)\n",
    "\n",
    "\n",
    "\n",
    "\n",
    "##########################\n",
    "# past - points and line\n",
    "# plt.scatter(datesOfInterest, pastCounts1,       color='blue', s=5, label=\"Past Events\",alpha = 0.25) #, alpha=0.5)\n",
    "plt.scatter(datesOfInterest, pastCountsRolling, color='blue', s=2.5,\n",
    "            label=\"Past Events, 90-Day Rolling Average\",alpha = 0.1) #, alpha=0.5)\n",
    "trendPast = np.polyfit(x_num, pastCounts1, 1)\n",
    "fitPast   = np.poly1d(trendPast)\n",
    "plt.plot(x_num, fitPast(x_num), color = \"blue\",  label = \"Past Events, Trend\", linewidth = 2)\n",
    "\n",
    "\n",
    "plt.xlabel(\"Date\",fontsize=labelSize)\n",
    "plt.xticks(fontsize = tickSize)\n",
    "\n",
    "plt.ylabel(\"# Companies Filing on Date\",fontsize=labelSize)\n",
    "plt.yticks(fontsize = tickSize)\n",
    "\n",
    "\n",
    "\n",
    "######################################################################\n",
    "# put everything together\n",
    "plt.title(\"8-K Filings Mentioning Extreme or Severe Weather\",fontsize=titleSize)\n",
    "\n",
    "\n",
    "plt.ylim(top=5,bottom= 0)\n",
    "\n",
    "plt.legend(fontsize=16,scatterpoints=10,loc='upper right')\n",
    "\n",
    "plt.show()\n"
   ]
  },
  {
   "cell_type": "markdown",
   "metadata": {},
   "source": [
    "The below allows us to go a little bit deeper into what is actually in the sentences."
   ]
  },
  {
   "cell_type": "code",
   "execution_count": null,
   "metadata": {},
   "outputs": [],
   "source": [
    "tempFiles['rain'] = checkMentions('rain',tempFiles)\n",
    "tempFiles['extremeHeat'] = checkMentions('extreme heat',tempFiles)\n",
    "tempFiles['heatWave'] = checkMentions('heat wave',tempFiles)\n",
    "tempFiles['flood'] = checkMentions('flood',tempFiles)\n",
    "tempFiles['extremeWeather'] = checkMentions('extreme weather',tempFiles)\n",
    "tempFiles['severeWeather'] = checkMentions('severe weather',tempFiles)\n",
    "\n",
    "print(tempFiles.shape)\n",
    "tempFiles['weatherKey'] = tempFiles.rain | tempFiles.extremeHeat | tempFiles.heatWave | tempFiles.flood | tempFiles.extremeWeather | tempFiles.severeWeather\n",
    "hasTerm = tempFiles[tempFiles['weatherKey']]\n",
    "print(hasTerm.shape)"
   ]
  },
  {
   "cell_type": "markdown",
   "metadata": {},
   "source": [
    "## Check Sentences\n",
    "Now, go from the full text of the filings to specific sentences within it, to look at how the terms are being used."
   ]
  },
  {
   "cell_type": "code",
   "execution_count": null,
   "metadata": {},
   "outputs": [],
   "source": [
    "hasTerm = explodeSents(hasTerm)\n",
    "print(tempFiles.shape,hasTerm.shape)"
   ]
  },
  {
   "cell_type": "markdown",
   "metadata": {},
   "source": [
    "Now filter the sentences down."
   ]
  },
  {
   "cell_type": "code",
   "execution_count": null,
   "metadata": {},
   "outputs": [],
   "source": [
    "np.max([rainSent,heatSent],axis = 0)"
   ]
  },
  {
   "cell_type": "code",
   "execution_count": null,
   "metadata": {},
   "outputs": [],
   "source": [
    "rainSent     = checkMentions('rain',hasTerm)\n",
    "heatSent     = checkMentions('extreme heat',hasTerm)\n",
    "heatwaveSent = checkMentions('heat wave',hasTerm)\n",
    "floodSent    = checkMentions('flood',hasTerm)\n",
    "extremeSent  = checkMentions('extreme weather',hasTerm)\n",
    "severeSent   = checkMentions('severe weather',hasTerm)\n",
    "\n",
    "\n",
    "weatherSent = np.max([rainSent,heatSent,floodSent,heatwaveSent,extremeSent,severeSent], axis = 0)\n",
    "\n",
    "\n",
    "sentHasTerm = hasTerm[weatherSent]\n",
    "\n",
    "\n",
    "sentHasTerm = sentHasTerm[['fdate', 'form', 'nitem','year','text']].drop_duplicates().reset_index()\n",
    "\n",
    "\n",
    "print(sentHasTerm.shape)\n",
    "\n",
    "\n",
    "sentHasTerm.head()"
   ]
  },
  {
   "cell_type": "markdown",
   "metadata": {},
   "source": [
    "Tokenize the sentence and try to get at the tense of it."
   ]
  },
  {
   "cell_type": "code",
   "execution_count": null,
   "metadata": {},
   "outputs": [],
   "source": [
    "with multiprocessing.Pool() as pool:\n",
    "    vals = pool.map(findTense,sentHasTerm.text)\n",
    "\n",
    "    \n",
    "sentHasTerm['vals'] = vals\n",
    "sentHasTerm[['tense','tenseCounts','percPast']] = pd.DataFrame(sentHasTerm['vals'].tolist(), index= sentHasTerm.index)\n",
    "\n",
    "past = sentHasTerm[(sentHasTerm.tense == 'past') & (sentHasTerm.percPast > 0.67)].reset_index()"
   ]
  },
  {
   "cell_type": "code",
   "execution_count": null,
   "metadata": {},
   "outputs": [],
   "source": [
    "sentHasTerm.tense.value_counts()"
   ]
  },
  {
   "cell_type": "code",
   "execution_count": null,
   "metadata": {},
   "outputs": [],
   "source": [
    "for row in range(0,past.shape[0]):\n",
    "    print(past.nitem[row],past.tenseCounts[row], ':  ', past.text[row],\"*********************************************************************************************************************************************************************************************\")\n",
    "    \n",
    "    \n",
    "    \n",
    "    "
   ]
  },
  {
   "cell_type": "code",
   "execution_count": null,
   "metadata": {},
   "outputs": [],
   "source": [
    "hasTerm[0:100].to_csv('sampleSents.csv')"
   ]
  },
  {
   "cell_type": "markdown",
   "metadata": {},
   "source": [
    "##  Do some initial scraping"
   ]
  },
  {
   "cell_type": "code",
   "execution_count": null,
   "metadata": {},
   "outputs": [],
   "source": [
    "os.getcwd()"
   ]
  },
  {
   "cell_type": "markdown",
   "metadata": {},
   "source": [
    "### Read in the file structure"
   ]
  },
  {
   "cell_type": "code",
   "execution_count": null,
   "metadata": {},
   "outputs": [],
   "source": [
    "os.getcwd()"
   ]
  },
  {
   "cell_type": "code",
   "execution_count": null,
   "metadata": {},
   "outputs": [],
   "source": [
    "with open(\"../fileStructure.txt\") as file:\n",
    "    fileList = list(file)"
   ]
  },
  {
   "cell_type": "code",
   "execution_count": null,
   "metadata": {},
   "outputs": [],
   "source": [
    "files = [sub.replace('\\n', '') for sub in fileList][590:]"
   ]
  },
  {
   "cell_type": "code",
   "execution_count": null,
   "metadata": {},
   "outputs": [],
   "source": [
    "from itertools import groupby\n",
    "i = (list(g) for _, g in groupby(files, key=''.__ne__))\n",
    "zippedFiles = [a + b for a, b in zip(i, i)]"
   ]
  },
  {
   "cell_type": "code",
   "execution_count": null,
   "metadata": {},
   "outputs": [],
   "source": [
    "len(zippedFiles)"
   ]
  },
  {
   "cell_type": "code",
   "execution_count": null,
   "metadata": {},
   "outputs": [],
   "source": [
    "fileList = []\n",
    "start = time.time()\n",
    "\n",
    "for i in range(0, len(zippedFiles)):\n",
    "    base      = zippedFiles[i][0][:-1]\n",
    "    fileNames = zippedFiles[i][1:-1]\n",
    "\n",
    "    fullStructure = [base + '/' + s for s in fileNames]\n",
    "    \n",
    "    fileList.append(fullStructure)\n",
    "\n",
    "time.time() - start"
   ]
  },
  {
   "cell_type": "code",
   "execution_count": null,
   "metadata": {},
   "outputs": [],
   "source": [
    "allFiles = [item for sublist in fileList for item in sublist]\n",
    "len(allFiles)"
   ]
  },
  {
   "cell_type": "code",
   "execution_count": null,
   "metadata": {},
   "outputs": [],
   "source": [
    "allFilesDF.fileDirectory[0:5].str.split('/').str.get(6:8).str.split('.').str.get(0)"
   ]
  },
  {
   "cell_type": "code",
   "execution_count": null,
   "metadata": {},
   "outputs": [],
   "source": [
    "allFilesDF                     = pd.DataFrame(allFiles)\n",
    "allFilesDF.columns             = ['fileDirectory']\n",
    "allFilesDF['accession_number'] = allFilesDF.fileDirectory.str.split('/').str.get(8).str.split('.').str.get(0)"
   ]
  },
  {
   "cell_type": "code",
   "execution_count": null,
   "metadata": {},
   "outputs": [],
   "source": [
    "with open('allFiles_wrdsSEC.pkl', 'wb') as f:\n",
    "   pkl.dump(allFilesDF, f)\n"
   ]
  },
  {
   "cell_type": "code",
   "execution_count": null,
   "metadata": {},
   "outputs": [],
   "source": [
    "allFilesDF.head()"
   ]
  },
  {
   "cell_type": "markdown",
   "metadata": {},
   "source": [
    "# Make filings list"
   ]
  },
  {
   "cell_type": "markdown",
   "metadata": {},
   "source": [
    "## Track filings\n",
    "See which filings actually mentioned the words they purport to"
   ]
  },
  {
   "cell_type": "code",
   "execution_count": null,
   "metadata": {},
   "outputs": [],
   "source": [
    "relevantItems = pd.read_csv(\"../data/filings/wrds/relevantItems.csv\")"
   ]
  },
  {
   "cell_type": "code",
   "execution_count": null,
   "metadata": {},
   "outputs": [],
   "source": [
    "relevantItems['accession_number'] = relevantItems['fname'].str.split('/').str.get(3).str.split('.').str.get(0)"
   ]
  },
  {
   "cell_type": "code",
   "execution_count": null,
   "metadata": {},
   "outputs": [],
   "source": [
    "relevantItems.tail()"
   ]
  },
  {
   "cell_type": "code",
   "execution_count": null,
   "metadata": {},
   "outputs": [],
   "source": [
    "allFilesDF_filtered = allFilesDF[allFilesDF.accession_number.isin(relevantItems.accession_number)]"
   ]
  },
  {
   "cell_type": "code",
   "execution_count": null,
   "metadata": {},
   "outputs": [],
   "source": [
    "getFileNames = relevantItems[['cik','fdate','form','nitem', \\\n",
    "               'item','accession_number']].merge(allFilesDF_filtered,how = 'left')\n",
    "\n",
    "getFileNames.head()"
   ]
  },
  {
   "cell_type": "code",
   "execution_count": null,
   "metadata": {},
   "outputs": [],
   "source": [
    "getFileNames.shape"
   ]
  },
  {
   "cell_type": "code",
   "execution_count": null,
   "metadata": {},
   "outputs": [],
   "source": [
    "fileList = getFileNames.fileDirectory\n",
    "fileList\n",
    "\n",
    "\n",
    "textfile = open('../data/filings/wrds/fileList_relevantItems.txt', \"w\")\n",
    "    \n",
    "for element in list(fileList):\n",
    "    textfile.write(element + \"\\n\")\n",
    "\n",
    "    \n",
    "textfile.close()"
   ]
  },
  {
   "cell_type": "markdown",
   "metadata": {},
   "source": [
    "# Make files\n",
    "We'll make two distinct files here. \n",
    "1.  One is going to have all of the relevant items that contain one of the main climate words.\n",
    "2. One is going to have all types of the relevant items.\n",
    "\n",
    "\n",
    "The second one will allow us to use different text search capabilities within Python. I'm not 100\\% sure how WRDS manages the search feature but it doesn't seem entirely great.\n",
    "\n",
    "\n",
    "## Extreme Weather\n"
   ]
  },
  {
   "cell_type": "code",
   "execution_count": null,
   "metadata": {},
   "outputs": [],
   "source": [
    "accessionNumbers = list(relevantItems.accession_number.unique())"
   ]
  },
  {
   "cell_type": "code",
   "execution_count": null,
   "metadata": {},
   "outputs": [],
   "source": [
    "rain           = pd.read_csv(\"../data/filings/wrds/rainMentions.csv\")\n",
    "rain['weatherType'] = 'rain'\n",
    "heat           = pd.read_csv(\"../data/filings/wrds/heatMentions.csv\")\n",
    "heat['weatherType'] = 'heat'\n",
    "storm          = pd.read_csv(\"../data/filings/wrds/stormMentions.csv\")\n",
    "storm['weatherType'] = 'storm'\n",
    "flood          = pd.read_csv(\"../data/filings/wrds/floodMentions.csv\")\n",
    "flood['weatherType'] = 'flood'\n",
    "snow           = pd.read_csv(\"../data/filings/wrds/snowMentions.csv\")\n",
    "snow['weatherType'] = 'snow'\n",
    "sevWeath       = pd.read_csv(\"../data/filings/wrds/severeWeather.csv\")\n",
    "sevWeath['weatherType'] = 'sevWeath'\n",
    "extWeath       = pd.read_csv(\"../data/filings/wrds/extremeWeather.csv\")\n",
    "extWeath['weatherType'] = 'extWeath'"
   ]
  },
  {
   "cell_type": "code",
   "execution_count": null,
   "metadata": {},
   "outputs": [],
   "source": [
    "def checkRain(strs):\n",
    "    matchQ = re.search(r'\\brain\\b',strs,re.IGNORECASE)\n",
    "    return(matchQ is not None)\n",
    "def checkHeat(strs):\n",
    "    matchQ = re.search(r'\\bheat\\b',strs,re.IGNORECASE)\n",
    "    return(matchQ is not None)\n",
    "def checkStorm(strs):\n",
    "    matchQ = re.search(r'\\bstorm\\b',strs,re.IGNORECASE)\n",
    "    return(matchQ is not None)\n",
    "def checkFlood(strs):\n",
    "    matchQ = re.search(r'\\bflood\\b',strs,re.IGNORECASE)\n",
    "    return(matchQ is not None)\n",
    "def checkSnow(strs):\n",
    "    matchQ = re.search(r'\\bsnow\\b',strs,re.IGNORECASE)\n",
    "    return(matchQ is not None)\n",
    "def checkSevWeath(strs):\n",
    "    matchQ = re.search(r'\\bsevere weather\\b',strs,re.IGNORECASE)\n",
    "    return(matchQ is not None)\n",
    "def checkExtWeath(strs):\n",
    "    matchQ = re.search(r'\\bextreme weather\\b',strs,re.IGNORECASE)\n",
    "    return(matchQ is not None)"
   ]
  },
  {
   "cell_type": "code",
   "execution_count": null,
   "metadata": {},
   "outputs": [],
   "source": [
    "print(rain.shape)\n",
    "rain = rain[rain.text_match.apply(checkRain)]\n",
    "print(rain.shape,'***************')\n",
    "\n",
    "print(heat.shape)\n",
    "heat = heat[heat.text_match.apply(checkHeat)]\n",
    "print(heat.shape,'***************')\n",
    "\n",
    "print(storm.shape)\n",
    "storm = storm[storm.text_match.apply(checkStorm)]\n",
    "print(storm.shape,'***************')\n",
    "\n",
    "print(flood.shape)\n",
    "flood = flood[flood.text_match.apply(checkFlood)]\n",
    "print(flood.shape,'***************')\n",
    "\n",
    "print(snow.shape)\n",
    "snow = snow[snow.text_match.apply(checkSnow)]\n",
    "print(snow.shape,'***************')\n",
    "\n",
    "print(sevWeath.shape)\n",
    "sevWeath = sevWeath[sevWeath.text_match.apply(checkSevWeath)]\n",
    "print(sevWeath.shape,'***************')\n",
    "\n",
    "print(extWeath.shape)\n",
    "extWeath = extWeath[extWeath.text_match.apply(checkExtWeath)]\n",
    "print(extWeath.shape,'***************')\n",
    "\n"
   ]
  },
  {
   "cell_type": "code",
   "execution_count": null,
   "metadata": {},
   "outputs": [],
   "source": [
    "weatherMentions = rain.append(heat).append(storm).append(flood).append(snow).append(sevWeath).append(extWeath)\n",
    "# weatherMentions = sevWeath.append(extWeath)\n",
    "\n",
    "weatherMentions = weatherMentions[['filed_as_of_date', 'filer_central_index_key', \n",
    "                                   'accession_number','weatherType','id',\n",
    "                                  'text_match']].drop_duplicates()\n",
    "sum(weatherMentions.accession_number.isin(accessionNumbers))\n",
    "\n",
    "weatherMentions = weatherMentions.merge(relevantItems[['accession_number','nitem']])\n",
    "\n",
    "weatherMentions.head()"
   ]
  },
  {
   "cell_type": "code",
   "execution_count": null,
   "metadata": {},
   "outputs": [],
   "source": [
    "checkReports = weatherMentions.groupby(['weatherType','nitem']).size().reset_index()\n",
    "checkReports.columns = ['weatherType', 'nitem', 'count']\n",
    "checkReports.sort_values(by=['nitem'],ascending = False)"
   ]
  },
  {
   "cell_type": "code",
   "execution_count": null,
   "metadata": {},
   "outputs": [],
   "source": [
    "for test in weatherMentions[weatherMentions.nitem.isin([2.06])].text_match:\n",
    "    print(test)"
   ]
  },
  {
   "cell_type": "code",
   "execution_count": null,
   "metadata": {},
   "outputs": [],
   "source": [
    "weatherMentions.to_csv(\"../data/filings/wrds/filingsByType.csv\")"
   ]
  },
  {
   "cell_type": "code",
   "execution_count": null,
   "metadata": {},
   "outputs": [],
   "source": [
    "weatherMentions.id.unique()"
   ]
  },
  {
   "cell_type": "code",
   "execution_count": null,
   "metadata": {},
   "outputs": [],
   "source": [
    "fileList = '../../../wrds/sec/wrds_clean_filings/' + weatherMentions.id.unique()\n",
    "fileList\n",
    "\n",
    "\n",
    "textfile = open('../data/filings/wrds/fileList.txt', \"w\")\n",
    "    \n",
    "for element in list(fileList):\n",
    "    textfile.write(element + \"\\n\")\n",
    "\n",
    "    \n",
    "textfile.close()"
   ]
  },
  {
   "cell_type": "markdown",
   "metadata": {},
   "source": [
    "## All Relevant Filings"
   ]
  },
  {
   "cell_type": "code",
   "execution_count": null,
   "metadata": {},
   "outputs": [],
   "source": [
    "relevantItems.head()"
   ]
  },
  {
   "cell_type": "code",
   "execution_count": null,
   "metadata": {},
   "outputs": [],
   "source": [
    "fileList = '../../../wrds/sec/wrds_clean_filings/*' + relevantItems.accession_number.unique() + '.txt'\n",
    "fileList\n",
    "\n",
    "\n",
    "textfile = open('../data/filings/wrds/fileList_allItems.txt', \"w\")\n",
    "    \n",
    "for element in list(fileList):\n",
    "    textfile.write(element + \"\\n\")\n",
    "\n",
    "    \n",
    "textfile.close()"
   ]
  },
  {
   "cell_type": "code",
   "execution_count": null,
   "metadata": {},
   "outputs": [],
   "source": [
    "fileList"
   ]
  },
  {
   "cell_type": "code",
   "execution_count": null,
   "metadata": {},
   "outputs": [],
   "source": [
    "for filename in os.listdir('../../../wrds/sec/wrds_clean_filings/'):\n",
    "    print(filename)"
   ]
  },
  {
   "cell_type": "code",
   "execution_count": null,
   "metadata": {},
   "outputs": [],
   "source": []
  }
 ],
 "metadata": {
  "kernelspec": {
   "display_name": "Python 3",
   "language": "python",
   "name": "python3"
  },
  "language_info": {
   "codemirror_mode": {
    "name": "ipython",
    "version": 3
   },
   "file_extension": ".py",
   "mimetype": "text/x-python",
   "name": "python",
   "nbconvert_exporter": "python",
   "pygments_lexer": "ipython3",
   "version": "3.7.4"
  }
 },
 "nbformat": 4,
 "nbformat_minor": 2
}
